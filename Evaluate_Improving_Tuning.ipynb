{
  "nbformat": 4,
  "nbformat_minor": 0,
  "metadata": {
    "kernelspec": {
      "display_name": "Python 3",
      "language": "python",
      "name": "python3"
    },
    "language_info": {
      "codemirror_mode": {
        "name": "ipython",
        "version": 3
      },
      "file_extension": ".py",
      "mimetype": "text/x-python",
      "name": "python",
      "nbconvert_exporter": "python",
      "pygments_lexer": "ipython3",
      "version": "3.8.6"
    },
    "colab": {
      "name": "Cópia de Evaluate_Improving_Tuning.ipynb",
      "provenance": []
    }
  },
  "cells": [
    {
      "cell_type": "markdown",
      "metadata": {
        "id": "wJYZDMbYl1ds"
      },
      "source": [
        "# REDES NEURAIS ARTIFICIAIS\n",
        "## Evaluate Improve e Tunning"
      ]
    },
    {
      "cell_type": "markdown",
      "metadata": {
        "id": "Yq9bf5m6l1dz"
      },
      "source": [
        "# Parte 1 - Pré-processamento dos Dados"
      ]
    },
    {
      "cell_type": "markdown",
      "metadata": {
        "id": "1dFL6B2zl1dz"
      },
      "source": [
        "### Importar as libs"
      ]
    },
    {
      "cell_type": "code",
      "metadata": {
        "id": "MxkJoQBkUIHC"
      },
      "source": [
        "import numpy as np\n",
        "import pandas as pd\n",
        "import tensorflow as tf"
      ],
      "execution_count": null,
      "outputs": []
    },
    {
      "cell_type": "code",
      "metadata": {
        "colab": {
          "base_uri": "https://localhost:8080/",
          "height": 35
        },
        "id": "ZaTwK7ojXr2F",
        "outputId": "dd4fc84b-9da1-4257-fd39-72ae2d296070"
      },
      "source": [
        "tf.__version__"
      ],
      "execution_count": null,
      "outputs": [
        {
          "output_type": "execute_result",
          "data": {
            "application/vnd.google.colaboratory.intrinsic+json": {
              "type": "string"
            },
            "text/plain": [
              "'2.6.0'"
            ]
          },
          "metadata": {},
          "execution_count": 28
        }
      ]
    },
    {
      "cell_type": "markdown",
      "metadata": {
        "id": "CqBcubuYl1d3"
      },
      "source": [
        "### Importar o dataset"
      ]
    },
    {
      "cell_type": "code",
      "metadata": {
        "colab": {
          "base_uri": "https://localhost:8080/",
          "height": 224
        },
        "id": "VgvQmCXll1d3",
        "outputId": "7cbdc8f8-925b-4dd4-bc5e-a86b979265ca"
      },
      "source": [
        "dataset = pd.read_csv('Churn_Modelling.csv')\n",
        "dataset.head()"
      ],
      "execution_count": null,
      "outputs": [
        {
          "output_type": "execute_result",
          "data": {
            "text/html": [
              "<div>\n",
              "<style scoped>\n",
              "    .dataframe tbody tr th:only-of-type {\n",
              "        vertical-align: middle;\n",
              "    }\n",
              "\n",
              "    .dataframe tbody tr th {\n",
              "        vertical-align: top;\n",
              "    }\n",
              "\n",
              "    .dataframe thead th {\n",
              "        text-align: right;\n",
              "    }\n",
              "</style>\n",
              "<table border=\"1\" class=\"dataframe\">\n",
              "  <thead>\n",
              "    <tr style=\"text-align: right;\">\n",
              "      <th></th>\n",
              "      <th>RowNumber</th>\n",
              "      <th>CustomerId</th>\n",
              "      <th>Surname</th>\n",
              "      <th>CreditScore</th>\n",
              "      <th>Geography</th>\n",
              "      <th>Gender</th>\n",
              "      <th>Age</th>\n",
              "      <th>Tenure</th>\n",
              "      <th>Balance</th>\n",
              "      <th>NumOfProducts</th>\n",
              "      <th>HasCrCard</th>\n",
              "      <th>IsActiveMember</th>\n",
              "      <th>EstimatedSalary</th>\n",
              "      <th>Exited</th>\n",
              "    </tr>\n",
              "  </thead>\n",
              "  <tbody>\n",
              "    <tr>\n",
              "      <th>0</th>\n",
              "      <td>1</td>\n",
              "      <td>15634602</td>\n",
              "      <td>Hargrave</td>\n",
              "      <td>619</td>\n",
              "      <td>France</td>\n",
              "      <td>Female</td>\n",
              "      <td>42</td>\n",
              "      <td>2</td>\n",
              "      <td>0.00</td>\n",
              "      <td>1</td>\n",
              "      <td>1</td>\n",
              "      <td>1</td>\n",
              "      <td>101348.88</td>\n",
              "      <td>1</td>\n",
              "    </tr>\n",
              "    <tr>\n",
              "      <th>1</th>\n",
              "      <td>2</td>\n",
              "      <td>15647311</td>\n",
              "      <td>Hill</td>\n",
              "      <td>608</td>\n",
              "      <td>Spain</td>\n",
              "      <td>Female</td>\n",
              "      <td>41</td>\n",
              "      <td>1</td>\n",
              "      <td>83807.86</td>\n",
              "      <td>1</td>\n",
              "      <td>0</td>\n",
              "      <td>1</td>\n",
              "      <td>112542.58</td>\n",
              "      <td>0</td>\n",
              "    </tr>\n",
              "    <tr>\n",
              "      <th>2</th>\n",
              "      <td>3</td>\n",
              "      <td>15619304</td>\n",
              "      <td>Onio</td>\n",
              "      <td>502</td>\n",
              "      <td>France</td>\n",
              "      <td>Female</td>\n",
              "      <td>42</td>\n",
              "      <td>8</td>\n",
              "      <td>159660.80</td>\n",
              "      <td>3</td>\n",
              "      <td>1</td>\n",
              "      <td>0</td>\n",
              "      <td>113931.57</td>\n",
              "      <td>1</td>\n",
              "    </tr>\n",
              "    <tr>\n",
              "      <th>3</th>\n",
              "      <td>4</td>\n",
              "      <td>15701354</td>\n",
              "      <td>Boni</td>\n",
              "      <td>699</td>\n",
              "      <td>France</td>\n",
              "      <td>Female</td>\n",
              "      <td>39</td>\n",
              "      <td>1</td>\n",
              "      <td>0.00</td>\n",
              "      <td>2</td>\n",
              "      <td>0</td>\n",
              "      <td>0</td>\n",
              "      <td>93826.63</td>\n",
              "      <td>0</td>\n",
              "    </tr>\n",
              "    <tr>\n",
              "      <th>4</th>\n",
              "      <td>5</td>\n",
              "      <td>15737888</td>\n",
              "      <td>Mitchell</td>\n",
              "      <td>850</td>\n",
              "      <td>Spain</td>\n",
              "      <td>Female</td>\n",
              "      <td>43</td>\n",
              "      <td>2</td>\n",
              "      <td>125510.82</td>\n",
              "      <td>1</td>\n",
              "      <td>1</td>\n",
              "      <td>1</td>\n",
              "      <td>79084.10</td>\n",
              "      <td>0</td>\n",
              "    </tr>\n",
              "  </tbody>\n",
              "</table>\n",
              "</div>"
            ],
            "text/plain": [
              "   RowNumber  CustomerId   Surname  ...  IsActiveMember EstimatedSalary Exited\n",
              "0          1    15634602  Hargrave  ...               1       101348.88      1\n",
              "1          2    15647311      Hill  ...               1       112542.58      0\n",
              "2          3    15619304      Onio  ...               0       113931.57      1\n",
              "3          4    15701354      Boni  ...               0        93826.63      0\n",
              "4          5    15737888  Mitchell  ...               1        79084.10      0\n",
              "\n",
              "[5 rows x 14 columns]"
            ]
          },
          "metadata": {},
          "execution_count": 29
        }
      ]
    },
    {
      "cell_type": "code",
      "metadata": {
        "colab": {
          "base_uri": "https://localhost:8080/"
        },
        "id": "uOBkU9JBl1d4",
        "outputId": "06d72ab2-427a-488c-fe79-1c0a943ab40f"
      },
      "source": [
        "X = dataset.iloc[:, 3:13].values\n",
        "y = dataset.iloc[:, 13].values\n",
        "print(\"X >>\\n\",X)\n",
        "print(\"y >>\\n\",y)"
      ],
      "execution_count": null,
      "outputs": [
        {
          "output_type": "stream",
          "text": [
            "X >>\n",
            " [[619 'France' 'Female' ... 1 1 101348.88]\n",
            " [608 'Spain' 'Female' ... 0 1 112542.58]\n",
            " [502 'France' 'Female' ... 1 0 113931.57]\n",
            " ...\n",
            " [709 'France' 'Female' ... 0 1 42085.58]\n",
            " [772 'Germany' 'Male' ... 1 0 92888.52]\n",
            " [792 'France' 'Female' ... 1 0 38190.78]]\n",
            "y >>\n",
            " [1 0 1 ... 1 1 0]\n"
          ],
          "name": "stdout"
        }
      ]
    },
    {
      "cell_type": "markdown",
      "metadata": {
        "id": "yJJDIT_il1d5"
      },
      "source": [
        "### Transformando os dados categóricos\n"
      ]
    },
    {
      "cell_type": "code",
      "metadata": {
        "colab": {
          "base_uri": "https://localhost:8080/"
        },
        "id": "CIPYv9-0l1d5",
        "outputId": "c7ae31cc-5480-4ca3-f80b-6aa57934567d"
      },
      "source": [
        "# Label Encoding the \"Gender\" column\n",
        "from sklearn.preprocessing import LabelEncoder\n",
        "le = LabelEncoder()\n",
        "X[:, 2] = le.fit_transform(X[:, 2])\n",
        "print(X)\n",
        "# One Hot Encoding the \"Geography\" column\n",
        "from sklearn.compose import ColumnTransformer\n",
        "from sklearn.preprocessing import OneHotEncoder\n",
        "ct = ColumnTransformer(transformers=[('encoder', OneHotEncoder(), [1])], remainder='passthrough')\n",
        "X = np.array(ct.fit_transform(X))\n",
        "print(X)"
      ],
      "execution_count": null,
      "outputs": [
        {
          "output_type": "stream",
          "text": [
            "[[619 'France' 0 ... 1 1 101348.88]\n",
            " [608 'Spain' 0 ... 0 1 112542.58]\n",
            " [502 'France' 0 ... 1 0 113931.57]\n",
            " ...\n",
            " [709 'France' 0 ... 0 1 42085.58]\n",
            " [772 'Germany' 1 ... 1 0 92888.52]\n",
            " [792 'France' 0 ... 1 0 38190.78]]\n",
            "[[1.0 0.0 0.0 ... 1 1 101348.88]\n",
            " [0.0 0.0 1.0 ... 0 1 112542.58]\n",
            " [1.0 0.0 0.0 ... 1 0 113931.57]\n",
            " ...\n",
            " [1.0 0.0 0.0 ... 0 1 42085.58]\n",
            " [0.0 1.0 0.0 ... 1 0 92888.52]\n",
            " [1.0 0.0 0.0 ... 1 0 38190.78]]\n"
          ],
          "name": "stdout"
        }
      ]
    },
    {
      "cell_type": "markdown",
      "metadata": {
        "id": "IEiw2vd-l1d6"
      },
      "source": [
        "# Dividindo o dataset em conjunto de treinamento e conjunto de teste"
      ]
    },
    {
      "cell_type": "code",
      "metadata": {
        "id": "3cqrym9gl1d7"
      },
      "source": [
        "from sklearn.model_selection import train_test_split\n",
        "X_train, X_test, y_train, y_test = train_test_split(X, y, test_size = 0.2, random_state = 0)"
      ],
      "execution_count": null,
      "outputs": []
    },
    {
      "cell_type": "markdown",
      "metadata": {
        "id": "W_6P52PDl1d7"
      },
      "source": [
        "# Feature Scaling"
      ]
    },
    {
      "cell_type": "code",
      "metadata": {
        "id": "QaLmucqLl1d7"
      },
      "source": [
        "from sklearn.preprocessing import StandardScaler\n",
        "sc = StandardScaler()\n",
        "X_train = sc.fit_transform(X_train)\n",
        "X_test = sc.transform(X_test)"
      ],
      "execution_count": null,
      "outputs": []
    },
    {
      "cell_type": "code",
      "metadata": {
        "colab": {
          "base_uri": "https://localhost:8080/"
        },
        "id": "MEHFHIIZl1d8",
        "outputId": "786bc17b-55db-4807-c687-4d925967d626"
      },
      "source": [
        "np.shape(X_train)"
      ],
      "execution_count": null,
      "outputs": [
        {
          "output_type": "execute_result",
          "data": {
            "text/plain": [
              "(8000, 12)"
            ]
          },
          "metadata": {},
          "execution_count": 34
        }
      ]
    },
    {
      "cell_type": "markdown",
      "metadata": {
        "id": "P-jOihuBl1d8"
      },
      "source": [
        "---\n",
        "# Parte 2 -Vamos construir uma ANN!\n"
      ]
    },
    {
      "cell_type": "markdown",
      "metadata": {
        "id": "KvdeScabXtlB"
      },
      "source": [
        "### Initializing the ANN"
      ]
    },
    {
      "cell_type": "code",
      "metadata": {
        "id": "3dtrScHxXQox"
      },
      "source": [
        "ann = tf.keras.models.Sequential()"
      ],
      "execution_count": null,
      "outputs": []
    },
    {
      "cell_type": "markdown",
      "metadata": {
        "id": "rP6urV6SX7kS"
      },
      "source": [
        "### Adding the input layer and the first hidden layer"
      ]
    },
    {
      "cell_type": "code",
      "metadata": {
        "id": "bppGycBXYCQr"
      },
      "source": [
        "ann.add(tf.keras.layers.Dense(units=6, activation='relu'))"
      ],
      "execution_count": null,
      "outputs": []
    },
    {
      "cell_type": "markdown",
      "metadata": {
        "id": "BELWAc_8YJze"
      },
      "source": [
        "### Adding the second hidden layer"
      ]
    },
    {
      "cell_type": "code",
      "metadata": {
        "id": "JneR0u0sYRTd"
      },
      "source": [
        "ann.add(tf.keras.layers.Dense(units=6, activation='relu'))"
      ],
      "execution_count": null,
      "outputs": []
    },
    {
      "cell_type": "markdown",
      "metadata": {
        "id": "OyNEe6RXYcU4"
      },
      "source": [
        "### Adding the output layer"
      ]
    },
    {
      "cell_type": "code",
      "metadata": {
        "id": "Cn3x41RBYfvY"
      },
      "source": [
        "ann.add(tf.keras.layers.Dense(units=1, activation='softsign'))"
      ],
      "execution_count": null,
      "outputs": []
    },
    {
      "cell_type": "markdown",
      "metadata": {
        "id": "JT4u2S1_Y4WG"
      },
      "source": [
        "## Part 3 - Training the ANN"
      ]
    },
    {
      "cell_type": "markdown",
      "metadata": {
        "id": "8GWlJChhY_ZI"
      },
      "source": [
        "### Compiling the ANN"
      ]
    },
    {
      "cell_type": "code",
      "metadata": {
        "id": "fG3RrwDXZEaS"
      },
      "source": [
        "ann.compile(optimizer = 'adam', loss = 'binary_crossentropy', metrics = ['accuracy'])"
      ],
      "execution_count": null,
      "outputs": []
    },
    {
      "cell_type": "markdown",
      "metadata": {
        "id": "0QR_G5u7ZLSM"
      },
      "source": [
        "### Training the ANN on the Training set"
      ]
    },
    {
      "cell_type": "code",
      "metadata": {
        "colab": {
          "base_uri": "https://localhost:8080/"
        },
        "id": "nHZ-LKv_ZRb3",
        "outputId": "9a7c11af-d829-4628-a956-cbeb0b1e5da3"
      },
      "source": [
        "ann.fit(X_train, y_train, batch_size = 40, epochs = 150)"
      ],
      "execution_count": null,
      "outputs": [
        {
          "output_type": "stream",
          "text": [
            "Epoch 1/150\n",
            "200/200 [==============================] - 1s 1ms/step - loss: 1.0641 - accuracy: 0.7483\n",
            "Epoch 2/150\n",
            "200/200 [==============================] - 0s 1ms/step - loss: 0.7441 - accuracy: 0.7559\n",
            "Epoch 3/150\n",
            "200/200 [==============================] - 0s 1ms/step - loss: 0.6467 - accuracy: 0.7800\n",
            "Epoch 4/150\n",
            "200/200 [==============================] - 0s 1ms/step - loss: 0.5633 - accuracy: 0.7885\n",
            "Epoch 5/150\n",
            "200/200 [==============================] - 0s 1ms/step - loss: 0.5362 - accuracy: 0.8011\n",
            "Epoch 6/150\n",
            "200/200 [==============================] - 0s 1ms/step - loss: 0.5012 - accuracy: 0.8008\n",
            "Epoch 7/150\n",
            "200/200 [==============================] - 0s 1ms/step - loss: 0.4905 - accuracy: 0.8060\n",
            "Epoch 8/150\n",
            "200/200 [==============================] - 0s 1ms/step - loss: 0.4798 - accuracy: 0.8089\n",
            "Epoch 9/150\n",
            "200/200 [==============================] - 0s 1ms/step - loss: 0.4883 - accuracy: 0.8117\n",
            "Epoch 10/150\n",
            "200/200 [==============================] - 0s 1ms/step - loss: 0.4817 - accuracy: 0.8129\n",
            "Epoch 11/150\n",
            "200/200 [==============================] - 0s 1ms/step - loss: 0.4694 - accuracy: 0.8071\n",
            "Epoch 12/150\n",
            "200/200 [==============================] - 0s 1ms/step - loss: 0.4583 - accuracy: 0.8110\n",
            "Epoch 13/150\n",
            "200/200 [==============================] - 0s 1ms/step - loss: 0.4599 - accuracy: 0.8130\n",
            "Epoch 14/150\n",
            "200/200 [==============================] - 0s 1ms/step - loss: 0.4591 - accuracy: 0.8160\n",
            "Epoch 15/150\n",
            "200/200 [==============================] - 0s 1ms/step - loss: 0.4587 - accuracy: 0.8176\n",
            "Epoch 16/150\n",
            "200/200 [==============================] - 0s 1ms/step - loss: 0.4620 - accuracy: 0.8130\n",
            "Epoch 17/150\n",
            "200/200 [==============================] - 0s 1ms/step - loss: 0.4635 - accuracy: 0.8159\n",
            "Epoch 18/150\n",
            "200/200 [==============================] - 0s 1ms/step - loss: 0.4555 - accuracy: 0.8160\n",
            "Epoch 19/150\n",
            "200/200 [==============================] - 0s 1ms/step - loss: 0.4416 - accuracy: 0.8175\n",
            "Epoch 20/150\n",
            "200/200 [==============================] - 0s 1ms/step - loss: 0.4361 - accuracy: 0.8179\n",
            "Epoch 21/150\n",
            "200/200 [==============================] - 0s 1ms/step - loss: 0.4406 - accuracy: 0.8176\n",
            "Epoch 22/150\n",
            "200/200 [==============================] - 0s 1ms/step - loss: 0.4334 - accuracy: 0.8191\n",
            "Epoch 23/150\n",
            "200/200 [==============================] - 0s 1ms/step - loss: 0.4327 - accuracy: 0.8200\n",
            "Epoch 24/150\n",
            "200/200 [==============================] - 0s 1ms/step - loss: 0.4305 - accuracy: 0.8200\n",
            "Epoch 25/150\n",
            "200/200 [==============================] - 0s 1ms/step - loss: 0.4288 - accuracy: 0.8201\n",
            "Epoch 26/150\n",
            "200/200 [==============================] - 0s 1ms/step - loss: 0.4272 - accuracy: 0.8227\n",
            "Epoch 27/150\n",
            "200/200 [==============================] - 0s 1ms/step - loss: 0.4250 - accuracy: 0.8227\n",
            "Epoch 28/150\n",
            "200/200 [==============================] - 0s 1ms/step - loss: 0.4226 - accuracy: 0.8239\n",
            "Epoch 29/150\n",
            "200/200 [==============================] - 0s 1ms/step - loss: 0.4181 - accuracy: 0.8238\n",
            "Epoch 30/150\n",
            "200/200 [==============================] - 0s 1ms/step - loss: 0.4162 - accuracy: 0.8266\n",
            "Epoch 31/150\n",
            "200/200 [==============================] - 0s 1ms/step - loss: 0.4185 - accuracy: 0.8288\n",
            "Epoch 32/150\n",
            "200/200 [==============================] - 0s 1ms/step - loss: 0.4136 - accuracy: 0.8295\n",
            "Epoch 33/150\n",
            "200/200 [==============================] - 0s 1ms/step - loss: 0.4043 - accuracy: 0.8325\n",
            "Epoch 34/150\n",
            "200/200 [==============================] - 0s 1ms/step - loss: 0.4029 - accuracy: 0.8336\n",
            "Epoch 35/150\n",
            "200/200 [==============================] - 0s 1ms/step - loss: 0.4012 - accuracy: 0.8360\n",
            "Epoch 36/150\n",
            "200/200 [==============================] - 0s 1ms/step - loss: 0.3960 - accuracy: 0.8372\n",
            "Epoch 37/150\n",
            "200/200 [==============================] - 0s 1ms/step - loss: 0.3931 - accuracy: 0.8385\n",
            "Epoch 38/150\n",
            "200/200 [==============================] - 0s 1ms/step - loss: 0.3897 - accuracy: 0.8397\n",
            "Epoch 39/150\n",
            "200/200 [==============================] - 0s 1ms/step - loss: 0.3915 - accuracy: 0.8404\n",
            "Epoch 40/150\n",
            "200/200 [==============================] - 0s 1ms/step - loss: 0.3802 - accuracy: 0.8407\n",
            "Epoch 41/150\n",
            "200/200 [==============================] - 0s 1ms/step - loss: 0.3805 - accuracy: 0.8424\n",
            "Epoch 42/150\n",
            "200/200 [==============================] - 0s 1ms/step - loss: 0.3796 - accuracy: 0.8459\n",
            "Epoch 43/150\n",
            "200/200 [==============================] - 0s 1ms/step - loss: 0.3771 - accuracy: 0.8476\n",
            "Epoch 44/150\n",
            "200/200 [==============================] - 0s 1ms/step - loss: 0.3781 - accuracy: 0.8481\n",
            "Epoch 45/150\n",
            "200/200 [==============================] - 0s 1ms/step - loss: 0.3792 - accuracy: 0.8482\n",
            "Epoch 46/150\n",
            "200/200 [==============================] - 0s 1ms/step - loss: 0.3750 - accuracy: 0.8493\n",
            "Epoch 47/150\n",
            "200/200 [==============================] - 0s 1ms/step - loss: 0.3714 - accuracy: 0.8491\n",
            "Epoch 48/150\n",
            "200/200 [==============================] - 0s 1ms/step - loss: 0.3688 - accuracy: 0.8495\n",
            "Epoch 49/150\n",
            "200/200 [==============================] - 0s 1ms/step - loss: 0.3682 - accuracy: 0.8509\n",
            "Epoch 50/150\n",
            "200/200 [==============================] - 0s 1ms/step - loss: 0.3736 - accuracy: 0.8512\n",
            "Epoch 51/150\n",
            "200/200 [==============================] - 0s 1ms/step - loss: 0.3641 - accuracy: 0.8510\n",
            "Epoch 52/150\n",
            "200/200 [==============================] - 0s 1ms/step - loss: 0.3670 - accuracy: 0.8509\n",
            "Epoch 53/150\n",
            "200/200 [==============================] - 0s 1ms/step - loss: 0.3717 - accuracy: 0.8519\n",
            "Epoch 54/150\n",
            "200/200 [==============================] - 0s 1ms/step - loss: 0.3936 - accuracy: 0.8480\n",
            "Epoch 55/150\n",
            "200/200 [==============================] - 0s 1ms/step - loss: 0.3826 - accuracy: 0.8530\n",
            "Epoch 56/150\n",
            "200/200 [==============================] - 0s 1ms/step - loss: 0.3698 - accuracy: 0.8543\n",
            "Epoch 57/150\n",
            "200/200 [==============================] - 0s 1ms/step - loss: 0.3625 - accuracy: 0.8540\n",
            "Epoch 58/150\n",
            "200/200 [==============================] - 0s 1ms/step - loss: 0.3573 - accuracy: 0.8544\n",
            "Epoch 59/150\n",
            "200/200 [==============================] - 0s 1ms/step - loss: 0.3569 - accuracy: 0.8547\n",
            "Epoch 60/150\n",
            "200/200 [==============================] - 0s 1ms/step - loss: 0.3576 - accuracy: 0.8553\n",
            "Epoch 61/150\n",
            "200/200 [==============================] - 0s 1ms/step - loss: 0.3551 - accuracy: 0.8560\n",
            "Epoch 62/150\n",
            "200/200 [==============================] - 0s 1ms/step - loss: 0.3564 - accuracy: 0.8583\n",
            "Epoch 63/150\n",
            "200/200 [==============================] - 0s 1ms/step - loss: 0.3570 - accuracy: 0.8571\n",
            "Epoch 64/150\n",
            "200/200 [==============================] - 0s 1ms/step - loss: 0.3552 - accuracy: 0.8569\n",
            "Epoch 65/150\n",
            "200/200 [==============================] - 0s 1ms/step - loss: 0.3563 - accuracy: 0.8566\n",
            "Epoch 66/150\n",
            "200/200 [==============================] - 0s 1ms/step - loss: 0.3657 - accuracy: 0.8569\n",
            "Epoch 67/150\n",
            "200/200 [==============================] - 0s 1ms/step - loss: 0.3558 - accuracy: 0.8568\n",
            "Epoch 68/150\n",
            "200/200 [==============================] - 0s 1ms/step - loss: 0.3540 - accuracy: 0.8554\n",
            "Epoch 69/150\n",
            "200/200 [==============================] - 0s 1ms/step - loss: 0.3530 - accuracy: 0.8580\n",
            "Epoch 70/150\n",
            "200/200 [==============================] - 0s 1ms/step - loss: 0.3538 - accuracy: 0.8571\n",
            "Epoch 71/150\n",
            "200/200 [==============================] - 0s 1ms/step - loss: 0.3549 - accuracy: 0.8571\n",
            "Epoch 72/150\n",
            "200/200 [==============================] - 0s 1ms/step - loss: 0.3510 - accuracy: 0.8579\n",
            "Epoch 73/150\n",
            "200/200 [==============================] - 0s 1ms/step - loss: 0.3500 - accuracy: 0.8571\n",
            "Epoch 74/150\n",
            "200/200 [==============================] - 0s 1ms/step - loss: 0.3498 - accuracy: 0.8584\n",
            "Epoch 75/150\n",
            "200/200 [==============================] - 0s 1ms/step - loss: 0.3505 - accuracy: 0.8576\n",
            "Epoch 76/150\n",
            "200/200 [==============================] - 0s 1ms/step - loss: 0.3685 - accuracy: 0.8575\n",
            "Epoch 77/150\n",
            "200/200 [==============================] - 0s 1ms/step - loss: 0.3516 - accuracy: 0.8600\n",
            "Epoch 78/150\n",
            "200/200 [==============================] - 0s 1ms/step - loss: 0.4014 - accuracy: 0.8550\n",
            "Epoch 79/150\n",
            "200/200 [==============================] - 0s 1ms/step - loss: 0.3822 - accuracy: 0.8562\n",
            "Epoch 80/150\n",
            "200/200 [==============================] - 0s 1ms/step - loss: 0.3717 - accuracy: 0.8581\n",
            "Epoch 81/150\n",
            "200/200 [==============================] - 0s 1ms/step - loss: 0.3672 - accuracy: 0.8576\n",
            "Epoch 82/150\n",
            "200/200 [==============================] - 0s 1ms/step - loss: 0.3621 - accuracy: 0.8591\n",
            "Epoch 83/150\n",
            "200/200 [==============================] - 0s 1ms/step - loss: 0.3572 - accuracy: 0.8605\n",
            "Epoch 84/150\n",
            "200/200 [==============================] - 0s 1ms/step - loss: 0.3557 - accuracy: 0.8596\n",
            "Epoch 85/150\n",
            "200/200 [==============================] - 0s 1ms/step - loss: 0.3532 - accuracy: 0.8601\n",
            "Epoch 86/150\n",
            "200/200 [==============================] - 0s 1ms/step - loss: 0.3523 - accuracy: 0.8589\n",
            "Epoch 87/150\n",
            "200/200 [==============================] - 0s 1ms/step - loss: 0.3508 - accuracy: 0.8596\n",
            "Epoch 88/150\n",
            "200/200 [==============================] - 0s 1ms/step - loss: 0.3483 - accuracy: 0.8610\n",
            "Epoch 89/150\n",
            "200/200 [==============================] - 0s 1ms/step - loss: 0.3523 - accuracy: 0.8615\n",
            "Epoch 90/150\n",
            "200/200 [==============================] - 0s 1ms/step - loss: 0.3587 - accuracy: 0.8602\n",
            "Epoch 91/150\n",
            "200/200 [==============================] - 0s 1ms/step - loss: 0.3777 - accuracy: 0.8584\n",
            "Epoch 92/150\n",
            "200/200 [==============================] - 0s 1ms/step - loss: 0.3627 - accuracy: 0.8602\n",
            "Epoch 93/150\n",
            "200/200 [==============================] - 0s 1ms/step - loss: 0.3547 - accuracy: 0.8601\n",
            "Epoch 94/150\n",
            "200/200 [==============================] - 0s 1ms/step - loss: 0.3503 - accuracy: 0.8608\n",
            "Epoch 95/150\n",
            "200/200 [==============================] - 0s 1ms/step - loss: 0.3478 - accuracy: 0.8616\n",
            "Epoch 96/150\n",
            "200/200 [==============================] - 0s 1ms/step - loss: 0.3465 - accuracy: 0.8602\n",
            "Epoch 97/150\n",
            "200/200 [==============================] - 0s 1ms/step - loss: 0.3453 - accuracy: 0.8608\n",
            "Epoch 98/150\n",
            "200/200 [==============================] - 0s 1ms/step - loss: 0.3447 - accuracy: 0.8601\n",
            "Epoch 99/150\n",
            "200/200 [==============================] - 0s 1ms/step - loss: 0.3444 - accuracy: 0.8601\n",
            "Epoch 100/150\n",
            "200/200 [==============================] - 0s 1ms/step - loss: 0.3497 - accuracy: 0.8597\n",
            "Epoch 101/150\n",
            "200/200 [==============================] - 0s 1ms/step - loss: 0.3506 - accuracy: 0.8597\n",
            "Epoch 102/150\n",
            "200/200 [==============================] - 0s 1ms/step - loss: 0.3490 - accuracy: 0.8604\n",
            "Epoch 103/150\n",
            "200/200 [==============================] - 0s 1ms/step - loss: 0.3478 - accuracy: 0.8602\n",
            "Epoch 104/150\n",
            "200/200 [==============================] - 0s 1ms/step - loss: 0.3457 - accuracy: 0.8599\n",
            "Epoch 105/150\n",
            "200/200 [==============================] - 0s 1ms/step - loss: 0.3457 - accuracy: 0.8606\n",
            "Epoch 106/150\n",
            "200/200 [==============================] - 0s 1ms/step - loss: 0.3447 - accuracy: 0.8616\n",
            "Epoch 107/150\n",
            "200/200 [==============================] - 0s 1ms/step - loss: 0.3448 - accuracy: 0.8611\n",
            "Epoch 108/150\n",
            "200/200 [==============================] - 0s 1ms/step - loss: 0.3456 - accuracy: 0.8612\n",
            "Epoch 109/150\n",
            "200/200 [==============================] - 0s 1ms/step - loss: 0.3448 - accuracy: 0.8621\n",
            "Epoch 110/150\n",
            "200/200 [==============================] - 0s 1ms/step - loss: 0.3462 - accuracy: 0.8593\n",
            "Epoch 111/150\n",
            "200/200 [==============================] - 0s 1ms/step - loss: 0.3626 - accuracy: 0.8585\n",
            "Epoch 112/150\n",
            "200/200 [==============================] - 0s 1ms/step - loss: 0.3478 - accuracy: 0.8605\n",
            "Epoch 113/150\n",
            "200/200 [==============================] - 0s 1ms/step - loss: 0.3447 - accuracy: 0.8606\n",
            "Epoch 114/150\n",
            "200/200 [==============================] - 0s 1ms/step - loss: 0.3446 - accuracy: 0.8622\n",
            "Epoch 115/150\n",
            "200/200 [==============================] - 0s 1ms/step - loss: 0.3435 - accuracy: 0.8605\n",
            "Epoch 116/150\n",
            "200/200 [==============================] - 0s 1ms/step - loss: 0.3435 - accuracy: 0.8620\n",
            "Epoch 117/150\n",
            "200/200 [==============================] - 0s 1ms/step - loss: 0.3434 - accuracy: 0.8610\n",
            "Epoch 118/150\n",
            "200/200 [==============================] - 0s 1ms/step - loss: 0.3449 - accuracy: 0.8609\n",
            "Epoch 119/150\n",
            "200/200 [==============================] - 0s 1ms/step - loss: 0.3434 - accuracy: 0.8606\n",
            "Epoch 120/150\n",
            "200/200 [==============================] - 0s 1ms/step - loss: 0.3497 - accuracy: 0.8597\n",
            "Epoch 121/150\n",
            "200/200 [==============================] - 0s 1ms/step - loss: 0.3438 - accuracy: 0.8609\n",
            "Epoch 122/150\n",
            "200/200 [==============================] - 0s 1ms/step - loss: 0.3445 - accuracy: 0.8604\n",
            "Epoch 123/150\n",
            "200/200 [==============================] - 0s 1ms/step - loss: 0.3554 - accuracy: 0.8601\n",
            "Epoch 124/150\n",
            "200/200 [==============================] - 0s 1ms/step - loss: 0.3611 - accuracy: 0.8627\n",
            "Epoch 125/150\n",
            "200/200 [==============================] - 0s 1ms/step - loss: 0.3509 - accuracy: 0.8609\n",
            "Epoch 126/150\n",
            "200/200 [==============================] - 0s 1ms/step - loss: 0.3477 - accuracy: 0.8622\n",
            "Epoch 127/150\n",
            "200/200 [==============================] - 0s 1ms/step - loss: 0.3455 - accuracy: 0.8604\n",
            "Epoch 128/150\n",
            "200/200 [==============================] - 0s 1ms/step - loss: 0.3456 - accuracy: 0.8627\n",
            "Epoch 129/150\n",
            "200/200 [==============================] - 0s 1ms/step - loss: 0.3451 - accuracy: 0.8621\n",
            "Epoch 130/150\n",
            "200/200 [==============================] - 0s 1ms/step - loss: 0.3437 - accuracy: 0.8621\n",
            "Epoch 131/150\n",
            "200/200 [==============================] - 0s 1ms/step - loss: 0.3446 - accuracy: 0.8643\n",
            "Epoch 132/150\n",
            "200/200 [==============================] - 0s 1ms/step - loss: 0.3460 - accuracy: 0.8621\n",
            "Epoch 133/150\n",
            "200/200 [==============================] - 0s 1ms/step - loss: 0.3454 - accuracy: 0.8622\n",
            "Epoch 134/150\n",
            "200/200 [==============================] - 0s 1ms/step - loss: 0.3427 - accuracy: 0.8629\n",
            "Epoch 135/150\n",
            "200/200 [==============================] - 0s 1ms/step - loss: 0.3430 - accuracy: 0.8634\n",
            "Epoch 136/150\n",
            "200/200 [==============================] - 0s 1ms/step - loss: 0.3435 - accuracy: 0.8618\n",
            "Epoch 137/150\n",
            "200/200 [==============================] - 0s 1ms/step - loss: 0.3429 - accuracy: 0.8626\n",
            "Epoch 138/150\n",
            "200/200 [==============================] - 0s 1ms/step - loss: 0.3424 - accuracy: 0.8629\n",
            "Epoch 139/150\n",
            "200/200 [==============================] - 0s 1ms/step - loss: 0.3417 - accuracy: 0.8636\n",
            "Epoch 140/150\n",
            "200/200 [==============================] - 0s 1ms/step - loss: 0.3437 - accuracy: 0.8621\n",
            "Epoch 141/150\n",
            "200/200 [==============================] - 0s 1ms/step - loss: 0.3430 - accuracy: 0.8625\n",
            "Epoch 142/150\n",
            "200/200 [==============================] - 0s 1ms/step - loss: 0.3409 - accuracy: 0.8616\n",
            "Epoch 143/150\n",
            "200/200 [==============================] - 0s 1ms/step - loss: 0.3436 - accuracy: 0.8650\n",
            "Epoch 144/150\n",
            "200/200 [==============================] - 0s 1ms/step - loss: 0.3446 - accuracy: 0.8621\n",
            "Epoch 145/150\n",
            "200/200 [==============================] - 0s 1ms/step - loss: 0.3494 - accuracy: 0.8624\n",
            "Epoch 146/150\n",
            "200/200 [==============================] - 0s 1ms/step - loss: 0.3530 - accuracy: 0.8629\n",
            "Epoch 147/150\n",
            "200/200 [==============================] - 0s 1ms/step - loss: 0.3427 - accuracy: 0.8621\n",
            "Epoch 148/150\n",
            "200/200 [==============================] - 0s 1ms/step - loss: 0.3420 - accuracy: 0.8639\n",
            "Epoch 149/150\n",
            "200/200 [==============================] - 0s 1ms/step - loss: 0.3429 - accuracy: 0.8619\n",
            "Epoch 150/150\n",
            "200/200 [==============================] - 0s 1ms/step - loss: 0.3430 - accuracy: 0.8624\n"
          ],
          "name": "stdout"
        },
        {
          "output_type": "execute_result",
          "data": {
            "text/plain": [
              "<keras.callbacks.History at 0x7f96fdb10610>"
            ]
          },
          "metadata": {},
          "execution_count": 40
        }
      ]
    },
    {
      "cell_type": "markdown",
      "metadata": {
        "id": "IFAzR2qMl1eF"
      },
      "source": [
        "# Parte 3 - Fazendo predições e avaliando o modelo\n",
        "\n",
        "## Prevendo os resultados com o conjunto de testes"
      ]
    },
    {
      "cell_type": "code",
      "metadata": {
        "colab": {
          "base_uri": "https://localhost:8080/"
        },
        "id": "A5wBav9Ml1eF",
        "outputId": "d8cf0120-d6d1-4f15-b02e-f795852e5ee6"
      },
      "source": [
        "y_pred = ann.predict(X_test)\n",
        "y_pred"
      ],
      "execution_count": null,
      "outputs": [
        {
          "output_type": "execute_result",
          "data": {
            "text/plain": [
              "array([[0.24784137],\n",
              "       [0.3315133 ],\n",
              "       [0.21201557],\n",
              "       ...,\n",
              "       [0.1436874 ],\n",
              "       [0.21807331],\n",
              "       [0.30482984]], dtype=float32)"
            ]
          },
          "metadata": {},
          "execution_count": 41
        }
      ]
    },
    {
      "cell_type": "code",
      "metadata": {
        "colab": {
          "base_uri": "https://localhost:8080/"
        },
        "id": "cOj-T6nXl1eG",
        "outputId": "be0553d1-1c92-47a2-a554-c99e0a1059e0"
      },
      "source": [
        "y_pred = (y_pred > 0.5)\n",
        "y_pred"
      ],
      "execution_count": null,
      "outputs": [
        {
          "output_type": "execute_result",
          "data": {
            "text/plain": [
              "array([[False],\n",
              "       [False],\n",
              "       [False],\n",
              "       ...,\n",
              "       [False],\n",
              "       [False],\n",
              "       [False]])"
            ]
          },
          "metadata": {},
          "execution_count": 42
        }
      ]
    },
    {
      "cell_type": "markdown",
      "metadata": {
        "id": "3Ryga8Awl1eG"
      },
      "source": [
        "# Criando uma Confusion Matrix"
      ]
    },
    {
      "cell_type": "code",
      "metadata": {
        "colab": {
          "base_uri": "https://localhost:8080/"
        },
        "id": "f44KU9o-l1eH",
        "outputId": "be651f5b-1eb1-4dc4-c6e9-150723bc387f"
      },
      "source": [
        "from sklearn.metrics import confusion_matrix\n",
        "cm = confusion_matrix(y_test, y_pred)\n",
        "print(cm)"
      ],
      "execution_count": null,
      "outputs": [
        {
          "output_type": "stream",
          "text": [
            "[[1495  100]\n",
            " [ 188  217]]\n"
          ],
          "name": "stdout"
        }
      ]
    },
    {
      "cell_type": "markdown",
      "metadata": {
        "id": "SjqoCJuml1eH"
      },
      "source": [
        "---\n",
        "# Avaliando o Modelo"
      ]
    },
    {
      "cell_type": "code",
      "metadata": {
        "id": "X8_EafSZl1eH"
      },
      "source": [
        "# Evaluating the ANN\n",
        "from tensorflow.keras.wrappers.scikit_learn import KerasClassifier\n",
        "from sklearn.model_selection import cross_val_score\n",
        "from tensorflow.keras.models import Sequential\n",
        "from tensorflow.keras.layers import Dense"
      ],
      "execution_count": null,
      "outputs": []
    },
    {
      "cell_type": "code",
      "metadata": {
        "id": "DDg8Xc9il1eI"
      },
      "source": [
        "def build_classifier():\n",
        "    classifier = Sequential()\n",
        "    classifier.add(Dense(units = 6, kernel_initializer = 'uniform', activation = 'relu', input_dim = 12))\n",
        "    classifier.add(Dense(units = 6, kernel_initializer = 'uniform', activation = 'relu'))\n",
        "    classifier.add(Dense(units = 1, kernel_initializer = 'uniform', activation = 'softsign'))\n",
        "    classifier.compile(optimizer = 'adam', loss = 'binary_crossentropy', metrics = ['accuracy'])\n",
        "    return classifier"
      ],
      "execution_count": null,
      "outputs": []
    },
    {
      "cell_type": "code",
      "metadata": {
        "id": "AhvuaD_Xl1eI"
      },
      "source": [
        "classifier = KerasClassifier(build_fn = build_classifier, batch_size = 10, epochs = 10)\n",
        "accuracies = cross_val_score(estimator = classifier, X = X_train, y = y_train, cv = 10, n_jobs = -1)\n",
        "mean = accuracies.mean()\n",
        "variance = accuracies.std()"
      ],
      "execution_count": null,
      "outputs": []
    },
    {
      "cell_type": "code",
      "metadata": {
        "colab": {
          "base_uri": "https://localhost:8080/"
        },
        "id": "j22kn5Cll1eJ",
        "outputId": "4a91b851-4105-4aca-80b3-bd1999525274"
      },
      "source": [
        "print(mean,variance)"
      ],
      "execution_count": null,
      "outputs": [
        {
          "output_type": "stream",
          "text": [
            "0.8223750114440918 0.0266367258412328\n"
          ],
          "name": "stdout"
        }
      ]
    },
    {
      "cell_type": "markdown",
      "metadata": {
        "id": "YuEFFKHyl1eJ"
      },
      "source": [
        "# Melhorando o modelo"
      ]
    },
    {
      "cell_type": "code",
      "metadata": {
        "id": "lC7rOrlul1eJ"
      },
      "source": [
        "# Improving the ANN\n",
        "# Dropout Regularization to reduce overfitting if needed\n",
        "from tensorflow.keras.layers import Dropout\n",
        "\n",
        "def build_classifier():\n",
        "    classifier = Sequential()\n",
        "    classifier.add(Dense(units = 6, kernel_initializer = 'uniform', activation = 'relu', input_dim = 12))\n",
        "    classifier.add(Dropout(rate = 0.1))\n",
        "    classifier.add(Dense(units = 6, kernel_initializer = 'uniform', activation = 'relu'))\n",
        "    classifier.add(Dropout(rate = 0.1))\n",
        "    classifier.add(Dense(units = 1, kernel_initializer = 'uniform', activation = 'softsign'))\n",
        "    classifier.compile(optimizer = 'adam', loss = 'binary_crossentropy', metrics = ['accuracy'])\n",
        "    return classifier"
      ],
      "execution_count": null,
      "outputs": []
    },
    {
      "cell_type": "code",
      "metadata": {
        "id": "NelZLVHal1eK"
      },
      "source": [
        "classifier = KerasClassifier(build_fn = build_classifier, batch_size = 10, epochs = 10)\n",
        "accuracies = cross_val_score(estimator = classifier, X = X_train, y = y_train, cv = 10, n_jobs = -1)\n",
        "mean = accuracies.mean()\n",
        "variance = accuracies.std()"
      ],
      "execution_count": null,
      "outputs": []
    },
    {
      "cell_type": "code",
      "metadata": {
        "colab": {
          "base_uri": "https://localhost:8080/"
        },
        "id": "gHt5eSPel1eK",
        "outputId": "d3d4cbf8-44bd-41c3-b34a-ab14bda7dbb2"
      },
      "source": [
        "print(mean,variance)"
      ],
      "execution_count": null,
      "outputs": [
        {
          "output_type": "stream",
          "text": [
            "0.8258750021457673 0.021585939149867263\n"
          ],
          "name": "stdout"
        }
      ]
    },
    {
      "cell_type": "markdown",
      "metadata": {
        "id": "JRd--k2kl1eO"
      },
      "source": [
        "# Halving Grid Search"
      ]
    },
    {
      "cell_type": "code",
      "metadata": {
        "id": "2zEo0qECl1eO"
      },
      "source": [
        "from tensorflow.keras.wrappers.scikit_learn import KerasClassifier\n",
        "from tensorflow.keras.models import Sequential\n",
        "from tensorflow.keras.layers import Dense\n",
        "from sklearn.experimental import enable_halving_search_cv\n",
        "from sklearn.model_selection import HalvingGridSearchCV\n",
        "\n",
        "def build_classifier(optimizer):\n",
        "    classifier = Sequential()\n",
        "    classifier.add(Dense(units = 6, kernel_initializer = 'uniform', activation = 'relu', input_dim = 12))\n",
        "    classifier.add(Dropout(rate = 0.1))\n",
        "    classifier.add(Dense(units = 6, kernel_initializer = 'uniform', activation = 'relu'))\n",
        "    classifier.add(Dropout(rate = 0.1))\n",
        "    classifier.add(Dense(units = 1, kernel_initializer = 'uniform', activation = 'softsign'))\n",
        "    classifier.compile(optimizer = optimizer, loss = 'binary_crossentropy', metrics = ['accuracy'])\n",
        "    return classifier\n",
        "\n",
        "classifier = KerasClassifier(build_fn = build_classifier)\n",
        "\n",
        "parameters = {\n",
        "    'batch_size': [10, 25, 32, 40],\n",
        "    'epochs': [50, 100, 150],\n",
        "    'optimizer': ['adam', 'rmsprop']\n",
        "}\n",
        "\n",
        "halving_cv = HalvingGridSearchCV(estimator = classifier,\n",
        "                                  param_grid = parameters,\n",
        "                                  scoring=\"accuracy\", \n",
        "                                  n_jobs=-1, \n",
        "                                  min_resources=\"exhaust\", \n",
        "                                  factor=3,\n",
        "                                  cv = 10)"
      ],
      "execution_count": null,
      "outputs": []
    },
    {
      "cell_type": "code",
      "metadata": {
        "colab": {
          "base_uri": "https://localhost:8080/"
        },
        "id": "ZPNTGj-Sl1eP",
        "outputId": "afb9dc4f-ddc3-46c8-c8e5-afb23cf284cf"
      },
      "source": [
        "%%time\n",
        "halving_cv = halving_cv.fit(X_train, y_train)"
      ],
      "execution_count": null,
      "outputs": [
        {
          "output_type": "stream",
          "text": [
            "Epoch 1/150\n",
            "320/320 [==============================] - 1s 1ms/step - loss: 0.6047 - accuracy: 0.7960\n",
            "Epoch 2/150\n",
            "320/320 [==============================] - 0s 1ms/step - loss: 0.4329 - accuracy: 0.7990\n",
            "Epoch 3/150\n",
            "320/320 [==============================] - 0s 1ms/step - loss: 0.4225 - accuracy: 0.8031\n",
            "Epoch 4/150\n",
            "320/320 [==============================] - 0s 1ms/step - loss: 0.4131 - accuracy: 0.8066\n",
            "Epoch 5/150\n",
            "320/320 [==============================] - 0s 1ms/step - loss: 0.4027 - accuracy: 0.8139\n",
            "Epoch 6/150\n",
            "320/320 [==============================] - 0s 1ms/step - loss: 0.3990 - accuracy: 0.8192\n",
            "Epoch 7/150\n",
            "320/320 [==============================] - 0s 1ms/step - loss: 0.3977 - accuracy: 0.8225\n",
            "Epoch 8/150\n",
            "320/320 [==============================] - 0s 1ms/step - loss: 0.3917 - accuracy: 0.8271\n",
            "Epoch 9/150\n",
            "320/320 [==============================] - 0s 1ms/step - loss: 0.3891 - accuracy: 0.8346\n",
            "Epoch 10/150\n",
            "320/320 [==============================] - 0s 1ms/step - loss: 0.3816 - accuracy: 0.8425\n",
            "Epoch 11/150\n",
            "320/320 [==============================] - 0s 1ms/step - loss: 0.3811 - accuracy: 0.8407\n",
            "Epoch 12/150\n",
            "320/320 [==============================] - 0s 1ms/step - loss: 0.3765 - accuracy: 0.8432\n",
            "Epoch 13/150\n",
            "320/320 [==============================] - 0s 1ms/step - loss: 0.3775 - accuracy: 0.8444\n",
            "Epoch 14/150\n",
            "320/320 [==============================] - 0s 1ms/step - loss: 0.3738 - accuracy: 0.8435\n",
            "Epoch 15/150\n",
            "320/320 [==============================] - 0s 1ms/step - loss: 0.3738 - accuracy: 0.8429\n",
            "Epoch 16/150\n",
            "320/320 [==============================] - 0s 1ms/step - loss: 0.3769 - accuracy: 0.8430\n",
            "Epoch 17/150\n",
            "320/320 [==============================] - 0s 1ms/step - loss: 0.3735 - accuracy: 0.8419\n",
            "Epoch 18/150\n",
            "320/320 [==============================] - 0s 1ms/step - loss: 0.3720 - accuracy: 0.8451\n",
            "Epoch 19/150\n",
            "320/320 [==============================] - 0s 1ms/step - loss: 0.3683 - accuracy: 0.8472\n",
            "Epoch 20/150\n",
            "320/320 [==============================] - 0s 1ms/step - loss: 0.3711 - accuracy: 0.8503\n",
            "Epoch 21/150\n",
            "320/320 [==============================] - 0s 1ms/step - loss: 0.3717 - accuracy: 0.8479\n",
            "Epoch 22/150\n",
            "320/320 [==============================] - 0s 1ms/step - loss: 0.3701 - accuracy: 0.8470\n",
            "Epoch 23/150\n",
            "320/320 [==============================] - 0s 1ms/step - loss: 0.3680 - accuracy: 0.8451\n",
            "Epoch 24/150\n",
            "320/320 [==============================] - 0s 1ms/step - loss: 0.3712 - accuracy: 0.8459\n",
            "Epoch 25/150\n",
            "320/320 [==============================] - 0s 1ms/step - loss: 0.3726 - accuracy: 0.8469\n",
            "Epoch 26/150\n",
            "320/320 [==============================] - 0s 1ms/step - loss: 0.3760 - accuracy: 0.8422\n",
            "Epoch 27/150\n",
            "320/320 [==============================] - 0s 1ms/step - loss: 0.3686 - accuracy: 0.8464\n",
            "Epoch 28/150\n",
            "320/320 [==============================] - 0s 1ms/step - loss: 0.3725 - accuracy: 0.8454\n",
            "Epoch 29/150\n",
            "320/320 [==============================] - 0s 1ms/step - loss: 0.3744 - accuracy: 0.8462\n",
            "Epoch 30/150\n",
            "320/320 [==============================] - 0s 1ms/step - loss: 0.3771 - accuracy: 0.8462\n",
            "Epoch 31/150\n",
            "320/320 [==============================] - 0s 1ms/step - loss: 0.3764 - accuracy: 0.8451\n",
            "Epoch 32/150\n",
            "320/320 [==============================] - 0s 1ms/step - loss: 0.3702 - accuracy: 0.8489\n",
            "Epoch 33/150\n",
            "320/320 [==============================] - 0s 1ms/step - loss: 0.3736 - accuracy: 0.8461\n",
            "Epoch 34/150\n",
            "320/320 [==============================] - 0s 1ms/step - loss: 0.3714 - accuracy: 0.8471\n",
            "Epoch 35/150\n",
            "320/320 [==============================] - 0s 1ms/step - loss: 0.3767 - accuracy: 0.8471\n",
            "Epoch 36/150\n",
            "320/320 [==============================] - 0s 1ms/step - loss: 0.3665 - accuracy: 0.8525\n",
            "Epoch 37/150\n",
            "320/320 [==============================] - 0s 1ms/step - loss: 0.3730 - accuracy: 0.8486\n",
            "Epoch 38/150\n",
            "320/320 [==============================] - 0s 1ms/step - loss: 0.3762 - accuracy: 0.8512\n",
            "Epoch 39/150\n",
            "320/320 [==============================] - 0s 1ms/step - loss: 0.3709 - accuracy: 0.8484\n",
            "Epoch 40/150\n",
            "320/320 [==============================] - 0s 1ms/step - loss: 0.3818 - accuracy: 0.8486\n",
            "Epoch 41/150\n",
            "320/320 [==============================] - 0s 1ms/step - loss: 0.3702 - accuracy: 0.8480\n",
            "Epoch 42/150\n",
            "320/320 [==============================] - 0s 1ms/step - loss: 0.3849 - accuracy: 0.8506\n",
            "Epoch 43/150\n",
            "320/320 [==============================] - 0s 1ms/step - loss: 0.3784 - accuracy: 0.8499\n",
            "Epoch 44/150\n",
            "320/320 [==============================] - 0s 1ms/step - loss: 0.3688 - accuracy: 0.8482\n",
            "Epoch 45/150\n",
            "320/320 [==============================] - 0s 1ms/step - loss: 0.3757 - accuracy: 0.8464\n",
            "Epoch 46/150\n",
            "320/320 [==============================] - 0s 1ms/step - loss: 0.3665 - accuracy: 0.8512\n",
            "Epoch 47/150\n",
            "320/320 [==============================] - 0s 1ms/step - loss: 0.3704 - accuracy: 0.8465\n",
            "Epoch 48/150\n",
            "320/320 [==============================] - 0s 1ms/step - loss: 0.3760 - accuracy: 0.8514\n",
            "Epoch 49/150\n",
            "320/320 [==============================] - 0s 1ms/step - loss: 0.3668 - accuracy: 0.8487\n",
            "Epoch 50/150\n",
            "320/320 [==============================] - 0s 1ms/step - loss: 0.3765 - accuracy: 0.8518\n",
            "Epoch 51/150\n",
            "320/320 [==============================] - 0s 1ms/step - loss: 0.3653 - accuracy: 0.8539\n",
            "Epoch 52/150\n",
            "320/320 [==============================] - 0s 1ms/step - loss: 0.3639 - accuracy: 0.8489\n",
            "Epoch 53/150\n",
            "320/320 [==============================] - 0s 1ms/step - loss: 0.3816 - accuracy: 0.8499\n",
            "Epoch 54/150\n",
            "320/320 [==============================] - 0s 1ms/step - loss: 0.3706 - accuracy: 0.8553\n",
            "Epoch 55/150\n",
            "320/320 [==============================] - 0s 1ms/step - loss: 0.3700 - accuracy: 0.8509\n",
            "Epoch 56/150\n",
            "320/320 [==============================] - 0s 1ms/step - loss: 0.3690 - accuracy: 0.8540\n",
            "Epoch 57/150\n",
            "320/320 [==============================] - 0s 1ms/step - loss: 0.3710 - accuracy: 0.8525\n",
            "Epoch 58/150\n",
            "320/320 [==============================] - 0s 1ms/step - loss: 0.3777 - accuracy: 0.8468\n",
            "Epoch 59/150\n",
            "320/320 [==============================] - 0s 1ms/step - loss: 0.3705 - accuracy: 0.8549\n",
            "Epoch 60/150\n",
            "320/320 [==============================] - 0s 1ms/step - loss: 0.3796 - accuracy: 0.8493\n",
            "Epoch 61/150\n",
            "320/320 [==============================] - 0s 1ms/step - loss: 0.3780 - accuracy: 0.8481\n",
            "Epoch 62/150\n",
            "320/320 [==============================] - 0s 1ms/step - loss: 0.3658 - accuracy: 0.8514\n",
            "Epoch 63/150\n",
            "320/320 [==============================] - 0s 1ms/step - loss: 0.3723 - accuracy: 0.8466\n",
            "Epoch 64/150\n",
            "320/320 [==============================] - 0s 1ms/step - loss: 0.3666 - accuracy: 0.8512\n",
            "Epoch 65/150\n",
            "320/320 [==============================] - 0s 1ms/step - loss: 0.3722 - accuracy: 0.8503\n",
            "Epoch 66/150\n",
            "320/320 [==============================] - 0s 1ms/step - loss: 0.3661 - accuracy: 0.8509\n",
            "Epoch 67/150\n",
            "320/320 [==============================] - 0s 1ms/step - loss: 0.3685 - accuracy: 0.8514\n",
            "Epoch 68/150\n",
            "320/320 [==============================] - 0s 1ms/step - loss: 0.3713 - accuracy: 0.8516\n",
            "Epoch 69/150\n",
            "320/320 [==============================] - 0s 1ms/step - loss: 0.3698 - accuracy: 0.8503\n",
            "Epoch 70/150\n",
            "320/320 [==============================] - 0s 1ms/step - loss: 0.3668 - accuracy: 0.8506\n",
            "Epoch 71/150\n",
            "320/320 [==============================] - 0s 1ms/step - loss: 0.3681 - accuracy: 0.8512\n",
            "Epoch 72/150\n",
            "320/320 [==============================] - 0s 1ms/step - loss: 0.3745 - accuracy: 0.8484\n",
            "Epoch 73/150\n",
            "320/320 [==============================] - 0s 1ms/step - loss: 0.3861 - accuracy: 0.8482\n",
            "Epoch 74/150\n",
            "320/320 [==============================] - 0s 1ms/step - loss: 0.3705 - accuracy: 0.8494\n",
            "Epoch 75/150\n",
            "320/320 [==============================] - 0s 1ms/step - loss: 0.3677 - accuracy: 0.8509\n",
            "Epoch 76/150\n",
            "320/320 [==============================] - 0s 1ms/step - loss: 0.3696 - accuracy: 0.8460\n",
            "Epoch 77/150\n",
            "320/320 [==============================] - 0s 1ms/step - loss: 0.3655 - accuracy: 0.8512\n",
            "Epoch 78/150\n",
            "320/320 [==============================] - 0s 1ms/step - loss: 0.3665 - accuracy: 0.8494\n",
            "Epoch 79/150\n",
            "320/320 [==============================] - 0s 1ms/step - loss: 0.3707 - accuracy: 0.8499\n",
            "Epoch 80/150\n",
            "320/320 [==============================] - 0s 1ms/step - loss: 0.3719 - accuracy: 0.8490\n",
            "Epoch 81/150\n",
            "320/320 [==============================] - 0s 1ms/step - loss: 0.3707 - accuracy: 0.8480\n",
            "Epoch 82/150\n",
            "320/320 [==============================] - 0s 1ms/step - loss: 0.3742 - accuracy: 0.8490\n",
            "Epoch 83/150\n",
            "320/320 [==============================] - 0s 1ms/step - loss: 0.3652 - accuracy: 0.8522\n",
            "Epoch 84/150\n",
            "320/320 [==============================] - 0s 1ms/step - loss: 0.3648 - accuracy: 0.8521\n",
            "Epoch 85/150\n",
            "320/320 [==============================] - 0s 1ms/step - loss: 0.3696 - accuracy: 0.8493\n",
            "Epoch 86/150\n",
            "320/320 [==============================] - 0s 1ms/step - loss: 0.3750 - accuracy: 0.8493\n",
            "Epoch 87/150\n",
            "320/320 [==============================] - 0s 1ms/step - loss: 0.3649 - accuracy: 0.8494\n",
            "Epoch 88/150\n",
            "320/320 [==============================] - 0s 1ms/step - loss: 0.3676 - accuracy: 0.8489\n",
            "Epoch 89/150\n",
            "320/320 [==============================] - 0s 1ms/step - loss: 0.3717 - accuracy: 0.8469\n",
            "Epoch 90/150\n",
            "320/320 [==============================] - 0s 1ms/step - loss: 0.3710 - accuracy: 0.8528\n",
            "Epoch 91/150\n",
            "320/320 [==============================] - 0s 1ms/step - loss: 0.3713 - accuracy: 0.8487\n",
            "Epoch 92/150\n",
            "320/320 [==============================] - 0s 1ms/step - loss: 0.3671 - accuracy: 0.8499\n",
            "Epoch 93/150\n",
            "320/320 [==============================] - 0s 1ms/step - loss: 0.3691 - accuracy: 0.8520\n",
            "Epoch 94/150\n",
            "320/320 [==============================] - 0s 1ms/step - loss: 0.3661 - accuracy: 0.8519\n",
            "Epoch 95/150\n",
            "320/320 [==============================] - 0s 1ms/step - loss: 0.3663 - accuracy: 0.8510\n",
            "Epoch 96/150\n",
            "320/320 [==============================] - 0s 1ms/step - loss: 0.3649 - accuracy: 0.8516\n",
            "Epoch 97/150\n",
            "320/320 [==============================] - 0s 1ms/step - loss: 0.3730 - accuracy: 0.8510\n",
            "Epoch 98/150\n",
            "320/320 [==============================] - 0s 1ms/step - loss: 0.3726 - accuracy: 0.8500\n",
            "Epoch 99/150\n",
            "320/320 [==============================] - 0s 1ms/step - loss: 0.3743 - accuracy: 0.8491\n",
            "Epoch 100/150\n",
            "320/320 [==============================] - 0s 1ms/step - loss: 0.3753 - accuracy: 0.8504\n",
            "Epoch 101/150\n",
            "320/320 [==============================] - 0s 1ms/step - loss: 0.3805 - accuracy: 0.8474\n",
            "Epoch 102/150\n",
            "320/320 [==============================] - 0s 1ms/step - loss: 0.3626 - accuracy: 0.8518\n",
            "Epoch 103/150\n",
            "320/320 [==============================] - 0s 1ms/step - loss: 0.3676 - accuracy: 0.8530\n",
            "Epoch 104/150\n",
            "320/320 [==============================] - 0s 1ms/step - loss: 0.3746 - accuracy: 0.8522\n",
            "Epoch 105/150\n",
            "320/320 [==============================] - 0s 1ms/step - loss: 0.3829 - accuracy: 0.8564\n",
            "Epoch 106/150\n",
            "320/320 [==============================] - 0s 1ms/step - loss: 0.3712 - accuracy: 0.8518\n",
            "Epoch 107/150\n",
            "320/320 [==============================] - 0s 1ms/step - loss: 0.3805 - accuracy: 0.8493\n",
            "Epoch 108/150\n",
            "320/320 [==============================] - 0s 1ms/step - loss: 0.3620 - accuracy: 0.8543\n",
            "Epoch 109/150\n",
            "320/320 [==============================] - 0s 1ms/step - loss: 0.3743 - accuracy: 0.8490\n",
            "Epoch 110/150\n",
            "320/320 [==============================] - 0s 1ms/step - loss: 0.3718 - accuracy: 0.8461\n",
            "Epoch 111/150\n",
            "320/320 [==============================] - 0s 1ms/step - loss: 0.3739 - accuracy: 0.8512\n",
            "Epoch 112/150\n",
            "320/320 [==============================] - 0s 1ms/step - loss: 0.3704 - accuracy: 0.8504\n",
            "Epoch 113/150\n",
            "320/320 [==============================] - 0s 1ms/step - loss: 0.3716 - accuracy: 0.8535\n",
            "Epoch 114/150\n",
            "320/320 [==============================] - 0s 1ms/step - loss: 0.3745 - accuracy: 0.8476\n",
            "Epoch 115/150\n",
            "320/320 [==============================] - 0s 1ms/step - loss: 0.3713 - accuracy: 0.8481\n",
            "Epoch 116/150\n",
            "320/320 [==============================] - 0s 1ms/step - loss: 0.3668 - accuracy: 0.8484\n",
            "Epoch 117/150\n",
            "320/320 [==============================] - 0s 1ms/step - loss: 0.3762 - accuracy: 0.8499\n",
            "Epoch 118/150\n",
            "320/320 [==============================] - 0s 1ms/step - loss: 0.3776 - accuracy: 0.8503\n",
            "Epoch 119/150\n",
            "320/320 [==============================] - 0s 1ms/step - loss: 0.3779 - accuracy: 0.8489\n",
            "Epoch 120/150\n",
            "320/320 [==============================] - 0s 1ms/step - loss: 0.3795 - accuracy: 0.8522\n",
            "Epoch 121/150\n",
            "320/320 [==============================] - 0s 1ms/step - loss: 0.3697 - accuracy: 0.8500\n",
            "Epoch 122/150\n",
            "320/320 [==============================] - 0s 1ms/step - loss: 0.3722 - accuracy: 0.8512\n",
            "Epoch 123/150\n",
            "320/320 [==============================] - 0s 1ms/step - loss: 0.3681 - accuracy: 0.8499\n",
            "Epoch 124/150\n",
            "320/320 [==============================] - 0s 1ms/step - loss: 0.3690 - accuracy: 0.8518\n",
            "Epoch 125/150\n",
            "320/320 [==============================] - 0s 1ms/step - loss: 0.3838 - accuracy: 0.8511\n",
            "Epoch 126/150\n",
            "320/320 [==============================] - 0s 1ms/step - loss: 0.3646 - accuracy: 0.8506\n",
            "Epoch 127/150\n",
            "320/320 [==============================] - 0s 1ms/step - loss: 0.3786 - accuracy: 0.8515\n",
            "Epoch 128/150\n",
            "320/320 [==============================] - 0s 1ms/step - loss: 0.3732 - accuracy: 0.8531\n",
            "Epoch 129/150\n",
            "320/320 [==============================] - 0s 1ms/step - loss: 0.3682 - accuracy: 0.8511\n",
            "Epoch 130/150\n",
            "320/320 [==============================] - 0s 1ms/step - loss: 0.3672 - accuracy: 0.8508\n",
            "Epoch 131/150\n",
            "320/320 [==============================] - 0s 1ms/step - loss: 0.3868 - accuracy: 0.8516\n",
            "Epoch 132/150\n",
            "320/320 [==============================] - 0s 1ms/step - loss: 0.3771 - accuracy: 0.8508\n",
            "Epoch 133/150\n",
            "320/320 [==============================] - 0s 1ms/step - loss: 0.3713 - accuracy: 0.8504\n",
            "Epoch 134/150\n",
            "320/320 [==============================] - 0s 1ms/step - loss: 0.3666 - accuracy: 0.8550\n",
            "Epoch 135/150\n",
            "320/320 [==============================] - 0s 1ms/step - loss: 0.3726 - accuracy: 0.8526\n",
            "Epoch 136/150\n",
            "320/320 [==============================] - 0s 1ms/step - loss: 0.3675 - accuracy: 0.8528\n",
            "Epoch 137/150\n",
            "320/320 [==============================] - 0s 1ms/step - loss: 0.3646 - accuracy: 0.8521\n",
            "Epoch 138/150\n",
            "320/320 [==============================] - 0s 1ms/step - loss: 0.3725 - accuracy: 0.8518\n",
            "Epoch 139/150\n",
            "320/320 [==============================] - 0s 1ms/step - loss: 0.3770 - accuracy: 0.8493\n",
            "Epoch 140/150\n",
            "320/320 [==============================] - 0s 1ms/step - loss: 0.3833 - accuracy: 0.8535\n",
            "Epoch 141/150\n",
            "320/320 [==============================] - 0s 1ms/step - loss: 0.3916 - accuracy: 0.8497\n",
            "Epoch 142/150\n",
            "320/320 [==============================] - 0s 1ms/step - loss: 0.3679 - accuracy: 0.8510\n",
            "Epoch 143/150\n",
            "320/320 [==============================] - 0s 1ms/step - loss: 0.3682 - accuracy: 0.8515\n",
            "Epoch 144/150\n",
            "320/320 [==============================] - 0s 1ms/step - loss: 0.3829 - accuracy: 0.8511\n",
            "Epoch 145/150\n",
            "320/320 [==============================] - 0s 1ms/step - loss: 0.3789 - accuracy: 0.8491\n",
            "Epoch 146/150\n",
            "320/320 [==============================] - 0s 1ms/step - loss: 0.3753 - accuracy: 0.8500\n",
            "Epoch 147/150\n",
            "320/320 [==============================] - 0s 1ms/step - loss: 0.3735 - accuracy: 0.8540\n",
            "Epoch 148/150\n",
            "320/320 [==============================] - 0s 1ms/step - loss: 0.3709 - accuracy: 0.8529\n",
            "Epoch 149/150\n",
            "320/320 [==============================] - 0s 1ms/step - loss: 0.3691 - accuracy: 0.8518\n",
            "Epoch 150/150\n",
            "320/320 [==============================] - 0s 1ms/step - loss: 0.3708 - accuracy: 0.8546\n",
            "CPU times: user 1min 34s, sys: 7.81 s, total: 1min 42s\n",
            "Wall time: 1h 6min 20s\n"
          ],
          "name": "stdout"
        }
      ]
    },
    {
      "cell_type": "code",
      "metadata": {
        "colab": {
          "base_uri": "https://localhost:8080/"
        },
        "id": "tuaiwEYkl1eQ",
        "outputId": "1d4343fe-541c-48f7-d1a9-1902d85237c5"
      },
      "source": [
        "print('Best params:\\n',halving_cv.best_params_,'\\nBest accuracy:\\n',halving_cv.best_score_)"
      ],
      "execution_count": null,
      "outputs": [
        {
          "output_type": "stream",
          "text": [
            "Best params:\n",
            " {'batch_size': 25, 'epochs': 150, 'optimizer': 'rmsprop'} \n",
            "Best accuracy:\n",
            " 0.8411764705882353\n"
          ],
          "name": "stdout"
        }
      ]
    },
    {
      "cell_type": "markdown",
      "metadata": {
        "id": "qdBfA4pGl1eQ"
      },
      "source": [
        "# FIM"
      ]
    },
    {
      "cell_type": "markdown",
      "metadata": {
        "id": "bmKAeih2l1eR"
      },
      "source": [
        "> Professor Diego Dorgam  \n",
        "> [@diegodorgam](https://twitter.com/diegodorgam)"
      ]
    }
  ]
}