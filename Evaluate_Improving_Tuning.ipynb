{
  "nbformat": 4,
  "nbformat_minor": 0,
  "metadata": {
    "kernelspec": {
      "display_name": "Python 3",
      "language": "python",
      "name": "python3"
    },
    "language_info": {
      "codemirror_mode": {
        "name": "ipython",
        "version": 3
      },
      "file_extension": ".py",
      "mimetype": "text/x-python",
      "name": "python",
      "nbconvert_exporter": "python",
      "pygments_lexer": "ipython3",
      "version": "3.8.6"
    },
    "colab": {
      "name": "Evaluate_Improving_Tuning.ipynb",
      "provenance": []
    }
  },
  "cells": [
    {
      "cell_type": "markdown",
      "metadata": {
        "id": "IltYvurldBPE"
      },
      "source": [
        "# REDES NEURAIS ARTIFICIAIS\n",
        "## Evaluate Improve e Tunning"
      ]
    },
    {
      "cell_type": "markdown",
      "metadata": {
        "id": "VIrDRsbqdBPQ"
      },
      "source": [
        "# Parte 1 - Pré-processamento dos Dados"
      ]
    },
    {
      "cell_type": "markdown",
      "metadata": {
        "id": "QzfH8ckldBPR"
      },
      "source": [
        "### Importar as libs"
      ]
    },
    {
      "cell_type": "code",
      "metadata": {
        "id": "MxkJoQBkUIHC"
      },
      "source": [
        "import numpy as np\n",
        "import pandas as pd\n",
        "import tensorflow as tf"
      ],
      "execution_count": 1,
      "outputs": []
    },
    {
      "cell_type": "code",
      "metadata": {
        "colab": {
          "base_uri": "https://localhost:8080/",
          "height": 35
        },
        "id": "ZaTwK7ojXr2F",
        "outputId": "6e0d96da-01ee-4952-b81c-3d2e0b06fd46"
      },
      "source": [
        "tf.__version__"
      ],
      "execution_count": 2,
      "outputs": [
        {
          "output_type": "execute_result",
          "data": {
            "application/vnd.google.colaboratory.intrinsic+json": {
              "type": "string"
            },
            "text/plain": [
              "'2.6.0'"
            ]
          },
          "metadata": {},
          "execution_count": 2
        }
      ]
    },
    {
      "cell_type": "markdown",
      "metadata": {
        "id": "IkE-wVhHdBPX"
      },
      "source": [
        "### Importar o dataset"
      ]
    },
    {
      "cell_type": "code",
      "metadata": {
        "colab": {
          "base_uri": "https://localhost:8080/",
          "height": 224
        },
        "id": "fwhilkikdBPY",
        "outputId": "0776dc4e-2a28-4fc8-8a47-24c1e59b7a09"
      },
      "source": [
        "dataset = pd.read_csv('Churn_Modelling.csv')\n",
        "dataset.head()"
      ],
      "execution_count": 3,
      "outputs": [
        {
          "output_type": "execute_result",
          "data": {
            "text/html": [
              "<div>\n",
              "<style scoped>\n",
              "    .dataframe tbody tr th:only-of-type {\n",
              "        vertical-align: middle;\n",
              "    }\n",
              "\n",
              "    .dataframe tbody tr th {\n",
              "        vertical-align: top;\n",
              "    }\n",
              "\n",
              "    .dataframe thead th {\n",
              "        text-align: right;\n",
              "    }\n",
              "</style>\n",
              "<table border=\"1\" class=\"dataframe\">\n",
              "  <thead>\n",
              "    <tr style=\"text-align: right;\">\n",
              "      <th></th>\n",
              "      <th>RowNumber</th>\n",
              "      <th>CustomerId</th>\n",
              "      <th>Surname</th>\n",
              "      <th>CreditScore</th>\n",
              "      <th>Geography</th>\n",
              "      <th>Gender</th>\n",
              "      <th>Age</th>\n",
              "      <th>Tenure</th>\n",
              "      <th>Balance</th>\n",
              "      <th>NumOfProducts</th>\n",
              "      <th>HasCrCard</th>\n",
              "      <th>IsActiveMember</th>\n",
              "      <th>EstimatedSalary</th>\n",
              "      <th>Exited</th>\n",
              "    </tr>\n",
              "  </thead>\n",
              "  <tbody>\n",
              "    <tr>\n",
              "      <th>0</th>\n",
              "      <td>1</td>\n",
              "      <td>15634602</td>\n",
              "      <td>Hargrave</td>\n",
              "      <td>619</td>\n",
              "      <td>France</td>\n",
              "      <td>Female</td>\n",
              "      <td>42</td>\n",
              "      <td>2</td>\n",
              "      <td>0.00</td>\n",
              "      <td>1</td>\n",
              "      <td>1</td>\n",
              "      <td>1</td>\n",
              "      <td>101348.88</td>\n",
              "      <td>1</td>\n",
              "    </tr>\n",
              "    <tr>\n",
              "      <th>1</th>\n",
              "      <td>2</td>\n",
              "      <td>15647311</td>\n",
              "      <td>Hill</td>\n",
              "      <td>608</td>\n",
              "      <td>Spain</td>\n",
              "      <td>Female</td>\n",
              "      <td>41</td>\n",
              "      <td>1</td>\n",
              "      <td>83807.86</td>\n",
              "      <td>1</td>\n",
              "      <td>0</td>\n",
              "      <td>1</td>\n",
              "      <td>112542.58</td>\n",
              "      <td>0</td>\n",
              "    </tr>\n",
              "    <tr>\n",
              "      <th>2</th>\n",
              "      <td>3</td>\n",
              "      <td>15619304</td>\n",
              "      <td>Onio</td>\n",
              "      <td>502</td>\n",
              "      <td>France</td>\n",
              "      <td>Female</td>\n",
              "      <td>42</td>\n",
              "      <td>8</td>\n",
              "      <td>159660.80</td>\n",
              "      <td>3</td>\n",
              "      <td>1</td>\n",
              "      <td>0</td>\n",
              "      <td>113931.57</td>\n",
              "      <td>1</td>\n",
              "    </tr>\n",
              "    <tr>\n",
              "      <th>3</th>\n",
              "      <td>4</td>\n",
              "      <td>15701354</td>\n",
              "      <td>Boni</td>\n",
              "      <td>699</td>\n",
              "      <td>France</td>\n",
              "      <td>Female</td>\n",
              "      <td>39</td>\n",
              "      <td>1</td>\n",
              "      <td>0.00</td>\n",
              "      <td>2</td>\n",
              "      <td>0</td>\n",
              "      <td>0</td>\n",
              "      <td>93826.63</td>\n",
              "      <td>0</td>\n",
              "    </tr>\n",
              "    <tr>\n",
              "      <th>4</th>\n",
              "      <td>5</td>\n",
              "      <td>15737888</td>\n",
              "      <td>Mitchell</td>\n",
              "      <td>850</td>\n",
              "      <td>Spain</td>\n",
              "      <td>Female</td>\n",
              "      <td>43</td>\n",
              "      <td>2</td>\n",
              "      <td>125510.82</td>\n",
              "      <td>1</td>\n",
              "      <td>1</td>\n",
              "      <td>1</td>\n",
              "      <td>79084.10</td>\n",
              "      <td>0</td>\n",
              "    </tr>\n",
              "  </tbody>\n",
              "</table>\n",
              "</div>"
            ],
            "text/plain": [
              "   RowNumber  CustomerId   Surname  ...  IsActiveMember EstimatedSalary Exited\n",
              "0          1    15634602  Hargrave  ...               1       101348.88      1\n",
              "1          2    15647311      Hill  ...               1       112542.58      0\n",
              "2          3    15619304      Onio  ...               0       113931.57      1\n",
              "3          4    15701354      Boni  ...               0        93826.63      0\n",
              "4          5    15737888  Mitchell  ...               1        79084.10      0\n",
              "\n",
              "[5 rows x 14 columns]"
            ]
          },
          "metadata": {},
          "execution_count": 3
        }
      ]
    },
    {
      "cell_type": "code",
      "metadata": {
        "colab": {
          "base_uri": "https://localhost:8080/"
        },
        "id": "qb14cwlSdBPZ",
        "outputId": "ef9b2f11-14ab-462f-dd85-ec2930a54ace"
      },
      "source": [
        "X = dataset.iloc[:, 3:13].values\n",
        "y = dataset.iloc[:, 13].values\n",
        "print(\"X >>\\n\",X)\n",
        "print(\"y >>\\n\",y)"
      ],
      "execution_count": 4,
      "outputs": [
        {
          "output_type": "stream",
          "text": [
            "X >>\n",
            " [[619 'France' 'Female' ... 1 1 101348.88]\n",
            " [608 'Spain' 'Female' ... 0 1 112542.58]\n",
            " [502 'France' 'Female' ... 1 0 113931.57]\n",
            " ...\n",
            " [709 'France' 'Female' ... 0 1 42085.58]\n",
            " [772 'Germany' 'Male' ... 1 0 92888.52]\n",
            " [792 'France' 'Female' ... 1 0 38190.78]]\n",
            "y >>\n",
            " [1 0 1 ... 1 1 0]\n"
          ],
          "name": "stdout"
        }
      ]
    },
    {
      "cell_type": "markdown",
      "metadata": {
        "id": "w6qnd4nzdBPa"
      },
      "source": [
        "### Transformando os dados categóricos\n"
      ]
    },
    {
      "cell_type": "code",
      "metadata": {
        "colab": {
          "base_uri": "https://localhost:8080/"
        },
        "id": "Hmwi1TuodBPb",
        "outputId": "84bdeb45-6830-4aff-97e5-e4197387ec2d"
      },
      "source": [
        "# Label Encoding the \"Gender\" column\n",
        "from sklearn.preprocessing import LabelEncoder\n",
        "le = LabelEncoder()\n",
        "X[:, 2] = le.fit_transform(X[:, 2])\n",
        "print(X)\n",
        "# One Hot Encoding the \"Geography\" column\n",
        "from sklearn.compose import ColumnTransformer\n",
        "from sklearn.preprocessing import OneHotEncoder\n",
        "ct = ColumnTransformer(transformers=[('encoder', OneHotEncoder(), [1])], remainder='passthrough')\n",
        "X = np.array(ct.fit_transform(X))\n",
        "print(X)"
      ],
      "execution_count": 5,
      "outputs": [
        {
          "output_type": "stream",
          "text": [
            "[[619 'France' 0 ... 1 1 101348.88]\n",
            " [608 'Spain' 0 ... 0 1 112542.58]\n",
            " [502 'France' 0 ... 1 0 113931.57]\n",
            " ...\n",
            " [709 'France' 0 ... 0 1 42085.58]\n",
            " [772 'Germany' 1 ... 1 0 92888.52]\n",
            " [792 'France' 0 ... 1 0 38190.78]]\n",
            "[[1.0 0.0 0.0 ... 1 1 101348.88]\n",
            " [0.0 0.0 1.0 ... 0 1 112542.58]\n",
            " [1.0 0.0 0.0 ... 1 0 113931.57]\n",
            " ...\n",
            " [1.0 0.0 0.0 ... 0 1 42085.58]\n",
            " [0.0 1.0 0.0 ... 1 0 92888.52]\n",
            " [1.0 0.0 0.0 ... 1 0 38190.78]]\n"
          ],
          "name": "stdout"
        }
      ]
    },
    {
      "cell_type": "markdown",
      "metadata": {
        "id": "cOPuZx4FdBPc"
      },
      "source": [
        "# Dividindo o dataset em conjunto de treinamento e conjunto de teste"
      ]
    },
    {
      "cell_type": "code",
      "metadata": {
        "id": "8LMuA1uzdBPc"
      },
      "source": [
        "from sklearn.model_selection import train_test_split\n",
        "X_train, X_test, y_train, y_test = train_test_split(X, y, test_size = 0.2, random_state = 0)"
      ],
      "execution_count": 6,
      "outputs": []
    },
    {
      "cell_type": "markdown",
      "metadata": {
        "id": "XBWUDRUjdBPd"
      },
      "source": [
        "# Feature Scaling"
      ]
    },
    {
      "cell_type": "code",
      "metadata": {
        "id": "1BWA40CcdBPe"
      },
      "source": [
        "from sklearn.preprocessing import StandardScaler\n",
        "sc = StandardScaler()\n",
        "X_train = sc.fit_transform(X_train)\n",
        "X_test = sc.transform(X_test)"
      ],
      "execution_count": 7,
      "outputs": []
    },
    {
      "cell_type": "code",
      "metadata": {
        "colab": {
          "base_uri": "https://localhost:8080/"
        },
        "id": "PYx-2omTdBPe",
        "outputId": "6ce0c6a2-f971-4d68-9ddb-7e994617369c"
      },
      "source": [
        "np.shape(X_train)"
      ],
      "execution_count": 8,
      "outputs": [
        {
          "output_type": "execute_result",
          "data": {
            "text/plain": [
              "(8000, 12)"
            ]
          },
          "metadata": {},
          "execution_count": 8
        }
      ]
    },
    {
      "cell_type": "markdown",
      "metadata": {
        "id": "oiQWK4NxdBPl"
      },
      "source": [
        "---\n",
        "# Parte 2 -Vamos construir uma ANN!\n"
      ]
    },
    {
      "cell_type": "markdown",
      "metadata": {
        "id": "KvdeScabXtlB"
      },
      "source": [
        "### Initializing the ANN"
      ]
    },
    {
      "cell_type": "code",
      "metadata": {
        "id": "3dtrScHxXQox"
      },
      "source": [
        "ann = tf.keras.models.Sequential()"
      ],
      "execution_count": 9,
      "outputs": []
    },
    {
      "cell_type": "markdown",
      "metadata": {
        "id": "rP6urV6SX7kS"
      },
      "source": [
        "### Adding the input layer and the first hidden layer"
      ]
    },
    {
      "cell_type": "code",
      "metadata": {
        "id": "bppGycBXYCQr"
      },
      "source": [
        "ann.add(tf.keras.layers.Dense(units=6, activation='relu'))"
      ],
      "execution_count": 10,
      "outputs": []
    },
    {
      "cell_type": "markdown",
      "metadata": {
        "id": "BELWAc_8YJze"
      },
      "source": [
        "### Adding the second hidden layer"
      ]
    },
    {
      "cell_type": "code",
      "metadata": {
        "id": "JneR0u0sYRTd"
      },
      "source": [
        "ann.add(tf.keras.layers.Dense(units=6, activation='elu'))"
      ],
      "execution_count": 11,
      "outputs": []
    },
    {
      "cell_type": "markdown",
      "metadata": {
        "id": "OyNEe6RXYcU4"
      },
      "source": [
        "### Adding the output layer"
      ]
    },
    {
      "cell_type": "code",
      "metadata": {
        "id": "Cn3x41RBYfvY"
      },
      "source": [
        "ann.add(tf.keras.layers.Dense(units=1, activation='selu'))"
      ],
      "execution_count": 12,
      "outputs": []
    },
    {
      "cell_type": "markdown",
      "metadata": {
        "id": "JT4u2S1_Y4WG"
      },
      "source": [
        "## Part 3 - Training the ANN"
      ]
    },
    {
      "cell_type": "markdown",
      "metadata": {
        "id": "8GWlJChhY_ZI"
      },
      "source": [
        "### Compiling the ANN"
      ]
    },
    {
      "cell_type": "code",
      "metadata": {
        "id": "fG3RrwDXZEaS"
      },
      "source": [
        "ann.compile(optimizer = 'adam', loss = 'binary_crossentropy', metrics = ['accuracy'])"
      ],
      "execution_count": 13,
      "outputs": []
    },
    {
      "cell_type": "markdown",
      "metadata": {
        "id": "0QR_G5u7ZLSM"
      },
      "source": [
        "### Training the ANN on the Training set"
      ]
    },
    {
      "cell_type": "code",
      "metadata": {
        "colab": {
          "base_uri": "https://localhost:8080/"
        },
        "id": "nHZ-LKv_ZRb3",
        "outputId": "8c03813c-5371-4cb6-9193-0aff535039a9"
      },
      "source": [
        "ann.fit(X_train, y_train, batch_size = 32, epochs = 100)"
      ],
      "execution_count": 14,
      "outputs": [
        {
          "output_type": "stream",
          "text": [
            "Epoch 1/100\n",
            "250/250 [==============================] - 1s 1ms/step - loss: 2.0162 - accuracy: 0.7768\n",
            "Epoch 2/100\n",
            "250/250 [==============================] - 0s 1ms/step - loss: 1.1376 - accuracy: 0.7676\n",
            "Epoch 3/100\n",
            "250/250 [==============================] - 0s 1ms/step - loss: 0.6786 - accuracy: 0.7714\n",
            "Epoch 4/100\n",
            "250/250 [==============================] - 0s 1ms/step - loss: 0.5409 - accuracy: 0.7826\n",
            "Epoch 5/100\n",
            "250/250 [==============================] - 0s 1ms/step - loss: 0.5183 - accuracy: 0.7739\n",
            "Epoch 6/100\n",
            "250/250 [==============================] - 0s 1ms/step - loss: 0.5022 - accuracy: 0.7962\n",
            "Epoch 7/100\n",
            "250/250 [==============================] - 0s 1ms/step - loss: 0.4915 - accuracy: 0.8024\n",
            "Epoch 8/100\n",
            "250/250 [==============================] - 0s 1ms/step - loss: 0.4819 - accuracy: 0.8040\n",
            "Epoch 9/100\n",
            "250/250 [==============================] - 0s 1ms/step - loss: 0.4708 - accuracy: 0.8070\n",
            "Epoch 10/100\n",
            "250/250 [==============================] - 0s 1ms/step - loss: 0.4611 - accuracy: 0.8104\n",
            "Epoch 11/100\n",
            "250/250 [==============================] - 0s 1ms/step - loss: 0.4553 - accuracy: 0.8106\n",
            "Epoch 12/100\n",
            "250/250 [==============================] - 0s 1ms/step - loss: 0.4499 - accuracy: 0.8134\n",
            "Epoch 13/100\n",
            "250/250 [==============================] - 0s 1ms/step - loss: 0.4387 - accuracy: 0.8158\n",
            "Epoch 14/100\n",
            "250/250 [==============================] - 0s 1ms/step - loss: 0.4461 - accuracy: 0.8149\n",
            "Epoch 15/100\n",
            "250/250 [==============================] - 0s 1ms/step - loss: 0.4295 - accuracy: 0.8264\n",
            "Epoch 16/100\n",
            "250/250 [==============================] - 0s 1ms/step - loss: 0.4252 - accuracy: 0.8280\n",
            "Epoch 17/100\n",
            "250/250 [==============================] - 0s 1ms/step - loss: 0.4223 - accuracy: 0.8291\n",
            "Epoch 18/100\n",
            "250/250 [==============================] - 0s 1ms/step - loss: 0.4181 - accuracy: 0.8294\n",
            "Epoch 19/100\n",
            "250/250 [==============================] - 0s 1ms/step - loss: 0.4140 - accuracy: 0.8289\n",
            "Epoch 20/100\n",
            "250/250 [==============================] - 0s 1ms/step - loss: 0.4115 - accuracy: 0.8320\n",
            "Epoch 21/100\n",
            "250/250 [==============================] - 0s 1ms/step - loss: 0.4087 - accuracy: 0.8341\n",
            "Epoch 22/100\n",
            "250/250 [==============================] - 0s 1ms/step - loss: 0.4050 - accuracy: 0.8344\n",
            "Epoch 23/100\n",
            "250/250 [==============================] - 0s 1ms/step - loss: 0.4055 - accuracy: 0.8357\n",
            "Epoch 24/100\n",
            "250/250 [==============================] - 0s 1ms/step - loss: 0.4044 - accuracy: 0.8367\n",
            "Epoch 25/100\n",
            "250/250 [==============================] - 0s 1ms/step - loss: 0.4071 - accuracy: 0.8369\n",
            "Epoch 26/100\n",
            "250/250 [==============================] - 0s 1ms/step - loss: 0.3971 - accuracy: 0.8385\n",
            "Epoch 27/100\n",
            "250/250 [==============================] - 0s 1ms/step - loss: 0.3963 - accuracy: 0.8403\n",
            "Epoch 28/100\n",
            "250/250 [==============================] - 0s 1ms/step - loss: 0.3949 - accuracy: 0.8415\n",
            "Epoch 29/100\n",
            "250/250 [==============================] - 0s 1ms/step - loss: 0.3921 - accuracy: 0.8416\n",
            "Epoch 30/100\n",
            "250/250 [==============================] - 0s 1ms/step - loss: 0.3907 - accuracy: 0.8425\n",
            "Epoch 31/100\n",
            "250/250 [==============================] - 0s 1ms/step - loss: 0.3889 - accuracy: 0.8430\n",
            "Epoch 32/100\n",
            "250/250 [==============================] - 0s 1ms/step - loss: 0.3910 - accuracy: 0.8441\n",
            "Epoch 33/100\n",
            "250/250 [==============================] - 0s 1ms/step - loss: 0.3927 - accuracy: 0.8444\n",
            "Epoch 34/100\n",
            "250/250 [==============================] - 0s 1ms/step - loss: 0.3992 - accuracy: 0.8440\n",
            "Epoch 35/100\n",
            "250/250 [==============================] - 0s 1ms/step - loss: 0.4047 - accuracy: 0.8359\n",
            "Epoch 36/100\n",
            "250/250 [==============================] - 0s 1ms/step - loss: 0.3878 - accuracy: 0.8422\n",
            "Epoch 37/100\n",
            "250/250 [==============================] - 0s 1ms/step - loss: 0.3892 - accuracy: 0.8451\n",
            "Epoch 38/100\n",
            "250/250 [==============================] - 0s 1ms/step - loss: 0.3839 - accuracy: 0.8432\n",
            "Epoch 39/100\n",
            "250/250 [==============================] - 0s 1ms/step - loss: 0.3874 - accuracy: 0.8405\n",
            "Epoch 40/100\n",
            "250/250 [==============================] - 0s 1ms/step - loss: 0.3939 - accuracy: 0.8428\n",
            "Epoch 41/100\n",
            "250/250 [==============================] - 0s 1ms/step - loss: 0.3817 - accuracy: 0.8415\n",
            "Epoch 42/100\n",
            "250/250 [==============================] - 0s 1ms/step - loss: 0.3947 - accuracy: 0.8404\n",
            "Epoch 43/100\n",
            "250/250 [==============================] - 0s 1ms/step - loss: 0.3896 - accuracy: 0.8430\n",
            "Epoch 44/100\n",
            "250/250 [==============================] - 0s 1ms/step - loss: 0.3771 - accuracy: 0.8432\n",
            "Epoch 45/100\n",
            "250/250 [==============================] - 0s 1ms/step - loss: 0.3776 - accuracy: 0.8419\n",
            "Epoch 46/100\n",
            "250/250 [==============================] - 0s 1ms/step - loss: 0.3817 - accuracy: 0.8451\n",
            "Epoch 47/100\n",
            "250/250 [==============================] - 0s 1ms/step - loss: 0.3736 - accuracy: 0.8430\n",
            "Epoch 48/100\n",
            "250/250 [==============================] - 0s 1ms/step - loss: 0.3705 - accuracy: 0.8480\n",
            "Epoch 49/100\n",
            "250/250 [==============================] - 0s 1ms/step - loss: 0.3942 - accuracy: 0.8456\n",
            "Epoch 50/100\n",
            "250/250 [==============================] - 0s 1ms/step - loss: 0.3791 - accuracy: 0.8464\n",
            "Epoch 51/100\n",
            "250/250 [==============================] - 0s 1ms/step - loss: 0.3667 - accuracy: 0.8485\n",
            "Epoch 52/100\n",
            "250/250 [==============================] - 0s 1ms/step - loss: 0.3628 - accuracy: 0.8489\n",
            "Epoch 53/100\n",
            "250/250 [==============================] - 0s 1ms/step - loss: 0.3624 - accuracy: 0.8506\n",
            "Epoch 54/100\n",
            "250/250 [==============================] - 0s 1ms/step - loss: 0.3591 - accuracy: 0.8503\n",
            "Epoch 55/100\n",
            "250/250 [==============================] - 0s 1ms/step - loss: 0.3566 - accuracy: 0.8519\n",
            "Epoch 56/100\n",
            "250/250 [==============================] - 0s 1ms/step - loss: 0.3555 - accuracy: 0.8530\n",
            "Epoch 57/100\n",
            "250/250 [==============================] - 0s 1ms/step - loss: 0.3551 - accuracy: 0.8529\n",
            "Epoch 58/100\n",
            "250/250 [==============================] - 0s 1ms/step - loss: 0.3614 - accuracy: 0.8549\n",
            "Epoch 59/100\n",
            "250/250 [==============================] - 0s 1ms/step - loss: 0.3638 - accuracy: 0.8533\n",
            "Epoch 60/100\n",
            "250/250 [==============================] - 0s 1ms/step - loss: 0.3550 - accuracy: 0.8530\n",
            "Epoch 61/100\n",
            "250/250 [==============================] - 0s 1ms/step - loss: 0.3735 - accuracy: 0.8505\n",
            "Epoch 62/100\n",
            "250/250 [==============================] - 0s 1ms/step - loss: 0.3536 - accuracy: 0.8543\n",
            "Epoch 63/100\n",
            "250/250 [==============================] - 0s 1ms/step - loss: 0.3549 - accuracy: 0.8564\n",
            "Epoch 64/100\n",
            "250/250 [==============================] - 0s 1ms/step - loss: 0.3523 - accuracy: 0.8550\n",
            "Epoch 65/100\n",
            "250/250 [==============================] - 0s 1ms/step - loss: 0.3488 - accuracy: 0.8561\n",
            "Epoch 66/100\n",
            "250/250 [==============================] - 0s 1ms/step - loss: 0.3498 - accuracy: 0.8546\n",
            "Epoch 67/100\n",
            "250/250 [==============================] - 0s 1ms/step - loss: 0.3484 - accuracy: 0.8562\n",
            "Epoch 68/100\n",
            "250/250 [==============================] - 0s 1ms/step - loss: 0.3502 - accuracy: 0.8558\n",
            "Epoch 69/100\n",
            "250/250 [==============================] - 0s 1ms/step - loss: 0.3535 - accuracy: 0.8564\n",
            "Epoch 70/100\n",
            "250/250 [==============================] - 0s 1ms/step - loss: 0.3522 - accuracy: 0.8569\n",
            "Epoch 71/100\n",
            "250/250 [==============================] - 0s 1ms/step - loss: 0.3477 - accuracy: 0.8560\n",
            "Epoch 72/100\n",
            "250/250 [==============================] - 0s 1ms/step - loss: 0.3476 - accuracy: 0.8564\n",
            "Epoch 73/100\n",
            "250/250 [==============================] - 0s 1ms/step - loss: 0.3474 - accuracy: 0.8559\n",
            "Epoch 74/100\n",
            "250/250 [==============================] - 0s 1ms/step - loss: 0.3471 - accuracy: 0.8577\n",
            "Epoch 75/100\n",
            "250/250 [==============================] - 0s 1ms/step - loss: 0.3479 - accuracy: 0.8574\n",
            "Epoch 76/100\n",
            "250/250 [==============================] - 0s 1ms/step - loss: 0.3485 - accuracy: 0.8569\n",
            "Epoch 77/100\n",
            "250/250 [==============================] - 0s 1ms/step - loss: 0.3470 - accuracy: 0.8572\n",
            "Epoch 78/100\n",
            "250/250 [==============================] - 0s 1ms/step - loss: 0.3468 - accuracy: 0.8580\n",
            "Epoch 79/100\n",
            "250/250 [==============================] - 0s 1ms/step - loss: 0.3856 - accuracy: 0.8522\n",
            "Epoch 80/100\n",
            "250/250 [==============================] - 0s 1ms/step - loss: 0.4271 - accuracy: 0.8521\n",
            "Epoch 81/100\n",
            "250/250 [==============================] - 0s 1ms/step - loss: 0.4093 - accuracy: 0.8569\n",
            "Epoch 82/100\n",
            "250/250 [==============================] - 0s 1ms/step - loss: 0.3956 - accuracy: 0.8577\n",
            "Epoch 83/100\n",
            "250/250 [==============================] - 0s 1ms/step - loss: 0.3839 - accuracy: 0.8577\n",
            "Epoch 84/100\n",
            "250/250 [==============================] - 0s 1ms/step - loss: 0.3718 - accuracy: 0.8585\n",
            "Epoch 85/100\n",
            "250/250 [==============================] - 0s 1ms/step - loss: 0.3624 - accuracy: 0.8604\n",
            "Epoch 86/100\n",
            "250/250 [==============================] - 0s 1ms/step - loss: 0.3547 - accuracy: 0.8614\n",
            "Epoch 87/100\n",
            "250/250 [==============================] - 0s 1ms/step - loss: 0.3492 - accuracy: 0.8600\n",
            "Epoch 88/100\n",
            "250/250 [==============================] - 0s 1ms/step - loss: 0.3460 - accuracy: 0.8611\n",
            "Epoch 89/100\n",
            "250/250 [==============================] - 0s 1ms/step - loss: 0.3446 - accuracy: 0.8609\n",
            "Epoch 90/100\n",
            "250/250 [==============================] - 0s 1ms/step - loss: 0.3477 - accuracy: 0.8626\n",
            "Epoch 91/100\n",
            "250/250 [==============================] - 0s 1ms/step - loss: 0.3434 - accuracy: 0.8615\n",
            "Epoch 92/100\n",
            "250/250 [==============================] - 0s 1ms/step - loss: 0.3424 - accuracy: 0.8614\n",
            "Epoch 93/100\n",
            "250/250 [==============================] - 0s 1ms/step - loss: 0.3413 - accuracy: 0.8618\n",
            "Epoch 94/100\n",
            "250/250 [==============================] - 0s 1ms/step - loss: 0.3403 - accuracy: 0.8618\n",
            "Epoch 95/100\n",
            "250/250 [==============================] - 0s 1ms/step - loss: 0.3401 - accuracy: 0.8625\n",
            "Epoch 96/100\n",
            "250/250 [==============================] - 0s 1ms/step - loss: 0.3394 - accuracy: 0.8612\n",
            "Epoch 97/100\n",
            "250/250 [==============================] - 0s 1ms/step - loss: 0.3377 - accuracy: 0.8620\n",
            "Epoch 98/100\n",
            "250/250 [==============================] - 0s 1ms/step - loss: 0.3400 - accuracy: 0.8627\n",
            "Epoch 99/100\n",
            "250/250 [==============================] - 0s 1ms/step - loss: 0.3385 - accuracy: 0.8614\n",
            "Epoch 100/100\n",
            "250/250 [==============================] - 0s 1ms/step - loss: 0.3382 - accuracy: 0.8600\n"
          ],
          "name": "stdout"
        },
        {
          "output_type": "execute_result",
          "data": {
            "text/plain": [
              "<keras.callbacks.History at 0x7f16445ab150>"
            ]
          },
          "metadata": {},
          "execution_count": 14
        }
      ]
    },
    {
      "cell_type": "markdown",
      "metadata": {
        "id": "cT6fgaJDdBPs"
      },
      "source": [
        "# Parte 3 - Fazendo predições e avaliando o modelo\n",
        "\n",
        "## Prevendo os resultados com o conjunto de testes"
      ]
    },
    {
      "cell_type": "code",
      "metadata": {
        "colab": {
          "base_uri": "https://localhost:8080/"
        },
        "id": "ggEVzW8LdBPt",
        "outputId": "a4e1db48-665d-4053-bb7e-1a4bf0932a9a"
      },
      "source": [
        "y_pred = ann.predict(X_test)\n",
        "y_pred"
      ],
      "execution_count": 15,
      "outputs": [
        {
          "output_type": "execute_result",
          "data": {
            "text/plain": [
              "array([[0.32912582],\n",
              "       [0.2781555 ],\n",
              "       [0.21528704],\n",
              "       ...,\n",
              "       [0.24273856],\n",
              "       [0.1729169 ],\n",
              "       [0.18968901]], dtype=float32)"
            ]
          },
          "metadata": {},
          "execution_count": 15
        }
      ]
    },
    {
      "cell_type": "code",
      "metadata": {
        "colab": {
          "base_uri": "https://localhost:8080/"
        },
        "id": "TEcnwRqldBPt",
        "outputId": "26c35c86-6d29-4f71-85d4-7940d082150d"
      },
      "source": [
        "y_pred = (y_pred > 0.5)\n",
        "y_pred"
      ],
      "execution_count": 16,
      "outputs": [
        {
          "output_type": "execute_result",
          "data": {
            "text/plain": [
              "array([[False],\n",
              "       [False],\n",
              "       [False],\n",
              "       ...,\n",
              "       [False],\n",
              "       [False],\n",
              "       [False]])"
            ]
          },
          "metadata": {},
          "execution_count": 16
        }
      ]
    },
    {
      "cell_type": "markdown",
      "metadata": {
        "id": "CeYl6gLFdBPu"
      },
      "source": [
        "# Criando uma Confusion Matrix"
      ]
    },
    {
      "cell_type": "code",
      "metadata": {
        "colab": {
          "base_uri": "https://localhost:8080/"
        },
        "id": "d2bSNmSXdBPu",
        "outputId": "7e361990-f3cc-4f80-8155-e533c073a594"
      },
      "source": [
        "from sklearn.metrics import confusion_matrix\n",
        "cm = confusion_matrix(y_test, y_pred)\n",
        "print(cm)"
      ],
      "execution_count": 17,
      "outputs": [
        {
          "output_type": "stream",
          "text": [
            "[[1535   60]\n",
            " [ 216  189]]\n"
          ],
          "name": "stdout"
        }
      ]
    },
    {
      "cell_type": "markdown",
      "metadata": {
        "id": "UG9fJmSQdBPv"
      },
      "source": [
        "---\n",
        "# Avaliando o Modelo"
      ]
    },
    {
      "cell_type": "code",
      "metadata": {
        "id": "vuL3_M1vdBPv"
      },
      "source": [
        "# Evaluating the ANN\n",
        "from tensorflow.keras.wrappers.scikit_learn import KerasClassifier\n",
        "from sklearn.model_selection import cross_val_score\n",
        "from tensorflow.keras.models import Sequential\n",
        "from tensorflow.keras.layers import Dense"
      ],
      "execution_count": 18,
      "outputs": []
    },
    {
      "cell_type": "code",
      "metadata": {
        "id": "2hu1LcModBPv"
      },
      "source": [
        "def build_classifier():\n",
        "    classifier = Sequential()\n",
        "    classifier.add(Dense(units = 6, kernel_initializer = 'uniform', activation = 'relu', input_dim = 12))\n",
        "    classifier.add(Dense(units = 6, kernel_initializer = 'uniform', activation = 'elu'))\n",
        "    classifier.add(Dense(units = 1, kernel_initializer = 'uniform', activation = 'selu'))\n",
        "    classifier.compile(optimizer = 'adam', loss = 'binary_crossentropy', metrics = ['accuracy'])\n",
        "    return classifier"
      ],
      "execution_count": 19,
      "outputs": []
    },
    {
      "cell_type": "code",
      "metadata": {
        "id": "aB9H4abudBPw"
      },
      "source": [
        "classifier = KerasClassifier(build_fn = build_classifier, batch_size = 10, epochs = 10)\n",
        "accuracies = cross_val_score(estimator = classifier, X = X_train, y = y_train, cv = 10, n_jobs = -1)\n",
        "mean = accuracies.mean()\n",
        "variance = accuracies.std()"
      ],
      "execution_count": 20,
      "outputs": []
    },
    {
      "cell_type": "code",
      "metadata": {
        "colab": {
          "base_uri": "https://localhost:8080/"
        },
        "id": "Ry9ExJcPdBPx",
        "outputId": "45e25d8c-4f5f-4b1d-d5e3-35e73626587c"
      },
      "source": [
        "print(mean,variance)"
      ],
      "execution_count": 21,
      "outputs": [
        {
          "output_type": "stream",
          "text": [
            "0.831374990940094 0.024228405859877556\n"
          ],
          "name": "stdout"
        }
      ]
    },
    {
      "cell_type": "markdown",
      "metadata": {
        "id": "n0Pn5euFdBPy"
      },
      "source": [
        "# Melhorando o modelo"
      ]
    },
    {
      "cell_type": "code",
      "metadata": {
        "id": "-H-R_YnudBPy"
      },
      "source": [
        "# Improving the ANN\n",
        "# Dropout Regularization to reduce overfitting if needed\n",
        "from tensorflow.keras.layers import Dropout\n",
        "\n",
        "def build_classifier():\n",
        "    classifier = Sequential()\n",
        "    classifier.add(Dense(units = 6, kernel_initializer = 'uniform', activation = 'relu', input_dim = 12))\n",
        "    classifier.add(Dropout(rate = 0.1))\n",
        "    classifier.add(Dense(units = 6, kernel_initializer = 'uniform', activation = 'elu'))\n",
        "    classifier.add(Dropout(rate = 0.1))\n",
        "    classifier.add(Dense(units = 1, kernel_initializer = 'uniform', activation = 'selu'))\n",
        "    classifier.compile(optimizer = 'adam', loss = 'binary_crossentropy', metrics = ['accuracy'])\n",
        "    return classifier"
      ],
      "execution_count": 22,
      "outputs": []
    },
    {
      "cell_type": "code",
      "metadata": {
        "id": "Gx0K2wapdBPz"
      },
      "source": [
        "classifier = KerasClassifier(build_fn = build_classifier, batch_size = 10, epochs = 10)\n",
        "accuracies = cross_val_score(estimator = classifier, X = X_train, y = y_train, cv = 10, n_jobs = -1)\n",
        "mean = accuracies.mean()\n",
        "variance = accuracies.std()"
      ],
      "execution_count": 23,
      "outputs": []
    },
    {
      "cell_type": "code",
      "metadata": {
        "colab": {
          "base_uri": "https://localhost:8080/"
        },
        "id": "34Kdr1jgdBPz",
        "outputId": "5227417d-ada9-4cd5-e925-f82459e5f2da"
      },
      "source": [
        "print(mean,variance)"
      ],
      "execution_count": 24,
      "outputs": [
        {
          "output_type": "stream",
          "text": [
            "0.8283749997615815 0.021629326857455416\n"
          ],
          "name": "stdout"
        }
      ]
    },
    {
      "cell_type": "markdown",
      "metadata": {
        "id": "Tt1pWdfqdBP4"
      },
      "source": [
        "# Halving Grid Search"
      ]
    },
    {
      "cell_type": "code",
      "metadata": {
        "id": "CHq1fTFOdBP5"
      },
      "source": [
        "from tensorflow.keras.wrappers.scikit_learn import KerasClassifier\n",
        "from tensorflow.keras.models import Sequential\n",
        "from tensorflow.keras.layers import Dense\n",
        "from sklearn.experimental import enable_halving_search_cv\n",
        "from sklearn.model_selection import HalvingGridSearchCV\n",
        "\n",
        "def build_classifier(optimizer):\n",
        "    classifier = Sequential()\n",
        "    classifier.add(Dense(units = 6, kernel_initializer = 'uniform', activation = 'relu', input_dim = 12))\n",
        "    classifier.add(Dropout(rate = 0.1))\n",
        "    classifier.add(Dense(units = 6, kernel_initializer = 'uniform', activation = 'elu'))\n",
        "    classifier.add(Dropout(rate = 0.1))\n",
        "    classifier.add(Dense(units = 1, kernel_initializer = 'uniform', activation = 'selu'))\n",
        "    classifier.compile(optimizer = optimizer, loss = 'binary_crossentropy', metrics = ['accuracy'])\n",
        "    return classifier\n",
        "\n",
        "classifier = KerasClassifier(build_fn = build_classifier)\n",
        "\n",
        "parameters = {\n",
        "    'batch_size': [10, 30, 45],\n",
        "    'epochs': [50, 150],\n",
        "    'optimizer': ['adam', 'rmsprop']\n",
        "}\n",
        "\n",
        "halving_cv = HalvingGridSearchCV(estimator = classifier,\n",
        "                                  param_grid = parameters,\n",
        "                                  scoring=\"accuracy\", \n",
        "                                  n_jobs=-1, \n",
        "                                  min_resources=\"exhaust\", \n",
        "                                  factor=3,\n",
        "                                  cv = 10)"
      ],
      "execution_count": 25,
      "outputs": []
    },
    {
      "cell_type": "code",
      "metadata": {
        "colab": {
          "base_uri": "https://localhost:8080/"
        },
        "id": "Nx7IcfPDdBP6",
        "outputId": "d0743059-0f7d-434b-fc67-bcc144f704a3"
      },
      "source": [
        "%%time\n",
        "halving_cv = halving_cv.fit(X_train, y_train)"
      ],
      "execution_count": 26,
      "outputs": [
        {
          "output_type": "stream",
          "text": [
            "Epoch 1/150\n",
            "178/178 [==============================] - 1s 2ms/step - loss: 0.6309 - accuracy: 0.7966\n",
            "Epoch 2/150\n",
            "178/178 [==============================] - 0s 1ms/step - loss: 0.4345 - accuracy: 0.8034\n",
            "Epoch 3/150\n",
            "178/178 [==============================] - 0s 1ms/step - loss: 0.4202 - accuracy: 0.8083\n",
            "Epoch 4/150\n",
            "178/178 [==============================] - 0s 1ms/step - loss: 0.4133 - accuracy: 0.8109\n",
            "Epoch 5/150\n",
            "178/178 [==============================] - 0s 1ms/step - loss: 0.4069 - accuracy: 0.8175\n",
            "Epoch 6/150\n",
            "178/178 [==============================] - 0s 1ms/step - loss: 0.4113 - accuracy: 0.8161\n",
            "Epoch 7/150\n",
            "178/178 [==============================] - 0s 1ms/step - loss: 0.3997 - accuracy: 0.8232\n",
            "Epoch 8/150\n",
            "178/178 [==============================] - 0s 1ms/step - loss: 0.3962 - accuracy: 0.8226\n",
            "Epoch 9/150\n",
            "178/178 [==============================] - 0s 1ms/step - loss: 0.3916 - accuracy: 0.8276\n",
            "Epoch 10/150\n",
            "178/178 [==============================] - 0s 1ms/step - loss: 0.3943 - accuracy: 0.8313\n",
            "Epoch 11/150\n",
            "178/178 [==============================] - 0s 1ms/step - loss: 0.3852 - accuracy: 0.8305\n",
            "Epoch 12/150\n",
            "178/178 [==============================] - 0s 2ms/step - loss: 0.3885 - accuracy: 0.8321\n",
            "Epoch 13/150\n",
            "178/178 [==============================] - 0s 1ms/step - loss: 0.3836 - accuracy: 0.8314\n",
            "Epoch 14/150\n",
            "178/178 [==============================] - 0s 1ms/step - loss: 0.3801 - accuracy: 0.8372\n",
            "Epoch 15/150\n",
            "178/178 [==============================] - 0s 1ms/step - loss: 0.3883 - accuracy: 0.8360\n",
            "Epoch 16/150\n",
            "178/178 [==============================] - 0s 2ms/step - loss: 0.3872 - accuracy: 0.8350\n",
            "Epoch 17/150\n",
            "178/178 [==============================] - 0s 1ms/step - loss: 0.3802 - accuracy: 0.8361\n",
            "Epoch 18/150\n",
            "178/178 [==============================] - 0s 1ms/step - loss: 0.3787 - accuracy: 0.8359\n",
            "Epoch 19/150\n",
            "178/178 [==============================] - 0s 1ms/step - loss: 0.3818 - accuracy: 0.8347\n",
            "Epoch 20/150\n",
            "178/178 [==============================] - 0s 1ms/step - loss: 0.3809 - accuracy: 0.8381\n",
            "Epoch 21/150\n",
            "178/178 [==============================] - 0s 2ms/step - loss: 0.3841 - accuracy: 0.8405\n",
            "Epoch 22/150\n",
            "178/178 [==============================] - 0s 1ms/step - loss: 0.3783 - accuracy: 0.8363\n",
            "Epoch 23/150\n",
            "178/178 [==============================] - 0s 1ms/step - loss: 0.3782 - accuracy: 0.8379\n",
            "Epoch 24/150\n",
            "178/178 [==============================] - 0s 1ms/step - loss: 0.3851 - accuracy: 0.8376\n",
            "Epoch 25/150\n",
            "178/178 [==============================] - 0s 1ms/step - loss: 0.3867 - accuracy: 0.8371\n",
            "Epoch 26/150\n",
            "178/178 [==============================] - 0s 1ms/step - loss: 0.3863 - accuracy: 0.8363\n",
            "Epoch 27/150\n",
            "178/178 [==============================] - 0s 1ms/step - loss: 0.3823 - accuracy: 0.8380\n",
            "Epoch 28/150\n",
            "178/178 [==============================] - 0s 1ms/step - loss: 0.3889 - accuracy: 0.8369\n",
            "Epoch 29/150\n",
            "178/178 [==============================] - 0s 1ms/step - loss: 0.3826 - accuracy: 0.8395\n",
            "Epoch 30/150\n",
            "178/178 [==============================] - 0s 1ms/step - loss: 0.3910 - accuracy: 0.8386\n",
            "Epoch 31/150\n",
            "178/178 [==============================] - 0s 1ms/step - loss: 0.3813 - accuracy: 0.8367\n",
            "Epoch 32/150\n",
            "178/178 [==============================] - 0s 1ms/step - loss: 0.3839 - accuracy: 0.8393\n",
            "Epoch 33/150\n",
            "178/178 [==============================] - 0s 1ms/step - loss: 0.3816 - accuracy: 0.8411\n",
            "Epoch 34/150\n",
            "178/178 [==============================] - 0s 1ms/step - loss: 0.3870 - accuracy: 0.8380\n",
            "Epoch 35/150\n",
            "178/178 [==============================] - 0s 1ms/step - loss: 0.3805 - accuracy: 0.8372\n",
            "Epoch 36/150\n",
            "178/178 [==============================] - 0s 1ms/step - loss: 0.3831 - accuracy: 0.8376\n",
            "Epoch 37/150\n",
            "178/178 [==============================] - 0s 1ms/step - loss: 0.3879 - accuracy: 0.8375\n",
            "Epoch 38/150\n",
            "178/178 [==============================] - 0s 1ms/step - loss: 0.3821 - accuracy: 0.8396\n",
            "Epoch 39/150\n",
            "178/178 [==============================] - 0s 1ms/step - loss: 0.3863 - accuracy: 0.8338\n",
            "Epoch 40/150\n",
            "178/178 [==============================] - 0s 1ms/step - loss: 0.3866 - accuracy: 0.8384\n",
            "Epoch 41/150\n",
            "178/178 [==============================] - 0s 1ms/step - loss: 0.3793 - accuracy: 0.8366\n",
            "Epoch 42/150\n",
            "178/178 [==============================] - 0s 1ms/step - loss: 0.3878 - accuracy: 0.8384\n",
            "Epoch 43/150\n",
            "178/178 [==============================] - 0s 1ms/step - loss: 0.3827 - accuracy: 0.8390\n",
            "Epoch 44/150\n",
            "178/178 [==============================] - 0s 1ms/step - loss: 0.3865 - accuracy: 0.8382\n",
            "Epoch 45/150\n",
            "178/178 [==============================] - 0s 1ms/step - loss: 0.3938 - accuracy: 0.8386\n",
            "Epoch 46/150\n",
            "178/178 [==============================] - 0s 2ms/step - loss: 0.3823 - accuracy: 0.8384\n",
            "Epoch 47/150\n",
            "178/178 [==============================] - 0s 1ms/step - loss: 0.3850 - accuracy: 0.8366\n",
            "Epoch 48/150\n",
            "178/178 [==============================] - 0s 1ms/step - loss: 0.3876 - accuracy: 0.8361\n",
            "Epoch 49/150\n",
            "178/178 [==============================] - 0s 1ms/step - loss: 0.3852 - accuracy: 0.8375\n",
            "Epoch 50/150\n",
            "178/178 [==============================] - 0s 1ms/step - loss: 0.3885 - accuracy: 0.8359\n",
            "Epoch 51/150\n",
            "178/178 [==============================] - 0s 1ms/step - loss: 0.3849 - accuracy: 0.8380\n",
            "Epoch 52/150\n",
            "178/178 [==============================] - 0s 2ms/step - loss: 0.3861 - accuracy: 0.8382\n",
            "Epoch 53/150\n",
            "178/178 [==============================] - 0s 1ms/step - loss: 0.3850 - accuracy: 0.8384\n",
            "Epoch 54/150\n",
            "178/178 [==============================] - 0s 1ms/step - loss: 0.3852 - accuracy: 0.8401\n",
            "Epoch 55/150\n",
            "178/178 [==============================] - 0s 1ms/step - loss: 0.3795 - accuracy: 0.8391\n",
            "Epoch 56/150\n",
            "178/178 [==============================] - 0s 2ms/step - loss: 0.3897 - accuracy: 0.8400\n",
            "Epoch 57/150\n",
            "178/178 [==============================] - 0s 1ms/step - loss: 0.3883 - accuracy: 0.8407\n",
            "Epoch 58/150\n",
            "178/178 [==============================] - 0s 1ms/step - loss: 0.3920 - accuracy: 0.8378\n",
            "Epoch 59/150\n",
            "178/178 [==============================] - 0s 1ms/step - loss: 0.3835 - accuracy: 0.8394\n",
            "Epoch 60/150\n",
            "178/178 [==============================] - 0s 1ms/step - loss: 0.3863 - accuracy: 0.8394\n",
            "Epoch 61/150\n",
            "178/178 [==============================] - 0s 1ms/step - loss: 0.3945 - accuracy: 0.8378\n",
            "Epoch 62/150\n",
            "178/178 [==============================] - 0s 2ms/step - loss: 0.3859 - accuracy: 0.8366\n",
            "Epoch 63/150\n",
            "178/178 [==============================] - 0s 2ms/step - loss: 0.3814 - accuracy: 0.8388\n",
            "Epoch 64/150\n",
            "178/178 [==============================] - 0s 2ms/step - loss: 0.3822 - accuracy: 0.8384\n",
            "Epoch 65/150\n",
            "178/178 [==============================] - 0s 1ms/step - loss: 0.3915 - accuracy: 0.8374\n",
            "Epoch 66/150\n",
            "178/178 [==============================] - 0s 1ms/step - loss: 0.3945 - accuracy: 0.8388\n",
            "Epoch 67/150\n",
            "178/178 [==============================] - 0s 1ms/step - loss: 0.3921 - accuracy: 0.8375\n",
            "Epoch 68/150\n",
            "178/178 [==============================] - 0s 1ms/step - loss: 0.3861 - accuracy: 0.8393\n",
            "Epoch 69/150\n",
            "178/178 [==============================] - 0s 1ms/step - loss: 0.3834 - accuracy: 0.8413\n",
            "Epoch 70/150\n",
            "178/178 [==============================] - 0s 1ms/step - loss: 0.3891 - accuracy: 0.8370\n",
            "Epoch 71/150\n",
            "178/178 [==============================] - 0s 2ms/step - loss: 0.3957 - accuracy: 0.8378\n",
            "Epoch 72/150\n",
            "178/178 [==============================] - 0s 2ms/step - loss: 0.3852 - accuracy: 0.8385\n",
            "Epoch 73/150\n",
            "178/178 [==============================] - 0s 1ms/step - loss: 0.3895 - accuracy: 0.8386\n",
            "Epoch 74/150\n",
            "178/178 [==============================] - 0s 1ms/step - loss: 0.3818 - accuracy: 0.8386\n",
            "Epoch 75/150\n",
            "178/178 [==============================] - 0s 1ms/step - loss: 0.3857 - accuracy: 0.8388\n",
            "Epoch 76/150\n",
            "178/178 [==============================] - 0s 1ms/step - loss: 0.3850 - accuracy: 0.8378\n",
            "Epoch 77/150\n",
            "178/178 [==============================] - 0s 1ms/step - loss: 0.3792 - accuracy: 0.8389\n",
            "Epoch 78/150\n",
            "178/178 [==============================] - 0s 1ms/step - loss: 0.3759 - accuracy: 0.8378\n",
            "Epoch 79/150\n",
            "178/178 [==============================] - 0s 2ms/step - loss: 0.3861 - accuracy: 0.8381\n",
            "Epoch 80/150\n",
            "178/178 [==============================] - 0s 2ms/step - loss: 0.3834 - accuracy: 0.8359\n",
            "Epoch 81/150\n",
            "178/178 [==============================] - 0s 2ms/step - loss: 0.3814 - accuracy: 0.8385\n",
            "Epoch 82/150\n",
            "178/178 [==============================] - 0s 2ms/step - loss: 0.3794 - accuracy: 0.8403\n",
            "Epoch 83/150\n",
            "178/178 [==============================] - 0s 1ms/step - loss: 0.3844 - accuracy: 0.8406\n",
            "Epoch 84/150\n",
            "178/178 [==============================] - 0s 1ms/step - loss: 0.3843 - accuracy: 0.8415\n",
            "Epoch 85/150\n",
            "178/178 [==============================] - 0s 1ms/step - loss: 0.3866 - accuracy: 0.8388\n",
            "Epoch 86/150\n",
            "178/178 [==============================] - 0s 2ms/step - loss: 0.3776 - accuracy: 0.8371\n",
            "Epoch 87/150\n",
            "178/178 [==============================] - 0s 1ms/step - loss: 0.3858 - accuracy: 0.8394\n",
            "Epoch 88/150\n",
            "178/178 [==============================] - 0s 1ms/step - loss: 0.3860 - accuracy: 0.8375\n",
            "Epoch 89/150\n",
            "178/178 [==============================] - 0s 1ms/step - loss: 0.3803 - accuracy: 0.8400\n",
            "Epoch 90/150\n",
            "178/178 [==============================] - 0s 1ms/step - loss: 0.3841 - accuracy: 0.8395\n",
            "Epoch 91/150\n",
            "178/178 [==============================] - 0s 1ms/step - loss: 0.3807 - accuracy: 0.8413\n",
            "Epoch 92/150\n",
            "178/178 [==============================] - 0s 1ms/step - loss: 0.3797 - accuracy: 0.8389\n",
            "Epoch 93/150\n",
            "178/178 [==============================] - 0s 2ms/step - loss: 0.3825 - accuracy: 0.8410\n",
            "Epoch 94/150\n",
            "178/178 [==============================] - 0s 1ms/step - loss: 0.3889 - accuracy: 0.8365\n",
            "Epoch 95/150\n",
            "178/178 [==============================] - 0s 1ms/step - loss: 0.3857 - accuracy: 0.8397\n",
            "Epoch 96/150\n",
            "178/178 [==============================] - 0s 1ms/step - loss: 0.3791 - accuracy: 0.8418\n",
            "Epoch 97/150\n",
            "178/178 [==============================] - 0s 1ms/step - loss: 0.3742 - accuracy: 0.8391\n",
            "Epoch 98/150\n",
            "178/178 [==============================] - 0s 2ms/step - loss: 0.3836 - accuracy: 0.8403\n",
            "Epoch 99/150\n",
            "178/178 [==============================] - 0s 2ms/step - loss: 0.3762 - accuracy: 0.8407\n",
            "Epoch 100/150\n",
            "178/178 [==============================] - 0s 2ms/step - loss: 0.3843 - accuracy: 0.8405\n",
            "Epoch 101/150\n",
            "178/178 [==============================] - 0s 2ms/step - loss: 0.3828 - accuracy: 0.8367\n",
            "Epoch 102/150\n",
            "178/178 [==============================] - 0s 1ms/step - loss: 0.3797 - accuracy: 0.8365\n",
            "Epoch 103/150\n",
            "178/178 [==============================] - 0s 2ms/step - loss: 0.3836 - accuracy: 0.8389\n",
            "Epoch 104/150\n",
            "178/178 [==============================] - 0s 1ms/step - loss: 0.3806 - accuracy: 0.8355\n",
            "Epoch 105/150\n",
            "178/178 [==============================] - 0s 1ms/step - loss: 0.3808 - accuracy: 0.8374\n",
            "Epoch 106/150\n",
            "178/178 [==============================] - 0s 1ms/step - loss: 0.3785 - accuracy: 0.8371\n",
            "Epoch 107/150\n",
            "178/178 [==============================] - 0s 2ms/step - loss: 0.3830 - accuracy: 0.8404\n",
            "Epoch 108/150\n",
            "178/178 [==============================] - 0s 1ms/step - loss: 0.3819 - accuracy: 0.8360\n",
            "Epoch 109/150\n",
            "178/178 [==============================] - 0s 1ms/step - loss: 0.3851 - accuracy: 0.8364\n",
            "Epoch 110/150\n",
            "178/178 [==============================] - 0s 1ms/step - loss: 0.3898 - accuracy: 0.8354\n",
            "Epoch 111/150\n",
            "178/178 [==============================] - 0s 2ms/step - loss: 0.3856 - accuracy: 0.8396\n",
            "Epoch 112/150\n",
            "178/178 [==============================] - 0s 1ms/step - loss: 0.3775 - accuracy: 0.8375\n",
            "Epoch 113/150\n",
            "178/178 [==============================] - 0s 2ms/step - loss: 0.3875 - accuracy: 0.8391\n",
            "Epoch 114/150\n",
            "178/178 [==============================] - 0s 1ms/step - loss: 0.3828 - accuracy: 0.8395\n",
            "Epoch 115/150\n",
            "178/178 [==============================] - 0s 1ms/step - loss: 0.3803 - accuracy: 0.8374\n",
            "Epoch 116/150\n",
            "178/178 [==============================] - 0s 2ms/step - loss: 0.3795 - accuracy: 0.8386\n",
            "Epoch 117/150\n",
            "178/178 [==============================] - 0s 2ms/step - loss: 0.3830 - accuracy: 0.8390\n",
            "Epoch 118/150\n",
            "178/178 [==============================] - 0s 1ms/step - loss: 0.3847 - accuracy: 0.8361\n",
            "Epoch 119/150\n",
            "178/178 [==============================] - 0s 2ms/step - loss: 0.3761 - accuracy: 0.8401\n",
            "Epoch 120/150\n",
            "178/178 [==============================] - 0s 1ms/step - loss: 0.3885 - accuracy: 0.8367\n",
            "Epoch 121/150\n",
            "178/178 [==============================] - 0s 1ms/step - loss: 0.3823 - accuracy: 0.8391\n",
            "Epoch 122/150\n",
            "178/178 [==============================] - 0s 2ms/step - loss: 0.3819 - accuracy: 0.8400\n",
            "Epoch 123/150\n",
            "178/178 [==============================] - 0s 1ms/step - loss: 0.3880 - accuracy: 0.8397\n",
            "Epoch 124/150\n",
            "178/178 [==============================] - 0s 1ms/step - loss: 0.3838 - accuracy: 0.8389\n",
            "Epoch 125/150\n",
            "178/178 [==============================] - 0s 1ms/step - loss: 0.3902 - accuracy: 0.8372\n",
            "Epoch 126/150\n",
            "178/178 [==============================] - 0s 1ms/step - loss: 0.3808 - accuracy: 0.8380\n",
            "Epoch 127/150\n",
            "178/178 [==============================] - 0s 2ms/step - loss: 0.3798 - accuracy: 0.8367\n",
            "Epoch 128/150\n",
            "178/178 [==============================] - 0s 2ms/step - loss: 0.3837 - accuracy: 0.8359\n",
            "Epoch 129/150\n",
            "178/178 [==============================] - 0s 1ms/step - loss: 0.3805 - accuracy: 0.8388\n",
            "Epoch 130/150\n",
            "178/178 [==============================] - 0s 1ms/step - loss: 0.3832 - accuracy: 0.8393\n",
            "Epoch 131/150\n",
            "178/178 [==============================] - 0s 2ms/step - loss: 0.3792 - accuracy: 0.8388\n",
            "Epoch 132/150\n",
            "178/178 [==============================] - 0s 2ms/step - loss: 0.3800 - accuracy: 0.8388\n",
            "Epoch 133/150\n",
            "178/178 [==============================] - 0s 1ms/step - loss: 0.3774 - accuracy: 0.8356\n",
            "Epoch 134/150\n",
            "178/178 [==============================] - 0s 1ms/step - loss: 0.3798 - accuracy: 0.8434\n",
            "Epoch 135/150\n",
            "178/178 [==============================] - 0s 2ms/step - loss: 0.3787 - accuracy: 0.8409\n",
            "Epoch 136/150\n",
            "178/178 [==============================] - 0s 2ms/step - loss: 0.3890 - accuracy: 0.8356\n",
            "Epoch 137/150\n",
            "178/178 [==============================] - 0s 1ms/step - loss: 0.3742 - accuracy: 0.8405\n",
            "Epoch 138/150\n",
            "178/178 [==============================] - 0s 2ms/step - loss: 0.3864 - accuracy: 0.8393\n",
            "Epoch 139/150\n",
            "178/178 [==============================] - 0s 2ms/step - loss: 0.3780 - accuracy: 0.8422\n",
            "Epoch 140/150\n",
            "178/178 [==============================] - 0s 1ms/step - loss: 0.3873 - accuracy: 0.8367\n",
            "Epoch 141/150\n",
            "178/178 [==============================] - 0s 1ms/step - loss: 0.3793 - accuracy: 0.8389\n",
            "Epoch 142/150\n",
            "178/178 [==============================] - 0s 1ms/step - loss: 0.3834 - accuracy: 0.8439\n",
            "Epoch 143/150\n",
            "178/178 [==============================] - 0s 1ms/step - loss: 0.3832 - accuracy: 0.8415\n",
            "Epoch 144/150\n",
            "178/178 [==============================] - 0s 1ms/step - loss: 0.3838 - accuracy: 0.8420\n",
            "Epoch 145/150\n",
            "178/178 [==============================] - 0s 2ms/step - loss: 0.3849 - accuracy: 0.8426\n",
            "Epoch 146/150\n",
            "178/178 [==============================] - 0s 1ms/step - loss: 0.3762 - accuracy: 0.8421\n",
            "Epoch 147/150\n",
            "178/178 [==============================] - 0s 1ms/step - loss: 0.3789 - accuracy: 0.8438\n",
            "Epoch 148/150\n",
            "178/178 [==============================] - 0s 1ms/step - loss: 0.3851 - accuracy: 0.8441\n",
            "Epoch 149/150\n",
            "178/178 [==============================] - 0s 1ms/step - loss: 0.3972 - accuracy: 0.8446\n",
            "Epoch 150/150\n",
            "178/178 [==============================] - 0s 2ms/step - loss: 0.3937 - accuracy: 0.8430\n",
            "CPU times: user 58 s, sys: 4.36 s, total: 1min 2s\n",
            "Wall time: 37min 3s\n"
          ],
          "name": "stdout"
        }
      ]
    },
    {
      "cell_type": "code",
      "metadata": {
        "colab": {
          "base_uri": "https://localhost:8080/"
        },
        "id": "-RdlLvepdBP7",
        "outputId": "59453172-f54f-47b5-924d-0cc25d78873c"
      },
      "source": [
        "print('Best params:\\n',halving_cv.best_params_,'\\nBest accuracy:\\n',halving_cv.best_score_)"
      ],
      "execution_count": 27,
      "outputs": [
        {
          "output_type": "stream",
          "text": [
            "Best params:\n",
            " {'batch_size': 45, 'epochs': 150, 'optimizer': 'rmsprop'} \n",
            "Best accuracy:\n",
            " 0.8500625782227784\n"
          ],
          "name": "stdout"
        }
      ]
    },
    {
      "cell_type": "markdown",
      "metadata": {
        "id": "b51wiJ7hdBP8"
      },
      "source": [
        "# FIM"
      ]
    },
    {
      "cell_type": "markdown",
      "metadata": {
        "id": "F6mBnb2EdBP9"
      },
      "source": [
        "> Professor Diego Dorgam  \n",
        "> [@diegodorgam](https://twitter.com/diegodorgam)"
      ]
    }
  ]
}