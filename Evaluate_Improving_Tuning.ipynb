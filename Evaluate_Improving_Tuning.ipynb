{
 "cells": [
  {
   "cell_type": "markdown",
   "source": [
    "# REDES NEURAIS ARTIFICIAIS\n",
    "## Evaluate Improve e Tunning"
   ],
   "metadata": {}
  },
  {
   "cell_type": "markdown",
   "source": [
    "# Parte 1 - Pré-processamento dos Dados"
   ],
   "metadata": {}
  },
  {
   "cell_type": "markdown",
   "source": [
    "### Importar as libs"
   ],
   "metadata": {}
  },
  {
   "cell_type": "code",
   "execution_count": 1,
   "source": [
    "import numpy as np\r\n",
    "import pandas as pd\r\n",
    "import tensorflow as tf"
   ],
   "outputs": [],
   "metadata": {
    "colab": {},
    "colab_type": "code",
    "id": "MxkJoQBkUIHC"
   }
  },
  {
   "cell_type": "code",
   "execution_count": 2,
   "source": [
    "tf.__version__"
   ],
   "outputs": [
    {
     "output_type": "execute_result",
     "data": {
      "text/plain": [
       "'2.5.0'"
      ]
     },
     "metadata": {},
     "execution_count": 2
    }
   ],
   "metadata": {
    "colab": {
     "base_uri": "https://localhost:8080/",
     "height": 34
    },
    "colab_type": "code",
    "id": "ZaTwK7ojXr2F",
    "outputId": "0b27a96d-d11a-43e8-ab4b-87c1f01896fe"
   }
  },
  {
   "cell_type": "markdown",
   "source": [
    "### Importar o dataset"
   ],
   "metadata": {}
  },
  {
   "cell_type": "code",
   "execution_count": 3,
   "source": [
    "dataset = pd.read_csv('Churn_Modelling.csv')\r\n",
    "dataset.head()"
   ],
   "outputs": [
    {
     "output_type": "execute_result",
     "data": {
      "text/plain": [
       "   RowNumber  CustomerId   Surname  CreditScore Geography  Gender  Age  \\\n",
       "0          1    15634602  Hargrave          619    France  Female   42   \n",
       "1          2    15647311      Hill          608     Spain  Female   41   \n",
       "2          3    15619304      Onio          502    France  Female   42   \n",
       "3          4    15701354      Boni          699    France  Female   39   \n",
       "4          5    15737888  Mitchell          850     Spain  Female   43   \n",
       "\n",
       "   Tenure    Balance  NumOfProducts  HasCrCard  IsActiveMember  \\\n",
       "0       2       0.00              1          1               1   \n",
       "1       1   83807.86              1          0               1   \n",
       "2       8  159660.80              3          1               0   \n",
       "3       1       0.00              2          0               0   \n",
       "4       2  125510.82              1          1               1   \n",
       "\n",
       "   EstimatedSalary  Exited  \n",
       "0        101348.88       1  \n",
       "1        112542.58       0  \n",
       "2        113931.57       1  \n",
       "3         93826.63       0  \n",
       "4         79084.10       0  "
      ],
      "text/html": [
       "<div>\n",
       "<style scoped>\n",
       "    .dataframe tbody tr th:only-of-type {\n",
       "        vertical-align: middle;\n",
       "    }\n",
       "\n",
       "    .dataframe tbody tr th {\n",
       "        vertical-align: top;\n",
       "    }\n",
       "\n",
       "    .dataframe thead th {\n",
       "        text-align: right;\n",
       "    }\n",
       "</style>\n",
       "<table border=\"1\" class=\"dataframe\">\n",
       "  <thead>\n",
       "    <tr style=\"text-align: right;\">\n",
       "      <th></th>\n",
       "      <th>RowNumber</th>\n",
       "      <th>CustomerId</th>\n",
       "      <th>Surname</th>\n",
       "      <th>CreditScore</th>\n",
       "      <th>Geography</th>\n",
       "      <th>Gender</th>\n",
       "      <th>Age</th>\n",
       "      <th>Tenure</th>\n",
       "      <th>Balance</th>\n",
       "      <th>NumOfProducts</th>\n",
       "      <th>HasCrCard</th>\n",
       "      <th>IsActiveMember</th>\n",
       "      <th>EstimatedSalary</th>\n",
       "      <th>Exited</th>\n",
       "    </tr>\n",
       "  </thead>\n",
       "  <tbody>\n",
       "    <tr>\n",
       "      <th>0</th>\n",
       "      <td>1</td>\n",
       "      <td>15634602</td>\n",
       "      <td>Hargrave</td>\n",
       "      <td>619</td>\n",
       "      <td>France</td>\n",
       "      <td>Female</td>\n",
       "      <td>42</td>\n",
       "      <td>2</td>\n",
       "      <td>0.00</td>\n",
       "      <td>1</td>\n",
       "      <td>1</td>\n",
       "      <td>1</td>\n",
       "      <td>101348.88</td>\n",
       "      <td>1</td>\n",
       "    </tr>\n",
       "    <tr>\n",
       "      <th>1</th>\n",
       "      <td>2</td>\n",
       "      <td>15647311</td>\n",
       "      <td>Hill</td>\n",
       "      <td>608</td>\n",
       "      <td>Spain</td>\n",
       "      <td>Female</td>\n",
       "      <td>41</td>\n",
       "      <td>1</td>\n",
       "      <td>83807.86</td>\n",
       "      <td>1</td>\n",
       "      <td>0</td>\n",
       "      <td>1</td>\n",
       "      <td>112542.58</td>\n",
       "      <td>0</td>\n",
       "    </tr>\n",
       "    <tr>\n",
       "      <th>2</th>\n",
       "      <td>3</td>\n",
       "      <td>15619304</td>\n",
       "      <td>Onio</td>\n",
       "      <td>502</td>\n",
       "      <td>France</td>\n",
       "      <td>Female</td>\n",
       "      <td>42</td>\n",
       "      <td>8</td>\n",
       "      <td>159660.80</td>\n",
       "      <td>3</td>\n",
       "      <td>1</td>\n",
       "      <td>0</td>\n",
       "      <td>113931.57</td>\n",
       "      <td>1</td>\n",
       "    </tr>\n",
       "    <tr>\n",
       "      <th>3</th>\n",
       "      <td>4</td>\n",
       "      <td>15701354</td>\n",
       "      <td>Boni</td>\n",
       "      <td>699</td>\n",
       "      <td>France</td>\n",
       "      <td>Female</td>\n",
       "      <td>39</td>\n",
       "      <td>1</td>\n",
       "      <td>0.00</td>\n",
       "      <td>2</td>\n",
       "      <td>0</td>\n",
       "      <td>0</td>\n",
       "      <td>93826.63</td>\n",
       "      <td>0</td>\n",
       "    </tr>\n",
       "    <tr>\n",
       "      <th>4</th>\n",
       "      <td>5</td>\n",
       "      <td>15737888</td>\n",
       "      <td>Mitchell</td>\n",
       "      <td>850</td>\n",
       "      <td>Spain</td>\n",
       "      <td>Female</td>\n",
       "      <td>43</td>\n",
       "      <td>2</td>\n",
       "      <td>125510.82</td>\n",
       "      <td>1</td>\n",
       "      <td>1</td>\n",
       "      <td>1</td>\n",
       "      <td>79084.10</td>\n",
       "      <td>0</td>\n",
       "    </tr>\n",
       "  </tbody>\n",
       "</table>\n",
       "</div>"
      ]
     },
     "metadata": {},
     "execution_count": 3
    }
   ],
   "metadata": {}
  },
  {
   "cell_type": "code",
   "execution_count": 4,
   "source": [
    "X = dataset.iloc[:, 3:13].values\r\n",
    "y = dataset.iloc[:, 13].values\r\n",
    "print(\"X >>\\n\",X)\r\n",
    "print(\"y >>\\n\",y)"
   ],
   "outputs": [
    {
     "output_type": "stream",
     "name": "stdout",
     "text": [
      "X >>\n",
      " [[619 'France' 'Female' ... 1 1 101348.88]\n",
      " [608 'Spain' 'Female' ... 0 1 112542.58]\n",
      " [502 'France' 'Female' ... 1 0 113931.57]\n",
      " ...\n",
      " [709 'France' 'Female' ... 0 1 42085.58]\n",
      " [772 'Germany' 'Male' ... 1 0 92888.52]\n",
      " [792 'France' 'Female' ... 1 0 38190.78]]\n",
      "y >>\n",
      " [1 0 1 ... 1 1 0]\n"
     ]
    }
   ],
   "metadata": {}
  },
  {
   "cell_type": "markdown",
   "source": [
    "### Transformando os dados categóricos\n"
   ],
   "metadata": {}
  },
  {
   "cell_type": "code",
   "execution_count": 5,
   "source": [
    "# Label Encoding the \"Gender\" column\r\n",
    "from sklearn.preprocessing import LabelEncoder\r\n",
    "le = LabelEncoder()\r\n",
    "X[:, 2] = le.fit_transform(X[:, 2])\r\n",
    "print(X)\r\n",
    "# One Hot Encoding the \"Geography\" column\r\n",
    "from sklearn.compose import ColumnTransformer\r\n",
    "from sklearn.preprocessing import OneHotEncoder\r\n",
    "ct = ColumnTransformer(transformers=[('encoder', OneHotEncoder(), [1])], remainder='passthrough')\r\n",
    "X = np.array(ct.fit_transform(X))\r\n",
    "print(X)"
   ],
   "outputs": [
    {
     "output_type": "stream",
     "name": "stdout",
     "text": [
      "[[619 'France' 0 ... 1 1 101348.88]\n",
      " [608 'Spain' 0 ... 0 1 112542.58]\n",
      " [502 'France' 0 ... 1 0 113931.57]\n",
      " ...\n",
      " [709 'France' 0 ... 0 1 42085.58]\n",
      " [772 'Germany' 1 ... 1 0 92888.52]\n",
      " [792 'France' 0 ... 1 0 38190.78]]\n",
      "[[1.0 0.0 0.0 ... 1 1 101348.88]\n",
      " [0.0 0.0 1.0 ... 0 1 112542.58]\n",
      " [1.0 0.0 0.0 ... 1 0 113931.57]\n",
      " ...\n",
      " [1.0 0.0 0.0 ... 0 1 42085.58]\n",
      " [0.0 1.0 0.0 ... 1 0 92888.52]\n",
      " [1.0 0.0 0.0 ... 1 0 38190.78]]\n"
     ]
    }
   ],
   "metadata": {}
  },
  {
   "cell_type": "markdown",
   "source": [
    "# Dividindo o dataset em conjunto de treinamento e conjunto de teste"
   ],
   "metadata": {}
  },
  {
   "cell_type": "code",
   "execution_count": 6,
   "source": [
    "from sklearn.model_selection import train_test_split\r\n",
    "X_train, X_test, y_train, y_test = train_test_split(X, y, test_size = 0.2, random_state = 0)"
   ],
   "outputs": [],
   "metadata": {}
  },
  {
   "cell_type": "markdown",
   "source": [
    "# Feature Scaling"
   ],
   "metadata": {}
  },
  {
   "cell_type": "code",
   "execution_count": 7,
   "source": [
    "from sklearn.preprocessing import StandardScaler\r\n",
    "sc = StandardScaler()\r\n",
    "X_train = sc.fit_transform(X_train)\r\n",
    "X_test = sc.transform(X_test)"
   ],
   "outputs": [],
   "metadata": {}
  },
  {
   "cell_type": "code",
   "execution_count": 8,
   "source": [
    "np.shape(X_train)"
   ],
   "outputs": [
    {
     "output_type": "execute_result",
     "data": {
      "text/plain": [
       "(8000, 12)"
      ]
     },
     "metadata": {},
     "execution_count": 8
    }
   ],
   "metadata": {}
  },
  {
   "cell_type": "markdown",
   "source": [
    "---\n",
    "# Parte 2 -Vamos construir uma ANN!\n"
   ],
   "metadata": {}
  },
  {
   "cell_type": "markdown",
   "source": [
    "### Initializing the ANN"
   ],
   "metadata": {
    "colab_type": "text",
    "id": "KvdeScabXtlB"
   }
  },
  {
   "cell_type": "code",
   "execution_count": 9,
   "source": [
    "ann = tf.keras.models.Sequential()"
   ],
   "outputs": [],
   "metadata": {
    "colab": {},
    "colab_type": "code",
    "id": "3dtrScHxXQox"
   }
  },
  {
   "cell_type": "markdown",
   "source": [
    "### Adding the input layer and the first hidden layer"
   ],
   "metadata": {
    "colab_type": "text",
    "id": "rP6urV6SX7kS"
   }
  },
  {
   "cell_type": "code",
   "execution_count": 10,
   "source": [
    "ann.add(tf.keras.layers.Dense(units=6, activation='selu'))"
   ],
   "outputs": [],
   "metadata": {
    "colab": {},
    "colab_type": "code",
    "id": "bppGycBXYCQr"
   }
  },
  {
   "cell_type": "markdown",
   "source": [
    "### Adding the second hidden layer"
   ],
   "metadata": {
    "colab_type": "text",
    "id": "BELWAc_8YJze"
   }
  },
  {
   "cell_type": "code",
   "execution_count": 11,
   "source": [
    "ann.add(tf.keras.layers.Dense(units=6, activation='selu'))"
   ],
   "outputs": [],
   "metadata": {
    "colab": {},
    "colab_type": "code",
    "id": "JneR0u0sYRTd"
   }
  },
  {
   "cell_type": "markdown",
   "source": [
    "### Adding the output layer"
   ],
   "metadata": {
    "colab_type": "text",
    "id": "OyNEe6RXYcU4"
   }
  },
  {
   "cell_type": "code",
   "execution_count": 12,
   "source": [
    "ann.add(tf.keras.layers.Dense(units=1, activation='softplus'))"
   ],
   "outputs": [],
   "metadata": {
    "colab": {},
    "colab_type": "code",
    "id": "Cn3x41RBYfvY"
   }
  },
  {
   "cell_type": "markdown",
   "source": [
    "## Part 3 - Training the ANN"
   ],
   "metadata": {
    "colab_type": "text",
    "id": "JT4u2S1_Y4WG"
   }
  },
  {
   "cell_type": "markdown",
   "source": [
    "### Compiling the ANN"
   ],
   "metadata": {
    "colab_type": "text",
    "id": "8GWlJChhY_ZI"
   }
  },
  {
   "cell_type": "code",
   "execution_count": 13,
   "source": [
    "ann.compile(optimizer = 'adam', loss = 'binary_crossentropy', metrics = ['accuracy'])"
   ],
   "outputs": [],
   "metadata": {
    "colab": {},
    "colab_type": "code",
    "id": "fG3RrwDXZEaS"
   }
  },
  {
   "cell_type": "markdown",
   "source": [
    "### Training the ANN on the Training set"
   ],
   "metadata": {
    "colab_type": "text",
    "id": "0QR_G5u7ZLSM"
   }
  },
  {
   "cell_type": "code",
   "execution_count": 14,
   "source": [
    "ann.fit(X_train, y_train, batch_size = 32, epochs = 100)"
   ],
   "outputs": [
    {
     "output_type": "stream",
     "name": "stdout",
     "text": [
      "Epoch 1/100\n",
      "250/250 [==============================] - 1s 803us/step - loss: 3.8784 - accuracy: 0.3556\n",
      "Epoch 2/100\n",
      "250/250 [==============================] - 0s 843us/step - loss: 3.8329 - accuracy: 0.3582\n",
      "Epoch 3/100\n",
      "250/250 [==============================] - 0s 835us/step - loss: 3.7784 - accuracy: 0.3598\n",
      "Epoch 4/100\n",
      "250/250 [==============================] - 0s 843us/step - loss: 3.7076 - accuracy: 0.3616\n",
      "Epoch 5/100\n",
      "250/250 [==============================] - 0s 823us/step - loss: 3.6165 - accuracy: 0.3629\n",
      "Epoch 6/100\n",
      "250/250 [==============================] - 0s 839us/step - loss: 3.5506 - accuracy: 0.3655\n",
      "Epoch 7/100\n",
      "250/250 [==============================] - 0s 759us/step - loss: 3.3316 - accuracy: 0.3767\n",
      "Epoch 8/100\n",
      "250/250 [==============================] - 0s 799us/step - loss: 3.1058 - accuracy: 0.3832\n",
      "Epoch 9/100\n",
      "250/250 [==============================] - 0s 739us/step - loss: 2.9034 - accuracy: 0.3887\n",
      "Epoch 10/100\n",
      "250/250 [==============================] - 0s 839us/step - loss: 2.7904 - accuracy: 0.3929\n",
      "Epoch 11/100\n",
      "250/250 [==============================] - 0s 771us/step - loss: 2.5512 - accuracy: 0.4004\n",
      "Epoch 12/100\n",
      "250/250 [==============================] - 0s 727us/step - loss: 2.3410 - accuracy: 0.4079\n",
      "Epoch 13/100\n",
      "250/250 [==============================] - 0s 711us/step - loss: 2.0182 - accuracy: 0.4260\n",
      "Epoch 14/100\n",
      "250/250 [==============================] - 0s 695us/step - loss: 1.6876 - accuracy: 0.4509\n",
      "Epoch 15/100\n",
      "250/250 [==============================] - 0s 707us/step - loss: 1.5754 - accuracy: 0.4596\n",
      "Epoch 16/100\n",
      "250/250 [==============================] - 0s 719us/step - loss: 1.4602 - accuracy: 0.4692\n",
      "Epoch 17/100\n",
      "250/250 [==============================] - 0s 747us/step - loss: 1.3093 - accuracy: 0.4803\n",
      "Epoch 18/100\n",
      "250/250 [==============================] - 0s 707us/step - loss: 1.1981 - accuracy: 0.4894\n",
      "Epoch 19/100\n",
      "250/250 [==============================] - 0s 707us/step - loss: 1.0835 - accuracy: 0.5004\n",
      "Epoch 20/100\n",
      "250/250 [==============================] - 0s 711us/step - loss: 0.9609 - accuracy: 0.5146\n",
      "Epoch 21/100\n",
      "250/250 [==============================] - 0s 723us/step - loss: 0.7561 - accuracy: 0.5543\n",
      "Epoch 22/100\n",
      "250/250 [==============================] - 0s 763us/step - loss: 0.7182 - accuracy: 0.5707\n",
      "Epoch 23/100\n",
      "250/250 [==============================] - 0s 715us/step - loss: 0.7019 - accuracy: 0.5828\n",
      "Epoch 24/100\n",
      "250/250 [==============================] - 0s 703us/step - loss: 0.6878 - accuracy: 0.5938\n",
      "Epoch 25/100\n",
      "250/250 [==============================] - 0s 699us/step - loss: 0.6751 - accuracy: 0.6011\n",
      "Epoch 26/100\n",
      "250/250 [==============================] - 0s 731us/step - loss: 0.6639 - accuracy: 0.6130\n",
      "Epoch 27/100\n",
      "250/250 [==============================] - 0s 715us/step - loss: 0.6528 - accuracy: 0.6244\n",
      "Epoch 28/100\n",
      "250/250 [==============================] - 0s 719us/step - loss: 0.6417 - accuracy: 0.6369\n",
      "Epoch 29/100\n",
      "250/250 [==============================] - 0s 703us/step - loss: 0.6291 - accuracy: 0.6524\n",
      "Epoch 30/100\n",
      "250/250 [==============================] - 0s 711us/step - loss: 0.6176 - accuracy: 0.6704\n",
      "Epoch 31/100\n",
      "250/250 [==============================] - 0s 723us/step - loss: 0.6062 - accuracy: 0.6850\n",
      "Epoch 32/100\n",
      "250/250 [==============================] - 0s 739us/step - loss: 0.5933 - accuracy: 0.7025\n",
      "Epoch 33/100\n",
      "250/250 [==============================] - 0s 759us/step - loss: 0.5802 - accuracy: 0.7186\n",
      "Epoch 34/100\n",
      "250/250 [==============================] - 0s 719us/step - loss: 0.5687 - accuracy: 0.7325\n",
      "Epoch 35/100\n",
      "250/250 [==============================] - 0s 747us/step - loss: 0.5574 - accuracy: 0.7434\n",
      "Epoch 36/100\n",
      "250/250 [==============================] - 0s 723us/step - loss: 0.5463 - accuracy: 0.7555\n",
      "Epoch 37/100\n",
      "250/250 [==============================] - 0s 787us/step - loss: 0.5355 - accuracy: 0.7667\n",
      "Epoch 38/100\n",
      "250/250 [==============================] - 0s 747us/step - loss: 0.5251 - accuracy: 0.7749\n",
      "Epoch 39/100\n",
      "250/250 [==============================] - 0s 914us/step - loss: 0.5150 - accuracy: 0.7795\n",
      "Epoch 40/100\n",
      "250/250 [==============================] - 0s 789us/step - loss: 0.5054 - accuracy: 0.7843\n",
      "Epoch 41/100\n",
      "250/250 [==============================] - 0s 755us/step - loss: 0.4963 - accuracy: 0.7875\n",
      "Epoch 42/100\n",
      "250/250 [==============================] - 0s 759us/step - loss: 0.4878 - accuracy: 0.7906\n",
      "Epoch 43/100\n",
      "250/250 [==============================] - 0s 827us/step - loss: 0.4799 - accuracy: 0.7944\n",
      "Epoch 44/100\n",
      "250/250 [==============================] - 0s 751us/step - loss: 0.4726 - accuracy: 0.7947\n",
      "Epoch 45/100\n",
      "250/250 [==============================] - 0s 759us/step - loss: 0.4660 - accuracy: 0.7972\n",
      "Epoch 46/100\n",
      "250/250 [==============================] - 0s 741us/step - loss: 0.4600 - accuracy: 0.7976\n",
      "Epoch 47/100\n",
      "250/250 [==============================] - 0s 759us/step - loss: 0.4548 - accuracy: 0.7981\n",
      "Epoch 48/100\n",
      "250/250 [==============================] - 0s 815us/step - loss: 0.4502 - accuracy: 0.7997\n",
      "Epoch 49/100\n",
      "250/250 [==============================] - 0s 772us/step - loss: 0.4462 - accuracy: 0.8008\n",
      "Epoch 50/100\n",
      "250/250 [==============================] - 0s 775us/step - loss: 0.4432 - accuracy: 0.8015\n",
      "Epoch 51/100\n",
      "250/250 [==============================] - 0s 771us/step - loss: 0.4399 - accuracy: 0.8025\n",
      "Epoch 52/100\n",
      "250/250 [==============================] - 0s 783us/step - loss: 0.4385 - accuracy: 0.8027\n",
      "Epoch 53/100\n",
      "250/250 [==============================] - 0s 803us/step - loss: 0.4359 - accuracy: 0.8025\n",
      "Epoch 54/100\n",
      "250/250 [==============================] - 0s 984us/step - loss: 0.4337 - accuracy: 0.8051\n",
      "Epoch 55/100\n",
      "250/250 [==============================] - 0s 767us/step - loss: 0.4318 - accuracy: 0.8067\n",
      "Epoch 56/100\n",
      "250/250 [==============================] - 0s 771us/step - loss: 0.4300 - accuracy: 0.8080\n",
      "Epoch 57/100\n",
      "250/250 [==============================] - 0s 879us/step - loss: 0.4281 - accuracy: 0.8112\n",
      "Epoch 58/100\n",
      "250/250 [==============================] - 0s 803us/step - loss: 0.4265 - accuracy: 0.8111\n",
      "Epoch 59/100\n",
      "250/250 [==============================] - 0s 779us/step - loss: 0.4248 - accuracy: 0.8135\n",
      "Epoch 60/100\n",
      "250/250 [==============================] - 0s 751us/step - loss: 0.4229 - accuracy: 0.8149\n",
      "Epoch 61/100\n",
      "250/250 [==============================] - 0s 759us/step - loss: 0.4196 - accuracy: 0.8173\n",
      "Epoch 62/100\n",
      "250/250 [==============================] - 0s 763us/step - loss: 0.4173 - accuracy: 0.8173\n",
      "Epoch 63/100\n",
      "250/250 [==============================] - 0s 827us/step - loss: 0.4152 - accuracy: 0.8191\n",
      "Epoch 64/100\n",
      "250/250 [==============================] - 0s 775us/step - loss: 0.4131 - accuracy: 0.8231\n",
      "Epoch 65/100\n",
      "250/250 [==============================] - 0s 779us/step - loss: 0.4112 - accuracy: 0.8236\n",
      "Epoch 66/100\n",
      "250/250 [==============================] - 0s 763us/step - loss: 0.4091 - accuracy: 0.8259\n",
      "Epoch 67/100\n",
      "250/250 [==============================] - 0s 792us/step - loss: 0.4070 - accuracy: 0.8276\n",
      "Epoch 68/100\n",
      "250/250 [==============================] - 0s 900us/step - loss: 0.4049 - accuracy: 0.8295\n",
      "Epoch 69/100\n",
      "250/250 [==============================] - 0s 795us/step - loss: 0.4023 - accuracy: 0.8326\n",
      "Epoch 70/100\n",
      "250/250 [==============================] - 0s 843us/step - loss: 0.3993 - accuracy: 0.8332\n",
      "Epoch 71/100\n",
      "250/250 [==============================] - 0s 819us/step - loss: 0.3968 - accuracy: 0.8335\n",
      "Epoch 72/100\n",
      "250/250 [==============================] - 0s 875us/step - loss: 0.3938 - accuracy: 0.8350\n",
      "Epoch 73/100\n",
      "250/250 [==============================] - 0s 867us/step - loss: 0.3901 - accuracy: 0.8356\n",
      "Epoch 74/100\n",
      "250/250 [==============================] - 0s 992us/step - loss: 0.3852 - accuracy: 0.8391\n",
      "Epoch 75/100\n",
      "250/250 [==============================] - 0s 896us/step - loss: 0.3814 - accuracy: 0.8400\n",
      "Epoch 76/100\n",
      "250/250 [==============================] - 0s 872us/step - loss: 0.3746 - accuracy: 0.8441\n",
      "Epoch 77/100\n",
      "250/250 [==============================] - 0s 851us/step - loss: 0.3688 - accuracy: 0.8460\n",
      "Epoch 78/100\n",
      "250/250 [==============================] - 0s 799us/step - loss: 0.3637 - accuracy: 0.8490\n",
      "Epoch 79/100\n",
      "250/250 [==============================] - 0s 884us/step - loss: 0.3606 - accuracy: 0.8506\n",
      "Epoch 80/100\n",
      "250/250 [==============================] - 0s 787us/step - loss: 0.3558 - accuracy: 0.8536\n",
      "Epoch 81/100\n",
      "250/250 [==============================] - 0s 956us/step - loss: 0.3532 - accuracy: 0.8536\n",
      "Epoch 82/100\n",
      "250/250 [==============================] - 0s 876us/step - loss: 0.3513 - accuracy: 0.8559\n",
      "Epoch 83/100\n",
      "250/250 [==============================] - 0s 771us/step - loss: 0.3537 - accuracy: 0.8553\n",
      "Epoch 84/100\n",
      "250/250 [==============================] - 0s 791us/step - loss: 0.3510 - accuracy: 0.8587\n",
      "Epoch 85/100\n",
      "250/250 [==============================] - 0s 799us/step - loss: 0.3494 - accuracy: 0.8574\n",
      "Epoch 86/100\n",
      "250/250 [==============================] - 0s 863us/step - loss: 0.3486 - accuracy: 0.8577\n",
      "Epoch 87/100\n",
      "250/250 [==============================] - 0s 791us/step - loss: 0.3466 - accuracy: 0.8605\n",
      "Epoch 88/100\n",
      "250/250 [==============================] - 0s 787us/step - loss: 0.3488 - accuracy: 0.8596\n",
      "Epoch 89/100\n",
      "250/250 [==============================] - 0s 819us/step - loss: 0.3530 - accuracy: 0.8586\n",
      "Epoch 90/100\n",
      "250/250 [==============================] - 0s 787us/step - loss: 0.3471 - accuracy: 0.8574\n",
      "Epoch 91/100\n",
      "250/250 [==============================] - 0s 823us/step - loss: 0.3467 - accuracy: 0.8601\n",
      "Epoch 92/100\n",
      "250/250 [==============================] - 0s 811us/step - loss: 0.3440 - accuracy: 0.8587\n",
      "Epoch 93/100\n",
      "250/250 [==============================] - 0s 844us/step - loss: 0.3511 - accuracy: 0.8558\n",
      "Epoch 94/100\n",
      "250/250 [==============================] - 0s 797us/step - loss: 0.3498 - accuracy: 0.8547\n",
      "Epoch 95/100\n",
      "250/250 [==============================] - 0s 751us/step - loss: 0.3427 - accuracy: 0.8595\n",
      "Epoch 96/100\n",
      "250/250 [==============================] - 0s 904us/step - loss: 0.3419 - accuracy: 0.8609\n",
      "Epoch 97/100\n",
      "250/250 [==============================] - 0s 779us/step - loss: 0.3414 - accuracy: 0.8606\n",
      "Epoch 98/100\n",
      "250/250 [==============================] - 0s 787us/step - loss: 0.3438 - accuracy: 0.8615\n",
      "Epoch 99/100\n",
      "250/250 [==============================] - 0s 763us/step - loss: 0.3450 - accuracy: 0.8597\n",
      "Epoch 100/100\n",
      "250/250 [==============================] - 0s 767us/step - loss: 0.3408 - accuracy: 0.8577\n"
     ]
    },
    {
     "output_type": "execute_result",
     "data": {
      "text/plain": [
       "<tensorflow.python.keras.callbacks.History at 0x1d355f6eac8>"
      ]
     },
     "metadata": {},
     "execution_count": 14
    }
   ],
   "metadata": {
    "colab": {
     "base_uri": "https://localhost:8080/",
     "height": 1000
    },
    "colab_type": "code",
    "id": "nHZ-LKv_ZRb3",
    "outputId": "718cc4b0-b5aa-40f0-9b20-d3d31730a531"
   }
  },
  {
   "cell_type": "markdown",
   "source": [
    "# Parte 3 - Fazendo predições e avaliando o modelo\n",
    "\n",
    "## Prevendo os resultados com o conjunto de testes"
   ],
   "metadata": {}
  },
  {
   "cell_type": "code",
   "execution_count": 15,
   "source": [
    "y_pred = ann.predict(X_test)\r\n",
    "y_pred"
   ],
   "outputs": [
    {
     "output_type": "execute_result",
     "data": {
      "text/plain": [
       "array([[0.33065453],\n",
       "       [0.35497347],\n",
       "       [0.22410746],\n",
       "       ...,\n",
       "       [0.26612616],\n",
       "       [0.13677408],\n",
       "       [0.17155342]], dtype=float32)"
      ]
     },
     "metadata": {},
     "execution_count": 15
    }
   ],
   "metadata": {}
  },
  {
   "cell_type": "code",
   "execution_count": 16,
   "source": [
    "y_pred = (y_pred > 0.5)\r\n",
    "y_pred"
   ],
   "outputs": [
    {
     "output_type": "execute_result",
     "data": {
      "text/plain": [
       "array([[False],\n",
       "       [False],\n",
       "       [False],\n",
       "       ...,\n",
       "       [False],\n",
       "       [False],\n",
       "       [False]])"
      ]
     },
     "metadata": {},
     "execution_count": 16
    }
   ],
   "metadata": {}
  },
  {
   "cell_type": "markdown",
   "source": [
    "# Criando uma Confusion Matrix"
   ],
   "metadata": {}
  },
  {
   "cell_type": "code",
   "execution_count": 17,
   "source": [
    "from sklearn.metrics import confusion_matrix\r\n",
    "cm = confusion_matrix(y_test, y_pred)\r\n",
    "print(cm)"
   ],
   "outputs": [
    {
     "output_type": "stream",
     "name": "stdout",
     "text": [
      "[[1543   52]\n",
      " [ 210  195]]\n"
     ]
    }
   ],
   "metadata": {}
  },
  {
   "cell_type": "code",
   "execution_count": 18,
   "source": [
    "import matplotlib.pyplot as plt\r\n",
    "import seaborn as sns\r\n",
    "sns.heatmap(confusion_matrix(y_test, y_pred), cmap='OrRd', annot=True, fmt='2.0f')\r\n",
    "plt.show()"
   ],
   "outputs": [
    {
     "output_type": "display_data",
     "data": {
      "text/plain": [
       "<Figure size 432x288 with 2 Axes>"
      ],
      "image/svg+xml": "<?xml version=\"1.0\" encoding=\"utf-8\" standalone=\"no\"?>\r\n<!DOCTYPE svg PUBLIC \"-//W3C//DTD SVG 1.1//EN\"\r\n  \"http://www.w3.org/Graphics/SVG/1.1/DTD/svg11.dtd\">\r\n<!-- Created with matplotlib (https://matplotlib.org/) -->\r\n<svg height=\"248.518125pt\" version=\"1.1\" viewBox=\"0 0 358.980125 248.518125\" width=\"358.980125pt\" xmlns=\"http://www.w3.org/2000/svg\" xmlns:xlink=\"http://www.w3.org/1999/xlink\">\r\n <metadata>\r\n  <rdf:RDF xmlns:cc=\"http://creativecommons.org/ns#\" xmlns:dc=\"http://purl.org/dc/elements/1.1/\" xmlns:rdf=\"http://www.w3.org/1999/02/22-rdf-syntax-ns#\">\r\n   <cc:Work>\r\n    <dc:type rdf:resource=\"http://purl.org/dc/dcmitype/StillImage\"/>\r\n    <dc:date>2021-08-20T20:00:29.260839</dc:date>\r\n    <dc:format>image/svg+xml</dc:format>\r\n    <dc:creator>\r\n     <cc:Agent>\r\n      <dc:title>Matplotlib v3.3.4, https://matplotlib.org/</dc:title>\r\n     </cc:Agent>\r\n    </dc:creator>\r\n   </cc:Work>\r\n  </rdf:RDF>\r\n </metadata>\r\n <defs>\r\n  <style type=\"text/css\">*{stroke-linecap:butt;stroke-linejoin:round;}</style>\r\n </defs>\r\n <g id=\"figure_1\">\r\n  <g id=\"patch_1\">\r\n   <path d=\"M -0 248.518125 \r\nL 358.980125 248.518125 \r\nL 358.980125 0 \r\nL -0 0 \r\nz\r\n\" style=\"fill:none;\"/>\r\n  </g>\r\n  <g id=\"axes_1\">\r\n   <g id=\"patch_2\">\r\n    <path d=\"M 23.878125 224.64 \r\nL 291.718125 224.64 \r\nL 291.718125 7.2 \r\nL 23.878125 7.2 \r\nz\r\n\" style=\"fill:#ffffff;\"/>\r\n   </g>\r\n   <g id=\"QuadMesh_1\">\r\n    <path clip-path=\"url(#p585715f9f7)\" d=\"M 23.878125 7.2 \r\nL 157.798125 7.2 \r\nL 157.798125 115.92 \r\nL 23.878125 115.92 \r\nL 23.878125 7.2 \r\n\" style=\"fill:#7f0000;\"/>\r\n    <path clip-path=\"url(#p585715f9f7)\" d=\"M 157.798125 7.2 \r\nL 291.718125 7.2 \r\nL 291.718125 115.92 \r\nL 157.798125 115.92 \r\nL 157.798125 7.2 \r\n\" style=\"fill:#fff7ec;\"/>\r\n    <path clip-path=\"url(#p585715f9f7)\" d=\"M 23.878125 115.92 \r\nL 157.798125 115.92 \r\nL 157.798125 224.64 \r\nL 23.878125 224.64 \r\nL 23.878125 115.92 \r\n\" style=\"fill:#feeace;\"/>\r\n    <path clip-path=\"url(#p585715f9f7)\" d=\"M 157.798125 115.92 \r\nL 291.718125 115.92 \r\nL 291.718125 224.64 \r\nL 157.798125 224.64 \r\nL 157.798125 115.92 \r\n\" style=\"fill:#feecd1;\"/>\r\n   </g>\r\n   <g id=\"matplotlib.axis_1\">\r\n    <g id=\"xtick_1\">\r\n     <g id=\"line2d_1\">\r\n      <defs>\r\n       <path d=\"M 0 0 \r\nL 0 3.5 \r\n\" id=\"mdf34cc9d7f\" style=\"stroke:#000000;stroke-width:0.8;\"/>\r\n      </defs>\r\n      <g>\r\n       <use style=\"stroke:#000000;stroke-width:0.8;\" x=\"90.838125\" xlink:href=\"#mdf34cc9d7f\" y=\"224.64\"/>\r\n      </g>\r\n     </g>\r\n     <g id=\"text_1\">\r\n      <!-- 0 -->\r\n      <g transform=\"translate(87.656875 239.238437)scale(0.1 -0.1)\">\r\n       <defs>\r\n        <path d=\"M 31.78125 66.40625 \r\nQ 24.171875 66.40625 20.328125 58.90625 \r\nQ 16.5 51.421875 16.5 36.375 \r\nQ 16.5 21.390625 20.328125 13.890625 \r\nQ 24.171875 6.390625 31.78125 6.390625 \r\nQ 39.453125 6.390625 43.28125 13.890625 \r\nQ 47.125 21.390625 47.125 36.375 \r\nQ 47.125 51.421875 43.28125 58.90625 \r\nQ 39.453125 66.40625 31.78125 66.40625 \r\nz\r\nM 31.78125 74.21875 \r\nQ 44.046875 74.21875 50.515625 64.515625 \r\nQ 56.984375 54.828125 56.984375 36.375 \r\nQ 56.984375 17.96875 50.515625 8.265625 \r\nQ 44.046875 -1.421875 31.78125 -1.421875 \r\nQ 19.53125 -1.421875 13.0625 8.265625 \r\nQ 6.59375 17.96875 6.59375 36.375 \r\nQ 6.59375 54.828125 13.0625 64.515625 \r\nQ 19.53125 74.21875 31.78125 74.21875 \r\nz\r\n\" id=\"DejaVuSans-48\"/>\r\n       </defs>\r\n       <use xlink:href=\"#DejaVuSans-48\"/>\r\n      </g>\r\n     </g>\r\n    </g>\r\n    <g id=\"xtick_2\">\r\n     <g id=\"line2d_2\">\r\n      <g>\r\n       <use style=\"stroke:#000000;stroke-width:0.8;\" x=\"224.758125\" xlink:href=\"#mdf34cc9d7f\" y=\"224.64\"/>\r\n      </g>\r\n     </g>\r\n     <g id=\"text_2\">\r\n      <!-- 1 -->\r\n      <g transform=\"translate(221.576875 239.238437)scale(0.1 -0.1)\">\r\n       <defs>\r\n        <path d=\"M 12.40625 8.296875 \r\nL 28.515625 8.296875 \r\nL 28.515625 63.921875 \r\nL 10.984375 60.40625 \r\nL 10.984375 69.390625 \r\nL 28.421875 72.90625 \r\nL 38.28125 72.90625 \r\nL 38.28125 8.296875 \r\nL 54.390625 8.296875 \r\nL 54.390625 0 \r\nL 12.40625 0 \r\nz\r\n\" id=\"DejaVuSans-49\"/>\r\n       </defs>\r\n       <use xlink:href=\"#DejaVuSans-49\"/>\r\n      </g>\r\n     </g>\r\n    </g>\r\n   </g>\r\n   <g id=\"matplotlib.axis_2\">\r\n    <g id=\"ytick_1\">\r\n     <g id=\"line2d_3\">\r\n      <defs>\r\n       <path d=\"M 0 0 \r\nL -3.5 0 \r\n\" id=\"m2442098f27\" style=\"stroke:#000000;stroke-width:0.8;\"/>\r\n      </defs>\r\n      <g>\r\n       <use style=\"stroke:#000000;stroke-width:0.8;\" x=\"23.878125\" xlink:href=\"#m2442098f27\" y=\"61.56\"/>\r\n      </g>\r\n     </g>\r\n     <g id=\"text_3\">\r\n      <!-- 0 -->\r\n      <g transform=\"translate(14.798438 64.123281)rotate(-90)scale(0.1 -0.1)\">\r\n       <use xlink:href=\"#DejaVuSans-48\"/>\r\n      </g>\r\n     </g>\r\n    </g>\r\n    <g id=\"ytick_2\">\r\n     <g id=\"line2d_4\">\r\n      <g>\r\n       <use style=\"stroke:#000000;stroke-width:0.8;\" x=\"23.878125\" xlink:href=\"#m2442098f27\" y=\"170.28\"/>\r\n      </g>\r\n     </g>\r\n     <g id=\"text_4\">\r\n      <!-- 1 -->\r\n      <g transform=\"translate(14.798438 172.843281)rotate(-90)scale(0.1 -0.1)\">\r\n       <use xlink:href=\"#DejaVuSans-49\"/>\r\n      </g>\r\n     </g>\r\n    </g>\r\n   </g>\r\n   <g id=\"text_5\">\r\n    <!-- 1543 -->\r\n    <g style=\"fill:#ffffff;\" transform=\"translate(78.113125 64.319375)scale(0.1 -0.1)\">\r\n     <defs>\r\n      <path d=\"M 10.796875 72.90625 \r\nL 49.515625 72.90625 \r\nL 49.515625 64.59375 \r\nL 19.828125 64.59375 \r\nL 19.828125 46.734375 \r\nQ 21.96875 47.46875 24.109375 47.828125 \r\nQ 26.265625 48.1875 28.421875 48.1875 \r\nQ 40.625 48.1875 47.75 41.5 \r\nQ 54.890625 34.8125 54.890625 23.390625 \r\nQ 54.890625 11.625 47.5625 5.09375 \r\nQ 40.234375 -1.421875 26.90625 -1.421875 \r\nQ 22.3125 -1.421875 17.546875 -0.640625 \r\nQ 12.796875 0.140625 7.71875 1.703125 \r\nL 7.71875 11.625 \r\nQ 12.109375 9.234375 16.796875 8.0625 \r\nQ 21.484375 6.890625 26.703125 6.890625 \r\nQ 35.15625 6.890625 40.078125 11.328125 \r\nQ 45.015625 15.765625 45.015625 23.390625 \r\nQ 45.015625 31 40.078125 35.4375 \r\nQ 35.15625 39.890625 26.703125 39.890625 \r\nQ 22.75 39.890625 18.8125 39.015625 \r\nQ 14.890625 38.140625 10.796875 36.28125 \r\nz\r\n\" id=\"DejaVuSans-53\"/>\r\n      <path d=\"M 37.796875 64.3125 \r\nL 12.890625 25.390625 \r\nL 37.796875 25.390625 \r\nz\r\nM 35.203125 72.90625 \r\nL 47.609375 72.90625 \r\nL 47.609375 25.390625 \r\nL 58.015625 25.390625 \r\nL 58.015625 17.1875 \r\nL 47.609375 17.1875 \r\nL 47.609375 0 \r\nL 37.796875 0 \r\nL 37.796875 17.1875 \r\nL 4.890625 17.1875 \r\nL 4.890625 26.703125 \r\nz\r\n\" id=\"DejaVuSans-52\"/>\r\n      <path d=\"M 40.578125 39.3125 \r\nQ 47.65625 37.796875 51.625 33 \r\nQ 55.609375 28.21875 55.609375 21.1875 \r\nQ 55.609375 10.40625 48.1875 4.484375 \r\nQ 40.765625 -1.421875 27.09375 -1.421875 \r\nQ 22.515625 -1.421875 17.65625 -0.515625 \r\nQ 12.796875 0.390625 7.625 2.203125 \r\nL 7.625 11.71875 \r\nQ 11.71875 9.328125 16.59375 8.109375 \r\nQ 21.484375 6.890625 26.8125 6.890625 \r\nQ 36.078125 6.890625 40.9375 10.546875 \r\nQ 45.796875 14.203125 45.796875 21.1875 \r\nQ 45.796875 27.640625 41.28125 31.265625 \r\nQ 36.765625 34.90625 28.71875 34.90625 \r\nL 20.21875 34.90625 \r\nL 20.21875 43.015625 \r\nL 29.109375 43.015625 \r\nQ 36.375 43.015625 40.234375 45.921875 \r\nQ 44.09375 48.828125 44.09375 54.296875 \r\nQ 44.09375 59.90625 40.109375 62.90625 \r\nQ 36.140625 65.921875 28.71875 65.921875 \r\nQ 24.65625 65.921875 20.015625 65.03125 \r\nQ 15.375 64.15625 9.8125 62.3125 \r\nL 9.8125 71.09375 \r\nQ 15.4375 72.65625 20.34375 73.4375 \r\nQ 25.25 74.21875 29.59375 74.21875 \r\nQ 40.828125 74.21875 47.359375 69.109375 \r\nQ 53.90625 64.015625 53.90625 55.328125 \r\nQ 53.90625 49.265625 50.4375 45.09375 \r\nQ 46.96875 40.921875 40.578125 39.3125 \r\nz\r\n\" id=\"DejaVuSans-51\"/>\r\n     </defs>\r\n     <use xlink:href=\"#DejaVuSans-49\"/>\r\n     <use x=\"63.623047\" xlink:href=\"#DejaVuSans-53\"/>\r\n     <use x=\"127.246094\" xlink:href=\"#DejaVuSans-52\"/>\r\n     <use x=\"190.869141\" xlink:href=\"#DejaVuSans-51\"/>\r\n    </g>\r\n   </g>\r\n   <g id=\"text_6\">\r\n    <!-- 52 -->\r\n    <g style=\"fill:#262626;\" transform=\"translate(218.395625 64.319375)scale(0.1 -0.1)\">\r\n     <defs>\r\n      <path d=\"M 19.1875 8.296875 \r\nL 53.609375 8.296875 \r\nL 53.609375 0 \r\nL 7.328125 0 \r\nL 7.328125 8.296875 \r\nQ 12.9375 14.109375 22.625 23.890625 \r\nQ 32.328125 33.6875 34.8125 36.53125 \r\nQ 39.546875 41.84375 41.421875 45.53125 \r\nQ 43.3125 49.21875 43.3125 52.78125 \r\nQ 43.3125 58.59375 39.234375 62.25 \r\nQ 35.15625 65.921875 28.609375 65.921875 \r\nQ 23.96875 65.921875 18.8125 64.3125 \r\nQ 13.671875 62.703125 7.8125 59.421875 \r\nL 7.8125 69.390625 \r\nQ 13.765625 71.78125 18.9375 73 \r\nQ 24.125 74.21875 28.421875 74.21875 \r\nQ 39.75 74.21875 46.484375 68.546875 \r\nQ 53.21875 62.890625 53.21875 53.421875 \r\nQ 53.21875 48.921875 51.53125 44.890625 \r\nQ 49.859375 40.875 45.40625 35.40625 \r\nQ 44.1875 33.984375 37.640625 27.21875 \r\nQ 31.109375 20.453125 19.1875 8.296875 \r\nz\r\n\" id=\"DejaVuSans-50\"/>\r\n     </defs>\r\n     <use xlink:href=\"#DejaVuSans-53\"/>\r\n     <use x=\"63.623047\" xlink:href=\"#DejaVuSans-50\"/>\r\n    </g>\r\n   </g>\r\n   <g id=\"text_7\">\r\n    <!-- 210 -->\r\n    <g style=\"fill:#262626;\" transform=\"translate(81.294375 173.039375)scale(0.1 -0.1)\">\r\n     <use xlink:href=\"#DejaVuSans-50\"/>\r\n     <use x=\"63.623047\" xlink:href=\"#DejaVuSans-49\"/>\r\n     <use x=\"127.246094\" xlink:href=\"#DejaVuSans-48\"/>\r\n    </g>\r\n   </g>\r\n   <g id=\"text_8\">\r\n    <!-- 195 -->\r\n    <g style=\"fill:#262626;\" transform=\"translate(215.214375 173.039375)scale(0.1 -0.1)\">\r\n     <defs>\r\n      <path d=\"M 10.984375 1.515625 \r\nL 10.984375 10.5 \r\nQ 14.703125 8.734375 18.5 7.8125 \r\nQ 22.3125 6.890625 25.984375 6.890625 \r\nQ 35.75 6.890625 40.890625 13.453125 \r\nQ 46.046875 20.015625 46.78125 33.40625 \r\nQ 43.953125 29.203125 39.59375 26.953125 \r\nQ 35.25 24.703125 29.984375 24.703125 \r\nQ 19.046875 24.703125 12.671875 31.3125 \r\nQ 6.296875 37.9375 6.296875 49.421875 \r\nQ 6.296875 60.640625 12.9375 67.421875 \r\nQ 19.578125 74.21875 30.609375 74.21875 \r\nQ 43.265625 74.21875 49.921875 64.515625 \r\nQ 56.59375 54.828125 56.59375 36.375 \r\nQ 56.59375 19.140625 48.40625 8.859375 \r\nQ 40.234375 -1.421875 26.421875 -1.421875 \r\nQ 22.703125 -1.421875 18.890625 -0.6875 \r\nQ 15.09375 0.046875 10.984375 1.515625 \r\nz\r\nM 30.609375 32.421875 \r\nQ 37.25 32.421875 41.125 36.953125 \r\nQ 45.015625 41.5 45.015625 49.421875 \r\nQ 45.015625 57.28125 41.125 61.84375 \r\nQ 37.25 66.40625 30.609375 66.40625 \r\nQ 23.96875 66.40625 20.09375 61.84375 \r\nQ 16.21875 57.28125 16.21875 49.421875 \r\nQ 16.21875 41.5 20.09375 36.953125 \r\nQ 23.96875 32.421875 30.609375 32.421875 \r\nz\r\n\" id=\"DejaVuSans-57\"/>\r\n     </defs>\r\n     <use xlink:href=\"#DejaVuSans-49\"/>\r\n     <use x=\"63.623047\" xlink:href=\"#DejaVuSans-57\"/>\r\n     <use x=\"127.246094\" xlink:href=\"#DejaVuSans-53\"/>\r\n    </g>\r\n   </g>\r\n  </g>\r\n  <g id=\"axes_2\">\r\n   <g id=\"patch_3\">\r\n    <path clip-path=\"url(#p5eae4cde79)\" d=\"M 308.458125 224.64 \r\nL 308.458125 223.790625 \r\nL 308.458125 8.049375 \r\nL 308.458125 7.2 \r\nL 319.330125 7.2 \r\nL 319.330125 8.049375 \r\nL 319.330125 223.790625 \r\nL 319.330125 224.64 \r\nz\r\n\" style=\"fill:#ffffff;stroke:#ffffff;stroke-linejoin:miter;stroke-width:0.01;\"/>\r\n   </g>\r\n   <image height=\"217\" id=\"imagef534e4983c\" transform=\"scale(1 -1)translate(0 -217)\" width=\"11\" x=\"308\" xlink:href=\"data:image/png;base64,\r\niVBORw0KGgoAAAANSUhEUgAAAAsAAADZCAYAAAD2WsoCAAABKElEQVR4nO2XMQ4CMQwEDcr/P8oDaEhMC12mGGlzOuqVtR7be+HR71fX5m9Ub2trVBFxL0vMbHgNepVngo32GjyQRsylIBteZQ0diwKtwRDOKcuf0aAXXyEfIG/c9z7/Vc4IxiXZeG4raWVVjGhsa91LQePO4CzG1+XF29qUKKCXotmYWvKzsyINegcr0tAmqHHuiYaS8eZHNu7l/xVn0IB/ELa1NXpa6IDWRQdsNFokzYb30UQNMhqowQx0Kct/eRpa1jX6tBEbiyQ/vBQNHaGxtJcMnKCXSITGBzVobV3IpaBXLquccSnedYvLr1WeaNzMxrY2Bh2jkTFBVBkl/zqwQRgF1vKHoNtPuqoB7rUGeIrCyp4Nj8aJ6E7cDVT5o1U+cTcOHPcXyky07XM3WZ4AAAAASUVORK5CYII=\" y=\"-7\"/>\r\n   <g id=\"matplotlib.axis_3\"/>\r\n   <g id=\"matplotlib.axis_4\">\r\n    <g id=\"ytick_3\">\r\n     <g id=\"line2d_5\">\r\n      <defs>\r\n       <path d=\"M 0 0 \r\nL 3.5 0 \r\n\" id=\"m2f31d88bda\" style=\"stroke:#000000;stroke-width:0.8;\"/>\r\n      </defs>\r\n      <g>\r\n       <use style=\"stroke:#000000;stroke-width:0.8;\" x=\"319.330125\" xlink:href=\"#m2f31d88bda\" y=\"203.056419\"/>\r\n      </g>\r\n     </g>\r\n     <g id=\"text_9\">\r\n      <!-- 200 -->\r\n      <g transform=\"translate(326.330125 206.855637)scale(0.1 -0.1)\">\r\n       <use xlink:href=\"#DejaVuSans-50\"/>\r\n       <use x=\"63.623047\" xlink:href=\"#DejaVuSans-48\"/>\r\n       <use x=\"127.246094\" xlink:href=\"#DejaVuSans-48\"/>\r\n      </g>\r\n     </g>\r\n    </g>\r\n    <g id=\"ytick_4\">\r\n     <g id=\"line2d_6\">\r\n      <g>\r\n       <use style=\"stroke:#000000;stroke-width:0.8;\" x=\"319.330125\" xlink:href=\"#m2f31d88bda\" y=\"173.889416\"/>\r\n      </g>\r\n     </g>\r\n     <g id=\"text_10\">\r\n      <!-- 400 -->\r\n      <g transform=\"translate(326.330125 177.688635)scale(0.1 -0.1)\">\r\n       <use xlink:href=\"#DejaVuSans-52\"/>\r\n       <use x=\"63.623047\" xlink:href=\"#DejaVuSans-48\"/>\r\n       <use x=\"127.246094\" xlink:href=\"#DejaVuSans-48\"/>\r\n      </g>\r\n     </g>\r\n    </g>\r\n    <g id=\"ytick_5\">\r\n     <g id=\"line2d_7\">\r\n      <g>\r\n       <use style=\"stroke:#000000;stroke-width:0.8;\" x=\"319.330125\" xlink:href=\"#m2f31d88bda\" y=\"144.722414\"/>\r\n      </g>\r\n     </g>\r\n     <g id=\"text_11\">\r\n      <!-- 600 -->\r\n      <g transform=\"translate(326.330125 148.521633)scale(0.1 -0.1)\">\r\n       <defs>\r\n        <path d=\"M 33.015625 40.375 \r\nQ 26.375 40.375 22.484375 35.828125 \r\nQ 18.609375 31.296875 18.609375 23.390625 \r\nQ 18.609375 15.53125 22.484375 10.953125 \r\nQ 26.375 6.390625 33.015625 6.390625 \r\nQ 39.65625 6.390625 43.53125 10.953125 \r\nQ 47.40625 15.53125 47.40625 23.390625 \r\nQ 47.40625 31.296875 43.53125 35.828125 \r\nQ 39.65625 40.375 33.015625 40.375 \r\nz\r\nM 52.59375 71.296875 \r\nL 52.59375 62.3125 \r\nQ 48.875 64.0625 45.09375 64.984375 \r\nQ 41.3125 65.921875 37.59375 65.921875 \r\nQ 27.828125 65.921875 22.671875 59.328125 \r\nQ 17.53125 52.734375 16.796875 39.40625 \r\nQ 19.671875 43.65625 24.015625 45.921875 \r\nQ 28.375 48.1875 33.59375 48.1875 \r\nQ 44.578125 48.1875 50.953125 41.515625 \r\nQ 57.328125 34.859375 57.328125 23.390625 \r\nQ 57.328125 12.15625 50.6875 5.359375 \r\nQ 44.046875 -1.421875 33.015625 -1.421875 \r\nQ 20.359375 -1.421875 13.671875 8.265625 \r\nQ 6.984375 17.96875 6.984375 36.375 \r\nQ 6.984375 53.65625 15.1875 63.9375 \r\nQ 23.390625 74.21875 37.203125 74.21875 \r\nQ 40.921875 74.21875 44.703125 73.484375 \r\nQ 48.484375 72.75 52.59375 71.296875 \r\nz\r\n\" id=\"DejaVuSans-54\"/>\r\n       </defs>\r\n       <use xlink:href=\"#DejaVuSans-54\"/>\r\n       <use x=\"63.623047\" xlink:href=\"#DejaVuSans-48\"/>\r\n       <use x=\"127.246094\" xlink:href=\"#DejaVuSans-48\"/>\r\n      </g>\r\n     </g>\r\n    </g>\r\n    <g id=\"ytick_6\">\r\n     <g id=\"line2d_8\">\r\n      <g>\r\n       <use style=\"stroke:#000000;stroke-width:0.8;\" x=\"319.330125\" xlink:href=\"#m2f31d88bda\" y=\"115.555412\"/>\r\n      </g>\r\n     </g>\r\n     <g id=\"text_12\">\r\n      <!-- 800 -->\r\n      <g transform=\"translate(326.330125 119.354631)scale(0.1 -0.1)\">\r\n       <defs>\r\n        <path d=\"M 31.78125 34.625 \r\nQ 24.75 34.625 20.71875 30.859375 \r\nQ 16.703125 27.09375 16.703125 20.515625 \r\nQ 16.703125 13.921875 20.71875 10.15625 \r\nQ 24.75 6.390625 31.78125 6.390625 \r\nQ 38.8125 6.390625 42.859375 10.171875 \r\nQ 46.921875 13.96875 46.921875 20.515625 \r\nQ 46.921875 27.09375 42.890625 30.859375 \r\nQ 38.875 34.625 31.78125 34.625 \r\nz\r\nM 21.921875 38.8125 \r\nQ 15.578125 40.375 12.03125 44.71875 \r\nQ 8.5 49.078125 8.5 55.328125 \r\nQ 8.5 64.0625 14.71875 69.140625 \r\nQ 20.953125 74.21875 31.78125 74.21875 \r\nQ 42.671875 74.21875 48.875 69.140625 \r\nQ 55.078125 64.0625 55.078125 55.328125 \r\nQ 55.078125 49.078125 51.53125 44.71875 \r\nQ 48 40.375 41.703125 38.8125 \r\nQ 48.828125 37.15625 52.796875 32.3125 \r\nQ 56.78125 27.484375 56.78125 20.515625 \r\nQ 56.78125 9.90625 50.3125 4.234375 \r\nQ 43.84375 -1.421875 31.78125 -1.421875 \r\nQ 19.734375 -1.421875 13.25 4.234375 \r\nQ 6.78125 9.90625 6.78125 20.515625 \r\nQ 6.78125 27.484375 10.78125 32.3125 \r\nQ 14.796875 37.15625 21.921875 38.8125 \r\nz\r\nM 18.3125 54.390625 \r\nQ 18.3125 48.734375 21.84375 45.5625 \r\nQ 25.390625 42.390625 31.78125 42.390625 \r\nQ 38.140625 42.390625 41.71875 45.5625 \r\nQ 45.3125 48.734375 45.3125 54.390625 \r\nQ 45.3125 60.0625 41.71875 63.234375 \r\nQ 38.140625 66.40625 31.78125 66.40625 \r\nQ 25.390625 66.40625 21.84375 63.234375 \r\nQ 18.3125 60.0625 18.3125 54.390625 \r\nz\r\n\" id=\"DejaVuSans-56\"/>\r\n       </defs>\r\n       <use xlink:href=\"#DejaVuSans-56\"/>\r\n       <use x=\"63.623047\" xlink:href=\"#DejaVuSans-48\"/>\r\n       <use x=\"127.246094\" xlink:href=\"#DejaVuSans-48\"/>\r\n      </g>\r\n     </g>\r\n    </g>\r\n    <g id=\"ytick_7\">\r\n     <g id=\"line2d_9\">\r\n      <g>\r\n       <use style=\"stroke:#000000;stroke-width:0.8;\" x=\"319.330125\" xlink:href=\"#m2f31d88bda\" y=\"86.38841\"/>\r\n      </g>\r\n     </g>\r\n     <g id=\"text_13\">\r\n      <!-- 1000 -->\r\n      <g transform=\"translate(326.330125 90.187629)scale(0.1 -0.1)\">\r\n       <use xlink:href=\"#DejaVuSans-49\"/>\r\n       <use x=\"63.623047\" xlink:href=\"#DejaVuSans-48\"/>\r\n       <use x=\"127.246094\" xlink:href=\"#DejaVuSans-48\"/>\r\n       <use x=\"190.869141\" xlink:href=\"#DejaVuSans-48\"/>\r\n      </g>\r\n     </g>\r\n    </g>\r\n    <g id=\"ytick_8\">\r\n     <g id=\"line2d_10\">\r\n      <g>\r\n       <use style=\"stroke:#000000;stroke-width:0.8;\" x=\"319.330125\" xlink:href=\"#m2f31d88bda\" y=\"57.221408\"/>\r\n      </g>\r\n     </g>\r\n     <g id=\"text_14\">\r\n      <!-- 1200 -->\r\n      <g transform=\"translate(326.330125 61.020627)scale(0.1 -0.1)\">\r\n       <use xlink:href=\"#DejaVuSans-49\"/>\r\n       <use x=\"63.623047\" xlink:href=\"#DejaVuSans-50\"/>\r\n       <use x=\"127.246094\" xlink:href=\"#DejaVuSans-48\"/>\r\n       <use x=\"190.869141\" xlink:href=\"#DejaVuSans-48\"/>\r\n      </g>\r\n     </g>\r\n    </g>\r\n    <g id=\"ytick_9\">\r\n     <g id=\"line2d_11\">\r\n      <g>\r\n       <use style=\"stroke:#000000;stroke-width:0.8;\" x=\"319.330125\" xlink:href=\"#m2f31d88bda\" y=\"28.054406\"/>\r\n      </g>\r\n     </g>\r\n     <g id=\"text_15\">\r\n      <!-- 1400 -->\r\n      <g transform=\"translate(326.330125 31.853625)scale(0.1 -0.1)\">\r\n       <use xlink:href=\"#DejaVuSans-49\"/>\r\n       <use x=\"63.623047\" xlink:href=\"#DejaVuSans-52\"/>\r\n       <use x=\"127.246094\" xlink:href=\"#DejaVuSans-48\"/>\r\n       <use x=\"190.869141\" xlink:href=\"#DejaVuSans-48\"/>\r\n      </g>\r\n     </g>\r\n    </g>\r\n   </g>\r\n   <g id=\"patch_4\">\r\n    <path d=\"M 308.458125 224.64 \r\nL 308.458125 223.790625 \r\nL 308.458125 8.049375 \r\nL 308.458125 7.2 \r\nL 319.330125 7.2 \r\nL 319.330125 8.049375 \r\nL 319.330125 223.790625 \r\nL 319.330125 224.64 \r\nz\r\n\" style=\"fill:none;\"/>\r\n   </g>\r\n  </g>\r\n </g>\r\n <defs>\r\n  <clipPath id=\"p585715f9f7\">\r\n   <rect height=\"217.44\" width=\"267.84\" x=\"23.878125\" y=\"7.2\"/>\r\n  </clipPath>\r\n  <clipPath id=\"p5eae4cde79\">\r\n   <rect height=\"217.44\" width=\"10.872\" x=\"308.458125\" y=\"7.2\"/>\r\n  </clipPath>\r\n </defs>\r\n</svg>\r\n",
      "image/png": "[encoded data removed]"
     },
     "metadata": {
      "needs_background": "light"
     }
    }
   ],
   "metadata": {}
  },
  {
   "cell_type": "code",
   "execution_count": 19,
   "source": [
    "from sklearn.metrics import accuracy_score\r\n",
    "accuracy_score(y_test, y_pred)"
   ],
   "outputs": [
    {
     "output_type": "execute_result",
     "data": {
      "text/plain": [
       "0.869"
      ]
     },
     "metadata": {},
     "execution_count": 19
    }
   ],
   "metadata": {}
  },
  {
   "cell_type": "markdown",
   "source": [
    "---\n",
    "# Avaliando o Modelo"
   ],
   "metadata": {}
  },
  {
   "cell_type": "code",
   "execution_count": 20,
   "source": [
    "# Evaluating the ANN\r\n",
    "from tensorflow.keras.wrappers.scikit_learn import KerasClassifier\r\n",
    "from sklearn.model_selection import cross_val_score\r\n",
    "from tensorflow.keras.models import Sequential\r\n",
    "from tensorflow.keras.layers import Dense"
   ],
   "outputs": [],
   "metadata": {}
  },
  {
   "cell_type": "code",
   "execution_count": 21,
   "source": [
    "def build_classifier():\r\n",
    "    classifier = Sequential()\r\n",
    "    classifier.add(Dense(units = 6, kernel_initializer = 'uniform', activation = 'selu', input_dim = 12))\r\n",
    "    classifier.add(Dense(units = 6, kernel_initializer = 'uniform', activation = 'selu'))\r\n",
    "    classifier.add(Dense(units = 1, kernel_initializer = 'uniform', activation = 'softplus'))\r\n",
    "    classifier.compile(optimizer = 'adam', loss = 'binary_crossentropy', metrics = ['accuracy'])\r\n",
    "    return classifier"
   ],
   "outputs": [],
   "metadata": {}
  },
  {
   "cell_type": "code",
   "execution_count": 22,
   "source": [
    "classifier = KerasClassifier(build_fn = build_classifier, batch_size = 10, epochs = 10)\r\n",
    "accuracies = cross_val_score(estimator = classifier, X = X_train, y = y_train, cv = 10, n_jobs = -1)\r\n",
    "mean = accuracies.mean()\r\n",
    "variance = accuracies.std()"
   ],
   "outputs": [],
   "metadata": {}
  },
  {
   "cell_type": "code",
   "execution_count": 23,
   "source": [
    "print(mean,variance)"
   ],
   "outputs": [
    {
     "output_type": "stream",
     "name": "stdout",
     "text": [
      "0.8211250066757202 0.011982414498056938\n"
     ]
    }
   ],
   "metadata": {}
  },
  {
   "cell_type": "markdown",
   "source": [
    "# Melhorando o modelo"
   ],
   "metadata": {}
  },
  {
   "cell_type": "code",
   "execution_count": 24,
   "source": [
    "# Improving the ANN\r\n",
    "# Dropout Regularization to reduce overfitting if needed\r\n",
    "from tensorflow.keras.layers import Dropout\r\n",
    "\r\n",
    "def build_classifier():\r\n",
    "    classifier = Sequential()\r\n",
    "    classifier.add(Dense(units = 6, kernel_initializer = 'uniform', activation = 'selu', input_dim = 12))\r\n",
    "    classifier.add(Dropout(rate = 0.1))\r\n",
    "    classifier.add(Dense(units = 6, kernel_initializer = 'uniform', activation = 'selu'))\r\n",
    "    classifier.add(Dropout(rate = 0.1))\r\n",
    "    classifier.add(Dense(units = 1, kernel_initializer = 'uniform', activation = 'softplus'))\r\n",
    "    classifier.compile(optimizer = 'adam', loss = 'binary_crossentropy', metrics = ['accuracy'])\r\n",
    "    return classifier"
   ],
   "outputs": [],
   "metadata": {}
  },
  {
   "cell_type": "code",
   "execution_count": 25,
   "source": [
    "classifier = KerasClassifier(build_fn = build_classifier, batch_size = 10, epochs = 10)\r\n",
    "accuracies = cross_val_score(estimator = classifier, X = X_train, y = y_train, cv = 10, n_jobs = -1)\r\n",
    "mean = accuracies.mean()\r\n",
    "variance = accuracies.std()"
   ],
   "outputs": [],
   "metadata": {}
  },
  {
   "cell_type": "code",
   "execution_count": 26,
   "source": [
    "print(mean,variance)"
   ],
   "outputs": [
    {
     "output_type": "stream",
     "name": "stdout",
     "text": [
      "0.8183750033378601 0.010533435470265539\n"
     ]
    }
   ],
   "metadata": {}
  },
  {
   "cell_type": "markdown",
   "source": [
    "# Tuning the ANN"
   ],
   "metadata": {}
  },
  {
   "cell_type": "code",
   "execution_count": 1,
   "source": [
    "# from tensorflow.keras.wrappers.scikit_learn import KerasClassifier\r\n",
    "# from sklearn.model_selection import GridSearchCV\r\n",
    "# from tensorflow.keras.models import Sequential\r\n",
    "# from tensorflow.keras.layers import Dense\r\n",
    "\r\n",
    "# def build_classifier(optimizer):\r\n",
    "#     classifier = Sequential()\r\n",
    "#     classifier.add(Dense(units = 6, kernel_initializer = 'uniform', activation = 'relu', input_dim = 12))\r\n",
    "#     classifier.add(Dropout(rate = 0.1))\r\n",
    "#     classifier.add(Dense(units = 6, kernel_initializer = 'uniform', activation = 'relu'))\r\n",
    "#     classifier.add(Dropout(rate = 0.1))\r\n",
    "#     classifier.add(Dense(units = 1, kernel_initializer = 'uniform', activation = 'sigmoid'))\r\n",
    "#     classifier.compile(optimizer = optimizer, loss = 'binary_crossentropy', metrics = ['accuracy'])\r\n",
    "#     return classifier\r\n",
    "\r\n",
    "# classifier = KerasClassifier(build_fn = build_classifier)\r\n",
    "\r\n",
    "# parameters = {\r\n",
    "#     'batch_size': [10, 25, 32],\r\n",
    "#     'epochs': [50, 100],\r\n",
    "#     'optimizer': ['adam', 'rmsprop']\r\n",
    "# }\r\n",
    "\r\n",
    "# grid_search = GridSearchCV(estimator = classifier,\r\n",
    "#                            scoring = 'accuracy',\r\n",
    "#                            param_grid = parameters,\r\n",
    "#                            cv = 10)"
   ],
   "outputs": [],
   "metadata": {}
  },
  {
   "cell_type": "code",
   "execution_count": 2,
   "source": [
    "# %%time\r\n",
    "\r\n",
    "# grid_search = grid_search.fit(X_train, y_train)"
   ],
   "outputs": [],
   "metadata": {}
  },
  {
   "cell_type": "code",
   "execution_count": 3,
   "source": [
    "# print('Best params:\\n',grid_search.best_params_,'\\nBest accuracy:\\n',grid_search.best_score_)"
   ],
   "outputs": [],
   "metadata": {}
  },
  {
   "cell_type": "markdown",
   "source": [
    "# Halving Grid Search"
   ],
   "metadata": {}
  },
  {
   "cell_type": "code",
   "execution_count": 29,
   "source": [
    "from tensorflow.keras.wrappers.scikit_learn import KerasClassifier\r\n",
    "from tensorflow.keras.models import Sequential\r\n",
    "from tensorflow.keras.layers import Dense\r\n",
    "from sklearn.experimental import enable_halving_search_cv\r\n",
    "from sklearn.model_selection import HalvingGridSearchCV\r\n",
    "\r\n",
    "def build_classifier(optimizer):\r\n",
    "    classifier = Sequential()\r\n",
    "    classifier.add(Dense(units = 6, kernel_initializer = 'uniform', activation = 'selu', input_dim = 12))\r\n",
    "    classifier.add(Dropout(rate = 0.1))\r\n",
    "    classifier.add(Dense(units = 6, kernel_initializer = 'uniform', activation = 'selu'))\r\n",
    "    classifier.add(Dropout(rate = 0.1))\r\n",
    "    classifier.add(Dense(units = 1, kernel_initializer = 'uniform', activation = 'softplus'))\r\n",
    "    classifier.compile(optimizer = optimizer, loss = 'binary_crossentropy', metrics = ['accuracy'])\r\n",
    "    return classifier\r\n",
    "\r\n",
    "classifier = KerasClassifier(build_fn = build_classifier)\r\n",
    "\r\n",
    "parameters = {\r\n",
    "    'batch_size': [10, 25, 32, 40, 60, 80, 100, 150, 200],\r\n",
    "    'epochs': [10, 20, 30, 50, 75, 100, 150, 200],\r\n",
    "    'optimizer': ['adam', 'rmsprop', 'Adamax', 'Adagrad', 'Adadelta', 'Nadam'],\r\n",
    "}\r\n",
    "\r\n",
    "halving_cv = HalvingGridSearchCV(estimator = classifier,\r\n",
    "                                  param_grid = parameters,\r\n",
    "                                  scoring=\"accuracy\", \r\n",
    "                                  n_jobs=-1, \r\n",
    "                                  min_resources=\"exhaust\", \r\n",
    "                                  factor=3,\r\n",
    "                                  cv = 10)"
   ],
   "outputs": [],
   "metadata": {}
  },
  {
   "cell_type": "code",
   "execution_count": 30,
   "source": [
    "%%time\r\n",
    "halving_cv = halving_cv.fit(X_train, y_train)"
   ],
   "outputs": [
    {
     "output_type": "stream",
     "name": "stdout",
     "text": [
      "Epoch 1/150\n",
      "200/200 [==============================] - 5s 2ms/step - loss: 0.6957 - accuracy: 0.5215\n",
      "Epoch 2/150\n",
      "200/200 [==============================] - 0s 2ms/step - loss: 0.4549 - accuracy: 0.8124\n",
      "Epoch 3/150\n",
      "200/200 [==============================] - 0s 2ms/step - loss: 0.4441 - accuracy: 0.8138\n",
      "Epoch 4/150\n",
      "200/200 [==============================] - 0s 1ms/step - loss: 0.4476 - accuracy: 0.8154\n",
      "Epoch 5/150\n",
      "200/200 [==============================] - 0s 1ms/step - loss: 0.4472 - accuracy: 0.8175\n",
      "Epoch 6/150\n",
      "200/200 [==============================] - 0s 1ms/step - loss: 0.4512 - accuracy: 0.8175\n",
      "Epoch 7/150\n",
      "200/200 [==============================] - 0s 1ms/step - loss: 0.4495 - accuracy: 0.8158\n",
      "Epoch 8/150\n",
      "200/200 [==============================] - 18s 89ms/step - loss: 0.4436 - accuracy: 0.8177\n",
      "Epoch 9/150\n",
      "200/200 [==============================] - 0s 2ms/step - loss: 0.4470 - accuracy: 0.8183\n",
      "Epoch 10/150\n",
      "200/200 [==============================] - 0s 1ms/step - loss: 0.4491 - accuracy: 0.8180\n",
      "Epoch 11/150\n",
      "200/200 [==============================] - 0s 1ms/step - loss: 0.4434 - accuracy: 0.8188\n",
      "Epoch 12/150\n",
      "200/200 [==============================] - 0s 2ms/step - loss: 0.4440 - accuracy: 0.8184\n",
      "Epoch 13/150\n",
      "200/200 [==============================] - 0s 1ms/step - loss: 0.4421 - accuracy: 0.8164\n",
      "Epoch 14/150\n",
      "200/200 [==============================] - 0s 1ms/step - loss: 0.4474 - accuracy: 0.8185\n",
      "Epoch 15/150\n",
      "200/200 [==============================] - 0s 1ms/step - loss: 0.4468 - accuracy: 0.8202\n",
      "Epoch 16/150\n",
      "200/200 [==============================] - 0s 1ms/step - loss: 0.4453 - accuracy: 0.8169\n",
      "Epoch 17/150\n",
      "200/200 [==============================] - 0s 1ms/step - loss: 0.4470 - accuracy: 0.8160\n",
      "Epoch 18/150\n",
      "200/200 [==============================] - 0s 1ms/step - loss: 0.4454 - accuracy: 0.8184\n",
      "Epoch 19/150\n",
      "200/200 [==============================] - 0s 1ms/step - loss: 0.4522 - accuracy: 0.8173\n",
      "Epoch 20/150\n",
      "200/200 [==============================] - 0s 1ms/step - loss: 0.4478 - accuracy: 0.8159\n",
      "Epoch 21/150\n",
      "200/200 [==============================] - 0s 1ms/step - loss: 0.4465 - accuracy: 0.8167\n",
      "Epoch 22/150\n",
      "200/200 [==============================] - 0s 1ms/step - loss: 0.4457 - accuracy: 0.8189\n",
      "Epoch 23/150\n",
      "200/200 [==============================] - 0s 1ms/step - loss: 0.4544 - accuracy: 0.8186\n",
      "Epoch 24/150\n",
      "200/200 [==============================] - 0s 2ms/step - loss: 0.4439 - accuracy: 0.8170\n",
      "Epoch 25/150\n",
      "200/200 [==============================] - 0s 1ms/step - loss: 0.4441 - accuracy: 0.8170\n",
      "Epoch 26/150\n",
      "200/200 [==============================] - 0s 1ms/step - loss: 0.4460 - accuracy: 0.8191\n",
      "Epoch 27/150\n",
      "200/200 [==============================] - 0s 1ms/step - loss: 0.4447 - accuracy: 0.8188\n",
      "Epoch 28/150\n",
      "200/200 [==============================] - 0s 1ms/step - loss: 0.4437 - accuracy: 0.8198\n",
      "Epoch 29/150\n",
      "200/200 [==============================] - 0s 1ms/step - loss: 0.4502 - accuracy: 0.8195\n",
      "Epoch 30/150\n",
      "200/200 [==============================] - 0s 1ms/step - loss: 0.4455 - accuracy: 0.8175\n",
      "Epoch 31/150\n",
      "200/200 [==============================] - 0s 1ms/step - loss: 0.4441 - accuracy: 0.8170\n",
      "Epoch 32/150\n",
      "200/200 [==============================] - 0s 1ms/step - loss: 0.4424 - accuracy: 0.8165\n",
      "Epoch 33/150\n",
      "200/200 [==============================] - 0s 1ms/step - loss: 0.4452 - accuracy: 0.8214\n",
      "Epoch 34/150\n",
      "200/200 [==============================] - 0s 1ms/step - loss: 0.4446 - accuracy: 0.8201\n",
      "Epoch 35/150\n",
      "200/200 [==============================] - 0s 1ms/step - loss: 0.4380 - accuracy: 0.8200\n",
      "Epoch 36/150\n",
      "200/200 [==============================] - 0s 2ms/step - loss: 0.4387 - accuracy: 0.8229\n",
      "Epoch 37/150\n",
      "200/200 [==============================] - 0s 1ms/step - loss: 0.4402 - accuracy: 0.8230\n",
      "Epoch 38/150\n",
      "200/200 [==============================] - 0s 1ms/step - loss: 0.4362 - accuracy: 0.8210\n",
      "Epoch 39/150\n",
      "200/200 [==============================] - 0s 1ms/step - loss: 0.4446 - accuracy: 0.8242\n",
      "Epoch 40/150\n",
      "200/200 [==============================] - 0s 1ms/step - loss: 0.4446 - accuracy: 0.8211\n",
      "Epoch 41/150\n",
      "200/200 [==============================] - 0s 1ms/step - loss: 0.4429 - accuracy: 0.8241\n",
      "Epoch 42/150\n",
      "200/200 [==============================] - 0s 1ms/step - loss: 0.4455 - accuracy: 0.8251\n",
      "Epoch 43/150\n",
      "200/200 [==============================] - 0s 1ms/step - loss: 0.4413 - accuracy: 0.8261\n",
      "Epoch 44/150\n",
      "200/200 [==============================] - 0s 1ms/step - loss: 0.4465 - accuracy: 0.8266\n",
      "Epoch 45/150\n",
      "200/200 [==============================] - 0s 1ms/step - loss: 0.4328 - accuracy: 0.8240\n",
      "Epoch 46/150\n",
      "200/200 [==============================] - 0s 1ms/step - loss: 0.4302 - accuracy: 0.8267\n",
      "Epoch 47/150\n",
      "200/200 [==============================] - 0s 1ms/step - loss: 0.4400 - accuracy: 0.8274\n",
      "Epoch 48/150\n",
      "200/200 [==============================] - 0s 1ms/step - loss: 0.4285 - accuracy: 0.8246\n",
      "Epoch 49/150\n",
      "200/200 [==============================] - 0s 1ms/step - loss: 0.4304 - accuracy: 0.8294\n",
      "Epoch 50/150\n",
      "200/200 [==============================] - 0s 1ms/step - loss: 0.4378 - accuracy: 0.8241\n",
      "Epoch 51/150\n",
      "200/200 [==============================] - 0s 1ms/step - loss: 0.4284 - accuracy: 0.8253\n",
      "Epoch 52/150\n",
      "200/200 [==============================] - 0s 1ms/step - loss: 0.4314 - accuracy: 0.8254\n",
      "Epoch 53/150\n",
      "200/200 [==============================] - 0s 1ms/step - loss: 0.4275 - accuracy: 0.8294\n",
      "Epoch 54/150\n",
      "200/200 [==============================] - 0s 1ms/step - loss: 0.4250 - accuracy: 0.8254\n",
      "Epoch 55/150\n",
      "200/200 [==============================] - 0s 2ms/step - loss: 0.4223 - accuracy: 0.8301\n",
      "Epoch 56/150\n",
      "200/200 [==============================] - 0s 1ms/step - loss: 0.4375 - accuracy: 0.8275\n",
      "Epoch 57/150\n",
      "200/200 [==============================] - 0s 1ms/step - loss: 0.4315 - accuracy: 0.8295\n",
      "Epoch 58/150\n",
      "200/200 [==============================] - 0s 1ms/step - loss: 0.4259 - accuracy: 0.8300\n",
      "Epoch 59/150\n",
      "200/200 [==============================] - 0s 1ms/step - loss: 0.4274 - accuracy: 0.8289\n",
      "Epoch 60/150\n",
      "200/200 [==============================] - 0s 1ms/step - loss: 0.4251 - accuracy: 0.8316\n",
      "Epoch 61/150\n",
      "200/200 [==============================] - 0s 1ms/step - loss: 0.4313 - accuracy: 0.8309\n",
      "Epoch 62/150\n",
      "200/200 [==============================] - 0s 2ms/step - loss: 0.4237 - accuracy: 0.8298\n",
      "Epoch 63/150\n",
      "200/200 [==============================] - 0s 1ms/step - loss: 0.4197 - accuracy: 0.8306\n",
      "Epoch 64/150\n",
      "200/200 [==============================] - 0s 2ms/step - loss: 0.4279 - accuracy: 0.8305\n",
      "Epoch 65/150\n",
      "200/200 [==============================] - 0s 2ms/step - loss: 0.4154 - accuracy: 0.8306\n",
      "Epoch 66/150\n",
      "200/200 [==============================] - 0s 2ms/step - loss: 0.4133 - accuracy: 0.8310\n",
      "Epoch 67/150\n",
      "200/200 [==============================] - 0s 2ms/step - loss: 0.4238 - accuracy: 0.8315\n",
      "Epoch 68/150\n",
      "200/200 [==============================] - 0s 2ms/step - loss: 0.4170 - accuracy: 0.8330\n",
      "Epoch 69/150\n",
      "200/200 [==============================] - 0s 1ms/step - loss: 0.4172 - accuracy: 0.8338\n",
      "Epoch 70/150\n",
      "200/200 [==============================] - 0s 2ms/step - loss: 0.4225 - accuracy: 0.8316\n",
      "Epoch 71/150\n",
      "200/200 [==============================] - 0s 1ms/step - loss: 0.4213 - accuracy: 0.8349\n",
      "Epoch 72/150\n",
      "200/200 [==============================] - 0s 1ms/step - loss: 0.4126 - accuracy: 0.8316\n",
      "Epoch 73/150\n",
      "200/200 [==============================] - 0s 1ms/step - loss: 0.4179 - accuracy: 0.8336\n",
      "Epoch 74/150\n",
      "200/200 [==============================] - 0s 2ms/step - loss: 0.4216 - accuracy: 0.8361\n",
      "Epoch 75/150\n",
      "200/200 [==============================] - 0s 2ms/step - loss: 0.4073 - accuracy: 0.8335\n",
      "Epoch 76/150\n",
      "200/200 [==============================] - 0s 1ms/step - loss: 0.4102 - accuracy: 0.8385\n",
      "Epoch 77/150\n",
      "200/200 [==============================] - 0s 1ms/step - loss: 0.4218 - accuracy: 0.8319\n",
      "Epoch 78/150\n",
      "200/200 [==============================] - 0s 1ms/step - loss: 0.4181 - accuracy: 0.8359\n",
      "Epoch 79/150\n",
      "200/200 [==============================] - 0s 1ms/step - loss: 0.4172 - accuracy: 0.8345\n",
      "Epoch 80/150\n",
      "200/200 [==============================] - 0s 1ms/step - loss: 0.4220 - accuracy: 0.8329\n",
      "Epoch 81/150\n",
      "200/200 [==============================] - 0s 1ms/step - loss: 0.4114 - accuracy: 0.8356\n",
      "Epoch 82/150\n",
      "200/200 [==============================] - 0s 1ms/step - loss: 0.4161 - accuracy: 0.8360\n",
      "Epoch 83/150\n",
      "200/200 [==============================] - 0s 1ms/step - loss: 0.4045 - accuracy: 0.8339\n",
      "Epoch 84/150\n",
      "200/200 [==============================] - 0s 1ms/step - loss: 0.4154 - accuracy: 0.8380\n",
      "Epoch 85/150\n",
      "200/200 [==============================] - 0s 1ms/step - loss: 0.4191 - accuracy: 0.8349\n",
      "Epoch 86/150\n",
      "200/200 [==============================] - 0s 1ms/step - loss: 0.4114 - accuracy: 0.8336\n",
      "Epoch 87/150\n",
      "200/200 [==============================] - 0s 1ms/step - loss: 0.4082 - accuracy: 0.8385\n",
      "Epoch 88/150\n",
      "200/200 [==============================] - 0s 1ms/step - loss: 0.4101 - accuracy: 0.8378\n",
      "Epoch 89/150\n",
      "200/200 [==============================] - 0s 1ms/step - loss: 0.4119 - accuracy: 0.8376\n",
      "Epoch 90/150\n",
      "200/200 [==============================] - 0s 1ms/step - loss: 0.4052 - accuracy: 0.8372\n",
      "Epoch 91/150\n",
      "200/200 [==============================] - 0s 1ms/step - loss: 0.4082 - accuracy: 0.8378\n",
      "Epoch 92/150\n",
      "200/200 [==============================] - 0s 1ms/step - loss: 0.4115 - accuracy: 0.8365\n",
      "Epoch 93/150\n",
      "200/200 [==============================] - 0s 1ms/step - loss: 0.4054 - accuracy: 0.8361\n",
      "Epoch 94/150\n",
      "200/200 [==============================] - 0s 1ms/step - loss: 0.3990 - accuracy: 0.8399\n",
      "Epoch 95/150\n",
      "200/200 [==============================] - 0s 1ms/step - loss: 0.4113 - accuracy: 0.8376\n",
      "Epoch 96/150\n",
      "200/200 [==============================] - 0s 1ms/step - loss: 0.4077 - accuracy: 0.8396\n",
      "Epoch 97/150\n",
      "200/200 [==============================] - 0s 1ms/step - loss: 0.4146 - accuracy: 0.8371\n",
      "Epoch 98/150\n",
      "200/200 [==============================] - 0s 1ms/step - loss: 0.4057 - accuracy: 0.8393\n",
      "Epoch 99/150\n",
      "200/200 [==============================] - 0s 1ms/step - loss: 0.4020 - accuracy: 0.8366\n",
      "Epoch 100/150\n",
      "200/200 [==============================] - 0s 1ms/step - loss: 0.4100 - accuracy: 0.8347\n",
      "Epoch 101/150\n",
      "200/200 [==============================] - 0s 1ms/step - loss: 0.3969 - accuracy: 0.8372\n",
      "Epoch 102/150\n",
      "200/200 [==============================] - 0s 1ms/step - loss: 0.4011 - accuracy: 0.8391\n",
      "Epoch 103/150\n",
      "200/200 [==============================] - 0s 1ms/step - loss: 0.3990 - accuracy: 0.8382\n",
      "Epoch 104/150\n",
      "200/200 [==============================] - 0s 1ms/step - loss: 0.4017 - accuracy: 0.8389\n",
      "Epoch 105/150\n",
      "200/200 [==============================] - 0s 1ms/step - loss: 0.4022 - accuracy: 0.8391\n",
      "Epoch 106/150\n",
      "200/200 [==============================] - 0s 1ms/step - loss: 0.4009 - accuracy: 0.8396\n",
      "Epoch 107/150\n",
      "200/200 [==============================] - 0s 1ms/step - loss: 0.3999 - accuracy: 0.8378\n",
      "Epoch 108/150\n",
      "200/200 [==============================] - 0s 2ms/step - loss: 0.3999 - accuracy: 0.8420\n",
      "Epoch 109/150\n",
      "200/200 [==============================] - 0s 1ms/step - loss: 0.4051 - accuracy: 0.8401\n",
      "Epoch 110/150\n",
      "200/200 [==============================] - 0s 1ms/step - loss: 0.3983 - accuracy: 0.8371\n",
      "Epoch 111/150\n",
      "200/200 [==============================] - 0s 1ms/step - loss: 0.4065 - accuracy: 0.8414\n",
      "Epoch 112/150\n",
      "200/200 [==============================] - 0s 1ms/step - loss: 0.3968 - accuracy: 0.8415\n",
      "Epoch 113/150\n",
      "200/200 [==============================] - 0s 1ms/step - loss: 0.3983 - accuracy: 0.8381\n",
      "Epoch 114/150\n",
      "200/200 [==============================] - 0s 1ms/step - loss: 0.4025 - accuracy: 0.8403\n",
      "Epoch 115/150\n",
      "200/200 [==============================] - 0s 1ms/step - loss: 0.4046 - accuracy: 0.8430\n",
      "Epoch 116/150\n",
      "200/200 [==============================] - 0s 1ms/step - loss: 0.4027 - accuracy: 0.8407\n",
      "Epoch 117/150\n",
      "200/200 [==============================] - 0s 1ms/step - loss: 0.4081 - accuracy: 0.8390\n",
      "Epoch 118/150\n",
      "200/200 [==============================] - 0s 1ms/step - loss: 0.4012 - accuracy: 0.8419\n",
      "Epoch 119/150\n",
      "200/200 [==============================] - 0s 1ms/step - loss: 0.3947 - accuracy: 0.8444\n",
      "Epoch 120/150\n",
      "200/200 [==============================] - 0s 1ms/step - loss: 0.3996 - accuracy: 0.8375\n",
      "Epoch 121/150\n",
      "200/200 [==============================] - 0s 1ms/step - loss: 0.3969 - accuracy: 0.8403\n",
      "Epoch 122/150\n",
      "200/200 [==============================] - 0s 1ms/step - loss: 0.4042 - accuracy: 0.8414\n",
      "Epoch 123/150\n",
      "200/200 [==============================] - 0s 1ms/step - loss: 0.3993 - accuracy: 0.8397\n",
      "Epoch 124/150\n",
      "200/200 [==============================] - 0s 1ms/step - loss: 0.4170 - accuracy: 0.8393\n",
      "Epoch 125/150\n",
      "200/200 [==============================] - 0s 1ms/step - loss: 0.4001 - accuracy: 0.8443\n",
      "Epoch 126/150\n",
      "200/200 [==============================] - 0s 1ms/step - loss: 0.3997 - accuracy: 0.8404\n",
      "Epoch 127/150\n",
      "200/200 [==============================] - 0s 1ms/step - loss: 0.4029 - accuracy: 0.8399\n",
      "Epoch 128/150\n",
      "200/200 [==============================] - 0s 1ms/step - loss: 0.3911 - accuracy: 0.8443\n",
      "Epoch 129/150\n",
      "200/200 [==============================] - 0s 1ms/step - loss: 0.3948 - accuracy: 0.8424\n",
      "Epoch 130/150\n",
      "200/200 [==============================] - 0s 1ms/step - loss: 0.3947 - accuracy: 0.8379\n",
      "Epoch 131/150\n",
      "200/200 [==============================] - 0s 1ms/step - loss: 0.3931 - accuracy: 0.8397\n",
      "Epoch 132/150\n",
      "200/200 [==============================] - 0s 1ms/step - loss: 0.4038 - accuracy: 0.8411\n",
      "Epoch 133/150\n",
      "200/200 [==============================] - 0s 1ms/step - loss: 0.3964 - accuracy: 0.8395\n",
      "Epoch 134/150\n",
      "200/200 [==============================] - 0s 1ms/step - loss: 0.4020 - accuracy: 0.8397\n",
      "Epoch 135/150\n",
      "200/200 [==============================] - 0s 2ms/step - loss: 0.3969 - accuracy: 0.8415\n",
      "Epoch 136/150\n",
      "200/200 [==============================] - 0s 1ms/step - loss: 0.3951 - accuracy: 0.8390\n",
      "Epoch 137/150\n",
      "200/200 [==============================] - 0s 1ms/step - loss: 0.4052 - accuracy: 0.8428\n",
      "Epoch 138/150\n",
      "200/200 [==============================] - 0s 1ms/step - loss: 0.3972 - accuracy: 0.8410\n",
      "Epoch 139/150\n",
      "200/200 [==============================] - 0s 1ms/step - loss: 0.4033 - accuracy: 0.8415\n",
      "Epoch 140/150\n",
      "200/200 [==============================] - 0s 1ms/step - loss: 0.3977 - accuracy: 0.8394\n",
      "Epoch 141/150\n",
      "200/200 [==============================] - 0s 1ms/step - loss: 0.4024 - accuracy: 0.8415\n",
      "Epoch 142/150\n",
      "200/200 [==============================] - 0s 2ms/step - loss: 0.4095 - accuracy: 0.8372\n",
      "Epoch 143/150\n",
      "200/200 [==============================] - 0s 2ms/step - loss: 0.3963 - accuracy: 0.8426\n",
      "Epoch 144/150\n",
      "200/200 [==============================] - 0s 1ms/step - loss: 0.4003 - accuracy: 0.8436\n",
      "Epoch 145/150\n",
      "200/200 [==============================] - 0s 1ms/step - loss: 0.3967 - accuracy: 0.8414\n",
      "Epoch 146/150\n",
      "200/200 [==============================] - 0s 1ms/step - loss: 0.3957 - accuracy: 0.8420\n",
      "Epoch 147/150\n",
      "200/200 [==============================] - 0s 1ms/step - loss: 0.3987 - accuracy: 0.8394\n",
      "Epoch 148/150\n",
      "200/200 [==============================] - 0s 2ms/step - loss: 0.4011 - accuracy: 0.8366\n",
      "Epoch 149/150\n",
      "200/200 [==============================] - 0s 1ms/step - loss: 0.4011 - accuracy: 0.8409\n",
      "Epoch 150/150\n",
      "200/200 [==============================] - 0s 1ms/step - loss: 0.3933 - accuracy: 0.8410\n",
      "Wall time: 46min 16s\n"
     ]
    }
   ],
   "metadata": {}
  },
  {
   "cell_type": "code",
   "execution_count": 31,
   "source": [
    "print('Best params:\\n',halving_cv.best_params_,'\\nBest accuracy:\\n',halving_cv.best_score_)"
   ],
   "outputs": [
    {
     "output_type": "stream",
     "name": "stdout",
     "text": [
      "Best params:\n",
      " {'batch_size': 40, 'epochs': 150, 'optimizer': 'rmsprop'} \n",
      "Best accuracy:\n",
      " 0.8429858429858431\n"
     ]
    }
   ],
   "metadata": {}
  },
  {
   "cell_type": "markdown",
   "source": [
    "# FIM"
   ],
   "metadata": {}
  },
  {
   "cell_type": "markdown",
   "source": [
    "> Professor Diego Dorgam  \n",
    "> [@diegodorgam](https://twitter.com/diegodorgam)"
   ],
   "metadata": {}
  }
 ],
 "metadata": {
  "kernelspec": {
   "name": "python3",
   "display_name": "Python 3.6.8 64-bit"
  },
  "language_info": {
   "codemirror_mode": {
    "name": "ipython",
    "version": 3
   },
   "file_extension": ".py",
   "mimetype": "text/x-python",
   "name": "python",
   "nbconvert_exporter": "python",
   "pygments_lexer": "ipython3",
   "version": "3.6.8"
  },
  "interpreter": {
   "hash": "6a5ed2ccc9d2ba59c3542bbda7f71bcfb6eae0ef46ae44aa32b9fd054184bad6"
  }
 },
 "nbformat": 4,
 "nbformat_minor": 4
}