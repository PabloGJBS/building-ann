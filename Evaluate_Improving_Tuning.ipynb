{
 "cells": [
  {
   "cell_type": "markdown",
   "metadata": {},
   "source": [
    "# REDES NEURAIS ARTIFICIAIS\n",
    "## Evaluate Improve e Tunning"
   ]
  },
  {
   "cell_type": "markdown",
   "metadata": {},
   "source": [
    "# Parte 1 - Pré-processamento dos Dados"
   ]
  },
  {
   "cell_type": "markdown",
   "metadata": {},
   "source": [
    "### Importar as libs"
   ]
  },
  {
   "cell_type": "code",
   "execution_count": 3,
   "metadata": {
    "colab": {},
    "colab_type": "code",
    "id": "MxkJoQBkUIHC"
   },
   "outputs": [],
   "source": [
    "import numpy as np\n",
    "import pandas as pd\n",
    "import tensorflow as tf"
   ]
  },
  {
   "cell_type": "code",
   "execution_count": 4,
   "metadata": {
    "colab": {
     "base_uri": "https://localhost:8080/",
     "height": 34
    },
    "colab_type": "code",
    "id": "ZaTwK7ojXr2F",
    "outputId": "0b27a96d-d11a-43e8-ab4b-87c1f01896fe"
   },
   "outputs": [
    {
     "output_type": "execute_result",
     "data": {
      "text/plain": [
       "'2.3.1'"
      ]
     },
     "metadata": {},
     "execution_count": 4
    }
   ],
   "source": [
    "tf.__version__"
   ]
  },
  {
   "cell_type": "markdown",
   "metadata": {},
   "source": [
    "### Importar o dataset"
   ]
  },
  {
   "cell_type": "code",
   "execution_count": 5,
   "metadata": {},
   "outputs": [
    {
     "output_type": "execute_result",
     "data": {
      "text/plain": [
       "   RowNumber  CustomerId   Surname  CreditScore Geography  Gender  Age  \\\n",
       "0          1    15634602  Hargrave          619    France  Female   42   \n",
       "1          2    15647311      Hill          608     Spain  Female   41   \n",
       "2          3    15619304      Onio          502    France  Female   42   \n",
       "3          4    15701354      Boni          699    France  Female   39   \n",
       "4          5    15737888  Mitchell          850     Spain  Female   43   \n",
       "\n",
       "   Tenure    Balance  NumOfProducts  HasCrCard  IsActiveMember  \\\n",
       "0       2       0.00              1          1               1   \n",
       "1       1   83807.86              1          0               1   \n",
       "2       8  159660.80              3          1               0   \n",
       "3       1       0.00              2          0               0   \n",
       "4       2  125510.82              1          1               1   \n",
       "\n",
       "   EstimatedSalary  Exited  \n",
       "0        101348.88       1  \n",
       "1        112542.58       0  \n",
       "2        113931.57       1  \n",
       "3         93826.63       0  \n",
       "4         79084.10       0  "
      ],
      "text/html": "<div>\n<style scoped>\n    .dataframe tbody tr th:only-of-type {\n        vertical-align: middle;\n    }\n\n    .dataframe tbody tr th {\n        vertical-align: top;\n    }\n\n    .dataframe thead th {\n        text-align: right;\n    }\n</style>\n<table border=\"1\" class=\"dataframe\">\n  <thead>\n    <tr style=\"text-align: right;\">\n      <th></th>\n      <th>RowNumber</th>\n      <th>CustomerId</th>\n      <th>Surname</th>\n      <th>CreditScore</th>\n      <th>Geography</th>\n      <th>Gender</th>\n      <th>Age</th>\n      <th>Tenure</th>\n      <th>Balance</th>\n      <th>NumOfProducts</th>\n      <th>HasCrCard</th>\n      <th>IsActiveMember</th>\n      <th>EstimatedSalary</th>\n      <th>Exited</th>\n    </tr>\n  </thead>\n  <tbody>\n    <tr>\n      <th>0</th>\n      <td>1</td>\n      <td>15634602</td>\n      <td>Hargrave</td>\n      <td>619</td>\n      <td>France</td>\n      <td>Female</td>\n      <td>42</td>\n      <td>2</td>\n      <td>0.00</td>\n      <td>1</td>\n      <td>1</td>\n      <td>1</td>\n      <td>101348.88</td>\n      <td>1</td>\n    </tr>\n    <tr>\n      <th>1</th>\n      <td>2</td>\n      <td>15647311</td>\n      <td>Hill</td>\n      <td>608</td>\n      <td>Spain</td>\n      <td>Female</td>\n      <td>41</td>\n      <td>1</td>\n      <td>83807.86</td>\n      <td>1</td>\n      <td>0</td>\n      <td>1</td>\n      <td>112542.58</td>\n      <td>0</td>\n    </tr>\n    <tr>\n      <th>2</th>\n      <td>3</td>\n      <td>15619304</td>\n      <td>Onio</td>\n      <td>502</td>\n      <td>France</td>\n      <td>Female</td>\n      <td>42</td>\n      <td>8</td>\n      <td>159660.80</td>\n      <td>3</td>\n      <td>1</td>\n      <td>0</td>\n      <td>113931.57</td>\n      <td>1</td>\n    </tr>\n    <tr>\n      <th>3</th>\n      <td>4</td>\n      <td>15701354</td>\n      <td>Boni</td>\n      <td>699</td>\n      <td>France</td>\n      <td>Female</td>\n      <td>39</td>\n      <td>1</td>\n      <td>0.00</td>\n      <td>2</td>\n      <td>0</td>\n      <td>0</td>\n      <td>93826.63</td>\n      <td>0</td>\n    </tr>\n    <tr>\n      <th>4</th>\n      <td>5</td>\n      <td>15737888</td>\n      <td>Mitchell</td>\n      <td>850</td>\n      <td>Spain</td>\n      <td>Female</td>\n      <td>43</td>\n      <td>2</td>\n      <td>125510.82</td>\n      <td>1</td>\n      <td>1</td>\n      <td>1</td>\n      <td>79084.10</td>\n      <td>0</td>\n    </tr>\n  </tbody>\n</table>\n</div>"
     },
     "metadata": {},
     "execution_count": 5
    }
   ],
   "source": [
    "dataset = pd.read_csv('Churn_Modelling.csv')\n",
    "dataset.head()"
   ]
  },
  {
   "cell_type": "code",
   "execution_count": 6,
   "metadata": {},
   "outputs": [
    {
     "output_type": "stream",
     "name": "stdout",
     "text": [
      "X >>\n [[619 'France' 'Female' ... 1 1 101348.88]\n [608 'Spain' 'Female' ... 0 1 112542.58]\n [502 'France' 'Female' ... 1 0 113931.57]\n ...\n [709 'France' 'Female' ... 0 1 42085.58]\n [772 'Germany' 'Male' ... 1 0 92888.52]\n [792 'France' 'Female' ... 1 0 38190.78]]\ny >>\n [1 0 1 ... 1 1 0]\n"
     ]
    }
   ],
   "source": [
    "X = dataset.iloc[:, 3:13].values\n",
    "y = dataset.iloc[:, 13].values\n",
    "print(\"X >>\\n\",X)\n",
    "print(\"y >>\\n\",y)"
   ]
  },
  {
   "cell_type": "markdown",
   "metadata": {},
   "source": [
    "### Transformando os dados categóricos\n"
   ]
  },
  {
   "cell_type": "code",
   "execution_count": 7,
   "metadata": {},
   "outputs": [
    {
     "output_type": "stream",
     "name": "stdout",
     "text": [
      "[[619 'France' 0 ... 1 1 101348.88]\n [608 'Spain' 0 ... 0 1 112542.58]\n [502 'France' 0 ... 1 0 113931.57]\n ...\n [709 'France' 0 ... 0 1 42085.58]\n [772 'Germany' 1 ... 1 0 92888.52]\n [792 'France' 0 ... 1 0 38190.78]]\n[[1.0 0.0 0.0 ... 1 1 101348.88]\n [0.0 0.0 1.0 ... 0 1 112542.58]\n [1.0 0.0 0.0 ... 1 0 113931.57]\n ...\n [1.0 0.0 0.0 ... 0 1 42085.58]\n [0.0 1.0 0.0 ... 1 0 92888.52]\n [1.0 0.0 0.0 ... 1 0 38190.78]]\n"
     ]
    }
   ],
   "source": [
    "# Label Encoding the \"Gender\" column\n",
    "from sklearn.preprocessing import LabelEncoder\n",
    "le = LabelEncoder()\n",
    "X[:, 2] = le.fit_transform(X[:, 2])\n",
    "print(X)\n",
    "# One Hot Encoding the \"Geography\" column\n",
    "from sklearn.compose import ColumnTransformer\n",
    "from sklearn.preprocessing import OneHotEncoder\n",
    "ct = ColumnTransformer(transformers=[('encoder', OneHotEncoder(), [1])], remainder='passthrough')\n",
    "X = np.array(ct.fit_transform(X))\n",
    "print(X)"
   ]
  },
  {
   "cell_type": "markdown",
   "metadata": {},
   "source": [
    "# Dividindo o dataset em conjunto de treinamento e conjunto de teste"
   ]
  },
  {
   "cell_type": "code",
   "execution_count": 8,
   "metadata": {},
   "outputs": [],
   "source": [
    "from sklearn.model_selection import train_test_split\n",
    "X_train, X_test, y_train, y_test = train_test_split(X, y, test_size = 0.2, random_state = 0)"
   ]
  },
  {
   "cell_type": "markdown",
   "metadata": {},
   "source": [
    "# Feature Scaling"
   ]
  },
  {
   "cell_type": "code",
   "execution_count": 9,
   "metadata": {},
   "outputs": [],
   "source": [
    "from sklearn.preprocessing import StandardScaler\n",
    "sc = StandardScaler()\n",
    "X_train = sc.fit_transform(X_train)\n",
    "X_test = sc.transform(X_test)"
   ]
  },
  {
   "cell_type": "code",
   "execution_count": 10,
   "metadata": {},
   "outputs": [
    {
     "output_type": "execute_result",
     "data": {
      "text/plain": [
       "(8000, 12)"
      ]
     },
     "metadata": {},
     "execution_count": 10
    }
   ],
   "source": [
    "np.shape(X_train)"
   ]
  },
  {
   "cell_type": "markdown",
   "metadata": {},
   "source": [
    "---\n",
    "# Parte 2 -Vamos construir uma ANN!\n"
   ]
  },
  {
   "cell_type": "code",
   "execution_count": 11,
   "metadata": {},
   "outputs": [],
   "source": [
    "tf.random.set_seed(0) # Define uma seed padrão para a análise sobre a acurácia não variar"
   ]
  },
  {
   "cell_type": "markdown",
   "metadata": {
    "colab_type": "text",
    "id": "KvdeScabXtlB"
   },
   "source": [
    "### Initializing the ANN"
   ]
  },
  {
   "cell_type": "code",
   "execution_count": 12,
   "metadata": {
    "colab": {},
    "colab_type": "code",
    "id": "3dtrScHxXQox"
   },
   "outputs": [],
   "source": [
    "ann = tf.keras.models.Sequential()"
   ]
  },
  {
   "cell_type": "markdown",
   "metadata": {
    "colab_type": "text",
    "id": "rP6urV6SX7kS"
   },
   "source": [
    "### Adding the input layer and the first hidden layer"
   ]
  },
  {
   "cell_type": "code",
   "execution_count": 13,
   "metadata": {
    "colab": {},
    "colab_type": "code",
    "id": "bppGycBXYCQr"
   },
   "outputs": [],
   "source": [
    "ann.add(tf.keras.layers.Dense(units=6, activation='exponential'))"
   ]
  },
  {
   "cell_type": "markdown",
   "metadata": {
    "colab_type": "text",
    "id": "BELWAc_8YJze"
   },
   "source": [
    "### Adding the second hidden layer"
   ]
  },
  {
   "cell_type": "code",
   "execution_count": 14,
   "metadata": {
    "colab": {},
    "colab_type": "code",
    "id": "JneR0u0sYRTd"
   },
   "outputs": [],
   "source": [
    "ann.add(tf.keras.layers.Dense(units=6, activation='tanh'))"
   ]
  },
  {
   "cell_type": "markdown",
   "metadata": {
    "colab_type": "text",
    "id": "OyNEe6RXYcU4"
   },
   "source": [
    "### Adding the output layer"
   ]
  },
  {
   "cell_type": "code",
   "execution_count": 15,
   "metadata": {
    "colab": {},
    "colab_type": "code",
    "id": "Cn3x41RBYfvY"
   },
   "outputs": [],
   "source": [
    "ann.add(tf.keras.layers.Dense(units=1, activation='sigmoid'))"
   ]
  },
  {
   "cell_type": "markdown",
   "metadata": {
    "colab_type": "text",
    "id": "JT4u2S1_Y4WG"
   },
   "source": [
    "## Part 3 - Training the ANN"
   ]
  },
  {
   "cell_type": "markdown",
   "metadata": {
    "colab_type": "text",
    "id": "8GWlJChhY_ZI"
   },
   "source": [
    "### Compiling the ANN"
   ]
  },
  {
   "cell_type": "code",
   "execution_count": 16,
   "metadata": {
    "colab": {},
    "colab_type": "code",
    "id": "fG3RrwDXZEaS"
   },
   "outputs": [],
   "source": [
    "ann.compile(optimizer = 'adam', loss = 'binary_crossentropy', metrics = ['accuracy'])"
   ]
  },
  {
   "cell_type": "markdown",
   "metadata": {
    "colab_type": "text",
    "id": "0QR_G5u7ZLSM"
   },
   "source": [
    "### Training the ANN on the Training set"
   ]
  },
  {
   "cell_type": "code",
   "execution_count": 17,
   "metadata": {
    "colab": {
     "base_uri": "https://localhost:8080/",
     "height": 1000
    },
    "colab_type": "code",
    "id": "nHZ-LKv_ZRb3",
    "outputId": "718cc4b0-b5aa-40f0-9b20-d3d31730a531"
   },
   "outputs": [
    {
     "output_type": "stream",
     "name": "stdout",
     "text": [
      "Epoch 1/100\n",
      "250/250 [==============================] - 0s 1ms/step - loss: 0.6379 - accuracy: 0.6420\n",
      "Epoch 2/100\n",
      "250/250 [==============================] - 0s 856us/step - loss: 0.4738 - accuracy: 0.7972\n",
      "Epoch 3/100\n",
      "250/250 [==============================] - 0s 848us/step - loss: 0.4462 - accuracy: 0.8060\n",
      "Epoch 4/100\n",
      "250/250 [==============================] - 0s 852us/step - loss: 0.4245 - accuracy: 0.8166\n",
      "Epoch 5/100\n",
      "250/250 [==============================] - 0s 832us/step - loss: 0.4109 - accuracy: 0.8205\n",
      "Epoch 6/100\n",
      "250/250 [==============================] - 0s 819us/step - loss: 0.3983 - accuracy: 0.8255\n",
      "Epoch 7/100\n",
      "250/250 [==============================] - 0s 811us/step - loss: 0.3875 - accuracy: 0.8265\n",
      "Epoch 8/100\n",
      "250/250 [==============================] - 0s 812us/step - loss: 0.3801 - accuracy: 0.8285\n",
      "Epoch 9/100\n",
      "250/250 [==============================] - 0s 820us/step - loss: 0.3748 - accuracy: 0.8329\n",
      "Epoch 10/100\n",
      "250/250 [==============================] - 0s 804us/step - loss: 0.3711 - accuracy: 0.8329\n",
      "Epoch 11/100\n",
      "250/250 [==============================] - 0s 804us/step - loss: 0.3680 - accuracy: 0.8336\n",
      "Epoch 12/100\n",
      "250/250 [==============================] - 0s 822us/step - loss: 0.3656 - accuracy: 0.8350\n",
      "Epoch 13/100\n",
      "250/250 [==============================] - 0s 824us/step - loss: 0.3631 - accuracy: 0.8404\n",
      "Epoch 14/100\n",
      "250/250 [==============================] - 0s 803us/step - loss: 0.3607 - accuracy: 0.8410\n",
      "Epoch 15/100\n",
      "250/250 [==============================] - 0s 815us/step - loss: 0.3587 - accuracy: 0.8466\n",
      "Epoch 16/100\n",
      "250/250 [==============================] - 0s 788us/step - loss: 0.3572 - accuracy: 0.8465\n",
      "Epoch 17/100\n",
      "250/250 [==============================] - 0s 811us/step - loss: 0.3557 - accuracy: 0.8484\n",
      "Epoch 18/100\n",
      "250/250 [==============================] - 0s 816us/step - loss: 0.3550 - accuracy: 0.8505\n",
      "Epoch 19/100\n",
      "250/250 [==============================] - 0s 816us/step - loss: 0.3536 - accuracy: 0.8518\n",
      "Epoch 20/100\n",
      "250/250 [==============================] - 0s 817us/step - loss: 0.3529 - accuracy: 0.8514\n",
      "Epoch 21/100\n",
      "250/250 [==============================] - 0s 812us/step - loss: 0.3517 - accuracy: 0.8519\n",
      "Epoch 22/100\n",
      "250/250 [==============================] - 0s 856us/step - loss: 0.3516 - accuracy: 0.8530\n",
      "Epoch 23/100\n",
      "250/250 [==============================] - 0s 772us/step - loss: 0.3505 - accuracy: 0.8540\n",
      "Epoch 24/100\n",
      "250/250 [==============================] - 0s 788us/step - loss: 0.3497 - accuracy: 0.8544\n",
      "Epoch 25/100\n",
      "250/250 [==============================] - 0s 808us/step - loss: 0.3492 - accuracy: 0.8547\n",
      "Epoch 26/100\n",
      "250/250 [==============================] - 0s 800us/step - loss: 0.3487 - accuracy: 0.8549\n",
      "Epoch 27/100\n",
      "250/250 [==============================] - 0s 800us/step - loss: 0.3481 - accuracy: 0.8566\n",
      "Epoch 28/100\n",
      "250/250 [==============================] - 0s 796us/step - loss: 0.3475 - accuracy: 0.8564\n",
      "Epoch 29/100\n",
      "250/250 [==============================] - 0s 804us/step - loss: 0.3471 - accuracy: 0.8583\n",
      "Epoch 30/100\n",
      "250/250 [==============================] - 0s 800us/step - loss: 0.3459 - accuracy: 0.8586\n",
      "Epoch 31/100\n",
      "250/250 [==============================] - 0s 779us/step - loss: 0.3454 - accuracy: 0.8590\n",
      "Epoch 32/100\n",
      "250/250 [==============================] - 0s 799us/step - loss: 0.3442 - accuracy: 0.8589\n",
      "Epoch 33/100\n",
      "250/250 [==============================] - 0s 800us/step - loss: 0.3440 - accuracy: 0.8597\n",
      "Epoch 34/100\n",
      "250/250 [==============================] - 0s 795us/step - loss: 0.3436 - accuracy: 0.8586\n",
      "Epoch 35/100\n",
      "250/250 [==============================] - 0s 783us/step - loss: 0.3424 - accuracy: 0.8612\n",
      "Epoch 36/100\n",
      "250/250 [==============================] - 0s 780us/step - loss: 0.3423 - accuracy: 0.8615\n",
      "Epoch 37/100\n",
      "250/250 [==============================] - 0s 772us/step - loss: 0.3420 - accuracy: 0.8601\n",
      "Epoch 38/100\n",
      "250/250 [==============================] - 0s 772us/step - loss: 0.3417 - accuracy: 0.8614\n",
      "Epoch 39/100\n",
      "250/250 [==============================] - 0s 786us/step - loss: 0.3413 - accuracy: 0.8619\n",
      "Epoch 40/100\n",
      "250/250 [==============================] - 0s 795us/step - loss: 0.3410 - accuracy: 0.8622\n",
      "Epoch 41/100\n",
      "250/250 [==============================] - 0s 804us/step - loss: 0.3405 - accuracy: 0.8622\n",
      "Epoch 42/100\n",
      "250/250 [==============================] - 0s 804us/step - loss: 0.3403 - accuracy: 0.8605\n",
      "Epoch 43/100\n",
      "250/250 [==============================] - 0s 794us/step - loss: 0.3399 - accuracy: 0.8611\n",
      "Epoch 44/100\n",
      "250/250 [==============================] - 0s 793us/step - loss: 0.3391 - accuracy: 0.8633\n",
      "Epoch 45/100\n",
      "250/250 [==============================] - 0s 874us/step - loss: 0.3396 - accuracy: 0.8619\n",
      "Epoch 46/100\n",
      "250/250 [==============================] - 0s 764us/step - loss: 0.3385 - accuracy: 0.8622\n",
      "Epoch 47/100\n",
      "250/250 [==============================] - 0s 764us/step - loss: 0.3379 - accuracy: 0.8637\n",
      "Epoch 48/100\n",
      "250/250 [==============================] - 0s 794us/step - loss: 0.3376 - accuracy: 0.8625\n",
      "Epoch 49/100\n",
      "250/250 [==============================] - 0s 800us/step - loss: 0.3371 - accuracy: 0.8631\n",
      "Epoch 50/100\n",
      "250/250 [==============================] - 0s 852us/step - loss: 0.3366 - accuracy: 0.8629\n",
      "Epoch 51/100\n",
      "250/250 [==============================] - 0s 756us/step - loss: 0.3361 - accuracy: 0.8643\n",
      "Epoch 52/100\n",
      "250/250 [==============================] - 0s 776us/step - loss: 0.3360 - accuracy: 0.8609\n",
      "Epoch 53/100\n",
      "250/250 [==============================] - 0s 795us/step - loss: 0.3362 - accuracy: 0.8633\n",
      "Epoch 54/100\n",
      "250/250 [==============================] - 0s 812us/step - loss: 0.3358 - accuracy: 0.8644\n",
      "Epoch 55/100\n",
      "250/250 [==============================] - 0s 785us/step - loss: 0.3354 - accuracy: 0.8641\n",
      "Epoch 56/100\n",
      "250/250 [==============================] - 0s 803us/step - loss: 0.3353 - accuracy: 0.8631\n",
      "Epoch 57/100\n",
      "250/250 [==============================] - 0s 804us/step - loss: 0.3351 - accuracy: 0.8637\n",
      "Epoch 58/100\n",
      "250/250 [==============================] - 0s 804us/step - loss: 0.3350 - accuracy: 0.8618\n",
      "Epoch 59/100\n",
      "250/250 [==============================] - 0s 803us/step - loss: 0.3350 - accuracy: 0.8635\n",
      "Epoch 60/100\n",
      "250/250 [==============================] - 0s 796us/step - loss: 0.3344 - accuracy: 0.8658\n",
      "Epoch 61/100\n",
      "250/250 [==============================] - 0s 780us/step - loss: 0.3347 - accuracy: 0.8630\n",
      "Epoch 62/100\n",
      "250/250 [==============================] - 0s 799us/step - loss: 0.3339 - accuracy: 0.8625\n",
      "Epoch 63/100\n",
      "250/250 [==============================] - 0s 796us/step - loss: 0.3342 - accuracy: 0.8622\n",
      "Epoch 64/100\n",
      "250/250 [==============================] - 0s 780us/step - loss: 0.3336 - accuracy: 0.8631\n",
      "Epoch 65/100\n",
      "250/250 [==============================] - 0s 783us/step - loss: 0.3336 - accuracy: 0.8643\n",
      "Epoch 66/100\n",
      "250/250 [==============================] - 0s 799us/step - loss: 0.3330 - accuracy: 0.8636\n",
      "Epoch 67/100\n",
      "250/250 [==============================] - 0s 800us/step - loss: 0.3333 - accuracy: 0.8641\n",
      "Epoch 68/100\n",
      "250/250 [==============================] - 0s 796us/step - loss: 0.3331 - accuracy: 0.8646\n",
      "Epoch 69/100\n",
      "250/250 [==============================] - 0s 796us/step - loss: 0.3328 - accuracy: 0.8637\n",
      "Epoch 70/100\n",
      "250/250 [==============================] - 0s 803us/step - loss: 0.3330 - accuracy: 0.8634\n",
      "Epoch 71/100\n",
      "250/250 [==============================] - 0s 795us/step - loss: 0.3325 - accuracy: 0.8639\n",
      "Epoch 72/100\n",
      "250/250 [==============================] - 0s 800us/step - loss: 0.3327 - accuracy: 0.8620\n",
      "Epoch 73/100\n",
      "250/250 [==============================] - 0s 803us/step - loss: 0.3328 - accuracy: 0.8635\n",
      "Epoch 74/100\n",
      "250/250 [==============================] - 0s 828us/step - loss: 0.3325 - accuracy: 0.8644\n",
      "Epoch 75/100\n",
      "250/250 [==============================] - 0s 772us/step - loss: 0.3320 - accuracy: 0.8639\n",
      "Epoch 76/100\n",
      "250/250 [==============================] - 0s 788us/step - loss: 0.3321 - accuracy: 0.8626\n",
      "Epoch 77/100\n",
      "250/250 [==============================] - 0s 792us/step - loss: 0.3318 - accuracy: 0.8656\n",
      "Epoch 78/100\n",
      "250/250 [==============================] - 0s 804us/step - loss: 0.3318 - accuracy: 0.8636\n",
      "Epoch 79/100\n",
      "250/250 [==============================] - 0s 788us/step - loss: 0.3318 - accuracy: 0.8648\n",
      "Epoch 80/100\n",
      "250/250 [==============================] - 0s 812us/step - loss: 0.3318 - accuracy: 0.8644\n",
      "Epoch 81/100\n",
      "250/250 [==============================] - 0s 799us/step - loss: 0.3313 - accuracy: 0.8646\n",
      "Epoch 82/100\n",
      "250/250 [==============================] - 0s 792us/step - loss: 0.3311 - accuracy: 0.8626\n",
      "Epoch 83/100\n",
      "250/250 [==============================] - 0s 806us/step - loss: 0.3313 - accuracy: 0.8635\n",
      "Epoch 84/100\n",
      "250/250 [==============================] - 0s 796us/step - loss: 0.3310 - accuracy: 0.8643\n",
      "Epoch 85/100\n",
      "250/250 [==============================] - 0s 820us/step - loss: 0.3313 - accuracy: 0.8641\n",
      "Epoch 86/100\n",
      "250/250 [==============================] - 0s 796us/step - loss: 0.3311 - accuracy: 0.8634\n",
      "Epoch 87/100\n",
      "250/250 [==============================] - 0s 792us/step - loss: 0.3308 - accuracy: 0.8640\n",
      "Epoch 88/100\n",
      "250/250 [==============================] - 0s 790us/step - loss: 0.3307 - accuracy: 0.8639\n",
      "Epoch 89/100\n",
      "250/250 [==============================] - 0s 808us/step - loss: 0.3304 - accuracy: 0.8631\n",
      "Epoch 90/100\n",
      "250/250 [==============================] - 0s 891us/step - loss: 0.3308 - accuracy: 0.8639\n",
      "Epoch 91/100\n",
      "250/250 [==============================] - 0s 772us/step - loss: 0.3306 - accuracy: 0.8636\n",
      "Epoch 92/100\n",
      "250/250 [==============================] - 0s 780us/step - loss: 0.3313 - accuracy: 0.8648\n",
      "Epoch 93/100\n",
      "250/250 [==============================] - 0s 792us/step - loss: 0.3303 - accuracy: 0.8639\n",
      "Epoch 94/100\n",
      "250/250 [==============================] - 0s 802us/step - loss: 0.3302 - accuracy: 0.8640\n",
      "Epoch 95/100\n",
      "250/250 [==============================] - 0s 915us/step - loss: 0.3300 - accuracy: 0.8654\n",
      "Epoch 96/100\n",
      "250/250 [==============================] - 0s 748us/step - loss: 0.3302 - accuracy: 0.8636\n",
      "Epoch 97/100\n",
      "250/250 [==============================] - 0s 768us/step - loss: 0.3300 - accuracy: 0.8656\n",
      "Epoch 98/100\n",
      "250/250 [==============================] - 0s 804us/step - loss: 0.3297 - accuracy: 0.8641\n",
      "Epoch 99/100\n",
      "250/250 [==============================] - 0s 794us/step - loss: 0.3301 - accuracy: 0.8648\n",
      "Epoch 100/100\n",
      "250/250 [==============================] - 0s 792us/step - loss: 0.3300 - accuracy: 0.8646\n"
     ]
    },
    {
     "output_type": "execute_result",
     "data": {
      "text/plain": [
       "<tensorflow.python.keras.callbacks.History at 0x1fc72f1bfd0>"
      ]
     },
     "metadata": {},
     "execution_count": 17
    }
   ],
   "source": [
    "ann.fit(X_train, y_train, batch_size = 32, epochs = 100)"
   ]
  },
  {
   "cell_type": "markdown",
   "metadata": {},
   "source": [
    "# Parte 3 - Fazendo predições e avaliando o modelo\n",
    "\n",
    "## Prevendo os resultados com o conjunto de testes"
   ]
  },
  {
   "cell_type": "code",
   "execution_count": 18,
   "metadata": {},
   "outputs": [
    {
     "output_type": "execute_result",
     "data": {
      "text/plain": [
       "array([[0.24850568],\n",
       "       [0.21643874],\n",
       "       [0.1447384 ],\n",
       "       ...,\n",
       "       [0.18251649],\n",
       "       [0.28312838],\n",
       "       [0.30762452]], dtype=float32)"
      ]
     },
     "metadata": {},
     "execution_count": 18
    }
   ],
   "source": [
    "y_pred = ann.predict(X_test)\n",
    "y_pred"
   ]
  },
  {
   "cell_type": "code",
   "execution_count": 19,
   "metadata": {},
   "outputs": [
    {
     "output_type": "execute_result",
     "data": {
      "text/plain": [
       "array([[False],\n",
       "       [False],\n",
       "       [False],\n",
       "       ...,\n",
       "       [False],\n",
       "       [False],\n",
       "       [False]])"
      ]
     },
     "metadata": {},
     "execution_count": 19
    }
   ],
   "source": [
    "y_pred = (y_pred > 0.5)\n",
    "y_pred"
   ]
  },
  {
   "cell_type": "markdown",
   "metadata": {},
   "source": [
    "# Criando uma Confusion Matrix"
   ]
  },
  {
   "cell_type": "code",
   "execution_count": 20,
   "metadata": {},
   "outputs": [
    {
     "output_type": "stream",
     "name": "stdout",
     "text": [
      "[[1519   76]\n [ 190  215]]\n"
     ]
    }
   ],
   "source": [
    "from sklearn.metrics import confusion_matrix\n",
    "cm = confusion_matrix(y_test, y_pred)\n",
    "print(cm)"
   ]
  },
  {
   "cell_type": "code",
   "execution_count": 21,
   "metadata": {},
   "outputs": [
    {
     "output_type": "execute_result",
     "data": {
      "text/plain": [
       "0.867"
      ]
     },
     "metadata": {},
     "execution_count": 21
    }
   ],
   "source": [
    "from sklearn.metrics import (accuracy_score)\n",
    "accuracy_score(y_test, y_pred)"
   ]
  },
  {
   "cell_type": "markdown",
   "metadata": {},
   "source": [
    "---\n",
    "# Avaliando o Modelo"
   ]
  },
  {
   "cell_type": "code",
   "execution_count": 88,
   "metadata": {},
   "outputs": [],
   "source": [
    "# Evaluating the ANN\n",
    "from tensorflow.keras.wrappers.scikit_learn import KerasClassifier\n",
    "from sklearn.model_selection import cross_val_score\n",
    "from tensorflow.keras.models import Sequential\n",
    "from tensorflow.keras.layers import Dense"
   ]
  },
  {
   "cell_type": "code",
   "execution_count": 89,
   "metadata": {},
   "outputs": [],
   "source": [
    "def build_classifier():\n",
    "    classifier = Sequential()\n",
    "    classifier.add(Dense(units = 6, kernel_initializer = 'uniform', activation = 'exponential', input_dim = 12))\n",
    "    classifier.add(Dense(units = 6, kernel_initializer = 'uniform', activation = 'tanh'))\n",
    "    classifier.add(Dense(units = 1, kernel_initializer = 'uniform', activation = 'sigmoid'))\n",
    "    classifier.compile(optimizer = 'adam', loss = 'binary_crossentropy', metrics = ['accuracy'])\n",
    "    return classifier"
   ]
  },
  {
   "cell_type": "code",
   "execution_count": 90,
   "metadata": {},
   "outputs": [],
   "source": [
    "classifier = KerasClassifier(build_fn = build_classifier, batch_size = 10, epochs = 10)\n",
    "accuracies = cross_val_score(estimator = classifier, X = X_train, y = y_train, cv = 10, n_jobs = -1)\n",
    "mean = accuracies.mean()\n",
    "variance = accuracies.std()"
   ]
  },
  {
   "cell_type": "code",
   "execution_count": 91,
   "metadata": {},
   "outputs": [
    {
     "output_type": "stream",
     "name": "stdout",
     "text": [
      "0.8317499935626984 0.010985784746768206\n"
     ]
    }
   ],
   "source": [
    "print(mean,variance)"
   ]
  },
  {
   "cell_type": "markdown",
   "metadata": {},
   "source": [
    "# Melhorando o modelo"
   ]
  },
  {
   "cell_type": "code",
   "execution_count": 92,
   "metadata": {},
   "outputs": [],
   "source": [
    "# Improving the ANN\n",
    "# Dropout Regularization to reduce overfitting if needed\n",
    "from tensorflow.keras.layers import Dropout\n",
    "\n",
    "def build_classifier():\n",
    "    classifier = Sequential()\n",
    "    classifier.add(Dense(units = 6, kernel_initializer = 'uniform', activation = 'exponential', input_dim = 12))\n",
    "    classifier.add(Dropout(rate = 0.1))\n",
    "    classifier.add(Dense(units = 6, kernel_initializer = 'uniform', activation = 'tanh'))\n",
    "    classifier.add(Dropout(rate = 0.1))\n",
    "    classifier.add(Dense(units = 1, kernel_initializer = 'uniform', activation = 'sigmoid'))\n",
    "    classifier.compile(optimizer = 'adam', loss = 'binary_crossentropy', metrics = ['accuracy'])\n",
    "    return classifier"
   ]
  },
  {
   "cell_type": "code",
   "execution_count": 93,
   "metadata": {},
   "outputs": [],
   "source": [
    "classifier = KerasClassifier(build_fn = build_classifier, batch_size = 10, epochs = 10)\n",
    "accuracies = cross_val_score(estimator = classifier, X = X_train, y = y_train, cv = 10, n_jobs = -1)\n",
    "mean = accuracies.mean()\n",
    "variance = accuracies.std()"
   ]
  },
  {
   "cell_type": "code",
   "execution_count": 94,
   "metadata": {},
   "outputs": [
    {
     "output_type": "stream",
     "name": "stdout",
     "text": [
      "0.8259999930858613 0.010647770900679292\n"
     ]
    }
   ],
   "source": [
    "print(mean,variance)"
   ]
  },
  {
   "source": [
    "Tentei por algumas vezes gerar uma variância maior utilizando as funções de ativação que utilizei na primeira parte, porém não consegui, com o melhor resultado sendo o registrado anteriormente, com variância muito próxima, porém diminuindo a média. Alterar o valor do dropout e o otimizador não gerou resultados melhores."
   ],
   "cell_type": "markdown",
   "metadata": {}
  },
  {
   "cell_type": "markdown",
   "metadata": {},
   "source": [
    "# Tuning the ANN"
   ]
  },
  {
   "cell_type": "code",
   "execution_count": 95,
   "metadata": {},
   "outputs": [],
   "source": [
    "# Como o professor havia dito durante a aula, decidi não utilizar o GridSearch, pois demanda um processamento muito grande da máquina, sendo apenas algo opcional. \n",
    "\n",
    "#from tensorflow.keras.wrappers.scikit_learn import KerasClassifier\n",
    "#from sklearn.model_selection import GridSearchCV\n",
    "#from tensorflow.keras.models import Sequential\n",
    "#from tensorflow.keras.layers import Dense\n",
    "\n",
    "#def build_classifier(optimizer):\n",
    "#    classifier = Sequential()\n",
    "#    classifier.add(Dense(units = 6, kernel_initializer = 'uniform', activation = 'relu', input_dim = 12))\n",
    "#    classifier.add(Dropout(rate = 0.1))\n",
    "#    classifier.add(Dense(units = 6, kernel_initializer = 'uniform', activation = 'relu'))\n",
    "#    classifier.add(Dropout(rate = 0.1))\n",
    "#    classifier.add(Dense(units = 1, kernel_initializer = 'uniform', activation = 'sigmoid'))\n",
    "#    classifier.compile(optimizer = optimizer, loss = 'binary_crossentropy', metrics = ['accuracy'])\n",
    "#    return classifier\n",
    "\n",
    "#classifier = KerasClassifier(build_fn = build_classifier)\n",
    "\n",
    "#parameters = {\n",
    "#    'batch_size': [10, 25, 32],\n",
    "#    'epochs': [50, 100],\n",
    "#    'optimizer': ['adam', 'rmsprop']\n",
    "#}\n",
    "\n",
    "#grid_search = GridSearchCV(estimator = classifier,\n",
    "#                           scoring = 'accuracy',\n",
    "#                           param_grid = parameters,\n",
    "#                           cv = 10)"
   ]
  },
  {
   "cell_type": "code",
   "execution_count": 96,
   "metadata": {},
   "outputs": [],
   "source": [
    "#%%time\n",
    "\n",
    "#grid_search = grid_search.fit(X_train, y_train)"
   ]
  },
  {
   "cell_type": "code",
   "execution_count": 97,
   "metadata": {},
   "outputs": [],
   "source": [
    "#print('Best params:\\n',grid_search.best_params_,'\\nBest accuracy:\\n',grid_search.best_score_)"
   ]
  },
  {
   "cell_type": "markdown",
   "metadata": {},
   "source": [
    "# Halving Grid Search"
   ]
  },
  {
   "cell_type": "code",
   "execution_count": 98,
   "metadata": {},
   "outputs": [],
   "source": [
    "from tensorflow.keras.wrappers.scikit_learn import KerasClassifier\n",
    "from tensorflow.keras.models import Sequential\n",
    "from tensorflow.keras.layers import Dense\n",
    "from tensorflow.keras.layers import Dropout\n",
    "from sklearn.experimental import enable_halving_search_cv\n",
    "from sklearn.model_selection import HalvingGridSearchCV\n",
    "\n",
    "def build_classifier(optimizer):\n",
    "    classifier = Sequential()\n",
    "    classifier.add(Dense(units = 6, kernel_initializer = 'uniform', activation = 'exponential', input_dim = 12))\n",
    "    classifier.add(Dropout(rate = 0.1))\n",
    "    classifier.add(Dense(units = 6, kernel_initializer = 'uniform', activation = 'tanh'))\n",
    "    classifier.add(Dropout(rate = 0.1))\n",
    "    classifier.add(Dense(units = 1, kernel_initializer = 'uniform', activation = 'sigmoid'))\n",
    "    classifier.compile(optimizer = optimizer, loss = 'binary_crossentropy', metrics = ['accuracy'])\n",
    "    return classifier\n",
    "\n",
    "classifier = KerasClassifier(build_fn = build_classifier)\n",
    "\n",
    "parameters = {\n",
    "    'batch_size': [10, 25, 32, 64, 128],\n",
    "    'epochs': [50, 75, 100, 125, 150, 175, 200],\n",
    "    'optimizer': ['adam', 'rmsprop', 'sgd', 'adadelta', 'adamax', 'adagrad']\n",
    "}\n",
    "\n",
    "halving_cv = HalvingGridSearchCV(estimator = classifier,\n",
    "                                  param_grid = parameters,\n",
    "                                  scoring=\"accuracy\", \n",
    "                                  n_jobs=-1, \n",
    "                                  min_resources=\"exhaust\", \n",
    "                                  factor=3,\n",
    "                                  cv = 10)"
   ]
  },
  {
   "cell_type": "code",
   "execution_count": 99,
   "metadata": {},
   "outputs": [
    {
     "output_type": "stream",
     "name": "stdout",
     "text": [
      "Epoch 1/150\n",
      "800/800 [==============================] - 1s 888us/step - loss: 0.5459 - accuracy: 0.7961\n",
      "Epoch 2/150\n",
      "800/800 [==============================] - 1s 778us/step - loss: 0.5026 - accuracy: 0.7960\n",
      "Epoch 3/150\n",
      "800/800 [==============================] - 1s 752us/step - loss: 0.4957 - accuracy: 0.7960\n",
      "Epoch 4/150\n",
      "800/800 [==============================] - 1s 733us/step - loss: 0.4864 - accuracy: 0.7960\n",
      "Epoch 5/150\n",
      "800/800 [==============================] - 1s 728us/step - loss: 0.4698 - accuracy: 0.7960\n",
      "Epoch 6/150\n",
      "800/800 [==============================] - 1s 750us/step - loss: 0.4501 - accuracy: 0.7960\n",
      "Epoch 7/150\n",
      "800/800 [==============================] - 1s 773us/step - loss: 0.4426 - accuracy: 0.8011\n",
      "Epoch 8/150\n",
      "800/800 [==============================] - 1s 748us/step - loss: 0.4352 - accuracy: 0.8116\n",
      "Epoch 9/150\n",
      "800/800 [==============================] - 1s 763us/step - loss: 0.4328 - accuracy: 0.8102\n",
      "Epoch 10/150\n",
      "800/800 [==============================] - 1s 760us/step - loss: 0.4332 - accuracy: 0.8136\n",
      "Epoch 11/150\n",
      "800/800 [==============================] - 1s 772us/step - loss: 0.4296 - accuracy: 0.8155\n",
      "Epoch 12/150\n",
      "800/800 [==============================] - 1s 812us/step - loss: 0.4282 - accuracy: 0.8155\n",
      "Epoch 13/150\n",
      "800/800 [==============================] - 1s 763us/step - loss: 0.4250 - accuracy: 0.8205\n",
      "Epoch 14/150\n",
      "800/800 [==============================] - 1s 797us/step - loss: 0.4235 - accuracy: 0.8181\n",
      "Epoch 15/150\n",
      "800/800 [==============================] - 1s 773us/step - loss: 0.4237 - accuracy: 0.8226\n",
      "Epoch 16/150\n",
      "800/800 [==============================] - 1s 767us/step - loss: 0.4238 - accuracy: 0.8198\n",
      "Epoch 17/150\n",
      "800/800 [==============================] - 1s 770us/step - loss: 0.4211 - accuracy: 0.8234\n",
      "Epoch 18/150\n",
      "800/800 [==============================] - 1s 779us/step - loss: 0.4187 - accuracy: 0.8231\n",
      "Epoch 19/150\n",
      "800/800 [==============================] - 1s 773us/step - loss: 0.4184 - accuracy: 0.8253\n",
      "Epoch 20/150\n",
      "800/800 [==============================] - 1s 804us/step - loss: 0.4168 - accuracy: 0.8255\n",
      "Epoch 21/150\n",
      "800/800 [==============================] - 1s 781us/step - loss: 0.4191 - accuracy: 0.8239\n",
      "Epoch 22/150\n",
      "800/800 [==============================] - 1s 761us/step - loss: 0.4168 - accuracy: 0.8224\n",
      "Epoch 23/150\n",
      "800/800 [==============================] - 1s 762us/step - loss: 0.4159 - accuracy: 0.8235\n",
      "Epoch 24/150\n",
      "800/800 [==============================] - 1s 770us/step - loss: 0.4147 - accuracy: 0.8236\n",
      "Epoch 25/150\n",
      "800/800 [==============================] - 1s 749us/step - loss: 0.4137 - accuracy: 0.8241\n",
      "Epoch 26/150\n",
      "800/800 [==============================] - 1s 743us/step - loss: 0.4141 - accuracy: 0.8216\n",
      "Epoch 27/150\n",
      "800/800 [==============================] - 1s 768us/step - loss: 0.4113 - accuracy: 0.8226\n",
      "Epoch 28/150\n",
      "800/800 [==============================] - 1s 785us/step - loss: 0.4109 - accuracy: 0.8235\n",
      "Epoch 29/150\n",
      "800/800 [==============================] - 1s 756us/step - loss: 0.4092 - accuracy: 0.8249\n",
      "Epoch 30/150\n",
      "800/800 [==============================] - 1s 769us/step - loss: 0.4088 - accuracy: 0.8250\n",
      "Epoch 31/150\n",
      "800/800 [==============================] - 1s 774us/step - loss: 0.4090 - accuracy: 0.8257\n",
      "Epoch 32/150\n",
      "800/800 [==============================] - 1s 768us/step - loss: 0.4093 - accuracy: 0.8230\n",
      "Epoch 33/150\n",
      "800/800 [==============================] - 1s 753us/step - loss: 0.4071 - accuracy: 0.8244\n",
      "Epoch 34/150\n",
      "800/800 [==============================] - 1s 763us/step - loss: 0.4068 - accuracy: 0.8223\n",
      "Epoch 35/150\n",
      "800/800 [==============================] - 1s 751us/step - loss: 0.4088 - accuracy: 0.8207\n",
      "Epoch 36/150\n",
      "800/800 [==============================] - 1s 768us/step - loss: 0.4050 - accuracy: 0.8249\n",
      "Epoch 37/150\n",
      "800/800 [==============================] - 1s 769us/step - loss: 0.4031 - accuracy: 0.8245\n",
      "Epoch 38/150\n",
      "800/800 [==============================] - 1s 763us/step - loss: 0.4052 - accuracy: 0.8255\n",
      "Epoch 39/150\n",
      "800/800 [==============================] - 1s 774us/step - loss: 0.4061 - accuracy: 0.8248\n",
      "Epoch 40/150\n",
      "800/800 [==============================] - 1s 755us/step - loss: 0.4046 - accuracy: 0.8227\n",
      "Epoch 41/150\n",
      "800/800 [==============================] - 1s 752us/step - loss: 0.4013 - accuracy: 0.8248\n",
      "Epoch 42/150\n",
      "800/800 [==============================] - 1s 753us/step - loss: 0.4002 - accuracy: 0.8275\n",
      "Epoch 43/150\n",
      "800/800 [==============================] - 1s 748us/step - loss: 0.3991 - accuracy: 0.8289\n",
      "Epoch 44/150\n",
      "800/800 [==============================] - 1s 775us/step - loss: 0.4002 - accuracy: 0.8264\n",
      "Epoch 45/150\n",
      "800/800 [==============================] - 1s 756us/step - loss: 0.4030 - accuracy: 0.8240\n",
      "Epoch 46/150\n",
      "800/800 [==============================] - 1s 770us/step - loss: 0.4011 - accuracy: 0.8278\n",
      "Epoch 47/150\n",
      "800/800 [==============================] - 1s 761us/step - loss: 0.3993 - accuracy: 0.8257\n",
      "Epoch 48/150\n",
      "800/800 [==============================] - 1s 763us/step - loss: 0.3964 - accuracy: 0.8282\n",
      "Epoch 49/150\n",
      "800/800 [==============================] - 1s 755us/step - loss: 0.3969 - accuracy: 0.8282\n",
      "Epoch 50/150\n",
      "800/800 [==============================] - 1s 755us/step - loss: 0.3957 - accuracy: 0.8291\n",
      "Epoch 51/150\n",
      "800/800 [==============================] - 1s 758us/step - loss: 0.3940 - accuracy: 0.8292\n",
      "Epoch 52/150\n",
      "800/800 [==============================] - 1s 763us/step - loss: 0.3961 - accuracy: 0.8294\n",
      "Epoch 53/150\n",
      "800/800 [==============================] - 1s 767us/step - loss: 0.3918 - accuracy: 0.8341\n",
      "Epoch 54/150\n",
      "800/800 [==============================] - 1s 752us/step - loss: 0.3932 - accuracy: 0.8328\n",
      "Epoch 55/150\n",
      "800/800 [==============================] - 1s 763us/step - loss: 0.3916 - accuracy: 0.8328\n",
      "Epoch 56/150\n",
      "800/800 [==============================] - 1s 781us/step - loss: 0.3940 - accuracy: 0.8328\n",
      "Epoch 57/150\n",
      "800/800 [==============================] - 1s 768us/step - loss: 0.3873 - accuracy: 0.8366\n",
      "Epoch 58/150\n",
      "800/800 [==============================] - 1s 752us/step - loss: 0.3898 - accuracy: 0.8326\n",
      "Epoch 59/150\n",
      "800/800 [==============================] - 1s 761us/step - loss: 0.3896 - accuracy: 0.8378\n",
      "Epoch 60/150\n",
      "800/800 [==============================] - 1s 770us/step - loss: 0.3909 - accuracy: 0.8369\n",
      "Epoch 61/150\n",
      "800/800 [==============================] - 1s 756us/step - loss: 0.3928 - accuracy: 0.8350\n",
      "Epoch 62/150\n",
      "800/800 [==============================] - 1s 754us/step - loss: 0.3909 - accuracy: 0.8345\n",
      "Epoch 63/150\n",
      "800/800 [==============================] - 1s 761us/step - loss: 0.3860 - accuracy: 0.8357\n",
      "Epoch 64/150\n",
      "800/800 [==============================] - 1s 726us/step - loss: 0.3923 - accuracy: 0.8376\n",
      "Epoch 65/150\n",
      "800/800 [==============================] - 1s 746us/step - loss: 0.3912 - accuracy: 0.8364\n",
      "Epoch 66/150\n",
      "800/800 [==============================] - 1s 767us/step - loss: 0.3918 - accuracy: 0.8320\n",
      "Epoch 67/150\n",
      "800/800 [==============================] - 1s 763us/step - loss: 0.3907 - accuracy: 0.8386\n",
      "Epoch 68/150\n",
      "800/800 [==============================] - 1s 764us/step - loss: 0.3912 - accuracy: 0.8355\n",
      "Epoch 69/150\n",
      "800/800 [==============================] - 1s 776us/step - loss: 0.3866 - accuracy: 0.8370\n",
      "Epoch 70/150\n",
      "800/800 [==============================] - 1s 764us/step - loss: 0.3900 - accuracy: 0.8361\n",
      "Epoch 71/150\n",
      "800/800 [==============================] - 1s 753us/step - loss: 0.3899 - accuracy: 0.8370\n",
      "Epoch 72/150\n",
      "800/800 [==============================] - 1s 772us/step - loss: 0.3869 - accuracy: 0.8394\n",
      "Epoch 73/150\n",
      "800/800 [==============================] - 1s 758us/step - loss: 0.3878 - accuracy: 0.8374\n",
      "Epoch 74/150\n",
      "800/800 [==============================] - 1s 765us/step - loss: 0.3904 - accuracy: 0.8371\n",
      "Epoch 75/150\n",
      "800/800 [==============================] - 1s 773us/step - loss: 0.3890 - accuracy: 0.8407\n",
      "Epoch 76/150\n",
      "800/800 [==============================] - 1s 763us/step - loss: 0.3852 - accuracy: 0.8386\n",
      "Epoch 77/150\n",
      "800/800 [==============================] - 1s 763us/step - loss: 0.3835 - accuracy: 0.8403\n",
      "Epoch 78/150\n",
      "800/800 [==============================] - 1s 749us/step - loss: 0.3821 - accuracy: 0.8397\n",
      "Epoch 79/150\n",
      "800/800 [==============================] - 1s 759us/step - loss: 0.3863 - accuracy: 0.8379\n",
      "Epoch 80/150\n",
      "800/800 [==============================] - 1s 751us/step - loss: 0.3861 - accuracy: 0.8388\n",
      "Epoch 81/150\n",
      "800/800 [==============================] - 1s 766us/step - loss: 0.3828 - accuracy: 0.8411\n",
      "Epoch 82/150\n",
      "800/800 [==============================] - 1s 762us/step - loss: 0.3879 - accuracy: 0.8379\n",
      "Epoch 83/150\n",
      "800/800 [==============================] - 1s 766us/step - loss: 0.3901 - accuracy: 0.8385\n",
      "Epoch 84/150\n",
      "800/800 [==============================] - 1s 759us/step - loss: 0.3859 - accuracy: 0.8389\n",
      "Epoch 85/150\n",
      "800/800 [==============================] - 1s 763us/step - loss: 0.3924 - accuracy: 0.8389\n",
      "Epoch 86/150\n",
      "800/800 [==============================] - 1s 757us/step - loss: 0.3853 - accuracy: 0.8397\n",
      "Epoch 87/150\n",
      "800/800 [==============================] - 1s 784us/step - loss: 0.3854 - accuracy: 0.8380\n",
      "Epoch 88/150\n",
      "800/800 [==============================] - 1s 752us/step - loss: 0.3885 - accuracy: 0.8381\n",
      "Epoch 89/150\n",
      "800/800 [==============================] - 1s 760us/step - loss: 0.3853 - accuracy: 0.8390\n",
      "Epoch 90/150\n",
      "800/800 [==============================] - 1s 773us/step - loss: 0.3867 - accuracy: 0.8418\n",
      "Epoch 91/150\n",
      "800/800 [==============================] - 1s 766us/step - loss: 0.3878 - accuracy: 0.8382\n",
      "Epoch 92/150\n",
      "800/800 [==============================] - 1s 763us/step - loss: 0.3815 - accuracy: 0.8411\n",
      "Epoch 93/150\n",
      "800/800 [==============================] - 1s 763us/step - loss: 0.3870 - accuracy: 0.8396\n",
      "Epoch 94/150\n",
      "800/800 [==============================] - 1s 750us/step - loss: 0.3836 - accuracy: 0.8409\n",
      "Epoch 95/150\n",
      "800/800 [==============================] - 1s 761us/step - loss: 0.3870 - accuracy: 0.8389\n",
      "Epoch 96/150\n",
      "800/800 [==============================] - 1s 757us/step - loss: 0.3905 - accuracy: 0.8370\n",
      "Epoch 97/150\n",
      "800/800 [==============================] - 1s 782us/step - loss: 0.3860 - accuracy: 0.8406\n",
      "Epoch 98/150\n",
      "800/800 [==============================] - 1s 766us/step - loss: 0.3875 - accuracy: 0.8372\n",
      "Epoch 99/150\n",
      "800/800 [==============================] - 1s 767us/step - loss: 0.3817 - accuracy: 0.8404\n",
      "Epoch 100/150\n",
      "800/800 [==============================] - 1s 762us/step - loss: 0.3847 - accuracy: 0.8422\n",
      "Epoch 101/150\n",
      "800/800 [==============================] - 1s 759us/step - loss: 0.3902 - accuracy: 0.8396\n",
      "Epoch 102/150\n",
      "800/800 [==============================] - 1s 762us/step - loss: 0.3865 - accuracy: 0.8410\n",
      "Epoch 103/150\n",
      "800/800 [==============================] - 1s 761us/step - loss: 0.3823 - accuracy: 0.8430\n",
      "Epoch 104/150\n",
      "800/800 [==============================] - 1s 788us/step - loss: 0.3880 - accuracy: 0.8416\n",
      "Epoch 105/150\n",
      "800/800 [==============================] - 1s 781us/step - loss: 0.3844 - accuracy: 0.8422\n",
      "Epoch 106/150\n",
      "800/800 [==============================] - 1s 748us/step - loss: 0.3841 - accuracy: 0.8432\n",
      "Epoch 107/150\n",
      "800/800 [==============================] - 1s 757us/step - loss: 0.3819 - accuracy: 0.8439\n",
      "Epoch 108/150\n",
      "800/800 [==============================] - 1s 758us/step - loss: 0.3800 - accuracy: 0.8422\n",
      "Epoch 109/150\n",
      "800/800 [==============================] - 1s 753us/step - loss: 0.3829 - accuracy: 0.8474\n",
      "Epoch 110/150\n",
      "800/800 [==============================] - 1s 785us/step - loss: 0.3873 - accuracy: 0.8396\n",
      "Epoch 111/150\n",
      "800/800 [==============================] - 1s 773us/step - loss: 0.3838 - accuracy: 0.8404\n",
      "Epoch 112/150\n",
      "800/800 [==============================] - 1s 767us/step - loss: 0.3856 - accuracy: 0.8406\n",
      "Epoch 113/150\n",
      "800/800 [==============================] - 1s 773us/step - loss: 0.3903 - accuracy: 0.8361\n",
      "Epoch 114/150\n",
      "800/800 [==============================] - 1s 765us/step - loss: 0.3816 - accuracy: 0.8429\n",
      "Epoch 115/150\n",
      "800/800 [==============================] - 1s 753us/step - loss: 0.3857 - accuracy: 0.8388\n",
      "Epoch 116/150\n",
      "800/800 [==============================] - 1s 762us/step - loss: 0.3872 - accuracy: 0.8390\n",
      "Epoch 117/150\n",
      "800/800 [==============================] - 1s 753us/step - loss: 0.3803 - accuracy: 0.8419\n",
      "Epoch 118/150\n",
      "800/800 [==============================] - 1s 814us/step - loss: 0.3761 - accuracy: 0.8481\n",
      "Epoch 119/150\n",
      "800/800 [==============================] - 1s 762us/step - loss: 0.3824 - accuracy: 0.8431\n",
      "Epoch 120/150\n",
      "800/800 [==============================] - 1s 777us/step - loss: 0.3860 - accuracy: 0.8394\n",
      "Epoch 121/150\n",
      "800/800 [==============================] - 1s 764us/step - loss: 0.3831 - accuracy: 0.8406\n",
      "Epoch 122/150\n",
      "800/800 [==============================] - 1s 767us/step - loss: 0.3828 - accuracy: 0.8438\n",
      "Epoch 123/150\n",
      "800/800 [==============================] - 1s 773us/step - loss: 0.3877 - accuracy: 0.8420\n",
      "Epoch 124/150\n",
      "800/800 [==============================] - 1s 773us/step - loss: 0.3829 - accuracy: 0.8413\n",
      "Epoch 125/150\n",
      "800/800 [==============================] - 1s 752us/step - loss: 0.3839 - accuracy: 0.8389\n",
      "Epoch 126/150\n",
      "800/800 [==============================] - 1s 748us/step - loss: 0.3841 - accuracy: 0.8422\n",
      "Epoch 127/150\n",
      "800/800 [==============================] - 1s 779us/step - loss: 0.3823 - accuracy: 0.8439\n",
      "Epoch 128/150\n",
      "800/800 [==============================] - 1s 760us/step - loss: 0.3801 - accuracy: 0.8425\n",
      "Epoch 129/150\n",
      "800/800 [==============================] - 1s 758us/step - loss: 0.3844 - accuracy: 0.8436\n",
      "Epoch 130/150\n",
      "800/800 [==============================] - 1s 765us/step - loss: 0.3819 - accuracy: 0.8445\n",
      "Epoch 131/150\n",
      "800/800 [==============================] - 1s 758us/step - loss: 0.3884 - accuracy: 0.8411\n",
      "Epoch 132/150\n",
      "800/800 [==============================] - 1s 759us/step - loss: 0.3797 - accuracy: 0.8453\n",
      "Epoch 133/150\n",
      "800/800 [==============================] - 1s 793us/step - loss: 0.3805 - accuracy: 0.8426\n",
      "Epoch 134/150\n",
      "800/800 [==============================] - 1s 767us/step - loss: 0.3834 - accuracy: 0.8413\n",
      "Epoch 135/150\n",
      "800/800 [==============================] - 1s 767us/step - loss: 0.3811 - accuracy: 0.8430\n",
      "Epoch 136/150\n",
      "800/800 [==============================] - 1s 792us/step - loss: 0.3804 - accuracy: 0.8438\n",
      "Epoch 137/150\n",
      "800/800 [==============================] - 1s 757us/step - loss: 0.3816 - accuracy: 0.8438\n",
      "Epoch 138/150\n",
      "800/800 [==============================] - 1s 776us/step - loss: 0.3874 - accuracy: 0.8449\n",
      "Epoch 139/150\n",
      "800/800 [==============================] - 1s 754us/step - loss: 0.3800 - accuracy: 0.8435\n",
      "Epoch 140/150\n",
      "800/800 [==============================] - 1s 755us/step - loss: 0.3871 - accuracy: 0.8407\n",
      "Epoch 141/150\n",
      "800/800 [==============================] - 1s 751us/step - loss: 0.3814 - accuracy: 0.8451\n",
      "Epoch 142/150\n",
      "800/800 [==============================] - 1s 753us/step - loss: 0.3833 - accuracy: 0.8416\n",
      "Epoch 143/150\n",
      "800/800 [==============================] - 1s 798us/step - loss: 0.3824 - accuracy: 0.8443\n",
      "Epoch 144/150\n",
      "800/800 [==============================] - 1s 795us/step - loss: 0.3827 - accuracy: 0.8422\n",
      "Epoch 145/150\n",
      "800/800 [==============================] - 1s 766us/step - loss: 0.3793 - accuracy: 0.8430\n",
      "Epoch 146/150\n",
      "800/800 [==============================] - 1s 759us/step - loss: 0.3844 - accuracy: 0.8388\n",
      "Epoch 147/150\n",
      "800/800 [==============================] - 1s 776us/step - loss: 0.3832 - accuracy: 0.8426\n",
      "Epoch 148/150\n",
      "800/800 [==============================] - 1s 776us/step - loss: 0.3830 - accuracy: 0.8410\n",
      "Epoch 149/150\n",
      "800/800 [==============================] - 1s 748us/step - loss: 0.3837 - accuracy: 0.8440\n",
      "Epoch 150/150\n",
      "800/800 [==============================] - 1s 738us/step - loss: 0.3828 - accuracy: 0.8450\n",
      "Wall time: 35min 45s\n"
     ]
    }
   ],
   "source": [
    "%%time\n",
    "halving_cv = halving_cv.fit(X_train, y_train)"
   ]
  },
  {
   "cell_type": "code",
   "execution_count": 100,
   "metadata": {},
   "outputs": [
    {
     "output_type": "stream",
     "name": "stdout",
     "text": [
      "Best params:\n {'batch_size': 10, 'epochs': 150, 'optimizer': 'sgd'} \nBest accuracy:\n 0.8489281210592686\n"
     ]
    }
   ],
   "source": [
    "print('Best params:\\n',halving_cv.best_params_,'\\nBest accuracy:\\n',halving_cv.best_score_)"
   ]
  },
  {
   "cell_type": "markdown",
   "metadata": {},
   "source": [
    "# FIM"
   ]
  },
  {
   "cell_type": "markdown",
   "metadata": {},
   "source": [
    "> Professor Diego Dorgam  \n",
    "> [@diegodorgam](https://twitter.com/diegodorgam)"
   ]
  }
 ],
 "metadata": {
  "kernelspec": {
   "name": "python3",
   "display_name": "Python 3.6.13 64-bit ('deep': conda)"
  },
  "language_info": {
   "codemirror_mode": {
    "name": "ipython",
    "version": 3
   },
   "file_extension": ".py",
   "mimetype": "text/x-python",
   "name": "python",
   "nbconvert_exporter": "python",
   "pygments_lexer": "ipython3",
   "version": "3.6.13"
  },
  "interpreter": {
   "hash": "030b106efa560908fee30da15db879790f4d4f8b37d514836c2612de7cd41c42"
  }
 },
 "nbformat": 4,
 "nbformat_minor": 4
}