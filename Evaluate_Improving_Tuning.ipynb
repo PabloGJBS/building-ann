{
 "cells": [
  {
   "cell_type": "markdown",
   "source": [
    "# REDES NEURAIS ARTIFICIAIS\n",
    "## Evaluate Improve e Tunning"
   ],
   "metadata": {}
  },
  {
   "cell_type": "markdown",
   "source": [
    "# Parte 1 - Pré-processamento dos Dados"
   ],
   "metadata": {}
  },
  {
   "cell_type": "markdown",
   "source": [
    "### Importar as libs"
   ],
   "metadata": {}
  },
  {
   "cell_type": "code",
   "execution_count": 1,
   "source": [
    "import numpy as np\r\n",
    "import pandas as pd\r\n",
    "import tensorflow as tf"
   ],
   "outputs": [],
   "metadata": {
    "colab": {},
    "colab_type": "code",
    "id": "MxkJoQBkUIHC"
   }
  },
  {
   "cell_type": "code",
   "execution_count": 2,
   "source": [
    "tf.__version__"
   ],
   "outputs": [
    {
     "output_type": "execute_result",
     "data": {
      "text/plain": [
       "'2.6.0'"
      ]
     },
     "metadata": {},
     "execution_count": 2
    }
   ],
   "metadata": {
    "colab": {
     "base_uri": "https://localhost:8080/",
     "height": 34
    },
    "colab_type": "code",
    "id": "ZaTwK7ojXr2F",
    "outputId": "0b27a96d-d11a-43e8-ab4b-87c1f01896fe"
   }
  },
  {
   "cell_type": "markdown",
   "source": [
    "### Importar o dataset"
   ],
   "metadata": {}
  },
  {
   "cell_type": "code",
   "execution_count": 3,
   "source": [
    "dataset = pd.read_csv('Churn_Modelling.csv')\r\n",
    "dataset.head()"
   ],
   "outputs": [
    {
     "output_type": "execute_result",
     "data": {
      "text/plain": [
       "   RowNumber  CustomerId   Surname  CreditScore Geography  Gender  Age  \\\n",
       "0          1    15634602  Hargrave          619    France  Female   42   \n",
       "1          2    15647311      Hill          608     Spain  Female   41   \n",
       "2          3    15619304      Onio          502    France  Female   42   \n",
       "3          4    15701354      Boni          699    France  Female   39   \n",
       "4          5    15737888  Mitchell          850     Spain  Female   43   \n",
       "\n",
       "   Tenure    Balance  NumOfProducts  HasCrCard  IsActiveMember  \\\n",
       "0       2       0.00              1          1               1   \n",
       "1       1   83807.86              1          0               1   \n",
       "2       8  159660.80              3          1               0   \n",
       "3       1       0.00              2          0               0   \n",
       "4       2  125510.82              1          1               1   \n",
       "\n",
       "   EstimatedSalary  Exited  \n",
       "0        101348.88       1  \n",
       "1        112542.58       0  \n",
       "2        113931.57       1  \n",
       "3         93826.63       0  \n",
       "4         79084.10       0  "
      ],
      "text/html": [
       "<div>\n",
       "<style scoped>\n",
       "    .dataframe tbody tr th:only-of-type {\n",
       "        vertical-align: middle;\n",
       "    }\n",
       "\n",
       "    .dataframe tbody tr th {\n",
       "        vertical-align: top;\n",
       "    }\n",
       "\n",
       "    .dataframe thead th {\n",
       "        text-align: right;\n",
       "    }\n",
       "</style>\n",
       "<table border=\"1\" class=\"dataframe\">\n",
       "  <thead>\n",
       "    <tr style=\"text-align: right;\">\n",
       "      <th></th>\n",
       "      <th>RowNumber</th>\n",
       "      <th>CustomerId</th>\n",
       "      <th>Surname</th>\n",
       "      <th>CreditScore</th>\n",
       "      <th>Geography</th>\n",
       "      <th>Gender</th>\n",
       "      <th>Age</th>\n",
       "      <th>Tenure</th>\n",
       "      <th>Balance</th>\n",
       "      <th>NumOfProducts</th>\n",
       "      <th>HasCrCard</th>\n",
       "      <th>IsActiveMember</th>\n",
       "      <th>EstimatedSalary</th>\n",
       "      <th>Exited</th>\n",
       "    </tr>\n",
       "  </thead>\n",
       "  <tbody>\n",
       "    <tr>\n",
       "      <th>0</th>\n",
       "      <td>1</td>\n",
       "      <td>15634602</td>\n",
       "      <td>Hargrave</td>\n",
       "      <td>619</td>\n",
       "      <td>France</td>\n",
       "      <td>Female</td>\n",
       "      <td>42</td>\n",
       "      <td>2</td>\n",
       "      <td>0.00</td>\n",
       "      <td>1</td>\n",
       "      <td>1</td>\n",
       "      <td>1</td>\n",
       "      <td>101348.88</td>\n",
       "      <td>1</td>\n",
       "    </tr>\n",
       "    <tr>\n",
       "      <th>1</th>\n",
       "      <td>2</td>\n",
       "      <td>15647311</td>\n",
       "      <td>Hill</td>\n",
       "      <td>608</td>\n",
       "      <td>Spain</td>\n",
       "      <td>Female</td>\n",
       "      <td>41</td>\n",
       "      <td>1</td>\n",
       "      <td>83807.86</td>\n",
       "      <td>1</td>\n",
       "      <td>0</td>\n",
       "      <td>1</td>\n",
       "      <td>112542.58</td>\n",
       "      <td>0</td>\n",
       "    </tr>\n",
       "    <tr>\n",
       "      <th>2</th>\n",
       "      <td>3</td>\n",
       "      <td>15619304</td>\n",
       "      <td>Onio</td>\n",
       "      <td>502</td>\n",
       "      <td>France</td>\n",
       "      <td>Female</td>\n",
       "      <td>42</td>\n",
       "      <td>8</td>\n",
       "      <td>159660.80</td>\n",
       "      <td>3</td>\n",
       "      <td>1</td>\n",
       "      <td>0</td>\n",
       "      <td>113931.57</td>\n",
       "      <td>1</td>\n",
       "    </tr>\n",
       "    <tr>\n",
       "      <th>3</th>\n",
       "      <td>4</td>\n",
       "      <td>15701354</td>\n",
       "      <td>Boni</td>\n",
       "      <td>699</td>\n",
       "      <td>France</td>\n",
       "      <td>Female</td>\n",
       "      <td>39</td>\n",
       "      <td>1</td>\n",
       "      <td>0.00</td>\n",
       "      <td>2</td>\n",
       "      <td>0</td>\n",
       "      <td>0</td>\n",
       "      <td>93826.63</td>\n",
       "      <td>0</td>\n",
       "    </tr>\n",
       "    <tr>\n",
       "      <th>4</th>\n",
       "      <td>5</td>\n",
       "      <td>15737888</td>\n",
       "      <td>Mitchell</td>\n",
       "      <td>850</td>\n",
       "      <td>Spain</td>\n",
       "      <td>Female</td>\n",
       "      <td>43</td>\n",
       "      <td>2</td>\n",
       "      <td>125510.82</td>\n",
       "      <td>1</td>\n",
       "      <td>1</td>\n",
       "      <td>1</td>\n",
       "      <td>79084.10</td>\n",
       "      <td>0</td>\n",
       "    </tr>\n",
       "  </tbody>\n",
       "</table>\n",
       "</div>"
      ]
     },
     "metadata": {},
     "execution_count": 3
    }
   ],
   "metadata": {}
  },
  {
   "cell_type": "code",
   "execution_count": 4,
   "source": [
    "X = dataset.iloc[:, 3:13].values\r\n",
    "y = dataset.iloc[:, 13].values\r\n",
    "print(\"X >>\\n\",X)\r\n",
    "print(\"y >>\\n\",y)"
   ],
   "outputs": [
    {
     "output_type": "stream",
     "name": "stdout",
     "text": [
      "X >>\n",
      " [[619 'France' 'Female' ... 1 1 101348.88]\n",
      " [608 'Spain' 'Female' ... 0 1 112542.58]\n",
      " [502 'France' 'Female' ... 1 0 113931.57]\n",
      " ...\n",
      " [709 'France' 'Female' ... 0 1 42085.58]\n",
      " [772 'Germany' 'Male' ... 1 0 92888.52]\n",
      " [792 'France' 'Female' ... 1 0 38190.78]]\n",
      "y >>\n",
      " [1 0 1 ... 1 1 0]\n"
     ]
    }
   ],
   "metadata": {}
  },
  {
   "cell_type": "markdown",
   "source": [
    "### Transformando os dados categóricos\n"
   ],
   "metadata": {}
  },
  {
   "cell_type": "code",
   "execution_count": 5,
   "source": [
    "# Label Encoding the \"Gender\" column\r\n",
    "from sklearn.preprocessing import LabelEncoder\r\n",
    "le = LabelEncoder()\r\n",
    "X[:, 2] = le.fit_transform(X[:, 2])\r\n",
    "print(X)\r\n",
    "# One Hot Encoding the \"Geography\" column\r\n",
    "from sklearn.compose import ColumnTransformer\r\n",
    "from sklearn.preprocessing import OneHotEncoder\r\n",
    "ct = ColumnTransformer(transformers=[('encoder', OneHotEncoder(), [1])], remainder='passthrough')\r\n",
    "X = np.array(ct.fit_transform(X))\r\n",
    "print(X)"
   ],
   "outputs": [
    {
     "output_type": "stream",
     "name": "stdout",
     "text": [
      "[[619 'France' 0 ... 1 1 101348.88]\n",
      " [608 'Spain' 0 ... 0 1 112542.58]\n",
      " [502 'France' 0 ... 1 0 113931.57]\n",
      " ...\n",
      " [709 'France' 0 ... 0 1 42085.58]\n",
      " [772 'Germany' 1 ... 1 0 92888.52]\n",
      " [792 'France' 0 ... 1 0 38190.78]]\n",
      "[[1.0 0.0 0.0 ... 1 1 101348.88]\n",
      " [0.0 0.0 1.0 ... 0 1 112542.58]\n",
      " [1.0 0.0 0.0 ... 1 0 113931.57]\n",
      " ...\n",
      " [1.0 0.0 0.0 ... 0 1 42085.58]\n",
      " [0.0 1.0 0.0 ... 1 0 92888.52]\n",
      " [1.0 0.0 0.0 ... 1 0 38190.78]]\n"
     ]
    }
   ],
   "metadata": {}
  },
  {
   "cell_type": "markdown",
   "source": [
    "# Dividindo o dataset em conjunto de treinamento e conjunto de teste"
   ],
   "metadata": {}
  },
  {
   "cell_type": "code",
   "execution_count": 6,
   "source": [
    "from sklearn.model_selection import train_test_split\r\n",
    "X_train, X_test, y_train, y_test = train_test_split(X, y, test_size = 0.2, random_state = 0)"
   ],
   "outputs": [],
   "metadata": {}
  },
  {
   "cell_type": "markdown",
   "source": [
    "# Feature Scaling"
   ],
   "metadata": {}
  },
  {
   "cell_type": "code",
   "execution_count": 7,
   "source": [
    "from sklearn.preprocessing import StandardScaler\r\n",
    "sc = StandardScaler()\r\n",
    "X_train = sc.fit_transform(X_train)\r\n",
    "X_test = sc.transform(X_test)"
   ],
   "outputs": [],
   "metadata": {}
  },
  {
   "cell_type": "code",
   "execution_count": 8,
   "source": [
    "np.shape(X_train)"
   ],
   "outputs": [
    {
     "output_type": "execute_result",
     "data": {
      "text/plain": [
       "(8000, 12)"
      ]
     },
     "metadata": {},
     "execution_count": 8
    }
   ],
   "metadata": {}
  },
  {
   "cell_type": "markdown",
   "source": [
    "---\n",
    "# Parte 2 -Vamos construir uma ANN!\n"
   ],
   "metadata": {}
  },
  {
   "cell_type": "markdown",
   "source": [
    "### Initializing the ANN"
   ],
   "metadata": {
    "colab_type": "text",
    "id": "KvdeScabXtlB"
   }
  },
  {
   "cell_type": "code",
   "execution_count": 9,
   "source": [
    "tf.random.set_seed(0) #Define que os casos de teste e os casos para praticar serão sempre iguais"
   ],
   "outputs": [],
   "metadata": {}
  },
  {
   "cell_type": "code",
   "execution_count": 10,
   "source": [
    "ann = tf.keras.models.Sequential()"
   ],
   "outputs": [],
   "metadata": {
    "colab": {},
    "colab_type": "code",
    "id": "3dtrScHxXQox"
   }
  },
  {
   "cell_type": "markdown",
   "source": [
    "### Adding the input layer and the first hidden layer"
   ],
   "metadata": {
    "colab_type": "text",
    "id": "rP6urV6SX7kS"
   }
  },
  {
   "cell_type": "code",
   "execution_count": 11,
   "source": [
    "ann.add(tf.keras.layers.Dense(units=6, activation='tanh'))"
   ],
   "outputs": [],
   "metadata": {
    "colab": {},
    "colab_type": "code",
    "id": "bppGycBXYCQr"
   }
  },
  {
   "cell_type": "markdown",
   "source": [
    "### Adding the second hidden layer"
   ],
   "metadata": {
    "colab_type": "text",
    "id": "BELWAc_8YJze"
   }
  },
  {
   "cell_type": "code",
   "execution_count": 12,
   "source": [
    "ann.add(tf.keras.layers.Dense(units=6, activation='tanh'))"
   ],
   "outputs": [],
   "metadata": {
    "colab": {},
    "colab_type": "code",
    "id": "JneR0u0sYRTd"
   }
  },
  {
   "cell_type": "markdown",
   "source": [
    "### Adding the output layer"
   ],
   "metadata": {
    "colab_type": "text",
    "id": "OyNEe6RXYcU4"
   }
  },
  {
   "cell_type": "code",
   "execution_count": 13,
   "source": [
    "ann.add(tf.keras.layers.Dense(units=1, activation='sigmoid'))"
   ],
   "outputs": [],
   "metadata": {
    "colab": {},
    "colab_type": "code",
    "id": "Cn3x41RBYfvY"
   }
  },
  {
   "cell_type": "markdown",
   "source": [
    "## Part 3 - Training the ANN"
   ],
   "metadata": {
    "colab_type": "text",
    "id": "JT4u2S1_Y4WG"
   }
  },
  {
   "cell_type": "markdown",
   "source": [
    "### Compiling the ANN"
   ],
   "metadata": {
    "colab_type": "text",
    "id": "8GWlJChhY_ZI"
   }
  },
  {
   "cell_type": "code",
   "execution_count": 14,
   "source": [
    "ann.compile(optimizer = 'adam', loss = 'binary_crossentropy', metrics = ['accuracy'])"
   ],
   "outputs": [],
   "metadata": {
    "colab": {},
    "colab_type": "code",
    "id": "fG3RrwDXZEaS"
   }
  },
  {
   "cell_type": "markdown",
   "source": [
    "### Training the ANN on the Training set"
   ],
   "metadata": {
    "colab_type": "text",
    "id": "0QR_G5u7ZLSM"
   }
  },
  {
   "cell_type": "code",
   "execution_count": 15,
   "source": [
    "ann.fit(X_train, y_train, batch_size = 32, epochs = 100)"
   ],
   "outputs": [
    {
     "output_type": "stream",
     "name": "stdout",
     "text": [
      "Epoch 1/100\n",
      "250/250 [==============================] - 1s 867us/step - loss: 0.6061 - accuracy: 0.6874\n",
      "Epoch 2/100\n",
      "250/250 [==============================] - 0s 791us/step - loss: 0.4607 - accuracy: 0.8046\n",
      "Epoch 3/100\n",
      "250/250 [==============================] - 0s 755us/step - loss: 0.4288 - accuracy: 0.8116\n",
      "Epoch 4/100\n",
      "250/250 [==============================] - 0s 719us/step - loss: 0.4199 - accuracy: 0.8165\n",
      "Epoch 5/100\n",
      "250/250 [==============================] - 0s 799us/step - loss: 0.4136 - accuracy: 0.8223\n",
      "Epoch 6/100\n",
      "250/250 [==============================] - 0s 759us/step - loss: 0.4076 - accuracy: 0.8250\n",
      "Epoch 7/100\n",
      "250/250 [==============================] - 0s 731us/step - loss: 0.4009 - accuracy: 0.8296\n",
      "Epoch 8/100\n",
      "250/250 [==============================] - 0s 819us/step - loss: 0.3939 - accuracy: 0.8319\n",
      "Epoch 9/100\n",
      "250/250 [==============================] - 0s 775us/step - loss: 0.3869 - accuracy: 0.8355\n",
      "Epoch 10/100\n",
      "250/250 [==============================] - 0s 972us/step - loss: 0.3803 - accuracy: 0.8370\n",
      "Epoch 11/100\n",
      "250/250 [==============================] - 0s 763us/step - loss: 0.3738 - accuracy: 0.8411\n",
      "Epoch 12/100\n",
      "250/250 [==============================] - 0s 835us/step - loss: 0.3680 - accuracy: 0.8451\n",
      "Epoch 13/100\n",
      "250/250 [==============================] - 0s 775us/step - loss: 0.3624 - accuracy: 0.8490\n",
      "Epoch 14/100\n",
      "250/250 [==============================] - 0s 779us/step - loss: 0.3572 - accuracy: 0.8495\n",
      "Epoch 15/100\n",
      "250/250 [==============================] - 0s 771us/step - loss: 0.3533 - accuracy: 0.8528\n",
      "Epoch 16/100\n",
      "250/250 [==============================] - 0s 767us/step - loss: 0.3498 - accuracy: 0.8549\n",
      "Epoch 17/100\n",
      "250/250 [==============================] - 0s 799us/step - loss: 0.3469 - accuracy: 0.8558\n",
      "Epoch 18/100\n",
      "250/250 [==============================] - 0s 823us/step - loss: 0.3447 - accuracy: 0.8597\n",
      "Epoch 19/100\n",
      "250/250 [==============================] - 0s 827us/step - loss: 0.3430 - accuracy: 0.8593\n",
      "Epoch 20/100\n",
      "250/250 [==============================] - 0s 803us/step - loss: 0.3416 - accuracy: 0.8595\n",
      "Epoch 21/100\n",
      "250/250 [==============================] - 0s 763us/step - loss: 0.3401 - accuracy: 0.8585\n",
      "Epoch 22/100\n",
      "250/250 [==============================] - 0s 779us/step - loss: 0.3398 - accuracy: 0.8600\n",
      "Epoch 23/100\n",
      "250/250 [==============================] - 0s 783us/step - loss: 0.3385 - accuracy: 0.8602\n",
      "Epoch 24/100\n",
      "250/250 [==============================] - 0s 775us/step - loss: 0.3379 - accuracy: 0.8589\n",
      "Epoch 25/100\n",
      "250/250 [==============================] - 0s 908us/step - loss: 0.3374 - accuracy: 0.8606\n",
      "Epoch 26/100\n",
      "250/250 [==============================] - 0s 787us/step - loss: 0.3369 - accuracy: 0.8610\n",
      "Epoch 27/100\n",
      "250/250 [==============================] - 0s 795us/step - loss: 0.3363 - accuracy: 0.8601\n",
      "Epoch 28/100\n",
      "250/250 [==============================] - 0s 819us/step - loss: 0.3362 - accuracy: 0.8612\n",
      "Epoch 29/100\n",
      "250/250 [==============================] - 0s 847us/step - loss: 0.3357 - accuracy: 0.8600\n",
      "Epoch 30/100\n",
      "250/250 [==============================] - 0s 819us/step - loss: 0.3354 - accuracy: 0.8609\n",
      "Epoch 31/100\n",
      "250/250 [==============================] - 0s 775us/step - loss: 0.3348 - accuracy: 0.8591\n",
      "Epoch 32/100\n",
      "250/250 [==============================] - 0s 843us/step - loss: 0.3344 - accuracy: 0.8604\n",
      "Epoch 33/100\n",
      "250/250 [==============================] - 0s 807us/step - loss: 0.3347 - accuracy: 0.8609\n",
      "Epoch 34/100\n",
      "250/250 [==============================] - 0s 795us/step - loss: 0.3346 - accuracy: 0.8611\n",
      "Epoch 35/100\n",
      "250/250 [==============================] - 0s 803us/step - loss: 0.3341 - accuracy: 0.8618\n",
      "Epoch 36/100\n",
      "250/250 [==============================] - 0s 795us/step - loss: 0.3339 - accuracy: 0.8609\n",
      "Epoch 37/100\n",
      "250/250 [==============================] - 0s 803us/step - loss: 0.3336 - accuracy: 0.8629\n",
      "Epoch 38/100\n",
      "250/250 [==============================] - 0s 795us/step - loss: 0.3335 - accuracy: 0.8614\n",
      "Epoch 39/100\n",
      "250/250 [==============================] - 0s 791us/step - loss: 0.3335 - accuracy: 0.8597\n",
      "Epoch 40/100\n",
      "250/250 [==============================] - 0s 771us/step - loss: 0.3333 - accuracy: 0.8605\n",
      "Epoch 41/100\n",
      "250/250 [==============================] - 0s 791us/step - loss: 0.3328 - accuracy: 0.8611\n",
      "Epoch 42/100\n",
      "250/250 [==============================] - 0s 807us/step - loss: 0.3329 - accuracy: 0.8611\n",
      "Epoch 43/100\n",
      "250/250 [==============================] - 0s 843us/step - loss: 0.3329 - accuracy: 0.8634\n",
      "Epoch 44/100\n",
      "250/250 [==============================] - 0s 855us/step - loss: 0.3324 - accuracy: 0.8614\n",
      "Epoch 45/100\n",
      "250/250 [==============================] - 0s 847us/step - loss: 0.3323 - accuracy: 0.8629\n",
      "Epoch 46/100\n",
      "250/250 [==============================] - 0s 839us/step - loss: 0.3324 - accuracy: 0.8612\n",
      "Epoch 47/100\n",
      "250/250 [==============================] - 0s 856us/step - loss: 0.3323 - accuracy: 0.8616\n",
      "Epoch 48/100\n",
      "250/250 [==============================] - 0s 827us/step - loss: 0.3323 - accuracy: 0.8616\n",
      "Epoch 49/100\n",
      "250/250 [==============================] - 0s 831us/step - loss: 0.3322 - accuracy: 0.8618\n",
      "Epoch 50/100\n",
      "250/250 [==============================] - 0s 795us/step - loss: 0.3321 - accuracy: 0.8636\n",
      "Epoch 51/100\n",
      "250/250 [==============================] - 0s 795us/step - loss: 0.3317 - accuracy: 0.8621\n",
      "Epoch 52/100\n",
      "250/250 [==============================] - 0s 807us/step - loss: 0.3317 - accuracy: 0.8634\n",
      "Epoch 53/100\n",
      "250/250 [==============================] - 0s 803us/step - loss: 0.3316 - accuracy: 0.8627\n",
      "Epoch 54/100\n",
      "250/250 [==============================] - 0s 791us/step - loss: 0.3314 - accuracy: 0.8629\n",
      "Epoch 55/100\n",
      "250/250 [==============================] - 0s 875us/step - loss: 0.3314 - accuracy: 0.8636\n",
      "Epoch 56/100\n",
      "250/250 [==============================] - 0s 803us/step - loss: 0.3314 - accuracy: 0.8610\n",
      "Epoch 57/100\n",
      "250/250 [==============================] - 0s 795us/step - loss: 0.3311 - accuracy: 0.8619\n",
      "Epoch 58/100\n",
      "250/250 [==============================] - 0s 823us/step - loss: 0.3315 - accuracy: 0.8609\n",
      "Epoch 59/100\n",
      "250/250 [==============================] - 0s 807us/step - loss: 0.3314 - accuracy: 0.8630\n",
      "Epoch 60/100\n",
      "250/250 [==============================] - 0s 795us/step - loss: 0.3309 - accuracy: 0.8636\n",
      "Epoch 61/100\n",
      "250/250 [==============================] - 0s 787us/step - loss: 0.3314 - accuracy: 0.8612\n",
      "Epoch 62/100\n",
      "250/250 [==============================] - 0s 807us/step - loss: 0.3307 - accuracy: 0.8620\n",
      "Epoch 63/100\n",
      "250/250 [==============================] - 0s 811us/step - loss: 0.3310 - accuracy: 0.8624\n",
      "Epoch 64/100\n",
      "250/250 [==============================] - 0s 819us/step - loss: 0.3305 - accuracy: 0.8616\n",
      "Epoch 65/100\n",
      "250/250 [==============================] - 0s 815us/step - loss: 0.3308 - accuracy: 0.8627\n",
      "Epoch 66/100\n",
      "250/250 [==============================] - 0s 831us/step - loss: 0.3305 - accuracy: 0.8624\n",
      "Epoch 67/100\n",
      "250/250 [==============================] - 0s 807us/step - loss: 0.3303 - accuracy: 0.8630\n",
      "Epoch 68/100\n",
      "250/250 [==============================] - 0s 827us/step - loss: 0.3304 - accuracy: 0.8630\n",
      "Epoch 69/100\n",
      "250/250 [==============================] - 0s 819us/step - loss: 0.3303 - accuracy: 0.8630\n",
      "Epoch 70/100\n",
      "250/250 [==============================] - 0s 755us/step - loss: 0.3302 - accuracy: 0.8636\n",
      "Epoch 71/100\n",
      "250/250 [==============================] - 0s 799us/step - loss: 0.3303 - accuracy: 0.8616\n",
      "Epoch 72/100\n",
      "250/250 [==============================] - 0s 807us/step - loss: 0.3304 - accuracy: 0.8627\n",
      "Epoch 73/100\n",
      "250/250 [==============================] - 0s 823us/step - loss: 0.3305 - accuracy: 0.8631\n",
      "Epoch 74/100\n",
      "250/250 [==============================] - 0s 807us/step - loss: 0.3301 - accuracy: 0.8637\n",
      "Epoch 75/100\n",
      "250/250 [==============================] - 0s 815us/step - loss: 0.3298 - accuracy: 0.8640\n",
      "Epoch 76/100\n",
      "250/250 [==============================] - 0s 831us/step - loss: 0.3301 - accuracy: 0.8633\n",
      "Epoch 77/100\n",
      "250/250 [==============================] - 0s 807us/step - loss: 0.3299 - accuracy: 0.8652\n",
      "Epoch 78/100\n",
      "250/250 [==============================] - 0s 807us/step - loss: 0.3300 - accuracy: 0.8626\n",
      "Epoch 79/100\n",
      "250/250 [==============================] - 0s 783us/step - loss: 0.3297 - accuracy: 0.8641\n",
      "Epoch 80/100\n",
      "250/250 [==============================] - 0s 823us/step - loss: 0.3298 - accuracy: 0.8631\n",
      "Epoch 81/100\n",
      "250/250 [==============================] - 0s 787us/step - loss: 0.3294 - accuracy: 0.8648\n",
      "Epoch 82/100\n",
      "250/250 [==============================] - 0s 783us/step - loss: 0.3298 - accuracy: 0.8630\n",
      "Epoch 83/100\n",
      "250/250 [==============================] - 0s 803us/step - loss: 0.3295 - accuracy: 0.8648\n",
      "Epoch 84/100\n",
      "250/250 [==============================] - 0s 779us/step - loss: 0.3294 - accuracy: 0.8640\n",
      "Epoch 85/100\n",
      "250/250 [==============================] - 0s 791us/step - loss: 0.3295 - accuracy: 0.8648\n",
      "Epoch 86/100\n",
      "250/250 [==============================] - 0s 803us/step - loss: 0.3296 - accuracy: 0.8644\n",
      "Epoch 87/100\n",
      "250/250 [==============================] - 0s 799us/step - loss: 0.3291 - accuracy: 0.8640\n",
      "Epoch 88/100\n",
      "250/250 [==============================] - 0s 855us/step - loss: 0.3291 - accuracy: 0.8651\n",
      "Epoch 89/100\n",
      "250/250 [==============================] - 0s 823us/step - loss: 0.3288 - accuracy: 0.8655\n",
      "Epoch 90/100\n",
      "250/250 [==============================] - 0s 795us/step - loss: 0.3295 - accuracy: 0.8649\n",
      "Epoch 91/100\n",
      "250/250 [==============================] - 0s 843us/step - loss: 0.3291 - accuracy: 0.8627\n",
      "Epoch 92/100\n",
      "250/250 [==============================] - 0s 803us/step - loss: 0.3303 - accuracy: 0.8633\n",
      "Epoch 93/100\n",
      "250/250 [==============================] - 0s 815us/step - loss: 0.3288 - accuracy: 0.8649\n",
      "Epoch 94/100\n",
      "250/250 [==============================] - 0s 807us/step - loss: 0.3287 - accuracy: 0.8668\n",
      "Epoch 95/100\n",
      "250/250 [==============================] - 0s 779us/step - loss: 0.3290 - accuracy: 0.8649\n",
      "Epoch 96/100\n",
      "250/250 [==============================] - 0s 811us/step - loss: 0.3290 - accuracy: 0.8648\n",
      "Epoch 97/100\n",
      "250/250 [==============================] - 0s 799us/step - loss: 0.3289 - accuracy: 0.8635\n",
      "Epoch 98/100\n",
      "250/250 [==============================] - 0s 787us/step - loss: 0.3289 - accuracy: 0.8645\n",
      "Epoch 99/100\n",
      "250/250 [==============================] - 0s 783us/step - loss: 0.3289 - accuracy: 0.8644\n",
      "Epoch 100/100\n",
      "250/250 [==============================] - 0s 867us/step - loss: 0.3290 - accuracy: 0.8640\n"
     ]
    },
    {
     "output_type": "execute_result",
     "data": {
      "text/plain": [
       "<keras.callbacks.History at 0x2168d3895b0>"
      ]
     },
     "metadata": {},
     "execution_count": 15
    }
   ],
   "metadata": {
    "colab": {
     "base_uri": "https://localhost:8080/",
     "height": 1000
    },
    "colab_type": "code",
    "id": "nHZ-LKv_ZRb3",
    "outputId": "718cc4b0-b5aa-40f0-9b20-d3d31730a531"
   }
  },
  {
   "cell_type": "markdown",
   "source": [
    "# Parte 3 - Fazendo predições e avaliando o modelo\n",
    "\n",
    "## Prevendo os resultados com o conjunto de testes"
   ],
   "metadata": {}
  },
  {
   "cell_type": "code",
   "execution_count": 16,
   "source": [
    "y_pred = ann.predict(X_test)\r\n",
    "y_pred"
   ],
   "outputs": [
    {
     "output_type": "execute_result",
     "data": {
      "text/plain": [
       "array([[0.28365082],\n",
       "       [0.16923717],\n",
       "       [0.10380057],\n",
       "       ...,\n",
       "       [0.11263412],\n",
       "       [0.174887  ],\n",
       "       [0.24651918]], dtype=float32)"
      ]
     },
     "metadata": {},
     "execution_count": 16
    }
   ],
   "metadata": {}
  },
  {
   "cell_type": "code",
   "execution_count": 17,
   "source": [
    "y_pred = (y_pred > 0.5)\r\n",
    "y_pred"
   ],
   "outputs": [
    {
     "output_type": "execute_result",
     "data": {
      "text/plain": [
       "array([[False],\n",
       "       [False],\n",
       "       [False],\n",
       "       ...,\n",
       "       [False],\n",
       "       [False],\n",
       "       [False]])"
      ]
     },
     "metadata": {},
     "execution_count": 17
    }
   ],
   "metadata": {}
  },
  {
   "cell_type": "markdown",
   "source": [
    "# Criando uma Confusion Matrix"
   ],
   "metadata": {}
  },
  {
   "cell_type": "code",
   "execution_count": 18,
   "source": [
    "from sklearn.metrics import confusion_matrix\r\n",
    "cm = confusion_matrix(y_test, y_pred)\r\n",
    "print(cm)"
   ],
   "outputs": [
    {
     "output_type": "stream",
     "name": "stdout",
     "text": [
      "[[1527   68]\n",
      " [ 202  203]]\n"
     ]
    }
   ],
   "metadata": {}
  },
  {
   "cell_type": "code",
   "execution_count": 19,
   "source": [
    "#cm[0, 0]: Previsão correta op1\r\n",
    "#cm[0, 1]: Previsão incorreta op1\r\n",
    "#cm[1, 0]: Previsão incorreta op2\r\n",
    "#cm[1, 1]: Previsão correta op2\r\n",
    "\r\n",
    "# Funções de ativação experimentadas: relu, softmax, tanh\r\n",
    "\r\n",
    "#Acurácia das combinações\r\n",
    "# relu + relu: 0,86\r\n",
    "# relu + softmax: 0,8585\r\n",
    "# relu + tanh: 0,8605\r\n",
    "\r\n",
    "# softmax + relu: 0,8635\r\n",
    "# softmax + softmax: 0,8575\r\n",
    "# softmax + tanh: 0,859\r\n",
    "\r\n",
    "# tanh + relu: 0,8605\r\n",
    "# tanh + softmax: 0,8605\r\n",
    "# tanh + tanh: 0,865\r\n",
    "\r\n",
    "from sklearn.metrics import (accuracy_score)\r\n",
    "accuracy_score(y_test, y_pred)"
   ],
   "outputs": [
    {
     "output_type": "execute_result",
     "data": {
      "text/plain": [
       "0.865"
      ]
     },
     "metadata": {},
     "execution_count": 19
    }
   ],
   "metadata": {}
  },
  {
   "cell_type": "markdown",
   "source": [
    "---\n",
    "# Avaliando o Modelo"
   ],
   "metadata": {}
  },
  {
   "cell_type": "code",
   "execution_count": 20,
   "source": [
    "# Evaluating the ANN\r\n",
    "from tensorflow.keras.wrappers.scikit_learn import KerasClassifier\r\n",
    "from sklearn.model_selection import cross_val_score\r\n",
    "from tensorflow.keras.models import Sequential\r\n",
    "from tensorflow.keras.layers import Dense"
   ],
   "outputs": [],
   "metadata": {}
  },
  {
   "cell_type": "code",
   "execution_count": 21,
   "source": [
    "def build_classifier():\r\n",
    "    classifier = Sequential()\r\n",
    "    classifier.add(Dense(units = 6, kernel_initializer = 'uniform', activation = 'tanh', input_dim = 12))\r\n",
    "    classifier.add(Dense(units = 6, kernel_initializer = 'uniform', activation = 'tanh'))\r\n",
    "    classifier.add(Dense(units = 1, kernel_initializer = 'uniform', activation = 'sigmoid'))\r\n",
    "    classifier.compile(optimizer = 'adam', loss = 'binary_crossentropy', metrics = ['accuracy'])\r\n",
    "    return classifier"
   ],
   "outputs": [],
   "metadata": {}
  },
  {
   "cell_type": "code",
   "execution_count": 22,
   "source": [
    "classifier = KerasClassifier(build_fn = build_classifier, batch_size = 10, epochs = 10)\r\n",
    "accuracies = cross_val_score(estimator = classifier, X = X_train, y = y_train, cv = 10, n_jobs = -1)\r\n",
    "mean = accuracies.mean()\r\n",
    "variance = accuracies.std()"
   ],
   "outputs": [],
   "metadata": {}
  },
  {
   "cell_type": "code",
   "execution_count": 28,
   "source": [
    "print(mean,variance)"
   ],
   "outputs": [
    {
     "output_type": "stream",
     "name": "stdout",
     "text": [
      "0.8487500071525573 0.009185589131014232\n"
     ]
    }
   ],
   "metadata": {}
  },
  {
   "cell_type": "markdown",
   "source": [
    "# Melhorando o modelo"
   ],
   "metadata": {}
  },
  {
   "cell_type": "code",
   "execution_count": 29,
   "source": [
    "# Improving the ANN\r\n",
    "# Dropout Regularization to reduce overfitting if needed\r\n",
    "from tensorflow.keras.layers import Dropout\r\n",
    "\r\n",
    "def build_classifier():\r\n",
    "    classifier = Sequential()\r\n",
    "    classifier.add(Dense(units = 6, kernel_initializer = 'uniform', activation = 'tanh', input_dim = 12))\r\n",
    "    classifier.add(Dropout(rate = 0.1))\r\n",
    "    classifier.add(Dense(units = 6, kernel_initializer = 'uniform', activation = 'tanh'))\r\n",
    "    classifier.add(Dropout(rate = 0.1))\r\n",
    "    classifier.add(Dense(units = 1, kernel_initializer = 'uniform', activation = 'sigmoid'))\r\n",
    "    classifier.compile(optimizer = 'adam', loss = 'binary_crossentropy', metrics = ['accuracy'])\r\n",
    "    return classifier"
   ],
   "outputs": [],
   "metadata": {}
  },
  {
   "cell_type": "code",
   "execution_count": 30,
   "source": [
    "classifier = KerasClassifier(build_fn = build_classifier, batch_size = 10, epochs = 10)\r\n",
    "accuracies = cross_val_score(estimator = classifier, X = X_train, y = y_train, cv = 10, n_jobs = -1)\r\n",
    "mean = accuracies.mean()\r\n",
    "variance = accuracies.std()"
   ],
   "outputs": [],
   "metadata": {}
  },
  {
   "cell_type": "code",
   "execution_count": 31,
   "source": [
    "print(mean,variance)"
   ],
   "outputs": [
    {
     "output_type": "stream",
     "name": "stdout",
     "text": [
      "0.832749992609024 0.014315645780056934\n"
     ]
    }
   ],
   "metadata": {}
  },
  {
   "cell_type": "markdown",
   "source": [
    "# Tuning the ANN"
   ],
   "metadata": {}
  },
  {
   "cell_type": "code",
   "execution_count": 32,
   "source": [
    "from tensorflow.keras.wrappers.scikit_learn import KerasClassifier\r\n",
    "from sklearn.model_selection import GridSearchCV\r\n",
    "from tensorflow.keras.models import Sequential\r\n",
    "from tensorflow.keras.layers import Dense\r\n",
    "\r\n",
    "def build_classifier(optimizer):\r\n",
    "    classifier = Sequential()\r\n",
    "    classifier.add(Dense(units = 6, kernel_initializer = 'uniform', activation = 'tanh', input_dim = 12))\r\n",
    "    classifier.add(Dropout(rate = 0.1))\r\n",
    "    classifier.add(Dense(units = 6, kernel_initializer = 'uniform', activation = 'tanh'))\r\n",
    "    classifier.add(Dropout(rate = 0.1))\r\n",
    "    classifier.add(Dense(units = 1, kernel_initializer = 'uniform', activation = 'sigmoid'))\r\n",
    "    classifier.compile(optimizer = optimizer, loss = 'binary_crossentropy', metrics = ['accuracy'])\r\n",
    "    return classifier\r\n",
    "\r\n",
    "classifier = KerasClassifier(build_fn = build_classifier)\r\n",
    "\r\n",
    "parameters = {\r\n",
    "    'batch_size': [10, 25, 32],\r\n",
    "    'epochs': [50, 100],\r\n",
    "    'optimizer': ['adam', 'rmsprop']\r\n",
    "}\r\n",
    "\r\n",
    "grid_search = GridSearchCV(estimator = classifier,\r\n",
    "                           scoring = 'accuracy',\r\n",
    "                           param_grid = parameters,\r\n",
    "                           cv = 10)\r\n",
    "\r\n",
    "# O grid search não será executado por demorar demais em comparação com o Halving Search, mas mantive esse pedaço aqui para saber como utilizar caso necessário"
   ],
   "outputs": [],
   "metadata": {}
  },
  {
   "cell_type": "markdown",
   "source": [
    "# Halving Grid Search"
   ],
   "metadata": {}
  },
  {
   "cell_type": "code",
   "execution_count": 33,
   "source": [
    "from tensorflow.keras.wrappers.scikit_learn import KerasClassifier\r\n",
    "from tensorflow.keras.models import Sequential\r\n",
    "from tensorflow.keras.layers import Dense\r\n",
    "from sklearn.experimental import enable_halving_search_cv\r\n",
    "from sklearn.model_selection import HalvingGridSearchCV\r\n",
    "\r\n",
    "def build_classifier(optimizer):\r\n",
    "    classifier = Sequential()\r\n",
    "    classifier.add(Dense(units = 6, kernel_initializer = 'uniform', activation = 'tanh', input_dim = 12))\r\n",
    "    classifier.add(Dropout(rate = 0.1))\r\n",
    "    classifier.add(Dense(units = 6, kernel_initializer = 'uniform', activation = 'tanh'))\r\n",
    "    classifier.add(Dropout(rate = 0.1))\r\n",
    "    classifier.add(Dense(units = 1, kernel_initializer = 'uniform', activation = 'sigmoid'))\r\n",
    "    classifier.compile(optimizer = optimizer, loss = 'binary_crossentropy', metrics = ['accuracy'])\r\n",
    "    return classifier\r\n",
    "\r\n",
    "classifier = KerasClassifier(build_fn = build_classifier)\r\n",
    "\r\n",
    "# Adicionando mais parâmetros\r\n",
    "parameters = {\r\n",
    "    'batch_size': [10, 25, 32, 50],\r\n",
    "    'epochs': [50, 100, 150],\r\n",
    "    'optimizer': ['adam', 'rmsprop', 'adamax', 'adagrad']\r\n",
    "}\r\n",
    "\r\n",
    "halving_cv = HalvingGridSearchCV(estimator = classifier,\r\n",
    "                                  param_grid = parameters,\r\n",
    "                                  scoring=\"accuracy\", \r\n",
    "                                  n_jobs=-1, \r\n",
    "                                  min_resources=\"exhaust\", \r\n",
    "                                  factor=3,\r\n",
    "                                  cv = 10)"
   ],
   "outputs": [],
   "metadata": {}
  },
  {
   "cell_type": "code",
   "execution_count": 36,
   "source": [
    "%%time\r\n",
    "halving_cv = halving_cv.fit(X_train, y_train)"
   ],
   "outputs": [
    {
     "output_type": "stream",
     "name": "stdout",
     "text": [
      "Epoch 1/100\n",
      "800/800 [==============================] - 1s 722us/step - loss: 0.4819 - accuracy: 0.8086\n",
      "Epoch 2/100\n",
      "800/800 [==============================] - 1s 732us/step - loss: 0.4374 - accuracy: 0.8080\n",
      "Epoch 3/100\n",
      "800/800 [==============================] - 1s 752us/step - loss: 0.4353 - accuracy: 0.8114\n",
      "Epoch 4/100\n",
      "800/800 [==============================] - 1s 677us/step - loss: 0.4339 - accuracy: 0.8112\n",
      "Epoch 5/100\n",
      "800/800 [==============================] - 1s 710us/step - loss: 0.4339 - accuracy: 0.8114\n",
      "Epoch 6/100\n",
      "800/800 [==============================] - 1s 708us/step - loss: 0.4305 - accuracy: 0.8133\n",
      "Epoch 7/100\n",
      "800/800 [==============================] - 1s 760us/step - loss: 0.4297 - accuracy: 0.8117\n",
      "Epoch 8/100\n",
      "800/800 [==============================] - 1s 742us/step - loss: 0.4204 - accuracy: 0.8190\n",
      "Epoch 9/100\n",
      "800/800 [==============================] - 1s 723us/step - loss: 0.4100 - accuracy: 0.8255\n",
      "Epoch 10/100\n",
      "800/800 [==============================] - 1s 711us/step - loss: 0.4019 - accuracy: 0.8290\n",
      "Epoch 11/100\n",
      "800/800 [==============================] - 1s 710us/step - loss: 0.3927 - accuracy: 0.8326\n",
      "Epoch 12/100\n",
      "800/800 [==============================] - 1s 712us/step - loss: 0.3975 - accuracy: 0.8306\n",
      "Epoch 13/100\n",
      "800/800 [==============================] - 1s 758us/step - loss: 0.3905 - accuracy: 0.8364\n",
      "Epoch 14/100\n",
      "800/800 [==============================] - 1s 715us/step - loss: 0.3913 - accuracy: 0.8364\n",
      "Epoch 15/100\n",
      "800/800 [==============================] - 1s 737us/step - loss: 0.3902 - accuracy: 0.8376\n",
      "Epoch 16/100\n",
      "800/800 [==============================] - 1s 703us/step - loss: 0.3868 - accuracy: 0.8376\n",
      "Epoch 17/100\n",
      "800/800 [==============================] - 1s 730us/step - loss: 0.3885 - accuracy: 0.8356\n",
      "Epoch 18/100\n",
      "800/800 [==============================] - 1s 693us/step - loss: 0.3882 - accuracy: 0.8359\n",
      "Epoch 19/100\n",
      "800/800 [==============================] - 1s 747us/step - loss: 0.3841 - accuracy: 0.8386\n",
      "Epoch 20/100\n",
      "800/800 [==============================] - 1s 705us/step - loss: 0.3906 - accuracy: 0.8320\n",
      "Epoch 21/100\n",
      "800/800 [==============================] - 1s 711us/step - loss: 0.3901 - accuracy: 0.8376\n",
      "Epoch 22/100\n",
      "800/800 [==============================] - 1s 780us/step - loss: 0.3815 - accuracy: 0.8420\n",
      "Epoch 23/100\n",
      "800/800 [==============================] - 1s 743us/step - loss: 0.3856 - accuracy: 0.8405\n",
      "Epoch 24/100\n",
      "800/800 [==============================] - 1s 758us/step - loss: 0.3859 - accuracy: 0.8388\n",
      "Epoch 25/100\n",
      "800/800 [==============================] - 1s 689us/step - loss: 0.3878 - accuracy: 0.8379\n",
      "Epoch 26/100\n",
      "800/800 [==============================] - 1s 755us/step - loss: 0.3849 - accuracy: 0.8360\n",
      "Epoch 27/100\n",
      "800/800 [==============================] - 1s 765us/step - loss: 0.3823 - accuracy: 0.8380\n",
      "Epoch 28/100\n",
      "800/800 [==============================] - 1s 680us/step - loss: 0.3855 - accuracy: 0.8388\n",
      "Epoch 29/100\n",
      "800/800 [==============================] - 1s 656us/step - loss: 0.3864 - accuracy: 0.8422\n",
      "Epoch 30/100\n",
      "800/800 [==============================] - 1s 709us/step - loss: 0.3809 - accuracy: 0.8406\n",
      "Epoch 31/100\n",
      "800/800 [==============================] - 1s 742us/step - loss: 0.3816 - accuracy: 0.8419\n",
      "Epoch 32/100\n",
      "800/800 [==============================] - 1s 657us/step - loss: 0.3847 - accuracy: 0.8405\n",
      "Epoch 33/100\n",
      "800/800 [==============================] - 1s 683us/step - loss: 0.3866 - accuracy: 0.8388\n",
      "Epoch 34/100\n",
      "800/800 [==============================] - 1s 692us/step - loss: 0.3864 - accuracy: 0.8403\n",
      "Epoch 35/100\n",
      "800/800 [==============================] - 1s 690us/step - loss: 0.3822 - accuracy: 0.8400\n",
      "Epoch 36/100\n",
      "800/800 [==============================] - 1s 671us/step - loss: 0.3860 - accuracy: 0.8389\n",
      "Epoch 37/100\n",
      "800/800 [==============================] - 1s 667us/step - loss: 0.3810 - accuracy: 0.8401\n",
      "Epoch 38/100\n",
      "800/800 [==============================] - 1s 661us/step - loss: 0.3834 - accuracy: 0.8363\n",
      "Epoch 39/100\n",
      "800/800 [==============================] - 1s 730us/step - loss: 0.3839 - accuracy: 0.8395\n",
      "Epoch 40/100\n",
      "800/800 [==============================] - 1s 671us/step - loss: 0.3818 - accuracy: 0.8409\n",
      "Epoch 41/100\n",
      "800/800 [==============================] - 1s 687us/step - loss: 0.3808 - accuracy: 0.8435\n",
      "Epoch 42/100\n",
      "800/800 [==============================] - 1s 661us/step - loss: 0.3821 - accuracy: 0.8393\n",
      "Epoch 43/100\n",
      "800/800 [==============================] - 1s 696us/step - loss: 0.3809 - accuracy: 0.8411\n",
      "Epoch 44/100\n",
      "800/800 [==============================] - 1s 683us/step - loss: 0.3790 - accuracy: 0.8415\n",
      "Epoch 45/100\n",
      "800/800 [==============================] - 1s 686us/step - loss: 0.3831 - accuracy: 0.8405\n",
      "Epoch 46/100\n",
      "800/800 [==============================] - 1s 683us/step - loss: 0.3832 - accuracy: 0.8436\n",
      "Epoch 47/100\n",
      "800/800 [==============================] - 1s 720us/step - loss: 0.3787 - accuracy: 0.8436\n",
      "Epoch 48/100\n",
      "800/800 [==============================] - 1s 716us/step - loss: 0.3783 - accuracy: 0.8414\n",
      "Epoch 49/100\n",
      "800/800 [==============================] - 1s 698us/step - loss: 0.3805 - accuracy: 0.8436\n",
      "Epoch 50/100\n",
      "800/800 [==============================] - 1s 702us/step - loss: 0.3782 - accuracy: 0.8391\n",
      "Epoch 51/100\n",
      "800/800 [==============================] - 1s 746us/step - loss: 0.3824 - accuracy: 0.8415\n",
      "Epoch 52/100\n",
      "800/800 [==============================] - 1s 694us/step - loss: 0.3808 - accuracy: 0.8426\n",
      "Epoch 53/100\n",
      "800/800 [==============================] - 1s 732us/step - loss: 0.3775 - accuracy: 0.8415\n",
      "Epoch 54/100\n",
      "800/800 [==============================] - 1s 721us/step - loss: 0.3784 - accuracy: 0.8422\n",
      "Epoch 55/100\n",
      "800/800 [==============================] - 1s 667us/step - loss: 0.3784 - accuracy: 0.8421\n",
      "Epoch 56/100\n",
      "800/800 [==============================] - 1s 775us/step - loss: 0.3808 - accuracy: 0.8414\n",
      "Epoch 57/100\n",
      "800/800 [==============================] - 1s 710us/step - loss: 0.3773 - accuracy: 0.8424\n",
      "Epoch 58/100\n",
      "800/800 [==============================] - 1s 697us/step - loss: 0.3782 - accuracy: 0.8409\n",
      "Epoch 59/100\n",
      "800/800 [==============================] - 1s 679us/step - loss: 0.3755 - accuracy: 0.8424\n",
      "Epoch 60/100\n",
      "800/800 [==============================] - 1s 693us/step - loss: 0.3761 - accuracy: 0.8440\n",
      "Epoch 61/100\n",
      "800/800 [==============================] - 1s 705us/step - loss: 0.3806 - accuracy: 0.8440\n",
      "Epoch 62/100\n",
      "800/800 [==============================] - 1s 695us/step - loss: 0.3723 - accuracy: 0.8464\n",
      "Epoch 63/100\n",
      "800/800 [==============================] - 1s 686us/step - loss: 0.3760 - accuracy: 0.8434\n",
      "Epoch 64/100\n",
      "800/800 [==============================] - 1s 722us/step - loss: 0.3764 - accuracy: 0.8472\n",
      "Epoch 65/100\n",
      "800/800 [==============================] - 1s 686us/step - loss: 0.3790 - accuracy: 0.8446\n",
      "Epoch 66/100\n",
      "800/800 [==============================] - 1s 686us/step - loss: 0.3748 - accuracy: 0.8430\n",
      "Epoch 67/100\n",
      "800/800 [==============================] - 1s 757us/step - loss: 0.3707 - accuracy: 0.8457\n",
      "Epoch 68/100\n",
      "800/800 [==============================] - 1s 727us/step - loss: 0.3765 - accuracy: 0.8468\n",
      "Epoch 69/100\n",
      "800/800 [==============================] - 1s 777us/step - loss: 0.3768 - accuracy: 0.8401\n",
      "Epoch 70/100\n",
      "800/800 [==============================] - 1s 688us/step - loss: 0.3734 - accuracy: 0.8450\n",
      "Epoch 71/100\n",
      "800/800 [==============================] - 1s 680us/step - loss: 0.3765 - accuracy: 0.8413\n",
      "Epoch 72/100\n",
      "800/800 [==============================] - 1s 683us/step - loss: 0.3752 - accuracy: 0.8446\n",
      "Epoch 73/100\n",
      "800/800 [==============================] - 1s 672us/step - loss: 0.3772 - accuracy: 0.8459\n",
      "Epoch 74/100\n",
      "800/800 [==============================] - 1s 681us/step - loss: 0.3739 - accuracy: 0.8438\n",
      "Epoch 75/100\n",
      "800/800 [==============================] - 1s 675us/step - loss: 0.3739 - accuracy: 0.8482\n",
      "Epoch 76/100\n",
      "800/800 [==============================] - 1s 730us/step - loss: 0.3720 - accuracy: 0.8443\n",
      "Epoch 77/100\n",
      "800/800 [==============================] - 1s 725us/step - loss: 0.3792 - accuracy: 0.8430\n",
      "Epoch 78/100\n",
      "800/800 [==============================] - 1s 739us/step - loss: 0.3746 - accuracy: 0.8456\n",
      "Epoch 79/100\n",
      "800/800 [==============================] - 1s 706us/step - loss: 0.3712 - accuracy: 0.8485\n",
      "Epoch 80/100\n",
      "800/800 [==============================] - 1s 677us/step - loss: 0.3741 - accuracy: 0.8431\n",
      "Epoch 81/100\n",
      "800/800 [==============================] - 1s 714us/step - loss: 0.3759 - accuracy: 0.8436\n",
      "Epoch 82/100\n",
      "800/800 [==============================] - 1s 686us/step - loss: 0.3711 - accuracy: 0.8497\n",
      "Epoch 83/100\n",
      "800/800 [==============================] - 1s 733us/step - loss: 0.3724 - accuracy: 0.8447\n",
      "Epoch 84/100\n",
      "800/800 [==============================] - 1s 699us/step - loss: 0.3754 - accuracy: 0.8444\n",
      "Epoch 85/100\n",
      "800/800 [==============================] - 1s 754us/step - loss: 0.3740 - accuracy: 0.8446\n",
      "Epoch 86/100\n",
      "800/800 [==============================] - 1s 680us/step - loss: 0.3775 - accuracy: 0.8455\n",
      "Epoch 87/100\n",
      "800/800 [==============================] - 1s 662us/step - loss: 0.3743 - accuracy: 0.8443\n",
      "Epoch 88/100\n",
      "800/800 [==============================] - 1s 695us/step - loss: 0.3748 - accuracy: 0.8456\n",
      "Epoch 89/100\n",
      "800/800 [==============================] - 1s 668us/step - loss: 0.3722 - accuracy: 0.8461\n",
      "Epoch 90/100\n",
      "800/800 [==============================] - 1s 737us/step - loss: 0.3726 - accuracy: 0.8445\n",
      "Epoch 91/100\n",
      "800/800 [==============================] - 1s 745us/step - loss: 0.3780 - accuracy: 0.8435\n",
      "Epoch 92/100\n",
      "800/800 [==============================] - 1s 743us/step - loss: 0.3709 - accuracy: 0.8441\n",
      "Epoch 93/100\n",
      "800/800 [==============================] - 1s 665us/step - loss: 0.3733 - accuracy: 0.8486\n",
      "Epoch 94/100\n",
      "800/800 [==============================] - 1s 747us/step - loss: 0.3730 - accuracy: 0.8474\n",
      "Epoch 95/100\n",
      "800/800 [==============================] - 1s 690us/step - loss: 0.3711 - accuracy: 0.8470\n",
      "Epoch 96/100\n",
      "800/800 [==============================] - 1s 766us/step - loss: 0.3714 - accuracy: 0.8487\n",
      "Epoch 97/100\n",
      "800/800 [==============================] - 1s 665us/step - loss: 0.3761 - accuracy: 0.8424\n",
      "Epoch 98/100\n",
      "800/800 [==============================] - 1s 761us/step - loss: 0.3736 - accuracy: 0.8470\n",
      "Epoch 99/100\n",
      "800/800 [==============================] - 1s 681us/step - loss: 0.3692 - accuracy: 0.8529\n",
      "Epoch 100/100\n",
      "800/800 [==============================] - 1s 732us/step - loss: 0.3717 - accuracy: 0.8457\n",
      "Wall time: 10min 9s\n"
     ]
    }
   ],
   "metadata": {}
  },
  {
   "cell_type": "code",
   "execution_count": 37,
   "source": [
    "print('Best params:\\n',halving_cv.best_params_,'\\nBest accuracy:\\n',halving_cv.best_score_)"
   ],
   "outputs": [
    {
     "output_type": "stream",
     "name": "stdout",
     "text": [
      "Best params:\n",
      " {'batch_size': 10, 'epochs': 100, 'optimizer': 'adam'} \n",
      "Best accuracy:\n",
      " 0.8569461827284105\n"
     ]
    }
   ],
   "metadata": {}
  },
  {
   "cell_type": "code",
   "execution_count": null,
   "source": [
    "#Obs: com a adição de parâmetros, a acurácia aumentou, apesar dos melhores parâmetros não terem alterado"
   ],
   "outputs": [],
   "metadata": {}
  },
  {
   "cell_type": "markdown",
   "source": [
    "# FIM"
   ],
   "metadata": {}
  },
  {
   "cell_type": "markdown",
   "source": [
    "> Professor Diego Dorgam  \r\n",
    "> [@diegodorgam](https://twitter.com/diegodorgam)\r\n",
    "\r\n",
    "Modificado por\r\n",
    "> Álvaro Leles Guimarães"
   ],
   "metadata": {}
  }
 ],
 "metadata": {
  "kernelspec": {
   "name": "python3",
   "display_name": "Python 3.9.6 64-bit (system)"
  },
  "language_info": {
   "codemirror_mode": {
    "name": "ipython",
    "version": 3
   },
   "file_extension": ".py",
   "mimetype": "text/x-python",
   "name": "python",
   "nbconvert_exporter": "python",
   "pygments_lexer": "ipython3",
   "version": "3.9.6"
  },
  "interpreter": {
   "hash": "f207fd70f9fbf0576c013b5478e6433bf21bddade4b54cedc324eb219afc4cf7"
  }
 },
 "nbformat": 4,
 "nbformat_minor": 4
}