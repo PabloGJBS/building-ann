{
 "cells": [
  {
   "cell_type": "code",
   "execution_count": 1,
   "metadata": {},
   "outputs": [
    {
     "name": "stderr",
     "output_type": "stream",
     "text": [
      "Using TensorFlow backend.\n"
     ]
    }
   ],
   "source": [
    "import pandas as pd\n",
    "from keras.wrappers.scikit_learn import KerasClassifier\n",
    "from sklearn.model_selection import cross_val_score\n",
    "from keras.models import Sequential\n",
    "from keras.layers import Dense\n",
    "from keras.layers import Dropout"
   ]
  },
  {
   "cell_type": "code",
   "execution_count": 2,
   "metadata": {},
   "outputs": [],
   "source": [
    "# Importing the dataset\n",
    "dataset = pd.read_csv('Churn_Modelling.csv')\n",
    "X = dataset.iloc[:, 3:13].values\n",
    "y = dataset.iloc[:, 13].values"
   ]
  },
  {
   "cell_type": "code",
   "execution_count": 3,
   "metadata": {},
   "outputs": [
    {
     "name": "stderr",
     "output_type": "stream",
     "text": [
      "/home/felipe/anaconda3/envs/dlenv/lib/python3.6/site-packages/sklearn/preprocessing/_encoders.py:371: FutureWarning: The handling of integer data will change in version 0.22. Currently, the categories are determined based on the range [0, max(values)], while in the future they will be determined based on the unique values.\n",
      "If you want the future behaviour and silence this warning, you can specify \"categories='auto'\".\n",
      "In case you used a LabelEncoder before this OneHotEncoder to convert the categories to integers, then you can now use the OneHotEncoder directly.\n",
      "  warnings.warn(msg, FutureWarning)\n",
      "/home/felipe/anaconda3/envs/dlenv/lib/python3.6/site-packages/sklearn/preprocessing/_encoders.py:392: DeprecationWarning: The 'categorical_features' keyword is deprecated in version 0.20 and will be removed in 0.22. You can use the ColumnTransformer instead.\n",
      "  \"use the ColumnTransformer instead.\", DeprecationWarning)\n"
     ]
    }
   ],
   "source": [
    "# Encoding categorical data\n",
    "from sklearn.preprocessing import LabelEncoder, OneHotEncoder\n",
    "labelencoder_X_1 = LabelEncoder()\n",
    "X[:, 1] = labelencoder_X_1.fit_transform(X[:, 1])\n",
    "labelencoder_X_2 = LabelEncoder()\n",
    "X[:, 2] = labelencoder_X_2.fit_transform(X[:, 2])\n",
    "onehotencoder = OneHotEncoder(categorical_features = [1])\n",
    "X = onehotencoder.fit_transform(X).toarray()\n",
    "X = X[:, 1:]"
   ]
  },
  {
   "cell_type": "code",
   "execution_count": 4,
   "metadata": {},
   "outputs": [],
   "source": [
    "# Splitting the dataset into the Training set and Test set\n",
    "from sklearn.model_selection import train_test_split\n",
    "X_train, X_test, y_train, y_test = train_test_split(X, y, test_size = 0.2, random_state = 0)"
   ]
  },
  {
   "cell_type": "code",
   "execution_count": 5,
   "metadata": {},
   "outputs": [],
   "source": [
    "# Feature Scaling\n",
    "from sklearn.preprocessing import StandardScaler\n",
    "sc = StandardScaler()\n",
    "X_train = sc.fit_transform(X_train)\n",
    "X_test = sc.transform(X_test)"
   ]
  },
  {
   "cell_type": "code",
   "execution_count": 70,
   "metadata": {},
   "outputs": [],
   "source": [
    "def build_classifier():\n",
    "    classifier = Sequential()\n",
    "    classifier.add(Dense(units = 6, kernel_initializer = 'uniform', activation = 'relu', input_dim = 11))\n",
    "    classifier.add(Dropout(rate = 0.1))\n",
    "    classifier.add(Dense(units = 6, kernel_initializer = 'uniform', activation = 'tanh'))\n",
    "    classifier.add(Dropout(rate = 0.1))\n",
    "    classifier.add(Dense(units = 1, kernel_initializer = 'uniform', activation = 'sigmoid'))\n",
    "    classifier.compile(optimizer = 'adam', loss = 'binary_crossentropy', metrics = ['accuracy'])\n",
    "    return classifier"
   ]
  },
  {
   "cell_type": "code",
   "execution_count": 71,
   "metadata": {},
   "outputs": [],
   "source": [
    "classifier = KerasClassifier(build_fn = build_classifier, batch_size = 10, epochs = 10)"
   ]
  },
  {
   "cell_type": "code",
   "execution_count": 72,
   "metadata": {},
   "outputs": [
    {
     "name": "stdout",
     "output_type": "stream",
     "text": [
      "Epoch 1/10\n",
      "7200/7200 [==============================] - 8s 1ms/step - loss: 0.4915 - acc: 0.7971\n",
      "Epoch 2/10\n",
      "7200/7200 [==============================] - 2s 326us/step - loss: 0.4315 - acc: 0.7971\n",
      "Epoch 3/10\n",
      "7200/7200 [==============================] - 2s 341us/step - loss: 0.4246 - acc: 0.8075\n",
      "Epoch 4/10\n",
      "7200/7200 [==============================] - 3s 415us/step - loss: 0.4211 - acc: 0.8256\n",
      "Epoch 5/10\n",
      "7200/7200 [==============================] - 3s 386us/step - loss: 0.4214 - acc: 0.8260\n",
      "Epoch 6/10\n",
      "7200/7200 [==============================] - 3s 368us/step - loss: 0.4175 - acc: 0.8262\n",
      "Epoch 7/10\n",
      "7200/7200 [==============================] - 4s 492us/step - loss: 0.4166 - acc: 0.8264\n",
      "Epoch 8/10\n",
      "7200/7200 [==============================] - 4s 487us/step - loss: 0.4166 - acc: 0.8279\n",
      "Epoch 9/10\n",
      "7200/7200 [==============================] - 3s 480us/step - loss: 0.4166 - acc: 0.8265\n",
      "Epoch 10/10\n",
      "7200/7200 [==============================] - 3s 405us/step - loss: 0.4154 - acc: 0.8260\n",
      "800/800 [==============================] - 2s 3ms/step\n",
      "Epoch 1/10\n",
      "7200/7200 [==============================] - 8s 1ms/step - loss: 0.4913 - acc: 0.7964\n",
      "Epoch 2/10\n",
      "7200/7200 [==============================] - 3s 391us/step - loss: 0.4293 - acc: 0.7967\n",
      "Epoch 3/10\n",
      "7200/7200 [==============================] - 3s 366us/step - loss: 0.4247 - acc: 0.8153\n",
      "Epoch 4/10\n",
      "7200/7200 [==============================] - 3s 398us/step - loss: 0.4203 - acc: 0.8286\n",
      "Epoch 5/10\n",
      "7200/7200 [==============================] - 3s 410us/step - loss: 0.4194 - acc: 0.8299\n",
      "Epoch 6/10\n",
      "7200/7200 [==============================] - 3s 391us/step - loss: 0.4180 - acc: 0.8335\n",
      "Epoch 7/10\n",
      "7200/7200 [==============================] - 3s 376us/step - loss: 0.4169 - acc: 0.8321\n",
      "Epoch 8/10\n",
      "7200/7200 [==============================] - 3s 397us/step - loss: 0.4161 - acc: 0.8319\n",
      "Epoch 9/10\n",
      "7200/7200 [==============================] - 3s 477us/step - loss: 0.4153 - acc: 0.8310\n",
      "Epoch 10/10\n",
      "7200/7200 [==============================] - 3s 409us/step - loss: 0.4143 - acc: 0.8322\n",
      "800/800 [==============================] - 3s 3ms/step\n",
      "Epoch 1/10\n",
      "7200/7200 [==============================] - 10s 1ms/step - loss: 0.4975 - acc: 0.7953\n",
      "Epoch 2/10\n",
      "7200/7200 [==============================] - 4s 543us/step - loss: 0.4309 - acc: 0.7956\n",
      "Epoch 3/10\n",
      "7200/7200 [==============================] - 4s 508us/step - loss: 0.4263 - acc: 0.8168\n",
      "Epoch 4/10\n",
      "7200/7200 [==============================] - 3s 445us/step - loss: 0.4210 - acc: 0.8269\n",
      "Epoch 5/10\n",
      "7200/7200 [==============================] - 3s 424us/step - loss: 0.4212 - acc: 0.8267\n",
      "Epoch 6/10\n",
      "7200/7200 [==============================] - 3s 484us/step - loss: 0.4184 - acc: 0.8311\n",
      "Epoch 7/10\n",
      "7200/7200 [==============================] - 4s 509us/step - loss: 0.4160 - acc: 0.8297\n",
      "Epoch 8/10\n",
      "7200/7200 [==============================] - 4s 572us/step - loss: 0.4168 - acc: 0.8290\n",
      "Epoch 9/10\n",
      "7200/7200 [==============================] - 4s 498us/step - loss: 0.4166 - acc: 0.8312\n",
      "Epoch 10/10\n",
      "7200/7200 [==============================] - 3s 476us/step - loss: 0.4138 - acc: 0.8300\n",
      "800/800 [==============================] - 3s 4ms/step\n",
      "Epoch 1/10\n",
      "7200/7200 [==============================] - 10s 1ms/step - loss: 0.4941 - acc: 0.7968\n",
      "Epoch 2/10\n",
      "7200/7200 [==============================] - 3s 480us/step - loss: 0.4305 - acc: 0.7975\n",
      "Epoch 3/10\n",
      "7200/7200 [==============================] - 4s 503us/step - loss: 0.4223 - acc: 0.8122\n",
      "Epoch 4/10\n",
      "7200/7200 [==============================] - 4s 542us/step - loss: 0.4203 - acc: 0.8303\n",
      "Epoch 5/10\n",
      "7200/7200 [==============================] - 4s 516us/step - loss: 0.4139 - acc: 0.8299\n",
      "Epoch 6/10\n",
      "7200/7200 [==============================] - 3s 461us/step - loss: 0.4161 - acc: 0.8271\n",
      "Epoch 7/10\n",
      "7200/7200 [==============================] - 4s 486us/step - loss: 0.4159 - acc: 0.8286\n",
      "Epoch 8/10\n",
      "7200/7200 [==============================] - 4s 492us/step - loss: 0.4162 - acc: 0.8283\n",
      "Epoch 9/10\n",
      "7200/7200 [==============================] - 4s 490us/step - loss: 0.4149 - acc: 0.8265\n",
      "Epoch 10/10\n",
      "7200/7200 [==============================] - 4s 530us/step - loss: 0.4154 - acc: 0.8261\n",
      "800/800 [==============================] - 3s 4ms/step\n",
      "Epoch 1/10\n",
      "7200/7200 [==============================] - 11s 1ms/step - loss: 0.4952 - acc: 0.7933\n",
      "Epoch 2/10\n",
      "7200/7200 [==============================] - 4s 555us/step - loss: 0.4354 - acc: 0.7937\n",
      "Epoch 3/10\n",
      "7200/7200 [==============================] - 4s 540us/step - loss: 0.4283 - acc: 0.8089\n",
      "Epoch 4/10\n",
      "7200/7200 [==============================] - 4s 515us/step - loss: 0.4247 - acc: 0.8197\n",
      "Epoch 5/10\n",
      "7200/7200 [==============================] - 4s 507us/step - loss: 0.4223 - acc: 0.8256\n",
      "Epoch 6/10\n",
      "7200/7200 [==============================] - 4s 489us/step - loss: 0.4218 - acc: 0.8253\n",
      "Epoch 7/10\n",
      "7200/7200 [==============================] - 4s 489us/step - loss: 0.4171 - acc: 0.8264\n",
      "Epoch 8/10\n",
      "7200/7200 [==============================] - 4s 497us/step - loss: 0.4191 - acc: 0.8275\n",
      "Epoch 9/10\n",
      "7200/7200 [==============================] - 4s 510us/step - loss: 0.4231 - acc: 0.8275\n",
      "Epoch 10/10\n",
      "7200/7200 [==============================] - 4s 499us/step - loss: 0.4208 - acc: 0.8237\n",
      "800/800 [==============================] - 3s 4ms/step\n",
      "Epoch 1/10\n",
      "7200/7200 [==============================] - 11s 1ms/step - loss: 0.4932 - acc: 0.8006\n",
      "Epoch 2/10\n",
      "7200/7200 [==============================] - 3s 474us/step - loss: 0.4225 - acc: 0.8217\n",
      "Epoch 3/10\n",
      "7200/7200 [==============================] - 4s 526us/step - loss: 0.4156 - acc: 0.8210\n",
      "Epoch 4/10\n",
      "7200/7200 [==============================] - 4s 552us/step - loss: 0.4085 - acc: 0.8215\n",
      "Epoch 5/10\n",
      "7200/7200 [==============================] - 3s 392us/step - loss: 0.4047 - acc: 0.8239\n",
      "Epoch 6/10\n",
      "7200/7200 [==============================] - 3s 418us/step - loss: 0.4046 - acc: 0.8240\n",
      "Epoch 7/10\n",
      "7200/7200 [==============================] - 4s 498us/step - loss: 0.4017 - acc: 0.8236\n",
      "Epoch 8/10\n",
      "7200/7200 [==============================] - 3s 412us/step - loss: 0.4018 - acc: 0.8260\n",
      "Epoch 9/10\n",
      "7200/7200 [==============================] - 3s 459us/step - loss: 0.4038 - acc: 0.8240\n",
      "Epoch 10/10\n",
      "7200/7200 [==============================] - 3s 457us/step - loss: 0.3987 - acc: 0.8321\n",
      "800/800 [==============================] - 3s 4ms/step\n",
      "Epoch 1/10\n",
      "7200/7200 [==============================] - 9s 1ms/step - loss: 0.4922 - acc: 0.7981\n",
      "Epoch 2/10\n",
      "7200/7200 [==============================] - 3s 459us/step - loss: 0.4266 - acc: 0.8092\n",
      "Epoch 3/10\n",
      "7200/7200 [==============================] - 3s 469us/step - loss: 0.4226 - acc: 0.8150\n",
      "Epoch 4/10\n",
      "7200/7200 [==============================] - 3s 471us/step - loss: 0.4178 - acc: 0.8197\n",
      "Epoch 5/10\n",
      "7200/7200 [==============================] - 3s 445us/step - loss: 0.4204 - acc: 0.8218\n",
      "Epoch 6/10\n",
      "7200/7200 [==============================] - 4s 507us/step - loss: 0.4168 - acc: 0.8225\n",
      "Epoch 7/10\n",
      "7200/7200 [==============================] - 3s 422us/step - loss: 0.4183 - acc: 0.8208\n",
      "Epoch 8/10\n",
      "7200/7200 [==============================] - 2s 310us/step - loss: 0.4146 - acc: 0.8219\n",
      "Epoch 9/10\n",
      "7200/7200 [==============================] - 3s 375us/step - loss: 0.4162 - acc: 0.8224\n",
      "Epoch 10/10\n",
      "7200/7200 [==============================] - 4s 496us/step - loss: 0.4151 - acc: 0.8210\n",
      "800/800 [==============================] - 3s 4ms/step\n",
      "Epoch 1/10\n",
      "7200/7200 [==============================] - 10s 1ms/step - loss: 0.4941 - acc: 0.7956\n",
      "Epoch 2/10\n",
      "7200/7200 [==============================] - 3s 399us/step - loss: 0.4288 - acc: 0.7962\n",
      "Epoch 3/10\n",
      "7200/7200 [==============================] - 3s 418us/step - loss: 0.4229 - acc: 0.8164\n",
      "Epoch 4/10\n",
      "7200/7200 [==============================] - 3s 461us/step - loss: 0.4181 - acc: 0.8281\n",
      "Epoch 5/10\n",
      "7200/7200 [==============================] - 3s 475us/step - loss: 0.4185 - acc: 0.8269\n",
      "Epoch 6/10\n",
      "7200/7200 [==============================] - 3s 470us/step - loss: 0.4187 - acc: 0.8254\n",
      "Epoch 7/10\n",
      "7200/7200 [==============================] - 3s 451us/step - loss: 0.4130 - acc: 0.8274\n",
      "Epoch 8/10\n",
      "7200/7200 [==============================] - 3s 475us/step - loss: 0.4188 - acc: 0.8261\n",
      "Epoch 9/10\n"
     ]
    },
    {
     "name": "stdout",
     "output_type": "stream",
     "text": [
      "7200/7200 [==============================] - 3s 432us/step - loss: 0.4139 - acc: 0.8260\n",
      "Epoch 10/10\n",
      "7200/7200 [==============================] - 3s 404us/step - loss: 0.4132 - acc: 0.8279\n",
      "800/800 [==============================] - 3s 4ms/step\n",
      "Epoch 1/10\n",
      "7200/7200 [==============================] - 10s 1ms/step - loss: 0.4912 - acc: 0.7953\n",
      "Epoch 2/10\n",
      "7200/7200 [==============================] - 4s 493us/step - loss: 0.4303 - acc: 0.7957\n",
      "Epoch 3/10\n",
      "7200/7200 [==============================] - 4s 504us/step - loss: 0.4218 - acc: 0.8186\n",
      "Epoch 4/10\n",
      "7200/7200 [==============================] - 3s 440us/step - loss: 0.4204 - acc: 0.8283\n",
      "Epoch 5/10\n",
      "7200/7200 [==============================] - 3s 374us/step - loss: 0.4180 - acc: 0.8261\n",
      "Epoch 6/10\n",
      "7200/7200 [==============================] - 3s 425us/step - loss: 0.4140 - acc: 0.8301\n",
      "Epoch 7/10\n",
      "7200/7200 [==============================] - 4s 602us/step - loss: 0.4136 - acc: 0.8293\n",
      "Epoch 8/10\n",
      "7200/7200 [==============================] - 3s 480us/step - loss: 0.4168 - acc: 0.8283\n",
      "Epoch 9/10\n",
      "7200/7200 [==============================] - 3s 408us/step - loss: 0.4173 - acc: 0.8287\n",
      "Epoch 10/10\n",
      "7200/7200 [==============================] - 3s 392us/step - loss: 0.4133 - acc: 0.8300\n",
      "800/800 [==============================] - 3s 4ms/step\n",
      "Epoch 1/10\n",
      "7200/7200 [==============================] - 10s 1ms/step - loss: 0.4987 - acc: 0.7958\n",
      "Epoch 2/10\n",
      "7200/7200 [==============================] - 4s 535us/step - loss: 0.4314 - acc: 0.7961\n",
      "Epoch 3/10\n",
      "7200/7200 [==============================] - 4s 528us/step - loss: 0.4266 - acc: 0.8181\n",
      "Epoch 4/10\n",
      "7200/7200 [==============================] - 3s 473us/step - loss: 0.4229 - acc: 0.8271\n",
      "Epoch 5/10\n",
      "7200/7200 [==============================] - 4s 499us/step - loss: 0.4196 - acc: 0.8279\n",
      "Epoch 6/10\n",
      "7200/7200 [==============================] - 3s 381us/step - loss: 0.4203 - acc: 0.8272\n",
      "Epoch 7/10\n",
      "7200/7200 [==============================] - 3s 441us/step - loss: 0.4207 - acc: 0.8285\n",
      "Epoch 8/10\n",
      "7200/7200 [==============================] - 5s 672us/step - loss: 0.4179 - acc: 0.8257\n",
      "Epoch 9/10\n",
      "7200/7200 [==============================] - 5s 628us/step - loss: 0.4193 - acc: 0.8276\n",
      "Epoch 10/10\n",
      "7200/7200 [==============================] - 3s 369us/step - loss: 0.4172 - acc: 0.8281\n",
      "800/800 [==============================] - 3s 3ms/step\n"
     ]
    }
   ],
   "source": [
    "accuracies = cross_val_score(estimator = classifier, X = X_train, y = y_train, cv = 10, n_jobs = -1)"
   ]
  },
  {
   "cell_type": "code",
   "execution_count": 73,
   "metadata": {},
   "outputs": [],
   "source": [
    "mean = accuracies.mean()"
   ]
  },
  {
   "cell_type": "code",
   "execution_count": 74,
   "metadata": {},
   "outputs": [],
   "source": [
    "variance = accuracies.std()"
   ]
  },
  {
   "cell_type": "code",
   "execution_count": 75,
   "metadata": {},
   "outputs": [
    {
     "data": {
      "text/plain": [
       "0.8354999957978725"
      ]
     },
     "execution_count": 75,
     "metadata": {},
     "output_type": "execute_result"
    }
   ],
   "source": [
    "mean"
   ]
  },
  {
   "cell_type": "code",
   "execution_count": 76,
   "metadata": {},
   "outputs": [
    {
     "data": {
      "text/plain": [
       "0.010682929491527063"
      ]
     },
     "execution_count": 76,
     "metadata": {},
     "output_type": "execute_result"
    }
   ],
   "source": [
    "variance"
   ]
  },
  {
   "cell_type": "code",
   "execution_count": 77,
   "metadata": {},
   "outputs": [
    {
     "data": {
      "text/plain": [
       "array([0.84      , 0.83874999, 0.83      , 0.82875   , 0.84624999,\n",
       "       0.84625   , 0.8375    , 0.8225    , 0.815     , 0.84999999])"
      ]
     },
     "execution_count": 77,
     "metadata": {},
     "output_type": "execute_result"
    }
   ],
   "source": [
    "accuracies"
   ]
  },
  {
   "cell_type": "code",
   "execution_count": null,
   "metadata": {},
   "outputs": [],
   "source": []
  }
 ],
 "metadata": {
  "kernelspec": {
   "display_name": "Python 3",
   "language": "python",
   "name": "python3"
  },
  "language_info": {
   "codemirror_mode": {
    "name": "ipython",
    "version": 3
   },
   "file_extension": ".py",
   "mimetype": "text/x-python",
   "name": "python",
   "nbconvert_exporter": "python",
   "pygments_lexer": "ipython3",
   "version": "3.6.8"
  }
 },
 "nbformat": 4,
 "nbformat_minor": 2
}
