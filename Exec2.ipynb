{
 "cells": [
  {
   "cell_type": "code",
   "execution_count": 2,
   "metadata": {},
   "outputs": [],
   "source": [
    "# pip install -r requirements.txt"
   ]
  },
  {
   "cell_type": "code",
   "execution_count": 3,
   "metadata": {},
   "outputs": [],
   "source": [
    "# Artificial Neural Network\n",
    "\n",
    "# Installing Theano\n",
    "# pip install --upgrade --no-deps git+git://github.com/Theano/Theano.git\n",
    "\n",
    "# Installing Tensorflow\n",
    "# pip install tensorflow\n",
    "\n",
    "# Installing Keras\n",
    "# pip install --upgrade keras"
   ]
  },
  {
   "cell_type": "code",
   "execution_count": 4,
   "metadata": {},
   "outputs": [],
   "source": [
    "# Part 1 - Data Preprocessing\n",
    "\n",
    "# Importing the libraries\n",
    "import numpy as np\n",
    "import matplotlib.pyplot as plt\n",
    "import pandas as pd"
   ]
  },
  {
   "cell_type": "code",
   "execution_count": 5,
   "metadata": {},
   "outputs": [],
   "source": [
    "# Importing the dataset\n",
    "dataset = pd.read_csv('Churn_Modelling.csv')\n",
    "X = dataset.iloc[:, 3:13].values\n",
    "y = dataset.iloc[:, 13].values"
   ]
  },
  {
   "cell_type": "code",
   "execution_count": 6,
   "metadata": {},
   "outputs": [
    {
     "output_type": "stream",
     "name": "stdout",
     "text": [
      "[[619 'France' 0 ... 1 1 101348.88]\n [608 'Spain' 0 ... 0 1 112542.58]\n [502 'France' 0 ... 1 0 113931.57]\n ...\n [709 'France' 0 ... 0 1 42085.58]\n [772 'Germany' 1 ... 1 0 92888.52]\n [792 'France' 0 ... 1 0 38190.78]]\n[[1.0 0.0 0.0 ... 1 1 101348.88]\n [0.0 0.0 1.0 ... 0 1 112542.58]\n [1.0 0.0 0.0 ... 1 0 113931.57]\n ...\n [1.0 0.0 0.0 ... 0 1 42085.58]\n [0.0 1.0 0.0 ... 1 0 92888.52]\n [1.0 0.0 0.0 ... 1 0 38190.78]]\n"
     ]
    }
   ],
   "source": [
    "# Label Encoding the \"Gender\" column\n",
    "from sklearn.preprocessing import LabelEncoder\n",
    "le = LabelEncoder()\n",
    "X[:, 2] = le.fit_transform(X[:, 2])\n",
    "print(X)\n",
    "# One Hot Encoding the \"Geography\" column\n",
    "from sklearn.compose import ColumnTransformer\n",
    "from sklearn.preprocessing import OneHotEncoder\n",
    "ct = ColumnTransformer(transformers=[('encoder', OneHotEncoder(), [1])], remainder='passthrough')\n",
    "X = np.array(ct.fit_transform(X))\n",
    "print(X)"
   ]
  },
  {
   "cell_type": "code",
   "execution_count": 7,
   "metadata": {},
   "outputs": [],
   "source": [
    "# Splitting the dataset into the Training set and Test set\n",
    "from sklearn.model_selection import train_test_split\n",
    "X_train, X_test, y_train, y_test = train_test_split(X, y, test_size = 0.2, random_state = 0)"
   ]
  },
  {
   "cell_type": "code",
   "execution_count": 8,
   "metadata": {},
   "outputs": [
    {
     "output_type": "stream",
     "name": "stderr",
     "text": [
      "/home/ita/.local/lib/python2.7/site-packages/sklearn/utils/validation.py:595: DataConversionWarning: Data with input dtype object was converted to float64 by StandardScaler.\n  warnings.warn(msg, DataConversionWarning)\n"
     ]
    }
   ],
   "source": [
    "# Feature Scaling\n",
    "from sklearn.preprocessing import StandardScaler\n",
    "sc = StandardScaler()\n",
    "X_train = sc.fit_transform(X_train)\n",
    "X_test = sc.transform(X_test)"
   ]
  },
  {
   "cell_type": "code",
   "execution_count": 9,
   "metadata": {},
   "outputs": [
    {
     "output_type": "execute_result",
     "data": {
      "text/plain": [
       "(8000, 12)"
      ]
     },
     "metadata": {},
     "execution_count": 9
    }
   ],
   "source": [
    "np.shape(X_train)"
   ]
  },
  {
   "cell_type": "code",
   "execution_count": 10,
   "metadata": {},
   "outputs": [
    {
     "output_type": "stream",
     "name": "stderr",
     "text": [
      "Using TensorFlow backend.\n"
     ]
    }
   ],
   "source": [
    "# Part 2 - Now let's make the ANN!\n",
    "\n",
    "# Importing the Keras libraries and packages\n",
    "import keras\n",
    "from keras.models import Sequential\n",
    "from keras.layers import Dense\n",
    "from keras.layers import Dropout"
   ]
  },
  {
   "cell_type": "code",
   "execution_count": 11,
   "metadata": {},
   "outputs": [],
   "source": [
    "# Initialising the ANN\n",
    "classifier = Sequential()"
   ]
  },
  {
   "cell_type": "code",
   "execution_count": 12,
   "metadata": {},
   "outputs": [
    {
     "output_type": "stream",
     "name": "stdout",
     "text": [
      "WARNING:tensorflow:From /home/ita/.local/lib/python2.7/site-packages/tensorflow/python/ops/nn_impl.py:180: where (from tensorflow.python.ops.array_ops) is deprecated and will be removed in a future version.\n",
      "Instructions for updating:\n",
      "Use tf.where in 2.0, which has the same broadcast rule as np.where\n",
      "WARNING:tensorflow:From /home/ita/.local/lib/python2.7/site-packages/keras/backend/tensorflow_backend.py:422: The name tf.global_variables is deprecated. Please use tf.compat.v1.global_variables instead.\n",
      "\n",
      "Epoch 1/10\n",
      "8000/8000 [==============================] - 1s 152us/step - loss: 0.4758 - accuracy: 0.7959\n",
      "Epoch 2/10\n",
      "8000/8000 [==============================] - 1s 127us/step - loss: 0.4294 - accuracy: 0.7960\n",
      "Epoch 3/10\n",
      "8000/8000 [==============================] - 1s 138us/step - loss: 0.4288 - accuracy: 0.7960\n",
      "Epoch 4/10\n",
      "8000/8000 [==============================] - 1s 123us/step - loss: 0.4286 - accuracy: 0.7960\n",
      "Epoch 5/10\n",
      "8000/8000 [==============================] - 1s 132us/step - loss: 0.4280 - accuracy: 0.7960\n",
      "Epoch 6/10\n",
      "8000/8000 [==============================] - 1s 126us/step - loss: 0.4240 - accuracy: 0.8076\n",
      "Epoch 7/10\n",
      "8000/8000 [==============================] - 1s 133us/step - loss: 0.4109 - accuracy: 0.8124\n",
      "Epoch 8/10\n",
      "8000/8000 [==============================] - 1s 133us/step - loss: 0.3958 - accuracy: 0.8180\n",
      "Epoch 9/10\n",
      "8000/8000 [==============================] - 1s 119us/step - loss: 0.3888 - accuracy: 0.8199\n",
      "Epoch 10/10\n",
      "8000/8000 [==============================] - 1s 117us/step - loss: 0.3862 - accuracy: 0.8217\n"
     ]
    },
    {
     "output_type": "execute_result",
     "data": {
      "text/plain": [
       "<keras.callbacks.callbacks.History at 0x7f256b8e2e50>"
      ]
     },
     "metadata": {},
     "execution_count": 12
    }
   ],
   "source": [
    "# Adding the input layer and the first hidden layer\n",
    "classifier.add(Dense(units = 6, kernel_initializer = 'uniform', activation = 'tanh', input_dim = 12))\n",
    "# classifier.add(Dropout(rate = 0.1))\n",
    "\n",
    "# Adding the second hidden layer\n",
    "classifier.add(Dense(units = 6, kernel_initializer = 'uniform', activation = 'relu'))\n",
    "# classifier.add(Dropout(rate = 0.1))\n",
    "\n",
    "# Adding the output layer\n",
    "classifier.add(Dense(units = 1, kernel_initializer = 'uniform', activation = 'sigmoid'))\n",
    "\n",
    "# Compiling the ANN\n",
    "classifier.compile(optimizer = 'adam', loss = 'binary_crossentropy', metrics = ['accuracy'])\n",
    "\n",
    "# Fitting the ANN to the Training set\n",
    "classifier.fit(X_train, y_train, batch_size = 10, epochs = 10)"
   ]
  },
  {
   "cell_type": "code",
   "execution_count": 13,
   "metadata": {},
   "outputs": [],
   "source": [
    "# Part 3 - Making predictions and evaluating the model\n",
    "\n",
    "# Predicting the Test set results\n",
    "y_pred = classifier.predict(X_test)\n",
    "y_pred = (y_pred > 0.5)"
   ]
  },
  {
   "cell_type": "code",
   "execution_count": 14,
   "metadata": {},
   "outputs": [],
   "source": [
    "# Predicting a single new observation\n",
    "\"\"\"Predict if the customer with the following informations will leave the bank:\n",
    "Geography: France\n",
    "Credit Score: 600\n",
    "Gender: Male\n",
    "Age: 40\n",
    "Tenure: 3\n",
    "Balance: 60000\n",
    "Number of Products: 2\n",
    "Has Credit Card: Yes\n",
    "Is Active Member: Yes\n",
    "Estimated Salary: 50000\n",
    "Exited: Yes\"\"\"\n",
    "new_prediction = classifier.predict(sc.transform(np.array([[0.0, 0, 600, 1, 40, 3, 60000, 2, 1, 1, 50000, 1]])))\n",
    "new_prediction = (new_prediction > 0.5)"
   ]
  },
  {
   "cell_type": "code",
   "execution_count": 15,
   "metadata": {},
   "outputs": [
    {
     "output_type": "stream",
     "name": "stdout",
     "text": [
      "[[1497   98]\n [ 255  150]]\n"
     ]
    }
   ],
   "source": [
    "# Making the Confusion Matrix\n",
    "from sklearn.metrics import confusion_matrix\n",
    "cm = confusion_matrix(y_test, y_pred)\n",
    "print(cm)"
   ]
  },
  {
   "cell_type": "code",
   "execution_count": 16,
   "metadata": {},
   "outputs": [],
   "source": [
    "# Part 4 - Evaluating, Improving and Tuning the ANN\n",
    "\n",
    "# Evaluating the ANN\n",
    "from keras.wrappers.scikit_learn import KerasClassifier\n",
    "from sklearn.model_selection import cross_val_score\n",
    "from keras.models import Sequential\n",
    "from keras.layers import Dense\n",
    "#from keras.layers import Dropout\n",
    "def build_classifier():\n",
    "    classifier = Sequential()\n",
    "    classifier.add(Dense(units = 6, kernel_initializer = 'uniform', activation = 'relu', input_dim = 12))\n",
    "    classifier.add(Dropout(rate = 0.1))\n",
    "    classifier.add(Dense(units = 6, kernel_initializer = 'uniform', activation = 'relu'))\n",
    "    classifier.add(Dropout(rate = 0.1))\n",
    "    classifier.add(Dense(units = 1, kernel_initializer = 'uniform', activation = 'sigmoid'))\n",
    "    classifier.compile(optimizer = 'adam', loss = 'binary_crossentropy', metrics = ['accuracy'])\n",
    "    return classifier\n",
    "classifier = KerasClassifier(build_fn = build_classifier, batch_size = 10, epochs = 10)\n",
    "accuracies = cross_val_score(estimator = classifier, X = X_train, y = y_train, cv = 10, n_jobs = -1)\n",
    "mean = accuracies.mean()\n",
    "variance = accuracies.std()"
   ]
  },
  {
   "cell_type": "code",
   "execution_count": 17,
   "metadata": {},
   "outputs": [
    {
     "output_type": "stream",
     "name": "stdout",
     "text": [
      "[0.82375002 0.79000002 0.81875002 0.82125002 0.84625    0.82499999\n 0.82999998 0.82499999 0.81999999 0.83625001]\n0.8236250042915344\n0.013743741570548466\n"
     ]
    }
   ],
   "source": [
    "print(accuracies)\n",
    "print(mean)\n",
    "print(variance)"
   ]
  },
  {
   "cell_type": "code",
   "execution_count": 18,
   "metadata": {},
   "outputs": [],
   "source": [
    "# Improving the ANN\n",
    "# Dropout Regularization to reduce overfitting if needed"
   ]
  },
  {
   "cell_type": "code",
   "execution_count": 19,
   "metadata": {},
   "outputs": [],
   "source": [
    "# Tuning the ANN\n",
    "from keras.wrappers.scikit_learn import KerasClassifier\n",
    "from sklearn.model_selection import GridSearchCV\n",
    "from keras.models import Sequential\n",
    "from keras.layers import Dense"
   ]
  },
  {
   "cell_type": "code",
   "execution_count": 20,
   "metadata": {},
   "outputs": [],
   "source": [
    "def build_classifier(optimizer):\n",
    "    classifier = Sequential()\n",
    "    classifier.add(Dense(units = 6, kernel_initializer = 'uniform', activation = 'relu', input_dim = 12))\n",
    "    classifier.add(Dropout(rate = 0.1))\n",
    "    classifier.add(Dense(units = 6, kernel_initializer = 'uniform', activation = 'relu'))\n",
    "    classifier.add(Dropout(rate = 0.1))\n",
    "    classifier.add(Dense(units = 1, kernel_initializer = 'uniform', activation = 'sigmoid'))\n",
    "    classifier.compile(optimizer = optimizer, loss = 'binary_crossentropy', metrics = ['accuracy'])\n",
    "    return classifier"
   ]
  },
  {
   "cell_type": "code",
   "execution_count": 21,
   "metadata": {},
   "outputs": [],
   "source": [
    "classifier = KerasClassifier(build_fn = build_classifier)"
   ]
  },
  {
   "cell_type": "code",
   "execution_count": 22,
   "metadata": {},
   "outputs": [],
   "source": [
    "parameters = {'batch_size': [5, 10],\n",
    "              'epochs': [5, 10],\n",
    "              'optimizer': ['adam', 'rmsprop']}"
   ]
  },
  {
   "cell_type": "code",
   "execution_count": 23,
   "metadata": {},
   "outputs": [],
   "source": [
    "grid_search = GridSearchCV(estimator = classifier,\n",
    "                           scoring = 'accuracy',\n",
    "                           param_grid = parameters,\n",
    "                           cv = 10)"
   ]
  },
  {
   "cell_type": "code",
   "execution_count": 24,
   "metadata": {
    "tags": [
     "outputPrepend"
    ]
   },
   "outputs": [
    {
     "output_type": "stream",
     "name": "stdout",
     "text": [
      "acy: 0.8265\n",
      "Epoch 9/10\n",
      "7200/7200 [==============================] - 2s 307us/step - loss: 0.4148 - accuracy: 0.8292\n",
      "Epoch 10/10\n",
      "7200/7200 [==============================] - 2s 337us/step - loss: 0.4216 - accuracy: 0.8231\n",
      "Epoch 1/10\n",
      "7200/7200 [==============================] - 3s 398us/step - loss: 0.4861 - accuracy: 0.7956\n",
      "Epoch 2/10\n",
      "7200/7200 [==============================] - 2s 297us/step - loss: 0.4273 - accuracy: 0.7956\n",
      "Epoch 3/10\n",
      "7200/7200 [==============================] - 3s 367us/step - loss: 0.4210 - accuracy: 0.7956\n",
      "Epoch 4/10\n",
      "7200/7200 [==============================] - 2s 325us/step - loss: 0.4145 - accuracy: 0.8129\n",
      "Epoch 5/10\n",
      "7200/7200 [==============================] - 2s 331us/step - loss: 0.4175 - accuracy: 0.8218\n",
      "Epoch 6/10\n",
      "7200/7200 [==============================] - 2s 318us/step - loss: 0.4112 - accuracy: 0.8235\n",
      "Epoch 7/10\n",
      "7200/7200 [==============================] - 2s 315us/step - loss: 0.4129 - accuracy: 0.8217\n",
      "Epoch 8/10\n",
      "7200/7200 [==============================] - 2s 312us/step - loss: 0.4145 - accuracy: 0.8242\n",
      "Epoch 9/10\n",
      "7200/7200 [==============================] - 2s 311us/step - loss: 0.4093 - accuracy: 0.8201\n",
      "Epoch 10/10\n",
      "7200/7200 [==============================] - 2s 324us/step - loss: 0.4115 - accuracy: 0.8189\n",
      "Epoch 1/10\n",
      "7200/7200 [==============================] - 3s 401us/step - loss: 0.4954 - accuracy: 0.7976\n",
      "Epoch 2/10\n",
      "7200/7200 [==============================] - 2s 313us/step - loss: 0.4357 - accuracy: 0.7975\n",
      "Epoch 3/10\n",
      "7200/7200 [==============================] - 2s 305us/step - loss: 0.4329 - accuracy: 0.7975\n",
      "Epoch 4/10\n",
      "7200/7200 [==============================] - 2s 308us/step - loss: 0.4349 - accuracy: 0.7975\n",
      "Epoch 5/10\n",
      "7200/7200 [==============================] - 2s 315us/step - loss: 0.4341 - accuracy: 0.7975\n",
      "Epoch 6/10\n",
      "7200/7200 [==============================] - 2s 311us/step - loss: 0.4316 - accuracy: 0.7975\n",
      "Epoch 7/10\n",
      "7200/7200 [==============================] - 2s 306us/step - loss: 0.4275 - accuracy: 0.7975\n",
      "Epoch 8/10\n",
      "7200/7200 [==============================] - 2s 308us/step - loss: 0.4296 - accuracy: 0.7975\n",
      "Epoch 9/10\n",
      "7200/7200 [==============================] - 2s 326us/step - loss: 0.4302 - accuracy: 0.7975\n",
      "Epoch 10/10\n",
      "7200/7200 [==============================] - 2s 319us/step - loss: 0.4268 - accuracy: 0.7975\n",
      "Epoch 1/10\n",
      "7200/7200 [==============================] - 3s 414us/step - loss: 0.5139 - accuracy: 0.7935\n",
      "Epoch 2/10\n",
      "7200/7200 [==============================] - 2s 329us/step - loss: 0.4387 - accuracy: 0.7944\n",
      "Epoch 3/10\n",
      "7200/7200 [==============================] - 2s 326us/step - loss: 0.4248 - accuracy: 0.8156\n",
      "Epoch 4/10\n",
      "7200/7200 [==============================] - 2s 345us/step - loss: 0.4111 - accuracy: 0.8278\n",
      "Epoch 5/10\n",
      "7200/7200 [==============================] - 2s 336us/step - loss: 0.4024 - accuracy: 0.8340\n",
      "Epoch 6/10\n",
      "7200/7200 [==============================] - 2s 329us/step - loss: 0.3991 - accuracy: 0.8365\n",
      "Epoch 7/10\n",
      "7200/7200 [==============================] - 2s 317us/step - loss: 0.3876 - accuracy: 0.8401\n",
      "Epoch 8/10\n",
      "7200/7200 [==============================] - 2s 326us/step - loss: 0.3903 - accuracy: 0.8392\n",
      "Epoch 9/10\n",
      "7200/7200 [==============================] - 2s 332us/step - loss: 0.3828 - accuracy: 0.8399\n",
      "Epoch 10/10\n",
      "7200/7200 [==============================] - 2s 335us/step - loss: 0.3824 - accuracy: 0.8403\n",
      "Epoch 1/10\n",
      "7200/7200 [==============================] - 3s 417us/step - loss: 0.6189 - accuracy: 0.7940\n",
      "Epoch 2/10\n",
      "7200/7200 [==============================] - 2s 307us/step - loss: 0.5411 - accuracy: 0.7944\n",
      "Epoch 3/10\n",
      "7200/7200 [==============================] - 2s 307us/step - loss: 0.5164 - accuracy: 0.7944\n",
      "Epoch 4/10\n",
      "7200/7200 [==============================] - 2s 316us/step - loss: 0.5098 - accuracy: 0.7944\n",
      "Epoch 5/10\n",
      "7200/7200 [==============================] - 2s 319us/step - loss: 0.5083 - accuracy: 0.7944\n",
      "Epoch 6/10\n",
      "7200/7200 [==============================] - 2s 317us/step - loss: 0.4590 - accuracy: 0.8090\n",
      "Epoch 7/10\n",
      "7200/7200 [==============================] - 3s 367us/step - loss: 0.4437 - accuracy: 0.8178\n",
      "Epoch 8/10\n",
      "7200/7200 [==============================] - 3s 351us/step - loss: 0.4355 - accuracy: 0.8196\n",
      "Epoch 9/10\n",
      "7200/7200 [==============================] - 2s 336us/step - loss: 0.4321 - accuracy: 0.8196\n",
      "Epoch 10/10\n",
      "7200/7200 [==============================] - 2s 325us/step - loss: 0.4278 - accuracy: 0.8236\n",
      "Epoch 1/10\n",
      "7200/7200 [==============================] - 3s 423us/step - loss: 0.4955 - accuracy: 0.7969\n",
      "Epoch 2/10\n",
      "7200/7200 [==============================] - 2s 312us/step - loss: 0.4350 - accuracy: 0.7969\n",
      "Epoch 3/10\n",
      "7200/7200 [==============================] - 2s 319us/step - loss: 0.4332 - accuracy: 0.7969\n",
      "Epoch 4/10\n",
      "7200/7200 [==============================] - 2s 320us/step - loss: 0.4325 - accuracy: 0.7969\n",
      "Epoch 5/10\n",
      "7200/7200 [==============================] - 2s 320us/step - loss: 0.4293 - accuracy: 0.7969\n",
      "Epoch 6/10\n",
      "7200/7200 [==============================] - 2s 347us/step - loss: 0.4273 - accuracy: 0.7969\n",
      "Epoch 7/10\n",
      "7200/7200 [==============================] - 2s 329us/step - loss: 0.4254 - accuracy: 0.8112\n",
      "Epoch 8/10\n",
      "7200/7200 [==============================] - 3s 365us/step - loss: 0.4273 - accuracy: 0.8186\n",
      "Epoch 9/10\n",
      "7200/7200 [==============================] - 2s 340us/step - loss: 0.4254 - accuracy: 0.8207\n",
      "Epoch 10/10\n",
      "7200/7200 [==============================] - 2s 331us/step - loss: 0.4266 - accuracy: 0.8229\n",
      "Epoch 1/10\n",
      "7200/7200 [==============================] - 3s 436us/step - loss: 0.4957 - accuracy: 0.7956\n",
      "Epoch 2/10\n",
      "7200/7200 [==============================] - 3s 354us/step - loss: 0.4265 - accuracy: 0.7962\n",
      "Epoch 3/10\n",
      "7200/7200 [==============================] - 2s 332us/step - loss: 0.4198 - accuracy: 0.7962\n",
      "Epoch 4/10\n",
      "7200/7200 [==============================] - 2s 341us/step - loss: 0.4153 - accuracy: 0.7994\n",
      "Epoch 5/10\n",
      "7200/7200 [==============================] - 3s 349us/step - loss: 0.4129 - accuracy: 0.8258\n",
      "Epoch 6/10\n",
      "7200/7200 [==============================] - 2s 337us/step - loss: 0.4118 - accuracy: 0.8238\n",
      "Epoch 7/10\n",
      "7200/7200 [==============================] - 2s 334us/step - loss: 0.4077 - accuracy: 0.8226\n",
      "Epoch 8/10\n",
      "7200/7200 [==============================] - 2s 345us/step - loss: 0.4058 - accuracy: 0.8242\n",
      "Epoch 9/10\n",
      "7200/7200 [==============================] - 2s 342us/step - loss: 0.4034 - accuracy: 0.8210\n",
      "Epoch 10/10\n",
      "7200/7200 [==============================] - 2s 338us/step - loss: 0.4028 - accuracy: 0.8232\n",
      "Epoch 1/10\n",
      "7200/7200 [==============================] - 3s 437us/step - loss: 0.4944 - accuracy: 0.7957\n",
      "Epoch 2/10\n",
      "7200/7200 [==============================] - 2s 317us/step - loss: 0.4273 - accuracy: 0.8092\n",
      "Epoch 3/10\n",
      "7200/7200 [==============================] - 2s 322us/step - loss: 0.4251 - accuracy: 0.8161\n",
      "Epoch 4/10\n",
      "7200/7200 [==============================] - 2s 312us/step - loss: 0.4179 - accuracy: 0.8229\n",
      "Epoch 5/10\n",
      "7200/7200 [==============================] - 2s 339us/step - loss: 0.4108 - accuracy: 0.8233\n",
      "Epoch 6/10\n",
      "7200/7200 [==============================] - 3s 348us/step - loss: 0.4109 - accuracy: 0.8218\n",
      "Epoch 7/10\n",
      "7200/7200 [==============================] - 2s 338us/step - loss: 0.4018 - accuracy: 0.8250\n",
      "Epoch 8/10\n",
      "7200/7200 [==============================] - 2s 334us/step - loss: 0.4025 - accuracy: 0.8206\n",
      "Epoch 9/10\n",
      "7200/7200 [==============================] - 3s 349us/step - loss: 0.4012 - accuracy: 0.8239\n",
      "Epoch 10/10\n",
      "7200/7200 [==============================] - 2s 343us/step - loss: 0.3971 - accuracy: 0.8231\n",
      "Epoch 1/10\n",
      "7200/7200 [==============================] - 3s 427us/step - loss: 0.4999 - accuracy: 0.7961\n",
      "Epoch 2/10\n",
      "7200/7200 [==============================] - 2s 315us/step - loss: 0.4389 - accuracy: 0.7961\n",
      "Epoch 3/10\n",
      "7200/7200 [==============================] - 2s 328us/step - loss: 0.4351 - accuracy: 0.7961\n",
      "Epoch 4/10\n",
      "7200/7200 [==============================] - 2s 330us/step - loss: 0.4349 - accuracy: 0.7961\n",
      "Epoch 5/10\n",
      "7200/7200 [==============================] - 2s 332us/step - loss: 0.4312 - accuracy: 0.7961\n",
      "Epoch 6/10\n",
      "7200/7200 [==============================] - 2s 330us/step - loss: 0.4333 - accuracy: 0.7961\n",
      "Epoch 7/10\n",
      "7200/7200 [==============================] - 2s 341us/step - loss: 0.4294 - accuracy: 0.7961\n",
      "Epoch 8/10\n",
      "7200/7200 [==============================] - 2s 345us/step - loss: 0.4307 - accuracy: 0.8011\n",
      "Epoch 9/10\n",
      "7200/7200 [==============================] - 3s 348us/step - loss: 0.4284 - accuracy: 0.8136\n",
      "Epoch 10/10\n",
      "7200/7200 [==============================] - 2s 344us/step - loss: 0.4299 - accuracy: 0.8201\n",
      "Epoch 1/10\n",
      "7200/7200 [==============================] - 3s 417us/step - loss: 0.5217 - accuracy: 0.7964\n",
      "Epoch 2/10\n",
      "7200/7200 [==============================] - 2s 337us/step - loss: 0.4372 - accuracy: 0.7971\n",
      "Epoch 3/10\n",
      "7200/7200 [==============================] - 2s 322us/step - loss: 0.4303 - accuracy: 0.8024\n",
      "Epoch 4/10\n",
      "7200/7200 [==============================] - 2s 320us/step - loss: 0.4192 - accuracy: 0.8188\n",
      "Epoch 5/10\n",
      "7200/7200 [==============================] - 2s 327us/step - loss: 0.4179 - accuracy: 0.8189\n",
      "Epoch 6/10\n",
      "7200/7200 [==============================] - 2s 323us/step - loss: 0.4152 - accuracy: 0.8213\n",
      "Epoch 7/10\n",
      "7200/7200 [==============================] - 2s 325us/step - loss: 0.4102 - accuracy: 0.8232\n",
      "Epoch 8/10\n",
      "7200/7200 [==============================] - 2s 337us/step - loss: 0.4131 - accuracy: 0.8193\n",
      "Epoch 9/10\n",
      "7200/7200 [==============================] - 2s 338us/step - loss: 0.4050 - accuracy: 0.8247\n",
      "Epoch 10/10\n",
      "7200/7200 [==============================] - 2s 324us/step - loss: 0.4072 - accuracy: 0.8251\n",
      "Epoch 1/10\n",
      "7200/7200 [==============================] - 3s 417us/step - loss: 0.5037 - accuracy: 0.7967\n",
      "Epoch 2/10\n",
      "7200/7200 [==============================] - 2s 305us/step - loss: 0.4385 - accuracy: 0.7967\n",
      "Epoch 3/10\n",
      "7200/7200 [==============================] - 2s 326us/step - loss: 0.4319 - accuracy: 0.7967\n",
      "Epoch 4/10\n",
      "7200/7200 [==============================] - 2s 319us/step - loss: 0.4297 - accuracy: 0.7967\n",
      "Epoch 5/10\n",
      "7200/7200 [==============================] - 3s 401us/step - loss: 0.4264 - accuracy: 0.8067\n",
      "Epoch 6/10\n",
      "7200/7200 [==============================] - 2s 324us/step - loss: 0.4266 - accuracy: 0.8243\n",
      "Epoch 7/10\n",
      "7200/7200 [==============================] - 2s 327us/step - loss: 0.4251 - accuracy: 0.8256\n",
      "Epoch 8/10\n",
      "7200/7200 [==============================] - 2s 325us/step - loss: 0.4254 - accuracy: 0.8269\n",
      "Epoch 9/10\n",
      "7200/7200 [==============================] - 2s 333us/step - loss: 0.4257 - accuracy: 0.8304\n",
      "Epoch 10/10\n",
      "7200/7200 [==============================] - 2s 323us/step - loss: 0.4227 - accuracy: 0.8285\n",
      "Epoch 1/10\n",
      "7200/7200 [==============================] - 3s 434us/step - loss: 0.5155 - accuracy: 0.7954\n",
      "Epoch 2/10\n",
      "7200/7200 [==============================] - 2s 308us/step - loss: 0.4420 - accuracy: 0.7956\n",
      "Epoch 3/10\n",
      "7200/7200 [==============================] - 2s 280us/step - loss: 0.4389 - accuracy: 0.7956\n",
      "Epoch 4/10\n",
      "7200/7200 [==============================] - 2s 321us/step - loss: 0.4336 - accuracy: 0.7956\n",
      "Epoch 5/10\n",
      "7200/7200 [==============================] - 2s 263us/step - loss: 0.4331 - accuracy: 0.7956\n",
      "Epoch 6/10\n",
      "7200/7200 [==============================] - 2s 249us/step - loss: 0.4316 - accuracy: 0.7956\n",
      "Epoch 7/10\n",
      "7200/7200 [==============================] - 2s 240us/step - loss: 0.4297 - accuracy: 0.8050\n",
      "Epoch 8/10\n",
      "7200/7200 [==============================] - 2s 248us/step - loss: 0.4282 - accuracy: 0.8186\n",
      "Epoch 9/10\n",
      "7200/7200 [==============================] - 2s 326us/step - loss: 0.4287 - accuracy: 0.8213\n",
      "Epoch 10/10\n",
      "7200/7200 [==============================] - 2s 327us/step - loss: 0.4243 - accuracy: 0.8260\n",
      "Epoch 1/10\n",
      "7200/7200 [==============================] - 3s 369us/step - loss: 0.5061 - accuracy: 0.7971\n",
      "Epoch 2/10\n",
      "7200/7200 [==============================] - 2s 286us/step - loss: 0.4382 - accuracy: 0.7975\n",
      "Epoch 3/10\n",
      "7200/7200 [==============================] - 2s 276us/step - loss: 0.4337 - accuracy: 0.7975\n",
      "Epoch 4/10\n",
      "7200/7200 [==============================] - 2s 315us/step - loss: 0.4345 - accuracy: 0.7975\n",
      "Epoch 5/10\n",
      "7200/7200 [==============================] - 3s 385us/step - loss: 0.4278 - accuracy: 0.7975\n",
      "Epoch 6/10\n",
      "7200/7200 [==============================] - 2s 279us/step - loss: 0.4279 - accuracy: 0.7975\n",
      "Epoch 7/10\n",
      "7200/7200 [==============================] - 2s 247us/step - loss: 0.4253 - accuracy: 0.8094\n",
      "Epoch 8/10\n",
      "7200/7200 [==============================] - 2s 250us/step - loss: 0.4272 - accuracy: 0.8221\n",
      "Epoch 9/10\n",
      "7200/7200 [==============================] - 2s 251us/step - loss: 0.4259 - accuracy: 0.8233\n",
      "Epoch 10/10\n",
      "7200/7200 [==============================] - 2s 252us/step - loss: 0.4247 - accuracy: 0.8265\n",
      "Epoch 1/10\n",
      "7200/7200 [==============================] - 3s 398us/step - loss: 0.5073 - accuracy: 0.7936\n",
      "Epoch 2/10\n",
      "7200/7200 [==============================] - 2s 295us/step - loss: 0.4413 - accuracy: 0.7937\n",
      "Epoch 3/10\n",
      "7200/7200 [==============================] - 2s 299us/step - loss: 0.4371 - accuracy: 0.7937\n",
      "Epoch 4/10\n",
      "7200/7200 [==============================] - 2s 312us/step - loss: 0.4373 - accuracy: 0.7937\n",
      "Epoch 5/10\n",
      "7200/7200 [==============================] - 2s 303us/step - loss: 0.4343 - accuracy: 0.7937\n",
      "Epoch 6/10\n",
      "7200/7200 [==============================] - 2s 316us/step - loss: 0.4325 - accuracy: 0.8082\n",
      "Epoch 7/10\n",
      "7200/7200 [==============================] - 2s 296us/step - loss: 0.4305 - accuracy: 0.8189\n",
      "Epoch 8/10\n",
      "7200/7200 [==============================] - 2s 297us/step - loss: 0.4318 - accuracy: 0.8247\n",
      "Epoch 9/10\n",
      "7200/7200 [==============================] - 2s 293us/step - loss: 0.4275 - accuracy: 0.8256\n",
      "Epoch 10/10\n",
      "7200/7200 [==============================] - 2s 299us/step - loss: 0.4285 - accuracy: 0.8289\n",
      "Epoch 1/10\n",
      "7200/7200 [==============================] - 3s 431us/step - loss: 0.5244 - accuracy: 0.7933\n",
      "Epoch 2/10\n",
      "7200/7200 [==============================] - 2s 306us/step - loss: 0.4426 - accuracy: 0.7944\n",
      "Epoch 3/10\n",
      "7200/7200 [==============================] - 2s 318us/step - loss: 0.4321 - accuracy: 0.7944\n",
      "Epoch 4/10\n",
      "7200/7200 [==============================] - 2s 324us/step - loss: 0.4264 - accuracy: 0.7944\n",
      "Epoch 5/10\n",
      "7200/7200 [==============================] - 2s 310us/step - loss: 0.4174 - accuracy: 0.7944\n",
      "Epoch 6/10\n",
      "7200/7200 [==============================] - 2s 295us/step - loss: 0.4129 - accuracy: 0.7944\n",
      "Epoch 7/10\n",
      "7200/7200 [==============================] - 2s 300us/step - loss: 0.4076 - accuracy: 0.8253\n",
      "Epoch 8/10\n",
      "7200/7200 [==============================] - 2s 286us/step - loss: 0.4090 - accuracy: 0.8353\n",
      "Epoch 9/10\n",
      "7200/7200 [==============================] - 3s 393us/step - loss: 0.4037 - accuracy: 0.8411\n",
      "Epoch 10/10\n",
      "7200/7200 [==============================] - 2s 301us/step - loss: 0.3968 - accuracy: 0.8415\n",
      "Epoch 1/10\n",
      "7200/7200 [==============================] - 3s 415us/step - loss: 0.5179 - accuracy: 0.7960\n",
      "Epoch 2/10\n",
      "7200/7200 [==============================] - 2s 299us/step - loss: 0.4421 - accuracy: 0.7969\n",
      "Epoch 3/10\n",
      "7200/7200 [==============================] - 2s 274us/step - loss: 0.4364 - accuracy: 0.7969\n",
      "Epoch 4/10\n",
      "7200/7200 [==============================] - 2s 283us/step - loss: 0.4319 - accuracy: 0.7969\n",
      "Epoch 5/10\n",
      "7200/7200 [==============================] - 2s 275us/step - loss: 0.4334 - accuracy: 0.7969\n",
      "Epoch 6/10\n",
      "7200/7200 [==============================] - 2s 273us/step - loss: 0.4288 - accuracy: 0.7969\n",
      "Epoch 7/10\n",
      "7200/7200 [==============================] - 2s 308us/step - loss: 0.4286 - accuracy: 0.7969\n",
      "Epoch 8/10\n",
      "7200/7200 [==============================] - 2s 277us/step - loss: 0.4284 - accuracy: 0.8072\n",
      "Epoch 9/10\n",
      "7200/7200 [==============================] - 2s 269us/step - loss: 0.4289 - accuracy: 0.8214\n",
      "Epoch 10/10\n",
      "7200/7200 [==============================] - 2s 277us/step - loss: 0.4287 - accuracy: 0.8254\n",
      "Epoch 1/10\n",
      "7200/7200 [==============================] - 3s 480us/step - loss: 0.5093 - accuracy: 0.7962\n",
      "Epoch 2/10\n",
      "7200/7200 [==============================] - 2s 342us/step - loss: 0.4392 - accuracy: 0.7962\n",
      "Epoch 3/10\n",
      "7200/7200 [==============================] - 2s 314us/step - loss: 0.4363 - accuracy: 0.7962\n",
      "Epoch 4/10\n",
      "7200/7200 [==============================] - 2s 344us/step - loss: 0.4319 - accuracy: 0.7962\n",
      "Epoch 5/10\n",
      "7200/7200 [==============================] - 2s 343us/step - loss: 0.4262 - accuracy: 0.7962\n",
      "Epoch 6/10\n",
      "7200/7200 [==============================] - 3s 365us/step - loss: 0.4279 - accuracy: 0.7992\n",
      "Epoch 7/10\n",
      "7200/7200 [==============================] - 2s 319us/step - loss: 0.4265 - accuracy: 0.8203\n",
      "Epoch 8/10\n",
      "7200/7200 [==============================] - 2s 332us/step - loss: 0.4248 - accuracy: 0.8246\n",
      "Epoch 9/10\n",
      "7200/7200 [==============================] - 2s 330us/step - loss: 0.4263 - accuracy: 0.8278\n",
      "Epoch 10/10\n",
      "7200/7200 [==============================] - 2s 326us/step - loss: 0.4267 - accuracy: 0.8322\n",
      "Epoch 1/10\n",
      "7200/7200 [==============================] - 3s 450us/step - loss: 0.5112 - accuracy: 0.7956\n",
      "Epoch 2/10\n",
      "7200/7200 [==============================] - 2s 311us/step - loss: 0.4351 - accuracy: 0.7957\n",
      "Epoch 3/10\n",
      "7200/7200 [==============================] - 2s 306us/step - loss: 0.4326 - accuracy: 0.7957\n",
      "Epoch 4/10\n",
      "7200/7200 [==============================] - 2s 311us/step - loss: 0.4265 - accuracy: 0.7957\n",
      "Epoch 5/10\n",
      "7200/7200 [==============================] - 2s 302us/step - loss: 0.4280 - accuracy: 0.7957\n",
      "Epoch 6/10\n",
      "7200/7200 [==============================] - 2s 306us/step - loss: 0.4257 - accuracy: 0.8133\n",
      "Epoch 7/10\n",
      "7200/7200 [==============================] - 2s 309us/step - loss: 0.4247 - accuracy: 0.8228\n",
      "Epoch 8/10\n",
      "7200/7200 [==============================] - 2s 311us/step - loss: 0.4268 - accuracy: 0.8218\n",
      "Epoch 9/10\n",
      "7200/7200 [==============================] - 2s 304us/step - loss: 0.4233 - accuracy: 0.8271\n",
      "Epoch 10/10\n",
      "7200/7200 [==============================] - 2s 301us/step - loss: 0.4273 - accuracy: 0.8264\n",
      "Epoch 1/10\n",
      "7200/7200 [==============================] - 3s 437us/step - loss: 0.5218 - accuracy: 0.7958\n",
      "Epoch 2/10\n",
      "7200/7200 [==============================] - 2s 304us/step - loss: 0.4450 - accuracy: 0.7961\n",
      "Epoch 3/10\n",
      "7200/7200 [==============================] - 2s 303us/step - loss: 0.4401 - accuracy: 0.7961\n",
      "Epoch 4/10\n",
      "7200/7200 [==============================] - 2s 318us/step - loss: 0.4370 - accuracy: 0.7961\n",
      "Epoch 5/10\n",
      "7200/7200 [==============================] - 2s 301us/step - loss: 0.4325 - accuracy: 0.7961\n",
      "Epoch 6/10\n",
      "7200/7200 [==============================] - 2s 317us/step - loss: 0.4306 - accuracy: 0.7961\n",
      "Epoch 7/10\n",
      "7200/7200 [==============================] - 2s 327us/step - loss: 0.4303 - accuracy: 0.7961\n",
      "Epoch 8/10\n",
      "7200/7200 [==============================] - 2s 315us/step - loss: 0.4303 - accuracy: 0.8115\n",
      "Epoch 9/10\n",
      "7200/7200 [==============================] - 2s 339us/step - loss: 0.4309 - accuracy: 0.8229\n",
      "Epoch 10/10\n",
      "7200/7200 [==============================] - 2s 342us/step - loss: 0.4275 - accuracy: 0.8238\n",
      "Epoch 1/10\n",
      "8000/8000 [==============================] - 6s 779us/step - loss: 0.4858 - accuracy: 0.7959\n",
      "Epoch 2/10\n",
      "8000/8000 [==============================] - 5s 668us/step - loss: 0.4334 - accuracy: 0.7960\n",
      "Epoch 3/10\n",
      "8000/8000 [==============================] - 5s 654us/step - loss: 0.4314 - accuracy: 0.7986\n",
      "Epoch 4/10\n",
      "8000/8000 [==============================] - 5s 631us/step - loss: 0.4308 - accuracy: 0.8226\n",
      "Epoch 5/10\n",
      "8000/8000 [==============================] - 5s 637us/step - loss: 0.4280 - accuracy: 0.8282\n",
      "Epoch 6/10\n",
      "8000/8000 [==============================] - 5s 640us/step - loss: 0.4272 - accuracy: 0.8322\n",
      "Epoch 7/10\n",
      "8000/8000 [==============================] - 5s 636us/step - loss: 0.4317 - accuracy: 0.8324\n",
      "Epoch 8/10\n",
      "8000/8000 [==============================] - 5s 645us/step - loss: 0.4269 - accuracy: 0.8275\n",
      "Epoch 9/10\n",
      "8000/8000 [==============================] - 5s 637us/step - loss: 0.4259 - accuracy: 0.8296\n",
      "Epoch 10/10\n",
      "8000/8000 [==============================] - 5s 644us/step - loss: 0.4267 - accuracy: 0.8288\n"
     ]
    }
   ],
   "source": [
    "grid_search = grid_search.fit(X_train, y_train)"
   ]
  },
  {
   "cell_type": "code",
   "execution_count": 25,
   "metadata": {},
   "outputs": [],
   "source": [
    "best_parameters = grid_search.best_params_"
   ]
  },
  {
   "cell_type": "code",
   "execution_count": 26,
   "metadata": {},
   "outputs": [],
   "source": [
    "best_accuracy = grid_search.best_score_"
   ]
  },
  {
   "cell_type": "code",
   "execution_count": 27,
   "metadata": {},
   "outputs": [
    {
     "output_type": "stream",
     "name": "stdout",
     "text": [
      "{'epochs': 10, 'optimizer': 'rmsprop', 'batch_size': 5}\n"
     ]
    }
   ],
   "source": [
    "print(best_parameters)"
   ]
  },
  {
   "cell_type": "code",
   "execution_count": 28,
   "metadata": {},
   "outputs": [
    {
     "output_type": "stream",
     "name": "stdout",
     "text": [
      "0.830875\n"
     ]
    }
   ],
   "source": [
    "print(best_accuracy)"
   ]
  },
  {
   "cell_type": "code",
   "execution_count": null,
   "metadata": {},
   "outputs": [],
   "source": []
  }
 ],
 "metadata": {
  "kernelspec": {
   "display_name": "Python 2",
   "language": "python",
   "name": "python2"
  },
  "language_info": {
   "codemirror_mode": {
    "name": "ipython",
    "version": 2
   },
   "file_extension": ".py",
   "mimetype": "text/x-python",
   "name": "python",
   "nbconvert_exporter": "python",
   "pygments_lexer": "ipython2",
   "version": "2.7.18-final"
  }
 },
 "nbformat": 4,
 "nbformat_minor": 2
}