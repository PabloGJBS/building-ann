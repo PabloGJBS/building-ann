{
 "cells": [
  {
   "cell_type": "markdown",
   "metadata": {},
   "source": [
    "# Rede Neural Artifical\n",
    "\n",
    "Rede neural modificada da matéria de Deep Learning da Universidade de Brasília.\n",
    "\n",
    "Produzida por João Pedro Sconetto"
   ]
  },
  {
   "cell_type": "markdown",
   "metadata": {},
   "source": [
    "## Dependências\n",
    "\n",
    "Faz instalação das dependências necessárias"
   ]
  },
  {
   "cell_type": "code",
   "execution_count": 1,
   "metadata": {},
   "outputs": [
    {
     "name": "stdout",
     "output_type": "stream",
     "text": [
      "Collecting git+git://github.com/Theano/Theano.git\n",
      "  Cloning git://github.com/Theano/Theano.git to /tmp/pip-req-build-d5kvkb4v\n",
      "  Running command git clone -q git://github.com/Theano/Theano.git /tmp/pip-req-build-d5kvkb4v\n",
      "Building wheels for collected packages: Theano\n",
      "  Building wheel for Theano (setup.py) ... \u001b[?25ldone\n",
      "\u001b[?25h  Created wheel for Theano: filename=Theano-1.0.4+21.g8f510a1f0-cp37-none-any.whl size=2667497 sha256=87b5eaf83038b46b63fa0a7ef76bf5b3e4949820a21406203158cc6fd1b6e699\n",
      "  Stored in directory: /tmp/pip-ephem-wheel-cache-52tabgq8/wheels/ae/32/7c/62beb8371953eb20c271b3bac7d0e56e1a2020d46994346b52\n",
      "Successfully built Theano\n",
      "Installing collected packages: Theano\n",
      "Successfully installed Theano-1.0.4+21.g8f510a1f0\n",
      "Collecting tensorflow\n",
      "\u001b[?25l  Downloading https://files.pythonhosted.org/packages/f4/28/96efba1a516cdacc2e2d6d081f699c001d414cc8ca3250e6d59ae657eb2b/tensorflow-1.14.0-cp37-cp37m-manylinux1_x86_64.whl (109.3MB)\n",
      "\u001b[K     |████████████████████████████████| 109.3MB 10.3MB/s eta 0:00:01\n",
      "\u001b[?25hCollecting tensorflow-estimator<1.15.0rc0,>=1.14.0rc0 (from tensorflow)\n",
      "\u001b[?25l  Downloading https://files.pythonhosted.org/packages/3c/d5/21860a5b11caf0678fbc8319341b0ae21a07156911132e0e71bffed0510d/tensorflow_estimator-1.14.0-py2.py3-none-any.whl (488kB)\n",
      "\u001b[K     |████████████████████████████████| 491kB 33.0MB/s eta 0:00:01\n",
      "\u001b[?25hRequirement already satisfied, skipping upgrade: keras-applications>=1.0.6 in /home/sconetto/.virtualenvs/deep/lib/python3.7/site-packages (from tensorflow) (1.0.8)\n",
      "Requirement already satisfied, skipping upgrade: absl-py>=0.7.0 in /home/sconetto/.virtualenvs/deep/lib/python3.7/site-packages (from tensorflow) (0.7.1)\n",
      "Requirement already satisfied, skipping upgrade: astor>=0.6.0 in /home/sconetto/.virtualenvs/deep/lib/python3.7/site-packages (from tensorflow) (0.8.0)\n",
      "Collecting tensorboard<1.15.0,>=1.14.0 (from tensorflow)\n",
      "\u001b[?25l  Downloading https://files.pythonhosted.org/packages/91/2d/2ed263449a078cd9c8a9ba50ebd50123adf1f8cfbea1492f9084169b89d9/tensorboard-1.14.0-py3-none-any.whl (3.1MB)\n",
      "\u001b[K     |████████████████████████████████| 3.2MB 36.8MB/s eta 0:00:01\n",
      "\u001b[?25hRequirement already satisfied, skipping upgrade: six>=1.10.0 in /home/sconetto/.virtualenvs/deep/lib/python3.7/site-packages (from tensorflow) (1.12.0)\n",
      "Requirement already satisfied, skipping upgrade: grpcio>=1.8.6 in /home/sconetto/.virtualenvs/deep/lib/python3.7/site-packages (from tensorflow) (1.23.0)\n",
      "Requirement already satisfied, skipping upgrade: wheel>=0.26 in /home/sconetto/.virtualenvs/deep/lib/python3.7/site-packages (from tensorflow) (0.33.6)\n",
      "Collecting google-pasta>=0.1.6 (from tensorflow)\n",
      "\u001b[?25l  Downloading https://files.pythonhosted.org/packages/d0/33/376510eb8d6246f3c30545f416b2263eee461e40940c2a4413c711bdf62d/google_pasta-0.1.7-py3-none-any.whl (52kB)\n",
      "\u001b[K     |████████████████████████████████| 61kB 7.6MB/s eta 0:00:011\n",
      "\u001b[?25hRequirement already satisfied, skipping upgrade: keras-preprocessing>=1.0.5 in /home/sconetto/.virtualenvs/deep/lib/python3.7/site-packages (from tensorflow) (1.1.0)\n",
      "Requirement already satisfied, skipping upgrade: termcolor>=1.1.0 in /home/sconetto/.virtualenvs/deep/lib/python3.7/site-packages (from tensorflow) (1.1.0)\n",
      "Collecting wrapt>=1.11.1 (from tensorflow)\n",
      "Requirement already satisfied, skipping upgrade: numpy<2.0,>=1.14.5 in /home/sconetto/.virtualenvs/deep/lib/python3.7/site-packages (from tensorflow) (1.16.2)\n",
      "Requirement already satisfied, skipping upgrade: protobuf>=3.6.1 in /home/sconetto/.virtualenvs/deep/lib/python3.7/site-packages (from tensorflow) (3.9.1)\n",
      "Requirement already satisfied, skipping upgrade: gast>=0.2.0 in /home/sconetto/.virtualenvs/deep/lib/python3.7/site-packages (from tensorflow) (0.2.2)\n",
      "Requirement already satisfied, skipping upgrade: h5py in /home/sconetto/.virtualenvs/deep/lib/python3.7/site-packages (from keras-applications>=1.0.6->tensorflow) (2.9.0)\n",
      "Requirement already satisfied, skipping upgrade: setuptools>=41.0.0 in /home/sconetto/.virtualenvs/deep/lib/python3.7/site-packages (from tensorboard<1.15.0,>=1.14.0->tensorflow) (41.2.0)\n",
      "Requirement already satisfied, skipping upgrade: werkzeug>=0.11.15 in /home/sconetto/.virtualenvs/deep/lib/python3.7/site-packages (from tensorboard<1.15.0,>=1.14.0->tensorflow) (0.15.5)\n",
      "Requirement already satisfied, skipping upgrade: markdown>=2.6.8 in /home/sconetto/.virtualenvs/deep/lib/python3.7/site-packages (from tensorboard<1.15.0,>=1.14.0->tensorflow) (3.1.1)\n",
      "Installing collected packages: tensorflow-estimator, tensorboard, google-pasta, wrapt, tensorflow\n",
      "  Found existing installation: tensorflow-estimator 1.13.0\n",
      "    Uninstalling tensorflow-estimator-1.13.0:\n",
      "      Successfully uninstalled tensorflow-estimator-1.13.0\n",
      "  Found existing installation: tensorboard 1.13.1\n",
      "    Uninstalling tensorboard-1.13.1:\n",
      "      Successfully uninstalled tensorboard-1.13.1\n",
      "  Found existing installation: tensorflow 1.13.1\n",
      "    Uninstalling tensorflow-1.13.1:\n",
      "      Successfully uninstalled tensorflow-1.13.1\n",
      "Successfully installed google-pasta-0.1.7 tensorboard-1.14.0 tensorflow-1.14.0 tensorflow-estimator-1.14.0 wrapt-1.11.2\n",
      "Collecting keras\n",
      "\u001b[?25l  Downloading https://files.pythonhosted.org/packages/f8/ba/2d058dcf1b85b9c212cc58264c98a4a7dd92c989b798823cc5690d062bb2/Keras-2.2.5-py2.py3-none-any.whl (336kB)\n",
      "\u001b[K     |████████████████████████████████| 337kB 828kB/s eta 0:00:01\n",
      "\u001b[?25hRequirement already satisfied, skipping upgrade: keras-applications>=1.0.8 in /home/sconetto/.virtualenvs/deep/lib/python3.7/site-packages (from keras) (1.0.8)\n",
      "Requirement already satisfied, skipping upgrade: numpy>=1.9.1 in /home/sconetto/.virtualenvs/deep/lib/python3.7/site-packages (from keras) (1.16.2)\n",
      "Requirement already satisfied, skipping upgrade: keras-preprocessing>=1.1.0 in /home/sconetto/.virtualenvs/deep/lib/python3.7/site-packages (from keras) (1.1.0)\n",
      "Requirement already satisfied, skipping upgrade: scipy>=0.14 in /home/sconetto/.virtualenvs/deep/lib/python3.7/site-packages (from keras) (1.3.1)\n",
      "Requirement already satisfied, skipping upgrade: six>=1.9.0 in /home/sconetto/.virtualenvs/deep/lib/python3.7/site-packages (from keras) (1.12.0)\n",
      "Requirement already satisfied, skipping upgrade: pyyaml in /home/sconetto/.virtualenvs/deep/lib/python3.7/site-packages (from keras) (5.1.2)\n",
      "Requirement already satisfied, skipping upgrade: h5py in /home/sconetto/.virtualenvs/deep/lib/python3.7/site-packages (from keras) (2.9.0)\n",
      "Installing collected packages: keras\n",
      "  Found existing installation: Keras 2.2.4\n",
      "    Uninstalling Keras-2.2.4:\n",
      "      Successfully uninstalled Keras-2.2.4\n",
      "Successfully installed keras-2.2.5\n",
      "Requirement already up-to-date: pip in /home/sconetto/.virtualenvs/deep/lib/python3.7/site-packages (19.2.3)\n",
      "Collecting pandas\n",
      "\u001b[?25l  Downloading https://files.pythonhosted.org/packages/7e/ab/ea76361f9d3e732e114adcd801d2820d5319c23d0ac5482fa3b412db217e/pandas-0.25.1-cp37-cp37m-manylinux1_x86_64.whl (10.4MB)\n",
      "\u001b[K     |████████████████████████████████| 10.4MB 9.4MB/s eta 0:00:01\n",
      "\u001b[?25hCollecting numpy\n",
      "\u001b[?25l  Downloading https://files.pythonhosted.org/packages/ba/e0/46e2f0540370f2661b044647fa447fef2ecbcc8f7cdb4329ca2feb03fb23/numpy-1.17.2-cp37-cp37m-manylinux1_x86_64.whl (20.3MB)\n",
      "\u001b[K     |████████████████████████████████| 20.3MB 8.3MB/s eta 0:00:01\n",
      "\u001b[?25hCollecting matplotlib\n",
      "\u001b[?25l  Downloading https://files.pythonhosted.org/packages/19/7a/60bd79c5d79559150f8bba866dd7d434f0a170312e4d15e8aefa5faba294/matplotlib-3.1.1-cp37-cp37m-manylinux1_x86_64.whl (13.1MB)\n",
      "\u001b[K     |████████████████████████████████| 13.1MB 6.4MB/s eta 0:00:01     |██████████████████████████████▍ | 12.5MB 6.4MB/s eta 0:00:01\n",
      "\u001b[?25hRequirement already up-to-date: sklearn in /home/sconetto/.virtualenvs/deep/lib/python3.7/site-packages (0.0)\n",
      "Requirement already satisfied, skipping upgrade: pytz>=2017.2 in /home/sconetto/.virtualenvs/deep/lib/python3.7/site-packages (from pandas) (2019.2)\n",
      "Requirement already satisfied, skipping upgrade: python-dateutil>=2.6.1 in /home/sconetto/.virtualenvs/deep/lib/python3.7/site-packages (from pandas) (2.8.0)\n",
      "Requirement already satisfied, skipping upgrade: cycler>=0.10 in /home/sconetto/.virtualenvs/deep/lib/python3.7/site-packages (from matplotlib) (0.10.0)\n",
      "Requirement already satisfied, skipping upgrade: pyparsing!=2.0.4,!=2.1.2,!=2.1.6,>=2.0.1 in /home/sconetto/.virtualenvs/deep/lib/python3.7/site-packages (from matplotlib) (2.4.2)\n",
      "Requirement already satisfied, skipping upgrade: kiwisolver>=1.0.1 in /home/sconetto/.virtualenvs/deep/lib/python3.7/site-packages (from matplotlib) (1.1.0)\n",
      "Requirement already satisfied, skipping upgrade: scikit-learn in /home/sconetto/.virtualenvs/deep/lib/python3.7/site-packages (from sklearn) (0.21.3)\n",
      "Requirement already satisfied, skipping upgrade: six>=1.5 in /home/sconetto/.virtualenvs/deep/lib/python3.7/site-packages (from python-dateutil>=2.6.1->pandas) (1.12.0)\n",
      "Requirement already satisfied, skipping upgrade: setuptools in /home/sconetto/.virtualenvs/deep/lib/python3.7/site-packages (from kiwisolver>=1.0.1->matplotlib) (41.2.0)\n",
      "Requirement already satisfied, skipping upgrade: scipy>=0.17.0 in /home/sconetto/.virtualenvs/deep/lib/python3.7/site-packages (from scikit-learn->sklearn) (1.3.1)\n",
      "Requirement already satisfied, skipping upgrade: joblib>=0.11 in /home/sconetto/.virtualenvs/deep/lib/python3.7/site-packages (from scikit-learn->sklearn) (0.13.2)\n",
      "Installing collected packages: numpy, pandas, matplotlib\n",
      "  Found existing installation: numpy 1.16.2\n",
      "    Uninstalling numpy-1.16.2:\n",
      "      Successfully uninstalled numpy-1.16.2\n",
      "  Found existing installation: pandas 0.24.2\n",
      "    Uninstalling pandas-0.24.2:\n",
      "      Successfully uninstalled pandas-0.24.2\n",
      "  Found existing installation: matplotlib 3.0.3\n",
      "    Uninstalling matplotlib-3.0.3:\n",
      "      Successfully uninstalled matplotlib-3.0.3\n",
      "Successfully installed matplotlib-3.1.1 numpy-1.17.2 pandas-0.25.1\n"
     ]
    }
   ],
   "source": [
    "# Installing Theano\n",
    "! pip install --upgrade --no-deps git+git://github.com/Theano/Theano.git\n",
    "\n",
    "# Installing Tensorflow\n",
    "! pip install --upgrade tensorflow\n",
    "\n",
    "# Installing Keras\n",
    "! pip install --upgrade keras\n",
    "\n",
    "# Install other packages\n",
    "! pip install --upgrade pip pandas numpy matplotlib sklearn"
   ]
  },
  {
   "cell_type": "markdown",
   "metadata": {},
   "source": [
    "## Pré-processamento dos dados\n",
    "\n",
    "Importação das bibliotecas"
   ]
  },
  {
   "cell_type": "code",
   "execution_count": 3,
   "metadata": {},
   "outputs": [],
   "source": [
    "import numpy as np\n",
    "import matplotlib.pyplot as plt\n",
    "import pandas as pd"
   ]
  },
  {
   "cell_type": "markdown",
   "metadata": {},
   "source": [
    "Importação do _dataset_"
   ]
  },
  {
   "cell_type": "code",
   "execution_count": 5,
   "metadata": {},
   "outputs": [
    {
     "name": "stdout",
     "output_type": "stream",
     "text": [
      "X:  [[619 'France' 'Female' ... 1 1 101348.88]\n",
      " [608 'Spain' 'Female' ... 0 1 112542.58]\n",
      " [502 'France' 'Female' ... 1 0 113931.57]\n",
      " ...\n",
      " [709 'France' 'Female' ... 0 1 42085.58]\n",
      " [772 'Germany' 'Male' ... 1 0 92888.52]\n",
      " [792 'France' 'Female' ... 1 0 38190.78]]\n",
      "Y:  [1 0 1 ... 1 1 0]\n"
     ]
    }
   ],
   "source": [
    "dataset = pd.read_csv('Churn_Modelling.csv')\n",
    "x = dataset.iloc[:, 3:13].values\n",
    "y = dataset.iloc[:, 13].values\n",
    "print('X: ', x)\n",
    "print('Y: ', y)"
   ]
  },
  {
   "cell_type": "markdown",
   "metadata": {},
   "source": [
    "Transformando os dados categóricos"
   ]
  },
  {
   "cell_type": "code",
   "execution_count": 9,
   "metadata": {},
   "outputs": [
    {
     "name": "stdout",
     "output_type": "stream",
     "text": [
      "X:  [[0.0000000e+00 0.0000000e+00 6.1900000e+02 ... 1.0000000e+00\n",
      "  1.0000000e+00 1.0134888e+05]\n",
      " [0.0000000e+00 1.0000000e+00 6.0800000e+02 ... 0.0000000e+00\n",
      "  1.0000000e+00 1.1254258e+05]\n",
      " [0.0000000e+00 0.0000000e+00 5.0200000e+02 ... 1.0000000e+00\n",
      "  0.0000000e+00 1.1393157e+05]\n",
      " ...\n",
      " [0.0000000e+00 0.0000000e+00 7.0900000e+02 ... 0.0000000e+00\n",
      "  1.0000000e+00 4.2085580e+04]\n",
      " [1.0000000e+00 0.0000000e+00 7.7200000e+02 ... 1.0000000e+00\n",
      "  0.0000000e+00 9.2888520e+04]\n",
      " [0.0000000e+00 0.0000000e+00 7.9200000e+02 ... 1.0000000e+00\n",
      "  0.0000000e+00 3.8190780e+04]]\n"
     ]
    },
    {
     "name": "stderr",
     "output_type": "stream",
     "text": [
      "/home/sconetto/.virtualenvs/deep/lib/python3.7/site-packages/sklearn/preprocessing/_encoders.py:415: FutureWarning: The handling of integer data will change in version 0.22. Currently, the categories are determined based on the range [0, max(values)], while in the future they will be determined based on the unique values.\n",
      "If you want the future behaviour and silence this warning, you can specify \"categories='auto'\".\n",
      "In case you used a LabelEncoder before this OneHotEncoder to convert the categories to integers, then you can now use the OneHotEncoder directly.\n",
      "  warnings.warn(msg, FutureWarning)\n",
      "/home/sconetto/.virtualenvs/deep/lib/python3.7/site-packages/sklearn/preprocessing/_encoders.py:451: DeprecationWarning: The 'categorical_features' keyword is deprecated in version 0.20 and will be removed in 0.22. You can use the ColumnTransformer instead.\n",
      "  \"use the ColumnTransformer instead.\", DeprecationWarning)\n"
     ]
    }
   ],
   "source": [
    "from sklearn.preprocessing import LabelEncoder, OneHotEncoder\n",
    "\n",
    "encoder = LabelEncoder()\n",
    "x[:, 1] = encoder.fit_transform(x[:, 1])\n",
    "x[:, 2] = encoder.fit_transform(x[:, 2])\n",
    "onehotencoder = OneHotEncoder(categorical_features = [1])\n",
    "x = onehotencoder.fit_transform(x).toarray()\n",
    "x = x[:, 1:]\n",
    "print('X: ', x)"
   ]
  },
  {
   "cell_type": "markdown",
   "metadata": {},
   "source": [
    "## Divisão do dataset em Treinamento e Teste"
   ]
  },
  {
   "cell_type": "code",
   "execution_count": 12,
   "metadata": {},
   "outputs": [],
   "source": [
    "from sklearn.model_selection import train_test_split\n",
    "x_train, x_test, y_train, y_test = train_test_split(\n",
    "    x,\n",
    "    y,\n",
    "    test_size = 0.25\n",
    ")"
   ]
  },
  {
   "cell_type": "markdown",
   "metadata": {},
   "source": [
    "## Feature Scaling"
   ]
  },
  {
   "cell_type": "code",
   "execution_count": 15,
   "metadata": {},
   "outputs": [],
   "source": [
    "from sklearn.preprocessing import StandardScaler\n",
    "sc = StandardScaler()\n",
    "x_train = sc.fit_transform(x_train)\n",
    "x_test = sc.transform(x_test)"
   ]
  },
  {
   "cell_type": "markdown",
   "metadata": {},
   "source": [
    "---"
   ]
  },
  {
   "cell_type": "markdown",
   "metadata": {},
   "source": [
    "## Construção da ANN\n",
    "\n",
    "Importando o Keras"
   ]
  },
  {
   "cell_type": "code",
   "execution_count": 16,
   "metadata": {},
   "outputs": [],
   "source": [
    "import keras\n",
    "from keras.models import Sequential\n",
    "from keras.layers import Dense"
   ]
  },
  {
   "cell_type": "code",
   "execution_count": 31,
   "metadata": {},
   "outputs": [],
   "source": [
    "# Inicializando a ANN\n",
    "classifier = Sequential()\n",
    "\n",
    "# Adicinando a camada de _input_ e a primeira camada escondida\n",
    "classifier.add(Dense(\n",
    "    units = 6,\n",
    "    kernel_initializer = 'uniform',\n",
    "    activation = 'relu',\n",
    "    input_dim = 11\n",
    "))\n",
    "\n",
    "# Adicionando a segunda camada escondida\n",
    "classifier.add(Dense(\n",
    "    units = 6,\n",
    "    kernel_initializer = 'uniform',\n",
    "    activation = 'sigmoid'\n",
    "))\n",
    "\n",
    "# Adicionando a terciera camada escondida\n",
    "classifier.add(Dense(\n",
    "    units = 5,\n",
    "    kernel_initializer = 'uniform',\n",
    "    activation = 'tanh'\n",
    "))\n",
    "\n",
    "# Adicionando a camada de _output_\n",
    "classifier.add(Dense(\n",
    "    units = 1,\n",
    "    kernel_initializer = 'uniform',\n",
    "    activation = 'sigmoid'\n",
    "))\n",
    "\n",
    "# Compilando a ANN\n",
    "classifier.compile(\n",
    "    optimizer = 'adam',\n",
    "    loss = 'binary_crossentropy',\n",
    "    metrics = ['accuracy']\n",
    ")"
   ]
  },
  {
   "cell_type": "markdown",
   "metadata": {},
   "source": [
    "## Ajustando a ANN ao conjunto de treinamento"
   ]
  },
  {
   "cell_type": "code",
   "execution_count": 34,
   "metadata": {},
   "outputs": [
    {
     "name": "stdout",
     "output_type": "stream",
     "text": [
      "Epoch 1/100\n",
      "7500/7500 [==============================] - 0s 15us/step - loss: 0.3948 - acc: 0.8391\n",
      "Epoch 2/100\n",
      "7500/7500 [==============================] - 0s 15us/step - loss: 0.3914 - acc: 0.8411\n",
      "Epoch 3/100\n",
      "7500/7500 [==============================] - 0s 14us/step - loss: 0.3910 - acc: 0.8415\n",
      "Epoch 4/100\n",
      "7500/7500 [==============================] - 0s 17us/step - loss: 0.3907 - acc: 0.8420\n",
      "Epoch 5/100\n",
      "7500/7500 [==============================] - 0s 20us/step - loss: 0.3905 - acc: 0.8416\n",
      "Epoch 6/100\n",
      "7500/7500 [==============================] - 0s 20us/step - loss: 0.3904 - acc: 0.8411\n",
      "Epoch 7/100\n",
      "7500/7500 [==============================] - 0s 17us/step - loss: 0.3903 - acc: 0.8413\n",
      "Epoch 8/100\n",
      "7500/7500 [==============================] - 0s 14us/step - loss: 0.3902 - acc: 0.8412\n",
      "Epoch 9/100\n",
      "7500/7500 [==============================] - 0s 14us/step - loss: 0.3901 - acc: 0.8409\n",
      "Epoch 10/100\n",
      "7500/7500 [==============================] - 0s 14us/step - loss: 0.3901 - acc: 0.8408\n",
      "Epoch 11/100\n",
      "7500/7500 [==============================] - 0s 16us/step - loss: 0.3900 - acc: 0.8405\n",
      "Epoch 12/100\n",
      "7500/7500 [==============================] - 0s 17us/step - loss: 0.3901 - acc: 0.8412\n",
      "Epoch 13/100\n",
      "7500/7500 [==============================] - 0s 16us/step - loss: 0.3898 - acc: 0.8405\n",
      "Epoch 14/100\n",
      "7500/7500 [==============================] - 0s 15us/step - loss: 0.3899 - acc: 0.8407\n",
      "Epoch 15/100\n",
      "7500/7500 [==============================] - 0s 14us/step - loss: 0.3899 - acc: 0.8413\n",
      "Epoch 16/100\n",
      "7500/7500 [==============================] - 0s 14us/step - loss: 0.3899 - acc: 0.8404\n",
      "Epoch 17/100\n",
      "7500/7500 [==============================] - 0s 15us/step - loss: 0.3901 - acc: 0.8412\n",
      "Epoch 18/100\n",
      "7500/7500 [==============================] - 0s 16us/step - loss: 0.3898 - acc: 0.8412\n",
      "Epoch 19/100\n",
      "7500/7500 [==============================] - 0s 17us/step - loss: 0.3899 - acc: 0.8416\n",
      "Epoch 20/100\n",
      "7500/7500 [==============================] - 0s 15us/step - loss: 0.3896 - acc: 0.8403\n",
      "Epoch 21/100\n",
      "7500/7500 [==============================] - 0s 15us/step - loss: 0.3895 - acc: 0.8415\n",
      "Epoch 22/100\n",
      "7500/7500 [==============================] - 0s 16us/step - loss: 0.3898 - acc: 0.8401\n",
      "Epoch 23/100\n",
      "7500/7500 [==============================] - 0s 15us/step - loss: 0.3896 - acc: 0.8412\n",
      "Epoch 24/100\n",
      "7500/7500 [==============================] - 0s 14us/step - loss: 0.3894 - acc: 0.8431\n",
      "Epoch 25/100\n",
      "7500/7500 [==============================] - 0s 14us/step - loss: 0.3896 - acc: 0.8405\n",
      "Epoch 26/100\n",
      "7500/7500 [==============================] - 0s 15us/step - loss: 0.3895 - acc: 0.8408\n",
      "Epoch 27/100\n",
      "7500/7500 [==============================] - 0s 14us/step - loss: 0.3896 - acc: 0.8404\n",
      "Epoch 28/100\n",
      "7500/7500 [==============================] - 0s 14us/step - loss: 0.3894 - acc: 0.8413\n",
      "Epoch 29/100\n",
      "7500/7500 [==============================] - 0s 15us/step - loss: 0.3893 - acc: 0.8419\n",
      "Epoch 30/100\n",
      "7500/7500 [==============================] - 0s 14us/step - loss: 0.3891 - acc: 0.8411\n",
      "Epoch 31/100\n",
      "7500/7500 [==============================] - 0s 15us/step - loss: 0.3894 - acc: 0.8412\n",
      "Epoch 32/100\n",
      "7500/7500 [==============================] - 0s 15us/step - loss: 0.3890 - acc: 0.8400\n",
      "Epoch 33/100\n",
      "7500/7500 [==============================] - 0s 14us/step - loss: 0.3894 - acc: 0.8403\n",
      "Epoch 34/100\n",
      "7500/7500 [==============================] - 0s 16us/step - loss: 0.3890 - acc: 0.8420\n",
      "Epoch 35/100\n",
      "7500/7500 [==============================] - 0s 15us/step - loss: 0.3892 - acc: 0.8419\n",
      "Epoch 36/100\n",
      "7500/7500 [==============================] - 0s 14us/step - loss: 0.3892 - acc: 0.8409\n",
      "Epoch 37/100\n",
      "7500/7500 [==============================] - 0s 14us/step - loss: 0.3888 - acc: 0.8411\n",
      "Epoch 38/100\n",
      "7500/7500 [==============================] - 0s 13us/step - loss: 0.3893 - acc: 0.8419\n",
      "Epoch 39/100\n",
      "7500/7500 [==============================] - 0s 14us/step - loss: 0.3890 - acc: 0.8407\n",
      "Epoch 40/100\n",
      "7500/7500 [==============================] - 0s 14us/step - loss: 0.3888 - acc: 0.8424\n",
      "Epoch 41/100\n",
      "7500/7500 [==============================] - 0s 15us/step - loss: 0.3885 - acc: 0.8400\n",
      "Epoch 42/100\n",
      "7500/7500 [==============================] - 0s 15us/step - loss: 0.3889 - acc: 0.8401\n",
      "Epoch 43/100\n",
      "7500/7500 [==============================] - 0s 14us/step - loss: 0.3886 - acc: 0.8400\n",
      "Epoch 44/100\n",
      "7500/7500 [==============================] - 0s 14us/step - loss: 0.3884 - acc: 0.8409\n",
      "Epoch 45/100\n",
      "7500/7500 [==============================] - 0s 14us/step - loss: 0.3885 - acc: 0.8415\n",
      "Epoch 46/100\n",
      "7500/7500 [==============================] - 0s 15us/step - loss: 0.3885 - acc: 0.8419\n",
      "Epoch 47/100\n",
      "7500/7500 [==============================] - 0s 16us/step - loss: 0.3880 - acc: 0.8407\n",
      "Epoch 48/100\n",
      "7500/7500 [==============================] - 0s 15us/step - loss: 0.3885 - acc: 0.8420\n",
      "Epoch 49/100\n",
      "7500/7500 [==============================] - 0s 14us/step - loss: 0.3881 - acc: 0.8424\n",
      "Epoch 50/100\n",
      "7500/7500 [==============================] - 0s 14us/step - loss: 0.3886 - acc: 0.8411\n",
      "Epoch 51/100\n",
      "7500/7500 [==============================] - 0s 14us/step - loss: 0.3881 - acc: 0.8416\n",
      "Epoch 52/100\n",
      "7500/7500 [==============================] - 0s 14us/step - loss: 0.3877 - acc: 0.8416\n",
      "Epoch 53/100\n",
      "7500/7500 [==============================] - 0s 14us/step - loss: 0.3879 - acc: 0.8417\n",
      "Epoch 54/100\n",
      "7500/7500 [==============================] - 0s 15us/step - loss: 0.3880 - acc: 0.8403\n",
      "Epoch 55/100\n",
      "7500/7500 [==============================] - 0s 15us/step - loss: 0.3876 - acc: 0.8413\n",
      "Epoch 56/100\n",
      "7500/7500 [==============================] - 0s 14us/step - loss: 0.3876 - acc: 0.8408\n",
      "Epoch 57/100\n",
      "7500/7500 [==============================] - 0s 16us/step - loss: 0.3878 - acc: 0.8409\n",
      "Epoch 58/100\n",
      "7500/7500 [==============================] - 0s 16us/step - loss: 0.3874 - acc: 0.8419\n",
      "Epoch 59/100\n",
      "7500/7500 [==============================] - 0s 15us/step - loss: 0.3876 - acc: 0.8400\n",
      "Epoch 60/100\n",
      "7500/7500 [==============================] - 0s 15us/step - loss: 0.3871 - acc: 0.8420\n",
      "Epoch 61/100\n",
      "7500/7500 [==============================] - 0s 15us/step - loss: 0.3873 - acc: 0.8411\n",
      "Epoch 62/100\n",
      "7500/7500 [==============================] - 0s 14us/step - loss: 0.3869 - acc: 0.8413\n",
      "Epoch 63/100\n",
      "7500/7500 [==============================] - 0s 14us/step - loss: 0.3867 - acc: 0.8417\n",
      "Epoch 64/100\n",
      "7500/7500 [==============================] - 0s 16us/step - loss: 0.3864 - acc: 0.8411\n",
      "Epoch 65/100\n",
      "7500/7500 [==============================] - 0s 16us/step - loss: 0.3866 - acc: 0.8416\n",
      "Epoch 66/100\n",
      "7500/7500 [==============================] - 0s 17us/step - loss: 0.3867 - acc: 0.8412\n",
      "Epoch 67/100\n",
      "7500/7500 [==============================] - 0s 17us/step - loss: 0.3866 - acc: 0.8417\n",
      "Epoch 68/100\n",
      "7500/7500 [==============================] - 0s 14us/step - loss: 0.3864 - acc: 0.8423\n",
      "Epoch 69/100\n",
      "7500/7500 [==============================] - 0s 14us/step - loss: 0.3863 - acc: 0.8420\n",
      "Epoch 70/100\n",
      "7500/7500 [==============================] - 0s 13us/step - loss: 0.3860 - acc: 0.8409\n",
      "Epoch 71/100\n",
      "7500/7500 [==============================] - 0s 13us/step - loss: 0.3860 - acc: 0.8397\n",
      "Epoch 72/100\n",
      "7500/7500 [==============================] - 0s 14us/step - loss: 0.3854 - acc: 0.8419\n",
      "Epoch 73/100\n",
      "7500/7500 [==============================] - 0s 14us/step - loss: 0.3857 - acc: 0.8412\n",
      "Epoch 74/100\n",
      "7500/7500 [==============================] - 0s 14us/step - loss: 0.3854 - acc: 0.8421\n",
      "Epoch 75/100\n",
      "7500/7500 [==============================] - 0s 14us/step - loss: 0.3850 - acc: 0.8424\n",
      "Epoch 76/100\n",
      "7500/7500 [==============================] - 0s 14us/step - loss: 0.3846 - acc: 0.8405\n",
      "Epoch 77/100\n",
      "7500/7500 [==============================] - 0s 15us/step - loss: 0.3843 - acc: 0.8415\n",
      "Epoch 78/100\n",
      "7500/7500 [==============================] - 0s 16us/step - loss: 0.3835 - acc: 0.8415\n",
      "Epoch 79/100\n",
      "7500/7500 [==============================] - 0s 16us/step - loss: 0.3832 - acc: 0.8421\n",
      "Epoch 80/100\n",
      "7500/7500 [==============================] - 0s 15us/step - loss: 0.3829 - acc: 0.8409\n",
      "Epoch 81/100\n",
      "7500/7500 [==============================] - 0s 16us/step - loss: 0.3827 - acc: 0.8405\n",
      "Epoch 82/100\n",
      "7500/7500 [==============================] - 0s 14us/step - loss: 0.3820 - acc: 0.8412\n",
      "Epoch 83/100\n",
      "7500/7500 [==============================] - 0s 14us/step - loss: 0.3815 - acc: 0.8424\n",
      "Epoch 84/100\n",
      "7500/7500 [==============================] - 0s 14us/step - loss: 0.3814 - acc: 0.8423\n",
      "Epoch 85/100\n",
      "7500/7500 [==============================] - 0s 13us/step - loss: 0.3804 - acc: 0.8431\n",
      "Epoch 86/100\n",
      "7500/7500 [==============================] - 0s 14us/step - loss: 0.3800 - acc: 0.8421\n",
      "Epoch 87/100\n",
      "7500/7500 [==============================] - 0s 15us/step - loss: 0.3794 - acc: 0.8429\n",
      "Epoch 88/100\n",
      "7500/7500 [==============================] - 0s 14us/step - loss: 0.3790 - acc: 0.8441\n",
      "Epoch 89/100\n",
      "7500/7500 [==============================] - 0s 15us/step - loss: 0.3783 - acc: 0.8444\n",
      "Epoch 90/100\n",
      "7500/7500 [==============================] - 0s 15us/step - loss: 0.3781 - acc: 0.8435\n",
      "Epoch 91/100\n",
      "7500/7500 [==============================] - 0s 15us/step - loss: 0.3769 - acc: 0.8459\n",
      "Epoch 92/100\n",
      "7500/7500 [==============================] - 0s 14us/step - loss: 0.3763 - acc: 0.8461\n",
      "Epoch 93/100\n",
      "7500/7500 [==============================] - 0s 14us/step - loss: 0.3756 - acc: 0.8460\n",
      "Epoch 94/100\n",
      "7500/7500 [==============================] - 0s 15us/step - loss: 0.3745 - acc: 0.8477\n",
      "Epoch 95/100\n",
      "7500/7500 [==============================] - 0s 15us/step - loss: 0.3733 - acc: 0.8483\n",
      "Epoch 96/100\n",
      "7500/7500 [==============================] - 0s 14us/step - loss: 0.3718 - acc: 0.8493\n",
      "Epoch 97/100\n",
      "7500/7500 [==============================] - 0s 14us/step - loss: 0.3700 - acc: 0.8500\n",
      "Epoch 98/100\n",
      "7500/7500 [==============================] - 0s 15us/step - loss: 0.3680 - acc: 0.8529\n",
      "Epoch 99/100\n",
      "7500/7500 [==============================] - 0s 14us/step - loss: 0.3653 - acc: 0.8528\n",
      "Epoch 100/100\n",
      "7500/7500 [==============================] - 0s 13us/step - loss: 0.3637 - acc: 0.8533\n"
     ]
    },
    {
     "data": {
      "text/plain": [
       "<keras.callbacks.History at 0x7f55400a0d68>"
      ]
     },
     "execution_count": 34,
     "metadata": {},
     "output_type": "execute_result"
    }
   ],
   "source": [
    "classifier.fit(\n",
    "    x_train,\n",
    "    y_train,\n",
    "    batch_size = 50,\n",
    "    epochs = 100\n",
    ")"
   ]
  },
  {
   "cell_type": "markdown",
   "metadata": {},
   "source": [
    "## Fazendo predições e Avaliando o modelo\n",
    "\n",
    "Prevendo os resultados com o conjunto de testes"
   ]
  },
  {
   "cell_type": "code",
   "execution_count": 35,
   "metadata": {},
   "outputs": [],
   "source": [
    "y_pred = classifier.predict(x_test)\n",
    "y_pred = (y_pred > 0.5)"
   ]
  },
  {
   "cell_type": "markdown",
   "metadata": {},
   "source": [
    "Criando a _Confusion Matrix_"
   ]
  },
  {
   "cell_type": "code",
   "execution_count": 36,
   "metadata": {},
   "outputs": [
    {
     "name": "stdout",
     "output_type": "stream",
     "text": [
      "Confusion Matrix: \n",
      " [[1920   84]\n",
      " [ 277  219]]\n"
     ]
    }
   ],
   "source": [
    "from sklearn.metrics import confusion_matrix\n",
    "cm = confusion_matrix(y_test, y_pred)\n",
    "print('Confusion Matrix: \\n', cm)"
   ]
  }
 ],
 "metadata": {
  "kernelspec": {
   "display_name": "Python 3",
   "language": "python",
   "name": "python3"
  },
  "language_info": {
   "codemirror_mode": {
    "name": "ipython",
    "version": 3
   },
   "file_extension": ".py",
   "mimetype": "text/x-python",
   "name": "python",
   "nbconvert_exporter": "python",
   "pygments_lexer": "ipython3",
   "version": "3.7.3"
  }
 },
 "nbformat": 4,
 "nbformat_minor": 4
}
