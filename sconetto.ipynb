{
 "cells": [
  {
   "cell_type": "markdown",
   "metadata": {},
   "source": [
    "# Rede Neural Artifical\n",
    "\n",
    "Rede neural modificada da matéria de Deep Learning da Universidade de Brasília.\n",
    "\n",
    "Produzida por João Pedro Sconetto"
   ]
  },
  {
   "cell_type": "markdown",
   "metadata": {},
   "source": [
    "## Dependências\n",
    "\n",
    "Faz instalação das dependências necessárias"
   ]
  },
  {
   "cell_type": "code",
   "execution_count": 1,
   "metadata": {},
   "outputs": [
    {
     "name": "stdout",
     "output_type": "stream",
     "text": [
      "Collecting git+git://github.com/Theano/Theano.git\n",
      "  Cloning git://github.com/Theano/Theano.git to /tmp/pip-req-build-qm4rh5hc\n",
      "  Running command git clone -q git://github.com/Theano/Theano.git /tmp/pip-req-build-qm4rh5hc\n",
      "Building wheels for collected packages: Theano\n",
      "  Building wheel for Theano (setup.py) ... \u001b[?25ldone\n",
      "\u001b[?25h  Created wheel for Theano: filename=Theano-1.0.4+21.g8f510a1f0-cp37-none-any.whl size=2667497 sha256=6a58bbdf329744b37c1560264f6577c4b74f2c05cb4989f664579a6a929c4215\n",
      "  Stored in directory: /tmp/pip-ephem-wheel-cache-vawjiyf3/wheels/ae/32/7c/62beb8371953eb20c271b3bac7d0e56e1a2020d46994346b52\n",
      "Successfully built Theano\n",
      "Installing collected packages: Theano\n",
      "  Found existing installation: Theano 1.0.4+21.g8f510a1f0\n",
      "    Uninstalling Theano-1.0.4+21.g8f510a1f0:\n",
      "      Successfully uninstalled Theano-1.0.4+21.g8f510a1f0\n",
      "Successfully installed Theano-1.0.4+21.g8f510a1f0\n",
      "Collecting tensorflow\n",
      "\u001b[?25l  Downloading https://files.pythonhosted.org/packages/2a/5c/f1d66de5dde6f3ff528f6ea1fd0757a0e594d17debb3ec7f82daa967ea9a/tensorflow-2.0.0-cp37-cp37m-manylinux2010_x86_64.whl (86.3MB)\n",
      "\u001b[K     |████████████████████████████████| 86.3MB 77kB/s s eta 0:00:01\n",
      "\u001b[?25hCollecting wrapt>=1.11.1\n",
      "  Downloading https://files.pythonhosted.org/packages/23/84/323c2415280bc4fc880ac5050dddfb3c8062c2552b34c2e512eb4aa68f79/wrapt-1.11.2.tar.gz\n",
      "Requirement already satisfied, skipping upgrade: six>=1.10.0 in /home/sconetto/.virtualenvs/deep/lib/python3.7/site-packages (from tensorflow) (1.12.0)\n",
      "Collecting gast==0.2.2\n",
      "  Downloading https://files.pythonhosted.org/packages/4e/35/11749bf99b2d4e3cceb4d55ca22590b0d7c2c62b9de38ac4a4a7f4687421/gast-0.2.2.tar.gz\n",
      "Requirement already satisfied, skipping upgrade: grpcio>=1.8.6 in /home/sconetto/.virtualenvs/deep/lib/python3.7/site-packages (from tensorflow) (1.24.1)\n",
      "Requirement already satisfied, skipping upgrade: termcolor>=1.1.0 in /home/sconetto/.virtualenvs/deep/lib/python3.7/site-packages (from tensorflow) (1.1.0)\n",
      "Requirement already satisfied, skipping upgrade: numpy<2.0,>=1.16.0 in /home/sconetto/.virtualenvs/deep/lib/python3.7/site-packages (from tensorflow) (1.17.2)\n",
      "Requirement already satisfied, skipping upgrade: astor>=0.6.0 in /home/sconetto/.virtualenvs/deep/lib/python3.7/site-packages (from tensorflow) (0.8.0)\n",
      "Requirement already satisfied, skipping upgrade: absl-py>=0.7.0 in /home/sconetto/.virtualenvs/deep/lib/python3.7/site-packages (from tensorflow) (0.8.1)\n",
      "Requirement already satisfied, skipping upgrade: keras-preprocessing>=1.0.5 in /home/sconetto/.virtualenvs/deep/lib/python3.7/site-packages (from tensorflow) (1.1.0)\n",
      "Collecting google-pasta>=0.1.6\n",
      "\u001b[?25l  Downloading https://files.pythonhosted.org/packages/d0/33/376510eb8d6246f3c30545f416b2263eee461e40940c2a4413c711bdf62d/google_pasta-0.1.7-py3-none-any.whl (52kB)\n",
      "\u001b[K     |████████████████████████████████| 61kB 448kB/s  eta 0:00:01\n",
      "\u001b[?25hCollecting opt-einsum>=2.3.2\n",
      "\u001b[?25l  Downloading https://files.pythonhosted.org/packages/b8/83/755bd5324777875e9dff19c2e59daec837d0378c09196634524a3d7269ac/opt_einsum-3.1.0.tar.gz (69kB)\n",
      "\u001b[K     |████████████████████████████████| 71kB 338kB/s eta 0:00:011\n",
      "\u001b[?25hRequirement already satisfied, skipping upgrade: wheel>=0.26 in /home/sconetto/.virtualenvs/deep/lib/python3.7/site-packages (from tensorflow) (0.33.6)\n",
      "Requirement already satisfied, skipping upgrade: protobuf>=3.6.1 in /home/sconetto/.virtualenvs/deep/lib/python3.7/site-packages (from tensorflow) (3.10.0)\n",
      "Collecting tensorboard<2.1.0,>=2.0.0\n",
      "\u001b[?25l  Downloading https://files.pythonhosted.org/packages/9b/a6/e8ffa4e2ddb216449d34cfcb825ebb38206bee5c4553d69e7bc8bc2c5d64/tensorboard-2.0.0-py3-none-any.whl (3.8MB)\n",
      "\u001b[K     |████████████████████████████████| 3.8MB 101kB/s eta 0:00:01\n",
      "\u001b[?25hRequirement already satisfied, skipping upgrade: keras-applications>=1.0.8 in /home/sconetto/.virtualenvs/deep/lib/python3.7/site-packages (from tensorflow) (1.0.8)\n",
      "Collecting tensorflow-estimator<2.1.0,>=2.0.0\n",
      "\u001b[?25l  Downloading https://files.pythonhosted.org/packages/95/00/5e6cdf86190a70d7382d320b2b04e4ff0f8191a37d90a422a2f8ff0705bb/tensorflow_estimator-2.0.0-py2.py3-none-any.whl (449kB)\n",
      "\u001b[K     |████████████████████████████████| 450kB 20.6MB/s eta 0:00:01\n",
      "\u001b[?25hRequirement already satisfied, skipping upgrade: setuptools in /home/sconetto/.virtualenvs/deep/lib/python3.7/site-packages (from protobuf>=3.6.1->tensorflow) (41.4.0)\n",
      "Requirement already satisfied, skipping upgrade: markdown>=2.6.8 in /home/sconetto/.virtualenvs/deep/lib/python3.7/site-packages (from tensorboard<2.1.0,>=2.0.0->tensorflow) (3.1.1)\n",
      "Requirement already satisfied, skipping upgrade: werkzeug>=0.11.15 in /home/sconetto/.virtualenvs/deep/lib/python3.7/site-packages (from tensorboard<2.1.0,>=2.0.0->tensorflow) (0.16.0)\n",
      "Requirement already satisfied, skipping upgrade: h5py in /home/sconetto/.virtualenvs/deep/lib/python3.7/site-packages (from keras-applications>=1.0.8->tensorflow) (2.10.0)\n",
      "Building wheels for collected packages: wrapt, gast, opt-einsum\n",
      "  Building wheel for wrapt (setup.py) ... \u001b[?25ldone\n",
      "\u001b[?25h  Created wheel for wrapt: filename=wrapt-1.11.2-cp37-cp37m-linux_x86_64.whl size=73116 sha256=8c647ff138606fb95d8804df958a6295b13fc6e4cca6373817b5ba11adbccff7\n",
      "  Stored in directory: /home/sconetto/.cache/pip/wheels/d7/de/2e/efa132238792efb6459a96e85916ef8597fcb3d2ae51590dfd\n",
      "  Building wheel for gast (setup.py) ... \u001b[?25ldone\n",
      "\u001b[?25h  Created wheel for gast: filename=gast-0.2.2-cp37-none-any.whl size=7540 sha256=1e6e955e5e8c7980e58942209a438cb2b24f2286917e84bf25dfa98e151c1704\n",
      "  Stored in directory: /home/sconetto/.cache/pip/wheels/5c/2e/7e/a1d4d4fcebe6c381f378ce7743a3ced3699feb89bcfbdadadd\n",
      "  Building wheel for opt-einsum (setup.py) ... \u001b[?25ldone\n",
      "\u001b[?25h  Created wheel for opt-einsum: filename=opt_einsum-3.1.0-cp37-none-any.whl size=61682 sha256=625578b4adbe2735e60ebc1174fb111ca4cb2b4f07c2249062f2194b0c04a1ea\n",
      "  Stored in directory: /home/sconetto/.cache/pip/wheels/2c/b1/94/43d03e130b929aae7ba3f8d15cbd7bc0d1cb5bb38a5c721833\n",
      "Successfully built wrapt gast opt-einsum\n",
      "Installing collected packages: wrapt, gast, google-pasta, opt-einsum, tensorboard, tensorflow-estimator, tensorflow\n",
      "  Found existing installation: gast 0.3.2\n",
      "    Uninstalling gast-0.3.2:\n",
      "      Successfully uninstalled gast-0.3.2\n",
      "  Found existing installation: tensorboard 1.13.1\n",
      "    Uninstalling tensorboard-1.13.1:\n",
      "      Successfully uninstalled tensorboard-1.13.1\n",
      "  Found existing installation: tensorflow-estimator 1.13.0\n",
      "    Uninstalling tensorflow-estimator-1.13.0:\n",
      "      Successfully uninstalled tensorflow-estimator-1.13.0\n",
      "  Found existing installation: tensorflow 1.13.1\n",
      "    Uninstalling tensorflow-1.13.1:\n",
      "      Successfully uninstalled tensorflow-1.13.1\n",
      "Successfully installed gast-0.2.2 google-pasta-0.1.7 opt-einsum-3.1.0 tensorboard-2.0.0 tensorflow-2.0.0 tensorflow-estimator-2.0.0 wrapt-1.11.2\n",
      "Requirement already up-to-date: keras in /home/sconetto/.virtualenvs/deep/lib/python3.7/site-packages (2.3.1)\n",
      "Requirement already satisfied, skipping upgrade: scipy>=0.14 in /home/sconetto/.virtualenvs/deep/lib/python3.7/site-packages (from keras) (1.3.1)\n",
      "Requirement already satisfied, skipping upgrade: pyyaml in /home/sconetto/.virtualenvs/deep/lib/python3.7/site-packages (from keras) (5.1.2)\n",
      "Requirement already satisfied, skipping upgrade: keras-preprocessing>=1.0.5 in /home/sconetto/.virtualenvs/deep/lib/python3.7/site-packages (from keras) (1.1.0)\n",
      "Requirement already satisfied, skipping upgrade: six>=1.9.0 in /home/sconetto/.virtualenvs/deep/lib/python3.7/site-packages (from keras) (1.12.0)\n",
      "Requirement already satisfied, skipping upgrade: keras-applications>=1.0.6 in /home/sconetto/.virtualenvs/deep/lib/python3.7/site-packages (from keras) (1.0.8)\n",
      "Requirement already satisfied, skipping upgrade: h5py in /home/sconetto/.virtualenvs/deep/lib/python3.7/site-packages (from keras) (2.10.0)\n",
      "Requirement already satisfied, skipping upgrade: numpy>=1.9.1 in /home/sconetto/.virtualenvs/deep/lib/python3.7/site-packages (from keras) (1.17.2)\n",
      "Requirement already up-to-date: pip in /home/sconetto/.virtualenvs/deep/lib/python3.7/site-packages (19.3)\n",
      "Requirement already up-to-date: pandas in /home/sconetto/.virtualenvs/deep/lib/python3.7/site-packages (0.25.1)\n",
      "Requirement already up-to-date: numpy in /home/sconetto/.virtualenvs/deep/lib/python3.7/site-packages (1.17.2)\n",
      "Collecting matplotlib\n",
      "  Using cached https://files.pythonhosted.org/packages/19/7a/60bd79c5d79559150f8bba866dd7d434f0a170312e4d15e8aefa5faba294/matplotlib-3.1.1-cp37-cp37m-manylinux1_x86_64.whl\n",
      "Requirement already up-to-date: sklearn in /home/sconetto/.virtualenvs/deep/lib/python3.7/site-packages (0.0)\n",
      "Requirement already satisfied, skipping upgrade: pytz>=2017.2 in /home/sconetto/.virtualenvs/deep/lib/python3.7/site-packages (from pandas) (2019.3)\n",
      "Requirement already satisfied, skipping upgrade: python-dateutil>=2.6.1 in /home/sconetto/.virtualenvs/deep/lib/python3.7/site-packages (from pandas) (2.8.0)\n",
      "Requirement already satisfied, skipping upgrade: kiwisolver>=1.0.1 in /home/sconetto/.virtualenvs/deep/lib/python3.7/site-packages (from matplotlib) (1.1.0)\n",
      "Requirement already satisfied, skipping upgrade: pyparsing!=2.0.4,!=2.1.2,!=2.1.6,>=2.0.1 in /home/sconetto/.virtualenvs/deep/lib/python3.7/site-packages (from matplotlib) (2.4.2)\n",
      "Requirement already satisfied, skipping upgrade: cycler>=0.10 in /home/sconetto/.virtualenvs/deep/lib/python3.7/site-packages (from matplotlib) (0.10.0)\n",
      "Requirement already satisfied, skipping upgrade: scikit-learn in /home/sconetto/.virtualenvs/deep/lib/python3.7/site-packages (from sklearn) (0.21.3)\n",
      "Requirement already satisfied, skipping upgrade: six>=1.5 in /home/sconetto/.virtualenvs/deep/lib/python3.7/site-packages (from python-dateutil>=2.6.1->pandas) (1.12.0)\n",
      "Requirement already satisfied, skipping upgrade: setuptools in /home/sconetto/.virtualenvs/deep/lib/python3.7/site-packages (from kiwisolver>=1.0.1->matplotlib) (41.4.0)\n",
      "Requirement already satisfied, skipping upgrade: joblib>=0.11 in /home/sconetto/.virtualenvs/deep/lib/python3.7/site-packages (from scikit-learn->sklearn) (0.14.0)\n",
      "Requirement already satisfied, skipping upgrade: scipy>=0.17.0 in /home/sconetto/.virtualenvs/deep/lib/python3.7/site-packages (from scikit-learn->sklearn) (1.3.1)\n",
      "Installing collected packages: matplotlib\n",
      "  Found existing installation: matplotlib 3.0.3\n",
      "    Uninstalling matplotlib-3.0.3:\n",
      "      Successfully uninstalled matplotlib-3.0.3\n",
      "Successfully installed matplotlib-3.1.1\n"
     ]
    }
   ],
   "source": [
    "# Installing Theano\n",
    "! pip install --upgrade --no-deps git+git://github.com/Theano/Theano.git\n",
    "\n",
    "# Installing Tensorflow\n",
    "! pip install --upgrade tensorflow\n",
    "\n",
    "# Installing Keras\n",
    "! pip install --upgrade keras\n",
    "\n",
    "# Install other packages\n",
    "! pip install --upgrade pip pandas numpy matplotlib sklearn"
   ]
  },
  {
   "cell_type": "markdown",
   "metadata": {},
   "source": [
    "## Pré-processamento dos dados\n",
    "\n",
    "Importação das bibliotecas"
   ]
  },
  {
   "cell_type": "code",
   "execution_count": 2,
   "metadata": {},
   "outputs": [],
   "source": [
    "import numpy as np\n",
    "import matplotlib.pyplot as plt\n",
    "import pandas as pd"
   ]
  },
  {
   "cell_type": "markdown",
   "metadata": {},
   "source": [
    "Importação do _dataset_"
   ]
  },
  {
   "cell_type": "code",
   "execution_count": 3,
   "metadata": {},
   "outputs": [
    {
     "name": "stdout",
     "output_type": "stream",
     "text": [
      "X:  [[619 'France' 'Female' ... 1 1 101348.88]\n",
      " [608 'Spain' 'Female' ... 0 1 112542.58]\n",
      " [502 'France' 'Female' ... 1 0 113931.57]\n",
      " ...\n",
      " [709 'France' 'Female' ... 0 1 42085.58]\n",
      " [772 'Germany' 'Male' ... 1 0 92888.52]\n",
      " [792 'France' 'Female' ... 1 0 38190.78]]\n",
      "Y:  [1 0 1 ... 1 1 0]\n"
     ]
    }
   ],
   "source": [
    "dataset = pd.read_csv('Churn_Modelling.csv')\n",
    "x = dataset.iloc[:, 3:13].values\n",
    "y = dataset.iloc[:, 13].values\n",
    "print('X: ', x)\n",
    "print('Y: ', y)"
   ]
  },
  {
   "cell_type": "markdown",
   "metadata": {},
   "source": [
    "Transformando os dados categóricos"
   ]
  },
  {
   "cell_type": "code",
   "execution_count": 5,
   "metadata": {},
   "outputs": [
    {
     "name": "stdout",
     "output_type": "stream",
     "text": [
      "X:  [[0.0000000e+00 0.0000000e+00 2.2800000e+02 ... 1.0000000e+00\n",
      "  1.0000000e+00 1.0134888e+05]\n",
      " [1.0000000e+00 0.0000000e+00 2.1700000e+02 ... 0.0000000e+00\n",
      "  1.0000000e+00 1.1254258e+05]\n",
      " [0.0000000e+00 0.0000000e+00 1.1100000e+02 ... 1.0000000e+00\n",
      "  0.0000000e+00 1.1393157e+05]\n",
      " ...\n",
      " [0.0000000e+00 0.0000000e+00 3.1800000e+02 ... 0.0000000e+00\n",
      "  1.0000000e+00 4.2085580e+04]\n",
      " [0.0000000e+00 1.0000000e+00 3.8100000e+02 ... 1.0000000e+00\n",
      "  0.0000000e+00 9.2888520e+04]\n",
      " [0.0000000e+00 0.0000000e+00 4.0100000e+02 ... 1.0000000e+00\n",
      "  0.0000000e+00 3.8190780e+04]]\n"
     ]
    }
   ],
   "source": [
    "from sklearn.preprocessing import LabelEncoder, OneHotEncoder\n",
    "from sklearn.compose import ColumnTransformer\n",
    "\n",
    "encoder = LabelEncoder()\n",
    "x[:, 1] = encoder.fit_transform(x[:, 1])\n",
    "x[:, 2] = encoder.fit_transform(x[:, 2])\n",
    "# onehotencoder = OneHotEncoder(categorical_features = [1])\n",
    "ct = ColumnTransformer([('one_hot_encoder', OneHotEncoder(categories=\"auto\"), [1])], remainder='passthrough')\n",
    "x = np.array(ct.fit_transform(x), dtype=np.float)\n",
    "x = x[:, 1:]\n",
    "print('X: ', x)"
   ]
  },
  {
   "cell_type": "markdown",
   "metadata": {},
   "source": [
    "## Divisão do dataset em Treinamento e Teste"
   ]
  },
  {
   "cell_type": "code",
   "execution_count": 6,
   "metadata": {},
   "outputs": [],
   "source": [
    "from sklearn.model_selection import train_test_split\n",
    "x_train, x_test, y_train, y_test = train_test_split(\n",
    "    x,\n",
    "    y,\n",
    "    test_size = 0.25\n",
    ")"
   ]
  },
  {
   "cell_type": "markdown",
   "metadata": {},
   "source": [
    "## Feature Scaling"
   ]
  },
  {
   "cell_type": "code",
   "execution_count": 7,
   "metadata": {},
   "outputs": [],
   "source": [
    "from sklearn.preprocessing import StandardScaler\n",
    "sc = StandardScaler()\n",
    "x_train = sc.fit_transform(x_train)\n",
    "x_test = sc.transform(x_test)"
   ]
  },
  {
   "cell_type": "markdown",
   "metadata": {},
   "source": [
    "---"
   ]
  },
  {
   "cell_type": "markdown",
   "metadata": {},
   "source": [
    "## Construção da ANN\n",
    "\n",
    "Importando o Keras"
   ]
  },
  {
   "cell_type": "code",
   "execution_count": 8,
   "metadata": {},
   "outputs": [
    {
     "name": "stderr",
     "output_type": "stream",
     "text": [
      "Using TensorFlow backend.\n"
     ]
    }
   ],
   "source": [
    "import keras\n",
    "from keras.models import Sequential\n",
    "from keras.layers import Dense"
   ]
  },
  {
   "cell_type": "code",
   "execution_count": 9,
   "metadata": {},
   "outputs": [],
   "source": [
    "# Inicializando a ANN\n",
    "classifier = Sequential()\n",
    "\n",
    "# Adicinando a camada de _input_ e a primeira camada escondida\n",
    "classifier.add(Dense(\n",
    "    units = 6,\n",
    "    kernel_initializer = 'uniform',\n",
    "    activation = 'relu',\n",
    "    input_dim = 11\n",
    "))\n",
    "\n",
    "# Adicionando a segunda camada escondida\n",
    "classifier.add(Dense(\n",
    "    units = 6,\n",
    "    kernel_initializer = 'uniform',\n",
    "    activation = 'sigmoid'\n",
    "))\n",
    "\n",
    "# Adicionando a terciera camada escondida\n",
    "classifier.add(Dense(\n",
    "    units = 5,\n",
    "    kernel_initializer = 'uniform',\n",
    "    activation = 'tanh'\n",
    "))\n",
    "\n",
    "# Adicionando a camada de _output_\n",
    "classifier.add(Dense(\n",
    "    units = 1,\n",
    "    kernel_initializer = 'uniform',\n",
    "    activation = 'sigmoid'\n",
    "))\n",
    "\n",
    "# Compilando a ANN\n",
    "classifier.compile(\n",
    "    optimizer = 'adam',\n",
    "    loss = 'binary_crossentropy',\n",
    "    metrics = ['accuracy']\n",
    ")"
   ]
  },
  {
   "cell_type": "markdown",
   "metadata": {},
   "source": [
    "## Ajustando a ANN ao conjunto de treinamento"
   ]
  },
  {
   "cell_type": "code",
   "execution_count": 10,
   "metadata": {},
   "outputs": [
    {
     "name": "stdout",
     "output_type": "stream",
     "text": [
      "Epoch 1/100\n",
      "7500/7500 [==============================] - 0s 27us/step - loss: 0.6140 - accuracy: 0.7936\n",
      "Epoch 2/100\n",
      "7500/7500 [==============================] - 0s 15us/step - loss: 0.5049 - accuracy: 0.7936\n",
      "Epoch 3/100\n",
      "7500/7500 [==============================] - 0s 15us/step - loss: 0.4934 - accuracy: 0.7936\n",
      "Epoch 4/100\n",
      "7500/7500 [==============================] - 0s 14us/step - loss: 0.4857 - accuracy: 0.7936\n",
      "Epoch 5/100\n",
      "7500/7500 [==============================] - 0s 14us/step - loss: 0.4764 - accuracy: 0.7936\n",
      "Epoch 6/100\n",
      "7500/7500 [==============================] - 0s 16us/step - loss: 0.4652 - accuracy: 0.7936\n",
      "Epoch 7/100\n",
      "7500/7500 [==============================] - 0s 15us/step - loss: 0.4537 - accuracy: 0.7936\n",
      "Epoch 8/100\n",
      "7500/7500 [==============================] - 0s 15us/step - loss: 0.4439 - accuracy: 0.7936\n",
      "Epoch 9/100\n",
      "7500/7500 [==============================] - 0s 15us/step - loss: 0.4370 - accuracy: 0.7936\n",
      "Epoch 10/100\n",
      "7500/7500 [==============================] - 0s 15us/step - loss: 0.4327 - accuracy: 0.7936\n",
      "Epoch 11/100\n",
      "7500/7500 [==============================] - 0s 15us/step - loss: 0.4302 - accuracy: 0.7936\n",
      "Epoch 12/100\n",
      "7500/7500 [==============================] - 0s 15us/step - loss: 0.4285 - accuracy: 0.7936\n",
      "Epoch 13/100\n",
      "7500/7500 [==============================] - 0s 15us/step - loss: 0.4264 - accuracy: 0.7945\n",
      "Epoch 14/100\n",
      "7500/7500 [==============================] - 0s 15us/step - loss: 0.4237 - accuracy: 0.8035\n",
      "Epoch 15/100\n",
      "7500/7500 [==============================] - 0s 15us/step - loss: 0.4211 - accuracy: 0.8220\n",
      "Epoch 16/100\n",
      "7500/7500 [==============================] - 0s 15us/step - loss: 0.4170 - accuracy: 0.8261\n",
      "Epoch 17/100\n",
      "7500/7500 [==============================] - 0s 16us/step - loss: 0.4137 - accuracy: 0.8300\n",
      "Epoch 18/100\n",
      "7500/7500 [==============================] - 0s 16us/step - loss: 0.4110 - accuracy: 0.8289\n",
      "Epoch 19/100\n",
      "7500/7500 [==============================] - 0s 15us/step - loss: 0.4090 - accuracy: 0.8305\n",
      "Epoch 20/100\n",
      "7500/7500 [==============================] - 0s 15us/step - loss: 0.4071 - accuracy: 0.8317\n",
      "Epoch 21/100\n",
      "7500/7500 [==============================] - 0s 15us/step - loss: 0.4057 - accuracy: 0.8315\n",
      "Epoch 22/100\n",
      "7500/7500 [==============================] - 0s 15us/step - loss: 0.4047 - accuracy: 0.8331\n",
      "Epoch 23/100\n",
      "7500/7500 [==============================] - 0s 15us/step - loss: 0.4037 - accuracy: 0.8320\n",
      "Epoch 24/100\n",
      "7500/7500 [==============================] - 0s 16us/step - loss: 0.4031 - accuracy: 0.8320\n",
      "Epoch 25/100\n",
      "7500/7500 [==============================] - 0s 16us/step - loss: 0.4023 - accuracy: 0.8321\n",
      "Epoch 26/100\n",
      "7500/7500 [==============================] - 0s 15us/step - loss: 0.4013 - accuracy: 0.8340\n",
      "Epoch 27/100\n",
      "7500/7500 [==============================] - 0s 15us/step - loss: 0.4008 - accuracy: 0.8325\n",
      "Epoch 28/100\n",
      "7500/7500 [==============================] - 0s 16us/step - loss: 0.4009 - accuracy: 0.8347\n",
      "Epoch 29/100\n",
      "7500/7500 [==============================] - 0s 15us/step - loss: 0.3998 - accuracy: 0.8345\n",
      "Epoch 30/100\n",
      "7500/7500 [==============================] - 0s 15us/step - loss: 0.3995 - accuracy: 0.8345\n",
      "Epoch 31/100\n",
      "7500/7500 [==============================] - 0s 15us/step - loss: 0.3993 - accuracy: 0.8340\n",
      "Epoch 32/100\n",
      "7500/7500 [==============================] - 0s 15us/step - loss: 0.3990 - accuracy: 0.8347\n",
      "Epoch 33/100\n",
      "7500/7500 [==============================] - 0s 15us/step - loss: 0.3986 - accuracy: 0.8357\n",
      "Epoch 34/100\n",
      "7500/7500 [==============================] - 0s 15us/step - loss: 0.3982 - accuracy: 0.8359\n",
      "Epoch 35/100\n",
      "7500/7500 [==============================] - 0s 15us/step - loss: 0.3982 - accuracy: 0.8343\n",
      "Epoch 36/100\n",
      "7500/7500 [==============================] - 0s 15us/step - loss: 0.3980 - accuracy: 0.8359\n",
      "Epoch 37/100\n",
      "7500/7500 [==============================] - 0s 16us/step - loss: 0.3974 - accuracy: 0.8357\n",
      "Epoch 38/100\n",
      "7500/7500 [==============================] - 0s 16us/step - loss: 0.3971 - accuracy: 0.8356\n",
      "Epoch 39/100\n",
      "7500/7500 [==============================] - 0s 16us/step - loss: 0.3973 - accuracy: 0.8355\n",
      "Epoch 40/100\n",
      "7500/7500 [==============================] - 0s 15us/step - loss: 0.3970 - accuracy: 0.8351\n",
      "Epoch 41/100\n",
      "7500/7500 [==============================] - 0s 15us/step - loss: 0.3967 - accuracy: 0.8359\n",
      "Epoch 42/100\n",
      "7500/7500 [==============================] - 0s 15us/step - loss: 0.3965 - accuracy: 0.8368\n",
      "Epoch 43/100\n",
      "7500/7500 [==============================] - 0s 16us/step - loss: 0.3964 - accuracy: 0.8359\n",
      "Epoch 44/100\n",
      "7500/7500 [==============================] - 0s 16us/step - loss: 0.3967 - accuracy: 0.8363\n",
      "Epoch 45/100\n",
      "7500/7500 [==============================] - 0s 15us/step - loss: 0.3962 - accuracy: 0.8351\n",
      "Epoch 46/100\n",
      "7500/7500 [==============================] - 0s 15us/step - loss: 0.3957 - accuracy: 0.8357\n",
      "Epoch 47/100\n",
      "7500/7500 [==============================] - 0s 15us/step - loss: 0.3958 - accuracy: 0.8363\n",
      "Epoch 48/100\n",
      "7500/7500 [==============================] - 0s 15us/step - loss: 0.3960 - accuracy: 0.8360\n",
      "Epoch 49/100\n",
      "7500/7500 [==============================] - 0s 16us/step - loss: 0.3957 - accuracy: 0.8359\n",
      "Epoch 50/100\n",
      "7500/7500 [==============================] - 0s 15us/step - loss: 0.3958 - accuracy: 0.8355\n",
      "Epoch 51/100\n",
      "7500/7500 [==============================] - 0s 15us/step - loss: 0.3956 - accuracy: 0.8357\n",
      "Epoch 52/100\n",
      "7500/7500 [==============================] - 0s 16us/step - loss: 0.3958 - accuracy: 0.8356\n",
      "Epoch 53/100\n",
      "7500/7500 [==============================] - 0s 16us/step - loss: 0.3955 - accuracy: 0.8357\n",
      "Epoch 54/100\n",
      "7500/7500 [==============================] - 0s 15us/step - loss: 0.3955 - accuracy: 0.8355\n",
      "Epoch 55/100\n",
      "7500/7500 [==============================] - 0s 15us/step - loss: 0.3958 - accuracy: 0.8361\n",
      "Epoch 56/100\n",
      "7500/7500 [==============================] - 0s 15us/step - loss: 0.3954 - accuracy: 0.8359\n",
      "Epoch 57/100\n",
      "7500/7500 [==============================] - 0s 15us/step - loss: 0.3955 - accuracy: 0.8355\n",
      "Epoch 58/100\n",
      "7500/7500 [==============================] - 0s 15us/step - loss: 0.3953 - accuracy: 0.8357\n",
      "Epoch 59/100\n",
      "7500/7500 [==============================] - 0s 15us/step - loss: 0.3957 - accuracy: 0.8349\n",
      "Epoch 60/100\n",
      "7500/7500 [==============================] - 0s 15us/step - loss: 0.3954 - accuracy: 0.8360\n",
      "Epoch 61/100\n",
      "7500/7500 [==============================] - 0s 16us/step - loss: 0.3953 - accuracy: 0.8347\n",
      "Epoch 62/100\n",
      "7500/7500 [==============================] - 0s 15us/step - loss: 0.3952 - accuracy: 0.8369\n",
      "Epoch 63/100\n",
      "7500/7500 [==============================] - 0s 15us/step - loss: 0.3958 - accuracy: 0.8357\n",
      "Epoch 64/100\n",
      "7500/7500 [==============================] - 0s 15us/step - loss: 0.3950 - accuracy: 0.8363\n",
      "Epoch 65/100\n",
      "7500/7500 [==============================] - 0s 15us/step - loss: 0.3952 - accuracy: 0.8373\n",
      "Epoch 66/100\n",
      "7500/7500 [==============================] - 0s 15us/step - loss: 0.3947 - accuracy: 0.8377\n",
      "Epoch 67/100\n",
      "7500/7500 [==============================] - 0s 16us/step - loss: 0.3947 - accuracy: 0.8360\n",
      "Epoch 68/100\n",
      "7500/7500 [==============================] - 0s 15us/step - loss: 0.3949 - accuracy: 0.8364\n",
      "Epoch 69/100\n",
      "7500/7500 [==============================] - 0s 15us/step - loss: 0.3949 - accuracy: 0.8372\n",
      "Epoch 70/100\n",
      "7500/7500 [==============================] - 0s 16us/step - loss: 0.3946 - accuracy: 0.8368\n",
      "Epoch 71/100\n",
      "7500/7500 [==============================] - 0s 16us/step - loss: 0.3949 - accuracy: 0.8365\n",
      "Epoch 72/100\n",
      "7500/7500 [==============================] - 0s 16us/step - loss: 0.3949 - accuracy: 0.8381\n",
      "Epoch 73/100\n",
      "7500/7500 [==============================] - 0s 15us/step - loss: 0.3945 - accuracy: 0.8355\n",
      "Epoch 74/100\n",
      "7500/7500 [==============================] - 0s 15us/step - loss: 0.3946 - accuracy: 0.8364\n",
      "Epoch 75/100\n",
      "7500/7500 [==============================] - 0s 14us/step - loss: 0.3947 - accuracy: 0.8364\n",
      "Epoch 76/100\n",
      "7500/7500 [==============================] - 0s 15us/step - loss: 0.3947 - accuracy: 0.8364\n",
      "Epoch 77/100\n",
      "7500/7500 [==============================] - 0s 15us/step - loss: 0.3953 - accuracy: 0.8357\n",
      "Epoch 78/100\n",
      "7500/7500 [==============================] - 0s 15us/step - loss: 0.3944 - accuracy: 0.8355\n",
      "Epoch 79/100\n",
      "7500/7500 [==============================] - 0s 16us/step - loss: 0.3951 - accuracy: 0.8365\n",
      "Epoch 80/100\n",
      "7500/7500 [==============================] - 0s 16us/step - loss: 0.3944 - accuracy: 0.8367\n",
      "Epoch 81/100\n",
      "7500/7500 [==============================] - 0s 16us/step - loss: 0.3948 - accuracy: 0.8361\n",
      "Epoch 82/100\n",
      "7500/7500 [==============================] - 0s 16us/step - loss: 0.3939 - accuracy: 0.8367\n",
      "Epoch 83/100\n",
      "7500/7500 [==============================] - 0s 15us/step - loss: 0.3948 - accuracy: 0.8356\n",
      "Epoch 84/100\n",
      "7500/7500 [==============================] - 0s 15us/step - loss: 0.3945 - accuracy: 0.8371\n",
      "Epoch 85/100\n",
      "7500/7500 [==============================] - 0s 15us/step - loss: 0.3946 - accuracy: 0.8363\n",
      "Epoch 86/100\n",
      "7500/7500 [==============================] - 0s 15us/step - loss: 0.3943 - accuracy: 0.8365\n",
      "Epoch 87/100\n",
      "7500/7500 [==============================] - 0s 15us/step - loss: 0.3945 - accuracy: 0.8380\n",
      "Epoch 88/100\n",
      "7500/7500 [==============================] - 0s 15us/step - loss: 0.3943 - accuracy: 0.8373\n",
      "Epoch 89/100\n",
      "7500/7500 [==============================] - 0s 17us/step - loss: 0.3944 - accuracy: 0.8357\n",
      "Epoch 90/100\n",
      "7500/7500 [==============================] - 0s 16us/step - loss: 0.3940 - accuracy: 0.8376\n",
      "Epoch 91/100\n",
      "7500/7500 [==============================] - 0s 15us/step - loss: 0.3941 - accuracy: 0.8364\n",
      "Epoch 92/100\n",
      "7500/7500 [==============================] - 0s 15us/step - loss: 0.3937 - accuracy: 0.8372\n",
      "Epoch 93/100\n",
      "7500/7500 [==============================] - 0s 15us/step - loss: 0.3938 - accuracy: 0.8383\n",
      "Epoch 94/100\n",
      "7500/7500 [==============================] - 0s 15us/step - loss: 0.3940 - accuracy: 0.8373\n",
      "Epoch 95/100\n",
      "7500/7500 [==============================] - 0s 15us/step - loss: 0.3939 - accuracy: 0.8363\n",
      "Epoch 96/100\n",
      "7500/7500 [==============================] - 0s 15us/step - loss: 0.3938 - accuracy: 0.8364\n",
      "Epoch 97/100\n",
      "7500/7500 [==============================] - 0s 15us/step - loss: 0.3937 - accuracy: 0.8375\n",
      "Epoch 98/100\n",
      "7500/7500 [==============================] - 0s 15us/step - loss: 0.3939 - accuracy: 0.8379\n",
      "Epoch 99/100\n",
      "7500/7500 [==============================] - 0s 15us/step - loss: 0.3932 - accuracy: 0.8335\n",
      "Epoch 100/100\n",
      "7500/7500 [==============================] - 0s 15us/step - loss: 0.3936 - accuracy: 0.8367\n"
     ]
    },
    {
     "data": {
      "text/plain": [
       "<keras.callbacks.callbacks.History at 0x7f66c4624d30>"
      ]
     },
     "execution_count": 10,
     "metadata": {},
     "output_type": "execute_result"
    }
   ],
   "source": [
    "classifier.fit(\n",
    "    x_train,\n",
    "    y_train,\n",
    "    batch_size = 50,\n",
    "    epochs = 100\n",
    ")"
   ]
  },
  {
   "cell_type": "markdown",
   "metadata": {},
   "source": [
    "## Fazendo predições e Avaliando o modelo\n",
    "\n",
    "Prevendo os resultados com o conjunto de testes"
   ]
  },
  {
   "cell_type": "code",
   "execution_count": 11,
   "metadata": {},
   "outputs": [],
   "source": [
    "y_pred = classifier.predict(x_test)\n",
    "y_pred = (y_pred > 0.5)"
   ]
  },
  {
   "cell_type": "markdown",
   "metadata": {},
   "source": [
    "Criando a _Confusion Matrix_"
   ]
  },
  {
   "cell_type": "code",
   "execution_count": 12,
   "metadata": {},
   "outputs": [
    {
     "name": "stdout",
     "output_type": "stream",
     "text": [
      "Confusion Matrix: \n",
      " [[1934   77]\n",
      " [ 331  158]]\n"
     ]
    }
   ],
   "source": [
    "from sklearn.metrics import confusion_matrix\n",
    "cm = confusion_matrix(y_test, y_pred)\n",
    "print('Confusion Matrix: \\n', cm)"
   ]
  },
  {
   "cell_type": "markdown",
   "metadata": {},
   "source": [
    "## Avaliando, Melhorando e Ajustando a ANN\n",
    "\n",
    "### Avaliando a ANN"
   ]
  },
  {
   "cell_type": "code",
   "execution_count": 17,
   "metadata": {},
   "outputs": [
    {
     "name": "stdout",
     "output_type": "stream",
     "text": [
      "Accuracies: [0.83600003 0.89200002 0.82599998 0.81999999 0.83200002 0.83600003\n",
      " 0.81599998 0.824      0.824      0.81999999 0.84399998 0.85000002\n",
      " 0.82999998 0.84600002 0.81199998]\n",
      "Mean: 0.8338666677474975\n",
      "Variance: 0.018895747294436674\n"
     ]
    }
   ],
   "source": [
    "from keras.wrappers.scikit_learn import KerasClassifier\n",
    "from sklearn.model_selection import cross_val_score\n",
    "from keras.models import Sequential\n",
    "from keras.layers import Dense\n",
    "\n",
    "def build_classifier():\n",
    "    classifier = Sequential()\n",
    "    classifier.add(Dense(\n",
    "        units = 6,\n",
    "        kernel_initializer = 'uniform',\n",
    "        activation = 'relu',\n",
    "        input_dim = 11\n",
    "    ))\n",
    "    classifier.add(Dense(\n",
    "        units = 6,\n",
    "        kernel_initializer = 'uniform',\n",
    "        activation = 'sigmoid'\n",
    "    ))\n",
    "    classifier.add(Dense(\n",
    "        units = 5,\n",
    "        kernel_initializer = 'uniform',\n",
    "        activation = 'tanh'\n",
    "    ))\n",
    "    classifier.add(Dense(\n",
    "        units = 1,\n",
    "        kernel_initializer = 'uniform',\n",
    "        activation = 'sigmoid'\n",
    "    ))\n",
    "    classifier.compile(\n",
    "        optimizer = 'adam',\n",
    "        loss = 'binary_crossentropy',\n",
    "        metrics = ['accuracy']\n",
    "    )\n",
    "    return classifier\n",
    "\n",
    "classifier = KerasClassifier(build_fn = build_classifier, batch_size = 10, epochs = 10)\n",
    "accuracies = cross_val_score(estimator = classifier, X = x_train, y = y_train, cv = 15, n_jobs = -1)\n",
    "mean = accuracies.mean()\n",
    "variance = accuracies.std()\n",
    "print(f\"Accuracies: {accuracies}\\nMean: {mean}\\nVariance: {variance}\")"
   ]
  },
  {
   "cell_type": "markdown",
   "metadata": {},
   "source": [
    "### Melhorando a ANN\n",
    "\n",
    "Regularização Dropout para reduzir o overfitting se necessário"
   ]
  },
  {
   "cell_type": "code",
   "execution_count": 18,
   "metadata": {},
   "outputs": [
    {
     "name": "stdout",
     "output_type": "stream",
     "text": [
      "Accuracies: [0.83200002 0.87199998 0.81       0.824      0.82999998 0.82999998\n",
      " 0.81       0.81999999 0.81400001 0.81999999 0.824      0.85600001\n",
      " 0.82999998 0.84600002 0.82200003]\n",
      "Mean: 0.8293333331743876\n",
      "Variance: 0.016503195189322948\n"
     ]
    }
   ],
   "source": [
    "from keras.layers import Dropout\n",
    "\n",
    "def build_classifier():\n",
    "    classifier = Sequential()\n",
    "    classifier.add(Dense(\n",
    "        units = 6,\n",
    "        kernel_initializer = 'uniform',\n",
    "        activation = 'relu',\n",
    "        input_dim = 11\n",
    "    ))\n",
    "    classifier.add(Dropout(rate = 0.1))\n",
    "    classifier.add(Dense(\n",
    "        units = 6,\n",
    "        kernel_initializer = 'uniform',\n",
    "        activation = 'sigmoid'\n",
    "    ))\n",
    "    classifier.add(Dropout(rate = 0.1))\n",
    "    classifier.add(Dense(\n",
    "        units = 5,\n",
    "        kernel_initializer = 'uniform',\n",
    "        activation = 'tanh'\n",
    "    ))\n",
    "    classifier.add(Dropout(rate = 0.1))\n",
    "    classifier.add(Dense(\n",
    "        units = 1,\n",
    "        kernel_initializer = 'uniform',\n",
    "        activation = 'sigmoid'\n",
    "    ))\n",
    "    classifier.compile(\n",
    "        optimizer = 'adam',\n",
    "        loss = 'binary_crossentropy',\n",
    "        metrics = ['accuracy']\n",
    "    )\n",
    "    return classifier\n",
    "\n",
    "classifier = KerasClassifier(build_fn = build_classifier, batch_size = 10, epochs = 10)\n",
    "accuracies = cross_val_score(estimator = classifier, X = x_train, y = y_train, cv = 15, n_jobs = -1)\n",
    "mean = accuracies.mean()\n",
    "variance = accuracies.std()\n",
    "print(f\"Accuracies: {accuracies}\\nMean: {mean}\\nVariance: {variance}\")"
   ]
  },
  {
   "cell_type": "markdown",
   "metadata": {},
   "source": [
    "### Ajustando a ANN"
   ]
  },
  {
   "cell_type": "code",
   "execution_count": 19,
   "metadata": {},
   "outputs": [],
   "source": [
    "from keras.wrappers.scikit_learn import KerasClassifier\n",
    "from sklearn.model_selection import GridSearchCV\n",
    "from keras.models import Sequential\n",
    "from keras.layers import Dense\n",
    "\n",
    "def build_classifier(optimizer):\n",
    "    classifier = Sequential()\n",
    "    classifier.add(Dense(\n",
    "        units = 6,\n",
    "        kernel_initializer = 'uniform',\n",
    "        activation = 'relu',\n",
    "        input_dim = 11\n",
    "    ))\n",
    "    classifier.add(Dropout(rate = 0.1))\n",
    "    classifier.add(Dense(\n",
    "        units = 6,\n",
    "        kernel_initializer = 'uniform',\n",
    "        activation = 'sigmoid'\n",
    "    ))\n",
    "    classifier.add(Dropout(rate = 0.1))\n",
    "    classifier.add(Dense(\n",
    "        units = 5,\n",
    "        kernel_initializer = 'uniform',\n",
    "        activation = 'tanh'\n",
    "    ))\n",
    "    classifier.add(Dropout(rate = 0.1))\n",
    "    classifier.add(Dense(\n",
    "        units = 1,\n",
    "        kernel_initializer = 'uniform',\n",
    "        activation = 'sigmoid'\n",
    "    ))\n",
    "    classifier.compile(\n",
    "        optimizer = optimizer,\n",
    "        loss = 'binary_crossentropy',\n",
    "        metrics = ['accuracy']\n",
    "    )\n",
    "    return classifier\n",
    "\n",
    "classifier = KerasClassifier(build_fn = build_classifier)"
   ]
  },
  {
   "cell_type": "code",
   "execution_count": null,
   "metadata": {},
   "outputs": [],
   "source": [
    "parameters = {'batch_size': [10, 24],\n",
    "              'epochs': [50, 100, 200],\n",
    "              'optimizer': ['adadelta', 'rmsprop', 'nadam']}\n",
    "\n",
    "grid_search = GridSearchCV(estimator = classifier,\n",
    "                           scoring = 'accuracy',\n",
    "                           param_grid = parameters,\n",
    "                           cv = 10)\n",
    "\n",
    "grid_search = grid_search.fit(x_train, y_train)\n",
    "\n",
    "best_parameters = grid_search.best_params_\n",
    "best_accuracy = grid_search.best_score_"
   ]
  },
  {
   "cell_type": "code",
   "execution_count": 15,
   "metadata": {},
   "outputs": [
    {
     "name": "stdout",
     "output_type": "stream",
     "text": [
      "{'batch_size': 10, 'epochs': 200, 'optimizer': 'adadelta'} 0.8589333333333333\n"
     ]
    }
   ],
   "source": [
    "print(best_parameters, best_accuracy)"
   ]
  }
 ],
 "metadata": {
  "kernelspec": {
   "display_name": "Python 3",
   "language": "python",
   "name": "python3"
  },
  "language_info": {
   "codemirror_mode": {
    "name": "ipython",
    "version": 3
   },
   "file_extension": ".py",
   "mimetype": "text/x-python",
   "name": "python",
   "nbconvert_exporter": "python",
   "pygments_lexer": "ipython3",
   "version": "3.7.3"
  }
 },
 "nbformat": 4,
 "nbformat_minor": 4
}
