{
 "cells": [
  {
   "cell_type": "code",
   "execution_count": 1,
   "metadata": {},
   "outputs": [],
   "source": [
    "# Part 1 - Data Preprocessing\n",
    "\n",
    "# Importing the libraries"
   ]
  },
  {
   "cell_type": "code",
   "execution_count": 2,
   "metadata": {},
   "outputs": [],
   "source": [
    "import numpy as np\n",
    "import matplotlib.pyplot as plt\n",
    "import pandas as pd"
   ]
  },
  {
   "cell_type": "code",
   "execution_count": 3,
   "metadata": {},
   "outputs": [],
   "source": [
    "# Importing the dataset"
   ]
  },
  {
   "cell_type": "code",
   "execution_count": 4,
   "metadata": {},
   "outputs": [],
   "source": [
    "dataset = pd.read_csv('Churn_Modelling.csv')\n",
    "X = dataset.iloc[:, 3:13].values\n",
    "y = dataset.iloc[:, 13].values"
   ]
  },
  {
   "cell_type": "code",
   "execution_count": 5,
   "metadata": {},
   "outputs": [],
   "source": [
    "# Encoding categorical data"
   ]
  },
  {
   "cell_type": "code",
   "execution_count": 6,
   "metadata": {},
   "outputs": [
    {
     "name": "stderr",
     "output_type": "stream",
     "text": [
      "/home/administradora/anaconda3/lib/python3.7/site-packages/sklearn/preprocessing/_encoders.py:415: FutureWarning: The handling of integer data will change in version 0.22. Currently, the categories are determined based on the range [0, max(values)], while in the future they will be determined based on the unique values.\n",
      "If you want the future behaviour and silence this warning, you can specify \"categories='auto'\".\n",
      "In case you used a LabelEncoder before this OneHotEncoder to convert the categories to integers, then you can now use the OneHotEncoder directly.\n",
      "  warnings.warn(msg, FutureWarning)\n",
      "/home/administradora/anaconda3/lib/python3.7/site-packages/sklearn/preprocessing/_encoders.py:451: DeprecationWarning: The 'categorical_features' keyword is deprecated in version 0.20 and will be removed in 0.22. You can use the ColumnTransformer instead.\n",
      "  \"use the ColumnTransformer instead.\", DeprecationWarning)\n"
     ]
    }
   ],
   "source": [
    "from sklearn.preprocessing import LabelEncoder, OneHotEncoder\n",
    "labelencoder_X_1 = LabelEncoder()\n",
    "X[:, 1] = labelencoder_X_1.fit_transform(X[:, 1])\n",
    "labelencoder_X_2 = LabelEncoder()\n",
    "X[:, 2] = labelencoder_X_2.fit_transform(X[:, 2])\n",
    "onehotencoder = OneHotEncoder(categorical_features = [1])\n",
    "X = onehotencoder.fit_transform(X).toarray()\n",
    "X = X[:, 1:]"
   ]
  },
  {
   "cell_type": "code",
   "execution_count": 7,
   "metadata": {},
   "outputs": [],
   "source": [
    "# Splitting the dataset into the Training set and Test set"
   ]
  },
  {
   "cell_type": "code",
   "execution_count": 8,
   "metadata": {},
   "outputs": [],
   "source": [
    "from sklearn.model_selection import train_test_split\n",
    "X_train, X_test, y_train, y_test = train_test_split(X, y, test_size = 0.2, random_state = 0)"
   ]
  },
  {
   "cell_type": "code",
   "execution_count": 9,
   "metadata": {},
   "outputs": [],
   "source": [
    "# Feature Scaling"
   ]
  },
  {
   "cell_type": "code",
   "execution_count": 10,
   "metadata": {},
   "outputs": [],
   "source": [
    "from sklearn.preprocessing import StandardScaler\n",
    "sc = StandardScaler()\n",
    "X_train = sc.fit_transform(X_train)\n",
    "X_test = sc.transform(X_test)"
   ]
  },
  {
   "cell_type": "code",
   "execution_count": 11,
   "metadata": {},
   "outputs": [],
   "source": [
    "# Part 2 - Now let's make the ANN!\n",
    "\n",
    "# Importing the Keras libraries and packages"
   ]
  },
  {
   "cell_type": "code",
   "execution_count": 12,
   "metadata": {},
   "outputs": [
    {
     "name": "stderr",
     "output_type": "stream",
     "text": [
      "Using TensorFlow backend.\n"
     ]
    }
   ],
   "source": [
    "import keras\n",
    "from keras.models import Sequential\n",
    "from keras.layers import Dense"
   ]
  },
  {
   "cell_type": "code",
   "execution_count": 13,
   "metadata": {},
   "outputs": [],
   "source": [
    "# Initialising the ANN"
   ]
  },
  {
   "cell_type": "code",
   "execution_count": 14,
   "metadata": {},
   "outputs": [],
   "source": [
    "classifier = Sequential()"
   ]
  },
  {
   "cell_type": "code",
   "execution_count": 15,
   "metadata": {},
   "outputs": [],
   "source": [
    "# Adding the input layer and the first hidden layer"
   ]
  },
  {
   "cell_type": "code",
   "execution_count": 16,
   "metadata": {},
   "outputs": [],
   "source": [
    "classifier.add(Dense(units = 6, kernel_initializer = 'uniform', activation = 'relu', input_dim = 11))"
   ]
  },
  {
   "cell_type": "code",
   "execution_count": 17,
   "metadata": {},
   "outputs": [],
   "source": [
    "# Adding the second hidden layer"
   ]
  },
  {
   "cell_type": "code",
   "execution_count": 18,
   "metadata": {},
   "outputs": [],
   "source": [
    "classifier.add(Dense(units = 6, kernel_initializer = 'uniform', activation = 'hard_sigmoid'))"
   ]
  },
  {
   "cell_type": "code",
   "execution_count": 19,
   "metadata": {},
   "outputs": [],
   "source": [
    "# Adding the output layer"
   ]
  },
  {
   "cell_type": "code",
   "execution_count": 20,
   "metadata": {},
   "outputs": [],
   "source": [
    "classifier.add(Dense(units = 1, kernel_initializer = 'uniform', activation = 'elu'))"
   ]
  },
  {
   "cell_type": "code",
   "execution_count": 21,
   "metadata": {},
   "outputs": [],
   "source": [
    "# Compiling the ANN"
   ]
  },
  {
   "cell_type": "code",
   "execution_count": 22,
   "metadata": {},
   "outputs": [],
   "source": [
    "classifier.compile(optimizer = 'adam', loss = 'binary_crossentropy', metrics = ['accuracy'])"
   ]
  },
  {
   "cell_type": "code",
   "execution_count": 23,
   "metadata": {},
   "outputs": [],
   "source": [
    "# Fitting the ANN to the Training set"
   ]
  },
  {
   "cell_type": "code",
   "execution_count": 24,
   "metadata": {
    "scrolled": true
   },
   "outputs": [
    {
     "name": "stdout",
     "output_type": "stream",
     "text": [
      "Epoch 1/50\n",
      "8000/8000 [==============================] - 1s 114us/step - loss: 0.5146 - accuracy: 0.7960\n",
      "Epoch 2/50\n",
      "8000/8000 [==============================] - 1s 92us/step - loss: 0.4443 - accuracy: 0.7960\n",
      "Epoch 3/50\n",
      "8000/8000 [==============================] - 1s 88us/step - loss: 0.4275 - accuracy: 0.7960\n",
      "Epoch 4/50\n",
      "8000/8000 [==============================] - 1s 91us/step - loss: 0.4214 - accuracy: 0.7995\n",
      "Epoch 5/50\n",
      "8000/8000 [==============================] - 1s 116us/step - loss: 0.4145 - accuracy: 0.8071\n",
      "Epoch 6/50\n",
      "8000/8000 [==============================] - 1s 92us/step - loss: 0.4068 - accuracy: 0.8160\n",
      "Epoch 7/50\n",
      "8000/8000 [==============================] - 1s 91us/step - loss: 0.3969 - accuracy: 0.8261\n",
      "Epoch 8/50\n",
      "8000/8000 [==============================] - 1s 90us/step - loss: 0.3890 - accuracy: 0.8346\n",
      "Epoch 9/50\n",
      "8000/8000 [==============================] - 1s 94us/step - loss: 0.3805 - accuracy: 0.8401\n",
      "Epoch 10/50\n",
      "8000/8000 [==============================] - 1s 91us/step - loss: 0.3752 - accuracy: 0.8439\n",
      "Epoch 11/50\n",
      "8000/8000 [==============================] - 1s 103us/step - loss: 0.3701 - accuracy: 0.8461\n",
      "Epoch 12/50\n",
      "8000/8000 [==============================] - 1s 101us/step - loss: 0.3643 - accuracy: 0.8493\n",
      "Epoch 13/50\n",
      "8000/8000 [==============================] - 1s 110us/step - loss: 0.3607 - accuracy: 0.8522\n",
      "Epoch 14/50\n",
      "8000/8000 [==============================] - 1s 104us/step - loss: 0.3561 - accuracy: 0.8546\n",
      "Epoch 15/50\n",
      "8000/8000 [==============================] - 1s 102us/step - loss: 0.3528 - accuracy: 0.8568\n",
      "Epoch 16/50\n",
      "8000/8000 [==============================] - 1s 101us/step - loss: 0.3507 - accuracy: 0.8560\n",
      "Epoch 17/50\n",
      "8000/8000 [==============================] - 1s 102us/step - loss: 0.3475 - accuracy: 0.8584\n",
      "Epoch 18/50\n",
      "8000/8000 [==============================] - 1s 99us/step - loss: 0.3455 - accuracy: 0.8599\n",
      "Epoch 19/50\n",
      "8000/8000 [==============================] - 1s 105us/step - loss: 0.3435 - accuracy: 0.8597\n",
      "Epoch 20/50\n",
      "8000/8000 [==============================] - 1s 90us/step - loss: 0.3445 - accuracy: 0.8590\n",
      "Epoch 21/50\n",
      "8000/8000 [==============================] - 1s 94us/step - loss: 0.3448 - accuracy: 0.8601\n",
      "Epoch 22/50\n",
      "8000/8000 [==============================] - 1s 93us/step - loss: 0.3421 - accuracy: 0.8596\n",
      "Epoch 23/50\n",
      "8000/8000 [==============================] - 1s 97us/step - loss: 0.3427 - accuracy: 0.8615\n",
      "Epoch 24/50\n",
      "8000/8000 [==============================] - 1s 93us/step - loss: 0.3413 - accuracy: 0.8566\n",
      "Epoch 25/50\n",
      "8000/8000 [==============================] - 1s 95us/step - loss: 0.3425 - accuracy: 0.8543\n",
      "Epoch 26/50\n",
      "8000/8000 [==============================] - 1s 97us/step - loss: 0.3407 - accuracy: 0.8501\n",
      "Epoch 27/50\n",
      "8000/8000 [==============================] - 1s 108us/step - loss: 0.3798 - accuracy: 0.8428\n",
      "Epoch 28/50\n",
      "8000/8000 [==============================] - 1s 107us/step - loss: 0.3528 - accuracy: 0.8520\n",
      "Epoch 29/50\n",
      "8000/8000 [==============================] - 1s 100us/step - loss: 0.3469 - accuracy: 0.8555\n",
      "Epoch 30/50\n",
      "8000/8000 [==============================] - 1s 95us/step - loss: 0.3433 - accuracy: 0.8601\n",
      "Epoch 31/50\n",
      "8000/8000 [==============================] - 1s 96us/step - loss: 0.3411 - accuracy: 0.8566\n",
      "Epoch 32/50\n",
      "8000/8000 [==============================] - 1s 100us/step - loss: 0.3397 - accuracy: 0.8546\n",
      "Epoch 33/50\n",
      "8000/8000 [==============================] - 1s 99us/step - loss: 0.3404 - accuracy: 0.8545\n",
      "Epoch 34/50\n",
      "8000/8000 [==============================] - 1s 95us/step - loss: 0.3398 - accuracy: 0.8537\n",
      "Epoch 35/50\n",
      "8000/8000 [==============================] - 1s 96us/step - loss: 0.3397 - accuracy: 0.8534\n",
      "Epoch 36/50\n",
      "8000/8000 [==============================] - 1s 99us/step - loss: 0.3400 - accuracy: 0.8528\n",
      "Epoch 37/50\n",
      "8000/8000 [==============================] - 1s 98us/step - loss: 0.3393 - accuracy: 0.8519\n",
      "Epoch 38/50\n",
      "8000/8000 [==============================] - 1s 101us/step - loss: 0.3392 - accuracy: 0.8531\n",
      "Epoch 39/50\n",
      "8000/8000 [==============================] - 1s 111us/step - loss: 0.3398 - accuracy: 0.8535\n",
      "Epoch 40/50\n",
      "8000/8000 [==============================] - 1s 107us/step - loss: 0.3421 - accuracy: 0.8525\n",
      "Epoch 41/50\n",
      "8000/8000 [==============================] - 1s 104us/step - loss: 0.3402 - accuracy: 0.8522\n",
      "Epoch 42/50\n",
      "8000/8000 [==============================] - 1s 98us/step - loss: 0.3395 - accuracy: 0.8518\n",
      "Epoch 43/50\n",
      "8000/8000 [==============================] - 1s 99us/step - loss: 0.3390 - accuracy: 0.8520\n",
      "Epoch 44/50\n",
      "8000/8000 [==============================] - 1s 97us/step - loss: 0.3406 - accuracy: 0.8525\n",
      "Epoch 45/50\n",
      "8000/8000 [==============================] - 1s 99us/step - loss: 0.3391 - accuracy: 0.8525\n",
      "Epoch 46/50\n",
      "8000/8000 [==============================] - 1s 96us/step - loss: 0.3411 - accuracy: 0.8511\n",
      "Epoch 47/50\n",
      "8000/8000 [==============================] - 1s 105us/step - loss: 0.3393 - accuracy: 0.8499\n",
      "Epoch 48/50\n",
      "8000/8000 [==============================] - 1s 104us/step - loss: 0.3389 - accuracy: 0.8511\n",
      "Epoch 49/50\n",
      "8000/8000 [==============================] - 1s 113us/step - loss: 0.3434 - accuracy: 0.8516\n",
      "Epoch 50/50\n",
      "8000/8000 [==============================] - 1s 109us/step - loss: 0.3435 - accuracy: 0.8511\n"
     ]
    },
    {
     "data": {
      "text/plain": [
       "<keras.callbacks.callbacks.History at 0x7f2080e62f60>"
      ]
     },
     "execution_count": 24,
     "metadata": {},
     "output_type": "execute_result"
    }
   ],
   "source": [
    "classifier.fit(X_train, y_train, batch_size = 20, epochs = 50)"
   ]
  },
  {
   "cell_type": "code",
   "execution_count": 25,
   "metadata": {},
   "outputs": [],
   "source": [
    "# Part 3 - Making predictions and evaluating the model\n",
    "\n",
    "# Predicting the Test set results"
   ]
  },
  {
   "cell_type": "code",
   "execution_count": 26,
   "metadata": {},
   "outputs": [],
   "source": [
    "y_pred = classifier.predict(X_test)\n",
    "y_pred = (y_pred > 0.5)"
   ]
  },
  {
   "cell_type": "code",
   "execution_count": 27,
   "metadata": {},
   "outputs": [],
   "source": [
    "# Making the Confusion Matrix"
   ]
  },
  {
   "cell_type": "code",
   "execution_count": 28,
   "metadata": {},
   "outputs": [],
   "source": [
    "from sklearn.metrics import confusion_matrix\n",
    "cm = confusion_matrix(y_test, y_pred)"
   ]
  },
  {
   "cell_type": "code",
   "execution_count": null,
   "metadata": {},
   "outputs": [],
   "source": []
  }
 ],
 "metadata": {
  "kernelspec": {
   "display_name": "Python 3",
   "language": "python",
   "name": "python3"
  },
  "language_info": {
   "codemirror_mode": {
    "name": "ipython",
    "version": 3
   },
   "file_extension": ".py",
   "mimetype": "text/x-python",
   "name": "python",
   "nbconvert_exporter": "python",
   "pygments_lexer": "ipython3",
   "version": "3.7.3"
  }
 },
 "nbformat": 4,
 "nbformat_minor": 2
}
