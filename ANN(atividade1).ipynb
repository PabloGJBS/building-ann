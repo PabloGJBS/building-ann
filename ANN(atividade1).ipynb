{
 "cells": [
  {
   "cell_type": "markdown",
   "metadata": {},
   "source": [
    "# REDES NEURAIS ARTIFICIAIS\n",
    "\n",
    "[Aula 3 de Deep Learning](http://bit.ly/dn-unb03) da Engenharia de Software da UnB"
   ]
  },
  {
   "cell_type": "code",
   "execution_count": 1,
   "metadata": {},
   "outputs": [
    {
     "name": "stdout",
     "output_type": "stream",
     "text": [
      "Collecting git+git://github.com/Theano/Theano.git\n",
      "  Cloning git://github.com/Theano/Theano.git to /tmp/pip-req-build-outdntgu\n",
      "  Running command git clone -q git://github.com/Theano/Theano.git /tmp/pip-req-build-outdntgu\n",
      "Building wheels for collected packages: Theano\n",
      "  Building wheel for Theano (setup.py) ... \u001b[?25ldone\n",
      "\u001b[?25h  Created wheel for Theano: filename=Theano-1.0.4+23.g630974a7b-cp37-none-any.whl size=2667498 sha256=ca58ff0441a1989f00e44f73f4a08ab98648d911c71319c1ca2fb9be7420f763\n",
      "  Stored in directory: /tmp/pip-ephem-wheel-cache-iey6qb0z/wheels/ae/32/7c/62beb8371953eb20c271b3bac7d0e56e1a2020d46994346b52\n",
      "Successfully built Theano\n",
      "Installing collected packages: Theano\n",
      "  Found existing installation: Theano 1.0.4+23.g630974a7b\n",
      "    Uninstalling Theano-1.0.4+23.g630974a7b:\n",
      "      Successfully uninstalled Theano-1.0.4+23.g630974a7b\n",
      "Successfully installed Theano-1.0.4+23.g630974a7b\n",
      "Collecting tensorflow\n",
      "  Using cached https://files.pythonhosted.org/packages/2a/5c/f1d66de5dde6f3ff528f6ea1fd0757a0e594d17debb3ec7f82daa967ea9a/tensorflow-2.0.0-cp37-cp37m-manylinux2010_x86_64.whl\n",
      "Requirement already satisfied, skipping upgrade: absl-py>=0.7.0 in /home/kgd/.local/lib/python3.7/site-packages (from tensorflow) (0.8.0)\n",
      "Requirement already satisfied, skipping upgrade: six>=1.10.0 in /usr/lib/python3.7/site-packages (from tensorflow) (1.12.0)\n",
      "Collecting tensorboard<2.1.0,>=2.0.0 (from tensorflow)\n",
      "  Using cached https://files.pythonhosted.org/packages/76/54/99b9d5d52d5cb732f099baaaf7740403e83fe6b0cedde940fabd2b13d75a/tensorboard-2.0.2-py3-none-any.whl\n",
      "Collecting tensorflow-estimator<2.1.0,>=2.0.0 (from tensorflow)\n",
      "  Using cached https://files.pythonhosted.org/packages/fc/08/8b927337b7019c374719145d1dceba21a8bb909b93b1ad6f8fb7d22c1ca1/tensorflow_estimator-2.0.1-py2.py3-none-any.whl\n",
      "Requirement already satisfied, skipping upgrade: astor>=0.6.0 in /home/kgd/.local/lib/python3.7/site-packages (from tensorflow) (0.8.0)\n",
      "Requirement already satisfied, skipping upgrade: protobuf>=3.6.1 in /home/kgd/.local/lib/python3.7/site-packages (from tensorflow) (3.9.1)\n",
      "Collecting wrapt>=1.11.1 (from tensorflow)\n",
      "Requirement already satisfied, skipping upgrade: keras-preprocessing>=1.0.5 in /home/kgd/.local/lib/python3.7/site-packages (from tensorflow) (1.1.0)\n",
      "Collecting opt-einsum>=2.3.2 (from tensorflow)\n",
      "Requirement already satisfied, skipping upgrade: numpy<2.0,>=1.16.0 in /home/kgd/.local/lib/python3.7/site-packages (from tensorflow) (1.16.2)\n",
      "Requirement already satisfied, skipping upgrade: grpcio>=1.8.6 in /home/kgd/.local/lib/python3.7/site-packages (from tensorflow) (1.23.0)\n",
      "Requirement already satisfied, skipping upgrade: keras-applications>=1.0.8 in /home/kgd/.local/lib/python3.7/site-packages (from tensorflow) (1.0.8)\n",
      "Requirement already satisfied, skipping upgrade: wheel>=0.26 in /usr/lib/python3.7/site-packages (from tensorflow) (0.33.6)\n",
      "Collecting gast==0.2.2 (from tensorflow)\n",
      "Requirement already satisfied, skipping upgrade: termcolor>=1.1.0 in /home/kgd/.local/lib/python3.7/site-packages (from tensorflow) (1.1.0)\n",
      "Collecting google-pasta>=0.1.6 (from tensorflow)\n",
      "  Using cached https://files.pythonhosted.org/packages/c3/fd/1e86bc4837cc9a3a5faf3db9b1854aa04ad35b5f381f9648fbe81a6f94e4/google_pasta-0.1.8-py3-none-any.whl\n",
      "Requirement already satisfied, skipping upgrade: werkzeug>=0.11.15 in /usr/lib/python3.7/site-packages (from tensorboard<2.1.0,>=2.0.0->tensorflow) (0.16.0)\n",
      "Requirement already satisfied, skipping upgrade: markdown>=2.6.8 in /home/kgd/.local/lib/python3.7/site-packages (from tensorboard<2.1.0,>=2.0.0->tensorflow) (3.1.1)\n",
      "Collecting google-auth-oauthlib<0.5,>=0.4.1 (from tensorboard<2.1.0,>=2.0.0->tensorflow)\n",
      "  Using cached https://files.pythonhosted.org/packages/7b/b8/88def36e74bee9fce511c9519571f4e485e890093ab7442284f4ffaef60b/google_auth_oauthlib-0.4.1-py2.py3-none-any.whl\n",
      "Requirement already satisfied, skipping upgrade: requests<3,>=2.21.0 in /usr/lib/python3.7/site-packages (from tensorboard<2.1.0,>=2.0.0->tensorflow) (2.22.0)\n",
      "Collecting google-auth<2,>=1.6.3 (from tensorboard<2.1.0,>=2.0.0->tensorflow)\n",
      "  Using cached https://files.pythonhosted.org/packages/7b/cb/786dc53d93494784935a62947643b48250b84a882474e714f9af5e1a1928/google_auth-1.7.1-py2.py3-none-any.whl\n",
      "Requirement already satisfied, skipping upgrade: setuptools>=41.0.0 in /usr/lib/python3.7/site-packages (from tensorboard<2.1.0,>=2.0.0->tensorflow) (41.2.0)\n",
      "Requirement already satisfied, skipping upgrade: h5py in /home/kgd/.local/lib/python3.7/site-packages (from keras-applications>=1.0.8->tensorflow) (2.10.0)\n",
      "Collecting requests-oauthlib>=0.7.0 (from google-auth-oauthlib<0.5,>=0.4.1->tensorboard<2.1.0,>=2.0.0->tensorflow)\n",
      "  Using cached https://files.pythonhosted.org/packages/a3/12/b92740d845ab62ea4edf04d2f4164d82532b5a0b03836d4d4e71c6f3d379/requests_oauthlib-1.3.0-py2.py3-none-any.whl\n",
      "Requirement already satisfied, skipping upgrade: chardet>=3.0.2 in /usr/lib/python3.7/site-packages (from requests<3,>=2.21.0->tensorboard<2.1.0,>=2.0.0->tensorflow) (3.0.4)\n",
      "Requirement already satisfied, skipping upgrade: idna>=2.5 in /usr/lib/python3.7/site-packages (from requests<3,>=2.21.0->tensorboard<2.1.0,>=2.0.0->tensorflow) (2.8)\n",
      "Requirement already satisfied, skipping upgrade: urllib3>=1.21.1 in /usr/lib/python3.7/site-packages (from requests<3,>=2.21.0->tensorboard<2.1.0,>=2.0.0->tensorflow) (1.25.6)\n",
      "Collecting cachetools<3.2,>=2.0.0 (from google-auth<2,>=1.6.3->tensorboard<2.1.0,>=2.0.0->tensorflow)\n",
      "  Using cached https://files.pythonhosted.org/packages/2f/a6/30b0a0bef12283e83e58c1d6e7b5aabc7acfc4110df81a4471655d33e704/cachetools-3.1.1-py2.py3-none-any.whl\n",
      "Collecting pyasn1-modules>=0.2.1 (from google-auth<2,>=1.6.3->tensorboard<2.1.0,>=2.0.0->tensorflow)\n",
      "  Using cached https://files.pythonhosted.org/packages/52/50/bb4cefca37da63a0c52218ba2cb1b1c36110d84dcbae8aa48cd67c5e95c2/pyasn1_modules-0.2.7-py2.py3-none-any.whl\n",
      "Collecting rsa<4.1,>=3.1.4 (from google-auth<2,>=1.6.3->tensorboard<2.1.0,>=2.0.0->tensorflow)\n",
      "  Using cached https://files.pythonhosted.org/packages/02/e5/38518af393f7c214357079ce67a317307936896e961e35450b70fad2a9cf/rsa-4.0-py2.py3-none-any.whl\n",
      "Collecting oauthlib>=3.0.0 (from requests-oauthlib>=0.7.0->google-auth-oauthlib<0.5,>=0.4.1->tensorboard<2.1.0,>=2.0.0->tensorflow)\n",
      "  Using cached https://files.pythonhosted.org/packages/05/57/ce2e7a8fa7c0afb54a0581b14a65b56e62b5759dbc98e80627142b8a3704/oauthlib-3.1.0-py2.py3-none-any.whl\n",
      "Requirement already satisfied, skipping upgrade: pyasn1<0.5.0,>=0.4.6 in /usr/lib/python3.7/site-packages (from pyasn1-modules>=0.2.1->google-auth<2,>=1.6.3->tensorboard<2.1.0,>=2.0.0->tensorflow) (0.4.7)\n",
      "\u001b[31mERROR: tensorboard 2.0.2 has requirement grpcio>=1.24.3, but you'll have grpcio 1.23.0 which is incompatible.\u001b[0m\n",
      "Installing collected packages: cachetools, pyasn1-modules, rsa, google-auth, oauthlib, requests-oauthlib, google-auth-oauthlib, tensorboard, tensorflow-estimator, wrapt, opt-einsum, gast, google-pasta, tensorflow\n",
      "  Found existing installation: tensorboard 1.13.1\n",
      "    Uninstalling tensorboard-1.13.1:\n",
      "      Successfully uninstalled tensorboard-1.13.1\n",
      "  Found existing installation: tensorflow-estimator 1.13.0\n",
      "    Uninstalling tensorflow-estimator-1.13.0:\n",
      "      Successfully uninstalled tensorflow-estimator-1.13.0\n",
      "  Found existing installation: gast 0.3.1\n",
      "    Uninstalling gast-0.3.1:\n",
      "      Successfully uninstalled gast-0.3.1\n",
      "  Found existing installation: tensorflow 1.13.1\n",
      "    Uninstalling tensorflow-1.13.1:\n",
      "      Successfully uninstalled tensorflow-1.13.1\n",
      "Successfully installed cachetools-3.1.1 gast-0.2.2 google-auth-1.7.1 google-auth-oauthlib-0.4.1 google-pasta-0.1.8 oauthlib-3.1.0 opt-einsum-3.1.0 pyasn1-modules-0.2.7 requests-oauthlib-1.3.0 rsa-4.0 tensorboard-2.0.2 tensorflow-2.0.0 tensorflow-estimator-2.0.1 wrapt-1.11.2\n",
      "Collecting keras\n",
      "  Using cached https://files.pythonhosted.org/packages/ad/fd/6bfe87920d7f4fd475acd28500a42482b6b84479832bdc0fe9e589a60ceb/Keras-2.3.1-py2.py3-none-any.whl\n",
      "Requirement already satisfied, skipping upgrade: h5py in /home/kgd/.local/lib/python3.7/site-packages (from keras) (2.10.0)\n",
      "Requirement already satisfied, skipping upgrade: keras-applications>=1.0.6 in /home/kgd/.local/lib/python3.7/site-packages (from keras) (1.0.8)\n",
      "Requirement already satisfied, skipping upgrade: scipy>=0.14 in /home/kgd/.local/lib/python3.7/site-packages (from keras) (1.3.1)\n",
      "Requirement already satisfied, skipping upgrade: keras-preprocessing>=1.0.5 in /home/kgd/.local/lib/python3.7/site-packages (from keras) (1.1.0)\n"
     ]
    },
    {
     "name": "stdout",
     "output_type": "stream",
     "text": [
      "Requirement already satisfied, skipping upgrade: six>=1.9.0 in /usr/lib/python3.7/site-packages (from keras) (1.12.0)\n",
      "Requirement already satisfied, skipping upgrade: pyyaml in /home/kgd/.local/lib/python3.7/site-packages (from keras) (5.1.2)\n",
      "Requirement already satisfied, skipping upgrade: numpy>=1.9.1 in /home/kgd/.local/lib/python3.7/site-packages (from keras) (1.16.2)\n",
      "Installing collected packages: keras\n",
      "  Found existing installation: Keras 2.2.4\n",
      "    Uninstalling Keras-2.2.4:\n",
      "      Successfully uninstalled Keras-2.2.4\n",
      "Successfully installed keras-2.3.1\n",
      "Collecting pip\n",
      "  Using cached https://files.pythonhosted.org/packages/00/b6/9cfa56b4081ad13874b0c6f96af8ce16cfbc1cb06bedf8e9164ce5551ec1/pip-19.3.1-py2.py3-none-any.whl\n",
      "Collecting pandas\n",
      "  Using cached https://files.pythonhosted.org/packages/63/e0/a1b39cdcb2c391f087a1538bc8a6d62a82d0439693192aef541d7b123769/pandas-0.25.3-cp37-cp37m-manylinux1_x86_64.whl\n",
      "Collecting numpy\n",
      "  Using cached https://files.pythonhosted.org/packages/9b/af/4fc72f9d38e43b092e91e5b8cb9956d25b2e3ff8c75aed95df5569e4734e/numpy-1.17.4-cp37-cp37m-manylinux1_x86_64.whl\n",
      "Collecting matplotlib\n",
      "  Using cached https://files.pythonhosted.org/packages/61/42/3e92d7aa64295483fbca20a86c89b34d0cb43cffaadaffe028793902d790/matplotlib-3.1.2-cp37-cp37m-manylinux1_x86_64.whl\n",
      "Requirement already up-to-date: sklearn in /home/kgd/.local/lib/python3.7/site-packages (0.0)\n",
      "Requirement already satisfied, skipping upgrade: pytz>=2017.2 in /usr/lib/python3.7/site-packages (from pandas) (2019.3)\n",
      "Requirement already satisfied, skipping upgrade: python-dateutil>=2.6.1 in /home/kgd/.local/lib/python3.7/site-packages (from pandas) (2.8.0)\n",
      "Requirement already satisfied, skipping upgrade: kiwisolver>=1.0.1 in /home/kgd/.local/lib/python3.7/site-packages (from matplotlib) (1.1.0)\n",
      "Requirement already satisfied, skipping upgrade: pyparsing!=2.0.4,!=2.1.2,!=2.1.6,>=2.0.1 in /usr/lib/python3.7/site-packages (from matplotlib) (2.4.4)\n",
      "Requirement already satisfied, skipping upgrade: cycler>=0.10 in /home/kgd/.local/lib/python3.7/site-packages (from matplotlib) (0.10.0)\n",
      "Requirement already satisfied, skipping upgrade: scikit-learn in /home/kgd/.local/lib/python3.7/site-packages (from sklearn) (0.21.3)\n",
      "Requirement already satisfied, skipping upgrade: six>=1.5 in /usr/lib/python3.7/site-packages (from python-dateutil>=2.6.1->pandas) (1.12.0)\n",
      "Requirement already satisfied, skipping upgrade: setuptools in /usr/lib/python3.7/site-packages (from kiwisolver>=1.0.1->matplotlib) (41.2.0)\n",
      "Requirement already satisfied, skipping upgrade: scipy>=0.17.0 in /home/kgd/.local/lib/python3.7/site-packages (from scikit-learn->sklearn) (1.3.1)\n",
      "Requirement already satisfied, skipping upgrade: joblib>=0.11 in /home/kgd/.local/lib/python3.7/site-packages (from scikit-learn->sklearn) (0.13.2)\n",
      "\u001b[31mERROR: tensorboard 2.0.2 has requirement grpcio>=1.24.3, but you'll have grpcio 1.23.0 which is incompatible.\u001b[0m\n",
      "Installing collected packages: pip, numpy, pandas, matplotlib\n",
      "  Found existing installation: numpy 1.16.2\n",
      "    Uninstalling numpy-1.16.2:\n",
      "      Successfully uninstalled numpy-1.16.2\n",
      "  Found existing installation: pandas 0.24.2\n",
      "    Uninstalling pandas-0.24.2:\n",
      "      Successfully uninstalled pandas-0.24.2\n",
      "  Found existing installation: matplotlib 2.0.0\n",
      "    Uninstalling matplotlib-2.0.0:\n",
      "      Successfully uninstalled matplotlib-2.0.0\n",
      "Successfully installed matplotlib-3.1.2 numpy-1.17.4 pandas-0.25.3 pip-19.3.1\n"
     ]
    }
   ],
   "source": [
    "# Installing Theano\n",
    "! pip install --upgrade --no-deps git+git://github.com/Theano/Theano.git --user\n",
    "\n",
    "# Installing Tensorflow\n",
    "! pip install --upgrade tensorflow --user\n",
    "\n",
    "# Installing Keras\n",
    "! pip install --upgrade keras --user\n",
    "\n",
    "# Install other packages\n",
    "! pip install --upgrade pip pandas numpy matplotlib sklearn --user"
   ]
  },
  {
   "cell_type": "markdown",
   "metadata": {},
   "source": [
    "# Parte 1 - Preprocessamento dos Dados"
   ]
  },
  {
   "cell_type": "markdown",
   "metadata": {},
   "source": [
    "### Importar as libs"
   ]
  },
  {
   "cell_type": "code",
   "execution_count": 2,
   "metadata": {},
   "outputs": [],
   "source": [
    "import numpy as np\n",
    "import matplotlib.pyplot as plt\n",
    "import pandas as pd"
   ]
  },
  {
   "cell_type": "markdown",
   "metadata": {},
   "source": [
    "### Importar o dataset"
   ]
  },
  {
   "cell_type": "code",
   "execution_count": 3,
   "metadata": {},
   "outputs": [
    {
     "name": "stdout",
     "output_type": "stream",
     "text": [
      "X >>\n",
      " [[619 'France' 'Female' ... 1 1 101348.88]\n",
      " [608 'Spain' 'Female' ... 0 1 112542.58]\n",
      " [502 'France' 'Female' ... 1 0 113931.57]\n",
      " ...\n",
      " [709 'France' 'Female' ... 0 1 42085.58]\n",
      " [772 'Germany' 'Male' ... 1 0 92888.52]\n",
      " [792 'France' 'Female' ... 1 0 38190.78]]\n",
      "y >>\n",
      " [1 0 1 ... 1 1 0]\n"
     ]
    }
   ],
   "source": [
    "dataset = pd.read_csv('Churn_Modelling.csv')\n",
    "X = dataset.iloc[:, 3:13].values\n",
    "y = dataset.iloc[:, 13].values\n",
    "print(\"X >>\\n\",X)\n",
    "print(\"y >>\\n\",y)"
   ]
  },
  {
   "cell_type": "markdown",
   "metadata": {},
   "source": [
    "### Transformando os dados categóricos\n"
   ]
  },
  {
   "cell_type": "code",
   "execution_count": 4,
   "metadata": {},
   "outputs": [
    {
     "name": "stdout",
     "output_type": "stream",
     "text": [
      "X >>\n",
      " [[0.0000000e+00 0.0000000e+00 6.1900000e+02 ... 1.0000000e+00\n",
      "  1.0000000e+00 1.0134888e+05]\n",
      " [0.0000000e+00 1.0000000e+00 6.0800000e+02 ... 0.0000000e+00\n",
      "  1.0000000e+00 1.1254258e+05]\n",
      " [0.0000000e+00 0.0000000e+00 5.0200000e+02 ... 1.0000000e+00\n",
      "  0.0000000e+00 1.1393157e+05]\n",
      " ...\n",
      " [0.0000000e+00 0.0000000e+00 7.0900000e+02 ... 0.0000000e+00\n",
      "  1.0000000e+00 4.2085580e+04]\n",
      " [1.0000000e+00 0.0000000e+00 7.7200000e+02 ... 1.0000000e+00\n",
      "  0.0000000e+00 9.2888520e+04]\n",
      " [0.0000000e+00 0.0000000e+00 7.9200000e+02 ... 1.0000000e+00\n",
      "  0.0000000e+00 3.8190780e+04]]\n"
     ]
    },
    {
     "name": "stderr",
     "output_type": "stream",
     "text": [
      "/home/kgd/.local/lib/python3.7/site-packages/sklearn/preprocessing/_encoders.py:415: FutureWarning: The handling of integer data will change in version 0.22. Currently, the categories are determined based on the range [0, max(values)], while in the future they will be determined based on the unique values.\n",
      "If you want the future behaviour and silence this warning, you can specify \"categories='auto'\".\n",
      "In case you used a LabelEncoder before this OneHotEncoder to convert the categories to integers, then you can now use the OneHotEncoder directly.\n",
      "  warnings.warn(msg, FutureWarning)\n",
      "/home/kgd/.local/lib/python3.7/site-packages/sklearn/preprocessing/_encoders.py:451: DeprecationWarning: The 'categorical_features' keyword is deprecated in version 0.20 and will be removed in 0.22. You can use the ColumnTransformer instead.\n",
      "  \"use the ColumnTransformer instead.\", DeprecationWarning)\n"
     ]
    }
   ],
   "source": [
    "from sklearn.preprocessing import LabelEncoder, OneHotEncoder\n",
    "labelencoder_X_1 = LabelEncoder()\n",
    "X[:, 1] = labelencoder_X_1.fit_transform(X[:, 1])\n",
    "labelencoder_X_2 = LabelEncoder()\n",
    "X[:, 2] = labelencoder_X_2.fit_transform(X[:, 2])\n",
    "onehotencoder = OneHotEncoder(categorical_features = [1])\n",
    "X = onehotencoder.fit_transform(X).toarray()\n",
    "X = X[:, 1:]\n",
    "print(\"X >>\\n\",X)"
   ]
  },
  {
   "cell_type": "markdown",
   "metadata": {},
   "source": [
    "# Dividindo o dataset em conjunto de treinamento e conjunto de teste"
   ]
  },
  {
   "cell_type": "code",
   "execution_count": 5,
   "metadata": {},
   "outputs": [],
   "source": [
    "from sklearn.model_selection import train_test_split\n",
    "X_train, X_test, y_train, y_test = train_test_split(X, y, test_size = 0.2, random_state = 0)"
   ]
  },
  {
   "cell_type": "markdown",
   "metadata": {},
   "source": [
    "# Feature Scaling"
   ]
  },
  {
   "cell_type": "code",
   "execution_count": 10,
   "metadata": {},
   "outputs": [],
   "source": [
    "from sklearn.preprocessing import StandardScaler\n",
    "sc = StandardScaler()\n",
    "X_train = sc.fit_transform(X_train)\n",
    "X_test = sc.transform(X_test)"
   ]
  },
  {
   "cell_type": "markdown",
   "metadata": {},
   "source": [
    "---\n",
    "# Parte 2 -Vamos construir uma ANN!\n",
    "\n",
    "## Importando o Keras\n"
   ]
  },
  {
   "cell_type": "code",
   "execution_count": 11,
   "metadata": {},
   "outputs": [],
   "source": [
    "import keras\n",
    "from keras.models import Sequential\n",
    "from keras.layers import Dense, Activation, Dropout"
   ]
  },
  {
   "cell_type": "code",
   "execution_count": 16,
   "metadata": {},
   "outputs": [],
   "source": [
    "# Initialising the ANN\n",
    "classifier = Sequential()\n",
    "\n",
    "# Adding the input layer and the first hidden layer\n",
    "#classifier.add(Dense(units = 6, kernel_initializer = 'uniform', activation = 'relu', input_dim = 11))\n",
    "classifier.add(Dense(256, input_dim=11, activation = 'relu'))\n",
    "\n",
    "classifier.add(Dropout(0.5))\n",
    "classifier.add(Dense(10, activation = 'softmax'))\n",
    "\n",
    "classifier.add(Dropout(0.5))\n",
    "classifier.add(Dense(1, activation ='sigmoid'))\n",
    "\n",
    "# Adding the second hidden layer\n",
    "#classifier.add(Dense(units = 6, kernel_initializer = 'uniform', activation = 'relu'))\n",
    "\n",
    "# Adding the output layer\n",
    "#classifier.add(Dense(units = 1, kernel_initializer = 'uniform', activation = 'sigmoid'))\n",
    "\n",
    "# Compiling the ANN\n",
    "classifier.compile(optimizer = 'adam', loss = 'binary_crossentropy', metrics = ['accuracy'])"
   ]
  },
  {
   "cell_type": "markdown",
   "metadata": {},
   "source": [
    "# Ajustando a ANN ao conjunto de treinamento"
   ]
  },
  {
   "cell_type": "code",
   "execution_count": 17,
   "metadata": {},
   "outputs": [
    {
     "name": "stdout",
     "output_type": "stream",
     "text": [
      "Epoch 1/100\n",
      "8000/8000 [==============================] - 2s 256us/step - loss: 0.5309 - accuracy: 0.7910\n",
      "Epoch 2/100\n",
      "8000/8000 [==============================] - 2s 246us/step - loss: 0.4689 - accuracy: 0.8020\n",
      "Epoch 3/100\n",
      "8000/8000 [==============================] - 2s 234us/step - loss: 0.4416 - accuracy: 0.8100\n",
      "Epoch 4/100\n",
      "8000/8000 [==============================] - 2s 267us/step - loss: 0.4355 - accuracy: 0.8096\n",
      "Epoch 5/100\n",
      "8000/8000 [==============================] - 2s 260us/step - loss: 0.4240 - accuracy: 0.8149\n",
      "Epoch 6/100\n",
      "8000/8000 [==============================] - 2s 244us/step - loss: 0.4155 - accuracy: 0.8194\n",
      "Epoch 7/100\n",
      "8000/8000 [==============================] - 2s 250us/step - loss: 0.4120 - accuracy: 0.8245\n",
      "Epoch 8/100\n",
      "8000/8000 [==============================] - 2s 287us/step - loss: 0.4111 - accuracy: 0.8170\n",
      "Epoch 9/100\n",
      "8000/8000 [==============================] - 3s 358us/step - loss: 0.3999 - accuracy: 0.8265\n",
      "Epoch 10/100\n",
      "8000/8000 [==============================] - 3s 317us/step - loss: 0.4029 - accuracy: 0.8244\n",
      "Epoch 11/100\n",
      "8000/8000 [==============================] - 2s 275us/step - loss: 0.4041 - accuracy: 0.8251\n",
      "Epoch 12/100\n",
      "8000/8000 [==============================] - 2s 262us/step - loss: 0.3965 - accuracy: 0.8282\n",
      "Epoch 13/100\n",
      "8000/8000 [==============================] - 3s 393us/step - loss: 0.4006 - accuracy: 0.8282\n",
      "Epoch 14/100\n",
      "8000/8000 [==============================] - 3s 385us/step - loss: 0.3976 - accuracy: 0.8335\n",
      "Epoch 15/100\n",
      "8000/8000 [==============================] - 2s 267us/step - loss: 0.3984 - accuracy: 0.8310\n",
      "Epoch 16/100\n",
      "8000/8000 [==============================] - 2s 258us/step - loss: 0.3965 - accuracy: 0.8279\n",
      "Epoch 17/100\n",
      "8000/8000 [==============================] - 2s 251us/step - loss: 0.3926 - accuracy: 0.8321\n",
      "Epoch 18/100\n",
      "8000/8000 [==============================] - 2s 250us/step - loss: 0.3977 - accuracy: 0.8309\n",
      "Epoch 19/100\n",
      "8000/8000 [==============================] - 2s 258us/step - loss: 0.3901 - accuracy: 0.8341\n",
      "Epoch 20/100\n",
      "8000/8000 [==============================] - 2s 247us/step - loss: 0.3934 - accuracy: 0.8309\n",
      "Epoch 21/100\n",
      "8000/8000 [==============================] - 2s 243us/step - loss: 0.3904 - accuracy: 0.8360\n",
      "Epoch 22/100\n",
      "8000/8000 [==============================] - 2s 247us/step - loss: 0.3888 - accuracy: 0.8319\n",
      "Epoch 23/100\n",
      "8000/8000 [==============================] - 2s 246us/step - loss: 0.3912 - accuracy: 0.8341\n",
      "Epoch 24/100\n",
      "8000/8000 [==============================] - 2s 227us/step - loss: 0.3852 - accuracy: 0.8366\n",
      "Epoch 25/100\n",
      "8000/8000 [==============================] - 2s 238us/step - loss: 0.3864 - accuracy: 0.8374\n",
      "Epoch 26/100\n",
      "8000/8000 [==============================] - 3s 325us/step - loss: 0.3847 - accuracy: 0.8379\n",
      "Epoch 27/100\n",
      "8000/8000 [==============================] - 2s 287us/step - loss: 0.3857 - accuracy: 0.8380\n",
      "Epoch 28/100\n",
      "8000/8000 [==============================] - 2s 292us/step - loss: 0.3827 - accuracy: 0.8380\n",
      "Epoch 29/100\n",
      "8000/8000 [==============================] - 3s 395us/step - loss: 0.3865 - accuracy: 0.8370\n",
      "Epoch 30/100\n",
      "8000/8000 [==============================] - 3s 390us/step - loss: 0.3876 - accuracy: 0.8378\n",
      "Epoch 31/100\n",
      "8000/8000 [==============================] - 2s 270us/step - loss: 0.3881 - accuracy: 0.8371\n",
      "Epoch 32/100\n",
      "8000/8000 [==============================] - 3s 407us/step - loss: 0.3826 - accuracy: 0.8378\n",
      "Epoch 33/100\n",
      "8000/8000 [==============================] - 2s 273us/step - loss: 0.3824 - accuracy: 0.8410\n",
      "Epoch 34/100\n",
      "8000/8000 [==============================] - 2s 244us/step - loss: 0.3805 - accuracy: 0.8406\n",
      "Epoch 35/100\n",
      "8000/8000 [==============================] - 2s 255us/step - loss: 0.3783 - accuracy: 0.8372\n",
      "Epoch 36/100\n",
      "8000/8000 [==============================] - 2s 241us/step - loss: 0.3791 - accuracy: 0.8418\n",
      "Epoch 37/100\n",
      "8000/8000 [==============================] - 2s 277us/step - loss: 0.3821 - accuracy: 0.8421\n",
      "Epoch 38/100\n",
      "8000/8000 [==============================] - 2s 266us/step - loss: 0.3805 - accuracy: 0.8419\n",
      "Epoch 39/100\n",
      "8000/8000 [==============================] - 2s 245us/step - loss: 0.3762 - accuracy: 0.8419\n",
      "Epoch 40/100\n",
      "8000/8000 [==============================] - 2s 235us/step - loss: 0.3792 - accuracy: 0.8450\n",
      "Epoch 41/100\n",
      "8000/8000 [==============================] - 2s 245us/step - loss: 0.3851 - accuracy: 0.8363\n",
      "Epoch 42/100\n",
      "8000/8000 [==============================] - 2s 307us/step - loss: 0.3747 - accuracy: 0.8455\n",
      "Epoch 43/100\n",
      "8000/8000 [==============================] - 3s 391us/step - loss: 0.3789 - accuracy: 0.8446\n",
      "Epoch 44/100\n",
      "8000/8000 [==============================] - 3s 338us/step - loss: 0.3776 - accuracy: 0.8406\n",
      "Epoch 45/100\n",
      "8000/8000 [==============================] - 3s 367us/step - loss: 0.3826 - accuracy: 0.8419\n",
      "Epoch 46/100\n",
      "8000/8000 [==============================] - 4s 544us/step - loss: 0.3837 - accuracy: 0.8388\n",
      "Epoch 47/100\n",
      "8000/8000 [==============================] - 4s 530us/step - loss: 0.3807 - accuracy: 0.8419\n",
      "Epoch 48/100\n",
      "8000/8000 [==============================] - 3s 371us/step - loss: 0.3748 - accuracy: 0.8453\n",
      "Epoch 49/100\n",
      "8000/8000 [==============================] - 3s 355us/step - loss: 0.3779 - accuracy: 0.8406\n",
      "Epoch 50/100\n",
      "8000/8000 [==============================] - 3s 321us/step - loss: 0.3740 - accuracy: 0.8434\n",
      "Epoch 51/100\n",
      "8000/8000 [==============================] - 3s 339us/step - loss: 0.3791 - accuracy: 0.8395\n",
      "Epoch 52/100\n",
      "8000/8000 [==============================] - 3s 331us/step - loss: 0.3754 - accuracy: 0.8470\n",
      "Epoch 53/100\n",
      "8000/8000 [==============================] - 3s 313us/step - loss: 0.3711 - accuracy: 0.8468\n",
      "Epoch 54/100\n",
      "8000/8000 [==============================] - 2s 305us/step - loss: 0.3774 - accuracy: 0.8460\n",
      "Epoch 55/100\n",
      "8000/8000 [==============================] - 2s 300us/step - loss: 0.3679 - accuracy: 0.8485\n",
      "Epoch 56/100\n",
      "8000/8000 [==============================] - 2s 301us/step - loss: 0.3724 - accuracy: 0.8453\n",
      "Epoch 57/100\n",
      "8000/8000 [==============================] - 2s 190us/step - loss: 0.3745 - accuracy: 0.8425\n",
      "Epoch 58/100\n",
      "8000/8000 [==============================] - 2s 194us/step - loss: 0.3734 - accuracy: 0.8426\n",
      "Epoch 59/100\n",
      "8000/8000 [==============================] - 2s 191us/step - loss: 0.3690 - accuracy: 0.8468\n",
      "Epoch 60/100\n",
      "8000/8000 [==============================] - 2s 235us/step - loss: 0.3739 - accuracy: 0.8438\n",
      "Epoch 61/100\n",
      "8000/8000 [==============================] - 3s 323us/step - loss: 0.3773 - accuracy: 0.8428\n",
      "Epoch 62/100\n",
      "8000/8000 [==============================] - 2s 271us/step - loss: 0.3754 - accuracy: 0.8432\n",
      "Epoch 63/100\n",
      "8000/8000 [==============================] - 2s 268us/step - loss: 0.3737 - accuracy: 0.8459\n",
      "Epoch 64/100\n",
      "8000/8000 [==============================] - 2s 253us/step - loss: 0.3642 - accuracy: 0.8496\n",
      "Epoch 65/100\n",
      "8000/8000 [==============================] - 2s 274us/step - loss: 0.3711 - accuracy: 0.8435\n",
      "Epoch 66/100\n",
      "8000/8000 [==============================] - 2s 253us/step - loss: 0.3704 - accuracy: 0.8482\n",
      "Epoch 67/100\n",
      "8000/8000 [==============================] - 2s 259us/step - loss: 0.3727 - accuracy: 0.8474\n",
      "Epoch 68/100\n",
      "8000/8000 [==============================] - 2s 255us/step - loss: 0.3777 - accuracy: 0.8446\n",
      "Epoch 69/100\n",
      "8000/8000 [==============================] - 2s 253us/step - loss: 0.3673 - accuracy: 0.8481\n",
      "Epoch 70/100\n",
      "8000/8000 [==============================] - 2s 255us/step - loss: 0.3711 - accuracy: 0.8461\n",
      "Epoch 71/100\n",
      "8000/8000 [==============================] - 2s 249us/step - loss: 0.3697 - accuracy: 0.8478\n",
      "Epoch 72/100\n",
      "8000/8000 [==============================] - 2s 294us/step - loss: 0.3690 - accuracy: 0.8468\n",
      "Epoch 73/100\n",
      "8000/8000 [==============================] - 2s 252us/step - loss: 0.3628 - accuracy: 0.8496\n",
      "Epoch 74/100\n",
      "8000/8000 [==============================] - 2s 261us/step - loss: 0.3639 - accuracy: 0.8500\n",
      "Epoch 75/100\n",
      "8000/8000 [==============================] - 2s 298us/step - loss: 0.3663 - accuracy: 0.8475\n",
      "Epoch 76/100\n",
      "8000/8000 [==============================] - 2s 278us/step - loss: 0.3683 - accuracy: 0.8457\n",
      "Epoch 77/100\n",
      "8000/8000 [==============================] - 2s 275us/step - loss: 0.3681 - accuracy: 0.8472\n",
      "Epoch 78/100\n"
     ]
    },
    {
     "name": "stdout",
     "output_type": "stream",
     "text": [
      "8000/8000 [==============================] - 2s 246us/step - loss: 0.3680 - accuracy: 0.8481\n",
      "Epoch 79/100\n",
      "8000/8000 [==============================] - 2s 235us/step - loss: 0.3700 - accuracy: 0.8480\n",
      "Epoch 80/100\n",
      "8000/8000 [==============================] - 2s 239us/step - loss: 0.3673 - accuracy: 0.8475\n",
      "Epoch 81/100\n",
      "8000/8000 [==============================] - 2s 237us/step - loss: 0.3705 - accuracy: 0.8456\n",
      "Epoch 82/100\n",
      "8000/8000 [==============================] - 2s 267us/step - loss: 0.3654 - accuracy: 0.8501\n",
      "Epoch 83/100\n",
      "8000/8000 [==============================] - 3s 434us/step - loss: 0.3675 - accuracy: 0.8497\n",
      "Epoch 84/100\n",
      "8000/8000 [==============================] - 3s 315us/step - loss: 0.3681 - accuracy: 0.8479\n",
      "Epoch 85/100\n",
      "8000/8000 [==============================] - 3s 358us/step - loss: 0.3689 - accuracy: 0.8471\n",
      "Epoch 86/100\n",
      "8000/8000 [==============================] - 4s 504us/step - loss: 0.3735 - accuracy: 0.8461\n",
      "Epoch 87/100\n",
      "8000/8000 [==============================] - 3s 375us/step - loss: 0.3678 - accuracy: 0.8474\n",
      "Epoch 88/100\n",
      "8000/8000 [==============================] - 3s 314us/step - loss: 0.3722 - accuracy: 0.8454\n",
      "Epoch 89/100\n",
      "8000/8000 [==============================] - 3s 327us/step - loss: 0.3671 - accuracy: 0.8487\n",
      "Epoch 90/100\n",
      "8000/8000 [==============================] - 4s 471us/step - loss: 0.3638 - accuracy: 0.8516\n",
      "Epoch 91/100\n",
      "8000/8000 [==============================] - 3s 336us/step - loss: 0.3689 - accuracy: 0.8501\n",
      "Epoch 92/100\n",
      "8000/8000 [==============================] - 2s 263us/step - loss: 0.3660 - accuracy: 0.8485\n",
      "Epoch 93/100\n",
      "8000/8000 [==============================] - 2s 305us/step - loss: 0.3684 - accuracy: 0.8466\n",
      "Epoch 94/100\n",
      "8000/8000 [==============================] - 2s 238us/step - loss: 0.3638 - accuracy: 0.8530\n",
      "Epoch 95/100\n",
      "8000/8000 [==============================] - 2s 250us/step - loss: 0.3647 - accuracy: 0.8471\n",
      "Epoch 96/100\n",
      "8000/8000 [==============================] - 2s 272us/step - loss: 0.3583 - accuracy: 0.8514\n",
      "Epoch 97/100\n",
      "8000/8000 [==============================] - 2s 254us/step - loss: 0.3644 - accuracy: 0.8511\n",
      "Epoch 98/100\n",
      "8000/8000 [==============================] - 2s 261us/step - loss: 0.3666 - accuracy: 0.8495\n",
      "Epoch 99/100\n",
      "8000/8000 [==============================] - 2s 291us/step - loss: 0.3640 - accuracy: 0.8484\n",
      "Epoch 100/100\n",
      "8000/8000 [==============================] - 2s 286us/step - loss: 0.3639 - accuracy: 0.8485\n"
     ]
    },
    {
     "data": {
      "text/plain": [
       "<keras.callbacks.callbacks.History at 0x7f5b28625410>"
      ]
     },
     "execution_count": 17,
     "metadata": {},
     "output_type": "execute_result"
    }
   ],
   "source": [
    "classifier.fit(X_train, y_train, batch_size = 10, epochs = 100)"
   ]
  },
  {
   "cell_type": "markdown",
   "metadata": {},
   "source": [
    "# Parte 3 - Fazendo predições e avaliando o modelo\n",
    "\n",
    "## Prevendo os resultados com o conjunto de testes"
   ]
  },
  {
   "cell_type": "code",
   "execution_count": null,
   "metadata": {},
   "outputs": [],
   "source": [
    "y_pred = classifier.predict(X_test)\n",
    "y_pred = (y_pred > 0.5)"
   ]
  },
  {
   "cell_type": "markdown",
   "metadata": {},
   "source": [
    "# Criando uma Confusion Matrix"
   ]
  },
  {
   "cell_type": "code",
   "execution_count": null,
   "metadata": {},
   "outputs": [],
   "source": [
    "from sklearn.metrics import confusion_matrix\n",
    "cm = confusion_matrix(y_test, y_pred)\n",
    "print(cm)"
   ]
  },
  {
   "cell_type": "markdown",
   "metadata": {},
   "source": [
    "# Initiate activation function experimentation\n",
    "\n",
    "# Initialising the 2nd ANN"
   ]
  },
  {
   "cell_type": "code",
   "execution_count": null,
   "metadata": {},
   "outputs": [],
   "source": [
    "del classifier\n",
    "\n",
    "classifier = Sequential()\n",
    "\n",
    "classifier.add(Dense(units = 6, kernel_initializer = 'uniform', activation = 'sigmoid', input_dim = 11))\n",
    "\n",
    "classifier.add(Dense(units = 6, kernel_initializer = 'uniform', activation = 'sigmoid'))\n",
    "\n",
    "classifier.add(Dense(units = 1, kernel_initializer = 'uniform', activation = 'tanh'))\n",
    "\n",
    "classifier.compile(optimizer = 'adam', loss = 'binary_crossentropy', metrics = ['accuracy'])\n",
    "\n",
    "classifier.fit(X_train, y_train, batch_size = 10, epochs = 100)"
   ]
  },
  {
   "cell_type": "code",
   "execution_count": null,
   "metadata": {},
   "outputs": [],
   "source": [
    "y_pred = classifier.predict(X_test)\n",
    "y_pred = (y_pred > 0.5)"
   ]
  },
  {
   "cell_type": "markdown",
   "metadata": {},
   "source": [
    "# Making the Confusion Matrix"
   ]
  },
  {
   "cell_type": "code",
   "execution_count": null,
   "metadata": {},
   "outputs": [],
   "source": [
    "from sklearn.metrics import confusion_matrix\n",
    "cm = confusion_matrix(y_test, y_pred)\n",
    "print(cm)"
   ]
  },
  {
   "cell_type": "markdown",
   "metadata": {},
   "source": [
    "# Initialising the 3rd ANN"
   ]
  },
  {
   "cell_type": "code",
   "execution_count": null,
   "metadata": {},
   "outputs": [],
   "source": [
    "del classifier\n",
    "\n",
    "classifier = Sequential()\n",
    "\n",
    "classifier.add(Dense(units = 6, kernel_initializer = 'uniform', activation = 'sigmoid', input_dim = 11))\n",
    "\n",
    "classifier.add(Dense(units = 6, kernel_initializer = 'uniform', activation = 'relu'))\n",
    "\n",
    "classifier.add(Dense(units = 1, kernel_initializer = 'uniform', activation = 'sigmoid'))\n",
    "\n",
    "classifier.compile(optimizer = 'adam', loss = 'binary_crossentropy', metrics = ['accuracy'])\n",
    "\n",
    "classifier.fit(X_train, y_train, batch_size = 10, epochs = 100)"
   ]
  },
  {
   "cell_type": "code",
   "execution_count": null,
   "metadata": {},
   "outputs": [],
   "source": [
    "y_pred = classifier.predict(X_test)\n",
    "y_pred = (y_pred > 0.5)"
   ]
  },
  {
   "cell_type": "markdown",
   "metadata": {},
   "source": [
    "# Making the Confusion Matrix"
   ]
  },
  {
   "cell_type": "code",
   "execution_count": null,
   "metadata": {},
   "outputs": [],
   "source": [
    "from sklearn.metrics import confusion_matrix\n",
    "cm = confusion_matrix(y_test, y_pred)\n",
    "print(cm)"
   ]
  },
  {
   "cell_type": "markdown",
   "metadata": {},
   "source": [
    "---\n",
    "# Parte 4 - Evaluating, Improving and Tuning the ANN\n",
    "\n",
    "## Evaluating the ANN"
   ]
  },
  {
   "cell_type": "code",
   "execution_count": null,
   "metadata": {},
   "outputs": [],
   "source": [
    "from keras.wrappers.scikit_learn import KerasClassifier\n",
    "from sklearn.model_selection import cross_val_score\n",
    "from keras.models import Sequential\n",
    "from keras.layers import Dense\n",
    "\n",
    "def build_classifier():\n",
    "    classifier = Sequential()\n",
    "    classifier.add(Dense(units = 6, kernel_initializer = 'uniform', activation = 'relu', input_dim = 11))\n",
    "    classifier.add(Dense(units = 6, kernel_initializer = 'uniform', activation = 'relu'))\n",
    "    classifier.add(Dense(units = 1, kernel_initializer = 'uniform', activation = 'sigmoid'))\n",
    "    classifier.compile(optimizer = 'adam', loss = 'binary_crossentropy', metrics = ['accuracy'])\n",
    "    return classifier\n",
    "\n",
    "classifier = KerasClassifier(build_fn = build_classifier, batch_size = 10, epochs = 10)\n",
    "accuracies = cross_val_score(estimator = classifier, X = X_train, y = y_train, cv = 10, n_jobs = -1)\n",
    "mean = accuracies.mean()\n",
    "variance = accuracies.std()\n",
    "print(\"accuracies:%s\\nmean:%s\\nvariance:%s\".format(accuracies, mean, variance))"
   ]
  },
  {
   "cell_type": "markdown",
   "metadata": {},
   "source": [
    "# Improving the ANN\n",
    "# Dropout Regularization to reduce overfitting if needed"
   ]
  },
  {
   "cell_type": "code",
   "execution_count": null,
   "metadata": {},
   "outputs": [],
   "source": [
    "from keras.layers import Dropout\n",
    "\n",
    "def build_classifier():\n",
    "    classifier = Sequential()\n",
    "    classifier.add(Dense(units = 6, kernel_initializer = 'uniform', activation = 'relu', input_dim = 11))\n",
    "    classifier.add(Dropout(rate = 0.1))\n",
    "    classifier.add(Dense(units = 6, kernel_initializer = 'uniform', activation = 'relu'))\n",
    "    classifier.add(Dropout(rate = 0.1))\n",
    "    classifier.add(Dense(units = 1, kernel_initializer = 'uniform', activation = 'sigmoid'))\n",
    "    classifier.compile(optimizer = 'adam', loss = 'binary_crossentropy', metrics = ['accuracy'])\n",
    "    return classifier\n",
    "\n",
    "classifier = KerasClassifier(build_fn = build_classifier, batch_size = 10, epochs = 10)\n",
    "accuracies = cross_val_score(estimator = classifier, X = X_train, y = y_train, cv = 10, n_jobs = -1)\n",
    "mean = accuracies.mean()\n",
    "variance = accuracies.std()"
   ]
  },
  {
   "cell_type": "markdown",
   "metadata": {},
   "source": [
    "# Tuning the ANN"
   ]
  },
  {
   "cell_type": "code",
   "execution_count": null,
   "metadata": {},
   "outputs": [],
   "source": [
    "from keras.wrappers.scikit_learn import KerasClassifier\n",
    "from sklearn.model_selection import GridSearchCV\n",
    "from keras.models import Sequential\n",
    "from keras.layers import Dense\n",
    "\n",
    "def build_classifier(optimizer):\n",
    "    classifier = Sequential()\n",
    "    classifier.add(Dense(units = 6, kernel_initializer = 'uniform', activation = 'relu', input_dim = 11))\n",
    "    classifier.add(Dropout(rate = 0.1))\n",
    "    classifier.add(Dense(units = 6, kernel_initializer = 'uniform', activation = 'relu'))\n",
    "    classifier.add(Dropout(rate = 0.1))\n",
    "    classifier.add(Dense(units = 1, kernel_initializer = 'uniform', activation = 'sigmoid'))\n",
    "    classifier.compile(optimizer = optimizer, loss = 'binary_crossentropy', metrics = ['accuracy'])\n",
    "    return classifier\n",
    "\n",
    "classifier = KerasClassifier(build_fn = build_classifier)"
   ]
  },
  {
   "cell_type": "code",
   "execution_count": null,
   "metadata": {},
   "outputs": [],
   "source": [
    "parameters = {'batch_size': [10, 24, 32],\n",
    "              'epochs': [50, 100, 200],\n",
    "              'optimizer': ['adam', 'rmsprop']}\n",
    "\n",
    "grid_search = GridSearchCV(estimator = classifier,\n",
    "                           scoring = 'accuracy',\n",
    "                           param_grid = parameters,\n",
    "                           cv = 10)\n",
    "\n",
    "grid_search = grid_search.fit(X_train, y_train)\n",
    "\n",
    "best_parameters = grid_search.best_params_\n",
    "best_accuracy = grid_search.best_score_"
   ]
  },
  {
   "cell_type": "markdown",
   "metadata": {},
   "source": [
    "# FIM"
   ]
  },
  {
   "cell_type": "markdown",
   "metadata": {},
   "source": [
    "> Professor Diego Dorgam  \n",
    "> [@diegodorgam](https://twitter.com/diegodorgam)"
   ]
  }
 ],
 "metadata": {
  "kernelspec": {
   "display_name": "Python 3",
   "language": "python",
   "name": "python3"
  },
  "language_info": {
   "codemirror_mode": {
    "name": "ipython",
    "version": 3
   },
   "file_extension": ".py",
   "mimetype": "text/x-python",
   "name": "python",
   "nbconvert_exporter": "python",
   "pygments_lexer": "ipython3",
   "version": "3.7.4"
  }
 },
 "nbformat": 4,
 "nbformat_minor": 2
}
