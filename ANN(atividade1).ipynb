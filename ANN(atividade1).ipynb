{
 "cells": [
  {
   "cell_type": "markdown",
   "metadata": {},
   "source": [
    "# REDES NEURAIS ARTIFICIAIS\n",
    "\n",
    "[Aula 3 de Deep Learning](http://bit.ly/dn-unb03) da Engenharia de Software da UnB"
   ]
  },
  {
   "cell_type": "code",
   "execution_count": 1,
   "metadata": {},
   "outputs": [
    {
     "name": "stdout",
     "output_type": "stream",
     "text": [
      "Collecting git+git://github.com/Theano/Theano.git\n",
      "  Cloning git://github.com/Theano/Theano.git to /tmp/pip-req-build-9zs0ram7\n",
      "  Running command git clone -q git://github.com/Theano/Theano.git /tmp/pip-req-build-9zs0ram7\n",
      "Building wheels for collected packages: Theano\n",
      "  Building wheel for Theano (setup.py) ... \u001b[?25ldone\n",
      "\u001b[?25h  Created wheel for Theano: filename=Theano-1.0.4+23.g630974a7b-cp37-none-any.whl size=2667498 sha256=d7bd4b39a48b28816c22896972da5117062122dafbf0f10783a6a041e74753c5\n",
      "  Stored in directory: /tmp/pip-ephem-wheel-cache-h7cksoqt/wheels/ae/32/7c/62beb8371953eb20c271b3bac7d0e56e1a2020d46994346b52\n",
      "Successfully built Theano\n",
      "Installing collected packages: Theano\n",
      "  Found existing installation: Theano 1.0.4+23.g630974a7b\n",
      "    Uninstalling Theano-1.0.4+23.g630974a7b:\n",
      "      Successfully uninstalled Theano-1.0.4+23.g630974a7b\n",
      "Successfully installed Theano-1.0.4+23.g630974a7b\n",
      "Requirement already up-to-date: tensorflow in /home/kgd/.local/lib/python3.7/site-packages (2.0.0)\n",
      "Requirement already satisfied, skipping upgrade: keras-applications>=1.0.8 in /home/kgd/.local/lib/python3.7/site-packages (from tensorflow) (1.0.8)\n",
      "Requirement already satisfied, skipping upgrade: opt-einsum>=2.3.2 in /home/kgd/.local/lib/python3.7/site-packages (from tensorflow) (3.1.0)\n",
      "Requirement already satisfied, skipping upgrade: protobuf>=3.6.1 in /home/kgd/.local/lib/python3.7/site-packages (from tensorflow) (3.9.1)\n",
      "Requirement already satisfied, skipping upgrade: keras-preprocessing>=1.0.5 in /home/kgd/.local/lib/python3.7/site-packages (from tensorflow) (1.1.0)\n",
      "Requirement already satisfied, skipping upgrade: wrapt>=1.11.1 in /home/kgd/.local/lib/python3.7/site-packages (from tensorflow) (1.11.2)\n",
      "Requirement already satisfied, skipping upgrade: tensorflow-estimator<2.1.0,>=2.0.0 in /home/kgd/.local/lib/python3.7/site-packages (from tensorflow) (2.0.1)\n",
      "Requirement already satisfied, skipping upgrade: absl-py>=0.7.0 in /home/kgd/.local/lib/python3.7/site-packages (from tensorflow) (0.8.0)\n",
      "Requirement already satisfied, skipping upgrade: numpy<2.0,>=1.16.0 in /home/kgd/.local/lib/python3.7/site-packages (from tensorflow) (1.17.4)\n",
      "Requirement already satisfied, skipping upgrade: wheel>=0.26 in /usr/lib/python3.7/site-packages (from tensorflow) (0.33.6)\n",
      "Requirement already satisfied, skipping upgrade: grpcio>=1.8.6 in /home/kgd/.local/lib/python3.7/site-packages (from tensorflow) (1.23.0)\n",
      "Requirement already satisfied, skipping upgrade: gast==0.2.2 in /home/kgd/.local/lib/python3.7/site-packages (from tensorflow) (0.2.2)\n",
      "Requirement already satisfied, skipping upgrade: termcolor>=1.1.0 in /home/kgd/.local/lib/python3.7/site-packages (from tensorflow) (1.1.0)\n",
      "Requirement already satisfied, skipping upgrade: six>=1.10.0 in /usr/lib/python3.7/site-packages (from tensorflow) (1.12.0)\n",
      "Requirement already satisfied, skipping upgrade: tensorboard<2.1.0,>=2.0.0 in /home/kgd/.local/lib/python3.7/site-packages (from tensorflow) (2.0.2)\n",
      "Requirement already satisfied, skipping upgrade: astor>=0.6.0 in /home/kgd/.local/lib/python3.7/site-packages (from tensorflow) (0.8.0)\n",
      "Requirement already satisfied, skipping upgrade: google-pasta>=0.1.6 in /home/kgd/.local/lib/python3.7/site-packages (from tensorflow) (0.1.8)\n",
      "Requirement already satisfied, skipping upgrade: h5py in /home/kgd/.local/lib/python3.7/site-packages (from keras-applications>=1.0.8->tensorflow) (2.10.0)\n",
      "Requirement already satisfied, skipping upgrade: setuptools in /usr/lib/python3.7/site-packages (from protobuf>=3.6.1->tensorflow) (41.2.0)\n",
      "Requirement already satisfied, skipping upgrade: requests<3,>=2.21.0 in /usr/lib/python3.7/site-packages (from tensorboard<2.1.0,>=2.0.0->tensorflow) (2.22.0)\n",
      "Requirement already satisfied, skipping upgrade: google-auth-oauthlib<0.5,>=0.4.1 in /home/kgd/.local/lib/python3.7/site-packages (from tensorboard<2.1.0,>=2.0.0->tensorflow) (0.4.1)\n",
      "Requirement already satisfied, skipping upgrade: google-auth<2,>=1.6.3 in /home/kgd/.local/lib/python3.7/site-packages (from tensorboard<2.1.0,>=2.0.0->tensorflow) (1.7.1)\n",
      "Requirement already satisfied, skipping upgrade: markdown>=2.6.8 in /home/kgd/.local/lib/python3.7/site-packages (from tensorboard<2.1.0,>=2.0.0->tensorflow) (3.1.1)\n",
      "Requirement already satisfied, skipping upgrade: werkzeug>=0.11.15 in /usr/lib/python3.7/site-packages (from tensorboard<2.1.0,>=2.0.0->tensorflow) (0.16.0)\n",
      "Requirement already satisfied, skipping upgrade: chardet>=3.0.2 in /usr/lib/python3.7/site-packages (from requests<3,>=2.21.0->tensorboard<2.1.0,>=2.0.0->tensorflow) (3.0.4)\n",
      "Requirement already satisfied, skipping upgrade: idna>=2.5 in /usr/lib/python3.7/site-packages (from requests<3,>=2.21.0->tensorboard<2.1.0,>=2.0.0->tensorflow) (2.8)\n",
      "Requirement already satisfied, skipping upgrade: urllib3>=1.21.1 in /usr/lib/python3.7/site-packages (from requests<3,>=2.21.0->tensorboard<2.1.0,>=2.0.0->tensorflow) (1.25.6)\n",
      "Requirement already satisfied, skipping upgrade: requests-oauthlib>=0.7.0 in /home/kgd/.local/lib/python3.7/site-packages (from google-auth-oauthlib<0.5,>=0.4.1->tensorboard<2.1.0,>=2.0.0->tensorflow) (1.3.0)\n",
      "Requirement already satisfied, skipping upgrade: rsa<4.1,>=3.1.4 in /home/kgd/.local/lib/python3.7/site-packages (from google-auth<2,>=1.6.3->tensorboard<2.1.0,>=2.0.0->tensorflow) (4.0)\n",
      "Requirement already satisfied, skipping upgrade: pyasn1-modules>=0.2.1 in /home/kgd/.local/lib/python3.7/site-packages (from google-auth<2,>=1.6.3->tensorboard<2.1.0,>=2.0.0->tensorflow) (0.2.7)\n",
      "Requirement already satisfied, skipping upgrade: cachetools<3.2,>=2.0.0 in /home/kgd/.local/lib/python3.7/site-packages (from google-auth<2,>=1.6.3->tensorboard<2.1.0,>=2.0.0->tensorflow) (3.1.1)\n",
      "Requirement already satisfied, skipping upgrade: oauthlib>=3.0.0 in /home/kgd/.local/lib/python3.7/site-packages (from requests-oauthlib>=0.7.0->google-auth-oauthlib<0.5,>=0.4.1->tensorboard<2.1.0,>=2.0.0->tensorflow) (3.1.0)\n",
      "Requirement already satisfied, skipping upgrade: pyasn1>=0.1.3 in /usr/lib/python3.7/site-packages (from rsa<4.1,>=3.1.4->google-auth<2,>=1.6.3->tensorboard<2.1.0,>=2.0.0->tensorflow) (0.4.7)\n",
      "Requirement already up-to-date: keras in /home/kgd/.local/lib/python3.7/site-packages (2.3.1)\n",
      "Requirement already satisfied, skipping upgrade: six>=1.9.0 in /usr/lib/python3.7/site-packages (from keras) (1.12.0)\n",
      "Requirement already satisfied, skipping upgrade: keras-applications>=1.0.6 in /home/kgd/.local/lib/python3.7/site-packages (from keras) (1.0.8)\n",
      "Requirement already satisfied, skipping upgrade: scipy>=0.14 in /home/kgd/.local/lib/python3.7/site-packages (from keras) (1.3.1)\n",
      "Requirement already satisfied, skipping upgrade: h5py in /home/kgd/.local/lib/python3.7/site-packages (from keras) (2.10.0)\n",
      "Requirement already satisfied, skipping upgrade: numpy>=1.9.1 in /home/kgd/.local/lib/python3.7/site-packages (from keras) (1.17.4)\n",
      "Requirement already satisfied, skipping upgrade: pyyaml in /home/kgd/.local/lib/python3.7/site-packages (from keras) (5.1.2)\n",
      "Requirement already satisfied, skipping upgrade: keras-preprocessing>=1.0.5 in /home/kgd/.local/lib/python3.7/site-packages (from keras) (1.1.0)\n",
      "Requirement already up-to-date: pip in /home/kgd/.local/lib/python3.7/site-packages (19.3.1)\n",
      "Requirement already up-to-date: pandas in /home/kgd/.local/lib/python3.7/site-packages (0.25.3)\n",
      "Requirement already up-to-date: numpy in /home/kgd/.local/lib/python3.7/site-packages (1.17.4)\n",
      "Requirement already up-to-date: matplotlib in /home/kgd/.local/lib/python3.7/site-packages (3.1.2)\n",
      "Requirement already up-to-date: sklearn in /home/kgd/.local/lib/python3.7/site-packages (0.0)\n",
      "Requirement already satisfied, skipping upgrade: python-dateutil>=2.6.1 in /home/kgd/.local/lib/python3.7/site-packages (from pandas) (2.8.0)\n",
      "Requirement already satisfied, skipping upgrade: pytz>=2017.2 in /usr/lib/python3.7/site-packages (from pandas) (2019.3)\n",
      "Requirement already satisfied, skipping upgrade: kiwisolver>=1.0.1 in /home/kgd/.local/lib/python3.7/site-packages (from matplotlib) (1.1.0)\n",
      "Requirement already satisfied, skipping upgrade: cycler>=0.10 in /home/kgd/.local/lib/python3.7/site-packages (from matplotlib) (0.10.0)\n",
      "Requirement already satisfied, skipping upgrade: pyparsing!=2.0.4,!=2.1.2,!=2.1.6,>=2.0.1 in /usr/lib/python3.7/site-packages (from matplotlib) (2.4.4)\n",
      "Requirement already satisfied, skipping upgrade: scikit-learn in /home/kgd/.local/lib/python3.7/site-packages (from sklearn) (0.21.3)\n"
     ]
    },
    {
     "name": "stdout",
     "output_type": "stream",
     "text": [
      "Requirement already satisfied, skipping upgrade: six>=1.5 in /usr/lib/python3.7/site-packages (from python-dateutil>=2.6.1->pandas) (1.12.0)\n",
      "Requirement already satisfied, skipping upgrade: setuptools in /usr/lib/python3.7/site-packages (from kiwisolver>=1.0.1->matplotlib) (41.2.0)\n",
      "Requirement already satisfied, skipping upgrade: joblib>=0.11 in /home/kgd/.local/lib/python3.7/site-packages (from scikit-learn->sklearn) (0.13.2)\n",
      "Requirement already satisfied, skipping upgrade: scipy>=0.17.0 in /home/kgd/.local/lib/python3.7/site-packages (from scikit-learn->sklearn) (1.3.1)\n",
      "Collecting pydot\n",
      "  Downloading https://files.pythonhosted.org/packages/33/d1/b1479a770f66d962f545c2101630ce1d5592d90cb4f083d38862e93d16d2/pydot-1.4.1-py2.py3-none-any.whl\n",
      "Requirement already satisfied: pyparsing>=2.1.4 in /usr/lib/python3.7/site-packages (from pydot) (2.4.4)\n",
      "Installing collected packages: pydot\n",
      "Successfully installed pydot-1.4.1\n",
      "Collecting graphviz\n",
      "  Downloading https://files.pythonhosted.org/packages/f5/74/dbed754c0abd63768d3a7a7b472da35b08ac442cf87d73d5850a6f32391e/graphviz-0.13.2-py2.py3-none-any.whl\n",
      "Installing collected packages: graphviz\n",
      "Successfully installed graphviz-0.13.2\n"
     ]
    }
   ],
   "source": [
    "# Installing Theano\n",
    "! pip install --upgrade --no-deps git+git://github.com/Theano/Theano.git --user\n",
    "\n",
    "# Installing Tensorflow\n",
    "! pip install --upgrade tensorflow --user\n",
    "\n",
    "# Installing Keras\n",
    "! pip install --upgrade keras --user\n",
    "\n",
    "# Install other packages\n",
    "! pip install --upgrade pip pandas numpy matplotlib sklearn --user\n",
    "! pip install pydot --user\n",
    "! pip install graphviz --user"
   ]
  },
  {
   "cell_type": "markdown",
   "metadata": {},
   "source": [
    "# Parte 1 - Preprocessamento dos Dados"
   ]
  },
  {
   "cell_type": "markdown",
   "metadata": {},
   "source": [
    "### Importar as libs"
   ]
  },
  {
   "cell_type": "code",
   "execution_count": 2,
   "metadata": {},
   "outputs": [],
   "source": [
    "import numpy as np\n",
    "import matplotlib.pyplot as plt\n",
    "import pandas as pd\n",
    "import pydot"
   ]
  },
  {
   "cell_type": "markdown",
   "metadata": {},
   "source": [
    "### Importar o dataset"
   ]
  },
  {
   "cell_type": "code",
   "execution_count": 3,
   "metadata": {},
   "outputs": [
    {
     "name": "stdout",
     "output_type": "stream",
     "text": [
      "X >>\n",
      " [[619 'France' 'Female' ... 1 1 101348.88]\n",
      " [608 'Spain' 'Female' ... 0 1 112542.58]\n",
      " [502 'France' 'Female' ... 1 0 113931.57]\n",
      " ...\n",
      " [709 'France' 'Female' ... 0 1 42085.58]\n",
      " [772 'Germany' 'Male' ... 1 0 92888.52]\n",
      " [792 'France' 'Female' ... 1 0 38190.78]]\n",
      "y >>\n",
      " [1 0 1 ... 1 1 0]\n"
     ]
    }
   ],
   "source": [
    "dataset = pd.read_csv('Churn_Modelling.csv')\n",
    "X = dataset.iloc[:, 3:13].values\n",
    "y = dataset.iloc[:, 13].values\n",
    "print(\"X >>\\n\",X)\n",
    "print(\"y >>\\n\",y)"
   ]
  },
  {
   "cell_type": "markdown",
   "metadata": {},
   "source": [
    "### Transformando os dados categóricos\n"
   ]
  },
  {
   "cell_type": "code",
   "execution_count": 4,
   "metadata": {},
   "outputs": [
    {
     "name": "stdout",
     "output_type": "stream",
     "text": [
      "X >>\n",
      " [[0.0000000e+00 0.0000000e+00 6.1900000e+02 ... 1.0000000e+00\n",
      "  1.0000000e+00 1.0134888e+05]\n",
      " [0.0000000e+00 1.0000000e+00 6.0800000e+02 ... 0.0000000e+00\n",
      "  1.0000000e+00 1.1254258e+05]\n",
      " [0.0000000e+00 0.0000000e+00 5.0200000e+02 ... 1.0000000e+00\n",
      "  0.0000000e+00 1.1393157e+05]\n",
      " ...\n",
      " [0.0000000e+00 0.0000000e+00 7.0900000e+02 ... 0.0000000e+00\n",
      "  1.0000000e+00 4.2085580e+04]\n",
      " [1.0000000e+00 0.0000000e+00 7.7200000e+02 ... 1.0000000e+00\n",
      "  0.0000000e+00 9.2888520e+04]\n",
      " [0.0000000e+00 0.0000000e+00 7.9200000e+02 ... 1.0000000e+00\n",
      "  0.0000000e+00 3.8190780e+04]]\n"
     ]
    },
    {
     "name": "stderr",
     "output_type": "stream",
     "text": [
      "/home/kgd/.local/lib/python3.7/site-packages/sklearn/preprocessing/_encoders.py:415: FutureWarning: The handling of integer data will change in version 0.22. Currently, the categories are determined based on the range [0, max(values)], while in the future they will be determined based on the unique values.\n",
      "If you want the future behaviour and silence this warning, you can specify \"categories='auto'\".\n",
      "In case you used a LabelEncoder before this OneHotEncoder to convert the categories to integers, then you can now use the OneHotEncoder directly.\n",
      "  warnings.warn(msg, FutureWarning)\n",
      "/home/kgd/.local/lib/python3.7/site-packages/sklearn/preprocessing/_encoders.py:451: DeprecationWarning: The 'categorical_features' keyword is deprecated in version 0.20 and will be removed in 0.22. You can use the ColumnTransformer instead.\n",
      "  \"use the ColumnTransformer instead.\", DeprecationWarning)\n"
     ]
    }
   ],
   "source": [
    "from sklearn.preprocessing import LabelEncoder, OneHotEncoder\n",
    "labelencoder_X_1 = LabelEncoder()\n",
    "X[:, 1] = labelencoder_X_1.fit_transform(X[:, 1])\n",
    "labelencoder_X_2 = LabelEncoder()\n",
    "X[:, 2] = labelencoder_X_2.fit_transform(X[:, 2])\n",
    "onehotencoder = OneHotEncoder(categorical_features = [1])\n",
    "X = onehotencoder.fit_transform(X).toarray()\n",
    "X = X[:, 1:]\n",
    "print(\"X >>\\n\",X)"
   ]
  },
  {
   "cell_type": "markdown",
   "metadata": {},
   "source": [
    "# Dividindo o dataset em conjunto de treinamento e conjunto de teste"
   ]
  },
  {
   "cell_type": "code",
   "execution_count": 5,
   "metadata": {},
   "outputs": [],
   "source": [
    "from sklearn.model_selection import train_test_split\n",
    "X_train, X_test, y_train, y_test = train_test_split(X, y, test_size = 0.2, random_state = 0)"
   ]
  },
  {
   "cell_type": "markdown",
   "metadata": {},
   "source": [
    "# Feature Scaling"
   ]
  },
  {
   "cell_type": "code",
   "execution_count": 6,
   "metadata": {},
   "outputs": [],
   "source": [
    "from sklearn.preprocessing import StandardScaler\n",
    "sc = StandardScaler()\n",
    "X_train = sc.fit_transform(X_train)\n",
    "X_test = sc.transform(X_test)"
   ]
  },
  {
   "cell_type": "markdown",
   "metadata": {},
   "source": [
    "---\n",
    "# Parte 2 -Vamos construir uma ANN!\n",
    "\n",
    "## Importando o Keras\n"
   ]
  },
  {
   "cell_type": "code",
   "execution_count": 7,
   "metadata": {},
   "outputs": [
    {
     "name": "stderr",
     "output_type": "stream",
     "text": [
      "Using TensorFlow backend.\n"
     ]
    }
   ],
   "source": [
    "import keras\n",
    "from keras.models import Sequential\n",
    "from keras.layers import Dense, Activation, Dropout\n",
    "from keras.utils.vis_utils import plot_model"
   ]
  },
  {
   "cell_type": "code",
   "execution_count": 10,
   "metadata": {},
   "outputs": [
    {
     "data": {
      "image/png": "[encoded data removed]",
      "text/plain": [
       "<IPython.core.display.Image object>"
      ]
     },
     "execution_count": 10,
     "metadata": {},
     "output_type": "execute_result"
    }
   ],
   "source": [
    "# Initialising the ANN\n",
    "classifier = Sequential()\n",
    "\n",
    "# Adding the input layer and the first hidden layer\n",
    "#classifier.add(Dense(units = 6, kernel_initializer = 'uniform', activation = 'relu', input_dim = 11))\n",
    "classifier.add(Dense(256, input_dim=11, activation = 'relu'))\n",
    "\n",
    "classifier.add(Dropout(0.5))\n",
    "classifier.add(Dense(10, activation = 'softmax'))\n",
    "\n",
    "classifier.add(Dropout(0.5))\n",
    "classifier.add(Dense(1, activation ='sigmoid'))\n",
    "\n",
    "# Adding the second hidden layer\n",
    "#classifier.add(Dense(units = 6, kernel_initializer = 'uniform', activation = 'relu'))\n",
    "\n",
    "# Adding the output layer\n",
    "#classifier.add(Dense(units = 1, kernel_initializer = 'uniform', activation = 'sigmoid'))\n",
    "\n",
    "# Compiling the ANN\n",
    "classifier.compile(optimizer = 'adam', loss = 'binary_crossentropy', metrics = ['accuracy'])\n",
    "\n",
    "plot_model(classifier, to_file='model_plot.png', show_shapes=True, show_layer_names=True)\n",
    "\n",
    "#print(classifier.summary())"
   ]
  },
  {
   "cell_type": "markdown",
   "metadata": {},
   "source": [
    "# Ajustando a ANN ao conjunto de treinamento"
   ]
  },
  {
   "cell_type": "code",
   "execution_count": 11,
   "metadata": {},
   "outputs": [
    {
     "name": "stdout",
     "output_type": "stream",
     "text": [
      "Epoch 1/100\n",
      "8000/8000 [==============================] - 2s 235us/step - loss: 0.5608 - accuracy: 0.7607\n",
      "Epoch 2/100\n",
      "8000/8000 [==============================] - 2s 228us/step - loss: 0.4829 - accuracy: 0.8084\n",
      "Epoch 3/100\n",
      "8000/8000 [==============================] - 2s 268us/step - loss: 0.4632 - accuracy: 0.8076\n",
      "Epoch 4/100\n",
      "8000/8000 [==============================] - 2s 242us/step - loss: 0.4528 - accuracy: 0.8062\n",
      "Epoch 5/100\n",
      "8000/8000 [==============================] - 2s 195us/step - loss: 0.4433 - accuracy: 0.8104\n",
      "Epoch 6/100\n",
      "8000/8000 [==============================] - 2s 189us/step - loss: 0.4366 - accuracy: 0.8135\n",
      "Epoch 7/100\n",
      "8000/8000 [==============================] - 2s 247us/step - loss: 0.4359 - accuracy: 0.8158\n",
      "Epoch 8/100\n",
      "8000/8000 [==============================] - 2s 240us/step - loss: 0.4217 - accuracy: 0.8231\n",
      "Epoch 9/100\n",
      "8000/8000 [==============================] - 2s 201us/step - loss: 0.4116 - accuracy: 0.8261\n",
      "Epoch 10/100\n",
      "8000/8000 [==============================] - 2s 244us/step - loss: 0.4093 - accuracy: 0.8238\n",
      "Epoch 11/100\n",
      "8000/8000 [==============================] - 2s 234us/step - loss: 0.4116 - accuracy: 0.8224\n",
      "Epoch 12/100\n",
      "8000/8000 [==============================] - 2s 230us/step - loss: 0.4068 - accuracy: 0.8288\n",
      "Epoch 13/100\n",
      "8000/8000 [==============================] - 2s 228us/step - loss: 0.4102 - accuracy: 0.8265\n",
      "Epoch 14/100\n",
      "8000/8000 [==============================] - 2s 227us/step - loss: 0.4077 - accuracy: 0.8294\n",
      "Epoch 15/100\n",
      "8000/8000 [==============================] - 2s 227us/step - loss: 0.4076 - accuracy: 0.8296\n",
      "Epoch 16/100\n",
      "8000/8000 [==============================] - 2s 274us/step - loss: 0.3984 - accuracy: 0.8320\n",
      "Epoch 17/100\n",
      "8000/8000 [==============================] - 2s 234us/step - loss: 0.3957 - accuracy: 0.8331\n",
      "Epoch 18/100\n",
      "8000/8000 [==============================] - 2s 216us/step - loss: 0.3985 - accuracy: 0.8354\n",
      "Epoch 19/100\n",
      "8000/8000 [==============================] - 2s 236us/step - loss: 0.3956 - accuracy: 0.8330\n",
      "Epoch 20/100\n",
      "8000/8000 [==============================] - 2s 230us/step - loss: 0.3873 - accuracy: 0.8415\n",
      "Epoch 21/100\n",
      "8000/8000 [==============================] - 2s 233us/step - loss: 0.3942 - accuracy: 0.8378\n",
      "Epoch 22/100\n",
      "8000/8000 [==============================] - 2s 244us/step - loss: 0.3853 - accuracy: 0.8416\n",
      "Epoch 23/100\n",
      "8000/8000 [==============================] - 2s 232us/step - loss: 0.3874 - accuracy: 0.8380\n",
      "Epoch 24/100\n",
      "8000/8000 [==============================] - 2s 232us/step - loss: 0.3814 - accuracy: 0.8421\n",
      "Epoch 25/100\n",
      "8000/8000 [==============================] - 2s 241us/step - loss: 0.3843 - accuracy: 0.8414\n",
      "Epoch 26/100\n",
      "8000/8000 [==============================] - 2s 246us/step - loss: 0.3837 - accuracy: 0.8415\n",
      "Epoch 27/100\n",
      "8000/8000 [==============================] - 2s 267us/step - loss: 0.3737 - accuracy: 0.8474\n",
      "Epoch 28/100\n",
      "8000/8000 [==============================] - 2s 273us/step - loss: 0.3786 - accuracy: 0.8459\n",
      "Epoch 29/100\n",
      "8000/8000 [==============================] - 2s 296us/step - loss: 0.3777 - accuracy: 0.8444\n",
      "Epoch 30/100\n",
      "8000/8000 [==============================] - 2s 189us/step - loss: 0.3701 - accuracy: 0.8484\n",
      "Epoch 31/100\n",
      "8000/8000 [==============================] - 2s 241us/step - loss: 0.3765 - accuracy: 0.8429\n",
      "Epoch 32/100\n",
      "8000/8000 [==============================] - 2s 210us/step - loss: 0.3752 - accuracy: 0.8468\n",
      "Epoch 33/100\n",
      "8000/8000 [==============================] - 3s 315us/step - loss: 0.3771 - accuracy: 0.8464\n",
      "Epoch 34/100\n",
      "8000/8000 [==============================] - 2s 268us/step - loss: 0.3814 - accuracy: 0.8465\n",
      "Epoch 35/100\n",
      "8000/8000 [==============================] - 1s 171us/step - loss: 0.3789 - accuracy: 0.8444\n",
      "Epoch 36/100\n",
      "8000/8000 [==============================] - 2s 209us/step - loss: 0.3715 - accuracy: 0.8501\n",
      "Epoch 37/100\n",
      "8000/8000 [==============================] - 2s 259us/step - loss: 0.3727 - accuracy: 0.8465\n",
      "Epoch 38/100\n",
      "8000/8000 [==============================] - 2s 288us/step - loss: 0.3757 - accuracy: 0.8464\n",
      "Epoch 39/100\n",
      "8000/8000 [==============================] - 2s 240us/step - loss: 0.3708 - accuracy: 0.8484\n",
      "Epoch 40/100\n",
      "8000/8000 [==============================] - 2s 230us/step - loss: 0.3678 - accuracy: 0.8506\n",
      "Epoch 41/100\n",
      "8000/8000 [==============================] - 2s 268us/step - loss: 0.3687 - accuracy: 0.8509\n",
      "Epoch 42/100\n",
      "8000/8000 [==============================] - 2s 265us/step - loss: 0.3729 - accuracy: 0.8495\n",
      "Epoch 43/100\n",
      "8000/8000 [==============================] - 2s 264us/step - loss: 0.3676 - accuracy: 0.8549\n",
      "Epoch 44/100\n",
      "8000/8000 [==============================] - 2s 254us/step - loss: 0.3699 - accuracy: 0.8515\n",
      "Epoch 45/100\n",
      "8000/8000 [==============================] - 2s 271us/step - loss: 0.3670 - accuracy: 0.8540\n",
      "Epoch 46/100\n",
      "8000/8000 [==============================] - 2s 245us/step - loss: 0.3714 - accuracy: 0.8511\n",
      "Epoch 47/100\n",
      "8000/8000 [==============================] - 2s 288us/step - loss: 0.3687 - accuracy: 0.8510\n",
      "Epoch 48/100\n",
      "8000/8000 [==============================] - 2s 257us/step - loss: 0.3628 - accuracy: 0.8521\n",
      "Epoch 49/100\n",
      "8000/8000 [==============================] - 2s 253us/step - loss: 0.3687 - accuracy: 0.8494\n",
      "Epoch 50/100\n",
      "8000/8000 [==============================] - 2s 306us/step - loss: 0.3652 - accuracy: 0.8537\n",
      "Epoch 51/100\n",
      "8000/8000 [==============================] - 3s 322us/step - loss: 0.3663 - accuracy: 0.8514\n",
      "Epoch 52/100\n",
      "8000/8000 [==============================] - 2s 197us/step - loss: 0.3632 - accuracy: 0.8531\n",
      "Epoch 53/100\n",
      "8000/8000 [==============================] - 2s 289us/step - loss: 0.3624 - accuracy: 0.8534\n",
      "Epoch 54/100\n",
      "8000/8000 [==============================] - 2s 254us/step - loss: 0.3677 - accuracy: 0.8516\n",
      "Epoch 55/100\n",
      "8000/8000 [==============================] - 2s 247us/step - loss: 0.3605 - accuracy: 0.8564\n",
      "Epoch 56/100\n",
      "8000/8000 [==============================] - 2s 231us/step - loss: 0.3629 - accuracy: 0.8545\n",
      "Epoch 57/100\n",
      "8000/8000 [==============================] - 2s 219us/step - loss: 0.3660 - accuracy: 0.8541\n",
      "Epoch 58/100\n",
      "8000/8000 [==============================] - 2s 276us/step - loss: 0.3618 - accuracy: 0.8560\n",
      "Epoch 59/100\n",
      "8000/8000 [==============================] - 2s 294us/step - loss: 0.3663 - accuracy: 0.8521\n",
      "Epoch 60/100\n",
      "8000/8000 [==============================] - 2s 262us/step - loss: 0.3591 - accuracy: 0.8568\n",
      "Epoch 61/100\n",
      "8000/8000 [==============================] - 1s 175us/step - loss: 0.3605 - accuracy: 0.8587\n",
      "Epoch 62/100\n",
      "8000/8000 [==============================] - 2s 207us/step - loss: 0.3612 - accuracy: 0.8556\n",
      "Epoch 63/100\n",
      "8000/8000 [==============================] - 2s 268us/step - loss: 0.3659 - accuracy: 0.8531\n",
      "Epoch 64/100\n",
      "8000/8000 [==============================] - 2s 270us/step - loss: 0.3581 - accuracy: 0.8580\n",
      "Epoch 65/100\n",
      "8000/8000 [==============================] - 2s 214us/step - loss: 0.3589 - accuracy: 0.8550\n",
      "Epoch 66/100\n",
      "8000/8000 [==============================] - 2s 232us/step - loss: 0.3576 - accuracy: 0.8591\n",
      "Epoch 67/100\n",
      "8000/8000 [==============================] - 2s 281us/step - loss: 0.3562 - accuracy: 0.8593\n",
      "Epoch 68/100\n",
      "8000/8000 [==============================] - 2s 299us/step - loss: 0.3617 - accuracy: 0.8583\n",
      "Epoch 69/100\n",
      "8000/8000 [==============================] - 2s 214us/step - loss: 0.3627 - accuracy: 0.8568\n",
      "Epoch 70/100\n",
      "8000/8000 [==============================] - 2s 237us/step - loss: 0.3543 - accuracy: 0.8586\n",
      "Epoch 71/100\n",
      "8000/8000 [==============================] - 2s 311us/step - loss: 0.3593 - accuracy: 0.8583\n",
      "Epoch 72/100\n",
      "8000/8000 [==============================] - 2s 207us/step - loss: 0.3594 - accuracy: 0.8596\n",
      "Epoch 73/100\n",
      "8000/8000 [==============================] - 2s 248us/step - loss: 0.3573 - accuracy: 0.8581\n",
      "Epoch 74/100\n",
      "8000/8000 [==============================] - 2s 309us/step - loss: 0.3551 - accuracy: 0.8602\n",
      "Epoch 75/100\n",
      "8000/8000 [==============================] - 2s 301us/step - loss: 0.3610 - accuracy: 0.8577\n",
      "Epoch 76/100\n",
      "8000/8000 [==============================] - 2s 294us/step - loss: 0.3560 - accuracy: 0.8606\n",
      "Epoch 77/100\n",
      "8000/8000 [==============================] - 2s 298us/step - loss: 0.3554 - accuracy: 0.8586\n",
      "Epoch 78/100\n"
     ]
    },
    {
     "name": "stdout",
     "output_type": "stream",
     "text": [
      "8000/8000 [==============================] - 2s 233us/step - loss: 0.3568 - accuracy: 0.8551\n",
      "Epoch 79/100\n",
      "8000/8000 [==============================] - 1s 158us/step - loss: 0.3588 - accuracy: 0.8601\n",
      "Epoch 80/100\n",
      "8000/8000 [==============================] - 1s 182us/step - loss: 0.3549 - accuracy: 0.8636\n",
      "Epoch 81/100\n",
      "8000/8000 [==============================] - 2s 207us/step - loss: 0.3558 - accuracy: 0.8622\n",
      "Epoch 82/100\n",
      "8000/8000 [==============================] - 2s 221us/step - loss: 0.3553 - accuracy: 0.8564\n",
      "Epoch 83/100\n",
      "8000/8000 [==============================] - 2s 200us/step - loss: 0.3539 - accuracy: 0.8589\n",
      "Epoch 84/100\n",
      "8000/8000 [==============================] - 1s 184us/step - loss: 0.3572 - accuracy: 0.8604\n",
      "Epoch 85/100\n",
      "8000/8000 [==============================] - 1s 177us/step - loss: 0.3536 - accuracy: 0.8583\n",
      "Epoch 86/100\n",
      "8000/8000 [==============================] - 1s 181us/step - loss: 0.3586 - accuracy: 0.8572\n",
      "Epoch 87/100\n",
      "8000/8000 [==============================] - 2s 219us/step - loss: 0.3517 - accuracy: 0.8593\n",
      "Epoch 88/100\n",
      "8000/8000 [==============================] - 3s 336us/step - loss: 0.3511 - accuracy: 0.8597\n",
      "Epoch 89/100\n",
      "8000/8000 [==============================] - 2s 248us/step - loss: 0.3568 - accuracy: 0.8596\n",
      "Epoch 90/100\n",
      "8000/8000 [==============================] - 2s 277us/step - loss: 0.3548 - accuracy: 0.8586\n",
      "Epoch 91/100\n",
      "8000/8000 [==============================] - 3s 348us/step - loss: 0.3512 - accuracy: 0.8601\n",
      "Epoch 92/100\n",
      "8000/8000 [==============================] - 2s 283us/step - loss: 0.3545 - accuracy: 0.8597\n",
      "Epoch 93/100\n",
      "8000/8000 [==============================] - 2s 259us/step - loss: 0.3444 - accuracy: 0.8644\n",
      "Epoch 94/100\n",
      "8000/8000 [==============================] - 2s 292us/step - loss: 0.3550 - accuracy: 0.8619\n",
      "Epoch 95/100\n",
      "8000/8000 [==============================] - 4s 486us/step - loss: 0.3535 - accuracy: 0.8620\n",
      "Epoch 96/100\n",
      "8000/8000 [==============================] - 2s 259us/step - loss: 0.3551 - accuracy: 0.8590\n",
      "Epoch 97/100\n",
      "8000/8000 [==============================] - 2s 203us/step - loss: 0.3543 - accuracy: 0.8583\n",
      "Epoch 98/100\n",
      "8000/8000 [==============================] - 1s 179us/step - loss: 0.3526 - accuracy: 0.8591\n",
      "Epoch 99/100\n",
      "8000/8000 [==============================] - 1s 187us/step - loss: 0.3486 - accuracy: 0.8627\n",
      "Epoch 100/100\n",
      "8000/8000 [==============================] - 1s 163us/step - loss: 0.3537 - accuracy: 0.8621\n"
     ]
    },
    {
     "data": {
      "text/plain": [
       "<keras.callbacks.callbacks.History at 0x7ff63ef8ce10>"
      ]
     },
     "execution_count": 11,
     "metadata": {},
     "output_type": "execute_result"
    }
   ],
   "source": [
    "classifier.fit(X_train, y_train, batch_size = 10, epochs = 100)"
   ]
  },
  {
   "cell_type": "markdown",
   "metadata": {},
   "source": [
    "# Parte 3 - Fazendo predições e avaliando o modelo\n",
    "\n",
    "## Prevendo os resultados com o conjunto de testes"
   ]
  },
  {
   "cell_type": "code",
   "execution_count": 12,
   "metadata": {},
   "outputs": [],
   "source": [
    "y_pred = classifier.predict(X_test)\n",
    "y_pred = (y_pred > 0.5)"
   ]
  },
  {
   "cell_type": "markdown",
   "metadata": {},
   "source": [
    "# Criando uma Confusion Matrix"
   ]
  },
  {
   "cell_type": "code",
   "execution_count": 13,
   "metadata": {},
   "outputs": [
    {
     "name": "stdout",
     "output_type": "stream",
     "text": [
      "[[1546   49]\n",
      " [ 213  192]]\n"
     ]
    }
   ],
   "source": [
    "from sklearn.metrics import confusion_matrix\n",
    "cm = confusion_matrix(y_test, y_pred)\n",
    "print(cm)"
   ]
  },
  {
   "cell_type": "markdown",
   "metadata": {},
   "source": [
    "# Initiate activation function experimentation\n",
    "\n",
    "# Initialising the 2nd ANN"
   ]
  },
  {
   "cell_type": "code",
   "execution_count": 14,
   "metadata": {},
   "outputs": [
    {
     "name": "stdout",
     "output_type": "stream",
     "text": [
      "Epoch 1/100\n",
      "8000/8000 [==============================] - 1s 144us/step - loss: 3.1467 - accuracy: 0.7960\n",
      "Epoch 2/100\n",
      "8000/8000 [==============================] - 1s 171us/step - loss: 3.1467 - accuracy: 0.7960\n",
      "Epoch 3/100\n",
      "8000/8000 [==============================] - 2s 211us/step - loss: 3.1467 - accuracy: 0.7960\n",
      "Epoch 4/100\n",
      "8000/8000 [==============================] - 2s 204us/step - loss: 3.1467 - accuracy: 0.7960\n",
      "Epoch 5/100\n",
      "8000/8000 [==============================] - 2s 197us/step - loss: 3.1467 - accuracy: 0.7960\n",
      "Epoch 6/100\n",
      "8000/8000 [==============================] - 2s 217us/step - loss: 3.1467 - accuracy: 0.7960\n",
      "Epoch 7/100\n",
      "8000/8000 [==============================] - 2s 273us/step - loss: 3.1467 - accuracy: 0.7960\n",
      "Epoch 8/100\n",
      "8000/8000 [==============================] - 2s 284us/step - loss: 3.1467 - accuracy: 0.7960\n",
      "Epoch 9/100\n",
      "8000/8000 [==============================] - 2s 222us/step - loss: 3.1467 - accuracy: 0.7960\n",
      "Epoch 10/100\n",
      "8000/8000 [==============================] - 2s 275us/step - loss: 3.1467 - accuracy: 0.7960\n",
      "Epoch 11/100\n",
      "8000/8000 [==============================] - 2s 247us/step - loss: 3.1467 - accuracy: 0.7960\n",
      "Epoch 12/100\n",
      "8000/8000 [==============================] - 2s 275us/step - loss: 3.1467 - accuracy: 0.7960\n",
      "Epoch 13/100\n",
      "8000/8000 [==============================] - 2s 282us/step - loss: 3.1467 - accuracy: 0.7960\n",
      "Epoch 14/100\n",
      "8000/8000 [==============================] - 3s 375us/step - loss: 3.1467 - accuracy: 0.7960\n",
      "Epoch 15/100\n",
      "8000/8000 [==============================] - 2s 288us/step - loss: 3.1467 - accuracy: 0.7960\n",
      "Epoch 16/100\n",
      "8000/8000 [==============================] - 1s 169us/step - loss: 3.1467 - accuracy: 0.7960\n",
      "Epoch 17/100\n",
      "8000/8000 [==============================] - 2s 210us/step - loss: 3.1467 - accuracy: 0.7960\n",
      "Epoch 18/100\n",
      "8000/8000 [==============================] - 2s 272us/step - loss: 3.1467 - accuracy: 0.7960\n",
      "Epoch 19/100\n",
      "8000/8000 [==============================] - 3s 315us/step - loss: 3.1467 - accuracy: 0.7960\n",
      "Epoch 20/100\n",
      "8000/8000 [==============================] - 2s 282us/step - loss: 3.1467 - accuracy: 0.7960\n",
      "Epoch 21/100\n",
      "8000/8000 [==============================] - 2s 281us/step - loss: 3.1467 - accuracy: 0.7960\n",
      "Epoch 22/100\n",
      "8000/8000 [==============================] - 2s 301us/step - loss: 3.1467 - accuracy: 0.7960\n",
      "Epoch 23/100\n",
      "8000/8000 [==============================] - 2s 278us/step - loss: 3.1467 - accuracy: 0.7960\n",
      "Epoch 24/100\n",
      "8000/8000 [==============================] - 1s 183us/step - loss: 3.1467 - accuracy: 0.7960\n",
      "Epoch 25/100\n",
      "8000/8000 [==============================] - 1s 169us/step - loss: 3.1467 - accuracy: 0.7960\n",
      "Epoch 26/100\n",
      "8000/8000 [==============================] - 1s 169us/step - loss: 3.1467 - accuracy: 0.7960\n",
      "Epoch 27/100\n",
      "8000/8000 [==============================] - 2s 203us/step - loss: 3.1467 - accuracy: 0.7960\n",
      "Epoch 28/100\n",
      "8000/8000 [==============================] - 1s 180us/step - loss: 3.1467 - accuracy: 0.7960\n",
      "Epoch 29/100\n",
      "8000/8000 [==============================] - 2s 203us/step - loss: 3.1467 - accuracy: 0.7960\n",
      "Epoch 30/100\n",
      "8000/8000 [==============================] - 3s 365us/step - loss: 3.1467 - accuracy: 0.7960\n",
      "Epoch 31/100\n",
      "8000/8000 [==============================] - 2s 268us/step - loss: 3.1467 - accuracy: 0.7960\n",
      "Epoch 32/100\n",
      "8000/8000 [==============================] - 2s 221us/step - loss: 3.1467 - accuracy: 0.7960\n",
      "Epoch 33/100\n",
      "8000/8000 [==============================] - 2s 231us/step - loss: 3.1467 - accuracy: 0.7960\n",
      "Epoch 34/100\n",
      "8000/8000 [==============================] - 1s 163us/step - loss: 3.1467 - accuracy: 0.7960\n",
      "Epoch 35/100\n",
      "8000/8000 [==============================] - 1s 166us/step - loss: 3.1467 - accuracy: 0.7960\n",
      "Epoch 36/100\n",
      "8000/8000 [==============================] - 1s 162us/step - loss: 3.1467 - accuracy: 0.7960\n",
      "Epoch 37/100\n",
      "8000/8000 [==============================] - 1s 169us/step - loss: 3.1467 - accuracy: 0.7960\n",
      "Epoch 38/100\n",
      "8000/8000 [==============================] - 1s 184us/step - loss: 3.1467 - accuracy: 0.7960\n",
      "Epoch 39/100\n",
      "8000/8000 [==============================] - 2s 259us/step - loss: 3.1467 - accuracy: 0.7960\n",
      "Epoch 40/100\n",
      "8000/8000 [==============================] - 2s 267us/step - loss: 3.1467 - accuracy: 0.7960\n",
      "Epoch 41/100\n",
      "8000/8000 [==============================] - 2s 297us/step - loss: 3.1467 - accuracy: 0.7960\n",
      "Epoch 42/100\n",
      "8000/8000 [==============================] - 2s 296us/step - loss: 3.1467 - accuracy: 0.7960\n",
      "Epoch 43/100\n",
      "8000/8000 [==============================] - 3s 340us/step - loss: 3.1467 - accuracy: 0.7960\n",
      "Epoch 44/100\n",
      "8000/8000 [==============================] - 3s 313us/step - loss: 3.1467 - accuracy: 0.7960\n",
      "Epoch 45/100\n",
      "8000/8000 [==============================] - 1s 185us/step - loss: 3.1467 - accuracy: 0.7960\n",
      "Epoch 46/100\n",
      "8000/8000 [==============================] - 1s 186us/step - loss: 3.1467 - accuracy: 0.7960\n",
      "Epoch 47/100\n",
      "8000/8000 [==============================] - 2s 244us/step - loss: 3.1467 - accuracy: 0.7960\n",
      "Epoch 48/100\n",
      "8000/8000 [==============================] - 2s 243us/step - loss: 3.1467 - accuracy: 0.7960\n",
      "Epoch 49/100\n",
      "8000/8000 [==============================] - 2s 237us/step - loss: 3.1467 - accuracy: 0.7960\n",
      "Epoch 50/100\n",
      "8000/8000 [==============================] - 2s 286us/step - loss: 3.1467 - accuracy: 0.7960\n",
      "Epoch 51/100\n",
      "8000/8000 [==============================] - 2s 201us/step - loss: 3.1467 - accuracy: 0.7960\n",
      "Epoch 52/100\n",
      "8000/8000 [==============================] - 1s 173us/step - loss: 3.1467 - accuracy: 0.7960\n",
      "Epoch 53/100\n",
      "8000/8000 [==============================] - 2s 275us/step - loss: 3.1467 - accuracy: 0.7960\n",
      "Epoch 54/100\n",
      "8000/8000 [==============================] - 2s 235us/step - loss: 3.1467 - accuracy: 0.7960\n",
      "Epoch 55/100\n",
      "8000/8000 [==============================] - 2s 240us/step - loss: 3.1467 - accuracy: 0.7960\n",
      "Epoch 56/100\n",
      "8000/8000 [==============================] - 2s 221us/step - loss: 3.1467 - accuracy: 0.7960\n",
      "Epoch 57/100\n",
      "8000/8000 [==============================] - 2s 280us/step - loss: 3.1467 - accuracy: 0.7960\n",
      "Epoch 58/100\n",
      "8000/8000 [==============================] - 2s 247us/step - loss: 3.1467 - accuracy: 0.7960\n",
      "Epoch 59/100\n",
      "8000/8000 [==============================] - 2s 242us/step - loss: 3.1467 - accuracy: 0.7960\n",
      "Epoch 60/100\n",
      "8000/8000 [==============================] - 2s 228us/step - loss: 3.1467 - accuracy: 0.7960\n",
      "Epoch 61/100\n",
      "8000/8000 [==============================] - 2s 278us/step - loss: 3.1467 - accuracy: 0.7960\n",
      "Epoch 62/100\n",
      "8000/8000 [==============================] - 2s 275us/step - loss: 3.1467 - accuracy: 0.7960\n",
      "Epoch 63/100\n",
      "8000/8000 [==============================] - 2s 308us/step - loss: 3.1467 - accuracy: 0.7960\n",
      "Epoch 64/100\n",
      "8000/8000 [==============================] - 3s 331us/step - loss: 3.1467 - accuracy: 0.7960\n",
      "Epoch 65/100\n",
      "8000/8000 [==============================] - 2s 290us/step - loss: 3.1467 - accuracy: 0.7960\n",
      "Epoch 66/100\n",
      "8000/8000 [==============================] - 2s 294us/step - loss: 3.1467 - accuracy: 0.7960\n",
      "Epoch 67/100\n",
      "8000/8000 [==============================] - 2s 293us/step - loss: 3.1467 - accuracy: 0.7960\n",
      "Epoch 68/100\n",
      "8000/8000 [==============================] - 2s 310us/step - loss: 3.1467 - accuracy: 0.7960\n",
      "Epoch 69/100\n",
      "8000/8000 [==============================] - 2s 299us/step - loss: 3.1467 - accuracy: 0.7960\n",
      "Epoch 70/100\n",
      "8000/8000 [==============================] - 1s 184us/step - loss: 3.1467 - accuracy: 0.7960\n",
      "Epoch 71/100\n",
      "8000/8000 [==============================] - 2s 193us/step - loss: 3.1467 - accuracy: 0.7960\n",
      "Epoch 72/100\n",
      "8000/8000 [==============================] - 2s 219us/step - loss: 3.1467 - accuracy: 0.7960\n",
      "Epoch 73/100\n",
      "8000/8000 [==============================] - 2s 197us/step - loss: 3.1467 - accuracy: 0.7960\n",
      "Epoch 74/100\n",
      "8000/8000 [==============================] - 2s 212us/step - loss: 3.1467 - accuracy: 0.7960\n",
      "Epoch 75/100\n",
      "8000/8000 [==============================] - 2s 220us/step - loss: 3.1467 - accuracy: 0.7960\n",
      "Epoch 76/100\n",
      "8000/8000 [==============================] - 1s 184us/step - loss: 3.1467 - accuracy: 0.7960\n",
      "Epoch 77/100\n",
      "8000/8000 [==============================] - 2s 299us/step - loss: 3.1467 - accuracy: 0.7960\n",
      "Epoch 78/100\n"
     ]
    },
    {
     "name": "stdout",
     "output_type": "stream",
     "text": [
      "8000/8000 [==============================] - 2s 219us/step - loss: 3.1467 - accuracy: 0.7960\n",
      "Epoch 79/100\n",
      "8000/8000 [==============================] - 2s 293us/step - loss: 3.1467 - accuracy: 0.7960\n",
      "Epoch 80/100\n",
      "8000/8000 [==============================] - 2s 213us/step - loss: 3.1467 - accuracy: 0.7960\n",
      "Epoch 81/100\n",
      "8000/8000 [==============================] - 2s 233us/step - loss: 3.1467 - accuracy: 0.7960\n",
      "Epoch 82/100\n",
      "8000/8000 [==============================] - 2s 237us/step - loss: 3.1467 - accuracy: 0.7960\n",
      "Epoch 83/100\n",
      "8000/8000 [==============================] - 3s 333us/step - loss: 3.1467 - accuracy: 0.7960\n",
      "Epoch 84/100\n",
      "8000/8000 [==============================] - 3s 370us/step - loss: 3.1467 - accuracy: 0.7960\n",
      "Epoch 85/100\n",
      "8000/8000 [==============================] - 3s 425us/step - loss: 3.1467 - accuracy: 0.79600s - loss: 3.1492 - accuracy: 0.79\n",
      "Epoch 86/100\n",
      "8000/8000 [==============================] - 3s 422us/step - loss: 3.1467 - accuracy: 0.7960\n",
      "Epoch 87/100\n",
      "8000/8000 [==============================] - 3s 418us/step - loss: 3.1467 - accuracy: 0.7960\n",
      "Epoch 88/100\n",
      "8000/8000 [==============================] - 3s 414us/step - loss: 3.1467 - accuracy: 0.7960\n",
      "Epoch 89/100\n",
      "8000/8000 [==============================] - 3s 426us/step - loss: 3.1467 - accuracy: 0.7960\n",
      "Epoch 90/100\n",
      "8000/8000 [==============================] - 2s 277us/step - loss: 3.1467 - accuracy: 0.7960\n",
      "Epoch 91/100\n",
      "8000/8000 [==============================] - 2s 239us/step - loss: 3.1467 - accuracy: 0.7960\n",
      "Epoch 92/100\n",
      "8000/8000 [==============================] - 2s 231us/step - loss: 3.1467 - accuracy: 0.7960\n",
      "Epoch 93/100\n",
      "8000/8000 [==============================] - 3s 361us/step - loss: 3.1467 - accuracy: 0.7960\n",
      "Epoch 94/100\n",
      "8000/8000 [==============================] - 4s 501us/step - loss: 3.1467 - accuracy: 0.7960\n",
      "Epoch 95/100\n",
      "8000/8000 [==============================] - 2s 201us/step - loss: 3.1467 - accuracy: 0.7960\n",
      "Epoch 96/100\n",
      "8000/8000 [==============================] - 2s 202us/step - loss: 3.1467 - accuracy: 0.7960\n",
      "Epoch 97/100\n",
      "8000/8000 [==============================] - 2s 229us/step - loss: 3.1467 - accuracy: 0.7960\n",
      "Epoch 98/100\n",
      "8000/8000 [==============================] - 2s 272us/step - loss: 3.1467 - accuracy: 0.7960\n",
      "Epoch 99/100\n",
      "8000/8000 [==============================] - 3s 335us/step - loss: 3.1467 - accuracy: 0.7960\n",
      "Epoch 100/100\n",
      "8000/8000 [==============================] - 2s 295us/step - loss: 3.1467 - accuracy: 0.7960\n"
     ]
    },
    {
     "data": {
      "text/plain": [
       "<keras.callbacks.callbacks.History at 0x7ff65419f550>"
      ]
     },
     "execution_count": 14,
     "metadata": {},
     "output_type": "execute_result"
    }
   ],
   "source": [
    "del classifier\n",
    "\n",
    "classifier = Sequential()\n",
    "\n",
    "classifier.add(Dense(units = 6, kernel_initializer = 'uniform', activation = 'sigmoid', input_dim = 11))\n",
    "\n",
    "classifier.add(Dense(units = 6, kernel_initializer = 'uniform', activation = 'sigmoid'))\n",
    "\n",
    "classifier.add(Dense(units = 1, kernel_initializer = 'uniform', activation = 'tanh'))\n",
    "\n",
    "classifier.compile(optimizer = 'adam', loss = 'binary_crossentropy', metrics = ['accuracy'])\n",
    "\n",
    "classifier.fit(X_train, y_train, batch_size = 10, epochs = 100)"
   ]
  },
  {
   "cell_type": "code",
   "execution_count": 15,
   "metadata": {},
   "outputs": [],
   "source": [
    "y_pred = classifier.predict(X_test)\n",
    "y_pred = (y_pred > 0.5)"
   ]
  },
  {
   "cell_type": "markdown",
   "metadata": {},
   "source": [
    "# Making the Confusion Matrix"
   ]
  },
  {
   "cell_type": "code",
   "execution_count": 16,
   "metadata": {},
   "outputs": [
    {
     "name": "stdout",
     "output_type": "stream",
     "text": [
      "[[1595    0]\n",
      " [ 405    0]]\n"
     ]
    }
   ],
   "source": [
    "from sklearn.metrics import confusion_matrix\n",
    "cm = confusion_matrix(y_test, y_pred)\n",
    "print(cm)"
   ]
  },
  {
   "cell_type": "markdown",
   "metadata": {},
   "source": [
    "# Initialising the 3rd ANN"
   ]
  },
  {
   "cell_type": "code",
   "execution_count": 17,
   "metadata": {},
   "outputs": [
    {
     "name": "stdout",
     "output_type": "stream",
     "text": [
      "Epoch 1/100\n",
      "8000/8000 [==============================] - 2s 224us/step - loss: 0.5267 - accuracy: 0.7960\n",
      "Epoch 2/100\n",
      "8000/8000 [==============================] - 2s 265us/step - loss: 0.4494 - accuracy: 0.7960\n",
      "Epoch 3/100\n",
      "8000/8000 [==============================] - 2s 247us/step - loss: 0.4367 - accuracy: 0.7960\n",
      "Epoch 4/100\n",
      "8000/8000 [==============================] - 2s 273us/step - loss: 0.4310 - accuracy: 0.7958\n",
      "Epoch 5/100\n",
      "8000/8000 [==============================] - 1s 171us/step - loss: 0.4286 - accuracy: 0.7976\n",
      "Epoch 6/100\n",
      "8000/8000 [==============================] - 1s 160us/step - loss: 0.4277 - accuracy: 0.8005\n",
      "Epoch 7/100\n",
      "8000/8000 [==============================] - 1s 186us/step - loss: 0.4275 - accuracy: 0.7991\n",
      "Epoch 8/100\n",
      "8000/8000 [==============================] - 2s 272us/step - loss: 0.4272 - accuracy: 0.8004\n",
      "Epoch 9/100\n",
      "8000/8000 [==============================] - 2s 211us/step - loss: 0.4271 - accuracy: 0.8027\n",
      "Epoch 10/100\n",
      "8000/8000 [==============================] - 2s 221us/step - loss: 0.4269 - accuracy: 0.8039\n",
      "Epoch 11/100\n",
      "8000/8000 [==============================] - 2s 205us/step - loss: 0.4265 - accuracy: 0.8043\n",
      "Epoch 12/100\n",
      "8000/8000 [==============================] - 2s 214us/step - loss: 0.4256 - accuracy: 0.8071\n",
      "Epoch 13/100\n",
      "8000/8000 [==============================] - 2s 206us/step - loss: 0.4248 - accuracy: 0.8117\n",
      "Epoch 14/100\n",
      "8000/8000 [==============================] - 2s 210us/step - loss: 0.4229 - accuracy: 0.8170\n",
      "Epoch 15/100\n",
      "8000/8000 [==============================] - 2s 213us/step - loss: 0.4194 - accuracy: 0.8229\n",
      "Epoch 16/100\n",
      "8000/8000 [==============================] - 2s 208us/step - loss: 0.4159 - accuracy: 0.8248\n",
      "Epoch 17/100\n",
      "8000/8000 [==============================] - 2s 212us/step - loss: 0.4131 - accuracy: 0.8273\n",
      "Epoch 18/100\n",
      "8000/8000 [==============================] - 2s 221us/step - loss: 0.4106 - accuracy: 0.8288\n",
      "Epoch 19/100\n",
      "8000/8000 [==============================] - 2s 208us/step - loss: 0.4090 - accuracy: 0.8314\n",
      "Epoch 20/100\n",
      "8000/8000 [==============================] - 2s 213us/step - loss: 0.4076 - accuracy: 0.8311\n",
      "Epoch 21/100\n",
      "8000/8000 [==============================] - 2s 285us/step - loss: 0.4062 - accuracy: 0.8331\n",
      "Epoch 22/100\n",
      "8000/8000 [==============================] - 2s 235us/step - loss: 0.4051 - accuracy: 0.8347\n",
      "Epoch 23/100\n",
      "8000/8000 [==============================] - 2s 259us/step - loss: 0.4041 - accuracy: 0.8351\n",
      "Epoch 24/100\n",
      "8000/8000 [==============================] - 2s 262us/step - loss: 0.4032 - accuracy: 0.8353\n",
      "Epoch 25/100\n",
      "8000/8000 [==============================] - 2s 249us/step - loss: 0.4025 - accuracy: 0.8347\n",
      "Epoch 26/100\n",
      "8000/8000 [==============================] - 2s 246us/step - loss: 0.4018 - accuracy: 0.8360\n",
      "Epoch 27/100\n",
      "8000/8000 [==============================] - 2s 293us/step - loss: 0.4011 - accuracy: 0.8353\n",
      "Epoch 28/100\n",
      "8000/8000 [==============================] - 2s 306us/step - loss: 0.4007 - accuracy: 0.8364\n",
      "Epoch 29/100\n",
      "8000/8000 [==============================] - 2s 219us/step - loss: 0.4002 - accuracy: 0.8355\n",
      "Epoch 30/100\n",
      "8000/8000 [==============================] - 2s 216us/step - loss: 0.3997 - accuracy: 0.8360\n",
      "Epoch 31/100\n",
      "8000/8000 [==============================] - 2s 272us/step - loss: 0.3991 - accuracy: 0.8364\n",
      "Epoch 32/100\n",
      "8000/8000 [==============================] - 2s 303us/step - loss: 0.3985 - accuracy: 0.8378\n",
      "Epoch 33/100\n",
      "8000/8000 [==============================] - 3s 325us/step - loss: 0.3982 - accuracy: 0.8360\n",
      "Epoch 34/100\n",
      "8000/8000 [==============================] - 3s 341us/step - loss: 0.3978 - accuracy: 0.8366\n",
      "Epoch 35/100\n",
      "8000/8000 [==============================] - 2s 309us/step - loss: 0.3969 - accuracy: 0.8364\n",
      "Epoch 36/100\n",
      "8000/8000 [==============================] - 2s 243us/step - loss: 0.3970 - accuracy: 0.8359\n",
      "Epoch 37/100\n",
      "8000/8000 [==============================] - 3s 346us/step - loss: 0.3962 - accuracy: 0.8357\n",
      "Epoch 38/100\n",
      "8000/8000 [==============================] - 2s 241us/step - loss: 0.3953 - accuracy: 0.8365\n",
      "Epoch 39/100\n",
      "8000/8000 [==============================] - 2s 240us/step - loss: 0.3945 - accuracy: 0.8357\n",
      "Epoch 40/100\n",
      "8000/8000 [==============================] - 2s 268us/step - loss: 0.3933 - accuracy: 0.8355\n",
      "Epoch 41/100\n",
      "8000/8000 [==============================] - 2s 255us/step - loss: 0.3918 - accuracy: 0.8357\n",
      "Epoch 42/100\n",
      "8000/8000 [==============================] - 2s 273us/step - loss: 0.3902 - accuracy: 0.8365\n",
      "Epoch 43/100\n",
      "8000/8000 [==============================] - 3s 405us/step - loss: 0.3889 - accuracy: 0.8364\n",
      "Epoch 44/100\n",
      "8000/8000 [==============================] - 4s 472us/step - loss: 0.3870 - accuracy: 0.8381\n",
      "Epoch 45/100\n",
      "8000/8000 [==============================] - 4s 469us/step - loss: 0.3850 - accuracy: 0.8381\n",
      "Epoch 46/100\n",
      "8000/8000 [==============================] - 2s 223us/step - loss: 0.3827 - accuracy: 0.8410\n",
      "Epoch 47/100\n",
      "8000/8000 [==============================] - 2s 232us/step - loss: 0.3803 - accuracy: 0.8403\n",
      "Epoch 48/100\n",
      "8000/8000 [==============================] - 2s 209us/step - loss: 0.3772 - accuracy: 0.8424\n",
      "Epoch 49/100\n",
      "8000/8000 [==============================] - 1s 154us/step - loss: 0.3744 - accuracy: 0.8440\n",
      "Epoch 50/100\n",
      "8000/8000 [==============================] - 2s 205us/step - loss: 0.3717 - accuracy: 0.8468\n",
      "Epoch 51/100\n",
      "8000/8000 [==============================] - 1s 169us/step - loss: 0.3685 - accuracy: 0.8470\n",
      "Epoch 52/100\n",
      "8000/8000 [==============================] - 1s 168us/step - loss: 0.3650 - accuracy: 0.8495\n",
      "Epoch 53/100\n",
      "8000/8000 [==============================] - 2s 205us/step - loss: 0.3615 - accuracy: 0.8511\n",
      "Epoch 54/100\n",
      "8000/8000 [==============================] - 1s 159us/step - loss: 0.3585 - accuracy: 0.8534\n",
      "Epoch 55/100\n",
      "8000/8000 [==============================] - 1s 155us/step - loss: 0.3550 - accuracy: 0.8539\n",
      "Epoch 56/100\n",
      "8000/8000 [==============================] - 1s 187us/step - loss: 0.3523 - accuracy: 0.8558\n",
      "Epoch 57/100\n",
      "8000/8000 [==============================] - 2s 191us/step - loss: 0.3496 - accuracy: 0.8559\n",
      "Epoch 58/100\n",
      "8000/8000 [==============================] - 2s 207us/step - loss: 0.3473 - accuracy: 0.8570\n",
      "Epoch 59/100\n",
      "8000/8000 [==============================] - 2s 193us/step - loss: 0.3454 - accuracy: 0.8585\n",
      "Epoch 60/100\n",
      "8000/8000 [==============================] - 1s 175us/step - loss: 0.3440 - accuracy: 0.8589\n",
      "Epoch 61/100\n",
      "8000/8000 [==============================] - 2s 211us/step - loss: 0.3427 - accuracy: 0.8600\n",
      "Epoch 62/100\n",
      "8000/8000 [==============================] - 2s 237us/step - loss: 0.3413 - accuracy: 0.8591\n",
      "Epoch 63/100\n",
      "8000/8000 [==============================] - 2s 227us/step - loss: 0.3403 - accuracy: 0.8614\n",
      "Epoch 64/100\n",
      "8000/8000 [==============================] - 2s 199us/step - loss: 0.3397 - accuracy: 0.8608\n",
      "Epoch 65/100\n",
      "8000/8000 [==============================] - 2s 229us/step - loss: 0.3386 - accuracy: 0.8614\n",
      "Epoch 66/100\n",
      "8000/8000 [==============================] - 2s 271us/step - loss: 0.3378 - accuracy: 0.8619\n",
      "Epoch 67/100\n",
      "8000/8000 [==============================] - 2s 263us/step - loss: 0.3382 - accuracy: 0.8612\n",
      "Epoch 68/100\n",
      "8000/8000 [==============================] - 1s 183us/step - loss: 0.3377 - accuracy: 0.8634\n",
      "Epoch 69/100\n",
      "8000/8000 [==============================] - 2s 272us/step - loss: 0.3371 - accuracy: 0.8616\n",
      "Epoch 70/100\n",
      "8000/8000 [==============================] - 2s 249us/step - loss: 0.3371 - accuracy: 0.8621\n",
      "Epoch 71/100\n",
      "8000/8000 [==============================] - 2s 231us/step - loss: 0.3367 - accuracy: 0.8629\n",
      "Epoch 72/100\n",
      "8000/8000 [==============================] - 2s 219us/step - loss: 0.3363 - accuracy: 0.8640\n",
      "Epoch 73/100\n",
      "8000/8000 [==============================] - 2s 196us/step - loss: 0.3362 - accuracy: 0.8639\n",
      "Epoch 74/100\n",
      "8000/8000 [==============================] - 2s 195us/step - loss: 0.3359 - accuracy: 0.8636\n",
      "Epoch 75/100\n",
      "8000/8000 [==============================] - 2s 194us/step - loss: 0.3359 - accuracy: 0.8634\n",
      "Epoch 76/100\n",
      "8000/8000 [==============================] - 2s 191us/step - loss: 0.3356 - accuracy: 0.8624\n",
      "Epoch 77/100\n",
      "8000/8000 [==============================] - 2s 214us/step - loss: 0.3352 - accuracy: 0.8634\n",
      "Epoch 78/100\n"
     ]
    },
    {
     "name": "stdout",
     "output_type": "stream",
     "text": [
      "8000/8000 [==============================] - 2s 188us/step - loss: 0.3354 - accuracy: 0.8634\n",
      "Epoch 79/100\n",
      "8000/8000 [==============================] - 1s 181us/step - loss: 0.3352 - accuracy: 0.8637\n",
      "Epoch 80/100\n",
      "8000/8000 [==============================] - 2s 221us/step - loss: 0.3349 - accuracy: 0.8634\n",
      "Epoch 81/100\n",
      "8000/8000 [==============================] - 2s 287us/step - loss: 0.3348 - accuracy: 0.8629\n",
      "Epoch 82/100\n",
      "8000/8000 [==============================] - 3s 317us/step - loss: 0.3347 - accuracy: 0.8636\n",
      "Epoch 83/100\n",
      "8000/8000 [==============================] - 2s 288us/step - loss: 0.3347 - accuracy: 0.8636\n",
      "Epoch 84/100\n",
      "8000/8000 [==============================] - 1s 148us/step - loss: 0.3342 - accuracy: 0.8629\n",
      "Epoch 85/100\n",
      "8000/8000 [==============================] - 1s 146us/step - loss: 0.3342 - accuracy: 0.8630\n",
      "Epoch 86/100\n",
      "8000/8000 [==============================] - 1s 150us/step - loss: 0.3341 - accuracy: 0.8630\n",
      "Epoch 87/100\n",
      "8000/8000 [==============================] - 1s 148us/step - loss: 0.3338 - accuracy: 0.8631\n",
      "Epoch 88/100\n",
      "8000/8000 [==============================] - 1s 174us/step - loss: 0.3334 - accuracy: 0.8625\n",
      "Epoch 89/100\n",
      "8000/8000 [==============================] - 2s 204us/step - loss: 0.3337 - accuracy: 0.8639\n",
      "Epoch 90/100\n",
      "8000/8000 [==============================] - 2s 217us/step - loss: 0.3336 - accuracy: 0.8636\n",
      "Epoch 91/100\n",
      "8000/8000 [==============================] - 3s 373us/step - loss: 0.3336 - accuracy: 0.8630\n",
      "Epoch 92/100\n",
      "8000/8000 [==============================] - 3s 383us/step - loss: 0.3332 - accuracy: 0.8627\n",
      "Epoch 93/100\n",
      "8000/8000 [==============================] - 2s 247us/step - loss: 0.3334 - accuracy: 0.8646\n",
      "Epoch 94/100\n",
      "8000/8000 [==============================] - 3s 372us/step - loss: 0.3330 - accuracy: 0.8635\n",
      "Epoch 95/100\n",
      "8000/8000 [==============================] - 3s 355us/step - loss: 0.3329 - accuracy: 0.8636\n",
      "Epoch 96/100\n",
      "8000/8000 [==============================] - 2s 295us/step - loss: 0.3330 - accuracy: 0.8634\n",
      "Epoch 97/100\n",
      "8000/8000 [==============================] - 2s 299us/step - loss: 0.3327 - accuracy: 0.8639\n",
      "Epoch 98/100\n",
      "8000/8000 [==============================] - 2s 206us/step - loss: 0.3327 - accuracy: 0.8635\n",
      "Epoch 99/100\n",
      "8000/8000 [==============================] - 1s 167us/step - loss: 0.3323 - accuracy: 0.8641\n",
      "Epoch 100/100\n",
      "8000/8000 [==============================] - 1s 164us/step - loss: 0.3327 - accuracy: 0.8644\n"
     ]
    },
    {
     "data": {
      "text/plain": [
       "<keras.callbacks.callbacks.History at 0x7ff63e174cd0>"
      ]
     },
     "execution_count": 17,
     "metadata": {},
     "output_type": "execute_result"
    }
   ],
   "source": [
    "del classifier\n",
    "\n",
    "classifier = Sequential()\n",
    "\n",
    "classifier.add(Dense(units = 6, kernel_initializer = 'uniform', activation = 'sigmoid', input_dim = 11))\n",
    "\n",
    "classifier.add(Dense(units = 6, kernel_initializer = 'uniform', activation = 'relu'))\n",
    "\n",
    "classifier.add(Dense(units = 1, kernel_initializer = 'uniform', activation = 'sigmoid'))\n",
    "\n",
    "classifier.compile(optimizer = 'adam', loss = 'binary_crossentropy', metrics = ['accuracy'])\n",
    "\n",
    "classifier.fit(X_train, y_train, batch_size = 10, epochs = 100)"
   ]
  },
  {
   "cell_type": "code",
   "execution_count": 18,
   "metadata": {},
   "outputs": [],
   "source": [
    "y_pred = classifier.predict(X_test)\n",
    "y_pred = (y_pred > 0.5)"
   ]
  },
  {
   "cell_type": "markdown",
   "metadata": {},
   "source": [
    "# Making the Confusion Matrix"
   ]
  },
  {
   "cell_type": "code",
   "execution_count": 19,
   "metadata": {},
   "outputs": [
    {
     "name": "stdout",
     "output_type": "stream",
     "text": [
      "[[1509   86]\n",
      " [ 195  210]]\n"
     ]
    }
   ],
   "source": [
    "from sklearn.metrics import confusion_matrix\n",
    "cm = confusion_matrix(y_test, y_pred)\n",
    "print(cm)"
   ]
  },
  {
   "cell_type": "markdown",
   "metadata": {},
   "source": [
    "---\n",
    "# Parte 4 - Evaluating, Improving and Tuning the ANN\n",
    "\n",
    "## Evaluating the ANN"
   ]
  },
  {
   "cell_type": "code",
   "execution_count": 34,
   "metadata": {},
   "outputs": [],
   "source": [
    "from keras.wrappers.scikit_learn import KerasClassifier\n",
    "from sklearn.model_selection import cross_val_score\n",
    "from keras.models import Sequential\n",
    "from keras.layers import Dense, Dropout\n",
    "\n",
    "def build_classifier():\n",
    "    classifier = Sequential()\n",
    "    \n",
    "    classifier.add(Dense(units = 6, kernel_initializer = 'uniform', activation = 'relu', input_dim = 11))\n",
    "    classifier.add(Dense(units = 6, kernel_initializer = 'uniform', activation = 'relu'))\n",
    "    #classifier.add(Dropout(rate = 0.5))\n",
    "    classifier.add(Dropout(rate = 0.1))\n",
    "    classifier.add(Dense(units = 1, kernel_initializer = 'uniform', activation = 'sigmoid'))\n",
    "    #classifier.add(Dropout(rate = 0.5))\n",
    "    classifier.add(Dropout(rate = 0.1))\n",
    "    classifier.compile(optimizer = 'adam', loss = 'binary_crossentropy', metrics = ['accuracy'])\n",
    "    return classifier\n",
    "\n",
    "classifier = KerasClassifier(build_fn = build_classifier, batch_size = 10, epochs = 10)\n",
    "accuracies = cross_val_score(estimator = classifier, X = X_train, y = y_train, cv = 10, n_jobs = -1)\n",
    "mean = accuracies.mean()\n",
    "variance = accuracies.std()\n",
    "#print(\"accuracies:%s\\nmean:%s\\nvariance:%s\".format(accuracies, mean, variance))"
   ]
  },
  {
   "cell_type": "code",
   "execution_count": 35,
   "metadata": {},
   "outputs": [
    {
     "name": "stdout",
     "output_type": "stream",
     "text": [
      "Acurácia: \n",
      "Epoch 1/10\n",
      "5333/5333 [==============================] - 1s 155us/step - loss: 0.7814 - accuracy: 0.6897\n",
      "Epoch 2/10\n",
      "5333/5333 [==============================] - 1s 132us/step - loss: 0.7031 - accuracy: 0.7977\n",
      "Epoch 3/10\n",
      "5333/5333 [==============================] - 1s 139us/step - loss: 0.7112 - accuracy: 0.7984\n",
      "Epoch 4/10\n",
      "5333/5333 [==============================] - 1s 137us/step - loss: 0.6205 - accuracy: 0.8041\n",
      "Epoch 5/10\n",
      "5333/5333 [==============================] - 1s 137us/step - loss: 0.7062 - accuracy: 0.8204\n",
      "Epoch 6/10\n",
      "5333/5333 [==============================] - 1s 138us/step - loss: 0.6944 - accuracy: 0.8219\n",
      "Epoch 7/10\n",
      "5333/5333 [==============================] - 1s 139us/step - loss: 0.6700 - accuracy: 0.8260\n",
      "Epoch 8/10\n",
      "5333/5333 [==============================] - 1s 149us/step - loss: 0.6354 - accuracy: 0.8284\n",
      "Epoch 9/10\n",
      "5333/5333 [==============================] - 1s 146us/step - loss: 0.7193 - accuracy: 0.8252\n",
      "Epoch 10/10\n",
      "5333/5333 [==============================] - 1s 149us/step - loss: 0.7244 - accuracy: 0.8262\n",
      "2667/2667 [==============================] - 0s 63us/step\n",
      "Epoch 1/10\n",
      "5333/5333 [==============================] - 1s 157us/step - loss: 0.7826 - accuracy: 0.6724\n",
      "Epoch 2/10\n",
      "5333/5333 [==============================] - 1s 156us/step - loss: 0.7089 - accuracy: 0.7934\n",
      "Epoch 3/10\n",
      "5333/5333 [==============================] - 1s 154us/step - loss: 0.6916 - accuracy: 0.7934\n",
      "Epoch 4/10\n",
      "5333/5333 [==============================] - 1s 152us/step - loss: 0.6996 - accuracy: 0.8057\n",
      "Epoch 5/10\n",
      "5333/5333 [==============================] - 1s 152us/step - loss: 0.6666 - accuracy: 0.8213\n",
      "Epoch 6/10\n",
      "5333/5333 [==============================] - 1s 154us/step - loss: 0.7417 - accuracy: 0.8217\n",
      "Epoch 7/10\n",
      "5333/5333 [==============================] - 1s 153us/step - loss: 0.6529 - accuracy: 0.8275\n",
      "Epoch 8/10\n",
      "5333/5333 [==============================] - 1s 155us/step - loss: 0.6976 - accuracy: 0.8258\n",
      "Epoch 9/10\n",
      "5333/5333 [==============================] - 1s 151us/step - loss: 0.7031 - accuracy: 0.8307\n",
      "Epoch 10/10\n",
      "5333/5333 [==============================] - 1s 156us/step - loss: 0.6991 - accuracy: 0.8286\n",
      "2667/2667 [==============================] - 0s 79us/step\n",
      "Epoch 1/10\n",
      "5334/5334 [==============================] - 1s 156us/step - loss: 0.8132 - accuracy: 0.6595\n",
      "Epoch 2/10\n",
      "5334/5334 [==============================] - 1s 140us/step - loss: 0.7028 - accuracy: 0.7964\n",
      "Epoch 3/10\n",
      "5334/5334 [==============================] - 1s 139us/step - loss: 0.6927 - accuracy: 0.7964\n",
      "Epoch 4/10\n",
      "5334/5334 [==============================] - 1s 140us/step - loss: 0.7137 - accuracy: 0.7964\n",
      "Epoch 5/10\n",
      "5334/5334 [==============================] - 1s 140us/step - loss: 0.6830 - accuracy: 0.8009\n",
      "Epoch 6/10\n",
      "5334/5334 [==============================] - 1s 136us/step - loss: 0.7260 - accuracy: 0.8215\n",
      "Epoch 7/10\n",
      "5334/5334 [==============================] - 1s 152us/step - loss: 0.7012 - accuracy: 0.8253\n",
      "Epoch 8/10\n",
      "5334/5334 [==============================] - 1s 152us/step - loss: 0.6855 - accuracy: 0.8268\n",
      "Epoch 9/10\n",
      "5334/5334 [==============================] - 1s 157us/step - loss: 0.6473 - accuracy: 0.8288\n",
      "Epoch 10/10\n",
      "5334/5334 [==============================] - 1s 152us/step - loss: 0.6876 - accuracy: 0.8251\n",
      "2666/2666 [==============================] - 0s 62us/step\n",
      "[0.81364828 0.82752156 0.82933235]\n"
     ]
    }
   ],
   "source": [
    "print(\"Acurácia: \")\n",
    "print(cross_val_score(classifier, X_train, y_train, cv=3))"
   ]
  },
  {
   "cell_type": "code",
   "execution_count": 36,
   "metadata": {},
   "outputs": [
    {
     "name": "stdout",
     "output_type": "stream",
     "text": [
      "Media: \n",
      "0.8300000131130219\n"
     ]
    }
   ],
   "source": [
    "print(\"Media: \")\n",
    "print(mean)"
   ]
  },
  {
   "cell_type": "code",
   "execution_count": 37,
   "metadata": {},
   "outputs": [
    {
     "name": "stdout",
     "output_type": "stream",
     "text": [
      "Variação: \n",
      "0.017712981104059507\n"
     ]
    }
   ],
   "source": [
    "print(\"Variação: \")\n",
    "print(variance)"
   ]
  },
  {
   "cell_type": "markdown",
   "metadata": {},
   "source": [
    "# Improving the ANN\n",
    "# Dropout Regularization to reduce overfitting if needed"
   ]
  },
  {
   "cell_type": "code",
   "execution_count": null,
   "metadata": {},
   "outputs": [],
   "source": [
    "from keras.layers import Dropout\n",
    "\n",
    "def build_classifier():\n",
    "    classifier = Sequential()\n",
    "    classifier.add(Dense(units = 6, kernel_initializer = 'uniform', activation = 'relu', input_dim = 11))\n",
    "    classifier.add(Dropout(rate = 0.1))\n",
    "    classifier.add(Dense(units = 6, kernel_initializer = 'uniform', activation = 'relu'))\n",
    "    classifier.add(Dropout(rate = 0.1))\n",
    "    classifier.add(Dense(units = 1, kernel_initializer = 'uniform', activation = 'sigmoid'))\n",
    "    classifier.compile(optimizer = 'adam', loss = 'binary_crossentropy', metrics = ['accuracy'])\n",
    "    return classifier\n",
    "\n",
    "classifier = KerasClassifier(build_fn = build_classifier, batch_size = 10, epochs = 10)\n",
    "accuracies = cross_val_score(estimator = classifier, X = X_train, y = y_train, cv = 10, n_jobs = -1)\n",
    "mean = accuracies.mean()\n",
    "variance = accuracies.std()"
   ]
  },
  {
   "cell_type": "markdown",
   "metadata": {},
   "source": [
    "# Tuning the ANN"
   ]
  },
  {
   "cell_type": "code",
   "execution_count": null,
   "metadata": {},
   "outputs": [],
   "source": [
    "from keras.wrappers.scikit_learn import KerasClassifier\n",
    "from sklearn.model_selection import GridSearchCV\n",
    "from keras.models import Sequential\n",
    "from keras.layers import Dense\n",
    "\n",
    "def build_classifier(optimizer):\n",
    "    classifier = Sequential()\n",
    "    classifier.add(Dense(units = 6, kernel_initializer = 'uniform', activation = 'relu', input_dim = 11))\n",
    "    classifier.add(Dropout(rate = 0.1))\n",
    "    classifier.add(Dense(units = 6, kernel_initializer = 'uniform', activation = 'relu'))\n",
    "    classifier.add(Dropout(rate = 0.1))\n",
    "    classifier.add(Dense(units = 1, kernel_initializer = 'uniform', activation = 'sigmoid'))\n",
    "    classifier.compile(optimizer = optimizer, loss = 'binary_crossentropy', metrics = ['accuracy'])\n",
    "    return classifier\n",
    "\n",
    "classifier = KerasClassifier(build_fn = build_classifier)"
   ]
  },
  {
   "cell_type": "code",
   "execution_count": null,
   "metadata": {},
   "outputs": [],
   "source": [
    "parameters = {'batch_size': [10, 50, 100],\n",
    "              'epochs': [50, 100, 200],\n",
    "              'optimizer': ['adam', 'rmsprop']}\n",
    "\n",
    "grid_search = GridSearchCV(estimator = classifier,\n",
    "                           scoring = 'accuracy',\n",
    "                           param_grid = parameters,\n",
    "                           cv = 10)\n",
    "\n",
    "grid_search = grid_search.fit(X_train, y_train)\n"
   ]
  },
  {
   "cell_type": "code",
   "execution_count": null,
   "metadata": {},
   "outputs": [],
   "source": [
    "best_parameters = grid_search.best_params_\n",
    "print(best_parameters)"
   ]
  },
  {
   "cell_type": "code",
   "execution_count": null,
   "metadata": {},
   "outputs": [],
   "source": [
    "best_accuracy = grid_search.best_score_\n",
    "print(best_accuracy)"
   ]
  },
  {
   "cell_type": "markdown",
   "metadata": {},
   "source": [
    "# FIM"
   ]
  },
  {
   "cell_type": "markdown",
   "metadata": {},
   "source": [
    "> Professor Diego Dorgam  \n",
    "> [@diegodorgam](https://twitter.com/diegodorgam)"
   ]
  }
 ],
 "metadata": {
  "kernelspec": {
   "display_name": "Python 3",
   "language": "python",
   "name": "python3"
  },
  "language_info": {
   "codemirror_mode": {
    "name": "ipython",
    "version": 3
   },
   "file_extension": ".py",
   "mimetype": "text/x-python",
   "name": "python",
   "nbconvert_exporter": "python",
   "pygments_lexer": "ipython3",
   "version": "3.7.4"
  }
 },
 "nbformat": 4,
 "nbformat_minor": 2
}
