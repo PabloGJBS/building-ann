{
 "cells": [
  {
   "cell_type": "markdown",
   "metadata": {},
   "source": [
    "# REDES NEURAIS ARTIFICIAIS\n",
    "\n",
    "## Atividade 02"
   ]
  },
  {
   "cell_type": "code",
   "execution_count": 1,
   "metadata": {},
   "outputs": [
    {
     "name": "stdout",
     "output_type": "stream",
     "text": [
      "Collecting git+git://github.com/Theano/Theano.git\n",
      "  Cloning git://github.com/Theano/Theano.git to /private/var/folders/xv/6xdsnhm10jg5y1g0bm3kp9140000gp/T/pip-req-build-8g5oafk2\n",
      "  Running command git clone -q git://github.com/Theano/Theano.git /private/var/folders/xv/6xdsnhm10jg5y1g0bm3kp9140000gp/T/pip-req-build-8g5oafk2\n",
      "Building wheels for collected packages: Theano\n",
      "  Building wheel for Theano (setup.py) ... \u001b[?25ldone\n",
      "\u001b[?25h  Created wheel for Theano: filename=Theano-1.0.4+21.g8f510a1f0-cp36-none-any.whl size=2666379 sha256=041cb3a9e761cab5d820669c49be2cb71215f819b38d3ca8810aee93f4551093\n",
      "  Stored in directory: /private/var/folders/xv/6xdsnhm10jg5y1g0bm3kp9140000gp/T/pip-ephem-wheel-cache-pri53nb7/wheels/ae/32/7c/62beb8371953eb20c271b3bac7d0e56e1a2020d46994346b52\n",
      "Successfully built Theano\n",
      "Installing collected packages: Theano\n",
      "  Found existing installation: Theano 1.0.4+21.g8f510a1f0\n",
      "    Uninstalling Theano-1.0.4+21.g8f510a1f0:\n",
      "      Successfully uninstalled Theano-1.0.4+21.g8f510a1f0\n",
      "Successfully installed Theano-1.0.4+21.g8f510a1f0\n",
      "Collecting tensorflow\n",
      "  Using cached https://files.pythonhosted.org/packages/27/8c/7608ba709bd536bc2bccb0d1abbb70aafe9cf7e0170353b4b720ed54cb71/tensorflow-1.14.0-cp36-cp36m-macosx_10_11_x86_64.whl\n",
      "Requirement already satisfied, skipping upgrade: wrapt>=1.11.1 in /Users/dorgam/.local/lib/python3.6/site-packages (from tensorflow) (1.11.1)\n",
      "Requirement already satisfied, skipping upgrade: termcolor>=1.1.0 in /anaconda3/lib/python3.6/site-packages (from tensorflow) (1.1.0)\n",
      "Requirement already satisfied, skipping upgrade: six>=1.10.0 in /anaconda3/lib/python3.6/site-packages (from tensorflow) (1.11.0)\n",
      "Requirement already satisfied, skipping upgrade: wheel>=0.26 in /anaconda3/lib/python3.6/site-packages (from tensorflow) (0.31.1)\n",
      "Requirement already satisfied, skipping upgrade: grpcio>=1.8.6 in /anaconda3/lib/python3.6/site-packages (from tensorflow) (1.16.0)\n",
      "Collecting absl-py>=0.7.0 (from tensorflow)\n",
      "Collecting tensorboard<1.15.0,>=1.14.0 (from tensorflow)\n",
      "  Using cached https://files.pythonhosted.org/packages/91/2d/2ed263449a078cd9c8a9ba50ebd50123adf1f8cfbea1492f9084169b89d9/tensorboard-1.14.0-py3-none-any.whl\n",
      "Requirement already satisfied, skipping upgrade: keras-applications>=1.0.6 in /anaconda3/lib/python3.6/site-packages (from tensorflow) (1.0.8)\n",
      "Collecting tensorflow-estimator<1.15.0rc0,>=1.14.0rc0 (from tensorflow)\n",
      "  Using cached https://files.pythonhosted.org/packages/3c/d5/21860a5b11caf0678fbc8319341b0ae21a07156911132e0e71bffed0510d/tensorflow_estimator-1.14.0-py2.py3-none-any.whl\n",
      "Requirement already satisfied, skipping upgrade: astor>=0.6.0 in /anaconda3/lib/python3.6/site-packages (from tensorflow) (0.7.1)\n",
      "Requirement already satisfied, skipping upgrade: numpy<2.0,>=1.14.5 in /anaconda3/lib/python3.6/site-packages (from tensorflow) (1.17.2)\n",
      "Collecting google-pasta>=0.1.6 (from tensorflow)\n",
      "  Using cached https://files.pythonhosted.org/packages/d0/33/376510eb8d6246f3c30545f416b2263eee461e40940c2a4413c711bdf62d/google_pasta-0.1.7-py3-none-any.whl\n",
      "Requirement already satisfied, skipping upgrade: protobuf>=3.6.1 in /anaconda3/lib/python3.6/site-packages (from tensorflow) (3.6.1)\n",
      "Requirement already satisfied, skipping upgrade: gast>=0.2.0 in /anaconda3/lib/python3.6/site-packages (from tensorflow) (0.2.0)\n",
      "Requirement already satisfied, skipping upgrade: keras-preprocessing>=1.0.5 in /anaconda3/lib/python3.6/site-packages (from tensorflow) (1.1.0)\n",
      "Requirement already satisfied, skipping upgrade: werkzeug>=0.11.15 in /anaconda3/lib/python3.6/site-packages (from tensorboard<1.15.0,>=1.14.0->tensorflow) (0.14.1)\n",
      "Collecting setuptools>=41.0.0 (from tensorboard<1.15.0,>=1.14.0->tensorflow)\n",
      "  Using cached https://files.pythonhosted.org/packages/b2/86/095d2f7829badc207c893dd4ac767e871f6cd547145df797ea26baea4e2e/setuptools-41.2.0-py2.py3-none-any.whl\n",
      "Requirement already satisfied, skipping upgrade: markdown>=2.6.8 in /anaconda3/lib/python3.6/site-packages (from tensorboard<1.15.0,>=1.14.0->tensorflow) (3.0.1)\n",
      "Requirement already satisfied, skipping upgrade: h5py in /anaconda3/lib/python3.6/site-packages (from keras-applications>=1.0.6->tensorflow) (2.7.1)\n",
      "\u001b[31mERROR: rasa-core 0.11.12 has requirement tensorflow==1.10.0, but you'll have tensorflow 1.14.0 which is incompatible.\u001b[0m\n",
      "Installing collected packages: absl-py, setuptools, tensorboard, tensorflow-estimator, google-pasta, tensorflow\n",
      "  Found existing installation: absl-py 0.6.1\n",
      "    Uninstalling absl-py-0.6.1:\n",
      "      Successfully uninstalled absl-py-0.6.1\n",
      "  Found existing installation: setuptools 39.1.0\n",
      "    Uninstalling setuptools-39.1.0:\n",
      "      Successfully uninstalled setuptools-39.1.0\n",
      "  Found existing installation: tensorboard 1.13.1\n",
      "    Uninstalling tensorboard-1.13.1:\n",
      "      Successfully uninstalled tensorboard-1.13.1\n",
      "  Found existing installation: tensorflow-estimator 1.13.0\n",
      "    Uninstalling tensorflow-estimator-1.13.0:\n",
      "      Successfully uninstalled tensorflow-estimator-1.13.0\n",
      "  Found existing installation: tensorflow 1.13.1\n",
      "    Uninstalling tensorflow-1.13.1:\n",
      "      Successfully uninstalled tensorflow-1.13.1\n",
      "Successfully installed absl-py-0.8.0 google-pasta-0.1.7 setuptools-41.2.0 tensorboard-1.14.0 tensorflow-1.14.0 tensorflow-estimator-1.14.0\n",
      "Requirement already up-to-date: keras in /anaconda3/lib/python3.6/site-packages (2.2.5)\n",
      "Requirement already satisfied, skipping upgrade: numpy>=1.9.1 in /anaconda3/lib/python3.6/site-packages (from keras) (1.17.2)\n",
      "Requirement already satisfied, skipping upgrade: scipy>=0.14 in /anaconda3/lib/python3.6/site-packages (from keras) (1.1.0)\n",
      "Requirement already satisfied, skipping upgrade: keras-applications>=1.0.8 in /anaconda3/lib/python3.6/site-packages (from keras) (1.0.8)\n",
      "Requirement already satisfied, skipping upgrade: keras-preprocessing>=1.1.0 in /anaconda3/lib/python3.6/site-packages (from keras) (1.1.0)\n",
      "Requirement already satisfied, skipping upgrade: pyyaml in /anaconda3/lib/python3.6/site-packages (from keras) (3.12)\n",
      "Requirement already satisfied, skipping upgrade: six>=1.9.0 in /anaconda3/lib/python3.6/site-packages (from keras) (1.11.0)\n",
      "Requirement already satisfied, skipping upgrade: h5py in /anaconda3/lib/python3.6/site-packages (from keras) (2.7.1)\n",
      "Requirement already up-to-date: pip in /anaconda3/lib/python3.6/site-packages (19.2.3)\n",
      "Requirement already up-to-date: pandas in /anaconda3/lib/python3.6/site-packages (0.25.1)\n",
      "Requirement already up-to-date: numpy in /anaconda3/lib/python3.6/site-packages (1.17.2)\n",
      "Requirement already up-to-date: matplotlib in /anaconda3/lib/python3.6/site-packages (3.1.1)\n",
      "Requirement already up-to-date: sklearn in /anaconda3/lib/python3.6/site-packages (0.0)\n",
      "Requirement already satisfied, skipping upgrade: python-dateutil>=2.6.1 in /anaconda3/lib/python3.6/site-packages (from pandas) (2.7.3)\n",
      "Requirement already satisfied, skipping upgrade: pytz>=2017.2 in /anaconda3/lib/python3.6/site-packages (from pandas) (2018.4)\n",
      "Requirement already satisfied, skipping upgrade: pyparsing!=2.0.4,!=2.1.2,!=2.1.6,>=2.0.1 in /anaconda3/lib/python3.6/site-packages (from matplotlib) (2.2.0)\n",
      "Requirement already satisfied, skipping upgrade: cycler>=0.10 in /anaconda3/lib/python3.6/site-packages (from matplotlib) (0.10.0)\n",
      "Requirement already satisfied, skipping upgrade: kiwisolver>=1.0.1 in /anaconda3/lib/python3.6/site-packages (from matplotlib) (1.0.1)\n",
      "Requirement already satisfied, skipping upgrade: scikit-learn in /anaconda3/lib/python3.6/site-packages (from sklearn) (0.19.1)\n",
      "Requirement already satisfied, skipping upgrade: six>=1.5 in /anaconda3/lib/python3.6/site-packages (from python-dateutil>=2.6.1->pandas) (1.11.0)\n",
      "Requirement already satisfied, skipping upgrade: setuptools in /anaconda3/lib/python3.6/site-packages (from kiwisolver>=1.0.1->matplotlib) (41.2.0)\n"
     ]
    }
   ],
   "source": [
    "# Installing Theano\n",
    "! pip install --upgrade --no-deps git+git://github.com/Theano/Theano.git\n",
    "\n",
    "# Installing Tensorflow\n",
    "! pip install --upgrade tensorflow\n",
    "\n",
    "# Installing Keras\n",
    "! pip install --upgrade keras\n",
    "\n",
    "# Install other packages\n",
    "! pip install --upgrade pip pandas numpy matplotlib sklearn"
   ]
  },
  {
   "cell_type": "markdown",
   "metadata": {},
   "source": [
    "# Parte 1 - Preprocessamento dos Dados"
   ]
  },
  {
   "cell_type": "markdown",
   "metadata": {},
   "source": [
    "### Importar as libs"
   ]
  },
  {
   "cell_type": "code",
   "execution_count": 1,
   "metadata": {},
   "outputs": [],
   "source": [
    "import numpy as np\n",
    "import matplotlib.pyplot as plt\n",
    "import pandas as pd"
   ]
  },
  {
   "cell_type": "markdown",
   "metadata": {},
   "source": [
    "### Importar o dataset"
   ]
  },
  {
   "cell_type": "code",
   "execution_count": 2,
   "metadata": {},
   "outputs": [
    {
     "name": "stdout",
     "output_type": "stream",
     "text": [
      "X >>\n",
      " [[619 'France' 'Female' ... 1 1 101348.88]\n",
      " [608 'Spain' 'Female' ... 0 1 112542.58]\n",
      " [502 'France' 'Female' ... 1 0 113931.57]\n",
      " ...\n",
      " [709 'France' 'Female' ... 0 1 42085.58]\n",
      " [772 'Germany' 'Male' ... 1 0 92888.52]\n",
      " [792 'France' 'Female' ... 1 0 38190.78]]\n",
      "y >>\n",
      " [1 0 1 ... 1 1 0]\n"
     ]
    }
   ],
   "source": [
    "dataset = pd.read_csv('Churn_Modelling.csv')\n",
    "X = dataset.iloc[:, 3:13].values\n",
    "y = dataset.iloc[:, 13].values\n",
    "print(\"X >>\\n\",X)\n",
    "print(\"y >>\\n\",y)"
   ]
  },
  {
   "cell_type": "markdown",
   "metadata": {},
   "source": [
    "### Transformando os dados categóricos\n"
   ]
  },
  {
   "cell_type": "code",
   "execution_count": 3,
   "metadata": {},
   "outputs": [
    {
     "name": "stdout",
     "output_type": "stream",
     "text": [
      "X >>\n",
      " [[0.0000000e+00 0.0000000e+00 6.1900000e+02 ... 1.0000000e+00\n",
      "  1.0000000e+00 1.0134888e+05]\n",
      " [0.0000000e+00 1.0000000e+00 6.0800000e+02 ... 0.0000000e+00\n",
      "  1.0000000e+00 1.1254258e+05]\n",
      " [0.0000000e+00 0.0000000e+00 5.0200000e+02 ... 1.0000000e+00\n",
      "  0.0000000e+00 1.1393157e+05]\n",
      " ...\n",
      " [0.0000000e+00 0.0000000e+00 7.0900000e+02 ... 0.0000000e+00\n",
      "  1.0000000e+00 4.2085580e+04]\n",
      " [1.0000000e+00 0.0000000e+00 7.7200000e+02 ... 1.0000000e+00\n",
      "  0.0000000e+00 9.2888520e+04]\n",
      " [0.0000000e+00 0.0000000e+00 7.9200000e+02 ... 1.0000000e+00\n",
      "  0.0000000e+00 3.8190780e+04]]\n"
     ]
    },
    {
     "name": "stderr",
     "output_type": "stream",
     "text": [
      "/home/matheus/Documentos/dl/.venv/lib/python3.6/site-packages/sklearn/preprocessing/_encoders.py:415: FutureWarning: The handling of integer data will change in version 0.22. Currently, the categories are determined based on the range [0, max(values)], while in the future they will be determined based on the unique values.\n",
      "If you want the future behaviour and silence this warning, you can specify \"categories='auto'\".\n",
      "In case you used a LabelEncoder before this OneHotEncoder to convert the categories to integers, then you can now use the OneHotEncoder directly.\n",
      "  warnings.warn(msg, FutureWarning)\n",
      "/home/matheus/Documentos/dl/.venv/lib/python3.6/site-packages/sklearn/preprocessing/_encoders.py:451: DeprecationWarning: The 'categorical_features' keyword is deprecated in version 0.20 and will be removed in 0.22. You can use the ColumnTransformer instead.\n",
      "  \"use the ColumnTransformer instead.\", DeprecationWarning)\n"
     ]
    }
   ],
   "source": [
    "from sklearn.preprocessing import LabelEncoder, OneHotEncoder\n",
    "labelencoder_X_1 = LabelEncoder()\n",
    "X[:, 1] = labelencoder_X_1.fit_transform(X[:, 1])\n",
    "labelencoder_X_2 = LabelEncoder()\n",
    "X[:, 2] = labelencoder_X_2.fit_transform(X[:, 2])\n",
    "onehotencoder = OneHotEncoder(categorical_features = [1])\n",
    "X = onehotencoder.fit_transform(X).toarray()\n",
    "X = X[:, 1:]\n",
    "print(\"X >>\\n\",X)"
   ]
  },
  {
   "cell_type": "markdown",
   "metadata": {},
   "source": [
    "# Dividindo o dataset em conjunto de treinamento e conjunto de teste"
   ]
  },
  {
   "cell_type": "code",
   "execution_count": 4,
   "metadata": {},
   "outputs": [],
   "source": [
    "from sklearn.model_selection import train_test_split\n",
    "X_train, X_test, y_train, y_test = train_test_split(X, y, test_size = 0.2, random_state = 0)"
   ]
  },
  {
   "cell_type": "markdown",
   "metadata": {},
   "source": [
    "# Feature Scaling"
   ]
  },
  {
   "cell_type": "code",
   "execution_count": 5,
   "metadata": {},
   "outputs": [],
   "source": [
    "from sklearn.preprocessing import StandardScaler\n",
    "sc = StandardScaler()\n",
    "X_train = sc.fit_transform(X_train)\n",
    "X_test = sc.transform(X_test)"
   ]
  },
  {
   "cell_type": "markdown",
   "metadata": {},
   "source": [
    "---\n",
    "# Parte 2 -Vamos construir uma ANN!\n",
    "\n",
    "## Importando o Keras\n"
   ]
  },
  {
   "cell_type": "code",
   "execution_count": 6,
   "metadata": {},
   "outputs": [
    {
     "name": "stderr",
     "output_type": "stream",
     "text": [
      "Using TensorFlow backend.\n"
     ]
    }
   ],
   "source": [
    "import keras\n",
    "from keras.models import Sequential\n",
    "from keras.layers import Dense"
   ]
  },
  {
   "cell_type": "code",
   "execution_count": 7,
   "metadata": {},
   "outputs": [
    {
     "name": "stdout",
     "output_type": "stream",
     "text": [
      "WARNING:tensorflow:From /home/matheus/Documentos/dl/.venv/lib/python3.6/site-packages/tensorflow/python/framework/op_def_library.py:263: colocate_with (from tensorflow.python.framework.ops) is deprecated and will be removed in a future version.\n",
      "Instructions for updating:\n",
      "Colocations handled automatically by placer.\n"
     ]
    }
   ],
   "source": [
    "# Initialising the ANN\n",
    "classifier = Sequential()\n",
    "\n",
    "# Adding the input layer and the first hidden layer\n",
    "classifier.add(Dense(units = 6, kernel_initializer = 'uniform', activation = 'tanh', input_dim = 11))\n",
    "\n",
    "# Adding the second hidden layer\n",
    "classifier.add(Dense(units = 6, kernel_initializer = 'uniform', activation = 'sigmoid'))\n",
    "\n",
    "# Adding the output layer\n",
    "classifier.add(Dense(units = 1, kernel_initializer = 'uniform', activation = 'relu'))\n",
    "\n",
    "# Compiling the ANN\n",
    "classifier.compile(optimizer = 'adam', loss = 'binary_crossentropy', metrics = ['accuracy'])"
   ]
  },
  {
   "cell_type": "markdown",
   "metadata": {},
   "source": [
    "# Ajustando a ANN ao conjunto de treinamento"
   ]
  },
  {
   "cell_type": "code",
   "execution_count": 8,
   "metadata": {},
   "outputs": [
    {
     "name": "stdout",
     "output_type": "stream",
     "text": [
      "WARNING:tensorflow:From /home/matheus/Documentos/dl/.venv/lib/python3.6/site-packages/tensorflow/python/ops/math_ops.py:3066: to_int32 (from tensorflow.python.ops.math_ops) is deprecated and will be removed in a future version.\n",
      "Instructions for updating:\n",
      "Use tf.cast instead.\n",
      "Epoch 1/100\n",
      "8000/8000 [==============================] - 1s 115us/step - loss: 0.4644 - acc: 0.7960\n",
      "Epoch 2/100\n",
      "8000/8000 [==============================] - 1s 92us/step - loss: 0.4303 - acc: 0.7935\n",
      "Epoch 3/100\n",
      "8000/8000 [==============================] - 1s 93us/step - loss: 0.4289 - acc: 0.7976\n",
      "Epoch 4/100\n",
      "8000/8000 [==============================] - 1s 106us/step - loss: 0.4287 - acc: 0.7985\n",
      "Epoch 5/100\n",
      "8000/8000 [==============================] - 1s 95us/step - loss: 0.4280 - acc: 0.8011\n",
      "Epoch 6/100\n",
      "8000/8000 [==============================] - 1s 93us/step - loss: 0.4272 - acc: 0.8012\n",
      "Epoch 7/100\n",
      "8000/8000 [==============================] - 1s 98us/step - loss: 0.4255 - acc: 0.8052\n",
      "Epoch 8/100\n",
      "8000/8000 [==============================] - 1s 94us/step - loss: 0.4211 - acc: 0.8135\n",
      "Epoch 9/100\n",
      "8000/8000 [==============================] - 1s 93us/step - loss: 0.4125 - acc: 0.8192\n",
      "Epoch 10/100\n",
      "8000/8000 [==============================] - 1s 105us/step - loss: 0.3994 - acc: 0.8266\n",
      "Epoch 11/100\n",
      "8000/8000 [==============================] - 1s 93us/step - loss: 0.3883 - acc: 0.8354\n",
      "Epoch 12/100\n",
      "8000/8000 [==============================] - 1s 94us/step - loss: 0.3809 - acc: 0.8425\n",
      "Epoch 13/100\n",
      "8000/8000 [==============================] - 1s 98us/step - loss: 0.3815 - acc: 0.8447\n",
      "Epoch 14/100\n",
      "8000/8000 [==============================] - 1s 94us/step - loss: 0.3714 - acc: 0.8461\n",
      "Epoch 15/100\n",
      "8000/8000 [==============================] - 1s 95us/step - loss: 0.3692 - acc: 0.8495\n",
      "Epoch 16/100\n",
      "8000/8000 [==============================] - 1s 98us/step - loss: 0.3662 - acc: 0.8519\n",
      "Epoch 17/100\n",
      "8000/8000 [==============================] - 1s 96us/step - loss: 0.3627 - acc: 0.8532\n",
      "Epoch 18/100\n",
      "8000/8000 [==============================] - 1s 135us/step - loss: 0.3596 - acc: 0.8579\n",
      "Epoch 19/100\n",
      "8000/8000 [==============================] - 1s 106us/step - loss: 0.3663 - acc: 0.8552\n",
      "Epoch 20/100\n",
      "8000/8000 [==============================] - 1s 84us/step - loss: 0.3568 - acc: 0.8567\n",
      "Epoch 21/100\n",
      "8000/8000 [==============================] - 1s 88us/step - loss: 0.3511 - acc: 0.8557: 0s - loss: 0.3522 - acc: 0.8\n",
      "Epoch 22/100\n",
      "8000/8000 [==============================] - 1s 84us/step - loss: 0.3581 - acc: 0.8557\n",
      "Epoch 23/100\n",
      "8000/8000 [==============================] - 1s 104us/step - loss: 0.3537 - acc: 0.8585\n",
      "Epoch 24/100\n",
      "8000/8000 [==============================] - 1s 102us/step - loss: 0.3523 - acc: 0.8556\n",
      "Epoch 25/100\n",
      "8000/8000 [==============================] - 1s 79us/step - loss: 0.3606 - acc: 0.8567\n",
      "Epoch 26/100\n",
      "8000/8000 [==============================] - 1s 101us/step - loss: 0.3526 - acc: 0.8561\n",
      "Epoch 27/100\n",
      "8000/8000 [==============================] - 1s 82us/step - loss: 0.3458 - acc: 0.8566\n",
      "Epoch 28/100\n",
      "8000/8000 [==============================] - 1s 85us/step - loss: 0.3550 - acc: 0.8550\n",
      "Epoch 29/100\n",
      "8000/8000 [==============================] - 1s 85us/step - loss: 0.3492 - acc: 0.8556\n",
      "Epoch 30/100\n",
      "8000/8000 [==============================] - 1s 110us/step - loss: 0.3513 - acc: 0.8542\n",
      "Epoch 31/100\n",
      "8000/8000 [==============================] - 1s 170us/step - loss: 0.3448 - acc: 0.8551\n",
      "Epoch 32/100\n",
      "8000/8000 [==============================] - 2s 196us/step - loss: 0.3495 - acc: 0.8562\n",
      "Epoch 33/100\n",
      "8000/8000 [==============================] - 1s 167us/step - loss: 0.3499 - acc: 0.8550\n",
      "Epoch 34/100\n",
      "8000/8000 [==============================] - 1s 154us/step - loss: 0.3520 - acc: 0.8554\n",
      "Epoch 35/100\n",
      "8000/8000 [==============================] - 2s 212us/step - loss: 0.3470 - acc: 0.8535\n",
      "Epoch 36/100\n",
      "8000/8000 [==============================] - 1s 174us/step - loss: 0.3466 - acc: 0.8537\n",
      "Epoch 37/100\n",
      "8000/8000 [==============================] - 1s 166us/step - loss: 0.3445 - acc: 0.8535\n",
      "Epoch 38/100\n",
      "8000/8000 [==============================] - 1s 170us/step - loss: 0.3469 - acc: 0.8536\n",
      "Epoch 39/100\n",
      "8000/8000 [==============================] - 1s 149us/step - loss: 0.3484 - acc: 0.8542\n",
      "Epoch 40/100\n",
      "8000/8000 [==============================] - 1s 122us/step - loss: 0.3468 - acc: 0.8532\n",
      "Epoch 41/100\n",
      "8000/8000 [==============================] - 1s 143us/step - loss: 0.3460 - acc: 0.8537\n",
      "Epoch 42/100\n",
      "8000/8000 [==============================] - 1s 96us/step - loss: 0.3491 - acc: 0.8519\n",
      "Epoch 43/100\n",
      "8000/8000 [==============================] - 1s 101us/step - loss: 0.3479 - acc: 0.8534\n",
      "Epoch 44/100\n",
      "8000/8000 [==============================] - 1s 98us/step - loss: 0.3442 - acc: 0.8515\n",
      "Epoch 45/100\n",
      "8000/8000 [==============================] - 1s 109us/step - loss: 0.3534 - acc: 0.8507\n",
      "Epoch 46/100\n",
      "8000/8000 [==============================] - 1s 109us/step - loss: 0.3461 - acc: 0.8514\n",
      "Epoch 47/100\n",
      "8000/8000 [==============================] - 1s 88us/step - loss: 0.3630 - acc: 0.8489\n",
      "Epoch 48/100\n",
      "8000/8000 [==============================] - 1s 138us/step - loss: 0.3510 - acc: 0.8469\n",
      "Epoch 49/100\n",
      "8000/8000 [==============================] - 2s 193us/step - loss: 0.3463 - acc: 0.8504\n",
      "Epoch 50/100\n",
      "8000/8000 [==============================] - 2s 230us/step - loss: 0.3450 - acc: 0.8515\n",
      "Epoch 51/100\n",
      "8000/8000 [==============================] - 1s 166us/step - loss: 0.3459 - acc: 0.8507\n",
      "Epoch 52/100\n",
      "8000/8000 [==============================] - 1s 181us/step - loss: 0.3456 - acc: 0.8521\n",
      "Epoch 53/100\n",
      "8000/8000 [==============================] - 1s 134us/step - loss: 0.3439 - acc: 0.8511\n",
      "Epoch 54/100\n",
      "8000/8000 [==============================] - 1s 98us/step - loss: 0.3458 - acc: 0.8530\n",
      "Epoch 55/100\n",
      "8000/8000 [==============================] - 1s 90us/step - loss: 0.3464 - acc: 0.8544\n",
      "Epoch 56/100\n",
      "8000/8000 [==============================] - 1s 152us/step - loss: 0.3427 - acc: 0.8524\n",
      "Epoch 57/100\n",
      "8000/8000 [==============================] - 1s 122us/step - loss: 0.3502 - acc: 0.8522\n",
      "Epoch 58/100\n",
      "8000/8000 [==============================] - 1s 159us/step - loss: 0.3460 - acc: 0.8545\n",
      "Epoch 59/100\n",
      "8000/8000 [==============================] - 1s 122us/step - loss: 0.3459 - acc: 0.8540\n",
      "Epoch 60/100\n",
      "8000/8000 [==============================] - 1s 85us/step - loss: 0.3430 - acc: 0.8526\n",
      "Epoch 61/100\n",
      "8000/8000 [==============================] - 1s 83us/step - loss: 0.3435 - acc: 0.8509\n",
      "Epoch 62/100\n",
      "8000/8000 [==============================] - 1s 81us/step - loss: 0.3430 - acc: 0.8534\n",
      "Epoch 63/100\n",
      "8000/8000 [==============================] - 1s 82us/step - loss: 0.3434 - acc: 0.8517\n",
      "Epoch 64/100\n",
      "8000/8000 [==============================] - 1s 87us/step - loss: 0.3454 - acc: 0.8529\n",
      "Epoch 65/100\n",
      "8000/8000 [==============================] - 1s 81us/step - loss: 0.3436 - acc: 0.8516\n",
      "Epoch 66/100\n",
      "8000/8000 [==============================] - 1s 81us/step - loss: 0.3434 - acc: 0.8519\n",
      "Epoch 67/100\n",
      "8000/8000 [==============================] - 1s 81us/step - loss: 0.3473 - acc: 0.8529\n",
      "Epoch 68/100\n",
      "8000/8000 [==============================] - 1s 83us/step - loss: 0.3445 - acc: 0.8520\n",
      "Epoch 69/100\n",
      "8000/8000 [==============================] - 1s 107us/step - loss: 0.3430 - acc: 0.8519\n",
      "Epoch 70/100\n",
      "8000/8000 [==============================] - 1s 91us/step - loss: 0.3427 - acc: 0.8512\n",
      "Epoch 71/100\n",
      "8000/8000 [==============================] - 1s 91us/step - loss: 0.3439 - acc: 0.8500\n",
      "Epoch 72/100\n",
      "8000/8000 [==============================] - 1s 107us/step - loss: 0.3410 - acc: 0.8515\n",
      "Epoch 73/100\n",
      "8000/8000 [==============================] - 1s 183us/step - loss: 0.3412 - acc: 0.8519 0s - loss: 0.34\n",
      "Epoch 74/100\n",
      "8000/8000 [==============================] - 1s 141us/step - loss: 0.3399 - acc: 0.8520\n",
      "Epoch 75/100\n",
      "8000/8000 [==============================] - 2s 201us/step - loss: 0.3482 - acc: 0.8514\n",
      "Epoch 76/100\n",
      "8000/8000 [==============================] - 1s 159us/step - loss: 0.3452 - acc: 0.8517\n",
      "Epoch 77/100\n",
      "8000/8000 [==============================] - 1s 101us/step - loss: 0.3445 - acc: 0.8504\n",
      "Epoch 78/100\n",
      "8000/8000 [==============================] - 1s 130us/step - loss: 0.3433 - acc: 0.8484\n",
      "Epoch 79/100\n"
     ]
    },
    {
     "name": "stdout",
     "output_type": "stream",
     "text": [
      "8000/8000 [==============================] - 1s 84us/step - loss: 0.3417 - acc: 0.8510\n",
      "Epoch 80/100\n",
      "8000/8000 [==============================] - 1s 91us/step - loss: 0.3435 - acc: 0.8496\n",
      "Epoch 81/100\n",
      "8000/8000 [==============================] - 1s 158us/step - loss: 0.3452 - acc: 0.8479\n",
      "Epoch 82/100\n",
      "8000/8000 [==============================] - 2s 212us/step - loss: 0.3433 - acc: 0.8487\n",
      "Epoch 83/100\n",
      "8000/8000 [==============================] - 1s 117us/step - loss: 0.3435 - acc: 0.8486\n",
      "Epoch 84/100\n",
      "8000/8000 [==============================] - 1s 173us/step - loss: 0.3424 - acc: 0.8484\n",
      "Epoch 85/100\n",
      "8000/8000 [==============================] - 1s 133us/step - loss: 0.3435 - acc: 0.8500\n",
      "Epoch 86/100\n",
      "8000/8000 [==============================] - 1s 104us/step - loss: 0.3448 - acc: 0.8477\n",
      "Epoch 87/100\n",
      "8000/8000 [==============================] - 1s 101us/step - loss: 0.3406 - acc: 0.8501\n",
      "Epoch 88/100\n",
      "8000/8000 [==============================] - 1s 159us/step - loss: 0.3414 - acc: 0.8512\n",
      "Epoch 89/100\n",
      "8000/8000 [==============================] - 1s 117us/step - loss: 0.3390 - acc: 0.8501\n",
      "Epoch 90/100\n",
      "8000/8000 [==============================] - 1s 145us/step - loss: 0.3410 - acc: 0.8484\n",
      "Epoch 91/100\n",
      "8000/8000 [==============================] - 1s 90us/step - loss: 0.3415 - acc: 0.8494\n",
      "Epoch 92/100\n",
      "8000/8000 [==============================] - 1s 124us/step - loss: 0.3399 - acc: 0.8495\n",
      "Epoch 93/100\n",
      "8000/8000 [==============================] - 1s 118us/step - loss: 0.3394 - acc: 0.8502\n",
      "Epoch 94/100\n",
      "8000/8000 [==============================] - 1s 154us/step - loss: 0.3414 - acc: 0.8495\n",
      "Epoch 95/100\n",
      "8000/8000 [==============================] - 1s 81us/step - loss: 0.3440 - acc: 0.8491\n",
      "Epoch 96/100\n",
      "8000/8000 [==============================] - 1s 78us/step - loss: 0.3404 - acc: 0.8481\n",
      "Epoch 97/100\n",
      "8000/8000 [==============================] - 1s 78us/step - loss: 0.3439 - acc: 0.8477\n",
      "Epoch 98/100\n",
      "8000/8000 [==============================] - 1s 78us/step - loss: 0.3401 - acc: 0.8494\n",
      "Epoch 99/100\n",
      "8000/8000 [==============================] - 1s 78us/step - loss: 0.3405 - acc: 0.8477\n",
      "Epoch 100/100\n",
      "8000/8000 [==============================] - 1s 78us/step - loss: 0.3402 - acc: 0.8486\n"
     ]
    },
    {
     "data": {
      "text/plain": [
       "<keras.callbacks.History at 0x7fd62f1b4d30>"
      ]
     },
     "execution_count": 8,
     "metadata": {},
     "output_type": "execute_result"
    }
   ],
   "source": [
    "classifier.fit(X_train, y_train, batch_size = 10, epochs = 100)"
   ]
  },
  {
   "cell_type": "markdown",
   "metadata": {},
   "source": [
    "# Parte 3 - Fazendo predições e avaliando o modelo\n",
    "\n",
    "## Prevendo os resultados com o conjunto de testes"
   ]
  },
  {
   "cell_type": "code",
   "execution_count": 9,
   "metadata": {},
   "outputs": [],
   "source": [
    "y_pred = classifier.predict(X_test)\n",
    "y_pred = (y_pred > 0.5)"
   ]
  },
  {
   "cell_type": "markdown",
   "metadata": {},
   "source": [
    "# Criando uma Confusion Matrix"
   ]
  },
  {
   "cell_type": "code",
   "execution_count": 10,
   "metadata": {},
   "outputs": [
    {
     "name": "stdout",
     "output_type": "stream",
     "text": [
      "[[1521   74]\n",
      " [ 204  201]]\n"
     ]
    }
   ],
   "source": [
    "from sklearn.metrics import confusion_matrix\n",
    "cm = confusion_matrix(y_test, y_pred)\n",
    "print(cm)"
   ]
  },
  {
   "cell_type": "code",
   "execution_count": null,
   "metadata": {},
   "outputs": [],
   "source": []
  }
 ],
 "metadata": {
  "kernelspec": {
   "display_name": "Python 3",
   "language": "python",
   "name": "python3"
  },
  "language_info": {
   "codemirror_mode": {
    "name": "ipython",
    "version": 3
   },
   "file_extension": ".py",
   "mimetype": "text/x-python",
   "name": "python",
   "nbconvert_exporter": "python",
   "pygments_lexer": "ipython3",
   "version": "3.6.9"
  }
 },
 "nbformat": 4,
 "nbformat_minor": 2
}
