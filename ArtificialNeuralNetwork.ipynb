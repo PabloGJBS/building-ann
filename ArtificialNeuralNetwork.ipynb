{
 "cells": [
  {
   "cell_type": "markdown",
   "metadata": {},
   "source": [
    "# REDES NEURAIS ARTIFICIAIS\n",
    "\n",
    "[Aula 3 de Deep Learning](http://bit.ly/dn-unb03) da Engenharia de Software da UnB"
   ]
  },
  {
   "cell_type": "markdown",
   "metadata": {},
   "source": [
    "# Parte 1 - Pré-processamento dos Dados"
   ]
  },
  {
   "cell_type": "markdown",
   "metadata": {},
   "source": [
    "### Importar as libs"
   ]
  },
  {
   "cell_type": "code",
   "execution_count": 20,
   "metadata": {
    "colab": {},
    "colab_type": "code",
    "id": "MxkJoQBkUIHC"
   },
   "outputs": [],
   "source": [
    "import numpy as np\n",
    "import pandas as pd\n",
    "import tensorflow as tf"
   ]
  },
  {
   "cell_type": "code",
   "execution_count": 21,
   "metadata": {
    "colab": {
     "base_uri": "https://localhost:8080/",
     "height": 34
    },
    "colab_type": "code",
    "id": "ZaTwK7ojXr2F",
    "outputId": "0b27a96d-d11a-43e8-ab4b-87c1f01896fe"
   },
   "outputs": [
    {
     "data": {
      "text/plain": [
       "'1.14.0'"
      ]
     },
     "execution_count": 21,
     "metadata": {},
     "output_type": "execute_result"
    }
   ],
   "source": [
    "tf.__version__"
   ]
  },
  {
   "cell_type": "code",
   "execution_count": 22,
   "metadata": {},
   "outputs": [
    {
     "data": {
      "text/html": [
       "<div>\n",
       "<style scoped>\n",
       "    .dataframe tbody tr th:only-of-type {\n",
       "        vertical-align: middle;\n",
       "    }\n",
       "\n",
       "    .dataframe tbody tr th {\n",
       "        vertical-align: top;\n",
       "    }\n",
       "\n",
       "    .dataframe thead th {\n",
       "        text-align: right;\n",
       "    }\n",
       "</style>\n",
       "<table border=\"1\" class=\"dataframe\">\n",
       "  <thead>\n",
       "    <tr style=\"text-align: right;\">\n",
       "      <th></th>\n",
       "      <th>RowNumber</th>\n",
       "      <th>CustomerId</th>\n",
       "      <th>Surname</th>\n",
       "      <th>CreditScore</th>\n",
       "      <th>Geography</th>\n",
       "      <th>Gender</th>\n",
       "      <th>Age</th>\n",
       "      <th>Tenure</th>\n",
       "      <th>Balance</th>\n",
       "      <th>NumOfProducts</th>\n",
       "      <th>HasCrCard</th>\n",
       "      <th>IsActiveMember</th>\n",
       "      <th>EstimatedSalary</th>\n",
       "      <th>Exited</th>\n",
       "    </tr>\n",
       "  </thead>\n",
       "  <tbody>\n",
       "    <tr>\n",
       "      <th>0</th>\n",
       "      <td>1</td>\n",
       "      <td>15634602</td>\n",
       "      <td>Hargrave</td>\n",
       "      <td>619</td>\n",
       "      <td>France</td>\n",
       "      <td>Female</td>\n",
       "      <td>42</td>\n",
       "      <td>2</td>\n",
       "      <td>0.00</td>\n",
       "      <td>1</td>\n",
       "      <td>1</td>\n",
       "      <td>1</td>\n",
       "      <td>101348.88</td>\n",
       "      <td>1</td>\n",
       "    </tr>\n",
       "    <tr>\n",
       "      <th>1</th>\n",
       "      <td>2</td>\n",
       "      <td>15647311</td>\n",
       "      <td>Hill</td>\n",
       "      <td>608</td>\n",
       "      <td>Spain</td>\n",
       "      <td>Female</td>\n",
       "      <td>41</td>\n",
       "      <td>1</td>\n",
       "      <td>83807.86</td>\n",
       "      <td>1</td>\n",
       "      <td>0</td>\n",
       "      <td>1</td>\n",
       "      <td>112542.58</td>\n",
       "      <td>0</td>\n",
       "    </tr>\n",
       "    <tr>\n",
       "      <th>2</th>\n",
       "      <td>3</td>\n",
       "      <td>15619304</td>\n",
       "      <td>Onio</td>\n",
       "      <td>502</td>\n",
       "      <td>France</td>\n",
       "      <td>Female</td>\n",
       "      <td>42</td>\n",
       "      <td>8</td>\n",
       "      <td>159660.80</td>\n",
       "      <td>3</td>\n",
       "      <td>1</td>\n",
       "      <td>0</td>\n",
       "      <td>113931.57</td>\n",
       "      <td>1</td>\n",
       "    </tr>\n",
       "    <tr>\n",
       "      <th>3</th>\n",
       "      <td>4</td>\n",
       "      <td>15701354</td>\n",
       "      <td>Boni</td>\n",
       "      <td>699</td>\n",
       "      <td>France</td>\n",
       "      <td>Female</td>\n",
       "      <td>39</td>\n",
       "      <td>1</td>\n",
       "      <td>0.00</td>\n",
       "      <td>2</td>\n",
       "      <td>0</td>\n",
       "      <td>0</td>\n",
       "      <td>93826.63</td>\n",
       "      <td>0</td>\n",
       "    </tr>\n",
       "    <tr>\n",
       "      <th>4</th>\n",
       "      <td>5</td>\n",
       "      <td>15737888</td>\n",
       "      <td>Mitchell</td>\n",
       "      <td>850</td>\n",
       "      <td>Spain</td>\n",
       "      <td>Female</td>\n",
       "      <td>43</td>\n",
       "      <td>2</td>\n",
       "      <td>125510.82</td>\n",
       "      <td>1</td>\n",
       "      <td>1</td>\n",
       "      <td>1</td>\n",
       "      <td>79084.10</td>\n",
       "      <td>0</td>\n",
       "    </tr>\n",
       "  </tbody>\n",
       "</table>\n",
       "</div>"
      ],
      "text/plain": [
       "   RowNumber  CustomerId   Surname  CreditScore Geography  Gender  Age  \\\n",
       "0          1    15634602  Hargrave          619    France  Female   42   \n",
       "1          2    15647311      Hill          608     Spain  Female   41   \n",
       "2          3    15619304      Onio          502    France  Female   42   \n",
       "3          4    15701354      Boni          699    France  Female   39   \n",
       "4          5    15737888  Mitchell          850     Spain  Female   43   \n",
       "\n",
       "   Tenure    Balance  NumOfProducts  HasCrCard  IsActiveMember  \\\n",
       "0       2       0.00              1          1               1   \n",
       "1       1   83807.86              1          0               1   \n",
       "2       8  159660.80              3          1               0   \n",
       "3       1       0.00              2          0               0   \n",
       "4       2  125510.82              1          1               1   \n",
       "\n",
       "   EstimatedSalary  Exited  \n",
       "0        101348.88       1  \n",
       "1        112542.58       0  \n",
       "2        113931.57       1  \n",
       "3         93826.63       0  \n",
       "4         79084.10       0  "
      ]
     },
     "execution_count": 22,
     "metadata": {},
     "output_type": "execute_result"
    }
   ],
   "source": [
    "dataset = pd.read_csv('Churn_Modelling.csv')\n",
    "dataset.head()"
   ]
  },
  {
   "cell_type": "markdown",
   "metadata": {},
   "source": [
    "### Importar o dataset"
   ]
  },
  {
   "cell_type": "code",
   "execution_count": 23,
   "metadata": {},
   "outputs": [
    {
     "name": "stdout",
     "output_type": "stream",
     "text": [
      "('X >>\\n', array([[619, 'France', 'Female', ..., 1, 1, 101348.88],\n",
      "       [608, 'Spain', 'Female', ..., 0, 1, 112542.58],\n",
      "       [502, 'France', 'Female', ..., 1, 0, 113931.57],\n",
      "       ...,\n",
      "       [709, 'France', 'Female', ..., 0, 1, 42085.58],\n",
      "       [772, 'Germany', 'Male', ..., 1, 0, 92888.52],\n",
      "       [792, 'France', 'Female', ..., 1, 0, 38190.78]], dtype=object))\n",
      "('y >>\\n', array([1, 0, 1, ..., 1, 1, 0]))\n"
     ]
    }
   ],
   "source": [
    "X = dataset.iloc[:, 3:13].values\n",
    "y = dataset.iloc[:, 13].values\n",
    "print(\"X >>\\n\",X)\n",
    "print(\"y >>\\n\",y)"
   ]
  },
  {
   "cell_type": "markdown",
   "metadata": {},
   "source": [
    "### Transformando os dados categóricos\n"
   ]
  },
  {
   "cell_type": "code",
   "execution_count": 24,
   "metadata": {},
   "outputs": [
    {
     "name": "stdout",
     "output_type": "stream",
     "text": [
      "[[619 'France' 0 ... 1 1 101348.88]\n",
      " [608 'Spain' 0 ... 0 1 112542.58]\n",
      " [502 'France' 0 ... 1 0 113931.57]\n",
      " ...\n",
      " [709 'France' 0 ... 0 1 42085.58]\n",
      " [772 'Germany' 1 ... 1 0 92888.52]\n",
      " [792 'France' 0 ... 1 0 38190.78]]\n",
      "[[1.0 0.0 0.0 ... 1 1 101348.88]\n",
      " [0.0 0.0 1.0 ... 0 1 112542.58]\n",
      " [1.0 0.0 0.0 ... 1 0 113931.57]\n",
      " ...\n",
      " [1.0 0.0 0.0 ... 0 1 42085.58]\n",
      " [0.0 1.0 0.0 ... 1 0 92888.52]\n",
      " [1.0 0.0 0.0 ... 1 0 38190.78]]\n"
     ]
    }
   ],
   "source": [
    "# Label Encoding the \"Gender\" column\n",
    "from sklearn.preprocessing import LabelEncoder\n",
    "le = LabelEncoder()\n",
    "X[:, 2] = le.fit_transform(X[:, 2])\n",
    "print(X)\n",
    "# One Hot Encoding the \"Geography\" column\n",
    "from sklearn.compose import ColumnTransformer\n",
    "from sklearn.preprocessing import OneHotEncoder\n",
    "ct = ColumnTransformer(transformers=[('encoder', OneHotEncoder(), [1])], remainder='passthrough')\n",
    "X = np.array(ct.fit_transform(X))\n",
    "print(X)"
   ]
  },
  {
   "cell_type": "markdown",
   "metadata": {},
   "source": [
    "# Dividindo o dataset em conjunto de treinamento e conjunto de teste"
   ]
  },
  {
   "cell_type": "code",
   "execution_count": 25,
   "metadata": {},
   "outputs": [],
   "source": [
    "from sklearn.model_selection import train_test_split\n",
    "X_train, X_test, y_train, y_test = train_test_split(X, y, test_size = 0.2, random_state = 0)"
   ]
  },
  {
   "cell_type": "markdown",
   "metadata": {},
   "source": [
    "# Feature Scaling"
   ]
  },
  {
   "cell_type": "code",
   "execution_count": 26,
   "metadata": {},
   "outputs": [],
   "source": [
    "from sklearn.preprocessing import StandardScaler\n",
    "sc = StandardScaler()\n",
    "X_train = sc.fit_transform(X_train)\n",
    "X_test = sc.transform(X_test)"
   ]
  },
  {
   "cell_type": "code",
   "execution_count": 27,
   "metadata": {},
   "outputs": [
    {
     "data": {
      "text/plain": [
       "(8000, 12)"
      ]
     },
     "execution_count": 27,
     "metadata": {},
     "output_type": "execute_result"
    }
   ],
   "source": [
    "np.shape(X_train)"
   ]
  },
  {
   "cell_type": "markdown",
   "metadata": {},
   "source": [
    "---\n",
    "# Parte 2 -Vamos construir uma ANN!\n"
   ]
  },
  {
   "cell_type": "markdown",
   "metadata": {
    "colab_type": "text",
    "id": "KvdeScabXtlB"
   },
   "source": [
    "### Initializing the ANN"
   ]
  },
  {
   "cell_type": "code",
   "execution_count": 28,
   "metadata": {
    "colab": {},
    "colab_type": "code",
    "id": "3dtrScHxXQox"
   },
   "outputs": [],
   "source": [
    "ann = tf.keras.models.Sequential()"
   ]
  },
  {
   "cell_type": "markdown",
   "metadata": {
    "colab_type": "text",
    "id": "rP6urV6SX7kS"
   },
   "source": [
    "### Adding the input layer and the first hidden layer"
   ]
  },
  {
   "cell_type": "code",
   "execution_count": 29,
   "metadata": {
    "colab": {},
    "colab_type": "code",
    "id": "bppGycBXYCQr"
   },
   "outputs": [],
   "source": [
    "ann.add(tf.keras.layers.Dense(units=6, activation='sigmoid'))"
   ]
  },
  {
   "cell_type": "markdown",
   "metadata": {
    "colab_type": "text",
    "id": "BELWAc_8YJze"
   },
   "source": [
    "### Adding the second hidden layer"
   ]
  },
  {
   "cell_type": "code",
   "execution_count": 30,
   "metadata": {
    "colab": {},
    "colab_type": "code",
    "id": "JneR0u0sYRTd"
   },
   "outputs": [],
   "source": [
    "ann.add(tf.keras.layers.Dense(units=10, activation='relu'))"
   ]
  },
  {
   "cell_type": "code",
   "execution_count": 31,
   "metadata": {},
   "outputs": [],
   "source": [
    "ann.add(tf.keras.layers.Dense(units=6, activation='softplus'))"
   ]
  },
  {
   "cell_type": "markdown",
   "metadata": {
    "colab_type": "text",
    "id": "OyNEe6RXYcU4"
   },
   "source": [
    "### Adding the output layer"
   ]
  },
  {
   "cell_type": "code",
   "execution_count": 32,
   "metadata": {
    "colab": {},
    "colab_type": "code",
    "id": "Cn3x41RBYfvY"
   },
   "outputs": [],
   "source": [
    "ann.add(tf.keras.layers.Dense(units=1, activation='tanh'))"
   ]
  },
  {
   "cell_type": "markdown",
   "metadata": {
    "colab_type": "text",
    "id": "JT4u2S1_Y4WG"
   },
   "source": [
    "## Part 3 - Training the ANN"
   ]
  },
  {
   "cell_type": "markdown",
   "metadata": {
    "colab_type": "text",
    "id": "8GWlJChhY_ZI"
   },
   "source": [
    "### Compiling the ANN"
   ]
  },
  {
   "cell_type": "code",
   "execution_count": 33,
   "metadata": {
    "colab": {},
    "colab_type": "code",
    "id": "fG3RrwDXZEaS"
   },
   "outputs": [],
   "source": [
    "ann.compile(optimizer = 'adam', loss = 'binary_crossentropy', metrics = ['accuracy'])"
   ]
  },
  {
   "cell_type": "markdown",
   "metadata": {
    "colab_type": "text",
    "id": "0QR_G5u7ZLSM"
   },
   "source": [
    "### Training the ANN on the Training set"
   ]
  },
  {
   "cell_type": "code",
   "execution_count": 34,
   "metadata": {
    "colab": {
     "base_uri": "https://localhost:8080/",
     "height": 1000
    },
    "colab_type": "code",
    "id": "nHZ-LKv_ZRb3",
    "outputId": "718cc4b0-b5aa-40f0-9b20-d3d31730a531"
   },
   "outputs": [
    {
     "name": "stdout",
     "output_type": "stream",
     "text": [
      "Epoch 1/150\n",
      "8000/8000 [==============================] - 1s 64us/sample - loss: 0.5413 - acc: 0.7291\n",
      "Epoch 2/150\n",
      "8000/8000 [==============================] - 0s 28us/sample - loss: 0.4641 - acc: 0.7960\n",
      "Epoch 3/150\n",
      "8000/8000 [==============================] - 0s 34us/sample - loss: 0.4531 - acc: 0.7985\n",
      "Epoch 4/150\n",
      "8000/8000 [==============================] - 0s 28us/sample - loss: 0.4460 - acc: 0.8043\n",
      "Epoch 5/150\n",
      "8000/8000 [==============================] - 0s 27us/sample - loss: 0.4352 - acc: 0.8071\n",
      "Epoch 6/150\n",
      "8000/8000 [==============================] - 0s 34us/sample - loss: 0.4322 - acc: 0.8105\n",
      "Epoch 7/150\n",
      "8000/8000 [==============================] - 0s 35us/sample - loss: 0.4343 - acc: 0.8139\n",
      "Epoch 8/150\n",
      "8000/8000 [==============================] - 0s 35us/sample - loss: 0.4282 - acc: 0.8126\n",
      "Epoch 9/150\n",
      "8000/8000 [==============================] - 0s 37us/sample - loss: 0.4250 - acc: 0.8155\n",
      "Epoch 10/150\n",
      "8000/8000 [==============================] - 0s 31us/sample - loss: 0.4311 - acc: 0.8170\n",
      "Epoch 11/150\n",
      "8000/8000 [==============================] - 0s 28us/sample - loss: 0.4276 - acc: 0.8170\n",
      "Epoch 12/150\n",
      "8000/8000 [==============================] - 0s 27us/sample - loss: 0.4214 - acc: 0.8173\n",
      "Epoch 13/150\n",
      "8000/8000 [==============================] - 0s 26us/sample - loss: 0.4213 - acc: 0.8195\n",
      "Epoch 14/150\n",
      "8000/8000 [==============================] - 0s 35us/sample - loss: 0.4171 - acc: 0.8209\n",
      "Epoch 15/150\n",
      "8000/8000 [==============================] - 0s 30us/sample - loss: 0.4229 - acc: 0.8211\n",
      "Epoch 16/150\n",
      "8000/8000 [==============================] - 0s 28us/sample - loss: 0.4162 - acc: 0.8257\n",
      "Epoch 17/150\n",
      "8000/8000 [==============================] - 0s 27us/sample - loss: 0.4110 - acc: 0.8257\n",
      "Epoch 18/150\n",
      "8000/8000 [==============================] - 0s 27us/sample - loss: 0.4103 - acc: 0.8250\n",
      "Epoch 19/150\n",
      "8000/8000 [==============================] - 0s 27us/sample - loss: 0.4107 - acc: 0.8279\n",
      "Epoch 20/150\n",
      "8000/8000 [==============================] - 0s 26us/sample - loss: 0.4175 - acc: 0.8276\n",
      "Epoch 21/150\n",
      "8000/8000 [==============================] - 0s 26us/sample - loss: 0.4031 - acc: 0.8299\n",
      "Epoch 22/150\n",
      "8000/8000 [==============================] - 0s 27us/sample - loss: 0.3978 - acc: 0.8304\n",
      "Epoch 23/150\n",
      "8000/8000 [==============================] - 0s 26us/sample - loss: 0.3951 - acc: 0.8300\n",
      "Epoch 24/150\n",
      "8000/8000 [==============================] - 0s 26us/sample - loss: 0.4122 - acc: 0.8276\n",
      "Epoch 25/150\n",
      "8000/8000 [==============================] - 0s 27us/sample - loss: 0.4224 - acc: 0.8317\n",
      "Epoch 26/150\n",
      "8000/8000 [==============================] - 0s 27us/sample - loss: 0.3863 - acc: 0.8332\n",
      "Epoch 27/150\n",
      "8000/8000 [==============================] - 0s 27us/sample - loss: 0.4047 - acc: 0.8335\n",
      "Epoch 28/150\n",
      "8000/8000 [==============================] - 0s 26us/sample - loss: 0.3893 - acc: 0.8346\n",
      "Epoch 29/150\n",
      "8000/8000 [==============================] - 0s 27us/sample - loss: 0.3834 - acc: 0.8367\n",
      "Epoch 30/150\n",
      "8000/8000 [==============================] - 0s 27us/sample - loss: 0.3831 - acc: 0.8354\n",
      "Epoch 31/150\n",
      "8000/8000 [==============================] - 0s 28us/sample - loss: 0.3843 - acc: 0.8390\n",
      "Epoch 32/150\n",
      "8000/8000 [==============================] - 0s 35us/sample - loss: 0.3824 - acc: 0.8385\n",
      "Epoch 33/150\n",
      "8000/8000 [==============================] - 0s 32us/sample - loss: 0.3773 - acc: 0.8405\n",
      "Epoch 34/150\n",
      "8000/8000 [==============================] - 0s 28us/sample - loss: 0.3832 - acc: 0.8414\n",
      "Epoch 35/150\n",
      "8000/8000 [==============================] - 0s 32us/sample - loss: 0.3745 - acc: 0.8418\n",
      "Epoch 36/150\n",
      "8000/8000 [==============================] - 0s 28us/sample - loss: 0.3753 - acc: 0.8443\n",
      "Epoch 37/150\n",
      "8000/8000 [==============================] - 0s 25us/sample - loss: 0.3821 - acc: 0.8438\n",
      "Epoch 38/150\n",
      "8000/8000 [==============================] - 0s 25us/sample - loss: 0.3688 - acc: 0.8451\n",
      "Epoch 39/150\n",
      "8000/8000 [==============================] - 0s 24us/sample - loss: 0.3676 - acc: 0.8474\n",
      "Epoch 40/150\n",
      "8000/8000 [==============================] - 0s 24us/sample - loss: 0.3816 - acc: 0.8501\n",
      "Epoch 41/150\n",
      "8000/8000 [==============================] - 0s 34us/sample - loss: 0.3686 - acc: 0.8484\n",
      "Epoch 42/150\n",
      "8000/8000 [==============================] - 0s 36us/sample - loss: 0.3653 - acc: 0.8484\n",
      "Epoch 43/150\n",
      "8000/8000 [==============================] - 0s 37us/sample - loss: 0.3640 - acc: 0.8486\n",
      "Epoch 44/150\n",
      "8000/8000 [==============================] - 0s 28us/sample - loss: 0.3627 - acc: 0.8512\n",
      "Epoch 45/150\n",
      "8000/8000 [==============================] - 0s 28us/sample - loss: 0.3624 - acc: 0.8514\n",
      "Epoch 46/150\n",
      "8000/8000 [==============================] - 0s 26us/sample - loss: 0.3646 - acc: 0.8537\n",
      "Epoch 47/150\n",
      "8000/8000 [==============================] - 0s 28us/sample - loss: 0.3635 - acc: 0.8540\n",
      "Epoch 48/150\n",
      "8000/8000 [==============================] - 0s 27us/sample - loss: 0.3573 - acc: 0.8560\n",
      "Epoch 49/150\n",
      "8000/8000 [==============================] - 0s 29us/sample - loss: 0.3601 - acc: 0.8554\n",
      "Epoch 50/150\n",
      "8000/8000 [==============================] - 0s 34us/sample - loss: 0.3665 - acc: 0.8562\n",
      "Epoch 51/150\n",
      "8000/8000 [==============================] - 0s 27us/sample - loss: 0.3616 - acc: 0.8579\n",
      "Epoch 52/150\n",
      "8000/8000 [==============================] - 0s 28us/sample - loss: 0.3558 - acc: 0.8569\n",
      "Epoch 53/150\n",
      "8000/8000 [==============================] - 0s 27us/sample - loss: 0.3738 - acc: 0.8575\n",
      "Epoch 54/150\n",
      "8000/8000 [==============================] - 0s 29us/sample - loss: 0.3750 - acc: 0.8575\n",
      "Epoch 55/150\n",
      "8000/8000 [==============================] - 0s 29us/sample - loss: 0.3695 - acc: 0.8583\n",
      "Epoch 56/150\n",
      "8000/8000 [==============================] - 0s 28us/sample - loss: 0.3724 - acc: 0.8584\n",
      "Epoch 57/150\n",
      "8000/8000 [==============================] - 0s 29us/sample - loss: 0.3809 - acc: 0.8583\n",
      "Epoch 58/150\n",
      "8000/8000 [==============================] - 0s 29us/sample - loss: 0.3501 - acc: 0.8596\n",
      "Epoch 59/150\n",
      "8000/8000 [==============================] - 0s 26us/sample - loss: 0.3487 - acc: 0.8609\n",
      "Epoch 60/150\n",
      "8000/8000 [==============================] - 0s 27us/sample - loss: 0.3483 - acc: 0.8604\n",
      "Epoch 61/150\n",
      "8000/8000 [==============================] - 0s 27us/sample - loss: 0.3839 - acc: 0.8558\n",
      "Epoch 62/150\n",
      "8000/8000 [==============================] - 0s 28us/sample - loss: 0.3468 - acc: 0.8615\n",
      "Epoch 63/150\n",
      "8000/8000 [==============================] - 0s 36us/sample - loss: 0.3446 - acc: 0.8616\n",
      "Epoch 64/150\n",
      "8000/8000 [==============================] - 0s 27us/sample - loss: 0.3456 - acc: 0.8618\n",
      "Epoch 65/150\n",
      "8000/8000 [==============================] - 0s 31us/sample - loss: 0.3420 - acc: 0.8622\n",
      "Epoch 66/150\n",
      "8000/8000 [==============================] - 0s 35us/sample - loss: 0.3391 - acc: 0.8620\n",
      "Epoch 67/150\n",
      "8000/8000 [==============================] - 0s 28us/sample - loss: 0.3392 - acc: 0.8627\n",
      "Epoch 68/150\n",
      "8000/8000 [==============================] - 0s 29us/sample - loss: 0.3401 - acc: 0.8624\n",
      "Epoch 69/150\n",
      "8000/8000 [==============================] - 0s 34us/sample - loss: 0.3399 - acc: 0.8618\n",
      "Epoch 70/150\n",
      "8000/8000 [==============================] - 0s 28us/sample - loss: 0.3923 - acc: 0.8575\n",
      "Epoch 71/150\n",
      "8000/8000 [==============================] - 0s 29us/sample - loss: 0.3668 - acc: 0.8611\n",
      "Epoch 72/150\n",
      "8000/8000 [==============================] - 0s 30us/sample - loss: 0.3453 - acc: 0.8629\n",
      "Epoch 73/150\n",
      "8000/8000 [==============================] - 0s 29us/sample - loss: 0.3394 - acc: 0.8645\n",
      "Epoch 74/150\n",
      "8000/8000 [==============================] - 0s 26us/sample - loss: 0.3367 - acc: 0.8619\n",
      "Epoch 75/150\n",
      "8000/8000 [==============================] - 0s 31us/sample - loss: 0.3359 - acc: 0.8619\n",
      "Epoch 76/150\n",
      "8000/8000 [==============================] - 0s 29us/sample - loss: 0.3370 - acc: 0.8634\n",
      "Epoch 77/150\n",
      "8000/8000 [==============================] - 0s 27us/sample - loss: 0.3352 - acc: 0.8626\n",
      "Epoch 78/150\n",
      "8000/8000 [==============================] - 0s 31us/sample - loss: 0.3384 - acc: 0.8616\n",
      "Epoch 79/150\n",
      "8000/8000 [==============================] - 0s 32us/sample - loss: 0.3348 - acc: 0.8615\n",
      "Epoch 80/150\n",
      "8000/8000 [==============================] - 0s 27us/sample - loss: 0.3352 - acc: 0.8612\n",
      "Epoch 81/150\n"
     ]
    },
    {
     "name": "stdout",
     "output_type": "stream",
     "text": [
      "8000/8000 [==============================] - 0s 26us/sample - loss: 0.3361 - acc: 0.8624\n",
      "Epoch 82/150\n",
      "8000/8000 [==============================] - 0s 29us/sample - loss: 0.3371 - acc: 0.8627\n",
      "Epoch 83/150\n",
      "8000/8000 [==============================] - 0s 30us/sample - loss: 0.3340 - acc: 0.8639\n",
      "Epoch 84/150\n",
      "8000/8000 [==============================] - 0s 28us/sample - loss: 0.3344 - acc: 0.8633\n",
      "Epoch 85/150\n",
      "8000/8000 [==============================] - 0s 26us/sample - loss: 0.3355 - acc: 0.8637\n",
      "Epoch 86/150\n",
      "8000/8000 [==============================] - 0s 30us/sample - loss: 0.3346 - acc: 0.8631\n",
      "Epoch 87/150\n",
      "8000/8000 [==============================] - 0s 30us/sample - loss: 0.3370 - acc: 0.8608\n",
      "Epoch 88/150\n",
      "8000/8000 [==============================] - 0s 27us/sample - loss: 0.3354 - acc: 0.8633\n",
      "Epoch 89/150\n",
      "8000/8000 [==============================] - 0s 26us/sample - loss: 0.3365 - acc: 0.8622\n",
      "Epoch 90/150\n",
      "8000/8000 [==============================] - 0s 31us/sample - loss: 0.3376 - acc: 0.8622\n",
      "Epoch 91/150\n",
      "8000/8000 [==============================] - 0s 31us/sample - loss: 0.3342 - acc: 0.8619\n",
      "Epoch 92/150\n",
      "8000/8000 [==============================] - 0s 24us/sample - loss: 0.3331 - acc: 0.8634\n",
      "Epoch 93/150\n",
      "8000/8000 [==============================] - 0s 24us/sample - loss: 0.3368 - acc: 0.8630\n",
      "Epoch 94/150\n",
      "8000/8000 [==============================] - 0s 25us/sample - loss: 0.3377 - acc: 0.8639\n",
      "Epoch 95/150\n",
      "8000/8000 [==============================] - 0s 24us/sample - loss: 0.3518 - acc: 0.8633\n",
      "Epoch 96/150\n",
      "8000/8000 [==============================] - 0s 24us/sample - loss: 0.3424 - acc: 0.8633\n",
      "Epoch 97/150\n",
      "8000/8000 [==============================] - 0s 36us/sample - loss: 0.3362 - acc: 0.8620\n",
      "Epoch 98/150\n",
      "8000/8000 [==============================] - 0s 34us/sample - loss: 0.3339 - acc: 0.8636\n",
      "Epoch 99/150\n",
      "8000/8000 [==============================] - 0s 29us/sample - loss: 0.3325 - acc: 0.8631\n",
      "Epoch 100/150\n",
      "8000/8000 [==============================] - 0s 26us/sample - loss: 0.3380 - acc: 0.8635\n",
      "Epoch 101/150\n",
      "8000/8000 [==============================] - 0s 28us/sample - loss: 0.3336 - acc: 0.8639\n",
      "Epoch 102/150\n",
      "8000/8000 [==============================] - 0s 31us/sample - loss: 0.3348 - acc: 0.8627\n",
      "Epoch 103/150\n",
      "8000/8000 [==============================] - 0s 32us/sample - loss: 0.3353 - acc: 0.8649\n",
      "Epoch 104/150\n",
      "8000/8000 [==============================] - 0s 27us/sample - loss: 0.3522 - acc: 0.8633\n",
      "Epoch 105/150\n",
      "8000/8000 [==============================] - 0s 28us/sample - loss: 0.3340 - acc: 0.8629\n",
      "Epoch 106/150\n",
      "8000/8000 [==============================] - 0s 34us/sample - loss: 0.3319 - acc: 0.8624\n",
      "Epoch 107/150\n",
      "8000/8000 [==============================] - 0s 27us/sample - loss: 0.3317 - acc: 0.8635\n",
      "Epoch 108/150\n",
      "8000/8000 [==============================] - 0s 30us/sample - loss: 0.3376 - acc: 0.8630\n",
      "Epoch 109/150\n",
      "8000/8000 [==============================] - 0s 30us/sample - loss: 0.3390 - acc: 0.8640\n",
      "Epoch 110/150\n",
      "8000/8000 [==============================] - 0s 27us/sample - loss: 0.3319 - acc: 0.8641\n",
      "Epoch 111/150\n",
      "8000/8000 [==============================] - 0s 28us/sample - loss: 0.3319 - acc: 0.8636\n",
      "Epoch 112/150\n",
      "8000/8000 [==============================] - 0s 31us/sample - loss: 0.3315 - acc: 0.8631\n",
      "Epoch 113/150\n",
      "8000/8000 [==============================] - 0s 28us/sample - loss: 0.3320 - acc: 0.8641\n",
      "Epoch 114/150\n",
      "8000/8000 [==============================] - 0s 27us/sample - loss: 0.3527 - acc: 0.8596\n",
      "Epoch 115/150\n",
      "8000/8000 [==============================] - 0s 30us/sample - loss: 0.3368 - acc: 0.8633\n",
      "Epoch 116/150\n",
      "8000/8000 [==============================] - 0s 30us/sample - loss: 0.3344 - acc: 0.8640\n",
      "Epoch 117/150\n",
      "8000/8000 [==============================] - 0s 26us/sample - loss: 0.3312 - acc: 0.8633\n",
      "Epoch 118/150\n",
      "8000/8000 [==============================] - 0s 29us/sample - loss: 0.3311 - acc: 0.8630\n",
      "Epoch 119/150\n",
      "8000/8000 [==============================] - 0s 32us/sample - loss: 0.3326 - acc: 0.8649\n",
      "Epoch 120/150\n",
      "8000/8000 [==============================] - 0s 31us/sample - loss: 0.3305 - acc: 0.8650\n",
      "Epoch 121/150\n",
      "8000/8000 [==============================] - 0s 27us/sample - loss: 0.3347 - acc: 0.8636\n",
      "Epoch 122/150\n",
      "8000/8000 [==============================] - 0s 30us/sample - loss: 0.3331 - acc: 0.8643\n",
      "Epoch 123/150\n",
      "8000/8000 [==============================] - 0s 37us/sample - loss: 0.3320 - acc: 0.8637\n",
      "Epoch 124/150\n",
      "8000/8000 [==============================] - 0s 25us/sample - loss: 0.3815 - acc: 0.86270s - loss: 0.3372 - acc: 0.8\n",
      "Epoch 125/150\n",
      "8000/8000 [==============================] - 0s 25us/sample - loss: 0.3573 - acc: 0.8630\n",
      "Epoch 126/150\n",
      "8000/8000 [==============================] - 0s 24us/sample - loss: 0.3405 - acc: 0.8650\n",
      "Epoch 127/150\n",
      "8000/8000 [==============================] - 0s 24us/sample - loss: 0.3367 - acc: 0.8645\n",
      "Epoch 128/150\n",
      "8000/8000 [==============================] - 0s 24us/sample - loss: 0.3347 - acc: 0.8643\n",
      "Epoch 129/150\n",
      "8000/8000 [==============================] - 0s 26us/sample - loss: 0.3335 - acc: 0.8636\n",
      "Epoch 130/150\n",
      "8000/8000 [==============================] - 0s 37us/sample - loss: 0.3320 - acc: 0.8640\n",
      "Epoch 131/150\n",
      "8000/8000 [==============================] - 0s 30us/sample - loss: 0.3313 - acc: 0.8634\n",
      "Epoch 132/150\n",
      "8000/8000 [==============================] - 0s 27us/sample - loss: 0.3312 - acc: 0.8635\n",
      "Epoch 133/150\n",
      "8000/8000 [==============================] - 0s 28us/sample - loss: 0.3309 - acc: 0.8626\n",
      "Epoch 134/150\n",
      "8000/8000 [==============================] - 0s 35us/sample - loss: 0.3306 - acc: 0.8636\n",
      "Epoch 135/150\n",
      "8000/8000 [==============================] - 0s 35us/sample - loss: 0.3306 - acc: 0.8621\n",
      "Epoch 136/150\n",
      "8000/8000 [==============================] - 0s 35us/sample - loss: 0.3302 - acc: 0.8627\n",
      "Epoch 137/150\n",
      "8000/8000 [==============================] - 0s 34us/sample - loss: 0.3307 - acc: 0.8649\n",
      "Epoch 138/150\n",
      "8000/8000 [==============================] - 0s 35us/sample - loss: 0.3342 - acc: 0.8622\n",
      "Epoch 139/150\n",
      "8000/8000 [==============================] - 0s 37us/sample - loss: 0.3318 - acc: 0.8636\n",
      "Epoch 140/150\n",
      "8000/8000 [==============================] - 0s 37us/sample - loss: 0.3296 - acc: 0.8636\n",
      "Epoch 141/150\n",
      "8000/8000 [==============================] - 0s 28us/sample - loss: 0.3299 - acc: 0.8639\n",
      "Epoch 142/150\n",
      "8000/8000 [==============================] - 0s 30us/sample - loss: 0.3310 - acc: 0.8634\n",
      "Epoch 143/150\n",
      "8000/8000 [==============================] - 0s 35us/sample - loss: 0.3300 - acc: 0.8636\n",
      "Epoch 144/150\n",
      "8000/8000 [==============================] - 0s 28us/sample - loss: 0.3313 - acc: 0.8620\n",
      "Epoch 145/150\n",
      "8000/8000 [==============================] - 0s 28us/sample - loss: 0.3345 - acc: 0.8644\n",
      "Epoch 146/150\n",
      "8000/8000 [==============================] - 0s 29us/sample - loss: 0.3300 - acc: 0.8635\n",
      "Epoch 147/150\n",
      "8000/8000 [==============================] - 0s 29us/sample - loss: 0.3300 - acc: 0.8643\n",
      "Epoch 148/150\n",
      "8000/8000 [==============================] - 0s 26us/sample - loss: 0.3342 - acc: 0.8631\n",
      "Epoch 149/150\n",
      "8000/8000 [==============================] - 0s 27us/sample - loss: 0.3297 - acc: 0.8633\n",
      "Epoch 150/150\n",
      "8000/8000 [==============================] - 0s 30us/sample - loss: 0.3498 - acc: 0.8633\n"
     ]
    },
    {
     "data": {
      "text/plain": [
       "<tensorflow.python.keras.callbacks.History at 0x7fbc844c0e90>"
      ]
     },
     "execution_count": 34,
     "metadata": {},
     "output_type": "execute_result"
    }
   ],
   "source": [
    "ann.fit(X_train, y_train, batch_size = 40, epochs = 150)"
   ]
  },
  {
   "cell_type": "markdown",
   "metadata": {},
   "source": [
    "# Parte 3 - Fazendo predições e avaliando o modelo\n",
    "\n",
    "## Prevendo os resultados com o conjunto de testes"
   ]
  },
  {
   "cell_type": "code",
   "execution_count": 35,
   "metadata": {},
   "outputs": [
    {
     "data": {
      "text/plain": [
       "array([[0.21616367],\n",
       "       [0.16609228],\n",
       "       [0.2571455 ],\n",
       "       ...,\n",
       "       [0.14394057],\n",
       "       [0.1450317 ],\n",
       "       [0.20854092]], dtype=float32)"
      ]
     },
     "execution_count": 35,
     "metadata": {},
     "output_type": "execute_result"
    }
   ],
   "source": [
    "y_pred = ann.predict(X_test)\n",
    "y_pred"
   ]
  },
  {
   "cell_type": "code",
   "execution_count": 36,
   "metadata": {},
   "outputs": [
    {
     "data": {
      "text/plain": [
       "array([[False],\n",
       "       [False],\n",
       "       [False],\n",
       "       ...,\n",
       "       [False],\n",
       "       [False],\n",
       "       [False]])"
      ]
     },
     "execution_count": 36,
     "metadata": {},
     "output_type": "execute_result"
    }
   ],
   "source": [
    "y_pred = (y_pred > 0.9)\n",
    "y_pred"
   ]
  },
  {
   "cell_type": "markdown",
   "metadata": {},
   "source": [
    "# Criando uma Confusion Matrix"
   ]
  },
  {
   "cell_type": "code",
   "execution_count": 37,
   "metadata": {},
   "outputs": [
    {
     "name": "stdout",
     "output_type": "stream",
     "text": [
      "[[1593    2]\n",
      " [ 358   47]]\n"
     ]
    }
   ],
   "source": [
    "from sklearn.metrics import confusion_matrix\n",
    "cm = confusion_matrix(y_test, y_pred)\n",
    "print(cm)"
   ]
  },
  {
   "cell_type": "markdown",
   "metadata": {},
   "source": [
    "# FIM"
   ]
  },
  {
   "cell_type": "markdown",
   "metadata": {},
   "source": [
    "> Professor Diego Dorgam  \n",
    "> [@diegodorgam](https://twitter.com/diegodorgam)"
   ]
  }
 ],
 "metadata": {
  "kernelspec": {
   "display_name": "Python 2",
   "language": "python",
   "name": "python2"
  },
  "language_info": {
   "codemirror_mode": {
    "name": "ipython",
    "version": 2
   },
   "file_extension": ".py",
   "mimetype": "text/x-python",
   "name": "python",
   "nbconvert_exporter": "python",
   "pygments_lexer": "ipython2",
   "version": "2.7.18"
  }
 },
 "nbformat": 4,
 "nbformat_minor": 4
}
