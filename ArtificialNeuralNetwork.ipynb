{
 "cells": [
  {
   "cell_type": "markdown",
   "metadata": {},
   "source": [
    "# REDES NEURAIS ARTIFICIAIS\n",
    "\n",
    "[Aula 3 de Deep Learning](http://bit.ly/dn-unb03) da Engenharia de Software da UnB"
   ]
  },
  {
   "cell_type": "code",
   "execution_count": 7,
   "metadata": {},
   "outputs": [
    {
     "name": "stdout",
     "output_type": "stream",
     "text": [
      "Collecting git+git://github.com/Theano/Theano.git\n",
      "  Cloning git://github.com/Theano/Theano.git to /tmp/pip-req-build-gzudfppv\n",
      "  Running command git clone -q git://github.com/Theano/Theano.git /tmp/pip-req-build-gzudfppv\n",
      "Building wheels for collected packages: Theano\n",
      "  Building wheel for Theano (setup.py) ... \u001b[?25ldone\n",
      "\u001b[?25h  Created wheel for Theano: filename=Theano-1.0.4+23.g630974a7b-cp37-none-any.whl size=2667498 sha256=2efaf59f9765d168d91f3f400533f3ff9481af6104aabbd85581aa397a9df892\n",
      "  Stored in directory: /tmp/pip-ephem-wheel-cache-_sdkhy5m/wheels/ae/32/7c/62beb8371953eb20c271b3bac7d0e56e1a2020d46994346b52\n",
      "Successfully built Theano\n",
      "Installing collected packages: Theano\n",
      "Successfully installed Theano-1.0.4+23.g630974a7b\n",
      "Collecting tensorflow\n",
      "\u001b[?25l  Downloading https://files.pythonhosted.org/packages/2a/5c/f1d66de5dde6f3ff528f6ea1fd0757a0e594d17debb3ec7f82daa967ea9a/tensorflow-2.0.0-cp37-cp37m-manylinux2010_x86_64.whl (86.3MB)\n",
      "\u001b[K     |████████████████████████████████| 86.3MB 300kB/s eta 0:00:012\n",
      "\u001b[?25hCollecting keras-applications>=1.0.8\n",
      "\u001b[?25l  Downloading https://files.pythonhosted.org/packages/71/e3/19762fdfc62877ae9102edf6342d71b28fbfd9dea3d2f96a882ce099b03f/Keras_Applications-1.0.8-py3-none-any.whl (50kB)\n",
      "\u001b[K     |████████████████████████████████| 51kB 4.5MB/s eta 0:00:01\n",
      "\u001b[?25hCollecting opt-einsum>=2.3.2\n",
      "\u001b[?25l  Downloading https://files.pythonhosted.org/packages/b8/83/755bd5324777875e9dff19c2e59daec837d0378c09196634524a3d7269ac/opt_einsum-3.1.0.tar.gz (69kB)\n",
      "\u001b[K     |████████████████████████████████| 71kB 5.0MB/s  eta 0:00:01\n",
      "\u001b[?25hCollecting termcolor>=1.1.0\n",
      "  Downloading https://files.pythonhosted.org/packages/8a/48/a76be51647d0eb9f10e2a4511bf3ffb8cc1e6b14e9e4fab46173aa79f981/termcolor-1.1.0.tar.gz\n",
      "Requirement already satisfied, skipping upgrade: six>=1.10.0 in /opt/conda/lib/python3.7/site-packages (from tensorflow) (1.13.0)\n",
      "Collecting grpcio>=1.8.6\n",
      "\u001b[?25l  Downloading https://files.pythonhosted.org/packages/b5/68/070ee7609b452e950bd5af35f7161f0ceb0abd61cf16ff3b23c852d4594b/grpcio-1.25.0-cp37-cp37m-manylinux2010_x86_64.whl (2.4MB)\n",
      "\u001b[K     |████████████████████████████████| 2.4MB 16.4MB/s eta 0:00:01\n",
      "\u001b[?25hCollecting tensorflow-estimator<2.1.0,>=2.0.0\n",
      "\u001b[?25l  Downloading https://files.pythonhosted.org/packages/fc/08/8b927337b7019c374719145d1dceba21a8bb909b93b1ad6f8fb7d22c1ca1/tensorflow_estimator-2.0.1-py2.py3-none-any.whl (449kB)\n",
      "\u001b[K     |████████████████████████████████| 450kB 9.4MB/s eta 0:00:01\n",
      "\u001b[?25hCollecting absl-py>=0.7.0\n",
      "\u001b[?25l  Downloading https://files.pythonhosted.org/packages/3b/72/e6e483e2db953c11efa44ee21c5fdb6505c4dffa447b4263ca8af6676b62/absl-py-0.8.1.tar.gz (103kB)\n",
      "\u001b[K     |████████████████████████████████| 112kB 5.4MB/s eta 0:00:01\n",
      "\u001b[?25hCollecting wrapt>=1.11.1\n",
      "  Downloading https://files.pythonhosted.org/packages/23/84/323c2415280bc4fc880ac5050dddfb3c8062c2552b34c2e512eb4aa68f79/wrapt-1.11.2.tar.gz\n",
      "Collecting tensorboard<2.1.0,>=2.0.0\n",
      "\u001b[?25l  Downloading https://files.pythonhosted.org/packages/76/54/99b9d5d52d5cb732f099baaaf7740403e83fe6b0cedde940fabd2b13d75a/tensorboard-2.0.2-py3-none-any.whl (3.8MB)\n",
      "\u001b[K     |████████████████████████████████| 3.8MB 22.6MB/s eta 0:00:01\n",
      "\u001b[?25hRequirement already satisfied, skipping upgrade: wheel>=0.26 in /opt/conda/lib/python3.7/site-packages (from tensorflow) (0.33.6)\n",
      "Requirement already satisfied, skipping upgrade: protobuf>=3.6.1 in /opt/conda/lib/python3.7/site-packages (from tensorflow) (3.9.2)\n",
      "Collecting google-pasta>=0.1.6\n",
      "\u001b[?25l  Downloading https://files.pythonhosted.org/packages/c3/fd/1e86bc4837cc9a3a5faf3db9b1854aa04ad35b5f381f9648fbe81a6f94e4/google_pasta-0.1.8-py3-none-any.whl (57kB)\n",
      "\u001b[K     |████████████████████████████████| 61kB 3.4MB/s eta 0:00:011\n",
      "\u001b[?25hCollecting astor>=0.6.0\n",
      "  Downloading https://files.pythonhosted.org/packages/d1/4f/950dfae467b384fc96bc6469de25d832534f6b4441033c39f914efd13418/astor-0.8.0-py2.py3-none-any.whl\n",
      "Collecting keras-preprocessing>=1.0.5\n",
      "\u001b[?25l  Downloading https://files.pythonhosted.org/packages/28/6a/8c1f62c37212d9fc441a7e26736df51ce6f0e38455816445471f10da4f0a/Keras_Preprocessing-1.1.0-py2.py3-none-any.whl (41kB)\n",
      "\u001b[K     |████████████████████████████████| 51kB 959kB/s  eta 0:00:01\n",
      "\u001b[?25hCollecting gast==0.2.2\n",
      "  Downloading https://files.pythonhosted.org/packages/4e/35/11749bf99b2d4e3cceb4d55ca22590b0d7c2c62b9de38ac4a4a7f4687421/gast-0.2.2.tar.gz\n",
      "Requirement already satisfied, skipping upgrade: numpy<2.0,>=1.16.0 in /opt/conda/lib/python3.7/site-packages (from tensorflow) (1.17.3)\n",
      "Requirement already satisfied, skipping upgrade: h5py in /opt/conda/lib/python3.7/site-packages (from keras-applications>=1.0.8->tensorflow) (2.9.0)\n",
      "Requirement already satisfied, skipping upgrade: requests<3,>=2.21.0 in /opt/conda/lib/python3.7/site-packages (from tensorboard<2.1.0,>=2.0.0->tensorflow) (2.22.0)\n",
      "Collecting markdown>=2.6.8\n",
      "\u001b[?25l  Downloading https://files.pythonhosted.org/packages/c0/4e/fd492e91abdc2d2fcb70ef453064d980688762079397f779758e055f6575/Markdown-3.1.1-py2.py3-none-any.whl (87kB)\n",
      "\u001b[K     |████████████████████████████████| 92kB 5.7MB/s  eta 0:00:01\n",
      "\u001b[?25hCollecting google-auth<2,>=1.6.3\n",
      "\u001b[?25l  Downloading https://files.pythonhosted.org/packages/7b/cb/786dc53d93494784935a62947643b48250b84a882474e714f9af5e1a1928/google_auth-1.7.1-py2.py3-none-any.whl (74kB)\n",
      "\u001b[K     |████████████████████████████████| 81kB 6.3MB/s  eta 0:00:01\n",
      "\u001b[?25hCollecting werkzeug>=0.11.15\n",
      "\u001b[?25l  Downloading https://files.pythonhosted.org/packages/ce/42/3aeda98f96e85fd26180534d36570e4d18108d62ae36f87694b476b83d6f/Werkzeug-0.16.0-py2.py3-none-any.whl (327kB)\n",
      "\u001b[K     |████████████████████████████████| 327kB 22.8MB/s eta 0:00:01\n",
      "\u001b[?25hRequirement already satisfied, skipping upgrade: setuptools>=41.0.0 in /opt/conda/lib/python3.7/site-packages (from tensorboard<2.1.0,>=2.0.0->tensorflow) (41.6.0.post20191101)\n",
      "Collecting google-auth-oauthlib<0.5,>=0.4.1\n",
      "  Downloading https://files.pythonhosted.org/packages/7b/b8/88def36e74bee9fce511c9519571f4e485e890093ab7442284f4ffaef60b/google_auth_oauthlib-0.4.1-py2.py3-none-any.whl\n",
      "Requirement already satisfied, skipping upgrade: chardet<3.1.0,>=3.0.2 in /opt/conda/lib/python3.7/site-packages (from requests<3,>=2.21.0->tensorboard<2.1.0,>=2.0.0->tensorflow) (3.0.4)\n",
      "Requirement already satisfied, skipping upgrade: certifi>=2017.4.17 in /opt/conda/lib/python3.7/site-packages (from requests<3,>=2.21.0->tensorboard<2.1.0,>=2.0.0->tensorflow) (2019.9.11)\n",
      "Requirement already satisfied, skipping upgrade: idna<2.9,>=2.5 in /opt/conda/lib/python3.7/site-packages (from requests<3,>=2.21.0->tensorboard<2.1.0,>=2.0.0->tensorflow) (2.8)\n",
      "Requirement already satisfied, skipping upgrade: urllib3!=1.25.0,!=1.25.1,<1.26,>=1.21.1 in /opt/conda/lib/python3.7/site-packages (from requests<3,>=2.21.0->tensorboard<2.1.0,>=2.0.0->tensorflow) (1.25.6)\n",
      "Collecting rsa<4.1,>=3.1.4\n",
      "  Downloading https://files.pythonhosted.org/packages/02/e5/38518af393f7c214357079ce67a317307936896e961e35450b70fad2a9cf/rsa-4.0-py2.py3-none-any.whl\n",
      "Collecting pyasn1-modules>=0.2.1\n",
      "\u001b[?25l  Downloading https://files.pythonhosted.org/packages/52/50/bb4cefca37da63a0c52218ba2cb1b1c36110d84dcbae8aa48cd67c5e95c2/pyasn1_modules-0.2.7-py2.py3-none-any.whl (131kB)\n",
      "\u001b[K     |████████████████████████████████| 133kB 10.7MB/s eta 0:00:01\n",
      "\u001b[?25hCollecting cachetools<3.2,>=2.0.0\n",
      "  Downloading https://files.pythonhosted.org/packages/2f/a6/30b0a0bef12283e83e58c1d6e7b5aabc7acfc4110df81a4471655d33e704/cachetools-3.1.1-py2.py3-none-any.whl\n",
      "Collecting requests-oauthlib>=0.7.0\n",
      "  Downloading https://files.pythonhosted.org/packages/a3/12/b92740d845ab62ea4edf04d2f4164d82532b5a0b03836d4d4e71c6f3d379/requests_oauthlib-1.3.0-py2.py3-none-any.whl\n",
      "Collecting pyasn1>=0.1.3\n",
      "\u001b[?25l  Downloading https://files.pythonhosted.org/packages/62/1e/a94a8d635fa3ce4cfc7f506003548d0a2447ae76fd5ca53932970fe3053f/pyasn1-0.4.8-py2.py3-none-any.whl (77kB)\n",
      "\u001b[K     |████████████████████████████████| 81kB 7.7MB/s  eta 0:00:01\n",
      "\u001b[?25hRequirement already satisfied, skipping upgrade: oauthlib>=3.0.0 in /opt/conda/lib/python3.7/site-packages (from requests-oauthlib>=0.7.0->google-auth-oauthlib<0.5,>=0.4.1->tensorboard<2.1.0,>=2.0.0->tensorflow) (3.0.1)\n",
      "Building wheels for collected packages: opt-einsum, termcolor, absl-py, wrapt, gast\n"
     ]
    },
    {
     "name": "stdout",
     "output_type": "stream",
     "text": [
      "  Building wheel for opt-einsum (setup.py) ... \u001b[?25ldone\n",
      "\u001b[?25h  Created wheel for opt-einsum: filename=opt_einsum-3.1.0-cp37-none-any.whl size=61682 sha256=227c36534cb9211d72e4054ec66f01353f18d5fc6ca628f50aa78626395b3662\n",
      "  Stored in directory: /home/jovyan/.cache/pip/wheels/2c/b1/94/43d03e130b929aae7ba3f8d15cbd7bc0d1cb5bb38a5c721833\n",
      "  Building wheel for termcolor (setup.py) ... \u001b[?25ldone\n",
      "\u001b[?25h  Created wheel for termcolor: filename=termcolor-1.1.0-cp37-none-any.whl size=4832 sha256=f70116b4bde81ea6c85cd6a4333de06d5b4174a1de2e9e92247027b6bd3563f7\n",
      "  Stored in directory: /home/jovyan/.cache/pip/wheels/7c/06/54/bc84598ba1daf8f970247f550b175aaaee85f68b4b0c5ab2c6\n",
      "  Building wheel for absl-py (setup.py) ... \u001b[?25ldone\n",
      "\u001b[?25h  Created wheel for absl-py: filename=absl_py-0.8.1-cp37-none-any.whl size=121167 sha256=795e39d7be4abf8fe439f93912c7dcf3596757c4ee4645fa0a71f74ef4405f97\n",
      "  Stored in directory: /home/jovyan/.cache/pip/wheels/a7/15/a0/0a0561549ad11cdc1bc8fa1191a353efd30facf6bfb507aefc\n",
      "  Building wheel for wrapt (setup.py) ... \u001b[?25ldone\n",
      "\u001b[?25h  Created wheel for wrapt: filename=wrapt-1.11.2-cp37-cp37m-linux_x86_64.whl size=70685 sha256=d5060d0f4c5a1800194e5bec5bc1806f7528fbf70dd265ef2c28ddb3bdab40e6\n",
      "  Stored in directory: /home/jovyan/.cache/pip/wheels/d7/de/2e/efa132238792efb6459a96e85916ef8597fcb3d2ae51590dfd\n",
      "  Building wheel for gast (setup.py) ... \u001b[?25ldone\n",
      "\u001b[?25h  Created wheel for gast: filename=gast-0.2.2-cp37-none-any.whl size=7540 sha256=e379a851dfb65d29c71b527aafff962014944e1a7be48f3e31db10d07fca04c9\n",
      "  Stored in directory: /home/jovyan/.cache/pip/wheels/5c/2e/7e/a1d4d4fcebe6c381f378ce7743a3ced3699feb89bcfbdadadd\n",
      "Successfully built opt-einsum termcolor absl-py wrapt gast\n",
      "Installing collected packages: keras-applications, opt-einsum, termcolor, grpcio, tensorflow-estimator, absl-py, wrapt, markdown, pyasn1, rsa, pyasn1-modules, cachetools, google-auth, werkzeug, requests-oauthlib, google-auth-oauthlib, tensorboard, google-pasta, astor, keras-preprocessing, gast, tensorflow\n",
      "Successfully installed absl-py-0.8.1 astor-0.8.0 cachetools-3.1.1 gast-0.2.2 google-auth-1.7.1 google-auth-oauthlib-0.4.1 google-pasta-0.1.8 grpcio-1.25.0 keras-applications-1.0.8 keras-preprocessing-1.1.0 markdown-3.1.1 opt-einsum-3.1.0 pyasn1-0.4.8 pyasn1-modules-0.2.7 requests-oauthlib-1.3.0 rsa-4.0 tensorboard-2.0.2 tensorflow-2.0.0 tensorflow-estimator-2.0.1 termcolor-1.1.0 werkzeug-0.16.0 wrapt-1.11.2\n",
      "Collecting keras\n",
      "\u001b[?25l  Downloading https://files.pythonhosted.org/packages/ad/fd/6bfe87920d7f4fd475acd28500a42482b6b84479832bdc0fe9e589a60ceb/Keras-2.3.1-py2.py3-none-any.whl (377kB)\n",
      "\u001b[K     |████████████████████████████████| 378kB 884kB/s eta 0:00:01\n",
      "\u001b[?25hRequirement already satisfied, skipping upgrade: keras-applications>=1.0.6 in /opt/conda/lib/python3.7/site-packages (from keras) (1.0.8)\n",
      "Requirement already satisfied, skipping upgrade: scipy>=0.14 in /opt/conda/lib/python3.7/site-packages (from keras) (1.3.1)\n",
      "Requirement already satisfied, skipping upgrade: numpy>=1.9.1 in /opt/conda/lib/python3.7/site-packages (from keras) (1.17.3)\n",
      "Requirement already satisfied, skipping upgrade: pyyaml in /opt/conda/lib/python3.7/site-packages (from keras) (5.1.2)\n",
      "Requirement already satisfied, skipping upgrade: h5py in /opt/conda/lib/python3.7/site-packages (from keras) (2.9.0)\n",
      "Requirement already satisfied, skipping upgrade: keras-preprocessing>=1.0.5 in /opt/conda/lib/python3.7/site-packages (from keras) (1.1.0)\n",
      "Requirement already satisfied, skipping upgrade: six>=1.9.0 in /opt/conda/lib/python3.7/site-packages (from keras) (1.13.0)\n",
      "Installing collected packages: keras\n",
      "Successfully installed keras-2.3.1\n",
      "Requirement already up-to-date: pip in /opt/conda/lib/python3.7/site-packages (19.3.1)\n",
      "Requirement already up-to-date: pandas in /opt/conda/lib/python3.7/site-packages (0.25.3)\n",
      "Collecting numpy\n",
      "\u001b[?25l  Downloading https://files.pythonhosted.org/packages/9b/af/4fc72f9d38e43b092e91e5b8cb9956d25b2e3ff8c75aed95df5569e4734e/numpy-1.17.4-cp37-cp37m-manylinux1_x86_64.whl (20.0MB)\n",
      "\u001b[K     |████████████████████████████████| 20.0MB 21.3MB/s eta 0:00:01\n",
      "\u001b[?25hRequirement already up-to-date: matplotlib in /opt/conda/lib/python3.7/site-packages (3.1.2)\n",
      "Collecting sklearn\n",
      "  Downloading https://files.pythonhosted.org/packages/1e/7a/dbb3be0ce9bd5c8b7e3d87328e79063f8b263b2b1bfa4774cb1147bfcd3f/sklearn-0.0.tar.gz\n",
      "Requirement already satisfied, skipping upgrade: pytz>=2017.2 in /opt/conda/lib/python3.7/site-packages (from pandas) (2019.3)\n",
      "Requirement already satisfied, skipping upgrade: python-dateutil>=2.6.1 in /opt/conda/lib/python3.7/site-packages (from pandas) (2.8.1)\n",
      "Requirement already satisfied, skipping upgrade: pyparsing!=2.0.4,!=2.1.2,!=2.1.6,>=2.0.1 in /opt/conda/lib/python3.7/site-packages (from matplotlib) (2.4.4)\n",
      "Requirement already satisfied, skipping upgrade: kiwisolver>=1.0.1 in /opt/conda/lib/python3.7/site-packages (from matplotlib) (1.1.0)\n",
      "Requirement already satisfied, skipping upgrade: cycler>=0.10 in /opt/conda/lib/python3.7/site-packages (from matplotlib) (0.10.0)\n",
      "Requirement already satisfied, skipping upgrade: scikit-learn in /opt/conda/lib/python3.7/site-packages (from sklearn) (0.21.3)\n",
      "Requirement already satisfied, skipping upgrade: six>=1.5 in /opt/conda/lib/python3.7/site-packages (from python-dateutil>=2.6.1->pandas) (1.13.0)\n",
      "Requirement already satisfied, skipping upgrade: setuptools in /opt/conda/lib/python3.7/site-packages (from kiwisolver>=1.0.1->matplotlib) (41.6.0.post20191101)\n",
      "Requirement already satisfied, skipping upgrade: scipy>=0.17.0 in /opt/conda/lib/python3.7/site-packages (from scikit-learn->sklearn) (1.3.1)\n",
      "Requirement already satisfied, skipping upgrade: joblib>=0.11 in /opt/conda/lib/python3.7/site-packages (from scikit-learn->sklearn) (0.14.0)\n",
      "Building wheels for collected packages: sklearn\n",
      "  Building wheel for sklearn (setup.py) ... \u001b[?25ldone\n",
      "\u001b[?25h  Created wheel for sklearn: filename=sklearn-0.0-py2.py3-none-any.whl size=1316 sha256=dd8ed480c28b768e71d188966da1a98f4f68bc641b885660f7d77d22c147db05\n",
      "  Stored in directory: /home/jovyan/.cache/pip/wheels/76/03/bb/589d421d27431bcd2c6da284d5f2286c8e3b2ea3cf1594c074\n",
      "Successfully built sklearn\n",
      "Installing collected packages: numpy, sklearn\n",
      "  Found existing installation: numpy 1.17.3\n",
      "    Uninstalling numpy-1.17.3:\n",
      "      Successfully uninstalled numpy-1.17.3\n",
      "Successfully installed numpy-1.17.4 sklearn-0.0\n"
     ]
    }
   ],
   "source": [
    "# Installing Theano\n",
    "! pip install --upgrade --no-deps git+git://github.com/Theano/Theano.git\n",
    "\n",
    "# Installing Tensorflow\n",
    "! pip install --upgrade tensorflow\n",
    "\n",
    "# Installing Keras\n",
    "! pip install --upgrade keras\n",
    "\n",
    "# Install other packages\n",
    "! pip install --upgrade pip pandas numpy matplotlib sklearn"
   ]
  },
  {
   "cell_type": "markdown",
   "metadata": {},
   "source": [
    "# Parte 1 - Preprocessamento dos Dados"
   ]
  },
  {
   "cell_type": "markdown",
   "metadata": {},
   "source": [
    "### Importar as libs"
   ]
  },
  {
   "cell_type": "code",
   "execution_count": 8,
   "metadata": {},
   "outputs": [],
   "source": [
    "import numpy as np\n",
    "import matplotlib.pyplot as plt\n",
    "import pandas as pd"
   ]
  },
  {
   "cell_type": "markdown",
   "metadata": {},
   "source": [
    "### Importar o dataset"
   ]
  },
  {
   "cell_type": "code",
   "execution_count": 9,
   "metadata": {},
   "outputs": [
    {
     "name": "stdout",
     "output_type": "stream",
     "text": [
      "X >>\n",
      " [[619 'France' 'Female' ... 1 1 101348.88]\n",
      " [608 'Spain' 'Female' ... 0 1 112542.58]\n",
      " [502 'France' 'Female' ... 1 0 113931.57]\n",
      " ...\n",
      " [709 'France' 'Female' ... 0 1 42085.58]\n",
      " [772 'Germany' 'Male' ... 1 0 92888.52]\n",
      " [792 'France' 'Female' ... 1 0 38190.78]]\n",
      "y >>\n",
      " [1 0 1 ... 1 1 0]\n"
     ]
    }
   ],
   "source": [
    "dataset = pd.read_csv('Churn_Modelling.csv')\n",
    "X = dataset.iloc[:, 3:13].values\n",
    "y = dataset.iloc[:, 13].values\n",
    "print(\"X >>\\n\",X)\n",
    "print(\"y >>\\n\",y)"
   ]
  },
  {
   "cell_type": "markdown",
   "metadata": {},
   "source": [
    "### Transformando os dados categóricos\n"
   ]
  },
  {
   "cell_type": "code",
   "execution_count": 10,
   "metadata": {},
   "outputs": [
    {
     "name": "stdout",
     "output_type": "stream",
     "text": [
      "X >>\n",
      " [[0.0000000e+00 0.0000000e+00 6.1900000e+02 ... 1.0000000e+00\n",
      "  1.0000000e+00 1.0134888e+05]\n",
      " [0.0000000e+00 1.0000000e+00 6.0800000e+02 ... 0.0000000e+00\n",
      "  1.0000000e+00 1.1254258e+05]\n",
      " [0.0000000e+00 0.0000000e+00 5.0200000e+02 ... 1.0000000e+00\n",
      "  0.0000000e+00 1.1393157e+05]\n",
      " ...\n",
      " [0.0000000e+00 0.0000000e+00 7.0900000e+02 ... 0.0000000e+00\n",
      "  1.0000000e+00 4.2085580e+04]\n",
      " [1.0000000e+00 0.0000000e+00 7.7200000e+02 ... 1.0000000e+00\n",
      "  0.0000000e+00 9.2888520e+04]\n",
      " [0.0000000e+00 0.0000000e+00 7.9200000e+02 ... 1.0000000e+00\n",
      "  0.0000000e+00 3.8190780e+04]]\n"
     ]
    },
    {
     "name": "stderr",
     "output_type": "stream",
     "text": [
      "/opt/conda/lib/python3.7/site-packages/sklearn/preprocessing/_encoders.py:415: FutureWarning: The handling of integer data will change in version 0.22. Currently, the categories are determined based on the range [0, max(values)], while in the future they will be determined based on the unique values.\n",
      "If you want the future behaviour and silence this warning, you can specify \"categories='auto'\".\n",
      "In case you used a LabelEncoder before this OneHotEncoder to convert the categories to integers, then you can now use the OneHotEncoder directly.\n",
      "  warnings.warn(msg, FutureWarning)\n",
      "/opt/conda/lib/python3.7/site-packages/sklearn/preprocessing/_encoders.py:451: DeprecationWarning: The 'categorical_features' keyword is deprecated in version 0.20 and will be removed in 0.22. You can use the ColumnTransformer instead.\n",
      "  \"use the ColumnTransformer instead.\", DeprecationWarning)\n"
     ]
    }
   ],
   "source": [
    "from sklearn.preprocessing import LabelEncoder, OneHotEncoder\n",
    "labelencoder_X_1 = LabelEncoder()\n",
    "X[:, 1] = labelencoder_X_1.fit_transform(X[:, 1])\n",
    "labelencoder_X_2 = LabelEncoder()\n",
    "X[:, 2] = labelencoder_X_2.fit_transform(X[:, 2])\n",
    "onehotencoder = OneHotEncoder(categorical_features = [1])\n",
    "X = onehotencoder.fit_transform(X).toarray()\n",
    "X = X[:, 1:]\n",
    "print(\"X >>\\n\",X)"
   ]
  },
  {
   "cell_type": "markdown",
   "metadata": {},
   "source": [
    "# Dividindo o dataset em conjunto de treinamento e conjunto de teste"
   ]
  },
  {
   "cell_type": "code",
   "execution_count": 11,
   "metadata": {},
   "outputs": [],
   "source": [
    "from sklearn.model_selection import train_test_split\n",
    "X_train, X_test, y_train, y_test = train_test_split(X, y, test_size = 0.2, random_state = 0)"
   ]
  },
  {
   "cell_type": "markdown",
   "metadata": {},
   "source": [
    "# Feature Scaling"
   ]
  },
  {
   "cell_type": "code",
   "execution_count": 12,
   "metadata": {},
   "outputs": [],
   "source": [
    "from sklearn.preprocessing import StandardScaler\n",
    "sc = StandardScaler()\n",
    "X_train = sc.fit_transform(X_train)\n",
    "X_test = sc.transform(X_test)"
   ]
  },
  {
   "cell_type": "markdown",
   "metadata": {},
   "source": [
    "---\n",
    "# Parte 2 -Vamos construir uma ANN!\n",
    "\n",
    "## Importando o Keras\n"
   ]
  },
  {
   "cell_type": "code",
   "execution_count": 13,
   "metadata": {},
   "outputs": [
    {
     "name": "stderr",
     "output_type": "stream",
     "text": [
      "Using TensorFlow backend.\n"
     ]
    }
   ],
   "source": [
    "import keras\n",
    "from keras.models import Sequential\n",
    "from keras.layers import Dense"
   ]
  },
  {
   "cell_type": "code",
   "execution_count": 14,
   "metadata": {},
   "outputs": [],
   "source": [
    "# Initialising the ANN\n",
    "classifier = Sequential()\n",
    "\n",
    "# Adding the input layer and the first hidden layer\n",
    "classifier.add(Dense(units = 6, kernel_initializer = 'uniform', activation = 'sigmoid', input_dim = 11))\n",
    "\n",
    "# Adding the second hidden layer\n",
    "classifier.add(Dense(units = 6, kernel_initializer = 'uniform', activation = 'sigmoid'))\n",
    "\n",
    "# Adding the output layer\n",
    "classifier.add(Dense(units = 1, kernel_initializer = 'uniform', activation = 'relu'))\n",
    "\n",
    "# Compiling the ANN\n",
    "classifier.compile(optimizer = 'adam', loss = 'binary_crossentropy', metrics = ['accuracy'])"
   ]
  },
  {
   "cell_type": "markdown",
   "metadata": {},
   "source": [
    "# Ajustando a ANN ao conjunto de treinamento"
   ]
  },
  {
   "cell_type": "code",
   "execution_count": null,
   "metadata": {},
   "outputs": [
    {
     "name": "stdout",
     "output_type": "stream",
     "text": [
      "Epoch 1/100\n",
      "8000/8000 [==============================] - 1s 118us/step - loss: 3.1467 - accuracy: 0.7960\n",
      "Epoch 2/100\n",
      "8000/8000 [==============================] - 1s 99us/step - loss: 3.1467 - accuracy: 0.7960\n",
      "Epoch 3/100\n",
      "8000/8000 [==============================] - 1s 98us/step - loss: 3.1467 - accuracy: 0.7960\n",
      "Epoch 4/100\n",
      "8000/8000 [==============================] - 1s 102us/step - loss: 3.1467 - accuracy: 0.7960\n",
      "Epoch 5/100\n",
      "8000/8000 [==============================] - 1s 102us/step - loss: 3.1467 - accuracy: 0.7960\n",
      "Epoch 6/100\n",
      "8000/8000 [==============================] - 1s 134us/step - loss: 3.1467 - accuracy: 0.7960\n",
      "Epoch 7/100\n",
      "8000/8000 [==============================] - 1s 101us/step - loss: 3.1467 - accuracy: 0.7960\n",
      "Epoch 8/100\n",
      "8000/8000 [==============================] - 1s 98us/step - loss: 3.1467 - accuracy: 0.7960\n",
      "Epoch 9/100\n",
      "8000/8000 [==============================] - 1s 128us/step - loss: 3.1467 - accuracy: 0.7960\n",
      "Epoch 10/100\n",
      "8000/8000 [==============================] - 1s 99us/step - loss: 3.1467 - accuracy: 0.7960\n",
      "Epoch 11/100\n",
      "8000/8000 [==============================] - 1s 99us/step - loss: 3.1467 - accuracy: 0.7960\n",
      "Epoch 12/100\n",
      "8000/8000 [==============================] - 1s 102us/step - loss: 3.1467 - accuracy: 0.7960\n",
      "Epoch 13/100\n",
      "8000/8000 [==============================] - 1s 103us/step - loss: 3.1467 - accuracy: 0.7960\n",
      "Epoch 14/100\n",
      "8000/8000 [==============================] - 1s 101us/step - loss: 3.1467 - accuracy: 0.7960\n",
      "Epoch 15/100\n",
      "8000/8000 [==============================] - 1s 100us/step - loss: 3.1467 - accuracy: 0.7960\n",
      "Epoch 16/100\n",
      "8000/8000 [==============================] - 1s 104us/step - loss: 3.1467 - accuracy: 0.7960\n",
      "Epoch 17/100\n",
      "8000/8000 [==============================] - 1s 113us/step - loss: 3.1467 - accuracy: 0.7960\n",
      "Epoch 18/100\n",
      "8000/8000 [==============================] - 1s 106us/step - loss: 3.1467 - accuracy: 0.7960\n",
      "Epoch 19/100\n",
      "8000/8000 [==============================] - 1s 102us/step - loss: 3.1467 - accuracy: 0.7960\n",
      "Epoch 20/100\n",
      "3970/8000 [=============>................] - ETA: 0s - loss: 3.1277 - accuracy: 0.7972"
     ]
    }
   ],
   "source": [
    "classifier.fit(X_train, y_train, batch_size = 10, epochs = 100)"
   ]
  },
  {
   "cell_type": "markdown",
   "metadata": {},
   "source": [
    "# Parte 3 - Fazendo predições e avaliando o modelo\n",
    "\n",
    "## Prevendo os resultados com o conjunto de testes"
   ]
  },
  {
   "cell_type": "code",
   "execution_count": null,
   "metadata": {},
   "outputs": [],
   "source": [
    "y_pred = classifier.predict(X_test)\n",
    "y_pred = (y_pred > 0.5)"
   ]
  },
  {
   "cell_type": "markdown",
   "metadata": {},
   "source": [
    "# Criando uma Confusion Matrix"
   ]
  },
  {
   "cell_type": "code",
   "execution_count": null,
   "metadata": {},
   "outputs": [],
   "source": [
    "from sklearn.metrics import confusion_matrix\n",
    "cm = confusion_matrix(y_test, y_pred)\n",
    "print(cm)"
   ]
  },
  {
   "cell_type": "markdown",
   "metadata": {},
   "source": [
    "# Initiate activation function experimentation\n",
    "\n",
    "# Initialising the 2nd ANN"
   ]
  },
  {
   "cell_type": "code",
   "execution_count": 14,
   "metadata": {},
   "outputs": [
    {
     "name": "stdout",
     "output_type": "stream",
     "text": [
      "Epoch 1/100\n",
      "8000/8000 [==============================] - 2s 242us/step - loss: 3.2881 - acc: 0.7960\n",
      "Epoch 2/100\n",
      "8000/8000 [==============================] - 2s 191us/step - loss: 3.2881 - acc: 0.7960\n",
      "Epoch 3/100\n",
      "8000/8000 [==============================] - 2s 194us/step - loss: 3.2881 - acc: 0.7960\n",
      "Epoch 4/100\n",
      "8000/8000 [==============================] - 2s 254us/step - loss: 3.2881 - acc: 0.7960\n",
      "Epoch 5/100\n",
      "8000/8000 [==============================] - 2s 218us/step - loss: 3.2881 - acc: 0.7960\n",
      "Epoch 6/100\n",
      "8000/8000 [==============================] - 1s 187us/step - loss: 3.2881 - acc: 0.7960\n",
      "Epoch 7/100\n",
      "8000/8000 [==============================] - 1s 185us/step - loss: 3.2881 - acc: 0.7960\n",
      "Epoch 8/100\n",
      "8000/8000 [==============================] - 1s 180us/step - loss: 3.2881 - acc: 0.7960\n",
      "Epoch 9/100\n",
      "8000/8000 [==============================] - 1s 183us/step - loss: 3.2881 - acc: 0.7960\n",
      "Epoch 10/100\n",
      "8000/8000 [==============================] - 2s 190us/step - loss: 3.2881 - acc: 0.7960\n",
      "Epoch 11/100\n",
      "8000/8000 [==============================] - 1s 187us/step - loss: 3.2881 - acc: 0.7960\n",
      "Epoch 12/100\n",
      "8000/8000 [==============================] - 2s 199us/step - loss: 3.2881 - acc: 0.7960\n",
      "Epoch 13/100\n",
      "8000/8000 [==============================] - 2s 244us/step - loss: 3.2881 - acc: 0.7960\n",
      "Epoch 14/100\n",
      "8000/8000 [==============================] - 4s 523us/step - loss: 3.2881 - acc: 0.7960\n",
      "Epoch 15/100\n",
      "8000/8000 [==============================] - 2s 256us/step - loss: 3.2881 - acc: 0.7960\n",
      "Epoch 16/100\n",
      "8000/8000 [==============================] - 2s 209us/step - loss: 3.2881 - acc: 0.7960\n",
      "Epoch 17/100\n",
      "8000/8000 [==============================] - 2s 197us/step - loss: 3.2881 - acc: 0.7960\n",
      "Epoch 18/100\n",
      "8000/8000 [==============================] - 2s 214us/step - loss: 3.2881 - acc: 0.7960\n",
      "Epoch 19/100\n",
      "8000/8000 [==============================] - 2s 204us/step - loss: 3.2881 - acc: 0.7960\n",
      "Epoch 20/100\n",
      "8000/8000 [==============================] - 1s 186us/step - loss: 3.2881 - acc: 0.7960\n",
      "Epoch 21/100\n",
      "8000/8000 [==============================] - 2s 218us/step - loss: 3.2881 - acc: 0.7960\n",
      "Epoch 22/100\n",
      "8000/8000 [==============================] - 2s 265us/step - loss: 3.2881 - acc: 0.7960\n",
      "Epoch 23/100\n",
      "8000/8000 [==============================] - 2s 252us/step - loss: 3.2881 - acc: 0.7960\n",
      "Epoch 24/100\n",
      "8000/8000 [==============================] - 2s 200us/step - loss: 3.2881 - acc: 0.7960\n",
      "Epoch 25/100\n",
      "8000/8000 [==============================] - 2s 213us/step - loss: 3.2881 - acc: 0.7960\n",
      "Epoch 26/100\n",
      "8000/8000 [==============================] - 2s 199us/step - loss: 3.2881 - acc: 0.7960\n",
      "Epoch 27/100\n",
      "8000/8000 [==============================] - 2s 197us/step - loss: 3.2881 - acc: 0.7960\n",
      "Epoch 28/100\n",
      "8000/8000 [==============================] - 2s 208us/step - loss: 3.2881 - acc: 0.7960\n",
      "Epoch 29/100\n",
      "8000/8000 [==============================] - 2s 203us/step - loss: 3.2881 - acc: 0.7960\n",
      "Epoch 30/100\n",
      "8000/8000 [==============================] - 2s 191us/step - loss: 3.2881 - acc: 0.7960\n",
      "Epoch 31/100\n",
      "8000/8000 [==============================] - 2s 188us/step - loss: 3.2881 - acc: 0.7960\n",
      "Epoch 32/100\n",
      "8000/8000 [==============================] - 2s 202us/step - loss: 3.2881 - acc: 0.7960\n",
      "Epoch 33/100\n",
      "8000/8000 [==============================] - 2s 206us/step - loss: 3.2881 - acc: 0.7960\n",
      "Epoch 34/100\n",
      "8000/8000 [==============================] - 2s 194us/step - loss: 3.2881 - acc: 0.7960\n",
      "Epoch 35/100\n",
      "8000/8000 [==============================] - 2s 197us/step - loss: 3.2881 - acc: 0.7960\n",
      "Epoch 36/100\n",
      "8000/8000 [==============================] - 1s 183us/step - loss: 3.2881 - acc: 0.7960\n",
      "Epoch 37/100\n",
      "8000/8000 [==============================] - 2s 189us/step - loss: 3.2881 - acc: 0.7960\n",
      "Epoch 38/100\n",
      "8000/8000 [==============================] - 2s 203us/step - loss: 3.2881 - acc: 0.7960\n",
      "Epoch 39/100\n",
      "8000/8000 [==============================] - 2s 194us/step - loss: 3.2881 - acc: 0.7960\n",
      "Epoch 40/100\n",
      "8000/8000 [==============================] - 2s 198us/step - loss: 3.2881 - acc: 0.7960\n",
      "Epoch 41/100\n",
      "8000/8000 [==============================] - 2s 199us/step - loss: 3.2881 - acc: 0.7960\n",
      "Epoch 42/100\n",
      "8000/8000 [==============================] - 2s 249us/step - loss: 3.2881 - acc: 0.7960\n",
      "Epoch 43/100\n",
      "8000/8000 [==============================] - 2s 202us/step - loss: 3.2881 - acc: 0.7960\n",
      "Epoch 44/100\n",
      "8000/8000 [==============================] - 2s 189us/step - loss: 3.2881 - acc: 0.7960\n",
      "Epoch 45/100\n",
      "8000/8000 [==============================] - 2s 191us/step - loss: 3.2881 - acc: 0.7960\n",
      "Epoch 46/100\n",
      "8000/8000 [==============================] - 2s 220us/step - loss: 3.2881 - acc: 0.7960\n",
      "Epoch 47/100\n",
      "8000/8000 [==============================] - 2s 193us/step - loss: 3.2881 - acc: 0.7960\n",
      "Epoch 48/100\n",
      "8000/8000 [==============================] - 2s 202us/step - loss: 3.2881 - acc: 0.7960\n",
      "Epoch 49/100\n",
      "8000/8000 [==============================] - 2s 188us/step - loss: 3.2881 - acc: 0.7960\n",
      "Epoch 50/100\n",
      "8000/8000 [==============================] - 1s 180us/step - loss: 3.2881 - acc: 0.7960\n",
      "Epoch 51/100\n",
      "8000/8000 [==============================] - 2s 258us/step - loss: 3.2881 - acc: 0.7960\n",
      "Epoch 52/100\n",
      "8000/8000 [==============================] - 2s 238us/step - loss: 3.2881 - acc: 0.7960\n",
      "Epoch 53/100\n",
      "8000/8000 [==============================] - 2s 226us/step - loss: 3.2881 - acc: 0.7960\n",
      "Epoch 54/100\n",
      "8000/8000 [==============================] - 2s 291us/step - loss: 3.2881 - acc: 0.7960\n",
      "Epoch 55/100\n",
      "8000/8000 [==============================] - 2s 201us/step - loss: 3.2881 - acc: 0.7960\n",
      "Epoch 56/100\n",
      "8000/8000 [==============================] - 2s 202us/step - loss: 3.2881 - acc: 0.7960\n",
      "Epoch 57/100\n",
      "8000/8000 [==============================] - 2s 196us/step - loss: 3.2881 - acc: 0.7960\n",
      "Epoch 58/100\n",
      "8000/8000 [==============================] - 2s 258us/step - loss: 3.2881 - acc: 0.7960\n",
      "Epoch 59/100\n",
      "8000/8000 [==============================] - 2s 239us/step - loss: 3.2881 - acc: 0.7960\n",
      "Epoch 60/100\n",
      "8000/8000 [==============================] - 3s 384us/step - loss: 3.2881 - acc: 0.7960\n",
      "Epoch 61/100\n",
      "8000/8000 [==============================] - 2s 256us/step - loss: 3.2881 - acc: 0.7960\n",
      "Epoch 62/100\n",
      "8000/8000 [==============================] - 2s 258us/step - loss: 3.2881 - acc: 0.7960\n",
      "Epoch 63/100\n",
      "8000/8000 [==============================] - 3s 358us/step - loss: 3.2881 - acc: 0.7960\n",
      "Epoch 64/100\n",
      "8000/8000 [==============================] - 2s 230us/step - loss: 3.2881 - acc: 0.7960\n",
      "Epoch 65/100\n",
      "8000/8000 [==============================] - 2s 191us/step - loss: 3.2881 - acc: 0.7960\n",
      "Epoch 66/100\n",
      "8000/8000 [==============================] - 2s 228us/step - loss: 3.2881 - acc: 0.7960\n",
      "Epoch 67/100\n",
      "8000/8000 [==============================] - 3s 399us/step - loss: 3.2881 - acc: 0.7960\n",
      "Epoch 68/100\n",
      "8000/8000 [==============================] - 3s 368us/step - loss: 3.2881 - acc: 0.7960\n",
      "Epoch 69/100\n",
      "8000/8000 [==============================] - 2s 258us/step - loss: 3.2881 - acc: 0.7960\n",
      "Epoch 70/100\n",
      "8000/8000 [==============================] - 2s 208us/step - loss: 3.2881 - acc: 0.7960\n",
      "Epoch 71/100\n",
      "8000/8000 [==============================] - 2s 195us/step - loss: 3.2881 - acc: 0.7960\n",
      "Epoch 72/100\n",
      "8000/8000 [==============================] - 2s 220us/step - loss: 3.2881 - acc: 0.7960\n",
      "Epoch 73/100\n",
      "8000/8000 [==============================] - 2s 214us/step - loss: 3.2881 - acc: 0.7960\n",
      "Epoch 74/100\n",
      "8000/8000 [==============================] - 2s 227us/step - loss: 3.2881 - acc: 0.7960\n",
      "Epoch 75/100\n",
      "8000/8000 [==============================] - 3s 345us/step - loss: 3.2881 - acc: 0.7960\n",
      "Epoch 76/100\n",
      "8000/8000 [==============================] - 2s 231us/step - loss: 3.2881 - acc: 0.7960\n",
      "Epoch 77/100\n",
      "8000/8000 [==============================] - 2s 193us/step - loss: 3.2881 - acc: 0.7960\n",
      "Epoch 78/100\n",
      "8000/8000 [==============================] - 1s 187us/step - loss: 3.2881 - acc: 0.7960\n",
      "Epoch 79/100\n",
      "8000/8000 [==============================] - 1s 187us/step - loss: 3.2881 - acc: 0.7960\n",
      "Epoch 80/100\n",
      "8000/8000 [==============================] - 2s 281us/step - loss: 3.2881 - acc: 0.7960\n",
      "Epoch 81/100\n",
      "8000/8000 [==============================] - 2s 293us/step - loss: 3.2881 - acc: 0.7960\n",
      "Epoch 82/100\n",
      "8000/8000 [==============================] - 2s 279us/step - loss: 3.2881 - acc: 0.7960\n",
      "Epoch 83/100\n",
      "8000/8000 [==============================] - 2s 193us/step - loss: 3.2881 - acc: 0.7960\n",
      "Epoch 84/100\n",
      "8000/8000 [==============================] - 1s 187us/step - loss: 3.2881 - acc: 0.7960\n",
      "Epoch 85/100\n",
      "8000/8000 [==============================] - 2s 206us/step - loss: 3.2881 - acc: 0.7960\n",
      "Epoch 86/100\n",
      "8000/8000 [==============================] - 2s 211us/step - loss: 3.2881 - acc: 0.7960\n",
      "Epoch 87/100\n",
      "8000/8000 [==============================] - 1s 186us/step - loss: 3.2881 - acc: 0.7960\n",
      "Epoch 88/100\n",
      "8000/8000 [==============================] - 2s 189us/step - loss: 3.2881 - acc: 0.7960\n",
      "Epoch 89/100\n",
      "8000/8000 [==============================] - 2s 189us/step - loss: 3.2881 - acc: 0.7960\n",
      "Epoch 90/100\n",
      "8000/8000 [==============================] - 2s 188us/step - loss: 3.2881 - acc: 0.7960\n",
      "Epoch 91/100\n",
      "8000/8000 [==============================] - 2s 226us/step - loss: 3.2881 - acc: 0.7960\n",
      "Epoch 92/100\n",
      "8000/8000 [==============================] - 2s 192us/step - loss: 3.2881 - acc: 0.7960\n",
      "Epoch 93/100\n",
      "8000/8000 [==============================] - 1s 186us/step - loss: 3.2881 - acc: 0.7960\n",
      "Epoch 94/100\n",
      "8000/8000 [==============================] - 2s 222us/step - loss: 3.2881 - acc: 0.7960\n",
      "Epoch 95/100\n",
      "8000/8000 [==============================] - 2s 209us/step - loss: 3.2881 - acc: 0.7960\n",
      "Epoch 96/100\n",
      "8000/8000 [==============================] - 2s 232us/step - loss: 3.2881 - acc: 0.7960\n",
      "Epoch 97/100\n",
      "8000/8000 [==============================] - 2s 234us/step - loss: 3.2881 - acc: 0.7960\n",
      "Epoch 98/100\n",
      "8000/8000 [==============================] - 2s 284us/step - loss: 3.2881 - acc: 0.7960\n",
      "Epoch 99/100\n",
      "8000/8000 [==============================] - 2s 250us/step - loss: 3.2881 - acc: 0.7960\n",
      "Epoch 100/100\n",
      "8000/8000 [==============================] - 2s 266us/step - loss: 3.2881 - acc: 0.7960\n"
     ]
    },
    {
     "data": {
      "text/plain": [
       "<keras.callbacks.History at 0x1a31b18b70>"
      ]
     },
     "execution_count": 14,
     "metadata": {},
     "output_type": "execute_result"
    }
   ],
   "source": [
    "del classifier\n",
    "\n",
    "classifier = Sequential()\n",
    "\n",
    "classifier.add(Dense(units = 6, kernel_initializer = 'uniform', activation = 'sigmoid', input_dim = 11))\n",
    "\n",
    "classifier.add(Dense(units = 6, kernel_initializer = 'uniform', activation = 'sigmoid'))\n",
    "\n",
    "classifier.add(Dense(units = 1, kernel_initializer = 'uniform', activation = 'tanh'))\n",
    "\n",
    "classifier.compile(optimizer = 'adam', loss = 'binary_crossentropy', metrics = ['accuracy'])\n",
    "\n",
    "classifier.fit(X_train, y_train, batch_size = 10, epochs = 100)"
   ]
  },
  {
   "cell_type": "code",
   "execution_count": 15,
   "metadata": {},
   "outputs": [],
   "source": [
    "y_pred = classifier.predict(X_test)\n",
    "y_pred = (y_pred > 0.5)"
   ]
  },
  {
   "cell_type": "markdown",
   "metadata": {},
   "source": [
    "# Making the Confusion Matrix"
   ]
  },
  {
   "cell_type": "code",
   "execution_count": 16,
   "metadata": {},
   "outputs": [
    {
     "name": "stdout",
     "output_type": "stream",
     "text": [
      "[[1595    0]\n",
      " [ 405    0]]\n"
     ]
    }
   ],
   "source": [
    "from sklearn.metrics import confusion_matrix\n",
    "cm = confusion_matrix(y_test, y_pred)\n",
    "print(cm)"
   ]
  },
  {
   "cell_type": "markdown",
   "metadata": {},
   "source": [
    "# Initialising the 3rd ANN"
   ]
  },
  {
   "cell_type": "code",
   "execution_count": 17,
   "metadata": {},
   "outputs": [
    {
     "name": "stdout",
     "output_type": "stream",
     "text": [
      "Epoch 1/100\n",
      "8000/8000 [==============================] - 2s 242us/step - loss: 0.5123 - acc: 0.7960\n",
      "Epoch 2/100\n",
      "8000/8000 [==============================] - 2s 193us/step - loss: 0.4461 - acc: 0.7960\n",
      "Epoch 3/100\n",
      "8000/8000 [==============================] - 2s 191us/step - loss: 0.4341 - acc: 0.7956\n",
      "Epoch 4/100\n",
      "8000/8000 [==============================] - 1s 187us/step - loss: 0.4297 - acc: 0.7982\n",
      "Epoch 5/100\n",
      "8000/8000 [==============================] - 2s 190us/step - loss: 0.4280 - acc: 0.8000\n",
      "Epoch 6/100\n",
      "8000/8000 [==============================] - 1s 186us/step - loss: 0.4276 - acc: 0.8030\n",
      "Epoch 7/100\n",
      "8000/8000 [==============================] - 2s 189us/step - loss: 0.4266 - acc: 0.8042\n",
      "Epoch 8/100\n",
      "8000/8000 [==============================] - 2s 226us/step - loss: 0.4271 - acc: 0.8045\n",
      "Epoch 9/100\n",
      "8000/8000 [==============================] - 2s 252us/step - loss: 0.4268 - acc: 0.8049\n",
      "Epoch 10/100\n",
      "8000/8000 [==============================] - 2s 193us/step - loss: 0.4266 - acc: 0.8056\n",
      "Epoch 11/100\n",
      "8000/8000 [==============================] - 2s 196us/step - loss: 0.4259 - acc: 0.8057\n",
      "Epoch 12/100\n",
      "8000/8000 [==============================] - 2s 191us/step - loss: 0.4252 - acc: 0.8084\n",
      "Epoch 13/100\n",
      "8000/8000 [==============================] - 2s 204us/step - loss: 0.4240 - acc: 0.8142\n",
      "Epoch 14/100\n",
      "8000/8000 [==============================] - 2s 202us/step - loss: 0.4225 - acc: 0.8169\n",
      "Epoch 15/100\n",
      "8000/8000 [==============================] - 2s 195us/step - loss: 0.4206 - acc: 0.8206\n",
      "Epoch 16/100\n",
      "8000/8000 [==============================] - 2s 200us/step - loss: 0.4188 - acc: 0.8235\n",
      "Epoch 17/100\n",
      "8000/8000 [==============================] - 2s 195us/step - loss: 0.4175 - acc: 0.8249\n",
      "Epoch 18/100\n",
      "8000/8000 [==============================] - 2s 192us/step - loss: 0.4161 - acc: 0.8255\n",
      "Epoch 19/100\n",
      "8000/8000 [==============================] - 2s 222us/step - loss: 0.4146 - acc: 0.8277\n",
      "Epoch 20/100\n",
      "8000/8000 [==============================] - 2s 200us/step - loss: 0.4133 - acc: 0.8282\n",
      "Epoch 21/100\n",
      "8000/8000 [==============================] - 2s 201us/step - loss: 0.4123 - acc: 0.8296\n",
      "Epoch 22/100\n",
      "8000/8000 [==============================] - 2s 225us/step - loss: 0.4114 - acc: 0.8307\n",
      "Epoch 23/100\n",
      "8000/8000 [==============================] - 2s 230us/step - loss: 0.4106 - acc: 0.8302\n",
      "Epoch 24/100\n",
      "8000/8000 [==============================] - 2s 205us/step - loss: 0.4097 - acc: 0.8315\n",
      "Epoch 25/100\n",
      "8000/8000 [==============================] - 2s 247us/step - loss: 0.4093 - acc: 0.8317\n",
      "Epoch 26/100\n",
      "8000/8000 [==============================] - 2s 259us/step - loss: 0.4085 - acc: 0.8325\n",
      "Epoch 27/100\n",
      "8000/8000 [==============================] - 2s 283us/step - loss: 0.4082 - acc: 0.8324\n",
      "Epoch 28/100\n",
      "8000/8000 [==============================] - 3s 385us/step - loss: 0.4077 - acc: 0.8336\n",
      "Epoch 29/100\n",
      "8000/8000 [==============================] - 2s 208us/step - loss: 0.4073 - acc: 0.8341\n",
      "Epoch 30/100\n",
      "8000/8000 [==============================] - 2s 204us/step - loss: 0.4068 - acc: 0.8329\n",
      "Epoch 31/100\n",
      "8000/8000 [==============================] - 2s 202us/step - loss: 0.4063 - acc: 0.8341\n",
      "Epoch 32/100\n",
      "8000/8000 [==============================] - 2s 198us/step - loss: 0.4060 - acc: 0.8350\n",
      "Epoch 33/100\n",
      "8000/8000 [==============================] - 2s 200us/step - loss: 0.4057 - acc: 0.8351\n",
      "Epoch 34/100\n",
      "8000/8000 [==============================] - 2s 220us/step - loss: 0.4055 - acc: 0.8342\n",
      "Epoch 35/100\n",
      "8000/8000 [==============================] - 2s 205us/step - loss: 0.4051 - acc: 0.8347\n",
      "Epoch 36/100\n",
      "8000/8000 [==============================] - 2s 202us/step - loss: 0.4049 - acc: 0.8340\n",
      "Epoch 37/100\n",
      "8000/8000 [==============================] - 2s 202us/step - loss: 0.4046 - acc: 0.8336\n",
      "Epoch 38/100\n",
      "8000/8000 [==============================] - 2s 203us/step - loss: 0.4042 - acc: 0.8341\n",
      "Epoch 39/100\n",
      "8000/8000 [==============================] - 2s 224us/step - loss: 0.4043 - acc: 0.8336\n",
      "Epoch 40/100\n",
      "8000/8000 [==============================] - 2s 232us/step - loss: 0.4039 - acc: 0.8342\n",
      "Epoch 41/100\n",
      "8000/8000 [==============================] - 2s 269us/step - loss: 0.4038 - acc: 0.8342\n",
      "Epoch 42/100\n",
      "8000/8000 [==============================] - 2s 224us/step - loss: 0.4033 - acc: 0.8337\n",
      "Epoch 43/100\n",
      "8000/8000 [==============================] - 2s 304us/step - loss: 0.4030 - acc: 0.8340\n",
      "Epoch 44/100\n",
      "8000/8000 [==============================] - 1s 187us/step - loss: 0.4031 - acc: 0.8339\n",
      "Epoch 45/100\n",
      "8000/8000 [==============================] - 1s 183us/step - loss: 0.4025 - acc: 0.8341\n",
      "Epoch 46/100\n",
      "8000/8000 [==============================] - 2s 189us/step - loss: 0.4023 - acc: 0.8337\n",
      "Epoch 47/100\n",
      "8000/8000 [==============================] - 2s 220us/step - loss: 0.4019 - acc: 0.8329\n",
      "Epoch 48/100\n",
      "8000/8000 [==============================] - 2s 188us/step - loss: 0.4019 - acc: 0.8337\n",
      "Epoch 49/100\n",
      "8000/8000 [==============================] - 2s 197us/step - loss: 0.4017 - acc: 0.8341\n",
      "Epoch 50/100\n",
      "8000/8000 [==============================] - 2s 200us/step - loss: 0.4015 - acc: 0.8342\n",
      "Epoch 51/100\n",
      "8000/8000 [==============================] - 2s 195us/step - loss: 0.4011 - acc: 0.8340\n",
      "Epoch 52/100\n",
      "8000/8000 [==============================] - 2s 196us/step - loss: 0.4010 - acc: 0.8337\n",
      "Epoch 53/100\n",
      "8000/8000 [==============================] - 2s 198us/step - loss: 0.4006 - acc: 0.8351\n",
      "Epoch 54/100\n",
      "8000/8000 [==============================] - 2s 201us/step - loss: 0.4003 - acc: 0.8354\n",
      "Epoch 55/100\n",
      "8000/8000 [==============================] - 2s 207us/step - loss: 0.4004 - acc: 0.8340\n",
      "Epoch 56/100\n",
      "8000/8000 [==============================] - 2s 212us/step - loss: 0.4000 - acc: 0.8337\n",
      "Epoch 57/100\n",
      "8000/8000 [==============================] - 2s 210us/step - loss: 0.3998 - acc: 0.8340\n",
      "Epoch 58/100\n",
      "8000/8000 [==============================] - 2s 195us/step - loss: 0.3993 - acc: 0.8345\n",
      "Epoch 59/100\n",
      "8000/8000 [==============================] - 2s 214us/step - loss: 0.3991 - acc: 0.8344\n",
      "Epoch 60/100\n",
      "8000/8000 [==============================] - 2s 208us/step - loss: 0.3989 - acc: 0.8337\n",
      "Epoch 61/100\n",
      "8000/8000 [==============================] - 2s 210us/step - loss: 0.3988 - acc: 0.8347\n",
      "Epoch 62/100\n",
      "8000/8000 [==============================] - 3s 375us/step - loss: 0.3986 - acc: 0.8345\n",
      "Epoch 63/100\n",
      "8000/8000 [==============================] - 3s 382us/step - loss: 0.3982 - acc: 0.8342\n",
      "Epoch 64/100\n",
      "8000/8000 [==============================] - 2s 301us/step - loss: 0.3981 - acc: 0.8341\n",
      "Epoch 65/100\n",
      "8000/8000 [==============================] - 2s 219us/step - loss: 0.3978 - acc: 0.8347\n",
      "Epoch 66/100\n",
      "8000/8000 [==============================] - 1s 183us/step - loss: 0.3976 - acc: 0.8347\n",
      "Epoch 67/100\n",
      "8000/8000 [==============================] - 2s 237us/step - loss: 0.3973 - acc: 0.8349\n",
      "Epoch 68/100\n",
      "8000/8000 [==============================] - 2s 228us/step - loss: 0.3972 - acc: 0.8352\n",
      "Epoch 69/100\n",
      "8000/8000 [==============================] - 1s 171us/step - loss: 0.3971 - acc: 0.8342\n",
      "Epoch 70/100\n",
      "8000/8000 [==============================] - 1s 176us/step - loss: 0.3968 - acc: 0.8350\n",
      "Epoch 71/100\n",
      "8000/8000 [==============================] - 1s 175us/step - loss: 0.3965 - acc: 0.8355\n",
      "Epoch 72/100\n",
      "8000/8000 [==============================] - 2s 222us/step - loss: 0.3965 - acc: 0.8351\n",
      "Epoch 73/100\n",
      "8000/8000 [==============================] - 2s 188us/step - loss: 0.3963 - acc: 0.8355\n",
      "Epoch 74/100\n",
      "8000/8000 [==============================] - 2s 249us/step - loss: 0.3959 - acc: 0.8354\n",
      "Epoch 75/100\n",
      "8000/8000 [==============================] - 3s 416us/step - loss: 0.3958 - acc: 0.8354\n",
      "Epoch 76/100\n",
      "8000/8000 [==============================] - 3s 410us/step - loss: 0.3958 - acc: 0.8357\n",
      "Epoch 77/100\n",
      "8000/8000 [==============================] - 4s 475us/step - loss: 0.3954 - acc: 0.8350\n",
      "Epoch 78/100\n",
      "8000/8000 [==============================] - 4s 444us/step - loss: 0.3955 - acc: 0.8339\n",
      "Epoch 79/100\n",
      "8000/8000 [==============================] - 4s 438us/step - loss: 0.3953 - acc: 0.8352\n",
      "Epoch 80/100\n",
      "8000/8000 [==============================] - 4s 459us/step - loss: 0.3951 - acc: 0.8350\n",
      "Epoch 81/100\n",
      "8000/8000 [==============================] - 4s 496us/step - loss: 0.3949 - acc: 0.8352\n",
      "Epoch 82/100\n",
      "8000/8000 [==============================] - 5s 573us/step - loss: 0.3947 - acc: 0.8351\n",
      "Epoch 83/100\n",
      "8000/8000 [==============================] - 5s 567us/step - loss: 0.3949 - acc: 0.8355\n",
      "Epoch 84/100\n",
      "8000/8000 [==============================] - 4s 484us/step - loss: 0.3944 - acc: 0.8359\n",
      "Epoch 85/100\n",
      "8000/8000 [==============================] - 4s 441us/step - loss: 0.3944 - acc: 0.8362\n",
      "Epoch 86/100\n",
      "8000/8000 [==============================] - 2s 241us/step - loss: 0.3941 - acc: 0.8365\n",
      "Epoch 87/100\n",
      "8000/8000 [==============================] - 3s 351us/step - loss: 0.3937 - acc: 0.8362\n",
      "Epoch 88/100\n",
      "8000/8000 [==============================] - 2s 295us/step - loss: 0.3939 - acc: 0.8360\n",
      "Epoch 89/100\n",
      "8000/8000 [==============================] - 2s 271us/step - loss: 0.3938 - acc: 0.8369\n",
      "Epoch 90/100\n",
      "8000/8000 [==============================] - 3s 348us/step - loss: 0.3937 - acc: 0.8369\n",
      "Epoch 91/100\n",
      "8000/8000 [==============================] - 2s 297us/step - loss: 0.3935 - acc: 0.8374\n",
      "Epoch 92/100\n",
      "8000/8000 [==============================] - 2s 206us/step - loss: 0.3935 - acc: 0.8346\n",
      "Epoch 93/100\n",
      "8000/8000 [==============================] - 5s 604us/step - loss: 0.3933 - acc: 0.8354\n",
      "Epoch 94/100\n",
      "8000/8000 [==============================] - 4s 466us/step - loss: 0.3931 - acc: 0.8360\n",
      "Epoch 95/100\n",
      "8000/8000 [==============================] - 4s 511us/step - loss: 0.3930 - acc: 0.8347\n",
      "Epoch 96/100\n",
      "8000/8000 [==============================] - 4s 518us/step - loss: 0.3928 - acc: 0.8369\n",
      "Epoch 97/100\n",
      "8000/8000 [==============================] - 5s 589us/step - loss: 0.3928 - acc: 0.8367\n",
      "Epoch 98/100\n",
      "8000/8000 [==============================] - 4s 474us/step - loss: 0.3924 - acc: 0.8371\n",
      "Epoch 99/100\n",
      "8000/8000 [==============================] - 3s 407us/step - loss: 0.3923 - acc: 0.8367\n",
      "Epoch 100/100\n",
      "8000/8000 [==============================] - 3s 352us/step - loss: 0.3921 - acc: 0.8371\n"
     ]
    },
    {
     "data": {
      "text/plain": [
       "<keras.callbacks.History at 0x1a31face80>"
      ]
     },
     "execution_count": 17,
     "metadata": {},
     "output_type": "execute_result"
    }
   ],
   "source": [
    "del classifier\n",
    "\n",
    "classifier = Sequential()\n",
    "\n",
    "classifier.add(Dense(units = 6, kernel_initializer = 'uniform', activation = 'sigmoid', input_dim = 11))\n",
    "\n",
    "classifier.add(Dense(units = 6, kernel_initializer = 'uniform', activation = 'relu'))\n",
    "\n",
    "classifier.add(Dense(units = 1, kernel_initializer = 'uniform', activation = 'sigmoid'))\n",
    "\n",
    "classifier.compile(optimizer = 'adam', loss = 'binary_crossentropy', metrics = ['accuracy'])\n",
    "\n",
    "classifier.fit(X_train, y_train, batch_size = 10, epochs = 100)"
   ]
  },
  {
   "cell_type": "code",
   "execution_count": 19,
   "metadata": {},
   "outputs": [],
   "source": [
    "y_pred = classifier.predict(X_test)\n",
    "y_pred = (y_pred > 0.5)"
   ]
  },
  {
   "cell_type": "markdown",
   "metadata": {},
   "source": [
    "# Making the Confusion Matrix"
   ]
  },
  {
   "cell_type": "code",
   "execution_count": 20,
   "metadata": {},
   "outputs": [
    {
     "name": "stdout",
     "output_type": "stream",
     "text": [
      "[[1547   48]\n",
      " [ 265  140]]\n"
     ]
    }
   ],
   "source": [
    "from sklearn.metrics import confusion_matrix\n",
    "cm = confusion_matrix(y_test, y_pred)\n",
    "print(cm)"
   ]
  },
  {
   "cell_type": "markdown",
   "metadata": {},
   "source": [
    "---\n",
    "# Parte 4 - Evaluating, Improving and Tuning the ANN\n",
    "\n",
    "## Evaluating the ANN"
   ]
  },
  {
   "cell_type": "code",
   "execution_count": null,
   "metadata": {},
   "outputs": [],
   "source": [
    "from keras.wrappers.scikit_learn import KerasClassifier\n",
    "from sklearn.model_selection import cross_val_score\n",
    "from keras.models import Sequential\n",
    "from keras.layers import Dense\n",
    "\n",
    "def build_classifier():\n",
    "    classifier = Sequential()\n",
    "    classifier.add(Dense(units = 6, kernel_initializer = 'uniform', activation = 'relu', input_dim = 11))\n",
    "    classifier.add(Dense(units = 6, kernel_initializer = 'uniform', activation = 'relu'))\n",
    "    classifier.add(Dense(units = 1, kernel_initializer = 'uniform', activation = 'sigmoid'))\n",
    "    classifier.compile(optimizer = 'adam', loss = 'binary_crossentropy', metrics = ['accuracy'])\n",
    "    return classifier\n",
    "\n",
    "classifier = KerasClassifier(build_fn = build_classifier, batch_size = 10, epochs = 10)\n",
    "accuracies = cross_val_score(estimator = classifier, X = X_train, y = y_train, cv = 10, n_jobs = -1)\n",
    "mean = accuracies.mean()\n",
    "variance = accuracies.std()\n",
    "print(\"accuracies:%s\\nmean:%s\\nvariance:%s\".format(accuracies, mean, variance))"
   ]
  },
  {
   "cell_type": "markdown",
   "metadata": {},
   "source": [
    "# Improving the ANN\n",
    "# Dropout Regularization to reduce overfitting if needed"
   ]
  },
  {
   "cell_type": "code",
   "execution_count": null,
   "metadata": {},
   "outputs": [],
   "source": [
    "from keras.layers import Dropout\n",
    "\n",
    "def build_classifier():\n",
    "    classifier = Sequential()\n",
    "    classifier.add(Dense(units = 6, kernel_initializer = 'uniform', activation = 'relu', input_dim = 11))\n",
    "    classifier.add(Dropout(rate = 0.1))\n",
    "    classifier.add(Dense(units = 6, kernel_initializer = 'uniform', activation = 'relu'))\n",
    "    classifier.add(Dropout(rate = 0.1))\n",
    "    classifier.add(Dense(units = 1, kernel_initializer = 'uniform', activation = 'sigmoid'))\n",
    "    classifier.compile(optimizer = 'adam', loss = 'binary_crossentropy', metrics = ['accuracy'])\n",
    "    return classifier\n",
    "\n",
    "classifier = KerasClassifier(build_fn = build_classifier, batch_size = 10, epochs = 10)\n",
    "accuracies = cross_val_score(estimator = classifier, X = X_train, y = y_train, cv = 10, n_jobs = -1)\n",
    "mean = accuracies.mean()\n",
    "variance = accuracies.std()"
   ]
  },
  {
   "cell_type": "markdown",
   "metadata": {},
   "source": [
    "# Tuning the ANN"
   ]
  },
  {
   "cell_type": "code",
   "execution_count": null,
   "metadata": {},
   "outputs": [],
   "source": [
    "from keras.wrappers.scikit_learn import KerasClassifier\n",
    "from sklearn.model_selection import GridSearchCV\n",
    "from keras.models import Sequential\n",
    "from keras.layers import Dense\n",
    "\n",
    "def build_classifier(optimizer):\n",
    "    classifier = Sequential()\n",
    "    classifier.add(Dense(units = 6, kernel_initializer = 'uniform', activation = 'relu', input_dim = 11))\n",
    "    classifier.add(Dropout(rate = 0.1))\n",
    "    classifier.add(Dense(units = 6, kernel_initializer = 'uniform', activation = 'relu'))\n",
    "    classifier.add(Dropout(rate = 0.1))\n",
    "    classifier.add(Dense(units = 1, kernel_initializer = 'uniform', activation = 'sigmoid'))\n",
    "    classifier.compile(optimizer = optimizer, loss = 'binary_crossentropy', metrics = ['accuracy'])\n",
    "    return classifier\n",
    "\n",
    "classifier = KerasClassifier(build_fn = build_classifier)"
   ]
  },
  {
   "cell_type": "code",
   "execution_count": null,
   "metadata": {},
   "outputs": [],
   "source": [
    "parameters = {'batch_size': [10, 24, 32],\n",
    "              'epochs': [50, 100, 200],\n",
    "              'optimizer': ['adam', 'rmsprop']}\n",
    "\n",
    "grid_search = GridSearchCV(estimator = classifier,\n",
    "                           scoring = 'accuracy',\n",
    "                           param_grid = parameters,\n",
    "                           cv = 10)\n",
    "\n",
    "grid_search = grid_search.fit(X_train, y_train)\n",
    "\n",
    "best_parameters = grid_search.best_params_\n",
    "best_accuracy = grid_search.best_score_"
   ]
  },
  {
   "cell_type": "markdown",
   "metadata": {},
   "source": [
    "# FIM"
   ]
  },
  {
   "cell_type": "markdown",
   "metadata": {},
   "source": [
    "> Professor Diego Dorgam  \n",
    "> [@diegodorgam](https://twitter.com/diegodorgam)"
   ]
  }
 ],
 "metadata": {
  "kernelspec": {
   "display_name": "Python 3",
   "language": "python",
   "name": "python3"
  },
  "language_info": {
   "codemirror_mode": {
    "name": "ipython",
    "version": 3
   },
   "file_extension": ".py",
   "mimetype": "text/x-python",
   "name": "python",
   "nbconvert_exporter": "python",
   "pygments_lexer": "ipython3",
   "version": "3.7.3"
  }
 },
 "nbformat": 4,
 "nbformat_minor": 2
}
