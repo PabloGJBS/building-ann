{
 "cells": [
  {
   "cell_type": "markdown",
   "source": [
    "# REDES NEURAIS ARTIFICIAIS\n",
    "\n",
    "[Aula 3 de Deep Learning](http://bit.ly/dn-unb03) da Engenharia de Software da UnB"
   ],
   "metadata": {}
  },
  {
   "cell_type": "markdown",
   "source": [
    "# Parte 1 - Pré-processamento dos Dados"
   ],
   "metadata": {}
  },
  {
   "cell_type": "markdown",
   "source": [
    "### Importar as libs"
   ],
   "metadata": {}
  },
  {
   "cell_type": "code",
   "execution_count": 53,
   "source": [
    "import numpy as np\r\n",
    "import pandas as pd\r\n",
    "import tensorflow as tf"
   ],
   "outputs": [],
   "metadata": {
    "colab": {},
    "colab_type": "code",
    "id": "MxkJoQBkUIHC"
   }
  },
  {
   "cell_type": "code",
   "execution_count": 54,
   "source": [
    "tf.__version__"
   ],
   "outputs": [
    {
     "output_type": "execute_result",
     "data": {
      "text/plain": [
       "'2.5.0'"
      ]
     },
     "metadata": {},
     "execution_count": 54
    }
   ],
   "metadata": {
    "colab": {
     "base_uri": "https://localhost:8080/",
     "height": 34
    },
    "colab_type": "code",
    "id": "ZaTwK7ojXr2F",
    "outputId": "0b27a96d-d11a-43e8-ab4b-87c1f01896fe"
   }
  },
  {
   "cell_type": "markdown",
   "source": [
    "### Importar o dataset"
   ],
   "metadata": {}
  },
  {
   "cell_type": "code",
   "execution_count": 55,
   "source": [
    "dataset = pd.read_csv('Churn_Modelling.csv')\r\n",
    "dataset.head()"
   ],
   "outputs": [
    {
     "output_type": "execute_result",
     "data": {
      "text/plain": [
       "   RowNumber  CustomerId   Surname  CreditScore Geography  Gender  Age  \\\n",
       "0          1    15634602  Hargrave          619    France  Female   42   \n",
       "1          2    15647311      Hill          608     Spain  Female   41   \n",
       "2          3    15619304      Onio          502    France  Female   42   \n",
       "3          4    15701354      Boni          699    France  Female   39   \n",
       "4          5    15737888  Mitchell          850     Spain  Female   43   \n",
       "\n",
       "   Tenure    Balance  NumOfProducts  HasCrCard  IsActiveMember  \\\n",
       "0       2       0.00              1          1               1   \n",
       "1       1   83807.86              1          0               1   \n",
       "2       8  159660.80              3          1               0   \n",
       "3       1       0.00              2          0               0   \n",
       "4       2  125510.82              1          1               1   \n",
       "\n",
       "   EstimatedSalary  Exited  \n",
       "0        101348.88       1  \n",
       "1        112542.58       0  \n",
       "2        113931.57       1  \n",
       "3         93826.63       0  \n",
       "4         79084.10       0  "
      ],
      "text/html": [
       "<div>\n",
       "<style scoped>\n",
       "    .dataframe tbody tr th:only-of-type {\n",
       "        vertical-align: middle;\n",
       "    }\n",
       "\n",
       "    .dataframe tbody tr th {\n",
       "        vertical-align: top;\n",
       "    }\n",
       "\n",
       "    .dataframe thead th {\n",
       "        text-align: right;\n",
       "    }\n",
       "</style>\n",
       "<table border=\"1\" class=\"dataframe\">\n",
       "  <thead>\n",
       "    <tr style=\"text-align: right;\">\n",
       "      <th></th>\n",
       "      <th>RowNumber</th>\n",
       "      <th>CustomerId</th>\n",
       "      <th>Surname</th>\n",
       "      <th>CreditScore</th>\n",
       "      <th>Geography</th>\n",
       "      <th>Gender</th>\n",
       "      <th>Age</th>\n",
       "      <th>Tenure</th>\n",
       "      <th>Balance</th>\n",
       "      <th>NumOfProducts</th>\n",
       "      <th>HasCrCard</th>\n",
       "      <th>IsActiveMember</th>\n",
       "      <th>EstimatedSalary</th>\n",
       "      <th>Exited</th>\n",
       "    </tr>\n",
       "  </thead>\n",
       "  <tbody>\n",
       "    <tr>\n",
       "      <th>0</th>\n",
       "      <td>1</td>\n",
       "      <td>15634602</td>\n",
       "      <td>Hargrave</td>\n",
       "      <td>619</td>\n",
       "      <td>France</td>\n",
       "      <td>Female</td>\n",
       "      <td>42</td>\n",
       "      <td>2</td>\n",
       "      <td>0.00</td>\n",
       "      <td>1</td>\n",
       "      <td>1</td>\n",
       "      <td>1</td>\n",
       "      <td>101348.88</td>\n",
       "      <td>1</td>\n",
       "    </tr>\n",
       "    <tr>\n",
       "      <th>1</th>\n",
       "      <td>2</td>\n",
       "      <td>15647311</td>\n",
       "      <td>Hill</td>\n",
       "      <td>608</td>\n",
       "      <td>Spain</td>\n",
       "      <td>Female</td>\n",
       "      <td>41</td>\n",
       "      <td>1</td>\n",
       "      <td>83807.86</td>\n",
       "      <td>1</td>\n",
       "      <td>0</td>\n",
       "      <td>1</td>\n",
       "      <td>112542.58</td>\n",
       "      <td>0</td>\n",
       "    </tr>\n",
       "    <tr>\n",
       "      <th>2</th>\n",
       "      <td>3</td>\n",
       "      <td>15619304</td>\n",
       "      <td>Onio</td>\n",
       "      <td>502</td>\n",
       "      <td>France</td>\n",
       "      <td>Female</td>\n",
       "      <td>42</td>\n",
       "      <td>8</td>\n",
       "      <td>159660.80</td>\n",
       "      <td>3</td>\n",
       "      <td>1</td>\n",
       "      <td>0</td>\n",
       "      <td>113931.57</td>\n",
       "      <td>1</td>\n",
       "    </tr>\n",
       "    <tr>\n",
       "      <th>3</th>\n",
       "      <td>4</td>\n",
       "      <td>15701354</td>\n",
       "      <td>Boni</td>\n",
       "      <td>699</td>\n",
       "      <td>France</td>\n",
       "      <td>Female</td>\n",
       "      <td>39</td>\n",
       "      <td>1</td>\n",
       "      <td>0.00</td>\n",
       "      <td>2</td>\n",
       "      <td>0</td>\n",
       "      <td>0</td>\n",
       "      <td>93826.63</td>\n",
       "      <td>0</td>\n",
       "    </tr>\n",
       "    <tr>\n",
       "      <th>4</th>\n",
       "      <td>5</td>\n",
       "      <td>15737888</td>\n",
       "      <td>Mitchell</td>\n",
       "      <td>850</td>\n",
       "      <td>Spain</td>\n",
       "      <td>Female</td>\n",
       "      <td>43</td>\n",
       "      <td>2</td>\n",
       "      <td>125510.82</td>\n",
       "      <td>1</td>\n",
       "      <td>1</td>\n",
       "      <td>1</td>\n",
       "      <td>79084.10</td>\n",
       "      <td>0</td>\n",
       "    </tr>\n",
       "  </tbody>\n",
       "</table>\n",
       "</div>"
      ]
     },
     "metadata": {},
     "execution_count": 55
    }
   ],
   "metadata": {}
  },
  {
   "cell_type": "code",
   "execution_count": 56,
   "source": [
    "X = dataset.iloc[:, 3:13].values\r\n",
    "y = dataset.iloc[:, 13].values\r\n",
    "print(\"X >>\\n\",X)\r\n",
    "print(\"y >>\\n\",y)"
   ],
   "outputs": [
    {
     "output_type": "stream",
     "name": "stdout",
     "text": [
      "X >>\n",
      " [[619 'France' 'Female' ... 1 1 101348.88]\n",
      " [608 'Spain' 'Female' ... 0 1 112542.58]\n",
      " [502 'France' 'Female' ... 1 0 113931.57]\n",
      " ...\n",
      " [709 'France' 'Female' ... 0 1 42085.58]\n",
      " [772 'Germany' 'Male' ... 1 0 92888.52]\n",
      " [792 'France' 'Female' ... 1 0 38190.78]]\n",
      "y >>\n",
      " [1 0 1 ... 1 1 0]\n"
     ]
    }
   ],
   "metadata": {}
  },
  {
   "cell_type": "markdown",
   "source": [
    "### Transformando os dados categóricos\n"
   ],
   "metadata": {}
  },
  {
   "cell_type": "code",
   "execution_count": 57,
   "source": [
    "# Label Encoding the \"Gender\" column\r\n",
    "from sklearn.preprocessing import LabelEncoder\r\n",
    "le = LabelEncoder()\r\n",
    "X[:, 2] = le.fit_transform(X[:, 2])\r\n",
    "print(X)\r\n"
   ],
   "outputs": [
    {
     "output_type": "stream",
     "name": "stdout",
     "text": [
      "[[619 'France' 0 ... 1 1 101348.88]\n",
      " [608 'Spain' 0 ... 0 1 112542.58]\n",
      " [502 'France' 0 ... 1 0 113931.57]\n",
      " ...\n",
      " [709 'France' 0 ... 0 1 42085.58]\n",
      " [772 'Germany' 1 ... 1 0 92888.52]\n",
      " [792 'France' 0 ... 1 0 38190.78]]\n"
     ]
    }
   ],
   "metadata": {}
  },
  {
   "cell_type": "code",
   "execution_count": 58,
   "source": [
    "# One Hot Encoding the \"Geography\" column\r\n",
    "from sklearn.compose import ColumnTransformer\r\n",
    "from sklearn.preprocessing import OneHotEncoder\r\n",
    "ct = ColumnTransformer(transformers=[('encoder', OneHotEncoder(), [1])], remainder='passthrough')\r\n",
    "X = np.array(ct.fit_transform(X))\r\n",
    "print(X)"
   ],
   "outputs": [
    {
     "output_type": "stream",
     "name": "stdout",
     "text": [
      "[[1.0 0.0 0.0 ... 1 1 101348.88]\n",
      " [0.0 0.0 1.0 ... 0 1 112542.58]\n",
      " [1.0 0.0 0.0 ... 1 0 113931.57]\n",
      " ...\n",
      " [1.0 0.0 0.0 ... 0 1 42085.58]\n",
      " [0.0 1.0 0.0 ... 1 0 92888.52]\n",
      " [1.0 0.0 0.0 ... 1 0 38190.78]]\n"
     ]
    }
   ],
   "metadata": {}
  },
  {
   "cell_type": "markdown",
   "source": [
    "# Dividindo o dataset em conjunto de treinamento e conjunto de teste"
   ],
   "metadata": {}
  },
  {
   "cell_type": "code",
   "execution_count": 59,
   "source": [
    "from sklearn.model_selection import train_test_split\r\n",
    "X_train, X_test, y_train, y_test = train_test_split(X, y, test_size = 0.2, random_state = 0)"
   ],
   "outputs": [],
   "metadata": {}
  },
  {
   "cell_type": "markdown",
   "source": [
    "# Feature Scaling"
   ],
   "metadata": {}
  },
  {
   "cell_type": "code",
   "execution_count": 60,
   "source": [
    "from sklearn.preprocessing import StandardScaler\r\n",
    "sc = StandardScaler()\r\n",
    "X_train = sc.fit_transform(X_train)\r\n",
    "X_test = sc.transform(X_test)"
   ],
   "outputs": [],
   "metadata": {}
  },
  {
   "cell_type": "code",
   "execution_count": 61,
   "source": [
    "np.shape(X_train)"
   ],
   "outputs": [
    {
     "output_type": "execute_result",
     "data": {
      "text/plain": [
       "(8000, 12)"
      ]
     },
     "metadata": {},
     "execution_count": 61
    }
   ],
   "metadata": {}
  },
  {
   "cell_type": "code",
   "execution_count": 62,
   "source": [
    "X_train"
   ],
   "outputs": [
    {
     "output_type": "execute_result",
     "data": {
      "text/plain": [
       "array([[-1.01460667, -0.5698444 ,  1.74309049, ...,  0.64259497,\n",
       "        -1.03227043,  1.10643166],\n",
       "       [-1.01460667,  1.75486502, -0.57369368, ...,  0.64259497,\n",
       "         0.9687384 , -0.74866447],\n",
       "       [ 0.98560362, -0.5698444 , -0.57369368, ...,  0.64259497,\n",
       "        -1.03227043,  1.48533467],\n",
       "       ...,\n",
       "       [ 0.98560362, -0.5698444 , -0.57369368, ...,  0.64259497,\n",
       "        -1.03227043,  1.41231994],\n",
       "       [-1.01460667, -0.5698444 ,  1.74309049, ...,  0.64259497,\n",
       "         0.9687384 ,  0.84432121],\n",
       "       [-1.01460667,  1.75486502, -0.57369368, ...,  0.64259497,\n",
       "        -1.03227043,  0.32472465]])"
      ]
     },
     "metadata": {},
     "execution_count": 62
    }
   ],
   "metadata": {}
  },
  {
   "cell_type": "markdown",
   "source": [
    "---\n",
    "# Parte 2 -Vamos construir uma ANN!\n"
   ],
   "metadata": {}
  },
  {
   "cell_type": "markdown",
   "source": [
    "### Initializing the ANN"
   ],
   "metadata": {
    "colab_type": "text",
    "id": "KvdeScabXtlB"
   }
  },
  {
   "cell_type": "code",
   "execution_count": 63,
   "source": [
    "ann = tf.keras.models.Sequential()"
   ],
   "outputs": [],
   "metadata": {
    "colab": {},
    "colab_type": "code",
    "id": "3dtrScHxXQox"
   }
  },
  {
   "cell_type": "markdown",
   "source": [
    "### Adding the input layer and the first hidden layer"
   ],
   "metadata": {
    "colab_type": "text",
    "id": "rP6urV6SX7kS"
   }
  },
  {
   "cell_type": "code",
   "execution_count": 64,
   "source": [
    "ann.add(tf.keras.layers.Dense(units=12, activation='tanh'))"
   ],
   "outputs": [],
   "metadata": {
    "colab": {},
    "colab_type": "code",
    "id": "bppGycBXYCQr"
   }
  },
  {
   "cell_type": "markdown",
   "source": [
    "### Adding the second hidden layer"
   ],
   "metadata": {
    "colab_type": "text",
    "id": "BELWAc_8YJze"
   }
  },
  {
   "cell_type": "code",
   "execution_count": 65,
   "source": [
    "ann.add(tf.keras.layers.Dense(units=12, activation='tanh'))"
   ],
   "outputs": [],
   "metadata": {
    "colab": {},
    "colab_type": "code",
    "id": "JneR0u0sYRTd"
   }
  },
  {
   "cell_type": "markdown",
   "source": [
    "### Adding the output layer"
   ],
   "metadata": {
    "colab_type": "text",
    "id": "OyNEe6RXYcU4"
   }
  },
  {
   "cell_type": "code",
   "execution_count": 66,
   "source": [
    "ann.add(tf.keras.layers.Dense(units=1, activation='sigmoid'))"
   ],
   "outputs": [],
   "metadata": {
    "colab": {},
    "colab_type": "code",
    "id": "Cn3x41RBYfvY"
   }
  },
  {
   "cell_type": "markdown",
   "source": [
    "## Part 3 - Training the ANN"
   ],
   "metadata": {
    "colab_type": "text",
    "id": "JT4u2S1_Y4WG"
   }
  },
  {
   "cell_type": "markdown",
   "source": [
    "### Compiling the ANN"
   ],
   "metadata": {
    "colab_type": "text",
    "id": "8GWlJChhY_ZI"
   }
  },
  {
   "cell_type": "code",
   "execution_count": 67,
   "source": [
    "ann.compile(optimizer = 'SGD', loss = 'binary_crossentropy', metrics = ['accuracy'])"
   ],
   "outputs": [],
   "metadata": {
    "colab": {},
    "colab_type": "code",
    "id": "fG3RrwDXZEaS"
   }
  },
  {
   "cell_type": "markdown",
   "source": [
    "### Training the ANN on the Training set"
   ],
   "metadata": {
    "colab_type": "text",
    "id": "0QR_G5u7ZLSM"
   }
  },
  {
   "cell_type": "code",
   "execution_count": 68,
   "source": [
    "ann.fit(X_train, y_train, batch_size = 32, epochs = 50)"
   ],
   "outputs": [
    {
     "output_type": "stream",
     "name": "stdout",
     "text": [
      "Epoch 1/50\n",
      "250/250 [==============================] - 1s 1ms/step - loss: 0.5590 - accuracy: 0.7246\n",
      "Epoch 2/50\n",
      "250/250 [==============================] - 0s 2ms/step - loss: 0.4617 - accuracy: 0.7984\n",
      "Epoch 3/50\n",
      "250/250 [==============================] - 0s 2ms/step - loss: 0.4435 - accuracy: 0.8043\n",
      "Epoch 4/50\n",
      "250/250 [==============================] - 0s 2ms/step - loss: 0.4358 - accuracy: 0.8084\n",
      "Epoch 5/50\n",
      "250/250 [==============================] - 0s 1ms/step - loss: 0.4315 - accuracy: 0.8065\n",
      "Epoch 6/50\n",
      "250/250 [==============================] - 0s 2ms/step - loss: 0.4283 - accuracy: 0.8074\n",
      "Epoch 7/50\n",
      "250/250 [==============================] - 0s 1ms/step - loss: 0.4259 - accuracy: 0.8071\n",
      "Epoch 8/50\n",
      "250/250 [==============================] - 0s 1ms/step - loss: 0.4238 - accuracy: 0.8080\n",
      "Epoch 9/50\n",
      "250/250 [==============================] - 0s 1ms/step - loss: 0.4219 - accuracy: 0.8091\n",
      "Epoch 10/50\n",
      "250/250 [==============================] - 0s 1ms/step - loss: 0.4198 - accuracy: 0.8099\n",
      "Epoch 11/50\n",
      "250/250 [==============================] - 0s 2ms/step - loss: 0.4178 - accuracy: 0.8131\n",
      "Epoch 12/50\n",
      "250/250 [==============================] - 0s 2ms/step - loss: 0.4156 - accuracy: 0.8145\n",
      "Epoch 13/50\n",
      "250/250 [==============================] - 0s 2ms/step - loss: 0.4133 - accuracy: 0.8158\n",
      "Epoch 14/50\n",
      "250/250 [==============================] - 0s 2ms/step - loss: 0.4108 - accuracy: 0.8156\n",
      "Epoch 15/50\n",
      "250/250 [==============================] - 0s 2ms/step - loss: 0.4084 - accuracy: 0.8194\n",
      "Epoch 16/50\n",
      "250/250 [==============================] - 0s 2ms/step - loss: 0.4057 - accuracy: 0.8199\n",
      "Epoch 17/50\n",
      "250/250 [==============================] - 0s 2ms/step - loss: 0.4029 - accuracy: 0.8210\n",
      "Epoch 18/50\n",
      "250/250 [==============================] - 0s 2ms/step - loss: 0.4002 - accuracy: 0.8230\n",
      "Epoch 19/50\n",
      "250/250 [==============================] - 0s 2ms/step - loss: 0.3972 - accuracy: 0.8259\n",
      "Epoch 20/50\n",
      "250/250 [==============================] - 0s 1ms/step - loss: 0.3943 - accuracy: 0.8284\n",
      "Epoch 21/50\n",
      "250/250 [==============================] - 0s 1ms/step - loss: 0.3912 - accuracy: 0.8300\n",
      "Epoch 22/50\n",
      "250/250 [==============================] - 0s 2ms/step - loss: 0.3884 - accuracy: 0.8329\n",
      "Epoch 23/50\n",
      "250/250 [==============================] - 0s 2ms/step - loss: 0.3854 - accuracy: 0.8361\n",
      "Epoch 24/50\n",
      "250/250 [==============================] - 0s 1ms/step - loss: 0.3824 - accuracy: 0.8375\n",
      "Epoch 25/50\n",
      "250/250 [==============================] - 0s 2ms/step - loss: 0.3796 - accuracy: 0.8389\n",
      "Epoch 26/50\n",
      "250/250 [==============================] - 0s 2ms/step - loss: 0.3766 - accuracy: 0.8416\n",
      "Epoch 27/50\n",
      "250/250 [==============================] - 0s 2ms/step - loss: 0.3739 - accuracy: 0.8431\n",
      "Epoch 28/50\n",
      "250/250 [==============================] - 0s 2ms/step - loss: 0.3715 - accuracy: 0.8445\n",
      "Epoch 29/50\n",
      "250/250 [==============================] - 0s 1ms/step - loss: 0.3689 - accuracy: 0.8470\n",
      "Epoch 30/50\n",
      "250/250 [==============================] - 0s 2ms/step - loss: 0.3667 - accuracy: 0.8485\n",
      "Epoch 31/50\n",
      "250/250 [==============================] - 0s 1ms/step - loss: 0.3645 - accuracy: 0.8480\n",
      "Epoch 32/50\n",
      "250/250 [==============================] - 0s 2ms/step - loss: 0.3625 - accuracy: 0.8495\n",
      "Epoch 33/50\n",
      "250/250 [==============================] - 0s 2ms/step - loss: 0.3607 - accuracy: 0.8504\n",
      "Epoch 34/50\n",
      "250/250 [==============================] - 0s 2ms/step - loss: 0.3587 - accuracy: 0.8512\n",
      "Epoch 35/50\n",
      "250/250 [==============================] - 0s 1ms/step - loss: 0.3572 - accuracy: 0.8514\n",
      "Epoch 36/50\n",
      "250/250 [==============================] - 0s 1ms/step - loss: 0.3559 - accuracy: 0.8519\n",
      "Epoch 37/50\n",
      "250/250 [==============================] - 0s 2ms/step - loss: 0.3542 - accuracy: 0.8525\n",
      "Epoch 38/50\n",
      "250/250 [==============================] - 0s 2ms/step - loss: 0.3531 - accuracy: 0.8534\n",
      "Epoch 39/50\n",
      "250/250 [==============================] - 0s 1ms/step - loss: 0.3519 - accuracy: 0.8531\n",
      "Epoch 40/50\n",
      "250/250 [==============================] - 0s 2ms/step - loss: 0.3509 - accuracy: 0.8556\n",
      "Epoch 41/50\n",
      "250/250 [==============================] - 0s 2ms/step - loss: 0.3496 - accuracy: 0.8569\n",
      "Epoch 42/50\n",
      "250/250 [==============================] - 0s 2ms/step - loss: 0.3490 - accuracy: 0.8572\n",
      "Epoch 43/50\n",
      "250/250 [==============================] - 0s 2ms/step - loss: 0.3480 - accuracy: 0.8574\n",
      "Epoch 44/50\n",
      "250/250 [==============================] - 0s 2ms/step - loss: 0.3470 - accuracy: 0.8569\n",
      "Epoch 45/50\n",
      "250/250 [==============================] - 0s 2ms/step - loss: 0.3465 - accuracy: 0.8575\n",
      "Epoch 46/50\n",
      "250/250 [==============================] - 0s 2ms/step - loss: 0.3456 - accuracy: 0.8585\n",
      "Epoch 47/50\n",
      "250/250 [==============================] - 0s 1ms/step - loss: 0.3450 - accuracy: 0.8586\n",
      "Epoch 48/50\n",
      "250/250 [==============================] - 0s 2ms/step - loss: 0.3442 - accuracy: 0.8590\n",
      "Epoch 49/50\n",
      "250/250 [==============================] - 0s 1ms/step - loss: 0.3438 - accuracy: 0.8594\n",
      "Epoch 50/50\n",
      "250/250 [==============================] - 0s 1ms/step - loss: 0.3430 - accuracy: 0.8585\n"
     ]
    },
    {
     "output_type": "execute_result",
     "data": {
      "text/plain": [
       "<tensorflow.python.keras.callbacks.History at 0x24d441a5dc0>"
      ]
     },
     "metadata": {},
     "execution_count": 68
    }
   ],
   "metadata": {
    "colab": {
     "base_uri": "https://localhost:8080/",
     "height": 1000
    },
    "colab_type": "code",
    "id": "nHZ-LKv_ZRb3",
    "outputId": "718cc4b0-b5aa-40f0-9b20-d3d31730a531"
   }
  },
  {
   "cell_type": "markdown",
   "source": [
    "# Parte 3 - Fazendo predições e avaliando o modelo\n",
    "\n",
    "## Prevendo os resultados com o conjunto de testes"
   ],
   "metadata": {}
  },
  {
   "cell_type": "code",
   "execution_count": 69,
   "source": [
    "y_pred = ann.predict(X_test)\r\n",
    "y_pred"
   ],
   "outputs": [
    {
     "output_type": "execute_result",
     "data": {
      "text/plain": [
       "array([[0.27989447],\n",
       "       [0.2448374 ],\n",
       "       [0.1762082 ],\n",
       "       ...,\n",
       "       [0.197988  ],\n",
       "       [0.12772638],\n",
       "       [0.22142953]], dtype=float32)"
      ]
     },
     "metadata": {},
     "execution_count": 69
    }
   ],
   "metadata": {}
  },
  {
   "cell_type": "code",
   "execution_count": 70,
   "source": [
    "y_pred = (y_pred > 0.5)\r\n",
    "y_pred"
   ],
   "outputs": [
    {
     "output_type": "execute_result",
     "data": {
      "text/plain": [
       "array([[False],\n",
       "       [False],\n",
       "       [False],\n",
       "       ...,\n",
       "       [False],\n",
       "       [False],\n",
       "       [False]])"
      ]
     },
     "metadata": {},
     "execution_count": 70
    }
   ],
   "metadata": {}
  },
  {
   "cell_type": "markdown",
   "source": [
    "# Criando uma Confusion Matrix"
   ],
   "metadata": {}
  },
  {
   "cell_type": "code",
   "execution_count": 71,
   "source": [
    "from sklearn.metrics import confusion_matrix\r\n",
    "cm = confusion_matrix(y_test, y_pred)\r\n",
    "print(cm)"
   ],
   "outputs": [
    {
     "output_type": "stream",
     "name": "stdout",
     "text": [
      "[[1526   69]\n",
      " [ 207  198]]\n"
     ]
    }
   ],
   "metadata": {}
  },
  {
   "cell_type": "markdown",
   "source": [
    "# FIM"
   ],
   "metadata": {}
  },
  {
   "cell_type": "markdown",
   "source": [
    "> Professor Diego Dorgam  \n",
    "> [@diegodorgam](https://twitter.com/diegodorgam)"
   ],
   "metadata": {}
  },
  {
   "cell_type": "markdown",
   "source": [],
   "metadata": {}
  }
 ],
 "metadata": {
  "kernelspec": {
   "name": "python3",
   "display_name": "Python 3.9.6 64-bit"
  },
  "language_info": {
   "codemirror_mode": {
    "name": "ipython",
    "version": 3
   },
   "file_extension": ".py",
   "mimetype": "text/x-python",
   "name": "python",
   "nbconvert_exporter": "python",
   "pygments_lexer": "ipython3",
   "version": "3.9.6"
  },
  "interpreter": {
   "hash": "0b373b89fa2c4ba65688219934a5fdeebc6fc457dd4f0cf3d78d12d1e5ebef75"
  }
 },
 "nbformat": 4,
 "nbformat_minor": 4
}