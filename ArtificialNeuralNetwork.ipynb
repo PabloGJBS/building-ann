{
 "cells": [
  {
   "cell_type": "markdown",
   "source": [
    "# REDES NEURAIS ARTIFICIAIS\n",
    "\n",
    "[Aula 3 de Deep Learning](http://bit.ly/dn-unb03) da Engenharia de Software da UnB"
   ],
   "metadata": {}
  },
  {
   "cell_type": "markdown",
   "source": [
    "# Parte 1 - Pré-processamento dos Dados"
   ],
   "metadata": {}
  },
  {
   "cell_type": "markdown",
   "source": [
    "### Importar as libs"
   ],
   "metadata": {}
  },
  {
   "cell_type": "code",
   "execution_count": 1,
   "source": [
    "import numpy as np\n",
    "import pandas as pd\n",
    "import tensorflow as tf"
   ],
   "outputs": [
    {
     "output_type": "stream",
     "name": "stderr",
     "text": [
      "2021-08-06 22:48:15.672970: W tensorflow/stream_executor/platform/default/dso_loader.cc:64] Could not load dynamic library 'libcudart.so.11.0'; dlerror: libcudart.so.11.0: cannot open shared object file: No such file or directory\n",
      "2021-08-06 22:48:15.673109: I tensorflow/stream_executor/cuda/cudart_stub.cc:29] Ignore above cudart dlerror if you do not have a GPU set up on your machine.\n"
     ]
    }
   ],
   "metadata": {
    "colab": {},
    "colab_type": "code",
    "id": "MxkJoQBkUIHC"
   }
  },
  {
   "cell_type": "code",
   "execution_count": 2,
   "source": [
    "tf.__version__"
   ],
   "outputs": [
    {
     "output_type": "execute_result",
     "data": {
      "text/plain": [
       "'2.5.0'"
      ]
     },
     "metadata": {},
     "execution_count": 2
    }
   ],
   "metadata": {
    "colab": {
     "base_uri": "https://localhost:8080/",
     "height": 34
    },
    "colab_type": "code",
    "id": "ZaTwK7ojXr2F",
    "outputId": "0b27a96d-d11a-43e8-ab4b-87c1f01896fe"
   }
  },
  {
   "cell_type": "markdown",
   "source": [
    "### Importar o dataset"
   ],
   "metadata": {}
  },
  {
   "cell_type": "code",
   "execution_count": 3,
   "source": [
    "dataset = pd.read_csv('Churn_Modelling.csv')\n",
    "dataset.head()"
   ],
   "outputs": [
    {
     "output_type": "execute_result",
     "data": {
      "text/plain": [
       "   RowNumber  CustomerId   Surname  CreditScore Geography  Gender  Age  \\\n",
       "0          1    15634602  Hargrave          619    France  Female   42   \n",
       "1          2    15647311      Hill          608     Spain  Female   41   \n",
       "2          3    15619304      Onio          502    France  Female   42   \n",
       "3          4    15701354      Boni          699    France  Female   39   \n",
       "4          5    15737888  Mitchell          850     Spain  Female   43   \n",
       "\n",
       "   Tenure    Balance  NumOfProducts  HasCrCard  IsActiveMember  \\\n",
       "0       2       0.00              1          1               1   \n",
       "1       1   83807.86              1          0               1   \n",
       "2       8  159660.80              3          1               0   \n",
       "3       1       0.00              2          0               0   \n",
       "4       2  125510.82              1          1               1   \n",
       "\n",
       "   EstimatedSalary  Exited  \n",
       "0        101348.88       1  \n",
       "1        112542.58       0  \n",
       "2        113931.57       1  \n",
       "3         93826.63       0  \n",
       "4         79084.10       0  "
      ],
      "text/html": [
       "<div>\n",
       "<style scoped>\n",
       "    .dataframe tbody tr th:only-of-type {\n",
       "        vertical-align: middle;\n",
       "    }\n",
       "\n",
       "    .dataframe tbody tr th {\n",
       "        vertical-align: top;\n",
       "    }\n",
       "\n",
       "    .dataframe thead th {\n",
       "        text-align: right;\n",
       "    }\n",
       "</style>\n",
       "<table border=\"1\" class=\"dataframe\">\n",
       "  <thead>\n",
       "    <tr style=\"text-align: right;\">\n",
       "      <th></th>\n",
       "      <th>RowNumber</th>\n",
       "      <th>CustomerId</th>\n",
       "      <th>Surname</th>\n",
       "      <th>CreditScore</th>\n",
       "      <th>Geography</th>\n",
       "      <th>Gender</th>\n",
       "      <th>Age</th>\n",
       "      <th>Tenure</th>\n",
       "      <th>Balance</th>\n",
       "      <th>NumOfProducts</th>\n",
       "      <th>HasCrCard</th>\n",
       "      <th>IsActiveMember</th>\n",
       "      <th>EstimatedSalary</th>\n",
       "      <th>Exited</th>\n",
       "    </tr>\n",
       "  </thead>\n",
       "  <tbody>\n",
       "    <tr>\n",
       "      <th>0</th>\n",
       "      <td>1</td>\n",
       "      <td>15634602</td>\n",
       "      <td>Hargrave</td>\n",
       "      <td>619</td>\n",
       "      <td>France</td>\n",
       "      <td>Female</td>\n",
       "      <td>42</td>\n",
       "      <td>2</td>\n",
       "      <td>0.00</td>\n",
       "      <td>1</td>\n",
       "      <td>1</td>\n",
       "      <td>1</td>\n",
       "      <td>101348.88</td>\n",
       "      <td>1</td>\n",
       "    </tr>\n",
       "    <tr>\n",
       "      <th>1</th>\n",
       "      <td>2</td>\n",
       "      <td>15647311</td>\n",
       "      <td>Hill</td>\n",
       "      <td>608</td>\n",
       "      <td>Spain</td>\n",
       "      <td>Female</td>\n",
       "      <td>41</td>\n",
       "      <td>1</td>\n",
       "      <td>83807.86</td>\n",
       "      <td>1</td>\n",
       "      <td>0</td>\n",
       "      <td>1</td>\n",
       "      <td>112542.58</td>\n",
       "      <td>0</td>\n",
       "    </tr>\n",
       "    <tr>\n",
       "      <th>2</th>\n",
       "      <td>3</td>\n",
       "      <td>15619304</td>\n",
       "      <td>Onio</td>\n",
       "      <td>502</td>\n",
       "      <td>France</td>\n",
       "      <td>Female</td>\n",
       "      <td>42</td>\n",
       "      <td>8</td>\n",
       "      <td>159660.80</td>\n",
       "      <td>3</td>\n",
       "      <td>1</td>\n",
       "      <td>0</td>\n",
       "      <td>113931.57</td>\n",
       "      <td>1</td>\n",
       "    </tr>\n",
       "    <tr>\n",
       "      <th>3</th>\n",
       "      <td>4</td>\n",
       "      <td>15701354</td>\n",
       "      <td>Boni</td>\n",
       "      <td>699</td>\n",
       "      <td>France</td>\n",
       "      <td>Female</td>\n",
       "      <td>39</td>\n",
       "      <td>1</td>\n",
       "      <td>0.00</td>\n",
       "      <td>2</td>\n",
       "      <td>0</td>\n",
       "      <td>0</td>\n",
       "      <td>93826.63</td>\n",
       "      <td>0</td>\n",
       "    </tr>\n",
       "    <tr>\n",
       "      <th>4</th>\n",
       "      <td>5</td>\n",
       "      <td>15737888</td>\n",
       "      <td>Mitchell</td>\n",
       "      <td>850</td>\n",
       "      <td>Spain</td>\n",
       "      <td>Female</td>\n",
       "      <td>43</td>\n",
       "      <td>2</td>\n",
       "      <td>125510.82</td>\n",
       "      <td>1</td>\n",
       "      <td>1</td>\n",
       "      <td>1</td>\n",
       "      <td>79084.10</td>\n",
       "      <td>0</td>\n",
       "    </tr>\n",
       "  </tbody>\n",
       "</table>\n",
       "</div>"
      ]
     },
     "metadata": {},
     "execution_count": 3
    }
   ],
   "metadata": {}
  },
  {
   "cell_type": "code",
   "execution_count": 4,
   "source": [
    "X = dataset.iloc[:, 3:13].values\n",
    "y = dataset.iloc[:, 13].values\n",
    "print(\"X >>\\n\",X)\n",
    "print(\"y >>\\n\",y)"
   ],
   "outputs": [
    {
     "output_type": "stream",
     "name": "stdout",
     "text": [
      "X >>\n",
      " [[619 'France' 'Female' ... 1 1 101348.88]\n",
      " [608 'Spain' 'Female' ... 0 1 112542.58]\n",
      " [502 'France' 'Female' ... 1 0 113931.57]\n",
      " ...\n",
      " [709 'France' 'Female' ... 0 1 42085.58]\n",
      " [772 'Germany' 'Male' ... 1 0 92888.52]\n",
      " [792 'France' 'Female' ... 1 0 38190.78]]\n",
      "y >>\n",
      " [1 0 1 ... 1 1 0]\n"
     ]
    }
   ],
   "metadata": {}
  },
  {
   "cell_type": "markdown",
   "source": [
    "### Transformando os dados categóricos\n"
   ],
   "metadata": {}
  },
  {
   "cell_type": "code",
   "execution_count": 5,
   "source": [
    "# Label Encoding the \"Gender\" column\n",
    "from sklearn.preprocessing import LabelEncoder\n",
    "le = LabelEncoder()\n",
    "X[:, 2] = le.fit_transform(X[:, 2])\n",
    "print(X)\n",
    "# One Hot Encoding the \"Geography\" column\n",
    "from sklearn.compose import ColumnTransformer\n",
    "from sklearn.preprocessing import OneHotEncoder\n",
    "ct = ColumnTransformer(transformers=[('encoder', OneHotEncoder(), [1])], remainder='passthrough')\n",
    "X = np.array(ct.fit_transform(X))\n",
    "print(X)"
   ],
   "outputs": [
    {
     "output_type": "stream",
     "name": "stdout",
     "text": [
      "[[619 'France' 0 ... 1 1 101348.88]\n",
      " [608 'Spain' 0 ... 0 1 112542.58]\n",
      " [502 'France' 0 ... 1 0 113931.57]\n",
      " ...\n",
      " [709 'France' 0 ... 0 1 42085.58]\n",
      " [772 'Germany' 1 ... 1 0 92888.52]\n",
      " [792 'France' 0 ... 1 0 38190.78]]\n",
      "[[1.0 0.0 0.0 ... 1 1 101348.88]\n",
      " [0.0 0.0 1.0 ... 0 1 112542.58]\n",
      " [1.0 0.0 0.0 ... 1 0 113931.57]\n",
      " ...\n",
      " [1.0 0.0 0.0 ... 0 1 42085.58]\n",
      " [0.0 1.0 0.0 ... 1 0 92888.52]\n",
      " [1.0 0.0 0.0 ... 1 0 38190.78]]\n"
     ]
    }
   ],
   "metadata": {}
  },
  {
   "cell_type": "markdown",
   "source": [
    "# Dividindo o dataset em conjunto de treinamento e conjunto de teste"
   ],
   "metadata": {}
  },
  {
   "cell_type": "code",
   "execution_count": 6,
   "source": [
    "from sklearn.model_selection import train_test_split\n",
    "X_train, X_test, y_train, y_test = train_test_split(X, y, test_size=0.2, random_state=0)"
   ],
   "outputs": [],
   "metadata": {}
  },
  {
   "cell_type": "markdown",
   "source": [
    "# Feature Scaling"
   ],
   "metadata": {}
  },
  {
   "cell_type": "code",
   "execution_count": 7,
   "source": [
    "from sklearn.preprocessing import StandardScaler\n",
    "sc = StandardScaler()\n",
    "X_train = sc.fit_transform(X_train)\n",
    "X_test = sc.transform(X_test)"
   ],
   "outputs": [],
   "metadata": {}
  },
  {
   "cell_type": "code",
   "execution_count": 8,
   "source": [
    "np.shape(X_train)"
   ],
   "outputs": [
    {
     "output_type": "execute_result",
     "data": {
      "text/plain": [
       "(8000, 12)"
      ]
     },
     "metadata": {},
     "execution_count": 8
    }
   ],
   "metadata": {}
  },
  {
   "cell_type": "markdown",
   "source": [
    "---\n",
    "# Parte 2 -Vamos construir uma ANN!\n"
   ],
   "metadata": {}
  },
  {
   "cell_type": "markdown",
   "source": [
    "### Initializing the ANN"
   ],
   "metadata": {
    "colab_type": "text",
    "id": "KvdeScabXtlB"
   }
  },
  {
   "cell_type": "code",
   "execution_count": 9,
   "source": [
    "ann = tf.keras.models.Sequential()"
   ],
   "outputs": [
    {
     "output_type": "stream",
     "name": "stderr",
     "text": [
      "2021-08-04 11:31:07.068708: I tensorflow/stream_executor/platform/default/dso_loader.cc:53] Successfully opened dynamic library libcuda.so.1\n",
      "2021-08-04 11:31:07.393395: E tensorflow/stream_executor/cuda/cuda_driver.cc:328] failed call to cuInit: CUDA_ERROR_NO_DEVICE: no CUDA-capable device is detected\n",
      "2021-08-04 11:31:07.393457: I tensorflow/stream_executor/cuda/cuda_diagnostics.cc:156] kernel driver does not appear to be running on this host (heisson-Inspiron-7580): /proc/driver/nvidia/version does not exist\n",
      "2021-08-04 11:31:07.395256: I tensorflow/core/platform/cpu_feature_guard.cc:142] This TensorFlow binary is optimized with oneAPI Deep Neural Network Library (oneDNN) to use the following CPU instructions in performance-critical operations:  AVX2 FMA\n",
      "To enable them in other operations, rebuild TensorFlow with the appropriate compiler flags.\n"
     ]
    }
   ],
   "metadata": {
    "colab": {},
    "colab_type": "code",
    "id": "3dtrScHxXQox"
   }
  },
  {
   "cell_type": "markdown",
   "source": [
    "### Adding the input layer and the first hidden layer"
   ],
   "metadata": {
    "colab_type": "text",
    "id": "rP6urV6SX7kS"
   }
  },
  {
   "cell_type": "code",
   "execution_count": 10,
   "source": [
    "ann.add(tf.keras.layers.Dense(units=6, activation='tanh'))"
   ],
   "outputs": [],
   "metadata": {
    "colab": {},
    "colab_type": "code",
    "id": "bppGycBXYCQr"
   }
  },
  {
   "cell_type": "markdown",
   "source": [
    "### Adding the second hidden layer"
   ],
   "metadata": {
    "colab_type": "text",
    "id": "BELWAc_8YJze"
   }
  },
  {
   "cell_type": "code",
   "execution_count": 11,
   "source": [
    "ann.add(tf.keras.layers.Dense(units=6, activation='relu'))"
   ],
   "outputs": [],
   "metadata": {
    "colab": {},
    "colab_type": "code",
    "id": "JneR0u0sYRTd"
   }
  },
  {
   "cell_type": "markdown",
   "source": [
    "### Adding the output layer"
   ],
   "metadata": {
    "colab_type": "text",
    "id": "OyNEe6RXYcU4"
   }
  },
  {
   "cell_type": "code",
   "execution_count": 12,
   "source": [
    "ann.add(tf.keras.layers.Dense(units=1, activation='sigmoid'))"
   ],
   "outputs": [],
   "metadata": {
    "colab": {},
    "colab_type": "code",
    "id": "Cn3x41RBYfvY"
   }
  },
  {
   "cell_type": "markdown",
   "source": [
    "## Part 3 - Training the ANN"
   ],
   "metadata": {
    "colab_type": "text",
    "id": "JT4u2S1_Y4WG"
   }
  },
  {
   "cell_type": "markdown",
   "source": [
    "### Compiling the ANN"
   ],
   "metadata": {
    "colab_type": "text",
    "id": "8GWlJChhY_ZI"
   }
  },
  {
   "cell_type": "code",
   "execution_count": 13,
   "source": [
    "ann.compile(optimizer='adam', loss='binary_crossentropy', metrics=['accuracy'])"
   ],
   "outputs": [],
   "metadata": {
    "colab": {},
    "colab_type": "code",
    "id": "fG3RrwDXZEaS"
   }
  },
  {
   "cell_type": "markdown",
   "source": [
    "### Training the ANN on the Training set"
   ],
   "metadata": {
    "colab_type": "text",
    "id": "0QR_G5u7ZLSM"
   }
  },
  {
   "cell_type": "code",
   "execution_count": 14,
   "source": [
    "ann.fit(X_train, y_train, batch_size=32, epochs=100)"
   ],
   "outputs": [
    {
     "output_type": "stream",
     "name": "stderr",
     "text": [
      "2021-08-04 11:31:07.705711: I tensorflow/compiler/mlir/mlir_graph_optimization_pass.cc:176] None of the MLIR Optimization Passes are enabled (registered 2)\n",
      "2021-08-04 11:31:07.706346: I tensorflow/core/platform/profile_utils/cpu_utils.cc:114] CPU Frequency: 1800000000 Hz\n"
     ]
    },
    {
     "output_type": "stream",
     "name": "stdout",
     "text": [
      "Epoch 1/100\n",
      "250/250 [==============================] - 0s 553us/step - loss: 0.6094 - accuracy: 0.6926\n",
      "Epoch 2/100\n",
      "250/250 [==============================] - 0s 552us/step - loss: 0.4688 - accuracy: 0.7959\n",
      "Epoch 3/100\n",
      "250/250 [==============================] - 0s 541us/step - loss: 0.4360 - accuracy: 0.7964\n",
      "Epoch 4/100\n",
      "250/250 [==============================] - 0s 539us/step - loss: 0.4252 - accuracy: 0.8008\n",
      "Epoch 5/100\n",
      "250/250 [==============================] - 0s 545us/step - loss: 0.4175 - accuracy: 0.8127\n",
      "Epoch 6/100\n",
      "250/250 [==============================] - 0s 536us/step - loss: 0.4083 - accuracy: 0.8199\n",
      "Epoch 7/100\n",
      "250/250 [==============================] - 0s 534us/step - loss: 0.3972 - accuracy: 0.8310\n",
      "Epoch 8/100\n",
      "250/250 [==============================] - 0s 541us/step - loss: 0.3854 - accuracy: 0.8382\n",
      "Epoch 9/100\n",
      "250/250 [==============================] - 0s 548us/step - loss: 0.3740 - accuracy: 0.8444\n",
      "Epoch 10/100\n",
      "250/250 [==============================] - 0s 601us/step - loss: 0.3652 - accuracy: 0.8497\n",
      "Epoch 11/100\n",
      "250/250 [==============================] - 0s 704us/step - loss: 0.3585 - accuracy: 0.8533\n",
      "Epoch 12/100\n",
      "250/250 [==============================] - 0s 665us/step - loss: 0.3544 - accuracy: 0.8544\n",
      "Epoch 13/100\n",
      "250/250 [==============================] - 0s 764us/step - loss: 0.3515 - accuracy: 0.8559\n",
      "Epoch 14/100\n",
      "250/250 [==============================] - 0s 845us/step - loss: 0.3491 - accuracy: 0.8554\n",
      "Epoch 15/100\n",
      "250/250 [==============================] - 0s 1ms/step - loss: 0.3476 - accuracy: 0.8570\n",
      "Epoch 16/100\n",
      "250/250 [==============================] - 0s 872us/step - loss: 0.3463 - accuracy: 0.8587\n",
      "Epoch 17/100\n",
      "250/250 [==============================] - 0s 813us/step - loss: 0.3455 - accuracy: 0.8587\n",
      "Epoch 18/100\n",
      "250/250 [==============================] - 0s 663us/step - loss: 0.3445 - accuracy: 0.8577\n",
      "Epoch 19/100\n",
      "250/250 [==============================] - 0s 775us/step - loss: 0.3437 - accuracy: 0.8606\n",
      "Epoch 20/100\n",
      "250/250 [==============================] - 0s 1ms/step - loss: 0.3430 - accuracy: 0.8611\n",
      "Epoch 21/100\n",
      "250/250 [==============================] - 0s 1ms/step - loss: 0.3426 - accuracy: 0.8601\n",
      "Epoch 22/100\n",
      "250/250 [==============================] - 0s 1ms/step - loss: 0.3422 - accuracy: 0.8610\n",
      "Epoch 23/100\n",
      "250/250 [==============================] - 0s 1ms/step - loss: 0.3416 - accuracy: 0.8597\n",
      "Epoch 24/100\n",
      "250/250 [==============================] - 0s 1ms/step - loss: 0.3412 - accuracy: 0.8600\n",
      "Epoch 25/100\n",
      "250/250 [==============================] - 0s 1ms/step - loss: 0.3408 - accuracy: 0.8600\n",
      "Epoch 26/100\n",
      "250/250 [==============================] - 0s 998us/step - loss: 0.3402 - accuracy: 0.8611\n",
      "Epoch 27/100\n",
      "250/250 [==============================] - 0s 1ms/step - loss: 0.3401 - accuracy: 0.8608\n",
      "Epoch 28/100\n",
      "250/250 [==============================] - 0s 852us/step - loss: 0.3397 - accuracy: 0.8596\n",
      "Epoch 29/100\n",
      "250/250 [==============================] - 0s 1ms/step - loss: 0.3393 - accuracy: 0.8612\n",
      "Epoch 30/100\n",
      "250/250 [==============================] - 0s 806us/step - loss: 0.3392 - accuracy: 0.8618\n",
      "Epoch 31/100\n",
      "250/250 [==============================] - 0s 932us/step - loss: 0.3389 - accuracy: 0.8614\n",
      "Epoch 32/100\n",
      "250/250 [==============================] - 0s 965us/step - loss: 0.3385 - accuracy: 0.8594\n",
      "Epoch 33/100\n",
      "250/250 [==============================] - 0s 877us/step - loss: 0.3383 - accuracy: 0.8619\n",
      "Epoch 34/100\n",
      "250/250 [==============================] - 0s 1ms/step - loss: 0.3377 - accuracy: 0.8622\n",
      "Epoch 35/100\n",
      "250/250 [==============================] - 0s 935us/step - loss: 0.3378 - accuracy: 0.8633\n",
      "Epoch 36/100\n",
      "250/250 [==============================] - 0s 950us/step - loss: 0.3378 - accuracy: 0.8624\n",
      "Epoch 37/100\n",
      "250/250 [==============================] - 0s 971us/step - loss: 0.3372 - accuracy: 0.8630\n",
      "Epoch 38/100\n",
      "250/250 [==============================] - 0s 991us/step - loss: 0.3373 - accuracy: 0.8599\n",
      "Epoch 39/100\n",
      "250/250 [==============================] - 0s 835us/step - loss: 0.3369 - accuracy: 0.8620\n",
      "Epoch 40/100\n",
      "250/250 [==============================] - 0s 987us/step - loss: 0.3367 - accuracy: 0.8633\n",
      "Epoch 41/100\n",
      "250/250 [==============================] - 0s 967us/step - loss: 0.3368 - accuracy: 0.8621\n",
      "Epoch 42/100\n",
      "250/250 [==============================] - 0s 855us/step - loss: 0.3367 - accuracy: 0.8621\n",
      "Epoch 43/100\n",
      "250/250 [==============================] - 0s 986us/step - loss: 0.3364 - accuracy: 0.8620\n",
      "Epoch 44/100\n",
      "250/250 [==============================] - 0s 963us/step - loss: 0.3366 - accuracy: 0.8621\n",
      "Epoch 45/100\n",
      "250/250 [==============================] - 0s 875us/step - loss: 0.3360 - accuracy: 0.8615\n",
      "Epoch 46/100\n",
      "250/250 [==============================] - 0s 819us/step - loss: 0.3361 - accuracy: 0.8635\n",
      "Epoch 47/100\n",
      "250/250 [==============================] - 0s 872us/step - loss: 0.3358 - accuracy: 0.8629\n",
      "Epoch 48/100\n",
      "250/250 [==============================] - 0s 843us/step - loss: 0.3357 - accuracy: 0.8641\n",
      "Epoch 49/100\n",
      "250/250 [==============================] - 0s 913us/step - loss: 0.3355 - accuracy: 0.8629\n",
      "Epoch 50/100\n",
      "250/250 [==============================] - 0s 883us/step - loss: 0.3352 - accuracy: 0.8634\n",
      "Epoch 51/100\n",
      "250/250 [==============================] - 0s 846us/step - loss: 0.3354 - accuracy: 0.8625\n",
      "Epoch 52/100\n",
      "250/250 [==============================] - 0s 985us/step - loss: 0.3350 - accuracy: 0.8645\n",
      "Epoch 53/100\n",
      "250/250 [==============================] - 0s 823us/step - loss: 0.3352 - accuracy: 0.8620\n",
      "Epoch 54/100\n",
      "250/250 [==============================] - 0s 894us/step - loss: 0.3352 - accuracy: 0.8630\n",
      "Epoch 55/100\n",
      "250/250 [==============================] - 0s 929us/step - loss: 0.3351 - accuracy: 0.8641\n",
      "Epoch 56/100\n",
      "250/250 [==============================] - 0s 886us/step - loss: 0.3347 - accuracy: 0.8621\n",
      "Epoch 57/100\n",
      "250/250 [==============================] - 0s 863us/step - loss: 0.3349 - accuracy: 0.8621\n",
      "Epoch 58/100\n",
      "250/250 [==============================] - 0s 887us/step - loss: 0.3347 - accuracy: 0.8639\n",
      "Epoch 59/100\n",
      "250/250 [==============================] - 0s 883us/step - loss: 0.3344 - accuracy: 0.8633\n",
      "Epoch 60/100\n",
      "250/250 [==============================] - 0s 845us/step - loss: 0.3344 - accuracy: 0.8622\n",
      "Epoch 61/100\n",
      "250/250 [==============================] - 0s 931us/step - loss: 0.3342 - accuracy: 0.8626\n",
      "Epoch 62/100\n",
      "250/250 [==============================] - 0s 879us/step - loss: 0.3338 - accuracy: 0.8631\n",
      "Epoch 63/100\n",
      "250/250 [==============================] - 0s 1ms/step - loss: 0.3333 - accuracy: 0.8648\n",
      "Epoch 64/100\n",
      "250/250 [==============================] - 0s 808us/step - loss: 0.3335 - accuracy: 0.8644\n",
      "Epoch 65/100\n",
      "250/250 [==============================] - 0s 821us/step - loss: 0.3332 - accuracy: 0.8645\n",
      "Epoch 66/100\n",
      "250/250 [==============================] - 0s 736us/step - loss: 0.3335 - accuracy: 0.8631\n",
      "Epoch 67/100\n",
      "250/250 [==============================] - 0s 816us/step - loss: 0.3332 - accuracy: 0.8643\n",
      "Epoch 68/100\n",
      "250/250 [==============================] - 0s 793us/step - loss: 0.3331 - accuracy: 0.8636\n",
      "Epoch 69/100\n",
      "250/250 [==============================] - 0s 709us/step - loss: 0.3331 - accuracy: 0.8624\n",
      "Epoch 70/100\n",
      "250/250 [==============================] - 0s 797us/step - loss: 0.3328 - accuracy: 0.8631\n",
      "Epoch 71/100\n",
      "250/250 [==============================] - 0s 828us/step - loss: 0.3330 - accuracy: 0.8640\n",
      "Epoch 72/100\n",
      "250/250 [==============================] - 0s 815us/step - loss: 0.3327 - accuracy: 0.8630\n",
      "Epoch 73/100\n",
      "250/250 [==============================] - 0s 966us/step - loss: 0.3329 - accuracy: 0.8645\n",
      "Epoch 74/100\n",
      "250/250 [==============================] - 0s 788us/step - loss: 0.3328 - accuracy: 0.8643\n",
      "Epoch 75/100\n",
      "250/250 [==============================] - 0s 800us/step - loss: 0.3326 - accuracy: 0.8644\n",
      "Epoch 76/100\n",
      "250/250 [==============================] - 0s 863us/step - loss: 0.3326 - accuracy: 0.8634\n",
      "Epoch 77/100\n",
      "250/250 [==============================] - 0s 856us/step - loss: 0.3325 - accuracy: 0.8630\n",
      "Epoch 78/100\n",
      "250/250 [==============================] - 0s 778us/step - loss: 0.3325 - accuracy: 0.8650\n",
      "Epoch 79/100\n",
      "250/250 [==============================] - 0s 763us/step - loss: 0.3326 - accuracy: 0.8635\n",
      "Epoch 80/100\n",
      "250/250 [==============================] - 0s 821us/step - loss: 0.3322 - accuracy: 0.8644\n",
      "Epoch 81/100\n",
      "250/250 [==============================] - 0s 844us/step - loss: 0.3324 - accuracy: 0.8641\n",
      "Epoch 82/100\n",
      "250/250 [==============================] - 0s 824us/step - loss: 0.3322 - accuracy: 0.8649\n",
      "Epoch 83/100\n",
      "250/250 [==============================] - 0s 698us/step - loss: 0.3320 - accuracy: 0.8631\n",
      "Epoch 84/100\n",
      "250/250 [==============================] - 0s 828us/step - loss: 0.3322 - accuracy: 0.8633\n",
      "Epoch 85/100\n",
      "250/250 [==============================] - 0s 812us/step - loss: 0.3322 - accuracy: 0.8635\n",
      "Epoch 86/100\n",
      "250/250 [==============================] - 0s 874us/step - loss: 0.3322 - accuracy: 0.8634\n",
      "Epoch 87/100\n",
      "250/250 [==============================] - 0s 703us/step - loss: 0.3321 - accuracy: 0.8643\n",
      "Epoch 88/100\n",
      "250/250 [==============================] - 0s 776us/step - loss: 0.3320 - accuracy: 0.8637\n",
      "Epoch 89/100\n",
      "250/250 [==============================] - 0s 766us/step - loss: 0.3318 - accuracy: 0.8649\n",
      "Epoch 90/100\n",
      "250/250 [==============================] - 0s 662us/step - loss: 0.3319 - accuracy: 0.8633\n",
      "Epoch 91/100\n",
      "250/250 [==============================] - 0s 837us/step - loss: 0.3321 - accuracy: 0.8640\n",
      "Epoch 92/100\n",
      "250/250 [==============================] - 0s 907us/step - loss: 0.3319 - accuracy: 0.8634\n",
      "Epoch 93/100\n",
      "250/250 [==============================] - 0s 748us/step - loss: 0.3317 - accuracy: 0.8636\n",
      "Epoch 94/100\n",
      "250/250 [==============================] - 0s 805us/step - loss: 0.3318 - accuracy: 0.8662\n",
      "Epoch 95/100\n",
      "250/250 [==============================] - 0s 741us/step - loss: 0.3318 - accuracy: 0.8637\n",
      "Epoch 96/100\n",
      "250/250 [==============================] - 0s 659us/step - loss: 0.3319 - accuracy: 0.8654\n",
      "Epoch 97/100\n",
      "250/250 [==============================] - 0s 788us/step - loss: 0.3316 - accuracy: 0.8646\n",
      "Epoch 98/100\n",
      "250/250 [==============================] - 0s 772us/step - loss: 0.3313 - accuracy: 0.8633\n",
      "Epoch 99/100\n",
      "250/250 [==============================] - 0s 677us/step - loss: 0.3320 - accuracy: 0.8639\n",
      "Epoch 100/100\n",
      "250/250 [==============================] - 0s 856us/step - loss: 0.3316 - accuracy: 0.8641\n"
     ]
    },
    {
     "output_type": "execute_result",
     "data": {
      "text/plain": [
       "<tensorflow.python.keras.callbacks.History at 0x7f95983d2250>"
      ]
     },
     "metadata": {},
     "execution_count": 14
    }
   ],
   "metadata": {
    "colab": {
     "base_uri": "https://localhost:8080/",
     "height": 1000
    },
    "colab_type": "code",
    "id": "nHZ-LKv_ZRb3",
    "outputId": "718cc4b0-b5aa-40f0-9b20-d3d31730a531"
   }
  },
  {
   "cell_type": "markdown",
   "source": [
    "# Parte 3 - Fazendo predições e avaliando o modelo\n",
    "\n",
    "## Prevendo os resultados com o conjunto de testes"
   ],
   "metadata": {}
  },
  {
   "cell_type": "code",
   "execution_count": 15,
   "source": [
    "y_pred = ann.predict(X_test)\n",
    "y_pred"
   ],
   "outputs": [
    {
     "output_type": "execute_result",
     "data": {
      "text/plain": [
       "array([[0.36632925],\n",
       "       [0.29400975],\n",
       "       [0.13895285],\n",
       "       ...,\n",
       "       [0.20918283],\n",
       "       [0.12852055],\n",
       "       [0.291925  ]], dtype=float32)"
      ]
     },
     "metadata": {},
     "execution_count": 15
    }
   ],
   "metadata": {}
  },
  {
   "cell_type": "code",
   "execution_count": 16,
   "source": [
    "y_pred = (y_pred > 0.5)\n",
    "y_pred"
   ],
   "outputs": [
    {
     "output_type": "execute_result",
     "data": {
      "text/plain": [
       "array([[False],\n",
       "       [False],\n",
       "       [False],\n",
       "       ...,\n",
       "       [False],\n",
       "       [False],\n",
       "       [False]])"
      ]
     },
     "metadata": {},
     "execution_count": 16
    }
   ],
   "metadata": {}
  },
  {
   "cell_type": "markdown",
   "source": [
    "# Criando uma Confusion Matrix"
   ],
   "metadata": {}
  },
  {
   "cell_type": "code",
   "execution_count": 24,
   "source": [
    "from sklearn.metrics import confusion_matrix\n",
    "import seaborn as sn\n",
    "import pandas as pd\n",
    "import matplotlib.pyplot as plt\n",
    "\n",
    "cm = confusion_matrix(y_test, y_pred)\n",
    "df_cm = pd.DataFrame(cm)\n",
    "sn.set(font_scale=1) \n",
    "sn.heatmap(df_cm, annot=True, annot_kws={\"size\": 16})\n",
    "\n",
    "plt.show()\n",
    "print(cm)"
   ],
   "outputs": [
    {
     "output_type": "display_data",
     "data": {
      "text/plain": [
       "<Figure size 432x288 with 2 Axes>"
      ],
      "image/png": "[encoded data removed]"
     },
     "metadata": {}
    },
    {
     "output_type": "stream",
     "name": "stdout",
     "text": [
      "[[1509   86]\n",
      " [ 192  213]]\n"
     ]
    }
   ],
   "metadata": {}
  },
  {
   "cell_type": "markdown",
   "source": [
    "# FIM"
   ],
   "metadata": {}
  },
  {
   "cell_type": "markdown",
   "source": [
    "> Professor Diego Dorgam  \n",
    "> [@diegodorgam](https://twitter.com/diegodorgam)"
   ],
   "metadata": {}
  }
 ],
 "metadata": {
  "kernelspec": {
   "name": "python3",
   "display_name": "Python 3.8.10 64-bit"
  },
  "language_info": {
   "codemirror_mode": {
    "name": "ipython",
    "version": 3
   },
   "file_extension": ".py",
   "mimetype": "text/x-python",
   "name": "python",
   "nbconvert_exporter": "python",
   "pygments_lexer": "ipython3",
   "version": "3.8.10"
  },
  "interpreter": {
   "hash": "916dbcbb3f70747c44a77c7bcd40155683ae19c65e1c03b4aa3499c5328201f1"
  }
 },
 "nbformat": 4,
 "nbformat_minor": 4
}