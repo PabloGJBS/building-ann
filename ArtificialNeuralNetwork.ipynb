{
 "cells": [
  {
   "cell_type": "markdown",
   "metadata": {},
   "source": [
    "# REDES NEURAIS ARTIFICIAIS\n",
    "\n",
    "[Aula 3 de Deep Learning](http://bit.ly/dn-unb03) da Engenharia de Software da UnB"
   ]
  },
  {
   "cell_type": "markdown",
   "metadata": {},
   "source": [
    "# Parte 1 - Pré-processamento dos Dados"
   ]
  },
  {
   "cell_type": "markdown",
   "metadata": {},
   "source": [
    "### Importar as libs"
   ]
  },
  {
   "cell_type": "code",
   "execution_count": 1,
   "metadata": {
    "colab": {},
    "colab_type": "code",
    "id": "MxkJoQBkUIHC",
    "scrolled": true
   },
   "outputs": [],
   "source": [
    "import numpy as np\n",
    "import pandas as pd\n",
    "import tensorflow as tf"
   ]
  },
  {
   "cell_type": "code",
   "execution_count": 2,
   "metadata": {
    "colab": {
     "base_uri": "https://localhost:8080/",
     "height": 34
    },
    "colab_type": "code",
    "id": "ZaTwK7ojXr2F",
    "outputId": "0b27a96d-d11a-43e8-ab4b-87c1f01896fe"
   },
   "outputs": [
    {
     "data": {
      "text/plain": [
       "'2.3.1'"
      ]
     },
     "execution_count": 2,
     "metadata": {},
     "output_type": "execute_result"
    }
   ],
   "source": [
    "tf.__version__"
   ]
  },
  {
   "cell_type": "markdown",
   "metadata": {},
   "source": [
    "### Importar o dataset"
   ]
  },
  {
   "cell_type": "code",
   "execution_count": 3,
   "metadata": {},
   "outputs": [
    {
     "data": {
      "text/html": [
       "<div>\n",
       "<style scoped>\n",
       "    .dataframe tbody tr th:only-of-type {\n",
       "        vertical-align: middle;\n",
       "    }\n",
       "\n",
       "    .dataframe tbody tr th {\n",
       "        vertical-align: top;\n",
       "    }\n",
       "\n",
       "    .dataframe thead th {\n",
       "        text-align: right;\n",
       "    }\n",
       "</style>\n",
       "<table border=\"1\" class=\"dataframe\">\n",
       "  <thead>\n",
       "    <tr style=\"text-align: right;\">\n",
       "      <th></th>\n",
       "      <th>RowNumber</th>\n",
       "      <th>CustomerId</th>\n",
       "      <th>Surname</th>\n",
       "      <th>CreditScore</th>\n",
       "      <th>Geography</th>\n",
       "      <th>Gender</th>\n",
       "      <th>Age</th>\n",
       "      <th>Tenure</th>\n",
       "      <th>Balance</th>\n",
       "      <th>NumOfProducts</th>\n",
       "      <th>HasCrCard</th>\n",
       "      <th>IsActiveMember</th>\n",
       "      <th>EstimatedSalary</th>\n",
       "      <th>Exited</th>\n",
       "    </tr>\n",
       "  </thead>\n",
       "  <tbody>\n",
       "    <tr>\n",
       "      <th>0</th>\n",
       "      <td>1</td>\n",
       "      <td>15634602</td>\n",
       "      <td>Hargrave</td>\n",
       "      <td>619</td>\n",
       "      <td>France</td>\n",
       "      <td>Female</td>\n",
       "      <td>42</td>\n",
       "      <td>2</td>\n",
       "      <td>0.00</td>\n",
       "      <td>1</td>\n",
       "      <td>1</td>\n",
       "      <td>1</td>\n",
       "      <td>101348.88</td>\n",
       "      <td>1</td>\n",
       "    </tr>\n",
       "    <tr>\n",
       "      <th>1</th>\n",
       "      <td>2</td>\n",
       "      <td>15647311</td>\n",
       "      <td>Hill</td>\n",
       "      <td>608</td>\n",
       "      <td>Spain</td>\n",
       "      <td>Female</td>\n",
       "      <td>41</td>\n",
       "      <td>1</td>\n",
       "      <td>83807.86</td>\n",
       "      <td>1</td>\n",
       "      <td>0</td>\n",
       "      <td>1</td>\n",
       "      <td>112542.58</td>\n",
       "      <td>0</td>\n",
       "    </tr>\n",
       "    <tr>\n",
       "      <th>2</th>\n",
       "      <td>3</td>\n",
       "      <td>15619304</td>\n",
       "      <td>Onio</td>\n",
       "      <td>502</td>\n",
       "      <td>France</td>\n",
       "      <td>Female</td>\n",
       "      <td>42</td>\n",
       "      <td>8</td>\n",
       "      <td>159660.80</td>\n",
       "      <td>3</td>\n",
       "      <td>1</td>\n",
       "      <td>0</td>\n",
       "      <td>113931.57</td>\n",
       "      <td>1</td>\n",
       "    </tr>\n",
       "    <tr>\n",
       "      <th>3</th>\n",
       "      <td>4</td>\n",
       "      <td>15701354</td>\n",
       "      <td>Boni</td>\n",
       "      <td>699</td>\n",
       "      <td>France</td>\n",
       "      <td>Female</td>\n",
       "      <td>39</td>\n",
       "      <td>1</td>\n",
       "      <td>0.00</td>\n",
       "      <td>2</td>\n",
       "      <td>0</td>\n",
       "      <td>0</td>\n",
       "      <td>93826.63</td>\n",
       "      <td>0</td>\n",
       "    </tr>\n",
       "    <tr>\n",
       "      <th>4</th>\n",
       "      <td>5</td>\n",
       "      <td>15737888</td>\n",
       "      <td>Mitchell</td>\n",
       "      <td>850</td>\n",
       "      <td>Spain</td>\n",
       "      <td>Female</td>\n",
       "      <td>43</td>\n",
       "      <td>2</td>\n",
       "      <td>125510.82</td>\n",
       "      <td>1</td>\n",
       "      <td>1</td>\n",
       "      <td>1</td>\n",
       "      <td>79084.10</td>\n",
       "      <td>0</td>\n",
       "    </tr>\n",
       "  </tbody>\n",
       "</table>\n",
       "</div>"
      ],
      "text/plain": [
       "   RowNumber  CustomerId   Surname  CreditScore Geography  Gender  Age  \\\n",
       "0          1    15634602  Hargrave          619    France  Female   42   \n",
       "1          2    15647311      Hill          608     Spain  Female   41   \n",
       "2          3    15619304      Onio          502    France  Female   42   \n",
       "3          4    15701354      Boni          699    France  Female   39   \n",
       "4          5    15737888  Mitchell          850     Spain  Female   43   \n",
       "\n",
       "   Tenure    Balance  NumOfProducts  HasCrCard  IsActiveMember  \\\n",
       "0       2       0.00              1          1               1   \n",
       "1       1   83807.86              1          0               1   \n",
       "2       8  159660.80              3          1               0   \n",
       "3       1       0.00              2          0               0   \n",
       "4       2  125510.82              1          1               1   \n",
       "\n",
       "   EstimatedSalary  Exited  \n",
       "0        101348.88       1  \n",
       "1        112542.58       0  \n",
       "2        113931.57       1  \n",
       "3         93826.63       0  \n",
       "4         79084.10       0  "
      ]
     },
     "execution_count": 3,
     "metadata": {},
     "output_type": "execute_result"
    }
   ],
   "source": [
    "dataset = pd.read_csv('Churn_Modelling.csv')\n",
    "dataset.head()"
   ]
  },
  {
   "cell_type": "code",
   "execution_count": 4,
   "metadata": {},
   "outputs": [
    {
     "name": "stdout",
     "output_type": "stream",
     "text": [
      "X >>\n",
      " [[619 'France' 'Female' ... 1 1 101348.88]\n",
      " [608 'Spain' 'Female' ... 0 1 112542.58]\n",
      " [502 'France' 'Female' ... 1 0 113931.57]\n",
      " ...\n",
      " [709 'France' 'Female' ... 0 1 42085.58]\n",
      " [772 'Germany' 'Male' ... 1 0 92888.52]\n",
      " [792 'France' 'Female' ... 1 0 38190.78]]\n",
      "y >>\n",
      " [1 0 1 ... 1 1 0]\n"
     ]
    }
   ],
   "source": [
    "X = dataset.iloc[:, 3:13].values\n",
    "y = dataset.iloc[:, 13].values\n",
    "print(\"X >>\\n\",X)\n",
    "print(\"y >>\\n\",y)"
   ]
  },
  {
   "cell_type": "markdown",
   "metadata": {},
   "source": [
    "### Transformando os dados categóricos\n"
   ]
  },
  {
   "cell_type": "code",
   "execution_count": 5,
   "metadata": {},
   "outputs": [
    {
     "name": "stdout",
     "output_type": "stream",
     "text": [
      "[[619 'France' 0 ... 1 1 101348.88]\n",
      " [608 'Spain' 0 ... 0 1 112542.58]\n",
      " [502 'France' 0 ... 1 0 113931.57]\n",
      " ...\n",
      " [709 'France' 0 ... 0 1 42085.58]\n",
      " [772 'Germany' 1 ... 1 0 92888.52]\n",
      " [792 'France' 0 ... 1 0 38190.78]]\n",
      "[[1.0 0.0 0.0 ... 1 1 101348.88]\n",
      " [0.0 0.0 1.0 ... 0 1 112542.58]\n",
      " [1.0 0.0 0.0 ... 1 0 113931.57]\n",
      " ...\n",
      " [1.0 0.0 0.0 ... 0 1 42085.58]\n",
      " [0.0 1.0 0.0 ... 1 0 92888.52]\n",
      " [1.0 0.0 0.0 ... 1 0 38190.78]]\n"
     ]
    }
   ],
   "source": [
    "# Label Encoding the \"Gender\" column\n",
    "from sklearn.preprocessing import LabelEncoder\n",
    "le = LabelEncoder()\n",
    "X[:, 2] = le.fit_transform(X[:, 2])\n",
    "print(X)\n",
    "# One Hot Encoding the \"Geography\" column\n",
    "from sklearn.compose import ColumnTransformer\n",
    "from sklearn.preprocessing import OneHotEncoder\n",
    "ct = ColumnTransformer(transformers=[('encoder', OneHotEncoder(), [1])], remainder='passthrough')\n",
    "X = np.array(ct.fit_transform(X))\n",
    "print(X)"
   ]
  },
  {
   "cell_type": "markdown",
   "metadata": {},
   "source": [
    "# Dividindo o dataset em conjunto de treinamento e conjunto de teste"
   ]
  },
  {
   "cell_type": "code",
   "execution_count": 6,
   "metadata": {},
   "outputs": [],
   "source": [
    "from sklearn.model_selection import train_test_split\n",
    "X_train, X_test, y_train, y_test = train_test_split(X, y, test_size = 0.2, random_state = 0)"
   ]
  },
  {
   "cell_type": "markdown",
   "metadata": {},
   "source": [
    "# Feature Scaling"
   ]
  },
  {
   "cell_type": "code",
   "execution_count": 7,
   "metadata": {},
   "outputs": [],
   "source": [
    "from sklearn.preprocessing import StandardScaler\n",
    "sc = StandardScaler()\n",
    "X_train = sc.fit_transform(X_train)\n",
    "X_test = sc.transform(X_test)"
   ]
  },
  {
   "cell_type": "code",
   "execution_count": 8,
   "metadata": {},
   "outputs": [
    {
     "data": {
      "text/plain": [
       "(8000, 12)"
      ]
     },
     "execution_count": 8,
     "metadata": {},
     "output_type": "execute_result"
    }
   ],
   "source": [
    "np.shape(X_train)"
   ]
  },
  {
   "cell_type": "markdown",
   "metadata": {},
   "source": [
    "---\n",
    "# Parte 2 -Vamos construir uma ANN!\n"
   ]
  },
  {
   "cell_type": "markdown",
   "metadata": {
    "colab_type": "text",
    "id": "KvdeScabXtlB"
   },
   "source": [
    "### Initializing the ANN"
   ]
  },
  {
   "cell_type": "code",
   "execution_count": 9,
   "metadata": {
    "colab": {},
    "colab_type": "code",
    "id": "3dtrScHxXQox"
   },
   "outputs": [],
   "source": [
    "ann = tf.keras.models.Sequential()"
   ]
  },
  {
   "cell_type": "markdown",
   "metadata": {
    "colab_type": "text",
    "id": "rP6urV6SX7kS"
   },
   "source": [
    "### Adding the input layer and the first hidden layer"
   ]
  },
  {
   "cell_type": "code",
   "execution_count": 10,
   "metadata": {
    "colab": {},
    "colab_type": "code",
    "id": "bppGycBXYCQr"
   },
   "outputs": [],
   "source": [
    "ann.add(tf.keras.layers.Dense(units=6, activation='tanh'))"
   ]
  },
  {
   "cell_type": "markdown",
   "metadata": {
    "colab_type": "text",
    "id": "BELWAc_8YJze"
   },
   "source": [
    "### Adding the second hidden layer"
   ]
  },
  {
   "cell_type": "code",
   "execution_count": 11,
   "metadata": {
    "colab": {},
    "colab_type": "code",
    "id": "JneR0u0sYRTd"
   },
   "outputs": [],
   "source": [
    "ann.add(tf.keras.layers.Dense(units=6, activation='tanh'))"
   ]
  },
  {
   "cell_type": "markdown",
   "metadata": {
    "colab_type": "text",
    "id": "OyNEe6RXYcU4"
   },
   "source": [
    "### Adding the output layer"
   ]
  },
  {
   "cell_type": "code",
   "execution_count": 12,
   "metadata": {
    "colab": {},
    "colab_type": "code",
    "id": "Cn3x41RBYfvY"
   },
   "outputs": [],
   "source": [
    "ann.add(tf.keras.layers.Dense(units=1, activation='tanh'))"
   ]
  },
  {
   "cell_type": "markdown",
   "metadata": {
    "colab_type": "text",
    "id": "JT4u2S1_Y4WG"
   },
   "source": [
    "## Part 3 - Training the ANN"
   ]
  },
  {
   "cell_type": "markdown",
   "metadata": {
    "colab_type": "text",
    "id": "8GWlJChhY_ZI"
   },
   "source": [
    "### Compiling the ANN"
   ]
  },
  {
   "cell_type": "code",
   "execution_count": 13,
   "metadata": {
    "colab": {},
    "colab_type": "code",
    "id": "fG3RrwDXZEaS"
   },
   "outputs": [],
   "source": [
    "ann.compile(optimizer = 'adam', loss = 'binary_crossentropy', metrics = ['accuracy'])"
   ]
  },
  {
   "cell_type": "markdown",
   "metadata": {
    "colab_type": "text",
    "id": "0QR_G5u7ZLSM"
   },
   "source": [
    "### Training the ANN on the Training set"
   ]
  },
  {
   "cell_type": "code",
   "execution_count": 14,
   "metadata": {
    "colab": {
     "base_uri": "https://localhost:8080/",
     "height": 1000
    },
    "colab_type": "code",
    "id": "nHZ-LKv_ZRb3",
    "outputId": "718cc4b0-b5aa-40f0-9b20-d3d31730a531"
   },
   "outputs": [
    {
     "name": "stdout",
     "output_type": "stream",
     "text": [
      "Epoch 1/100\n",
      "250/250 [==============================] - 0s 930us/step - loss: 2.2944 - accuracy: 0.6586\n",
      "Epoch 2/100\n",
      "250/250 [==============================] - 0s 1ms/step - loss: 1.7634 - accuracy: 0.7206\n",
      "Epoch 3/100\n",
      "250/250 [==============================] - 0s 1ms/step - loss: 1.2464 - accuracy: 0.7521\n",
      "Epoch 4/100\n",
      "250/250 [==============================] - 0s 952us/step - loss: 0.7119 - accuracy: 0.7504\n",
      "Epoch 5/100\n",
      "250/250 [==============================] - 0s 954us/step - loss: 0.6097 - accuracy: 0.7585\n",
      "Epoch 6/100\n",
      "250/250 [==============================] - 0s 954us/step - loss: 0.5417 - accuracy: 0.7751\n",
      "Epoch 7/100\n",
      "250/250 [==============================] - 0s 964us/step - loss: 0.5322 - accuracy: 0.7740\n",
      "Epoch 8/100\n",
      "250/250 [==============================] - 0s 936us/step - loss: 0.5886 - accuracy: 0.7260\n",
      "Epoch 9/100\n",
      "250/250 [==============================] - 0s 940us/step - loss: 0.5399 - accuracy: 0.7628\n",
      "Epoch 10/100\n",
      "250/250 [==============================] - 0s 974us/step - loss: 0.5158 - accuracy: 0.7775\n",
      "Epoch 11/100\n",
      "250/250 [==============================] - 0s 986us/step - loss: 0.5058 - accuracy: 0.7834\n",
      "Epoch 12/100\n",
      "250/250 [==============================] - 0s 1ms/step - loss: 0.4993 - accuracy: 0.7865\n",
      "Epoch 13/100\n",
      "250/250 [==============================] - 0s 1ms/step - loss: 0.4932 - accuracy: 0.7906\n",
      "Epoch 14/100\n",
      "250/250 [==============================] - 0s 1ms/step - loss: 0.4879 - accuracy: 0.7926\n",
      "Epoch 15/100\n",
      "250/250 [==============================] - 0s 995us/step - loss: 0.4841 - accuracy: 0.7929\n",
      "Epoch 16/100\n",
      "250/250 [==============================] - 0s 1ms/step - loss: 0.4814 - accuracy: 0.7939\n",
      "Epoch 17/100\n",
      "250/250 [==============================] - 0s 1ms/step - loss: 0.4817 - accuracy: 0.7941\n",
      "Epoch 18/100\n",
      "250/250 [==============================] - 0s 969us/step - loss: 0.4831 - accuracy: 0.7955\n",
      "Epoch 19/100\n",
      "250/250 [==============================] - 0s 936us/step - loss: 0.4802 - accuracy: 0.7952\n",
      "Epoch 20/100\n",
      "250/250 [==============================] - 0s 1ms/step - loss: 0.4650 - accuracy: 0.7936\n",
      "Epoch 21/100\n",
      "250/250 [==============================] - 0s 1ms/step - loss: 0.4615 - accuracy: 0.7954\n",
      "Epoch 22/100\n",
      "250/250 [==============================] - 0s 1ms/step - loss: 0.4650 - accuracy: 0.7952\n",
      "Epoch 23/100\n",
      "250/250 [==============================] - 0s 982us/step - loss: 0.4658 - accuracy: 0.7959\n",
      "Epoch 24/100\n",
      "250/250 [==============================] - 0s 1000us/step - loss: 0.4540 - accuracy: 0.7958\n",
      "Epoch 25/100\n",
      "250/250 [==============================] - 0s 947us/step - loss: 0.4552 - accuracy: 0.7961\n",
      "Epoch 26/100\n",
      "250/250 [==============================] - 0s 979us/step - loss: 0.4542 - accuracy: 0.7959\n",
      "Epoch 27/100\n",
      "250/250 [==============================] - 0s 977us/step - loss: 0.4771 - accuracy: 0.7945\n",
      "Epoch 28/100\n",
      "250/250 [==============================] - 0s 967us/step - loss: 0.4593 - accuracy: 0.7994\n",
      "Epoch 29/100\n",
      "250/250 [==============================] - 0s 991us/step - loss: 0.4487 - accuracy: 0.7968\n",
      "Epoch 30/100\n",
      "250/250 [==============================] - 0s 964us/step - loss: 0.4509 - accuracy: 0.7972\n",
      "Epoch 31/100\n",
      "250/250 [==============================] - 0s 1ms/step - loss: 0.4413 - accuracy: 0.7961\n",
      "Epoch 32/100\n",
      "250/250 [==============================] - 0s 1ms/step - loss: 0.4563 - accuracy: 0.7966\n",
      "Epoch 33/100\n",
      "250/250 [==============================] - 0s 1ms/step - loss: 0.4742 - accuracy: 0.7997\n",
      "Epoch 34/100\n",
      "250/250 [==============================] - 0s 956us/step - loss: 0.4529 - accuracy: 0.7994\n",
      "Epoch 35/100\n",
      "250/250 [==============================] - 0s 969us/step - loss: 0.4557 - accuracy: 0.7986\n",
      "Epoch 36/100\n",
      "250/250 [==============================] - 0s 951us/step - loss: 0.4402 - accuracy: 0.7977\n",
      "Epoch 37/100\n",
      "250/250 [==============================] - 0s 964us/step - loss: 0.4339 - accuracy: 0.7970\n",
      "Epoch 38/100\n",
      "250/250 [==============================] - 0s 984us/step - loss: 0.4340 - accuracy: 0.7971\n",
      "Epoch 39/100\n",
      "250/250 [==============================] - 0s 1ms/step - loss: 0.4461 - accuracy: 0.7966\n",
      "Epoch 40/100\n",
      "250/250 [==============================] - 0s 964us/step - loss: 0.4858 - accuracy: 0.7986\n",
      "Epoch 41/100\n",
      "250/250 [==============================] - 0s 1ms/step - loss: 0.4644 - accuracy: 0.8021\n",
      "Epoch 42/100\n",
      "250/250 [==============================] - 0s 982us/step - loss: 0.4534 - accuracy: 0.8001\n",
      "Epoch 43/100\n",
      "250/250 [==============================] - 0s 995us/step - loss: 0.4395 - accuracy: 0.7970\n",
      "Epoch 44/100\n",
      "250/250 [==============================] - 0s 995us/step - loss: 0.4366 - accuracy: 0.7965\n",
      "Epoch 45/100\n",
      "250/250 [==============================] - 0s 1ms/step - loss: 0.4344 - accuracy: 0.7977\n",
      "Epoch 46/100\n",
      "250/250 [==============================] - 0s 1ms/step - loss: 0.4338 - accuracy: 0.7979\n",
      "Epoch 47/100\n",
      "250/250 [==============================] - 0s 983us/step - loss: 0.4307 - accuracy: 0.8011\n",
      "Epoch 48/100\n",
      "250/250 [==============================] - 0s 957us/step - loss: 0.5051 - accuracy: 0.7961\n",
      "Epoch 49/100\n",
      "250/250 [==============================] - 0s 1ms/step - loss: 0.4675 - accuracy: 0.7995\n",
      "Epoch 50/100\n",
      "250/250 [==============================] - 0s 1ms/step - loss: 0.4463 - accuracy: 0.7987\n",
      "Epoch 51/100\n",
      "250/250 [==============================] - 0s 1ms/step - loss: 0.4323 - accuracy: 0.7974\n",
      "Epoch 52/100\n",
      "250/250 [==============================] - 0s 964us/step - loss: 0.4240 - accuracy: 0.7970\n",
      "Epoch 53/100\n",
      "250/250 [==============================] - 0s 985us/step - loss: 0.4211 - accuracy: 0.7981\n",
      "Epoch 54/100\n",
      "250/250 [==============================] - 0s 901us/step - loss: 0.4217 - accuracy: 0.8012\n",
      "Epoch 55/100\n",
      "250/250 [==============================] - 0s 931us/step - loss: 0.4266 - accuracy: 0.8076\n",
      "Epoch 56/100\n",
      "250/250 [==============================] - 0s 1ms/step - loss: 0.4242 - accuracy: 0.8121\n",
      "Epoch 57/100\n",
      "250/250 [==============================] - 0s 956us/step - loss: 0.4224 - accuracy: 0.8119\n",
      "Epoch 58/100\n",
      "250/250 [==============================] - 0s 976us/step - loss: 0.4201 - accuracy: 0.8110\n",
      "Epoch 59/100\n",
      "250/250 [==============================] - 0s 1ms/step - loss: 0.4143 - accuracy: 0.8092\n",
      "Epoch 60/100\n",
      "250/250 [==============================] - 0s 956us/step - loss: 0.4127 - accuracy: 0.8129\n",
      "Epoch 61/100\n",
      "250/250 [==============================] - 0s 959us/step - loss: 0.4110 - accuracy: 0.8141\n",
      "Epoch 62/100\n",
      "250/250 [==============================] - 0s 979us/step - loss: 0.4092 - accuracy: 0.8154\n",
      "Epoch 63/100\n",
      "250/250 [==============================] - 0s 975us/step - loss: 0.4271 - accuracy: 0.8151\n",
      "Epoch 64/100\n",
      "250/250 [==============================] - 0s 1ms/step - loss: 0.4182 - accuracy: 0.8220\n",
      "Epoch 65/100\n",
      "250/250 [==============================] - 0s 1ms/step - loss: 0.4087 - accuracy: 0.8199\n",
      "Epoch 66/100\n",
      "250/250 [==============================] - 0s 969us/step - loss: 0.4092 - accuracy: 0.8206\n",
      "Epoch 67/100\n",
      "250/250 [==============================] - 0s 1ms/step - loss: 0.4059 - accuracy: 0.8211\n",
      "Epoch 68/100\n",
      "250/250 [==============================] - 0s 990us/step - loss: 0.4096 - accuracy: 0.8241\n",
      "Epoch 69/100\n",
      "250/250 [==============================] - 0s 1ms/step - loss: 0.4052 - accuracy: 0.8255\n",
      "Epoch 70/100\n",
      "250/250 [==============================] - 0s 904us/step - loss: 0.4044 - accuracy: 0.8266\n",
      "Epoch 71/100\n",
      "250/250 [==============================] - 0s 1ms/step - loss: 0.4160 - accuracy: 0.8230\n",
      "Epoch 72/100\n",
      "250/250 [==============================] - 0s 1ms/step - loss: 0.4032 - accuracy: 0.8273\n",
      "Epoch 73/100\n",
      "250/250 [==============================] - 0s 956us/step - loss: 0.3959 - accuracy: 0.8321\n",
      "Epoch 74/100\n",
      "250/250 [==============================] - 0s 967us/step - loss: 0.4042 - accuracy: 0.8296\n",
      "Epoch 75/100\n",
      "250/250 [==============================] - 0s 1ms/step - loss: 0.4116 - accuracy: 0.8271\n",
      "Epoch 76/100\n",
      "250/250 [==============================] - 0s 1ms/step - loss: 0.3955 - accuracy: 0.8314\n",
      "Epoch 77/100\n",
      "250/250 [==============================] - 0s 955us/step - loss: 0.3888 - accuracy: 0.8307\n",
      "Epoch 78/100\n",
      "250/250 [==============================] - 0s 905us/step - loss: 0.3870 - accuracy: 0.8332\n",
      "Epoch 79/100\n",
      "250/250 [==============================] - 0s 972us/step - loss: 0.3903 - accuracy: 0.8364\n",
      "Epoch 80/100\n"
     ]
    },
    {
     "name": "stdout",
     "output_type": "stream",
     "text": [
      "250/250 [==============================] - 0s 956us/step - loss: 0.3934 - accuracy: 0.8354\n",
      "Epoch 81/100\n",
      "250/250 [==============================] - 0s 977us/step - loss: 0.3880 - accuracy: 0.8382\n",
      "Epoch 82/100\n",
      "250/250 [==============================] - 0s 983us/step - loss: 0.3935 - accuracy: 0.8406\n",
      "Epoch 83/100\n",
      "250/250 [==============================] - 0s 987us/step - loss: 0.3908 - accuracy: 0.8380\n",
      "Epoch 84/100\n",
      "250/250 [==============================] - 0s 989us/step - loss: 0.3858 - accuracy: 0.8393\n",
      "Epoch 85/100\n",
      "250/250 [==============================] - 0s 947us/step - loss: 0.3773 - accuracy: 0.8422\n",
      "Epoch 86/100\n",
      "250/250 [==============================] - 0s 948us/step - loss: 0.3792 - accuracy: 0.8445\n",
      "Epoch 87/100\n",
      "250/250 [==============================] - 0s 975us/step - loss: 0.3837 - accuracy: 0.8430\n",
      "Epoch 88/100\n",
      "250/250 [==============================] - 0s 1ms/step - loss: 0.4020 - accuracy: 0.8420\n",
      "Epoch 89/100\n",
      "250/250 [==============================] - 0s 958us/step - loss: 0.3804 - accuracy: 0.8432\n",
      "Epoch 90/100\n",
      "250/250 [==============================] - 0s 965us/step - loss: 0.3721 - accuracy: 0.8465\n",
      "Epoch 91/100\n",
      "250/250 [==============================] - 0s 1ms/step - loss: 0.3954 - accuracy: 0.8430\n",
      "Epoch 92/100\n",
      "250/250 [==============================] - 0s 974us/step - loss: 0.3970 - accuracy: 0.8459\n",
      "Epoch 93/100\n",
      "250/250 [==============================] - 0s 933us/step - loss: 0.3796 - accuracy: 0.8476\n",
      "Epoch 94/100\n",
      "250/250 [==============================] - 0s 1ms/step - loss: 0.3737 - accuracy: 0.8464\n",
      "Epoch 95/100\n",
      "250/250 [==============================] - 0s 988us/step - loss: 0.3726 - accuracy: 0.8481\n",
      "Epoch 96/100\n",
      "250/250 [==============================] - 0s 1ms/step - loss: 0.4157 - accuracy: 0.8444\n",
      "Epoch 97/100\n",
      "250/250 [==============================] - 0s 1000us/step - loss: 0.3842 - accuracy: 0.8481\n",
      "Epoch 98/100\n",
      "250/250 [==============================] - 0s 1ms/step - loss: 0.3729 - accuracy: 0.8494\n",
      "Epoch 99/100\n",
      "250/250 [==============================] - 0s 1ms/step - loss: 0.3694 - accuracy: 0.8491\n",
      "Epoch 100/100\n",
      "250/250 [==============================] - 0s 1ms/step - loss: 0.3688 - accuracy: 0.8497\n"
     ]
    },
    {
     "data": {
      "text/plain": [
       "<tensorflow.python.keras.callbacks.History at 0x7f4a48041dd8>"
      ]
     },
     "execution_count": 14,
     "metadata": {},
     "output_type": "execute_result"
    }
   ],
   "source": [
    "ann.fit(X_train, y_train, batch_size = 32, epochs = 100)"
   ]
  },
  {
   "cell_type": "markdown",
   "metadata": {},
   "source": [
    "# Parte 3 - Fazendo predições e avaliando o modelo\n",
    "\n",
    "## Prevendo os resultados com o conjunto de testes"
   ]
  },
  {
   "cell_type": "code",
   "execution_count": 15,
   "metadata": {},
   "outputs": [
    {
     "data": {
      "text/plain": [
       "array([[0.25997922],\n",
       "       [0.3670577 ],\n",
       "       [0.1156248 ],\n",
       "       ...,\n",
       "       [0.13958144],\n",
       "       [0.20203285],\n",
       "       [0.2577203 ]], dtype=float32)"
      ]
     },
     "execution_count": 15,
     "metadata": {},
     "output_type": "execute_result"
    }
   ],
   "source": [
    "y_pred = ann.predict(X_test)\n",
    "y_pred"
   ]
  },
  {
   "cell_type": "code",
   "execution_count": 16,
   "metadata": {},
   "outputs": [
    {
     "data": {
      "text/plain": [
       "array([[False],\n",
       "       [False],\n",
       "       [False],\n",
       "       ...,\n",
       "       [False],\n",
       "       [False],\n",
       "       [False]])"
      ]
     },
     "execution_count": 16,
     "metadata": {},
     "output_type": "execute_result"
    }
   ],
   "source": [
    "y_pred = (y_pred > 0.5)\n",
    "y_pred"
   ]
  },
  {
   "cell_type": "markdown",
   "metadata": {},
   "source": [
    "# Criando uma Confusion Matrix"
   ]
  },
  {
   "cell_type": "code",
   "execution_count": 17,
   "metadata": {},
   "outputs": [
    {
     "name": "stdout",
     "output_type": "stream",
     "text": [
      "[[1537   58]\n",
      " [ 232  173]]\n"
     ]
    }
   ],
   "source": [
    "from sklearn.metrics import confusion_matrix\n",
    "cm = confusion_matrix(y_test, y_pred)\n",
    "print(cm)"
   ]
  },
  {
   "cell_type": "markdown",
   "metadata": {},
   "source": [
    "# FIM"
   ]
  },
  {
   "cell_type": "markdown",
   "metadata": {},
   "source": [
    "> Professor Diego Dorgam  \n",
    "> [@diegodorgam](https://twitter.com/diegodorgam)"
   ]
  }
 ],
 "metadata": {
  "kernelspec": {
   "display_name": "Python 3",
   "language": "python",
   "name": "python3"
  },
  "language_info": {
   "codemirror_mode": {
    "name": "ipython",
    "version": 3
   },
   "file_extension": ".py",
   "mimetype": "text/x-python",
   "name": "python",
   "nbconvert_exporter": "python",
   "pygments_lexer": "ipython3",
   "version": "3.6.13"
  }
 },
 "nbformat": 4,
 "nbformat_minor": 4
}
