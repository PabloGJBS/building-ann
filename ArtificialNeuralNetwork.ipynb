{
 "cells": [
  {
   "cell_type": "markdown",
   "metadata": {},
   "source": [
    "# REDES NEURAIS ARTIFICIAIS\n",
    "\n",
    "[Aula 3 de Deep Learning](http://bit.ly/dn-unb03) da Engenharia de Software da UnB"
   ]
  },
  {
   "cell_type": "code",
   "execution_count": 1,
   "metadata": {},
   "outputs": [
    {
     "name": "stdout",
     "output_type": "stream",
     "text": "Collecting git+git://github.com/Theano/Theano.git\n  Cloning git://github.com/Theano/Theano.git to /tmp/pip-req-build-eekynrkx\n  Running command git clone -q git://github.com/Theano/Theano.git /tmp/pip-req-build-eekynrkx\n^C\n\u001b[31mERROR: Operation cancelled by user\u001b[0m\nRequirement already up-to-date: tensorflow in /home/lucianosz7/anaconda3/lib/python3.7/site-packages (2.0.0)\nRequirement already satisfied, skipping upgrade: absl-py>=0.7.0 in /home/lucianosz7/anaconda3/lib/python3.7/site-packages (from tensorflow) (0.8.1)\nRequirement already satisfied, skipping upgrade: keras-applications>=1.0.8 in /home/lucianosz7/anaconda3/lib/python3.7/site-packages (from tensorflow) (1.0.8)\nRequirement already satisfied, skipping upgrade: keras-preprocessing>=1.0.5 in /home/lucianosz7/anaconda3/lib/python3.7/site-packages (from tensorflow) (1.1.0)\nRequirement already satisfied, skipping upgrade: protobuf>=3.6.1 in /home/lucianosz7/anaconda3/lib/python3.7/site-packages (from tensorflow) (3.11.0)\nRequirement already satisfied, skipping upgrade: numpy<2.0,>=1.16.0 in /home/lucianosz7/anaconda3/lib/python3.7/site-packages (from tensorflow) (1.17.4)\nRequirement already satisfied, skipping upgrade: gast==0.2.2 in /home/lucianosz7/anaconda3/lib/python3.7/site-packages (from tensorflow) (0.2.2)\nRequirement already satisfied, skipping upgrade: wheel>=0.26 in /home/lucianosz7/anaconda3/lib/python3.7/site-packages (from tensorflow) (0.33.6)\nRequirement already satisfied, skipping upgrade: astor>=0.6.0 in /home/lucianosz7/anaconda3/lib/python3.7/site-packages (from tensorflow) (0.8.0)\nRequirement already satisfied, skipping upgrade: tensorflow-estimator<2.1.0,>=2.0.0 in /home/lucianosz7/anaconda3/lib/python3.7/site-packages (from tensorflow) (2.0.1)\nRequirement already satisfied, skipping upgrade: termcolor>=1.1.0 in /home/lucianosz7/anaconda3/lib/python3.7/site-packages (from tensorflow) (1.1.0)\nRequirement already satisfied, skipping upgrade: wrapt>=1.11.1 in /home/lucianosz7/anaconda3/lib/python3.7/site-packages (from tensorflow) (1.11.2)\nRequirement already satisfied, skipping upgrade: tensorboard<2.1.0,>=2.0.0 in /home/lucianosz7/anaconda3/lib/python3.7/site-packages (from tensorflow) (2.0.1)\nRequirement already satisfied, skipping upgrade: google-pasta>=0.1.6 in /home/lucianosz7/anaconda3/lib/python3.7/site-packages (from tensorflow) (0.1.8)\nRequirement already satisfied, skipping upgrade: six>=1.10.0 in /home/lucianosz7/anaconda3/lib/python3.7/site-packages (from tensorflow) (1.12.0)\nRequirement already satisfied, skipping upgrade: opt-einsum>=2.3.2 in /home/lucianosz7/anaconda3/lib/python3.7/site-packages (from tensorflow) (3.1.0)\nRequirement already satisfied, skipping upgrade: grpcio>=1.8.6 in /home/lucianosz7/anaconda3/lib/python3.7/site-packages (from tensorflow) (1.25.0)\nRequirement already satisfied, skipping upgrade: h5py in /home/lucianosz7/anaconda3/lib/python3.7/site-packages (from keras-applications>=1.0.8->tensorflow) (2.9.0)\nRequirement already satisfied, skipping upgrade: setuptools in /home/lucianosz7/anaconda3/lib/python3.7/site-packages (from protobuf>=3.6.1->tensorflow) (41.4.0)\nRequirement already satisfied, skipping upgrade: werkzeug>=0.11.15 in /home/lucianosz7/anaconda3/lib/python3.7/site-packages (from tensorboard<2.1.0,>=2.0.0->tensorflow) (0.16.0)\nRequirement already satisfied, skipping upgrade: markdown>=2.6.8 in /home/lucianosz7/anaconda3/lib/python3.7/site-packages (from tensorboard<2.1.0,>=2.0.0->tensorflow) (3.1.1)\nRequirement already satisfied, skipping upgrade: google-auth-oauthlib<0.5,>=0.4.1 in /home/lucianosz7/anaconda3/lib/python3.7/site-packages (from tensorboard<2.1.0,>=2.0.0->tensorflow) (0.4.1)\nRequirement already satisfied, skipping upgrade: google-auth<2,>=1.6.3 in /home/lucianosz7/anaconda3/lib/python3.7/site-packages (from tensorboard<2.1.0,>=2.0.0->tensorflow) (1.7.1)\nRequirement already satisfied, skipping upgrade: requests-oauthlib>=0.7.0 in /home/lucianosz7/anaconda3/lib/python3.7/site-packages (from google-auth-oauthlib<0.5,>=0.4.1->tensorboard<2.1.0,>=2.0.0->tensorflow) (1.3.0)\nRequirement already satisfied, skipping upgrade: cachetools<3.2,>=2.0.0 in /home/lucianosz7/anaconda3/lib/python3.7/site-packages (from google-auth<2,>=1.6.3->tensorboard<2.1.0,>=2.0.0->tensorflow) (3.1.1)\nRequirement already satisfied, skipping upgrade: pyasn1-modules>=0.2.1 in /home/lucianosz7/anaconda3/lib/python3.7/site-packages (from google-auth<2,>=1.6.3->tensorboard<2.1.0,>=2.0.0->tensorflow) (0.2.7)\nRequirement already satisfied, skipping upgrade: rsa<4.1,>=3.1.4 in /home/lucianosz7/anaconda3/lib/python3.7/site-packages (from google-auth<2,>=1.6.3->tensorboard<2.1.0,>=2.0.0->tensorflow) (4.0)\nRequirement already satisfied, skipping upgrade: oauthlib>=3.0.0 in /home/lucianosz7/anaconda3/lib/python3.7/site-packages (from requests-oauthlib>=0.7.0->google-auth-oauthlib<0.5,>=0.4.1->tensorboard<2.1.0,>=2.0.0->tensorflow) (3.1.0)\nRequirement already satisfied, skipping upgrade: requests>=2.0.0 in /home/lucianosz7/anaconda3/lib/python3.7/site-packages (from requests-oauthlib>=0.7.0->google-auth-oauthlib<0.5,>=0.4.1->tensorboard<2.1.0,>=2.0.0->tensorflow) (2.22.0)\nRequirement already satisfied, skipping upgrade: pyasn1<0.5.0,>=0.4.6 in /home/lucianosz7/anaconda3/lib/python3.7/site-packages (from pyasn1-modules>=0.2.1->google-auth<2,>=1.6.3->tensorboard<2.1.0,>=2.0.0->tensorflow) (0.4.8)\nRequirement already satisfied, skipping upgrade: idna<2.9,>=2.5 in /home/lucianosz7/anaconda3/lib/python3.7/site-packages (from requests>=2.0.0->requests-oauthlib>=0.7.0->google-auth-oauthlib<0.5,>=0.4.1->tensorboard<2.1.0,>=2.0.0->tensorflow) (2.8)\nRequirement already satisfied, skipping upgrade: urllib3!=1.25.0,!=1.25.1,<1.26,>=1.21.1 in /home/lucianosz7/anaconda3/lib/python3.7/site-packages (from requests>=2.0.0->requests-oauthlib>=0.7.0->google-auth-oauthlib<0.5,>=0.4.1->tensorboard<2.1.0,>=2.0.0->tensorflow) (1.24.2)\nRequirement already satisfied, skipping upgrade: certifi>=2017.4.17 in /home/lucianosz7/anaconda3/lib/python3.7/site-packages (from requests>=2.0.0->requests-oauthlib>=0.7.0->google-auth-oauthlib<0.5,>=0.4.1->tensorboard<2.1.0,>=2.0.0->tensorflow) (2019.9.11)\nRequirement already satisfied, skipping upgrade: chardet<3.1.0,>=3.0.2 in /home/lucianosz7/anaconda3/lib/python3.7/site-packages (from requests>=2.0.0->requests-oauthlib>=0.7.0->google-auth-oauthlib<0.5,>=0.4.1->tensorboard<2.1.0,>=2.0.0->tensorflow) (3.0.4)\nRequirement already up-to-date: keras in /home/lucianosz7/anaconda3/lib/python3.7/site-packages (2.3.1)\nRequirement already satisfied, skipping upgrade: keras-applications>=1.0.6 in /home/lucianosz7/anaconda3/lib/python3.7/site-packages (from keras) (1.0.8)\nRequirement already satisfied, skipping upgrade: scipy>=0.14 in /home/lucianosz7/anaconda3/lib/python3.7/site-packages (from keras) (1.3.1)\nRequirement already satisfied, skipping upgrade: pyyaml in /home/lucianosz7/anaconda3/lib/python3.7/site-packages (from keras) (5.1.2)\nRequirement already satisfied, skipping upgrade: keras-preprocessing>=1.0.5 in /home/lucianosz7/anaconda3/lib/python3.7/site-packages (from keras) (1.1.0)\nRequirement already satisfied, skipping upgrade: numpy>=1.9.1 in /home/lucianosz7/anaconda3/lib/python3.7/site-packages (from keras) (1.17.4)\nRequirement already satisfied, skipping upgrade: six>=1.9.0 in /home/lucianosz7/anaconda3/lib/python3.7/site-packages (from keras) (1.12.0)\nRequirement already satisfied, skipping upgrade: h5py in /home/lucianosz7/anaconda3/lib/python3.7/site-packages (from keras) (2.9.0)\nRequirement already satisfied: keras-rectified-adam in /home/lucianosz7/anaconda3/lib/python3.7/site-packages (0.17.0)\nRequirement already satisfied: Keras in /home/lucianosz7/anaconda3/lib/python3.7/site-packages (from keras-rectified-adam) (2.3.1)\nRequirement already satisfied: numpy in /home/lucianosz7/anaconda3/lib/python3.7/site-packages (from keras-rectified-adam) (1.17.4)\nRequirement already satisfied: pyyaml in /home/lucianosz7/anaconda3/lib/python3.7/site-packages (from Keras->keras-rectified-adam) (5.1.2)\nRequirement already satisfied: scipy>=0.14 in /home/lucianosz7/anaconda3/lib/python3.7/site-packages (from Keras->keras-rectified-adam) (1.3.1)\nRequirement already satisfied: six>=1.9.0 in /home/lucianosz7/anaconda3/lib/python3.7/site-packages (from Keras->keras-rectified-adam) (1.12.0)\nRequirement already satisfied: keras-preprocessing>=1.0.5 in /home/lucianosz7/anaconda3/lib/python3.7/site-packages (from Keras->keras-rectified-adam) (1.1.0)\nRequirement already satisfied: h5py in /home/lucianosz7/anaconda3/lib/python3.7/site-packages (from Keras->keras-rectified-adam) (2.9.0)\nRequirement already satisfied: keras-applications>=1.0.6 in /home/lucianosz7/anaconda3/lib/python3.7/site-packages (from Keras->keras-rectified-adam) (1.0.8)\nRequirement already up-to-date: pip in /home/lucianosz7/anaconda3/lib/python3.7/site-packages (19.3.1)\nRequirement already up-to-date: pandas in /home/lucianosz7/anaconda3/lib/python3.7/site-packages (0.25.3)\nRequirement already up-to-date: numpy in /home/lucianosz7/anaconda3/lib/python3.7/site-packages (1.17.4)\nRequirement already up-to-date: matplotlib in /home/lucianosz7/anaconda3/lib/python3.7/site-packages (3.1.2)\nRequirement already up-to-date: sklearn in /home/lucianosz7/anaconda3/lib/python3.7/site-packages (0.0)\nRequirement already satisfied, skipping upgrade: python-dateutil>=2.6.1 in /home/lucianosz7/anaconda3/lib/python3.7/site-packages (from pandas) (2.8.0)\nRequirement already satisfied, skipping upgrade: pytz>=2017.2 in /home/lucianosz7/anaconda3/lib/python3.7/site-packages (from pandas) (2018.4)\nRequirement already satisfied, skipping upgrade: pyparsing!=2.0.4,!=2.1.2,!=2.1.6,>=2.0.1 in /home/lucianosz7/anaconda3/lib/python3.7/site-packages (from matplotlib) (2.4.2)\nRequirement already satisfied, skipping upgrade: cycler>=0.10 in /home/lucianosz7/anaconda3/lib/python3.7/site-packages (from matplotlib) (0.10.0)\nRequirement already satisfied, skipping upgrade: kiwisolver>=1.0.1 in /home/lucianosz7/anaconda3/lib/python3.7/site-packages (from matplotlib) (1.1.0)\nRequirement already satisfied, skipping upgrade: scikit-learn in /home/lucianosz7/anaconda3/lib/python3.7/site-packages (from sklearn) (0.21.3)\nRequirement already satisfied, skipping upgrade: six>=1.5 in /home/lucianosz7/anaconda3/lib/python3.7/site-packages (from python-dateutil>=2.6.1->pandas) (1.12.0)\nRequirement already satisfied, skipping upgrade: setuptools in /home/lucianosz7/anaconda3/lib/python3.7/site-packages (from kiwisolver>=1.0.1->matplotlib) (41.4.0)\nRequirement already satisfied, skipping upgrade: scipy>=0.17.0 in /home/lucianosz7/anaconda3/lib/python3.7/site-packages (from scikit-learn->sklearn) (1.3.1)\nRequirement already satisfied, skipping upgrade: joblib>=0.11 in /home/lucianosz7/anaconda3/lib/python3.7/site-packages (from scikit-learn->sklearn) (0.13.2)\n"
    }
   ],
   "source": [
    "# Installing Theano\n",
    "! pip install --upgrade --no-deps git+git://github.com/Theano/Theano.git\n",
    "\n",
    "# Installing Tensorflow\n",
    "! pip install --upgrade tensorflow\n",
    "\n",
    "# Installing Keras\n",
    "! pip install --upgrade keras\n",
    "! pip install keras-rectified-adam\n",
    "\n",
    "# Install other packages\n",
    "! pip install --upgrade pip pandas numpy matplotlib sklearn"
   ]
  },
  {
   "cell_type": "code",
   "execution_count": null,
   "metadata": {},
   "outputs": [],
   "source": []
  },
  {
   "cell_type": "markdown",
   "metadata": {},
   "source": [
    "# Parte 1 - Preprocessamento dos Dados"
   ]
  },
  {
   "cell_type": "markdown",
   "metadata": {},
   "source": [
    "### Importar as libs"
   ]
  },
  {
   "cell_type": "code",
   "execution_count": 2,
   "metadata": {},
   "outputs": [
    {
     "name": "stderr",
     "output_type": "stream",
     "text": "Using TensorFlow backend.\n"
    }
   ],
   "source": [
    "import numpy as np\n",
    "import matplotlib.pyplot as plt\n",
    "import pandas as pd\n",
    "import keras_radam"
   ]
  },
  {
   "cell_type": "markdown",
   "metadata": {},
   "source": [
    "### Importar o dataset"
   ]
  },
  {
   "cell_type": "code",
   "execution_count": 3,
   "metadata": {},
   "outputs": [
    {
     "name": "stdout",
     "output_type": "stream",
     "text": "X >>\n [[619 'France' 'Female' ... 1 1 101348.88]\n [608 'Spain' 'Female' ... 0 1 112542.58]\n [502 'France' 'Female' ... 1 0 113931.57]\n ...\n [709 'France' 'Female' ... 0 1 42085.58]\n [772 'Germany' 'Male' ... 1 0 92888.52]\n [792 'France' 'Female' ... 1 0 38190.78]]\ny >>\n [1 0 1 ... 1 1 0]\n"
    }
   ],
   "source": [
    "dataset = pd.read_csv('Churn_Modelling.csv')\n",
    "X = dataset.iloc[:, 3:13].values\n",
    "y = dataset.iloc[:, 13].values\n",
    "print(\"X >>\\n\",X)\n",
    "print(\"y >>\\n\",y)"
   ]
  },
  {
   "cell_type": "markdown",
   "metadata": {},
   "source": [
    "### Transformando os dados categóricos\n"
   ]
  },
  {
   "cell_type": "code",
   "execution_count": 0,
   "metadata": {},
   "outputs": [],
   "source": [
    "from sklearn.preprocessing import LabelEncoder, OneHotEncoder\n",
    "labelencoder_X_1 = LabelEncoder()\n",
    "X[:, 1] = labelencoder_X_1.fit_transform(X[:, 1])\n",
    "labelencoder_X_2 = LabelEncoder()\n",
    "X[:, 2] = labelencoder_X_2.fit_transform(X[:, 2])\n",
    "onehotencoder = OneHotEncoder(categorical_features = [1])\n",
    "X = onehotencoder.fit_transform(X).toarray()\n",
    "X = X[:, 1:]\n",
    "print(\"X >>\\n\",X)"
   ]
  },
  {
   "cell_type": "markdown",
   "metadata": {},
   "source": [
    "# Dividindo o dataset em conjunto de treinamento e conjunto de teste"
   ]
  },
  {
   "cell_type": "code",
   "execution_count": 5,
   "metadata": {},
   "outputs": [],
   "source": [
    "from sklearn.model_selection import train_test_split\n",
    "X_train, X_test, y_train, y_test = train_test_split(X, y, test_size = 0.2, random_state = 0)"
   ]
  },
  {
   "cell_type": "markdown",
   "metadata": {},
   "source": [
    "# Feature Scaling"
   ]
  },
  {
   "cell_type": "code",
   "execution_count": 6,
   "metadata": {},
   "outputs": [],
   "source": [
    "from sklearn.preprocessing import StandardScaler\n",
    "sc = StandardScaler()\n",
    "X_train = sc.fit_transform(X_train)\n",
    "X_test = sc.transform(X_test)"
   ]
  },
  {
   "cell_type": "markdown",
   "metadata": {},
   "source": [
    "---\n",
    "# Parte 2 -Vamos construir uma ANN!\n",
    "\n",
    "## Importando o Keras\n"
   ]
  },
  {
   "cell_type": "code",
   "execution_count": 7,
   "metadata": {},
   "outputs": [],
   "source": [
    "import keras\n",
    "from keras.models import Sequential\n",
    "from keras.layers import Dense"
   ]
  },
  {
   "cell_type": "code",
   "execution_count": 8,
   "metadata": {},
   "outputs": [],
   "source": [
    "# Initialising the ANN\n",
    "classifier = Sequential()\n",
    "\n",
    "# Adding the input layer and the first hidden layer\n",
    "classifier.add(Dense(units = 6, kernel_initializer = 'uniform', activation = 'relu', input_dim = 11))\n",
    "\n",
    "# Adding the second hidden layer\n",
    "classifier.add(Dense(units = 6, kernel_initializer = 'uniform', activation = 'relu'))\n",
    "\n",
    "# Adding the output layer\n",
    "classifier.add(Dense(units = 1, kernel_initializer = 'uniform', activation = 'sigmoid'))\n",
    "\n",
    "# Compiling the ANN\n",
    "classifier.compile(optimizer = 'adam', loss = 'binary_crossentropy', metrics = ['accuracy'])"
   ]
  },
  {
   "cell_type": "markdown",
   "metadata": {},
   "source": [
    "# Ajustando a ANN ao conjunto de treinamento"
   ]
  },
  {
   "cell_type": "code",
   "execution_count": 9,
   "metadata": {},
   "outputs": [
    {
     "name": "stdout",
     "output_type": "stream",
     "text": "Epoch 1/100\n8000/8000 [==============================] - 15s 2ms/step - loss: 0.4877 - accuracy: 0.7950\nEpoch 2/100\n8000/8000 [==============================] - 11s 1ms/step - loss: 0.4266 - accuracy: 0.7960\nEpoch 3/100\n8000/8000 [==============================] - 7s 925us/step - loss: 0.4205 - accuracy: 0.7984\nEpoch 4/100\n8000/8000 [==============================] - 8s 941us/step - loss: 0.4168 - accuracy: 0.8257\nEpoch 5/100\n8000/8000 [==============================] - 7s 889us/step - loss: 0.4148 - accuracy: 0.8300\nEpoch 6/100\n8000/8000 [==============================] - 7s 848us/step - loss: 0.4130 - accuracy: 0.8294\nEpoch 7/100\n8000/8000 [==============================] - 8s 1ms/step - loss: 0.4117 - accuracy: 0.8315\nEpoch 8/100\n8000/8000 [==============================] - 8s 1ms/step - loss: 0.4103 - accuracy: 0.8328\nEpoch 9/100\n8000/8000 [==============================] - 9s 1ms/step - loss: 0.4096 - accuracy: 0.8339\nEpoch 10/100\n8000/8000 [==============================] - 10s 1ms/step - loss: 0.4083 - accuracy: 0.8338\nEpoch 11/100\n8000/8000 [==============================] - 10s 1ms/step - loss: 0.4079 - accuracy: 0.8342\nEpoch 12/100\n8000/8000 [==============================] - 8s 945us/step - loss: 0.4072 - accuracy: 0.8336\nEpoch 13/100\n8000/8000 [==============================] - 9s 1ms/step - loss: 0.4059 - accuracy: 0.8356\nEpoch 14/100\n8000/8000 [==============================] - 9s 1ms/step - loss: 0.4060 - accuracy: 0.8342\nEpoch 15/100\n8000/8000 [==============================] - 10s 1ms/step - loss: 0.4054 - accuracy: 0.8336\nEpoch 16/100\n8000/8000 [==============================] - 10s 1ms/step - loss: 0.4051 - accuracy: 0.8344\nEpoch 17/100\n8000/8000 [==============================] - 8s 1ms/step - loss: 0.4042 - accuracy: 0.8354\nEpoch 18/100\n8000/8000 [==============================] - 7s 889us/step - loss: 0.4042 - accuracy: 0.8342\nEpoch 19/100\n8000/8000 [==============================] - 7s 908us/step - loss: 0.4039 - accuracy: 0.8335\nEpoch 20/100\n5990/8000 [=====================>........] - ETA: 1s - loss: 0.4039 - accuracy: 0.8324"
    }
   ],
   "source": [
    "classifier.fit(X_train, y_train, batch_size = 10, epochs = 100)"
   ]
  },
  {
   "cell_type": "markdown",
   "metadata": {},
   "source": [
    "# Parte 3 - Fazendo predições e avaliando o modelo\n",
    "\n",
    "## Prevendo os resultados com o conjunto de testes"
   ]
  },
  {
   "cell_type": "code",
   "execution_count": 0,
   "metadata": {},
   "outputs": [],
   "source": [
    "y_pred = classifier.predict(X_test)\n",
    "y_pred = (y_pred > 0.5)"
   ]
  },
  {
   "cell_type": "markdown",
   "metadata": {},
   "source": [
    "# Criando uma Confusion Matrix"
   ]
  },
  {
   "cell_type": "code",
   "execution_count": 0,
   "metadata": {},
   "outputs": [],
   "source": [
    "from sklearn.metrics import confusion_matrix\n",
    "cm = confusion_matrix(y_test, y_pred)\n",
    "print(cm)"
   ]
  },
  {
   "cell_type": "markdown",
   "metadata": {},
   "source": [
    "# Initiate activation function experimentation\n",
    "\n",
    "# Initialising the 2nd ANN"
   ]
  },
  {
   "cell_type": "code",
   "execution_count": 0,
   "metadata": {},
   "outputs": [],
   "source": [
    "del classifier\n",
    "\n",
    "classifier = Sequential()\n",
    "\n",
    "classifier.add(Dense(units = 6, kernel_initializer = 'uniform', activation = 'relu', input_dim = 11))\n",
    "\n",
    "classifier.add(Dense(units = 6, kernel_initializer = 'uniform', activation = 'relu'))\n",
    "\n",
    "classifier.add(Dense(units = 1, kernel_initializer = 'uniform', activation = 'softsign'))\n",
    "\n",
    "classifier.compile(optimizer = 'adam', loss = 'binary_crossentropy', metrics = ['accuracy'])\n",
    "\n",
    "classifier.fit(X_train, y_train, batch_size = 10, epochs = 100)"
   ]
  },
  {
   "cell_type": "code",
   "execution_count": 0,
   "metadata": {},
   "outputs": [],
   "source": [
    "y_pred = classifier.predict(X_test)\n",
    "y_pred = (y_pred > 0.5)"
   ]
  },
  {
   "cell_type": "markdown",
   "metadata": {},
   "source": [
    "# Making the Confusion Matrix"
   ]
  },
  {
   "cell_type": "code",
   "execution_count": 0,
   "metadata": {},
   "outputs": [],
   "source": [
    "from sklearn.metrics import confusion_matrix\n",
    "cm = confusion_matrix(y_test, y_pred)\n",
    "print(cm)"
   ]
  },
  {
   "cell_type": "markdown",
   "metadata": {},
   "source": [
    "# Initialising the 3rd ANN"
   ]
  },
  {
   "cell_type": "code",
   "execution_count": 0,
   "metadata": {},
   "outputs": [],
   "source": [
    "del classifier\n",
    "\n",
    "classifier = Sequential()\n",
    "\n",
    "classifier.add(Dense(units = 6, kernel_initializer = 'uniform', activation = 'relu', input_dim = 11))\n",
    "\n",
    "classifier.add(Dense(units = 6, kernel_initializer = 'uniform', activation = 'relu'))\n",
    "\n",
    "classifier.add(Dense(units = 1, kernel_initializer = 'uniform', activation = 'softsign'))\n",
    "\n",
    "classifier.compile(optimizer = 'adam', loss = 'binary_crossentropy', metrics = ['accuracy'])\n",
    "\n",
    "classifier.fit(X_train, y_train, batch_size = 10, epochs = 100)"
   ]
  },
  {
   "cell_type": "code",
   "execution_count": 0,
   "metadata": {},
   "outputs": [],
   "source": [
    "y_pred = classifier.predict(X_test)\n",
    "y_pred = (y_pred > 0.5)"
   ]
  },
  {
   "cell_type": "markdown",
   "metadata": {},
   "source": [
    "# Making the Confusion Matrix"
   ]
  },
  {
   "cell_type": "code",
   "execution_count": 0,
   "metadata": {},
   "outputs": [],
   "source": [
    "from sklearn.metrics import confusion_matrix\n",
    "cm = confusion_matrix(y_test, y_pred)\n",
    "print(cm)"
   ]
  },
  {
   "cell_type": "markdown",
   "metadata": {},
   "source": [
    "---\n",
    "# Parte 4 - Evaluating, Improving and Tuning the ANN\n",
    "\n",
    "## Evaluating the ANN"
   ]
  },
  {
   "cell_type": "code",
   "execution_count": 0,
   "metadata": {},
   "outputs": [],
   "source": [
    "from keras.wrappers.scikit_learn import KerasClassifier\n",
    "from sklearn.model_selection import cross_val_score\n",
    "from keras.models import Sequential\n",
    "from keras.layers import Dense\n",
    "from keras_radam import RAdam\n",
    "\n",
    "def build_classifier():\n",
    "    classifier = Sequential()\n",
    "    classifier.add(Dense(units = 6, kernel_initializer = 'uniform', activation = 'relu', input_dim = 11))\n",
    "    classifier.add(Dense(units = 6, kernel_initializer = 'uniform', activation = 'relu'))\n",
    "    classifier.add(Dense(units = 1, kernel_initializer = 'uniform', activation = 'softsign'))\n",
    "    classifier.compile(optimizer = 'radam', loss = 'binary_crossentropy', metrics = ['accuracy'])\n",
    "    return classifier\n",
    "\n",
    "classifier = KerasClassifier(build_fn = build_classifier, batch_size = 14, epochs = 25)\n",
    "accuracies = cross_val_score(estimator = classifier, X = X_train, y = y_train, cv = 10, n_jobs = -1)\n",
    "mean = accuracies.mean()\n",
    "variance = accuracies.std()\n",
    "print(\"accuracies:%s\\nmean:%s\\nvariance:%s\".format(accuracies, mean, variance))"
   ]
  },
  {
   "cell_type": "markdown",
   "metadata": {},
   "source": [
    "# Improving the ANN\n",
    "# Dropout Regularization to reduce overfitting if needed"
   ]
  },
  {
   "cell_type": "code",
   "execution_count": 0,
   "metadata": {},
   "outputs": [],
   "source": [
    "from keras.layers import Dropout\n",
    "\n",
    "def build_classifier():\n",
    "    classifier = Sequential()\n",
    "    classifier.add(Dense(units = 6, kernel_initializer = 'uniform', activation = 'softmax', input_dim = 11))\n",
    "    classifier.add(Dropout(rate = 0.1))\n",
    "    classifier.add(Dense(units = 6, kernel_initializer = 'uniform', activation = 'softmax'))\n",
    "    classifier.add(Dropout(rate = 0.1))\n",
    "    classifier.add(Dense(units = 1, kernel_initializer = 'uniform', activation = 'sigmoid'))\n",
    "    classifier.compile(optimizer = 'radam', loss = 'binary_crossentropy', metrics = ['accuracy'])\n",
    "    return classifier\n",
    "\n",
    "classifier = KerasClassifier(build_fn = build_classifier, batch_size = 10, epochs = 10)\n",
    "accuracies = cross_val_score(estimator = classifier, X = X_train, y = y_train, cv = 10, n_jobs = -1)\n",
    "mean = accuracies.mean()\n",
    "variance = accuracies.std()"
   ]
  },
  {
   "cell_type": "markdown",
   "metadata": {},
   "source": [
    "# Tuning the ANN"
   ]
  },
  {
   "cell_type": "code",
   "execution_count": 0,
   "metadata": {},
   "outputs": [],
   "source": [
    "from keras.wrappers.scikit_learn import KerasClassifier\n",
    "from sklearn.model_selection import GridSearchCV\n",
    "from keras.models import Sequential\n",
    "from keras.layers import Dense\n",
    "\n",
    "def build_classifier(optimizer):\n",
    "    classifier = Sequential()\n",
    "    classifier.add(Dense(units = 6, kernel_initializer = 'uniform', activation = 'softmax', input_dim = 11))\n",
    "    classifier.add(Dropout(rate = 0.1))\n",
    "    classifier.add(Dense(units = 6, kernel_initializer = 'uniform', activation = 'softmax'))\n",
    "    classifier.add(Dropout(rate = 0.1))\n",
    "    classifier.add(Dense(units = 1, kernel_initializer = 'uniform', activation = 'sigmoid'))\n",
    "    classifier.compile(optimizer = optimizer, loss = 'binary_crossentropy', metrics = ['accuracy'])\n",
    "    return classifier\n",
    "\n",
    "classifier = KerasClassifier(build_fn = build_classifier)"
   ]
  },
  {
   "cell_type": "code",
   "execution_count": 0,
   "metadata": {},
   "outputs": [],
   "source": [
    "parameters = {'batch_size': [10, 24, 32],\n",
    "              'epochs': [25, 50, 100],\n",
    "              'optimizer': ['radam', 'rmsprop']}\n",
    "\n",
    "grid_search = GridSearchCV(estimator = classifier,\n",
    "                           scoring = 'accuracy',\n",
    "                           param_grid = parameters,\n",
    "                           cv = 10)\n",
    "\n",
    "grid_search = grid_search.fit(X_train, y_train)\n",
    "\n",
    "best_parameters = grid_search.best_params_\n",
    "best_accuracy = grid_search.best_score_"
   ]
  },
  {
   "cell_type": "markdown",
   "metadata": {},
   "source": [
    "# FIM"
   ]
  },
  {
   "cell_type": "markdown",
   "metadata": {},
   "source": [
    "> Professor Diego Dorgam  \n",
    "> [@diegodorgam](https://twitter.com/diegodorgam)"
   ]
  }
 ],
 "metadata": {
  "kernelspec": {
   "display_name": "Python 3",
   "language": "python",
   "name": "python3"
  },
  "language_info": {
   "codemirror_mode": {
    "name": "ipython",
    "version": 3
   },
   "file_extension": ".py",
   "mimetype": "text/x-python",
   "name": "python",
   "nbconvert_exporter": "python",
   "pygments_lexer": "ipython3",
   "version": "3.7.4"
  }
 },
 "nbformat": 4,
 "nbformat_minor": 4
}