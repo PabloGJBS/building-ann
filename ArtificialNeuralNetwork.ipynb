{
 "cells": [
  {
   "cell_type": "markdown",
   "source": [
    "# REDES NEURAIS ARTIFICIAIS\n",
    "\n",
    "[Aula 3 de Deep Learning](http://bit.ly/dn-unb03) da Engenharia de Software da UnB"
   ],
   "metadata": {}
  },
  {
   "cell_type": "markdown",
   "source": [
    "# Parte 1 - Pré-processamento dos Dados"
   ],
   "metadata": {}
  },
  {
   "cell_type": "markdown",
   "source": [
    "### Importar as libs"
   ],
   "metadata": {}
  },
  {
   "cell_type": "code",
   "execution_count": 20,
   "source": [
    "import numpy as np\r\n",
    "import pandas as pd\r\n",
    "import tensorflow as tf"
   ],
   "outputs": [],
   "metadata": {
    "colab": {},
    "colab_type": "code",
    "id": "MxkJoQBkUIHC"
   }
  },
  {
   "cell_type": "code",
   "execution_count": 21,
   "source": [
    "tf.__version__"
   ],
   "outputs": [
    {
     "output_type": "execute_result",
     "data": {
      "text/plain": [
       "'2.5.0'"
      ]
     },
     "metadata": {},
     "execution_count": 21
    }
   ],
   "metadata": {
    "colab": {
     "base_uri": "https://localhost:8080/",
     "height": 34
    },
    "colab_type": "code",
    "id": "ZaTwK7ojXr2F",
    "outputId": "0b27a96d-d11a-43e8-ab4b-87c1f01896fe"
   }
  },
  {
   "cell_type": "markdown",
   "source": [
    "### Importar o dataset"
   ],
   "metadata": {}
  },
  {
   "cell_type": "code",
   "execution_count": 22,
   "source": [
    "dataset = pd.read_csv('Churn_Modelling.csv')\r\n",
    "dataset.head()"
   ],
   "outputs": [
    {
     "output_type": "execute_result",
     "data": {
      "text/plain": [
       "   RowNumber  CustomerId   Surname  CreditScore Geography  Gender  Age  \\\n",
       "0          1    15634602  Hargrave          619    France  Female   42   \n",
       "1          2    15647311      Hill          608     Spain  Female   41   \n",
       "2          3    15619304      Onio          502    France  Female   42   \n",
       "3          4    15701354      Boni          699    France  Female   39   \n",
       "4          5    15737888  Mitchell          850     Spain  Female   43   \n",
       "\n",
       "   Tenure    Balance  NumOfProducts  HasCrCard  IsActiveMember  \\\n",
       "0       2       0.00              1          1               1   \n",
       "1       1   83807.86              1          0               1   \n",
       "2       8  159660.80              3          1               0   \n",
       "3       1       0.00              2          0               0   \n",
       "4       2  125510.82              1          1               1   \n",
       "\n",
       "   EstimatedSalary  Exited  \n",
       "0        101348.88       1  \n",
       "1        112542.58       0  \n",
       "2        113931.57       1  \n",
       "3         93826.63       0  \n",
       "4         79084.10       0  "
      ],
      "text/html": [
       "<div>\n",
       "<style scoped>\n",
       "    .dataframe tbody tr th:only-of-type {\n",
       "        vertical-align: middle;\n",
       "    }\n",
       "\n",
       "    .dataframe tbody tr th {\n",
       "        vertical-align: top;\n",
       "    }\n",
       "\n",
       "    .dataframe thead th {\n",
       "        text-align: right;\n",
       "    }\n",
       "</style>\n",
       "<table border=\"1\" class=\"dataframe\">\n",
       "  <thead>\n",
       "    <tr style=\"text-align: right;\">\n",
       "      <th></th>\n",
       "      <th>RowNumber</th>\n",
       "      <th>CustomerId</th>\n",
       "      <th>Surname</th>\n",
       "      <th>CreditScore</th>\n",
       "      <th>Geography</th>\n",
       "      <th>Gender</th>\n",
       "      <th>Age</th>\n",
       "      <th>Tenure</th>\n",
       "      <th>Balance</th>\n",
       "      <th>NumOfProducts</th>\n",
       "      <th>HasCrCard</th>\n",
       "      <th>IsActiveMember</th>\n",
       "      <th>EstimatedSalary</th>\n",
       "      <th>Exited</th>\n",
       "    </tr>\n",
       "  </thead>\n",
       "  <tbody>\n",
       "    <tr>\n",
       "      <th>0</th>\n",
       "      <td>1</td>\n",
       "      <td>15634602</td>\n",
       "      <td>Hargrave</td>\n",
       "      <td>619</td>\n",
       "      <td>France</td>\n",
       "      <td>Female</td>\n",
       "      <td>42</td>\n",
       "      <td>2</td>\n",
       "      <td>0.00</td>\n",
       "      <td>1</td>\n",
       "      <td>1</td>\n",
       "      <td>1</td>\n",
       "      <td>101348.88</td>\n",
       "      <td>1</td>\n",
       "    </tr>\n",
       "    <tr>\n",
       "      <th>1</th>\n",
       "      <td>2</td>\n",
       "      <td>15647311</td>\n",
       "      <td>Hill</td>\n",
       "      <td>608</td>\n",
       "      <td>Spain</td>\n",
       "      <td>Female</td>\n",
       "      <td>41</td>\n",
       "      <td>1</td>\n",
       "      <td>83807.86</td>\n",
       "      <td>1</td>\n",
       "      <td>0</td>\n",
       "      <td>1</td>\n",
       "      <td>112542.58</td>\n",
       "      <td>0</td>\n",
       "    </tr>\n",
       "    <tr>\n",
       "      <th>2</th>\n",
       "      <td>3</td>\n",
       "      <td>15619304</td>\n",
       "      <td>Onio</td>\n",
       "      <td>502</td>\n",
       "      <td>France</td>\n",
       "      <td>Female</td>\n",
       "      <td>42</td>\n",
       "      <td>8</td>\n",
       "      <td>159660.80</td>\n",
       "      <td>3</td>\n",
       "      <td>1</td>\n",
       "      <td>0</td>\n",
       "      <td>113931.57</td>\n",
       "      <td>1</td>\n",
       "    </tr>\n",
       "    <tr>\n",
       "      <th>3</th>\n",
       "      <td>4</td>\n",
       "      <td>15701354</td>\n",
       "      <td>Boni</td>\n",
       "      <td>699</td>\n",
       "      <td>France</td>\n",
       "      <td>Female</td>\n",
       "      <td>39</td>\n",
       "      <td>1</td>\n",
       "      <td>0.00</td>\n",
       "      <td>2</td>\n",
       "      <td>0</td>\n",
       "      <td>0</td>\n",
       "      <td>93826.63</td>\n",
       "      <td>0</td>\n",
       "    </tr>\n",
       "    <tr>\n",
       "      <th>4</th>\n",
       "      <td>5</td>\n",
       "      <td>15737888</td>\n",
       "      <td>Mitchell</td>\n",
       "      <td>850</td>\n",
       "      <td>Spain</td>\n",
       "      <td>Female</td>\n",
       "      <td>43</td>\n",
       "      <td>2</td>\n",
       "      <td>125510.82</td>\n",
       "      <td>1</td>\n",
       "      <td>1</td>\n",
       "      <td>1</td>\n",
       "      <td>79084.10</td>\n",
       "      <td>0</td>\n",
       "    </tr>\n",
       "  </tbody>\n",
       "</table>\n",
       "</div>"
      ]
     },
     "metadata": {},
     "execution_count": 22
    }
   ],
   "metadata": {}
  },
  {
   "cell_type": "code",
   "execution_count": 23,
   "source": [
    "X = dataset.iloc[:, 3:13].values\r\n",
    "y = dataset.iloc[:, 13].values\r\n",
    "print(\"X >>\\n\",X)\r\n",
    "print(\"y >>\\n\",y)"
   ],
   "outputs": [
    {
     "output_type": "stream",
     "name": "stdout",
     "text": [
      "X >>\n",
      " [[619 'France' 'Female' ... 1 1 101348.88]\n",
      " [608 'Spain' 'Female' ... 0 1 112542.58]\n",
      " [502 'France' 'Female' ... 1 0 113931.57]\n",
      " ...\n",
      " [709 'France' 'Female' ... 0 1 42085.58]\n",
      " [772 'Germany' 'Male' ... 1 0 92888.52]\n",
      " [792 'France' 'Female' ... 1 0 38190.78]]\n",
      "y >>\n",
      " [1 0 1 ... 1 1 0]\n"
     ]
    }
   ],
   "metadata": {}
  },
  {
   "cell_type": "markdown",
   "source": [
    "### Transformando os dados categóricos\n"
   ],
   "metadata": {}
  },
  {
   "cell_type": "code",
   "execution_count": 24,
   "source": [
    "# Label Encoding the \"Gender\" column\r\n",
    "from sklearn.preprocessing import LabelEncoder\r\n",
    "le = LabelEncoder()\r\n",
    "X[:, 2] = le.fit_transform(X[:, 2])\r\n",
    "print(X)\r\n"
   ],
   "outputs": [
    {
     "output_type": "stream",
     "name": "stdout",
     "text": [
      "[[619 'France' 0 ... 1 1 101348.88]\n",
      " [608 'Spain' 0 ... 0 1 112542.58]\n",
      " [502 'France' 0 ... 1 0 113931.57]\n",
      " ...\n",
      " [709 'France' 0 ... 0 1 42085.58]\n",
      " [772 'Germany' 1 ... 1 0 92888.52]\n",
      " [792 'France' 0 ... 1 0 38190.78]]\n"
     ]
    }
   ],
   "metadata": {}
  },
  {
   "cell_type": "code",
   "execution_count": 25,
   "source": [
    "# One Hot Encoding the \"Geography\" column\r\n",
    "from sklearn.compose import ColumnTransformer\r\n",
    "from sklearn.preprocessing import OneHotEncoder\r\n",
    "ct = ColumnTransformer(transformers=[('encoder', OneHotEncoder(), [1])], remainder='passthrough')\r\n",
    "X = np.array(ct.fit_transform(X))\r\n",
    "print(X)"
   ],
   "outputs": [
    {
     "output_type": "stream",
     "name": "stdout",
     "text": [
      "[[1.0 0.0 0.0 ... 1 1 101348.88]\n",
      " [0.0 0.0 1.0 ... 0 1 112542.58]\n",
      " [1.0 0.0 0.0 ... 1 0 113931.57]\n",
      " ...\n",
      " [1.0 0.0 0.0 ... 0 1 42085.58]\n",
      " [0.0 1.0 0.0 ... 1 0 92888.52]\n",
      " [1.0 0.0 0.0 ... 1 0 38190.78]]\n"
     ]
    }
   ],
   "metadata": {}
  },
  {
   "cell_type": "markdown",
   "source": [
    "# Dividindo o dataset em conjunto de treinamento e conjunto de teste"
   ],
   "metadata": {}
  },
  {
   "cell_type": "code",
   "execution_count": 26,
   "source": [
    "from sklearn.model_selection import train_test_split\r\n",
    "X_train, X_test, y_train, y_test = train_test_split(X, y, test_size = 0.20, random_state = 42)"
   ],
   "outputs": [],
   "metadata": {}
  },
  {
   "cell_type": "markdown",
   "source": [
    "# Feature Scaling"
   ],
   "metadata": {}
  },
  {
   "cell_type": "code",
   "execution_count": 27,
   "source": [
    "from sklearn.preprocessing import StandardScaler\r\n",
    "sc = StandardScaler()\r\n",
    "X_train = sc.fit_transform(X_train)\r\n",
    "X_test = sc.transform(X_test)"
   ],
   "outputs": [],
   "metadata": {}
  },
  {
   "cell_type": "code",
   "execution_count": 28,
   "source": [
    "np.shape(X_train)"
   ],
   "outputs": [
    {
     "output_type": "execute_result",
     "data": {
      "text/plain": [
       "(8000, 12)"
      ]
     },
     "metadata": {},
     "execution_count": 28
    }
   ],
   "metadata": {}
  },
  {
   "cell_type": "code",
   "execution_count": 29,
   "source": [
    "X_train"
   ],
   "outputs": [
    {
     "output_type": "execute_result",
     "data": {
      "text/plain": [
       "array([[ 1.00150113, -0.57946723, -0.57638802, ...,  0.64920267,\n",
       "         0.97481699,  1.36766974],\n",
       "       [-0.99850112,  1.72572313, -0.57638802, ...,  0.64920267,\n",
       "         0.97481699,  1.6612541 ],\n",
       "       [-0.99850112, -0.57946723,  1.73494238, ...,  0.64920267,\n",
       "        -1.02583358, -0.25280688],\n",
       "       ...,\n",
       "       [ 1.00150113, -0.57946723, -0.57638802, ..., -1.54035103,\n",
       "        -1.02583358, -0.1427649 ],\n",
       "       [ 1.00150113, -0.57946723, -0.57638802, ...,  0.64920267,\n",
       "        -1.02583358, -0.05082558],\n",
       "       [-0.99850112,  1.72572313, -0.57638802, ...,  0.64920267,\n",
       "         0.97481699, -0.81456811]])"
      ]
     },
     "metadata": {},
     "execution_count": 29
    }
   ],
   "metadata": {}
  },
  {
   "cell_type": "markdown",
   "source": [
    "---\n",
    "# Parte 2 -Vamos construir uma ANN!\n"
   ],
   "metadata": {}
  },
  {
   "cell_type": "markdown",
   "source": [
    "### Initializing the ANN"
   ],
   "metadata": {
    "colab_type": "text",
    "id": "KvdeScabXtlB"
   }
  },
  {
   "cell_type": "code",
   "execution_count": 30,
   "source": [
    "ann = tf.keras.models.Sequential()"
   ],
   "outputs": [],
   "metadata": {
    "colab": {},
    "colab_type": "code",
    "id": "3dtrScHxXQox"
   }
  },
  {
   "cell_type": "markdown",
   "source": [
    "### Adding the input layer and the first hidden layer"
   ],
   "metadata": {
    "colab_type": "text",
    "id": "rP6urV6SX7kS"
   }
  },
  {
   "cell_type": "code",
   "execution_count": 31,
   "source": [
    "ann.add(tf.keras.layers.Dense(units=6, activation='tanh'))"
   ],
   "outputs": [],
   "metadata": {
    "colab": {},
    "colab_type": "code",
    "id": "bppGycBXYCQr"
   }
  },
  {
   "cell_type": "markdown",
   "source": [
    "### Adding the second hidden layer"
   ],
   "metadata": {
    "colab_type": "text",
    "id": "BELWAc_8YJze"
   }
  },
  {
   "cell_type": "code",
   "execution_count": 32,
   "source": [
    "ann.add(tf.keras.layers.Dense(units=6, activation='tanh'))"
   ],
   "outputs": [],
   "metadata": {
    "colab": {},
    "colab_type": "code",
    "id": "JneR0u0sYRTd"
   }
  },
  {
   "cell_type": "markdown",
   "source": [
    "### Adding the output layer"
   ],
   "metadata": {
    "colab_type": "text",
    "id": "OyNEe6RXYcU4"
   }
  },
  {
   "cell_type": "code",
   "execution_count": 33,
   "source": [
    "ann.add(tf.keras.layers.Dense(units=1, activation='sigmoid'))"
   ],
   "outputs": [],
   "metadata": {
    "colab": {},
    "colab_type": "code",
    "id": "Cn3x41RBYfvY"
   }
  },
  {
   "cell_type": "markdown",
   "source": [
    "## Part 3 - Training the ANN"
   ],
   "metadata": {
    "colab_type": "text",
    "id": "JT4u2S1_Y4WG"
   }
  },
  {
   "cell_type": "markdown",
   "source": [
    "### Compiling the ANN"
   ],
   "metadata": {
    "colab_type": "text",
    "id": "8GWlJChhY_ZI"
   }
  },
  {
   "cell_type": "code",
   "execution_count": 34,
   "source": [
    "ann.compile(optimizer = 'Nadam', loss = 'binary_crossentropy', metrics = ['accuracy'])"
   ],
   "outputs": [],
   "metadata": {
    "colab": {},
    "colab_type": "code",
    "id": "fG3RrwDXZEaS"
   }
  },
  {
   "cell_type": "markdown",
   "source": [
    "### Training the ANN on the Training set"
   ],
   "metadata": {
    "colab_type": "text",
    "id": "0QR_G5u7ZLSM"
   }
  },
  {
   "cell_type": "code",
   "execution_count": 35,
   "source": [
    "ann.fit(X_train, y_train, batch_size = 25, epochs = 100)"
   ],
   "outputs": [
    {
     "output_type": "stream",
     "name": "stdout",
     "text": [
      "Epoch 1/100\n",
      "320/320 [==============================] - 3s 4ms/step - loss: 0.5868 - accuracy: 0.6959\n",
      "Epoch 2/100\n",
      "320/320 [==============================] - 2s 7ms/step - loss: 0.4545 - accuracy: 0.8011\n",
      "Epoch 3/100\n",
      "320/320 [==============================] - 1s 3ms/step - loss: 0.4248 - accuracy: 0.8148\n",
      "Epoch 4/100\n",
      "320/320 [==============================] - 1s 3ms/step - loss: 0.4109 - accuracy: 0.8196\n",
      "Epoch 5/100\n",
      "320/320 [==============================] - 1s 3ms/step - loss: 0.3986 - accuracy: 0.8254\n",
      "Epoch 6/100\n",
      "320/320 [==============================] - 1s 3ms/step - loss: 0.3865 - accuracy: 0.8359\n",
      "Epoch 7/100\n",
      "320/320 [==============================] - 1s 3ms/step - loss: 0.3751 - accuracy: 0.8435\n",
      "Epoch 8/100\n",
      "320/320 [==============================] - 1s 3ms/step - loss: 0.3652 - accuracy: 0.8465\n",
      "Epoch 9/100\n",
      "320/320 [==============================] - 1s 4ms/step - loss: 0.3582 - accuracy: 0.8518\n",
      "Epoch 10/100\n",
      "320/320 [==============================] - 1s 4ms/step - loss: 0.3532 - accuracy: 0.8534\n",
      "Epoch 11/100\n",
      "320/320 [==============================] - 1s 3ms/step - loss: 0.3497 - accuracy: 0.8553\n",
      "Epoch 12/100\n",
      "320/320 [==============================] - 1s 2ms/step - loss: 0.3467 - accuracy: 0.8549\n",
      "Epoch 13/100\n",
      "320/320 [==============================] - 1s 3ms/step - loss: 0.3450 - accuracy: 0.8546\n",
      "Epoch 14/100\n",
      "320/320 [==============================] - 1s 3ms/step - loss: 0.3434 - accuracy: 0.8572\n",
      "Epoch 15/100\n",
      "320/320 [==============================] - 1s 3ms/step - loss: 0.3418 - accuracy: 0.8575\n",
      "Epoch 16/100\n",
      "320/320 [==============================] - 1s 4ms/step - loss: 0.3407 - accuracy: 0.8583\n",
      "Epoch 17/100\n",
      "320/320 [==============================] - 1s 5ms/step - loss: 0.3400 - accuracy: 0.8575\n",
      "Epoch 18/100\n",
      "320/320 [==============================] - 1s 4ms/step - loss: 0.3394 - accuracy: 0.8589\n",
      "Epoch 19/100\n",
      "320/320 [==============================] - 2s 5ms/step - loss: 0.3388 - accuracy: 0.8597\n",
      "Epoch 20/100\n",
      "320/320 [==============================] - 1s 3ms/step - loss: 0.3385 - accuracy: 0.8597\n",
      "Epoch 21/100\n",
      "320/320 [==============================] - 1s 4ms/step - loss: 0.3376 - accuracy: 0.8593\n",
      "Epoch 22/100\n",
      "320/320 [==============================] - 2s 5ms/step - loss: 0.3375 - accuracy: 0.8600\n",
      "Epoch 23/100\n",
      "320/320 [==============================] - 1s 4ms/step - loss: 0.3369 - accuracy: 0.8599\n",
      "Epoch 24/100\n",
      "320/320 [==============================] - 1s 4ms/step - loss: 0.3364 - accuracy: 0.8595\n",
      "Epoch 25/100\n",
      "320/320 [==============================] - 1s 4ms/step - loss: 0.3362 - accuracy: 0.8601\n",
      "Epoch 26/100\n",
      "320/320 [==============================] - 1s 5ms/step - loss: 0.3360 - accuracy: 0.8599\n",
      "Epoch 27/100\n",
      "320/320 [==============================] - 1s 4ms/step - loss: 0.3355 - accuracy: 0.8604\n",
      "Epoch 28/100\n",
      "320/320 [==============================] - 1s 3ms/step - loss: 0.3354 - accuracy: 0.8619\n",
      "Epoch 29/100\n",
      "320/320 [==============================] - 1s 5ms/step - loss: 0.3349 - accuracy: 0.8604\n",
      "Epoch 30/100\n",
      "320/320 [==============================] - 2s 5ms/step - loss: 0.3345 - accuracy: 0.8615\n",
      "Epoch 31/100\n",
      "320/320 [==============================] - 1s 2ms/step - loss: 0.3346 - accuracy: 0.8611\n",
      "Epoch 32/100\n",
      "320/320 [==============================] - 1s 2ms/step - loss: 0.3343 - accuracy: 0.8605\n",
      "Epoch 33/100\n",
      "320/320 [==============================] - 1s 2ms/step - loss: 0.3333 - accuracy: 0.8635\n",
      "Epoch 34/100\n",
      "320/320 [==============================] - 1s 2ms/step - loss: 0.3336 - accuracy: 0.8616\n",
      "Epoch 35/100\n",
      "320/320 [==============================] - 1s 2ms/step - loss: 0.3338 - accuracy: 0.8610\n",
      "Epoch 36/100\n",
      "320/320 [==============================] - 1s 3ms/step - loss: 0.3335 - accuracy: 0.8622\n",
      "Epoch 37/100\n",
      "320/320 [==============================] - 1s 3ms/step - loss: 0.3338 - accuracy: 0.8619\n",
      "Epoch 38/100\n",
      "320/320 [==============================] - 1s 2ms/step - loss: 0.3329 - accuracy: 0.8611\n",
      "Epoch 39/100\n",
      "320/320 [==============================] - 1s 4ms/step - loss: 0.3335 - accuracy: 0.8611\n",
      "Epoch 40/100\n",
      "320/320 [==============================] - 1s 3ms/step - loss: 0.3331 - accuracy: 0.8630\n",
      "Epoch 41/100\n",
      "320/320 [==============================] - 1s 4ms/step - loss: 0.3332 - accuracy: 0.8614\n",
      "Epoch 42/100\n",
      "320/320 [==============================] - 2s 6ms/step - loss: 0.3327 - accuracy: 0.8633\n",
      "Epoch 43/100\n",
      "320/320 [==============================] - 1s 3ms/step - loss: 0.3329 - accuracy: 0.8601\n",
      "Epoch 44/100\n",
      "320/320 [==============================] - 1s 3ms/step - loss: 0.3328 - accuracy: 0.8618\n",
      "Epoch 45/100\n",
      "320/320 [==============================] - 1s 3ms/step - loss: 0.3323 - accuracy: 0.8612\n",
      "Epoch 46/100\n",
      "320/320 [==============================] - 1s 3ms/step - loss: 0.3328 - accuracy: 0.8611\n",
      "Epoch 47/100\n",
      "320/320 [==============================] - 1s 3ms/step - loss: 0.3325 - accuracy: 0.8630\n",
      "Epoch 48/100\n",
      "320/320 [==============================] - 1s 3ms/step - loss: 0.3323 - accuracy: 0.8620\n",
      "Epoch 49/100\n",
      "320/320 [==============================] - 1s 2ms/step - loss: 0.3323 - accuracy: 0.8627\n",
      "Epoch 50/100\n",
      "320/320 [==============================] - 1s 2ms/step - loss: 0.3320 - accuracy: 0.8626\n",
      "Epoch 51/100\n",
      "320/320 [==============================] - 2s 5ms/step - loss: 0.3317 - accuracy: 0.8611\n",
      "Epoch 52/100\n",
      "320/320 [==============================] - 1s 3ms/step - loss: 0.3322 - accuracy: 0.8618\n",
      "Epoch 53/100\n",
      "320/320 [==============================] - 1s 2ms/step - loss: 0.3313 - accuracy: 0.8648\n",
      "Epoch 54/100\n",
      "320/320 [==============================] - 1s 2ms/step - loss: 0.3319 - accuracy: 0.8625\n",
      "Epoch 55/100\n",
      "320/320 [==============================] - 1s 2ms/step - loss: 0.3314 - accuracy: 0.8619\n",
      "Epoch 56/100\n",
      "320/320 [==============================] - 1s 3ms/step - loss: 0.3314 - accuracy: 0.8614\n",
      "Epoch 57/100\n",
      "320/320 [==============================] - 1s 2ms/step - loss: 0.3316 - accuracy: 0.8616\n",
      "Epoch 58/100\n",
      "320/320 [==============================] - 1s 2ms/step - loss: 0.3314 - accuracy: 0.8611\n",
      "Epoch 59/100\n",
      "320/320 [==============================] - 1s 2ms/step - loss: 0.3311 - accuracy: 0.8622\n",
      "Epoch 60/100\n",
      "320/320 [==============================] - 1s 2ms/step - loss: 0.3311 - accuracy: 0.8621\n",
      "Epoch 61/100\n",
      "320/320 [==============================] - 1s 2ms/step - loss: 0.3311 - accuracy: 0.8634\n",
      "Epoch 62/100\n",
      "320/320 [==============================] - 1s 2ms/step - loss: 0.3312 - accuracy: 0.8631\n",
      "Epoch 63/100\n",
      "320/320 [==============================] - 1s 3ms/step - loss: 0.3311 - accuracy: 0.8622\n",
      "Epoch 64/100\n",
      "320/320 [==============================] - 1s 5ms/step - loss: 0.3305 - accuracy: 0.8636\n",
      "Epoch 65/100\n",
      "320/320 [==============================] - 1s 3ms/step - loss: 0.3308 - accuracy: 0.8606\n",
      "Epoch 66/100\n",
      "320/320 [==============================] - 1s 2ms/step - loss: 0.3309 - accuracy: 0.8625\n",
      "Epoch 67/100\n",
      "320/320 [==============================] - 1s 2ms/step - loss: 0.3308 - accuracy: 0.8616\n",
      "Epoch 68/100\n",
      "320/320 [==============================] - 1s 2ms/step - loss: 0.3305 - accuracy: 0.8631\n",
      "Epoch 69/100\n",
      "320/320 [==============================] - 1s 2ms/step - loss: 0.3300 - accuracy: 0.8633\n",
      "Epoch 70/100\n",
      "320/320 [==============================] - 1s 2ms/step - loss: 0.3305 - accuracy: 0.8626\n",
      "Epoch 71/100\n",
      "320/320 [==============================] - 1s 3ms/step - loss: 0.3305 - accuracy: 0.8631\n",
      "Epoch 72/100\n",
      "320/320 [==============================] - 1s 2ms/step - loss: 0.3300 - accuracy: 0.8645\n",
      "Epoch 73/100\n",
      "320/320 [==============================] - 1s 2ms/step - loss: 0.3297 - accuracy: 0.8616\n",
      "Epoch 74/100\n",
      "320/320 [==============================] - 1s 2ms/step - loss: 0.3295 - accuracy: 0.8644\n",
      "Epoch 75/100\n",
      "320/320 [==============================] - 1s 2ms/step - loss: 0.3297 - accuracy: 0.8633\n",
      "Epoch 76/100\n",
      "320/320 [==============================] - 1s 2ms/step - loss: 0.3294 - accuracy: 0.8631\n",
      "Epoch 77/100\n",
      "320/320 [==============================] - 1s 2ms/step - loss: 0.3296 - accuracy: 0.8626\n",
      "Epoch 78/100\n",
      "320/320 [==============================] - 1s 2ms/step - loss: 0.3289 - accuracy: 0.8646\n",
      "Epoch 79/100\n",
      "320/320 [==============================] - 1s 2ms/step - loss: 0.3291 - accuracy: 0.8634\n",
      "Epoch 80/100\n",
      "320/320 [==============================] - 1s 2ms/step - loss: 0.3288 - accuracy: 0.8636\n",
      "Epoch 81/100\n",
      "320/320 [==============================] - 1s 2ms/step - loss: 0.3289 - accuracy: 0.8634\n",
      "Epoch 82/100\n",
      "320/320 [==============================] - 1s 2ms/step - loss: 0.3290 - accuracy: 0.8635\n",
      "Epoch 83/100\n",
      "320/320 [==============================] - 1s 2ms/step - loss: 0.3284 - accuracy: 0.8651\n",
      "Epoch 84/100\n",
      "320/320 [==============================] - 1s 2ms/step - loss: 0.3280 - accuracy: 0.8648\n",
      "Epoch 85/100\n",
      "320/320 [==============================] - 1s 2ms/step - loss: 0.3282 - accuracy: 0.8631\n",
      "Epoch 86/100\n",
      "320/320 [==============================] - 1s 2ms/step - loss: 0.3283 - accuracy: 0.8616\n",
      "Epoch 87/100\n",
      "320/320 [==============================] - 1s 2ms/step - loss: 0.3280 - accuracy: 0.8640\n",
      "Epoch 88/100\n",
      "320/320 [==============================] - 2s 5ms/step - loss: 0.3277 - accuracy: 0.8649\n",
      "Epoch 89/100\n",
      "320/320 [==============================] - 1s 4ms/step - loss: 0.3276 - accuracy: 0.8649\n",
      "Epoch 90/100\n",
      "320/320 [==============================] - 1s 4ms/step - loss: 0.3272 - accuracy: 0.8656\n",
      "Epoch 91/100\n",
      "320/320 [==============================] - 2s 5ms/step - loss: 0.3273 - accuracy: 0.8634\n",
      "Epoch 92/100\n",
      "320/320 [==============================] - 1s 3ms/step - loss: 0.3276 - accuracy: 0.8644\n",
      "Epoch 93/100\n",
      "320/320 [==============================] - 1s 3ms/step - loss: 0.3267 - accuracy: 0.8630\n",
      "Epoch 94/100\n",
      "320/320 [==============================] - 1s 3ms/step - loss: 0.3264 - accuracy: 0.8637\n",
      "Epoch 95/100\n",
      "320/320 [==============================] - 1s 4ms/step - loss: 0.3270 - accuracy: 0.8652\n",
      "Epoch 96/100\n",
      "320/320 [==============================] - 1s 4ms/step - loss: 0.3265 - accuracy: 0.8654\n",
      "Epoch 97/100\n",
      "320/320 [==============================] - 1s 4ms/step - loss: 0.3263 - accuracy: 0.8651\n",
      "Epoch 98/100\n",
      "320/320 [==============================] - 1s 3ms/step - loss: 0.3259 - accuracy: 0.8651\n",
      "Epoch 99/100\n",
      "320/320 [==============================] - 1s 4ms/step - loss: 0.3264 - accuracy: 0.8661\n",
      "Epoch 100/100\n",
      "320/320 [==============================] - 2s 5ms/step - loss: 0.3261 - accuracy: 0.8651\n"
     ]
    },
    {
     "output_type": "execute_result",
     "data": {
      "text/plain": [
       "<tensorflow.python.keras.callbacks.History at 0x27f324925b0>"
      ]
     },
     "metadata": {},
     "execution_count": 35
    }
   ],
   "metadata": {
    "colab": {
     "base_uri": "https://localhost:8080/",
     "height": 1000
    },
    "colab_type": "code",
    "id": "nHZ-LKv_ZRb3",
    "outputId": "718cc4b0-b5aa-40f0-9b20-d3d31730a531"
   }
  },
  {
   "cell_type": "markdown",
   "source": [
    "# Parte 3 - Fazendo predições e avaliando o modelo\n",
    "\n",
    "## Prevendo os resultados com o conjunto de testes"
   ],
   "metadata": {}
  },
  {
   "cell_type": "code",
   "execution_count": 36,
   "source": [
    "y_pred = ann.predict(X_test)\r\n",
    "y_pred"
   ],
   "outputs": [
    {
     "output_type": "execute_result",
     "data": {
      "text/plain": [
       "array([[0.04111546],\n",
       "       [0.02528271],\n",
       "       [0.11020672],\n",
       "       ...,\n",
       "       [0.74333847],\n",
       "       [0.13619429],\n",
       "       [0.32705468]], dtype=float32)"
      ]
     },
     "metadata": {},
     "execution_count": 36
    }
   ],
   "metadata": {}
  },
  {
   "cell_type": "code",
   "execution_count": 37,
   "source": [
    "y_pred = (y_pred > 0.5)\r\n",
    "y_pred"
   ],
   "outputs": [
    {
     "output_type": "execute_result",
     "data": {
      "text/plain": [
       "array([[False],\n",
       "       [False],\n",
       "       [False],\n",
       "       ...,\n",
       "       [ True],\n",
       "       [False],\n",
       "       [False]])"
      ]
     },
     "metadata": {},
     "execution_count": 37
    }
   ],
   "metadata": {}
  },
  {
   "cell_type": "markdown",
   "source": [
    "# Criando uma Confusion Matrix"
   ],
   "metadata": {}
  },
  {
   "cell_type": "code",
   "execution_count": 38,
   "source": [
    "from sklearn.metrics import confusion_matrix\r\n",
    "cm = confusion_matrix(y_test, y_pred)\r\n",
    "print(cm)"
   ],
   "outputs": [
    {
     "output_type": "stream",
     "name": "stdout",
     "text": [
      "[[1542   65]\n",
      " [ 206  187]]\n"
     ]
    }
   ],
   "metadata": {}
  },
  {
   "cell_type": "markdown",
   "source": [
    "# FIM"
   ],
   "metadata": {}
  },
  {
   "cell_type": "markdown",
   "source": [
    "> Professor Diego Dorgam  \n",
    "> [@diegodorgam](https://twitter.com/diegodorgam)"
   ],
   "metadata": {}
  },
  {
   "cell_type": "markdown",
   "source": [],
   "metadata": {}
  }
 ],
 "metadata": {
  "kernelspec": {
   "name": "python3",
   "display_name": "Python 3.9.6 64-bit"
  },
  "language_info": {
   "codemirror_mode": {
    "name": "ipython",
    "version": 3
   },
   "file_extension": ".py",
   "mimetype": "text/x-python",
   "name": "python",
   "nbconvert_exporter": "python",
   "pygments_lexer": "ipython3",
   "version": "3.9.6"
  },
  "interpreter": {
   "hash": "0b373b89fa2c4ba65688219934a5fdeebc6fc457dd4f0cf3d78d12d1e5ebef75"
  }
 },
 "nbformat": 4,
 "nbformat_minor": 4
}