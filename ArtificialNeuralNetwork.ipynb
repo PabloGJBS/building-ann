{
 "cells": [
  {
   "cell_type": "markdown",
   "metadata": {},
   "source": [
    "# REDES NEURAIS ARTIFICIAIS\n",
    "\n",
    "[Aula 3 de Deep Learning](http://bit.ly/dn-unb03) da Engenharia de Software da UnB"
   ]
  },
  {
   "cell_type": "markdown",
   "metadata": {},
   "source": [
    "# Parte 1 - Pré-processamento dos Dados"
   ]
  },
  {
   "cell_type": "markdown",
   "metadata": {},
   "source": [
    "### Importar as libs"
   ]
  },
  {
   "cell_type": "code",
   "execution_count": 1,
   "metadata": {
    "colab": {},
    "colab_type": "code",
    "id": "MxkJoQBkUIHC"
   },
   "outputs": [],
   "source": [
    "import numpy as np\n",
    "import pandas as pd\n",
    "import tensorflow as tf"
   ]
  },
  {
   "cell_type": "code",
   "execution_count": 2,
   "metadata": {
    "colab": {
     "base_uri": "https://localhost:8080/",
     "height": 34
    },
    "colab_type": "code",
    "id": "ZaTwK7ojXr2F",
    "outputId": "0b27a96d-d11a-43e8-ab4b-87c1f01896fe"
   },
   "outputs": [
    {
     "data": {
      "text/plain": [
       "'2.2.0'"
      ]
     },
     "execution_count": 2,
     "metadata": {},
     "output_type": "execute_result"
    }
   ],
   "source": [
    "tf.__version__"
   ]
  },
  {
   "cell_type": "markdown",
   "metadata": {},
   "source": [
    "### Importar o dataset"
   ]
  },
  {
   "cell_type": "code",
   "execution_count": 3,
   "metadata": {},
   "outputs": [
    {
     "data": {
      "text/html": [
       "<div>\n",
       "<style scoped>\n",
       "    .dataframe tbody tr th:only-of-type {\n",
       "        vertical-align: middle;\n",
       "    }\n",
       "\n",
       "    .dataframe tbody tr th {\n",
       "        vertical-align: top;\n",
       "    }\n",
       "\n",
       "    .dataframe thead th {\n",
       "        text-align: right;\n",
       "    }\n",
       "</style>\n",
       "<table border=\"1\" class=\"dataframe\">\n",
       "  <thead>\n",
       "    <tr style=\"text-align: right;\">\n",
       "      <th></th>\n",
       "      <th>RowNumber</th>\n",
       "      <th>CustomerId</th>\n",
       "      <th>Surname</th>\n",
       "      <th>CreditScore</th>\n",
       "      <th>Geography</th>\n",
       "      <th>Gender</th>\n",
       "      <th>Age</th>\n",
       "      <th>Tenure</th>\n",
       "      <th>Balance</th>\n",
       "      <th>NumOfProducts</th>\n",
       "      <th>HasCrCard</th>\n",
       "      <th>IsActiveMember</th>\n",
       "      <th>EstimatedSalary</th>\n",
       "      <th>Exited</th>\n",
       "    </tr>\n",
       "  </thead>\n",
       "  <tbody>\n",
       "    <tr>\n",
       "      <th>0</th>\n",
       "      <td>1</td>\n",
       "      <td>15634602</td>\n",
       "      <td>Hargrave</td>\n",
       "      <td>619</td>\n",
       "      <td>France</td>\n",
       "      <td>Female</td>\n",
       "      <td>42</td>\n",
       "      <td>2</td>\n",
       "      <td>0.00</td>\n",
       "      <td>1</td>\n",
       "      <td>1</td>\n",
       "      <td>1</td>\n",
       "      <td>101348.88</td>\n",
       "      <td>1</td>\n",
       "    </tr>\n",
       "    <tr>\n",
       "      <th>1</th>\n",
       "      <td>2</td>\n",
       "      <td>15647311</td>\n",
       "      <td>Hill</td>\n",
       "      <td>608</td>\n",
       "      <td>Spain</td>\n",
       "      <td>Female</td>\n",
       "      <td>41</td>\n",
       "      <td>1</td>\n",
       "      <td>83807.86</td>\n",
       "      <td>1</td>\n",
       "      <td>0</td>\n",
       "      <td>1</td>\n",
       "      <td>112542.58</td>\n",
       "      <td>0</td>\n",
       "    </tr>\n",
       "    <tr>\n",
       "      <th>2</th>\n",
       "      <td>3</td>\n",
       "      <td>15619304</td>\n",
       "      <td>Onio</td>\n",
       "      <td>502</td>\n",
       "      <td>France</td>\n",
       "      <td>Female</td>\n",
       "      <td>42</td>\n",
       "      <td>8</td>\n",
       "      <td>159660.80</td>\n",
       "      <td>3</td>\n",
       "      <td>1</td>\n",
       "      <td>0</td>\n",
       "      <td>113931.57</td>\n",
       "      <td>1</td>\n",
       "    </tr>\n",
       "    <tr>\n",
       "      <th>3</th>\n",
       "      <td>4</td>\n",
       "      <td>15701354</td>\n",
       "      <td>Boni</td>\n",
       "      <td>699</td>\n",
       "      <td>France</td>\n",
       "      <td>Female</td>\n",
       "      <td>39</td>\n",
       "      <td>1</td>\n",
       "      <td>0.00</td>\n",
       "      <td>2</td>\n",
       "      <td>0</td>\n",
       "      <td>0</td>\n",
       "      <td>93826.63</td>\n",
       "      <td>0</td>\n",
       "    </tr>\n",
       "    <tr>\n",
       "      <th>4</th>\n",
       "      <td>5</td>\n",
       "      <td>15737888</td>\n",
       "      <td>Mitchell</td>\n",
       "      <td>850</td>\n",
       "      <td>Spain</td>\n",
       "      <td>Female</td>\n",
       "      <td>43</td>\n",
       "      <td>2</td>\n",
       "      <td>125510.82</td>\n",
       "      <td>1</td>\n",
       "      <td>1</td>\n",
       "      <td>1</td>\n",
       "      <td>79084.10</td>\n",
       "      <td>0</td>\n",
       "    </tr>\n",
       "  </tbody>\n",
       "</table>\n",
       "</div>"
      ],
      "text/plain": [
       "   RowNumber  CustomerId   Surname  CreditScore Geography  Gender  Age  \\\n",
       "0          1    15634602  Hargrave          619    France  Female   42   \n",
       "1          2    15647311      Hill          608     Spain  Female   41   \n",
       "2          3    15619304      Onio          502    France  Female   42   \n",
       "3          4    15701354      Boni          699    France  Female   39   \n",
       "4          5    15737888  Mitchell          850     Spain  Female   43   \n",
       "\n",
       "   Tenure    Balance  NumOfProducts  HasCrCard  IsActiveMember  \\\n",
       "0       2       0.00              1          1               1   \n",
       "1       1   83807.86              1          0               1   \n",
       "2       8  159660.80              3          1               0   \n",
       "3       1       0.00              2          0               0   \n",
       "4       2  125510.82              1          1               1   \n",
       "\n",
       "   EstimatedSalary  Exited  \n",
       "0        101348.88       1  \n",
       "1        112542.58       0  \n",
       "2        113931.57       1  \n",
       "3         93826.63       0  \n",
       "4         79084.10       0  "
      ]
     },
     "execution_count": 3,
     "metadata": {},
     "output_type": "execute_result"
    }
   ],
   "source": [
    "dataset = pd.read_csv('Churn_Modelling.csv')\n",
    "dataset.head()"
   ]
  },
  {
   "cell_type": "code",
   "execution_count": 4,
   "metadata": {},
   "outputs": [
    {
     "name": "stdout",
     "output_type": "stream",
     "text": [
      "X >>\n",
      " [[619 'France' 'Female' ... 1 1 101348.88]\n",
      " [608 'Spain' 'Female' ... 0 1 112542.58]\n",
      " [502 'France' 'Female' ... 1 0 113931.57]\n",
      " ...\n",
      " [709 'France' 'Female' ... 0 1 42085.58]\n",
      " [772 'Germany' 'Male' ... 1 0 92888.52]\n",
      " [792 'France' 'Female' ... 1 0 38190.78]]\n",
      "y >>\n",
      " [1 0 1 ... 1 1 0]\n"
     ]
    }
   ],
   "source": [
    "X = dataset.iloc[:, 3:13].values\n",
    "y = dataset.iloc[:, 13].values\n",
    "print(\"X >>\\n\",X)\n",
    "print(\"y >>\\n\",y)"
   ]
  },
  {
   "cell_type": "markdown",
   "metadata": {},
   "source": [
    "### Transformando os dados categóricos\n"
   ]
  },
  {
   "cell_type": "code",
   "execution_count": 5,
   "metadata": {},
   "outputs": [
    {
     "name": "stdout",
     "output_type": "stream",
     "text": [
      "[[619 'France' 0 ... 1 1 101348.88]\n",
      " [608 'Spain' 0 ... 0 1 112542.58]\n",
      " [502 'France' 0 ... 1 0 113931.57]\n",
      " ...\n",
      " [709 'France' 0 ... 0 1 42085.58]\n",
      " [772 'Germany' 1 ... 1 0 92888.52]\n",
      " [792 'France' 0 ... 1 0 38190.78]]\n",
      "[[1.0 0.0 0.0 ... 1 1 101348.88]\n",
      " [0.0 0.0 1.0 ... 0 1 112542.58]\n",
      " [1.0 0.0 0.0 ... 1 0 113931.57]\n",
      " ...\n",
      " [1.0 0.0 0.0 ... 0 1 42085.58]\n",
      " [0.0 1.0 0.0 ... 1 0 92888.52]\n",
      " [1.0 0.0 0.0 ... 1 0 38190.78]]\n"
     ]
    }
   ],
   "source": [
    "# Label Encoding the \"Gender\" column\n",
    "from sklearn.preprocessing import LabelEncoder\n",
    "le = LabelEncoder()\n",
    "X[:, 2] = le.fit_transform(X[:, 2])\n",
    "print(X)\n",
    "# One Hot Encoding the \"Geography\" column\n",
    "from sklearn.compose import ColumnTransformer\n",
    "from sklearn.preprocessing import OneHotEncoder\n",
    "ct = ColumnTransformer(transformers=[('encoder', OneHotEncoder(), [1])], remainder='passthrough')\n",
    "X = np.array(ct.fit_transform(X))\n",
    "print(X)"
   ]
  },
  {
   "cell_type": "markdown",
   "metadata": {},
   "source": [
    "# Dividindo o dataset em conjunto de treinamento e conjunto de teste"
   ]
  },
  {
   "cell_type": "code",
   "execution_count": 6,
   "metadata": {},
   "outputs": [],
   "source": [
    "from sklearn.model_selection import train_test_split\n",
    "X_train, X_test, y_train, y_test = train_test_split(X, y, test_size = 0.2, random_state = 0)"
   ]
  },
  {
   "cell_type": "markdown",
   "metadata": {},
   "source": [
    "# Feature Scaling"
   ]
  },
  {
   "cell_type": "code",
   "execution_count": 7,
   "metadata": {},
   "outputs": [],
   "source": [
    "from sklearn.preprocessing import StandardScaler\n",
    "sc = StandardScaler()\n",
    "X_train = sc.fit_transform(X_train)\n",
    "X_test = sc.transform(X_test)"
   ]
  },
  {
   "cell_type": "code",
   "execution_count": 8,
   "metadata": {},
   "outputs": [
    {
     "data": {
      "text/plain": [
       "(8000, 12)"
      ]
     },
     "execution_count": 8,
     "metadata": {},
     "output_type": "execute_result"
    }
   ],
   "source": [
    "np.shape(X_train)"
   ]
  },
  {
   "cell_type": "markdown",
   "metadata": {},
   "source": [
    "---\n",
    "# Parte 2 -Vamos construir uma ANN!\n"
   ]
  },
  {
   "cell_type": "markdown",
   "metadata": {
    "colab_type": "text",
    "id": "KvdeScabXtlB"
   },
   "source": [
    "### Initializing the ANN"
   ]
  },
  {
   "cell_type": "code",
   "execution_count": 9,
   "metadata": {
    "colab": {},
    "colab_type": "code",
    "id": "3dtrScHxXQox"
   },
   "outputs": [],
   "source": [
    "ann = tf.keras.models.Sequential()"
   ]
  },
  {
   "cell_type": "markdown",
   "metadata": {
    "colab_type": "text",
    "id": "rP6urV6SX7kS"
   },
   "source": [
    "### Adding the input layer and the first hidden layer"
   ]
  },
  {
   "cell_type": "code",
   "execution_count": 10,
   "metadata": {},
   "outputs": [],
   "source": [
    "ann.add(tf.keras.layers.Dense(64, kernel_initializer='lecun_normal', activation='selu'))"
   ]
  },
  {
   "cell_type": "code",
   "execution_count": 11,
   "metadata": {
    "colab": {},
    "colab_type": "code",
    "id": "bppGycBXYCQr"
   },
   "outputs": [],
   "source": [
    "#ann.add(tf.keras.layers.Dense(units=12, activation='relu'))"
   ]
  },
  {
   "cell_type": "markdown",
   "metadata": {
    "colab_type": "text",
    "id": "BELWAc_8YJze"
   },
   "source": [
    "### Adding the second hidden layer"
   ]
  },
  {
   "cell_type": "code",
   "execution_count": 12,
   "metadata": {
    "colab": {},
    "colab_type": "code",
    "id": "JneR0u0sYRTd"
   },
   "outputs": [],
   "source": [
    "#ann.add(tf.keras.layers.Dense(units=12, activation='relu'))"
   ]
  },
  {
   "cell_type": "code",
   "execution_count": 13,
   "metadata": {},
   "outputs": [],
   "source": [
    "ann.add(tf.keras.layers.Dense(32, kernel_initializer='lecun_normal', activation='selu'))"
   ]
  },
  {
   "cell_type": "markdown",
   "metadata": {
    "colab_type": "text",
    "id": "OyNEe6RXYcU4"
   },
   "source": [
    "### Adding the output layer"
   ]
  },
  {
   "cell_type": "code",
   "execution_count": 14,
   "metadata": {
    "colab": {},
    "colab_type": "code",
    "id": "Cn3x41RBYfvY"
   },
   "outputs": [],
   "source": [
    "#ann.add(tf.keras.layers.Dense(units=1, activation='sigmoid'))"
   ]
  },
  {
   "cell_type": "code",
   "execution_count": 15,
   "metadata": {},
   "outputs": [],
   "source": [
    "ann.add(tf.keras.layers.Dense(16, kernel_initializer='lecun_normal', activation='selu'))\n",
    "ann.add(tf.keras.layers.Dense(10, activation='softmax'))"
   ]
  },
  {
   "cell_type": "code",
   "execution_count": 16,
   "metadata": {},
   "outputs": [],
   "source": [
    "ann.add(tf.keras.layers.Dense(units=1, activation='sigmoid'))"
   ]
  },
  {
   "cell_type": "markdown",
   "metadata": {
    "colab_type": "text",
    "id": "JT4u2S1_Y4WG"
   },
   "source": [
    "## Part 3 - Training the ANN"
   ]
  },
  {
   "cell_type": "markdown",
   "metadata": {
    "colab_type": "text",
    "id": "8GWlJChhY_ZI"
   },
   "source": [
    "### Compiling the ANN"
   ]
  },
  {
   "cell_type": "code",
   "execution_count": 17,
   "metadata": {
    "colab": {},
    "colab_type": "code",
    "id": "fG3RrwDXZEaS"
   },
   "outputs": [],
   "source": [
    "ann.compile(optimizer = 'adam', loss = 'binary_crossentropy', metrics = ['accuracy'])"
   ]
  },
  {
   "cell_type": "markdown",
   "metadata": {
    "colab_type": "text",
    "id": "0QR_G5u7ZLSM"
   },
   "source": [
    "### Training the ANN on the Training set"
   ]
  },
  {
   "cell_type": "code",
   "execution_count": 18,
   "metadata": {
    "colab": {
     "base_uri": "https://localhost:8080/",
     "height": 1000
    },
    "colab_type": "code",
    "id": "nHZ-LKv_ZRb3",
    "outputId": "718cc4b0-b5aa-40f0-9b20-d3d31730a531"
   },
   "outputs": [
    {
     "name": "stdout",
     "output_type": "stream",
     "text": [
      "Epoch 1/100\n",
      "250/250 [==============================] - 0s 565us/step - loss: 0.5641 - accuracy: 0.1009\n",
      "Epoch 2/100\n",
      "250/250 [==============================] - 0s 543us/step - loss: 0.5554 - accuracy: 0.0932\n",
      "Epoch 3/100\n",
      "250/250 [==============================] - 0s 539us/step - loss: 0.5546 - accuracy: 0.0941\n",
      "Epoch 4/100\n",
      "250/250 [==============================] - 0s 577us/step - loss: 0.5542 - accuracy: 0.0976\n",
      "Epoch 5/100\n",
      "250/250 [==============================] - 0s 556us/step - loss: 0.5540 - accuracy: 0.0920\n",
      "Epoch 6/100\n",
      "250/250 [==============================] - 0s 553us/step - loss: 0.5539 - accuracy: 0.0940\n",
      "Epoch 7/100\n",
      "250/250 [==============================] - 0s 613us/step - loss: 0.5538 - accuracy: 0.0844\n",
      "Epoch 8/100\n",
      "250/250 [==============================] - 0s 567us/step - loss: 0.5538 - accuracy: 0.0839\n",
      "Epoch 9/100\n",
      "250/250 [==============================] - 0s 556us/step - loss: 0.5537 - accuracy: 0.0833\n",
      "Epoch 10/100\n",
      "250/250 [==============================] - 0s 562us/step - loss: 0.5537 - accuracy: 0.0766\n",
      "Epoch 11/100\n",
      "250/250 [==============================] - 0s 560us/step - loss: 0.5537 - accuracy: 0.0739\n",
      "Epoch 12/100\n",
      "250/250 [==============================] - 0s 537us/step - loss: 0.5537 - accuracy: 0.0752\n",
      "Epoch 13/100\n",
      "250/250 [==============================] - 0s 584us/step - loss: 0.5537 - accuracy: 0.0724\n",
      "Epoch 14/100\n",
      "250/250 [==============================] - 0s 582us/step - loss: 0.5536 - accuracy: 0.0694\n",
      "Epoch 15/100\n",
      "250/250 [==============================] - 0s 549us/step - loss: 0.5536 - accuracy: 0.0642\n",
      "Epoch 16/100\n",
      "250/250 [==============================] - 0s 619us/step - loss: 0.5536 - accuracy: 0.0731\n",
      "Epoch 17/100\n",
      "250/250 [==============================] - 0s 536us/step - loss: 0.5536 - accuracy: 0.0739\n",
      "Epoch 18/100\n",
      "250/250 [==============================] - 0s 526us/step - loss: 0.5536 - accuracy: 0.0763\n",
      "Epoch 19/100\n",
      "250/250 [==============================] - 0s 526us/step - loss: 0.5536 - accuracy: 0.0719\n",
      "Epoch 20/100\n",
      "250/250 [==============================] - 0s 514us/step - loss: 0.5536 - accuracy: 0.0752\n",
      "Epoch 21/100\n",
      "250/250 [==============================] - 0s 511us/step - loss: 0.5536 - accuracy: 0.0695\n",
      "Epoch 22/100\n",
      "250/250 [==============================] - 0s 500us/step - loss: 0.5536 - accuracy: 0.0764\n",
      "Epoch 23/100\n",
      "250/250 [==============================] - 0s 500us/step - loss: 0.5536 - accuracy: 0.0645\n",
      "Epoch 24/100\n",
      "250/250 [==============================] - 0s 508us/step - loss: 0.5536 - accuracy: 0.0665\n",
      "Epoch 25/100\n",
      "250/250 [==============================] - 0s 519us/step - loss: 0.5536 - accuracy: 0.0677\n",
      "Epoch 26/100\n",
      "250/250 [==============================] - 0s 505us/step - loss: 0.5536 - accuracy: 0.0812\n",
      "Epoch 27/100\n",
      "250/250 [==============================] - 0s 509us/step - loss: 0.5536 - accuracy: 0.0721\n",
      "Epoch 28/100\n",
      "250/250 [==============================] - 0s 493us/step - loss: 0.5536 - accuracy: 0.0679\n",
      "Epoch 29/100\n",
      "250/250 [==============================] - 0s 517us/step - loss: 0.5536 - accuracy: 0.0683\n",
      "Epoch 30/100\n",
      "250/250 [==============================] - 0s 547us/step - loss: 0.5536 - accuracy: 0.0755\n",
      "Epoch 31/100\n",
      "250/250 [==============================] - 0s 532us/step - loss: 0.5536 - accuracy: 0.0665\n",
      "Epoch 32/100\n",
      "250/250 [==============================] - 0s 527us/step - loss: 0.5536 - accuracy: 0.0500\n",
      "Epoch 33/100\n",
      "250/250 [==============================] - 0s 507us/step - loss: 0.5536 - accuracy: 0.0714\n",
      "Epoch 34/100\n",
      "250/250 [==============================] - 0s 510us/step - loss: 0.5536 - accuracy: 0.0679\n",
      "Epoch 35/100\n",
      "250/250 [==============================] - 0s 516us/step - loss: 0.5536 - accuracy: 0.0599\n",
      "Epoch 36/100\n",
      "250/250 [==============================] - 0s 514us/step - loss: 0.5536 - accuracy: 0.0599\n",
      "Epoch 37/100\n",
      "250/250 [==============================] - 0s 510us/step - loss: 0.5536 - accuracy: 0.0625\n",
      "Epoch 38/100\n",
      "250/250 [==============================] - 0s 504us/step - loss: 0.5536 - accuracy: 0.0582\n",
      "Epoch 39/100\n",
      "250/250 [==============================] - 0s 495us/step - loss: 0.5536 - accuracy: 0.0516\n",
      "Epoch 40/100\n",
      "250/250 [==============================] - 0s 506us/step - loss: 0.5536 - accuracy: 0.0658\n",
      "Epoch 41/100\n",
      "250/250 [==============================] - 0s 502us/step - loss: 0.5536 - accuracy: 0.0635\n",
      "Epoch 42/100\n",
      "250/250 [==============================] - 0s 508us/step - loss: 0.5536 - accuracy: 0.0769\n",
      "Epoch 43/100\n",
      "250/250 [==============================] - 0s 511us/step - loss: 0.5536 - accuracy: 0.0593\n",
      "Epoch 44/100\n",
      "250/250 [==============================] - 0s 512us/step - loss: 0.5536 - accuracy: 0.0800\n",
      "Epoch 45/100\n",
      "250/250 [==============================] - 0s 520us/step - loss: 0.5536 - accuracy: 0.0693\n",
      "Epoch 46/100\n",
      "250/250 [==============================] - 0s 515us/step - loss: 0.5536 - accuracy: 0.0686\n",
      "Epoch 47/100\n",
      "250/250 [==============================] - 0s 521us/step - loss: 0.5536 - accuracy: 0.0556\n",
      "Epoch 48/100\n",
      "250/250 [==============================] - 0s 497us/step - loss: 0.5536 - accuracy: 0.0582\n",
      "Epoch 49/100\n",
      "250/250 [==============================] - 0s 505us/step - loss: 0.5536 - accuracy: 0.0759\n",
      "Epoch 50/100\n",
      "250/250 [==============================] - 0s 507us/step - loss: 0.5536 - accuracy: 0.0631\n",
      "Epoch 51/100\n",
      "250/250 [==============================] - 0s 535us/step - loss: 0.5536 - accuracy: 0.0661\n",
      "Epoch 52/100\n",
      "250/250 [==============================] - 0s 556us/step - loss: 0.5536 - accuracy: 0.0694\n",
      "Epoch 53/100\n",
      "250/250 [==============================] - 0s 506us/step - loss: 0.5536 - accuracy: 0.0574\n",
      "Epoch 54/100\n",
      "250/250 [==============================] - 0s 498us/step - loss: 0.5536 - accuracy: 0.0845\n",
      "Epoch 55/100\n",
      "250/250 [==============================] - 0s 493us/step - loss: 0.5536 - accuracy: 0.0910\n",
      "Epoch 56/100\n",
      "250/250 [==============================] - 0s 497us/step - loss: 0.5536 - accuracy: 0.0756\n",
      "Epoch 57/100\n",
      "250/250 [==============================] - 0s 522us/step - loss: 0.5536 - accuracy: 0.0601\n",
      "Epoch 58/100\n",
      "250/250 [==============================] - 0s 545us/step - loss: 0.5536 - accuracy: 0.0585\n",
      "Epoch 59/100\n",
      "250/250 [==============================] - 0s 526us/step - loss: 0.5536 - accuracy: 0.0670\n",
      "Epoch 60/100\n",
      "250/250 [==============================] - 0s 495us/step - loss: 0.5536 - accuracy: 0.0684\n",
      "Epoch 61/100\n",
      "250/250 [==============================] - 0s 494us/step - loss: 0.5536 - accuracy: 0.0706\n",
      "Epoch 62/100\n",
      "250/250 [==============================] - 0s 505us/step - loss: 0.5536 - accuracy: 0.0579\n",
      "Epoch 63/100\n",
      "250/250 [==============================] - 0s 507us/step - loss: 0.5536 - accuracy: 0.0714\n",
      "Epoch 64/100\n",
      "250/250 [==============================] - 0s 527us/step - loss: 0.5536 - accuracy: 0.0515\n",
      "Epoch 65/100\n",
      "250/250 [==============================] - 0s 566us/step - loss: 0.5536 - accuracy: 0.0765\n",
      "Epoch 66/100\n",
      "250/250 [==============================] - 0s 524us/step - loss: 0.5536 - accuracy: 0.0579\n",
      "Epoch 67/100\n",
      "250/250 [==============================] - 0s 530us/step - loss: 0.5536 - accuracy: 0.0575\n",
      "Epoch 68/100\n",
      "250/250 [==============================] - 0s 559us/step - loss: 0.5536 - accuracy: 0.0686\n",
      "Epoch 69/100\n",
      "250/250 [==============================] - 0s 532us/step - loss: 0.5536 - accuracy: 0.0525\n",
      "Epoch 70/100\n",
      "250/250 [==============================] - 0s 540us/step - loss: 0.5536 - accuracy: 0.1248\n",
      "Epoch 71/100\n",
      "250/250 [==============================] - 0s 531us/step - loss: 0.5536 - accuracy: 0.0865\n",
      "Epoch 72/100\n",
      "250/250 [==============================] - 0s 528us/step - loss: 0.5536 - accuracy: 0.0465\n",
      "Epoch 73/100\n",
      "250/250 [==============================] - 0s 517us/step - loss: 0.5536 - accuracy: 0.0373\n",
      "Epoch 74/100\n",
      "250/250 [==============================] - 0s 536us/step - loss: 0.5536 - accuracy: 0.0710\n",
      "Epoch 75/100\n",
      "250/250 [==============================] - 0s 523us/step - loss: 0.5536 - accuracy: 0.0430\n",
      "Epoch 76/100\n",
      "250/250 [==============================] - 0s 509us/step - loss: 0.5536 - accuracy: 0.0613\n",
      "Epoch 77/100\n",
      "250/250 [==============================] - 0s 511us/step - loss: 0.5536 - accuracy: 0.0776\n",
      "Epoch 78/100\n",
      "250/250 [==============================] - 0s 504us/step - loss: 0.5536 - accuracy: 0.0851\n",
      "Epoch 79/100\n"
     ]
    },
    {
     "name": "stdout",
     "output_type": "stream",
     "text": [
      "250/250 [==============================] - 0s 512us/step - loss: 0.5536 - accuracy: 0.1028\n",
      "Epoch 80/100\n",
      "250/250 [==============================] - 0s 501us/step - loss: 0.5536 - accuracy: 0.0769\n",
      "Epoch 81/100\n",
      "250/250 [==============================] - 0s 501us/step - loss: 0.5536 - accuracy: 0.1064\n",
      "Epoch 82/100\n",
      "250/250 [==============================] - 0s 490us/step - loss: 0.5536 - accuracy: 0.0971\n",
      "Epoch 83/100\n",
      "250/250 [==============================] - 0s 498us/step - loss: 0.5536 - accuracy: 0.0675\n",
      "Epoch 84/100\n",
      "250/250 [==============================] - 0s 512us/step - loss: 0.5536 - accuracy: 0.1260\n",
      "Epoch 85/100\n",
      "250/250 [==============================] - 0s 533us/step - loss: 0.5536 - accuracy: 0.0608\n",
      "Epoch 86/100\n",
      "250/250 [==============================] - 0s 548us/step - loss: 0.5536 - accuracy: 0.0532\n",
      "Epoch 87/100\n",
      "250/250 [==============================] - 0s 533us/step - loss: 0.5536 - accuracy: 0.0780\n",
      "Epoch 88/100\n",
      "250/250 [==============================] - 0s 506us/step - loss: 0.5536 - accuracy: 0.0555\n",
      "Epoch 89/100\n",
      "250/250 [==============================] - 0s 499us/step - loss: 0.5536 - accuracy: 0.0671\n",
      "Epoch 90/100\n",
      "250/250 [==============================] - 0s 504us/step - loss: 0.5536 - accuracy: 0.0836\n",
      "Epoch 91/100\n",
      "250/250 [==============================] - 0s 518us/step - loss: 0.5536 - accuracy: 0.0840\n",
      "Epoch 92/100\n",
      "250/250 [==============================] - 0s 541us/step - loss: 0.5536 - accuracy: 0.0948\n",
      "Epoch 93/100\n",
      "250/250 [==============================] - 0s 524us/step - loss: 0.5536 - accuracy: 0.0899\n",
      "Epoch 94/100\n",
      "250/250 [==============================] - 0s 514us/step - loss: 0.5536 - accuracy: 0.0765\n",
      "Epoch 95/100\n",
      "250/250 [==============================] - 0s 527us/step - loss: 0.5536 - accuracy: 0.0664\n",
      "Epoch 96/100\n",
      "250/250 [==============================] - 0s 522us/step - loss: 0.5536 - accuracy: 0.1409\n",
      "Epoch 97/100\n",
      "250/250 [==============================] - 0s 515us/step - loss: 0.5536 - accuracy: 0.0550\n",
      "Epoch 98/100\n",
      "250/250 [==============================] - 0s 506us/step - loss: 0.5536 - accuracy: 0.1423\n",
      "Epoch 99/100\n",
      "250/250 [==============================] - 0s 534us/step - loss: 0.5536 - accuracy: 0.0702\n",
      "Epoch 100/100\n",
      "250/250 [==============================] - 0s 535us/step - loss: 0.5536 - accuracy: 0.0639\n"
     ]
    },
    {
     "data": {
      "text/plain": [
       "<tensorflow.python.keras.callbacks.History at 0x7f7090494cd0>"
      ]
     },
     "execution_count": 18,
     "metadata": {},
     "output_type": "execute_result"
    }
   ],
   "source": [
    "ann.fit(X_train, y_train, batch_size = 32, epochs = 100)"
   ]
  },
  {
   "cell_type": "markdown",
   "metadata": {},
   "source": [
    "# Parte 3 - Fazendo predições e avaliando o modelo\n",
    "\n",
    "## Prevendo os resultados com o conjunto de testes"
   ]
  },
  {
   "cell_type": "code",
   "execution_count": 19,
   "metadata": {},
   "outputs": [
    {
     "data": {
      "text/plain": [
       "array([[0.09998748, 0.10000029, 0.10005578, ..., 0.09993683, 0.09996992,\n",
       "        0.10004209],\n",
       "       [0.09999616, 0.09999076, 0.0999281 , ..., 0.10003062, 0.100092  ,\n",
       "        0.09993714],\n",
       "       [0.10006294, 0.09997555, 0.10005169, ..., 0.09984722, 0.1000784 ,\n",
       "        0.09998   ],\n",
       "       ...,\n",
       "       [0.10007229, 0.09999349, 0.10003654, ..., 0.09997302, 0.10005049,\n",
       "        0.09994376],\n",
       "       [0.09999897, 0.09997822, 0.10004406, ..., 0.09999807, 0.09992399,\n",
       "        0.10001165],\n",
       "       [0.10001615, 0.10001513, 0.1001041 , ..., 0.09991575, 0.09993739,\n",
       "        0.10009843]], dtype=float32)"
      ]
     },
     "execution_count": 19,
     "metadata": {},
     "output_type": "execute_result"
    }
   ],
   "source": [
    "y_pred = ann.predict(X_test)\n",
    "y_pred"
   ]
  },
  {
   "cell_type": "code",
   "execution_count": 20,
   "metadata": {},
   "outputs": [
    {
     "data": {
      "text/plain": [
       "array([[False, False, False, ..., False, False, False],\n",
       "       [False, False, False, ..., False, False, False],\n",
       "       [False, False, False, ..., False, False, False],\n",
       "       ...,\n",
       "       [False, False, False, ..., False, False, False],\n",
       "       [False, False, False, ..., False, False, False],\n",
       "       [False, False, False, ..., False, False, False]])"
      ]
     },
     "execution_count": 20,
     "metadata": {},
     "output_type": "execute_result"
    }
   ],
   "source": [
    "y_pred = (y_pred > 0.5)\n",
    "y_pred"
   ]
  },
  {
   "cell_type": "markdown",
   "metadata": {},
   "source": [
    "# Criando uma Confusion Matrix"
   ]
  },
  {
   "cell_type": "code",
   "execution_count": 21,
   "metadata": {},
   "outputs": [
    {
     "ename": "ValueError",
     "evalue": "Classification metrics can't handle a mix of binary and multilabel-indicator targets",
     "output_type": "error",
     "traceback": [
      "\u001b[0;31m---------------------------------------------------------------------------\u001b[0m",
      "\u001b[0;31mValueError\u001b[0m                                Traceback (most recent call last)",
      "\u001b[0;32m<ipython-input-21-630348889997>\u001b[0m in \u001b[0;36m<module>\u001b[0;34m\u001b[0m\n\u001b[1;32m      1\u001b[0m \u001b[0;32mfrom\u001b[0m \u001b[0msklearn\u001b[0m\u001b[0;34m.\u001b[0m\u001b[0mmetrics\u001b[0m \u001b[0;32mimport\u001b[0m \u001b[0mconfusion_matrix\u001b[0m\u001b[0;34m\u001b[0m\u001b[0;34m\u001b[0m\u001b[0m\n\u001b[0;32m----> 2\u001b[0;31m \u001b[0mcm\u001b[0m \u001b[0;34m=\u001b[0m \u001b[0mconfusion_matrix\u001b[0m\u001b[0;34m(\u001b[0m\u001b[0my_test\u001b[0m\u001b[0;34m,\u001b[0m \u001b[0my_pred\u001b[0m\u001b[0;34m)\u001b[0m\u001b[0;34m\u001b[0m\u001b[0;34m\u001b[0m\u001b[0m\n\u001b[0m\u001b[1;32m      3\u001b[0m \u001b[0mprint\u001b[0m\u001b[0;34m(\u001b[0m\u001b[0mcm\u001b[0m\u001b[0;34m)\u001b[0m\u001b[0;34m\u001b[0m\u001b[0;34m\u001b[0m\u001b[0m\n",
      "\u001b[0;32m~/.local/lib/python3.8/site-packages/sklearn/utils/validation.py\u001b[0m in \u001b[0;36minner_f\u001b[0;34m(*args, **kwargs)\u001b[0m\n\u001b[1;32m     61\u001b[0m             \u001b[0mextra_args\u001b[0m \u001b[0;34m=\u001b[0m \u001b[0mlen\u001b[0m\u001b[0;34m(\u001b[0m\u001b[0margs\u001b[0m\u001b[0;34m)\u001b[0m \u001b[0;34m-\u001b[0m \u001b[0mlen\u001b[0m\u001b[0;34m(\u001b[0m\u001b[0mall_args\u001b[0m\u001b[0;34m)\u001b[0m\u001b[0;34m\u001b[0m\u001b[0;34m\u001b[0m\u001b[0m\n\u001b[1;32m     62\u001b[0m             \u001b[0;32mif\u001b[0m \u001b[0mextra_args\u001b[0m \u001b[0;34m<=\u001b[0m \u001b[0;36m0\u001b[0m\u001b[0;34m:\u001b[0m\u001b[0;34m\u001b[0m\u001b[0;34m\u001b[0m\u001b[0m\n\u001b[0;32m---> 63\u001b[0;31m                 \u001b[0;32mreturn\u001b[0m \u001b[0mf\u001b[0m\u001b[0;34m(\u001b[0m\u001b[0;34m*\u001b[0m\u001b[0margs\u001b[0m\u001b[0;34m,\u001b[0m \u001b[0;34m**\u001b[0m\u001b[0mkwargs\u001b[0m\u001b[0;34m)\u001b[0m\u001b[0;34m\u001b[0m\u001b[0;34m\u001b[0m\u001b[0m\n\u001b[0m\u001b[1;32m     64\u001b[0m \u001b[0;34m\u001b[0m\u001b[0m\n\u001b[1;32m     65\u001b[0m             \u001b[0;31m# extra_args > 0\u001b[0m\u001b[0;34m\u001b[0m\u001b[0;34m\u001b[0m\u001b[0;34m\u001b[0m\u001b[0m\n",
      "\u001b[0;32m~/.local/lib/python3.8/site-packages/sklearn/metrics/_classification.py\u001b[0m in \u001b[0;36mconfusion_matrix\u001b[0;34m(y_true, y_pred, labels, sample_weight, normalize)\u001b[0m\n\u001b[1;32m    294\u001b[0m \u001b[0;34m\u001b[0m\u001b[0m\n\u001b[1;32m    295\u001b[0m     \"\"\"\n\u001b[0;32m--> 296\u001b[0;31m     \u001b[0my_type\u001b[0m\u001b[0;34m,\u001b[0m \u001b[0my_true\u001b[0m\u001b[0;34m,\u001b[0m \u001b[0my_pred\u001b[0m \u001b[0;34m=\u001b[0m \u001b[0m_check_targets\u001b[0m\u001b[0;34m(\u001b[0m\u001b[0my_true\u001b[0m\u001b[0;34m,\u001b[0m \u001b[0my_pred\u001b[0m\u001b[0;34m)\u001b[0m\u001b[0;34m\u001b[0m\u001b[0;34m\u001b[0m\u001b[0m\n\u001b[0m\u001b[1;32m    297\u001b[0m     \u001b[0;32mif\u001b[0m \u001b[0my_type\u001b[0m \u001b[0;32mnot\u001b[0m \u001b[0;32min\u001b[0m \u001b[0;34m(\u001b[0m\u001b[0;34m\"binary\"\u001b[0m\u001b[0;34m,\u001b[0m \u001b[0;34m\"multiclass\"\u001b[0m\u001b[0;34m)\u001b[0m\u001b[0;34m:\u001b[0m\u001b[0;34m\u001b[0m\u001b[0;34m\u001b[0m\u001b[0m\n\u001b[1;32m    298\u001b[0m         \u001b[0;32mraise\u001b[0m \u001b[0mValueError\u001b[0m\u001b[0;34m(\u001b[0m\u001b[0;34m\"%s is not supported\"\u001b[0m \u001b[0;34m%\u001b[0m \u001b[0my_type\u001b[0m\u001b[0;34m)\u001b[0m\u001b[0;34m\u001b[0m\u001b[0;34m\u001b[0m\u001b[0m\n",
      "\u001b[0;32m~/.local/lib/python3.8/site-packages/sklearn/metrics/_classification.py\u001b[0m in \u001b[0;36m_check_targets\u001b[0;34m(y_true, y_pred)\u001b[0m\n\u001b[1;32m     90\u001b[0m \u001b[0;34m\u001b[0m\u001b[0m\n\u001b[1;32m     91\u001b[0m     \u001b[0;32mif\u001b[0m \u001b[0mlen\u001b[0m\u001b[0;34m(\u001b[0m\u001b[0my_type\u001b[0m\u001b[0;34m)\u001b[0m \u001b[0;34m>\u001b[0m \u001b[0;36m1\u001b[0m\u001b[0;34m:\u001b[0m\u001b[0;34m\u001b[0m\u001b[0;34m\u001b[0m\u001b[0m\n\u001b[0;32m---> 92\u001b[0;31m         raise ValueError(\"Classification metrics can't handle a mix of {0} \"\n\u001b[0m\u001b[1;32m     93\u001b[0m                          \"and {1} targets\".format(type_true, type_pred))\n\u001b[1;32m     94\u001b[0m \u001b[0;34m\u001b[0m\u001b[0m\n",
      "\u001b[0;31mValueError\u001b[0m: Classification metrics can't handle a mix of binary and multilabel-indicator targets"
     ]
    }
   ],
   "source": [
    "from sklearn.metrics import confusion_matrix\n",
    "cm = confusion_matrix(y_test, y_pred)\n",
    "print(cm)"
   ]
  },
  {
   "cell_type": "markdown",
   "metadata": {},
   "source": [
    "# FIM"
   ]
  },
  {
   "cell_type": "markdown",
   "metadata": {},
   "source": [
    "> Professor Diego Dorgam  \n",
    "> [@diegodorgam](https://twitter.com/diegodorgam)"
   ]
  },
  {
   "cell_type": "code",
   "execution_count": null,
   "metadata": {},
   "outputs": [],
   "source": []
  },
  {
   "cell_type": "code",
   "execution_count": null,
   "metadata": {},
   "outputs": [],
   "source": []
  },
  {
   "cell_type": "code",
   "execution_count": null,
   "metadata": {},
   "outputs": [],
   "source": []
  },
  {
   "cell_type": "code",
   "execution_count": null,
   "metadata": {
    "scrolled": true
   },
   "outputs": [],
   "source": []
  },
  {
   "cell_type": "code",
   "execution_count": null,
   "metadata": {},
   "outputs": [],
   "source": []
  }
 ],
 "metadata": {
  "kernelspec": {
   "display_name": "Python 3",
   "language": "python",
   "name": "python3"
  },
  "language_info": {
   "codemirror_mode": {
    "name": "ipython",
    "version": 3
   },
   "file_extension": ".py",
   "mimetype": "text/x-python",
   "name": "python",
   "nbconvert_exporter": "python",
   "pygments_lexer": "ipython3",
   "version": "3.8.5"
  }
 },
 "nbformat": 4,
 "nbformat_minor": 4
}
