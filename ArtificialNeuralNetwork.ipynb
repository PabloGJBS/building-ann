{
 "cells": [
  {
   "cell_type": "markdown",
   "metadata": {},
   "source": [
    "# REDES NEURAIS ARTIFICIAIS\n",
    "\n",
    "[Aula 3 de Deep Learning](http://bit.ly/dn-unb03) da Engenharia de Software da UnB"
   ]
  },
  {
   "cell_type": "code",
   "execution_count": 1,
   "metadata": {},
   "outputs": [
    {
     "name": "stdout",
     "output_type": "stream",
     "text": "Collecting git+git://github.com/Theano/Theano.git\n  Cloning git://github.com/Theano/Theano.git to /tmp/pip-req-build-gf6tz4m1\n  Running command git clone -q git://github.com/Theano/Theano.git /tmp/pip-req-build-gf6tz4m1\nBuilding wheels for collected packages: Theano\n  Building wheel for Theano (setup.py) ... \u001b[?25ldone\n\u001b[?25h  Created wheel for Theano: filename=Theano-1.0.4+23.g630974a7b-cp37-none-any.whl size=2667498 sha256=83732c585c8fdfcb2f835b42ba8f22cca38504d1ed0011747c807042497fe69f\n  Stored in directory: /tmp/pip-ephem-wheel-cache-gup2a6xn/wheels/ae/32/7c/62beb8371953eb20c271b3bac7d0e56e1a2020d46994346b52\nSuccessfully built Theano\nInstalling collected packages: Theano\nSuccessfully installed Theano-1.0.4+23.g630974a7b\nCollecting tensorflow\n\u001b[?25l  Downloading https://files.pythonhosted.org/packages/2a/5c/f1d66de5dde6f3ff528f6ea1fd0757a0e594d17debb3ec7f82daa967ea9a/tensorflow-2.0.0-cp37-cp37m-manylinux2010_x86_64.whl (86.3MB)\n\u001b[K     |████████████████████████████████| 86.3MB 655kB/s \n\u001b[?25hRequirement already satisfied, skipping upgrade: six>=1.10.0 in /home/lucianosz7/anaconda3/lib/python3.7/site-packages (from tensorflow) (1.12.0)\nCollecting google-pasta>=0.1.6 (from tensorflow)\n\u001b[?25l  Downloading https://files.pythonhosted.org/packages/c3/fd/1e86bc4837cc9a3a5faf3db9b1854aa04ad35b5f381f9648fbe81a6f94e4/google_pasta-0.1.8-py3-none-any.whl (57kB)\n\u001b[K     |████████████████████████████████| 61kB 104kB/s \n\u001b[?25hRequirement already satisfied, skipping upgrade: numpy<2.0,>=1.16.0 in /home/lucianosz7/anaconda3/lib/python3.7/site-packages (from tensorflow) (1.17.2)\nCollecting termcolor>=1.1.0 (from tensorflow)\n  Downloading https://files.pythonhosted.org/packages/8a/48/a76be51647d0eb9f10e2a4511bf3ffb8cc1e6b14e9e4fab46173aa79f981/termcolor-1.1.0.tar.gz\nRequirement already satisfied, skipping upgrade: wheel>=0.26 in /home/lucianosz7/anaconda3/lib/python3.7/site-packages (from tensorflow) (0.33.6)\nCollecting grpcio>=1.8.6 (from tensorflow)\n\u001b[?25l  Downloading https://files.pythonhosted.org/packages/b5/68/070ee7609b452e950bd5af35f7161f0ceb0abd61cf16ff3b23c852d4594b/grpcio-1.25.0-cp37-cp37m-manylinux2010_x86_64.whl (2.4MB)\n\u001b[K     |████████████████████████████████| 2.4MB 574kB/s \n\u001b[?25hCollecting opt-einsum>=2.3.2 (from tensorflow)\n\u001b[?25l  Downloading https://files.pythonhosted.org/packages/b8/83/755bd5324777875e9dff19c2e59daec837d0378c09196634524a3d7269ac/opt_einsum-3.1.0.tar.gz (69kB)\n\u001b[K     |████████████████████████████████| 71kB 897kB/s \n\u001b[?25hCollecting astor>=0.6.0 (from tensorflow)\n  Downloading https://files.pythonhosted.org/packages/d1/4f/950dfae467b384fc96bc6469de25d832534f6b4441033c39f914efd13418/astor-0.8.0-py2.py3-none-any.whl\nCollecting absl-py>=0.7.0 (from tensorflow)\n\u001b[?25l  Downloading https://files.pythonhosted.org/packages/3b/72/e6e483e2db953c11efa44ee21c5fdb6505c4dffa447b4263ca8af6676b62/absl-py-0.8.1.tar.gz (103kB)\n\u001b[K     |████████████████████████████████| 112kB 944kB/s \n\u001b[?25hRequirement already satisfied, skipping upgrade: keras-preprocessing>=1.0.5 in /home/lucianosz7/anaconda3/lib/python3.7/site-packages (from tensorflow) (1.1.0)\nCollecting protobuf>=3.6.1 (from tensorflow)\n\u001b[?25l  Downloading https://files.pythonhosted.org/packages/d7/34/02a2083afc14adff644a1e29783f276f12f1f914ca4cab157d73bb3d2fed/protobuf-3.10.0-cp37-cp37m-manylinux1_x86_64.whl (1.3MB)\n\u001b[K     |████████████████████████████████| 1.3MB 713kB/s \n\u001b[?25hCollecting tensorboard<2.1.0,>=2.0.0 (from tensorflow)\n\u001b[?25l  Downloading https://files.pythonhosted.org/packages/d3/9e/a48cd34dd7b672ffc227b566f7d16d63c62c58b542d54efa45848c395dd4/tensorboard-2.0.1-py3-none-any.whl (3.8MB)\n\u001b[K     |████████████████████████████████| 3.8MB 1.3MB/s \n\u001b[?25hCollecting gast==0.2.2 (from tensorflow)\n  Downloading https://files.pythonhosted.org/packages/4e/35/11749bf99b2d4e3cceb4d55ca22590b0d7c2c62b9de38ac4a4a7f4687421/gast-0.2.2.tar.gz\nRequirement already satisfied, skipping upgrade: wrapt>=1.11.1 in /home/lucianosz7/anaconda3/lib/python3.7/site-packages (from tensorflow) (1.11.2)\nCollecting tensorflow-estimator<2.1.0,>=2.0.0 (from tensorflow)\n\u001b[?25l  Downloading https://files.pythonhosted.org/packages/fc/08/8b927337b7019c374719145d1dceba21a8bb909b93b1ad6f8fb7d22c1ca1/tensorflow_estimator-2.0.1-py2.py3-none-any.whl (449kB)\n\u001b[K     |████████████████████████████████| 450kB 1.0MB/s \n\u001b[?25hRequirement already satisfied, skipping upgrade: keras-applications>=1.0.8 in /home/lucianosz7/anaconda3/lib/python3.7/site-packages (from tensorflow) (1.0.8)\nRequirement already satisfied, skipping upgrade: setuptools in /home/lucianosz7/anaconda3/lib/python3.7/site-packages (from protobuf>=3.6.1->tensorflow) (41.4.0)\nCollecting google-auth<2,>=1.6.3 (from tensorboard<2.1.0,>=2.0.0->tensorflow)\n\u001b[?25l  Downloading https://files.pythonhosted.org/packages/7b/cb/786dc53d93494784935a62947643b48250b84a882474e714f9af5e1a1928/google_auth-1.7.1-py2.py3-none-any.whl (74kB)\n\u001b[K     |████████████████████████████████| 81kB 2.3MB/s \n\u001b[?25hCollecting markdown>=2.6.8 (from tensorboard<2.1.0,>=2.0.0->tensorflow)\n\u001b[?25l  Downloading https://files.pythonhosted.org/packages/c0/4e/fd492e91abdc2d2fcb70ef453064d980688762079397f779758e055f6575/Markdown-3.1.1-py2.py3-none-any.whl (87kB)\n\u001b[K     |████████████████████████████████| 92kB 1.7MB/s \n\u001b[?25hCollecting google-auth-oauthlib<0.5,>=0.4.1 (from tensorboard<2.1.0,>=2.0.0->tensorflow)\n  Downloading https://files.pythonhosted.org/packages/7b/b8/88def36e74bee9fce511c9519571f4e485e890093ab7442284f4ffaef60b/google_auth_oauthlib-0.4.1-py2.py3-none-any.whl\nRequirement already satisfied, skipping upgrade: werkzeug>=0.11.15 in /home/lucianosz7/anaconda3/lib/python3.7/site-packages (from tensorboard<2.1.0,>=2.0.0->tensorflow) (0.16.0)\nRequirement already satisfied, skipping upgrade: h5py in /home/lucianosz7/anaconda3/lib/python3.7/site-packages (from keras-applications>=1.0.8->tensorflow) (2.9.0)\nCollecting rsa<4.1,>=3.1.4 (from google-auth<2,>=1.6.3->tensorboard<2.1.0,>=2.0.0->tensorflow)\n  Downloading https://files.pythonhosted.org/packages/02/e5/38518af393f7c214357079ce67a317307936896e961e35450b70fad2a9cf/rsa-4.0-py2.py3-none-any.whl\nCollecting cachetools<3.2,>=2.0.0 (from google-auth<2,>=1.6.3->tensorboard<2.1.0,>=2.0.0->tensorflow)\n  Downloading https://files.pythonhosted.org/packages/2f/a6/30b0a0bef12283e83e58c1d6e7b5aabc7acfc4110df81a4471655d33e704/cachetools-3.1.1-py2.py3-none-any.whl\nCollecting pyasn1-modules>=0.2.1 (from google-auth<2,>=1.6.3->tensorboard<2.1.0,>=2.0.0->tensorflow)\n\u001b[?25l  Downloading https://files.pythonhosted.org/packages/52/50/bb4cefca37da63a0c52218ba2cb1b1c36110d84dcbae8aa48cd67c5e95c2/pyasn1_modules-0.2.7-py2.py3-none-any.whl (131kB)\n\u001b[K     |████████████████████████████████| 133kB 1.7MB/s \n\u001b[?25hRequirement already satisfied, skipping upgrade: requests-oauthlib>=0.7.0 in /home/lucianosz7/anaconda3/lib/python3.7/site-packages (from google-auth-oauthlib<0.5,>=0.4.1->tensorboard<2.1.0,>=2.0.0->tensorflow) (1.3.0)\nCollecting pyasn1>=0.1.3 (from rsa<4.1,>=3.1.4->google-auth<2,>=1.6.3->tensorboard<2.1.0,>=2.0.0->tensorflow)\n\u001b[?25l  Downloading https://files.pythonhosted.org/packages/62/1e/a94a8d635fa3ce4cfc7f506003548d0a2447ae76fd5ca53932970fe3053f/pyasn1-0.4.8-py2.py3-none-any.whl (77kB)\n\u001b[K     |████████████████████████████████| 81kB 2.0MB/s \n\u001b[?25hRequirement already satisfied, skipping upgrade: oauthlib>=3.0.0 in /home/lucianosz7/anaconda3/lib/python3.7/site-packages (from requests-oauthlib>=0.7.0->google-auth-oauthlib<0.5,>=0.4.1->tensorboard<2.1.0,>=2.0.0->tensorflow) (3.1.0)\nRequirement already satisfied, skipping upgrade: requests>=2.0.0 in /home/lucianosz7/anaconda3/lib/python3.7/site-packages (from requests-oauthlib>=0.7.0->google-auth-oauthlib<0.5,>=0.4.1->tensorboard<2.1.0,>=2.0.0->tensorflow) (2.22.0)\nRequirement already satisfied, skipping upgrade: idna<2.9,>=2.5 in /home/lucianosz7/anaconda3/lib/python3.7/site-packages (from requests>=2.0.0->requests-oauthlib>=0.7.0->google-auth-oauthlib<0.5,>=0.4.1->tensorboard<2.1.0,>=2.0.0->tensorflow) (2.8)\nRequirement already satisfied, skipping upgrade: certifi>=2017.4.17 in /home/lucianosz7/anaconda3/lib/python3.7/site-packages (from requests>=2.0.0->requests-oauthlib>=0.7.0->google-auth-oauthlib<0.5,>=0.4.1->tensorboard<2.1.0,>=2.0.0->tensorflow) (2019.9.11)\nRequirement already satisfied, skipping upgrade: urllib3!=1.25.0,!=1.25.1,<1.26,>=1.21.1 in /home/lucianosz7/anaconda3/lib/python3.7/site-packages (from requests>=2.0.0->requests-oauthlib>=0.7.0->google-auth-oauthlib<0.5,>=0.4.1->tensorboard<2.1.0,>=2.0.0->tensorflow) (1.24.2)\nRequirement already satisfied, skipping upgrade: chardet<3.1.0,>=3.0.2 in /home/lucianosz7/anaconda3/lib/python3.7/site-packages (from requests>=2.0.0->requests-oauthlib>=0.7.0->google-auth-oauthlib<0.5,>=0.4.1->tensorboard<2.1.0,>=2.0.0->tensorflow) (3.0.4)\nBuilding wheels for collected packages: termcolor, opt-einsum, absl-py, gast\n  Building wheel for termcolor (setup.py) ... \u001b[?25ldone\n\u001b[?25h  Created wheel for termcolor: filename=termcolor-1.1.0-cp37-none-any.whl size=4832 sha256=45d17552605122f282bccb29c988665df6cfd94c231b0664a2ed104c0273d7b8\n  Stored in directory: /home/lucianosz7/.cache/pip/wheels/7c/06/54/bc84598ba1daf8f970247f550b175aaaee85f68b4b0c5ab2c6\n  Building wheel for opt-einsum (setup.py) ... \u001b[?25ldone\n\u001b[?25h  Created wheel for opt-einsum: filename=opt_einsum-3.1.0-cp37-none-any.whl size=61682 sha256=1e72f79568ac128eb5ca218901e7a70c561bbeb837c80aec0795e2197b85adbf\n  Stored in directory: /home/lucianosz7/.cache/pip/wheels/2c/b1/94/43d03e130b929aae7ba3f8d15cbd7bc0d1cb5bb38a5c721833\n  Building wheel for absl-py (setup.py) ... \u001b[?25ldone\n\u001b[?25h  Created wheel for absl-py: filename=absl_py-0.8.1-cp37-none-any.whl size=121167 sha256=0e4f03aefcaeac5455165ca569a2381df5827bb3497f9bb1ae7be00b2e9de552\n  Stored in directory: /home/lucianosz7/.cache/pip/wheels/a7/15/a0/0a0561549ad11cdc1bc8fa1191a353efd30facf6bfb507aefc\n  Building wheel for gast (setup.py) ... \u001b[?25ldone\n\u001b[?25h  Created wheel for gast: filename=gast-0.2.2-cp37-none-any.whl size=7540 sha256=12ea6157ff5b3c9ad97cc17dae98f5586ad504d12e99005ef3422e7e9b7ef853\n  Stored in directory: /home/lucianosz7/.cache/pip/wheels/5c/2e/7e/a1d4d4fcebe6c381f378ce7743a3ced3699feb89bcfbdadadd\nSuccessfully built termcolor opt-einsum absl-py gast\nInstalling collected packages: google-pasta, termcolor, grpcio, opt-einsum, astor, absl-py, protobuf, pyasn1, rsa, cachetools, pyasn1-modules, google-auth, markdown, google-auth-oauthlib, tensorboard, gast, tensorflow-estimator, tensorflow\nSuccessfully installed absl-py-0.8.1 astor-0.8.0 cachetools-3.1.1 gast-0.2.2 google-auth-1.7.1 google-auth-oauthlib-0.4.1 google-pasta-0.1.8 grpcio-1.25.0 markdown-3.1.1 opt-einsum-3.1.0 protobuf-3.10.0 pyasn1-0.4.8 pyasn1-modules-0.2.7 rsa-4.0 tensorboard-2.0.1 tensorflow-2.0.0 tensorflow-estimator-2.0.1 termcolor-1.1.0\nRequirement already up-to-date: keras in /home/lucianosz7/anaconda3/lib/python3.7/site-packages (2.3.1)\nRequirement already satisfied, skipping upgrade: pyyaml in /home/lucianosz7/anaconda3/lib/python3.7/site-packages (from keras) (5.1.2)\nRequirement already satisfied, skipping upgrade: scipy>=0.14 in /home/lucianosz7/anaconda3/lib/python3.7/site-packages (from keras) (1.3.1)\nRequirement already satisfied, skipping upgrade: keras-applications>=1.0.6 in /home/lucianosz7/anaconda3/lib/python3.7/site-packages (from keras) (1.0.8)\nRequirement already satisfied, skipping upgrade: h5py in /home/lucianosz7/anaconda3/lib/python3.7/site-packages (from keras) (2.9.0)\nRequirement already satisfied, skipping upgrade: six>=1.9.0 in /home/lucianosz7/anaconda3/lib/python3.7/site-packages (from keras) (1.12.0)\nRequirement already satisfied, skipping upgrade: keras-preprocessing>=1.0.5 in /home/lucianosz7/anaconda3/lib/python3.7/site-packages (from keras) (1.1.0)\nRequirement already satisfied, skipping upgrade: numpy>=1.9.1 in /home/lucianosz7/anaconda3/lib/python3.7/site-packages (from keras) (1.17.2)\nCollecting pip\n  Using cached https://files.pythonhosted.org/packages/00/b6/9cfa56b4081ad13874b0c6f96af8ce16cfbc1cb06bedf8e9164ce5551ec1/pip-19.3.1-py2.py3-none-any.whl\nCollecting pandas\n  Using cached https://files.pythonhosted.org/packages/63/e0/a1b39cdcb2c391f087a1538bc8a6d62a82d0439693192aef541d7b123769/pandas-0.25.3-cp37-cp37m-manylinux1_x86_64.whl\nCollecting numpy\n\u001b[?25l  Downloading https://files.pythonhosted.org/packages/9b/af/4fc72f9d38e43b092e91e5b8cb9956d25b2e3ff8c75aed95df5569e4734e/numpy-1.17.4-cp37-cp37m-manylinux1_x86_64.whl (20.0MB)\n\u001b[K     |████████████████████████████████| 20.0MB 659kB/s \n\u001b[?25hCollecting matplotlib\n\u001b[?25l  Downloading https://files.pythonhosted.org/packages/61/42/3e92d7aa64295483fbca20a86c89b34d0cb43cffaadaffe028793902d790/matplotlib-3.1.2-cp37-cp37m-manylinux1_x86_64.whl (13.1MB)\n\u001b[K     |████████████████████████████████| 13.1MB 984kB/s \n\u001b[?25hCollecting sklearn\n  Downloading https://files.pythonhosted.org/packages/1e/7a/dbb3be0ce9bd5c8b7e3d87328e79063f8b263b2b1bfa4774cb1147bfcd3f/sklearn-0.0.tar.gz\nRequirement already satisfied, skipping upgrade: pytz>=2017.2 in /home/lucianosz7/anaconda3/lib/python3.7/site-packages (from pandas) (2018.4)\nRequirement already satisfied, skipping upgrade: python-dateutil>=2.6.1 in /home/lucianosz7/anaconda3/lib/python3.7/site-packages (from pandas) (2.8.0)\nRequirement already satisfied, skipping upgrade: pyparsing!=2.0.4,!=2.1.2,!=2.1.6,>=2.0.1 in /home/lucianosz7/anaconda3/lib/python3.7/site-packages (from matplotlib) (2.4.2)\nRequirement already satisfied, skipping upgrade: kiwisolver>=1.0.1 in /home/lucianosz7/anaconda3/lib/python3.7/site-packages (from matplotlib) (1.1.0)\nRequirement already satisfied, skipping upgrade: cycler>=0.10 in /home/lucianosz7/anaconda3/lib/python3.7/site-packages (from matplotlib) (0.10.0)\nRequirement already satisfied, skipping upgrade: scikit-learn in /home/lucianosz7/anaconda3/lib/python3.7/site-packages (from sklearn) (0.21.3)\nRequirement already satisfied, skipping upgrade: six>=1.5 in /home/lucianosz7/anaconda3/lib/python3.7/site-packages (from python-dateutil>=2.6.1->pandas) (1.12.0)\nRequirement already satisfied, skipping upgrade: setuptools in /home/lucianosz7/anaconda3/lib/python3.7/site-packages (from kiwisolver>=1.0.1->matplotlib) (41.4.0)\nRequirement already satisfied, skipping upgrade: scipy>=0.17.0 in /home/lucianosz7/anaconda3/lib/python3.7/site-packages (from scikit-learn->sklearn) (1.3.1)\nRequirement already satisfied, skipping upgrade: joblib>=0.11 in /home/lucianosz7/anaconda3/lib/python3.7/site-packages (from scikit-learn->sklearn) (0.13.2)\nBuilding wheels for collected packages: sklearn\n  Building wheel for sklearn (setup.py) ... \u001b[?25ldone\n\u001b[?25h  Created wheel for sklearn: filename=sklearn-0.0-py2.py3-none-any.whl size=1316 sha256=88347657c1182339dc2b465b34b32ada2034e127be9c23985a3121769997a6bb\n  Stored in directory: /home/lucianosz7/.cache/pip/wheels/76/03/bb/589d421d27431bcd2c6da284d5f2286c8e3b2ea3cf1594c074\nSuccessfully built sklearn\nInstalling collected packages: pip, numpy, pandas, matplotlib, sklearn\n  Found existing installation: pip 19.2.3\n    Uninstalling pip-19.2.3:\n      Successfully uninstalled pip-19.2.3\n  Found existing installation: numpy 1.17.2\n    Uninstalling numpy-1.17.2:\n      Successfully uninstalled numpy-1.17.2\n  Found existing installation: pandas 0.25.1\n    Uninstalling pandas-0.25.1:\n      Successfully uninstalled pandas-0.25.1\n  Found existing installation: matplotlib 3.1.1\n    Uninstalling matplotlib-3.1.1:\n      Successfully uninstalled matplotlib-3.1.1\nSuccessfully installed matplotlib-3.1.2 numpy-1.17.4 pandas-0.25.3 pip-19.3.1 sklearn-0.0\n"
    }
   ],
   "source": [
    "# Installing Theano\n",
    "! pip install --upgrade --no-deps git+git://github.com/Theano/Theano.git\n",
    "\n",
    "# Installing Tensorflow\n",
    "! pip install --upgrade tensorflow\n",
    "\n",
    "# Installing Keras\n",
    "! pip install --upgrade keras\n",
    "\n",
    "# Install other packages\n",
    "! pip install --upgrade pip pandas numpy matplotlib sklearn"
   ]
  },
  {
   "cell_type": "markdown",
   "metadata": {},
   "source": [
    "# Parte 1 - Preprocessamento dos Dados"
   ]
  },
  {
   "cell_type": "markdown",
   "metadata": {},
   "source": [
    "### Importar as libs"
   ]
  },
  {
   "cell_type": "code",
   "execution_count": 8,
   "metadata": {},
   "outputs": [],
   "source": [
    "import numpy as np\n",
    "import matplotlib.pyplot as plt\n",
    "import pandas as pd"
   ]
  },
  {
   "cell_type": "markdown",
   "metadata": {},
   "source": [
    "### Importar o dataset"
   ]
  },
  {
   "cell_type": "code",
   "execution_count": 9,
   "metadata": {},
   "outputs": [
    {
     "name": "stdout",
     "output_type": "stream",
     "text": "X >>\n [[619 'France' 'Female' ... 1 1 101348.88]\n [608 'Spain' 'Female' ... 0 1 112542.58]\n [502 'France' 'Female' ... 1 0 113931.57]\n ...\n [709 'France' 'Female' ... 0 1 42085.58]\n [772 'Germany' 'Male' ... 1 0 92888.52]\n [792 'France' 'Female' ... 1 0 38190.78]]\ny >>\n [1 0 1 ... 1 1 0]\n"
    }
   ],
   "source": [
    "dataset = pd.read_csv('Churn_Modelling.csv')\n",
    "X = dataset.iloc[:, 3:13].values\n",
    "y = dataset.iloc[:, 13].values\n",
    "print(\"X >>\\n\",X)\n",
    "print(\"y >>\\n\",y)"
   ]
  },
  {
   "cell_type": "markdown",
   "metadata": {},
   "source": [
    "### Transformando os dados categóricos\n"
   ]
  },
  {
   "cell_type": "code",
   "execution_count": 10,
   "metadata": {},
   "outputs": [
    {
     "name": "stdout",
     "output_type": "stream",
     "text": "X >>\n [[0.0000000e+00 0.0000000e+00 6.1900000e+02 ... 1.0000000e+00\n  1.0000000e+00 1.0134888e+05]\n [0.0000000e+00 1.0000000e+00 6.0800000e+02 ... 0.0000000e+00\n  1.0000000e+00 1.1254258e+05]\n [0.0000000e+00 0.0000000e+00 5.0200000e+02 ... 1.0000000e+00\n  0.0000000e+00 1.1393157e+05]\n ...\n [0.0000000e+00 0.0000000e+00 7.0900000e+02 ... 0.0000000e+00\n  1.0000000e+00 4.2085580e+04]\n [1.0000000e+00 0.0000000e+00 7.7200000e+02 ... 1.0000000e+00\n  0.0000000e+00 9.2888520e+04]\n [0.0000000e+00 0.0000000e+00 7.9200000e+02 ... 1.0000000e+00\n  0.0000000e+00 3.8190780e+04]]\n/home/lucianosz7/anaconda3/lib/python3.7/site-packages/sklearn/preprocessing/_encoders.py:415: FutureWarning: The handling of integer data will change in version 0.22. Currently, the categories are determined based on the range [0, max(values)], while in the future they will be determined based on the unique values.\nIf you want the future behaviour and silence this warning, you can specify \"categories='auto'\".\nIn case you used a LabelEncoder before this OneHotEncoder to convert the categories to integers, then you can now use the OneHotEncoder directly.\n  warnings.warn(msg, FutureWarning)\n/home/lucianosz7/anaconda3/lib/python3.7/site-packages/sklearn/preprocessing/_encoders.py:451: DeprecationWarning: The 'categorical_features' keyword is deprecated in version 0.20 and will be removed in 0.22. You can use the ColumnTransformer instead.\n  \"use the ColumnTransformer instead.\", DeprecationWarning)\n"
    }
   ],
   "source": [
    "from sklearn.preprocessing import LabelEncoder, OneHotEncoder\n",
    "labelencoder_X_1 = LabelEncoder()\n",
    "X[:, 1] = labelencoder_X_1.fit_transform(X[:, 1])\n",
    "labelencoder_X_2 = LabelEncoder()\n",
    "X[:, 2] = labelencoder_X_2.fit_transform(X[:, 2])\n",
    "onehotencoder = OneHotEncoder(categorical_features = [1])\n",
    "X = onehotencoder.fit_transform(X).toarray()\n",
    "X = X[:, 1:]\n",
    "print(\"X >>\\n\",X)"
   ]
  },
  {
   "cell_type": "markdown",
   "metadata": {},
   "source": [
    "# Dividindo o dataset em conjunto de treinamento e conjunto de teste"
   ]
  },
  {
   "cell_type": "code",
   "execution_count": 11,
   "metadata": {},
   "outputs": [],
   "source": [
    "from sklearn.model_selection import train_test_split\n",
    "X_train, X_test, y_train, y_test = train_test_split(X, y, test_size = 0.2, random_state = 0)"
   ]
  },
  {
   "cell_type": "markdown",
   "metadata": {},
   "source": [
    "# Feature Scaling"
   ]
  },
  {
   "cell_type": "code",
   "execution_count": 12,
   "metadata": {},
   "outputs": [],
   "source": [
    "from sklearn.preprocessing import StandardScaler\n",
    "sc = StandardScaler()\n",
    "X_train = sc.fit_transform(X_train)\n",
    "X_test = sc.transform(X_test)"
   ]
  },
  {
   "cell_type": "markdown",
   "metadata": {},
   "source": [
    "---\n",
    "# Parte 2 -Vamos construir uma ANN!\n",
    "\n",
    "## Importando o Keras\n"
   ]
  },
  {
   "cell_type": "code",
   "execution_count": 13,
   "metadata": {},
   "outputs": [
    {
     "name": "stderr",
     "output_type": "stream",
     "text": "Using TensorFlow backend.\n"
    }
   ],
   "source": [
    "import keras\n",
    "from keras.models import Sequential\n",
    "from keras.layers import Dense"
   ]
  },
  {
   "cell_type": "code",
   "execution_count": 14,
   "metadata": {},
   "outputs": [],
   "source": [
    "# Initialising the ANN\n",
    "classifier = Sequential()\n",
    "\n",
    "# Adding the input layer and the first hidden layer\n",
    "classifier.add(Dense(units = 6, kernel_initializer = 'uniform', activation = 'relu', input_dim = 11))\n",
    "\n",
    "# Adding the second hidden layer\n",
    "classifier.add(Dense(units = 6, kernel_initializer = 'uniform', activation = 'relu'))\n",
    "\n",
    "# Adding the output layer\n",
    "classifier.add(Dense(units = 1, kernel_initializer = 'uniform', activation = 'sigmoid'))\n",
    "\n",
    "# Compiling the ANN\n",
    "classifier.compile(optimizer = 'adam', loss = 'binary_crossentropy', metrics = ['accuracy'])"
   ]
  },
  {
   "cell_type": "markdown",
   "metadata": {},
   "source": [
    "# Ajustando a ANN ao conjunto de treinamento"
   ]
  },
  {
   "cell_type": "code",
   "execution_count": 15,
   "metadata": {},
   "outputs": [
    {
     "name": "stdout",
     "output_type": "stream",
     "text": "Epoch 1/100\n8000/8000 [==============================] - 4s 537us/step - loss: 0.4843 - accuracy: 0.7955\nEpoch 2/100\n8000/8000 [==============================] - 2s 263us/step - loss: 0.4288 - accuracy: 0.7960\nEpoch 3/100\n8000/8000 [==============================] - 2s 239us/step - loss: 0.4231 - accuracy: 0.7969\nEpoch 4/100\n8000/8000 [==============================] - 2s 240us/step - loss: 0.4186 - accuracy: 0.8199\nEpoch 5/100\n8000/8000 [==============================] - 2s 286us/step - loss: 0.4165 - accuracy: 0.8245\nEpoch 6/100\n8000/8000 [==============================] - 2s 286us/step - loss: 0.4144 - accuracy: 0.8290\nEpoch 7/100\n8000/8000 [==============================] - 2s 285us/step - loss: 0.4132 - accuracy: 0.8275\nEpoch 8/100\n8000/8000 [==============================] - 2s 257us/step - loss: 0.4116 - accuracy: 0.8298\nEpoch 9/100\n8000/8000 [==============================] - 2s 282us/step - loss: 0.4102 - accuracy: 0.8335\nEpoch 10/100\n8000/8000 [==============================] - 2s 276us/step - loss: 0.4092 - accuracy: 0.8338\nEpoch 11/100\n8000/8000 [==============================] - 2s 250us/step - loss: 0.4083 - accuracy: 0.8339\nEpoch 12/100\n8000/8000 [==============================] - 2s 235us/step - loss: 0.4076 - accuracy: 0.8341\nEpoch 13/100\n8000/8000 [==============================] - 2s 234us/step - loss: 0.4065 - accuracy: 0.8340\nEpoch 14/100\n8000/8000 [==============================] - 2s 229us/step - loss: 0.4063 - accuracy: 0.8340\nEpoch 15/100\n8000/8000 [==============================] - 2s 305us/step - loss: 0.4058 - accuracy: 0.8347\nEpoch 16/100\n8000/8000 [==============================] - 2s 262us/step - loss: 0.4054 - accuracy: 0.8346\nEpoch 17/100\n8000/8000 [==============================] - 4s 554us/step - loss: 0.4047 - accuracy: 0.8334\nEpoch 18/100\n8000/8000 [==============================] - 5s 648us/step - loss: 0.4046 - accuracy: 0.8338\nEpoch 19/100\n8000/8000 [==============================] - 5s 643us/step - loss: 0.4041 - accuracy: 0.8355\nEpoch 20/100\n8000/8000 [==============================] - 4s 509us/step - loss: 0.4040 - accuracy: 0.8354\nEpoch 21/100\n8000/8000 [==============================] - 3s 416us/step - loss: 0.4040 - accuracy: 0.8338\nEpoch 22/100\n8000/8000 [==============================] - 3s 392us/step - loss: 0.4034 - accuracy: 0.8340\nEpoch 23/100\n8000/8000 [==============================] - 4s 490us/step - loss: 0.4028 - accuracy: 0.8355\nEpoch 24/100\n8000/8000 [==============================] - 4s 455us/step - loss: 0.4030 - accuracy: 0.8347\nEpoch 25/100\n8000/8000 [==============================] - 3s 350us/step - loss: 0.4028 - accuracy: 0.8346\nEpoch 26/100\n8000/8000 [==============================] - 2s 302us/step - loss: 0.4032 - accuracy: 0.8347\nEpoch 27/100\n8000/8000 [==============================] - 2s 243us/step - loss: 0.4028 - accuracy: 0.8339\nEpoch 28/100\n8000/8000 [==============================] - 2s 194us/step - loss: 0.4021 - accuracy: 0.8345\nEpoch 29/100\n8000/8000 [==============================] - 2s 203us/step - loss: 0.4026 - accuracy: 0.8344\nEpoch 30/100\n8000/8000 [==============================] - 2s 264us/step - loss: 0.4018 - accuracy: 0.8345\nEpoch 31/100\n8000/8000 [==============================] - 2s 254us/step - loss: 0.4023 - accuracy: 0.8338\nEpoch 32/100\n8000/8000 [==============================] - 2s 248us/step - loss: 0.4018 - accuracy: 0.8329\nEpoch 33/100\n8000/8000 [==============================] - 3s 432us/step - loss: 0.4019 - accuracy: 0.8349\nEpoch 34/100\n8000/8000 [==============================] - 3s 347us/step - loss: 0.4015 - accuracy: 0.8347\nEpoch 35/100\n8000/8000 [==============================] - 2s 291us/step - loss: 0.4015 - accuracy: 0.8353\nEpoch 36/100\n8000/8000 [==============================] - 3s 318us/step - loss: 0.4016 - accuracy: 0.8336\nEpoch 37/100\n8000/8000 [==============================] - 2s 304us/step - loss: 0.4016 - accuracy: 0.8364\nEpoch 38/100\n8000/8000 [==============================] - 2s 273us/step - loss: 0.4016 - accuracy: 0.8340\nEpoch 39/100\n8000/8000 [==============================] - 4s 514us/step - loss: 0.4016 - accuracy: 0.8350\nEpoch 40/100\n8000/8000 [==============================] - 5s 616us/step - loss: 0.4014 - accuracy: 0.8342\nEpoch 41/100\n8000/8000 [==============================] - 5s 590us/step - loss: 0.4013 - accuracy: 0.8351\nEpoch 42/100\n8000/8000 [==============================] - 5s 606us/step - loss: 0.4012 - accuracy: 0.8365\nEpoch 43/100\n8000/8000 [==============================] - 3s 351us/step - loss: 0.4012 - accuracy: 0.8346\nEpoch 44/100\n8000/8000 [==============================] - 2s 281us/step - loss: 0.4013 - accuracy: 0.8342\nEpoch 45/100\n8000/8000 [==============================] - 2s 283us/step - loss: 0.4015 - accuracy: 0.8340\nEpoch 46/100\n8000/8000 [==============================] - 2s 301us/step - loss: 0.4012 - accuracy: 0.8360\nEpoch 47/100\n8000/8000 [==============================] - 2s 277us/step - loss: 0.4006 - accuracy: 0.8356\nEpoch 48/100\n8000/8000 [==============================] - 2s 283us/step - loss: 0.4008 - accuracy: 0.8341\nEpoch 49/100\n8000/8000 [==============================] - 2s 281us/step - loss: 0.4011 - accuracy: 0.8334\nEpoch 50/100\n8000/8000 [==============================] - 2s 271us/step - loss: 0.4012 - accuracy: 0.8351\nEpoch 51/100\n8000/8000 [==============================] - 2s 289us/step - loss: 0.4007 - accuracy: 0.8351\nEpoch 52/100\n8000/8000 [==============================] - 2s 303us/step - loss: 0.4009 - accuracy: 0.8357\nEpoch 53/100\n8000/8000 [==============================] - 2s 278us/step - loss: 0.4009 - accuracy: 0.8359\nEpoch 54/100\n8000/8000 [==============================] - 2s 279us/step - loss: 0.4009 - accuracy: 0.8355\nEpoch 55/100\n8000/8000 [==============================] - 2s 289us/step - loss: 0.4007 - accuracy: 0.8338\nEpoch 56/100\n8000/8000 [==============================] - 2s 296us/step - loss: 0.4003 - accuracy: 0.8357\nEpoch 57/100\n8000/8000 [==============================] - 2s 284us/step - loss: 0.4011 - accuracy: 0.8351\nEpoch 58/100\n8000/8000 [==============================] - 2s 279us/step - loss: 0.4005 - accuracy: 0.8363\nEpoch 59/100\n8000/8000 [==============================] - 3s 322us/step - loss: 0.4008 - accuracy: 0.8357\nEpoch 60/100\n8000/8000 [==============================] - 4s 450us/step - loss: 0.4006 - accuracy: 0.8349\nEpoch 61/100\n8000/8000 [==============================] - 2s 288us/step - loss: 0.4002 - accuracy: 0.8349\nEpoch 62/100\n8000/8000 [==============================] - 4s 512us/step - loss: 0.4003 - accuracy: 0.8347\nEpoch 63/100\n8000/8000 [==============================] - 5s 599us/step - loss: 0.4007 - accuracy: 0.8365\nEpoch 64/100\n8000/8000 [==============================] - 3s 368us/step - loss: 0.4007 - accuracy: 0.8346\nEpoch 65/100\n8000/8000 [==============================] - 2s 303us/step - loss: 0.4007 - accuracy: 0.8351\nEpoch 66/100\n8000/8000 [==============================] - 2s 305us/step - loss: 0.4006 - accuracy: 0.8357\nEpoch 67/100\n8000/8000 [==============================] - 2s 296us/step - loss: 0.4008 - accuracy: 0.8341\nEpoch 68/100\n8000/8000 [==============================] - 2s 296us/step - loss: 0.4004 - accuracy: 0.8344\nEpoch 69/100\n8000/8000 [==============================] - 2s 293us/step - loss: 0.4002 - accuracy: 0.8344\nEpoch 70/100\n8000/8000 [==============================] - 3s 412us/step - loss: 0.4005 - accuracy: 0.8345\nEpoch 71/100\n8000/8000 [==============================] - 4s 457us/step - loss: 0.4003 - accuracy: 0.8339\nEpoch 72/100\n8000/8000 [==============================] - 2s 282us/step - loss: 0.4007 - accuracy: 0.8351\nEpoch 73/100\n8000/8000 [==============================] - 2s 304us/step - loss: 0.4005 - accuracy: 0.8340\nEpoch 74/100\n8000/8000 [==============================] - 4s 495us/step - loss: 0.3996 - accuracy: 0.8345\nEpoch 75/100\n8000/8000 [==============================] - 4s 560us/step - loss: 0.4004 - accuracy: 0.8338\nEpoch 76/100\n8000/8000 [==============================] - 4s 525us/step - loss: 0.4003 - accuracy: 0.8353\nEpoch 77/100\n8000/8000 [==============================] - 4s 552us/step - loss: 0.4003 - accuracy: 0.8354\nEpoch 78/100\n8000/8000 [==============================] - 4s 557us/step - loss: 0.4002 - accuracy: 0.8357\nEpoch 79/100\n8000/8000 [==============================] - 5s 577us/step - loss: 0.4002 - accuracy: 0.8328\nEpoch 80/100\n8000/8000 [==============================] - 5s 593us/step - loss: 0.4008 - accuracy: 0.8353\nEpoch 81/100\n8000/8000 [==============================] - 5s 570us/step - loss: 0.4006 - accuracy: 0.8349\nEpoch 82/100\n8000/8000 [==============================] - 4s 555us/step - loss: 0.4006 - accuracy: 0.8345\nEpoch 83/100\n8000/8000 [==============================] - 5s 577us/step - loss: 0.4005 - accuracy: 0.8374\nEpoch 84/100\n8000/8000 [==============================] - 4s 504us/step - loss: 0.4002 - accuracy: 0.8345\nEpoch 85/100\n8000/8000 [==============================] - 4s 457us/step - loss: 0.4002 - accuracy: 0.8344\nEpoch 86/100\n8000/8000 [==============================] - 4s 499us/step - loss: 0.4002 - accuracy: 0.8363\nEpoch 87/100\n8000/8000 [==============================] - 4s 513us/step - loss: 0.4003 - accuracy: 0.8350\nEpoch 88/100\n8000/8000 [==============================] - 3s 361us/step - loss: 0.4000 - accuracy: 0.8353\nEpoch 89/100\n8000/8000 [==============================] - 2s 189us/step - loss: 0.4002 - accuracy: 0.8351\nEpoch 90/100\n8000/8000 [==============================] - 3s 392us/step - loss: 0.4001 - accuracy: 0.8325\nEpoch 91/100\n8000/8000 [==============================] - 3s 316us/step - loss: 0.4002 - accuracy: 0.8336\nEpoch 92/100\n8000/8000 [==============================] - 2s 265us/step - loss: 0.3995 - accuracy: 0.8329\nEpoch 93/100\n8000/8000 [==============================] - 2s 267us/step - loss: 0.4001 - accuracy: 0.8359\nEpoch 94/100\n8000/8000 [==============================] - 2s 273us/step - loss: 0.4002 - accuracy: 0.8353\nEpoch 95/100\n8000/8000 [==============================] - 2s 254us/step - loss: 0.4004 - accuracy: 0.8350\nEpoch 96/100\n8000/8000 [==============================] - 2s 277us/step - loss: 0.4001 - accuracy: 0.8344\nEpoch 97/100\n8000/8000 [==============================] - 2s 292us/step - loss: 0.3994 - accuracy: 0.8354\nEpoch 98/100\n8000/8000 [==============================] - 4s 472us/step - loss: 0.4005 - accuracy: 0.8359\nEpoch 99/100\n8000/8000 [==============================] - 3s 425us/step - loss: 0.3998 - accuracy: 0.8349\nEpoch 100/100\n8000/8000 [==============================] - 4s 439us/step - loss: 0.4004 - accuracy: 0.8345\n"
    },
    {
     "data": {
      "text/plain": "<keras.callbacks.callbacks.History at 0x7f72a82dfcd0>"
     },
     "execution_count": 15,
     "metadata": {},
     "output_type": "execute_result"
    }
   ],
   "source": [
    "classifier.fit(X_train, y_train, batch_size = 10, epochs = 100)"
   ]
  },
  {
   "cell_type": "markdown",
   "metadata": {},
   "source": [
    "# Parte 3 - Fazendo predições e avaliando o modelo\n",
    "\n",
    "## Prevendo os resultados com o conjunto de testes"
   ]
  },
  {
   "cell_type": "code",
   "execution_count": 16,
   "metadata": {},
   "outputs": [],
   "source": [
    "y_pred = classifier.predict(X_test)\n",
    "y_pred = (y_pred > 0.5)"
   ]
  },
  {
   "cell_type": "markdown",
   "metadata": {},
   "source": [
    "# Criando uma Confusion Matrix"
   ]
  },
  {
   "cell_type": "code",
   "execution_count": 18,
   "metadata": {},
   "outputs": [
    {
     "name": "stdout",
     "output_type": "stream",
     "text": "[[1538   57]\n [ 259  146]]\n"
    }
   ],
   "source": [
    "from sklearn.metrics import confusion_matrix\n",
    "cm = confusion_matrix(y_test, y_pred)\n",
    "print(cm)"
   ]
  },
  {
   "cell_type": "markdown",
   "metadata": {},
   "source": [
    "# Initiate activation function experimentation\n",
    "\n",
    "# Initialising the 2nd ANN"
   ]
  },
  {
   "cell_type": "code",
   "execution_count": 26,
   "metadata": {},
   "outputs": [
    {
     "name": "stdout",
     "output_type": "stream",
     "text": "Epoch 1/100\n8000/8000 [==============================] - 2s 299us/step - loss: 3.1467 - accuracy: 0.7960\nEpoch 2/100\n8000/8000 [==============================] - 2s 262us/step - loss: 3.1467 - accuracy: 0.7960\nEpoch 3/100\n8000/8000 [==============================] - 2s 252us/step - loss: 3.1467 - accuracy: 0.7960\nEpoch 4/100\n8000/8000 [==============================] - 2s 278us/step - loss: 3.1467 - accuracy: 0.7960\nEpoch 5/100\n8000/8000 [==============================] - 2s 293us/step - loss: 3.1467 - accuracy: 0.7960\nEpoch 6/100\n8000/8000 [==============================] - 2s 266us/step - loss: 3.1467 - accuracy: 0.7960\nEpoch 7/100\n8000/8000 [==============================] - 2s 267us/step - loss: 3.1467 - accuracy: 0.7960\nEpoch 8/100\n8000/8000 [==============================] - 2s 276us/step - loss: 3.1467 - accuracy: 0.7960\nEpoch 9/100\n8000/8000 [==============================] - 2s 310us/step - loss: 3.1467 - accuracy: 0.7960\nEpoch 10/100\n8000/8000 [==============================] - 2s 256us/step - loss: 3.1467 - accuracy: 0.7960\nEpoch 11/100\n8000/8000 [==============================] - 2s 248us/step - loss: 3.1467 - accuracy: 0.7960\nEpoch 12/100\n8000/8000 [==============================] - 2s 284us/step - loss: 3.1467 - accuracy: 0.7960\nEpoch 13/100\n8000/8000 [==============================] - 2s 248us/step - loss: 3.1467 - accuracy: 0.7960\nEpoch 14/100\n8000/8000 [==============================] - 2s 250us/step - loss: 3.1467 - accuracy: 0.7960\nEpoch 15/100\n8000/8000 [==============================] - 2s 255us/step - loss: 3.1467 - accuracy: 0.7960\nEpoch 16/100\n8000/8000 [==============================] - 2s 267us/step - loss: 3.1467 - accuracy: 0.7960\nEpoch 17/100\n8000/8000 [==============================] - 2s 275us/step - loss: 3.1467 - accuracy: 0.7960\nEpoch 18/100\n8000/8000 [==============================] - 2s 249us/step - loss: 3.1467 - accuracy: 0.7960\nEpoch 19/100\n8000/8000 [==============================] - 2s 249us/step - loss: 3.1467 - accuracy: 0.7960\nEpoch 20/100\n8000/8000 [==============================] - 2s 255us/step - loss: 3.1467 - accuracy: 0.7960\nEpoch 21/100\n8000/8000 [==============================] - 2s 258us/step - loss: 3.1467 - accuracy: 0.7960\nEpoch 22/100\n8000/8000 [==============================] - 2s 251us/step - loss: 3.1467 - accuracy: 0.7960\nEpoch 23/100\n8000/8000 [==============================] - 2s 252us/step - loss: 3.1467 - accuracy: 0.7960\nEpoch 24/100\n8000/8000 [==============================] - 2s 262us/step - loss: 3.1467 - accuracy: 0.7960\nEpoch 25/100\n8000/8000 [==============================] - 2s 255us/step - loss: 3.1467 - accuracy: 0.7960\nEpoch 26/100\n8000/8000 [==============================] - 2s 247us/step - loss: 3.1467 - accuracy: 0.7960\nEpoch 27/100\n8000/8000 [==============================] - 2s 252us/step - loss: 3.1467 - accuracy: 0.7960\nEpoch 28/100\n8000/8000 [==============================] - 2s 249us/step - loss: 3.1467 - accuracy: 0.7960\nEpoch 29/100\n8000/8000 [==============================] - 2s 256us/step - loss: 3.1467 - accuracy: 0.7960\nEpoch 30/100\n8000/8000 [==============================] - 2s 250us/step - loss: 3.1467 - accuracy: 0.7960\nEpoch 31/100\n8000/8000 [==============================] - 2s 251us/step - loss: 3.1467 - accuracy: 0.7960\nEpoch 32/100\n8000/8000 [==============================] - 2s 246us/step - loss: 3.1467 - accuracy: 0.7960\nEpoch 33/100\n8000/8000 [==============================] - 2s 300us/step - loss: 3.1467 - accuracy: 0.7960\nEpoch 34/100\n8000/8000 [==============================] - 3s 359us/step - loss: 3.1467 - accuracy: 0.7960\nEpoch 35/100\n8000/8000 [==============================] - 3s 394us/step - loss: 3.1467 - accuracy: 0.7960\nEpoch 36/100\n8000/8000 [==============================] - 3s 381us/step - loss: 3.1467 - accuracy: 0.7960\nEpoch 37/100\n8000/8000 [==============================] - 3s 401us/step - loss: 3.1467 - accuracy: 0.7960\nEpoch 38/100\n8000/8000 [==============================] - 3s 396us/step - loss: 3.1467 - accuracy: 0.7960\nEpoch 39/100\n8000/8000 [==============================] - 3s 392us/step - loss: 3.1467 - accuracy: 0.7960\nEpoch 40/100\n8000/8000 [==============================] - 3s 379us/step - loss: 3.1467 - accuracy: 0.7960\nEpoch 41/100\n8000/8000 [==============================] - 3s 391us/step - loss: 3.1467 - accuracy: 0.7960\nEpoch 42/100\n8000/8000 [==============================] - 3s 341us/step - loss: 3.1467 - accuracy: 0.7960\nEpoch 43/100\n8000/8000 [==============================] - 3s 348us/step - loss: 3.1467 - accuracy: 0.7960\nEpoch 44/100\n8000/8000 [==============================] - 3s 398us/step - loss: 3.1467 - accuracy: 0.7960\nEpoch 45/100\n8000/8000 [==============================] - 3s 401us/step - loss: 3.1467 - accuracy: 0.7960\nEpoch 46/100\n8000/8000 [==============================] - 3s 374us/step - loss: 3.1467 - accuracy: 0.7960\nEpoch 47/100\n8000/8000 [==============================] - 3s 371us/step - loss: 3.1467 - accuracy: 0.7960\nEpoch 48/100\n8000/8000 [==============================] - 3s 402us/step - loss: 3.1467 - accuracy: 0.7960\nEpoch 49/100\n8000/8000 [==============================] - 3s 371us/step - loss: 3.1467 - accuracy: 0.7960\nEpoch 50/100\n8000/8000 [==============================] - 3s 368us/step - loss: 3.1467 - accuracy: 0.7960\nEpoch 51/100\n8000/8000 [==============================] - 3s 347us/step - loss: 3.1467 - accuracy: 0.7960\nEpoch 52/100\n8000/8000 [==============================] - 3s 379us/step - loss: 3.1467 - accuracy: 0.7960\nEpoch 53/100\n8000/8000 [==============================] - 3s 378us/step - loss: 3.1467 - accuracy: 0.7960\nEpoch 54/100\n8000/8000 [==============================] - 3s 400us/step - loss: 3.1467 - accuracy: 0.7960\nEpoch 55/100\n8000/8000 [==============================] - 3s 387us/step - loss: 3.1467 - accuracy: 0.7960\nEpoch 56/100\n8000/8000 [==============================] - 3s 386us/step - loss: 3.1467 - accuracy: 0.7960\nEpoch 57/100\n8000/8000 [==============================] - 3s 348us/step - loss: 3.1467 - accuracy: 0.7960\nEpoch 58/100\n8000/8000 [==============================] - 3s 393us/step - loss: 3.1467 - accuracy: 0.7960\nEpoch 59/100\n8000/8000 [==============================] - 3s 347us/step - loss: 3.1467 - accuracy: 0.7960\nEpoch 60/100\n8000/8000 [==============================] - 3s 400us/step - loss: 3.1467 - accuracy: 0.7960\nEpoch 61/100\n8000/8000 [==============================] - 3s 405us/step - loss: 3.1467 - accuracy: 0.7960\nEpoch 62/100\n8000/8000 [==============================] - 3s 401us/step - loss: 3.1467 - accuracy: 0.7960\nEpoch 63/100\n8000/8000 [==============================] - 3s 418us/step - loss: 3.1467 - accuracy: 0.7960\nEpoch 64/100\n8000/8000 [==============================] - 3s 409us/step - loss: 3.1467 - accuracy: 0.7960\nEpoch 65/100\n8000/8000 [==============================] - 3s 406us/step - loss: 3.1467 - accuracy: 0.7960\nEpoch 66/100\n8000/8000 [==============================] - 3s 376us/step - loss: 3.1467 - accuracy: 0.7960\nEpoch 67/100\n8000/8000 [==============================] - 3s 364us/step - loss: 3.1467 - accuracy: 0.7960\nEpoch 68/100\n8000/8000 [==============================] - 3s 359us/step - loss: 3.1467 - accuracy: 0.7960\nEpoch 69/100\n8000/8000 [==============================] - 3s 396us/step - loss: 3.1467 - accuracy: 0.7960\nEpoch 70/100\n8000/8000 [==============================] - 4s 464us/step - loss: 3.1467 - accuracy: 0.7960\nEpoch 71/100\n8000/8000 [==============================] - 4s 527us/step - loss: 3.1467 - accuracy: 0.7960\nEpoch 72/100\n8000/8000 [==============================] - 3s 335us/step - loss: 3.1467 - accuracy: 0.7960\nEpoch 73/100\n8000/8000 [==============================] - 3s 333us/step - loss: 3.1467 - accuracy: 0.7960\nEpoch 74/100\n8000/8000 [==============================] - 3s 313us/step - loss: 3.1467 - accuracy: 0.7960\nEpoch 75/100\n8000/8000 [==============================] - 2s 312us/step - loss: 3.1467 - accuracy: 0.7960\nEpoch 76/100\n8000/8000 [==============================] - 2s 293us/step - loss: 3.1467 - accuracy: 0.7960\nEpoch 77/100\n8000/8000 [==============================] - 2s 307us/step - loss: 3.1467 - accuracy: 0.7960\nEpoch 78/100\n8000/8000 [==============================] - 2s 268us/step - loss: 3.1467 - accuracy: 0.7960\nEpoch 79/100\n8000/8000 [==============================] - 2s 283us/step - loss: 3.1467 - accuracy: 0.7960\nEpoch 80/100\n8000/8000 [==============================] - 2s 290us/step - loss: 3.1467 - accuracy: 0.7960\nEpoch 81/100\n8000/8000 [==============================] - 2s 291us/step - loss: 3.1467 - accuracy: 0.7960\nEpoch 82/100\n8000/8000 [==============================] - 2s 217us/step - loss: 3.1467 - accuracy: 0.7960\nEpoch 83/100\n8000/8000 [==============================] - 2s 208us/step - loss: 3.1467 - accuracy: 0.7960\nEpoch 84/100\n8000/8000 [==============================] - 2s 246us/step - loss: 3.1467 - accuracy: 0.7960\nEpoch 85/100\n8000/8000 [==============================] - 2s 230us/step - loss: 3.1467 - accuracy: 0.7960\nEpoch 86/100\n8000/8000 [==============================] - 2s 207us/step - loss: 3.1467 - accuracy: 0.7960\nEpoch 87/100\n8000/8000 [==============================] - 2s 239us/step - loss: 3.1467 - accuracy: 0.7960\nEpoch 88/100\n8000/8000 [==============================] - 2s 224us/step - loss: 3.1467 - accuracy: 0.7960\nEpoch 89/100\n8000/8000 [==============================] - 2s 219us/step - loss: 3.1467 - accuracy: 0.7960\nEpoch 90/100\n8000/8000 [==============================] - 2s 226us/step - loss: 3.1467 - accuracy: 0.7960\nEpoch 91/100\n8000/8000 [==============================] - 2s 269us/step - loss: 3.1467 - accuracy: 0.7960\nEpoch 92/100\n8000/8000 [==============================] - 2s 264us/step - loss: 3.1467 - accuracy: 0.7960\nEpoch 93/100\n8000/8000 [==============================] - 2s 241us/step - loss: 3.1467 - accuracy: 0.7960\nEpoch 94/100\n8000/8000 [==============================] - 3s 341us/step - loss: 3.1467 - accuracy: 0.7960\nEpoch 95/100\n8000/8000 [==============================] - 2s 289us/step - loss: 3.1467 - accuracy: 0.7960\nEpoch 96/100\n8000/8000 [==============================] - 2s 282us/step - loss: 3.1467 - accuracy: 0.7960\nEpoch 97/100\n8000/8000 [==============================] - 3s 366us/step - loss: 3.1467 - accuracy: 0.7960\nEpoch 98/100\n8000/8000 [==============================] - 2s 225us/step - loss: 3.1467 - accuracy: 0.7960\nEpoch 99/100\n8000/8000 [==============================] - 2s 312us/step - loss: 3.1467 - accuracy: 0.7960\nEpoch 100/100\n8000/8000 [==============================] - 3s 335us/step - loss: 3.1467 - accuracy: 0.7960\n"
    },
    {
     "data": {
      "text/plain": "<keras.callbacks.callbacks.History at 0x7f725657dfd0>"
     },
     "execution_count": 26,
     "metadata": {},
     "output_type": "execute_result"
    }
   ],
   "source": [
    "del classifier\n",
    "\n",
    "classifier = Sequential()\n",
    "\n",
    "classifier.add(Dense(units = 6, kernel_initializer = 'uniform', activation = 'relu', input_dim = 11))\n",
    "\n",
    "classifier.add(Dense(units = 6, kernel_initializer = 'uniform', activation = 'relu'))\n",
    "\n",
    "classifier.add(Dense(units = 1, kernel_initializer = 'uniform', activation = 'softsign'))\n",
    "\n",
    "classifier.compile(optimizer = 'adam', loss = 'binary_crossentropy', metrics = ['accuracy'])\n",
    "\n",
    "classifier.fit(X_train, y_train, batch_size = 10, epochs = 100)"
   ]
  },
  {
   "cell_type": "code",
   "execution_count": 28,
   "metadata": {},
   "outputs": [],
   "source": [
    "y_pred = classifier.predict(X_test)\n",
    "y_pred = (y_pred > 0.5)"
   ]
  },
  {
   "cell_type": "markdown",
   "metadata": {},
   "source": [
    "# Making the Confusion Matrix"
   ]
  },
  {
   "cell_type": "code",
   "execution_count": 29,
   "metadata": {},
   "outputs": [
    {
     "name": "stdout",
     "output_type": "stream",
     "text": "[[1595    0]\n [ 405    0]]\n"
    }
   ],
   "source": [
    "from sklearn.metrics import confusion_matrix\n",
    "cm = confusion_matrix(y_test, y_pred)\n",
    "print(cm)"
   ]
  },
  {
   "cell_type": "markdown",
   "metadata": {},
   "source": [
    "# Initialising the 3rd ANN"
   ]
  },
  {
   "cell_type": "code",
   "execution_count": 17,
   "metadata": {},
   "outputs": [
    {
     "name": "stdout",
     "output_type": "stream",
     "text": [
      "Epoch 1/100\n",
      "8000/8000 [==============================] - 2s 242us/step - loss: 0.5123 - acc: 0.7960\n",
      "Epoch 2/100\n",
      "8000/8000 [==============================] - 2s 193us/step - loss: 0.4461 - acc: 0.7960\n",
      "Epoch 3/100\n",
      "8000/8000 [==============================] - 2s 191us/step - loss: 0.4341 - acc: 0.7956\n",
      "Epoch 4/100\n",
      "8000/8000 [==============================] - 1s 187us/step - loss: 0.4297 - acc: 0.7982\n",
      "Epoch 5/100\n",
      "8000/8000 [==============================] - 2s 190us/step - loss: 0.4280 - acc: 0.8000\n",
      "Epoch 6/100\n",
      "8000/8000 [==============================] - 1s 186us/step - loss: 0.4276 - acc: 0.8030\n",
      "Epoch 7/100\n",
      "8000/8000 [==============================] - 2s 189us/step - loss: 0.4266 - acc: 0.8042\n",
      "Epoch 8/100\n",
      "8000/8000 [==============================] - 2s 226us/step - loss: 0.4271 - acc: 0.8045\n",
      "Epoch 9/100\n",
      "8000/8000 [==============================] - 2s 252us/step - loss: 0.4268 - acc: 0.8049\n",
      "Epoch 10/100\n",
      "8000/8000 [==============================] - 2s 193us/step - loss: 0.4266 - acc: 0.8056\n",
      "Epoch 11/100\n",
      "8000/8000 [==============================] - 2s 196us/step - loss: 0.4259 - acc: 0.8057\n",
      "Epoch 12/100\n",
      "8000/8000 [==============================] - 2s 191us/step - loss: 0.4252 - acc: 0.8084\n",
      "Epoch 13/100\n",
      "8000/8000 [==============================] - 2s 204us/step - loss: 0.4240 - acc: 0.8142\n",
      "Epoch 14/100\n",
      "8000/8000 [==============================] - 2s 202us/step - loss: 0.4225 - acc: 0.8169\n",
      "Epoch 15/100\n",
      "8000/8000 [==============================] - 2s 195us/step - loss: 0.4206 - acc: 0.8206\n",
      "Epoch 16/100\n",
      "8000/8000 [==============================] - 2s 200us/step - loss: 0.4188 - acc: 0.8235\n",
      "Epoch 17/100\n",
      "8000/8000 [==============================] - 2s 195us/step - loss: 0.4175 - acc: 0.8249\n",
      "Epoch 18/100\n",
      "8000/8000 [==============================] - 2s 192us/step - loss: 0.4161 - acc: 0.8255\n",
      "Epoch 19/100\n",
      "8000/8000 [==============================] - 2s 222us/step - loss: 0.4146 - acc: 0.8277\n",
      "Epoch 20/100\n",
      "8000/8000 [==============================] - 2s 200us/step - loss: 0.4133 - acc: 0.8282\n",
      "Epoch 21/100\n",
      "8000/8000 [==============================] - 2s 201us/step - loss: 0.4123 - acc: 0.8296\n",
      "Epoch 22/100\n",
      "8000/8000 [==============================] - 2s 225us/step - loss: 0.4114 - acc: 0.8307\n",
      "Epoch 23/100\n",
      "8000/8000 [==============================] - 2s 230us/step - loss: 0.4106 - acc: 0.8302\n",
      "Epoch 24/100\n",
      "8000/8000 [==============================] - 2s 205us/step - loss: 0.4097 - acc: 0.8315\n",
      "Epoch 25/100\n",
      "8000/8000 [==============================] - 2s 247us/step - loss: 0.4093 - acc: 0.8317\n",
      "Epoch 26/100\n",
      "8000/8000 [==============================] - 2s 259us/step - loss: 0.4085 - acc: 0.8325\n",
      "Epoch 27/100\n",
      "8000/8000 [==============================] - 2s 283us/step - loss: 0.4082 - acc: 0.8324\n",
      "Epoch 28/100\n",
      "8000/8000 [==============================] - 3s 385us/step - loss: 0.4077 - acc: 0.8336\n",
      "Epoch 29/100\n",
      "8000/8000 [==============================] - 2s 208us/step - loss: 0.4073 - acc: 0.8341\n",
      "Epoch 30/100\n",
      "8000/8000 [==============================] - 2s 204us/step - loss: 0.4068 - acc: 0.8329\n",
      "Epoch 31/100\n",
      "8000/8000 [==============================] - 2s 202us/step - loss: 0.4063 - acc: 0.8341\n",
      "Epoch 32/100\n",
      "8000/8000 [==============================] - 2s 198us/step - loss: 0.4060 - acc: 0.8350\n",
      "Epoch 33/100\n",
      "8000/8000 [==============================] - 2s 200us/step - loss: 0.4057 - acc: 0.8351\n",
      "Epoch 34/100\n",
      "8000/8000 [==============================] - 2s 220us/step - loss: 0.4055 - acc: 0.8342\n",
      "Epoch 35/100\n",
      "8000/8000 [==============================] - 2s 205us/step - loss: 0.4051 - acc: 0.8347\n",
      "Epoch 36/100\n",
      "8000/8000 [==============================] - 2s 202us/step - loss: 0.4049 - acc: 0.8340\n",
      "Epoch 37/100\n",
      "8000/8000 [==============================] - 2s 202us/step - loss: 0.4046 - acc: 0.8336\n",
      "Epoch 38/100\n",
      "8000/8000 [==============================] - 2s 203us/step - loss: 0.4042 - acc: 0.8341\n",
      "Epoch 39/100\n",
      "8000/8000 [==============================] - 2s 224us/step - loss: 0.4043 - acc: 0.8336\n",
      "Epoch 40/100\n",
      "8000/8000 [==============================] - 2s 232us/step - loss: 0.4039 - acc: 0.8342\n",
      "Epoch 41/100\n",
      "8000/8000 [==============================] - 2s 269us/step - loss: 0.4038 - acc: 0.8342\n",
      "Epoch 42/100\n",
      "8000/8000 [==============================] - 2s 224us/step - loss: 0.4033 - acc: 0.8337\n",
      "Epoch 43/100\n",
      "8000/8000 [==============================] - 2s 304us/step - loss: 0.4030 - acc: 0.8340\n",
      "Epoch 44/100\n",
      "8000/8000 [==============================] - 1s 187us/step - loss: 0.4031 - acc: 0.8339\n",
      "Epoch 45/100\n",
      "8000/8000 [==============================] - 1s 183us/step - loss: 0.4025 - acc: 0.8341\n",
      "Epoch 46/100\n",
      "8000/8000 [==============================] - 2s 189us/step - loss: 0.4023 - acc: 0.8337\n",
      "Epoch 47/100\n",
      "8000/8000 [==============================] - 2s 220us/step - loss: 0.4019 - acc: 0.8329\n",
      "Epoch 48/100\n",
      "8000/8000 [==============================] - 2s 188us/step - loss: 0.4019 - acc: 0.8337\n",
      "Epoch 49/100\n",
      "8000/8000 [==============================] - 2s 197us/step - loss: 0.4017 - acc: 0.8341\n",
      "Epoch 50/100\n",
      "8000/8000 [==============================] - 2s 200us/step - loss: 0.4015 - acc: 0.8342\n",
      "Epoch 51/100\n",
      "8000/8000 [==============================] - 2s 195us/step - loss: 0.4011 - acc: 0.8340\n",
      "Epoch 52/100\n",
      "8000/8000 [==============================] - 2s 196us/step - loss: 0.4010 - acc: 0.8337\n",
      "Epoch 53/100\n",
      "8000/8000 [==============================] - 2s 198us/step - loss: 0.4006 - acc: 0.8351\n",
      "Epoch 54/100\n",
      "8000/8000 [==============================] - 2s 201us/step - loss: 0.4003 - acc: 0.8354\n",
      "Epoch 55/100\n",
      "8000/8000 [==============================] - 2s 207us/step - loss: 0.4004 - acc: 0.8340\n",
      "Epoch 56/100\n",
      "8000/8000 [==============================] - 2s 212us/step - loss: 0.4000 - acc: 0.8337\n",
      "Epoch 57/100\n",
      "8000/8000 [==============================] - 2s 210us/step - loss: 0.3998 - acc: 0.8340\n",
      "Epoch 58/100\n",
      "8000/8000 [==============================] - 2s 195us/step - loss: 0.3993 - acc: 0.8345\n",
      "Epoch 59/100\n",
      "8000/8000 [==============================] - 2s 214us/step - loss: 0.3991 - acc: 0.8344\n",
      "Epoch 60/100\n",
      "8000/8000 [==============================] - 2s 208us/step - loss: 0.3989 - acc: 0.8337\n",
      "Epoch 61/100\n",
      "8000/8000 [==============================] - 2s 210us/step - loss: 0.3988 - acc: 0.8347\n",
      "Epoch 62/100\n",
      "8000/8000 [==============================] - 3s 375us/step - loss: 0.3986 - acc: 0.8345\n",
      "Epoch 63/100\n",
      "8000/8000 [==============================] - 3s 382us/step - loss: 0.3982 - acc: 0.8342\n",
      "Epoch 64/100\n",
      "8000/8000 [==============================] - 2s 301us/step - loss: 0.3981 - acc: 0.8341\n",
      "Epoch 65/100\n",
      "8000/8000 [==============================] - 2s 219us/step - loss: 0.3978 - acc: 0.8347\n",
      "Epoch 66/100\n",
      "8000/8000 [==============================] - 1s 183us/step - loss: 0.3976 - acc: 0.8347\n",
      "Epoch 67/100\n",
      "8000/8000 [==============================] - 2s 237us/step - loss: 0.3973 - acc: 0.8349\n",
      "Epoch 68/100\n",
      "8000/8000 [==============================] - 2s 228us/step - loss: 0.3972 - acc: 0.8352\n",
      "Epoch 69/100\n",
      "8000/8000 [==============================] - 1s 171us/step - loss: 0.3971 - acc: 0.8342\n",
      "Epoch 70/100\n",
      "8000/8000 [==============================] - 1s 176us/step - loss: 0.3968 - acc: 0.8350\n",
      "Epoch 71/100\n",
      "8000/8000 [==============================] - 1s 175us/step - loss: 0.3965 - acc: 0.8355\n",
      "Epoch 72/100\n",
      "8000/8000 [==============================] - 2s 222us/step - loss: 0.3965 - acc: 0.8351\n",
      "Epoch 73/100\n",
      "8000/8000 [==============================] - 2s 188us/step - loss: 0.3963 - acc: 0.8355\n",
      "Epoch 74/100\n",
      "8000/8000 [==============================] - 2s 249us/step - loss: 0.3959 - acc: 0.8354\n",
      "Epoch 75/100\n",
      "8000/8000 [==============================] - 3s 416us/step - loss: 0.3958 - acc: 0.8354\n",
      "Epoch 76/100\n",
      "8000/8000 [==============================] - 3s 410us/step - loss: 0.3958 - acc: 0.8357\n",
      "Epoch 77/100\n",
      "8000/8000 [==============================] - 4s 475us/step - loss: 0.3954 - acc: 0.8350\n",
      "Epoch 78/100\n",
      "8000/8000 [==============================] - 4s 444us/step - loss: 0.3955 - acc: 0.8339\n",
      "Epoch 79/100\n",
      "8000/8000 [==============================] - 4s 438us/step - loss: 0.3953 - acc: 0.8352\n",
      "Epoch 80/100\n",
      "8000/8000 [==============================] - 4s 459us/step - loss: 0.3951 - acc: 0.8350\n",
      "Epoch 81/100\n",
      "8000/8000 [==============================] - 4s 496us/step - loss: 0.3949 - acc: 0.8352\n",
      "Epoch 82/100\n",
      "8000/8000 [==============================] - 5s 573us/step - loss: 0.3947 - acc: 0.8351\n",
      "Epoch 83/100\n",
      "8000/8000 [==============================] - 5s 567us/step - loss: 0.3949 - acc: 0.8355\n",
      "Epoch 84/100\n",
      "8000/8000 [==============================] - 4s 484us/step - loss: 0.3944 - acc: 0.8359\n",
      "Epoch 85/100\n",
      "8000/8000 [==============================] - 4s 441us/step - loss: 0.3944 - acc: 0.8362\n",
      "Epoch 86/100\n",
      "8000/8000 [==============================] - 2s 241us/step - loss: 0.3941 - acc: 0.8365\n",
      "Epoch 87/100\n",
      "8000/8000 [==============================] - 3s 351us/step - loss: 0.3937 - acc: 0.8362\n",
      "Epoch 88/100\n",
      "8000/8000 [==============================] - 2s 295us/step - loss: 0.3939 - acc: 0.8360\n",
      "Epoch 89/100\n",
      "8000/8000 [==============================] - 2s 271us/step - loss: 0.3938 - acc: 0.8369\n",
      "Epoch 90/100\n",
      "8000/8000 [==============================] - 3s 348us/step - loss: 0.3937 - acc: 0.8369\n",
      "Epoch 91/100\n",
      "8000/8000 [==============================] - 2s 297us/step - loss: 0.3935 - acc: 0.8374\n",
      "Epoch 92/100\n",
      "8000/8000 [==============================] - 2s 206us/step - loss: 0.3935 - acc: 0.8346\n",
      "Epoch 93/100\n",
      "8000/8000 [==============================] - 5s 604us/step - loss: 0.3933 - acc: 0.8354\n",
      "Epoch 94/100\n",
      "8000/8000 [==============================] - 4s 466us/step - loss: 0.3931 - acc: 0.8360\n",
      "Epoch 95/100\n",
      "8000/8000 [==============================] - 4s 511us/step - loss: 0.3930 - acc: 0.8347\n",
      "Epoch 96/100\n",
      "8000/8000 [==============================] - 4s 518us/step - loss: 0.3928 - acc: 0.8369\n",
      "Epoch 97/100\n",
      "8000/8000 [==============================] - 5s 589us/step - loss: 0.3928 - acc: 0.8367\n",
      "Epoch 98/100\n",
      "8000/8000 [==============================] - 4s 474us/step - loss: 0.3924 - acc: 0.8371\n",
      "Epoch 99/100\n",
      "8000/8000 [==============================] - 3s 407us/step - loss: 0.3923 - acc: 0.8367\n",
      "Epoch 100/100\n",
      "8000/8000 [==============================] - 3s 352us/step - loss: 0.3921 - acc: 0.8371\n"
     ]
    },
    {
     "data": {
      "text/plain": [
       "<keras.callbacks.History at 0x1a31face80>"
      ]
     },
     "execution_count": 17,
     "metadata": {},
     "output_type": "execute_result"
    }
   ],
   "source": [
    "del classifier\n",
    "\n",
    "classifier = Sequential()\n",
    "\n",
    "classifier.add(Dense(units = 6, kernel_initializer = 'uniform', activation = 'softsign', input_dim = 11))\n",
    "\n",
    "classifier.add(Dense(units = 6, kernel_initializer = 'uniform', activation = 'selu'))\n",
    "\n",
    "classifier.add(Dense(units = 1, kernel_initializer = 'uniform', activation = 'softsign'))\n",
    "\n",
    "classifier.compile(optimizer = 'adam', loss = 'binary_crossentropy', metrics = ['accuracy'])\n",
    "\n",
    "classifier.fit(X_train, y_train, batch_size = 10, epochs = 100)"
   ]
  },
  {
   "cell_type": "code",
   "execution_count": 19,
   "metadata": {},
   "outputs": [],
   "source": [
    "y_pred = classifier.predict(X_test)\n",
    "y_pred = (y_pred > 0.5)"
   ]
  },
  {
   "cell_type": "markdown",
   "metadata": {},
   "source": [
    "# Making the Confusion Matrix"
   ]
  },
  {
   "cell_type": "code",
   "execution_count": 20,
   "metadata": {},
   "outputs": [
    {
     "name": "stdout",
     "output_type": "stream",
     "text": [
      "[[1547   48]\n",
      " [ 265  140]]\n"
     ]
    }
   ],
   "source": [
    "from sklearn.metrics import confusion_matrix\n",
    "cm = confusion_matrix(y_test, y_pred)\n",
    "print(cm)"
   ]
  },
  {
   "cell_type": "markdown",
   "metadata": {},
   "source": [
    "---\n",
    "# Parte 4 - Evaluating, Improving and Tuning the ANN\n",
    "\n",
    "## Evaluating the ANN"
   ]
  },
  {
   "cell_type": "code",
   "execution_count": null,
   "metadata": {},
   "outputs": [],
   "source": [
    "from keras.wrappers.scikit_learn import KerasClassifier\n",
    "from sklearn.model_selection import cross_val_score\n",
    "from keras.models import Sequential\n",
    "from keras.layers import Dense\n",
    "\n",
    "def build_classifier():\n",
    "    classifier = Sequential()\n",
    "    classifier.add(Dense(units = 6, kernel_initializer = 'uniform', activation = 'relu', input_dim = 11))\n",
    "    classifier.add(Dense(units = 6, kernel_initializer = 'uniform', activation = 'relu'))\n",
    "    classifier.add(Dense(units = 1, kernel_initializer = 'uniform', activation = 'sigmoid'))\n",
    "    classifier.compile(optimizer = 'adam', loss = 'binary_crossentropy', metrics = ['accuracy'])\n",
    "    return classifier\n",
    "\n",
    "classifier = KerasClassifier(build_fn = build_classifier, batch_size = 10, epochs = 10)\n",
    "accuracies = cross_val_score(estimator = classifier, X = X_train, y = y_train, cv = 10, n_jobs = -1)\n",
    "mean = accuracies.mean()\n",
    "variance = accuracies.std()\n",
    "print(\"accuracies:%s\\nmean:%s\\nvariance:%s\".format(accuracies, mean, variance))"
   ]
  },
  {
   "cell_type": "markdown",
   "metadata": {},
   "source": [
    "# Improving the ANN\n",
    "# Dropout Regularization to reduce overfitting if needed"
   ]
  },
  {
   "cell_type": "code",
   "execution_count": null,
   "metadata": {},
   "outputs": [],
   "source": [
    "from keras.layers import Dropout\n",
    "\n",
    "def build_classifier():\n",
    "    classifier = Sequential()\n",
    "    classifier.add(Dense(units = 6, kernel_initializer = 'uniform', activation = 'relu', input_dim = 11))\n",
    "    classifier.add(Dropout(rate = 0.1))\n",
    "    classifier.add(Dense(units = 6, kernel_initializer = 'uniform', activation = 'relu'))\n",
    "    classifier.add(Dropout(rate = 0.1))\n",
    "    classifier.add(Dense(units = 1, kernel_initializer = 'uniform', activation = 'sigmoid'))\n",
    "    classifier.compile(optimizer = 'adam', loss = 'binary_crossentropy', metrics = ['accuracy'])\n",
    "    return classifier\n",
    "\n",
    "classifier = KerasClassifier(build_fn = build_classifier, batch_size = 10, epochs = 10)\n",
    "accuracies = cross_val_score(estimator = classifier, X = X_train, y = y_train, cv = 10, n_jobs = -1)\n",
    "mean = accuracies.mean()\n",
    "variance = accuracies.std()"
   ]
  },
  {
   "cell_type": "markdown",
   "metadata": {},
   "source": [
    "# Tuning the ANN"
   ]
  },
  {
   "cell_type": "code",
   "execution_count": null,
   "metadata": {},
   "outputs": [],
   "source": [
    "from keras.wrappers.scikit_learn import KerasClassifier\n",
    "from sklearn.model_selection import GridSearchCV\n",
    "from keras.models import Sequential\n",
    "from keras.layers import Dense\n",
    "\n",
    "def build_classifier(optimizer):\n",
    "    classifier = Sequential()\n",
    "    classifier.add(Dense(units = 6, kernel_initializer = 'uniform', activation = 'relu', input_dim = 11))\n",
    "    classifier.add(Dropout(rate = 0.1))\n",
    "    classifier.add(Dense(units = 6, kernel_initializer = 'uniform', activation = 'relu'))\n",
    "    classifier.add(Dropout(rate = 0.1))\n",
    "    classifier.add(Dense(units = 1, kernel_initializer = 'uniform', activation = 'sigmoid'))\n",
    "    classifier.compile(optimizer = optimizer, loss = 'binary_crossentropy', metrics = ['accuracy'])\n",
    "    return classifier\n",
    "\n",
    "classifier = KerasClassifier(build_fn = build_classifier)"
   ]
  },
  {
   "cell_type": "code",
   "execution_count": null,
   "metadata": {},
   "outputs": [],
   "source": [
    "parameters = {'batch_size': [10, 24, 32],\n",
    "              'epochs': [50, 100, 200],\n",
    "              'optimizer': ['adam', 'rmsprop']}\n",
    "\n",
    "grid_search = GridSearchCV(estimator = classifier,\n",
    "                           scoring = 'accuracy',\n",
    "                           param_grid = parameters,\n",
    "                           cv = 10)\n",
    "\n",
    "grid_search = grid_search.fit(X_train, y_train)\n",
    "\n",
    "best_parameters = grid_search.best_params_\n",
    "best_accuracy = grid_search.best_score_"
   ]
  },
  {
   "cell_type": "markdown",
   "metadata": {},
   "source": [
    "# FIM"
   ]
  },
  {
   "cell_type": "markdown",
   "metadata": {},
   "source": [
    "> Professor Diego Dorgam  \n",
    "> [@diegodorgam](https://twitter.com/diegodorgam)"
   ]
  }
 ],
 "metadata": {
  "kernelspec": {
   "display_name": "Python 3",
   "language": "python",
   "name": "python3"
  },
  "language_info": {
   "codemirror_mode": {
    "name": "ipython",
    "version": 3
   },
   "file_extension": ".py",
   "mimetype": "text/x-python",
   "name": "python",
   "nbconvert_exporter": "python",
   "pygments_lexer": "ipython3",
   "version": "3.7.4"
  }
 },
 "nbformat": 4,
 "nbformat_minor": 4
}