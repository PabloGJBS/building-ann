{
 "cells": [
  {
   "cell_type": "markdown",
   "metadata": {},
   "source": [
    "# REDES NEURAIS ARTIFICIAIS\n",
    "\n",
    "[Aula 3 de Deep Learning](http://bit.ly/dn-unb03) da Engenharia de Software da UnB"
   ]
  },
  {
   "cell_type": "markdown",
   "metadata": {},
   "source": [
    "# Parte 1 - Pré-processamento dos Dados"
   ]
  },
  {
   "cell_type": "markdown",
   "metadata": {},
   "source": [
    "### Importar as libs"
   ]
  },
  {
   "cell_type": "code",
   "execution_count": 1,
   "metadata": {
    "colab": {},
    "colab_type": "code",
    "id": "MxkJoQBkUIHC"
   },
   "outputs": [],
   "source": [
    "import numpy as np\n",
    "import pandas as pd\n",
    "import tensorflow as tf"
   ]
  },
  {
   "cell_type": "code",
   "execution_count": 2,
   "metadata": {
    "colab": {
     "base_uri": "https://localhost:8080/",
     "height": 34
    },
    "colab_type": "code",
    "id": "ZaTwK7ojXr2F",
    "outputId": "0b27a96d-d11a-43e8-ab4b-87c1f01896fe"
   },
   "outputs": [
    {
     "data": {
      "text/plain": [
       "'2.2.0'"
      ]
     },
     "execution_count": 2,
     "metadata": {},
     "output_type": "execute_result"
    }
   ],
   "source": [
    "tf.__version__"
   ]
  },
  {
   "cell_type": "markdown",
   "metadata": {},
   "source": [
    "### Importar o dataset"
   ]
  },
  {
   "cell_type": "code",
   "execution_count": 3,
   "metadata": {},
   "outputs": [
    {
     "data": {
      "text/html": [
       "<div>\n",
       "<style scoped>\n",
       "    .dataframe tbody tr th:only-of-type {\n",
       "        vertical-align: middle;\n",
       "    }\n",
       "\n",
       "    .dataframe tbody tr th {\n",
       "        vertical-align: top;\n",
       "    }\n",
       "\n",
       "    .dataframe thead th {\n",
       "        text-align: right;\n",
       "    }\n",
       "</style>\n",
       "<table border=\"1\" class=\"dataframe\">\n",
       "  <thead>\n",
       "    <tr style=\"text-align: right;\">\n",
       "      <th></th>\n",
       "      <th>RowNumber</th>\n",
       "      <th>CustomerId</th>\n",
       "      <th>Surname</th>\n",
       "      <th>CreditScore</th>\n",
       "      <th>Geography</th>\n",
       "      <th>Gender</th>\n",
       "      <th>Age</th>\n",
       "      <th>Tenure</th>\n",
       "      <th>Balance</th>\n",
       "      <th>NumOfProducts</th>\n",
       "      <th>HasCrCard</th>\n",
       "      <th>IsActiveMember</th>\n",
       "      <th>EstimatedSalary</th>\n",
       "      <th>Exited</th>\n",
       "    </tr>\n",
       "  </thead>\n",
       "  <tbody>\n",
       "    <tr>\n",
       "      <th>0</th>\n",
       "      <td>1</td>\n",
       "      <td>15634602</td>\n",
       "      <td>Hargrave</td>\n",
       "      <td>619</td>\n",
       "      <td>France</td>\n",
       "      <td>Female</td>\n",
       "      <td>42</td>\n",
       "      <td>2</td>\n",
       "      <td>0.00</td>\n",
       "      <td>1</td>\n",
       "      <td>1</td>\n",
       "      <td>1</td>\n",
       "      <td>101348.88</td>\n",
       "      <td>1</td>\n",
       "    </tr>\n",
       "    <tr>\n",
       "      <th>1</th>\n",
       "      <td>2</td>\n",
       "      <td>15647311</td>\n",
       "      <td>Hill</td>\n",
       "      <td>608</td>\n",
       "      <td>Spain</td>\n",
       "      <td>Female</td>\n",
       "      <td>41</td>\n",
       "      <td>1</td>\n",
       "      <td>83807.86</td>\n",
       "      <td>1</td>\n",
       "      <td>0</td>\n",
       "      <td>1</td>\n",
       "      <td>112542.58</td>\n",
       "      <td>0</td>\n",
       "    </tr>\n",
       "    <tr>\n",
       "      <th>2</th>\n",
       "      <td>3</td>\n",
       "      <td>15619304</td>\n",
       "      <td>Onio</td>\n",
       "      <td>502</td>\n",
       "      <td>France</td>\n",
       "      <td>Female</td>\n",
       "      <td>42</td>\n",
       "      <td>8</td>\n",
       "      <td>159660.80</td>\n",
       "      <td>3</td>\n",
       "      <td>1</td>\n",
       "      <td>0</td>\n",
       "      <td>113931.57</td>\n",
       "      <td>1</td>\n",
       "    </tr>\n",
       "    <tr>\n",
       "      <th>3</th>\n",
       "      <td>4</td>\n",
       "      <td>15701354</td>\n",
       "      <td>Boni</td>\n",
       "      <td>699</td>\n",
       "      <td>France</td>\n",
       "      <td>Female</td>\n",
       "      <td>39</td>\n",
       "      <td>1</td>\n",
       "      <td>0.00</td>\n",
       "      <td>2</td>\n",
       "      <td>0</td>\n",
       "      <td>0</td>\n",
       "      <td>93826.63</td>\n",
       "      <td>0</td>\n",
       "    </tr>\n",
       "    <tr>\n",
       "      <th>4</th>\n",
       "      <td>5</td>\n",
       "      <td>15737888</td>\n",
       "      <td>Mitchell</td>\n",
       "      <td>850</td>\n",
       "      <td>Spain</td>\n",
       "      <td>Female</td>\n",
       "      <td>43</td>\n",
       "      <td>2</td>\n",
       "      <td>125510.82</td>\n",
       "      <td>1</td>\n",
       "      <td>1</td>\n",
       "      <td>1</td>\n",
       "      <td>79084.10</td>\n",
       "      <td>0</td>\n",
       "    </tr>\n",
       "  </tbody>\n",
       "</table>\n",
       "</div>"
      ],
      "text/plain": [
       "   RowNumber  CustomerId   Surname  CreditScore Geography  Gender  Age  \\\n",
       "0          1    15634602  Hargrave          619    France  Female   42   \n",
       "1          2    15647311      Hill          608     Spain  Female   41   \n",
       "2          3    15619304      Onio          502    France  Female   42   \n",
       "3          4    15701354      Boni          699    France  Female   39   \n",
       "4          5    15737888  Mitchell          850     Spain  Female   43   \n",
       "\n",
       "   Tenure    Balance  NumOfProducts  HasCrCard  IsActiveMember  \\\n",
       "0       2       0.00              1          1               1   \n",
       "1       1   83807.86              1          0               1   \n",
       "2       8  159660.80              3          1               0   \n",
       "3       1       0.00              2          0               0   \n",
       "4       2  125510.82              1          1               1   \n",
       "\n",
       "   EstimatedSalary  Exited  \n",
       "0        101348.88       1  \n",
       "1        112542.58       0  \n",
       "2        113931.57       1  \n",
       "3         93826.63       0  \n",
       "4         79084.10       0  "
      ]
     },
     "execution_count": 3,
     "metadata": {},
     "output_type": "execute_result"
    }
   ],
   "source": [
    "dataset = pd.read_csv('Churn_Modelling.csv')\n",
    "dataset.head()"
   ]
  },
  {
   "cell_type": "code",
   "execution_count": 4,
   "metadata": {},
   "outputs": [
    {
     "name": "stdout",
     "output_type": "stream",
     "text": [
      "X >>\n",
      " [[619 'France' 'Female' ... 1 1 101348.88]\n",
      " [608 'Spain' 'Female' ... 0 1 112542.58]\n",
      " [502 'France' 'Female' ... 1 0 113931.57]\n",
      " ...\n",
      " [709 'France' 'Female' ... 0 1 42085.58]\n",
      " [772 'Germany' 'Male' ... 1 0 92888.52]\n",
      " [792 'France' 'Female' ... 1 0 38190.78]]\n",
      "y >>\n",
      " [1 0 1 ... 1 1 0]\n"
     ]
    }
   ],
   "source": [
    "X = dataset.iloc[:, 3:13].values\n",
    "y = dataset.iloc[:, 13].values\n",
    "print(\"X >>\\n\",X)\n",
    "print(\"y >>\\n\",y)"
   ]
  },
  {
   "cell_type": "markdown",
   "metadata": {},
   "source": [
    "### Transformando os dados categóricos\n"
   ]
  },
  {
   "cell_type": "code",
   "execution_count": 5,
   "metadata": {},
   "outputs": [
    {
     "name": "stdout",
     "output_type": "stream",
     "text": [
      "[[619 'France' 0 ... 1 1 101348.88]\n",
      " [608 'Spain' 0 ... 0 1 112542.58]\n",
      " [502 'France' 0 ... 1 0 113931.57]\n",
      " ...\n",
      " [709 'France' 0 ... 0 1 42085.58]\n",
      " [772 'Germany' 1 ... 1 0 92888.52]\n",
      " [792 'France' 0 ... 1 0 38190.78]]\n",
      "[[1.0 0.0 0.0 ... 1 1 101348.88]\n",
      " [0.0 0.0 1.0 ... 0 1 112542.58]\n",
      " [1.0 0.0 0.0 ... 1 0 113931.57]\n",
      " ...\n",
      " [1.0 0.0 0.0 ... 0 1 42085.58]\n",
      " [0.0 1.0 0.0 ... 1 0 92888.52]\n",
      " [1.0 0.0 0.0 ... 1 0 38190.78]]\n"
     ]
    }
   ],
   "source": [
    "# Label Encoding the \"Gender\" column\n",
    "from sklearn.preprocessing import LabelEncoder\n",
    "le = LabelEncoder()\n",
    "X[:, 2] = le.fit_transform(X[:, 2])\n",
    "print(X)\n",
    "# One Hot Encoding the \"Geography\" column\n",
    "from sklearn.compose import ColumnTransformer\n",
    "from sklearn.preprocessing import OneHotEncoder\n",
    "ct = ColumnTransformer(transformers=[('encoder', OneHotEncoder(), [1])], remainder='passthrough')\n",
    "X = np.array(ct.fit_transform(X))\n",
    "print(X)"
   ]
  },
  {
   "cell_type": "markdown",
   "metadata": {},
   "source": [
    "# Dividindo o dataset em conjunto de treinamento e conjunto de teste"
   ]
  },
  {
   "cell_type": "code",
   "execution_count": 6,
   "metadata": {},
   "outputs": [],
   "source": [
    "from sklearn.model_selection import train_test_split\n",
    "X_train, X_test, y_train, y_test = train_test_split(X, y, test_size = 0.2, random_state = 0)"
   ]
  },
  {
   "cell_type": "markdown",
   "metadata": {},
   "source": [
    "# Feature Scaling"
   ]
  },
  {
   "cell_type": "code",
   "execution_count": 7,
   "metadata": {},
   "outputs": [],
   "source": [
    "from sklearn.preprocessing import StandardScaler\n",
    "sc = StandardScaler()\n",
    "X_train = sc.fit_transform(X_train)\n",
    "X_test = sc.transform(X_test)"
   ]
  },
  {
   "cell_type": "code",
   "execution_count": 8,
   "metadata": {},
   "outputs": [
    {
     "data": {
      "text/plain": [
       "(8000, 12)"
      ]
     },
     "execution_count": 8,
     "metadata": {},
     "output_type": "execute_result"
    }
   ],
   "source": [
    "np.shape(X_train)"
   ]
  },
  {
   "cell_type": "markdown",
   "metadata": {},
   "source": [
    "---\n",
    "# Parte 2 -Vamos construir uma ANN!\n"
   ]
  },
  {
   "cell_type": "markdown",
   "metadata": {
    "colab_type": "text",
    "id": "KvdeScabXtlB"
   },
   "source": [
    "### Initializing the ANN"
   ]
  },
  {
   "cell_type": "code",
   "execution_count": 9,
   "metadata": {
    "colab": {},
    "colab_type": "code",
    "id": "3dtrScHxXQox"
   },
   "outputs": [],
   "source": [
    "ann = tf.keras.models.Sequential()"
   ]
  },
  {
   "cell_type": "markdown",
   "metadata": {
    "colab_type": "text",
    "id": "rP6urV6SX7kS"
   },
   "source": [
    "### Adding the input layer and the first hidden layer"
   ]
  },
  {
   "cell_type": "code",
   "execution_count": 10,
   "metadata": {},
   "outputs": [],
   "source": [
    "ann.add(tf.keras.layers.Dense(64, kernel_initializer='lecun_normal', activation='selu'))"
   ]
  },
  {
   "cell_type": "code",
   "execution_count": 11,
   "metadata": {
    "colab": {},
    "colab_type": "code",
    "id": "bppGycBXYCQr"
   },
   "outputs": [],
   "source": [
    "#ann.add(tf.keras.layers.Dense(units=12, activation='relu'))"
   ]
  },
  {
   "cell_type": "markdown",
   "metadata": {
    "colab_type": "text",
    "id": "BELWAc_8YJze"
   },
   "source": [
    "### Adding the second hidden layer"
   ]
  },
  {
   "cell_type": "code",
   "execution_count": 12,
   "metadata": {
    "colab": {},
    "colab_type": "code",
    "id": "JneR0u0sYRTd"
   },
   "outputs": [],
   "source": [
    "#ann.add(tf.keras.layers.Dense(units=12, activation='relu'))"
   ]
  },
  {
   "cell_type": "code",
   "execution_count": 13,
   "metadata": {},
   "outputs": [],
   "source": [
    "ann.add(tf.keras.layers.Dense(32, kernel_initializer='lecun_normal', activation='selu'))"
   ]
  },
  {
   "cell_type": "markdown",
   "metadata": {
    "colab_type": "text",
    "id": "OyNEe6RXYcU4"
   },
   "source": [
    "### Adding the output layer"
   ]
  },
  {
   "cell_type": "code",
   "execution_count": 14,
   "metadata": {
    "colab": {},
    "colab_type": "code",
    "id": "Cn3x41RBYfvY"
   },
   "outputs": [],
   "source": [
    "#ann.add(tf.keras.layers.Dense(units=1, activation='sigmoid'))"
   ]
  },
  {
   "cell_type": "code",
   "execution_count": 15,
   "metadata": {},
   "outputs": [],
   "source": [
    "ann.add(tf.keras.layers.Dense(16, kernel_initializer='lecun_normal', activation='selu'))\n",
    "ann.add(tf.keras.layers.Dense(10, activation='softmax'))"
   ]
  },
  {
   "cell_type": "code",
   "execution_count": 16,
   "metadata": {},
   "outputs": [],
   "source": [
    "ann.add(tf.keras.layers.Dense(units=1, activation='sigmoid'))"
   ]
  },
  {
   "cell_type": "markdown",
   "metadata": {
    "colab_type": "text",
    "id": "JT4u2S1_Y4WG"
   },
   "source": [
    "## Part 3 - Training the ANN"
   ]
  },
  {
   "cell_type": "markdown",
   "metadata": {
    "colab_type": "text",
    "id": "8GWlJChhY_ZI"
   },
   "source": [
    "### Compiling the ANN"
   ]
  },
  {
   "cell_type": "code",
   "execution_count": 17,
   "metadata": {
    "colab": {},
    "colab_type": "code",
    "id": "fG3RrwDXZEaS"
   },
   "outputs": [],
   "source": [
    "ann.compile(optimizer = 'adam', loss = 'binary_crossentropy', metrics = ['accuracy'])"
   ]
  },
  {
   "cell_type": "markdown",
   "metadata": {
    "colab_type": "text",
    "id": "0QR_G5u7ZLSM"
   },
   "source": [
    "### Training the ANN on the Training set"
   ]
  },
  {
   "cell_type": "code",
   "execution_count": 18,
   "metadata": {
    "colab": {
     "base_uri": "https://localhost:8080/",
     "height": 1000
    },
    "colab_type": "code",
    "id": "nHZ-LKv_ZRb3",
    "outputId": "718cc4b0-b5aa-40f0-9b20-d3d31730a531"
   },
   "outputs": [
    {
     "name": "stdout",
     "output_type": "stream",
     "text": [
      "Epoch 1/100\n",
      "250/250 [==============================] - 0s 513us/step - loss: 0.5358 - accuracy: 0.8011\n",
      "Epoch 2/100\n",
      "250/250 [==============================] - 0s 504us/step - loss: 0.4654 - accuracy: 0.8284\n",
      "Epoch 3/100\n",
      "250/250 [==============================] - 0s 496us/step - loss: 0.4237 - accuracy: 0.8317\n",
      "Epoch 4/100\n",
      "250/250 [==============================] - 0s 500us/step - loss: 0.4032 - accuracy: 0.8393\n",
      "Epoch 5/100\n",
      "250/250 [==============================] - 0s 501us/step - loss: 0.3896 - accuracy: 0.8594\n",
      "Epoch 6/100\n",
      "250/250 [==============================] - 0s 504us/step - loss: 0.3793 - accuracy: 0.8593\n",
      "Epoch 7/100\n",
      "250/250 [==============================] - 0s 481us/step - loss: 0.3724 - accuracy: 0.8622\n",
      "Epoch 8/100\n",
      "250/250 [==============================] - 0s 516us/step - loss: 0.3670 - accuracy: 0.8606\n",
      "Epoch 9/100\n",
      "250/250 [==============================] - 0s 490us/step - loss: 0.3624 - accuracy: 0.8637\n",
      "Epoch 10/100\n",
      "250/250 [==============================] - 0s 489us/step - loss: 0.3591 - accuracy: 0.8631\n",
      "Epoch 11/100\n",
      "250/250 [==============================] - 0s 494us/step - loss: 0.3557 - accuracy: 0.8654\n",
      "Epoch 12/100\n",
      "250/250 [==============================] - 0s 495us/step - loss: 0.3514 - accuracy: 0.8666\n",
      "Epoch 13/100\n",
      "250/250 [==============================] - 0s 491us/step - loss: 0.3486 - accuracy: 0.8664\n",
      "Epoch 14/100\n",
      "250/250 [==============================] - 0s 499us/step - loss: 0.3461 - accuracy: 0.8680\n",
      "Epoch 15/100\n",
      "250/250 [==============================] - 0s 503us/step - loss: 0.3443 - accuracy: 0.8674\n",
      "Epoch 16/100\n",
      "250/250 [==============================] - 0s 495us/step - loss: 0.3420 - accuracy: 0.8686\n",
      "Epoch 17/100\n",
      "250/250 [==============================] - 0s 486us/step - loss: 0.3395 - accuracy: 0.8689\n",
      "Epoch 18/100\n",
      "250/250 [==============================] - 0s 492us/step - loss: 0.3376 - accuracy: 0.8694\n",
      "Epoch 19/100\n",
      "250/250 [==============================] - 0s 488us/step - loss: 0.3362 - accuracy: 0.8714\n",
      "Epoch 20/100\n",
      "250/250 [==============================] - 0s 497us/step - loss: 0.3348 - accuracy: 0.8695\n",
      "Epoch 21/100\n",
      "250/250 [==============================] - 0s 489us/step - loss: 0.3316 - accuracy: 0.8719\n",
      "Epoch 22/100\n",
      "250/250 [==============================] - 0s 493us/step - loss: 0.3317 - accuracy: 0.8709\n",
      "Epoch 23/100\n",
      "250/250 [==============================] - 0s 494us/step - loss: 0.3285 - accuracy: 0.8725\n",
      "Epoch 24/100\n",
      "250/250 [==============================] - 0s 486us/step - loss: 0.3271 - accuracy: 0.8750\n",
      "Epoch 25/100\n",
      "250/250 [==============================] - 0s 494us/step - loss: 0.3265 - accuracy: 0.8737\n",
      "Epoch 26/100\n",
      "250/250 [==============================] - 0s 495us/step - loss: 0.3237 - accuracy: 0.8737\n",
      "Epoch 27/100\n",
      "250/250 [==============================] - 0s 496us/step - loss: 0.3236 - accuracy: 0.8750\n",
      "Epoch 28/100\n",
      "250/250 [==============================] - 0s 494us/step - loss: 0.3214 - accuracy: 0.8750\n",
      "Epoch 29/100\n",
      "250/250 [==============================] - 0s 496us/step - loss: 0.3187 - accuracy: 0.8767\n",
      "Epoch 30/100\n",
      "250/250 [==============================] - 0s 501us/step - loss: 0.3187 - accuracy: 0.8759\n",
      "Epoch 31/100\n",
      "250/250 [==============================] - 0s 498us/step - loss: 0.3180 - accuracy: 0.8756\n",
      "Epoch 32/100\n",
      "250/250 [==============================] - 0s 493us/step - loss: 0.3155 - accuracy: 0.8784\n",
      "Epoch 33/100\n",
      "250/250 [==============================] - 0s 493us/step - loss: 0.3134 - accuracy: 0.8781\n",
      "Epoch 34/100\n",
      "250/250 [==============================] - 0s 496us/step - loss: 0.3130 - accuracy: 0.8800\n",
      "Epoch 35/100\n",
      "250/250 [==============================] - 0s 487us/step - loss: 0.3119 - accuracy: 0.8792\n",
      "Epoch 36/100\n",
      "250/250 [==============================] - 0s 500us/step - loss: 0.3109 - accuracy: 0.8805\n",
      "Epoch 37/100\n",
      "250/250 [==============================] - 0s 493us/step - loss: 0.3114 - accuracy: 0.8810\n",
      "Epoch 38/100\n",
      "250/250 [==============================] - 0s 506us/step - loss: 0.3080 - accuracy: 0.8801\n",
      "Epoch 39/100\n",
      "250/250 [==============================] - 0s 514us/step - loss: 0.3105 - accuracy: 0.8790\n",
      "Epoch 40/100\n",
      "250/250 [==============================] - 0s 505us/step - loss: 0.3072 - accuracy: 0.8824\n",
      "Epoch 41/100\n",
      "250/250 [==============================] - 0s 516us/step - loss: 0.3057 - accuracy: 0.8815\n",
      "Epoch 42/100\n",
      "250/250 [==============================] - 0s 498us/step - loss: 0.3043 - accuracy: 0.8820\n",
      "Epoch 43/100\n",
      "250/250 [==============================] - 0s 499us/step - loss: 0.3025 - accuracy: 0.8846\n",
      "Epoch 44/100\n",
      "250/250 [==============================] - 0s 502us/step - loss: 0.3026 - accuracy: 0.8863\n",
      "Epoch 45/100\n",
      "250/250 [==============================] - 0s 481us/step - loss: 0.3022 - accuracy: 0.8840\n",
      "Epoch 46/100\n",
      "250/250 [==============================] - 0s 488us/step - loss: 0.3040 - accuracy: 0.8836\n",
      "Epoch 47/100\n",
      "250/250 [==============================] - 0s 494us/step - loss: 0.3003 - accuracy: 0.8848\n",
      "Epoch 48/100\n",
      "250/250 [==============================] - 0s 499us/step - loss: 0.3000 - accuracy: 0.8841\n",
      "Epoch 49/100\n",
      "250/250 [==============================] - 0s 495us/step - loss: 0.2997 - accuracy: 0.8844\n",
      "Epoch 50/100\n",
      "250/250 [==============================] - 0s 498us/step - loss: 0.2980 - accuracy: 0.8844\n",
      "Epoch 51/100\n",
      "250/250 [==============================] - 0s 491us/step - loss: 0.2984 - accuracy: 0.8848\n",
      "Epoch 52/100\n",
      "250/250 [==============================] - 0s 494us/step - loss: 0.2956 - accuracy: 0.8876\n",
      "Epoch 53/100\n",
      "250/250 [==============================] - 0s 490us/step - loss: 0.2949 - accuracy: 0.8889\n",
      "Epoch 54/100\n",
      "250/250 [==============================] - 0s 490us/step - loss: 0.2951 - accuracy: 0.8859\n",
      "Epoch 55/100\n",
      "250/250 [==============================] - 0s 488us/step - loss: 0.2944 - accuracy: 0.8876\n",
      "Epoch 56/100\n",
      "250/250 [==============================] - 0s 495us/step - loss: 0.2919 - accuracy: 0.8881\n",
      "Epoch 57/100\n",
      "250/250 [==============================] - 0s 489us/step - loss: 0.2925 - accuracy: 0.8899\n",
      "Epoch 58/100\n",
      "250/250 [==============================] - 0s 489us/step - loss: 0.2903 - accuracy: 0.8894\n",
      "Epoch 59/100\n",
      "250/250 [==============================] - 0s 504us/step - loss: 0.2918 - accuracy: 0.8885\n",
      "Epoch 60/100\n",
      "250/250 [==============================] - 0s 487us/step - loss: 0.2888 - accuracy: 0.8907\n",
      "Epoch 61/100\n",
      "250/250 [==============================] - 0s 500us/step - loss: 0.2872 - accuracy: 0.8901\n",
      "Epoch 62/100\n",
      "250/250 [==============================] - 0s 491us/step - loss: 0.2885 - accuracy: 0.8889\n",
      "Epoch 63/100\n",
      "250/250 [==============================] - 0s 491us/step - loss: 0.2860 - accuracy: 0.8919\n",
      "Epoch 64/100\n",
      "250/250 [==============================] - 0s 510us/step - loss: 0.2855 - accuracy: 0.8915\n",
      "Epoch 65/100\n",
      "250/250 [==============================] - 0s 520us/step - loss: 0.2836 - accuracy: 0.8930\n",
      "Epoch 66/100\n",
      "250/250 [==============================] - 0s 514us/step - loss: 0.2848 - accuracy: 0.8906\n",
      "Epoch 67/100\n",
      "250/250 [==============================] - 0s 513us/step - loss: 0.2850 - accuracy: 0.8914\n",
      "Epoch 68/100\n",
      "250/250 [==============================] - 0s 526us/step - loss: 0.2847 - accuracy: 0.8917\n",
      "Epoch 69/100\n",
      "250/250 [==============================] - 0s 506us/step - loss: 0.2828 - accuracy: 0.8895\n",
      "Epoch 70/100\n",
      "250/250 [==============================] - 0s 493us/step - loss: 0.2810 - accuracy: 0.8935\n",
      "Epoch 71/100\n",
      "250/250 [==============================] - 0s 505us/step - loss: 0.2823 - accuracy: 0.8936\n",
      "Epoch 72/100\n",
      "250/250 [==============================] - 0s 514us/step - loss: 0.2785 - accuracy: 0.8923\n",
      "Epoch 73/100\n",
      "250/250 [==============================] - 0s 569us/step - loss: 0.2802 - accuracy: 0.8936\n",
      "Epoch 74/100\n",
      "250/250 [==============================] - 0s 534us/step - loss: 0.2809 - accuracy: 0.8926\n",
      "Epoch 75/100\n",
      "250/250 [==============================] - 0s 516us/step - loss: 0.2797 - accuracy: 0.8940\n",
      "Epoch 76/100\n",
      "250/250 [==============================] - 0s 520us/step - loss: 0.2751 - accuracy: 0.8956\n",
      "Epoch 77/100\n",
      "250/250 [==============================] - 0s 537us/step - loss: 0.2769 - accuracy: 0.8955\n",
      "Epoch 78/100\n",
      "250/250 [==============================] - 0s 530us/step - loss: 0.2755 - accuracy: 0.8970\n",
      "Epoch 79/100\n"
     ]
    },
    {
     "name": "stdout",
     "output_type": "stream",
     "text": [
      "250/250 [==============================] - 0s 517us/step - loss: 0.2768 - accuracy: 0.8946\n",
      "Epoch 80/100\n",
      "250/250 [==============================] - 0s 487us/step - loss: 0.2737 - accuracy: 0.8970\n",
      "Epoch 81/100\n",
      "250/250 [==============================] - 0s 493us/step - loss: 0.2738 - accuracy: 0.8970\n",
      "Epoch 82/100\n",
      "250/250 [==============================] - 0s 497us/step - loss: 0.2727 - accuracy: 0.8995\n",
      "Epoch 83/100\n",
      "250/250 [==============================] - 0s 509us/step - loss: 0.2701 - accuracy: 0.8988\n",
      "Epoch 84/100\n",
      "250/250 [==============================] - 0s 540us/step - loss: 0.2706 - accuracy: 0.8979\n",
      "Epoch 85/100\n",
      "250/250 [==============================] - 0s 503us/step - loss: 0.2732 - accuracy: 0.8959\n",
      "Epoch 86/100\n",
      "250/250 [==============================] - 0s 501us/step - loss: 0.2685 - accuracy: 0.9003\n",
      "Epoch 87/100\n",
      "250/250 [==============================] - 0s 513us/step - loss: 0.2686 - accuracy: 0.8990\n",
      "Epoch 88/100\n",
      "250/250 [==============================] - 0s 509us/step - loss: 0.2700 - accuracy: 0.8972\n",
      "Epoch 89/100\n",
      "250/250 [==============================] - 0s 508us/step - loss: 0.2692 - accuracy: 0.8985\n",
      "Epoch 90/100\n",
      "250/250 [==============================] - 0s 512us/step - loss: 0.2670 - accuracy: 0.8994\n",
      "Epoch 91/100\n",
      "250/250 [==============================] - 0s 512us/step - loss: 0.2657 - accuracy: 0.9001\n",
      "Epoch 92/100\n",
      "250/250 [==============================] - 0s 504us/step - loss: 0.2658 - accuracy: 0.9015\n",
      "Epoch 93/100\n",
      "250/250 [==============================] - 0s 503us/step - loss: 0.2649 - accuracy: 0.9001\n",
      "Epoch 94/100\n",
      "250/250 [==============================] - 0s 530us/step - loss: 0.2659 - accuracy: 0.8995\n",
      "Epoch 95/100\n",
      "250/250 [==============================] - 0s 508us/step - loss: 0.2667 - accuracy: 0.9009\n",
      "Epoch 96/100\n",
      "250/250 [==============================] - 0s 487us/step - loss: 0.2607 - accuracy: 0.9028\n",
      "Epoch 97/100\n",
      "250/250 [==============================] - 0s 490us/step - loss: 0.2603 - accuracy: 0.9036\n",
      "Epoch 98/100\n",
      "250/250 [==============================] - 0s 495us/step - loss: 0.2630 - accuracy: 0.9005\n",
      "Epoch 99/100\n",
      "250/250 [==============================] - 0s 497us/step - loss: 0.2593 - accuracy: 0.9030\n",
      "Epoch 100/100\n",
      "250/250 [==============================] - 0s 490us/step - loss: 0.2579 - accuracy: 0.9035\n"
     ]
    },
    {
     "data": {
      "text/plain": [
       "<tensorflow.python.keras.callbacks.History at 0x7fa154059910>"
      ]
     },
     "execution_count": 18,
     "metadata": {},
     "output_type": "execute_result"
    }
   ],
   "source": [
    "ann.fit(X_train, y_train, batch_size = 32, epochs = 100)"
   ]
  },
  {
   "cell_type": "markdown",
   "metadata": {},
   "source": [
    "# Parte 3 - Fazendo predições e avaliando o modelo\n",
    "\n",
    "## Prevendo os resultados com o conjunto de testes"
   ]
  },
  {
   "cell_type": "code",
   "execution_count": 19,
   "metadata": {},
   "outputs": [
    {
     "data": {
      "text/plain": [
       "array([[0.3020215 ],\n",
       "       [0.07842138],\n",
       "       [0.07813784],\n",
       "       ...,\n",
       "       [0.03407356],\n",
       "       [0.26528135],\n",
       "       [0.06625548]], dtype=float32)"
      ]
     },
     "execution_count": 19,
     "metadata": {},
     "output_type": "execute_result"
    }
   ],
   "source": [
    "y_pred = ann.predict(X_test)\n",
    "y_pred"
   ]
  },
  {
   "cell_type": "code",
   "execution_count": 20,
   "metadata": {},
   "outputs": [
    {
     "data": {
      "text/plain": [
       "array([[False],\n",
       "       [False],\n",
       "       [False],\n",
       "       ...,\n",
       "       [False],\n",
       "       [False],\n",
       "       [False]])"
      ]
     },
     "execution_count": 20,
     "metadata": {},
     "output_type": "execute_result"
    }
   ],
   "source": [
    "y_pred = (y_pred > 0.5)\n",
    "y_pred"
   ]
  },
  {
   "cell_type": "markdown",
   "metadata": {},
   "source": [
    "# Criando uma Confusion Matrix"
   ]
  },
  {
   "cell_type": "code",
   "execution_count": 21,
   "metadata": {},
   "outputs": [
    {
     "name": "stdout",
     "output_type": "stream",
     "text": [
      "[[1487  108]\n",
      " [ 190  215]]\n"
     ]
    }
   ],
   "source": [
    "from sklearn.metrics import confusion_matrix\n",
    "cm = confusion_matrix(y_test, y_pred)\n",
    "print(cm)"
   ]
  },
  {
   "cell_type": "markdown",
   "metadata": {},
   "source": [
    "# FIM"
   ]
  },
  {
   "cell_type": "markdown",
   "metadata": {},
   "source": [
    "> Professor Diego Dorgam  \n",
    "> [@diegodorgam](https://twitter.com/diegodorgam)"
   ]
  },
  {
   "cell_type": "code",
   "execution_count": 22,
   "metadata": {},
   "outputs": [
    {
     "name": "stderr",
     "output_type": "stream",
     "text": [
      "Using TensorFlow backend.\n"
     ]
    }
   ],
   "source": [
    "from keras.wrappers.scikit_learn import KerasClassifier\n",
    "from sklearn.model_selection import cross_val_score\n",
    "from keras.models import Sequential\n",
    "from keras.layers import Dense"
   ]
  },
  {
   "cell_type": "code",
   "execution_count": 23,
   "metadata": {},
   "outputs": [],
   "source": [
    "def build_classifier():\n",
    "    classifier = Sequential()\n",
    "    classifier.add(Dense(units = 6, kernel_initializer = 'uniform', activation = 'selu', input_dim = 12))\n",
    "    classifier.add(Dense(units = 6, kernel_initializer = 'uniform', activation = 'selu'))\n",
    "    classifier.add(Dense(units = 1, kernel_initializer = 'uniform', activation = 'sigmoid'))\n",
    "    classifer.compile(optimizer = 'adam', loss = 'binary_crossentropy', metrics = ['acc'])\n",
    "    return classifer"
   ]
  },
  {
   "cell_type": "code",
   "execution_count": 24,
   "metadata": {},
   "outputs": [],
   "source": [
    "classifier = KerasClassifier(build_fn = build_classifier, batch_size = 10, epochs = 10)"
   ]
  },
  {
   "cell_type": "code",
   "execution_count": null,
   "metadata": {
    "scrolled": true
   },
   "outputs": [],
   "source": []
  },
  {
   "cell_type": "code",
   "execution_count": null,
   "metadata": {},
   "outputs": [],
   "source": []
  }
 ],
 "metadata": {
  "kernelspec": {
   "display_name": "Python 3",
   "language": "python",
   "name": "python3"
  },
  "language_info": {
   "codemirror_mode": {
    "name": "ipython",
    "version": 3
   },
   "file_extension": ".py",
   "mimetype": "text/x-python",
   "name": "python",
   "nbconvert_exporter": "python",
   "pygments_lexer": "ipython3",
   "version": "3.8.5"
  }
 },
 "nbformat": 4,
 "nbformat_minor": 4
}
