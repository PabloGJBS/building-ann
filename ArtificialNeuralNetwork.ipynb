{
 "cells": [
  {
   "cell_type": "markdown",
   "metadata": {},
   "source": [
    "# REDES NEURAIS ARTIFICIAIS\n",
    "\n",
    "[Aula 3 de Deep Learning](http://bit.ly/dn-unb03) da Engenharia de Software da UnB"
   ]
  },
  {
   "cell_type": "markdown",
   "metadata": {},
   "source": [
    "# Parte 1 - Pré-processamento dos Dados"
   ]
  },
  {
   "cell_type": "markdown",
   "metadata": {},
   "source": [
    "### Importar as libs"
   ]
  },
  {
   "cell_type": "code",
   "execution_count": 1,
   "metadata": {
    "colab": {},
    "colab_type": "code",
    "id": "MxkJoQBkUIHC"
   },
   "outputs": [],
   "source": [
    "import numpy as np\n",
    "import pandas as pd\n",
    "import tensorflow as tf"
   ]
  },
  {
   "cell_type": "code",
   "execution_count": 2,
   "metadata": {
    "colab": {
     "base_uri": "https://localhost:8080/",
     "height": 34
    },
    "colab_type": "code",
    "id": "ZaTwK7ojXr2F",
    "outputId": "0b27a96d-d11a-43e8-ab4b-87c1f01896fe"
   },
   "outputs": [
    {
     "data": {
      "text/plain": [
       "'2.3.1'"
      ]
     },
     "execution_count": 2,
     "metadata": {},
     "output_type": "execute_result"
    }
   ],
   "source": [
    "tf.__version__"
   ]
  },
  {
   "cell_type": "markdown",
   "metadata": {},
   "source": [
    "### Importar o dataset"
   ]
  },
  {
   "cell_type": "code",
   "execution_count": 3,
   "metadata": {},
   "outputs": [
    {
     "data": {
      "text/html": [
       "<div>\n",
       "<style scoped>\n",
       "    .dataframe tbody tr th:only-of-type {\n",
       "        vertical-align: middle;\n",
       "    }\n",
       "\n",
       "    .dataframe tbody tr th {\n",
       "        vertical-align: top;\n",
       "    }\n",
       "\n",
       "    .dataframe thead th {\n",
       "        text-align: right;\n",
       "    }\n",
       "</style>\n",
       "<table border=\"1\" class=\"dataframe\">\n",
       "  <thead>\n",
       "    <tr style=\"text-align: right;\">\n",
       "      <th></th>\n",
       "      <th>RowNumber</th>\n",
       "      <th>CustomerId</th>\n",
       "      <th>Surname</th>\n",
       "      <th>CreditScore</th>\n",
       "      <th>Geography</th>\n",
       "      <th>Gender</th>\n",
       "      <th>Age</th>\n",
       "      <th>Tenure</th>\n",
       "      <th>Balance</th>\n",
       "      <th>NumOfProducts</th>\n",
       "      <th>HasCrCard</th>\n",
       "      <th>IsActiveMember</th>\n",
       "      <th>EstimatedSalary</th>\n",
       "      <th>Exited</th>\n",
       "    </tr>\n",
       "  </thead>\n",
       "  <tbody>\n",
       "    <tr>\n",
       "      <th>0</th>\n",
       "      <td>1</td>\n",
       "      <td>15634602</td>\n",
       "      <td>Hargrave</td>\n",
       "      <td>619</td>\n",
       "      <td>France</td>\n",
       "      <td>Female</td>\n",
       "      <td>42</td>\n",
       "      <td>2</td>\n",
       "      <td>0.00</td>\n",
       "      <td>1</td>\n",
       "      <td>1</td>\n",
       "      <td>1</td>\n",
       "      <td>101348.88</td>\n",
       "      <td>1</td>\n",
       "    </tr>\n",
       "    <tr>\n",
       "      <th>1</th>\n",
       "      <td>2</td>\n",
       "      <td>15647311</td>\n",
       "      <td>Hill</td>\n",
       "      <td>608</td>\n",
       "      <td>Spain</td>\n",
       "      <td>Female</td>\n",
       "      <td>41</td>\n",
       "      <td>1</td>\n",
       "      <td>83807.86</td>\n",
       "      <td>1</td>\n",
       "      <td>0</td>\n",
       "      <td>1</td>\n",
       "      <td>112542.58</td>\n",
       "      <td>0</td>\n",
       "    </tr>\n",
       "    <tr>\n",
       "      <th>2</th>\n",
       "      <td>3</td>\n",
       "      <td>15619304</td>\n",
       "      <td>Onio</td>\n",
       "      <td>502</td>\n",
       "      <td>France</td>\n",
       "      <td>Female</td>\n",
       "      <td>42</td>\n",
       "      <td>8</td>\n",
       "      <td>159660.80</td>\n",
       "      <td>3</td>\n",
       "      <td>1</td>\n",
       "      <td>0</td>\n",
       "      <td>113931.57</td>\n",
       "      <td>1</td>\n",
       "    </tr>\n",
       "    <tr>\n",
       "      <th>3</th>\n",
       "      <td>4</td>\n",
       "      <td>15701354</td>\n",
       "      <td>Boni</td>\n",
       "      <td>699</td>\n",
       "      <td>France</td>\n",
       "      <td>Female</td>\n",
       "      <td>39</td>\n",
       "      <td>1</td>\n",
       "      <td>0.00</td>\n",
       "      <td>2</td>\n",
       "      <td>0</td>\n",
       "      <td>0</td>\n",
       "      <td>93826.63</td>\n",
       "      <td>0</td>\n",
       "    </tr>\n",
       "    <tr>\n",
       "      <th>4</th>\n",
       "      <td>5</td>\n",
       "      <td>15737888</td>\n",
       "      <td>Mitchell</td>\n",
       "      <td>850</td>\n",
       "      <td>Spain</td>\n",
       "      <td>Female</td>\n",
       "      <td>43</td>\n",
       "      <td>2</td>\n",
       "      <td>125510.82</td>\n",
       "      <td>1</td>\n",
       "      <td>1</td>\n",
       "      <td>1</td>\n",
       "      <td>79084.10</td>\n",
       "      <td>0</td>\n",
       "    </tr>\n",
       "  </tbody>\n",
       "</table>\n",
       "</div>"
      ],
      "text/plain": [
       "   RowNumber  CustomerId   Surname  CreditScore Geography  Gender  Age  \\\n",
       "0          1    15634602  Hargrave          619    France  Female   42   \n",
       "1          2    15647311      Hill          608     Spain  Female   41   \n",
       "2          3    15619304      Onio          502    France  Female   42   \n",
       "3          4    15701354      Boni          699    France  Female   39   \n",
       "4          5    15737888  Mitchell          850     Spain  Female   43   \n",
       "\n",
       "   Tenure    Balance  NumOfProducts  HasCrCard  IsActiveMember  \\\n",
       "0       2       0.00              1          1               1   \n",
       "1       1   83807.86              1          0               1   \n",
       "2       8  159660.80              3          1               0   \n",
       "3       1       0.00              2          0               0   \n",
       "4       2  125510.82              1          1               1   \n",
       "\n",
       "   EstimatedSalary  Exited  \n",
       "0        101348.88       1  \n",
       "1        112542.58       0  \n",
       "2        113931.57       1  \n",
       "3         93826.63       0  \n",
       "4         79084.10       0  "
      ]
     },
     "execution_count": 3,
     "metadata": {},
     "output_type": "execute_result"
    }
   ],
   "source": [
    "dataset = pd.read_csv('Churn_Modelling.csv')\n",
    "dataset.head()"
   ]
  },
  {
   "cell_type": "code",
   "execution_count": 4,
   "metadata": {},
   "outputs": [
    {
     "name": "stdout",
     "output_type": "stream",
     "text": [
      "X >>\n",
      " [[619 'France' 'Female' ... 1 1 101348.88]\n",
      " [608 'Spain' 'Female' ... 0 1 112542.58]\n",
      " [502 'France' 'Female' ... 1 0 113931.57]\n",
      " ...\n",
      " [709 'France' 'Female' ... 0 1 42085.58]\n",
      " [772 'Germany' 'Male' ... 1 0 92888.52]\n",
      " [792 'France' 'Female' ... 1 0 38190.78]]\n",
      "y >>\n",
      " [1 0 1 ... 1 1 0]\n"
     ]
    }
   ],
   "source": [
    "X = dataset.iloc[:, 3:13].values\n",
    "y = dataset.iloc[:, 13].values\n",
    "print(\"X >>\\n\",X)\n",
    "print(\"y >>\\n\",y)"
   ]
  },
  {
   "cell_type": "markdown",
   "metadata": {},
   "source": [
    "### Transformando os dados categóricos\n"
   ]
  },
  {
   "cell_type": "code",
   "execution_count": 5,
   "metadata": {},
   "outputs": [
    {
     "name": "stdout",
     "output_type": "stream",
     "text": [
      "[[619 'France' 0 ... 1 1 101348.88]\n",
      " [608 'Spain' 0 ... 0 1 112542.58]\n",
      " [502 'France' 0 ... 1 0 113931.57]\n",
      " ...\n",
      " [709 'France' 0 ... 0 1 42085.58]\n",
      " [772 'Germany' 1 ... 1 0 92888.52]\n",
      " [792 'France' 0 ... 1 0 38190.78]]\n",
      "[[1.0 0.0 0.0 ... 1 1 101348.88]\n",
      " [0.0 0.0 1.0 ... 0 1 112542.58]\n",
      " [1.0 0.0 0.0 ... 1 0 113931.57]\n",
      " ...\n",
      " [1.0 0.0 0.0 ... 0 1 42085.58]\n",
      " [0.0 1.0 0.0 ... 1 0 92888.52]\n",
      " [1.0 0.0 0.0 ... 1 0 38190.78]]\n"
     ]
    }
   ],
   "source": [
    "# Label Encoding the \"Gender\" column\n",
    "from sklearn.preprocessing import LabelEncoder\n",
    "le = LabelEncoder()\n",
    "X[:, 2] = le.fit_transform(X[:, 2])\n",
    "print(X)\n",
    "# One Hot Encoding the \"Geography\" column\n",
    "from sklearn.compose import ColumnTransformer\n",
    "from sklearn.preprocessing import OneHotEncoder\n",
    "ct = ColumnTransformer(transformers=[('encoder', OneHotEncoder(), [1])], remainder='passthrough')\n",
    "X = np.array(ct.fit_transform(X))\n",
    "print(X)"
   ]
  },
  {
   "cell_type": "markdown",
   "metadata": {},
   "source": [
    "# Dividindo o dataset em conjunto de treinamento e conjunto de teste"
   ]
  },
  {
   "cell_type": "code",
   "execution_count": 6,
   "metadata": {},
   "outputs": [],
   "source": [
    "from sklearn.model_selection import train_test_split\n",
    "X_train, X_test, y_train, y_test = train_test_split(X, y, test_size = 0.2, random_state = 0)"
   ]
  },
  {
   "cell_type": "markdown",
   "metadata": {},
   "source": [
    "# Feature Scaling"
   ]
  },
  {
   "cell_type": "code",
   "execution_count": 7,
   "metadata": {},
   "outputs": [],
   "source": [
    "from sklearn.preprocessing import StandardScaler\n",
    "sc = StandardScaler()\n",
    "X_train = sc.fit_transform(X_train)\n",
    "X_test = sc.transform(X_test)"
   ]
  },
  {
   "cell_type": "code",
   "execution_count": 8,
   "metadata": {},
   "outputs": [
    {
     "data": {
      "text/plain": [
       "(8000, 12)"
      ]
     },
     "execution_count": 8,
     "metadata": {},
     "output_type": "execute_result"
    }
   ],
   "source": [
    "np.shape(X_train)"
   ]
  },
  {
   "cell_type": "markdown",
   "metadata": {},
   "source": [
    "---\n",
    "# Parte 2 -Vamos construir uma ANN!\n"
   ]
  },
  {
   "cell_type": "markdown",
   "metadata": {
    "colab_type": "text",
    "id": "KvdeScabXtlB"
   },
   "source": [
    "### Initializing the ANN"
   ]
  },
  {
   "cell_type": "code",
   "execution_count": 57,
   "metadata": {
    "colab": {},
    "colab_type": "code",
    "id": "3dtrScHxXQox"
   },
   "outputs": [],
   "source": [
    "ann = tf.keras.models.Sequential()"
   ]
  },
  {
   "cell_type": "markdown",
   "metadata": {
    "colab_type": "text",
    "id": "rP6urV6SX7kS"
   },
   "source": [
    "### Adding the input layer and the first hidden layer"
   ]
  },
  {
   "cell_type": "code",
   "execution_count": 58,
   "metadata": {
    "colab": {},
    "colab_type": "code",
    "id": "bppGycBXYCQr"
   },
   "outputs": [],
   "source": [
    "ann.add(tf.keras.layers.Dense(units=4, activation='softplus'))"
   ]
  },
  {
   "cell_type": "markdown",
   "metadata": {
    "colab_type": "text",
    "id": "BELWAc_8YJze"
   },
   "source": [
    "### Adding the second hidden layer"
   ]
  },
  {
   "cell_type": "code",
   "execution_count": 59,
   "metadata": {
    "colab": {},
    "colab_type": "code",
    "id": "JneR0u0sYRTd"
   },
   "outputs": [],
   "source": [
    "ann.add(tf.keras.layers.Dense(units=14, activation='softplus'))"
   ]
  },
  {
   "cell_type": "markdown",
   "metadata": {
    "colab_type": "text",
    "id": "OyNEe6RXYcU4"
   },
   "source": [
    "### Adding the output layer"
   ]
  },
  {
   "cell_type": "code",
   "execution_count": 60,
   "metadata": {
    "colab": {},
    "colab_type": "code",
    "id": "Cn3x41RBYfvY"
   },
   "outputs": [],
   "source": [
    "ann.add(tf.keras.layers.Dense(units=1, activation='sigmoid'))"
   ]
  },
  {
   "cell_type": "markdown",
   "metadata": {
    "colab_type": "text",
    "id": "JT4u2S1_Y4WG"
   },
   "source": [
    "## Part 3 - Training the ANN"
   ]
  },
  {
   "cell_type": "markdown",
   "metadata": {
    "colab_type": "text",
    "id": "8GWlJChhY_ZI"
   },
   "source": [
    "### Compiling the ANN"
   ]
  },
  {
   "cell_type": "code",
   "execution_count": 61,
   "metadata": {
    "colab": {},
    "colab_type": "code",
    "id": "fG3RrwDXZEaS"
   },
   "outputs": [],
   "source": [
    "ann.compile(optimizer = 'adam', loss = 'binary_crossentropy', metrics = ['accuracy'])"
   ]
  },
  {
   "cell_type": "markdown",
   "metadata": {
    "colab_type": "text",
    "id": "0QR_G5u7ZLSM"
   },
   "source": [
    "### Training the ANN on the Training set"
   ]
  },
  {
   "cell_type": "code",
   "execution_count": 62,
   "metadata": {
    "colab": {
     "base_uri": "https://localhost:8080/",
     "height": 1000
    },
    "colab_type": "code",
    "id": "nHZ-LKv_ZRb3",
    "outputId": "718cc4b0-b5aa-40f0-9b20-d3d31730a531"
   },
   "outputs": [
    {
     "name": "stdout",
     "output_type": "stream",
     "text": [
      "Epoch 1/100\n",
      "250/250 [==============================] - 0s 570us/step - loss: 0.5356 - accuracy: 0.7721\n",
      "Epoch 2/100\n",
      "250/250 [==============================] - 0s 622us/step - loss: 0.4817 - accuracy: 0.7960\n",
      "Epoch 3/100\n",
      "250/250 [==============================] - 0s 663us/step - loss: 0.4580 - accuracy: 0.7975\n",
      "Epoch 4/100\n",
      "250/250 [==============================] - 0s 693us/step - loss: 0.4381 - accuracy: 0.8067\n",
      "Epoch 5/100\n",
      "250/250 [==============================] - 0s 673us/step - loss: 0.4240 - accuracy: 0.8112\n",
      "Epoch 6/100\n",
      "250/250 [==============================] - 0s 678us/step - loss: 0.4139 - accuracy: 0.8125\n",
      "Epoch 7/100\n",
      "250/250 [==============================] - 0s 657us/step - loss: 0.4040 - accuracy: 0.8194\n",
      "Epoch 8/100\n",
      "250/250 [==============================] - 0s 689us/step - loss: 0.3934 - accuracy: 0.8264\n",
      "Epoch 9/100\n",
      "250/250 [==============================] - 0s 685us/step - loss: 0.3835 - accuracy: 0.8321\n",
      "Epoch 10/100\n",
      "250/250 [==============================] - 0s 685us/step - loss: 0.3753 - accuracy: 0.8391\n",
      "Epoch 11/100\n",
      "250/250 [==============================] - 0s 686us/step - loss: 0.3691 - accuracy: 0.8436\n",
      "Epoch 12/100\n",
      "250/250 [==============================] - 0s 685us/step - loss: 0.3647 - accuracy: 0.8459\n",
      "Epoch 13/100\n",
      "250/250 [==============================] - 0s 685us/step - loss: 0.3617 - accuracy: 0.8461\n",
      "Epoch 14/100\n",
      "250/250 [==============================] - 0s 684us/step - loss: 0.3598 - accuracy: 0.8493\n",
      "Epoch 15/100\n",
      "250/250 [==============================] - 0s 667us/step - loss: 0.3579 - accuracy: 0.8508\n",
      "Epoch 16/100\n",
      "250/250 [==============================] - 0s 649us/step - loss: 0.3566 - accuracy: 0.8520\n",
      "Epoch 17/100\n",
      "250/250 [==============================] - 0s 653us/step - loss: 0.3553 - accuracy: 0.8520\n",
      "Epoch 18/100\n",
      "250/250 [==============================] - 0s 679us/step - loss: 0.3544 - accuracy: 0.8529\n",
      "Epoch 19/100\n",
      "250/250 [==============================] - 0s 765us/step - loss: 0.3537 - accuracy: 0.8540\n",
      "Epoch 20/100\n",
      "250/250 [==============================] - 0s 709us/step - loss: 0.3531 - accuracy: 0.8536\n",
      "Epoch 21/100\n",
      "250/250 [==============================] - 0s 825us/step - loss: 0.3520 - accuracy: 0.8546\n",
      "Epoch 22/100\n",
      "250/250 [==============================] - 0s 789us/step - loss: 0.3514 - accuracy: 0.8544\n",
      "Epoch 23/100\n",
      "250/250 [==============================] - 0s 853us/step - loss: 0.3506 - accuracy: 0.8561\n",
      "Epoch 24/100\n",
      "250/250 [==============================] - 0s 793us/step - loss: 0.3498 - accuracy: 0.8551\n",
      "Epoch 25/100\n",
      "250/250 [==============================] - 0s 856us/step - loss: 0.3497 - accuracy: 0.8561\n",
      "Epoch 26/100\n",
      "250/250 [==============================] - 0s 790us/step - loss: 0.3490 - accuracy: 0.8561\n",
      "Epoch 27/100\n",
      "250/250 [==============================] - 0s 804us/step - loss: 0.3487 - accuracy: 0.8569\n",
      "Epoch 28/100\n",
      "250/250 [==============================] - 0s 742us/step - loss: 0.3478 - accuracy: 0.8571\n",
      "Epoch 29/100\n",
      "250/250 [==============================] - 0s 725us/step - loss: 0.3477 - accuracy: 0.8583\n",
      "Epoch 30/100\n",
      "250/250 [==============================] - 0s 726us/step - loss: 0.3472 - accuracy: 0.8570\n",
      "Epoch 31/100\n",
      "250/250 [==============================] - 0s 744us/step - loss: 0.3466 - accuracy: 0.8577\n",
      "Epoch 32/100\n",
      "250/250 [==============================] - 0s 793us/step - loss: 0.3461 - accuracy: 0.8587\n",
      "Epoch 33/100\n",
      "250/250 [==============================] - 0s 824us/step - loss: 0.3458 - accuracy: 0.8583\n",
      "Epoch 34/100\n",
      "250/250 [==============================] - 0s 715us/step - loss: 0.3454 - accuracy: 0.8590\n",
      "Epoch 35/100\n",
      "250/250 [==============================] - 0s 733us/step - loss: 0.3452 - accuracy: 0.8600\n",
      "Epoch 36/100\n",
      "250/250 [==============================] - 0s 737us/step - loss: 0.3449 - accuracy: 0.8595\n",
      "Epoch 37/100\n",
      "250/250 [==============================] - 0s 792us/step - loss: 0.3446 - accuracy: 0.8600\n",
      "Epoch 38/100\n",
      "250/250 [==============================] - 0s 700us/step - loss: 0.3446 - accuracy: 0.8619\n",
      "Epoch 39/100\n",
      "250/250 [==============================] - 0s 799us/step - loss: 0.3435 - accuracy: 0.8601\n",
      "Epoch 40/100\n",
      "250/250 [==============================] - 0s 704us/step - loss: 0.3440 - accuracy: 0.8590\n",
      "Epoch 41/100\n",
      "250/250 [==============================] - 0s 685us/step - loss: 0.3433 - accuracy: 0.8602\n",
      "Epoch 42/100\n",
      "250/250 [==============================] - 0s 678us/step - loss: 0.3432 - accuracy: 0.8587\n",
      "Epoch 43/100\n",
      "250/250 [==============================] - 0s 684us/step - loss: 0.3430 - accuracy: 0.8599\n",
      "Epoch 44/100\n",
      "250/250 [==============================] - 0s 773us/step - loss: 0.3423 - accuracy: 0.8610\n",
      "Epoch 45/100\n",
      "250/250 [==============================] - 0s 737us/step - loss: 0.3424 - accuracy: 0.8602\n",
      "Epoch 46/100\n",
      "250/250 [==============================] - 0s 842us/step - loss: 0.3420 - accuracy: 0.8609\n",
      "Epoch 47/100\n",
      "250/250 [==============================] - 0s 667us/step - loss: 0.3412 - accuracy: 0.8626\n",
      "Epoch 48/100\n",
      "250/250 [==============================] - 0s 637us/step - loss: 0.3416 - accuracy: 0.8600\n",
      "Epoch 49/100\n",
      "250/250 [==============================] - 0s 717us/step - loss: 0.3408 - accuracy: 0.8614\n",
      "Epoch 50/100\n",
      "250/250 [==============================] - 0s 797us/step - loss: 0.3407 - accuracy: 0.8648\n",
      "Epoch 51/100\n",
      "250/250 [==============================] - 0s 720us/step - loss: 0.3410 - accuracy: 0.8612\n",
      "Epoch 52/100\n",
      "250/250 [==============================] - 0s 702us/step - loss: 0.3406 - accuracy: 0.8619\n",
      "Epoch 53/100\n",
      "250/250 [==============================] - 0s 632us/step - loss: 0.3401 - accuracy: 0.8618\n",
      "Epoch 54/100\n",
      "250/250 [==============================] - 0s 608us/step - loss: 0.3396 - accuracy: 0.8621\n",
      "Epoch 55/100\n",
      "250/250 [==============================] - 0s 607us/step - loss: 0.3398 - accuracy: 0.8618\n",
      "Epoch 56/100\n",
      "250/250 [==============================] - 0s 623us/step - loss: 0.3394 - accuracy: 0.8629\n",
      "Epoch 57/100\n",
      "250/250 [==============================] - 0s 719us/step - loss: 0.3391 - accuracy: 0.8620\n",
      "Epoch 58/100\n",
      "250/250 [==============================] - 0s 843us/step - loss: 0.3392 - accuracy: 0.8619\n",
      "Epoch 59/100\n",
      "250/250 [==============================] - 0s 817us/step - loss: 0.3389 - accuracy: 0.8610\n",
      "Epoch 60/100\n",
      "250/250 [==============================] - 0s 744us/step - loss: 0.3386 - accuracy: 0.8610\n",
      "Epoch 61/100\n",
      "250/250 [==============================] - 0s 866us/step - loss: 0.3384 - accuracy: 0.8618\n",
      "Epoch 62/100\n",
      "250/250 [==============================] - 0s 776us/step - loss: 0.3378 - accuracy: 0.8629\n",
      "Epoch 63/100\n",
      "250/250 [==============================] - 0s 703us/step - loss: 0.3385 - accuracy: 0.8624\n",
      "Epoch 64/100\n",
      "250/250 [==============================] - 0s 654us/step - loss: 0.3377 - accuracy: 0.8633\n",
      "Epoch 65/100\n",
      "250/250 [==============================] - 0s 709us/step - loss: 0.3376 - accuracy: 0.8619\n",
      "Epoch 66/100\n",
      "250/250 [==============================] - 0s 633us/step - loss: 0.3376 - accuracy: 0.8631\n",
      "Epoch 67/100\n",
      "250/250 [==============================] - 0s 640us/step - loss: 0.3374 - accuracy: 0.8634\n",
      "Epoch 68/100\n",
      "250/250 [==============================] - 0s 696us/step - loss: 0.3373 - accuracy: 0.8652\n",
      "Epoch 69/100\n",
      "250/250 [==============================] - 0s 620us/step - loss: 0.3374 - accuracy: 0.8622\n",
      "Epoch 70/100\n",
      "250/250 [==============================] - 0s 644us/step - loss: 0.3369 - accuracy: 0.8636\n",
      "Epoch 71/100\n",
      "250/250 [==============================] - 0s 656us/step - loss: 0.3371 - accuracy: 0.8618\n",
      "Epoch 72/100\n",
      "250/250 [==============================] - 0s 622us/step - loss: 0.3364 - accuracy: 0.8631\n",
      "Epoch 73/100\n",
      "250/250 [==============================] - 0s 664us/step - loss: 0.3366 - accuracy: 0.8624\n",
      "Epoch 74/100\n",
      "250/250 [==============================] - 0s 618us/step - loss: 0.3368 - accuracy: 0.8626\n",
      "Epoch 75/100\n",
      "250/250 [==============================] - 0s 641us/step - loss: 0.3367 - accuracy: 0.8629\n",
      "Epoch 76/100\n",
      "250/250 [==============================] - 0s 639us/step - loss: 0.3364 - accuracy: 0.8610\n",
      "Epoch 77/100\n",
      "250/250 [==============================] - 0s 634us/step - loss: 0.3363 - accuracy: 0.8625\n",
      "Epoch 78/100\n",
      "250/250 [==============================] - 0s 644us/step - loss: 0.3365 - accuracy: 0.8630\n",
      "Epoch 79/100\n"
     ]
    },
    {
     "name": "stdout",
     "output_type": "stream",
     "text": [
      "250/250 [==============================] - 0s 650us/step - loss: 0.3364 - accuracy: 0.8629\n",
      "Epoch 80/100\n",
      "250/250 [==============================] - 0s 657us/step - loss: 0.3367 - accuracy: 0.8611\n",
      "Epoch 81/100\n",
      "250/250 [==============================] - 0s 634us/step - loss: 0.3363 - accuracy: 0.8635\n",
      "Epoch 82/100\n",
      "250/250 [==============================] - 0s 626us/step - loss: 0.3359 - accuracy: 0.8635\n",
      "Epoch 83/100\n",
      "250/250 [==============================] - 0s 641us/step - loss: 0.3357 - accuracy: 0.8633\n",
      "Epoch 84/100\n",
      "250/250 [==============================] - 0s 649us/step - loss: 0.3360 - accuracy: 0.8622\n",
      "Epoch 85/100\n",
      "250/250 [==============================] - 0s 642us/step - loss: 0.3359 - accuracy: 0.8635\n",
      "Epoch 86/100\n",
      "250/250 [==============================] - 0s 708us/step - loss: 0.3359 - accuracy: 0.8614\n",
      "Epoch 87/100\n",
      "250/250 [==============================] - 0s 701us/step - loss: 0.3357 - accuracy: 0.8634\n",
      "Epoch 88/100\n",
      "250/250 [==============================] - 0s 697us/step - loss: 0.3359 - accuracy: 0.8631\n",
      "Epoch 89/100\n",
      "250/250 [==============================] - 0s 735us/step - loss: 0.3358 - accuracy: 0.8629\n",
      "Epoch 90/100\n",
      "250/250 [==============================] - 0s 728us/step - loss: 0.3358 - accuracy: 0.8624\n",
      "Epoch 91/100\n",
      "250/250 [==============================] - 0s 695us/step - loss: 0.3356 - accuracy: 0.8625\n",
      "Epoch 92/100\n",
      "250/250 [==============================] - 0s 679us/step - loss: 0.3354 - accuracy: 0.8634\n",
      "Epoch 93/100\n",
      "250/250 [==============================] - 0s 699us/step - loss: 0.3353 - accuracy: 0.8619\n",
      "Epoch 94/100\n",
      "250/250 [==============================] - 0s 724us/step - loss: 0.3355 - accuracy: 0.8627\n",
      "Epoch 95/100\n",
      "250/250 [==============================] - 0s 749us/step - loss: 0.3359 - accuracy: 0.8621\n",
      "Epoch 96/100\n",
      "250/250 [==============================] - 0s 879us/step - loss: 0.3354 - accuracy: 0.8633\n",
      "Epoch 97/100\n",
      "250/250 [==============================] - 0s 874us/step - loss: 0.3354 - accuracy: 0.8631\n",
      "Epoch 98/100\n",
      "250/250 [==============================] - 0s 775us/step - loss: 0.3354 - accuracy: 0.8619\n",
      "Epoch 99/100\n",
      "250/250 [==============================] - 0s 798us/step - loss: 0.3354 - accuracy: 0.8626\n",
      "Epoch 100/100\n",
      "250/250 [==============================] - 0s 772us/step - loss: 0.3355 - accuracy: 0.8639\n"
     ]
    },
    {
     "data": {
      "text/plain": [
       "<tensorflow.python.keras.callbacks.History at 0x7f92dc61b350>"
      ]
     },
     "execution_count": 62,
     "metadata": {},
     "output_type": "execute_result"
    }
   ],
   "source": [
    "ann.fit(X_train, y_train, batch_size = 32, epochs = 100)"
   ]
  },
  {
   "cell_type": "markdown",
   "metadata": {},
   "source": [
    "# Parte 3 - Fazendo predições e avaliando o modelo\n",
    "\n",
    "## Prevendo os resultados com o conjunto de testes"
   ]
  },
  {
   "cell_type": "code",
   "execution_count": 63,
   "metadata": {},
   "outputs": [
    {
     "data": {
      "text/plain": [
       "array([[0.2732458 ],\n",
       "       [0.276958  ],\n",
       "       [0.2067135 ],\n",
       "       ...,\n",
       "       [0.20580772],\n",
       "       [0.16636795],\n",
       "       [0.20752749]], dtype=float32)"
      ]
     },
     "execution_count": 63,
     "metadata": {},
     "output_type": "execute_result"
    }
   ],
   "source": [
    "y_pred = ann.predict(X_test)\n",
    "y_pred"
   ]
  },
  {
   "cell_type": "code",
   "execution_count": 64,
   "metadata": {},
   "outputs": [
    {
     "data": {
      "text/plain": [
       "array([[False],\n",
       "       [False],\n",
       "       [False],\n",
       "       ...,\n",
       "       [False],\n",
       "       [False],\n",
       "       [False]])"
      ]
     },
     "execution_count": 64,
     "metadata": {},
     "output_type": "execute_result"
    }
   ],
   "source": [
    "y_pred = (y_pred > 0.5)\n",
    "y_pred"
   ]
  },
  {
   "cell_type": "markdown",
   "metadata": {},
   "source": [
    "# Criando uma Confusion Matrix"
   ]
  },
  {
   "cell_type": "code",
   "execution_count": 65,
   "metadata": {},
   "outputs": [
    {
     "name": "stdout",
     "output_type": "stream",
     "text": [
      "[[1523   72]\n",
      " [ 203  202]]\n"
     ]
    }
   ],
   "source": [
    "from sklearn.metrics import confusion_matrix\n",
    "cm = confusion_matrix(y_test, y_pred)\n",
    "print(cm)"
   ]
  },
  {
   "cell_type": "markdown",
   "metadata": {},
   "source": [
    "# FIM"
   ]
  },
  {
   "cell_type": "markdown",
   "metadata": {},
   "source": [
    "> Professor Diego Dorgam  \n",
    "> [@diegodorgam](https://twitter.com/diegodorgam)"
   ]
  }
 ],
 "metadata": {
  "kernelspec": {
   "display_name": "Python 3",
   "language": "python",
   "name": "python3"
  },
  "language_info": {
   "codemirror_mode": {
    "name": "ipython",
    "version": 3
   },
   "file_extension": ".py",
   "mimetype": "text/x-python",
   "name": "python",
   "nbconvert_exporter": "python",
   "pygments_lexer": "ipython3",
   "version": "3.7.10"
  }
 },
 "nbformat": 4,
 "nbformat_minor": 4
}
