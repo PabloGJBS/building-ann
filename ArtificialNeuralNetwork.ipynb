{
 "cells": [
  {
   "cell_type": "markdown",
   "metadata": {},
   "source": [
    "# REDES NEURAIS ARTIFICIAIS\n",
    "\n",
    "[Aula 3 de Deep Learning](http://bit.ly/dn-unb03) da Engenharia de Software da UnB"
   ]
  },
  {
   "cell_type": "code",
   "execution_count": 1,
   "metadata": {},
   "outputs": [
    {
     "output_type": "stream",
     "name": "stdout",
     "text": [
      "Requirement already satisfied: numpy==1.16.2 in c:\\users\\thiag\\appdata\\local\\programs\\python\\python37\\lib\\site-packages (from -r requirements.txt (line 1)) (1.16.2)\n",
      "Requirement already satisfied: pandas==0.24.2 in c:\\users\\thiag\\appdata\\local\\programs\\python\\python37\\lib\\site-packages (from -r requirements.txt (line 2)) (0.24.2)\n",
      "Requirement already satisfied: matplotlib==3.0.3 in c:\\users\\thiag\\appdata\\local\\programs\\python\\python37\\lib\\site-packages (from -r requirements.txt (line 3)) (3.0.3)\n",
      "Requirement already satisfied: sklearn==0.0 in c:\\users\\thiag\\appdata\\local\\programs\\python\\python37\\lib\\site-packages (from -r requirements.txt (line 4)) (0.0)\n",
      "Requirement already satisfied: tensorflow==2.3.1 in c:\\users\\thiag\\appdata\\local\\programs\\python\\python37\\lib\\site-packages (from -r requirements.txt (line 5)) (2.3.1)\n",
      "Requirement already satisfied: keras==2.4.3 in c:\\users\\thiag\\appdata\\local\\programs\\python\\python37\\lib\\site-packages (from -r requirements.txt (line 6)) (2.4.3)\n",
      "Requirement already satisfied: pyyaml in c:\\users\\thiag\\appdata\\local\\programs\\python\\python37\\lib\\site-packages (from keras==2.4.3->-r requirements.txt (line 6)) (5.4.1)\n",
      "Requirement already satisfied: h5py in c:\\users\\thiag\\appdata\\local\\programs\\python\\python37\\lib\\site-packages (from keras==2.4.3->-r requirements.txt (line 6)) (2.10.0)\n",
      "Requirement already satisfied: scipy>=0.14 in c:\\users\\thiag\\appdata\\local\\programs\\python\\python37\\lib\\site-packages (from keras==2.4.3->-r requirements.txt (line 6)) (1.5.4)\n",
      "Requirement already satisfied: python-dateutil>=2.1 in c:\\users\\thiag\\appdata\\local\\programs\\python\\python37\\lib\\site-packages (from matplotlib==3.0.3->-r requirements.txt (line 3)) (2.8.1)\n",
      "Requirement already satisfied: cycler>=0.10 in c:\\users\\thiag\\appdata\\local\\programs\\python\\python37\\lib\\site-packages (from matplotlib==3.0.3->-r requirements.txt (line 3)) (0.10.0)\n",
      "Requirement already satisfied: pyparsing!=2.0.4,!=2.1.2,!=2.1.6,>=2.0.1 in c:\\users\\thiag\\appdata\\local\\programs\\python\\python37\\lib\\site-packages (from matplotlib==3.0.3->-r requirements.txt (line 3)) (2.4.7)\n",
      "Requirement already satisfied: kiwisolver>=1.0.1 in c:\\users\\thiag\\appdata\\local\\programs\\python\\python37\\lib\\site-packages (from matplotlib==3.0.3->-r requirements.txt (line 3)) (1.3.1)\n",
      "Requirement already satisfied: pytz>=2011k in c:\\users\\thiag\\appdata\\local\\programs\\python\\python37\\lib\\site-packages (from pandas==0.24.2->-r requirements.txt (line 2)) (2021.1)\n",
      "Requirement already satisfied: scikit-learn in c:\\users\\thiag\\appdata\\local\\programs\\python\\python37\\lib\\site-packages (from sklearn==0.0->-r requirements.txt (line 4)) (0.24.1)\n",
      "Requirement already satisfied: google-pasta>=0.1.8 in c:\\users\\thiag\\appdata\\local\\programs\\python\\python37\\lib\\site-packages (from tensorflow==2.3.1->-r requirements.txt (line 5)) (0.2.0)\n",
      "Requirement already satisfied: keras-preprocessing<1.2,>=1.1.1 in c:\\users\\thiag\\appdata\\local\\programs\\python\\python37\\lib\\site-packages (from tensorflow==2.3.1->-r requirements.txt (line 5)) (1.1.2)\n",
      "Requirement already satisfied: opt-einsum>=2.3.2 in c:\\users\\thiag\\appdata\\local\\programs\\python\\python37\\lib\\site-packages (from tensorflow==2.3.1->-r requirements.txt (line 5)) (3.3.0)\n",
      "Requirement already satisfied: wheel>=0.26 in c:\\users\\thiag\\appdata\\local\\programs\\python\\python37\\lib\\site-packages (from tensorflow==2.3.1->-r requirements.txt (line 5)) (0.36.2)\n",
      "Requirement already satisfied: tensorboard<3,>=2.3.0 in c:\\users\\thiag\\appdata\\local\\programs\\python\\python37\\lib\\site-packages (from tensorflow==2.3.1->-r requirements.txt (line 5)) (2.4.1)\n",
      "Requirement already satisfied: grpcio>=1.8.6 in c:\\users\\thiag\\appdata\\local\\programs\\python\\python37\\lib\\site-packages (from tensorflow==2.3.1->-r requirements.txt (line 5)) (1.36.1)\n",
      "Requirement already satisfied: gast==0.3.3 in c:\\users\\thiag\\appdata\\local\\programs\\python\\python37\\lib\\site-packages (from tensorflow==2.3.1->-r requirements.txt (line 5)) (0.3.3)\n",
      "Requirement already satisfied: wrapt>=1.11.1 in c:\\users\\thiag\\appdata\\local\\programs\\python\\python37\\lib\\site-packages (from tensorflow==2.3.1->-r requirements.txt (line 5)) (1.12.1)\n",
      "Requirement already satisfied: tensorflow-estimator<2.4.0,>=2.3.0 in c:\\users\\thiag\\appdata\\local\\programs\\python\\python37\\lib\\site-packages (from tensorflow==2.3.1->-r requirements.txt (line 5)) (2.3.0)\n",
      "Requirement already satisfied: termcolor>=1.1.0 in c:\\users\\thiag\\appdata\\local\\programs\\python\\python37\\lib\\site-packages (from tensorflow==2.3.1->-r requirements.txt (line 5)) (1.1.0)\n",
      "Requirement already satisfied: six>=1.12.0 in c:\\users\\thiag\\appdata\\local\\programs\\python\\python37\\lib\\site-packages (from tensorflow==2.3.1->-r requirements.txt (line 5)) (1.15.0)\n",
      "Requirement already satisfied: absl-py>=0.7.0 in c:\\users\\thiag\\appdata\\local\\programs\\python\\python37\\lib\\site-packages (from tensorflow==2.3.1->-r requirements.txt (line 5)) (0.11.0)\n",
      "Requirement already satisfied: protobuf>=3.9.2 in c:\\users\\thiag\\appdata\\local\\programs\\python\\python37\\lib\\site-packages (from tensorflow==2.3.1->-r requirements.txt (line 5)) (3.15.5)\n",
      "Requirement already satisfied: astunparse==1.6.3 in c:\\users\\thiag\\appdata\\local\\programs\\python\\python37\\lib\\site-packages (from tensorflow==2.3.1->-r requirements.txt (line 5)) (1.6.3)\n",
      "Requirement already satisfied: tensorboard-plugin-wit>=1.6.0 in c:\\users\\thiag\\appdata\\local\\programs\\python\\python37\\lib\\site-packages (from tensorboard<3,>=2.3.0->tensorflow==2.3.1->-r requirements.txt (line 5)) (1.8.0)\n",
      "Requirement already satisfied: google-auth<2,>=1.6.3 in c:\\users\\thiag\\appdata\\local\\programs\\python\\python37\\lib\\site-packages (from tensorboard<3,>=2.3.0->tensorflow==2.3.1->-r requirements.txt (line 5)) (1.27.1)\n",
      "Requirement already satisfied: markdown>=2.6.8 in c:\\users\\thiag\\appdata\\local\\programs\\python\\python37\\lib\\site-packages (from tensorboard<3,>=2.3.0->tensorflow==2.3.1->-r requirements.txt (line 5)) (3.3.4)\n",
      "Requirement already satisfied: setuptools>=41.0.0 in c:\\users\\thiag\\appdata\\local\\programs\\python\\python37\\lib\\site-packages (from tensorboard<3,>=2.3.0->tensorflow==2.3.1->-r requirements.txt (line 5)) (47.1.0)\n",
      "Requirement already satisfied: werkzeug>=0.11.15 in c:\\users\\thiag\\appdata\\local\\programs\\python\\python37\\lib\\site-packages (from tensorboard<3,>=2.3.0->tensorflow==2.3.1->-r requirements.txt (line 5)) (1.0.1)\n",
      "Requirement already satisfied: google-auth-oauthlib<0.5,>=0.4.1 in c:\\users\\thiag\\appdata\\local\\programs\\python\\python37\\lib\\site-packages (from tensorboard<3,>=2.3.0->tensorflow==2.3.1->-r requirements.txt (line 5)) (0.4.3)\n",
      "Requirement already satisfied: requests<3,>=2.21.0 in c:\\users\\thiag\\appdata\\local\\programs\\python\\python37\\lib\\site-packages (from tensorboard<3,>=2.3.0->tensorflow==2.3.1->-r requirements.txt (line 5)) (2.25.1)\n",
      "Requirement already satisfied: rsa<5,>=3.1.4 in c:\\users\\thiag\\appdata\\local\\programs\\python\\python37\\lib\\site-packages (from google-auth<2,>=1.6.3->tensorboard<3,>=2.3.0->tensorflow==2.3.1->-r requirements.txt (line 5)) (4.7.2)\n",
      "Requirement already satisfied: cachetools<5.0,>=2.0.0 in c:\\users\\thiag\\appdata\\local\\programs\\python\\python37\\lib\\site-packages (from google-auth<2,>=1.6.3->tensorboard<3,>=2.3.0->tensorflow==2.3.1->-r requirements.txt (line 5)) (4.2.1)\n",
      "Requirement already satisfied: pyasn1-modules>=0.2.1 in c:\\users\\thiag\\appdata\\local\\programs\\python\\python37\\lib\\site-packages (from google-auth<2,>=1.6.3->tensorboard<3,>=2.3.0->tensorflow==2.3.1->-r requirements.txt (line 5)) (0.2.8)\n",
      "Requirement already satisfied: requests-oauthlib>=0.7.0 in c:\\users\\thiag\\appdata\\local\\programs\\python\\python37\\lib\\site-packages (from google-auth-oauthlib<0.5,>=0.4.1->tensorboard<3,>=2.3.0->tensorflow==2.3.1->-r requirements.txt (line 5)) (1.3.0)\n",
      "Requirement already satisfied: importlib-metadata in c:\\users\\thiag\\appdata\\local\\programs\\python\\python37\\lib\\site-packages (from markdown>=2.6.8->tensorboard<3,>=2.3.0->tensorflow==2.3.1->-r requirements.txt (line 5)) (3.7.0)\n",
      "Requirement already satisfied: pyasn1<0.5.0,>=0.4.6 in c:\\users\\thiag\\appdata\\local\\programs\\python\\python37\\lib\\site-packages (from pyasn1-modules>=0.2.1->google-auth<2,>=1.6.3->tensorboard<3,>=2.3.0->tensorflow==2.3.1->-r requirements.txt (line 5)) (0.4.8)\n",
      "Requirement already satisfied: idna<3,>=2.5 in c:\\users\\thiag\\appdata\\local\\programs\\python\\python37\\lib\\site-packages (from requests<3,>=2.21.0->tensorboard<3,>=2.3.0->tensorflow==2.3.1->-r requirements.txt (line 5)) (2.10)\n",
      "Requirement already satisfied: urllib3<1.27,>=1.21.1 in c:\\users\\thiag\\appdata\\local\\programs\\python\\python37\\lib\\site-packages (from requests<3,>=2.21.0->tensorboard<3,>=2.3.0->tensorflow==2.3.1->-r requirements.txt (line 5)) (1.26.3)\n",
      "Requirement already satisfied: chardet<5,>=3.0.2 in c:\\users\\thiag\\appdata\\local\\programs\\python\\python37\\lib\\site-packages (from requests<3,>=2.21.0->tensorboard<3,>=2.3.0->tensorflow==2.3.1->-r requirements.txt (line 5)) (4.0.0)\n",
      "Requirement already satisfied: certifi>=2017.4.17 in c:\\users\\thiag\\appdata\\local\\programs\\python\\python37\\lib\\site-packages (from requests<3,>=2.21.0->tensorboard<3,>=2.3.0->tensorflow==2.3.1->-r requirements.txt (line 5)) (2020.12.5)\n",
      "Requirement already satisfied: oauthlib>=3.0.0 in c:\\users\\thiag\\appdata\\local\\programs\\python\\python37\\lib\\site-packages (from requests-oauthlib>=0.7.0->google-auth-oauthlib<0.5,>=0.4.1->tensorboard<3,>=2.3.0->tensorflow==2.3.1->-r requirements.txt (line 5)) (3.1.0)\n",
      "Requirement already satisfied: zipp>=0.5 in c:\\users\\thiag\\appdata\\local\\programs\\python\\python37\\lib\\site-packages (from importlib-metadata->markdown>=2.6.8->tensorboard<3,>=2.3.0->tensorflow==2.3.1->-r requirements.txt (line 5)) (3.4.1)\n",
      "Requirement already satisfied: typing-extensions>=3.6.4 in c:\\users\\thiag\\appdata\\local\\programs\\python\\python37\\lib\\site-packages (from importlib-metadata->markdown>=2.6.8->tensorboard<3,>=2.3.0->tensorflow==2.3.1->-r requirements.txt (line 5)) (3.7.4.3)\n",
      "Requirement already satisfied: joblib>=0.11 in c:\\users\\thiag\\appdata\\local\\programs\\python\\python37\\lib\\site-packages (from scikit-learn->sklearn==0.0->-r requirements.txt (line 4)) (1.0.1)\n",
      "Requirement already satisfied: threadpoolctl>=2.0.0 in c:\\users\\thiag\\appdata\\local\\programs\\python\\python37\\lib\\site-packages (from scikit-learn->sklearn==0.0->-r requirements.txt (line 4)) (2.1.0)\n"
     ]
    }
   ],
   "source": [
    "!pip install -r requirements.txt"
   ]
  },
  {
   "cell_type": "markdown",
   "metadata": {},
   "source": [
    "# Parte 1 - Pré-processamento dos Dados"
   ]
  },
  {
   "cell_type": "markdown",
   "metadata": {},
   "source": [
    "### Importar as libs"
   ]
  },
  {
   "cell_type": "code",
   "execution_count": 2,
   "metadata": {
    "colab": {},
    "colab_type": "code",
    "id": "MxkJoQBkUIHC"
   },
   "outputs": [],
   "source": [
    "import numpy as np\n",
    "import pandas as pd\n",
    "import tensorflow as tf"
   ]
  },
  {
   "cell_type": "code",
   "execution_count": 3,
   "metadata": {
    "colab": {
     "base_uri": "https://localhost:8080/",
     "height": 34
    },
    "colab_type": "code",
    "id": "ZaTwK7ojXr2F",
    "outputId": "0b27a96d-d11a-43e8-ab4b-87c1f01896fe"
   },
   "outputs": [
    {
     "output_type": "execute_result",
     "data": {
      "text/plain": [
       "'2.3.1'"
      ]
     },
     "metadata": {},
     "execution_count": 3
    }
   ],
   "source": [
    "tf.__version__"
   ]
  },
  {
   "cell_type": "markdown",
   "metadata": {},
   "source": [
    "### Importar o dataset"
   ]
  },
  {
   "cell_type": "code",
   "execution_count": 4,
   "metadata": {},
   "outputs": [
    {
     "output_type": "execute_result",
     "data": {
      "text/plain": [
       "   RowNumber  CustomerId   Surname  CreditScore Geography  Gender  Age  \\\n",
       "0          1    15634602  Hargrave          619    France  Female   42   \n",
       "1          2    15647311      Hill          608     Spain  Female   41   \n",
       "2          3    15619304      Onio          502    France  Female   42   \n",
       "3          4    15701354      Boni          699    France  Female   39   \n",
       "4          5    15737888  Mitchell          850     Spain  Female   43   \n",
       "\n",
       "   Tenure    Balance  NumOfProducts  HasCrCard  IsActiveMember  \\\n",
       "0       2       0.00              1          1               1   \n",
       "1       1   83807.86              1          0               1   \n",
       "2       8  159660.80              3          1               0   \n",
       "3       1       0.00              2          0               0   \n",
       "4       2  125510.82              1          1               1   \n",
       "\n",
       "   EstimatedSalary  Exited  \n",
       "0        101348.88       1  \n",
       "1        112542.58       0  \n",
       "2        113931.57       1  \n",
       "3         93826.63       0  \n",
       "4         79084.10       0  "
      ],
      "text/html": "<div>\n<style scoped>\n    .dataframe tbody tr th:only-of-type {\n        vertical-align: middle;\n    }\n\n    .dataframe tbody tr th {\n        vertical-align: top;\n    }\n\n    .dataframe thead th {\n        text-align: right;\n    }\n</style>\n<table border=\"1\" class=\"dataframe\">\n  <thead>\n    <tr style=\"text-align: right;\">\n      <th></th>\n      <th>RowNumber</th>\n      <th>CustomerId</th>\n      <th>Surname</th>\n      <th>CreditScore</th>\n      <th>Geography</th>\n      <th>Gender</th>\n      <th>Age</th>\n      <th>Tenure</th>\n      <th>Balance</th>\n      <th>NumOfProducts</th>\n      <th>HasCrCard</th>\n      <th>IsActiveMember</th>\n      <th>EstimatedSalary</th>\n      <th>Exited</th>\n    </tr>\n  </thead>\n  <tbody>\n    <tr>\n      <th>0</th>\n      <td>1</td>\n      <td>15634602</td>\n      <td>Hargrave</td>\n      <td>619</td>\n      <td>France</td>\n      <td>Female</td>\n      <td>42</td>\n      <td>2</td>\n      <td>0.00</td>\n      <td>1</td>\n      <td>1</td>\n      <td>1</td>\n      <td>101348.88</td>\n      <td>1</td>\n    </tr>\n    <tr>\n      <th>1</th>\n      <td>2</td>\n      <td>15647311</td>\n      <td>Hill</td>\n      <td>608</td>\n      <td>Spain</td>\n      <td>Female</td>\n      <td>41</td>\n      <td>1</td>\n      <td>83807.86</td>\n      <td>1</td>\n      <td>0</td>\n      <td>1</td>\n      <td>112542.58</td>\n      <td>0</td>\n    </tr>\n    <tr>\n      <th>2</th>\n      <td>3</td>\n      <td>15619304</td>\n      <td>Onio</td>\n      <td>502</td>\n      <td>France</td>\n      <td>Female</td>\n      <td>42</td>\n      <td>8</td>\n      <td>159660.80</td>\n      <td>3</td>\n      <td>1</td>\n      <td>0</td>\n      <td>113931.57</td>\n      <td>1</td>\n    </tr>\n    <tr>\n      <th>3</th>\n      <td>4</td>\n      <td>15701354</td>\n      <td>Boni</td>\n      <td>699</td>\n      <td>France</td>\n      <td>Female</td>\n      <td>39</td>\n      <td>1</td>\n      <td>0.00</td>\n      <td>2</td>\n      <td>0</td>\n      <td>0</td>\n      <td>93826.63</td>\n      <td>0</td>\n    </tr>\n    <tr>\n      <th>4</th>\n      <td>5</td>\n      <td>15737888</td>\n      <td>Mitchell</td>\n      <td>850</td>\n      <td>Spain</td>\n      <td>Female</td>\n      <td>43</td>\n      <td>2</td>\n      <td>125510.82</td>\n      <td>1</td>\n      <td>1</td>\n      <td>1</td>\n      <td>79084.10</td>\n      <td>0</td>\n    </tr>\n  </tbody>\n</table>\n</div>"
     },
     "metadata": {},
     "execution_count": 4
    }
   ],
   "source": [
    "dataset = pd.read_csv('Churn_Modelling.csv')\n",
    "dataset.head()"
   ]
  },
  {
   "cell_type": "code",
   "execution_count": 5,
   "metadata": {},
   "outputs": [
    {
     "output_type": "stream",
     "name": "stdout",
     "text": [
      "X >>\n",
      " [[619 'France' 'Female' ... 1 1 101348.88]\n",
      " [608 'Spain' 'Female' ... 0 1 112542.58]\n",
      " [502 'France' 'Female' ... 1 0 113931.57]\n",
      " ...\n",
      " [709 'France' 'Female' ... 0 1 42085.58]\n",
      " [772 'Germany' 'Male' ... 1 0 92888.52]\n",
      " [792 'France' 'Female' ... 1 0 38190.78]]\n",
      "y >>\n",
      " [1 0 1 ... 1 1 0]\n"
     ]
    }
   ],
   "source": [
    "X = dataset.iloc[:, 3:13].values\n",
    "y = dataset.iloc[:, 13].values\n",
    "print(\"X >>\\n\",X)\n",
    "print(\"y >>\\n\",y)"
   ]
  },
  {
   "cell_type": "markdown",
   "metadata": {},
   "source": [
    "### Transformando os dados categóricos\n"
   ]
  },
  {
   "cell_type": "code",
   "execution_count": 6,
   "metadata": {},
   "outputs": [
    {
     "output_type": "stream",
     "name": "stdout",
     "text": [
      "[[619 'France' 0 ... 1 1 101348.88]\n [608 'Spain' 0 ... 0 1 112542.58]\n [502 'France' 0 ... 1 0 113931.57]\n ...\n [709 'France' 0 ... 0 1 42085.58]\n [772 'Germany' 1 ... 1 0 92888.52]\n [792 'France' 0 ... 1 0 38190.78]]\n[[1.0 0.0 0.0 ... 1 1 101348.88]\n [0.0 0.0 1.0 ... 0 1 112542.58]\n [1.0 0.0 0.0 ... 1 0 113931.57]\n ...\n [1.0 0.0 0.0 ... 0 1 42085.58]\n [0.0 1.0 0.0 ... 1 0 92888.52]\n [1.0 0.0 0.0 ... 1 0 38190.78]]\n"
     ]
    }
   ],
   "source": [
    "# Label Encoding the \"Gender\" column\n",
    "from sklearn.preprocessing import LabelEncoder\n",
    "le = LabelEncoder()\n",
    "X[:, 2] = le.fit_transform(X[:, 2])\n",
    "print(X)\n",
    "# One Hot Encoding the \"Geography\" column\n",
    "from sklearn.compose import ColumnTransformer\n",
    "from sklearn.preprocessing import OneHotEncoder\n",
    "ct = ColumnTransformer(transformers=[('encoder', OneHotEncoder(), [1])], remainder='passthrough')\n",
    "X = np.array(ct.fit_transform(X))\n",
    "print(X)"
   ]
  },
  {
   "cell_type": "markdown",
   "metadata": {},
   "source": [
    "# Dividindo o dataset em conjunto de treinamento e conjunto de teste"
   ]
  },
  {
   "cell_type": "code",
   "execution_count": 7,
   "metadata": {},
   "outputs": [],
   "source": [
    "from sklearn.model_selection import train_test_split\n",
    "X_train, X_test, y_train, y_test = train_test_split(X, y, test_size = 0.2, random_state = 0)"
   ]
  },
  {
   "cell_type": "markdown",
   "metadata": {},
   "source": [
    "# Feature Scaling"
   ]
  },
  {
   "cell_type": "code",
   "execution_count": 8,
   "metadata": {},
   "outputs": [],
   "source": [
    "from sklearn.preprocessing import StandardScaler\n",
    "sc = StandardScaler()\n",
    "X_train = sc.fit_transform(X_train)\n",
    "X_test = sc.transform(X_test)"
   ]
  },
  {
   "cell_type": "code",
   "execution_count": 9,
   "metadata": {},
   "outputs": [
    {
     "output_type": "execute_result",
     "data": {
      "text/plain": [
       "(8000, 12)"
      ]
     },
     "metadata": {},
     "execution_count": 9
    }
   ],
   "source": [
    "np.shape(X_train)"
   ]
  },
  {
   "cell_type": "markdown",
   "metadata": {},
   "source": [
    "---\n",
    "# Parte 2 -Vamos construir uma ANN!\n"
   ]
  },
  {
   "cell_type": "markdown",
   "metadata": {
    "colab_type": "text",
    "id": "KvdeScabXtlB"
   },
   "source": [
    "### Initializing the ANN"
   ]
  },
  {
   "cell_type": "code",
   "execution_count": 10,
   "metadata": {
    "colab": {},
    "colab_type": "code",
    "id": "3dtrScHxXQox"
   },
   "outputs": [],
   "source": [
    "ann = tf.keras.models.Sequential()"
   ]
  },
  {
   "cell_type": "markdown",
   "metadata": {
    "colab_type": "text",
    "id": "rP6urV6SX7kS"
   },
   "source": [
    "### Adding the input layer and the first hidden layer"
   ]
  },
  {
   "cell_type": "code",
   "execution_count": 11,
   "metadata": {
    "colab": {},
    "colab_type": "code",
    "id": "bppGycBXYCQr"
   },
   "outputs": [],
   "source": [
    "ann.add(tf.keras.layers.Dense(units=6, kernel_initializer='random_normal', activation='selu'))"
   ]
  },
  {
   "cell_type": "markdown",
   "metadata": {
    "colab_type": "text",
    "id": "BELWAc_8YJze"
   },
   "source": [
    "### Adding the second hidden layer"
   ]
  },
  {
   "cell_type": "code",
   "execution_count": 12,
   "metadata": {
    "colab": {},
    "colab_type": "code",
    "id": "JneR0u0sYRTd"
   },
   "outputs": [],
   "source": [
    "ann.add(tf.keras.layers.Dense(units=6, activation='selu'))\r\n",
    "ann.add(tf.keras.layers.Dense(units=6, activation='elu'))"
   ]
  },
  {
   "cell_type": "markdown",
   "metadata": {
    "colab_type": "text",
    "id": "OyNEe6RXYcU4"
   },
   "source": [
    "### Adding the output layer"
   ]
  },
  {
   "cell_type": "code",
   "execution_count": 13,
   "metadata": {
    "colab": {},
    "colab_type": "code",
    "id": "Cn3x41RBYfvY"
   },
   "outputs": [],
   "source": [
    "ann.add(tf.keras.layers.Dense(units=1,  activation='sigmoid'))"
   ]
  },
  {
   "cell_type": "markdown",
   "metadata": {
    "colab_type": "text",
    "id": "JT4u2S1_Y4WG"
   },
   "source": [
    "## Part 3 - Training the ANN"
   ]
  },
  {
   "cell_type": "markdown",
   "metadata": {
    "colab_type": "text",
    "id": "8GWlJChhY_ZI"
   },
   "source": [
    "### Compiling the ANN"
   ]
  },
  {
   "cell_type": "code",
   "execution_count": 14,
   "metadata": {
    "colab": {},
    "colab_type": "code",
    "id": "fG3RrwDXZEaS"
   },
   "outputs": [],
   "source": [
    "ann.compile(optimizer = 'adam', loss = 'binary_crossentropy', metrics = ['accuracy'])"
   ]
  },
  {
   "cell_type": "markdown",
   "metadata": {
    "colab_type": "text",
    "id": "0QR_G5u7ZLSM"
   },
   "source": [
    "### Training the ANN on the Training set"
   ]
  },
  {
   "cell_type": "code",
   "execution_count": 15,
   "metadata": {
    "colab": {
     "base_uri": "https://localhost:8080/",
     "height": 1000
    },
    "colab_type": "code",
    "id": "nHZ-LKv_ZRb3",
    "outputId": "718cc4b0-b5aa-40f0-9b20-d3d31730a531"
   },
   "outputs": [
    {
     "output_type": "stream",
     "name": "stdout",
     "text": [
      "Epoch 1/100\n",
      "250/250 [==============================] - 0s 844us/step - loss: 0.4997 - accuracy: 0.7810\n",
      "Epoch 2/100\n",
      "250/250 [==============================] - 0s 772us/step - loss: 0.4277 - accuracy: 0.8080\n",
      "Epoch 3/100\n",
      "250/250 [==============================] - 0s 840us/step - loss: 0.4229 - accuracy: 0.8114\n",
      "Epoch 4/100\n",
      "250/250 [==============================] - 0s 848us/step - loss: 0.4187 - accuracy: 0.8173\n",
      "Epoch 5/100\n",
      "250/250 [==============================] - 0s 836us/step - loss: 0.4136 - accuracy: 0.8278\n",
      "Epoch 6/100\n",
      "250/250 [==============================] - 0s 744us/step - loss: 0.4089 - accuracy: 0.8309\n",
      "Epoch 7/100\n",
      "250/250 [==============================] - 0s 896us/step - loss: 0.4060 - accuracy: 0.8319\n",
      "Epoch 8/100\n",
      "250/250 [==============================] - 0s 916us/step - loss: 0.4015 - accuracy: 0.8345\n",
      "Epoch 9/100\n",
      "250/250 [==============================] - 0s 864us/step - loss: 0.3957 - accuracy: 0.8365\n",
      "Epoch 10/100\n",
      "250/250 [==============================] - 0s 744us/step - loss: 0.3799 - accuracy: 0.8426\n",
      "Epoch 11/100\n",
      "250/250 [==============================] - 0s 836us/step - loss: 0.3619 - accuracy: 0.8559\n",
      "Epoch 12/100\n",
      "250/250 [==============================] - 0s 760us/step - loss: 0.3534 - accuracy: 0.8577\n",
      "Epoch 13/100\n",
      "250/250 [==============================] - 0s 776us/step - loss: 0.3495 - accuracy: 0.8605\n",
      "Epoch 14/100\n",
      "250/250 [==============================] - 0s 732us/step - loss: 0.3470 - accuracy: 0.8590\n",
      "Epoch 15/100\n",
      "250/250 [==============================] - 0s 752us/step - loss: 0.3443 - accuracy: 0.8597\n",
      "Epoch 16/100\n",
      "250/250 [==============================] - 0s 908us/step - loss: 0.3443 - accuracy: 0.8584\n",
      "Epoch 17/100\n",
      "250/250 [==============================] - 0s 872us/step - loss: 0.3450 - accuracy: 0.8602\n",
      "Epoch 18/100\n",
      "250/250 [==============================] - 0s 848us/step - loss: 0.3440 - accuracy: 0.8609\n",
      "Epoch 19/100\n",
      "250/250 [==============================] - 0s 740us/step - loss: 0.3426 - accuracy: 0.8605\n",
      "Epoch 20/100\n",
      "250/250 [==============================] - 0s 740us/step - loss: 0.3418 - accuracy: 0.8614\n",
      "Epoch 21/100\n",
      "250/250 [==============================] - 0s 736us/step - loss: 0.3421 - accuracy: 0.8614\n",
      "Epoch 22/100\n",
      "250/250 [==============================] - 0s 800us/step - loss: 0.3412 - accuracy: 0.8620\n",
      "Epoch 23/100\n",
      "250/250 [==============================] - 0s 716us/step - loss: 0.3416 - accuracy: 0.8624\n",
      "Epoch 24/100\n",
      "250/250 [==============================] - 0s 724us/step - loss: 0.3413 - accuracy: 0.8600\n",
      "Epoch 25/100\n",
      "250/250 [==============================] - 0s 744us/step - loss: 0.3404 - accuracy: 0.8624\n",
      "Epoch 26/100\n",
      "250/250 [==============================] - 0s 908us/step - loss: 0.3401 - accuracy: 0.8610\n",
      "Epoch 27/100\n",
      "250/250 [==============================] - 0s 852us/step - loss: 0.3403 - accuracy: 0.8619\n",
      "Epoch 28/100\n",
      "250/250 [==============================] - 0s 728us/step - loss: 0.3406 - accuracy: 0.8624\n",
      "Epoch 29/100\n",
      "250/250 [==============================] - 0s 832us/step - loss: 0.3399 - accuracy: 0.8619\n",
      "Epoch 30/100\n",
      "250/250 [==============================] - 0s 732us/step - loss: 0.3394 - accuracy: 0.8633\n",
      "Epoch 31/100\n",
      "250/250 [==============================] - 0s 760us/step - loss: 0.3395 - accuracy: 0.8618\n",
      "Epoch 32/100\n",
      "250/250 [==============================] - 0s 836us/step - loss: 0.3393 - accuracy: 0.8624\n",
      "Epoch 33/100\n",
      "250/250 [==============================] - 0s 784us/step - loss: 0.3387 - accuracy: 0.8605\n",
      "Epoch 34/100\n",
      "250/250 [==============================] - 0s 756us/step - loss: 0.3392 - accuracy: 0.8614\n",
      "Epoch 35/100\n",
      "250/250 [==============================] - 0s 796us/step - loss: 0.3387 - accuracy: 0.8606\n",
      "Epoch 36/100\n",
      "250/250 [==============================] - 0s 752us/step - loss: 0.3379 - accuracy: 0.8624\n",
      "Epoch 37/100\n",
      "250/250 [==============================] - 0s 764us/step - loss: 0.3393 - accuracy: 0.8627\n",
      "Epoch 38/100\n",
      "250/250 [==============================] - 0s 740us/step - loss: 0.3383 - accuracy: 0.8606\n",
      "Epoch 39/100\n",
      "250/250 [==============================] - 0s 752us/step - loss: 0.3383 - accuracy: 0.8597\n",
      "Epoch 40/100\n",
      "250/250 [==============================] - 0s 752us/step - loss: 0.3377 - accuracy: 0.8619\n",
      "Epoch 41/100\n",
      "250/250 [==============================] - 0s 756us/step - loss: 0.3375 - accuracy: 0.8637\n",
      "Epoch 42/100\n",
      "250/250 [==============================] - 0s 920us/step - loss: 0.3370 - accuracy: 0.8619\n",
      "Epoch 43/100\n",
      "250/250 [==============================] - 0s 876us/step - loss: 0.3371 - accuracy: 0.8641\n",
      "Epoch 44/100\n",
      "250/250 [==============================] - 0s 920us/step - loss: 0.3375 - accuracy: 0.8620\n",
      "Epoch 45/100\n",
      "250/250 [==============================] - 0s 864us/step - loss: 0.3369 - accuracy: 0.8612\n",
      "Epoch 46/100\n",
      "250/250 [==============================] - 0s 744us/step - loss: 0.3372 - accuracy: 0.8616\n",
      "Epoch 47/100\n",
      "250/250 [==============================] - 0s 772us/step - loss: 0.3367 - accuracy: 0.8615\n",
      "Epoch 48/100\n",
      "250/250 [==============================] - 0s 876us/step - loss: 0.3369 - accuracy: 0.8637\n",
      "Epoch 49/100\n",
      "250/250 [==============================] - 0s 784us/step - loss: 0.3364 - accuracy: 0.8601\n",
      "Epoch 50/100\n",
      "250/250 [==============================] - 0s 952us/step - loss: 0.3365 - accuracy: 0.8639\n",
      "Epoch 51/100\n",
      "250/250 [==============================] - 0s 1ms/step - loss: 0.3357 - accuracy: 0.8633\n",
      "Epoch 52/100\n",
      "250/250 [==============================] - 0s 796us/step - loss: 0.3367 - accuracy: 0.8633\n",
      "Epoch 53/100\n",
      "250/250 [==============================] - 0s 848us/step - loss: 0.3356 - accuracy: 0.8618\n",
      "Epoch 54/100\n",
      "250/250 [==============================] - 0s 780us/step - loss: 0.3356 - accuracy: 0.8633\n",
      "Epoch 55/100\n",
      "250/250 [==============================] - 0s 736us/step - loss: 0.3354 - accuracy: 0.8619\n",
      "Epoch 56/100\n",
      "250/250 [==============================] - 0s 1ms/step - loss: 0.3355 - accuracy: 0.8630\n",
      "Epoch 57/100\n",
      "250/250 [==============================] - 0s 784us/step - loss: 0.3351 - accuracy: 0.8626\n",
      "Epoch 58/100\n",
      "250/250 [==============================] - 0s 752us/step - loss: 0.3355 - accuracy: 0.8619\n",
      "Epoch 59/100\n",
      "250/250 [==============================] - 0s 848us/step - loss: 0.3349 - accuracy: 0.8618\n",
      "Epoch 60/100\n",
      "250/250 [==============================] - 0s 1ms/step - loss: 0.3349 - accuracy: 0.8624\n",
      "Epoch 61/100\n",
      "250/250 [==============================] - 0s 1ms/step - loss: 0.3344 - accuracy: 0.8629\n",
      "Epoch 62/100\n",
      "250/250 [==============================] - 0s 1ms/step - loss: 0.3348 - accuracy: 0.8625\n",
      "Epoch 63/100\n",
      "250/250 [==============================] - 0s 1ms/step - loss: 0.3344 - accuracy: 0.8643\n",
      "Epoch 64/100\n",
      "250/250 [==============================] - 0s 808us/step - loss: 0.3346 - accuracy: 0.8627\n",
      "Epoch 65/100\n",
      "250/250 [==============================] - 0s 976us/step - loss: 0.3352 - accuracy: 0.8634\n",
      "Epoch 66/100\n",
      "250/250 [==============================] - 0s 844us/step - loss: 0.3345 - accuracy: 0.8625\n",
      "Epoch 67/100\n",
      "250/250 [==============================] - 0s 728us/step - loss: 0.3344 - accuracy: 0.8645\n",
      "Epoch 68/100\n",
      "250/250 [==============================] - 0s 892us/step - loss: 0.3340 - accuracy: 0.8626\n",
      "Epoch 69/100\n",
      "250/250 [==============================] - 0s 940us/step - loss: 0.3350 - accuracy: 0.8636\n",
      "Epoch 70/100\n",
      "250/250 [==============================] - 0s 728us/step - loss: 0.3339 - accuracy: 0.8643\n",
      "Epoch 71/100\n",
      "250/250 [==============================] - 0s 772us/step - loss: 0.3338 - accuracy: 0.8635\n",
      "Epoch 72/100\n",
      "250/250 [==============================] - 0s 756us/step - loss: 0.3342 - accuracy: 0.8629\n",
      "Epoch 73/100\n",
      "250/250 [==============================] - 0s 796us/step - loss: 0.3339 - accuracy: 0.8626\n",
      "Epoch 74/100\n",
      "250/250 [==============================] - 0s 760us/step - loss: 0.3335 - accuracy: 0.8648\n",
      "Epoch 75/100\n",
      "250/250 [==============================] - 0s 800us/step - loss: 0.3333 - accuracy: 0.8636\n",
      "Epoch 76/100\n",
      "250/250 [==============================] - 0s 712us/step - loss: 0.3329 - accuracy: 0.8627\n",
      "Epoch 77/100\n",
      "250/250 [==============================] - 0s 740us/step - loss: 0.3336 - accuracy: 0.8631\n",
      "Epoch 78/100\n",
      "250/250 [==============================] - 0s 812us/step - loss: 0.3332 - accuracy: 0.8645\n",
      "Epoch 79/100\n",
      "250/250 [==============================] - 0s 720us/step - loss: 0.3335 - accuracy: 0.8645\n",
      "Epoch 80/100\n",
      "250/250 [==============================] - 0s 744us/step - loss: 0.3327 - accuracy: 0.8650\n",
      "Epoch 81/100\n",
      "250/250 [==============================] - 0s 744us/step - loss: 0.3333 - accuracy: 0.8635\n",
      "Epoch 82/100\n",
      "250/250 [==============================] - 0s 868us/step - loss: 0.3325 - accuracy: 0.8633\n",
      "Epoch 83/100\n",
      "250/250 [==============================] - 0s 1ms/step - loss: 0.3330 - accuracy: 0.8646\n",
      "Epoch 84/100\n",
      "250/250 [==============================] - 0s 852us/step - loss: 0.3325 - accuracy: 0.8636\n",
      "Epoch 85/100\n",
      "250/250 [==============================] - 0s 800us/step - loss: 0.3329 - accuracy: 0.8630\n",
      "Epoch 86/100\n",
      "250/250 [==============================] - 0s 732us/step - loss: 0.3329 - accuracy: 0.8615\n",
      "Epoch 87/100\n",
      "250/250 [==============================] - 0s 740us/step - loss: 0.3329 - accuracy: 0.8627\n",
      "Epoch 88/100\n",
      "250/250 [==============================] - 0s 760us/step - loss: 0.3326 - accuracy: 0.8636\n",
      "Epoch 89/100\n",
      "250/250 [==============================] - 0s 736us/step - loss: 0.3326 - accuracy: 0.8665\n",
      "Epoch 90/100\n",
      "250/250 [==============================] - 0s 716us/step - loss: 0.3324 - accuracy: 0.8649\n",
      "Epoch 91/100\n",
      "250/250 [==============================] - 0s 744us/step - loss: 0.3328 - accuracy: 0.8631\n",
      "Epoch 92/100\n",
      "250/250 [==============================] - 0s 728us/step - loss: 0.3321 - accuracy: 0.8644\n",
      "Epoch 93/100\n",
      "250/250 [==============================] - 0s 756us/step - loss: 0.3319 - accuracy: 0.8645\n",
      "Epoch 94/100\n",
      "250/250 [==============================] - 0s 896us/step - loss: 0.3323 - accuracy: 0.8633\n",
      "Epoch 95/100\n",
      "250/250 [==============================] - 0s 724us/step - loss: 0.3328 - accuracy: 0.8624\n",
      "Epoch 96/100\n",
      "250/250 [==============================] - 0s 980us/step - loss: 0.3332 - accuracy: 0.8619\n",
      "Epoch 97/100\n",
      "250/250 [==============================] - 0s 792us/step - loss: 0.3321 - accuracy: 0.8658\n",
      "Epoch 98/100\n",
      "250/250 [==============================] - 0s 784us/step - loss: 0.3325 - accuracy: 0.8648\n",
      "Epoch 99/100\n",
      "250/250 [==============================] - 0s 804us/step - loss: 0.3318 - accuracy: 0.8656\n",
      "Epoch 100/100\n",
      "250/250 [==============================] - 0s 788us/step - loss: 0.3324 - accuracy: 0.8648\n"
     ]
    },
    {
     "output_type": "execute_result",
     "data": {
      "text/plain": [
       "<tensorflow.python.keras.callbacks.History at 0x1cb5837fc08>"
      ]
     },
     "metadata": {},
     "execution_count": 15
    }
   ],
   "source": [
    "ann.fit(X_train, y_train, batch_size = 32, epochs = 100)"
   ]
  },
  {
   "cell_type": "markdown",
   "metadata": {},
   "source": [
    "# Parte 3 - Fazendo predições e avaliando o modelo\n",
    "\n",
    "## Prevendo os resultados com o conjunto de testes"
   ]
  },
  {
   "cell_type": "code",
   "execution_count": 16,
   "metadata": {},
   "outputs": [
    {
     "output_type": "execute_result",
     "data": {
      "text/plain": [
       "array([[0.28459346],\n",
       "       [0.29276565],\n",
       "       [0.17109558],\n",
       "       ...,\n",
       "       [0.13377559],\n",
       "       [0.1893861 ],\n",
       "       [0.19832236]], dtype=float32)"
      ]
     },
     "metadata": {},
     "execution_count": 16
    }
   ],
   "source": [
    "y_pred = ann.predict(X_test)\n",
    "y_pred"
   ]
  },
  {
   "cell_type": "code",
   "execution_count": 17,
   "metadata": {},
   "outputs": [
    {
     "output_type": "execute_result",
     "data": {
      "text/plain": [
       "array([[False],\n",
       "       [False],\n",
       "       [False],\n",
       "       ...,\n",
       "       [False],\n",
       "       [False],\n",
       "       [False]])"
      ]
     },
     "metadata": {},
     "execution_count": 17
    }
   ],
   "source": [
    "y_pred = (y_pred > 0.5)\n",
    "y_pred"
   ]
  },
  {
   "cell_type": "markdown",
   "metadata": {},
   "source": [
    "# Criando uma Confusion Matrix"
   ]
  },
  {
   "cell_type": "code",
   "execution_count": 18,
   "metadata": {},
   "outputs": [
    {
     "output_type": "stream",
     "name": "stdout",
     "text": [
      "[[1519   76]\n [ 200  205]]\n"
     ]
    }
   ],
   "source": [
    "from sklearn.metrics import confusion_matrix\n",
    "cm = confusion_matrix(y_test, y_pred)\n",
    "print(cm)"
   ]
  },
  {
   "cell_type": "code",
   "execution_count": 19,
   "metadata": {},
   "outputs": [
    {
     "output_type": "stream",
     "name": "stdout",
     "text": [
      "0.862\n"
     ]
    }
   ],
   "source": [
    "accuracy = (cm[0,0] + cm[1,1])/cm.sum()\n",
    "print(accuracy)"
   ]
  },
  {
   "cell_type": "markdown",
   "metadata": {},
   "source": [
    "# Part 4 - Avaliando, Melhorando e refinando a ANN\n"
   ]
  },
  {
   "cell_type": "code",
   "execution_count": 20,
   "metadata": {},
   "outputs": [],
   "source": [
    "# Avaliando\n",
    "from keras.wrappers.scikit_learn import KerasClassifier\n",
    "from sklearn.model_selection import cross_val_score\n",
    "from keras.models import Sequential\n",
    "from keras.layers import Dense"
   ]
  },
  {
   "cell_type": "code",
   "execution_count": 21,
   "metadata": {},
   "outputs": [],
   "source": [
    "def build_classifier():\n",
    "    classifier = Sequential()\n",
    "    classifier.add(Dense(units = 6, kernel_initializer = 'uniform', activation = 'selu', input_dim = 12))\n",
    "    classifier.add(Dense(units = 6, kernel_initializer = 'uniform', activation = 'selu'))\n",
    "    classifier.add(Dense(units = 6, kernel_initializer = 'uniform', activation = 'elu'))\n",
    "    classifier.add(Dense(units = 1, kernel_initializer = 'uniform', activation = 'sigmoid'))\n",
    "    classifier.compile(optimizer = 'adam', loss = 'binary_crossentropy', metrics = ['accuracy'])\n",
    "    return classifier"
   ]
  },
  {
   "cell_type": "code",
   "execution_count": 22,
   "metadata": {},
   "outputs": [],
   "source": [
    "classifier = KerasClassifier(build_fn = build_classifier, batch_size = 10, epochs = 10)\n",
    "accuracies = cross_val_score(estimator = classifier, X = X_train, y = y_train, cv = 10, n_jobs = -1)"
   ]
  },
  {
   "cell_type": "code",
   "execution_count": 23,
   "metadata": {},
   "outputs": [],
   "source": [
    "mean = accuracies.mean()"
   ]
  },
  {
   "cell_type": "code",
   "execution_count": 24,
   "metadata": {},
   "outputs": [],
   "source": [
    "variance = accuracies.std()"
   ]
  },
  {
   "cell_type": "code",
   "execution_count": 25,
   "metadata": {},
   "outputs": [
    {
     "output_type": "stream",
     "name": "stdout",
     "text": [
      "0.8158750057220459\n0.0133586429953171\n"
     ]
    }
   ],
   "source": [
    "print(mean)\n",
    "print(variance)"
   ]
  },
  {
   "cell_type": "code",
   "execution_count": 26,
   "metadata": {},
   "outputs": [],
   "source": [
    "# Melhorando ANN\n",
    "# Dropout Regularization to reduce overfitting if needed\n",
    "from keras.layers import Dropout"
   ]
  },
  {
   "cell_type": "code",
   "execution_count": 27,
   "metadata": {},
   "outputs": [],
   "source": [
    "def build_classifier():\n",
    "    classifier = Sequential()\n",
    "    classifier.add(Dense(units = 6, kernel_initializer = 'uniform', activation = 'selu', input_dim = 12))\n",
    "    classifier.add(Dropout(rate = 0.1))\n",
    "    classifier.add(Dense(units = 6, kernel_initializer = 'uniform', activation = 'selu'))\n",
    "    classifier.add(Dropout(rate = 0.1))\n",
    "    classifier.add(Dense(units = 6, kernel_initializer = 'uniform', activation = 'elu'))\n",
    "    classifier.add(Dropout(rate = 0.1))\n",
    "    classifier.add(Dense(units = 1, kernel_initializer = 'uniform', activation = 'sigmoid'))\n",
    "    classifier.compile(optimizer = 'adam', loss = 'binary_crossentropy', metrics = ['accuracy'])\n",
    "    return classifier"
   ]
  },
  {
   "cell_type": "code",
   "execution_count": 28,
   "metadata": {},
   "outputs": [],
   "source": [
    "classifier = KerasClassifier(build_fn = build_classifier, batch_size = 10, epochs = 10)\n",
    "accuracies = cross_val_score(estimator = classifier, X = X_train, y = y_train, cv = 10, n_jobs = -1)"
   ]
  },
  {
   "cell_type": "code",
   "execution_count": 29,
   "metadata": {},
   "outputs": [],
   "source": [
    "mean = accuracies.mean()"
   ]
  },
  {
   "cell_type": "code",
   "execution_count": 30,
   "metadata": {},
   "outputs": [],
   "source": [
    "variance = accuracies.std()"
   ]
  },
  {
   "cell_type": "code",
   "execution_count": 31,
   "metadata": {},
   "outputs": [
    {
     "output_type": "stream",
     "name": "stdout",
     "text": [
      "0.8139999985694886\n0.011508144785641314\n"
     ]
    }
   ],
   "source": [
    "print(mean)\n",
    "print(variance)"
   ]
  },
  {
   "cell_type": "code",
   "execution_count": 32,
   "metadata": {},
   "outputs": [],
   "source": [
    "# Tuning the ANN\n",
    "from keras.wrappers.scikit_learn import KerasClassifier\n",
    "from sklearn.model_selection import GridSearchCV\n",
    "from keras.models import Sequential\n",
    "from keras.layers import Dense\n",
    "\n",
    "def build_classifier(optimizer):\n",
    "    classifier = Sequential()\n",
    "    classifier.add(Dense(units = 6, kernel_initializer = 'uniform', activation = 'selu', input_dim = 12))\n",
    "    classifier.add(Dropout(rate = 0.1))\n",
    "    classifier.add(Dense(units = 6, kernel_initializer = 'uniform', activation = 'selu'))\n",
    "    classifier.add(Dropout(rate = 0.1))\n",
    "    classifier.add(Dense(units = 6, kernel_initializer = 'uniform', activation = 'elu'))\n",
    "    classifier.add(Dropout(rate = 0.1))\n",
    "    classifier.add(Dense(units = 1, kernel_initializer = 'uniform', activation = 'sigmoid'))\n",
    "    classifier.compile(optimizer = optimizer, loss = 'binary_crossentropy', metrics = ['accuracy'])\n",
    "    return classifier"
   ]
  },
  {
   "cell_type": "code",
   "execution_count": 33,
   "metadata": {},
   "outputs": [],
   "source": [
    "classifier = KerasClassifier(build_fn = build_classifier)\n",
    "\n",
    "parameters = {'batch_size': [10, 25, 32],\n",
    "              'epochs': [50, 50],\n",
    "              'optimizer': ['adam', 'rmsprop']}\n",
    "\n",
    "grid_search = GridSearchCV(estimator = classifier,\n",
    "                           scoring = 'accuracy',\n",
    "                           param_grid = parameters,\n",
    "                           cv = 10)\n"
   ]
  },
  {
   "cell_type": "code",
   "execution_count": 34,
   "metadata": {
    "tags": [
     "outputPrepend"
    ]
   },
   "outputs": [
    {
     "output_type": "stream",
     "name": "stdout",
     "text": [
      "=========] - 0s 796us/step - loss: 0.4342 - accuracy: 0.8188\n",
      "Epoch 7/50\n",
      "225/225 [==============================] - 0s 800us/step - loss: 0.4332 - accuracy: 0.8174\n",
      "Epoch 8/50\n",
      "225/225 [==============================] - 0s 787us/step - loss: 0.4312 - accuracy: 0.8172\n",
      "Epoch 9/50\n",
      "225/225 [==============================] - 0s 840us/step - loss: 0.4330 - accuracy: 0.8167\n",
      "Epoch 10/50\n",
      "225/225 [==============================] - 0s 831us/step - loss: 0.4308 - accuracy: 0.8182\n",
      "Epoch 11/50\n",
      "225/225 [==============================] - 0s 822us/step - loss: 0.4304 - accuracy: 0.8182\n",
      "Epoch 12/50\n",
      "225/225 [==============================] - 0s 836us/step - loss: 0.4304 - accuracy: 0.8199\n",
      "Epoch 13/50\n",
      "225/225 [==============================] - 0s 769us/step - loss: 0.4292 - accuracy: 0.8213\n",
      "Epoch 14/50\n",
      "225/225 [==============================] - 0s 773us/step - loss: 0.4295 - accuracy: 0.8203\n",
      "Epoch 15/50\n",
      "225/225 [==============================] - 0s 773us/step - loss: 0.4288 - accuracy: 0.8206\n",
      "Epoch 16/50\n",
      "225/225 [==============================] - 0s 782us/step - loss: 0.4257 - accuracy: 0.8233\n",
      "Epoch 17/50\n",
      "225/225 [==============================] - 0s 800us/step - loss: 0.4261 - accuracy: 0.8211\n",
      "Epoch 18/50\n",
      "225/225 [==============================] - 0s 1000us/step - loss: 0.4261 - accuracy: 0.8206\n",
      "Epoch 19/50\n",
      "225/225 [==============================] - 0s 764us/step - loss: 0.4235 - accuracy: 0.8235\n",
      "Epoch 20/50\n",
      "225/225 [==============================] - 0s 782us/step - loss: 0.4242 - accuracy: 0.8218\n",
      "Epoch 21/50\n",
      "225/225 [==============================] - 0s 778us/step - loss: 0.4238 - accuracy: 0.8232\n",
      "Epoch 22/50\n",
      "225/225 [==============================] - 0s 782us/step - loss: 0.4222 - accuracy: 0.8217\n",
      "Epoch 23/50\n",
      "225/225 [==============================] - 0s 796us/step - loss: 0.4219 - accuracy: 0.8240\n",
      "Epoch 24/50\n",
      "225/225 [==============================] - 0s 773us/step - loss: 0.4232 - accuracy: 0.8236\n",
      "Epoch 25/50\n",
      "225/225 [==============================] - 0s 871us/step - loss: 0.4212 - accuracy: 0.8250\n",
      "Epoch 26/50\n",
      "225/225 [==============================] - 0s 769us/step - loss: 0.4191 - accuracy: 0.8257\n",
      "Epoch 27/50\n",
      "225/225 [==============================] - 0s 796us/step - loss: 0.4174 - accuracy: 0.8263\n",
      "Epoch 28/50\n",
      "225/225 [==============================] - 0s 804us/step - loss: 0.4176 - accuracy: 0.8286\n",
      "Epoch 29/50\n",
      "225/225 [==============================] - 0s 818us/step - loss: 0.4198 - accuracy: 0.8285\n",
      "Epoch 30/50\n",
      "225/225 [==============================] - 0s 773us/step - loss: 0.4188 - accuracy: 0.8288\n",
      "Epoch 31/50\n",
      "225/225 [==============================] - 0s 787us/step - loss: 0.4203 - accuracy: 0.8286\n",
      "Epoch 32/50\n",
      "225/225 [==============================] - 0s 787us/step - loss: 0.4158 - accuracy: 0.8290\n",
      "Epoch 33/50\n",
      "225/225 [==============================] - 0s 831us/step - loss: 0.4185 - accuracy: 0.8289\n",
      "Epoch 34/50\n",
      "225/225 [==============================] - 0s 822us/step - loss: 0.4180 - accuracy: 0.8279\n",
      "Epoch 35/50\n",
      "225/225 [==============================] - 0s 800us/step - loss: 0.4170 - accuracy: 0.8286\n",
      "Epoch 36/50\n",
      "225/225 [==============================] - 0s 796us/step - loss: 0.4163 - accuracy: 0.8326\n",
      "Epoch 37/50\n",
      "225/225 [==============================] - 0s 787us/step - loss: 0.4167 - accuracy: 0.8307\n",
      "Epoch 38/50\n",
      "225/225 [==============================] - 0s 938us/step - loss: 0.4202 - accuracy: 0.8282\n",
      "Epoch 39/50\n",
      "225/225 [==============================] - 0s 791us/step - loss: 0.4160 - accuracy: 0.8318\n",
      "Epoch 40/50\n",
      "225/225 [==============================] - 0s 791us/step - loss: 0.4144 - accuracy: 0.8301\n",
      "Epoch 41/50\n",
      "225/225 [==============================] - 0s 756us/step - loss: 0.4142 - accuracy: 0.8317\n",
      "Epoch 42/50\n",
      "225/225 [==============================] - 0s 769us/step - loss: 0.4158 - accuracy: 0.8308\n",
      "Epoch 43/50\n",
      "225/225 [==============================] - 0s 796us/step - loss: 0.4119 - accuracy: 0.8303\n",
      "Epoch 44/50\n",
      "225/225 [==============================] - 0s 796us/step - loss: 0.4170 - accuracy: 0.8329\n",
      "Epoch 45/50\n",
      "225/225 [==============================] - 0s 800us/step - loss: 0.4158 - accuracy: 0.8301\n",
      "Epoch 46/50\n",
      "225/225 [==============================] - 0s 773us/step - loss: 0.4156 - accuracy: 0.8324\n",
      "Epoch 47/50\n",
      "225/225 [==============================] - 0s 773us/step - loss: 0.4149 - accuracy: 0.8310\n",
      "Epoch 48/50\n",
      "225/225 [==============================] - 0s 756us/step - loss: 0.4160 - accuracy: 0.8324\n",
      "Epoch 49/50\n",
      "225/225 [==============================] - 0s 818us/step - loss: 0.4115 - accuracy: 0.8324\n",
      "Epoch 50/50\n",
      "225/225 [==============================] - 0s 840us/step - loss: 0.4148 - accuracy: 0.8307\n",
      "Epoch 1/50\n",
      "225/225 [==============================] - 0s 849us/step - loss: 0.5549 - accuracy: 0.7983\n",
      "Epoch 2/50\n",
      "225/225 [==============================] - 0s 858us/step - loss: 0.4370 - accuracy: 0.8121\n",
      "Epoch 3/50\n",
      "225/225 [==============================] - 0s 791us/step - loss: 0.4344 - accuracy: 0.8114\n",
      "Epoch 4/50\n",
      "225/225 [==============================] - 0s 818us/step - loss: 0.4334 - accuracy: 0.8131\n",
      "Epoch 5/50\n",
      "225/225 [==============================] - 0s 809us/step - loss: 0.4304 - accuracy: 0.8151\n",
      "Epoch 6/50\n",
      "225/225 [==============================] - 0s 898us/step - loss: 0.4290 - accuracy: 0.8133\n",
      "Epoch 7/50\n",
      "225/225 [==============================] - 0s 818us/step - loss: 0.4295 - accuracy: 0.8129\n",
      "Epoch 8/50\n",
      "225/225 [==============================] - 0s 822us/step - loss: 0.4315 - accuracy: 0.8142\n",
      "Epoch 9/50\n",
      "225/225 [==============================] - 0s 822us/step - loss: 0.4298 - accuracy: 0.8146\n",
      "Epoch 10/50\n",
      "225/225 [==============================] - 0s 804us/step - loss: 0.4308 - accuracy: 0.8136\n",
      "Epoch 11/50\n",
      "225/225 [==============================] - 0s 804us/step - loss: 0.4307 - accuracy: 0.8138\n",
      "Epoch 12/50\n",
      "225/225 [==============================] - 0s 849us/step - loss: 0.4274 - accuracy: 0.8171\n",
      "Epoch 13/50\n",
      "225/225 [==============================] - 0s 809us/step - loss: 0.4264 - accuracy: 0.8147\n",
      "Epoch 14/50\n",
      "225/225 [==============================] - 0s 809us/step - loss: 0.4302 - accuracy: 0.8147\n",
      "Epoch 15/50\n",
      "225/225 [==============================] - 0s 800us/step - loss: 0.4271 - accuracy: 0.8190\n",
      "Epoch 16/50\n",
      "225/225 [==============================] - 0s 809us/step - loss: 0.4264 - accuracy: 0.8183\n",
      "Epoch 17/50\n",
      "225/225 [==============================] - 0s 791us/step - loss: 0.4268 - accuracy: 0.8200\n",
      "Epoch 18/50\n",
      "225/225 [==============================] - 0s 836us/step - loss: 0.4245 - accuracy: 0.8200\n",
      "Epoch 19/50\n",
      "225/225 [==============================] - 0s 796us/step - loss: 0.4249 - accuracy: 0.8201\n",
      "Epoch 20/50\n",
      "225/225 [==============================] - 0s 822us/step - loss: 0.4241 - accuracy: 0.8208\n",
      "Epoch 21/50\n",
      "225/225 [==============================] - 0s 822us/step - loss: 0.4205 - accuracy: 0.8215\n",
      "Epoch 22/50\n",
      "225/225 [==============================] - 0s 827us/step - loss: 0.4200 - accuracy: 0.8243\n",
      "Epoch 23/50\n",
      "225/225 [==============================] - 0s 876us/step - loss: 0.4171 - accuracy: 0.8243\n",
      "Epoch 24/50\n",
      "225/225 [==============================] - 0s 804us/step - loss: 0.4164 - accuracy: 0.8296\n",
      "Epoch 25/50\n",
      "225/225 [==============================] - 0s 804us/step - loss: 0.4138 - accuracy: 0.8278\n",
      "Epoch 26/50\n",
      "225/225 [==============================] - 0s 809us/step - loss: 0.4168 - accuracy: 0.8275\n",
      "Epoch 27/50\n",
      "225/225 [==============================] - 0s 831us/step - loss: 0.4154 - accuracy: 0.8304\n",
      "Epoch 28/50\n",
      "225/225 [==============================] - 0s 849us/step - loss: 0.4123 - accuracy: 0.8292\n",
      "Epoch 29/50\n",
      "225/225 [==============================] - 0s 800us/step - loss: 0.4147 - accuracy: 0.8314\n",
      "Epoch 30/50\n",
      "225/225 [==============================] - 0s 813us/step - loss: 0.4146 - accuracy: 0.8313\n",
      "Epoch 31/50\n",
      "225/225 [==============================] - 0s 818us/step - loss: 0.4127 - accuracy: 0.8286\n",
      "Epoch 32/50\n",
      "225/225 [==============================] - 0s 973us/step - loss: 0.4129 - accuracy: 0.8300\n",
      "Epoch 33/50\n",
      "225/225 [==============================] - 0s 849us/step - loss: 0.4133 - accuracy: 0.8293\n",
      "Epoch 34/50\n",
      "225/225 [==============================] - 0s 796us/step - loss: 0.4113 - accuracy: 0.8313\n",
      "Epoch 35/50\n",
      "225/225 [==============================] - 0s 809us/step - loss: 0.4122 - accuracy: 0.8308\n",
      "Epoch 36/50\n",
      "225/225 [==============================] - 0s 818us/step - loss: 0.4133 - accuracy: 0.8285\n",
      "Epoch 37/50\n",
      "225/225 [==============================] - 0s 973us/step - loss: 0.4147 - accuracy: 0.8300\n",
      "Epoch 38/50\n",
      "225/225 [==============================] - 0s 836us/step - loss: 0.4119 - accuracy: 0.8308\n",
      "Epoch 39/50\n",
      "225/225 [==============================] - 0s 800us/step - loss: 0.4067 - accuracy: 0.8300\n",
      "Epoch 40/50\n",
      "225/225 [==============================] - 0s 836us/step - loss: 0.4091 - accuracy: 0.8325\n",
      "Epoch 41/50\n",
      "225/225 [==============================] - 0s 844us/step - loss: 0.4104 - accuracy: 0.8322\n",
      "Epoch 42/50\n",
      "225/225 [==============================] - 0s 844us/step - loss: 0.4089 - accuracy: 0.8317\n",
      "Epoch 43/50\n",
      "225/225 [==============================] - 0s 973us/step - loss: 0.4115 - accuracy: 0.8307\n",
      "Epoch 44/50\n",
      "225/225 [==============================] - 0s 831us/step - loss: 0.4116 - accuracy: 0.8317\n",
      "Epoch 45/50\n",
      "225/225 [==============================] - 0s 778us/step - loss: 0.4115 - accuracy: 0.8335\n",
      "Epoch 46/50\n",
      "225/225 [==============================] - 0s 787us/step - loss: 0.4083 - accuracy: 0.8331\n",
      "Epoch 47/50\n",
      "225/225 [==============================] - 0s 809us/step - loss: 0.4086 - accuracy: 0.8329\n",
      "Epoch 48/50\n",
      "225/225 [==============================] - 0s 804us/step - loss: 0.4094 - accuracy: 0.8324\n",
      "Epoch 49/50\n",
      "225/225 [==============================] - 0s 849us/step - loss: 0.4094 - accuracy: 0.8321\n",
      "Epoch 50/50\n",
      "225/225 [==============================] - 0s 809us/step - loss: 0.4081 - accuracy: 0.8336\n",
      "Epoch 1/50\n",
      "225/225 [==============================] - 0s 836us/step - loss: 0.5545 - accuracy: 0.7976\n",
      "Epoch 2/50\n",
      "225/225 [==============================] - 0s 1ms/step - loss: 0.4388 - accuracy: 0.8072\n",
      "Epoch 3/50\n",
      "225/225 [==============================] - 0s 1ms/step - loss: 0.4388 - accuracy: 0.8078\n",
      "Epoch 4/50\n",
      "225/225 [==============================] - 0s 1ms/step - loss: 0.4371 - accuracy: 0.8089\n",
      "Epoch 5/50\n",
      "225/225 [==============================] - 0s 1ms/step - loss: 0.4345 - accuracy: 0.8090\n",
      "Epoch 6/50\n",
      "225/225 [==============================] - 0s 791us/step - loss: 0.4358 - accuracy: 0.8090\n",
      "Epoch 7/50\n",
      "225/225 [==============================] - 0s 893us/step - loss: 0.4335 - accuracy: 0.8112\n",
      "Epoch 8/50\n",
      "225/225 [==============================] - 0s 916us/step - loss: 0.4325 - accuracy: 0.8096\n",
      "Epoch 9/50\n",
      "225/225 [==============================] - 0s 867us/step - loss: 0.4357 - accuracy: 0.8085\n",
      "Epoch 10/50\n",
      "225/225 [==============================] - 0s 907us/step - loss: 0.4337 - accuracy: 0.8094\n",
      "Epoch 11/50\n",
      "225/225 [==============================] - 0s 1ms/step - loss: 0.4340 - accuracy: 0.8118\n",
      "Epoch 12/50\n",
      "225/225 [==============================] - 0s 1ms/step - loss: 0.4321 - accuracy: 0.8103\n",
      "Epoch 13/50\n",
      "225/225 [==============================] - 0s 827us/step - loss: 0.4343 - accuracy: 0.8108\n",
      "Epoch 14/50\n",
      "225/225 [==============================] - 0s 813us/step - loss: 0.4336 - accuracy: 0.8121\n",
      "Epoch 15/50\n",
      "225/225 [==============================] - 0s 836us/step - loss: 0.4335 - accuracy: 0.8100\n",
      "Epoch 16/50\n",
      "225/225 [==============================] - 0s 844us/step - loss: 0.4314 - accuracy: 0.8147\n",
      "Epoch 17/50\n",
      "225/225 [==============================] - 0s 1ms/step - loss: 0.4292 - accuracy: 0.8160\n",
      "Epoch 18/50\n",
      "225/225 [==============================] - 0s 982us/step - loss: 0.4325 - accuracy: 0.8142\n",
      "Epoch 19/50\n",
      "225/225 [==============================] - 0s 796us/step - loss: 0.4282 - accuracy: 0.8178\n",
      "Epoch 20/50\n",
      "225/225 [==============================] - 0s 831us/step - loss: 0.4267 - accuracy: 0.8168\n",
      "Epoch 21/50\n",
      "225/225 [==============================] - 0s 836us/step - loss: 0.4263 - accuracy: 0.8193\n",
      "Epoch 22/50\n",
      "225/225 [==============================] - 0s 809us/step - loss: 0.4262 - accuracy: 0.8189\n",
      "Epoch 23/50\n",
      "225/225 [==============================] - 0s 831us/step - loss: 0.4233 - accuracy: 0.8196\n",
      "Epoch 24/50\n",
      "225/225 [==============================] - 0s 809us/step - loss: 0.4237 - accuracy: 0.8196\n",
      "Epoch 25/50\n",
      "225/225 [==============================] - 0s 796us/step - loss: 0.4231 - accuracy: 0.8268\n",
      "Epoch 26/50\n",
      "225/225 [==============================] - 0s 858us/step - loss: 0.4204 - accuracy: 0.8253\n",
      "Epoch 27/50\n",
      "225/225 [==============================] - 0s 804us/step - loss: 0.4220 - accuracy: 0.8251\n",
      "Epoch 28/50\n",
      "225/225 [==============================] - 0s 876us/step - loss: 0.4201 - accuracy: 0.8260\n",
      "Epoch 29/50\n",
      "225/225 [==============================] - 0s 809us/step - loss: 0.4185 - accuracy: 0.8260\n",
      "Epoch 30/50\n",
      "225/225 [==============================] - 0s 813us/step - loss: 0.4195 - accuracy: 0.8261\n",
      "Epoch 31/50\n",
      "225/225 [==============================] - 0s 800us/step - loss: 0.4186 - accuracy: 0.8263\n",
      "Epoch 32/50\n",
      "225/225 [==============================] - 0s 858us/step - loss: 0.4184 - accuracy: 0.8264\n",
      "Epoch 33/50\n",
      "225/225 [==============================] - 0s 818us/step - loss: 0.4176 - accuracy: 0.8294\n",
      "Epoch 34/50\n",
      "225/225 [==============================] - 0s 880us/step - loss: 0.4159 - accuracy: 0.8271\n",
      "Epoch 35/50\n",
      "225/225 [==============================] - 0s 853us/step - loss: 0.4182 - accuracy: 0.8285\n",
      "Epoch 36/50\n",
      "225/225 [==============================] - 0s 809us/step - loss: 0.4163 - accuracy: 0.8267\n",
      "Epoch 37/50\n",
      "225/225 [==============================] - 0s 818us/step - loss: 0.4173 - accuracy: 0.8274\n",
      "Epoch 38/50\n",
      "225/225 [==============================] - 0s 813us/step - loss: 0.4161 - accuracy: 0.8267\n",
      "Epoch 39/50\n",
      "225/225 [==============================] - 0s 840us/step - loss: 0.4127 - accuracy: 0.8281\n",
      "Epoch 40/50\n",
      "225/225 [==============================] - 0s 818us/step - loss: 0.4163 - accuracy: 0.8261\n",
      "Epoch 41/50\n",
      "225/225 [==============================] - 0s 796us/step - loss: 0.4152 - accuracy: 0.8278\n",
      "Epoch 42/50\n",
      "225/225 [==============================] - 0s 818us/step - loss: 0.4151 - accuracy: 0.8275\n",
      "Epoch 43/50\n",
      "225/225 [==============================] - 0s 836us/step - loss: 0.4139 - accuracy: 0.8267\n",
      "Epoch 44/50\n",
      "225/225 [==============================] - 0s 827us/step - loss: 0.4139 - accuracy: 0.8293\n",
      "Epoch 45/50\n",
      "225/225 [==============================] - 0s 809us/step - loss: 0.4146 - accuracy: 0.8286\n",
      "Epoch 46/50\n",
      "225/225 [==============================] - 0s 822us/step - loss: 0.4160 - accuracy: 0.8276\n",
      "Epoch 47/50\n",
      "225/225 [==============================] - 0s 840us/step - loss: 0.4138 - accuracy: 0.8317\n",
      "Epoch 48/50\n",
      "225/225 [==============================] - 0s 831us/step - loss: 0.4137 - accuracy: 0.8297\n",
      "Epoch 49/50\n",
      "225/225 [==============================] - 0s 844us/step - loss: 0.4135 - accuracy: 0.8290\n",
      "Epoch 50/50\n",
      "225/225 [==============================] - 0s 818us/step - loss: 0.4137 - accuracy: 0.8283\n",
      "Epoch 1/50\n",
      "800/800 [==============================] - 1s 863us/step - loss: 0.4728 - accuracy: 0.8046\n",
      "Epoch 2/50\n",
      "800/800 [==============================] - 1s 795us/step - loss: 0.4369 - accuracy: 0.8084\n",
      "Epoch 3/50\n",
      "800/800 [==============================] - 1s 791us/step - loss: 0.4361 - accuracy: 0.8126\n",
      "Epoch 4/50\n",
      "800/800 [==============================] - 1s 817us/step - loss: 0.4356 - accuracy: 0.8110\n",
      "Epoch 5/50\n",
      "800/800 [==============================] - 1s 799us/step - loss: 0.4331 - accuracy: 0.8114\n",
      "Epoch 6/50\n",
      "800/800 [==============================] - 1s 773us/step - loss: 0.4320 - accuracy: 0.8102\n",
      "Epoch 7/50\n",
      "800/800 [==============================] - 1s 791us/step - loss: 0.4314 - accuracy: 0.8086\n",
      "Epoch 8/50\n",
      "800/800 [==============================] - 1s 790us/step - loss: 0.4296 - accuracy: 0.8134\n",
      "Epoch 9/50\n",
      "800/800 [==============================] - 1s 778us/step - loss: 0.4301 - accuracy: 0.8119\n",
      "Epoch 10/50\n",
      "800/800 [==============================] - 1s 784us/step - loss: 0.4252 - accuracy: 0.8202\n",
      "Epoch 11/50\n",
      "800/800 [==============================] - 1s 841us/step - loss: 0.4232 - accuracy: 0.8230\n",
      "Epoch 12/50\n",
      "800/800 [==============================] - 1s 804us/step - loss: 0.4215 - accuracy: 0.8242\n",
      "Epoch 13/50\n",
      "800/800 [==============================] - 1s 786us/step - loss: 0.4168 - accuracy: 0.8271\n",
      "Epoch 14/50\n",
      "800/800 [==============================] - 1s 785us/step - loss: 0.4194 - accuracy: 0.8280\n",
      "Epoch 15/50\n",
      "800/800 [==============================] - 1s 786us/step - loss: 0.4169 - accuracy: 0.8274\n",
      "Epoch 16/50\n",
      "800/800 [==============================] - 1s 847us/step - loss: 0.4159 - accuracy: 0.8282\n",
      "Epoch 17/50\n",
      "800/800 [==============================] - 1s 791us/step - loss: 0.4158 - accuracy: 0.8279\n",
      "Epoch 18/50\n",
      "800/800 [==============================] - 1s 826us/step - loss: 0.4136 - accuracy: 0.8285\n",
      "Epoch 19/50\n",
      "800/800 [==============================] - 1s 785us/step - loss: 0.4130 - accuracy: 0.8285\n",
      "Epoch 20/50\n",
      "800/800 [==============================] - 1s 771us/step - loss: 0.4144 - accuracy: 0.8271\n",
      "Epoch 21/50\n",
      "800/800 [==============================] - 1s 785us/step - loss: 0.4155 - accuracy: 0.8271\n",
      "Epoch 22/50\n",
      "800/800 [==============================] - 1s 817us/step - loss: 0.4143 - accuracy: 0.8250\n",
      "Epoch 23/50\n",
      "800/800 [==============================] - 1s 789us/step - loss: 0.4135 - accuracy: 0.8291\n",
      "Epoch 24/50\n",
      "800/800 [==============================] - 1s 789us/step - loss: 0.4123 - accuracy: 0.8231\n",
      "Epoch 25/50\n",
      "800/800 [==============================] - 1s 778us/step - loss: 0.4143 - accuracy: 0.8248\n",
      "Epoch 26/50\n",
      "800/800 [==============================] - 1s 825us/step - loss: 0.4134 - accuracy: 0.8238\n",
      "Epoch 27/50\n",
      "800/800 [==============================] - 1s 813us/step - loss: 0.4142 - accuracy: 0.8260\n",
      "Epoch 28/50\n",
      "800/800 [==============================] - 1s 784us/step - loss: 0.4114 - accuracy: 0.8255\n",
      "Epoch 29/50\n",
      "800/800 [==============================] - 1s 784us/step - loss: 0.4116 - accuracy: 0.8266\n",
      "Epoch 30/50\n",
      "800/800 [==============================] - 1s 814us/step - loss: 0.4129 - accuracy: 0.8276\n",
      "Epoch 31/50\n",
      "800/800 [==============================] - 1s 806us/step - loss: 0.4118 - accuracy: 0.8256\n",
      "Epoch 32/50\n",
      "800/800 [==============================] - 1s 843us/step - loss: 0.4099 - accuracy: 0.8267\n",
      "Epoch 33/50\n",
      "800/800 [==============================] - 1s 782us/step - loss: 0.4098 - accuracy: 0.8240\n",
      "Epoch 34/50\n",
      "800/800 [==============================] - 1s 770us/step - loss: 0.4104 - accuracy: 0.8257\n",
      "Epoch 35/50\n",
      "800/800 [==============================] - 1s 786us/step - loss: 0.4080 - accuracy: 0.8257\n",
      "Epoch 36/50\n",
      "800/800 [==============================] - 1s 802us/step - loss: 0.4105 - accuracy: 0.8246\n",
      "Epoch 37/50\n",
      "800/800 [==============================] - 1s 832us/step - loss: 0.4122 - accuracy: 0.8245\n",
      "Epoch 38/50\n",
      "800/800 [==============================] - 1s 791us/step - loss: 0.4089 - accuracy: 0.8261\n",
      "Epoch 39/50\n",
      "800/800 [==============================] - 1s 822us/step - loss: 0.4087 - accuracy: 0.8253\n",
      "Epoch 40/50\n",
      "800/800 [==============================] - 1s 779us/step - loss: 0.4071 - accuracy: 0.8238\n",
      "Epoch 41/50\n",
      "800/800 [==============================] - 1s 826us/step - loss: 0.4046 - accuracy: 0.8236\n",
      "Epoch 42/50\n",
      "800/800 [==============================] - 1s 839us/step - loss: 0.4044 - accuracy: 0.8246\n",
      "Epoch 43/50\n",
      "800/800 [==============================] - 1s 790us/step - loss: 0.4036 - accuracy: 0.8242\n",
      "Epoch 44/50\n",
      "800/800 [==============================] - 1s 794us/step - loss: 0.4040 - accuracy: 0.8255\n",
      "Epoch 45/50\n",
      "800/800 [==============================] - 1s 766us/step - loss: 0.4039 - accuracy: 0.8238\n",
      "Epoch 46/50\n",
      "800/800 [==============================] - 1s 825us/step - loss: 0.3978 - accuracy: 0.8259\n",
      "Epoch 47/50\n",
      "800/800 [==============================] - 1s 784us/step - loss: 0.3987 - accuracy: 0.8248\n",
      "Epoch 48/50\n",
      "800/800 [==============================] - 1s 778us/step - loss: 0.3996 - accuracy: 0.8264\n",
      "Epoch 49/50\n",
      "800/800 [==============================] - 1s 789us/step - loss: 0.4007 - accuracy: 0.8217\n",
      "Epoch 50/50\n",
      "800/800 [==============================] - 1s 820us/step - loss: 0.3996 - accuracy: 0.8275\n"
     ]
    }
   ],
   "source": [
    "grid_search = grid_search.fit(X_train, y_train)\n"
   ]
  },
  {
   "cell_type": "code",
   "execution_count": 35,
   "metadata": {},
   "outputs": [],
   "source": [
    "best_parameters = grid_search.best_params_"
   ]
  },
  {
   "cell_type": "code",
   "execution_count": 36,
   "metadata": {},
   "outputs": [],
   "source": [
    "best_accuracy = grid_search.best_score_"
   ]
  },
  {
   "cell_type": "code",
   "execution_count": 37,
   "metadata": {},
   "outputs": [
    {
     "output_type": "stream",
     "name": "stdout",
     "text": [
      "{'batch_size': 10, 'epochs': 50, 'optimizer': 'adam'}\n0.835125\n"
     ]
    }
   ],
   "source": [
    "print(best_parameters)\n",
    "print(best_accuracy)"
   ]
  },
  {
   "cell_type": "markdown",
   "metadata": {},
   "source": [
    "> Professor Diego Dorgam  \n",
    "> [@diegodorgam](https://twitter.com/diegodorgam)"
   ]
  }
 ],
 "metadata": {
  "kernelspec": {
   "name": "python3",
   "display_name": "Python 3.7.9 64-bit",
   "metadata": {
    "interpreter": {
     "hash": "df6438d9c6021a8537ed1f8dc3c8c872338752a98d8cf1a180ae921c1efc4c46"
    }
   }
  },
  "language_info": {
   "codemirror_mode": {
    "name": "ipython",
    "version": 3
   },
   "file_extension": ".py",
   "mimetype": "text/x-python",
   "name": "python",
   "nbconvert_exporter": "python",
   "pygments_lexer": "ipython3",
   "version": "3.7.9-final"
  }
 },
 "nbformat": 4,
 "nbformat_minor": 4
}