{
 "cells": [
  {
   "cell_type": "markdown",
   "metadata": {},
   "source": [
    "# REDES NEURAIS ARTIFICIAIS\n",
    "\n",
    "[Aula 3 de Deep Learning](http://bit.ly/dn-unb03) da Engenharia de Software da UnB"
   ]
  },
  {
   "cell_type": "markdown",
   "metadata": {},
   "source": [
    "# Parte 1 - Pré-processamento dos Dados"
   ]
  },
  {
   "cell_type": "markdown",
   "metadata": {},
   "source": [
    "### Importar as libs"
   ]
  },
  {
   "cell_type": "code",
   "execution_count": 1,
   "metadata": {
    "colab": {},
    "colab_type": "code",
    "id": "MxkJoQBkUIHC"
   },
   "outputs": [],
   "source": [
    "import numpy as np\n",
    "import pandas as pd\n",
    "import tensorflow as tf"
   ]
  },
  {
   "cell_type": "code",
   "execution_count": 2,
   "metadata": {
    "colab": {
     "base_uri": "https://localhost:8080/",
     "height": 34
    },
    "colab_type": "code",
    "id": "ZaTwK7ojXr2F",
    "outputId": "0b27a96d-d11a-43e8-ab4b-87c1f01896fe"
   },
   "outputs": [
    {
     "data": {
      "text/plain": [
       "'2.1.0'"
      ]
     },
     "execution_count": 2,
     "metadata": {},
     "output_type": "execute_result"
    }
   ],
   "source": [
    "tf.__version__"
   ]
  },
  {
   "cell_type": "markdown",
   "metadata": {},
   "source": [
    "### Importar o dataset"
   ]
  },
  {
   "cell_type": "code",
   "execution_count": 3,
   "metadata": {},
   "outputs": [
    {
     "data": {
      "text/html": [
       "<div>\n",
       "<style scoped>\n",
       "    .dataframe tbody tr th:only-of-type {\n",
       "        vertical-align: middle;\n",
       "    }\n",
       "\n",
       "    .dataframe tbody tr th {\n",
       "        vertical-align: top;\n",
       "    }\n",
       "\n",
       "    .dataframe thead th {\n",
       "        text-align: right;\n",
       "    }\n",
       "</style>\n",
       "<table border=\"1\" class=\"dataframe\">\n",
       "  <thead>\n",
       "    <tr style=\"text-align: right;\">\n",
       "      <th></th>\n",
       "      <th>RowNumber</th>\n",
       "      <th>CustomerId</th>\n",
       "      <th>Surname</th>\n",
       "      <th>CreditScore</th>\n",
       "      <th>Geography</th>\n",
       "      <th>Gender</th>\n",
       "      <th>Age</th>\n",
       "      <th>Tenure</th>\n",
       "      <th>Balance</th>\n",
       "      <th>NumOfProducts</th>\n",
       "      <th>HasCrCard</th>\n",
       "      <th>IsActiveMember</th>\n",
       "      <th>EstimatedSalary</th>\n",
       "      <th>Exited</th>\n",
       "    </tr>\n",
       "  </thead>\n",
       "  <tbody>\n",
       "    <tr>\n",
       "      <th>0</th>\n",
       "      <td>1</td>\n",
       "      <td>15634602</td>\n",
       "      <td>Hargrave</td>\n",
       "      <td>619</td>\n",
       "      <td>France</td>\n",
       "      <td>Female</td>\n",
       "      <td>42</td>\n",
       "      <td>2</td>\n",
       "      <td>0.00</td>\n",
       "      <td>1</td>\n",
       "      <td>1</td>\n",
       "      <td>1</td>\n",
       "      <td>101348.88</td>\n",
       "      <td>1</td>\n",
       "    </tr>\n",
       "    <tr>\n",
       "      <th>1</th>\n",
       "      <td>2</td>\n",
       "      <td>15647311</td>\n",
       "      <td>Hill</td>\n",
       "      <td>608</td>\n",
       "      <td>Spain</td>\n",
       "      <td>Female</td>\n",
       "      <td>41</td>\n",
       "      <td>1</td>\n",
       "      <td>83807.86</td>\n",
       "      <td>1</td>\n",
       "      <td>0</td>\n",
       "      <td>1</td>\n",
       "      <td>112542.58</td>\n",
       "      <td>0</td>\n",
       "    </tr>\n",
       "    <tr>\n",
       "      <th>2</th>\n",
       "      <td>3</td>\n",
       "      <td>15619304</td>\n",
       "      <td>Onio</td>\n",
       "      <td>502</td>\n",
       "      <td>France</td>\n",
       "      <td>Female</td>\n",
       "      <td>42</td>\n",
       "      <td>8</td>\n",
       "      <td>159660.80</td>\n",
       "      <td>3</td>\n",
       "      <td>1</td>\n",
       "      <td>0</td>\n",
       "      <td>113931.57</td>\n",
       "      <td>1</td>\n",
       "    </tr>\n",
       "    <tr>\n",
       "      <th>3</th>\n",
       "      <td>4</td>\n",
       "      <td>15701354</td>\n",
       "      <td>Boni</td>\n",
       "      <td>699</td>\n",
       "      <td>France</td>\n",
       "      <td>Female</td>\n",
       "      <td>39</td>\n",
       "      <td>1</td>\n",
       "      <td>0.00</td>\n",
       "      <td>2</td>\n",
       "      <td>0</td>\n",
       "      <td>0</td>\n",
       "      <td>93826.63</td>\n",
       "      <td>0</td>\n",
       "    </tr>\n",
       "    <tr>\n",
       "      <th>4</th>\n",
       "      <td>5</td>\n",
       "      <td>15737888</td>\n",
       "      <td>Mitchell</td>\n",
       "      <td>850</td>\n",
       "      <td>Spain</td>\n",
       "      <td>Female</td>\n",
       "      <td>43</td>\n",
       "      <td>2</td>\n",
       "      <td>125510.82</td>\n",
       "      <td>1</td>\n",
       "      <td>1</td>\n",
       "      <td>1</td>\n",
       "      <td>79084.10</td>\n",
       "      <td>0</td>\n",
       "    </tr>\n",
       "  </tbody>\n",
       "</table>\n",
       "</div>"
      ],
      "text/plain": [
       "   RowNumber  CustomerId   Surname  CreditScore Geography  Gender  Age  \\\n",
       "0          1    15634602  Hargrave          619    France  Female   42   \n",
       "1          2    15647311      Hill          608     Spain  Female   41   \n",
       "2          3    15619304      Onio          502    France  Female   42   \n",
       "3          4    15701354      Boni          699    France  Female   39   \n",
       "4          5    15737888  Mitchell          850     Spain  Female   43   \n",
       "\n",
       "   Tenure    Balance  NumOfProducts  HasCrCard  IsActiveMember  \\\n",
       "0       2       0.00              1          1               1   \n",
       "1       1   83807.86              1          0               1   \n",
       "2       8  159660.80              3          1               0   \n",
       "3       1       0.00              2          0               0   \n",
       "4       2  125510.82              1          1               1   \n",
       "\n",
       "   EstimatedSalary  Exited  \n",
       "0        101348.88       1  \n",
       "1        112542.58       0  \n",
       "2        113931.57       1  \n",
       "3         93826.63       0  \n",
       "4         79084.10       0  "
      ]
     },
     "execution_count": 3,
     "metadata": {},
     "output_type": "execute_result"
    }
   ],
   "source": [
    "dataset = pd.read_csv('Churn_Modelling.csv')\n",
    "dataset.head()"
   ]
  },
  {
   "cell_type": "code",
   "execution_count": 4,
   "metadata": {},
   "outputs": [
    {
     "name": "stdout",
     "output_type": "stream",
     "text": [
      "X >>\n",
      " [[619 'France' 'Female' ... 1 1 101348.88]\n",
      " [608 'Spain' 'Female' ... 0 1 112542.58]\n",
      " [502 'France' 'Female' ... 1 0 113931.57]\n",
      " ...\n",
      " [709 'France' 'Female' ... 0 1 42085.58]\n",
      " [772 'Germany' 'Male' ... 1 0 92888.52]\n",
      " [792 'France' 'Female' ... 1 0 38190.78]]\n",
      "y >>\n",
      " [1 0 1 ... 1 1 0]\n"
     ]
    }
   ],
   "source": [
    "X = dataset.iloc[:, 3:13].values\n",
    "y = dataset.iloc[:, 13].values\n",
    "print(\"X >>\\n\",X)\n",
    "print(\"y >>\\n\",y)"
   ]
  },
  {
   "cell_type": "markdown",
   "metadata": {},
   "source": [
    "### Transformando os dados categóricos\n"
   ]
  },
  {
   "cell_type": "code",
   "execution_count": 5,
   "metadata": {},
   "outputs": [
    {
     "name": "stdout",
     "output_type": "stream",
     "text": [
      "[[619 'France' 0 ... 1 1 101348.88]\n",
      " [608 'Spain' 0 ... 0 1 112542.58]\n",
      " [502 'France' 0 ... 1 0 113931.57]\n",
      " ...\n",
      " [709 'France' 0 ... 0 1 42085.58]\n",
      " [772 'Germany' 1 ... 1 0 92888.52]\n",
      " [792 'France' 0 ... 1 0 38190.78]]\n",
      "[[1.0 0.0 0.0 ... 1 1 101348.88]\n",
      " [0.0 0.0 1.0 ... 0 1 112542.58]\n",
      " [1.0 0.0 0.0 ... 1 0 113931.57]\n",
      " ...\n",
      " [1.0 0.0 0.0 ... 0 1 42085.58]\n",
      " [0.0 1.0 0.0 ... 1 0 92888.52]\n",
      " [1.0 0.0 0.0 ... 1 0 38190.78]]\n"
     ]
    }
   ],
   "source": [
    "# Label Encoding the \"Gender\" column\n",
    "from sklearn.preprocessing import LabelEncoder\n",
    "le = LabelEncoder()\n",
    "X[:, 2] = le.fit_transform(X[:, 2])\n",
    "print(X)\n",
    "# One Hot Encoding the \"Geography\" column\n",
    "from sklearn.compose import ColumnTransformer\n",
    "from sklearn.preprocessing import OneHotEncoder\n",
    "ct = ColumnTransformer(transformers=[('encoder', OneHotEncoder(), [1])], remainder='passthrough')\n",
    "X = np.array(ct.fit_transform(X))\n",
    "print(X)"
   ]
  },
  {
   "cell_type": "markdown",
   "metadata": {},
   "source": [
    "# Dividindo o dataset em conjunto de treinamento e conjunto de teste"
   ]
  },
  {
   "cell_type": "code",
   "execution_count": 6,
   "metadata": {},
   "outputs": [],
   "source": [
    "from sklearn.model_selection import train_test_split\n",
    "X_train, X_test, y_train, y_test = train_test_split(X, y, test_size = 0.2, random_state = 0)"
   ]
  },
  {
   "cell_type": "markdown",
   "metadata": {},
   "source": [
    "# Feature Scaling"
   ]
  },
  {
   "cell_type": "code",
   "execution_count": 7,
   "metadata": {},
   "outputs": [],
   "source": [
    "from sklearn.preprocessing import StandardScaler\n",
    "sc = StandardScaler()\n",
    "X_train = sc.fit_transform(X_train)\n",
    "X_test = sc.transform(X_test)"
   ]
  },
  {
   "cell_type": "code",
   "execution_count": 8,
   "metadata": {},
   "outputs": [
    {
     "data": {
      "text/plain": [
       "(8000, 12)"
      ]
     },
     "execution_count": 8,
     "metadata": {},
     "output_type": "execute_result"
    }
   ],
   "source": [
    "np.shape(X_train)"
   ]
  },
  {
   "cell_type": "markdown",
   "metadata": {},
   "source": [
    "---\n",
    "# Parte 2 -Vamos construir uma ANN!\n"
   ]
  },
  {
   "cell_type": "markdown",
   "metadata": {
    "colab_type": "text",
    "id": "KvdeScabXtlB"
   },
   "source": [
    "### Initializing the ANN"
   ]
  },
  {
   "cell_type": "code",
   "execution_count": 9,
   "metadata": {
    "colab": {},
    "colab_type": "code",
    "id": "3dtrScHxXQox"
   },
   "outputs": [],
   "source": [
    "ann = tf.keras.models.Sequential()"
   ]
  },
  {
   "cell_type": "markdown",
   "metadata": {
    "colab_type": "text",
    "id": "rP6urV6SX7kS"
   },
   "source": [
    "### Adding the input layer and the first hidden layer"
   ]
  },
  {
   "cell_type": "code",
   "execution_count": 10,
   "metadata": {
    "colab": {},
    "colab_type": "code",
    "id": "bppGycBXYCQr"
   },
   "outputs": [],
   "source": [
    "ann.add(tf.keras.layers.Dense(units=32, activation='tanh'))"
   ]
  },
  {
   "cell_type": "markdown",
   "metadata": {
    "colab_type": "text",
    "id": "BELWAc_8YJze"
   },
   "source": [
    "### Adding the second hidden layer"
   ]
  },
  {
   "cell_type": "code",
   "execution_count": 11,
   "metadata": {
    "colab": {},
    "colab_type": "code",
    "id": "JneR0u0sYRTd"
   },
   "outputs": [],
   "source": [
    "ann.add(tf.keras.layers.Dense(units=32, activation='tanh'))"
   ]
  },
  {
   "cell_type": "markdown",
   "metadata": {
    "colab_type": "text",
    "id": "OyNEe6RXYcU4"
   },
   "source": [
    "### Adding the output layer"
   ]
  },
  {
   "cell_type": "code",
   "execution_count": 12,
   "metadata": {
    "colab": {},
    "colab_type": "code",
    "id": "Cn3x41RBYfvY"
   },
   "outputs": [],
   "source": [
    "ann.add(tf.keras.layers.Dense(units=1, activation='sigmoid'))"
   ]
  },
  {
   "cell_type": "markdown",
   "metadata": {
    "colab_type": "text",
    "id": "JT4u2S1_Y4WG"
   },
   "source": [
    "## Part 3 - Training the ANN"
   ]
  },
  {
   "cell_type": "markdown",
   "metadata": {
    "colab_type": "text",
    "id": "8GWlJChhY_ZI"
   },
   "source": [
    "### Compiling the ANN"
   ]
  },
  {
   "cell_type": "code",
   "execution_count": 13,
   "metadata": {
    "colab": {},
    "colab_type": "code",
    "id": "fG3RrwDXZEaS"
   },
   "outputs": [],
   "source": [
    "ann.compile(optimizer = 'adam', loss = 'binary_crossentropy', metrics = ['accuracy'])"
   ]
  },
  {
   "cell_type": "markdown",
   "metadata": {
    "colab_type": "text",
    "id": "0QR_G5u7ZLSM"
   },
   "source": [
    "### Training the ANN on the Training set"
   ]
  },
  {
   "cell_type": "code",
   "execution_count": 14,
   "metadata": {
    "colab": {
     "base_uri": "https://localhost:8080/",
     "height": 1000
    },
    "colab_type": "code",
    "id": "nHZ-LKv_ZRb3",
    "outputId": "718cc4b0-b5aa-40f0-9b20-d3d31730a531"
   },
   "outputs": [
    {
     "name": "stdout",
     "output_type": "stream",
     "text": [
      "Train on 8000 samples\n",
      "Epoch 1/200\n",
      "8000/8000 [==============================] - 2s 229us/sample - loss: 0.4726 - accuracy: 0.7844\n",
      "Epoch 2/200\n",
      "8000/8000 [==============================] - 0s 52us/sample - loss: 0.4128 - accuracy: 0.8199\n",
      "Epoch 3/200\n",
      "8000/8000 [==============================] - 0s 56us/sample - loss: 0.3890 - accuracy: 0.8342\n",
      "Epoch 4/200\n",
      "8000/8000 [==============================] - 0s 50us/sample - loss: 0.3677 - accuracy: 0.8451\n",
      "Epoch 5/200\n",
      "8000/8000 [==============================] - 0s 51us/sample - loss: 0.3551 - accuracy: 0.8524\n",
      "Epoch 6/200\n",
      "8000/8000 [==============================] - 0s 51us/sample - loss: 0.3475 - accuracy: 0.8583\n",
      "Epoch 7/200\n",
      "8000/8000 [==============================] - 0s 49us/sample - loss: 0.3431 - accuracy: 0.8612\n",
      "Epoch 8/200\n",
      "8000/8000 [==============================] - 0s 50us/sample - loss: 0.3388 - accuracy: 0.8610\n",
      "Epoch 9/200\n",
      "8000/8000 [==============================] - 0s 49us/sample - loss: 0.3370 - accuracy: 0.8612\n",
      "Epoch 10/200\n",
      "8000/8000 [==============================] - 0s 53us/sample - loss: 0.3351 - accuracy: 0.8621\n",
      "Epoch 11/200\n",
      "8000/8000 [==============================] - 0s 51us/sample - loss: 0.3342 - accuracy: 0.8636\n",
      "Epoch 12/200\n",
      "8000/8000 [==============================] - 0s 52us/sample - loss: 0.3313 - accuracy: 0.8635\n",
      "Epoch 13/200\n",
      "8000/8000 [==============================] - 0s 50us/sample - loss: 0.3318 - accuracy: 0.8639\n",
      "Epoch 14/200\n",
      "8000/8000 [==============================] - 0s 61us/sample - loss: 0.3296 - accuracy: 0.8652\n",
      "Epoch 15/200\n",
      "8000/8000 [==============================] - 0s 57us/sample - loss: 0.3300 - accuracy: 0.8661\n",
      "Epoch 16/200\n",
      "8000/8000 [==============================] - 0s 51us/sample - loss: 0.3279 - accuracy: 0.8659\n",
      "Epoch 17/200\n",
      "8000/8000 [==============================] - 0s 49us/sample - loss: 0.3276 - accuracy: 0.8655\n",
      "Epoch 18/200\n",
      "8000/8000 [==============================] - 0s 49us/sample - loss: 0.3274 - accuracy: 0.8664\n",
      "Epoch 19/200\n",
      "8000/8000 [==============================] - 0s 50us/sample - loss: 0.3255 - accuracy: 0.8656\n",
      "Epoch 20/200\n",
      "8000/8000 [==============================] - 0s 59us/sample - loss: 0.3264 - accuracy: 0.8666\n",
      "Epoch 21/200\n",
      "8000/8000 [==============================] - 1s 65us/sample - loss: 0.3244 - accuracy: 0.8661\n",
      "Epoch 22/200\n",
      "8000/8000 [==============================] - 0s 52us/sample - loss: 0.3237 - accuracy: 0.8675\n",
      "Epoch 23/200\n",
      "8000/8000 [==============================] - 0s 49us/sample - loss: 0.3232 - accuracy: 0.8687s - loss: 0.3256 - accuracy: 0.86\n",
      "Epoch 24/200\n",
      "8000/8000 [==============================] - 0s 49us/sample - loss: 0.3223 - accuracy: 0.8689s - loss: 0.3217 - accuracy: 0.\n",
      "Epoch 25/200\n",
      "8000/8000 [==============================] - 1s 68us/sample - loss: 0.3214 - accuracy: 0.8674\n",
      "Epoch 26/200\n",
      "8000/8000 [==============================] - 0s 55us/sample - loss: 0.3213 - accuracy: 0.8685\n",
      "Epoch 27/200\n",
      "8000/8000 [==============================] - 1s 65us/sample - loss: 0.3207 - accuracy: 0.8694\n",
      "Epoch 28/200\n",
      "8000/8000 [==============================] - 1s 66us/sample - loss: 0.3201 - accuracy: 0.8691\n",
      "Epoch 29/200\n",
      "8000/8000 [==============================] - 0s 54us/sample - loss: 0.3200 - accuracy: 0.8698\n",
      "Epoch 30/200\n",
      "8000/8000 [==============================] - 0s 61us/sample - loss: 0.3194 - accuracy: 0.8705\n",
      "Epoch 31/200\n",
      "8000/8000 [==============================] - 0s 53us/sample - loss: 0.3191 - accuracy: 0.8720\n",
      "Epoch 32/200\n",
      "8000/8000 [==============================] - 0s 56us/sample - loss: 0.3185 - accuracy: 0.8695\n",
      "Epoch 33/200\n",
      "8000/8000 [==============================] - 0s 56us/sample - loss: 0.3181 - accuracy: 0.8683\n",
      "Epoch 34/200\n",
      "8000/8000 [==============================] - 0s 55us/sample - loss: 0.3181 - accuracy: 0.8705s - loss: 0.2805 - \n",
      "Epoch 35/200\n",
      "8000/8000 [==============================] - 1s 64us/sample - loss: 0.3163 - accuracy: 0.8691\n",
      "Epoch 36/200\n",
      "8000/8000 [==============================] - 1s 63us/sample - loss: 0.3161 - accuracy: 0.8695\n",
      "Epoch 37/200\n",
      "8000/8000 [==============================] - 1s 68us/sample - loss: 0.3150 - accuracy: 0.8700\n",
      "Epoch 38/200\n",
      "8000/8000 [==============================] - 0s 58us/sample - loss: 0.3143 - accuracy: 0.8708\n",
      "Epoch 39/200\n",
      "8000/8000 [==============================] - 0s 54us/sample - loss: 0.3146 - accuracy: 0.8706\n",
      "Epoch 40/200\n",
      "8000/8000 [==============================] - 1s 72us/sample - loss: 0.3128 - accuracy: 0.8724\n",
      "Epoch 41/200\n",
      "8000/8000 [==============================] - 0s 60us/sample - loss: 0.3132 - accuracy: 0.8735\n",
      "Epoch 42/200\n",
      "8000/8000 [==============================] - 0s 56us/sample - loss: 0.3125 - accuracy: 0.8760s - loss: 0.3117 - accuracy\n",
      "Epoch 43/200\n",
      "8000/8000 [==============================] - 0s 54us/sample - loss: 0.3116 - accuracy: 0.8726\n",
      "Epoch 44/200\n",
      "8000/8000 [==============================] - 0s 53us/sample - loss: 0.3109 - accuracy: 0.8742\n",
      "Epoch 45/200\n",
      "8000/8000 [==============================] - 0s 57us/sample - loss: 0.3109 - accuracy: 0.8729\n",
      "Epoch 46/200\n",
      "8000/8000 [==============================] - 0s 58us/sample - loss: 0.3096 - accuracy: 0.8736\n",
      "Epoch 47/200\n",
      "8000/8000 [==============================] - 0s 55us/sample - loss: 0.3089 - accuracy: 0.8729\n",
      "Epoch 48/200\n",
      "8000/8000 [==============================] - 1s 71us/sample - loss: 0.3085 - accuracy: 0.8736\n",
      "Epoch 49/200\n",
      "8000/8000 [==============================] - 0s 59us/sample - loss: 0.3088 - accuracy: 0.8730\n",
      "Epoch 50/200\n",
      "8000/8000 [==============================] - 1s 70us/sample - loss: 0.3074 - accuracy: 0.8735\n",
      "Epoch 51/200\n",
      "8000/8000 [==============================] - 0s 55us/sample - loss: 0.3066 - accuracy: 0.8742\n",
      "Epoch 52/200\n",
      "8000/8000 [==============================] - 0s 53us/sample - loss: 0.3060 - accuracy: 0.8754\n",
      "Epoch 53/200\n",
      "8000/8000 [==============================] - 0s 53us/sample - loss: 0.3058 - accuracy: 0.8739\n",
      "Epoch 54/200\n",
      "8000/8000 [==============================] - 0s 51us/sample - loss: 0.3057 - accuracy: 0.8766\n",
      "Epoch 55/200\n",
      "8000/8000 [==============================] - 0s 51us/sample - loss: 0.3050 - accuracy: 0.8774\n",
      "Epoch 56/200\n",
      "8000/8000 [==============================] - 0s 54us/sample - loss: 0.3054 - accuracy: 0.8760\n",
      "Epoch 57/200\n",
      "8000/8000 [==============================] - 0s 55us/sample - loss: 0.3031 - accuracy: 0.8751\n",
      "Epoch 58/200\n",
      "8000/8000 [==============================] - 0s 55us/sample - loss: 0.3020 - accuracy: 0.8763\n",
      "Epoch 59/200\n",
      "8000/8000 [==============================] - 0s 52us/sample - loss: 0.3017 - accuracy: 0.8780\n",
      "Epoch 60/200\n",
      "8000/8000 [==============================] - 0s 53us/sample - loss: 0.3014 - accuracy: 0.8777\n",
      "Epoch 61/200\n",
      "8000/8000 [==============================] - 0s 52us/sample - loss: 0.3009 - accuracy: 0.8763\n",
      "Epoch 62/200\n",
      "8000/8000 [==============================] - 0s 51us/sample - loss: 0.3002 - accuracy: 0.8785\n",
      "Epoch 63/200\n",
      "8000/8000 [==============================] - 0s 53us/sample - loss: 0.3002 - accuracy: 0.8776\n",
      "Epoch 64/200\n",
      "8000/8000 [==============================] - 0s 51us/sample - loss: 0.2995 - accuracy: 0.8781\n",
      "Epoch 65/200\n",
      "8000/8000 [==============================] - 0s 52us/sample - loss: 0.2994 - accuracy: 0.8775\n",
      "Epoch 66/200\n",
      "8000/8000 [==============================] - 0s 49us/sample - loss: 0.2979 - accuracy: 0.8785\n",
      "Epoch 67/200\n",
      "8000/8000 [==============================] - 0s 49us/sample - loss: 0.2974 - accuracy: 0.8802\n",
      "Epoch 68/200\n",
      "8000/8000 [==============================] - 0s 48us/sample - loss: 0.2966 - accuracy: 0.8804\n",
      "Epoch 69/200\n",
      "8000/8000 [==============================] - 0s 47us/sample - loss: 0.2965 - accuracy: 0.8804\n",
      "Epoch 70/200\n",
      "8000/8000 [==============================] - 0s 47us/sample - loss: 0.2954 - accuracy: 0.8791\n",
      "Epoch 71/200\n",
      "8000/8000 [==============================] - 0s 48us/sample - loss: 0.2952 - accuracy: 0.8825\n",
      "Epoch 72/200\n",
      "8000/8000 [==============================] - 0s 48us/sample - loss: 0.2946 - accuracy: 0.8802\n",
      "Epoch 73/200\n",
      "8000/8000 [==============================] - 0s 57us/sample - loss: 0.2941 - accuracy: 0.8813\n",
      "Epoch 74/200\n",
      "8000/8000 [==============================] - 0s 54us/sample - loss: 0.2939 - accuracy: 0.8805\n",
      "Epoch 75/200\n",
      "8000/8000 [==============================] - 0s 48us/sample - loss: 0.2931 - accuracy: 0.8800\n",
      "Epoch 76/200\n",
      "8000/8000 [==============================] - 0s 48us/sample - loss: 0.2929 - accuracy: 0.8801\n",
      "Epoch 77/200\n",
      "8000/8000 [==============================] - 0s 48us/sample - loss: 0.2919 - accuracy: 0.8801\n",
      "Epoch 78/200\n",
      "8000/8000 [==============================] - 0s 49us/sample - loss: 0.2912 - accuracy: 0.8810\n",
      "Epoch 79/200\n",
      "8000/8000 [==============================] - 0s 50us/sample - loss: 0.2903 - accuracy: 0.8821\n",
      "Epoch 80/200\n",
      "8000/8000 [==============================] - 0s 50us/sample - loss: 0.2908 - accuracy: 0.8836\n",
      "Epoch 81/200\n",
      "8000/8000 [==============================] - 0s 47us/sample - loss: 0.2883 - accuracy: 0.8821\n",
      "Epoch 82/200\n",
      "8000/8000 [==============================] - 0s 53us/sample - loss: 0.2883 - accuracy: 0.8819\n",
      "Epoch 83/200\n",
      "8000/8000 [==============================] - 0s 57us/sample - loss: 0.2881 - accuracy: 0.8824\n",
      "Epoch 84/200\n",
      "8000/8000 [==============================] - 1s 63us/sample - loss: 0.2874 - accuracy: 0.8826\n",
      "Epoch 85/200\n",
      "8000/8000 [==============================] - 0s 62us/sample - loss: 0.2863 - accuracy: 0.8825\n",
      "Epoch 86/200\n",
      "8000/8000 [==============================] - 0s 55us/sample - loss: 0.2859 - accuracy: 0.8829\n",
      "Epoch 87/200\n",
      "8000/8000 [==============================] - 0s 52us/sample - loss: 0.2861 - accuracy: 0.8840\n",
      "Epoch 88/200\n",
      "8000/8000 [==============================] - 0s 50us/sample - loss: 0.2851 - accuracy: 0.8836\n",
      "Epoch 89/200\n",
      "8000/8000 [==============================] - 0s 51us/sample - loss: 0.2852 - accuracy: 0.8825\n",
      "Epoch 90/200\n",
      "8000/8000 [==============================] - 0s 52us/sample - loss: 0.2829 - accuracy: 0.8848\n",
      "Epoch 91/200\n",
      "8000/8000 [==============================] - 0s 54us/sample - loss: 0.2821 - accuracy: 0.8838\n",
      "Epoch 92/200\n",
      "8000/8000 [==============================] - 0s 52us/sample - loss: 0.2824 - accuracy: 0.8844\n",
      "Epoch 93/200\n",
      "8000/8000 [==============================] - 0s 51us/sample - loss: 0.2808 - accuracy: 0.8861\n",
      "Epoch 94/200\n",
      "8000/8000 [==============================] - 0s 52us/sample - loss: 0.2812 - accuracy: 0.8869\n",
      "Epoch 95/200\n",
      "8000/8000 [==============================] - 0s 53us/sample - loss: 0.2801 - accuracy: 0.8851\n",
      "Epoch 96/200\n",
      "8000/8000 [==============================] - 1s 69us/sample - loss: 0.2802 - accuracy: 0.8881\n",
      "Epoch 97/200\n",
      "8000/8000 [==============================] - 0s 61us/sample - loss: 0.2791 - accuracy: 0.8860\n",
      "Epoch 98/200\n",
      "8000/8000 [==============================] - 0s 51us/sample - loss: 0.2786 - accuracy: 0.8866\n",
      "Epoch 99/200\n",
      "8000/8000 [==============================] - 0s 53us/sample - loss: 0.2784 - accuracy: 0.8880\n",
      "Epoch 100/200\n",
      "8000/8000 [==============================] - 0s 52us/sample - loss: 0.2770 - accuracy: 0.8884s - loss: 0.2769 - accuracy: \n",
      "Epoch 101/200\n",
      "8000/8000 [==============================] - 0s 51us/sample - loss: 0.2766 - accuracy: 0.8864\n",
      "Epoch 102/200\n",
      "8000/8000 [==============================] - 0s 51us/sample - loss: 0.2759 - accuracy: 0.8867\n",
      "Epoch 103/200\n",
      "8000/8000 [==============================] - 0s 54us/sample - loss: 0.2754 - accuracy: 0.8873\n",
      "Epoch 104/200\n",
      "8000/8000 [==============================] - 0s 61us/sample - loss: 0.2746 - accuracy: 0.8895\n",
      "Epoch 105/200\n",
      "8000/8000 [==============================] - 0s 62us/sample - loss: 0.2744 - accuracy: 0.8885\n",
      "Epoch 106/200\n",
      "8000/8000 [==============================] - 0s 52us/sample - loss: 0.2737 - accuracy: 0.8873\n",
      "Epoch 107/200\n",
      "8000/8000 [==============================] - 0s 53us/sample - loss: 0.2730 - accuracy: 0.8881\n",
      "Epoch 108/200\n",
      "8000/8000 [==============================] - 0s 51us/sample - loss: 0.2720 - accuracy: 0.8879\n",
      "Epoch 109/200\n",
      "8000/8000 [==============================] - 0s 56us/sample - loss: 0.2707 - accuracy: 0.8898\n",
      "Epoch 110/200\n",
      "8000/8000 [==============================] - 0s 59us/sample - loss: 0.2707 - accuracy: 0.8910\n",
      "Epoch 111/200\n",
      "8000/8000 [==============================] - 0s 61us/sample - loss: 0.2706 - accuracy: 0.8886\n",
      "Epoch 112/200\n",
      "8000/8000 [==============================] - 0s 52us/sample - loss: 0.2696 - accuracy: 0.8899\n",
      "Epoch 113/200\n",
      "8000/8000 [==============================] - 0s 52us/sample - loss: 0.2696 - accuracy: 0.8894\n",
      "Epoch 114/200\n",
      "8000/8000 [==============================] - 0s 53us/sample - loss: 0.2685 - accuracy: 0.8889\n",
      "Epoch 115/200\n",
      "8000/8000 [==============================] - 0s 55us/sample - loss: 0.2678 - accuracy: 0.8889\n",
      "Epoch 116/200\n",
      "8000/8000 [==============================] - 0s 54us/sample - loss: 0.2673 - accuracy: 0.8873\n",
      "Epoch 117/200\n",
      "8000/8000 [==============================] - 0s 54us/sample - loss: 0.2673 - accuracy: 0.8903\n",
      "Epoch 118/200\n",
      "8000/8000 [==============================] - 0s 54us/sample - loss: 0.2659 - accuracy: 0.8888\n",
      "Epoch 119/200\n",
      "8000/8000 [==============================] - 1s 70us/sample - loss: 0.2644 - accuracy: 0.8931\n",
      "Epoch 120/200\n",
      "8000/8000 [==============================] - 0s 54us/sample - loss: 0.2654 - accuracy: 0.8916\n",
      "Epoch 121/200\n",
      "8000/8000 [==============================] - 0s 54us/sample - loss: 0.2645 - accuracy: 0.8915\n",
      "Epoch 122/200\n",
      "8000/8000 [==============================] - 0s 54us/sample - loss: 0.2635 - accuracy: 0.8930\n",
      "Epoch 123/200\n",
      "8000/8000 [==============================] - 0s 54us/sample - loss: 0.2630 - accuracy: 0.8904\n",
      "Epoch 124/200\n",
      "8000/8000 [==============================] - 0s 53us/sample - loss: 0.2624 - accuracy: 0.8932\n",
      "Epoch 125/200\n",
      "8000/8000 [==============================] - 0s 53us/sample - loss: 0.2623 - accuracy: 0.8910\n",
      "Epoch 126/200\n",
      "8000/8000 [==============================] - 0s 58us/sample - loss: 0.2608 - accuracy: 0.8926\n",
      "Epoch 127/200\n",
      "8000/8000 [==============================] - 1s 64us/sample - loss: 0.2605 - accuracy: 0.8909\n",
      "Epoch 128/200\n",
      "8000/8000 [==============================] - 0s 53us/sample - loss: 0.2599 - accuracy: 0.8932\n",
      "Epoch 129/200\n",
      "8000/8000 [==============================] - 0s 55us/sample - loss: 0.2591 - accuracy: 0.8932\n",
      "Epoch 130/200\n",
      "8000/8000 [==============================] - 0s 55us/sample - loss: 0.2582 - accuracy: 0.8935\n",
      "Epoch 131/200\n",
      "8000/8000 [==============================] - 0s 53us/sample - loss: 0.2585 - accuracy: 0.8930\n",
      "Epoch 132/200\n",
      "8000/8000 [==============================] - 0s 53us/sample - loss: 0.2575 - accuracy: 0.8954\n",
      "Epoch 133/200\n",
      "8000/8000 [==============================] - 0s 52us/sample - loss: 0.2569 - accuracy: 0.8938\n",
      "Epoch 134/200\n",
      "8000/8000 [==============================] - 0s 55us/sample - loss: 0.2558 - accuracy: 0.8944\n",
      "Epoch 135/200\n",
      "8000/8000 [==============================] - 0s 54us/sample - loss: 0.2562 - accuracy: 0.8951\n",
      "Epoch 136/200\n",
      "8000/8000 [==============================] - 0s 53us/sample - loss: 0.2549 - accuracy: 0.8953\n",
      "Epoch 137/200\n",
      "8000/8000 [==============================] - 0s 55us/sample - loss: 0.2549 - accuracy: 0.8949\n",
      "Epoch 138/200\n",
      "8000/8000 [==============================] - 0s 54us/sample - loss: 0.2547 - accuracy: 0.8950\n",
      "Epoch 139/200\n",
      "8000/8000 [==============================] - 0s 54us/sample - loss: 0.2533 - accuracy: 0.8947\n",
      "Epoch 140/200\n",
      "8000/8000 [==============================] - 0s 53us/sample - loss: 0.2535 - accuracy: 0.8956\n",
      "Epoch 141/200\n",
      "8000/8000 [==============================] - 0s 54us/sample - loss: 0.2523 - accuracy: 0.8970\n",
      "Epoch 142/200\n",
      "8000/8000 [==============================] - 0s 50us/sample - loss: 0.2515 - accuracy: 0.8976\n",
      "Epoch 143/200\n",
      "8000/8000 [==============================] - 0s 51us/sample - loss: 0.2512 - accuracy: 0.8961\n",
      "Epoch 144/200\n",
      "8000/8000 [==============================] - 0s 52us/sample - loss: 0.2512 - accuracy: 0.8974\n",
      "Epoch 145/200\n",
      "8000/8000 [==============================] - 0s 50us/sample - loss: 0.2505 - accuracy: 0.8971\n",
      "Epoch 146/200\n",
      "8000/8000 [==============================] - 0s 53us/sample - loss: 0.2493 - accuracy: 0.8981\n",
      "Epoch 147/200\n",
      "8000/8000 [==============================] - 0s 61us/sample - loss: 0.2491 - accuracy: 0.8953s - loss: 0.2568 - accuracy\n",
      "Epoch 148/200\n",
      "8000/8000 [==============================] - 0s 58us/sample - loss: 0.2483 - accuracy: 0.8986\n",
      "Epoch 149/200\n",
      "8000/8000 [==============================] - 0s 51us/sample - loss: 0.2481 - accuracy: 0.9004\n",
      "Epoch 150/200\n",
      "8000/8000 [==============================] - 0s 51us/sample - loss: 0.2470 - accuracy: 0.8986\n",
      "Epoch 151/200\n",
      "8000/8000 [==============================] - 0s 52us/sample - loss: 0.2478 - accuracy: 0.8967\n",
      "Epoch 152/200\n",
      "8000/8000 [==============================] - 0s 52us/sample - loss: 0.2460 - accuracy: 0.9007\n",
      "Epoch 153/200\n",
      "8000/8000 [==============================] - 0s 53us/sample - loss: 0.2463 - accuracy: 0.8967\n",
      "Epoch 154/200\n",
      "8000/8000 [==============================] - 0s 55us/sample - loss: 0.2449 - accuracy: 0.9007\n",
      "Epoch 155/200\n",
      "8000/8000 [==============================] - 0s 52us/sample - loss: 0.2446 - accuracy: 0.8994\n",
      "Epoch 156/200\n",
      "8000/8000 [==============================] - 0s 51us/sample - loss: 0.2445 - accuracy: 0.8997\n",
      "Epoch 157/200\n",
      "8000/8000 [==============================] - 0s 51us/sample - loss: 0.2434 - accuracy: 0.8994\n",
      "Epoch 158/200\n",
      "8000/8000 [==============================] - 0s 52us/sample - loss: 0.2429 - accuracy: 0.9020\n",
      "Epoch 159/200\n",
      "8000/8000 [==============================] - 0s 51us/sample - loss: 0.2425 - accuracy: 0.8994\n",
      "Epoch 160/200\n",
      "8000/8000 [==============================] - 0s 50us/sample - loss: 0.2426 - accuracy: 0.9004\n",
      "Epoch 161/200\n",
      "8000/8000 [==============================] - 0s 51us/sample - loss: 0.2411 - accuracy: 0.8986\n",
      "Epoch 162/200\n",
      "8000/8000 [==============================] - 0s 50us/sample - loss: 0.2411 - accuracy: 0.9009\n",
      "Epoch 163/200\n",
      "8000/8000 [==============================] - 0s 51us/sample - loss: 0.2411 - accuracy: 0.9010\n",
      "Epoch 164/200\n",
      "8000/8000 [==============================] - 0s 51us/sample - loss: 0.2398 - accuracy: 0.8988\n",
      "Epoch 165/200\n",
      "8000/8000 [==============================] - 0s 51us/sample - loss: 0.2385 - accuracy: 0.9004\n",
      "Epoch 166/200\n",
      "8000/8000 [==============================] - 0s 51us/sample - loss: 0.2387 - accuracy: 0.9004\n",
      "Epoch 167/200\n",
      "8000/8000 [==============================] - 0s 51us/sample - loss: 0.2385 - accuracy: 0.9015\n",
      "Epoch 168/200\n",
      "8000/8000 [==============================] - 0s 52us/sample - loss: 0.2379 - accuracy: 0.9021\n",
      "Epoch 169/200\n",
      "8000/8000 [==============================] - 0s 52us/sample - loss: 0.2376 - accuracy: 0.9035\n",
      "Epoch 170/200\n",
      "8000/8000 [==============================] - 0s 52us/sample - loss: 0.2366 - accuracy: 0.9040\n",
      "Epoch 171/200\n",
      "8000/8000 [==============================] - 0s 51us/sample - loss: 0.2357 - accuracy: 0.9007\n",
      "Epoch 172/200\n",
      "8000/8000 [==============================] - 0s 50us/sample - loss: 0.2358 - accuracy: 0.9028\n",
      "Epoch 173/200\n",
      "8000/8000 [==============================] - 0s 50us/sample - loss: 0.2348 - accuracy: 0.9045\n",
      "Epoch 174/200\n",
      "8000/8000 [==============================] - 0s 50us/sample - loss: 0.2346 - accuracy: 0.9038\n",
      "Epoch 175/200\n",
      "8000/8000 [==============================] - 0s 52us/sample - loss: 0.2349 - accuracy: 0.9024\n",
      "Epoch 176/200\n",
      "8000/8000 [==============================] - 0s 51us/sample - loss: 0.2330 - accuracy: 0.9029\n",
      "Epoch 177/200\n",
      "8000/8000 [==============================] - 0s 52us/sample - loss: 0.2333 - accuracy: 0.9031\n",
      "Epoch 178/200\n",
      "8000/8000 [==============================] - 0s 52us/sample - loss: 0.2326 - accuracy: 0.9061\n",
      "Epoch 179/200\n",
      "8000/8000 [==============================] - 0s 52us/sample - loss: 0.2327 - accuracy: 0.9038\n",
      "Epoch 180/200\n",
      "8000/8000 [==============================] - 0s 52us/sample - loss: 0.2319 - accuracy: 0.9055\n",
      "Epoch 181/200\n",
      "8000/8000 [==============================] - 0s 50us/sample - loss: 0.2309 - accuracy: 0.9050\n",
      "Epoch 182/200\n",
      "8000/8000 [==============================] - 0s 51us/sample - loss: 0.2301 - accuracy: 0.9055\n",
      "Epoch 183/200\n",
      "8000/8000 [==============================] - 0s 51us/sample - loss: 0.2294 - accuracy: 0.9072\n",
      "Epoch 184/200\n",
      "8000/8000 [==============================] - 0s 50us/sample - loss: 0.2294 - accuracy: 0.9051\n",
      "Epoch 185/200\n",
      "8000/8000 [==============================] - 0s 56us/sample - loss: 0.2287 - accuracy: 0.9057\n",
      "Epoch 186/200\n",
      "8000/8000 [==============================] - 0s 60us/sample - loss: 0.2284 - accuracy: 0.9069\n",
      "Epoch 187/200\n",
      "8000/8000 [==============================] - 0s 52us/sample - loss: 0.2272 - accuracy: 0.9060\n",
      "Epoch 188/200\n",
      "8000/8000 [==============================] - 0s 51us/sample - loss: 0.2270 - accuracy: 0.9079\n",
      "Epoch 189/200\n",
      "8000/8000 [==============================] - 0s 51us/sample - loss: 0.2268 - accuracy: 0.9056\n",
      "Epoch 190/200\n",
      "8000/8000 [==============================] - 0s 51us/sample - loss: 0.2248 - accuracy: 0.9055\n",
      "Epoch 191/200\n",
      "8000/8000 [==============================] - 0s 51us/sample - loss: 0.2255 - accuracy: 0.9061\n",
      "Epoch 192/200\n",
      "8000/8000 [==============================] - 0s 51us/sample - loss: 0.2247 - accuracy: 0.9074\n",
      "Epoch 193/200\n",
      "8000/8000 [==============================] - 0s 50us/sample - loss: 0.2244 - accuracy: 0.9071\n",
      "Epoch 194/200\n",
      "8000/8000 [==============================] - 0s 52us/sample - loss: 0.2237 - accuracy: 0.9082\n",
      "Epoch 195/200\n",
      "8000/8000 [==============================] - 0s 51us/sample - loss: 0.2227 - accuracy: 0.9065\n",
      "Epoch 196/200\n",
      "8000/8000 [==============================] - 0s 51us/sample - loss: 0.2227 - accuracy: 0.9089\n",
      "Epoch 197/200\n",
      "8000/8000 [==============================] - 0s 50us/sample - loss: 0.2219 - accuracy: 0.9103\n",
      "Epoch 198/200\n",
      "8000/8000 [==============================] - 0s 52us/sample - loss: 0.2212 - accuracy: 0.9087\n",
      "Epoch 199/200\n",
      "8000/8000 [==============================] - 0s 51us/sample - loss: 0.2203 - accuracy: 0.9090\n",
      "Epoch 200/200\n",
      "8000/8000 [==============================] - 0s 51us/sample - loss: 0.2200 - accuracy: 0.9110\n"
     ]
    },
    {
     "data": {
      "text/plain": [
       "<tensorflow.python.keras.callbacks.History at 0x1402a4169b0>"
      ]
     },
     "execution_count": 14,
     "metadata": {},
     "output_type": "execute_result"
    }
   ],
   "source": [
    "ann.fit(X_train, y_train, batch_size = 32, epochs = 200)"
   ]
  },
  {
   "cell_type": "markdown",
   "metadata": {},
   "source": [
    "# Parte 3 - Fazendo predições e avaliando o modelo\n",
    "\n",
    "## Prevendo os resultados com o conjunto de testes"
   ]
  },
  {
   "cell_type": "code",
   "execution_count": 15,
   "metadata": {},
   "outputs": [
    {
     "data": {
      "text/plain": [
       "array([[0.5539588 ],\n",
       "       [0.10854589],\n",
       "       [0.02565659],\n",
       "       ...,\n",
       "       [0.00232885],\n",
       "       [0.13187441],\n",
       "       [0.3344173 ]], dtype=float32)"
      ]
     },
     "execution_count": 15,
     "metadata": {},
     "output_type": "execute_result"
    }
   ],
   "source": [
    "y_pred = ann.predict(X_test)\n",
    "y_pred"
   ]
  },
  {
   "cell_type": "code",
   "execution_count": 16,
   "metadata": {},
   "outputs": [
    {
     "data": {
      "text/plain": [
       "array([[ True],\n",
       "       [False],\n",
       "       [False],\n",
       "       ...,\n",
       "       [False],\n",
       "       [False],\n",
       "       [False]])"
      ]
     },
     "execution_count": 16,
     "metadata": {},
     "output_type": "execute_result"
    }
   ],
   "source": [
    "y_pred = (y_pred > 0.5)\n",
    "y_pred"
   ]
  },
  {
   "cell_type": "markdown",
   "metadata": {},
   "source": [
    "# Criando uma Confusion Matrix"
   ]
  },
  {
   "cell_type": "code",
   "execution_count": 17,
   "metadata": {},
   "outputs": [
    {
     "name": "stdout",
     "output_type": "stream",
     "text": [
      "[[1452  143]\n",
      " [ 186  219]]\n"
     ]
    }
   ],
   "source": [
    "from sklearn.metrics import confusion_matrix\n",
    "cm = confusion_matrix(y_test, y_pred)\n",
    "print(cm)"
   ]
  },
  {
   "cell_type": "markdown",
   "metadata": {},
   "source": [
    "# FIM"
   ]
  },
  {
   "cell_type": "markdown",
   "metadata": {},
   "source": [
    "> Professor Diego Dorgam  \n",
    "> [@diegodorgam](https://twitter.com/diegodorgam)"
   ]
  }
 ],
 "metadata": {
  "kernelspec": {
   "display_name": "Python 3",
   "language": "python",
   "name": "python3"
  },
  "language_info": {
   "codemirror_mode": {
    "name": "ipython",
    "version": 3
   },
   "file_extension": ".py",
   "mimetype": "text/x-python",
   "name": "python",
   "nbconvert_exporter": "python",
   "pygments_lexer": "ipython3",
   "version": "3.6.13"
  }
 },
 "nbformat": 4,
 "nbformat_minor": 4
}
