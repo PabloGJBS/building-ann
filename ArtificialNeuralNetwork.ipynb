{
 "cells": [
  {
   "cell_type": "code",
   "execution_count": 15,
   "metadata": {},
   "outputs": [
    {
     "name": "stdout",
     "output_type": "stream",
     "text": [
      "Requirement already satisfied: tensorflow==1.13.1 in /home/phe0/anaconda3/lib/python3.7/site-packages (from -r requirements.txt (line 1)) (1.13.1)\n",
      "Requirement already satisfied: numpy==1.16.2 in /home/phe0/anaconda3/lib/python3.7/site-packages (from -r requirements.txt (line 2)) (1.16.2)\n",
      "Requirement already satisfied: pandas==0.24.2 in /home/phe0/anaconda3/lib/python3.7/site-packages (from -r requirements.txt (line 3)) (0.24.2)\n",
      "Requirement already satisfied: matplotlib==3.0.3 in /home/phe0/anaconda3/lib/python3.7/site-packages (from -r requirements.txt (line 4)) (3.0.3)\n",
      "Requirement already satisfied: Keras==2.2.4 in /home/phe0/anaconda3/lib/python3.7/site-packages (from -r requirements.txt (line 5)) (2.2.4)\n",
      "Requirement already satisfied: sklearn==0.0 in /home/phe0/anaconda3/lib/python3.7/site-packages (from -r requirements.txt (line 6)) (0.0)\n",
      "Requirement already satisfied: gast>=0.2.0 in /home/phe0/anaconda3/lib/python3.7/site-packages (from tensorflow==1.13.1->-r requirements.txt (line 1)) (0.2.2)\n",
      "Requirement already satisfied: astor>=0.6.0 in /home/phe0/anaconda3/lib/python3.7/site-packages (from tensorflow==1.13.1->-r requirements.txt (line 1)) (0.7.1)\n",
      "Requirement already satisfied: wheel>=0.26 in /home/phe0/anaconda3/lib/python3.7/site-packages (from tensorflow==1.13.1->-r requirements.txt (line 1)) (0.32.3)\n",
      "Requirement already satisfied: tensorboard<1.14.0,>=1.13.0 in /home/phe0/anaconda3/lib/python3.7/site-packages (from tensorflow==1.13.1->-r requirements.txt (line 1)) (1.13.1)\n",
      "Requirement already satisfied: keras-applications>=1.0.6 in /home/phe0/anaconda3/lib/python3.7/site-packages (from tensorflow==1.13.1->-r requirements.txt (line 1)) (1.0.7)\n",
      "Requirement already satisfied: six>=1.10.0 in /home/phe0/anaconda3/lib/python3.7/site-packages (from tensorflow==1.13.1->-r requirements.txt (line 1)) (1.12.0)\n",
      "Requirement already satisfied: tensorflow-estimator<1.14.0rc0,>=1.13.0 in /home/phe0/anaconda3/lib/python3.7/site-packages (from tensorflow==1.13.1->-r requirements.txt (line 1)) (1.13.0)\n",
      "Requirement already satisfied: keras-preprocessing>=1.0.5 in /home/phe0/anaconda3/lib/python3.7/site-packages (from tensorflow==1.13.1->-r requirements.txt (line 1)) (1.0.9)\n",
      "Requirement already satisfied: grpcio>=1.8.6 in /home/phe0/anaconda3/lib/python3.7/site-packages (from tensorflow==1.13.1->-r requirements.txt (line 1)) (1.19.0)\n",
      "Requirement already satisfied: termcolor>=1.1.0 in /home/phe0/anaconda3/lib/python3.7/site-packages (from tensorflow==1.13.1->-r requirements.txt (line 1)) (1.1.0)\n",
      "Requirement already satisfied: absl-py>=0.1.6 in /home/phe0/anaconda3/lib/python3.7/site-packages (from tensorflow==1.13.1->-r requirements.txt (line 1)) (0.7.1)\n",
      "Requirement already satisfied: protobuf>=3.6.1 in /home/phe0/anaconda3/lib/python3.7/site-packages (from tensorflow==1.13.1->-r requirements.txt (line 1)) (3.7.1)\n",
      "Requirement already satisfied: pytz>=2011k in /home/phe0/anaconda3/lib/python3.7/site-packages (from pandas==0.24.2->-r requirements.txt (line 3)) (2018.7)\n",
      "Requirement already satisfied: python-dateutil>=2.5.0 in /home/phe0/anaconda3/lib/python3.7/site-packages (from pandas==0.24.2->-r requirements.txt (line 3)) (2.7.5)\n",
      "Requirement already satisfied: cycler>=0.10 in /home/phe0/anaconda3/lib/python3.7/site-packages (from matplotlib==3.0.3->-r requirements.txt (line 4)) (0.10.0)\n",
      "Requirement already satisfied: kiwisolver>=1.0.1 in /home/phe0/anaconda3/lib/python3.7/site-packages (from matplotlib==3.0.3->-r requirements.txt (line 4)) (1.0.1)\n",
      "Requirement already satisfied: pyparsing!=2.0.4,!=2.1.2,!=2.1.6,>=2.0.1 in /home/phe0/anaconda3/lib/python3.7/site-packages (from matplotlib==3.0.3->-r requirements.txt (line 4)) (2.3.0)\n",
      "Requirement already satisfied: h5py in /home/phe0/anaconda3/lib/python3.7/site-packages (from Keras==2.2.4->-r requirements.txt (line 5)) (2.8.0)\n",
      "Requirement already satisfied: pyyaml in /home/phe0/anaconda3/lib/python3.7/site-packages (from Keras==2.2.4->-r requirements.txt (line 5)) (3.13)\n",
      "Requirement already satisfied: scipy>=0.14 in /home/phe0/anaconda3/lib/python3.7/site-packages (from Keras==2.2.4->-r requirements.txt (line 5)) (1.2.1)\n",
      "Requirement already satisfied: scikit-learn in /home/phe0/anaconda3/lib/python3.7/site-packages (from sklearn==0.0->-r requirements.txt (line 6)) (0.20.3)\n",
      "Requirement already satisfied: werkzeug>=0.11.15 in /home/phe0/anaconda3/lib/python3.7/site-packages (from tensorboard<1.14.0,>=1.13.0->tensorflow==1.13.1->-r requirements.txt (line 1)) (0.14.1)\n",
      "Requirement already satisfied: markdown>=2.6.8 in /home/phe0/anaconda3/lib/python3.7/site-packages (from tensorboard<1.14.0,>=1.13.0->tensorflow==1.13.1->-r requirements.txt (line 1)) (3.1)\n",
      "Requirement already satisfied: mock>=2.0.0 in /home/phe0/anaconda3/lib/python3.7/site-packages (from tensorflow-estimator<1.14.0rc0,>=1.13.0->tensorflow==1.13.1->-r requirements.txt (line 1)) (2.0.0)\n",
      "Requirement already satisfied: setuptools in /home/phe0/anaconda3/lib/python3.7/site-packages (from protobuf>=3.6.1->tensorflow==1.13.1->-r requirements.txt (line 1)) (40.6.3)\n",
      "Requirement already satisfied: pbr>=0.11 in /home/phe0/anaconda3/lib/python3.7/site-packages (from mock>=2.0.0->tensorflow-estimator<1.14.0rc0,>=1.13.0->tensorflow==1.13.1->-r requirements.txt (line 1)) (5.1.3)\n",
      "Collecting joblib\n",
      "\u001b[?25l  Downloading https://files.pythonhosted.org/packages/cd/c1/50a758e8247561e58cb87305b1e90b171b8c767b15b12a1734001f41d356/joblib-0.13.2-py2.py3-none-any.whl (278kB)\n",
      "\u001b[K    100% |████████████████████████████████| 286kB 602kB/s ta 0:00:01\n",
      "\u001b[?25hInstalling collected packages: joblib\n",
      "Successfully installed joblib-0.13.2\n"
     ]
    }
   ],
   "source": [
    "!pip install -r requirements.txt\n",
    "!pip install joblib"
   ]
  },
  {
   "cell_type": "code",
   "execution_count": 2,
   "metadata": {},
   "outputs": [
    {
     "name": "stderr",
     "output_type": "stream",
     "text": [
      "Using TensorFlow backend.\n"
     ]
    }
   ],
   "source": [
    "import numpy as np\n",
    "import matplotlib.pyplot as plt\n",
    "import pandas as pd\n",
    "from hyperas import optim\n",
    "from hyperas.distributions import choice, uniform\n",
    "from sklearn.model_selection import train_test_split"
   ]
  },
  {
   "cell_type": "code",
   "execution_count": 3,
   "metadata": {},
   "outputs": [],
   "source": [
    "dataset = pd.read_csv('Churn_Modelling.csv')\n",
    "X = dataset.iloc[:, 3:13].values\n",
    "y = dataset.iloc[:, 13].values"
   ]
  },
  {
   "cell_type": "code",
   "execution_count": 4,
   "metadata": {},
   "outputs": [],
   "source": [
    "from sklearn.preprocessing import LabelEncoder, OneHotEncoder\n",
    "labelencoder_X_1 = LabelEncoder()\n",
    "X[:, 1] = labelencoder_X_1.fit_transform(X[:, 1])\n",
    "labelencoder_X_2 = LabelEncoder()\n",
    "X[:, 2] = labelencoder_X_2.fit_transform(X[:, 2])"
   ]
  },
  {
   "cell_type": "code",
   "execution_count": 5,
   "metadata": {},
   "outputs": [
    {
     "name": "stderr",
     "output_type": "stream",
     "text": [
      "/home/phe0/anaconda3/lib/python3.7/site-packages/sklearn/preprocessing/_encoders.py:371: FutureWarning: The handling of integer data will change in version 0.22. Currently, the categories are determined based on the range [0, max(values)], while in the future they will be determined based on the unique values.\n",
      "If you want the future behaviour and silence this warning, you can specify \"categories='auto'\".\n",
      "In case you used a LabelEncoder before this OneHotEncoder to convert the categories to integers, then you can now use the OneHotEncoder directly.\n",
      "  warnings.warn(msg, FutureWarning)\n",
      "/home/phe0/anaconda3/lib/python3.7/site-packages/sklearn/preprocessing/_encoders.py:392: DeprecationWarning: The 'categorical_features' keyword is deprecated in version 0.20 and will be removed in 0.22. You can use the ColumnTransformer instead.\n",
      "  \"use the ColumnTransformer instead.\", DeprecationWarning)\n"
     ]
    }
   ],
   "source": [
    "onehotencoder = OneHotEncoder(categorical_features = [1])\n",
    "X = onehotencoder.fit_transform(X).toarray()\n",
    "X = X[:, 1:]"
   ]
  },
  {
   "cell_type": "code",
   "execution_count": 6,
   "metadata": {},
   "outputs": [],
   "source": [
    "from sklearn.model_selection import StratifiedKFold"
   ]
  },
  {
   "cell_type": "code",
   "execution_count": 7,
   "metadata": {},
   "outputs": [],
   "source": [
    "kfold = StratifiedKFold(n_splits=5, shuffle=True, random_state=np.random.seed(7))\n",
    "cvscores = []"
   ]
  },
  {
   "cell_type": "code",
   "execution_count": 8,
   "metadata": {},
   "outputs": [],
   "source": [
    "import keras\n",
    "from keras.models import Sequential\n",
    "from keras.layers import Dense\n",
    "from keras.layers import Dropout\n",
    "from keras.wrappers.scikit_learn import KerasClassifier\n",
    "from sklearn.model_selection import GridSearchCV"
   ]
  },
  {
   "cell_type": "code",
   "execution_count": 9,
   "metadata": {},
   "outputs": [],
   "source": [
    "def create_model(init='uniform', optimizer='adam'):\n",
    "    classifier = Sequential()\n",
    "    classifier.add(Dense(units = 6, kernel_initializer = init, activation = 'relu', input_dim = 11))\n",
    "    classifier.add(Dense(units = 10, kernel_initializer = init, activation = 'relu'))\n",
    "    classifier.add(Dropout(0.2))\n",
    "    classifier.add(Dense(units = 1, kernel_initializer = init, activation = 'sigmoid'))\n",
    "    classifier.compile(optimizer = optimizer, loss = 'binary_crossentropy', metrics = ['accuracy'])\n",
    "    return classifier"
   ]
  },
  {
   "cell_type": "code",
   "execution_count": 10,
   "metadata": {},
   "outputs": [],
   "source": [
    "model = KerasClassifier(build_fn = create_model)"
   ]
  },
  {
   "cell_type": "code",
   "execution_count": 11,
   "metadata": {},
   "outputs": [],
   "source": [
    "batch_size = [5, 10, 20, 40, 60]\n",
    "epochs = [10, 20, 30]\n",
    "init = ['uniform', 'normal', 'glorot_uniform']\n",
    "optimizer = ['adam', 'rmsprop']\n",
    "param_grid = dict(batch_size = batch_size, epochs = epochs, init = init, optimizer = optimizer)"
   ]
  },
  {
   "cell_type": "code",
   "execution_count": 12,
   "metadata": {},
   "outputs": [
    {
     "name": "stderr",
     "output_type": "stream",
     "text": [
      "/home/phe0/anaconda3/lib/python3.7/site-packages/sklearn/externals/joblib/externals/loky/process_executor.py:706: UserWarning: A worker stopped while some jobs were given to the executor. This can be caused by a too short worker timeout or by a memory leak.\n",
      "  \"timeout or by a memory leak.\", UserWarning\n"
     ]
    },
    {
     "name": "stdout",
     "output_type": "stream",
     "text": [
      "WARNING:tensorflow:From /home/phe0/anaconda3/lib/python3.7/site-packages/tensorflow/python/framework/op_def_library.py:263: colocate_with (from tensorflow.python.framework.ops) is deprecated and will be removed in a future version.\n",
      "Instructions for updating:\n",
      "Colocations handled automatically by placer.\n",
      "WARNING:tensorflow:From /home/phe0/anaconda3/lib/python3.7/site-packages/keras/backend/tensorflow_backend.py:3445: calling dropout (from tensorflow.python.ops.nn_ops) with keep_prob is deprecated and will be removed in a future version.\n",
      "Instructions for updating:\n",
      "Please use `rate` instead of `keep_prob`. Rate should be set to `rate = 1 - keep_prob`.\n",
      "WARNING:tensorflow:From /home/phe0/anaconda3/lib/python3.7/site-packages/tensorflow/python/ops/math_ops.py:3066: to_int32 (from tensorflow.python.ops.math_ops) is deprecated and will be removed in a future version.\n",
      "Instructions for updating:\n",
      "Use tf.cast instead.\n",
      "Epoch 1/10\n",
      "10000/10000 [==============================] - 2s 170us/step - loss: 0.5504 - acc: 0.7958\n",
      "Epoch 2/10\n",
      "10000/10000 [==============================] - 2s 219us/step - loss: 0.5109 - acc: 0.7963\n",
      "Epoch 3/10\n",
      "10000/10000 [==============================] - 2s 184us/step - loss: 0.5037 - acc: 0.7963\n",
      "Epoch 4/10\n",
      "10000/10000 [==============================] - 2s 152us/step - loss: 0.5032 - acc: 0.7963\n",
      "Epoch 5/10\n",
      "10000/10000 [==============================] - 1s 128us/step - loss: 0.5040 - acc: 0.7963 0s - loss: 0.5\n",
      "Epoch 6/10\n",
      "10000/10000 [==============================] - 1s 139us/step - loss: 0.5020 - acc: 0.7963\n",
      "Epoch 7/10\n",
      "10000/10000 [==============================] - 1s 121us/step - loss: 0.5013 - acc: 0.7963\n",
      "Epoch 8/10\n",
      "10000/10000 [==============================] - 1s 132us/step - loss: 0.5027 - acc: 0.7963\n",
      "Epoch 9/10\n",
      "10000/10000 [==============================] - 1s 140us/step - loss: 0.5020 - acc: 0.7963\n",
      "Epoch 10/10\n",
      "10000/10000 [==============================] - 1s 131us/step - loss: 0.5017 - acc: 0.7963\n"
     ]
    }
   ],
   "source": [
    "#for train, test in kfold.split(X, y):\n",
    "\n",
    "grid = GridSearchCV(estimator=model, param_grid = param_grid, n_jobs = -1, cv = 10)\n",
    "grid_result = grid.fit(X, y)\n",
    "#grid"
   ]
  },
  {
   "cell_type": "code",
   "execution_count": 16,
   "metadata": {},
   "outputs": [
    {
     "data": {
      "text/plain": [
       "['grid_result.joblib']"
      ]
     },
     "execution_count": 16,
     "metadata": {},
     "output_type": "execute_result"
    }
   ],
   "source": [
    "from joblib import dump, load\n",
    "dump(grid_result, 'grid_result.joblib') "
   ]
  },
  {
   "cell_type": "code",
   "execution_count": 17,
   "metadata": {},
   "outputs": [
    {
     "name": "stdout",
     "output_type": "stream",
     "text": [
      "Best: 0.796300 using {'batch_size': 5, 'epochs': 10, 'init': 'uniform', 'optimizer': 'adam'}\n",
      "0.796300 (0.010479) with: {'batch_size': 5, 'epochs': 10, 'init': 'uniform', 'optimizer': 'adam'}\n",
      "0.796300 (0.010479) with: {'batch_size': 5, 'epochs': 10, 'init': 'uniform', 'optimizer': 'rmsprop'}\n",
      "0.796300 (0.010479) with: {'batch_size': 5, 'epochs': 10, 'init': 'normal', 'optimizer': 'adam'}\n",
      "0.796300 (0.010479) with: {'batch_size': 5, 'epochs': 10, 'init': 'normal', 'optimizer': 'rmsprop'}\n",
      "0.679500 (0.235973) with: {'batch_size': 5, 'epochs': 10, 'init': 'glorot_uniform', 'optimizer': 'adam'}\n",
      "0.796100 (0.010728) with: {'batch_size': 5, 'epochs': 10, 'init': 'glorot_uniform', 'optimizer': 'rmsprop'}\n",
      "0.796300 (0.010479) with: {'batch_size': 5, 'epochs': 20, 'init': 'uniform', 'optimizer': 'adam'}\n",
      "0.796200 (0.010553) with: {'batch_size': 5, 'epochs': 20, 'init': 'uniform', 'optimizer': 'rmsprop'}\n",
      "0.796300 (0.010479) with: {'batch_size': 5, 'epochs': 20, 'init': 'normal', 'optimizer': 'adam'}\n",
      "0.796300 (0.010479) with: {'batch_size': 5, 'epochs': 20, 'init': 'normal', 'optimizer': 'rmsprop'}\n",
      "0.796300 (0.010479) with: {'batch_size': 5, 'epochs': 20, 'init': 'glorot_uniform', 'optimizer': 'adam'}\n",
      "0.796300 (0.010479) with: {'batch_size': 5, 'epochs': 20, 'init': 'glorot_uniform', 'optimizer': 'rmsprop'}\n",
      "0.796300 (0.010479) with: {'batch_size': 5, 'epochs': 30, 'init': 'uniform', 'optimizer': 'adam'}\n",
      "0.796300 (0.010479) with: {'batch_size': 5, 'epochs': 30, 'init': 'uniform', 'optimizer': 'rmsprop'}\n",
      "0.796300 (0.010479) with: {'batch_size': 5, 'epochs': 30, 'init': 'normal', 'optimizer': 'adam'}\n",
      "0.796300 (0.010479) with: {'batch_size': 5, 'epochs': 30, 'init': 'normal', 'optimizer': 'rmsprop'}\n",
      "0.796300 (0.010479) with: {'batch_size': 5, 'epochs': 30, 'init': 'glorot_uniform', 'optimizer': 'adam'}\n",
      "0.735100 (0.180642) with: {'batch_size': 5, 'epochs': 30, 'init': 'glorot_uniform', 'optimizer': 'rmsprop'}\n",
      "0.796300 (0.010479) with: {'batch_size': 10, 'epochs': 10, 'init': 'uniform', 'optimizer': 'adam'}\n",
      "0.796300 (0.010479) with: {'batch_size': 10, 'epochs': 10, 'init': 'uniform', 'optimizer': 'rmsprop'}\n",
      "0.796300 (0.010479) with: {'batch_size': 10, 'epochs': 10, 'init': 'normal', 'optimizer': 'adam'}\n",
      "0.796300 (0.010479) with: {'batch_size': 10, 'epochs': 10, 'init': 'normal', 'optimizer': 'rmsprop'}\n",
      "0.738000 (0.118802) with: {'batch_size': 10, 'epochs': 10, 'init': 'glorot_uniform', 'optimizer': 'adam'}\n",
      "0.704600 (0.139427) with: {'batch_size': 10, 'epochs': 10, 'init': 'glorot_uniform', 'optimizer': 'rmsprop'}\n",
      "0.796300 (0.010479) with: {'batch_size': 10, 'epochs': 20, 'init': 'uniform', 'optimizer': 'adam'}\n",
      "0.796300 (0.010479) with: {'batch_size': 10, 'epochs': 20, 'init': 'uniform', 'optimizer': 'rmsprop'}\n",
      "0.796300 (0.010479) with: {'batch_size': 10, 'epochs': 20, 'init': 'normal', 'optimizer': 'adam'}\n",
      "0.796300 (0.010479) with: {'batch_size': 10, 'epochs': 20, 'init': 'normal', 'optimizer': 'rmsprop'}\n",
      "0.738500 (0.176129) with: {'batch_size': 10, 'epochs': 20, 'init': 'glorot_uniform', 'optimizer': 'adam'}\n",
      "0.738500 (0.176129) with: {'batch_size': 10, 'epochs': 20, 'init': 'glorot_uniform', 'optimizer': 'rmsprop'}\n",
      "0.796300 (0.010479) with: {'batch_size': 10, 'epochs': 30, 'init': 'uniform', 'optimizer': 'adam'}\n",
      "0.796300 (0.010479) with: {'batch_size': 10, 'epochs': 30, 'init': 'uniform', 'optimizer': 'rmsprop'}\n",
      "0.796300 (0.010479) with: {'batch_size': 10, 'epochs': 30, 'init': 'normal', 'optimizer': 'adam'}\n",
      "0.796300 (0.010479) with: {'batch_size': 10, 'epochs': 30, 'init': 'normal', 'optimizer': 'rmsprop'}\n",
      "0.703000 (0.194583) with: {'batch_size': 10, 'epochs': 30, 'init': 'glorot_uniform', 'optimizer': 'adam'}\n",
      "0.738500 (0.176129) with: {'batch_size': 10, 'epochs': 30, 'init': 'glorot_uniform', 'optimizer': 'rmsprop'}\n",
      "0.796300 (0.010479) with: {'batch_size': 20, 'epochs': 10, 'init': 'uniform', 'optimizer': 'adam'}\n",
      "0.796300 (0.010479) with: {'batch_size': 20, 'epochs': 10, 'init': 'uniform', 'optimizer': 'rmsprop'}\n",
      "0.796300 (0.010479) with: {'batch_size': 20, 'epochs': 10, 'init': 'normal', 'optimizer': 'adam'}\n",
      "0.796300 (0.010479) with: {'batch_size': 20, 'epochs': 10, 'init': 'normal', 'optimizer': 'rmsprop'}\n",
      "0.777200 (0.047692) with: {'batch_size': 20, 'epochs': 10, 'init': 'glorot_uniform', 'optimizer': 'adam'}\n",
      "0.658000 (0.232927) with: {'batch_size': 20, 'epochs': 10, 'init': 'glorot_uniform', 'optimizer': 'rmsprop'}\n",
      "0.796300 (0.010479) with: {'batch_size': 20, 'epochs': 20, 'init': 'uniform', 'optimizer': 'adam'}\n",
      "0.796300 (0.010479) with: {'batch_size': 20, 'epochs': 20, 'init': 'uniform', 'optimizer': 'rmsprop'}\n",
      "0.796300 (0.010479) with: {'batch_size': 20, 'epochs': 20, 'init': 'normal', 'optimizer': 'adam'}\n",
      "0.796300 (0.010479) with: {'batch_size': 20, 'epochs': 20, 'init': 'normal', 'optimizer': 'rmsprop'}\n",
      "0.711200 (0.187897) with: {'batch_size': 20, 'epochs': 20, 'init': 'glorot_uniform', 'optimizer': 'adam'}\n",
      "0.752300 (0.103093) with: {'batch_size': 20, 'epochs': 20, 'init': 'glorot_uniform', 'optimizer': 'rmsprop'}\n",
      "0.796300 (0.010479) with: {'batch_size': 20, 'epochs': 30, 'init': 'uniform', 'optimizer': 'adam'}\n",
      "0.796300 (0.010479) with: {'batch_size': 20, 'epochs': 30, 'init': 'uniform', 'optimizer': 'rmsprop'}\n",
      "0.796300 (0.010479) with: {'batch_size': 20, 'epochs': 30, 'init': 'normal', 'optimizer': 'adam'}\n",
      "0.796300 (0.010479) with: {'batch_size': 20, 'epochs': 30, 'init': 'normal', 'optimizer': 'rmsprop'}\n",
      "0.796300 (0.010479) with: {'batch_size': 20, 'epochs': 30, 'init': 'glorot_uniform', 'optimizer': 'adam'}\n",
      "0.636100 (0.249829) with: {'batch_size': 20, 'epochs': 30, 'init': 'glorot_uniform', 'optimizer': 'rmsprop'}\n",
      "0.796300 (0.010479) with: {'batch_size': 40, 'epochs': 10, 'init': 'uniform', 'optimizer': 'adam'}\n",
      "0.796300 (0.010479) with: {'batch_size': 40, 'epochs': 10, 'init': 'uniform', 'optimizer': 'rmsprop'}\n",
      "0.796300 (0.010479) with: {'batch_size': 40, 'epochs': 10, 'init': 'normal', 'optimizer': 'adam'}\n",
      "0.796300 (0.010479) with: {'batch_size': 40, 'epochs': 10, 'init': 'normal', 'optimizer': 'rmsprop'}\n",
      "0.745300 (0.109462) with: {'batch_size': 40, 'epochs': 10, 'init': 'glorot_uniform', 'optimizer': 'adam'}\n",
      "0.528200 (0.276270) with: {'batch_size': 40, 'epochs': 10, 'init': 'glorot_uniform', 'optimizer': 'rmsprop'}\n",
      "0.796300 (0.010479) with: {'batch_size': 40, 'epochs': 20, 'init': 'uniform', 'optimizer': 'adam'}\n",
      "0.796300 (0.010479) with: {'batch_size': 40, 'epochs': 20, 'init': 'uniform', 'optimizer': 'rmsprop'}\n",
      "0.796300 (0.010479) with: {'batch_size': 40, 'epochs': 20, 'init': 'normal', 'optimizer': 'adam'}\n",
      "0.796300 (0.010479) with: {'batch_size': 40, 'epochs': 20, 'init': 'normal', 'optimizer': 'rmsprop'}\n",
      "0.796300 (0.010479) with: {'batch_size': 40, 'epochs': 20, 'init': 'glorot_uniform', 'optimizer': 'adam'}\n",
      "0.769400 (0.078105) with: {'batch_size': 40, 'epochs': 20, 'init': 'glorot_uniform', 'optimizer': 'rmsprop'}\n",
      "0.796300 (0.010479) with: {'batch_size': 40, 'epochs': 30, 'init': 'uniform', 'optimizer': 'adam'}\n",
      "0.780400 (0.048609) with: {'batch_size': 40, 'epochs': 30, 'init': 'uniform', 'optimizer': 'rmsprop'}\n",
      "0.796300 (0.010479) with: {'batch_size': 40, 'epochs': 30, 'init': 'normal', 'optimizer': 'adam'}\n",
      "0.796300 (0.010479) with: {'batch_size': 40, 'epochs': 30, 'init': 'normal', 'optimizer': 'rmsprop'}\n",
      "0.738700 (0.175857) with: {'batch_size': 40, 'epochs': 30, 'init': 'glorot_uniform', 'optimizer': 'adam'}\n",
      "0.711100 (0.185787) with: {'batch_size': 40, 'epochs': 30, 'init': 'glorot_uniform', 'optimizer': 'rmsprop'}\n",
      "0.796300 (0.010479) with: {'batch_size': 60, 'epochs': 10, 'init': 'uniform', 'optimizer': 'adam'}\n",
      "0.796300 (0.010479) with: {'batch_size': 60, 'epochs': 10, 'init': 'uniform', 'optimizer': 'rmsprop'}\n",
      "0.796300 (0.010479) with: {'batch_size': 60, 'epochs': 10, 'init': 'normal', 'optimizer': 'adam'}\n",
      "0.796300 (0.010479) with: {'batch_size': 60, 'epochs': 10, 'init': 'normal', 'optimizer': 'rmsprop'}\n",
      "0.656400 (0.235238) with: {'batch_size': 60, 'epochs': 10, 'init': 'glorot_uniform', 'optimizer': 'adam'}\n",
      "0.556100 (0.260743) with: {'batch_size': 60, 'epochs': 10, 'init': 'glorot_uniform', 'optimizer': 'rmsprop'}\n",
      "0.796300 (0.010479) with: {'batch_size': 60, 'epochs': 20, 'init': 'uniform', 'optimizer': 'adam'}\n",
      "0.796300 (0.010479) with: {'batch_size': 60, 'epochs': 20, 'init': 'uniform', 'optimizer': 'rmsprop'}\n",
      "0.796300 (0.010479) with: {'batch_size': 60, 'epochs': 20, 'init': 'normal', 'optimizer': 'adam'}\n",
      "0.740000 (0.173269) with: {'batch_size': 60, 'epochs': 20, 'init': 'normal', 'optimizer': 'rmsprop'}\n",
      "0.735100 (0.180642) with: {'batch_size': 60, 'epochs': 20, 'init': 'glorot_uniform', 'optimizer': 'adam'}\n",
      "0.683300 (0.226000) with: {'batch_size': 60, 'epochs': 20, 'init': 'glorot_uniform', 'optimizer': 'rmsprop'}\n",
      "0.796300 (0.010479) with: {'batch_size': 60, 'epochs': 30, 'init': 'uniform', 'optimizer': 'adam'}\n",
      "0.796300 (0.010479) with: {'batch_size': 60, 'epochs': 30, 'init': 'uniform', 'optimizer': 'rmsprop'}\n",
      "0.796300 (0.010479) with: {'batch_size': 60, 'epochs': 30, 'init': 'normal', 'optimizer': 'adam'}\n",
      "0.796300 (0.010479) with: {'batch_size': 60, 'epochs': 30, 'init': 'normal', 'optimizer': 'rmsprop'}\n",
      "0.741600 (0.164201) with: {'batch_size': 60, 'epochs': 30, 'init': 'glorot_uniform', 'optimizer': 'adam'}\n",
      "0.723700 (0.180480) with: {'batch_size': 60, 'epochs': 30, 'init': 'glorot_uniform', 'optimizer': 'rmsprop'}\n"
     ]
    }
   ],
   "source": [
    "print(\"Best: %f using %s\" % (grid_result.best_score_, grid_result.best_params_))\n",
    "means = grid_result.cv_results_['mean_test_score']\n",
    "stds = grid_result.cv_results_['std_test_score']\n",
    "params = grid_result.cv_results_['params']\n",
    "for mean, stdev, param in zip(means, stds, params):\n",
    "    print(\"%f (%f) with: %r\" % (mean, stdev, param))"
   ]
  },
  {
   "cell_type": "code",
   "execution_count": null,
   "metadata": {},
   "outputs": [],
   "source": []
  }
 ],
 "metadata": {
  "kernelspec": {
   "display_name": "Python 3",
   "language": "python",
   "name": "python3"
  },
  "language_info": {
   "codemirror_mode": {
    "name": "ipython",
    "version": 3
   },
   "file_extension": ".py",
   "mimetype": "text/x-python",
   "name": "python",
   "nbconvert_exporter": "python",
   "pygments_lexer": "ipython3",
   "version": "3.7.1"
  }
 },
 "nbformat": 4,
 "nbformat_minor": 2
}
