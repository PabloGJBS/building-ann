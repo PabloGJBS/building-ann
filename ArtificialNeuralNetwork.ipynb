{
 "cells": [
  {
   "cell_type": "markdown",
   "metadata": {},
   "source": [
    "# REDES NEURAIS ARTIFICIAIS\n",
    "\n",
    "[Aula 3 de Deep Learning](http://bit.ly/dn-unb03) da Engenharia de Software da UnB"
   ]
  },
  {
   "cell_type": "code",
   "execution_count": 1,
   "metadata": {},
   "outputs": [
    {
     "name": "stdout",
     "output_type": "stream",
     "text": [
      "Collecting git+git://github.com/Theano/Theano.git\n",
      "  Cloning git://github.com/Theano/Theano.git to /private/var/folders/c8/05hjylz57llf63n1bhhv9n6w0000gn/T/pip-req-build-02682o3o\n",
      "  Running command git clone -q git://github.com/Theano/Theano.git /private/var/folders/c8/05hjylz57llf63n1bhhv9n6w0000gn/T/pip-req-build-02682o3o\n",
      "^C\n",
      "Collecting tensorflow\n",
      "\u001b[?25l  Downloading https://files.pythonhosted.org/packages/27/8c/7608ba709bd536bc2bccb0d1abbb70aafe9cf7e0170353b4b720ed54cb71/tensorflow-1.14.0-cp36-cp36m-macosx_10_11_x86_64.whl (105.8MB)\n",
      "\u001b[K     |████████████████████████████████| 105.8MB 60kB/s eta 0:00:012\n",
      "\u001b[?25hRequirement already satisfied, skipping upgrade: wheel>=0.26 in /Users/erick.giffoni/anaconda3/lib/python3.6/site-packages (from tensorflow) (0.31.1)\n",
      "Requirement already satisfied, skipping upgrade: protobuf>=3.6.1 in /Users/erick.giffoni/anaconda3/lib/python3.6/site-packages (from tensorflow) (3.8.0)\n",
      "Requirement already satisfied, skipping upgrade: keras-applications>=1.0.6 in /Users/erick.giffoni/anaconda3/lib/python3.6/site-packages (from tensorflow) (1.0.8)\n",
      "Requirement already satisfied, skipping upgrade: termcolor>=1.1.0 in /Users/erick.giffoni/anaconda3/lib/python3.6/site-packages (from tensorflow) (1.1.0)\n",
      "Requirement already satisfied, skipping upgrade: absl-py>=0.7.0 in /Users/erick.giffoni/anaconda3/lib/python3.6/site-packages (from tensorflow) (0.7.1)\n",
      "Requirement already satisfied, skipping upgrade: grpcio>=1.8.6 in /Users/erick.giffoni/anaconda3/lib/python3.6/site-packages (from tensorflow) (1.12.1)\n",
      "Requirement already satisfied, skipping upgrade: keras-preprocessing>=1.0.5 in /Users/erick.giffoni/anaconda3/lib/python3.6/site-packages (from tensorflow) (1.1.0)\n",
      "Collecting tensorboard<1.15.0,>=1.14.0 (from tensorflow)\n",
      "\u001b[?25l  Downloading https://files.pythonhosted.org/packages/91/2d/2ed263449a078cd9c8a9ba50ebd50123adf1f8cfbea1492f9084169b89d9/tensorboard-1.14.0-py3-none-any.whl (3.1MB)\n",
      "\u001b[K     |████████████████████████████████| 3.2MB 565kB/s eta 0:00:01\n",
      "\u001b[?25hCollecting numpy<2.0,>=1.14.5 (from tensorflow)\n",
      "\u001b[?25l  Downloading https://files.pythonhosted.org/packages/05/cb/9ef2b8901e5969851b539c0f45ab8f2794bac34490e2d351d72b660d6e05/numpy-1.17.2-cp36-cp36m-macosx_10_6_intel.whl (15.0MB)\n",
      "\u001b[K     |████████████████████████████████| 15.0MB 1.2MB/s eta 0:00:01\n",
      "\u001b[?25hRequirement already satisfied, skipping upgrade: astor>=0.6.0 in /Users/erick.giffoni/anaconda3/lib/python3.6/site-packages (from tensorflow) (0.7.1)\n",
      "Requirement already satisfied, skipping upgrade: six>=1.10.0 in /Users/erick.giffoni/anaconda3/lib/python3.6/site-packages (from tensorflow) (1.11.0)\n",
      "Requirement already satisfied, skipping upgrade: gast>=0.2.0 in /Users/erick.giffoni/anaconda3/lib/python3.6/site-packages (from tensorflow) (0.2.2)\n",
      "Collecting google-pasta>=0.1.6 (from tensorflow)\n",
      "\u001b[?25l  Downloading https://files.pythonhosted.org/packages/d0/33/376510eb8d6246f3c30545f416b2263eee461e40940c2a4413c711bdf62d/google_pasta-0.1.7-py3-none-any.whl (52kB)\n",
      "\u001b[K     |████████████████████████████████| 61kB 531kB/s eta 0:00:01\n",
      "\u001b[?25hCollecting wrapt>=1.11.1 (from tensorflow)\n",
      "  Downloading https://files.pythonhosted.org/packages/23/84/323c2415280bc4fc880ac5050dddfb3c8062c2552b34c2e512eb4aa68f79/wrapt-1.11.2.tar.gz\n",
      "Collecting tensorflow-estimator<1.15.0rc0,>=1.14.0rc0 (from tensorflow)\n",
      "\u001b[?25l  Downloading https://files.pythonhosted.org/packages/3c/d5/21860a5b11caf0678fbc8319341b0ae21a07156911132e0e71bffed0510d/tensorflow_estimator-1.14.0-py2.py3-none-any.whl (488kB)\n",
      "\u001b[K     |████████████████████████████████| 491kB 1.4MB/s eta 0:00:01\n",
      "\u001b[?25hRequirement already satisfied, skipping upgrade: setuptools in /Users/erick.giffoni/anaconda3/lib/python3.6/site-packages (from protobuf>=3.6.1->tensorflow) (39.1.0)\n",
      "Requirement already satisfied, skipping upgrade: h5py in /Users/erick.giffoni/anaconda3/lib/python3.6/site-packages (from keras-applications>=1.0.6->tensorflow) (2.7.1)\n",
      "Requirement already satisfied, skipping upgrade: markdown>=2.6.8 in /Users/erick.giffoni/anaconda3/lib/python3.6/site-packages (from tensorboard<1.15.0,>=1.14.0->tensorflow) (3.1.1)\n",
      "Requirement already satisfied, skipping upgrade: werkzeug>=0.11.15 in /Users/erick.giffoni/anaconda3/lib/python3.6/site-packages (from tensorboard<1.15.0,>=1.14.0->tensorflow) (0.14.1)\n",
      "Building wheels for collected packages: wrapt\n",
      "  Building wheel for wrapt (setup.py) ... \u001b[?25ldone\n",
      "\u001b[?25h  Created wheel for wrapt: filename=wrapt-1.11.2-cp36-cp36m-macosx_10_7_x86_64.whl size=32421 sha256=6dd5c384bfcafc7a159174e704a77d30784c11e533aa8a9a32c344a3f33067eb\n",
      "  Stored in directory: /Users/erick.giffoni/Library/Caches/pip/wheels/d7/de/2e/efa132238792efb6459a96e85916ef8597fcb3d2ae51590dfd\n",
      "Successfully built wrapt\n",
      "\u001b[31mERROR: tensorboard 1.14.0 has requirement setuptools>=41.0.0, but you'll have setuptools 39.1.0 which is incompatible.\u001b[0m\n",
      "\u001b[31mERROR: fastai 0.7.0 has requirement torch<0.4, but you'll have torch 1.0.1.post2 which is incompatible.\u001b[0m\n",
      "Installing collected packages: numpy, tensorboard, google-pasta, wrapt, tensorflow-estimator, tensorflow\n",
      "  Found existing installation: numpy 1.14.3\n",
      "    Uninstalling numpy-1.14.3:\n",
      "      Successfully uninstalled numpy-1.14.3\n",
      "  Found existing installation: tensorboard 1.13.1\n",
      "    Uninstalling tensorboard-1.13.1:\n",
      "      Successfully uninstalled tensorboard-1.13.1\n",
      "  Found existing installation: wrapt 1.10.11\n",
      "\u001b[31mERROR: Cannot uninstall 'wrapt'. It is a distutils installed project and thus we cannot accurately determine which files belong to it which would lead to only a partial uninstall.\u001b[0m\n",
      "Requirement already up-to-date: keras in /Users/erick.giffoni/anaconda3/lib/python3.6/site-packages (2.3.0)\n",
      "Requirement already satisfied, skipping upgrade: six>=1.9.0 in /Users/erick.giffoni/anaconda3/lib/python3.6/site-packages (from keras) (1.11.0)\n",
      "Requirement already satisfied, skipping upgrade: scipy>=0.14 in /Users/erick.giffoni/anaconda3/lib/python3.6/site-packages (from keras) (1.1.0)\n",
      "Requirement already satisfied, skipping upgrade: numpy>=1.9.1 in /Users/erick.giffoni/anaconda3/lib/python3.6/site-packages (from keras) (1.17.2)\n",
      "Requirement already satisfied, skipping upgrade: h5py in /Users/erick.giffoni/anaconda3/lib/python3.6/site-packages (from keras) (2.7.1)\n",
      "Requirement already satisfied, skipping upgrade: keras-applications>=1.0.6 in /Users/erick.giffoni/anaconda3/lib/python3.6/site-packages (from keras) (1.0.8)\n",
      "Requirement already satisfied, skipping upgrade: pyyaml in /Users/erick.giffoni/anaconda3/lib/python3.6/site-packages (from keras) (3.12)\n",
      "Requirement already satisfied, skipping upgrade: keras-preprocessing>=1.0.5 in /Users/erick.giffoni/anaconda3/lib/python3.6/site-packages (from keras) (1.1.0)\n",
      "Requirement already up-to-date: pip in /Users/erick.giffoni/anaconda3/lib/python3.6/site-packages (19.2.3)\n",
      "Collecting pandas\n",
      "\u001b[?25l  Downloading https://files.pythonhosted.org/packages/73/75/42a0ec87e4f709d8d37d49f049b292578f14a4f1f6dc32a7f3c3c204e546/pandas-0.25.1-cp36-cp36m-macosx_10_9_x86_64.macosx_10_10_x86_64.whl (10.2MB)\n",
      "\u001b[K     |████████████████████████████████| 10.2MB 441kB/s eta 0:00:01\n",
      "\u001b[?25hRequirement already up-to-date: numpy in /Users/erick.giffoni/anaconda3/lib/python3.6/site-packages (1.17.2)\n",
      "Collecting matplotlib\n",
      "\u001b[?25l  Downloading https://files.pythonhosted.org/packages/cf/a4/d5387a74204542a60ad1baa84cd2d3353c330e59be8cf2d47c0b11d3cde8/matplotlib-3.1.1-cp36-cp36m-macosx_10_6_intel.macosx_10_9_intel.macosx_10_9_x86_64.macosx_10_10_intel.macosx_10_10_x86_64.whl (14.4MB)\n",
      "\u001b[K     |████████████████████████████████| 14.4MB 542kB/s eta 0:00:01\n",
      "\u001b[?25hRequirement already up-to-date: sklearn in /Users/erick.giffoni/anaconda3/lib/python3.6/site-packages (0.0)\n",
      "Requirement already satisfied, skipping upgrade: pytz>=2017.2 in /Users/erick.giffoni/anaconda3/lib/python3.6/site-packages (from pandas) (2018.4)\n",
      "Requirement already satisfied, skipping upgrade: python-dateutil>=2.6.1 in /Users/erick.giffoni/anaconda3/lib/python3.6/site-packages (from pandas) (2.7.3)\n",
      "Requirement already satisfied, skipping upgrade: kiwisolver>=1.0.1 in /Users/erick.giffoni/anaconda3/lib/python3.6/site-packages (from matplotlib) (1.0.1)\n",
      "Requirement already satisfied, skipping upgrade: pyparsing!=2.0.4,!=2.1.2,!=2.1.6,>=2.0.1 in /Users/erick.giffoni/anaconda3/lib/python3.6/site-packages (from matplotlib) (2.2.0)\n",
      "Requirement already satisfied, skipping upgrade: cycler>=0.10 in /Users/erick.giffoni/anaconda3/lib/python3.6/site-packages (from matplotlib) (0.10.0)\n",
      "Requirement already satisfied, skipping upgrade: scikit-learn in /Users/erick.giffoni/anaconda3/lib/python3.6/site-packages (from sklearn) (0.19.1)\n",
      "Requirement already satisfied, skipping upgrade: six>=1.5 in /Users/erick.giffoni/anaconda3/lib/python3.6/site-packages (from python-dateutil>=2.6.1->pandas) (1.11.0)\n",
      "Requirement already satisfied, skipping upgrade: setuptools in /Users/erick.giffoni/anaconda3/lib/python3.6/site-packages (from kiwisolver>=1.0.1->matplotlib) (39.1.0)\n"
     ]
    },
    {
     "name": "stdout",
     "output_type": "stream",
     "text": [
      "\u001b[31mERROR: fastai 0.7.0 has requirement torch<0.4, but you'll have torch 1.0.1.post2 which is incompatible.\u001b[0m\n",
      "Installing collected packages: pandas, matplotlib\n",
      "  Found existing installation: pandas 0.23.0\n",
      "    Uninstalling pandas-0.23.0:\n",
      "      Successfully uninstalled pandas-0.23.0\n",
      "  Found existing installation: matplotlib 2.2.2\n",
      "    Uninstalling matplotlib-2.2.2:\n",
      "      Successfully uninstalled matplotlib-2.2.2\n",
      "Successfully installed matplotlib-3.1.1 pandas-0.25.1\n"
     ]
    }
   ],
   "source": [
    "# Installing Theano\n",
    "! pip install --upgrade --no-deps git+git://github.com/Theano/Theano.git\n",
    "\n",
    "# Installing Tensorflow\n",
    "! pip install --upgrade tensorflow\n",
    "\n",
    "# Installing Keras\n",
    "! pip install --upgrade keras\n",
    "\n",
    "# Install other packages\n",
    "! pip install --upgrade pip pandas numpy matplotlib sklearn"
   ]
  },
  {
   "cell_type": "markdown",
   "metadata": {},
   "source": [
    "# Parte 1 - Preprocessamento dos Dados"
   ]
  },
  {
   "cell_type": "markdown",
   "metadata": {},
   "source": [
    "### Importar as libs"
   ]
  },
  {
   "cell_type": "code",
   "execution_count": 2,
   "metadata": {},
   "outputs": [],
   "source": [
    "import numpy as np\n",
    "import matplotlib.pyplot as plt\n",
    "import pandas as pd"
   ]
  },
  {
   "cell_type": "markdown",
   "metadata": {},
   "source": [
    "### Importar o dataset"
   ]
  },
  {
   "cell_type": "code",
   "execution_count": 3,
   "metadata": {},
   "outputs": [
    {
     "name": "stdout",
     "output_type": "stream",
     "text": [
      "X >>\n",
      " [[619 'France' 'Female' ... 1 1 101348.88]\n",
      " [608 'Spain' 'Female' ... 0 1 112542.58]\n",
      " [502 'France' 'Female' ... 1 0 113931.57]\n",
      " ...\n",
      " [709 'France' 'Female' ... 0 1 42085.58]\n",
      " [772 'Germany' 'Male' ... 1 0 92888.52]\n",
      " [792 'France' 'Female' ... 1 0 38190.78]]\n",
      "y >>\n",
      " [1 0 1 ... 1 1 0]\n"
     ]
    }
   ],
   "source": [
    "dataset = pd.read_csv('Churn_Modelling.csv')\n",
    "X = dataset.iloc[:, 3:13].values\n",
    "y = dataset.iloc[:, 13].values\n",
    "print(\"X >>\\n\",X)\n",
    "print(\"y >>\\n\",y)"
   ]
  },
  {
   "cell_type": "code",
   "execution_count": 4,
   "metadata": {},
   "outputs": [
    {
     "data": {
      "text/html": [
       "<div>\n",
       "<style scoped>\n",
       "    .dataframe tbody tr th:only-of-type {\n",
       "        vertical-align: middle;\n",
       "    }\n",
       "\n",
       "    .dataframe tbody tr th {\n",
       "        vertical-align: top;\n",
       "    }\n",
       "\n",
       "    .dataframe thead th {\n",
       "        text-align: right;\n",
       "    }\n",
       "</style>\n",
       "<table border=\"1\" class=\"dataframe\">\n",
       "  <thead>\n",
       "    <tr style=\"text-align: right;\">\n",
       "      <th></th>\n",
       "      <th>RowNumber</th>\n",
       "      <th>CustomerId</th>\n",
       "      <th>Surname</th>\n",
       "      <th>CreditScore</th>\n",
       "      <th>Geography</th>\n",
       "      <th>Gender</th>\n",
       "      <th>Age</th>\n",
       "      <th>Tenure</th>\n",
       "      <th>Balance</th>\n",
       "      <th>NumOfProducts</th>\n",
       "      <th>HasCrCard</th>\n",
       "      <th>IsActiveMember</th>\n",
       "      <th>EstimatedSalary</th>\n",
       "      <th>Exited</th>\n",
       "    </tr>\n",
       "  </thead>\n",
       "  <tbody>\n",
       "    <tr>\n",
       "      <td>0</td>\n",
       "      <td>1</td>\n",
       "      <td>15634602</td>\n",
       "      <td>Hargrave</td>\n",
       "      <td>619</td>\n",
       "      <td>France</td>\n",
       "      <td>Female</td>\n",
       "      <td>42</td>\n",
       "      <td>2</td>\n",
       "      <td>0.00</td>\n",
       "      <td>1</td>\n",
       "      <td>1</td>\n",
       "      <td>1</td>\n",
       "      <td>101348.88</td>\n",
       "      <td>1</td>\n",
       "    </tr>\n",
       "    <tr>\n",
       "      <td>1</td>\n",
       "      <td>2</td>\n",
       "      <td>15647311</td>\n",
       "      <td>Hill</td>\n",
       "      <td>608</td>\n",
       "      <td>Spain</td>\n",
       "      <td>Female</td>\n",
       "      <td>41</td>\n",
       "      <td>1</td>\n",
       "      <td>83807.86</td>\n",
       "      <td>1</td>\n",
       "      <td>0</td>\n",
       "      <td>1</td>\n",
       "      <td>112542.58</td>\n",
       "      <td>0</td>\n",
       "    </tr>\n",
       "    <tr>\n",
       "      <td>2</td>\n",
       "      <td>3</td>\n",
       "      <td>15619304</td>\n",
       "      <td>Onio</td>\n",
       "      <td>502</td>\n",
       "      <td>France</td>\n",
       "      <td>Female</td>\n",
       "      <td>42</td>\n",
       "      <td>8</td>\n",
       "      <td>159660.80</td>\n",
       "      <td>3</td>\n",
       "      <td>1</td>\n",
       "      <td>0</td>\n",
       "      <td>113931.57</td>\n",
       "      <td>1</td>\n",
       "    </tr>\n",
       "    <tr>\n",
       "      <td>3</td>\n",
       "      <td>4</td>\n",
       "      <td>15701354</td>\n",
       "      <td>Boni</td>\n",
       "      <td>699</td>\n",
       "      <td>France</td>\n",
       "      <td>Female</td>\n",
       "      <td>39</td>\n",
       "      <td>1</td>\n",
       "      <td>0.00</td>\n",
       "      <td>2</td>\n",
       "      <td>0</td>\n",
       "      <td>0</td>\n",
       "      <td>93826.63</td>\n",
       "      <td>0</td>\n",
       "    </tr>\n",
       "    <tr>\n",
       "      <td>4</td>\n",
       "      <td>5</td>\n",
       "      <td>15737888</td>\n",
       "      <td>Mitchell</td>\n",
       "      <td>850</td>\n",
       "      <td>Spain</td>\n",
       "      <td>Female</td>\n",
       "      <td>43</td>\n",
       "      <td>2</td>\n",
       "      <td>125510.82</td>\n",
       "      <td>1</td>\n",
       "      <td>1</td>\n",
       "      <td>1</td>\n",
       "      <td>79084.10</td>\n",
       "      <td>0</td>\n",
       "    </tr>\n",
       "    <tr>\n",
       "      <td>5</td>\n",
       "      <td>6</td>\n",
       "      <td>15574012</td>\n",
       "      <td>Chu</td>\n",
       "      <td>645</td>\n",
       "      <td>Spain</td>\n",
       "      <td>Male</td>\n",
       "      <td>44</td>\n",
       "      <td>8</td>\n",
       "      <td>113755.78</td>\n",
       "      <td>2</td>\n",
       "      <td>1</td>\n",
       "      <td>0</td>\n",
       "      <td>149756.71</td>\n",
       "      <td>1</td>\n",
       "    </tr>\n",
       "    <tr>\n",
       "      <td>6</td>\n",
       "      <td>7</td>\n",
       "      <td>15592531</td>\n",
       "      <td>Bartlett</td>\n",
       "      <td>822</td>\n",
       "      <td>France</td>\n",
       "      <td>Male</td>\n",
       "      <td>50</td>\n",
       "      <td>7</td>\n",
       "      <td>0.00</td>\n",
       "      <td>2</td>\n",
       "      <td>1</td>\n",
       "      <td>1</td>\n",
       "      <td>10062.80</td>\n",
       "      <td>0</td>\n",
       "    </tr>\n",
       "    <tr>\n",
       "      <td>7</td>\n",
       "      <td>8</td>\n",
       "      <td>15656148</td>\n",
       "      <td>Obinna</td>\n",
       "      <td>376</td>\n",
       "      <td>Germany</td>\n",
       "      <td>Female</td>\n",
       "      <td>29</td>\n",
       "      <td>4</td>\n",
       "      <td>115046.74</td>\n",
       "      <td>4</td>\n",
       "      <td>1</td>\n",
       "      <td>0</td>\n",
       "      <td>119346.88</td>\n",
       "      <td>1</td>\n",
       "    </tr>\n",
       "    <tr>\n",
       "      <td>8</td>\n",
       "      <td>9</td>\n",
       "      <td>15792365</td>\n",
       "      <td>He</td>\n",
       "      <td>501</td>\n",
       "      <td>France</td>\n",
       "      <td>Male</td>\n",
       "      <td>44</td>\n",
       "      <td>4</td>\n",
       "      <td>142051.07</td>\n",
       "      <td>2</td>\n",
       "      <td>0</td>\n",
       "      <td>1</td>\n",
       "      <td>74940.50</td>\n",
       "      <td>0</td>\n",
       "    </tr>\n",
       "    <tr>\n",
       "      <td>9</td>\n",
       "      <td>10</td>\n",
       "      <td>15592389</td>\n",
       "      <td>H?</td>\n",
       "      <td>684</td>\n",
       "      <td>France</td>\n",
       "      <td>Male</td>\n",
       "      <td>27</td>\n",
       "      <td>2</td>\n",
       "      <td>134603.88</td>\n",
       "      <td>1</td>\n",
       "      <td>1</td>\n",
       "      <td>1</td>\n",
       "      <td>71725.73</td>\n",
       "      <td>0</td>\n",
       "    </tr>\n",
       "  </tbody>\n",
       "</table>\n",
       "</div>"
      ],
      "text/plain": [
       "   RowNumber  CustomerId   Surname  CreditScore Geography  Gender  Age  \\\n",
       "0          1    15634602  Hargrave          619    France  Female   42   \n",
       "1          2    15647311      Hill          608     Spain  Female   41   \n",
       "2          3    15619304      Onio          502    France  Female   42   \n",
       "3          4    15701354      Boni          699    France  Female   39   \n",
       "4          5    15737888  Mitchell          850     Spain  Female   43   \n",
       "5          6    15574012       Chu          645     Spain    Male   44   \n",
       "6          7    15592531  Bartlett          822    France    Male   50   \n",
       "7          8    15656148    Obinna          376   Germany  Female   29   \n",
       "8          9    15792365        He          501    France    Male   44   \n",
       "9         10    15592389        H?          684    France    Male   27   \n",
       "\n",
       "   Tenure    Balance  NumOfProducts  HasCrCard  IsActiveMember  \\\n",
       "0       2       0.00              1          1               1   \n",
       "1       1   83807.86              1          0               1   \n",
       "2       8  159660.80              3          1               0   \n",
       "3       1       0.00              2          0               0   \n",
       "4       2  125510.82              1          1               1   \n",
       "5       8  113755.78              2          1               0   \n",
       "6       7       0.00              2          1               1   \n",
       "7       4  115046.74              4          1               0   \n",
       "8       4  142051.07              2          0               1   \n",
       "9       2  134603.88              1          1               1   \n",
       "\n",
       "   EstimatedSalary  Exited  \n",
       "0        101348.88       1  \n",
       "1        112542.58       0  \n",
       "2        113931.57       1  \n",
       "3         93826.63       0  \n",
       "4         79084.10       0  \n",
       "5        149756.71       1  \n",
       "6         10062.80       0  \n",
       "7        119346.88       1  \n",
       "8         74940.50       0  \n",
       "9         71725.73       0  "
      ]
     },
     "execution_count": 4,
     "metadata": {},
     "output_type": "execute_result"
    }
   ],
   "source": [
    "dataset.head(10)"
   ]
  },
  {
   "cell_type": "code",
   "execution_count": 5,
   "metadata": {},
   "outputs": [
    {
     "data": {
      "text/plain": [
       "(10000, 14)"
      ]
     },
     "execution_count": 5,
     "metadata": {},
     "output_type": "execute_result"
    }
   ],
   "source": [
    "dataset.shape"
   ]
  },
  {
   "cell_type": "markdown",
   "metadata": {},
   "source": [
    "### Transformando os dados categóricos\n"
   ]
  },
  {
   "cell_type": "code",
   "execution_count": 6,
   "metadata": {},
   "outputs": [
    {
     "name": "stdout",
     "output_type": "stream",
     "text": [
      "X >>\n",
      " [[0.0000000e+00 0.0000000e+00 6.1900000e+02 ... 1.0000000e+00\n",
      "  1.0000000e+00 1.0134888e+05]\n",
      " [0.0000000e+00 1.0000000e+00 6.0800000e+02 ... 0.0000000e+00\n",
      "  1.0000000e+00 1.1254258e+05]\n",
      " [0.0000000e+00 0.0000000e+00 5.0200000e+02 ... 1.0000000e+00\n",
      "  0.0000000e+00 1.1393157e+05]\n",
      " ...\n",
      " [0.0000000e+00 0.0000000e+00 7.0900000e+02 ... 0.0000000e+00\n",
      "  1.0000000e+00 4.2085580e+04]\n",
      " [1.0000000e+00 0.0000000e+00 7.7200000e+02 ... 1.0000000e+00\n",
      "  0.0000000e+00 9.2888520e+04]\n",
      " [0.0000000e+00 0.0000000e+00 7.9200000e+02 ... 1.0000000e+00\n",
      "  0.0000000e+00 3.8190780e+04]]\n"
     ]
    }
   ],
   "source": [
    "from sklearn.preprocessing import LabelEncoder, OneHotEncoder\n",
    "labelencoder_X_1 = LabelEncoder()\n",
    "X[:, 1] = labelencoder_X_1.fit_transform(X[:, 1])\n",
    "labelencoder_X_2 = LabelEncoder()\n",
    "X[:, 2] = labelencoder_X_2.fit_transform(X[:, 2])\n",
    "onehotencoder = OneHotEncoder(categorical_features = [1])\n",
    "X = onehotencoder.fit_transform(X).toarray()\n",
    "X = X[:, 1:]\n",
    "print(\"X >>\\n\",X)"
   ]
  },
  {
   "cell_type": "markdown",
   "metadata": {},
   "source": [
    "# Dividindo o dataset em conjunto de treinamento e conjunto de teste"
   ]
  },
  {
   "cell_type": "code",
   "execution_count": 7,
   "metadata": {},
   "outputs": [],
   "source": [
    "from sklearn.model_selection import train_test_split\n",
    "X_train, X_test, y_train, y_test = train_test_split(X, y, test_size = 0.2, random_state = 0)"
   ]
  },
  {
   "cell_type": "markdown",
   "metadata": {},
   "source": [
    "# Feature Scaling"
   ]
  },
  {
   "cell_type": "code",
   "execution_count": 8,
   "metadata": {},
   "outputs": [],
   "source": [
    "from sklearn.preprocessing import StandardScaler\n",
    "sc = StandardScaler()\n",
    "X_train = sc.fit_transform(X_train)\n",
    "X_test = sc.transform(X_test)"
   ]
  },
  {
   "cell_type": "code",
   "execution_count": 9,
   "metadata": {},
   "outputs": [
    {
     "data": {
      "text/plain": [
       "array([[-0.5698444 ,  1.74309049,  0.16958176, ...,  0.64259497,\n",
       "        -1.03227043,  1.10643166],\n",
       "       [ 1.75486502, -0.57369368, -2.30455945, ...,  0.64259497,\n",
       "         0.9687384 , -0.74866447],\n",
       "       [-0.5698444 , -0.57369368, -1.19119591, ...,  0.64259497,\n",
       "        -1.03227043,  1.48533467],\n",
       "       ...,\n",
       "       [-0.5698444 , -0.57369368,  0.9015152 , ...,  0.64259497,\n",
       "        -1.03227043,  1.41231994],\n",
       "       [-0.5698444 ,  1.74309049, -0.62420521, ...,  0.64259497,\n",
       "         0.9687384 ,  0.84432121],\n",
       "       [ 1.75486502, -0.57369368, -0.28401079, ...,  0.64259497,\n",
       "        -1.03227043,  0.32472465]])"
      ]
     },
     "execution_count": 9,
     "metadata": {},
     "output_type": "execute_result"
    }
   ],
   "source": [
    "X_train"
   ]
  },
  {
   "cell_type": "code",
   "execution_count": 10,
   "metadata": {},
   "outputs": [
    {
     "data": {
      "text/plain": [
       "array([[ 1.75486502, -0.57369368, -0.55204276, ...,  0.64259497,\n",
       "         0.9687384 ,  1.61085707],\n",
       "       [-0.5698444 , -0.57369368, -1.31490297, ...,  0.64259497,\n",
       "        -1.03227043,  0.49587037],\n",
       "       [-0.5698444 ,  1.74309049,  0.57162971, ...,  0.64259497,\n",
       "         0.9687384 , -0.42478674],\n",
       "       ...,\n",
       "       [-0.5698444 ,  1.74309049, -0.74791227, ...,  0.64259497,\n",
       "        -1.03227043,  0.71888467],\n",
       "       [ 1.75486502, -0.57369368, -0.00566991, ...,  0.64259497,\n",
       "         0.9687384 , -1.54507805],\n",
       "       [ 1.75486502, -0.57369368, -0.79945688, ...,  0.64259497,\n",
       "        -1.03227043,  1.61255917]])"
      ]
     },
     "execution_count": 10,
     "metadata": {},
     "output_type": "execute_result"
    }
   ],
   "source": [
    "X_test"
   ]
  },
  {
   "cell_type": "markdown",
   "metadata": {},
   "source": [
    "---\n",
    "# Parte 2 -Vamos construir uma ANN!\n",
    "\n",
    "## Importando o Keras\n"
   ]
  },
  {
   "cell_type": "code",
   "execution_count": 11,
   "metadata": {},
   "outputs": [
    {
     "name": "stderr",
     "output_type": "stream",
     "text": [
      "/Users/erick.giffoni/anaconda3/lib/python3.6/site-packages/h5py/__init__.py:36: FutureWarning: Conversion of the second argument of issubdtype from `float` to `np.floating` is deprecated. In future, it will be treated as `np.float64 == np.dtype(float).type`.\n",
      "  from ._conv import register_converters as _register_converters\n",
      "Using TensorFlow backend.\n",
      "/Users/erick.giffoni/anaconda3/lib/python3.6/site-packages/tensorflow/python/framework/dtypes.py:526: FutureWarning: Passing (type, 1) or '1type' as a synonym of type is deprecated; in a future version of numpy, it will be understood as (type, (1,)) / '(1,)type'.\n",
      "  _np_qint8 = np.dtype([(\"qint8\", np.int8, 1)])\n",
      "/Users/erick.giffoni/anaconda3/lib/python3.6/site-packages/tensorflow/python/framework/dtypes.py:527: FutureWarning: Passing (type, 1) or '1type' as a synonym of type is deprecated; in a future version of numpy, it will be understood as (type, (1,)) / '(1,)type'.\n",
      "  _np_quint8 = np.dtype([(\"quint8\", np.uint8, 1)])\n",
      "/Users/erick.giffoni/anaconda3/lib/python3.6/site-packages/tensorflow/python/framework/dtypes.py:528: FutureWarning: Passing (type, 1) or '1type' as a synonym of type is deprecated; in a future version of numpy, it will be understood as (type, (1,)) / '(1,)type'.\n",
      "  _np_qint16 = np.dtype([(\"qint16\", np.int16, 1)])\n",
      "/Users/erick.giffoni/anaconda3/lib/python3.6/site-packages/tensorflow/python/framework/dtypes.py:529: FutureWarning: Passing (type, 1) or '1type' as a synonym of type is deprecated; in a future version of numpy, it will be understood as (type, (1,)) / '(1,)type'.\n",
      "  _np_quint16 = np.dtype([(\"quint16\", np.uint16, 1)])\n",
      "/Users/erick.giffoni/anaconda3/lib/python3.6/site-packages/tensorflow/python/framework/dtypes.py:530: FutureWarning: Passing (type, 1) or '1type' as a synonym of type is deprecated; in a future version of numpy, it will be understood as (type, (1,)) / '(1,)type'.\n",
      "  _np_qint32 = np.dtype([(\"qint32\", np.int32, 1)])\n",
      "/Users/erick.giffoni/anaconda3/lib/python3.6/site-packages/tensorflow/python/framework/dtypes.py:535: FutureWarning: Passing (type, 1) or '1type' as a synonym of type is deprecated; in a future version of numpy, it will be understood as (type, (1,)) / '(1,)type'.\n",
      "  np_resource = np.dtype([(\"resource\", np.ubyte, 1)])\n"
     ]
    }
   ],
   "source": [
    "import keras\n",
    "from keras.models import Sequential\n",
    "from keras.layers import Dense"
   ]
  },
  {
   "cell_type": "code",
   "execution_count": 12,
   "metadata": {},
   "outputs": [
    {
     "name": "stdout",
     "output_type": "stream",
     "text": [
      "WARNING:tensorflow:From /Users/erick.giffoni/anaconda3/lib/python3.6/site-packages/tensorflow/python/ops/resource_variable_ops.py:435: colocate_with (from tensorflow.python.framework.ops) is deprecated and will be removed in a future version.\n",
      "Instructions for updating:\n",
      "Colocations handled automatically by placer.\n"
     ]
    }
   ],
   "source": [
    "# Initialising the ANN\n",
    "classifier = Sequential()\n",
    "\n",
    "# Adding the input layer and the first hidden layer\n",
    "classifier.add(Dense(units = 64, kernel_initializer = 'uniform', activation = 'sigmoid', input_dim = 11))\n",
    "\n",
    "# Adding the second hidden layer\n",
    "classifier.add(Dense(units = 64, kernel_initializer = 'uniform', activation = 'tanh'))\n",
    "\n",
    "# Adding the output layer\n",
    "classifier.add(Dense(units = 1, kernel_initializer = 'uniform', activation = 'sigmoid'))\n",
    "\n",
    "# Compiling the ANN\n",
    "classifier.compile(optimizer = 'adam', loss = 'binary_crossentropy', metrics = ['accuracy'])"
   ]
  },
  {
   "cell_type": "markdown",
   "metadata": {},
   "source": [
    "# Ajustando a ANN ao conjunto de treinamento"
   ]
  },
  {
   "cell_type": "code",
   "execution_count": null,
   "metadata": {},
   "outputs": [],
   "source": [
    "classifier.fit(X_train, y_train, batch_size = 20, epochs = 10, verbose=0, shuffle=True)"
   ]
  },
  {
   "cell_type": "markdown",
   "metadata": {},
   "source": [
    "# Parte 3 - Fazendo predições e avaliando o modelo\n",
    "\n",
    "## Prevendo os resultados com o conjunto de testes"
   ]
  },
  {
   "cell_type": "code",
   "execution_count": 15,
   "metadata": {},
   "outputs": [],
   "source": [
    "y_pred = classifier.predict(X_test)\n",
    "y_pred = (y_pred > 0.5)"
   ]
  },
  {
   "cell_type": "code",
   "execution_count": 16,
   "metadata": {},
   "outputs": [
    {
     "data": {
      "text/plain": [
       "array([[False],\n",
       "       [False],\n",
       "       [False],\n",
       "       ...,\n",
       "       [False],\n",
       "       [False],\n",
       "       [False]])"
      ]
     },
     "execution_count": 16,
     "metadata": {},
     "output_type": "execute_result"
    }
   ],
   "source": [
    "y_pred"
   ]
  },
  {
   "cell_type": "markdown",
   "metadata": {},
   "source": [
    "## Avaliando o resultado com o accuracy_score"
   ]
  },
  {
   "cell_type": "code",
   "execution_count": 21,
   "metadata": {},
   "outputs": [
    {
     "name": "stdout",
     "output_type": "stream",
     "text": [
      "83.5 % de acurácia\n"
     ]
    }
   ],
   "source": [
    "from sklearn.metrics import accuracy_score\n",
    "print(accuracy_score(y_test, y_pred)*100, \"% de acurácia\")"
   ]
  },
  {
   "cell_type": "markdown",
   "metadata": {},
   "source": [
    "# Criando uma Confusion Matrix"
   ]
  },
  {
   "cell_type": "code",
   "execution_count": 22,
   "metadata": {},
   "outputs": [
    {
     "name": "stdout",
     "output_type": "stream",
     "text": [
      "[[1495  100]\n",
      " [ 230  175]]\n"
     ]
    }
   ],
   "source": [
    "from sklearn.metrics import confusion_matrix\n",
    "cm = confusion_matrix(y_test, y_pred)\n",
    "print(cm)"
   ]
  },
  {
   "cell_type": "markdown",
   "metadata": {},
   "source": [
    "# Initiate activation function experimentation\n",
    "\n",
    "# Initialising the 2nd ANN"
   ]
  },
  {
   "cell_type": "code",
   "execution_count": 14,
   "metadata": {},
   "outputs": [
    {
     "name": "stdout",
     "output_type": "stream",
     "text": [
      "Epoch 1/100\n",
      "8000/8000 [==============================] - 2s 242us/step - loss: 3.2881 - acc: 0.7960\n",
      "Epoch 2/100\n",
      "8000/8000 [==============================] - 2s 191us/step - loss: 3.2881 - acc: 0.7960\n",
      "Epoch 3/100\n",
      "8000/8000 [==============================] - 2s 194us/step - loss: 3.2881 - acc: 0.7960\n",
      "Epoch 4/100\n",
      "8000/8000 [==============================] - 2s 254us/step - loss: 3.2881 - acc: 0.7960\n",
      "Epoch 5/100\n",
      "8000/8000 [==============================] - 2s 218us/step - loss: 3.2881 - acc: 0.7960\n",
      "Epoch 6/100\n",
      "8000/8000 [==============================] - 1s 187us/step - loss: 3.2881 - acc: 0.7960\n",
      "Epoch 7/100\n",
      "8000/8000 [==============================] - 1s 185us/step - loss: 3.2881 - acc: 0.7960\n",
      "Epoch 8/100\n",
      "8000/8000 [==============================] - 1s 180us/step - loss: 3.2881 - acc: 0.7960\n",
      "Epoch 9/100\n",
      "8000/8000 [==============================] - 1s 183us/step - loss: 3.2881 - acc: 0.7960\n",
      "Epoch 10/100\n",
      "8000/8000 [==============================] - 2s 190us/step - loss: 3.2881 - acc: 0.7960\n",
      "Epoch 11/100\n",
      "8000/8000 [==============================] - 1s 187us/step - loss: 3.2881 - acc: 0.7960\n",
      "Epoch 12/100\n",
      "8000/8000 [==============================] - 2s 199us/step - loss: 3.2881 - acc: 0.7960\n",
      "Epoch 13/100\n",
      "8000/8000 [==============================] - 2s 244us/step - loss: 3.2881 - acc: 0.7960\n",
      "Epoch 14/100\n",
      "8000/8000 [==============================] - 4s 523us/step - loss: 3.2881 - acc: 0.7960\n",
      "Epoch 15/100\n",
      "8000/8000 [==============================] - 2s 256us/step - loss: 3.2881 - acc: 0.7960\n",
      "Epoch 16/100\n",
      "8000/8000 [==============================] - 2s 209us/step - loss: 3.2881 - acc: 0.7960\n",
      "Epoch 17/100\n",
      "8000/8000 [==============================] - 2s 197us/step - loss: 3.2881 - acc: 0.7960\n",
      "Epoch 18/100\n",
      "8000/8000 [==============================] - 2s 214us/step - loss: 3.2881 - acc: 0.7960\n",
      "Epoch 19/100\n",
      "8000/8000 [==============================] - 2s 204us/step - loss: 3.2881 - acc: 0.7960\n",
      "Epoch 20/100\n",
      "8000/8000 [==============================] - 1s 186us/step - loss: 3.2881 - acc: 0.7960\n",
      "Epoch 21/100\n",
      "8000/8000 [==============================] - 2s 218us/step - loss: 3.2881 - acc: 0.7960\n",
      "Epoch 22/100\n",
      "8000/8000 [==============================] - 2s 265us/step - loss: 3.2881 - acc: 0.7960\n",
      "Epoch 23/100\n",
      "8000/8000 [==============================] - 2s 252us/step - loss: 3.2881 - acc: 0.7960\n",
      "Epoch 24/100\n",
      "8000/8000 [==============================] - 2s 200us/step - loss: 3.2881 - acc: 0.7960\n",
      "Epoch 25/100\n",
      "8000/8000 [==============================] - 2s 213us/step - loss: 3.2881 - acc: 0.7960\n",
      "Epoch 26/100\n",
      "8000/8000 [==============================] - 2s 199us/step - loss: 3.2881 - acc: 0.7960\n",
      "Epoch 27/100\n",
      "8000/8000 [==============================] - 2s 197us/step - loss: 3.2881 - acc: 0.7960\n",
      "Epoch 28/100\n",
      "8000/8000 [==============================] - 2s 208us/step - loss: 3.2881 - acc: 0.7960\n",
      "Epoch 29/100\n",
      "8000/8000 [==============================] - 2s 203us/step - loss: 3.2881 - acc: 0.7960\n",
      "Epoch 30/100\n",
      "8000/8000 [==============================] - 2s 191us/step - loss: 3.2881 - acc: 0.7960\n",
      "Epoch 31/100\n",
      "8000/8000 [==============================] - 2s 188us/step - loss: 3.2881 - acc: 0.7960\n",
      "Epoch 32/100\n",
      "8000/8000 [==============================] - 2s 202us/step - loss: 3.2881 - acc: 0.7960\n",
      "Epoch 33/100\n",
      "8000/8000 [==============================] - 2s 206us/step - loss: 3.2881 - acc: 0.7960\n",
      "Epoch 34/100\n",
      "8000/8000 [==============================] - 2s 194us/step - loss: 3.2881 - acc: 0.7960\n",
      "Epoch 35/100\n",
      "8000/8000 [==============================] - 2s 197us/step - loss: 3.2881 - acc: 0.7960\n",
      "Epoch 36/100\n",
      "8000/8000 [==============================] - 1s 183us/step - loss: 3.2881 - acc: 0.7960\n",
      "Epoch 37/100\n",
      "8000/8000 [==============================] - 2s 189us/step - loss: 3.2881 - acc: 0.7960\n",
      "Epoch 38/100\n",
      "8000/8000 [==============================] - 2s 203us/step - loss: 3.2881 - acc: 0.7960\n",
      "Epoch 39/100\n",
      "8000/8000 [==============================] - 2s 194us/step - loss: 3.2881 - acc: 0.7960\n",
      "Epoch 40/100\n",
      "8000/8000 [==============================] - 2s 198us/step - loss: 3.2881 - acc: 0.7960\n",
      "Epoch 41/100\n",
      "8000/8000 [==============================] - 2s 199us/step - loss: 3.2881 - acc: 0.7960\n",
      "Epoch 42/100\n",
      "8000/8000 [==============================] - 2s 249us/step - loss: 3.2881 - acc: 0.7960\n",
      "Epoch 43/100\n",
      "8000/8000 [==============================] - 2s 202us/step - loss: 3.2881 - acc: 0.7960\n",
      "Epoch 44/100\n",
      "8000/8000 [==============================] - 2s 189us/step - loss: 3.2881 - acc: 0.7960\n",
      "Epoch 45/100\n",
      "8000/8000 [==============================] - 2s 191us/step - loss: 3.2881 - acc: 0.7960\n",
      "Epoch 46/100\n",
      "8000/8000 [==============================] - 2s 220us/step - loss: 3.2881 - acc: 0.7960\n",
      "Epoch 47/100\n",
      "8000/8000 [==============================] - 2s 193us/step - loss: 3.2881 - acc: 0.7960\n",
      "Epoch 48/100\n",
      "8000/8000 [==============================] - 2s 202us/step - loss: 3.2881 - acc: 0.7960\n",
      "Epoch 49/100\n",
      "8000/8000 [==============================] - 2s 188us/step - loss: 3.2881 - acc: 0.7960\n",
      "Epoch 50/100\n",
      "8000/8000 [==============================] - 1s 180us/step - loss: 3.2881 - acc: 0.7960\n",
      "Epoch 51/100\n",
      "8000/8000 [==============================] - 2s 258us/step - loss: 3.2881 - acc: 0.7960\n",
      "Epoch 52/100\n",
      "8000/8000 [==============================] - 2s 238us/step - loss: 3.2881 - acc: 0.7960\n",
      "Epoch 53/100\n",
      "8000/8000 [==============================] - 2s 226us/step - loss: 3.2881 - acc: 0.7960\n",
      "Epoch 54/100\n",
      "8000/8000 [==============================] - 2s 291us/step - loss: 3.2881 - acc: 0.7960\n",
      "Epoch 55/100\n",
      "8000/8000 [==============================] - 2s 201us/step - loss: 3.2881 - acc: 0.7960\n",
      "Epoch 56/100\n",
      "8000/8000 [==============================] - 2s 202us/step - loss: 3.2881 - acc: 0.7960\n",
      "Epoch 57/100\n",
      "8000/8000 [==============================] - 2s 196us/step - loss: 3.2881 - acc: 0.7960\n",
      "Epoch 58/100\n",
      "8000/8000 [==============================] - 2s 258us/step - loss: 3.2881 - acc: 0.7960\n",
      "Epoch 59/100\n",
      "8000/8000 [==============================] - 2s 239us/step - loss: 3.2881 - acc: 0.7960\n",
      "Epoch 60/100\n",
      "8000/8000 [==============================] - 3s 384us/step - loss: 3.2881 - acc: 0.7960\n",
      "Epoch 61/100\n",
      "8000/8000 [==============================] - 2s 256us/step - loss: 3.2881 - acc: 0.7960\n",
      "Epoch 62/100\n",
      "8000/8000 [==============================] - 2s 258us/step - loss: 3.2881 - acc: 0.7960\n",
      "Epoch 63/100\n",
      "8000/8000 [==============================] - 3s 358us/step - loss: 3.2881 - acc: 0.7960\n",
      "Epoch 64/100\n",
      "8000/8000 [==============================] - 2s 230us/step - loss: 3.2881 - acc: 0.7960\n",
      "Epoch 65/100\n",
      "8000/8000 [==============================] - 2s 191us/step - loss: 3.2881 - acc: 0.7960\n",
      "Epoch 66/100\n",
      "8000/8000 [==============================] - 2s 228us/step - loss: 3.2881 - acc: 0.7960\n",
      "Epoch 67/100\n",
      "8000/8000 [==============================] - 3s 399us/step - loss: 3.2881 - acc: 0.7960\n",
      "Epoch 68/100\n",
      "8000/8000 [==============================] - 3s 368us/step - loss: 3.2881 - acc: 0.7960\n",
      "Epoch 69/100\n",
      "8000/8000 [==============================] - 2s 258us/step - loss: 3.2881 - acc: 0.7960\n",
      "Epoch 70/100\n",
      "8000/8000 [==============================] - 2s 208us/step - loss: 3.2881 - acc: 0.7960\n",
      "Epoch 71/100\n",
      "8000/8000 [==============================] - 2s 195us/step - loss: 3.2881 - acc: 0.7960\n",
      "Epoch 72/100\n",
      "8000/8000 [==============================] - 2s 220us/step - loss: 3.2881 - acc: 0.7960\n",
      "Epoch 73/100\n",
      "8000/8000 [==============================] - 2s 214us/step - loss: 3.2881 - acc: 0.7960\n",
      "Epoch 74/100\n",
      "8000/8000 [==============================] - 2s 227us/step - loss: 3.2881 - acc: 0.7960\n",
      "Epoch 75/100\n",
      "8000/8000 [==============================] - 3s 345us/step - loss: 3.2881 - acc: 0.7960\n",
      "Epoch 76/100\n",
      "8000/8000 [==============================] - 2s 231us/step - loss: 3.2881 - acc: 0.7960\n",
      "Epoch 77/100\n",
      "8000/8000 [==============================] - 2s 193us/step - loss: 3.2881 - acc: 0.7960\n",
      "Epoch 78/100\n",
      "8000/8000 [==============================] - 1s 187us/step - loss: 3.2881 - acc: 0.7960\n",
      "Epoch 79/100\n",
      "8000/8000 [==============================] - 1s 187us/step - loss: 3.2881 - acc: 0.7960\n",
      "Epoch 80/100\n",
      "8000/8000 [==============================] - 2s 281us/step - loss: 3.2881 - acc: 0.7960\n",
      "Epoch 81/100\n",
      "8000/8000 [==============================] - 2s 293us/step - loss: 3.2881 - acc: 0.7960\n",
      "Epoch 82/100\n",
      "8000/8000 [==============================] - 2s 279us/step - loss: 3.2881 - acc: 0.7960\n",
      "Epoch 83/100\n",
      "8000/8000 [==============================] - 2s 193us/step - loss: 3.2881 - acc: 0.7960\n",
      "Epoch 84/100\n",
      "8000/8000 [==============================] - 1s 187us/step - loss: 3.2881 - acc: 0.7960\n",
      "Epoch 85/100\n",
      "8000/8000 [==============================] - 2s 206us/step - loss: 3.2881 - acc: 0.7960\n",
      "Epoch 86/100\n",
      "8000/8000 [==============================] - 2s 211us/step - loss: 3.2881 - acc: 0.7960\n",
      "Epoch 87/100\n",
      "8000/8000 [==============================] - 1s 186us/step - loss: 3.2881 - acc: 0.7960\n",
      "Epoch 88/100\n",
      "8000/8000 [==============================] - 2s 189us/step - loss: 3.2881 - acc: 0.7960\n",
      "Epoch 89/100\n",
      "8000/8000 [==============================] - 2s 189us/step - loss: 3.2881 - acc: 0.7960\n",
      "Epoch 90/100\n",
      "8000/8000 [==============================] - 2s 188us/step - loss: 3.2881 - acc: 0.7960\n",
      "Epoch 91/100\n",
      "8000/8000 [==============================] - 2s 226us/step - loss: 3.2881 - acc: 0.7960\n",
      "Epoch 92/100\n",
      "8000/8000 [==============================] - 2s 192us/step - loss: 3.2881 - acc: 0.7960\n",
      "Epoch 93/100\n",
      "8000/8000 [==============================] - 1s 186us/step - loss: 3.2881 - acc: 0.7960\n",
      "Epoch 94/100\n",
      "8000/8000 [==============================] - 2s 222us/step - loss: 3.2881 - acc: 0.7960\n",
      "Epoch 95/100\n",
      "8000/8000 [==============================] - 2s 209us/step - loss: 3.2881 - acc: 0.7960\n",
      "Epoch 96/100\n",
      "8000/8000 [==============================] - 2s 232us/step - loss: 3.2881 - acc: 0.7960\n",
      "Epoch 97/100\n",
      "8000/8000 [==============================] - 2s 234us/step - loss: 3.2881 - acc: 0.7960\n",
      "Epoch 98/100\n",
      "8000/8000 [==============================] - 2s 284us/step - loss: 3.2881 - acc: 0.7960\n",
      "Epoch 99/100\n",
      "8000/8000 [==============================] - 2s 250us/step - loss: 3.2881 - acc: 0.7960\n",
      "Epoch 100/100\n",
      "8000/8000 [==============================] - 2s 266us/step - loss: 3.2881 - acc: 0.7960\n"
     ]
    },
    {
     "data": {
      "text/plain": [
       "<keras.callbacks.History at 0x1a31b18b70>"
      ]
     },
     "execution_count": 14,
     "metadata": {},
     "output_type": "execute_result"
    }
   ],
   "source": [
    "del classifier\n",
    "\n",
    "classifier = Sequential()\n",
    "\n",
    "classifier.add(Dense(units = 6, kernel_initializer = 'uniform', activation = 'sigmoid', input_dim = 11))\n",
    "\n",
    "classifier.add(Dense(units = 6, kernel_initializer = 'uniform', activation = 'sigmoid'))\n",
    "\n",
    "classifier.add(Dense(units = 1, kernel_initializer = 'uniform', activation = 'tanh'))\n",
    "\n",
    "classifier.compile(optimizer = 'adam', loss = 'binary_crossentropy', metrics = ['accuracy'])\n",
    "\n",
    "classifier.fit(X_train, y_train, batch_size = 10, epochs = 100)"
   ]
  },
  {
   "cell_type": "code",
   "execution_count": 15,
   "metadata": {},
   "outputs": [],
   "source": [
    "y_pred = classifier.predict(X_test)\n",
    "y_pred = (y_pred > 0.5)"
   ]
  },
  {
   "cell_type": "markdown",
   "metadata": {},
   "source": [
    "# Making the Confusion Matrix"
   ]
  },
  {
   "cell_type": "code",
   "execution_count": 16,
   "metadata": {},
   "outputs": [
    {
     "name": "stdout",
     "output_type": "stream",
     "text": [
      "[[1595    0]\n",
      " [ 405    0]]\n"
     ]
    }
   ],
   "source": [
    "from sklearn.metrics import confusion_matrix\n",
    "cm = confusion_matrix(y_test, y_pred)\n",
    "print(cm)"
   ]
  },
  {
   "cell_type": "markdown",
   "metadata": {},
   "source": [
    "# Initialising the 3rd ANN"
   ]
  },
  {
   "cell_type": "code",
   "execution_count": 17,
   "metadata": {},
   "outputs": [
    {
     "name": "stdout",
     "output_type": "stream",
     "text": [
      "Epoch 1/100\n",
      "8000/8000 [==============================] - 2s 242us/step - loss: 0.5123 - acc: 0.7960\n",
      "Epoch 2/100\n",
      "8000/8000 [==============================] - 2s 193us/step - loss: 0.4461 - acc: 0.7960\n",
      "Epoch 3/100\n",
      "8000/8000 [==============================] - 2s 191us/step - loss: 0.4341 - acc: 0.7956\n",
      "Epoch 4/100\n",
      "8000/8000 [==============================] - 1s 187us/step - loss: 0.4297 - acc: 0.7982\n",
      "Epoch 5/100\n",
      "8000/8000 [==============================] - 2s 190us/step - loss: 0.4280 - acc: 0.8000\n",
      "Epoch 6/100\n",
      "8000/8000 [==============================] - 1s 186us/step - loss: 0.4276 - acc: 0.8030\n",
      "Epoch 7/100\n",
      "8000/8000 [==============================] - 2s 189us/step - loss: 0.4266 - acc: 0.8042\n",
      "Epoch 8/100\n",
      "8000/8000 [==============================] - 2s 226us/step - loss: 0.4271 - acc: 0.8045\n",
      "Epoch 9/100\n",
      "8000/8000 [==============================] - 2s 252us/step - loss: 0.4268 - acc: 0.8049\n",
      "Epoch 10/100\n",
      "8000/8000 [==============================] - 2s 193us/step - loss: 0.4266 - acc: 0.8056\n",
      "Epoch 11/100\n",
      "8000/8000 [==============================] - 2s 196us/step - loss: 0.4259 - acc: 0.8057\n",
      "Epoch 12/100\n",
      "8000/8000 [==============================] - 2s 191us/step - loss: 0.4252 - acc: 0.8084\n",
      "Epoch 13/100\n",
      "8000/8000 [==============================] - 2s 204us/step - loss: 0.4240 - acc: 0.8142\n",
      "Epoch 14/100\n",
      "8000/8000 [==============================] - 2s 202us/step - loss: 0.4225 - acc: 0.8169\n",
      "Epoch 15/100\n",
      "8000/8000 [==============================] - 2s 195us/step - loss: 0.4206 - acc: 0.8206\n",
      "Epoch 16/100\n",
      "8000/8000 [==============================] - 2s 200us/step - loss: 0.4188 - acc: 0.8235\n",
      "Epoch 17/100\n",
      "8000/8000 [==============================] - 2s 195us/step - loss: 0.4175 - acc: 0.8249\n",
      "Epoch 18/100\n",
      "8000/8000 [==============================] - 2s 192us/step - loss: 0.4161 - acc: 0.8255\n",
      "Epoch 19/100\n",
      "8000/8000 [==============================] - 2s 222us/step - loss: 0.4146 - acc: 0.8277\n",
      "Epoch 20/100\n",
      "8000/8000 [==============================] - 2s 200us/step - loss: 0.4133 - acc: 0.8282\n",
      "Epoch 21/100\n",
      "8000/8000 [==============================] - 2s 201us/step - loss: 0.4123 - acc: 0.8296\n",
      "Epoch 22/100\n",
      "8000/8000 [==============================] - 2s 225us/step - loss: 0.4114 - acc: 0.8307\n",
      "Epoch 23/100\n",
      "8000/8000 [==============================] - 2s 230us/step - loss: 0.4106 - acc: 0.8302\n",
      "Epoch 24/100\n",
      "8000/8000 [==============================] - 2s 205us/step - loss: 0.4097 - acc: 0.8315\n",
      "Epoch 25/100\n",
      "8000/8000 [==============================] - 2s 247us/step - loss: 0.4093 - acc: 0.8317\n",
      "Epoch 26/100\n",
      "8000/8000 [==============================] - 2s 259us/step - loss: 0.4085 - acc: 0.8325\n",
      "Epoch 27/100\n",
      "8000/8000 [==============================] - 2s 283us/step - loss: 0.4082 - acc: 0.8324\n",
      "Epoch 28/100\n",
      "8000/8000 [==============================] - 3s 385us/step - loss: 0.4077 - acc: 0.8336\n",
      "Epoch 29/100\n",
      "8000/8000 [==============================] - 2s 208us/step - loss: 0.4073 - acc: 0.8341\n",
      "Epoch 30/100\n",
      "8000/8000 [==============================] - 2s 204us/step - loss: 0.4068 - acc: 0.8329\n",
      "Epoch 31/100\n",
      "8000/8000 [==============================] - 2s 202us/step - loss: 0.4063 - acc: 0.8341\n",
      "Epoch 32/100\n",
      "8000/8000 [==============================] - 2s 198us/step - loss: 0.4060 - acc: 0.8350\n",
      "Epoch 33/100\n",
      "8000/8000 [==============================] - 2s 200us/step - loss: 0.4057 - acc: 0.8351\n",
      "Epoch 34/100\n",
      "8000/8000 [==============================] - 2s 220us/step - loss: 0.4055 - acc: 0.8342\n",
      "Epoch 35/100\n",
      "8000/8000 [==============================] - 2s 205us/step - loss: 0.4051 - acc: 0.8347\n",
      "Epoch 36/100\n",
      "8000/8000 [==============================] - 2s 202us/step - loss: 0.4049 - acc: 0.8340\n",
      "Epoch 37/100\n",
      "8000/8000 [==============================] - 2s 202us/step - loss: 0.4046 - acc: 0.8336\n",
      "Epoch 38/100\n",
      "8000/8000 [==============================] - 2s 203us/step - loss: 0.4042 - acc: 0.8341\n",
      "Epoch 39/100\n",
      "8000/8000 [==============================] - 2s 224us/step - loss: 0.4043 - acc: 0.8336\n",
      "Epoch 40/100\n",
      "8000/8000 [==============================] - 2s 232us/step - loss: 0.4039 - acc: 0.8342\n",
      "Epoch 41/100\n",
      "8000/8000 [==============================] - 2s 269us/step - loss: 0.4038 - acc: 0.8342\n",
      "Epoch 42/100\n",
      "8000/8000 [==============================] - 2s 224us/step - loss: 0.4033 - acc: 0.8337\n",
      "Epoch 43/100\n",
      "8000/8000 [==============================] - 2s 304us/step - loss: 0.4030 - acc: 0.8340\n",
      "Epoch 44/100\n",
      "8000/8000 [==============================] - 1s 187us/step - loss: 0.4031 - acc: 0.8339\n",
      "Epoch 45/100\n",
      "8000/8000 [==============================] - 1s 183us/step - loss: 0.4025 - acc: 0.8341\n",
      "Epoch 46/100\n",
      "8000/8000 [==============================] - 2s 189us/step - loss: 0.4023 - acc: 0.8337\n",
      "Epoch 47/100\n",
      "8000/8000 [==============================] - 2s 220us/step - loss: 0.4019 - acc: 0.8329\n",
      "Epoch 48/100\n",
      "8000/8000 [==============================] - 2s 188us/step - loss: 0.4019 - acc: 0.8337\n",
      "Epoch 49/100\n",
      "8000/8000 [==============================] - 2s 197us/step - loss: 0.4017 - acc: 0.8341\n",
      "Epoch 50/100\n",
      "8000/8000 [==============================] - 2s 200us/step - loss: 0.4015 - acc: 0.8342\n",
      "Epoch 51/100\n",
      "8000/8000 [==============================] - 2s 195us/step - loss: 0.4011 - acc: 0.8340\n",
      "Epoch 52/100\n",
      "8000/8000 [==============================] - 2s 196us/step - loss: 0.4010 - acc: 0.8337\n",
      "Epoch 53/100\n",
      "8000/8000 [==============================] - 2s 198us/step - loss: 0.4006 - acc: 0.8351\n",
      "Epoch 54/100\n",
      "8000/8000 [==============================] - 2s 201us/step - loss: 0.4003 - acc: 0.8354\n",
      "Epoch 55/100\n",
      "8000/8000 [==============================] - 2s 207us/step - loss: 0.4004 - acc: 0.8340\n",
      "Epoch 56/100\n",
      "8000/8000 [==============================] - 2s 212us/step - loss: 0.4000 - acc: 0.8337\n",
      "Epoch 57/100\n",
      "8000/8000 [==============================] - 2s 210us/step - loss: 0.3998 - acc: 0.8340\n",
      "Epoch 58/100\n",
      "8000/8000 [==============================] - 2s 195us/step - loss: 0.3993 - acc: 0.8345\n",
      "Epoch 59/100\n",
      "8000/8000 [==============================] - 2s 214us/step - loss: 0.3991 - acc: 0.8344\n",
      "Epoch 60/100\n",
      "8000/8000 [==============================] - 2s 208us/step - loss: 0.3989 - acc: 0.8337\n",
      "Epoch 61/100\n",
      "8000/8000 [==============================] - 2s 210us/step - loss: 0.3988 - acc: 0.8347\n",
      "Epoch 62/100\n",
      "8000/8000 [==============================] - 3s 375us/step - loss: 0.3986 - acc: 0.8345\n",
      "Epoch 63/100\n",
      "8000/8000 [==============================] - 3s 382us/step - loss: 0.3982 - acc: 0.8342\n",
      "Epoch 64/100\n",
      "8000/8000 [==============================] - 2s 301us/step - loss: 0.3981 - acc: 0.8341\n",
      "Epoch 65/100\n",
      "8000/8000 [==============================] - 2s 219us/step - loss: 0.3978 - acc: 0.8347\n",
      "Epoch 66/100\n",
      "8000/8000 [==============================] - 1s 183us/step - loss: 0.3976 - acc: 0.8347\n",
      "Epoch 67/100\n",
      "8000/8000 [==============================] - 2s 237us/step - loss: 0.3973 - acc: 0.8349\n",
      "Epoch 68/100\n",
      "8000/8000 [==============================] - 2s 228us/step - loss: 0.3972 - acc: 0.8352\n",
      "Epoch 69/100\n",
      "8000/8000 [==============================] - 1s 171us/step - loss: 0.3971 - acc: 0.8342\n",
      "Epoch 70/100\n",
      "8000/8000 [==============================] - 1s 176us/step - loss: 0.3968 - acc: 0.8350\n",
      "Epoch 71/100\n",
      "8000/8000 [==============================] - 1s 175us/step - loss: 0.3965 - acc: 0.8355\n",
      "Epoch 72/100\n",
      "8000/8000 [==============================] - 2s 222us/step - loss: 0.3965 - acc: 0.8351\n",
      "Epoch 73/100\n",
      "8000/8000 [==============================] - 2s 188us/step - loss: 0.3963 - acc: 0.8355\n",
      "Epoch 74/100\n",
      "8000/8000 [==============================] - 2s 249us/step - loss: 0.3959 - acc: 0.8354\n",
      "Epoch 75/100\n",
      "8000/8000 [==============================] - 3s 416us/step - loss: 0.3958 - acc: 0.8354\n",
      "Epoch 76/100\n",
      "8000/8000 [==============================] - 3s 410us/step - loss: 0.3958 - acc: 0.8357\n",
      "Epoch 77/100\n",
      "8000/8000 [==============================] - 4s 475us/step - loss: 0.3954 - acc: 0.8350\n",
      "Epoch 78/100\n",
      "8000/8000 [==============================] - 4s 444us/step - loss: 0.3955 - acc: 0.8339\n",
      "Epoch 79/100\n",
      "8000/8000 [==============================] - 4s 438us/step - loss: 0.3953 - acc: 0.8352\n",
      "Epoch 80/100\n",
      "8000/8000 [==============================] - 4s 459us/step - loss: 0.3951 - acc: 0.8350\n",
      "Epoch 81/100\n",
      "8000/8000 [==============================] - 4s 496us/step - loss: 0.3949 - acc: 0.8352\n",
      "Epoch 82/100\n",
      "8000/8000 [==============================] - 5s 573us/step - loss: 0.3947 - acc: 0.8351\n",
      "Epoch 83/100\n",
      "8000/8000 [==============================] - 5s 567us/step - loss: 0.3949 - acc: 0.8355\n",
      "Epoch 84/100\n",
      "8000/8000 [==============================] - 4s 484us/step - loss: 0.3944 - acc: 0.8359\n",
      "Epoch 85/100\n",
      "8000/8000 [==============================] - 4s 441us/step - loss: 0.3944 - acc: 0.8362\n",
      "Epoch 86/100\n",
      "8000/8000 [==============================] - 2s 241us/step - loss: 0.3941 - acc: 0.8365\n",
      "Epoch 87/100\n",
      "8000/8000 [==============================] - 3s 351us/step - loss: 0.3937 - acc: 0.8362\n",
      "Epoch 88/100\n",
      "8000/8000 [==============================] - 2s 295us/step - loss: 0.3939 - acc: 0.8360\n",
      "Epoch 89/100\n",
      "8000/8000 [==============================] - 2s 271us/step - loss: 0.3938 - acc: 0.8369\n",
      "Epoch 90/100\n",
      "8000/8000 [==============================] - 3s 348us/step - loss: 0.3937 - acc: 0.8369\n",
      "Epoch 91/100\n",
      "8000/8000 [==============================] - 2s 297us/step - loss: 0.3935 - acc: 0.8374\n",
      "Epoch 92/100\n",
      "8000/8000 [==============================] - 2s 206us/step - loss: 0.3935 - acc: 0.8346\n",
      "Epoch 93/100\n",
      "8000/8000 [==============================] - 5s 604us/step - loss: 0.3933 - acc: 0.8354\n",
      "Epoch 94/100\n",
      "8000/8000 [==============================] - 4s 466us/step - loss: 0.3931 - acc: 0.8360\n",
      "Epoch 95/100\n",
      "8000/8000 [==============================] - 4s 511us/step - loss: 0.3930 - acc: 0.8347\n",
      "Epoch 96/100\n",
      "8000/8000 [==============================] - 4s 518us/step - loss: 0.3928 - acc: 0.8369\n",
      "Epoch 97/100\n",
      "8000/8000 [==============================] - 5s 589us/step - loss: 0.3928 - acc: 0.8367\n",
      "Epoch 98/100\n",
      "8000/8000 [==============================] - 4s 474us/step - loss: 0.3924 - acc: 0.8371\n",
      "Epoch 99/100\n",
      "8000/8000 [==============================] - 3s 407us/step - loss: 0.3923 - acc: 0.8367\n",
      "Epoch 100/100\n",
      "8000/8000 [==============================] - 3s 352us/step - loss: 0.3921 - acc: 0.8371\n"
     ]
    },
    {
     "data": {
      "text/plain": [
       "<keras.callbacks.History at 0x1a31face80>"
      ]
     },
     "execution_count": 17,
     "metadata": {},
     "output_type": "execute_result"
    }
   ],
   "source": [
    "del classifier\n",
    "\n",
    "classifier = Sequential()\n",
    "\n",
    "classifier.add(Dense(units = 6, kernel_initializer = 'uniform', activation = 'sigmoid', input_dim = 11))\n",
    "\n",
    "classifier.add(Dense(units = 6, kernel_initializer = 'uniform', activation = 'relu'))\n",
    "\n",
    "classifier.add(Dense(units = 1, kernel_initializer = 'uniform', activation = 'sigmoid'))\n",
    "\n",
    "classifier.compile(optimizer = 'adam', loss = 'binary_crossentropy', metrics = ['accuracy'])\n",
    "\n",
    "classifier.fit(X_train, y_train, batch_size = 10, epochs = 100)"
   ]
  },
  {
   "cell_type": "code",
   "execution_count": 19,
   "metadata": {},
   "outputs": [],
   "source": [
    "y_pred = classifier.predict(X_test)\n",
    "y_pred = (y_pred > 0.5)"
   ]
  },
  {
   "cell_type": "markdown",
   "metadata": {},
   "source": [
    "# Making the Confusion Matrix"
   ]
  },
  {
   "cell_type": "code",
   "execution_count": 20,
   "metadata": {},
   "outputs": [
    {
     "name": "stdout",
     "output_type": "stream",
     "text": [
      "[[1547   48]\n",
      " [ 265  140]]\n"
     ]
    }
   ],
   "source": [
    "from sklearn.metrics import confusion_matrix\n",
    "cm = confusion_matrix(y_test, y_pred)\n",
    "print(cm)"
   ]
  },
  {
   "cell_type": "markdown",
   "metadata": {},
   "source": [
    "---\n",
    "# Parte 4 - Evaluating, Improving and Tuning the ANN\n",
    "\n",
    "## Evaluating the ANN"
   ]
  },
  {
   "cell_type": "code",
   "execution_count": null,
   "metadata": {},
   "outputs": [],
   "source": [
    "from keras.wrappers.scikit_learn import KerasClassifier\n",
    "from sklearn.model_selection import cross_val_score\n",
    "from keras.models import Sequential\n",
    "from keras.layers import Dense\n",
    "\n",
    "def build_classifier():\n",
    "    classifier = Sequential()\n",
    "    classifier.add(Dense(units = 6, kernel_initializer = 'uniform', activation = 'relu', input_dim = 11))\n",
    "    classifier.add(Dense(units = 6, kernel_initializer = 'uniform', activation = 'relu'))\n",
    "    classifier.add(Dense(units = 1, kernel_initializer = 'uniform', activation = 'sigmoid'))\n",
    "    classifier.compile(optimizer = 'adam', loss = 'binary_crossentropy', metrics = ['accuracy'])\n",
    "    return classifier\n",
    "\n",
    "classifier = KerasClassifier(build_fn = build_classifier, batch_size = 10, epochs = 10)\n",
    "accuracies = cross_val_score(estimator = classifier, X = X_train, y = y_train, cv = 10, n_jobs = -1)\n",
    "mean = accuracies.mean()\n",
    "variance = accuracies.std()\n",
    "print(\"accuracies:%s\\nmean:%s\\nvariance:%s\".format(accuracies, mean, variance))"
   ]
  },
  {
   "cell_type": "markdown",
   "metadata": {},
   "source": [
    "# Improving the ANN\n",
    "# Dropout Regularization to reduce overfitting if needed"
   ]
  },
  {
   "cell_type": "code",
   "execution_count": null,
   "metadata": {},
   "outputs": [],
   "source": [
    "from keras.layers import Dropout\n",
    "\n",
    "def build_classifier():\n",
    "    classifier = Sequential()\n",
    "    classifier.add(Dense(units = 6, kernel_initializer = 'uniform', activation = 'relu', input_dim = 11))\n",
    "    classifier.add(Dropout(rate = 0.1))\n",
    "    classifier.add(Dense(units = 6, kernel_initializer = 'uniform', activation = 'relu'))\n",
    "    classifier.add(Dropout(rate = 0.1))\n",
    "    classifier.add(Dense(units = 1, kernel_initializer = 'uniform', activation = 'sigmoid'))\n",
    "    classifier.compile(optimizer = 'adam', loss = 'binary_crossentropy', metrics = ['accuracy'])\n",
    "    return classifier\n",
    "\n",
    "classifier = KerasClassifier(build_fn = build_classifier, batch_size = 10, epochs = 10)\n",
    "accuracies = cross_val_score(estimator = classifier, X = X_train, y = y_train, cv = 10, n_jobs = -1)\n",
    "mean = accuracies.mean()\n",
    "variance = accuracies.std()"
   ]
  },
  {
   "cell_type": "markdown",
   "metadata": {},
   "source": [
    "# Tuning the ANN"
   ]
  },
  {
   "cell_type": "code",
   "execution_count": null,
   "metadata": {},
   "outputs": [],
   "source": [
    "from keras.wrappers.scikit_learn import KerasClassifier\n",
    "from sklearn.model_selection import GridSearchCV\n",
    "from keras.models import Sequential\n",
    "from keras.layers import Dense\n",
    "\n",
    "def build_classifier(optimizer):\n",
    "    classifier = Sequential()\n",
    "    classifier.add(Dense(units = 6, kernel_initializer = 'uniform', activation = 'relu', input_dim = 11))\n",
    "    classifier.add(Dropout(rate = 0.1))\n",
    "    classifier.add(Dense(units = 6, kernel_initializer = 'uniform', activation = 'relu'))\n",
    "    classifier.add(Dropout(rate = 0.1))\n",
    "    classifier.add(Dense(units = 1, kernel_initializer = 'uniform', activation = 'sigmoid'))\n",
    "    classifier.compile(optimizer = optimizer, loss = 'binary_crossentropy', metrics = ['accuracy'])\n",
    "    return classifier\n",
    "\n",
    "classifier = KerasClassifier(build_fn = build_classifier)"
   ]
  },
  {
   "cell_type": "code",
   "execution_count": null,
   "metadata": {},
   "outputs": [],
   "source": [
    "parameters = {'batch_size': [10, 24, 32],\n",
    "              'epochs': [50, 100, 200],\n",
    "              'optimizer': ['adam', 'rmsprop']}\n",
    "\n",
    "grid_search = GridSearchCV(estimator = classifier,\n",
    "                           scoring = 'accuracy',\n",
    "                           param_grid = parameters,\n",
    "                           cv = 10)\n",
    "\n",
    "grid_search = grid_search.fit(X_train, y_train)\n",
    "\n",
    "best_parameters = grid_search.best_params_\n",
    "best_accuracy = grid_search.best_score_"
   ]
  },
  {
   "cell_type": "markdown",
   "metadata": {},
   "source": [
    "# FIM"
   ]
  },
  {
   "cell_type": "markdown",
   "metadata": {},
   "source": [
    "> Professor Diego Dorgam  \n",
    "> [@diegodorgam](https://twitter.com/diegodorgam)"
   ]
  }
 ],
 "metadata": {
  "kernelspec": {
   "display_name": "Python 3",
   "language": "python",
   "name": "python3"
  },
  "language_info": {
   "codemirror_mode": {
    "name": "ipython",
    "version": 3
   },
   "file_extension": ".py",
   "mimetype": "text/x-python",
   "name": "python",
   "nbconvert_exporter": "python",
   "pygments_lexer": "ipython3",
   "version": "3.6.5"
  }
 },
 "nbformat": 4,
 "nbformat_minor": 2
}
