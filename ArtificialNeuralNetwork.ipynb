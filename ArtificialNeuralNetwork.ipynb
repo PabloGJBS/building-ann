{
 "cells": [
  {
   "cell_type": "markdown",
   "metadata": {},
   "source": [
    "# REDES NEURAIS ARTIFICIAIS\n",
    "\n",
    "[Aula 3 de Deep Learning](http://bit.ly/dn-unb03) da Engenharia de Software da UnB"
   ]
  },
  {
   "cell_type": "markdown",
   "metadata": {},
   "source": [
    "# Parte 1 - Pré-processamento dos Dados"
   ]
  },
  {
   "cell_type": "markdown",
   "metadata": {},
   "source": [
    "### Importar as libs"
   ]
  },
  {
   "cell_type": "code",
   "execution_count": 2,
   "metadata": {},
   "outputs": [
    {
     "name": "stdout",
     "output_type": "stream",
     "text": [
      "Collecting tensorflow\n",
      "  Downloading tensorflow-2.4.1-cp38-cp38-manylinux2010_x86_64.whl (394.4 MB)\n",
      "\u001b[K     |████████████████████████████████| 394.4 MB 43 kB/s s eta 0:00:01    |██▉                             | 35.2 MB 27.0 MB/s eta 0:00:14     |███▌                            | 43.6 MB 27.0 MB/s eta 0:00:13     |████▊                           | 58.2 MB 31.8 MB/s eta 0:00:11     |█████▊                          | 69.9 MB 31.8 MB/s eta 0:00:11     |██████▎                         | 77.1 MB 31.8 MB/s eta 0:00:10     |██████▊                         | 82.9 MB 30.8 MB/s eta 0:00:11     |███████                         | 85.7 MB 30.8 MB/s eta 0:00:11     |███████                         | 87.2 MB 30.8 MB/s eta 0:00:10     |████████▋                       | 106.0 MB 30.8 MB/s eta 0:00:10     |█████████████▏                  | 162.2 MB 25.6 MB/s eta 0:00:10     |█████████████████               | 209.0 MB 24.9 MB/s eta 0:00:08     |███████████████████▍            | 238.6 MB 27.2 MB/s eta 0:00:06     |█████████████████████           | 259.1 MB 30.3 MB/s eta 0:00:05     |████████████████████████▏       | 297.4 MB 29.0 MB/s eta 0:00:04     |███████████████████████████▏    | 334.1 MB 29.3 MB/s eta 0:00:03     |███████████████████████████████▍| 386.4 MB 27.3 MB/s eta 0:00:01     |███████████████████████████████▊| 390.9 MB 27.3 MB/s eta 0:00:01\n",
      "\u001b[?25hRequirement already satisfied: typing-extensions~=3.7.4 in /opt/conda/lib/python3.8/site-packages (from tensorflow) (3.7.4.3)\n",
      "Collecting h5py~=2.10.0\n",
      "  Downloading h5py-2.10.0-cp38-cp38-manylinux1_x86_64.whl (2.9 MB)\n",
      "\u001b[K     |████████████████████████████████| 2.9 MB 23.2 MB/s eta 0:00:01\n",
      "\u001b[?25hCollecting grpcio~=1.32.0\n",
      "  Downloading grpcio-1.32.0-cp38-cp38-manylinux2014_x86_64.whl (3.8 MB)\n",
      "\u001b[K     |████████████████████████████████| 3.8 MB 25.1 MB/s eta 0:00:01\n",
      "\u001b[?25hCollecting flatbuffers~=1.12.0\n",
      "  Downloading flatbuffers-1.12-py2.py3-none-any.whl (15 kB)\n",
      "Collecting numpy~=1.19.2\n",
      "  Downloading numpy-1.19.5-cp38-cp38-manylinux2010_x86_64.whl (14.9 MB)\n",
      "\u001b[K     |████████████████████████████████| 14.9 MB 16.3 MB/s eta 0:00:01\n",
      "\u001b[?25hCollecting termcolor~=1.1.0\n",
      "  Downloading termcolor-1.1.0.tar.gz (3.9 kB)\n",
      "Requirement already satisfied: wheel~=0.35 in /opt/conda/lib/python3.8/site-packages (from tensorflow) (0.36.2)\n",
      "Collecting tensorboard~=2.4\n",
      "  Downloading tensorboard-2.4.1-py3-none-any.whl (10.6 MB)\n",
      "\u001b[K     |████████████████████████████████| 10.6 MB 17.0 MB/s eta 0:00:01\n",
      "\u001b[?25hCollecting keras-preprocessing~=1.1.2\n",
      "  Downloading Keras_Preprocessing-1.1.2-py2.py3-none-any.whl (42 kB)\n",
      "\u001b[K     |████████████████████████████████| 42 kB 2.1 MB/s eta 0:00:01\n",
      "\u001b[?25hRequirement already satisfied: protobuf>=3.9.2 in /opt/conda/lib/python3.8/site-packages (from tensorflow) (3.15.4)\n",
      "Collecting opt-einsum~=3.3.0\n",
      "  Downloading opt_einsum-3.3.0-py3-none-any.whl (65 kB)\n",
      "\u001b[K     |████████████████████████████████| 65 kB 5.5 MB/s  eta 0:00:01\n",
      "\u001b[?25hCollecting absl-py~=0.10\n",
      "  Downloading absl_py-0.12.0-py3-none-any.whl (129 kB)\n",
      "\u001b[K     |████████████████████████████████| 129 kB 23.1 MB/s eta 0:00:01\n",
      "\u001b[?25hCollecting tensorflow-estimator<2.5.0,>=2.4.0\n",
      "  Downloading tensorflow_estimator-2.4.0-py2.py3-none-any.whl (462 kB)\n",
      "\u001b[K     |████████████████████████████████| 462 kB 26.6 MB/s eta 0:00:01\n",
      "\u001b[?25hRequirement already satisfied: six~=1.15.0 in /opt/conda/lib/python3.8/site-packages (from tensorflow) (1.15.0)\n",
      "Collecting gast==0.3.3\n",
      "  Downloading gast-0.3.3-py2.py3-none-any.whl (9.7 kB)\n",
      "Collecting google-pasta~=0.2\n",
      "  Downloading google_pasta-0.2.0-py3-none-any.whl (57 kB)\n",
      "\u001b[K     |████████████████████████████████| 57 kB 3.5 MB/s eta 0:00:01\n",
      "\u001b[?25hCollecting astunparse~=1.6.3\n",
      "  Downloading astunparse-1.6.3-py2.py3-none-any.whl (12 kB)\n",
      "Collecting wrapt~=1.12.1\n",
      "  Downloading wrapt-1.12.1.tar.gz (27 kB)\n",
      "Requirement already satisfied: setuptools>=41.0.0 in /opt/conda/lib/python3.8/site-packages (from tensorboard~=2.4->tensorflow) (49.6.0.post20210108)\n",
      "Collecting tensorboard-plugin-wit>=1.6.0\n",
      "  Downloading tensorboard_plugin_wit-1.8.0-py3-none-any.whl (781 kB)\n",
      "\u001b[K     |████████████████████████████████| 781 kB 27.5 MB/s eta 0:00:01\n",
      "\u001b[?25hCollecting google-auth-oauthlib<0.5,>=0.4.1\n",
      "  Downloading google_auth_oauthlib-0.4.3-py2.py3-none-any.whl (18 kB)\n",
      "Collecting werkzeug>=0.11.15\n",
      "  Downloading Werkzeug-1.0.1-py2.py3-none-any.whl (298 kB)\n",
      "\u001b[K     |████████████████████████████████| 298 kB 4.2 MB/s eta 0:00:01\n",
      "\u001b[?25hCollecting google-auth<2,>=1.6.3\n",
      "  Downloading google_auth-1.27.1-py2.py3-none-any.whl (136 kB)\n",
      "\u001b[K     |████████████████████████████████| 136 kB 29.8 MB/s eta 0:00:01\n",
      "\u001b[?25hCollecting markdown>=2.6.8\n",
      "  Downloading Markdown-3.3.4-py3-none-any.whl (97 kB)\n",
      "\u001b[K     |████████████████████████████████| 97 kB 12.6 MB/s eta 0:00:01\n",
      "\u001b[?25hRequirement already satisfied: requests<3,>=2.21.0 in /opt/conda/lib/python3.8/site-packages (from tensorboard~=2.4->tensorflow) (2.25.1)\n",
      "Collecting rsa<5,>=3.1.4\n",
      "  Downloading rsa-4.7.2-py3-none-any.whl (34 kB)\n",
      "Collecting pyasn1-modules>=0.2.1\n",
      "  Downloading pyasn1_modules-0.2.8-py2.py3-none-any.whl (155 kB)\n",
      "\u001b[K     |████████████████████████████████| 155 kB 29.8 MB/s eta 0:00:01\n",
      "\u001b[?25hCollecting cachetools<5.0,>=2.0.0\n",
      "  Downloading cachetools-4.2.1-py3-none-any.whl (12 kB)\n",
      "Collecting requests-oauthlib>=0.7.0\n",
      "  Downloading requests_oauthlib-1.3.0-py2.py3-none-any.whl (23 kB)\n",
      "Collecting pyasn1<0.5.0,>=0.4.6\n",
      "  Downloading pyasn1-0.4.8-py2.py3-none-any.whl (77 kB)\n",
      "\u001b[K     |████████████████████████████████| 77 kB 9.0 MB/s  eta 0:00:01\n",
      "\u001b[?25hRequirement already satisfied: certifi>=2017.4.17 in /opt/conda/lib/python3.8/site-packages (from requests<3,>=2.21.0->tensorboard~=2.4->tensorflow) (2020.12.5)\n",
      "Requirement already satisfied: idna<3,>=2.5 in /opt/conda/lib/python3.8/site-packages (from requests<3,>=2.21.0->tensorboard~=2.4->tensorflow) (2.10)\n",
      "Requirement already satisfied: urllib3<1.27,>=1.21.1 in /opt/conda/lib/python3.8/site-packages (from requests<3,>=2.21.0->tensorboard~=2.4->tensorflow) (1.26.3)\n",
      "Requirement already satisfied: chardet<5,>=3.0.2 in /opt/conda/lib/python3.8/site-packages (from requests<3,>=2.21.0->tensorboard~=2.4->tensorflow) (4.0.0)\n",
      "Requirement already satisfied: oauthlib>=3.0.0 in /opt/conda/lib/python3.8/site-packages (from requests-oauthlib>=0.7.0->google-auth-oauthlib<0.5,>=0.4.1->tensorboard~=2.4->tensorflow) (3.0.1)\n",
      "Building wheels for collected packages: termcolor, wrapt\n",
      "  Building wheel for termcolor (setup.py) ... \u001b[?25ldone\n",
      "\u001b[?25h  Created wheel for termcolor: filename=termcolor-1.1.0-py3-none-any.whl size=4829 sha256=80262437a5eb80d634411d14f11562d93910a1b43c6af4bc76558ce840466add\n",
      "  Stored in directory: /home/jovyan/.cache/pip/wheels/a0/16/9c/5473df82468f958445479c59e784896fa24f4a5fc024b0f501\n",
      "  Building wheel for wrapt (setup.py) ... \u001b[?25ldone\n",
      "\u001b[?25h  Created wheel for wrapt: filename=wrapt-1.12.1-cp38-cp38-linux_x86_64.whl size=81774 sha256=f472ce30103e66c2f554d333af2cbd95aba8b2261501afbccf02992c47fa0f3f\n",
      "  Stored in directory: /home/jovyan/.cache/pip/wheels/5f/fd/9e/b6cf5890494cb8ef0b5eaff72e5d55a70fb56316007d6dfe73\n",
      "Successfully built termcolor wrapt\n",
      "Installing collected packages: pyasn1, rsa, pyasn1-modules, cachetools, requests-oauthlib, google-auth, werkzeug, tensorboard-plugin-wit, numpy, markdown, grpcio, google-auth-oauthlib, absl-py, wrapt, termcolor, tensorflow-estimator, tensorboard, opt-einsum, keras-preprocessing, h5py, google-pasta, gast, flatbuffers, astunparse, tensorflow\n",
      "  Attempting uninstall: numpy\n",
      "    Found existing installation: numpy 1.20.1\n",
      "    Uninstalling numpy-1.20.1:\n",
      "      Successfully uninstalled numpy-1.20.1\n",
      "  Attempting uninstall: h5py\n",
      "    Found existing installation: h5py 3.1.0\n",
      "    Uninstalling h5py-3.1.0:\n",
      "      Successfully uninstalled h5py-3.1.0\n",
      "Successfully installed absl-py-0.12.0 astunparse-1.6.3 cachetools-4.2.1 flatbuffers-1.12 gast-0.3.3 google-auth-1.27.1 google-auth-oauthlib-0.4.3 google-pasta-0.2.0 grpcio-1.32.0 h5py-2.10.0 keras-preprocessing-1.1.2 markdown-3.3.4 numpy-1.19.5 opt-einsum-3.3.0 pyasn1-0.4.8 pyasn1-modules-0.2.8 requests-oauthlib-1.3.0 rsa-4.7.2 tensorboard-2.4.1 tensorboard-plugin-wit-1.8.0 tensorflow-2.4.1 tensorflow-estimator-2.4.0 termcolor-1.1.0 werkzeug-1.0.1 wrapt-1.12.1\n",
      "Note: you may need to restart the kernel to use updated packages.\n"
     ]
    }
   ],
   "source": [
    "pip install tensorflow"
   ]
  },
  {
   "cell_type": "code",
   "execution_count": 2,
   "metadata": {
    "colab": {},
    "colab_type": "code",
    "id": "MxkJoQBkUIHC"
   },
   "outputs": [],
   "source": [
    "import numpy as np\n",
    "import pandas as pd\n",
    "import tensorflow as tf"
   ]
  },
  {
   "cell_type": "code",
   "execution_count": 3,
   "metadata": {
    "colab": {
     "base_uri": "https://localhost:8080/",
     "height": 34
    },
    "colab_type": "code",
    "id": "ZaTwK7ojXr2F",
    "outputId": "0b27a96d-d11a-43e8-ab4b-87c1f01896fe"
   },
   "outputs": [
    {
     "data": {
      "text/plain": [
       "'2.4.1'"
      ]
     },
     "execution_count": 3,
     "metadata": {},
     "output_type": "execute_result"
    }
   ],
   "source": [
    "tf.__version__"
   ]
  },
  {
   "cell_type": "markdown",
   "metadata": {},
   "source": [
    "### Importar o dataset"
   ]
  },
  {
   "cell_type": "code",
   "execution_count": 4,
   "metadata": {},
   "outputs": [
    {
     "data": {
      "text/html": [
       "<div>\n",
       "<style scoped>\n",
       "    .dataframe tbody tr th:only-of-type {\n",
       "        vertical-align: middle;\n",
       "    }\n",
       "\n",
       "    .dataframe tbody tr th {\n",
       "        vertical-align: top;\n",
       "    }\n",
       "\n",
       "    .dataframe thead th {\n",
       "        text-align: right;\n",
       "    }\n",
       "</style>\n",
       "<table border=\"1\" class=\"dataframe\">\n",
       "  <thead>\n",
       "    <tr style=\"text-align: right;\">\n",
       "      <th></th>\n",
       "      <th>RowNumber</th>\n",
       "      <th>CustomerId</th>\n",
       "      <th>Surname</th>\n",
       "      <th>CreditScore</th>\n",
       "      <th>Geography</th>\n",
       "      <th>Gender</th>\n",
       "      <th>Age</th>\n",
       "      <th>Tenure</th>\n",
       "      <th>Balance</th>\n",
       "      <th>NumOfProducts</th>\n",
       "      <th>HasCrCard</th>\n",
       "      <th>IsActiveMember</th>\n",
       "      <th>EstimatedSalary</th>\n",
       "      <th>Exited</th>\n",
       "    </tr>\n",
       "  </thead>\n",
       "  <tbody>\n",
       "    <tr>\n",
       "      <th>0</th>\n",
       "      <td>1</td>\n",
       "      <td>15634602</td>\n",
       "      <td>Hargrave</td>\n",
       "      <td>619</td>\n",
       "      <td>France</td>\n",
       "      <td>Female</td>\n",
       "      <td>42</td>\n",
       "      <td>2</td>\n",
       "      <td>0.00</td>\n",
       "      <td>1</td>\n",
       "      <td>1</td>\n",
       "      <td>1</td>\n",
       "      <td>101348.88</td>\n",
       "      <td>1</td>\n",
       "    </tr>\n",
       "    <tr>\n",
       "      <th>1</th>\n",
       "      <td>2</td>\n",
       "      <td>15647311</td>\n",
       "      <td>Hill</td>\n",
       "      <td>608</td>\n",
       "      <td>Spain</td>\n",
       "      <td>Female</td>\n",
       "      <td>41</td>\n",
       "      <td>1</td>\n",
       "      <td>83807.86</td>\n",
       "      <td>1</td>\n",
       "      <td>0</td>\n",
       "      <td>1</td>\n",
       "      <td>112542.58</td>\n",
       "      <td>0</td>\n",
       "    </tr>\n",
       "    <tr>\n",
       "      <th>2</th>\n",
       "      <td>3</td>\n",
       "      <td>15619304</td>\n",
       "      <td>Onio</td>\n",
       "      <td>502</td>\n",
       "      <td>France</td>\n",
       "      <td>Female</td>\n",
       "      <td>42</td>\n",
       "      <td>8</td>\n",
       "      <td>159660.80</td>\n",
       "      <td>3</td>\n",
       "      <td>1</td>\n",
       "      <td>0</td>\n",
       "      <td>113931.57</td>\n",
       "      <td>1</td>\n",
       "    </tr>\n",
       "    <tr>\n",
       "      <th>3</th>\n",
       "      <td>4</td>\n",
       "      <td>15701354</td>\n",
       "      <td>Boni</td>\n",
       "      <td>699</td>\n",
       "      <td>France</td>\n",
       "      <td>Female</td>\n",
       "      <td>39</td>\n",
       "      <td>1</td>\n",
       "      <td>0.00</td>\n",
       "      <td>2</td>\n",
       "      <td>0</td>\n",
       "      <td>0</td>\n",
       "      <td>93826.63</td>\n",
       "      <td>0</td>\n",
       "    </tr>\n",
       "    <tr>\n",
       "      <th>4</th>\n",
       "      <td>5</td>\n",
       "      <td>15737888</td>\n",
       "      <td>Mitchell</td>\n",
       "      <td>850</td>\n",
       "      <td>Spain</td>\n",
       "      <td>Female</td>\n",
       "      <td>43</td>\n",
       "      <td>2</td>\n",
       "      <td>125510.82</td>\n",
       "      <td>1</td>\n",
       "      <td>1</td>\n",
       "      <td>1</td>\n",
       "      <td>79084.10</td>\n",
       "      <td>0</td>\n",
       "    </tr>\n",
       "  </tbody>\n",
       "</table>\n",
       "</div>"
      ],
      "text/plain": [
       "   RowNumber  CustomerId   Surname  CreditScore Geography  Gender  Age  \\\n",
       "0          1    15634602  Hargrave          619    France  Female   42   \n",
       "1          2    15647311      Hill          608     Spain  Female   41   \n",
       "2          3    15619304      Onio          502    France  Female   42   \n",
       "3          4    15701354      Boni          699    France  Female   39   \n",
       "4          5    15737888  Mitchell          850     Spain  Female   43   \n",
       "\n",
       "   Tenure    Balance  NumOfProducts  HasCrCard  IsActiveMember  \\\n",
       "0       2       0.00              1          1               1   \n",
       "1       1   83807.86              1          0               1   \n",
       "2       8  159660.80              3          1               0   \n",
       "3       1       0.00              2          0               0   \n",
       "4       2  125510.82              1          1               1   \n",
       "\n",
       "   EstimatedSalary  Exited  \n",
       "0        101348.88       1  \n",
       "1        112542.58       0  \n",
       "2        113931.57       1  \n",
       "3         93826.63       0  \n",
       "4         79084.10       0  "
      ]
     },
     "execution_count": 4,
     "metadata": {},
     "output_type": "execute_result"
    }
   ],
   "source": [
    "dataset = pd.read_csv('Churn_Modelling.csv')\n",
    "dataset.head()"
   ]
  },
  {
   "cell_type": "code",
   "execution_count": 5,
   "metadata": {},
   "outputs": [
    {
     "name": "stdout",
     "output_type": "stream",
     "text": [
      "X >>\n",
      " [[619 'France' 'Female' ... 1 1 101348.88]\n",
      " [608 'Spain' 'Female' ... 0 1 112542.58]\n",
      " [502 'France' 'Female' ... 1 0 113931.57]\n",
      " ...\n",
      " [709 'France' 'Female' ... 0 1 42085.58]\n",
      " [772 'Germany' 'Male' ... 1 0 92888.52]\n",
      " [792 'France' 'Female' ... 1 0 38190.78]]\n",
      "y >>\n",
      " [1 0 1 ... 1 1 0]\n"
     ]
    }
   ],
   "source": [
    "X = dataset.iloc[:, 3:13].values\n",
    "y = dataset.iloc[:, 13].values\n",
    "print(\"X >>\\n\",X)\n",
    "print(\"y >>\\n\",y)"
   ]
  },
  {
   "cell_type": "markdown",
   "metadata": {},
   "source": [
    "### Transformando os dados categóricos\n"
   ]
  },
  {
   "cell_type": "code",
   "execution_count": 6,
   "metadata": {},
   "outputs": [
    {
     "name": "stdout",
     "output_type": "stream",
     "text": [
      "[[619 'France' 0 ... 1 1 101348.88]\n",
      " [608 'Spain' 0 ... 0 1 112542.58]\n",
      " [502 'France' 0 ... 1 0 113931.57]\n",
      " ...\n",
      " [709 'France' 0 ... 0 1 42085.58]\n",
      " [772 'Germany' 1 ... 1 0 92888.52]\n",
      " [792 'France' 0 ... 1 0 38190.78]]\n",
      "[[1.0 0.0 0.0 ... 1 1 101348.88]\n",
      " [0.0 0.0 1.0 ... 0 1 112542.58]\n",
      " [1.0 0.0 0.0 ... 1 0 113931.57]\n",
      " ...\n",
      " [1.0 0.0 0.0 ... 0 1 42085.58]\n",
      " [0.0 1.0 0.0 ... 1 0 92888.52]\n",
      " [1.0 0.0 0.0 ... 1 0 38190.78]]\n"
     ]
    }
   ],
   "source": [
    "# Label Encoding the \"Gender\" column\n",
    "from sklearn.preprocessing import LabelEncoder\n",
    "le = LabelEncoder()\n",
    "X[:, 2] = le.fit_transform(X[:, 2])\n",
    "print(X)\n",
    "# One Hot Encoding the \"Geography\" column\n",
    "from sklearn.compose import ColumnTransformer\n",
    "from sklearn.preprocessing import OneHotEncoder\n",
    "ct = ColumnTransformer(transformers=[('encoder', OneHotEncoder(), [1])], remainder='passthrough')\n",
    "X = np.array(ct.fit_transform(X))\n",
    "print(X)"
   ]
  },
  {
   "cell_type": "markdown",
   "metadata": {},
   "source": [
    "# Dividindo o dataset em conjunto de treinamento e conjunto de teste"
   ]
  },
  {
   "cell_type": "code",
   "execution_count": 7,
   "metadata": {},
   "outputs": [],
   "source": [
    "from sklearn.model_selection import train_test_split\n",
    "X_train, X_test, y_train, y_test = train_test_split(X, y, test_size = 0.2, random_state = 0)"
   ]
  },
  {
   "cell_type": "markdown",
   "metadata": {},
   "source": [
    "# Feature Scaling"
   ]
  },
  {
   "cell_type": "code",
   "execution_count": 8,
   "metadata": {},
   "outputs": [],
   "source": [
    "from sklearn.preprocessing import StandardScaler\n",
    "sc = StandardScaler()\n",
    "X_train = sc.fit_transform(X_train)\n",
    "X_test = sc.transform(X_test)"
   ]
  },
  {
   "cell_type": "code",
   "execution_count": 28,
   "metadata": {},
   "outputs": [
    {
     "data": {
      "text/plain": [
       "(8000, 12)"
      ]
     },
     "execution_count": 28,
     "metadata": {},
     "output_type": "execute_result"
    }
   ],
   "source": [
    "np.shape(X_train)"
   ]
  },
  {
   "cell_type": "markdown",
   "metadata": {},
   "source": [
    "---\n",
    "# Parte 2 -Vamos construir uma ANN!\n"
   ]
  },
  {
   "cell_type": "markdown",
   "metadata": {
    "colab_type": "text",
    "id": "KvdeScabXtlB"
   },
   "source": [
    "### Initializing the ANN"
   ]
  },
  {
   "cell_type": "code",
   "execution_count": 29,
   "metadata": {
    "colab": {},
    "colab_type": "code",
    "id": "3dtrScHxXQox"
   },
   "outputs": [],
   "source": [
    "ann = tf.keras.models.Sequential()"
   ]
  },
  {
   "cell_type": "markdown",
   "metadata": {
    "colab_type": "text",
    "id": "rP6urV6SX7kS"
   },
   "source": [
    "### Adding the input layer and the first hidden layer"
   ]
  },
  {
   "cell_type": "code",
   "execution_count": 30,
   "metadata": {
    "colab": {},
    "colab_type": "code",
    "id": "bppGycBXYCQr"
   },
   "outputs": [],
   "source": [
    "ann.add(tf.keras.layers.Dense(units=6, activation='relu'))"
   ]
  },
  {
   "cell_type": "markdown",
   "metadata": {
    "colab_type": "text",
    "id": "BELWAc_8YJze"
   },
   "source": [
    "### Adding the second hidden layer"
   ]
  },
  {
   "cell_type": "code",
   "execution_count": 31,
   "metadata": {
    "colab": {},
    "colab_type": "code",
    "id": "JneR0u0sYRTd"
   },
   "outputs": [],
   "source": [
    "ann.add(tf.keras.layers.Dense(units=6, activation='relu'))"
   ]
  },
  {
   "cell_type": "code",
   "execution_count": 32,
   "metadata": {},
   "outputs": [],
   "source": [
    "ann.add(tf.keras.layers.Dense(units=6, activation='softmax'))"
   ]
  },
  {
   "cell_type": "code",
   "execution_count": null,
   "metadata": {},
   "outputs": [],
   "source": [
    "ann.add(tf.keras.layers.Dense(units=6, activation='tah'))"
   ]
  },
  {
   "cell_type": "markdown",
   "metadata": {
    "colab_type": "text",
    "id": "OyNEe6RXYcU4"
   },
   "source": [
    "### Adding the output layer"
   ]
  },
  {
   "cell_type": "code",
   "execution_count": 33,
   "metadata": {
    "colab": {},
    "colab_type": "code",
    "id": "Cn3x41RBYfvY"
   },
   "outputs": [],
   "source": [
    "ann.add(tf.keras.layers.Dense(units=1, activation='sigmoid'))"
   ]
  },
  {
   "cell_type": "markdown",
   "metadata": {
    "colab_type": "text",
    "id": "JT4u2S1_Y4WG"
   },
   "source": [
    "## Part 3 - Training the ANN"
   ]
  },
  {
   "cell_type": "markdown",
   "metadata": {
    "colab_type": "text",
    "id": "8GWlJChhY_ZI"
   },
   "source": [
    "### Compiling the ANN"
   ]
  },
  {
   "cell_type": "code",
   "execution_count": 34,
   "metadata": {
    "colab": {},
    "colab_type": "code",
    "id": "fG3RrwDXZEaS"
   },
   "outputs": [],
   "source": [
    "ann.compile(optimizer = 'adam', loss = 'binary_crossentropy', metrics = ['accuracy'])"
   ]
  },
  {
   "cell_type": "markdown",
   "metadata": {
    "colab_type": "text",
    "id": "0QR_G5u7ZLSM"
   },
   "source": [
    "### Training the ANN on the Training set"
   ]
  },
  {
   "cell_type": "code",
   "execution_count": 35,
   "metadata": {
    "colab": {
     "base_uri": "https://localhost:8080/",
     "height": 1000
    },
    "colab_type": "code",
    "id": "nHZ-LKv_ZRb3",
    "outputId": "718cc4b0-b5aa-40f0-9b20-d3d31730a531"
   },
   "outputs": [
    {
     "name": "stdout",
     "output_type": "stream",
     "text": [
      "Epoch 1/100\n",
      "250/250 [==============================] - 0s 979us/step - loss: 0.6622 - accuracy: 0.5670\n",
      "Epoch 2/100\n",
      "250/250 [==============================] - 0s 895us/step - loss: 0.5077 - accuracy: 0.8008\n",
      "Epoch 3/100\n",
      "250/250 [==============================] - 0s 888us/step - loss: 0.4738 - accuracy: 0.8032\n",
      "Epoch 4/100\n",
      "250/250 [==============================] - 0s 910us/step - loss: 0.4514 - accuracy: 0.8070\n",
      "Epoch 5/100\n",
      "250/250 [==============================] - 0s 898us/step - loss: 0.4454 - accuracy: 0.8116\n",
      "Epoch 6/100\n",
      "250/250 [==============================] - 0s 908us/step - loss: 0.4302 - accuracy: 0.8229\n",
      "Epoch 7/100\n",
      "250/250 [==============================] - 0s 932us/step - loss: 0.4313 - accuracy: 0.8237\n",
      "Epoch 8/100\n",
      "250/250 [==============================] - 0s 884us/step - loss: 0.4233 - accuracy: 0.8274\n",
      "Epoch 9/100\n",
      "250/250 [==============================] - 0s 895us/step - loss: 0.4270 - accuracy: 0.8202\n",
      "Epoch 10/100\n",
      "250/250 [==============================] - 0s 883us/step - loss: 0.4214 - accuracy: 0.8214\n",
      "Epoch 11/100\n",
      "250/250 [==============================] - 0s 889us/step - loss: 0.4104 - accuracy: 0.8306\n",
      "Epoch 12/100\n",
      "250/250 [==============================] - 0s 901us/step - loss: 0.4064 - accuracy: 0.8348\n",
      "Epoch 13/100\n",
      "250/250 [==============================] - 0s 987us/step - loss: 0.4143 - accuracy: 0.8293\n",
      "Epoch 14/100\n",
      "250/250 [==============================] - 0s 970us/step - loss: 0.4162 - accuracy: 0.8249\n",
      "Epoch 15/100\n",
      "250/250 [==============================] - 0s 890us/step - loss: 0.4277 - accuracy: 0.8229\n",
      "Epoch 16/100\n",
      "250/250 [==============================] - 0s 884us/step - loss: 0.4148 - accuracy: 0.8302\n",
      "Epoch 17/100\n",
      "250/250 [==============================] - 0s 877us/step - loss: 0.4150 - accuracy: 0.8300\n",
      "Epoch 18/100\n",
      "250/250 [==============================] - 0s 882us/step - loss: 0.4037 - accuracy: 0.8336\n",
      "Epoch 19/100\n",
      "250/250 [==============================] - 0s 886us/step - loss: 0.4116 - accuracy: 0.8318\n",
      "Epoch 20/100\n",
      "250/250 [==============================] - 0s 880us/step - loss: 0.4021 - accuracy: 0.8344\n",
      "Epoch 21/100\n",
      "250/250 [==============================] - 0s 899us/step - loss: 0.3979 - accuracy: 0.8367\n",
      "Epoch 22/100\n",
      "250/250 [==============================] - 0s 891us/step - loss: 0.3985 - accuracy: 0.8364\n",
      "Epoch 23/100\n",
      "250/250 [==============================] - 0s 906us/step - loss: 0.4046 - accuracy: 0.8349\n",
      "Epoch 24/100\n",
      "250/250 [==============================] - 0s 885us/step - loss: 0.3799 - accuracy: 0.8504\n",
      "Epoch 25/100\n",
      "250/250 [==============================] - 0s 886us/step - loss: 0.3909 - accuracy: 0.8373\n",
      "Epoch 26/100\n",
      "250/250 [==============================] - 0s 885us/step - loss: 0.3888 - accuracy: 0.8420\n",
      "Epoch 27/100\n",
      "250/250 [==============================] - 0s 882us/step - loss: 0.3884 - accuracy: 0.8434\n",
      "Epoch 28/100\n",
      "250/250 [==============================] - 0s 887us/step - loss: 0.4003 - accuracy: 0.8377\n",
      "Epoch 29/100\n",
      "250/250 [==============================] - 0s 888us/step - loss: 0.3789 - accuracy: 0.8458\n",
      "Epoch 30/100\n",
      "250/250 [==============================] - 0s 882us/step - loss: 0.3888 - accuracy: 0.8418\n",
      "Epoch 31/100\n",
      "250/250 [==============================] - 0s 899us/step - loss: 0.3786 - accuracy: 0.8494\n",
      "Epoch 32/100\n",
      "250/250 [==============================] - 0s 887us/step - loss: 0.3762 - accuracy: 0.8508\n",
      "Epoch 33/100\n",
      "250/250 [==============================] - 0s 882us/step - loss: 0.3897 - accuracy: 0.8416\n",
      "Epoch 34/100\n",
      "250/250 [==============================] - 0s 881us/step - loss: 0.3667 - accuracy: 0.8522\n",
      "Epoch 35/100\n",
      "250/250 [==============================] - 0s 875us/step - loss: 0.3609 - accuracy: 0.8613\n",
      "Epoch 36/100\n",
      "250/250 [==============================] - 0s 886us/step - loss: 0.3680 - accuracy: 0.8508\n",
      "Epoch 37/100\n",
      "250/250 [==============================] - 0s 897us/step - loss: 0.3635 - accuracy: 0.8554\n",
      "Epoch 38/100\n",
      "250/250 [==============================] - 0s 886us/step - loss: 0.3581 - accuracy: 0.8517\n",
      "Epoch 39/100\n",
      "250/250 [==============================] - 0s 891us/step - loss: 0.3628 - accuracy: 0.8560\n",
      "Epoch 40/100\n",
      "250/250 [==============================] - 0s 889us/step - loss: 0.3650 - accuracy: 0.8525\n",
      "Epoch 41/100\n",
      "250/250 [==============================] - 0s 888us/step - loss: 0.3483 - accuracy: 0.8635\n",
      "Epoch 42/100\n",
      "250/250 [==============================] - 0s 877us/step - loss: 0.3619 - accuracy: 0.8505\n",
      "Epoch 43/100\n",
      "250/250 [==============================] - 0s 880us/step - loss: 0.3523 - accuracy: 0.8588\n",
      "Epoch 44/100\n",
      "250/250 [==============================] - 0s 875us/step - loss: 0.3436 - accuracy: 0.8590\n",
      "Epoch 45/100\n",
      "250/250 [==============================] - 0s 887us/step - loss: 0.3613 - accuracy: 0.8514\n",
      "Epoch 46/100\n",
      "250/250 [==============================] - 0s 890us/step - loss: 0.3525 - accuracy: 0.8580\n",
      "Epoch 47/100\n",
      "250/250 [==============================] - 0s 878us/step - loss: 0.3534 - accuracy: 0.8575\n",
      "Epoch 48/100\n",
      "250/250 [==============================] - 0s 891us/step - loss: 0.3530 - accuracy: 0.8600\n",
      "Epoch 49/100\n",
      "250/250 [==============================] - 0s 894us/step - loss: 0.3540 - accuracy: 0.8547\n",
      "Epoch 50/100\n",
      "250/250 [==============================] - 0s 993us/step - loss: 0.3523 - accuracy: 0.8598\n",
      "Epoch 51/100\n",
      "250/250 [==============================] - 0s 885us/step - loss: 0.3373 - accuracy: 0.8662\n",
      "Epoch 52/100\n",
      "250/250 [==============================] - 0s 900us/step - loss: 0.3343 - accuracy: 0.8641\n",
      "Epoch 53/100\n",
      "250/250 [==============================] - 0s 949us/step - loss: 0.3467 - accuracy: 0.8623\n",
      "Epoch 54/100\n",
      "250/250 [==============================] - 0s 891us/step - loss: 0.3535 - accuracy: 0.8560\n",
      "Epoch 55/100\n",
      "250/250 [==============================] - 0s 888us/step - loss: 0.3376 - accuracy: 0.8681\n",
      "Epoch 56/100\n",
      "250/250 [==============================] - 0s 888us/step - loss: 0.3416 - accuracy: 0.8620\n",
      "Epoch 57/100\n",
      "250/250 [==============================] - 0s 881us/step - loss: 0.3314 - accuracy: 0.8719\n",
      "Epoch 58/100\n",
      "250/250 [==============================] - 0s 881us/step - loss: 0.3361 - accuracy: 0.8638\n",
      "Epoch 59/100\n",
      "250/250 [==============================] - 0s 892us/step - loss: 0.3532 - accuracy: 0.8586\n",
      "Epoch 60/100\n",
      "250/250 [==============================] - 0s 886us/step - loss: 0.3361 - accuracy: 0.8679\n",
      "Epoch 61/100\n",
      "250/250 [==============================] - 0s 882us/step - loss: 0.3458 - accuracy: 0.8603\n",
      "Epoch 62/100\n",
      "250/250 [==============================] - 0s 871us/step - loss: 0.3425 - accuracy: 0.8582\n",
      "Epoch 63/100\n",
      "250/250 [==============================] - 0s 890us/step - loss: 0.3394 - accuracy: 0.8673\n",
      "Epoch 64/100\n",
      "250/250 [==============================] - 0s 892us/step - loss: 0.3438 - accuracy: 0.8670\n",
      "Epoch 65/100\n",
      "250/250 [==============================] - 0s 883us/step - loss: 0.3396 - accuracy: 0.8657\n",
      "Epoch 66/100\n",
      "250/250 [==============================] - 0s 890us/step - loss: 0.3383 - accuracy: 0.8626\n",
      "Epoch 67/100\n",
      "250/250 [==============================] - 0s 871us/step - loss: 0.3345 - accuracy: 0.8636\n",
      "Epoch 68/100\n",
      "250/250 [==============================] - 0s 893us/step - loss: 0.3452 - accuracy: 0.8595\n",
      "Epoch 69/100\n",
      "250/250 [==============================] - 0s 887us/step - loss: 0.3409 - accuracy: 0.8610\n",
      "Epoch 70/100\n",
      "250/250 [==============================] - 0s 871us/step - loss: 0.3376 - accuracy: 0.8681\n",
      "Epoch 71/100\n",
      "250/250 [==============================] - 0s 874us/step - loss: 0.3417 - accuracy: 0.8616\n",
      "Epoch 72/100\n",
      "250/250 [==============================] - 0s 896us/step - loss: 0.3519 - accuracy: 0.8539\n",
      "Epoch 73/100\n",
      "250/250 [==============================] - 0s 879us/step - loss: 0.3355 - accuracy: 0.8673\n",
      "Epoch 74/100\n",
      "250/250 [==============================] - 0s 896us/step - loss: 0.3349 - accuracy: 0.8664\n",
      "Epoch 75/100\n",
      "250/250 [==============================] - 0s 886us/step - loss: 0.3369 - accuracy: 0.8636\n",
      "Epoch 76/100\n",
      "250/250 [==============================] - 0s 881us/step - loss: 0.3524 - accuracy: 0.8559\n",
      "Epoch 77/100\n",
      "250/250 [==============================] - 0s 1ms/step - loss: 0.3327 - accuracy: 0.8668\n",
      "Epoch 78/100\n",
      "250/250 [==============================] - 0s 952us/step - loss: 0.3305 - accuracy: 0.8678\n",
      "Epoch 79/100\n"
     ]
    },
    {
     "name": "stdout",
     "output_type": "stream",
     "text": [
      "250/250 [==============================] - 0s 874us/step - loss: 0.3372 - accuracy: 0.8615\n",
      "Epoch 80/100\n",
      "250/250 [==============================] - 0s 883us/step - loss: 0.3276 - accuracy: 0.8666\n",
      "Epoch 81/100\n",
      "250/250 [==============================] - 0s 909us/step - loss: 0.3374 - accuracy: 0.8644\n",
      "Epoch 82/100\n",
      "250/250 [==============================] - 0s 954us/step - loss: 0.3399 - accuracy: 0.8621\n",
      "Epoch 83/100\n",
      "250/250 [==============================] - 0s 906us/step - loss: 0.3275 - accuracy: 0.8678\n",
      "Epoch 84/100\n",
      "250/250 [==============================] - 0s 880us/step - loss: 0.3485 - accuracy: 0.8587\n",
      "Epoch 85/100\n",
      "250/250 [==============================] - 0s 879us/step - loss: 0.3416 - accuracy: 0.8591\n",
      "Epoch 86/100\n",
      "250/250 [==============================] - 0s 890us/step - loss: 0.3323 - accuracy: 0.8655\n",
      "Epoch 87/100\n",
      "250/250 [==============================] - 0s 877us/step - loss: 0.3377 - accuracy: 0.8575\n",
      "Epoch 88/100\n",
      "250/250 [==============================] - 0s 878us/step - loss: 0.3359 - accuracy: 0.8618\n",
      "Epoch 89/100\n",
      "250/250 [==============================] - 0s 881us/step - loss: 0.3368 - accuracy: 0.8633\n",
      "Epoch 90/100\n",
      "250/250 [==============================] - 0s 894us/step - loss: 0.3574 - accuracy: 0.8521\n",
      "Epoch 91/100\n",
      "250/250 [==============================] - 0s 884us/step - loss: 0.3401 - accuracy: 0.8577\n",
      "Epoch 92/100\n",
      "250/250 [==============================] - 0s 886us/step - loss: 0.3307 - accuracy: 0.8646\n",
      "Epoch 93/100\n",
      "250/250 [==============================] - 0s 893us/step - loss: 0.3402 - accuracy: 0.8580\n",
      "Epoch 94/100\n",
      "250/250 [==============================] - 0s 889us/step - loss: 0.3406 - accuracy: 0.8601\n",
      "Epoch 95/100\n",
      "250/250 [==============================] - 0s 922us/step - loss: 0.3359 - accuracy: 0.8621\n",
      "Epoch 96/100\n",
      "250/250 [==============================] - 0s 881us/step - loss: 0.3434 - accuracy: 0.8603\n",
      "Epoch 97/100\n",
      "250/250 [==============================] - 0s 890us/step - loss: 0.3368 - accuracy: 0.8582\n",
      "Epoch 98/100\n",
      "250/250 [==============================] - 0s 883us/step - loss: 0.3433 - accuracy: 0.8581\n",
      "Epoch 99/100\n",
      "250/250 [==============================] - 0s 898us/step - loss: 0.3309 - accuracy: 0.8611\n",
      "Epoch 100/100\n",
      "250/250 [==============================] - 0s 885us/step - loss: 0.3267 - accuracy: 0.8659\n"
     ]
    },
    {
     "data": {
      "text/plain": [
       "<tensorflow.python.keras.callbacks.History at 0x7f7dc8572070>"
      ]
     },
     "execution_count": 35,
     "metadata": {},
     "output_type": "execute_result"
    }
   ],
   "source": [
    "ann.fit(X_train, y_train, batch_size = 32, epochs = 100)"
   ]
  },
  {
   "cell_type": "markdown",
   "metadata": {},
   "source": [
    "# Parte 3 - Fazendo predições e avaliando o modelo\n",
    "\n",
    "## Prevendo os resultados com o conjunto de testes"
   ]
  },
  {
   "cell_type": "code",
   "execution_count": 36,
   "metadata": {},
   "outputs": [
    {
     "data": {
      "text/plain": [
       "array([[0.24515888],\n",
       "       [0.33670524],\n",
       "       [0.1178062 ],\n",
       "       ...,\n",
       "       [0.1478169 ],\n",
       "       [0.180673  ],\n",
       "       [0.23727572]], dtype=float32)"
      ]
     },
     "execution_count": 36,
     "metadata": {},
     "output_type": "execute_result"
    }
   ],
   "source": [
    "y_pred = ann.predict(X_test)\n",
    "y_pred"
   ]
  },
  {
   "cell_type": "code",
   "execution_count": 37,
   "metadata": {},
   "outputs": [
    {
     "data": {
      "text/plain": [
       "array([[False],\n",
       "       [False],\n",
       "       [False],\n",
       "       ...,\n",
       "       [False],\n",
       "       [False],\n",
       "       [False]])"
      ]
     },
     "execution_count": 37,
     "metadata": {},
     "output_type": "execute_result"
    }
   ],
   "source": [
    "y_pred = (y_pred > 0.5)\n",
    "y_pred"
   ]
  },
  {
   "cell_type": "markdown",
   "metadata": {},
   "source": [
    "# Criando uma Confusion Matrix"
   ]
  },
  {
   "cell_type": "code",
   "execution_count": 38,
   "metadata": {},
   "outputs": [
    {
     "name": "stdout",
     "output_type": "stream",
     "text": [
      "[[1526   69]\n",
      " [ 214  191]]\n"
     ]
    }
   ],
   "source": [
    "from sklearn.metrics import confusion_matrix\n",
    "cm = confusion_matrix(y_test, y_pred)\n",
    "print(cm)"
   ]
  },
  {
   "cell_type": "code",
   "execution_count": 39,
   "metadata": {},
   "outputs": [
    {
     "name": "stdout",
     "output_type": "stream",
     "text": [
      "O modelo teve 85.85000000000001% de acerto\n"
     ]
    }
   ],
   "source": [
    "def printResults(hits,misses):\n",
    "    print(f'O modelo teve {(hits/(misses+hits))*100}% de acerto')\n",
    "\n",
    "printResults(np.trace(cm), np.trace(np.fliplr(cm)))"
   ]
  },
  {
   "cell_type": "markdown",
   "metadata": {},
   "source": [
    "# FIM"
   ]
  },
  {
   "cell_type": "markdown",
   "metadata": {},
   "source": [
    "> Professor Diego Dorgam  \n",
    "> [@diegodorgam](https://twitter.com/diegodorgam)"
   ]
  }
 ],
 "metadata": {
  "kernelspec": {
   "display_name": "Python 3",
   "language": "python",
   "name": "python3"
  },
  "language_info": {
   "codemirror_mode": {
    "name": "ipython",
    "version": 3
   },
   "file_extension": ".py",
   "mimetype": "text/x-python",
   "name": "python",
   "nbconvert_exporter": "python",
   "pygments_lexer": "ipython3",
   "version": "3.8.8"
  }
 },
 "nbformat": 4,
 "nbformat_minor": 4
}
