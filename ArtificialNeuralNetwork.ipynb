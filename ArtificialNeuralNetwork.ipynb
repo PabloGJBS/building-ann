{
 "cells": [
  {
   "cell_type": "markdown",
   "metadata": {},
   "source": [
    "# REDES NEURAIS ARTIFICIAIS\n",
    "\n",
    "[Aula 3 de Deep Learning](http://bit.ly/dn-unb03) da Engenharia de Software da UnB"
   ]
  },
  {
   "cell_type": "markdown",
   "metadata": {},
   "source": [
    "# Parte 1 - Preprocessamento dos Dados"
   ]
  },
  {
   "cell_type": "code",
   "execution_count": 1,
   "metadata": {},
   "outputs": [
    {
     "name": "stdout",
     "output_type": "stream",
     "text": [
      "Eugenio\n"
     ]
    }
   ],
   "source": [
    "# Installing Theano\n",
    "! pip install --upgrade --no-deps git+git://github.com/Theano/Theano.git\n",
    "\n",
    "# Installing Tensorflow\n",
    "! pip install --upgrade tensorflow\n",
    "\n",
    "# Installing Keras\n",
    "! pip install --upgrade keras\n",
    "\n",
    "# Install other packages\n",
    "! pip install --upgrade pip pandas numpy matplotlib sklearn"
   ]
  },
  {
   "cell_type": "markdown",
   "metadata": {},
   "source": [
    "### Importar as libs"
   ]
  },
  {
   "cell_type": "code",
   "execution_count": 6,
   "metadata": {},
   "outputs": [],
   "source": [
    "import numpy as np\n",
    "import matplotlib.pyplot as plt\n",
    "import pandas as pd\n",
    "import warnings\n",
    "warnings.filterwarnings(\"ignore\")"
   ]
  },
  {
   "cell_type": "markdown",
   "metadata": {},
   "source": [
    "### Importar o dataset"
   ]
  },
  {
   "cell_type": "code",
   "execution_count": 7,
   "metadata": {},
   "outputs": [
    {
     "name": "stdout",
     "output_type": "stream",
     "text": [
      "X >>\n",
      " [[619 'France' 'Female' ... 1 1 101348.88]\n",
      " [608 'Spain' 'Female' ... 0 1 112542.58]\n",
      " [502 'France' 'Female' ... 1 0 113931.57]\n",
      " ...\n",
      " [709 'France' 'Female' ... 0 1 42085.58]\n",
      " [772 'Germany' 'Male' ... 1 0 92888.52]\n",
      " [792 'France' 'Female' ... 1 0 38190.78]]\n",
      "y >>\n",
      " [1 0 1 ... 1 1 0]\n"
     ]
    }
   ],
   "source": [
    "dataset = pd.read_csv('Churn_Modelling.csv')\n",
    "X = dataset.iloc[:, 3:13].values\n",
    "y = dataset.iloc[:, 13].values\n",
    "print(\"X >>\\n\",X)\n",
    "print(\"y >>\\n\",y)"
   ]
  },
  {
   "cell_type": "markdown",
   "metadata": {},
   "source": [
    "### Transformando os dados categóricos\n"
   ]
  },
  {
   "cell_type": "code",
   "execution_count": 8,
   "metadata": {},
   "outputs": [
    {
     "name": "stdout",
     "output_type": "stream",
     "text": [
      "X >>\n",
      " [[0.0000000e+00 0.0000000e+00 6.1900000e+02 ... 1.0000000e+00\n",
      "  1.0000000e+00 1.0134888e+05]\n",
      " [0.0000000e+00 1.0000000e+00 6.0800000e+02 ... 0.0000000e+00\n",
      "  1.0000000e+00 1.1254258e+05]\n",
      " [0.0000000e+00 0.0000000e+00 5.0200000e+02 ... 1.0000000e+00\n",
      "  0.0000000e+00 1.1393157e+05]\n",
      " ...\n",
      " [0.0000000e+00 0.0000000e+00 7.0900000e+02 ... 0.0000000e+00\n",
      "  1.0000000e+00 4.2085580e+04]\n",
      " [1.0000000e+00 0.0000000e+00 7.7200000e+02 ... 1.0000000e+00\n",
      "  0.0000000e+00 9.2888520e+04]\n",
      " [0.0000000e+00 0.0000000e+00 7.9200000e+02 ... 1.0000000e+00\n",
      "  0.0000000e+00 3.8190780e+04]]\n"
     ]
    }
   ],
   "source": [
    "from sklearn.preprocessing import LabelEncoder, OneHotEncoder\n",
    "labelencoder_X_1 = LabelEncoder()\n",
    "X[:, 1] = labelencoder_X_1.fit_transform(X[:, 1])\n",
    "labelencoder_X_2 = LabelEncoder()\n",
    "X[:, 2] = labelencoder_X_2.fit_transform(X[:, 2])\n",
    "onehotencoder = OneHotEncoder(categorical_features = [1])\n",
    "X = onehotencoder.fit_transform(X).toarray()\n",
    "X = X[:, 1:]\n",
    "print(\"X >>\\n\",X)"
   ]
  },
  {
   "cell_type": "markdown",
   "metadata": {},
   "source": [
    "# Dividindo o dataset em conjunto de treinamento e conjunto de teste"
   ]
  },
  {
   "cell_type": "code",
   "execution_count": 9,
   "metadata": {},
   "outputs": [],
   "source": [
    "from sklearn.model_selection import train_test_split\n",
    "X_train, X_test, y_train, y_test = train_test_split(X, y, test_size = 0.2, random_state = 0)"
   ]
  },
  {
   "cell_type": "markdown",
   "metadata": {},
   "source": [
    "# Feature Scaling"
   ]
  },
  {
   "cell_type": "code",
   "execution_count": 10,
   "metadata": {},
   "outputs": [],
   "source": [
    "from sklearn.preprocessing import StandardScaler\n",
    "sc = StandardScaler()\n",
    "X_train = sc.fit_transform(X_train)\n",
    "X_test = sc.transform(X_test)"
   ]
  },
  {
   "cell_type": "markdown",
   "metadata": {},
   "source": [
    "---\n",
    "# Parte 2 -Vamos construir uma ANN!\n",
    "\n",
    "## Importando o Keras\n"
   ]
  },
  {
   "cell_type": "code",
   "execution_count": 16,
   "metadata": {},
   "outputs": [
    {
     "name": "stderr",
     "output_type": "stream",
     "text": [
      "Using TensorFlow backend.\n"
     ]
    }
   ],
   "source": [
    "import keras\n",
    "from keras.models import Sequential\n",
    "from keras.layers import Dense"
   ]
  },
  {
   "cell_type": "code",
   "execution_count": 17,
   "metadata": {},
   "outputs": [],
   "source": [
    "# Initialising the ANN\n",
    "classifier = Sequential()\n",
    "\n",
    "# Adding the input layer and the first hidden layer\n",
    "classifier.add(Dense(units = 6, kernel_initializer = 'uniform', activation = 'relu', input_dim = 11))\n",
    "\n",
    "# Adding the second hidden layer\n",
    "classifier.add(Dense(units = 6, kernel_initializer = 'uniform', activation = 'relu'))\n",
    "\n",
    "# Adding the output layer\n",
    "classifier.add(Dense(units = 1, kernel_initializer = 'uniform', activation = 'tanh'))\n",
    "\n",
    "# Compiling the ANN\n",
    "classifier.compile(optimizer = 'adam', loss = 'binary_crossentropy', metrics = ['accuracy'])"
   ]
  },
  {
   "cell_type": "markdown",
   "metadata": {},
   "source": [
    "# Ajustando a ANN ao conjunto de treinamento"
   ]
  },
  {
   "cell_type": "code",
   "execution_count": 47,
   "metadata": {},
   "outputs": [
    {
     "name": "stdout",
     "output_type": "stream",
     "text": [
      "Epoch 1/100\n",
      "8000/8000 [==============================] - 2s 236us/step - loss: 3.1467 - accuracy: 0.7960\n",
      "Epoch 2/100\n",
      "8000/8000 [==============================] - 2s 218us/step - loss: 3.1467 - accuracy: 0.7960\n",
      "Epoch 3/100\n",
      "8000/8000 [==============================] - 1s 175us/step - loss: 3.1467 - accuracy: 0.7960\n",
      "Epoch 4/100\n",
      "8000/8000 [==============================] - 1s 181us/step - loss: 3.1467 - accuracy: 0.7960\n",
      "Epoch 5/100\n",
      "8000/8000 [==============================] - 2s 189us/step - loss: 3.1467 - accuracy: 0.7960\n",
      "Epoch 6/100\n",
      "8000/8000 [==============================] - 2s 249us/step - loss: 3.1467 - accuracy: 0.7960\n",
      "Epoch 7/100\n",
      "8000/8000 [==============================] - 1s 176us/step - loss: 3.1467 - accuracy: 0.7960\n",
      "Epoch 8/100\n",
      "8000/8000 [==============================] - 2s 188us/step - loss: 3.1467 - accuracy: 0.7960\n",
      "Epoch 9/100\n",
      "8000/8000 [==============================] - 1s 183us/step - loss: 3.1467 - accuracy: 0.7960\n",
      "Epoch 10/100\n",
      "8000/8000 [==============================] - 1s 176us/step - loss: 3.1467 - accuracy: 0.7960\n",
      "Epoch 11/100\n",
      "8000/8000 [==============================] - 2s 200us/step - loss: 3.1467 - accuracy: 0.7960\n",
      "Epoch 12/100\n",
      "8000/8000 [==============================] - 2s 231us/step - loss: 3.1467 - accuracy: 0.7960\n",
      "Epoch 13/100\n",
      "8000/8000 [==============================] - 2s 195us/step - loss: 3.1467 - accuracy: 0.7960\n",
      "Epoch 14/100\n",
      "8000/8000 [==============================] - 2s 253us/step - loss: 3.1467 - accuracy: 0.7960\n",
      "Epoch 15/100\n",
      "8000/8000 [==============================] - 2s 252us/step - loss: 3.1467 - accuracy: 0.7960\n",
      "Epoch 16/100\n",
      "8000/8000 [==============================] - 2s 193us/step - loss: 3.1467 - accuracy: 0.7960\n",
      "Epoch 17/100\n",
      "8000/8000 [==============================] - 2s 191us/step - loss: 3.1467 - accuracy: 0.7960\n",
      "Epoch 18/100\n",
      "8000/8000 [==============================] - 2s 200us/step - loss: 3.1467 - accuracy: 0.7960\n",
      "Epoch 19/100\n",
      "8000/8000 [==============================] - 2s 214us/step - loss: 3.1467 - accuracy: 0.7960\n",
      "Epoch 20/100\n",
      "8000/8000 [==============================] - 3s 360us/step - loss: 3.1467 - accuracy: 0.7960\n",
      "Epoch 21/100\n",
      "8000/8000 [==============================] - 1s 183us/step - loss: 3.1467 - accuracy: 0.7960\n",
      "Epoch 22/100\n",
      "8000/8000 [==============================] - 1s 179us/step - loss: 3.1467 - accuracy: 0.7960\n",
      "Epoch 23/100\n",
      "8000/8000 [==============================] - 1s 184us/step - loss: 3.1467 - accuracy: 0.7960\n",
      "Epoch 24/100\n",
      "8000/8000 [==============================] - 2s 191us/step - loss: 3.1467 - accuracy: 0.7960\n",
      "Epoch 25/100\n",
      "8000/8000 [==============================] - 1s 174us/step - loss: 3.1467 - accuracy: 0.7960\n",
      "Epoch 26/100\n",
      "8000/8000 [==============================] - 1s 167us/step - loss: 3.1467 - accuracy: 0.7960\n",
      "Epoch 27/100\n",
      "8000/8000 [==============================] - 1s 127us/step - loss: 3.1467 - accuracy: 0.7960\n",
      "Epoch 28/100\n",
      "8000/8000 [==============================] - 1s 124us/step - loss: 3.1467 - accuracy: 0.7960\n",
      "Epoch 29/100\n",
      "8000/8000 [==============================] - 1s 147us/step - loss: 3.1467 - accuracy: 0.7960\n",
      "Epoch 30/100\n",
      "8000/8000 [==============================] - 2s 200us/step - loss: 3.1467 - accuracy: 0.7960\n",
      "Epoch 31/100\n",
      "8000/8000 [==============================] - 1s 139us/step - loss: 3.1467 - accuracy: 0.7960\n",
      "Epoch 32/100\n",
      "8000/8000 [==============================] - 2s 250us/step - loss: 3.1467 - accuracy: 0.7960\n",
      "Epoch 33/100\n",
      "8000/8000 [==============================] - 1s 162us/step - loss: 3.1467 - accuracy: 0.7960\n",
      "Epoch 34/100\n",
      "8000/8000 [==============================] - 1s 140us/step - loss: 3.1467 - accuracy: 0.7960\n",
      "Epoch 35/100\n",
      "8000/8000 [==============================] - 2s 261us/step - loss: 3.1467 - accuracy: 0.7960\n",
      "Epoch 36/100\n",
      "8000/8000 [==============================] - 2s 204us/step - loss: 3.1467 - accuracy: 0.7960\n",
      "Epoch 37/100\n",
      "8000/8000 [==============================] - 2s 212us/step - loss: 3.1467 - accuracy: 0.7960\n",
      "Epoch 38/100\n",
      "8000/8000 [==============================] - 1s 136us/step - loss: 3.1467 - accuracy: 0.7960\n",
      "Epoch 39/100\n",
      "8000/8000 [==============================] - 1s 124us/step - loss: 3.1467 - accuracy: 0.7960\n",
      "Epoch 40/100\n",
      "8000/8000 [==============================] - 2s 246us/step - loss: 3.1467 - accuracy: 0.7960\n",
      "Epoch 41/100\n",
      "8000/8000 [==============================] - 1s 173us/step - loss: 3.1467 - accuracy: 0.7960\n",
      "Epoch 42/100\n",
      "8000/8000 [==============================] - 1s 124us/step - loss: 3.1467 - accuracy: 0.7960\n",
      "Epoch 43/100\n",
      "8000/8000 [==============================] - 1s 180us/step - loss: 3.1467 - accuracy: 0.7960\n",
      "Epoch 44/100\n",
      "8000/8000 [==============================] - 2s 195us/step - loss: 3.1467 - accuracy: 0.7960\n",
      "Epoch 45/100\n",
      "8000/8000 [==============================] - 2s 292us/step - loss: 3.1467 - accuracy: 0.7960\n",
      "Epoch 46/100\n",
      "8000/8000 [==============================] - 2s 212us/step - loss: 3.1467 - accuracy: 0.7960\n",
      "Epoch 47/100\n",
      "8000/8000 [==============================] - 2s 222us/step - loss: 3.1467 - accuracy: 0.7960\n",
      "Epoch 48/100\n",
      "8000/8000 [==============================] - 2s 197us/step - loss: 3.1467 - accuracy: 0.7960\n",
      "Epoch 49/100\n",
      "8000/8000 [==============================] - 1s 120us/step - loss: 3.1467 - accuracy: 0.7960\n",
      "Epoch 50/100\n",
      "8000/8000 [==============================] - 1s 157us/step - loss: 3.1467 - accuracy: 0.7960\n",
      "Epoch 51/100\n",
      "8000/8000 [==============================] - 1s 143us/step - loss: 3.1467 - accuracy: 0.7960\n",
      "Epoch 52/100\n",
      "8000/8000 [==============================] - 1s 124us/step - loss: 3.1467 - accuracy: 0.7960\n",
      "Epoch 53/100\n",
      "8000/8000 [==============================] - 1s 172us/step - loss: 3.1467 - accuracy: 0.7960\n",
      "Epoch 54/100\n",
      "8000/8000 [==============================] - 1s 120us/step - loss: 3.1467 - accuracy: 0.7960\n",
      "Epoch 55/100\n",
      "8000/8000 [==============================] - 1s 161us/step - loss: 3.1467 - accuracy: 0.7960\n",
      "Epoch 56/100\n",
      "8000/8000 [==============================] - 1s 142us/step - loss: 3.1467 - accuracy: 0.7960\n",
      "Epoch 57/100\n",
      "8000/8000 [==============================] - 2s 194us/step - loss: 3.1467 - accuracy: 0.7960\n",
      "Epoch 58/100\n",
      "8000/8000 [==============================] - 1s 120us/step - loss: 3.1467 - accuracy: 0.7960\n",
      "Epoch 59/100\n",
      "8000/8000 [==============================] - 1s 174us/step - loss: 3.1467 - accuracy: 0.7960\n",
      "Epoch 60/100\n",
      "8000/8000 [==============================] - 2s 228us/step - loss: 3.1467 - accuracy: 0.7960\n",
      "Epoch 61/100\n",
      "8000/8000 [==============================] - 2s 205us/step - loss: 3.1467 - accuracy: 0.7960\n",
      "Epoch 62/100\n",
      "8000/8000 [==============================] - 2s 221us/step - loss: 3.1467 - accuracy: 0.7960\n",
      "Epoch 63/100\n",
      "8000/8000 [==============================] - 2s 216us/step - loss: 3.1467 - accuracy: 0.7960\n",
      "Epoch 64/100\n",
      "8000/8000 [==============================] - 2s 226us/step - loss: 3.1467 - accuracy: 0.7960\n",
      "Epoch 65/100\n",
      "8000/8000 [==============================] - 1s 174us/step - loss: 3.1467 - accuracy: 0.7960\n",
      "Epoch 66/100\n",
      "8000/8000 [==============================] - 1s 175us/step - loss: 3.1467 - accuracy: 0.7960\n",
      "Epoch 67/100\n",
      "8000/8000 [==============================] - 1s 180us/step - loss: 3.1467 - accuracy: 0.7960\n",
      "Epoch 68/100\n",
      "8000/8000 [==============================] - 1s 172us/step - loss: 3.1467 - accuracy: 0.7960\n",
      "Epoch 69/100\n",
      "8000/8000 [==============================] - 1s 171us/step - loss: 3.1467 - accuracy: 0.7960\n",
      "Epoch 70/100\n",
      "8000/8000 [==============================] - 2s 218us/step - loss: 3.1467 - accuracy: 0.7960\n",
      "Epoch 71/100\n",
      "8000/8000 [==============================] - 1s 178us/step - loss: 3.1467 - accuracy: 0.7960\n",
      "Epoch 72/100\n",
      "8000/8000 [==============================] - 1s 176us/step - loss: 3.1467 - accuracy: 0.7960\n",
      "Epoch 73/100\n",
      "8000/8000 [==============================] - 1s 172us/step - loss: 3.1467 - accuracy: 0.7960\n",
      "Epoch 74/100\n",
      "8000/8000 [==============================] - 1s 178us/step - loss: 3.1467 - accuracy: 0.7960\n",
      "Epoch 75/100\n",
      "8000/8000 [==============================] - 2s 191us/step - loss: 3.1467 - accuracy: 0.7960\n",
      "Epoch 76/100\n",
      "8000/8000 [==============================] - 1s 179us/step - loss: 3.1467 - accuracy: 0.7960\n",
      "Epoch 77/100\n",
      "8000/8000 [==============================] - 1s 172us/step - loss: 3.1467 - accuracy: 0.7960\n",
      "Epoch 78/100\n",
      "8000/8000 [==============================] - 1s 159us/step - loss: 3.1467 - accuracy: 0.7960\n",
      "Epoch 79/100\n",
      "8000/8000 [==============================] - 2s 220us/step - loss: 3.1467 - accuracy: 0.7960\n",
      "Epoch 80/100\n",
      "8000/8000 [==============================] - 1s 163us/step - loss: 3.1467 - accuracy: 0.7960\n",
      "Epoch 81/100\n",
      "8000/8000 [==============================] - 1s 168us/step - loss: 3.1467 - accuracy: 0.7960\n",
      "Epoch 82/100\n",
      "8000/8000 [==============================] - 1s 163us/step - loss: 3.1467 - accuracy: 0.7960\n",
      "Epoch 83/100\n",
      "8000/8000 [==============================] - 1s 157us/step - loss: 3.1467 - accuracy: 0.7960\n",
      "Epoch 84/100\n",
      "8000/8000 [==============================] - 1s 159us/step - loss: 3.1467 - accuracy: 0.7960\n",
      "Epoch 85/100\n",
      "8000/8000 [==============================] - 1s 163us/step - loss: 3.1467 - accuracy: 0.7960\n",
      "Epoch 86/100\n",
      "8000/8000 [==============================] - 2s 265us/step - loss: 3.1467 - accuracy: 0.7960\n",
      "Epoch 87/100\n",
      "8000/8000 [==============================] - 2s 226us/step - loss: 3.1467 - accuracy: 0.7960\n",
      "Epoch 88/100\n",
      "8000/8000 [==============================] - 2s 282us/step - loss: 3.1467 - accuracy: 0.7960\n",
      "Epoch 89/100\n",
      "8000/8000 [==============================] - 3s 424us/step - loss: 3.1467 - accuracy: 0.7960\n",
      "Epoch 90/100\n",
      "8000/8000 [==============================] - 1s 187us/step - loss: 3.1467 - accuracy: 0.7960\n",
      "Epoch 91/100\n",
      "8000/8000 [==============================] - 1s 171us/step - loss: 3.1467 - accuracy: 0.7960\n",
      "Epoch 92/100\n",
      "8000/8000 [==============================] - 1s 168us/step - loss: 3.1467 - accuracy: 0.7960\n",
      "Epoch 93/100\n",
      "8000/8000 [==============================] - 1s 163us/step - loss: 3.1467 - accuracy: 0.7960\n",
      "Epoch 94/100\n",
      "8000/8000 [==============================] - 2s 198us/step - loss: 3.1467 - accuracy: 0.7960\n",
      "Epoch 95/100\n",
      "8000/8000 [==============================] - 1s 183us/step - loss: 3.1467 - accuracy: 0.7960\n",
      "Epoch 96/100\n",
      "8000/8000 [==============================] - 1s 164us/step - loss: 3.1467 - accuracy: 0.7960\n",
      "Epoch 97/100\n",
      "8000/8000 [==============================] - 1s 170us/step - loss: 3.1467 - accuracy: 0.7960\n",
      "Epoch 98/100\n",
      "8000/8000 [==============================] - 1s 164us/step - loss: 3.1467 - accuracy: 0.7960\n",
      "Epoch 99/100\n",
      "8000/8000 [==============================] - 1s 165us/step - loss: 3.1467 - accuracy: 0.7960\n",
      "Epoch 100/100\n",
      "8000/8000 [==============================] - 1s 172us/step - loss: 3.1467 - accuracy: 0.7960\n"
     ]
    },
    {
     "data": {
      "text/plain": [
       "<keras.callbacks.callbacks.History at 0x7ff4ea731d30>"
      ]
     },
     "execution_count": 47,
     "metadata": {},
     "output_type": "execute_result"
    }
   ],
   "source": [
    "classifier.fit(X_train, y_train, batch_size = 10, epochs = 100)"
   ]
  },
  {
   "cell_type": "markdown",
   "metadata": {},
   "source": [
    "# Parte 3 - Fazendo predições e avaliando o modelo\n",
    "\n",
    "## Prevendo os resultados com o conjunto de testes"
   ]
  },
  {
   "cell_type": "code",
   "execution_count": 18,
   "metadata": {},
   "outputs": [
    {
     "name": "stdout",
     "output_type": "stream",
     "text": [
      "WARNING:tensorflow:From /home/eugenio/anaconda3/lib/python3.7/site-packages/keras/backend/tensorflow_backend.py:422: The name tf.global_variables is deprecated. Please use tf.compat.v1.global_variables instead.\n",
      "\n"
     ]
    }
   ],
   "source": [
    "y_pred = classifier.predict(X_test)\n",
    "y_pred = (y_pred > 0.5)"
   ]
  },
  {
   "cell_type": "markdown",
   "metadata": {},
   "source": [
    "# Criando uma Confusion Matrix"
   ]
  },
  {
   "cell_type": "code",
   "execution_count": 19,
   "metadata": {},
   "outputs": [
    {
     "name": "stdout",
     "output_type": "stream",
     "text": [
      "[[1595    0]\n",
      " [ 405    0]]\n"
     ]
    }
   ],
   "source": [
    "from sklearn.metrics import confusion_matrix\n",
    "cm = confusion_matrix(y_test, y_pred)\n",
    "print(cm)"
   ]
  },
  {
   "cell_type": "markdown",
   "metadata": {},
   "source": [
    "# Accuracy of Tanh"
   ]
  },
  {
   "cell_type": "code",
   "execution_count": 20,
   "metadata": {
    "scrolled": true
   },
   "outputs": [
    {
     "name": "stdout",
     "output_type": "stream",
     "text": [
      "Accuracy of tanh as activation function: 0.7975\n"
     ]
    }
   ],
   "source": [
    "from sklearn.metrics import accuracy_score\n",
    "accuracy = accuracy_score(y_test, y_pred)\n",
    "print('Accuracy of tanh as activation function: {}'.format(accuracy))"
   ]
  },
  {
   "cell_type": "markdown",
   "metadata": {},
   "source": [
    "# Initiate activation function experimentation\n",
    "\n",
    "# Initialising the 2nd ANN"
   ]
  },
  {
   "cell_type": "code",
   "execution_count": 53,
   "metadata": {},
   "outputs": [
    {
     "name": "stdout",
     "output_type": "stream",
     "text": [
      "Epoch 1/100\n",
      "8000/8000 [==============================] - 2s 225us/step - loss: 0.5242 - accuracy: 0.7995\n",
      "Epoch 2/100\n",
      "8000/8000 [==============================] - 1s 185us/step - loss: 0.4189 - accuracy: 0.8104\n",
      "Epoch 3/100\n",
      "8000/8000 [==============================] - 2s 207us/step - loss: 0.4016 - accuracy: 0.8150\n",
      "Epoch 4/100\n",
      "8000/8000 [==============================] - 1s 175us/step - loss: 0.3918 - accuracy: 0.8254\n",
      "Epoch 5/100\n",
      "8000/8000 [==============================] - 1s 175us/step - loss: 0.3854 - accuracy: 0.8317\n",
      "Epoch 6/100\n",
      "8000/8000 [==============================] - 1s 175us/step - loss: 0.3755 - accuracy: 0.8356\n",
      "Epoch 7/100\n",
      "8000/8000 [==============================] - 1s 178us/step - loss: 0.3733 - accuracy: 0.8415\n",
      "Epoch 8/100\n",
      "8000/8000 [==============================] - 1s 186us/step - loss: 0.3735 - accuracy: 0.8422\n",
      "Epoch 9/100\n",
      "8000/8000 [==============================] - 1s 182us/step - loss: 0.3737 - accuracy: 0.8406\n",
      "Epoch 10/100\n",
      "8000/8000 [==============================] - 1s 178us/step - loss: 0.3736 - accuracy: 0.8400\n",
      "Epoch 11/100\n",
      "8000/8000 [==============================] - 1s 184us/step - loss: 0.3694 - accuracy: 0.8399\n",
      "Epoch 12/100\n",
      "8000/8000 [==============================] - 1s 186us/step - loss: 0.3686 - accuracy: 0.8421\n",
      "Epoch 13/100\n",
      "8000/8000 [==============================] - 2s 190us/step - loss: 0.3663 - accuracy: 0.8428\n",
      "Epoch 14/100\n",
      "8000/8000 [==============================] - 1s 183us/step - loss: 0.3693 - accuracy: 0.8445\n",
      "Epoch 15/100\n",
      "8000/8000 [==============================] - 1s 184us/step - loss: 0.3649 - accuracy: 0.8459\n",
      "Epoch 16/100\n",
      "8000/8000 [==============================] - 1s 185us/step - loss: 0.3674 - accuracy: 0.8464\n",
      "Epoch 17/100\n",
      "8000/8000 [==============================] - 2s 188us/step - loss: 0.3671 - accuracy: 0.8486\n",
      "Epoch 18/100\n",
      "8000/8000 [==============================] - 2s 189us/step - loss: 0.3633 - accuracy: 0.8491\n",
      "Epoch 19/100\n",
      "8000/8000 [==============================] - 2s 188us/step - loss: 0.3634 - accuracy: 0.8459\n",
      "Epoch 20/100\n",
      "8000/8000 [==============================] - 2s 191us/step - loss: 0.3636 - accuracy: 0.8474\n",
      "Epoch 21/100\n",
      "8000/8000 [==============================] - 2s 190us/step - loss: 0.3648 - accuracy: 0.8476\n",
      "Epoch 22/100\n",
      "8000/8000 [==============================] - 2s 189us/step - loss: 0.3638 - accuracy: 0.8466\n",
      "Epoch 23/100\n",
      "8000/8000 [==============================] - 2s 194us/step - loss: 0.3690 - accuracy: 0.8435\n",
      "Epoch 24/100\n",
      "8000/8000 [==============================] - 2s 188us/step - loss: 0.3620 - accuracy: 0.8471\n",
      "Epoch 25/100\n",
      "8000/8000 [==============================] - 2s 190us/step - loss: 0.3592 - accuracy: 0.8459\n",
      "Epoch 26/100\n",
      "8000/8000 [==============================] - 2s 190us/step - loss: 0.3654 - accuracy: 0.8480\n",
      "Epoch 27/100\n",
      "8000/8000 [==============================] - 2s 192us/step - loss: 0.3645 - accuracy: 0.8464\n",
      "Epoch 28/100\n",
      "8000/8000 [==============================] - 2s 196us/step - loss: 0.3612 - accuracy: 0.8464\n",
      "Epoch 29/100\n",
      "8000/8000 [==============================] - 2s 194us/step - loss: 0.3615 - accuracy: 0.8466\n",
      "Epoch 30/100\n",
      "8000/8000 [==============================] - 2s 266us/step - loss: 0.3629 - accuracy: 0.8470\n",
      "Epoch 31/100\n",
      "8000/8000 [==============================] - 2s 229us/step - loss: 0.3657 - accuracy: 0.8450\n",
      "Epoch 32/100\n",
      "8000/8000 [==============================] - 2s 194us/step - loss: 0.3632 - accuracy: 0.8478\n",
      "Epoch 33/100\n",
      "8000/8000 [==============================] - 2s 201us/step - loss: 0.3618 - accuracy: 0.8474\n",
      "Epoch 34/100\n",
      "8000/8000 [==============================] - 2s 201us/step - loss: 0.3646 - accuracy: 0.8454\n",
      "Epoch 35/100\n",
      "8000/8000 [==============================] - 2s 196us/step - loss: 0.3645 - accuracy: 0.8462\n",
      "Epoch 36/100\n",
      "8000/8000 [==============================] - 2s 201us/step - loss: 0.3625 - accuracy: 0.8445\n",
      "Epoch 37/100\n",
      "8000/8000 [==============================] - 2s 202us/step - loss: 0.3625 - accuracy: 0.8469\n",
      "Epoch 38/100\n",
      "8000/8000 [==============================] - 2s 262us/step - loss: 0.3861 - accuracy: 0.8386\n",
      "Epoch 39/100\n",
      "8000/8000 [==============================] - 2s 242us/step - loss: 0.3643 - accuracy: 0.8418\n",
      "Epoch 40/100\n",
      "8000/8000 [==============================] - 2s 295us/step - loss: 0.3616 - accuracy: 0.8454\n",
      "Epoch 41/100\n",
      "8000/8000 [==============================] - 2s 194us/step - loss: 0.3593 - accuracy: 0.8485\n",
      "Epoch 42/100\n",
      "8000/8000 [==============================] - 2s 189us/step - loss: 0.3593 - accuracy: 0.8460\n",
      "Epoch 43/100\n",
      "8000/8000 [==============================] - 2s 203us/step - loss: 0.3593 - accuracy: 0.8462\n",
      "Epoch 44/100\n",
      "8000/8000 [==============================] - 2s 194us/step - loss: 0.3619 - accuracy: 0.8438\n",
      "Epoch 45/100\n",
      "8000/8000 [==============================] - 3s 330us/step - loss: 0.3603 - accuracy: 0.8453\n",
      "Epoch 46/100\n",
      "8000/8000 [==============================] - 2s 229us/step - loss: 0.3659 - accuracy: 0.8465\n",
      "Epoch 47/100\n",
      "8000/8000 [==============================] - 2s 197us/step - loss: 0.3671 - accuracy: 0.8450\n",
      "Epoch 48/100\n",
      "8000/8000 [==============================] - 1s 181us/step - loss: 0.3628 - accuracy: 0.8464\n",
      "Epoch 49/100\n",
      "8000/8000 [==============================] - 2s 253us/step - loss: 0.3636 - accuracy: 0.8462\n",
      "Epoch 50/100\n",
      "8000/8000 [==============================] - 2s 247us/step - loss: 0.3641 - accuracy: 0.8461\n",
      "Epoch 51/100\n",
      "8000/8000 [==============================] - 3s 324us/step - loss: 0.3641 - accuracy: 0.8451\n",
      "Epoch 52/100\n",
      "8000/8000 [==============================] - 2s 209us/step - loss: 0.3646 - accuracy: 0.8455\n",
      "Epoch 53/100\n",
      "8000/8000 [==============================] - 2s 211us/step - loss: 0.3599 - accuracy: 0.8436\n",
      "Epoch 54/100\n",
      "8000/8000 [==============================] - 2s 215us/step - loss: 0.3649 - accuracy: 0.8462\n",
      "Epoch 55/100\n",
      "8000/8000 [==============================] - 2s 213us/step - loss: 0.3600 - accuracy: 0.8469\n",
      "Epoch 56/100\n",
      "8000/8000 [==============================] - 2s 283us/step - loss: 0.3633 - accuracy: 0.8455\n",
      "Epoch 57/100\n",
      "8000/8000 [==============================] - 2s 206us/step - loss: 0.3634 - accuracy: 0.8432\n",
      "Epoch 58/100\n",
      "8000/8000 [==============================] - 2s 190us/step - loss: 0.3692 - accuracy: 0.8440\n",
      "Epoch 59/100\n",
      "8000/8000 [==============================] - 2s 219us/step - loss: 0.3597 - accuracy: 0.8470\n",
      "Epoch 60/100\n",
      "8000/8000 [==============================] - 2s 193us/step - loss: 0.3591 - accuracy: 0.8474\n",
      "Epoch 61/100\n",
      "8000/8000 [==============================] - 2s 281us/step - loss: 0.3619 - accuracy: 0.8459\n",
      "Epoch 62/100\n",
      "8000/8000 [==============================] - 2s 245us/step - loss: 0.3637 - accuracy: 0.8460\n",
      "Epoch 63/100\n",
      "8000/8000 [==============================] - 2s 215us/step - loss: 0.3620 - accuracy: 0.8475\n",
      "Epoch 64/100\n",
      "8000/8000 [==============================] - 2s 222us/step - loss: 0.3596 - accuracy: 0.8470\n",
      "Epoch 65/100\n",
      "8000/8000 [==============================] - 2s 248us/step - loss: 0.3600 - accuracy: 0.8460\n",
      "Epoch 66/100\n",
      "8000/8000 [==============================] - 2s 221us/step - loss: 0.3612 - accuracy: 0.8455\n",
      "Epoch 67/100\n",
      "8000/8000 [==============================] - 2s 217us/step - loss: 0.3615 - accuracy: 0.8462\n",
      "Epoch 68/100\n",
      "8000/8000 [==============================] - 2s 291us/step - loss: 0.3625 - accuracy: 0.8485\n",
      "Epoch 69/100\n",
      "8000/8000 [==============================] - 2s 214us/step - loss: 0.3637 - accuracy: 0.8455\n",
      "Epoch 70/100\n",
      "8000/8000 [==============================] - 1s 183us/step - loss: 0.3620 - accuracy: 0.8449\n",
      "Epoch 71/100\n",
      "8000/8000 [==============================] - 1s 126us/step - loss: 0.3612 - accuracy: 0.8479\n",
      "Epoch 72/100\n",
      "8000/8000 [==============================] - 1s 126us/step - loss: 0.3638 - accuracy: 0.8459\n",
      "Epoch 73/100\n",
      "8000/8000 [==============================] - 1s 135us/step - loss: 0.3594 - accuracy: 0.8472\n",
      "Epoch 74/100\n",
      "8000/8000 [==============================] - 1s 152us/step - loss: 0.3623 - accuracy: 0.8447\n",
      "Epoch 75/100\n",
      "8000/8000 [==============================] - 2s 292us/step - loss: 0.3585 - accuracy: 0.8451\n",
      "Epoch 76/100\n",
      "8000/8000 [==============================] - 1s 148us/step - loss: 0.3588 - accuracy: 0.8449\n",
      "Epoch 77/100\n",
      "8000/8000 [==============================] - 1s 174us/step - loss: 0.3579 - accuracy: 0.8453\n",
      "Epoch 78/100\n",
      "8000/8000 [==============================] - 1s 184us/step - loss: 0.3608 - accuracy: 0.8469\n",
      "Epoch 79/100\n",
      "8000/8000 [==============================] - 1s 121us/step - loss: 0.3629 - accuracy: 0.8464\n",
      "Epoch 80/100\n",
      "8000/8000 [==============================] - 1s 161us/step - loss: 0.3579 - accuracy: 0.8455\n",
      "Epoch 81/100\n",
      "8000/8000 [==============================] - 2s 197us/step - loss: 0.3586 - accuracy: 0.8478\n",
      "Epoch 82/100\n",
      "8000/8000 [==============================] - 1s 183us/step - loss: 0.3615 - accuracy: 0.8461\n",
      "Epoch 83/100\n",
      "8000/8000 [==============================] - 2s 203us/step - loss: 0.3612 - accuracy: 0.8462\n",
      "Epoch 84/100\n",
      "8000/8000 [==============================] - 2s 246us/step - loss: 0.3574 - accuracy: 0.8489\n",
      "Epoch 85/100\n",
      "8000/8000 [==============================] - 3s 393us/step - loss: 0.3627 - accuracy: 0.8464\n",
      "Epoch 86/100\n",
      "8000/8000 [==============================] - 2s 282us/step - loss: 0.3623 - accuracy: 0.8449\n",
      "Epoch 87/100\n",
      "8000/8000 [==============================] - 2s 225us/step - loss: 0.3629 - accuracy: 0.8462\n",
      "Epoch 88/100\n",
      "8000/8000 [==============================] - 1s 181us/step - loss: 0.3592 - accuracy: 0.8454\n",
      "Epoch 89/100\n",
      "8000/8000 [==============================] - 2s 200us/step - loss: 0.3610 - accuracy: 0.8460\n",
      "Epoch 90/100\n",
      "8000/8000 [==============================] - 2s 243us/step - loss: 0.3587 - accuracy: 0.8468\n",
      "Epoch 91/100\n",
      "8000/8000 [==============================] - 2s 209us/step - loss: 0.3592 - accuracy: 0.8478\n",
      "Epoch 92/100\n",
      "8000/8000 [==============================] - 1s 185us/step - loss: 0.3642 - accuracy: 0.8456\n",
      "Epoch 93/100\n",
      "8000/8000 [==============================] - 1s 167us/step - loss: 0.3591 - accuracy: 0.8445\n",
      "Epoch 94/100\n",
      "8000/8000 [==============================] - 1s 169us/step - loss: 0.3589 - accuracy: 0.8472\n",
      "Epoch 95/100\n",
      "8000/8000 [==============================] - 1s 168us/step - loss: 0.3610 - accuracy: 0.8462\n",
      "Epoch 96/100\n",
      "8000/8000 [==============================] - 1s 177us/step - loss: 0.3605 - accuracy: 0.8436\n",
      "Epoch 97/100\n",
      "8000/8000 [==============================] - 2s 212us/step - loss: 0.3588 - accuracy: 0.8457\n",
      "Epoch 98/100\n",
      "8000/8000 [==============================] - 1s 177us/step - loss: 0.3577 - accuracy: 0.8470\n",
      "Epoch 99/100\n",
      "8000/8000 [==============================] - 2s 225us/step - loss: 0.3592 - accuracy: 0.8446\n",
      "Epoch 100/100\n",
      "8000/8000 [==============================] - 1s 175us/step - loss: 0.3562 - accuracy: 0.8482\n"
     ]
    },
    {
     "data": {
      "text/plain": [
       "<keras.callbacks.callbacks.History at 0x7ff47adb4f98>"
      ]
     },
     "execution_count": 53,
     "metadata": {},
     "output_type": "execute_result"
    }
   ],
   "source": [
    "del classifier\n",
    "\n",
    "classifier = Sequential()\n",
    "\n",
    "classifier.add(Dense(units = 6, kernel_initializer = 'uniform', activation = 'relu', input_dim = 11))\n",
    "\n",
    "classifier.add(Dense(units = 6, kernel_initializer = 'uniform', activation = 'relu'))\n",
    "\n",
    "classifier.add(Dense(units = 1, kernel_initializer = 'uniform', activation = 'elu'))\n",
    "\n",
    "classifier.compile(optimizer = 'adam', loss = 'binary_crossentropy', metrics = ['accuracy'])\n",
    "\n",
    "classifier.fit(X_train, y_train, batch_size = 10, epochs = 100)"
   ]
  },
  {
   "cell_type": "code",
   "execution_count": 21,
   "metadata": {},
   "outputs": [],
   "source": [
    "y_pred = classifier.predict(X_test)\n",
    "y_pred = (y_pred > 0.5)"
   ]
  },
  {
   "cell_type": "markdown",
   "metadata": {},
   "source": [
    "# Making the Confusion Matrix"
   ]
  },
  {
   "cell_type": "code",
   "execution_count": 22,
   "metadata": {
    "scrolled": false
   },
   "outputs": [
    {
     "name": "stdout",
     "output_type": "stream",
     "text": [
      "[[1595    0]\n",
      " [ 405    0]]\n"
     ]
    }
   ],
   "source": [
    "from sklearn.metrics import confusion_matrix\n",
    "cm = confusion_matrix(y_test, y_pred)\n",
    "print(cm)"
   ]
  },
  {
   "cell_type": "markdown",
   "metadata": {},
   "source": [
    "# Accuracy of  Elu"
   ]
  },
  {
   "cell_type": "code",
   "execution_count": 23,
   "metadata": {
    "scrolled": true
   },
   "outputs": [
    {
     "name": "stdout",
     "output_type": "stream",
     "text": [
      "Accuracy of elu as activation function: 0.7975\n"
     ]
    }
   ],
   "source": [
    "from sklearn.metrics import accuracy_score\n",
    "accuracy = accuracy_score(y_test, y_pred)\n",
    "print('Accuracy of elu as activation function: {}'.format(accuracy))"
   ]
  },
  {
   "cell_type": "markdown",
   "metadata": {},
   "source": [
    "# Initialising the 3rd ANN"
   ]
  },
  {
   "cell_type": "code",
   "execution_count": 24,
   "metadata": {},
   "outputs": [
    {
     "name": "stdout",
     "output_type": "stream",
     "text": [
      "WARNING:tensorflow:From /home/eugenio/anaconda3/lib/python3.7/site-packages/tensorflow/python/ops/nn_impl.py:180: add_dispatch_support.<locals>.wrapper (from tensorflow.python.ops.array_ops) is deprecated and will be removed in a future version.\n",
      "Instructions for updating:\n",
      "Use tf.where in 2.0, which has the same broadcast rule as np.where\n",
      "Epoch 1/100\n",
      "8000/8000 [==============================] - 3s 344us/step - loss: 0.4778 - accuracy: 0.7959\n",
      "Epoch 2/100\n",
      "8000/8000 [==============================] - 1s 156us/step - loss: 0.4257 - accuracy: 0.7960\n",
      "Epoch 3/100\n",
      "8000/8000 [==============================] - 1s 184us/step - loss: 0.4196 - accuracy: 0.8070\n",
      "Epoch 4/100\n",
      "8000/8000 [==============================] - 1s 164us/step - loss: 0.4165 - accuracy: 0.8253\n",
      "Epoch 5/100\n",
      "8000/8000 [==============================] - 1s 164us/step - loss: 0.4149 - accuracy: 0.8292\n",
      "Epoch 6/100\n",
      "8000/8000 [==============================] - 1s 150us/step - loss: 0.4137 - accuracy: 0.8305\n",
      "Epoch 7/100\n",
      "8000/8000 [==============================] - 2s 230us/step - loss: 0.4121 - accuracy: 0.8317\n",
      "Epoch 8/100\n",
      "8000/8000 [==============================] - 2s 194us/step - loss: 0.4112 - accuracy: 0.8326\n",
      "Epoch 9/100\n",
      "8000/8000 [==============================] - 1s 186us/step - loss: 0.4097 - accuracy: 0.8328\n",
      "Epoch 10/100\n",
      "8000/8000 [==============================] - 1s 157us/step - loss: 0.4094 - accuracy: 0.8349\n",
      "Epoch 11/100\n",
      "8000/8000 [==============================] - 1s 155us/step - loss: 0.4082 - accuracy: 0.8321\n",
      "Epoch 12/100\n",
      "8000/8000 [==============================] - 1s 151us/step - loss: 0.4064 - accuracy: 0.8346\n",
      "Epoch 13/100\n",
      "8000/8000 [==============================] - 1s 155us/step - loss: 0.4050 - accuracy: 0.8335\n",
      "Epoch 14/100\n",
      "8000/8000 [==============================] - 1s 155us/step - loss: 0.4035 - accuracy: 0.8353\n",
      "Epoch 15/100\n",
      "8000/8000 [==============================] - 1s 161us/step - loss: 0.4030 - accuracy: 0.8353\n",
      "Epoch 16/100\n",
      "8000/8000 [==============================] - 1s 157us/step - loss: 0.4018 - accuracy: 0.8353\n",
      "Epoch 17/100\n",
      "8000/8000 [==============================] - 1s 173us/step - loss: 0.4009 - accuracy: 0.8351\n",
      "Epoch 18/100\n",
      "8000/8000 [==============================] - 1s 163us/step - loss: 0.4003 - accuracy: 0.8342\n",
      "Epoch 19/100\n",
      "8000/8000 [==============================] - 2s 282us/step - loss: 0.3998 - accuracy: 0.8354\n",
      "Epoch 20/100\n",
      "8000/8000 [==============================] - 2s 200us/step - loss: 0.3984 - accuracy: 0.8357\n",
      "Epoch 21/100\n",
      "8000/8000 [==============================] - 2s 251us/step - loss: 0.3989 - accuracy: 0.8359\n",
      "Epoch 22/100\n",
      "8000/8000 [==============================] - 2s 221us/step - loss: 0.3980 - accuracy: 0.8367\n",
      "Epoch 23/100\n",
      "8000/8000 [==============================] - 2s 203us/step - loss: 0.3973 - accuracy: 0.8355\n",
      "Epoch 24/100\n",
      "8000/8000 [==============================] - 1s 174us/step - loss: 0.3974 - accuracy: 0.8363\n",
      "Epoch 25/100\n",
      "8000/8000 [==============================] - 1s 123us/step - loss: 0.3967 - accuracy: 0.8344\n",
      "Epoch 26/100\n",
      "8000/8000 [==============================] - 1s 179us/step - loss: 0.3974 - accuracy: 0.8366\n",
      "Epoch 27/100\n",
      "8000/8000 [==============================] - 1s 177us/step - loss: 0.3962 - accuracy: 0.8342\n",
      "Epoch 28/100\n",
      "8000/8000 [==============================] - 1s 186us/step - loss: 0.3958 - accuracy: 0.8357\n",
      "Epoch 29/100\n",
      "8000/8000 [==============================] - 2s 189us/step - loss: 0.3964 - accuracy: 0.8376\n",
      "Epoch 30/100\n",
      "8000/8000 [==============================] - 1s 183us/step - loss: 0.3961 - accuracy: 0.8384\n",
      "Epoch 31/100\n",
      "8000/8000 [==============================] - 1s 182us/step - loss: 0.3956 - accuracy: 0.8365\n",
      "Epoch 32/100\n",
      "8000/8000 [==============================] - 2s 223us/step - loss: 0.3952 - accuracy: 0.8360\n",
      "Epoch 33/100\n",
      "8000/8000 [==============================] - 1s 183us/step - loss: 0.3950 - accuracy: 0.8369\n",
      "Epoch 34/100\n",
      "8000/8000 [==============================] - 1s 179us/step - loss: 0.3950 - accuracy: 0.8353\n",
      "Epoch 35/100\n",
      "8000/8000 [==============================] - 1s 183us/step - loss: 0.3952 - accuracy: 0.8364\n",
      "Epoch 36/100\n",
      "8000/8000 [==============================] - 1s 183us/step - loss: 0.3951 - accuracy: 0.8350\n",
      "Epoch 37/100\n",
      "8000/8000 [==============================] - 1s 186us/step - loss: 0.3943 - accuracy: 0.8356\n",
      "Epoch 38/100\n",
      "8000/8000 [==============================] - 2s 189us/step - loss: 0.3945 - accuracy: 0.8376\n",
      "Epoch 39/100\n",
      "8000/8000 [==============================] - 1s 186us/step - loss: 0.3944 - accuracy: 0.8370\n",
      "Epoch 40/100\n",
      "8000/8000 [==============================] - 1s 179us/step - loss: 0.3944 - accuracy: 0.8385\n",
      "Epoch 41/100\n",
      "8000/8000 [==============================] - 1s 183us/step - loss: 0.3939 - accuracy: 0.8367\n",
      "Epoch 42/100\n",
      "8000/8000 [==============================] - 1s 182us/step - loss: 0.3934 - accuracy: 0.8376\n",
      "Epoch 43/100\n",
      "8000/8000 [==============================] - 1s 175us/step - loss: 0.3930 - accuracy: 0.8382\n",
      "Epoch 44/100\n",
      "8000/8000 [==============================] - 1s 182us/step - loss: 0.3919 - accuracy: 0.8365\n",
      "Epoch 45/100\n",
      "8000/8000 [==============================] - 1s 177us/step - loss: 0.3909 - accuracy: 0.8388\n",
      "Epoch 46/100\n",
      "8000/8000 [==============================] - 1s 185us/step - loss: 0.3895 - accuracy: 0.8380\n",
      "Epoch 47/100\n",
      "8000/8000 [==============================] - 1s 182us/step - loss: 0.3861 - accuracy: 0.8403\n",
      "Epoch 48/100\n",
      "8000/8000 [==============================] - 1s 187us/step - loss: 0.3833 - accuracy: 0.8391\n",
      "Epoch 49/100\n",
      "8000/8000 [==============================] - 1s 181us/step - loss: 0.3805 - accuracy: 0.8394\n",
      "Epoch 50/100\n",
      "8000/8000 [==============================] - 1s 181us/step - loss: 0.3787 - accuracy: 0.8384\n",
      "Epoch 51/100\n",
      "8000/8000 [==============================] - 2s 188us/step - loss: 0.3772 - accuracy: 0.8388\n",
      "Epoch 52/100\n",
      "8000/8000 [==============================] - 1s 187us/step - loss: 0.3764 - accuracy: 0.8394\n",
      "Epoch 53/100\n",
      "8000/8000 [==============================] - 1s 171us/step - loss: 0.3754 - accuracy: 0.8400\n",
      "Epoch 54/100\n",
      "8000/8000 [==============================] - 1s 170us/step - loss: 0.3744 - accuracy: 0.8401\n",
      "Epoch 55/100\n",
      "8000/8000 [==============================] - 1s 174us/step - loss: 0.3741 - accuracy: 0.8396\n",
      "Epoch 56/100\n",
      "8000/8000 [==============================] - 1s 170us/step - loss: 0.3729 - accuracy: 0.8399\n",
      "Epoch 57/100\n",
      "8000/8000 [==============================] - 1s 171us/step - loss: 0.3723 - accuracy: 0.8393\n",
      "Epoch 58/100\n",
      "8000/8000 [==============================] - 1s 168us/step - loss: 0.3726 - accuracy: 0.8413\n",
      "Epoch 59/100\n",
      "8000/8000 [==============================] - 1s 171us/step - loss: 0.3714 - accuracy: 0.8397\n",
      "Epoch 60/100\n",
      "8000/8000 [==============================] - 1s 170us/step - loss: 0.3712 - accuracy: 0.8430\n",
      "Epoch 61/100\n",
      "8000/8000 [==============================] - 1s 164us/step - loss: 0.3712 - accuracy: 0.8434\n",
      "Epoch 62/100\n",
      "8000/8000 [==============================] - 1s 167us/step - loss: 0.3712 - accuracy: 0.8431\n",
      "Epoch 63/100\n",
      "8000/8000 [==============================] - 1s 186us/step - loss: 0.3708 - accuracy: 0.8420\n",
      "Epoch 64/100\n",
      "8000/8000 [==============================] - 1s 174us/step - loss: 0.3701 - accuracy: 0.8418\n",
      "Epoch 65/100\n",
      "8000/8000 [==============================] - 1s 176us/step - loss: 0.3699 - accuracy: 0.8391\n",
      "Epoch 66/100\n",
      "8000/8000 [==============================] - 1s 164us/step - loss: 0.3691 - accuracy: 0.8430\n",
      "Epoch 67/100\n",
      "8000/8000 [==============================] - 1s 169us/step - loss: 0.3690 - accuracy: 0.8424\n",
      "Epoch 68/100\n",
      "8000/8000 [==============================] - 1s 169us/step - loss: 0.3690 - accuracy: 0.8421\n",
      "Epoch 69/100\n",
      "8000/8000 [==============================] - 1s 170us/step - loss: 0.3683 - accuracy: 0.8432\n",
      "Epoch 70/100\n",
      "8000/8000 [==============================] - 1s 164us/step - loss: 0.3685 - accuracy: 0.8420\n",
      "Epoch 71/100\n",
      "8000/8000 [==============================] - 1s 177us/step - loss: 0.3692 - accuracy: 0.8420\n",
      "Epoch 72/100\n",
      "8000/8000 [==============================] - 1s 171us/step - loss: 0.3679 - accuracy: 0.8422\n",
      "Epoch 73/100\n",
      "8000/8000 [==============================] - 1s 171us/step - loss: 0.3678 - accuracy: 0.8409\n",
      "Epoch 74/100\n",
      "8000/8000 [==============================] - 1s 170us/step - loss: 0.3679 - accuracy: 0.8396\n",
      "Epoch 75/100\n"
     ]
    },
    {
     "name": "stdout",
     "output_type": "stream",
     "text": [
      "8000/8000 [==============================] - 1s 145us/step - loss: 0.3676 - accuracy: 0.8421\n",
      "Epoch 76/100\n",
      "8000/8000 [==============================] - 1s 145us/step - loss: 0.3674 - accuracy: 0.8434\n",
      "Epoch 77/100\n",
      "8000/8000 [==============================] - 1s 143us/step - loss: 0.3676 - accuracy: 0.8434\n",
      "Epoch 78/100\n",
      "8000/8000 [==============================] - 1s 145us/step - loss: 0.3672 - accuracy: 0.8420\n",
      "Epoch 79/100\n",
      "8000/8000 [==============================] - 1s 147us/step - loss: 0.3670 - accuracy: 0.8435\n",
      "Epoch 80/100\n",
      "8000/8000 [==============================] - 1s 144us/step - loss: 0.3671 - accuracy: 0.8426\n",
      "Epoch 81/100\n",
      "8000/8000 [==============================] - 1s 146us/step - loss: 0.3667 - accuracy: 0.8440\n",
      "Epoch 82/100\n",
      "8000/8000 [==============================] - 1s 146us/step - loss: 0.3671 - accuracy: 0.8424\n",
      "Epoch 83/100\n",
      "8000/8000 [==============================] - 1s 145us/step - loss: 0.3676 - accuracy: 0.8425\n",
      "Epoch 84/100\n",
      "8000/8000 [==============================] - 1s 148us/step - loss: 0.3674 - accuracy: 0.8435\n",
      "Epoch 85/100\n",
      "8000/8000 [==============================] - 1s 146us/step - loss: 0.3668 - accuracy: 0.8428\n",
      "Epoch 86/100\n",
      "8000/8000 [==============================] - 1s 143us/step - loss: 0.3677 - accuracy: 0.8438\n",
      "Epoch 87/100\n",
      "8000/8000 [==============================] - 1s 152us/step - loss: 0.3664 - accuracy: 0.8435\n",
      "Epoch 88/100\n",
      "8000/8000 [==============================] - 1s 149us/step - loss: 0.3664 - accuracy: 0.8422\n",
      "Epoch 89/100\n",
      "8000/8000 [==============================] - 1s 147us/step - loss: 0.3667 - accuracy: 0.8457\n",
      "Epoch 90/100\n",
      "8000/8000 [==============================] - 1s 149us/step - loss: 0.3670 - accuracy: 0.8444\n",
      "Epoch 91/100\n",
      "8000/8000 [==============================] - 1s 148us/step - loss: 0.3664 - accuracy: 0.8413\n",
      "Epoch 92/100\n",
      "8000/8000 [==============================] - 1s 150us/step - loss: 0.3668 - accuracy: 0.8436\n",
      "Epoch 93/100\n",
      "8000/8000 [==============================] - 1s 148us/step - loss: 0.3667 - accuracy: 0.8421\n",
      "Epoch 94/100\n",
      "8000/8000 [==============================] - 1s 146us/step - loss: 0.3669 - accuracy: 0.8431\n",
      "Epoch 95/100\n",
      "8000/8000 [==============================] - 1s 150us/step - loss: 0.3657 - accuracy: 0.8446\n",
      "Epoch 96/100\n",
      "8000/8000 [==============================] - 1s 183us/step - loss: 0.3663 - accuracy: 0.8455\n",
      "Epoch 97/100\n",
      "8000/8000 [==============================] - 2s 193us/step - loss: 0.3666 - accuracy: 0.8422\n",
      "Epoch 98/100\n",
      "8000/8000 [==============================] - 1s 186us/step - loss: 0.3665 - accuracy: 0.8459\n",
      "Epoch 99/100\n",
      "8000/8000 [==============================] - 1s 171us/step - loss: 0.3667 - accuracy: 0.8440\n",
      "Epoch 100/100\n",
      "8000/8000 [==============================] - 1s 181us/step - loss: 0.3662 - accuracy: 0.8449\n"
     ]
    },
    {
     "data": {
      "text/plain": [
       "<keras.callbacks.callbacks.History at 0x7f98581d3f60>"
      ]
     },
     "execution_count": 24,
     "metadata": {},
     "output_type": "execute_result"
    }
   ],
   "source": [
    "del classifier\n",
    "\n",
    "classifier = Sequential()\n",
    "\n",
    "classifier.add(Dense(units = 6, kernel_initializer = 'uniform', activation = 'relu', input_dim = 11))\n",
    "\n",
    "classifier.add(Dense(units = 6, kernel_initializer = 'uniform', activation = 'relu'))\n",
    "\n",
    "classifier.add(Dense(units = 1, kernel_initializer = 'uniform', activation = 'sigmoid'))\n",
    "\n",
    "classifier.compile(optimizer = 'adam', loss = 'binary_crossentropy', metrics = ['accuracy'])\n",
    "\n",
    "classifier.fit(X_train, y_train, batch_size = 10, epochs = 100)"
   ]
  },
  {
   "cell_type": "code",
   "execution_count": 25,
   "metadata": {},
   "outputs": [],
   "source": [
    "y_pred = classifier.predict(X_test)\n",
    "y_pred = (y_pred > 0.5)"
   ]
  },
  {
   "cell_type": "markdown",
   "metadata": {},
   "source": [
    "# Making the Confusion Matrix"
   ]
  },
  {
   "cell_type": "code",
   "execution_count": 26,
   "metadata": {},
   "outputs": [
    {
     "name": "stdout",
     "output_type": "stream",
     "text": [
      "[[1531   64]\n",
      " [ 250  155]]\n"
     ]
    }
   ],
   "source": [
    "from sklearn.metrics import confusion_matrix\n",
    "cm = confusion_matrix(y_test, y_pred)\n",
    "print(cm)"
   ]
  },
  {
   "cell_type": "markdown",
   "metadata": {},
   "source": [
    "# Accuracy of Sigmoid"
   ]
  },
  {
   "cell_type": "code",
   "execution_count": 27,
   "metadata": {
    "scrolled": true
   },
   "outputs": [
    {
     "name": "stdout",
     "output_type": "stream",
     "text": [
      "Accuracy of tanh as activation function: 0.843\n"
     ]
    }
   ],
   "source": [
    "from sklearn.metrics import accuracy_score\n",
    "accuracy = accuracy_score(y_test, y_pred)\n",
    "print('Accuracy of tanh as activation function: {}'.format(accuracy))"
   ]
  },
  {
   "cell_type": "markdown",
   "metadata": {},
   "source": [
    "---\n",
    "# Parte 4 - Evaluating, Improving and Tuning the ANN\n",
    "\n",
    "## Evaluating the ANN"
   ]
  },
  {
   "cell_type": "code",
   "execution_count": null,
   "metadata": {},
   "outputs": [
    {
     "name": "stdout",
     "output_type": "stream",
     "text": [
      "Epoch 1/10\n",
      "7200/7200 [==============================] - 2s 215us/step - loss: 0.5013 - accuracy: 0.7967\n",
      "Epoch 2/10\n",
      "7200/7200 [==============================] - 1s 162us/step - loss: 0.4313 - accuracy: 0.7971\n",
      "Epoch 3/10\n",
      "7200/7200 [==============================] - 1s 155us/step - loss: 0.4277 - accuracy: 0.7971\n",
      "Epoch 4/10\n",
      "7200/7200 [==============================] - 1s 167us/step - loss: 0.4241 - accuracy: 0.7971\n",
      "Epoch 5/10\n",
      "7200/7200 [==============================] - 1s 167us/step - loss: 0.4205 - accuracy: 0.8044\n",
      "Epoch 6/10\n",
      "7200/7200 [==============================] - 1s 167us/step - loss: 0.4176 - accuracy: 0.8243\n",
      "Epoch 7/10\n",
      "7200/7200 [==============================] - 1s 168us/step - loss: 0.4156 - accuracy: 0.8258\n",
      "Epoch 8/10\n",
      "7200/7200 [==============================] - 2s 287us/step - loss: 0.4144 - accuracy: 0.8278\n",
      "Epoch 9/10\n",
      "7200/7200 [==============================] - 1s 181us/step - loss: 0.4130 - accuracy: 0.8306\n",
      "Epoch 10/10\n",
      "7200/7200 [==============================] - 2s 225us/step - loss: 0.4122 - accuracy: 0.8307\n",
      "800/800 [==============================] - 0s 154us/step\n",
      "Epoch 1/10\n",
      "7200/7200 [==============================] - 2s 221us/step - loss: 0.4794 - accuracy: 0.7967\n",
      "Epoch 2/10\n",
      "7200/7200 [==============================] - 1s 170us/step - loss: 0.4283 - accuracy: 0.7967\n",
      "Epoch 3/10\n",
      "7200/7200 [==============================] - 2s 220us/step - loss: 0.4226 - accuracy: 0.7967\n",
      "Epoch 4/10\n",
      "7200/7200 [==============================] - 2s 213us/step - loss: 0.4189 - accuracy: 0.8247\n",
      "Epoch 5/10\n",
      "7200/7200 [==============================] - 1s 168us/step - loss: 0.4164 - accuracy: 0.8263\n",
      "Epoch 6/10\n",
      "7200/7200 [==============================] - 1s 172us/step - loss: 0.4147 - accuracy: 0.8278\n",
      "Epoch 7/10\n",
      "7200/7200 [==============================] - 1s 172us/step - loss: 0.4137 - accuracy: 0.8318\n",
      "Epoch 8/10\n",
      "7200/7200 [==============================] - 1s 173us/step - loss: 0.4122 - accuracy: 0.8315\n",
      "Epoch 9/10\n",
      "7200/7200 [==============================] - 2s 248us/step - loss: 0.4116 - accuracy: 0.8317\n",
      "Epoch 10/10\n",
      "7200/7200 [==============================] - 1s 169us/step - loss: 0.4104 - accuracy: 0.8307\n",
      "800/800 [==============================] - 0s 210us/step\n",
      "Epoch 1/10\n",
      "7200/7200 [==============================] - 2s 251us/step - loss: 0.4862 - accuracy: 0.7947\n",
      "Epoch 2/10\n",
      "7200/7200 [==============================] - 2s 249us/step - loss: 0.4249 - accuracy: 0.7996\n",
      "Epoch 3/10\n",
      "7200/7200 [==============================] - 1s 177us/step - loss: 0.4171 - accuracy: 0.8258\n",
      "Epoch 4/10\n",
      "7200/7200 [==============================] - 1s 172us/step - loss: 0.4115 - accuracy: 0.8329\n",
      "Epoch 5/10\n",
      "7200/7200 [==============================] - 1s 175us/step - loss: 0.4077 - accuracy: 0.8336\n",
      "Epoch 6/10\n",
      "7200/7200 [==============================] - 2s 237us/step - loss: 0.4051 - accuracy: 0.8332\n",
      "Epoch 7/10\n",
      "7200/7200 [==============================] - 1s 166us/step - loss: 0.4035 - accuracy: 0.8349\n",
      "Epoch 8/10\n",
      "7200/7200 [==============================] - 1s 170us/step - loss: 0.4023 - accuracy: 0.8333\n",
      "Epoch 9/10\n",
      "7200/7200 [==============================] - 1s 167us/step - loss: 0.4012 - accuracy: 0.8353\n",
      "Epoch 10/10\n",
      "7200/7200 [==============================] - 2s 215us/step - loss: 0.4002 - accuracy: 0.8368\n",
      "800/800 [==============================] - 0s 146us/step\n",
      "Epoch 1/10\n",
      "7200/7200 [==============================] - 2s 287us/step - loss: 0.5119 - accuracy: 0.7964\n",
      "Epoch 2/10\n",
      "7200/7200 [==============================] - 2s 263us/step - loss: 0.4292 - accuracy: 0.7975\n",
      "Epoch 3/10\n",
      "7200/7200 [==============================] - 2s 247us/step - loss: 0.4246 - accuracy: 0.7975\n",
      "Epoch 4/10\n",
      "7200/7200 [==============================] - 2s 212us/step - loss: 0.4214 - accuracy: 0.7975\n",
      "Epoch 5/10\n",
      "7200/7200 [==============================] - 1s 187us/step - loss: 0.4183 - accuracy: 0.7992\n",
      "Epoch 6/10\n",
      "7200/7200 [==============================] - 1s 179us/step - loss: 0.4156 - accuracy: 0.8233\n",
      "Epoch 7/10\n",
      "7200/7200 [==============================] - 1s 145us/step - loss: 0.4136 - accuracy: 0.8282\n",
      "Epoch 8/10\n",
      "7200/7200 [==============================] - 1s 120us/step - loss: 0.4119 - accuracy: 0.8294\n",
      "Epoch 9/10\n",
      "7200/7200 [==============================] - 1s 118us/step - loss: 0.4109 - accuracy: 0.8317\n",
      "Epoch 10/10\n",
      "7200/7200 [==============================] - 1s 147us/step - loss: 0.4094 - accuracy: 0.8319\n",
      "800/800 [==============================] - 0s 131us/step\n"
     ]
    }
   ],
   "source": [
    "from keras.wrappers.scikit_learn import KerasClassifier\n",
    "from sklearn.model_selection import cross_val_score\n",
    "from keras.models import Sequential\n",
    "from keras.layers import Dense\n",
    "\n",
    "def build_classifier():\n",
    "    classifier = Sequential()\n",
    "    classifier.add(Dense(units = 6, kernel_initializer = 'uniform', activation = 'relu', input_dim = 11))\n",
    "    classifier.add(Dense(units = 6, kernel_initializer = 'uniform', activation = 'relu'))\n",
    "    classifier.add(Dense(units = 1, kernel_initializer = 'uniform', activation = 'sigmoid'))\n",
    "    classifier.compile(optimizer = 'adam', loss = 'binary_crossentropy', metrics = ['accuracy'])\n",
    "    return classifier\n",
    "\n",
    "classifier = KerasClassifier(build_fn = build_classifier, batch_size = 10, epochs = 10)\n",
    "accuracies = cross_val_score(estimator = classifier, X = X_train, y = y_train, cv = 10, n_jobs = -1)\n",
    "mean = accuracies.mean()\n",
    "variance = accuracies.std()\n",
    "print(\"accuracies:%s\\nmean:%s\\nvariance:%s\".format(accuracies, mean, variance))"
   ]
  },
  {
   "cell_type": "markdown",
   "metadata": {},
   "source": [
    "# Improving the ANN\n",
    "# Dropout Regularization to reduce overfitting if needed"
   ]
  },
  {
   "cell_type": "code",
   "execution_count": null,
   "metadata": {},
   "outputs": [],
   "source": [
    "from keras.layers import Dropout\n",
    "\n",
    "def build_classifier():\n",
    "    classifier = Sequential()\n",
    "    classifier.add(Dense(units = 6, kernel_initializer = 'uniform', activation = 'relu', input_dim = 11))\n",
    "    classifier.add(Dropout(rate = 0.1))\n",
    "    classifier.add(Dense(units = 6, kernel_initializer = 'uniform', activation = 'relu'))\n",
    "    classifier.add(Dropout(rate = 0.1))\n",
    "    classifier.add(Dense(units = 1, kernel_initializer = 'uniform', activation = 'sigmoid'))\n",
    "    classifier.compile(optimizer = 'adam', loss = 'binary_crossentropy', metrics = ['accuracy'])\n",
    "    return classifier\n",
    "\n",
    "classifier = KerasClassifier(build_fn = build_classifier, batch_size = 10, epochs = 10)\n",
    "accuracies = cross_val_score(estimator = classifier, X = X_train, y = y_train, cv = 10, n_jobs = -1)\n",
    "mean = accuracies.mean()\n",
    "variance = accuracies.std()"
   ]
  },
  {
   "cell_type": "markdown",
   "metadata": {},
   "source": [
    "# Tuning the ANN"
   ]
  },
  {
   "cell_type": "code",
   "execution_count": null,
   "metadata": {},
   "outputs": [],
   "source": [
    "from keras.wrappers.scikit_learn import KerasClassifier\n",
    "from sklearn.model_selection import GridSearchCV\n",
    "from keras.models import Sequential\n",
    "from keras.layers import Dense\n",
    "\n",
    "def build_classifier(optimizer):\n",
    "    classifier = Sequential()\n",
    "    classifier.add(Dense(units = 6, kernel_initializer = 'uniform', activation = 'relu', input_dim = 11))\n",
    "    classifier.add(Dropout(rate = 0.1))\n",
    "    classifier.add(Dense(units = 6, kernel_initializer = 'uniform', activation = 'relu'))\n",
    "    classifier.add(Dropout(rate = 0.1))\n",
    "    classifier.add(Dense(units = 1, kernel_initializer = 'uniform', activation = 'sigmoid'))\n",
    "    classifier.compile(optimizer = optimizer, loss = 'binary_crossentropy', metrics = ['accuracy'])\n",
    "    return classifier\n",
    "\n",
    "classifier = KerasClassifier(build_fn = build_classifier)"
   ]
  },
  {
   "cell_type": "code",
   "execution_count": null,
   "metadata": {},
   "outputs": [],
   "source": [
    "parameters = {'batch_size': [10, 24, 32],\n",
    "              'epochs': [50, 100, 200],\n",
    "              'optimizer': ['adam', 'rmsprop']}\n",
    "\n",
    "grid_search = GridSearchCV(estimator = classifier,\n",
    "                           scoring = 'accuracy',\n",
    "                           param_grid = parameters,\n",
    "                           cv = 10)\n",
    "\n",
    "grid_search = grid_search.fit(X_train, y_train)\n",
    "\n",
    "best_parameters = grid_search.best_params_\n",
    "best_accuracy = grid_search.best_score_"
   ]
  },
  {
   "cell_type": "markdown",
   "metadata": {},
   "source": [
    "# FIM"
   ]
  },
  {
   "cell_type": "markdown",
   "metadata": {},
   "source": [
    "> Professor Diego Dorgam  \n",
    "> [@diegodorgam](https://twitter.com/diegodorgam)"
   ]
  }
 ],
 "metadata": {
  "kernelspec": {
   "display_name": "Python 3",
   "language": "python",
   "name": "python3"
  },
  "language_info": {
   "codemirror_mode": {
    "name": "ipython",
    "version": 3
   },
   "file_extension": ".py",
   "mimetype": "text/x-python",
   "name": "python",
   "nbconvert_exporter": "python",
   "pygments_lexer": "ipython3",
   "version": "3.7.3"
  }
 },
 "nbformat": 4,
 "nbformat_minor": 2
}
