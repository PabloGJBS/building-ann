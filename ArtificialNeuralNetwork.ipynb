{
 "cells": [
  {
   "cell_type": "markdown",
   "metadata": {},
   "source": [
    "# REDES NEURAIS ARTIFICIAIS\n",
    "\n",
    "[Aula 3 de Deep Learning](http://bit.ly/dn-unb03) da Engenharia de Software da UnB"
   ]
  },
  {
   "cell_type": "markdown",
   "metadata": {},
   "source": [
    "# Parte 1 - Pré-processamento dos Dados"
   ]
  },
  {
   "cell_type": "markdown",
   "metadata": {},
   "source": [
    "### Importar as libs"
   ]
  },
  {
   "cell_type": "code",
   "execution_count": 1,
   "metadata": {
    "colab": {},
    "colab_type": "code",
    "id": "MxkJoQBkUIHC"
   },
   "outputs": [],
   "source": [
    "import numpy as np\n",
    "import pandas as pd\n",
    "import tensorflow as tf"
   ]
  },
  {
   "cell_type": "code",
   "execution_count": 2,
   "metadata": {
    "colab": {
     "base_uri": "https://localhost:8080/",
     "height": 34
    },
    "colab_type": "code",
    "id": "ZaTwK7ojXr2F",
    "outputId": "0b27a96d-d11a-43e8-ab4b-87c1f01896fe"
   },
   "outputs": [
    {
     "data": {
      "text/plain": [
       "'2.4.1'"
      ]
     },
     "execution_count": 2,
     "metadata": {},
     "output_type": "execute_result"
    }
   ],
   "source": [
    "tf.__version__"
   ]
  },
  {
   "cell_type": "markdown",
   "metadata": {},
   "source": [
    "### Importar o dataset"
   ]
  },
  {
   "cell_type": "code",
   "execution_count": 3,
   "metadata": {},
   "outputs": [
    {
     "data": {
      "text/html": [
       "<div>\n",
       "<style scoped>\n",
       "    .dataframe tbody tr th:only-of-type {\n",
       "        vertical-align: middle;\n",
       "    }\n",
       "\n",
       "    .dataframe tbody tr th {\n",
       "        vertical-align: top;\n",
       "    }\n",
       "\n",
       "    .dataframe thead th {\n",
       "        text-align: right;\n",
       "    }\n",
       "</style>\n",
       "<table border=\"1\" class=\"dataframe\">\n",
       "  <thead>\n",
       "    <tr style=\"text-align: right;\">\n",
       "      <th></th>\n",
       "      <th>RowNumber</th>\n",
       "      <th>CustomerId</th>\n",
       "      <th>Surname</th>\n",
       "      <th>CreditScore</th>\n",
       "      <th>Geography</th>\n",
       "      <th>Gender</th>\n",
       "      <th>Age</th>\n",
       "      <th>Tenure</th>\n",
       "      <th>Balance</th>\n",
       "      <th>NumOfProducts</th>\n",
       "      <th>HasCrCard</th>\n",
       "      <th>IsActiveMember</th>\n",
       "      <th>EstimatedSalary</th>\n",
       "      <th>Exited</th>\n",
       "    </tr>\n",
       "  </thead>\n",
       "  <tbody>\n",
       "    <tr>\n",
       "      <th>0</th>\n",
       "      <td>1</td>\n",
       "      <td>15634602</td>\n",
       "      <td>Hargrave</td>\n",
       "      <td>619</td>\n",
       "      <td>France</td>\n",
       "      <td>Female</td>\n",
       "      <td>42</td>\n",
       "      <td>2</td>\n",
       "      <td>0.00</td>\n",
       "      <td>1</td>\n",
       "      <td>1</td>\n",
       "      <td>1</td>\n",
       "      <td>101348.88</td>\n",
       "      <td>1</td>\n",
       "    </tr>\n",
       "    <tr>\n",
       "      <th>1</th>\n",
       "      <td>2</td>\n",
       "      <td>15647311</td>\n",
       "      <td>Hill</td>\n",
       "      <td>608</td>\n",
       "      <td>Spain</td>\n",
       "      <td>Female</td>\n",
       "      <td>41</td>\n",
       "      <td>1</td>\n",
       "      <td>83807.86</td>\n",
       "      <td>1</td>\n",
       "      <td>0</td>\n",
       "      <td>1</td>\n",
       "      <td>112542.58</td>\n",
       "      <td>0</td>\n",
       "    </tr>\n",
       "    <tr>\n",
       "      <th>2</th>\n",
       "      <td>3</td>\n",
       "      <td>15619304</td>\n",
       "      <td>Onio</td>\n",
       "      <td>502</td>\n",
       "      <td>France</td>\n",
       "      <td>Female</td>\n",
       "      <td>42</td>\n",
       "      <td>8</td>\n",
       "      <td>159660.80</td>\n",
       "      <td>3</td>\n",
       "      <td>1</td>\n",
       "      <td>0</td>\n",
       "      <td>113931.57</td>\n",
       "      <td>1</td>\n",
       "    </tr>\n",
       "    <tr>\n",
       "      <th>3</th>\n",
       "      <td>4</td>\n",
       "      <td>15701354</td>\n",
       "      <td>Boni</td>\n",
       "      <td>699</td>\n",
       "      <td>France</td>\n",
       "      <td>Female</td>\n",
       "      <td>39</td>\n",
       "      <td>1</td>\n",
       "      <td>0.00</td>\n",
       "      <td>2</td>\n",
       "      <td>0</td>\n",
       "      <td>0</td>\n",
       "      <td>93826.63</td>\n",
       "      <td>0</td>\n",
       "    </tr>\n",
       "    <tr>\n",
       "      <th>4</th>\n",
       "      <td>5</td>\n",
       "      <td>15737888</td>\n",
       "      <td>Mitchell</td>\n",
       "      <td>850</td>\n",
       "      <td>Spain</td>\n",
       "      <td>Female</td>\n",
       "      <td>43</td>\n",
       "      <td>2</td>\n",
       "      <td>125510.82</td>\n",
       "      <td>1</td>\n",
       "      <td>1</td>\n",
       "      <td>1</td>\n",
       "      <td>79084.10</td>\n",
       "      <td>0</td>\n",
       "    </tr>\n",
       "  </tbody>\n",
       "</table>\n",
       "</div>"
      ],
      "text/plain": [
       "   RowNumber  CustomerId   Surname  CreditScore Geography  Gender  Age  \\\n",
       "0          1    15634602  Hargrave          619    France  Female   42   \n",
       "1          2    15647311      Hill          608     Spain  Female   41   \n",
       "2          3    15619304      Onio          502    France  Female   42   \n",
       "3          4    15701354      Boni          699    France  Female   39   \n",
       "4          5    15737888  Mitchell          850     Spain  Female   43   \n",
       "\n",
       "   Tenure    Balance  NumOfProducts  HasCrCard  IsActiveMember  \\\n",
       "0       2       0.00              1          1               1   \n",
       "1       1   83807.86              1          0               1   \n",
       "2       8  159660.80              3          1               0   \n",
       "3       1       0.00              2          0               0   \n",
       "4       2  125510.82              1          1               1   \n",
       "\n",
       "   EstimatedSalary  Exited  \n",
       "0        101348.88       1  \n",
       "1        112542.58       0  \n",
       "2        113931.57       1  \n",
       "3         93826.63       0  \n",
       "4         79084.10       0  "
      ]
     },
     "execution_count": 3,
     "metadata": {},
     "output_type": "execute_result"
    }
   ],
   "source": [
    "dataset = pd.read_csv('Churn_Modelling.csv')\n",
    "dataset.head()"
   ]
  },
  {
   "cell_type": "code",
   "execution_count": 4,
   "metadata": {},
   "outputs": [
    {
     "name": "stdout",
     "output_type": "stream",
     "text": [
      "X >>\n",
      " [[619 'France' 'Female' ... 1 1 101348.88]\n",
      " [608 'Spain' 'Female' ... 0 1 112542.58]\n",
      " [502 'France' 'Female' ... 1 0 113931.57]\n",
      " ...\n",
      " [709 'France' 'Female' ... 0 1 42085.58]\n",
      " [772 'Germany' 'Male' ... 1 0 92888.52]\n",
      " [792 'France' 'Female' ... 1 0 38190.78]]\n",
      "y >>\n",
      " [1 0 1 ... 1 1 0]\n"
     ]
    }
   ],
   "source": [
    "X = dataset.iloc[:, 3:13].values\n",
    "y = dataset.iloc[:, 13].values\n",
    "print(\"X >>\\n\",X)\n",
    "print(\"y >>\\n\",y)"
   ]
  },
  {
   "cell_type": "markdown",
   "metadata": {},
   "source": [
    "### Transformando os dados categóricos\n"
   ]
  },
  {
   "cell_type": "code",
   "execution_count": 5,
   "metadata": {},
   "outputs": [
    {
     "name": "stdout",
     "output_type": "stream",
     "text": [
      "[[619 'France' 0 ... 1 1 101348.88]\n",
      " [608 'Spain' 0 ... 0 1 112542.58]\n",
      " [502 'France' 0 ... 1 0 113931.57]\n",
      " ...\n",
      " [709 'France' 0 ... 0 1 42085.58]\n",
      " [772 'Germany' 1 ... 1 0 92888.52]\n",
      " [792 'France' 0 ... 1 0 38190.78]]\n",
      "[[1.0 0.0 0.0 ... 1 1 101348.88]\n",
      " [0.0 0.0 1.0 ... 0 1 112542.58]\n",
      " [1.0 0.0 0.0 ... 1 0 113931.57]\n",
      " ...\n",
      " [1.0 0.0 0.0 ... 0 1 42085.58]\n",
      " [0.0 1.0 0.0 ... 1 0 92888.52]\n",
      " [1.0 0.0 0.0 ... 1 0 38190.78]]\n"
     ]
    }
   ],
   "source": [
    "# Label Encoding the \"Gender\" column\n",
    "from sklearn.preprocessing import LabelEncoder\n",
    "le = LabelEncoder()\n",
    "X[:, 2] = le.fit_transform(X[:, 2])\n",
    "print(X)\n",
    "# One Hot Encoding the \"Geography\" column\n",
    "from sklearn.compose import ColumnTransformer\n",
    "from sklearn.preprocessing import OneHotEncoder\n",
    "ct = ColumnTransformer(transformers=[('encoder', OneHotEncoder(), [1])], remainder='passthrough')\n",
    "X = np.array(ct.fit_transform(X))\n",
    "print(X)"
   ]
  },
  {
   "cell_type": "markdown",
   "metadata": {},
   "source": [
    "# Dividindo o dataset em conjunto de treinamento e conjunto de teste"
   ]
  },
  {
   "cell_type": "code",
   "execution_count": 6,
   "metadata": {},
   "outputs": [],
   "source": [
    "from sklearn.model_selection import train_test_split\n",
    "X_train, X_test, y_train, y_test = train_test_split(X, y, test_size = 0.2, random_state = 0)"
   ]
  },
  {
   "cell_type": "markdown",
   "metadata": {},
   "source": [
    "# Feature Scaling"
   ]
  },
  {
   "cell_type": "code",
   "execution_count": 7,
   "metadata": {},
   "outputs": [],
   "source": [
    "from sklearn.preprocessing import StandardScaler\n",
    "sc = StandardScaler()\n",
    "X_train = sc.fit_transform(X_train)\n",
    "X_test = sc.transform(X_test)"
   ]
  },
  {
   "cell_type": "code",
   "execution_count": 8,
   "metadata": {},
   "outputs": [
    {
     "data": {
      "text/plain": [
       "(8000, 12)"
      ]
     },
     "execution_count": 8,
     "metadata": {},
     "output_type": "execute_result"
    }
   ],
   "source": [
    "np.shape(X_train)"
   ]
  },
  {
   "cell_type": "markdown",
   "metadata": {},
   "source": [
    "---\n",
    "# Parte 2 -Vamos construir uma ANN!\n"
   ]
  },
  {
   "cell_type": "markdown",
   "metadata": {
    "colab_type": "text",
    "id": "KvdeScabXtlB"
   },
   "source": [
    "### Initializing the ANN"
   ]
  },
  {
   "cell_type": "code",
   "execution_count": 9,
   "metadata": {
    "colab": {},
    "colab_type": "code",
    "id": "3dtrScHxXQox"
   },
   "outputs": [],
   "source": [
    "ann = tf.keras.models.Sequential()"
   ]
  },
  {
   "cell_type": "markdown",
   "metadata": {
    "colab_type": "text",
    "id": "rP6urV6SX7kS"
   },
   "source": [
    "### Adding the input layer and the first hidden layer"
   ]
  },
  {
   "cell_type": "code",
   "execution_count": 10,
   "metadata": {
    "colab": {},
    "colab_type": "code",
    "id": "bppGycBXYCQr"
   },
   "outputs": [],
   "source": [
    "ann.add(tf.keras.layers.Dense(units=6, activation='swish'))"
   ]
  },
  {
   "cell_type": "markdown",
   "metadata": {
    "colab_type": "text",
    "id": "BELWAc_8YJze"
   },
   "source": [
    "### Adding the second hidden layer"
   ]
  },
  {
   "cell_type": "code",
   "execution_count": 11,
   "metadata": {
    "colab": {},
    "colab_type": "code",
    "id": "JneR0u0sYRTd"
   },
   "outputs": [],
   "source": [
    "ann.add(tf.keras.layers.Dense(units=6, activation='swish'))"
   ]
  },
  {
   "cell_type": "markdown",
   "metadata": {
    "colab_type": "text",
    "id": "OyNEe6RXYcU4"
   },
   "source": [
    "### Adding the output layer"
   ]
  },
  {
   "cell_type": "code",
   "execution_count": 12,
   "metadata": {
    "colab": {},
    "colab_type": "code",
    "id": "Cn3x41RBYfvY"
   },
   "outputs": [],
   "source": [
    "ann.add(tf.keras.layers.Dense(units=1, activation='relu'))"
   ]
  },
  {
   "cell_type": "markdown",
   "metadata": {
    "colab_type": "text",
    "id": "JT4u2S1_Y4WG"
   },
   "source": [
    "## Part 3 - Training the ANN"
   ]
  },
  {
   "cell_type": "markdown",
   "metadata": {
    "colab_type": "text",
    "id": "8GWlJChhY_ZI"
   },
   "source": [
    "### Compiling the ANN"
   ]
  },
  {
   "cell_type": "code",
   "execution_count": 13,
   "metadata": {
    "colab": {},
    "colab_type": "code",
    "id": "fG3RrwDXZEaS"
   },
   "outputs": [],
   "source": [
    "ann.compile(optimizer = 'adam', loss = 'binary_crossentropy', metrics = ['accuracy'])"
   ]
  },
  {
   "cell_type": "markdown",
   "metadata": {
    "colab_type": "text",
    "id": "0QR_G5u7ZLSM"
   },
   "source": [
    "### Training the ANN on the Training set"
   ]
  },
  {
   "cell_type": "code",
   "execution_count": 14,
   "metadata": {
    "colab": {
     "base_uri": "https://localhost:8080/",
     "height": 1000
    },
    "colab_type": "code",
    "id": "nHZ-LKv_ZRb3",
    "outputId": "718cc4b0-b5aa-40f0-9b20-d3d31730a531"
   },
   "outputs": [
    {
     "name": "stdout",
     "output_type": "stream",
     "text": [
      "Epoch 1/100\n",
      "250/250 [==============================] - 0s 469us/step - loss: 1.3238 - accuracy: 0.7856\n",
      "Epoch 2/100\n",
      "250/250 [==============================] - 0s 448us/step - loss: 0.8655 - accuracy: 0.7817\n",
      "Epoch 3/100\n",
      "250/250 [==============================] - 0s 456us/step - loss: 0.7565 - accuracy: 0.7860\n",
      "Epoch 4/100\n",
      "250/250 [==============================] - 0s 435us/step - loss: 0.6782 - accuracy: 0.7769\n",
      "Epoch 5/100\n",
      "250/250 [==============================] - 0s 481us/step - loss: 0.6741 - accuracy: 0.7332\n",
      "Epoch 6/100\n",
      "250/250 [==============================] - 0s 463us/step - loss: 0.6665 - accuracy: 0.7272\n",
      "Epoch 7/100\n",
      "250/250 [==============================] - 0s 453us/step - loss: 0.6334 - accuracy: 0.7351\n",
      "Epoch 8/100\n",
      "250/250 [==============================] - 0s 449us/step - loss: 0.6143 - accuracy: 0.7356\n",
      "Epoch 9/100\n",
      "250/250 [==============================] - 0s 432us/step - loss: 0.6215 - accuracy: 0.7280\n",
      "Epoch 10/100\n",
      "250/250 [==============================] - 0s 456us/step - loss: 0.6360 - accuracy: 0.7354\n",
      "Epoch 11/100\n",
      "250/250 [==============================] - 0s 422us/step - loss: 0.6107 - accuracy: 0.7410\n",
      "Epoch 12/100\n",
      "250/250 [==============================] - 0s 458us/step - loss: 0.5968 - accuracy: 0.7414\n",
      "Epoch 13/100\n",
      "250/250 [==============================] - 0s 474us/step - loss: 0.6053 - accuracy: 0.7285\n",
      "Epoch 14/100\n",
      "250/250 [==============================] - 0s 453us/step - loss: 0.5656 - accuracy: 0.7516\n",
      "Epoch 15/100\n",
      "250/250 [==============================] - 0s 448us/step - loss: 0.5773 - accuracy: 0.7470\n",
      "Epoch 16/100\n",
      "250/250 [==============================] - 0s 429us/step - loss: 0.5799 - accuracy: 0.7475\n",
      "Epoch 17/100\n",
      "250/250 [==============================] - 0s 427us/step - loss: 0.5745 - accuracy: 0.7558\n",
      "Epoch 18/100\n",
      "250/250 [==============================] - 0s 477us/step - loss: 0.5578 - accuracy: 0.7545\n",
      "Epoch 19/100\n",
      "250/250 [==============================] - 0s 456us/step - loss: 0.5539 - accuracy: 0.7580\n",
      "Epoch 20/100\n",
      "250/250 [==============================] - 0s 466us/step - loss: 0.5574 - accuracy: 0.7519\n",
      "Epoch 21/100\n",
      "250/250 [==============================] - 0s 484us/step - loss: 0.5676 - accuracy: 0.7524\n",
      "Epoch 22/100\n",
      "250/250 [==============================] - 0s 468us/step - loss: 0.5647 - accuracy: 0.7546\n",
      "Epoch 23/100\n",
      "250/250 [==============================] - 0s 468us/step - loss: 0.5561 - accuracy: 0.7634\n",
      "Epoch 24/100\n",
      "250/250 [==============================] - 0s 451us/step - loss: 0.5336 - accuracy: 0.7795\n",
      "Epoch 25/100\n",
      "250/250 [==============================] - 0s 457us/step - loss: 0.5280 - accuracy: 0.7747\n",
      "Epoch 26/100\n",
      "250/250 [==============================] - 0s 472us/step - loss: 0.5267 - accuracy: 0.7771\n",
      "Epoch 27/100\n",
      "250/250 [==============================] - 0s 436us/step - loss: 0.5140 - accuracy: 0.7913\n",
      "Epoch 28/100\n",
      "250/250 [==============================] - 0s 455us/step - loss: 0.5040 - accuracy: 0.7886\n",
      "Epoch 29/100\n",
      "250/250 [==============================] - 0s 467us/step - loss: 0.4959 - accuracy: 0.7894\n",
      "Epoch 30/100\n",
      "250/250 [==============================] - 0s 456us/step - loss: 0.5077 - accuracy: 0.7846\n",
      "Epoch 31/100\n",
      "250/250 [==============================] - 0s 452us/step - loss: 0.4940 - accuracy: 0.7876\n",
      "Epoch 32/100\n",
      "250/250 [==============================] - 0s 460us/step - loss: 0.4891 - accuracy: 0.7822\n",
      "Epoch 33/100\n",
      "250/250 [==============================] - 0s 448us/step - loss: 0.4763 - accuracy: 0.8006\n",
      "Epoch 34/100\n",
      "250/250 [==============================] - 0s 462us/step - loss: 0.4739 - accuracy: 0.7927\n",
      "Epoch 35/100\n",
      "250/250 [==============================] - 0s 454us/step - loss: 0.4703 - accuracy: 0.7957\n",
      "Epoch 36/100\n",
      "250/250 [==============================] - 0s 474us/step - loss: 0.4625 - accuracy: 0.8021\n",
      "Epoch 37/100\n",
      "250/250 [==============================] - 0s 473us/step - loss: 0.4573 - accuracy: 0.8037\n",
      "Epoch 38/100\n",
      "250/250 [==============================] - 0s 434us/step - loss: 0.4600 - accuracy: 0.8059\n",
      "Epoch 39/100\n",
      "250/250 [==============================] - 0s 432us/step - loss: 0.4745 - accuracy: 0.7977\n",
      "Epoch 40/100\n",
      "250/250 [==============================] - 0s 457us/step - loss: 0.4716 - accuracy: 0.8036\n",
      "Epoch 41/100\n",
      "250/250 [==============================] - 0s 476us/step - loss: 0.4648 - accuracy: 0.8107\n",
      "Epoch 42/100\n",
      "250/250 [==============================] - 0s 482us/step - loss: 0.4547 - accuracy: 0.8045\n",
      "Epoch 43/100\n",
      "250/250 [==============================] - 0s 459us/step - loss: 0.4505 - accuracy: 0.8131\n",
      "Epoch 44/100\n",
      "250/250 [==============================] - 0s 464us/step - loss: 0.4374 - accuracy: 0.8119\n",
      "Epoch 45/100\n",
      "250/250 [==============================] - 0s 469us/step - loss: 0.4491 - accuracy: 0.8106\n",
      "Epoch 46/100\n",
      "250/250 [==============================] - 0s 480us/step - loss: 0.4320 - accuracy: 0.8233\n",
      "Epoch 47/100\n",
      "250/250 [==============================] - 0s 459us/step - loss: 0.4315 - accuracy: 0.8202\n",
      "Epoch 48/100\n",
      "250/250 [==============================] - 0s 462us/step - loss: 0.4390 - accuracy: 0.8182\n",
      "Epoch 49/100\n",
      "250/250 [==============================] - 0s 468us/step - loss: 0.4346 - accuracy: 0.8233\n",
      "Epoch 50/100\n",
      "250/250 [==============================] - 0s 450us/step - loss: 0.4363 - accuracy: 0.8191\n",
      "Epoch 51/100\n",
      "250/250 [==============================] - 0s 477us/step - loss: 0.4237 - accuracy: 0.8205\n",
      "Epoch 52/100\n",
      "250/250 [==============================] - 0s 467us/step - loss: 0.4215 - accuracy: 0.8187\n",
      "Epoch 53/100\n",
      "250/250 [==============================] - 0s 470us/step - loss: 0.4160 - accuracy: 0.8173\n",
      "Epoch 54/100\n",
      "250/250 [==============================] - 0s 483us/step - loss: 0.4328 - accuracy: 0.8165\n",
      "Epoch 55/100\n",
      "250/250 [==============================] - 0s 443us/step - loss: 0.4216 - accuracy: 0.8180\n",
      "Epoch 56/100\n",
      "250/250 [==============================] - 0s 457us/step - loss: 0.4231 - accuracy: 0.8210\n",
      "Epoch 57/100\n",
      "250/250 [==============================] - 0s 450us/step - loss: 0.4222 - accuracy: 0.8187\n",
      "Epoch 58/100\n",
      "250/250 [==============================] - 0s 456us/step - loss: 0.4201 - accuracy: 0.8212\n",
      "Epoch 59/100\n",
      "250/250 [==============================] - 0s 443us/step - loss: 0.4244 - accuracy: 0.8243\n",
      "Epoch 60/100\n",
      "250/250 [==============================] - 0s 479us/step - loss: 0.4023 - accuracy: 0.8235\n",
      "Epoch 61/100\n",
      "250/250 [==============================] - 0s 476us/step - loss: 0.4052 - accuracy: 0.8218\n",
      "Epoch 62/100\n",
      "250/250 [==============================] - 0s 443us/step - loss: 0.4051 - accuracy: 0.8276\n",
      "Epoch 63/100\n",
      "250/250 [==============================] - 0s 463us/step - loss: 0.4045 - accuracy: 0.8284\n",
      "Epoch 64/100\n",
      "250/250 [==============================] - 0s 470us/step - loss: 0.3943 - accuracy: 0.8277\n",
      "Epoch 65/100\n",
      "250/250 [==============================] - 0s 481us/step - loss: 0.3900 - accuracy: 0.8334\n",
      "Epoch 66/100\n",
      "250/250 [==============================] - 0s 472us/step - loss: 0.4001 - accuracy: 0.8324\n",
      "Epoch 67/100\n",
      "250/250 [==============================] - 0s 446us/step - loss: 0.4030 - accuracy: 0.8378\n",
      "Epoch 68/100\n",
      "250/250 [==============================] - 0s 471us/step - loss: 0.3753 - accuracy: 0.8448\n",
      "Epoch 69/100\n",
      "250/250 [==============================] - 0s 479us/step - loss: 0.3845 - accuracy: 0.8373\n",
      "Epoch 70/100\n",
      "250/250 [==============================] - 0s 464us/step - loss: 0.4032 - accuracy: 0.8371\n",
      "Epoch 71/100\n",
      "250/250 [==============================] - 0s 476us/step - loss: 0.3741 - accuracy: 0.8432\n",
      "Epoch 72/100\n",
      "250/250 [==============================] - 0s 463us/step - loss: 0.3791 - accuracy: 0.8382\n",
      "Epoch 73/100\n",
      "250/250 [==============================] - 0s 463us/step - loss: 0.3693 - accuracy: 0.8520\n",
      "Epoch 74/100\n",
      "250/250 [==============================] - 0s 473us/step - loss: 0.3593 - accuracy: 0.8520\n",
      "Epoch 75/100\n",
      "250/250 [==============================] - 0s 466us/step - loss: 0.3586 - accuracy: 0.8487\n",
      "Epoch 76/100\n",
      "250/250 [==============================] - 0s 476us/step - loss: 0.3791 - accuracy: 0.8545\n",
      "Epoch 77/100\n",
      "250/250 [==============================] - 0s 458us/step - loss: 0.3718 - accuracy: 0.8533\n",
      "Epoch 78/100\n",
      "250/250 [==============================] - 0s 468us/step - loss: 0.3673 - accuracy: 0.8480\n",
      "Epoch 79/100\n"
     ]
    },
    {
     "name": "stdout",
     "output_type": "stream",
     "text": [
      "250/250 [==============================] - 0s 486us/step - loss: 0.3602 - accuracy: 0.8536\n",
      "Epoch 80/100\n",
      "250/250 [==============================] - 0s 473us/step - loss: 0.3571 - accuracy: 0.8612\n",
      "Epoch 81/100\n",
      "250/250 [==============================] - 0s 408us/step - loss: 0.3562 - accuracy: 0.8558\n",
      "Epoch 82/100\n",
      "250/250 [==============================] - 0s 453us/step - loss: 0.3582 - accuracy: 0.8534\n",
      "Epoch 83/100\n",
      "250/250 [==============================] - 0s 449us/step - loss: 0.3615 - accuracy: 0.8563\n",
      "Epoch 84/100\n",
      "250/250 [==============================] - 0s 455us/step - loss: 0.3647 - accuracy: 0.8567\n",
      "Epoch 85/100\n",
      "250/250 [==============================] - 0s 452us/step - loss: 0.3530 - accuracy: 0.8623\n",
      "Epoch 86/100\n",
      "250/250 [==============================] - 0s 450us/step - loss: 0.3640 - accuracy: 0.8538\n",
      "Epoch 87/100\n",
      "250/250 [==============================] - 0s 465us/step - loss: 0.3546 - accuracy: 0.8572\n",
      "Epoch 88/100\n",
      "250/250 [==============================] - 0s 453us/step - loss: 0.3732 - accuracy: 0.8511\n",
      "Epoch 89/100\n",
      "250/250 [==============================] - 0s 466us/step - loss: 0.3532 - accuracy: 0.8577\n",
      "Epoch 90/100\n",
      "250/250 [==============================] - 0s 443us/step - loss: 0.3587 - accuracy: 0.8573\n",
      "Epoch 91/100\n",
      "250/250 [==============================] - 0s 449us/step - loss: 0.3422 - accuracy: 0.8641\n",
      "Epoch 92/100\n",
      "250/250 [==============================] - 0s 466us/step - loss: 0.3651 - accuracy: 0.8606\n",
      "Epoch 93/100\n",
      "250/250 [==============================] - 0s 471us/step - loss: 0.3572 - accuracy: 0.8610\n",
      "Epoch 94/100\n",
      "250/250 [==============================] - 0s 450us/step - loss: 0.3582 - accuracy: 0.8584\n",
      "Epoch 95/100\n",
      "250/250 [==============================] - 0s 439us/step - loss: 0.3719 - accuracy: 0.8571\n",
      "Epoch 96/100\n",
      "250/250 [==============================] - 0s 466us/step - loss: 0.3547 - accuracy: 0.8566\n",
      "Epoch 97/100\n",
      "250/250 [==============================] - 0s 479us/step - loss: 0.3529 - accuracy: 0.8558\n",
      "Epoch 98/100\n",
      "250/250 [==============================] - 0s 435us/step - loss: 0.3547 - accuracy: 0.8533\n",
      "Epoch 99/100\n",
      "250/250 [==============================] - 0s 462us/step - loss: 0.3419 - accuracy: 0.8664\n",
      "Epoch 100/100\n",
      "250/250 [==============================] - 0s 459us/step - loss: 0.3464 - accuracy: 0.8645\n"
     ]
    },
    {
     "data": {
      "text/plain": [
       "<tensorflow.python.keras.callbacks.History at 0x7fa6104ee490>"
      ]
     },
     "execution_count": 14,
     "metadata": {},
     "output_type": "execute_result"
    }
   ],
   "source": [
    "ann.fit(X_train, y_train, batch_size = 32, epochs = 100)"
   ]
  },
  {
   "cell_type": "markdown",
   "metadata": {},
   "source": [
    "# Parte 3 - Fazendo predições e avaliando o modelo\n",
    "\n",
    "## Prevendo os resultados com o conjunto de testes"
   ]
  },
  {
   "cell_type": "code",
   "execution_count": 15,
   "metadata": {},
   "outputs": [
    {
     "data": {
      "text/plain": [
       "array([[0.2658307 ],\n",
       "       [0.3349145 ],\n",
       "       [0.27274677],\n",
       "       ...,\n",
       "       [0.11698997],\n",
       "       [0.13377765],\n",
       "       [0.21475975]], dtype=float32)"
      ]
     },
     "execution_count": 15,
     "metadata": {},
     "output_type": "execute_result"
    }
   ],
   "source": [
    "y_pred = ann.predict(X_test)\n",
    "y_pred"
   ]
  },
  {
   "cell_type": "code",
   "execution_count": 16,
   "metadata": {},
   "outputs": [
    {
     "data": {
      "text/plain": [
       "array([[False],\n",
       "       [False],\n",
       "       [False],\n",
       "       ...,\n",
       "       [False],\n",
       "       [False],\n",
       "       [False]])"
      ]
     },
     "execution_count": 16,
     "metadata": {},
     "output_type": "execute_result"
    }
   ],
   "source": [
    "y_pred = (y_pred > 0.5)\n",
    "y_pred"
   ]
  },
  {
   "cell_type": "markdown",
   "metadata": {},
   "source": [
    "# Criando uma Confusion Matrix"
   ]
  },
  {
   "cell_type": "code",
   "execution_count": 17,
   "metadata": {},
   "outputs": [
    {
     "name": "stdout",
     "output_type": "stream",
     "text": [
      "[[1527   68]\n",
      " [ 203  202]]\n",
      "Porcentagem acerto: 86.45\n"
     ]
    }
   ],
   "source": [
    "from sklearn.metrics import confusion_matrix\n",
    "cm = confusion_matrix(y_test, y_pred)\n",
    "print(cm)\n",
    "\n",
    "total_linhas = (\n",
    "        cm[0][0]\n",
    "        + cm[1][1]\n",
    "        + cm[0][1]\n",
    "        + cm[1][0])\n",
    "predicoes_corretas = cm[0][0] + cm[1][1]\n",
    "porcentagem_acertos = (predicoes_corretas * 100)  / total_linhas\n",
    "print(f'Porcentagem acerto: {porcentagem_acertos}')"
   ]
  },
  {
   "cell_type": "markdown",
   "metadata": {},
   "source": [
    "# FIM"
   ]
  },
  {
   "cell_type": "markdown",
   "metadata": {},
   "source": [
    "> Professor Diego Dorgam  \n",
    "> [@diegodorgam](https://twitter.com/diegodorgam)"
   ]
  }
 ],
 "metadata": {
  "kernelspec": {
   "display_name": "Python 3",
   "language": "python",
   "name": "python3"
  },
  "language_info": {
   "codemirror_mode": {
    "name": "ipython",
    "version": 3
   },
   "file_extension": ".py",
   "mimetype": "text/x-python",
   "name": "python",
   "nbconvert_exporter": "python",
   "pygments_lexer": "ipython3",
   "version": "3.8.2"
  }
 },
 "nbformat": 4,
 "nbformat_minor": 4
}
