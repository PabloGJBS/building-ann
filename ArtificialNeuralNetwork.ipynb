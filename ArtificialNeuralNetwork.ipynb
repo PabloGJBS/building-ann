{
 "cells": [
  {
   "cell_type": "markdown",
   "metadata": {},
   "source": [
    "# REDES NEURAIS ARTIFICIAIS\n",
    "\n",
    "[Aula 3 de Deep Learning](http://bit.ly/dn-unb03) da Engenharia de Software da UnB"
   ]
  },
  {
   "cell_type": "code",
   "execution_count": null,
   "metadata": {},
   "outputs": [],
   "source": [
    "# Installing Theano\n",
    "! pip install --upgrade --no-deps git+git://github.com/Theano/Theano.git\n",
    "\n",
    "# Installing Tensorflow\n",
    "! pip install --upgrade tensorflow\n",
    "\n",
    "# Installing Keras\n",
    "! pip install --upgrade keras\n",
    "\n",
    "# Install other packages\n",
    "! pip install --upgrade pip pandas numpy matplotlib sklearn"
   ]
  },
  {
   "cell_type": "markdown",
   "metadata": {},
   "source": [
    "# Parte 1 - Preprocessamento dos Dados"
   ]
  },
  {
   "cell_type": "markdown",
   "metadata": {},
   "source": [
    "### Importar as libs"
   ]
  },
  {
   "cell_type": "code",
   "execution_count": 43,
   "metadata": {},
   "outputs": [],
   "source": [
    "import numpy as np\n",
    "import matplotlib.pyplot as plt\n",
    "import pandas as pd"
   ]
  },
  {
   "cell_type": "markdown",
   "metadata": {},
   "source": [
    "### Importar o dataset"
   ]
  },
  {
   "cell_type": "code",
   "execution_count": 44,
   "metadata": {},
   "outputs": [
    {
     "name": "stdout",
     "output_type": "stream",
     "text": [
      "X >>\n",
      " [[619 'France' 'Female' ... 1 1 101348.88]\n",
      " [608 'Spain' 'Female' ... 0 1 112542.58]\n",
      " [502 'France' 'Female' ... 1 0 113931.57]\n",
      " ...\n",
      " [709 'France' 'Female' ... 0 1 42085.58]\n",
      " [772 'Germany' 'Male' ... 1 0 92888.52]\n",
      " [792 'France' 'Female' ... 1 0 38190.78]]\n",
      "y >>\n",
      " [1 0 1 ... 1 1 0]\n"
     ]
    }
   ],
   "source": [
    "dataset = pd.read_csv('Churn_Modelling.csv')\n",
    "X = dataset.iloc[:, 3:13].values\n",
    "y = dataset.iloc[:, 13].values\n",
    "print(\"X >>\\n\",X)\n",
    "print(\"y >>\\n\",y)"
   ]
  },
  {
   "cell_type": "markdown",
   "metadata": {},
   "source": [
    "### Transformando os dados categóricos\n"
   ]
  },
  {
   "cell_type": "code",
   "execution_count": 45,
   "metadata": {},
   "outputs": [
    {
     "name": "stdout",
     "output_type": "stream",
     "text": [
      "X >>\n",
      " [[0.0000000e+00 0.0000000e+00 6.1900000e+02 ... 1.0000000e+00\n",
      "  1.0000000e+00 1.0134888e+05]\n",
      " [0.0000000e+00 1.0000000e+00 6.0800000e+02 ... 0.0000000e+00\n",
      "  1.0000000e+00 1.1254258e+05]\n",
      " [0.0000000e+00 0.0000000e+00 5.0200000e+02 ... 1.0000000e+00\n",
      "  0.0000000e+00 1.1393157e+05]\n",
      " ...\n",
      " [0.0000000e+00 0.0000000e+00 7.0900000e+02 ... 0.0000000e+00\n",
      "  1.0000000e+00 4.2085580e+04]\n",
      " [1.0000000e+00 0.0000000e+00 7.7200000e+02 ... 1.0000000e+00\n",
      "  0.0000000e+00 9.2888520e+04]\n",
      " [0.0000000e+00 0.0000000e+00 7.9200000e+02 ... 1.0000000e+00\n",
      "  0.0000000e+00 3.8190780e+04]]\n"
     ]
    },
    {
     "name": "stderr",
     "output_type": "stream",
     "text": [
      "/home/lucas/anaconda3/lib/python3.7/site-packages/sklearn/preprocessing/_encoders.py:415: FutureWarning: The handling of integer data will change in version 0.22. Currently, the categories are determined based on the range [0, max(values)], while in the future they will be determined based on the unique values.\n",
      "If you want the future behaviour and silence this warning, you can specify \"categories='auto'\".\n",
      "In case you used a LabelEncoder before this OneHotEncoder to convert the categories to integers, then you can now use the OneHotEncoder directly.\n",
      "  warnings.warn(msg, FutureWarning)\n",
      "/home/lucas/anaconda3/lib/python3.7/site-packages/sklearn/preprocessing/_encoders.py:451: DeprecationWarning: The 'categorical_features' keyword is deprecated in version 0.20 and will be removed in 0.22. You can use the ColumnTransformer instead.\n",
      "  \"use the ColumnTransformer instead.\", DeprecationWarning)\n"
     ]
    }
   ],
   "source": [
    "from sklearn.preprocessing import LabelEncoder, OneHotEncoder\n",
    "labelencoder_X_1 = LabelEncoder()\n",
    "X[:, 1] = labelencoder_X_1.fit_transform(X[:, 1])\n",
    "labelencoder_X_2 = LabelEncoder()\n",
    "X[:, 2] = labelencoder_X_2.fit_transform(X[:, 2])\n",
    "onehotencoder = OneHotEncoder(categorical_features = [1])\n",
    "X = onehotencoder.fit_transform(X).toarray()\n",
    "X = X[:, 1:]\n",
    "print(\"X >>\\n\",X)"
   ]
  },
  {
   "cell_type": "markdown",
   "metadata": {},
   "source": [
    "# Dividindo o dataset em conjunto de treinamento e conjunto de teste"
   ]
  },
  {
   "cell_type": "code",
   "execution_count": 46,
   "metadata": {},
   "outputs": [],
   "source": [
    "from sklearn.model_selection import train_test_split\n",
    "X_train, X_test, y_train, y_test = train_test_split(X, y, test_size = 0.2, random_state = 0)"
   ]
  },
  {
   "cell_type": "markdown",
   "metadata": {},
   "source": [
    "# Feature Scaling"
   ]
  },
  {
   "cell_type": "code",
   "execution_count": 47,
   "metadata": {},
   "outputs": [],
   "source": [
    "from sklearn.preprocessing import StandardScaler\n",
    "sc = StandardScaler()\n",
    "X_train = sc.fit_transform(X_train)\n",
    "X_test = sc.transform(X_test)"
   ]
  },
  {
   "cell_type": "markdown",
   "metadata": {},
   "source": [
    "---\n",
    "# Parte 2 -Vamos construir uma ANN!\n",
    "\n",
    "## Importando o Keras\n"
   ]
  },
  {
   "cell_type": "code",
   "execution_count": 48,
   "metadata": {},
   "outputs": [],
   "source": [
    "import keras\n",
    "from keras.models import Sequential\n",
    "from keras.layers import Dense"
   ]
  },
  {
   "cell_type": "code",
   "execution_count": 25,
   "metadata": {},
   "outputs": [],
   "source": [
    "# Initialising the ANN\n",
    "classifier = Sequential()\n",
    "\n",
    "# Adding the input layer and the first hidden layer\n",
    "classifier.add(Dense(units = 6, kernel_initializer = 'uniform', activation = 'relu', input_dim = 11))\n",
    "\n",
    "# Adding the second hidden layer\n",
    "classifier.add(Dense(units = 6, kernel_initializer = 'uniform', activation = 'relu'))\n",
    "\n",
    "# Adding the output layer\n",
    "classifier.add(Dense(units = 1, kernel_initializer = 'uniform', activation = 'sigmoid'))\n",
    "\n",
    "# Compiling the ANN\n",
    "classifier.compile(optimizer = 'adam', loss = 'binary_crossentropy', metrics = ['accuracy'])"
   ]
  },
  {
   "cell_type": "markdown",
   "metadata": {},
   "source": [
    "# Ajustando a ANN ao conjunto de treinamento"
   ]
  },
  {
   "cell_type": "code",
   "execution_count": 26,
   "metadata": {},
   "outputs": [
    {
     "name": "stdout",
     "output_type": "stream",
     "text": [
      "Epoch 1/100\n",
      "800/800 [==============================] - 1s 806us/step - loss: 0.4893 - accuracy: 0.7956\n",
      "Epoch 2/100\n",
      "800/800 [==============================] - 1s 884us/step - loss: 0.4264 - accuracy: 0.7960\n",
      "Epoch 3/100\n",
      "800/800 [==============================] - 1s 835us/step - loss: 0.4188 - accuracy: 0.8148\n",
      "Epoch 4/100\n",
      "800/800 [==============================] - 1s 831us/step - loss: 0.4128 - accuracy: 0.8319\n",
      "Epoch 5/100\n",
      "800/800 [==============================] - 1s 814us/step - loss: 0.4089 - accuracy: 0.8340\n",
      "Epoch 6/100\n",
      "800/800 [==============================] - 1s 811us/step - loss: 0.4065 - accuracy: 0.8328\n",
      "Epoch 7/100\n",
      "800/800 [==============================] - 1s 861us/step - loss: 0.4039 - accuracy: 0.8346\n",
      "Epoch 8/100\n",
      "800/800 [==============================] - 1s 866us/step - loss: 0.4022 - accuracy: 0.8350\n",
      "Epoch 9/100\n",
      "800/800 [==============================] - 1s 876us/step - loss: 0.4014 - accuracy: 0.8349\n",
      "Epoch 10/100\n",
      "800/800 [==============================] - 1s 930us/step - loss: 0.4001 - accuracy: 0.8354\n",
      "Epoch 11/100\n",
      "800/800 [==============================] - 1s 858us/step - loss: 0.3989 - accuracy: 0.8355\n",
      "Epoch 12/100\n",
      "800/800 [==============================] - 1s 812us/step - loss: 0.3987 - accuracy: 0.8350\n",
      "Epoch 13/100\n",
      "800/800 [==============================] - 1s 848us/step - loss: 0.3978 - accuracy: 0.8347\n",
      "Epoch 14/100\n",
      "800/800 [==============================] - 1s 835us/step - loss: 0.3975 - accuracy: 0.8347\n",
      "Epoch 15/100\n",
      "800/800 [==============================] - 1s 834us/step - loss: 0.3971 - accuracy: 0.8347\n",
      "Epoch 16/100\n",
      "800/800 [==============================] - 1s 855us/step - loss: 0.3968 - accuracy: 0.8330\n",
      "Epoch 17/100\n",
      "800/800 [==============================] - 1s 876us/step - loss: 0.3962 - accuracy: 0.8353\n",
      "Epoch 18/100\n",
      "800/800 [==============================] - 1s 861us/step - loss: 0.3960 - accuracy: 0.8335\n",
      "Epoch 19/100\n",
      "800/800 [==============================] - 1s 857us/step - loss: 0.3956 - accuracy: 0.8356\n",
      "Epoch 20/100\n",
      "800/800 [==============================] - 1s 907us/step - loss: 0.3948 - accuracy: 0.8344\n",
      "Epoch 21/100\n",
      "800/800 [==============================] - 1s 848us/step - loss: 0.3954 - accuracy: 0.8346\n",
      "Epoch 22/100\n",
      "800/800 [==============================] - 1s 794us/step - loss: 0.3953 - accuracy: 0.8350\n",
      "Epoch 23/100\n",
      "800/800 [==============================] - 1s 811us/step - loss: 0.3947 - accuracy: 0.8369\n",
      "Epoch 24/100\n",
      "800/800 [==============================] - 1s 844us/step - loss: 0.3947 - accuracy: 0.8347\n",
      "Epoch 25/100\n",
      "800/800 [==============================] - 1s 853us/step - loss: 0.3951 - accuracy: 0.83650s - loss: 0.3924 - accura\n",
      "Epoch 26/100\n",
      "800/800 [==============================] - 1s 815us/step - loss: 0.3943 - accuracy: 0.8351\n",
      "Epoch 27/100\n",
      "800/800 [==============================] - 1s 824us/step - loss: 0.3943 - accuracy: 0.8349\n",
      "Epoch 28/100\n",
      "800/800 [==============================] - 1s 817us/step - loss: 0.3948 - accuracy: 0.8355\n",
      "Epoch 29/100\n",
      "800/800 [==============================] - 1s 802us/step - loss: 0.3945 - accuracy: 0.8351\n",
      "Epoch 30/100\n",
      "800/800 [==============================] - 1s 835us/step - loss: 0.3941 - accuracy: 0.8359\n",
      "Epoch 31/100\n",
      "800/800 [==============================] - 1s 835us/step - loss: 0.3941 - accuracy: 0.8335\n",
      "Epoch 32/100\n",
      "800/800 [==============================] - 1s 809us/step - loss: 0.3941 - accuracy: 0.8372\n",
      "Epoch 33/100\n",
      "800/800 [==============================] - 1s 832us/step - loss: 0.3940 - accuracy: 0.8361\n",
      "Epoch 34/100\n",
      "800/800 [==============================] - 1s 845us/step - loss: 0.3940 - accuracy: 0.8350\n",
      "Epoch 35/100\n",
      "800/800 [==============================] - 1s 825us/step - loss: 0.3937 - accuracy: 0.8356\n",
      "Epoch 36/100\n",
      "800/800 [==============================] - 1s 870us/step - loss: 0.3943 - accuracy: 0.8385\n",
      "Epoch 37/100\n",
      "800/800 [==============================] - 1s 825us/step - loss: 0.3939 - accuracy: 0.8365\n",
      "Epoch 38/100\n",
      "800/800 [==============================] - 1s 876us/step - loss: 0.3938 - accuracy: 0.8367\n",
      "Epoch 39/100\n",
      "800/800 [==============================] - 1s 834us/step - loss: 0.3940 - accuracy: 0.8371\n",
      "Epoch 40/100\n",
      "800/800 [==============================] - 1s 855us/step - loss: 0.3941 - accuracy: 0.8371\n",
      "Epoch 41/100\n",
      "800/800 [==============================] - 1s 834us/step - loss: 0.3939 - accuracy: 0.8367\n",
      "Epoch 42/100\n",
      "800/800 [==============================] - 1s 851us/step - loss: 0.3935 - accuracy: 0.8360\n",
      "Epoch 43/100\n",
      "800/800 [==============================] - 1s 795us/step - loss: 0.3937 - accuracy: 0.8357\n",
      "Epoch 44/100\n",
      "800/800 [==============================] - 1s 827us/step - loss: 0.3936 - accuracy: 0.8371\n",
      "Epoch 45/100\n",
      "800/800 [==============================] - 1s 830us/step - loss: 0.3937 - accuracy: 0.8366\n",
      "Epoch 46/100\n",
      "800/800 [==============================] - 1s 852us/step - loss: 0.3940 - accuracy: 0.8367\n",
      "Epoch 47/100\n",
      "800/800 [==============================] - 1s 881us/step - loss: 0.3933 - accuracy: 0.8371\n",
      "Epoch 48/100\n",
      "800/800 [==============================] - 1s 880us/step - loss: 0.3936 - accuracy: 0.8357\n",
      "Epoch 49/100\n",
      "800/800 [==============================] - 1s 850us/step - loss: 0.3936 - accuracy: 0.8375\n",
      "Epoch 50/100\n",
      "800/800 [==============================] - 1s 801us/step - loss: 0.3927 - accuracy: 0.8374\n",
      "Epoch 51/100\n",
      "800/800 [==============================] - 1s 846us/step - loss: 0.3936 - accuracy: 0.8363\n",
      "Epoch 52/100\n",
      "800/800 [==============================] - 1s 814us/step - loss: 0.3933 - accuracy: 0.8353\n",
      "Epoch 53/100\n",
      "800/800 [==============================] - 1s 857us/step - loss: 0.3939 - accuracy: 0.8364\n",
      "Epoch 54/100\n",
      "800/800 [==============================] - 1s 871us/step - loss: 0.3936 - accuracy: 0.8378\n",
      "Epoch 55/100\n",
      "800/800 [==============================] - 1s 894us/step - loss: 0.3932 - accuracy: 0.8370\n",
      "Epoch 56/100\n",
      "800/800 [==============================] - 1s 908us/step - loss: 0.3935 - accuracy: 0.8363\n",
      "Epoch 57/100\n",
      "800/800 [==============================] - 1s 808us/step - loss: 0.3927 - accuracy: 0.8385\n",
      "Epoch 58/100\n",
      "800/800 [==============================] - 1s 782us/step - loss: 0.3927 - accuracy: 0.8376\n",
      "Epoch 59/100\n",
      "800/800 [==============================] - 1s 822us/step - loss: 0.3932 - accuracy: 0.8380\n",
      "Epoch 60/100\n",
      "800/800 [==============================] - 1s 836us/step - loss: 0.3932 - accuracy: 0.8356\n",
      "Epoch 61/100\n",
      "800/800 [==============================] - 1s 830us/step - loss: 0.3932 - accuracy: 0.8386\n",
      "Epoch 62/100\n",
      "800/800 [==============================] - 1s 827us/step - loss: 0.3935 - accuracy: 0.8374\n",
      "Epoch 63/100\n",
      "800/800 [==============================] - 1s 890us/step - loss: 0.3934 - accuracy: 0.8366\n",
      "Epoch 64/100\n",
      "800/800 [==============================] - 1s 860us/step - loss: 0.3933 - accuracy: 0.8364\n",
      "Epoch 65/100\n",
      "800/800 [==============================] - 1s 849us/step - loss: 0.3929 - accuracy: 0.8367\n",
      "Epoch 66/100\n",
      "800/800 [==============================] - 1s 848us/step - loss: 0.3934 - accuracy: 0.8359\n",
      "Epoch 67/100\n",
      "800/800 [==============================] - 1s 833us/step - loss: 0.3928 - accuracy: 0.8367\n",
      "Epoch 68/100\n",
      "800/800 [==============================] - 1s 890us/step - loss: 0.3933 - accuracy: 0.8390\n",
      "Epoch 69/100\n",
      "800/800 [==============================] - 1s 924us/step - loss: 0.3932 - accuracy: 0.8380\n",
      "Epoch 70/100\n",
      "800/800 [==============================] - 1s 775us/step - loss: 0.3929 - accuracy: 0.8384\n",
      "Epoch 71/100\n",
      "800/800 [==============================] - 1s 806us/step - loss: 0.3930 - accuracy: 0.8366\n",
      "Epoch 72/100\n",
      "800/800 [==============================] - 1s 849us/step - loss: 0.3933 - accuracy: 0.8366\n",
      "Epoch 73/100\n",
      "800/800 [==============================] - 1s 818us/step - loss: 0.3934 - accuracy: 0.8379\n",
      "Epoch 74/100\n",
      "800/800 [==============================] - 1s 876us/step - loss: 0.3927 - accuracy: 0.8371\n",
      "Epoch 75/100\n",
      "800/800 [==============================] - 1s 776us/step - loss: 0.3934 - accuracy: 0.8384\n",
      "Epoch 76/100\n",
      "800/800 [==============================] - 1s 873us/step - loss: 0.3925 - accuracy: 0.8378\n",
      "Epoch 77/100\n",
      "800/800 [==============================] - 1s 804us/step - loss: 0.3924 - accuracy: 0.8389\n",
      "Epoch 78/100\n",
      "800/800 [==============================] - 1s 864us/step - loss: 0.3928 - accuracy: 0.8376\n",
      "Epoch 79/100\n",
      "800/800 [==============================] - 1s 902us/step - loss: 0.3933 - accuracy: 0.8367\n",
      "Epoch 80/100\n",
      "800/800 [==============================] - 1s 848us/step - loss: 0.3910 - accuracy: 0.8378\n",
      "Epoch 81/100\n",
      "800/800 [==============================] - 1s 845us/step - loss: 0.3919 - accuracy: 0.8394\n",
      "Epoch 82/100\n",
      "800/800 [==============================] - 1s 816us/step - loss: 0.3910 - accuracy: 0.8404\n",
      "Epoch 83/100\n",
      "800/800 [==============================] - 1s 817us/step - loss: 0.3902 - accuracy: 0.8394\n",
      "Epoch 84/100\n",
      "800/800 [==============================] - 1s 827us/step - loss: 0.3895 - accuracy: 0.8391\n",
      "Epoch 85/100\n",
      "800/800 [==============================] - 1s 817us/step - loss: 0.3884 - accuracy: 0.8400\n",
      "Epoch 86/100\n",
      "800/800 [==============================] - 1s 858us/step - loss: 0.3869 - accuracy: 0.8394\n",
      "Epoch 87/100\n",
      "800/800 [==============================] - 1s 855us/step - loss: 0.3841 - accuracy: 0.8406\n",
      "Epoch 88/100\n",
      "800/800 [==============================] - 1s 805us/step - loss: 0.3827 - accuracy: 0.8394\n",
      "Epoch 89/100\n",
      "800/800 [==============================] - 1s 912us/step - loss: 0.3799 - accuracy: 0.8380\n",
      "Epoch 90/100\n",
      "800/800 [==============================] - 1s 861us/step - loss: 0.3767 - accuracy: 0.8421\n",
      "Epoch 91/100\n",
      "800/800 [==============================] - 1s 875us/step - loss: 0.3729 - accuracy: 0.8443\n",
      "Epoch 92/100\n",
      "800/800 [==============================] - 1s 835us/step - loss: 0.3700 - accuracy: 0.8468\n",
      "Epoch 93/100\n",
      "800/800 [==============================] - 1s 840us/step - loss: 0.3665 - accuracy: 0.8459\n",
      "Epoch 94/100\n",
      "800/800 [==============================] - 1s 853us/step - loss: 0.3651 - accuracy: 0.8462\n",
      "Epoch 95/100\n",
      "800/800 [==============================] - 1s 863us/step - loss: 0.3615 - accuracy: 0.8510\n",
      "Epoch 96/100\n",
      "800/800 [==============================] - 1s 815us/step - loss: 0.3591 - accuracy: 0.8549\n",
      "Epoch 97/100\n",
      "800/800 [==============================] - 1s 892us/step - loss: 0.3570 - accuracy: 0.8555\n",
      "Epoch 98/100\n",
      "800/800 [==============================] - 1s 832us/step - loss: 0.3560 - accuracy: 0.8572\n",
      "Epoch 99/100\n",
      "800/800 [==============================] - 1s 927us/step - loss: 0.3552 - accuracy: 0.8558\n",
      "Epoch 100/100\n",
      "800/800 [==============================] - 1s 883us/step - loss: 0.3540 - accuracy: 0.8580\n"
     ]
    },
    {
     "data": {
      "text/plain": [
       "<tensorflow.python.keras.callbacks.History at 0x7fc3f02dc470>"
      ]
     },
     "execution_count": 26,
     "metadata": {},
     "output_type": "execute_result"
    }
   ],
   "source": [
    "classifier.fit(X_train, y_train, batch_size = 10, epochs = 100)"
   ]
  },
  {
   "cell_type": "markdown",
   "metadata": {},
   "source": [
    "# Parte 3 - Fazendo predições e avaliando o modelo\n",
    "\n",
    "## Prevendo os resultados com o conjunto de testes"
   ]
  },
  {
   "cell_type": "code",
   "execution_count": 10,
   "metadata": {},
   "outputs": [],
   "source": [
    "y_pred = classifier.predict(X_test)\n",
    "y_pred = (y_pred > 0.5)"
   ]
  },
  {
   "cell_type": "markdown",
   "metadata": {},
   "source": [
    "# Criando uma Confusion Matrix"
   ]
  },
  {
   "cell_type": "code",
   "execution_count": 11,
   "metadata": {},
   "outputs": [
    {
     "name": "stdout",
     "output_type": "stream",
     "text": [
      "[[1549   46]\n",
      " [ 266  139]]\n"
     ]
    }
   ],
   "source": [
    "from sklearn.metrics import confusion_matrix\n",
    "cm = confusion_matrix(y_test, y_pred)\n",
    "print(cm)"
   ]
  },
  {
   "cell_type": "code",
   "execution_count": 12,
   "metadata": {},
   "outputs": [
    {
     "name": "stdout",
     "output_type": "stream",
     "text": [
      "84.39999999999999 %\n"
     ]
    }
   ],
   "source": [
    "print((cm[0][0] + cm[1][1])/sum(cm[:][0]+cm[:][1]) * 100, \"%\")"
   ]
  },
  {
   "cell_type": "markdown",
   "metadata": {},
   "source": [
    "---\n",
    "# Parte 4 - Evaluating, Improving and Tuning the ANN"
   ]
  },
  {
   "cell_type": "markdown",
   "metadata": {},
   "source": [
    "# Exercício 2"
   ]
  },
  {
   "cell_type": "markdown",
   "metadata": {},
   "source": [
    "### Aluno: Lucas Maciel\n",
    "#### Matrícula: 17/0070735"
   ]
  },
  {
   "cell_type": "markdown",
   "metadata": {},
   "source": [
    "# Alterações\n",
    "* função de ativação da primeira e segunda camada para Hyperbolic Tangent\n",
    "* Dropout para reduzir overfitting no conjunto de treinamento\n",
    "* Batch Size de 20"
   ]
  },
  {
   "cell_type": "code",
   "execution_count": 49,
   "metadata": {},
   "outputs": [],
   "source": [
    "from keras.wrappers.scikit_learn import KerasClassifier\n",
    "from sklearn.model_selection import cross_val_score\n",
    "from keras.models import Sequential\n",
    "from keras.layers import Dense\n",
    "from keras.layers import Dropout\n",
    "\n",
    "def get_classifier():\n",
    "    classifier = Sequential()\n",
    "    classifier.add(Dense(units = 6, kernel_initializer = 'uniform', activation = 'tanh', input_dim = 11))\n",
    "    classifier.add(Dropout(rate = 0.1))\n",
    "    classifier.add(Dense(units = 6, kernel_initializer = 'uniform', activation = 'tanh'))\n",
    "    classifier.add(Dropout(rate = 0.1))\n",
    "    classifier.add(Dense(units = 1, kernel_initializer = 'uniform', activation = 'sigmoid'))\n",
    "    return classifier\n",
    "my_classifier = get_classifier()\n",
    "my_classifier.compile(optimizer = 'adam', loss = 'binary_crossentropy', metrics = ['accuracy'])\n",
    "train_history = my_classifier.fit(X_train, y_train, batch_size = 20, epochs = 100, verbose=0)"
   ]
  },
  {
   "cell_type": "markdown",
   "metadata": {},
   "source": [
    "## Gráfico de Convergência"
   ]
  },
  {
   "cell_type": "code",
   "execution_count": 52,
   "metadata": {},
   "outputs": [
    {
     "data": {
      "text/plain": [
       "[<matplotlib.lines.Line2D at 0x7fc3c457be80>]"
      ]
     },
     "execution_count": 52,
     "metadata": {},
     "output_type": "execute_result"
    },
    {
     "data": {
      "image/png": "[encoded data removed]",
      "text/plain": [
       "<Figure size 432x288 with 1 Axes>"
      ]
     },
     "metadata": {
      "needs_background": "light"
     },
     "output_type": "display_data"
    }
   ],
   "source": [
    "plt.plot(list(train_history.history.values())[1],'k-o')"
   ]
  },
  {
   "cell_type": "markdown",
   "metadata": {},
   "source": [
    "## Observações\n",
    "* Nas primeiras 40 Épocas a Rede Neural atingiu a taxa de 84% e se manteve constante"
   ]
  },
  {
   "cell_type": "markdown",
   "metadata": {},
   "source": [
    "## Predição no Conjunto de Testes"
   ]
  },
  {
   "cell_type": "code",
   "execution_count": 53,
   "metadata": {},
   "outputs": [],
   "source": [
    "y_pred = my_classifier.predict(X_test)\n",
    "y_pred = (y_pred > 0.5)"
   ]
  },
  {
   "cell_type": "markdown",
   "metadata": {},
   "source": [
    "## Taxa de Acerto no conjunto de testes"
   ]
  },
  {
   "cell_type": "code",
   "execution_count": 54,
   "metadata": {},
   "outputs": [
    {
     "name": "stdout",
     "output_type": "stream",
     "text": [
      "86.55000000000001%\n"
     ]
    }
   ],
   "source": [
    "from sklearn.metrics import confusion_matrix\n",
    "cm = confusion_matrix(y_test, y_pred)\n",
    "print(\"{0}%\".format((cm[0][0] + cm[1][1])/sum(cm[:][0]+cm[:][1]) * 100))"
   ]
  },
  {
   "cell_type": "markdown",
   "metadata": {},
   "source": [
    "# FIM"
   ]
  },
  {
   "cell_type": "markdown",
   "metadata": {},
   "source": [
    "> Professor Diego Dorgam  \n",
    "> [@diegodorgam](https://twitter.com/diegodorgam)"
   ]
  }
 ],
 "metadata": {
  "kernelspec": {
   "display_name": "Python 3",
   "language": "python",
   "name": "python3"
  },
  "language_info": {
   "codemirror_mode": {
    "name": "ipython",
    "version": 3
   },
   "file_extension": ".py",
   "mimetype": "text/x-python",
   "name": "python",
   "nbconvert_exporter": "python",
   "pygments_lexer": "ipython3",
   "version": "3.7.3"
  }
 },
 "nbformat": 4,
 "nbformat_minor": 2
}
