{
 "cells": [
  {
   "cell_type": "markdown",
   "metadata": {},
   "source": [
    "# REDES NEURAIS ARTIFICIAIS\n",
    "\n",
    "[Aula 3 de Deep Learning](http://bit.ly/dn-unb03) da Engenharia de Software da UnB"
   ]
  },
  {
   "cell_type": "markdown",
   "metadata": {},
   "source": [
    "# Parte 1 - Pré-processamento dos Dados"
   ]
  },
  {
   "cell_type": "markdown",
   "metadata": {},
   "source": [
    "### Importar as libs"
   ]
  },
  {
   "cell_type": "code",
   "execution_count": 1,
   "metadata": {
    "colab": {},
    "colab_type": "code",
    "id": "MxkJoQBkUIHC"
   },
   "outputs": [],
   "source": [
    "import numpy as np\n",
    "import pandas as pd\n",
    "import tensorflow as tf"
   ]
  },
  {
   "cell_type": "code",
   "execution_count": 2,
   "metadata": {
    "colab": {
     "base_uri": "https://localhost:8080/",
     "height": 34
    },
    "colab_type": "code",
    "id": "ZaTwK7ojXr2F",
    "outputId": "0b27a96d-d11a-43e8-ab4b-87c1f01896fe"
   },
   "outputs": [
    {
     "output_type": "execute_result",
     "data": {
      "text/plain": [
       "'1.13.1'"
      ]
     },
     "metadata": {},
     "execution_count": 2
    }
   ],
   "source": [
    "tf.__version__"
   ]
  },
  {
   "cell_type": "markdown",
   "metadata": {},
   "source": [
    "### Importar o dataset"
   ]
  },
  {
   "cell_type": "code",
   "execution_count": 23,
   "metadata": {},
   "outputs": [
    {
     "output_type": "execute_result",
     "data": {
      "text/plain": [
       "   RowNumber  CustomerId   Surname  CreditScore Geography  Gender  Age  \\\n",
       "0          1    15634602  Hargrave          619    France  Female   42   \n",
       "1          2    15647311      Hill          608     Spain  Female   41   \n",
       "2          3    15619304      Onio          502    France  Female   42   \n",
       "3          4    15701354      Boni          699    France  Female   39   \n",
       "4          5    15737888  Mitchell          850     Spain  Female   43   \n",
       "\n",
       "   Tenure    Balance  NumOfProducts  HasCrCard  IsActiveMember  \\\n",
       "0       2       0.00              1          1               1   \n",
       "1       1   83807.86              1          0               1   \n",
       "2       8  159660.80              3          1               0   \n",
       "3       1       0.00              2          0               0   \n",
       "4       2  125510.82              1          1               1   \n",
       "\n",
       "   EstimatedSalary  Exited  \n",
       "0        101348.88       1  \n",
       "1        112542.58       0  \n",
       "2        113931.57       1  \n",
       "3         93826.63       0  \n",
       "4         79084.10       0  "
      ],
      "text/html": "<div>\n<style scoped>\n    .dataframe tbody tr th:only-of-type {\n        vertical-align: middle;\n    }\n\n    .dataframe tbody tr th {\n        vertical-align: top;\n    }\n\n    .dataframe thead th {\n        text-align: right;\n    }\n</style>\n<table border=\"1\" class=\"dataframe\">\n  <thead>\n    <tr style=\"text-align: right;\">\n      <th></th>\n      <th>RowNumber</th>\n      <th>CustomerId</th>\n      <th>Surname</th>\n      <th>CreditScore</th>\n      <th>Geography</th>\n      <th>Gender</th>\n      <th>Age</th>\n      <th>Tenure</th>\n      <th>Balance</th>\n      <th>NumOfProducts</th>\n      <th>HasCrCard</th>\n      <th>IsActiveMember</th>\n      <th>EstimatedSalary</th>\n      <th>Exited</th>\n    </tr>\n  </thead>\n  <tbody>\n    <tr>\n      <th>0</th>\n      <td>1</td>\n      <td>15634602</td>\n      <td>Hargrave</td>\n      <td>619</td>\n      <td>France</td>\n      <td>Female</td>\n      <td>42</td>\n      <td>2</td>\n      <td>0.00</td>\n      <td>1</td>\n      <td>1</td>\n      <td>1</td>\n      <td>101348.88</td>\n      <td>1</td>\n    </tr>\n    <tr>\n      <th>1</th>\n      <td>2</td>\n      <td>15647311</td>\n      <td>Hill</td>\n      <td>608</td>\n      <td>Spain</td>\n      <td>Female</td>\n      <td>41</td>\n      <td>1</td>\n      <td>83807.86</td>\n      <td>1</td>\n      <td>0</td>\n      <td>1</td>\n      <td>112542.58</td>\n      <td>0</td>\n    </tr>\n    <tr>\n      <th>2</th>\n      <td>3</td>\n      <td>15619304</td>\n      <td>Onio</td>\n      <td>502</td>\n      <td>France</td>\n      <td>Female</td>\n      <td>42</td>\n      <td>8</td>\n      <td>159660.80</td>\n      <td>3</td>\n      <td>1</td>\n      <td>0</td>\n      <td>113931.57</td>\n      <td>1</td>\n    </tr>\n    <tr>\n      <th>3</th>\n      <td>4</td>\n      <td>15701354</td>\n      <td>Boni</td>\n      <td>699</td>\n      <td>France</td>\n      <td>Female</td>\n      <td>39</td>\n      <td>1</td>\n      <td>0.00</td>\n      <td>2</td>\n      <td>0</td>\n      <td>0</td>\n      <td>93826.63</td>\n      <td>0</td>\n    </tr>\n    <tr>\n      <th>4</th>\n      <td>5</td>\n      <td>15737888</td>\n      <td>Mitchell</td>\n      <td>850</td>\n      <td>Spain</td>\n      <td>Female</td>\n      <td>43</td>\n      <td>2</td>\n      <td>125510.82</td>\n      <td>1</td>\n      <td>1</td>\n      <td>1</td>\n      <td>79084.10</td>\n      <td>0</td>\n    </tr>\n  </tbody>\n</table>\n</div>"
     },
     "metadata": {},
     "execution_count": 23
    }
   ],
   "source": [
    "dataset = pd.read_csv('Churn_Modelling.csv')\n",
    "dataset.head()"
   ]
  },
  {
   "cell_type": "code",
   "execution_count": 137,
   "metadata": {},
   "outputs": [
    {
     "output_type": "stream",
     "name": "stdout",
     "text": [
      "X >>\n [[619 'France' 'Female' ... 1 1 101348.88]\n [608 'Spain' 'Female' ... 0 1 112542.58]\n [502 'France' 'Female' ... 1 0 113931.57]\n ...\n [709 'France' 'Female' ... 0 1 42085.58]\n [772 'Germany' 'Male' ... 1 0 92888.52]\n [792 'France' 'Female' ... 1 0 38190.78]]\ny >>\n [1 0 1 ... 1 1 0]\n"
     ]
    }
   ],
   "source": [
    "X = dataset.iloc[:, 3:13].values\n",
    "y = dataset.iloc[:, 13].values\n",
    "print(\"X >>\\n\",X)\n",
    "print(\"y >>\\n\",y)"
   ]
  },
  {
   "cell_type": "markdown",
   "metadata": {},
   "source": [
    "### Transformando os dados categóricos\n"
   ]
  },
  {
   "cell_type": "code",
   "execution_count": 138,
   "metadata": {},
   "outputs": [
    {
     "output_type": "stream",
     "name": "stdout",
     "text": [
      "[[619 'France' 0 ... 1 1 101348.88]\n [608 'Spain' 0 ... 0 1 112542.58]\n [502 'France' 0 ... 1 0 113931.57]\n ...\n [709 'France' 0 ... 0 1 42085.58]\n [772 'Germany' 1 ... 1 0 92888.52]\n [792 'France' 0 ... 1 0 38190.78]]\n[[1.0 0.0 0.0 ... 1 1 101348.88]\n [0.0 0.0 1.0 ... 0 1 112542.58]\n [1.0 0.0 0.0 ... 1 0 113931.57]\n ...\n [1.0 0.0 0.0 ... 0 1 42085.58]\n [0.0 1.0 0.0 ... 1 0 92888.52]\n [1.0 0.0 0.0 ... 1 0 38190.78]]\n"
     ]
    }
   ],
   "source": [
    "# Label Encoding the \"Gender\" column\n",
    "from sklearn.preprocessing import LabelEncoder\n",
    "le = LabelEncoder()\n",
    "X[:, 2] = le.fit_transform(X[:, 2])\n",
    "print(X)\n",
    "# One Hot Encoding the \"Geography\" column\n",
    "from sklearn.compose import ColumnTransformer\n",
    "from sklearn.preprocessing import OneHotEncoder\n",
    "ct = ColumnTransformer(transformers=[('encoder', OneHotEncoder(), [1])], remainder='passthrough')\n",
    "X = np.array(ct.fit_transform(X))\n",
    "print(X)"
   ]
  },
  {
   "cell_type": "markdown",
   "metadata": {},
   "source": [
    "# Dividindo o dataset em conjunto de treinamento e conjunto de teste"
   ]
  },
  {
   "cell_type": "code",
   "execution_count": 139,
   "metadata": {},
   "outputs": [],
   "source": [
    "from sklearn.model_selection import train_test_split\n",
    "X_train, X_test, y_train, y_test = train_test_split(X, y, test_size = 0.2, random_state = 0)\n"
   ]
  },
  {
   "cell_type": "markdown",
   "metadata": {},
   "source": [
    "# Feature Scaling"
   ]
  },
  {
   "cell_type": "code",
   "execution_count": 140,
   "metadata": {},
   "outputs": [],
   "source": [
    "from sklearn.preprocessing import StandardScaler\n",
    "#from sklearn.preprocessing import MinMaxScaler\n",
    "\n",
    "sc = StandardScaler()\n",
    "#sc = MinMaxScaler()\n",
    "\n",
    "X_train = sc.fit_transform(X_train)\n",
    "X_test = sc.transform(X_test)"
   ]
  },
  {
   "cell_type": "code",
   "execution_count": 141,
   "metadata": {},
   "outputs": [
    {
     "output_type": "execute_result",
     "data": {
      "text/plain": [
       "(8000, 12)"
      ]
     },
     "metadata": {},
     "execution_count": 141
    }
   ],
   "source": [
    "np.shape(X_train)"
   ]
  },
  {
   "cell_type": "markdown",
   "metadata": {},
   "source": [
    "---\n",
    "# Parte 2 -Vamos construir uma ANN!\n"
   ]
  },
  {
   "cell_type": "markdown",
   "metadata": {
    "colab_type": "text",
    "id": "KvdeScabXtlB"
   },
   "source": [
    "### Initializing the ANN"
   ]
  },
  {
   "cell_type": "code",
   "execution_count": 142,
   "metadata": {
    "colab": {},
    "colab_type": "code",
    "id": "3dtrScHxXQox"
   },
   "outputs": [],
   "source": [
    "ann = tf.keras.models.Sequential()"
   ]
  },
  {
   "cell_type": "markdown",
   "metadata": {
    "colab_type": "text",
    "id": "rP6urV6SX7kS"
   },
   "source": [
    "### Adding the input layer and the first hidden layer"
   ]
  },
  {
   "cell_type": "code",
   "execution_count": 143,
   "metadata": {
    "colab": {},
    "colab_type": "code",
    "id": "bppGycBXYCQr"
   },
   "outputs": [],
   "source": [
    "#ann.add(tf.keras.layers.Dense(units=6))\n",
    "#ann.add(tf.keras.layers.Dense(units=6, activation='relu'))\n",
    "#ann.add(tf.keras.layers.Dense(units=6, activation='tanh'))\n",
    "ann.add(tf.keras.layers.Dense(units=6, activation='sigmoid'))"
   ]
  },
  {
   "cell_type": "markdown",
   "metadata": {
    "colab_type": "text",
    "id": "BELWAc_8YJze"
   },
   "source": [
    "### Adding the second hidden layer"
   ]
  },
  {
   "cell_type": "code",
   "execution_count": 144,
   "metadata": {
    "colab": {},
    "colab_type": "code",
    "id": "JneR0u0sYRTd"
   },
   "outputs": [],
   "source": [
    "#ann.add(tf.keras.layers.Dense(units=6))\n",
    "#ann.add(tf.keras.layers.Dense(units=6, activation='relu'))\n",
    "#ann.add(tf.keras.layers.Dense(units=6, activation='tanh'))\n",
    "ann.add(tf.keras.layers.Dense(units=6, activation='sigmoid'))"
   ]
  },
  {
   "cell_type": "markdown",
   "metadata": {
    "colab_type": "text",
    "id": "OyNEe6RXYcU4"
   },
   "source": [
    "### Adding the output layer"
   ]
  },
  {
   "cell_type": "code",
   "execution_count": 145,
   "metadata": {
    "colab": {},
    "colab_type": "code",
    "id": "Cn3x41RBYfvY"
   },
   "outputs": [],
   "source": [
    "ann.add(tf.keras.layers.Dense(units=1, activation='sigmoid'))"
   ]
  },
  {
   "cell_type": "markdown",
   "metadata": {
    "colab_type": "text",
    "id": "JT4u2S1_Y4WG"
   },
   "source": [
    "## Part 3 - Training the ANN"
   ]
  },
  {
   "cell_type": "markdown",
   "metadata": {
    "colab_type": "text",
    "id": "8GWlJChhY_ZI"
   },
   "source": [
    "### Compiling the ANN"
   ]
  },
  {
   "cell_type": "code",
   "execution_count": 146,
   "metadata": {
    "colab": {},
    "colab_type": "code",
    "id": "fG3RrwDXZEaS"
   },
   "outputs": [],
   "source": [
    "ann.compile(optimizer = 'Adam', loss = 'binary_crossentropy', metrics = ['accuracy'])"
   ]
  },
  {
   "cell_type": "markdown",
   "metadata": {
    "colab_type": "text",
    "id": "0QR_G5u7ZLSM"
   },
   "source": [
    "### Training the ANN on the Training set"
   ]
  },
  {
   "cell_type": "code",
   "execution_count": 147,
   "metadata": {
    "colab": {
     "base_uri": "https://localhost:8080/",
     "height": 1000
    },
    "colab_type": "code",
    "id": "nHZ-LKv_ZRb3",
    "outputId": "718cc4b0-b5aa-40f0-9b20-d3d31730a531"
   },
   "outputs": [
    {
     "output_type": "stream",
     "name": "stdout",
     "text": [
      "Epoch 1/120\n",
      "8000/8000 [==============================] - 1s 129us/sample - loss: 0.4991 - acc: 0.7960\n",
      "Epoch 2/120\n",
      "8000/8000 [==============================] - 1s 85us/sample - loss: 0.4761 - acc: 0.7960\n",
      "Epoch 3/120\n",
      "8000/8000 [==============================] - 1s 95us/sample - loss: 0.4505 - acc: 0.7960\n",
      "Epoch 4/120\n",
      "8000/8000 [==============================] - 1s 78us/sample - loss: 0.4350 - acc: 0.7960\n",
      "Epoch 5/120\n",
      "8000/8000 [==============================] - 1s 105us/sample - loss: 0.4296 - acc: 0.7956\n",
      "Epoch 6/120\n",
      "8000/8000 [==============================] - 1s 100us/sample - loss: 0.4276 - acc: 0.7991\n",
      "Epoch 7/120\n",
      "8000/8000 [==============================] - 1s 104us/sample - loss: 0.4269 - acc: 0.8014\n",
      "Epoch 8/120\n",
      "8000/8000 [==============================] - 1s 100us/sample - loss: 0.4264 - acc: 0.8025\n",
      "Epoch 9/120\n",
      "8000/8000 [==============================] - 1s 107us/sample - loss: 0.4260 - acc: 0.8049\n",
      "Epoch 10/120\n",
      "8000/8000 [==============================] - 1s 93us/sample - loss: 0.4255 - acc: 0.8051\n",
      "Epoch 11/120\n",
      "8000/8000 [==============================] - 1s 86us/sample - loss: 0.4248 - acc: 0.8066\n",
      "Epoch 12/120\n",
      "8000/8000 [==============================] - 1s 75us/sample - loss: 0.4242 - acc: 0.8075\n",
      "Epoch 13/120\n",
      "8000/8000 [==============================] - 1s 86us/sample - loss: 0.4231 - acc: 0.8100\n",
      "Epoch 14/120\n",
      "8000/8000 [==============================] - 1s 74us/sample - loss: 0.4218 - acc: 0.8111\n",
      "Epoch 15/120\n",
      "8000/8000 [==============================] - 1s 94us/sample - loss: 0.4198 - acc: 0.8136\n",
      "Epoch 16/120\n",
      "8000/8000 [==============================] - 1s 81us/sample - loss: 0.4173 - acc: 0.8171\n",
      "Epoch 17/120\n",
      "8000/8000 [==============================] - 1s 97us/sample - loss: 0.4142 - acc: 0.8196\n",
      "Epoch 18/120\n",
      "8000/8000 [==============================] - 1s 80us/sample - loss: 0.4109 - acc: 0.8241\n",
      "Epoch 19/120\n",
      "8000/8000 [==============================] - 1s 85us/sample - loss: 0.4076 - acc: 0.8270\n",
      "Epoch 20/120\n",
      "8000/8000 [==============================] - 1s 92us/sample - loss: 0.4040 - acc: 0.8284\n",
      "Epoch 21/120\n",
      "8000/8000 [==============================] - 1s 101us/sample - loss: 0.4010 - acc: 0.8306\n",
      "Epoch 22/120\n",
      "8000/8000 [==============================] - 1s 95us/sample - loss: 0.3976 - acc: 0.8330\n",
      "Epoch 23/120\n",
      "8000/8000 [==============================] - 1s 98us/sample - loss: 0.3943 - acc: 0.8341\n",
      "Epoch 24/120\n",
      "8000/8000 [==============================] - 1s 116us/sample - loss: 0.3911 - acc: 0.8356\n",
      "Epoch 25/120\n",
      "8000/8000 [==============================] - 1s 89us/sample - loss: 0.3886 - acc: 0.8396\n",
      "Epoch 26/120\n",
      "8000/8000 [==============================] - 1s 106us/sample - loss: 0.3858 - acc: 0.8400\n",
      "Epoch 27/120\n",
      "8000/8000 [==============================] - 1s 86us/sample - loss: 0.3831 - acc: 0.8410\n",
      "Epoch 28/120\n",
      "8000/8000 [==============================] - 1s 82us/sample - loss: 0.3808 - acc: 0.8425\n",
      "Epoch 29/120\n",
      "8000/8000 [==============================] - 1s 110us/sample - loss: 0.3785 - acc: 0.8447\n",
      "Epoch 30/120\n",
      "8000/8000 [==============================] - 1s 103us/sample - loss: 0.3764 - acc: 0.8441\n",
      "Epoch 31/120\n",
      "8000/8000 [==============================] - 1s 100us/sample - loss: 0.3744 - acc: 0.8461\n",
      "Epoch 32/120\n",
      "8000/8000 [==============================] - 1s 98us/sample - loss: 0.3731 - acc: 0.8472\n",
      "Epoch 33/120\n",
      "8000/8000 [==============================] - 1s 98us/sample - loss: 0.3712 - acc: 0.8474\n",
      "Epoch 34/120\n",
      "8000/8000 [==============================] - 1s 92us/sample - loss: 0.3698 - acc: 0.8472\n",
      "Epoch 35/120\n",
      "8000/8000 [==============================] - 1s 106us/sample - loss: 0.3686 - acc: 0.8474\n",
      "Epoch 36/120\n",
      "8000/8000 [==============================] - 1s 110us/sample - loss: 0.3670 - acc: 0.8494\n",
      "Epoch 37/120\n",
      "8000/8000 [==============================] - 1s 81us/sample - loss: 0.3658 - acc: 0.8511\n",
      "Epoch 38/120\n",
      "8000/8000 [==============================] - 1s 84us/sample - loss: 0.3646 - acc: 0.8512\n",
      "Epoch 39/120\n",
      "8000/8000 [==============================] - 1s 81us/sample - loss: 0.3636 - acc: 0.8516\n",
      "Epoch 40/120\n",
      "8000/8000 [==============================] - 1s 119us/sample - loss: 0.3626 - acc: 0.8519\n",
      "Epoch 41/120\n",
      "8000/8000 [==============================] - 1s 103us/sample - loss: 0.3614 - acc: 0.8539\n",
      "Epoch 42/120\n",
      "8000/8000 [==============================] - 1s 84us/sample - loss: 0.3606 - acc: 0.8534\n",
      "Epoch 43/120\n",
      "8000/8000 [==============================] - 1s 68us/sample - loss: 0.3597 - acc: 0.8547\n",
      "Epoch 44/120\n",
      "8000/8000 [==============================] - 1s 101us/sample - loss: 0.3586 - acc: 0.8551\n",
      "Epoch 45/120\n",
      "8000/8000 [==============================] - 1s 97us/sample - loss: 0.3577 - acc: 0.8553\n",
      "Epoch 46/120\n",
      "8000/8000 [==============================] - 1s 106us/sample - loss: 0.3570 - acc: 0.8554\n",
      "Epoch 47/120\n",
      "8000/8000 [==============================] - 1s 91us/sample - loss: 0.3561 - acc: 0.8535\n",
      "Epoch 48/120\n",
      "8000/8000 [==============================] - 1s 102us/sample - loss: 0.3554 - acc: 0.8566\n",
      "Epoch 49/120\n",
      "8000/8000 [==============================] - 1s 97us/sample - loss: 0.3547 - acc: 0.8570\n",
      "Epoch 50/120\n",
      "8000/8000 [==============================] - 1s 81us/sample - loss: 0.3539 - acc: 0.8572\n",
      "Epoch 51/120\n",
      "8000/8000 [==============================] - 1s 80us/sample - loss: 0.3531 - acc: 0.8570\n",
      "Epoch 52/120\n",
      "8000/8000 [==============================] - 1s 105us/sample - loss: 0.3523 - acc: 0.8576\n",
      "Epoch 53/120\n",
      "8000/8000 [==============================] - 1s 94us/sample - loss: 0.3516 - acc: 0.8596\n",
      "Epoch 54/120\n",
      "8000/8000 [==============================] - 1s 87us/sample - loss: 0.3511 - acc: 0.8580\n",
      "Epoch 55/120\n",
      "8000/8000 [==============================] - 1s 110us/sample - loss: 0.3506 - acc: 0.8590\n",
      "Epoch 56/120\n",
      "8000/8000 [==============================] - 1s 93us/sample - loss: 0.3496 - acc: 0.8572\n",
      "Epoch 57/120\n",
      "8000/8000 [==============================] - 1s 80us/sample - loss: 0.3494 - acc: 0.8595\n",
      "Epoch 58/120\n",
      "8000/8000 [==============================] - 1s 95us/sample - loss: 0.3485 - acc: 0.8589\n",
      "Epoch 59/120\n",
      "8000/8000 [==============================] - 1s 98us/sample - loss: 0.3482 - acc: 0.8594\n",
      "Epoch 60/120\n",
      "8000/8000 [==============================] - 1s 92us/sample - loss: 0.3473 - acc: 0.8587\n",
      "Epoch 61/120\n",
      "8000/8000 [==============================] - 1s 100us/sample - loss: 0.3468 - acc: 0.8576\n",
      "Epoch 62/120\n",
      "8000/8000 [==============================] - 1s 73us/sample - loss: 0.3465 - acc: 0.8600\n",
      "Epoch 63/120\n",
      "8000/8000 [==============================] - 1s 97us/sample - loss: 0.3458 - acc: 0.8591\n",
      "Epoch 64/120\n",
      "8000/8000 [==============================] - 1s 102us/sample - loss: 0.3451 - acc: 0.8594\n",
      "Epoch 65/120\n",
      "8000/8000 [==============================] - 1s 110us/sample - loss: 0.3448 - acc: 0.8605\n",
      "Epoch 66/120\n",
      "8000/8000 [==============================] - 1s 95us/sample - loss: 0.3444 - acc: 0.8599\n",
      "Epoch 67/120\n",
      "8000/8000 [==============================] - 1s 100us/sample - loss: 0.3441 - acc: 0.8596\n",
      "Epoch 68/120\n",
      "8000/8000 [==============================] - 1s 104us/sample - loss: 0.3431 - acc: 0.8601\n",
      "Epoch 69/120\n",
      "8000/8000 [==============================] - 1s 105us/sample - loss: 0.3429 - acc: 0.8596\n",
      "Epoch 70/120\n",
      "8000/8000 [==============================] - 1s 111us/sample - loss: 0.3424 - acc: 0.8609\n",
      "Epoch 71/120\n",
      "8000/8000 [==============================] - 1s 88us/sample - loss: 0.3422 - acc: 0.8600\n",
      "Epoch 72/120\n",
      "8000/8000 [==============================] - 1s 103us/sample - loss: 0.3414 - acc: 0.8606\n",
      "Epoch 73/120\n",
      "8000/8000 [==============================] - 1s 112us/sample - loss: 0.3413 - acc: 0.8608\n",
      "Epoch 74/120\n",
      "8000/8000 [==============================] - 1s 105us/sample - loss: 0.3409 - acc: 0.8585\n",
      "Epoch 75/120\n",
      "8000/8000 [==============================] - 1s 104us/sample - loss: 0.3402 - acc: 0.8606\n",
      "Epoch 76/120\n",
      "8000/8000 [==============================] - 1s 94us/sample - loss: 0.3402 - acc: 0.8599\n",
      "Epoch 77/120\n",
      "8000/8000 [==============================] - 1s 80us/sample - loss: 0.3399 - acc: 0.8587\n",
      "Epoch 78/120\n",
      "8000/8000 [==============================] - 1s 97us/sample - loss: 0.3390 - acc: 0.8600\n",
      "Epoch 79/120\n",
      "8000/8000 [==============================] - 1s 104us/sample - loss: 0.3393 - acc: 0.8594\n",
      "Epoch 80/120\n",
      "8000/8000 [==============================] - 1s 113us/sample - loss: 0.3388 - acc: 0.8606\n",
      "Epoch 81/120\n",
      "8000/8000 [==============================] - 1s 94us/sample - loss: 0.3385 - acc: 0.8601\n",
      "Epoch 82/120\n",
      "8000/8000 [==============================] - 1s 95us/sample - loss: 0.3386 - acc: 0.8589\n",
      "Epoch 83/120\n",
      "8000/8000 [==============================] - 1s 89us/sample - loss: 0.3382 - acc: 0.8605\n",
      "Epoch 84/120\n",
      "8000/8000 [==============================] - 1s 109us/sample - loss: 0.3379 - acc: 0.8583\n",
      "Epoch 85/120\n",
      "8000/8000 [==============================] - 1s 78us/sample - loss: 0.3377 - acc: 0.8601\n",
      "Epoch 86/120\n",
      "8000/8000 [==============================] - 1s 76us/sample - loss: 0.3374 - acc: 0.8609\n",
      "Epoch 87/120\n",
      "8000/8000 [==============================] - 1s 88us/sample - loss: 0.3374 - acc: 0.8602\n",
      "Epoch 88/120\n",
      "8000/8000 [==============================] - 1s 85us/sample - loss: 0.3372 - acc: 0.8615\n",
      "Epoch 89/120\n",
      "8000/8000 [==============================] - 1s 86us/sample - loss: 0.3367 - acc: 0.8600\n",
      "Epoch 90/120\n",
      "8000/8000 [==============================] - 1s 109us/sample - loss: 0.3369 - acc: 0.8606\n",
      "Epoch 91/120\n",
      "8000/8000 [==============================] - 1s 100us/sample - loss: 0.3366 - acc: 0.8602\n",
      "Epoch 92/120\n",
      "8000/8000 [==============================] - 1s 103us/sample - loss: 0.3367 - acc: 0.8614\n",
      "Epoch 93/120\n",
      "8000/8000 [==============================] - 1s 83us/sample - loss: 0.3363 - acc: 0.8596\n",
      "Epoch 94/120\n",
      "8000/8000 [==============================] - 1s 79us/sample - loss: 0.3363 - acc: 0.8602\n",
      "Epoch 95/120\n",
      "8000/8000 [==============================] - 1s 94us/sample - loss: 0.3363 - acc: 0.8608\n",
      "Epoch 96/120\n",
      "8000/8000 [==============================] - 1s 104us/sample - loss: 0.3361 - acc: 0.8609\n",
      "Epoch 97/120\n",
      "8000/8000 [==============================] - 1s 103us/sample - loss: 0.3361 - acc: 0.8612\n",
      "Epoch 98/120\n",
      "8000/8000 [==============================] - 1s 108us/sample - loss: 0.3360 - acc: 0.8616\n",
      "Epoch 99/120\n",
      "8000/8000 [==============================] - 1s 109us/sample - loss: 0.3359 - acc: 0.8600\n",
      "Epoch 100/120\n",
      "8000/8000 [==============================] - 1s 100us/sample - loss: 0.3356 - acc: 0.8612\n",
      "Epoch 101/120\n",
      "8000/8000 [==============================] - 1s 105us/sample - loss: 0.3355 - acc: 0.8600\n",
      "Epoch 102/120\n",
      "8000/8000 [==============================] - 1s 104us/sample - loss: 0.3350 - acc: 0.8621\n",
      "Epoch 103/120\n",
      "8000/8000 [==============================] - 1s 97us/sample - loss: 0.3355 - acc: 0.8604\n",
      "Epoch 104/120\n",
      "8000/8000 [==============================] - 1s 94us/sample - loss: 0.3353 - acc: 0.8606\n",
      "Epoch 105/120\n",
      "8000/8000 [==============================] - 1s 83us/sample - loss: 0.3347 - acc: 0.8614\n",
      "Epoch 106/120\n",
      "8000/8000 [==============================] - 1s 103us/sample - loss: 0.3352 - acc: 0.8610\n",
      "Epoch 107/120\n",
      "8000/8000 [==============================] - 1s 92us/sample - loss: 0.3346 - acc: 0.8621\n",
      "Epoch 108/120\n",
      "8000/8000 [==============================] - 1s 101us/sample - loss: 0.3354 - acc: 0.8608\n",
      "Epoch 109/120\n",
      "8000/8000 [==============================] - 1s 94us/sample - loss: 0.3347 - acc: 0.8618\n",
      "Epoch 110/120\n",
      "8000/8000 [==============================] - 1s 99us/sample - loss: 0.3348 - acc: 0.8612\n",
      "Epoch 111/120\n",
      "8000/8000 [==============================] - 1s 84us/sample - loss: 0.3346 - acc: 0.8608\n",
      "Epoch 112/120\n",
      "8000/8000 [==============================] - 1s 93us/sample - loss: 0.3345 - acc: 0.8621\n",
      "Epoch 113/120\n",
      "8000/8000 [==============================] - 1s 103us/sample - loss: 0.3347 - acc: 0.8605\n",
      "Epoch 114/120\n",
      "8000/8000 [==============================] - 1s 105us/sample - loss: 0.3343 - acc: 0.8605\n",
      "Epoch 115/120\n",
      "8000/8000 [==============================] - 1s 88us/sample - loss: 0.3339 - acc: 0.8629\n",
      "Epoch 116/120\n",
      "8000/8000 [==============================] - 1s 110us/sample - loss: 0.3343 - acc: 0.8625\n",
      "Epoch 117/120\n",
      "8000/8000 [==============================] - 1s 90us/sample - loss: 0.3343 - acc: 0.8602\n",
      "Epoch 118/120\n",
      "8000/8000 [==============================] - 1s 84us/sample - loss: 0.3341 - acc: 0.8631\n",
      "Epoch 119/120\n",
      "8000/8000 [==============================] - 1s 88us/sample - loss: 0.3337 - acc: 0.8619\n",
      "Epoch 120/120\n",
      "8000/8000 [==============================] - 1s 95us/sample - loss: 0.3341 - acc: 0.8616\n"
     ]
    },
    {
     "output_type": "execute_result",
     "data": {
      "text/plain": [
       "<tensorflow.python.keras.callbacks.History at 0x7f0ecbedab70>"
      ]
     },
     "metadata": {},
     "execution_count": 147
    }
   ],
   "source": [
    "ann.fit(X_train, y_train, batch_size = 16, epochs = 120)"
   ]
  },
  {
   "cell_type": "markdown",
   "metadata": {},
   "source": [
    "# Parte 3 - Fazendo predições e avaliando o modelo\n",
    "\n",
    "## Prevendo os resultados com o conjunto de testes"
   ]
  },
  {
   "cell_type": "code",
   "execution_count": 148,
   "metadata": {},
   "outputs": [
    {
     "output_type": "execute_result",
     "data": {
      "text/plain": [
       "array([[0.3076911 ],\n",
       "       [0.2704481 ],\n",
       "       [0.13251925],\n",
       "       ...,\n",
       "       [0.0858717 ],\n",
       "       [0.20042261],\n",
       "       [0.22697765]], dtype=float32)"
      ]
     },
     "metadata": {},
     "execution_count": 148
    }
   ],
   "source": [
    "y_pred = ann.predict(X_test)\n",
    "y_pred"
   ]
  },
  {
   "cell_type": "code",
   "execution_count": 149,
   "metadata": {},
   "outputs": [
    {
     "output_type": "execute_result",
     "data": {
      "text/plain": [
       "array([[False],\n",
       "       [False],\n",
       "       [False],\n",
       "       ...,\n",
       "       [False],\n",
       "       [False],\n",
       "       [False]])"
      ]
     },
     "metadata": {},
     "execution_count": 149
    }
   ],
   "source": [
    "y_pred = (y_pred > 0.5)\n",
    "y_pred"
   ]
  },
  {
   "cell_type": "markdown",
   "metadata": {},
   "source": [
    "# Criando uma Confusion Matrix"
   ]
  },
  {
   "cell_type": "code",
   "execution_count": 18,
   "metadata": {},
   "outputs": [
    {
     "name": "stdout",
     "output_type": "stream",
     "text": [
      "[[1519   76]\n",
      " [ 200  205]]\n"
     ]
    }
   ],
   "source": [
    "# Com test size 0.2\n",
    "\n",
    "from sklearn.metrics import confusion_matrix\n",
    "cm = confusion_matrix(y_test, y_pred)\n",
    "print(cm)"
   ]
  },
  {
   "cell_type": "code",
   "execution_count": 22,
   "metadata": {},
   "outputs": [
    {
     "output_type": "stream",
     "name": "stdout",
     "text": [
      "[[2251  128]\n [ 303  318]]\n"
     ]
    }
   ],
   "source": [
    "# Com test size 0.3\n",
    "\n",
    "from sklearn.metrics import confusion_matrix\n",
    "cm = confusion_matrix(y_test, y_pred)\n",
    "print(cm)"
   ]
  },
  {
   "cell_type": "code",
   "execution_count": 66,
   "metadata": {},
   "outputs": [
    {
     "output_type": "stream",
     "name": "stdout",
     "text": [
      "[[1517   78]\n [ 202  203]]\n"
     ]
    }
   ],
   "source": [
    "# Com MaxMinScaler\n",
    "\n",
    "from sklearn.metrics import confusion_matrix\n",
    "cm = confusion_matrix(y_test, y_pred)\n",
    "print(cm)"
   ]
  },
  {
   "cell_type": "code",
   "execution_count": 51,
   "metadata": {},
   "outputs": [
    {
     "output_type": "stream",
     "name": "stdout",
     "text": [
      "[[1533   62]\n [ 313   92]]\n"
     ]
    }
   ],
   "source": [
    "# Sem usar activation nas camadas\n",
    "\n",
    "from sklearn.metrics import confusion_matrix\n",
    "cm = confusion_matrix(y_test, y_pred)\n",
    "print(cm)"
   ]
  },
  {
   "cell_type": "code",
   "execution_count": 80,
   "metadata": {},
   "outputs": [
    {
     "output_type": "stream",
     "name": "stdout",
     "text": [
      "[[1512   83]\n [ 191  214]]\n"
     ]
    }
   ],
   "source": [
    "# Usando tanh nas camadas\n",
    "\n",
    "from sklearn.metrics import confusion_matrix\n",
    "cm = confusion_matrix(y_test, y_pred)\n",
    "print(cm)"
   ]
  },
  {
   "cell_type": "code",
   "execution_count": 94,
   "metadata": {},
   "outputs": [
    {
     "output_type": "stream",
     "name": "stdout",
     "text": [
      "[[1511   84]\n [ 189  216]]\n"
     ]
    }
   ],
   "source": [
    "# Usando somente sigmoid\n",
    "\n",
    "from sklearn.metrics import confusion_matrix\n",
    "cm = confusion_matrix(y_test, y_pred)\n",
    "print(cm)"
   ]
  },
  {
   "cell_type": "code",
   "execution_count": 108,
   "metadata": {},
   "outputs": [
    {
     "output_type": "stream",
     "name": "stdout",
     "text": [
      "[[1520   75]\n [ 304  101]]\n"
     ]
    }
   ],
   "source": [
    "# Usando sigmoid e SGD\n",
    "\n",
    "from sklearn.metrics import confusion_matrix\n",
    "cm = confusion_matrix(y_test, y_pred)\n",
    "print(cm)"
   ]
  },
  {
   "cell_type": "code",
   "execution_count": 122,
   "metadata": {},
   "outputs": [
    {
     "output_type": "stream",
     "name": "stdout",
     "text": [
      "[[1513   82]\n [ 204  201]]\n"
     ]
    }
   ],
   "source": [
    "# Usando RMSProp, batch de 16 e 120 epochs\n",
    "\n",
    "from sklearn.metrics import confusion_matrix\n",
    "cm = confusion_matrix(y_test, y_pred)\n",
    "print(cm)"
   ]
  },
  {
   "cell_type": "code",
   "execution_count": 136,
   "metadata": {},
   "outputs": [
    {
     "output_type": "stream",
     "name": "stdout",
     "text": [
      "[[1522   73]\n [ 199  206]]\n"
     ]
    }
   ],
   "source": [
    "# Usando tanh, batch de 16\n",
    "\n",
    "from sklearn.metrics import confusion_matrix\n",
    "cm = confusion_matrix(y_test, y_pred)\n",
    "print(cm)"
   ]
  },
  {
   "cell_type": "code",
   "execution_count": 150,
   "metadata": {},
   "outputs": [
    {
     "output_type": "stream",
     "name": "stdout",
     "text": [
      "[[1507   88]\n [ 194  211]]\n"
     ]
    }
   ],
   "source": [
    "# Usando sigmoid e batch de 16\n",
    "\n",
    "from sklearn.metrics import confusion_matrix\n",
    "cm = confusion_matrix(y_test, y_pred)\n",
    "print(cm)"
   ]
  },
  {
   "cell_type": "code",
   "execution_count": null,
   "metadata": {},
   "outputs": [],
   "source": [
    "# usando test_size: 0.3 - Pior resultado\n",
    "# com MinMaxScaler - Pior resultado\n",
    "# sem utilizar activation - Melhor resultado para uma variavel. Pessimo resultado com a outra\n",
    "# usando tanh - Pior resultado para uma variavel. Melhor para outra\n",
    "# usando sigmoid - Melhor resultado no geral\n",
    "# usando tanto sigmoid quanto sgd - Pior resultado \n",
    "# RMSProp, batch de 16 e 120epochs - Resultado razoavel\n",
    "# tanh e batch de 16 - segundo melhor resultado\n",
    "\n"
   ]
  },
  {
   "cell_type": "markdown",
   "metadata": {},
   "source": [
    "# FIM"
   ]
  },
  {
   "cell_type": "markdown",
   "metadata": {},
   "source": [
    "> Professor Diego Dorgam  \n",
    "> [@diegodorgam](https://twitter.com/diegodorgam)"
   ]
  }
 ],
 "metadata": {
  "kernelspec": {
   "display_name": "Python 3",
   "language": "python",
   "name": "python3"
  },
  "language_info": {
   "codemirror_mode": {
    "name": "ipython",
    "version": 3
   },
   "file_extension": ".py",
   "mimetype": "text/x-python",
   "name": "python",
   "nbconvert_exporter": "python",
   "pygments_lexer": "ipython3",
   "version": "3.7.3-final"
  }
 },
 "nbformat": 4,
 "nbformat_minor": 4
}