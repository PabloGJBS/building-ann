{
 "cells": [
  {
   "cell_type": "markdown",
   "metadata": {},
   "source": [
    "# REDES NEURAIS ARTIFICIAIS\n",
    "\n",
    "[Aula 3 de Deep Learning](http://bit.ly/dn-unb03) da Engenharia de Software da UnB"
   ]
  },
  {
   "cell_type": "markdown",
   "metadata": {},
   "source": [
    "# Parte 1 - Pré-processamento dos Dados"
   ]
  },
  {
   "cell_type": "markdown",
   "metadata": {},
   "source": [
    "### Importar as libs"
   ]
  },
  {
   "cell_type": "code",
   "execution_count": 1,
   "metadata": {
    "colab": {},
    "colab_type": "code",
    "id": "MxkJoQBkUIHC"
   },
   "outputs": [],
   "source": [
    "import numpy as np\n",
    "import pandas as pd\n",
    "import tensorflow as tf\n",
    "import seaborn as sns\n",
    "import matplotlib.pyplot as plt"
   ]
  },
  {
   "cell_type": "code",
   "execution_count": 2,
   "metadata": {
    "colab": {
     "base_uri": "https://localhost:8080/",
     "height": 34
    },
    "colab_type": "code",
    "id": "ZaTwK7ojXr2F",
    "outputId": "0b27a96d-d11a-43e8-ab4b-87c1f01896fe"
   },
   "outputs": [
    {
     "output_type": "execute_result",
     "data": {
      "text/plain": [
       "'2.4.1'"
      ]
     },
     "metadata": {},
     "execution_count": 2
    }
   ],
   "source": [
    "tf.__version__"
   ]
  },
  {
   "cell_type": "markdown",
   "metadata": {},
   "source": [
    "### Importar o dataset"
   ]
  },
  {
   "cell_type": "code",
   "execution_count": 3,
   "metadata": {},
   "outputs": [
    {
     "output_type": "execute_result",
     "data": {
      "text/plain": [
       "   RowNumber  CustomerId   Surname  CreditScore Geography  Gender  Age  \\\n",
       "0          1    15634602  Hargrave          619    France  Female   42   \n",
       "1          2    15647311      Hill          608     Spain  Female   41   \n",
       "2          3    15619304      Onio          502    France  Female   42   \n",
       "3          4    15701354      Boni          699    France  Female   39   \n",
       "4          5    15737888  Mitchell          850     Spain  Female   43   \n",
       "\n",
       "   Tenure    Balance  NumOfProducts  HasCrCard  IsActiveMember  \\\n",
       "0       2       0.00              1          1               1   \n",
       "1       1   83807.86              1          0               1   \n",
       "2       8  159660.80              3          1               0   \n",
       "3       1       0.00              2          0               0   \n",
       "4       2  125510.82              1          1               1   \n",
       "\n",
       "   EstimatedSalary  Exited  \n",
       "0        101348.88       1  \n",
       "1        112542.58       0  \n",
       "2        113931.57       1  \n",
       "3         93826.63       0  \n",
       "4         79084.10       0  "
      ],
      "text/html": "<div>\n<style scoped>\n    .dataframe tbody tr th:only-of-type {\n        vertical-align: middle;\n    }\n\n    .dataframe tbody tr th {\n        vertical-align: top;\n    }\n\n    .dataframe thead th {\n        text-align: right;\n    }\n</style>\n<table border=\"1\" class=\"dataframe\">\n  <thead>\n    <tr style=\"text-align: right;\">\n      <th></th>\n      <th>RowNumber</th>\n      <th>CustomerId</th>\n      <th>Surname</th>\n      <th>CreditScore</th>\n      <th>Geography</th>\n      <th>Gender</th>\n      <th>Age</th>\n      <th>Tenure</th>\n      <th>Balance</th>\n      <th>NumOfProducts</th>\n      <th>HasCrCard</th>\n      <th>IsActiveMember</th>\n      <th>EstimatedSalary</th>\n      <th>Exited</th>\n    </tr>\n  </thead>\n  <tbody>\n    <tr>\n      <th>0</th>\n      <td>1</td>\n      <td>15634602</td>\n      <td>Hargrave</td>\n      <td>619</td>\n      <td>France</td>\n      <td>Female</td>\n      <td>42</td>\n      <td>2</td>\n      <td>0.00</td>\n      <td>1</td>\n      <td>1</td>\n      <td>1</td>\n      <td>101348.88</td>\n      <td>1</td>\n    </tr>\n    <tr>\n      <th>1</th>\n      <td>2</td>\n      <td>15647311</td>\n      <td>Hill</td>\n      <td>608</td>\n      <td>Spain</td>\n      <td>Female</td>\n      <td>41</td>\n      <td>1</td>\n      <td>83807.86</td>\n      <td>1</td>\n      <td>0</td>\n      <td>1</td>\n      <td>112542.58</td>\n      <td>0</td>\n    </tr>\n    <tr>\n      <th>2</th>\n      <td>3</td>\n      <td>15619304</td>\n      <td>Onio</td>\n      <td>502</td>\n      <td>France</td>\n      <td>Female</td>\n      <td>42</td>\n      <td>8</td>\n      <td>159660.80</td>\n      <td>3</td>\n      <td>1</td>\n      <td>0</td>\n      <td>113931.57</td>\n      <td>1</td>\n    </tr>\n    <tr>\n      <th>3</th>\n      <td>4</td>\n      <td>15701354</td>\n      <td>Boni</td>\n      <td>699</td>\n      <td>France</td>\n      <td>Female</td>\n      <td>39</td>\n      <td>1</td>\n      <td>0.00</td>\n      <td>2</td>\n      <td>0</td>\n      <td>0</td>\n      <td>93826.63</td>\n      <td>0</td>\n    </tr>\n    <tr>\n      <th>4</th>\n      <td>5</td>\n      <td>15737888</td>\n      <td>Mitchell</td>\n      <td>850</td>\n      <td>Spain</td>\n      <td>Female</td>\n      <td>43</td>\n      <td>2</td>\n      <td>125510.82</td>\n      <td>1</td>\n      <td>1</td>\n      <td>1</td>\n      <td>79084.10</td>\n      <td>0</td>\n    </tr>\n  </tbody>\n</table>\n</div>"
     },
     "metadata": {},
     "execution_count": 3
    }
   ],
   "source": [
    "dataset = pd.read_csv('Churn_Modelling.csv')\n",
    "dataset.head()"
   ]
  },
  {
   "cell_type": "code",
   "execution_count": 4,
   "metadata": {},
   "outputs": [
    {
     "output_type": "stream",
     "name": "stdout",
     "text": [
      "X >>\n [[619 'France' 'Female' ... 1 1 101348.88]\n [608 'Spain' 'Female' ... 0 1 112542.58]\n [502 'France' 'Female' ... 1 0 113931.57]\n ...\n [709 'France' 'Female' ... 0 1 42085.58]\n [772 'Germany' 'Male' ... 1 0 92888.52]\n [792 'France' 'Female' ... 1 0 38190.78]]\ny >>\n [1 0 1 ... 1 1 0]\n"
     ]
    }
   ],
   "source": [
    "X = dataset.iloc[:, 3:13].values\n",
    "y = dataset.iloc[:, 13].values\n",
    "print(\"X >>\\n\",X)\n",
    "print(\"y >>\\n\",y)"
   ]
  },
  {
   "cell_type": "markdown",
   "metadata": {},
   "source": [
    "### Transformando os dados categóricos\n"
   ]
  },
  {
   "cell_type": "code",
   "execution_count": 5,
   "metadata": {},
   "outputs": [
    {
     "output_type": "stream",
     "name": "stdout",
     "text": [
      "[[619 'France' 0 ... 1 1 101348.88]\n [608 'Spain' 0 ... 0 1 112542.58]\n [502 'France' 0 ... 1 0 113931.57]\n ...\n [709 'France' 0 ... 0 1 42085.58]\n [772 'Germany' 1 ... 1 0 92888.52]\n [792 'France' 0 ... 1 0 38190.78]]\n[[1.0 0.0 0.0 ... 1 1 101348.88]\n [0.0 0.0 1.0 ... 0 1 112542.58]\n [1.0 0.0 0.0 ... 1 0 113931.57]\n ...\n [1.0 0.0 0.0 ... 0 1 42085.58]\n [0.0 1.0 0.0 ... 1 0 92888.52]\n [1.0 0.0 0.0 ... 1 0 38190.78]]\n"
     ]
    }
   ],
   "source": [
    "# Label Encoding the \"Gender\" column\n",
    "from sklearn.preprocessing import LabelEncoder\n",
    "le = LabelEncoder()\n",
    "X[:, 2] = le.fit_transform(X[:, 2])\n",
    "print(X)\n",
    "# One Hot Encoding the \"Geography\" column\n",
    "from sklearn.compose import ColumnTransformer\n",
    "from sklearn.preprocessing import OneHotEncoder\n",
    "ct = ColumnTransformer(transformers=[('encoder', OneHotEncoder(), [1])], remainder='passthrough')\n",
    "X = np.array(ct.fit_transform(X))\n",
    "print(X)"
   ]
  },
  {
   "cell_type": "markdown",
   "metadata": {},
   "source": [
    "# Dividindo o dataset em conjunto de treinamento e conjunto de teste"
   ]
  },
  {
   "cell_type": "code",
   "execution_count": 6,
   "metadata": {},
   "outputs": [],
   "source": [
    "from sklearn.model_selection import train_test_split\n",
    "X_train, X_test, y_train, y_test = train_test_split(X, y, test_size = 0.2, random_state = 0)"
   ]
  },
  {
   "cell_type": "markdown",
   "metadata": {},
   "source": [
    "# Feature Scaling"
   ]
  },
  {
   "cell_type": "code",
   "execution_count": 7,
   "metadata": {},
   "outputs": [
    {
     "output_type": "stream",
     "name": "stderr",
     "text": [
      "/home/kisobral/.local/lib/python3.6/site-packages/sklearn/utils/validation.py:595: DataConversionWarning: Data with input dtype object was converted to float64 by StandardScaler.\n  warnings.warn(msg, DataConversionWarning)\n/home/kisobral/.local/lib/python3.6/site-packages/sklearn/utils/validation.py:595: DataConversionWarning: Data with input dtype object was converted to float64 by StandardScaler.\n  warnings.warn(msg, DataConversionWarning)\n/home/kisobral/.local/lib/python3.6/site-packages/sklearn/utils/validation.py:595: DataConversionWarning: Data with input dtype object was converted to float64 by StandardScaler.\n  warnings.warn(msg, DataConversionWarning)\n"
     ]
    }
   ],
   "source": [
    "from sklearn.preprocessing import StandardScaler\n",
    "sc = StandardScaler()\n",
    "X_train = sc.fit_transform(X_train)\n",
    "X_test = sc.transform(X_test)"
   ]
  },
  {
   "cell_type": "code",
   "execution_count": 8,
   "metadata": {},
   "outputs": [
    {
     "output_type": "execute_result",
     "data": {
      "text/plain": [
       "(8000, 12)"
      ]
     },
     "metadata": {},
     "execution_count": 8
    }
   ],
   "source": [
    "np.shape(X_train)"
   ]
  },
  {
   "cell_type": "markdown",
   "metadata": {},
   "source": [
    "---\n",
    "# Parte 2 -Vamos construir uma ANN!\n"
   ]
  },
  {
   "cell_type": "markdown",
   "metadata": {
    "colab_type": "text",
    "id": "KvdeScabXtlB"
   },
   "source": [
    "### Initializing the ANN"
   ]
  },
  {
   "cell_type": "code",
   "execution_count": 9,
   "metadata": {
    "colab": {},
    "colab_type": "code",
    "id": "3dtrScHxXQox"
   },
   "outputs": [],
   "source": [
    "ann = tf.keras.models.Sequential()"
   ]
  },
  {
   "cell_type": "markdown",
   "metadata": {
    "colab_type": "text",
    "id": "rP6urV6SX7kS"
   },
   "source": [
    "### Adding the input layer and the first hidden layer"
   ]
  },
  {
   "cell_type": "code",
   "execution_count": 10,
   "metadata": {
    "colab": {},
    "colab_type": "code",
    "id": "bppGycBXYCQr"
   },
   "outputs": [],
   "source": [
    "ann.add(tf.keras.layers.Dense(units=8, activation='relu'))"
   ]
  },
  {
   "cell_type": "markdown",
   "metadata": {
    "colab_type": "text",
    "id": "BELWAc_8YJze"
   },
   "source": [
    "### Adding the second hidden layer"
   ]
  },
  {
   "cell_type": "code",
   "execution_count": 11,
   "metadata": {
    "colab": {},
    "colab_type": "code",
    "id": "JneR0u0sYRTd"
   },
   "outputs": [],
   "source": [
    "ann.add(tf.keras.layers.Dense(units=10, activation='relu'))"
   ]
  },
  {
   "cell_type": "code",
   "execution_count": 12,
   "metadata": {},
   "outputs": [],
   "source": [
    "ann.add(tf.keras.layers.Dense(units=12, activation='tanh'))"
   ]
  },
  {
   "cell_type": "markdown",
   "metadata": {
    "colab_type": "text",
    "id": "OyNEe6RXYcU4"
   },
   "source": [
    "### Adding the output layer"
   ]
  },
  {
   "cell_type": "code",
   "execution_count": 13,
   "metadata": {
    "colab": {},
    "colab_type": "code",
    "id": "Cn3x41RBYfvY"
   },
   "outputs": [],
   "source": [
    "ann.add(tf.keras.layers.Dense(units=1, activation='sigmoid'))"
   ]
  },
  {
   "cell_type": "markdown",
   "metadata": {
    "colab_type": "text",
    "id": "JT4u2S1_Y4WG"
   },
   "source": [
    "## Part 3 - Training the ANN"
   ]
  },
  {
   "cell_type": "markdown",
   "metadata": {
    "colab_type": "text",
    "id": "8GWlJChhY_ZI"
   },
   "source": [
    "### Compiling the ANN"
   ]
  },
  {
   "cell_type": "code",
   "execution_count": 14,
   "metadata": {
    "colab": {},
    "colab_type": "code",
    "id": "fG3RrwDXZEaS"
   },
   "outputs": [],
   "source": [
    "ann.compile(optimizer = 'rmsprop', loss = 'binary_crossentropy', metrics = ['accuracy'])"
   ]
  },
  {
   "cell_type": "markdown",
   "metadata": {
    "colab_type": "text",
    "id": "0QR_G5u7ZLSM"
   },
   "source": [
    "### Training the ANN on the Training set"
   ]
  },
  {
   "cell_type": "code",
   "execution_count": 21,
   "metadata": {
    "colab": {
     "base_uri": "https://localhost:8080/",
     "height": 1000
    },
    "colab_type": "code",
    "id": "nHZ-LKv_ZRb3",
    "outputId": "718cc4b0-b5aa-40f0-9b20-d3d31730a531",
    "tags": []
   },
   "outputs": [
    {
     "output_type": "stream",
     "name": "stdout",
     "text": [
      "Epoch 1/124\n",
      "250/250 [==============================] - 0s 732us/step - loss: 0.3161 - accuracy: 0.8715\n",
      "Epoch 2/124\n",
      "250/250 [==============================] - 0s 761us/step - loss: 0.3159 - accuracy: 0.8706\n",
      "Epoch 3/124\n",
      "250/250 [==============================] - 0s 736us/step - loss: 0.3157 - accuracy: 0.8716\n",
      "Epoch 4/124\n",
      "250/250 [==============================] - 0s 699us/step - loss: 0.3152 - accuracy: 0.8712\n",
      "Epoch 5/124\n",
      "250/250 [==============================] - 0s 697us/step - loss: 0.3160 - accuracy: 0.8716\n",
      "Epoch 6/124\n",
      "250/250 [==============================] - 0s 725us/step - loss: 0.3157 - accuracy: 0.8706\n",
      "Epoch 7/124\n",
      "250/250 [==============================] - 0s 726us/step - loss: 0.3156 - accuracy: 0.8704\n",
      "Epoch 8/124\n",
      "250/250 [==============================] - 0s 702us/step - loss: 0.3163 - accuracy: 0.8696\n",
      "Epoch 9/124\n",
      "250/250 [==============================] - 0s 688us/step - loss: 0.3156 - accuracy: 0.8721\n",
      "Epoch 10/124\n",
      "250/250 [==============================] - 0s 665us/step - loss: 0.3158 - accuracy: 0.8715\n",
      "Epoch 11/124\n",
      "250/250 [==============================] - 0s 673us/step - loss: 0.3159 - accuracy: 0.8700\n",
      "Epoch 12/124\n",
      "250/250 [==============================] - 0s 662us/step - loss: 0.3162 - accuracy: 0.8736\n",
      "Epoch 13/124\n",
      "250/250 [==============================] - 0s 704us/step - loss: 0.3157 - accuracy: 0.8710\n",
      "Epoch 14/124\n",
      "250/250 [==============================] - 0s 735us/step - loss: 0.3156 - accuracy: 0.8691\n",
      "Epoch 15/124\n",
      "250/250 [==============================] - 0s 706us/step - loss: 0.3157 - accuracy: 0.8726\n",
      "Epoch 16/124\n",
      "250/250 [==============================] - 0s 754us/step - loss: 0.3160 - accuracy: 0.8710\n",
      "Epoch 17/124\n",
      "250/250 [==============================] - 0s 720us/step - loss: 0.3156 - accuracy: 0.8733\n",
      "Epoch 18/124\n",
      "250/250 [==============================] - 0s 734us/step - loss: 0.3153 - accuracy: 0.8719\n",
      "Epoch 19/124\n",
      "250/250 [==============================] - 0s 760us/step - loss: 0.3156 - accuracy: 0.8668\n",
      "Epoch 20/124\n",
      "250/250 [==============================] - 0s 733us/step - loss: 0.3159 - accuracy: 0.8731\n",
      "Epoch 21/124\n",
      "250/250 [==============================] - 0s 674us/step - loss: 0.3158 - accuracy: 0.8701\n",
      "Epoch 22/124\n",
      "250/250 [==============================] - 0s 655us/step - loss: 0.3154 - accuracy: 0.8711\n",
      "Epoch 23/124\n",
      "250/250 [==============================] - 0s 661us/step - loss: 0.3153 - accuracy: 0.8717\n",
      "Epoch 24/124\n",
      "250/250 [==============================] - 0s 653us/step - loss: 0.3160 - accuracy: 0.8720\n",
      "Epoch 25/124\n",
      "250/250 [==============================] - 0s 681us/step - loss: 0.3159 - accuracy: 0.8727\n",
      "Epoch 26/124\n",
      "250/250 [==============================] - 0s 675us/step - loss: 0.3154 - accuracy: 0.8715\n",
      "Epoch 27/124\n",
      "250/250 [==============================] - 0s 669us/step - loss: 0.3155 - accuracy: 0.8710\n",
      "Epoch 28/124\n",
      "250/250 [==============================] - 0s 700us/step - loss: 0.3150 - accuracy: 0.8731\n",
      "Epoch 29/124\n",
      "250/250 [==============================] - 0s 689us/step - loss: 0.3154 - accuracy: 0.8698\n",
      "Epoch 30/124\n",
      "250/250 [==============================] - 0s 723us/step - loss: 0.3158 - accuracy: 0.8695\n",
      "Epoch 31/124\n",
      "250/250 [==============================] - 0s 660us/step - loss: 0.3152 - accuracy: 0.8704\n",
      "Epoch 32/124\n",
      "250/250 [==============================] - 0s 668us/step - loss: 0.3149 - accuracy: 0.8710\n",
      "Epoch 33/124\n",
      "250/250 [==============================] - 0s 677us/step - loss: 0.3146 - accuracy: 0.8702\n",
      "Epoch 34/124\n",
      "250/250 [==============================] - 0s 815us/step - loss: 0.3154 - accuracy: 0.8712\n",
      "Epoch 35/124\n",
      "250/250 [==============================] - 0s 742us/step - loss: 0.3150 - accuracy: 0.8710\n",
      "Epoch 36/124\n",
      "250/250 [==============================] - 0s 764us/step - loss: 0.3153 - accuracy: 0.8696\n",
      "Epoch 37/124\n",
      "250/250 [==============================] - 0s 757us/step - loss: 0.3151 - accuracy: 0.8715\n",
      "Epoch 38/124\n",
      "250/250 [==============================] - 0s 777us/step - loss: 0.3151 - accuracy: 0.8710\n",
      "Epoch 39/124\n",
      "250/250 [==============================] - 0s 760us/step - loss: 0.3153 - accuracy: 0.8731\n",
      "Epoch 40/124\n",
      "250/250 [==============================] - 0s 764us/step - loss: 0.3149 - accuracy: 0.8704\n",
      "Epoch 41/124\n",
      "250/250 [==============================] - 0s 739us/step - loss: 0.3147 - accuracy: 0.8720\n",
      "Epoch 42/124\n",
      "250/250 [==============================] - 0s 956us/step - loss: 0.3138 - accuracy: 0.8716\n",
      "Epoch 43/124\n",
      "250/250 [==============================] - 0s 879us/step - loss: 0.3149 - accuracy: 0.8717\n",
      "Epoch 44/124\n",
      "250/250 [==============================] - 0s 1ms/step - loss: 0.3148 - accuracy: 0.8714\n",
      "Epoch 45/124\n",
      "250/250 [==============================] - 0s 1ms/step - loss: 0.3147 - accuracy: 0.8708\n",
      "Epoch 46/124\n",
      "250/250 [==============================] - 0s 1ms/step - loss: 0.3144 - accuracy: 0.8715\n",
      "Epoch 47/124\n",
      "250/250 [==============================] - 0s 1ms/step - loss: 0.3148 - accuracy: 0.8709\n",
      "Epoch 48/124\n",
      "250/250 [==============================] - 0s 1ms/step - loss: 0.3151 - accuracy: 0.8723\n",
      "Epoch 49/124\n",
      "250/250 [==============================] - 0s 1ms/step - loss: 0.3145 - accuracy: 0.8701\n",
      "Epoch 50/124\n",
      "250/250 [==============================] - 0s 892us/step - loss: 0.3149 - accuracy: 0.8709\n",
      "Epoch 51/124\n",
      "250/250 [==============================] - 0s 877us/step - loss: 0.3144 - accuracy: 0.8701\n",
      "Epoch 52/124\n",
      "250/250 [==============================] - 0s 1ms/step - loss: 0.3144 - accuracy: 0.8719\n",
      "Epoch 53/124\n",
      "250/250 [==============================] - 0s 2ms/step - loss: 0.3144 - accuracy: 0.8700\n",
      "Epoch 54/124\n",
      "250/250 [==============================] - 0s 869us/step - loss: 0.3145 - accuracy: 0.8704\n",
      "Epoch 55/124\n",
      "250/250 [==============================] - 0s 746us/step - loss: 0.3148 - accuracy: 0.8690\n",
      "Epoch 56/124\n",
      "250/250 [==============================] - 0s 996us/step - loss: 0.3147 - accuracy: 0.8725\n",
      "Epoch 57/124\n",
      "250/250 [==============================] - 0s 1ms/step - loss: 0.3148 - accuracy: 0.8709\n",
      "Epoch 58/124\n",
      "250/250 [==============================] - 0s 935us/step - loss: 0.3138 - accuracy: 0.8716\n",
      "Epoch 59/124\n",
      "250/250 [==============================] - 0s 1ms/step - loss: 0.3146 - accuracy: 0.8702\n",
      "Epoch 60/124\n",
      "250/250 [==============================] - 0s 952us/step - loss: 0.3144 - accuracy: 0.8712\n",
      "Epoch 61/124\n",
      "250/250 [==============================] - 0s 923us/step - loss: 0.3141 - accuracy: 0.8716\n",
      "Epoch 62/124\n",
      "250/250 [==============================] - 0s 1ms/step - loss: 0.3147 - accuracy: 0.8692\n",
      "Epoch 63/124\n",
      "250/250 [==============================] - 0s 1ms/step - loss: 0.3143 - accuracy: 0.8701\n",
      "Epoch 64/124\n",
      "250/250 [==============================] - 0s 1ms/step - loss: 0.3145 - accuracy: 0.8701\n",
      "Epoch 65/124\n",
      "250/250 [==============================] - 0s 878us/step - loss: 0.3146 - accuracy: 0.8689\n",
      "Epoch 66/124\n",
      "250/250 [==============================] - 0s 886us/step - loss: 0.3142 - accuracy: 0.8700\n",
      "Epoch 67/124\n",
      "250/250 [==============================] - 0s 873us/step - loss: 0.3136 - accuracy: 0.8711\n",
      "Epoch 68/124\n",
      "250/250 [==============================] - 0s 890us/step - loss: 0.3134 - accuracy: 0.8711\n",
      "Epoch 69/124\n",
      "250/250 [==============================] - 0s 888us/step - loss: 0.3145 - accuracy: 0.8689\n",
      "Epoch 70/124\n",
      "250/250 [==============================] - 0s 876us/step - loss: 0.3143 - accuracy: 0.8701\n",
      "Epoch 71/124\n",
      "250/250 [==============================] - 0s 866us/step - loss: 0.3146 - accuracy: 0.8716\n",
      "Epoch 72/124\n",
      "250/250 [==============================] - 0s 1ms/step - loss: 0.3141 - accuracy: 0.8702\n",
      "Epoch 73/124\n",
      "250/250 [==============================] - 0s 1ms/step - loss: 0.3140 - accuracy: 0.8704\n",
      "Epoch 74/124\n",
      "250/250 [==============================] - 0s 924us/step - loss: 0.3150 - accuracy: 0.8702\n",
      "Epoch 75/124\n",
      "250/250 [==============================] - 0s 953us/step - loss: 0.3137 - accuracy: 0.8692\n",
      "Epoch 76/124\n",
      "250/250 [==============================] - 0s 1ms/step - loss: 0.3140 - accuracy: 0.8698\n",
      "Epoch 77/124\n",
      "250/250 [==============================] - 0s 939us/step - loss: 0.3140 - accuracy: 0.8681\n",
      "Epoch 78/124\n",
      "250/250 [==============================] - 0s 742us/step - loss: 0.3138 - accuracy: 0.8716\n",
      "Epoch 79/124\n",
      "250/250 [==============================] - 0s 706us/step - loss: 0.3148 - accuracy: 0.8700\n",
      "Epoch 80/124\n",
      "250/250 [==============================] - 0s 699us/step - loss: 0.3148 - accuracy: 0.8698\n",
      "Epoch 81/124\n",
      "250/250 [==============================] - 0s 707us/step - loss: 0.3137 - accuracy: 0.8702\n",
      "Epoch 82/124\n",
      "250/250 [==============================] - 0s 841us/step - loss: 0.3132 - accuracy: 0.8706\n",
      "Epoch 83/124\n",
      "250/250 [==============================] - 0s 738us/step - loss: 0.3143 - accuracy: 0.8708\n",
      "Epoch 84/124\n",
      "250/250 [==============================] - 0s 747us/step - loss: 0.3141 - accuracy: 0.8700\n",
      "Epoch 85/124\n",
      "250/250 [==============================] - 0s 747us/step - loss: 0.3136 - accuracy: 0.8723\n",
      "Epoch 86/124\n",
      "250/250 [==============================] - 0s 722us/step - loss: 0.3144 - accuracy: 0.8734\n",
      "Epoch 87/124\n",
      "250/250 [==============================] - 0s 683us/step - loss: 0.3143 - accuracy: 0.8710\n",
      "Epoch 88/124\n",
      "250/250 [==============================] - 0s 678us/step - loss: 0.3147 - accuracy: 0.8698\n",
      "Epoch 89/124\n",
      "250/250 [==============================] - 0s 637us/step - loss: 0.3139 - accuracy: 0.8698\n",
      "Epoch 90/124\n",
      "250/250 [==============================] - 0s 649us/step - loss: 0.3146 - accuracy: 0.8712\n",
      "Epoch 91/124\n",
      "250/250 [==============================] - 0s 644us/step - loss: 0.3135 - accuracy: 0.8710\n",
      "Epoch 92/124\n",
      "250/250 [==============================] - 0s 705us/step - loss: 0.3142 - accuracy: 0.8716\n",
      "Epoch 93/124\n",
      "250/250 [==============================] - 0s 832us/step - loss: 0.3136 - accuracy: 0.8715\n",
      "Epoch 94/124\n",
      "250/250 [==============================] - 0s 723us/step - loss: 0.3136 - accuracy: 0.8725\n",
      "Epoch 95/124\n",
      "250/250 [==============================] - 0s 646us/step - loss: 0.3141 - accuracy: 0.8712\n",
      "Epoch 96/124\n",
      "250/250 [==============================] - 0s 629us/step - loss: 0.3132 - accuracy: 0.8709\n",
      "Epoch 97/124\n",
      "250/250 [==============================] - 0s 657us/step - loss: 0.3140 - accuracy: 0.8709\n",
      "Epoch 98/124\n",
      "250/250 [==============================] - 0s 712us/step - loss: 0.3137 - accuracy: 0.8721\n",
      "Epoch 99/124\n",
      "250/250 [==============================] - 0s 709us/step - loss: 0.3132 - accuracy: 0.8717\n",
      "Epoch 100/124\n",
      "250/250 [==============================] - 0s 702us/step - loss: 0.3137 - accuracy: 0.8698\n",
      "Epoch 101/124\n",
      "250/250 [==============================] - 0s 709us/step - loss: 0.3131 - accuracy: 0.8727\n",
      "Epoch 102/124\n",
      "250/250 [==============================] - 0s 677us/step - loss: 0.3139 - accuracy: 0.8692\n",
      "Epoch 103/124\n",
      "250/250 [==============================] - 0s 626us/step - loss: 0.3137 - accuracy: 0.8691\n",
      "Epoch 104/124\n",
      "250/250 [==============================] - 0s 660us/step - loss: 0.3129 - accuracy: 0.8720\n",
      "Epoch 105/124\n",
      "250/250 [==============================] - 0s 627us/step - loss: 0.3140 - accuracy: 0.8719\n",
      "Epoch 106/124\n",
      "250/250 [==============================] - 0s 1ms/step - loss: 0.3133 - accuracy: 0.8704\n",
      "Epoch 107/124\n",
      "250/250 [==============================] - 0s 1ms/step - loss: 0.3137 - accuracy: 0.8717\n",
      "Epoch 108/124\n",
      "250/250 [==============================] - 0s 886us/step - loss: 0.3134 - accuracy: 0.8723\n",
      "Epoch 109/124\n",
      "250/250 [==============================] - 0s 965us/step - loss: 0.3133 - accuracy: 0.8730\n",
      "Epoch 110/124\n",
      "250/250 [==============================] - 0s 861us/step - loss: 0.3135 - accuracy: 0.8724\n",
      "Epoch 111/124\n",
      "250/250 [==============================] - 0s 883us/step - loss: 0.3135 - accuracy: 0.8708\n",
      "Epoch 112/124\n",
      "250/250 [==============================] - 0s 716us/step - loss: 0.3133 - accuracy: 0.8712\n",
      "Epoch 113/124\n",
      "250/250 [==============================] - 0s 701us/step - loss: 0.3137 - accuracy: 0.8731\n",
      "Epoch 114/124\n",
      "250/250 [==============================] - 0s 698us/step - loss: 0.3138 - accuracy: 0.8730\n",
      "Epoch 115/124\n",
      "250/250 [==============================] - 0s 711us/step - loss: 0.3132 - accuracy: 0.8714\n",
      "Epoch 116/124\n",
      "250/250 [==============================] - 0s 656us/step - loss: 0.3141 - accuracy: 0.8723\n",
      "Epoch 117/124\n",
      "250/250 [==============================] - 0s 637us/step - loss: 0.3133 - accuracy: 0.8720\n",
      "Epoch 118/124\n",
      "250/250 [==============================] - 0s 772us/step - loss: 0.3139 - accuracy: 0.8706\n",
      "Epoch 119/124\n",
      "250/250 [==============================] - 0s 702us/step - loss: 0.3137 - accuracy: 0.8723\n",
      "Epoch 120/124\n",
      "250/250 [==============================] - 0s 702us/step - loss: 0.3131 - accuracy: 0.8712\n",
      "Epoch 121/124\n",
      "250/250 [==============================] - 0s 828us/step - loss: 0.3134 - accuracy: 0.8714\n",
      "Epoch 122/124\n",
      "250/250 [==============================] - 0s 766us/step - loss: 0.3137 - accuracy: 0.8724\n",
      "Epoch 123/124\n",
      "250/250 [==============================] - 0s 737us/step - loss: 0.3129 - accuracy: 0.8737\n",
      "Epoch 124/124\n",
      "250/250 [==============================] - 0s 721us/step - loss: 0.3134 - accuracy: 0.8737\n"
     ]
    },
    {
     "output_type": "execute_result",
     "data": {
      "text/plain": [
       "<tensorflow.python.keras.callbacks.History at 0x7f96c07e4780>"
      ]
     },
     "metadata": {},
     "execution_count": 21
    }
   ],
   "source": [
    "ann.fit(X_train, y_train, batch_size = 32, epochs = 128)"
   ]
  },
  {
   "cell_type": "markdown",
   "metadata": {},
   "source": [
    "# Parte 3 - Fazendo predições e avaliando o modelo\n",
    "\n",
    "## Prevendo os resultados com o conjunto de testes"
   ]
  },
  {
   "cell_type": "code",
   "execution_count": 16,
   "metadata": {},
   "outputs": [
    {
     "output_type": "execute_result",
     "data": {
      "text/plain": [
       "array([[0.3486461 ],\n",
       "       [0.54768556],\n",
       "       [0.13423848],\n",
       "       ...,\n",
       "       [0.23661518],\n",
       "       [0.33044568],\n",
       "       [0.1833097 ]], dtype=float32)"
      ]
     },
     "metadata": {},
     "execution_count": 16
    }
   ],
   "source": [
    "y_pred = ann.predict(X_test)\n",
    "y_pred"
   ]
  },
  {
   "cell_type": "code",
   "execution_count": 17,
   "metadata": {},
   "outputs": [
    {
     "output_type": "execute_result",
     "data": {
      "text/plain": [
       "array([[False],\n",
       "       [ True],\n",
       "       [False],\n",
       "       ...,\n",
       "       [False],\n",
       "       [False],\n",
       "       [False]])"
      ]
     },
     "metadata": {},
     "execution_count": 17
    }
   ],
   "source": [
    "y_pred = (y_pred > 0.5)\n",
    "y_pred"
   ]
  },
  {
   "cell_type": "markdown",
   "metadata": {},
   "source": [
    "# Criando uma Confusion Matrix"
   ]
  },
  {
   "cell_type": "code",
   "execution_count": 18,
   "metadata": {},
   "outputs": [
    {
     "output_type": "stream",
     "name": "stdout",
     "text": [
      "[[1479  116]\n [ 177  228]]\n"
     ]
    }
   ],
   "source": [
    "from sklearn.metrics import confusion_matrix\n",
    "cm = confusion_matrix(y_test, y_pred)\n",
    "print(cm)"
   ]
  },
  {
   "cell_type": "code",
   "execution_count": 19,
   "metadata": {},
   "outputs": [
    {
     "output_type": "display_data",
     "data": {
      "text/plain": "<Figure size 1296x792 with 2 Axes>",
      "image/svg+xml": "<?xml version=\"1.0\" encoding=\"utf-8\" standalone=\"no\"?>\n<!DOCTYPE svg PUBLIC \"-//W3C//DTD SVG 1.1//EN\"\n  \"http://www.w3.org/Graphics/SVG/1.1/DTD/svg11.dtd\">\n<!-- Created with matplotlib (https://matplotlib.org/) -->\n<svg height=\"650.235pt\" version=\"1.1\" viewBox=\"0 0 947.166125 650.235\" width=\"947.166125pt\" xmlns=\"http://www.w3.org/2000/svg\" xmlns:xlink=\"http://www.w3.org/1999/xlink\">\n <metadata>\n  <rdf:RDF xmlns:cc=\"http://creativecommons.org/ns#\" xmlns:dc=\"http://purl.org/dc/elements/1.1/\" xmlns:rdf=\"http://www.w3.org/1999/02/22-rdf-syntax-ns#\">\n   <cc:Work>\n    <dc:type rdf:resource=\"http://purl.org/dc/dcmitype/StillImage\"/>\n    <dc:date>2021-03-13T11:42:48.649597</dc:date>\n    <dc:format>image/svg+xml</dc:format>\n    <dc:creator>\n     <cc:Agent>\n      <dc:title>Matplotlib v3.3.2, https://matplotlib.org/</dc:title>\n     </cc:Agent>\n    </dc:creator>\n   </cc:Work>\n  </rdf:RDF>\n </metadata>\n <defs>\n  <style type=\"text/css\">*{stroke-linecap:butt;stroke-linejoin:round;}</style>\n </defs>\n <g id=\"figure_1\">\n  <g id=\"patch_1\">\n   <path d=\"M 0 650.235 \nL 947.166125 650.235 \nL 947.166125 0 \nL 0 0 \nz\n\" style=\"fill:none;\"/>\n  </g>\n  <g id=\"axes_1\">\n   <g id=\"patch_2\">\n    <path d=\"M 23.878125 626.356875 \nL 827.398125 626.356875 \nL 827.398125 28.396875 \nL 23.878125 28.396875 \nz\n\" style=\"fill:#ffffff;\"/>\n   </g>\n   <g id=\"QuadMesh_1\">\n    <path clip-path=\"url(#p3deaee8770)\" d=\"M 23.878125 28.396875 \nL 425.638125 28.396875 \nL 425.638125 327.376875 \nL 23.878125 327.376875 \nL 23.878125 28.396875 \n\" style=\"fill:#faebdd;stroke:#ffffff;stroke-width:0.01;\"/>\n    <path clip-path=\"url(#p3deaee8770)\" d=\"M 425.638125 28.396875 \nL 827.398125 28.396875 \nL 827.398125 327.376875 \nL 425.638125 327.376875 \nL 425.638125 28.396875 \n\" style=\"fill:#03051a;stroke:#ffffff;stroke-width:0.01;\"/>\n    <path clip-path=\"url(#p3deaee8770)\" d=\"M 23.878125 327.376875 \nL 425.638125 327.376875 \nL 425.638125 626.356875 \nL 23.878125 626.356875 \nL 23.878125 327.376875 \n\" style=\"fill:#110c24;stroke:#ffffff;stroke-width:0.01;\"/>\n    <path clip-path=\"url(#p3deaee8770)\" d=\"M 425.638125 327.376875 \nL 827.398125 327.376875 \nL 827.398125 626.356875 \nL 425.638125 626.356875 \nL 425.638125 327.376875 \n\" style=\"fill:#20122e;stroke:#ffffff;stroke-width:0.01;\"/>\n   </g>\n   <g id=\"matplotlib.axis_1\">\n    <g id=\"xtick_1\">\n     <g id=\"line2d_1\">\n      <defs>\n       <path d=\"M 0 0 \nL 0 3.5 \n\" id=\"mff6a9428ba\" style=\"stroke:#000000;stroke-width:0.8;\"/>\n      </defs>\n      <g>\n       <use style=\"stroke:#000000;stroke-width:0.8;\" x=\"224.758125\" xlink:href=\"#mff6a9428ba\" y=\"626.356875\"/>\n      </g>\n     </g>\n     <g id=\"text_1\">\n      <!-- 0 -->\n      <g transform=\"translate(221.576875 640.955312)scale(0.1 -0.1)\">\n       <defs>\n        <path d=\"M 31.78125 66.40625 \nQ 24.171875 66.40625 20.328125 58.90625 \nQ 16.5 51.421875 16.5 36.375 \nQ 16.5 21.390625 20.328125 13.890625 \nQ 24.171875 6.390625 31.78125 6.390625 \nQ 39.453125 6.390625 43.28125 13.890625 \nQ 47.125 21.390625 47.125 36.375 \nQ 47.125 51.421875 43.28125 58.90625 \nQ 39.453125 66.40625 31.78125 66.40625 \nz\nM 31.78125 74.21875 \nQ 44.046875 74.21875 50.515625 64.515625 \nQ 56.984375 54.828125 56.984375 36.375 \nQ 56.984375 17.96875 50.515625 8.265625 \nQ 44.046875 -1.421875 31.78125 -1.421875 \nQ 19.53125 -1.421875 13.0625 8.265625 \nQ 6.59375 17.96875 6.59375 36.375 \nQ 6.59375 54.828125 13.0625 64.515625 \nQ 19.53125 74.21875 31.78125 74.21875 \nz\n\" id=\"DejaVuSans-48\"/>\n       </defs>\n       <use xlink:href=\"#DejaVuSans-48\"/>\n      </g>\n     </g>\n    </g>\n    <g id=\"xtick_2\">\n     <g id=\"line2d_2\">\n      <g>\n       <use style=\"stroke:#000000;stroke-width:0.8;\" x=\"626.518125\" xlink:href=\"#mff6a9428ba\" y=\"626.356875\"/>\n      </g>\n     </g>\n     <g id=\"text_2\">\n      <!-- 1 -->\n      <g transform=\"translate(623.336875 640.955312)scale(0.1 -0.1)\">\n       <defs>\n        <path d=\"M 12.40625 8.296875 \nL 28.515625 8.296875 \nL 28.515625 63.921875 \nL 10.984375 60.40625 \nL 10.984375 69.390625 \nL 28.421875 72.90625 \nL 38.28125 72.90625 \nL 38.28125 8.296875 \nL 54.390625 8.296875 \nL 54.390625 0 \nL 12.40625 0 \nz\n\" id=\"DejaVuSans-49\"/>\n       </defs>\n       <use xlink:href=\"#DejaVuSans-49\"/>\n      </g>\n     </g>\n    </g>\n   </g>\n   <g id=\"matplotlib.axis_2\">\n    <g id=\"ytick_1\">\n     <g id=\"line2d_3\">\n      <defs>\n       <path d=\"M 0 0 \nL -3.5 0 \n\" id=\"m8cda8f5ede\" style=\"stroke:#000000;stroke-width:0.8;\"/>\n      </defs>\n      <g>\n       <use style=\"stroke:#000000;stroke-width:0.8;\" x=\"23.878125\" xlink:href=\"#m8cda8f5ede\" y=\"177.886875\"/>\n      </g>\n     </g>\n     <g id=\"text_3\">\n      <!-- 0 -->\n      <g transform=\"translate(14.798437 180.450156)rotate(-90)scale(0.1 -0.1)\">\n       <use xlink:href=\"#DejaVuSans-48\"/>\n      </g>\n     </g>\n    </g>\n    <g id=\"ytick_2\">\n     <g id=\"line2d_4\">\n      <g>\n       <use style=\"stroke:#000000;stroke-width:0.8;\" x=\"23.878125\" xlink:href=\"#m8cda8f5ede\" y=\"476.866875\"/>\n      </g>\n     </g>\n     <g id=\"text_4\">\n      <!-- 1 -->\n      <g transform=\"translate(14.798437 479.430156)rotate(-90)scale(0.1 -0.1)\">\n       <use xlink:href=\"#DejaVuSans-49\"/>\n      </g>\n     </g>\n    </g>\n   </g>\n   <g id=\"text_5\">\n    <!-- 1479 -->\n    <g style=\"fill:#262626;\" transform=\"translate(212.033125 180.64625)scale(0.1 -0.1)\">\n     <defs>\n      <path d=\"M 37.796875 64.3125 \nL 12.890625 25.390625 \nL 37.796875 25.390625 \nz\nM 35.203125 72.90625 \nL 47.609375 72.90625 \nL 47.609375 25.390625 \nL 58.015625 25.390625 \nL 58.015625 17.1875 \nL 47.609375 17.1875 \nL 47.609375 0 \nL 37.796875 0 \nL 37.796875 17.1875 \nL 4.890625 17.1875 \nL 4.890625 26.703125 \nz\n\" id=\"DejaVuSans-52\"/>\n      <path d=\"M 8.203125 72.90625 \nL 55.078125 72.90625 \nL 55.078125 68.703125 \nL 28.609375 0 \nL 18.3125 0 \nL 43.21875 64.59375 \nL 8.203125 64.59375 \nz\n\" id=\"DejaVuSans-55\"/>\n      <path d=\"M 10.984375 1.515625 \nL 10.984375 10.5 \nQ 14.703125 8.734375 18.5 7.8125 \nQ 22.3125 6.890625 25.984375 6.890625 \nQ 35.75 6.890625 40.890625 13.453125 \nQ 46.046875 20.015625 46.78125 33.40625 \nQ 43.953125 29.203125 39.59375 26.953125 \nQ 35.25 24.703125 29.984375 24.703125 \nQ 19.046875 24.703125 12.671875 31.3125 \nQ 6.296875 37.9375 6.296875 49.421875 \nQ 6.296875 60.640625 12.9375 67.421875 \nQ 19.578125 74.21875 30.609375 74.21875 \nQ 43.265625 74.21875 49.921875 64.515625 \nQ 56.59375 54.828125 56.59375 36.375 \nQ 56.59375 19.140625 48.40625 8.859375 \nQ 40.234375 -1.421875 26.421875 -1.421875 \nQ 22.703125 -1.421875 18.890625 -0.6875 \nQ 15.09375 0.046875 10.984375 1.515625 \nz\nM 30.609375 32.421875 \nQ 37.25 32.421875 41.125 36.953125 \nQ 45.015625 41.5 45.015625 49.421875 \nQ 45.015625 57.28125 41.125 61.84375 \nQ 37.25 66.40625 30.609375 66.40625 \nQ 23.96875 66.40625 20.09375 61.84375 \nQ 16.21875 57.28125 16.21875 49.421875 \nQ 16.21875 41.5 20.09375 36.953125 \nQ 23.96875 32.421875 30.609375 32.421875 \nz\n\" id=\"DejaVuSans-57\"/>\n     </defs>\n     <use xlink:href=\"#DejaVuSans-49\"/>\n     <use x=\"63.623047\" xlink:href=\"#DejaVuSans-52\"/>\n     <use x=\"127.246094\" xlink:href=\"#DejaVuSans-55\"/>\n     <use x=\"190.869141\" xlink:href=\"#DejaVuSans-57\"/>\n    </g>\n   </g>\n   <g id=\"text_6\">\n    <!-- 116 -->\n    <g style=\"fill:#ffffff;\" transform=\"translate(616.974375 180.64625)scale(0.1 -0.1)\">\n     <defs>\n      <path d=\"M 33.015625 40.375 \nQ 26.375 40.375 22.484375 35.828125 \nQ 18.609375 31.296875 18.609375 23.390625 \nQ 18.609375 15.53125 22.484375 10.953125 \nQ 26.375 6.390625 33.015625 6.390625 \nQ 39.65625 6.390625 43.53125 10.953125 \nQ 47.40625 15.53125 47.40625 23.390625 \nQ 47.40625 31.296875 43.53125 35.828125 \nQ 39.65625 40.375 33.015625 40.375 \nz\nM 52.59375 71.296875 \nL 52.59375 62.3125 \nQ 48.875 64.0625 45.09375 64.984375 \nQ 41.3125 65.921875 37.59375 65.921875 \nQ 27.828125 65.921875 22.671875 59.328125 \nQ 17.53125 52.734375 16.796875 39.40625 \nQ 19.671875 43.65625 24.015625 45.921875 \nQ 28.375 48.1875 33.59375 48.1875 \nQ 44.578125 48.1875 50.953125 41.515625 \nQ 57.328125 34.859375 57.328125 23.390625 \nQ 57.328125 12.15625 50.6875 5.359375 \nQ 44.046875 -1.421875 33.015625 -1.421875 \nQ 20.359375 -1.421875 13.671875 8.265625 \nQ 6.984375 17.96875 6.984375 36.375 \nQ 6.984375 53.65625 15.1875 63.9375 \nQ 23.390625 74.21875 37.203125 74.21875 \nQ 40.921875 74.21875 44.703125 73.484375 \nQ 48.484375 72.75 52.59375 71.296875 \nz\n\" id=\"DejaVuSans-54\"/>\n     </defs>\n     <use xlink:href=\"#DejaVuSans-49\"/>\n     <use x=\"63.623047\" xlink:href=\"#DejaVuSans-49\"/>\n     <use x=\"127.246094\" xlink:href=\"#DejaVuSans-54\"/>\n    </g>\n   </g>\n   <g id=\"text_7\">\n    <!-- 177 -->\n    <g style=\"fill:#ffffff;\" transform=\"translate(215.214375 479.62625)scale(0.1 -0.1)\">\n     <use xlink:href=\"#DejaVuSans-49\"/>\n     <use x=\"63.623047\" xlink:href=\"#DejaVuSans-55\"/>\n     <use x=\"127.246094\" xlink:href=\"#DejaVuSans-55\"/>\n    </g>\n   </g>\n   <g id=\"text_8\">\n    <!-- 228 -->\n    <g style=\"fill:#ffffff;\" transform=\"translate(616.974375 479.62625)scale(0.1 -0.1)\">\n     <defs>\n      <path d=\"M 19.1875 8.296875 \nL 53.609375 8.296875 \nL 53.609375 0 \nL 7.328125 0 \nL 7.328125 8.296875 \nQ 12.9375 14.109375 22.625 23.890625 \nQ 32.328125 33.6875 34.8125 36.53125 \nQ 39.546875 41.84375 41.421875 45.53125 \nQ 43.3125 49.21875 43.3125 52.78125 \nQ 43.3125 58.59375 39.234375 62.25 \nQ 35.15625 65.921875 28.609375 65.921875 \nQ 23.96875 65.921875 18.8125 64.3125 \nQ 13.671875 62.703125 7.8125 59.421875 \nL 7.8125 69.390625 \nQ 13.765625 71.78125 18.9375 73 \nQ 24.125 74.21875 28.421875 74.21875 \nQ 39.75 74.21875 46.484375 68.546875 \nQ 53.21875 62.890625 53.21875 53.421875 \nQ 53.21875 48.921875 51.53125 44.890625 \nQ 49.859375 40.875 45.40625 35.40625 \nQ 44.1875 33.984375 37.640625 27.21875 \nQ 31.109375 20.453125 19.1875 8.296875 \nz\n\" id=\"DejaVuSans-50\"/>\n      <path d=\"M 31.78125 34.625 \nQ 24.75 34.625 20.71875 30.859375 \nQ 16.703125 27.09375 16.703125 20.515625 \nQ 16.703125 13.921875 20.71875 10.15625 \nQ 24.75 6.390625 31.78125 6.390625 \nQ 38.8125 6.390625 42.859375 10.171875 \nQ 46.921875 13.96875 46.921875 20.515625 \nQ 46.921875 27.09375 42.890625 30.859375 \nQ 38.875 34.625 31.78125 34.625 \nz\nM 21.921875 38.8125 \nQ 15.578125 40.375 12.03125 44.71875 \nQ 8.5 49.078125 8.5 55.328125 \nQ 8.5 64.0625 14.71875 69.140625 \nQ 20.953125 74.21875 31.78125 74.21875 \nQ 42.671875 74.21875 48.875 69.140625 \nQ 55.078125 64.0625 55.078125 55.328125 \nQ 55.078125 49.078125 51.53125 44.71875 \nQ 48 40.375 41.703125 38.8125 \nQ 48.828125 37.15625 52.796875 32.3125 \nQ 56.78125 27.484375 56.78125 20.515625 \nQ 56.78125 9.90625 50.3125 4.234375 \nQ 43.84375 -1.421875 31.78125 -1.421875 \nQ 19.734375 -1.421875 13.25 4.234375 \nQ 6.78125 9.90625 6.78125 20.515625 \nQ 6.78125 27.484375 10.78125 32.3125 \nQ 14.796875 37.15625 21.921875 38.8125 \nz\nM 18.3125 54.390625 \nQ 18.3125 48.734375 21.84375 45.5625 \nQ 25.390625 42.390625 31.78125 42.390625 \nQ 38.140625 42.390625 41.71875 45.5625 \nQ 45.3125 48.734375 45.3125 54.390625 \nQ 45.3125 60.0625 41.71875 63.234375 \nQ 38.140625 66.40625 31.78125 66.40625 \nQ 25.390625 66.40625 21.84375 63.234375 \nQ 18.3125 60.0625 18.3125 54.390625 \nz\n\" id=\"DejaVuSans-56\"/>\n     </defs>\n     <use xlink:href=\"#DejaVuSans-50\"/>\n     <use x=\"63.623047\" xlink:href=\"#DejaVuSans-50\"/>\n     <use x=\"127.246094\" xlink:href=\"#DejaVuSans-56\"/>\n    </g>\n   </g>\n   <g id=\"text_9\">\n    <!-- Confusion Matrix -->\n    <g transform=\"translate(341.235 22.396875)scale(0.2 -0.2)\">\n     <defs>\n      <path d=\"M 64.40625 67.28125 \nL 64.40625 56.890625 \nQ 59.421875 61.53125 53.78125 63.8125 \nQ 48.140625 66.109375 41.796875 66.109375 \nQ 29.296875 66.109375 22.65625 58.46875 \nQ 16.015625 50.828125 16.015625 36.375 \nQ 16.015625 21.96875 22.65625 14.328125 \nQ 29.296875 6.6875 41.796875 6.6875 \nQ 48.140625 6.6875 53.78125 8.984375 \nQ 59.421875 11.28125 64.40625 15.921875 \nL 64.40625 5.609375 \nQ 59.234375 2.09375 53.4375 0.328125 \nQ 47.65625 -1.421875 41.21875 -1.421875 \nQ 24.65625 -1.421875 15.125 8.703125 \nQ 5.609375 18.84375 5.609375 36.375 \nQ 5.609375 53.953125 15.125 64.078125 \nQ 24.65625 74.21875 41.21875 74.21875 \nQ 47.75 74.21875 53.53125 72.484375 \nQ 59.328125 70.75 64.40625 67.28125 \nz\n\" id=\"DejaVuSans-67\"/>\n      <path d=\"M 30.609375 48.390625 \nQ 23.390625 48.390625 19.1875 42.75 \nQ 14.984375 37.109375 14.984375 27.296875 \nQ 14.984375 17.484375 19.15625 11.84375 \nQ 23.34375 6.203125 30.609375 6.203125 \nQ 37.796875 6.203125 41.984375 11.859375 \nQ 46.1875 17.53125 46.1875 27.296875 \nQ 46.1875 37.015625 41.984375 42.703125 \nQ 37.796875 48.390625 30.609375 48.390625 \nz\nM 30.609375 56 \nQ 42.328125 56 49.015625 48.375 \nQ 55.71875 40.765625 55.71875 27.296875 \nQ 55.71875 13.875 49.015625 6.21875 \nQ 42.328125 -1.421875 30.609375 -1.421875 \nQ 18.84375 -1.421875 12.171875 6.21875 \nQ 5.515625 13.875 5.515625 27.296875 \nQ 5.515625 40.765625 12.171875 48.375 \nQ 18.84375 56 30.609375 56 \nz\n\" id=\"DejaVuSans-111\"/>\n      <path d=\"M 54.890625 33.015625 \nL 54.890625 0 \nL 45.90625 0 \nL 45.90625 32.71875 \nQ 45.90625 40.484375 42.875 44.328125 \nQ 39.84375 48.1875 33.796875 48.1875 \nQ 26.515625 48.1875 22.3125 43.546875 \nQ 18.109375 38.921875 18.109375 30.90625 \nL 18.109375 0 \nL 9.078125 0 \nL 9.078125 54.6875 \nL 18.109375 54.6875 \nL 18.109375 46.1875 \nQ 21.34375 51.125 25.703125 53.5625 \nQ 30.078125 56 35.796875 56 \nQ 45.21875 56 50.046875 50.171875 \nQ 54.890625 44.34375 54.890625 33.015625 \nz\n\" id=\"DejaVuSans-110\"/>\n      <path d=\"M 37.109375 75.984375 \nL 37.109375 68.5 \nL 28.515625 68.5 \nQ 23.6875 68.5 21.796875 66.546875 \nQ 19.921875 64.59375 19.921875 59.515625 \nL 19.921875 54.6875 \nL 34.71875 54.6875 \nL 34.71875 47.703125 \nL 19.921875 47.703125 \nL 19.921875 0 \nL 10.890625 0 \nL 10.890625 47.703125 \nL 2.296875 47.703125 \nL 2.296875 54.6875 \nL 10.890625 54.6875 \nL 10.890625 58.5 \nQ 10.890625 67.625 15.140625 71.796875 \nQ 19.390625 75.984375 28.609375 75.984375 \nz\n\" id=\"DejaVuSans-102\"/>\n      <path d=\"M 8.5 21.578125 \nL 8.5 54.6875 \nL 17.484375 54.6875 \nL 17.484375 21.921875 \nQ 17.484375 14.15625 20.5 10.265625 \nQ 23.53125 6.390625 29.59375 6.390625 \nQ 36.859375 6.390625 41.078125 11.03125 \nQ 45.3125 15.671875 45.3125 23.6875 \nL 45.3125 54.6875 \nL 54.296875 54.6875 \nL 54.296875 0 \nL 45.3125 0 \nL 45.3125 8.40625 \nQ 42.046875 3.421875 37.71875 1 \nQ 33.40625 -1.421875 27.6875 -1.421875 \nQ 18.265625 -1.421875 13.375 4.4375 \nQ 8.5 10.296875 8.5 21.578125 \nz\nM 31.109375 56 \nz\n\" id=\"DejaVuSans-117\"/>\n      <path d=\"M 44.28125 53.078125 \nL 44.28125 44.578125 \nQ 40.484375 46.53125 36.375 47.5 \nQ 32.28125 48.484375 27.875 48.484375 \nQ 21.1875 48.484375 17.84375 46.4375 \nQ 14.5 44.390625 14.5 40.28125 \nQ 14.5 37.15625 16.890625 35.375 \nQ 19.28125 33.59375 26.515625 31.984375 \nL 29.59375 31.296875 \nQ 39.15625 29.25 43.1875 25.515625 \nQ 47.21875 21.78125 47.21875 15.09375 \nQ 47.21875 7.46875 41.1875 3.015625 \nQ 35.15625 -1.421875 24.609375 -1.421875 \nQ 20.21875 -1.421875 15.453125 -0.5625 \nQ 10.6875 0.296875 5.421875 2 \nL 5.421875 11.28125 \nQ 10.40625 8.6875 15.234375 7.390625 \nQ 20.0625 6.109375 24.8125 6.109375 \nQ 31.15625 6.109375 34.5625 8.28125 \nQ 37.984375 10.453125 37.984375 14.40625 \nQ 37.984375 18.0625 35.515625 20.015625 \nQ 33.0625 21.96875 24.703125 23.78125 \nL 21.578125 24.515625 \nQ 13.234375 26.265625 9.515625 29.90625 \nQ 5.8125 33.546875 5.8125 39.890625 \nQ 5.8125 47.609375 11.28125 51.796875 \nQ 16.75 56 26.8125 56 \nQ 31.78125 56 36.171875 55.265625 \nQ 40.578125 54.546875 44.28125 53.078125 \nz\n\" id=\"DejaVuSans-115\"/>\n      <path d=\"M 9.421875 54.6875 \nL 18.40625 54.6875 \nL 18.40625 0 \nL 9.421875 0 \nz\nM 9.421875 75.984375 \nL 18.40625 75.984375 \nL 18.40625 64.59375 \nL 9.421875 64.59375 \nz\n\" id=\"DejaVuSans-105\"/>\n      <path id=\"DejaVuSans-32\"/>\n      <path d=\"M 9.8125 72.90625 \nL 24.515625 72.90625 \nL 43.109375 23.296875 \nL 61.8125 72.90625 \nL 76.515625 72.90625 \nL 76.515625 0 \nL 66.890625 0 \nL 66.890625 64.015625 \nL 48.09375 14.015625 \nL 38.1875 14.015625 \nL 19.390625 64.015625 \nL 19.390625 0 \nL 9.8125 0 \nz\n\" id=\"DejaVuSans-77\"/>\n      <path d=\"M 34.28125 27.484375 \nQ 23.390625 27.484375 19.1875 25 \nQ 14.984375 22.515625 14.984375 16.5 \nQ 14.984375 11.71875 18.140625 8.90625 \nQ 21.296875 6.109375 26.703125 6.109375 \nQ 34.1875 6.109375 38.703125 11.40625 \nQ 43.21875 16.703125 43.21875 25.484375 \nL 43.21875 27.484375 \nz\nM 52.203125 31.203125 \nL 52.203125 0 \nL 43.21875 0 \nL 43.21875 8.296875 \nQ 40.140625 3.328125 35.546875 0.953125 \nQ 30.953125 -1.421875 24.3125 -1.421875 \nQ 15.921875 -1.421875 10.953125 3.296875 \nQ 6 8.015625 6 15.921875 \nQ 6 25.140625 12.171875 29.828125 \nQ 18.359375 34.515625 30.609375 34.515625 \nL 43.21875 34.515625 \nL 43.21875 35.40625 \nQ 43.21875 41.609375 39.140625 45 \nQ 35.0625 48.390625 27.6875 48.390625 \nQ 23 48.390625 18.546875 47.265625 \nQ 14.109375 46.140625 10.015625 43.890625 \nL 10.015625 52.203125 \nQ 14.9375 54.109375 19.578125 55.046875 \nQ 24.21875 56 28.609375 56 \nQ 40.484375 56 46.34375 49.84375 \nQ 52.203125 43.703125 52.203125 31.203125 \nz\n\" id=\"DejaVuSans-97\"/>\n      <path d=\"M 18.3125 70.21875 \nL 18.3125 54.6875 \nL 36.8125 54.6875 \nL 36.8125 47.703125 \nL 18.3125 47.703125 \nL 18.3125 18.015625 \nQ 18.3125 11.328125 20.140625 9.421875 \nQ 21.96875 7.515625 27.59375 7.515625 \nL 36.8125 7.515625 \nL 36.8125 0 \nL 27.59375 0 \nQ 17.1875 0 13.234375 3.875 \nQ 9.28125 7.765625 9.28125 18.015625 \nL 9.28125 47.703125 \nL 2.6875 47.703125 \nL 2.6875 54.6875 \nL 9.28125 54.6875 \nL 9.28125 70.21875 \nz\n\" id=\"DejaVuSans-116\"/>\n      <path d=\"M 41.109375 46.296875 \nQ 39.59375 47.171875 37.8125 47.578125 \nQ 36.03125 48 33.890625 48 \nQ 26.265625 48 22.1875 43.046875 \nQ 18.109375 38.09375 18.109375 28.8125 \nL 18.109375 0 \nL 9.078125 0 \nL 9.078125 54.6875 \nL 18.109375 54.6875 \nL 18.109375 46.1875 \nQ 20.953125 51.171875 25.484375 53.578125 \nQ 30.03125 56 36.53125 56 \nQ 37.453125 56 38.578125 55.875 \nQ 39.703125 55.765625 41.0625 55.515625 \nz\n\" id=\"DejaVuSans-114\"/>\n      <path d=\"M 54.890625 54.6875 \nL 35.109375 28.078125 \nL 55.90625 0 \nL 45.3125 0 \nL 29.390625 21.484375 \nL 13.484375 0 \nL 2.875 0 \nL 24.125 28.609375 \nL 4.6875 54.6875 \nL 15.28125 54.6875 \nL 29.78125 35.203125 \nL 44.28125 54.6875 \nz\n\" id=\"DejaVuSans-120\"/>\n     </defs>\n     <use xlink:href=\"#DejaVuSans-67\"/>\n     <use x=\"69.824219\" xlink:href=\"#DejaVuSans-111\"/>\n     <use x=\"131.005859\" xlink:href=\"#DejaVuSans-110\"/>\n     <use x=\"194.384766\" xlink:href=\"#DejaVuSans-102\"/>\n     <use x=\"229.589844\" xlink:href=\"#DejaVuSans-117\"/>\n     <use x=\"292.96875\" xlink:href=\"#DejaVuSans-115\"/>\n     <use x=\"345.068359\" xlink:href=\"#DejaVuSans-105\"/>\n     <use x=\"372.851562\" xlink:href=\"#DejaVuSans-111\"/>\n     <use x=\"434.033203\" xlink:href=\"#DejaVuSans-110\"/>\n     <use x=\"497.412109\" xlink:href=\"#DejaVuSans-32\"/>\n     <use x=\"529.199219\" xlink:href=\"#DejaVuSans-77\"/>\n     <use x=\"615.478516\" xlink:href=\"#DejaVuSans-97\"/>\n     <use x=\"676.757812\" xlink:href=\"#DejaVuSans-116\"/>\n     <use x=\"715.966797\" xlink:href=\"#DejaVuSans-114\"/>\n     <use x=\"757.080078\" xlink:href=\"#DejaVuSans-105\"/>\n     <use x=\"784.863281\" xlink:href=\"#DejaVuSans-120\"/>\n    </g>\n   </g>\n  </g>\n  <g id=\"axes_2\">\n   <g id=\"patch_3\">\n    <path clip-path=\"url(#p31c655c60d)\" d=\"M 877.618125 626.356875 \nL 877.618125 624.021094 \nL 877.618125 30.732656 \nL 877.618125 28.396875 \nL 907.516125 28.396875 \nL 907.516125 30.732656 \nL 907.516125 624.021094 \nL 907.516125 626.356875 \nz\n\" style=\"fill:#ffffff;stroke:#ffffff;stroke-linejoin:miter;stroke-width:0.01;\"/>\n   </g>\n   <image height=\"598\" id=\"image63e06603c7\" transform=\"scale(1 -1)translate(0 -598)\" width=\"30\" x=\"878\" xlink:href=\"data:image/png;base64,\niVBORw0KGgoAAAANSUhEUgAAAB4AAAJWCAYAAABPpDeKAAAC1klEQVR4nO2cgW1sMQzDktf8Jf7+e7Zb0IBJLiA4lpTcXdH78+//7xngmxA955x3h4QHJ74zMzfxfuF3j+yofeZ6n23i4oThM5evQAbNpYuTzly+AslcGBUIhjFOOnPpuro4YdTVGO14v/C7d0a7+xjDdx9nLgyfuXw7zlwYPnP5dpy5MHyfJHyfFjMXhs9cvsosThjCOOl23FFjCP/ot89OFL6HgLFAihOE0Vy6iaeUhXHSNZevQGouDF9zFScMZVfPUGXuF/Y1V3HCKE4YfW2M0dfGGHU1RjveL5y5MHqB7Bc2Pn1s5vIVSLcThs9cvsqsqzGKE0ZxwihOGMUJwxinkX8iXYEYhH3N5TOXrzKLE4YxTrb7uDhhGOM0JCyMk665KhAMY5yGhAfjpCsQ3Y47aozuY4zihFGcMIoTxvvOjLuKE4avMmsujPf96gpkSLg4YXQfY/ju48k46cw1JNzE+4WLE0Y73i9sfPoMvW+L035hY1cP/Y47WSCyifsqAsNnLl+BZC6MN/RfsoqTQLg4YRSn/cLGOA39DFOB7BdWmss2sa4yJ+M0I1ycMHyV2UMAw2cu38TFCcNnLt8LpKcPhs9cvgLJXBjvVCAQxQmjiTHelHRxwshcGL4dZy6Md4f+pLwd7xfOXBiTE8t2XJwwihNGccLIXBi+iSd/d5Idtc9cvoknj3pGO3Nh+F4gmQvjnaHvjdvxfmHfUb/bfQxhjFNdDWE0V80FUYHsFxaaq6cPhTFOtubymcv3ApmMU+ZiaOL9wsauFt7Hson7wQujOGEI46Q76p63GMY41dUQTbxfuK7GaOL9wt1OGO14v3DmwmjH+4V9R12cMIxxylwQ7Xi/sNBc9/6MCLfj/cK+o/Z1tW/HmQvjnU93O9l2XHNh+Mzle94WJwxhnHQ7zlwYPfYwjHGyNde7NnP5dlxzYXQ7YRjjZGuubicMY5yE5pLdTmPCf2i5MGvOI+9/AAAAAElFTkSuQmCC\" y=\"-28\"/>\n   <g id=\"matplotlib.axis_3\"/>\n   <g id=\"matplotlib.axis_4\">\n    <g id=\"ytick_3\">\n     <g id=\"line2d_5\">\n      <defs>\n       <path d=\"M 0 0 \nL 3.5 0 \n\" id=\"md5c6b15ad0\" style=\"stroke:#000000;stroke-width:0.8;\"/>\n      </defs>\n      <g>\n       <use style=\"stroke:#000000;stroke-width:0.8;\" x=\"907.516125\" xlink:href=\"#md5c6b15ad0\" y=\"589.505342\"/>\n      </g>\n     </g>\n     <g id=\"text_10\">\n      <!-- 200 -->\n      <g transform=\"translate(914.516125 593.30456)scale(0.1 -0.1)\">\n       <use xlink:href=\"#DejaVuSans-50\"/>\n       <use x=\"63.623047\" xlink:href=\"#DejaVuSans-48\"/>\n       <use x=\"127.246094\" xlink:href=\"#DejaVuSans-48\"/>\n      </g>\n     </g>\n    </g>\n    <g id=\"ytick_4\">\n     <g id=\"line2d_6\">\n      <g>\n       <use style=\"stroke:#000000;stroke-width:0.8;\" x=\"907.516125\" xlink:href=\"#md5c6b15ad0\" y=\"501.763595\"/>\n      </g>\n     </g>\n     <g id=\"text_11\">\n      <!-- 400 -->\n      <g transform=\"translate(914.516125 505.562814)scale(0.1 -0.1)\">\n       <use xlink:href=\"#DejaVuSans-52\"/>\n       <use x=\"63.623047\" xlink:href=\"#DejaVuSans-48\"/>\n       <use x=\"127.246094\" xlink:href=\"#DejaVuSans-48\"/>\n      </g>\n     </g>\n    </g>\n    <g id=\"ytick_5\">\n     <g id=\"line2d_7\">\n      <g>\n       <use style=\"stroke:#000000;stroke-width:0.8;\" x=\"907.516125\" xlink:href=\"#md5c6b15ad0\" y=\"414.021849\"/>\n      </g>\n     </g>\n     <g id=\"text_12\">\n      <!-- 600 -->\n      <g transform=\"translate(914.516125 417.821068)scale(0.1 -0.1)\">\n       <use xlink:href=\"#DejaVuSans-54\"/>\n       <use x=\"63.623047\" xlink:href=\"#DejaVuSans-48\"/>\n       <use x=\"127.246094\" xlink:href=\"#DejaVuSans-48\"/>\n      </g>\n     </g>\n    </g>\n    <g id=\"ytick_6\">\n     <g id=\"line2d_8\">\n      <g>\n       <use style=\"stroke:#000000;stroke-width:0.8;\" x=\"907.516125\" xlink:href=\"#md5c6b15ad0\" y=\"326.280103\"/>\n      </g>\n     </g>\n     <g id=\"text_13\">\n      <!-- 800 -->\n      <g transform=\"translate(914.516125 330.079322)scale(0.1 -0.1)\">\n       <use xlink:href=\"#DejaVuSans-56\"/>\n       <use x=\"63.623047\" xlink:href=\"#DejaVuSans-48\"/>\n       <use x=\"127.246094\" xlink:href=\"#DejaVuSans-48\"/>\n      </g>\n     </g>\n    </g>\n    <g id=\"ytick_7\">\n     <g id=\"line2d_9\">\n      <g>\n       <use style=\"stroke:#000000;stroke-width:0.8;\" x=\"907.516125\" xlink:href=\"#md5c6b15ad0\" y=\"238.538357\"/>\n      </g>\n     </g>\n     <g id=\"text_14\">\n      <!-- 1000 -->\n      <g transform=\"translate(914.516125 242.337576)scale(0.1 -0.1)\">\n       <use xlink:href=\"#DejaVuSans-49\"/>\n       <use x=\"63.623047\" xlink:href=\"#DejaVuSans-48\"/>\n       <use x=\"127.246094\" xlink:href=\"#DejaVuSans-48\"/>\n       <use x=\"190.869141\" xlink:href=\"#DejaVuSans-48\"/>\n      </g>\n     </g>\n    </g>\n    <g id=\"ytick_8\">\n     <g id=\"line2d_10\">\n      <g>\n       <use style=\"stroke:#000000;stroke-width:0.8;\" x=\"907.516125\" xlink:href=\"#md5c6b15ad0\" y=\"150.796611\"/>\n      </g>\n     </g>\n     <g id=\"text_15\">\n      <!-- 1200 -->\n      <g transform=\"translate(914.516125 154.59583)scale(0.1 -0.1)\">\n       <use xlink:href=\"#DejaVuSans-49\"/>\n       <use x=\"63.623047\" xlink:href=\"#DejaVuSans-50\"/>\n       <use x=\"127.246094\" xlink:href=\"#DejaVuSans-48\"/>\n       <use x=\"190.869141\" xlink:href=\"#DejaVuSans-48\"/>\n      </g>\n     </g>\n    </g>\n    <g id=\"ytick_9\">\n     <g id=\"line2d_11\">\n      <g>\n       <use style=\"stroke:#000000;stroke-width:0.8;\" x=\"907.516125\" xlink:href=\"#md5c6b15ad0\" y=\"63.054865\"/>\n      </g>\n     </g>\n     <g id=\"text_16\">\n      <!-- 1400 -->\n      <g transform=\"translate(914.516125 66.854083)scale(0.1 -0.1)\">\n       <use xlink:href=\"#DejaVuSans-49\"/>\n       <use x=\"63.623047\" xlink:href=\"#DejaVuSans-52\"/>\n       <use x=\"127.246094\" xlink:href=\"#DejaVuSans-48\"/>\n       <use x=\"190.869141\" xlink:href=\"#DejaVuSans-48\"/>\n      </g>\n     </g>\n    </g>\n   </g>\n   <g id=\"patch_4\">\n    <path d=\"M 877.618125 626.356875 \nL 877.618125 624.021094 \nL 877.618125 30.732656 \nL 877.618125 28.396875 \nL 907.516125 28.396875 \nL 907.516125 30.732656 \nL 907.516125 624.021094 \nL 907.516125 626.356875 \nz\n\" style=\"fill:none;\"/>\n   </g>\n  </g>\n </g>\n <defs>\n  <clipPath id=\"p3deaee8770\">\n   <rect height=\"597.96\" width=\"803.52\" x=\"23.878125\" y=\"28.396875\"/>\n  </clipPath>\n  <clipPath id=\"p31c655c60d\">\n   <rect height=\"597.96\" width=\"29.898\" x=\"877.618125\" y=\"28.396875\"/>\n  </clipPath>\n </defs>\n</svg>\n",
      "image/png": "[encoded data removed]"
     },
     "metadata": {
      "needs_background": "light"
     }
    }
   ],
   "source": [
    "plt.figure(figsize=(18,11))\n",
    "plt.title(\"Confusion Matrix\", fontsize=20)\n",
    "ax = sns.heatmap(\n",
    "    cm,\n",
    "    annot=True,\n",
    "    linewidths=.01,\n",
    "    fmt='.0f'\n",
    ")"
   ]
  },
  {
   "cell_type": "markdown",
   "metadata": {},
   "source": [
    "# FIM"
   ]
  },
  {
   "cell_type": "markdown",
   "metadata": {},
   "source": [
    "> Professor Diego Dorgam  \n",
    "> [@diegodorgam](https://twitter.com/diegodorgam)"
   ]
  }
 ],
 "metadata": {
  "kernelspec": {
   "display_name": "Python 3.6.9 64-bit",
   "language": "python",
   "name": "python36964bit556bb4be796b4fcba20c43b32c260eaa"
  },
  "language_info": {
   "codemirror_mode": {
    "name": "ipython",
    "version": 3
   },
   "file_extension": ".py",
   "mimetype": "text/x-python",
   "name": "python",
   "nbconvert_exporter": "python",
   "pygments_lexer": "ipython3",
   "version": "3.6.9-final"
  }
 },
 "nbformat": 4,
 "nbformat_minor": 4
}