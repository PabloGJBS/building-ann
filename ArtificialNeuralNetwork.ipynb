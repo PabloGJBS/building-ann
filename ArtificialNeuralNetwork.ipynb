{
 "cells": [
  {
   "cell_type": "markdown",
   "metadata": {},
   "source": [
    "# REDES NEURAIS ARTIFICIAIS\n",
    "\n",
    "[Aula 3 de Deep Learning](http://bit.ly/dn-unb03) da Engenharia de Software da UnB"
   ]
  },
  {
   "cell_type": "markdown",
   "metadata": {},
   "source": [
    "# Parte 1 - Pré-processamento dos Dados"
   ]
  },
  {
   "cell_type": "markdown",
   "metadata": {},
   "source": [
    "### Importar as libs"
   ]
  },
  {
   "cell_type": "code",
   "execution_count": 1,
   "metadata": {
    "colab": {},
    "colab_type": "code",
    "id": "MxkJoQBkUIHC"
   },
   "outputs": [],
   "source": [
    "import numpy as np\n",
    "import pandas as pd\n",
    "import tensorflow as tf"
   ]
  },
  {
   "cell_type": "code",
   "execution_count": 2,
   "metadata": {
    "colab": {
     "base_uri": "https://localhost:8080/",
     "height": 34
    },
    "colab_type": "code",
    "id": "ZaTwK7ojXr2F",
    "outputId": "0b27a96d-d11a-43e8-ab4b-87c1f01896fe"
   },
   "outputs": [
    {
     "data": {
      "text/plain": [
       "'2.5.0'"
      ]
     },
     "execution_count": 2,
     "metadata": {},
     "output_type": "execute_result"
    }
   ],
   "source": [
    "tf.__version__"
   ]
  },
  {
   "cell_type": "markdown",
   "metadata": {},
   "source": [
    "### Importar o dataset"
   ]
  },
  {
   "cell_type": "code",
   "execution_count": 3,
   "metadata": {},
   "outputs": [
    {
     "data": {
      "text/html": [
       "<div>\n",
       "<style scoped>\n",
       "    .dataframe tbody tr th:only-of-type {\n",
       "        vertical-align: middle;\n",
       "    }\n",
       "\n",
       "    .dataframe tbody tr th {\n",
       "        vertical-align: top;\n",
       "    }\n",
       "\n",
       "    .dataframe thead th {\n",
       "        text-align: right;\n",
       "    }\n",
       "</style>\n",
       "<table border=\"1\" class=\"dataframe\">\n",
       "  <thead>\n",
       "    <tr style=\"text-align: right;\">\n",
       "      <th></th>\n",
       "      <th>RowNumber</th>\n",
       "      <th>CustomerId</th>\n",
       "      <th>Surname</th>\n",
       "      <th>CreditScore</th>\n",
       "      <th>Geography</th>\n",
       "      <th>Gender</th>\n",
       "      <th>Age</th>\n",
       "      <th>Tenure</th>\n",
       "      <th>Balance</th>\n",
       "      <th>NumOfProducts</th>\n",
       "      <th>HasCrCard</th>\n",
       "      <th>IsActiveMember</th>\n",
       "      <th>EstimatedSalary</th>\n",
       "      <th>Exited</th>\n",
       "    </tr>\n",
       "  </thead>\n",
       "  <tbody>\n",
       "    <tr>\n",
       "      <th>0</th>\n",
       "      <td>1</td>\n",
       "      <td>15634602</td>\n",
       "      <td>Hargrave</td>\n",
       "      <td>619</td>\n",
       "      <td>France</td>\n",
       "      <td>Female</td>\n",
       "      <td>42</td>\n",
       "      <td>2</td>\n",
       "      <td>0.00</td>\n",
       "      <td>1</td>\n",
       "      <td>1</td>\n",
       "      <td>1</td>\n",
       "      <td>101348.88</td>\n",
       "      <td>1</td>\n",
       "    </tr>\n",
       "    <tr>\n",
       "      <th>1</th>\n",
       "      <td>2</td>\n",
       "      <td>15647311</td>\n",
       "      <td>Hill</td>\n",
       "      <td>608</td>\n",
       "      <td>Spain</td>\n",
       "      <td>Female</td>\n",
       "      <td>41</td>\n",
       "      <td>1</td>\n",
       "      <td>83807.86</td>\n",
       "      <td>1</td>\n",
       "      <td>0</td>\n",
       "      <td>1</td>\n",
       "      <td>112542.58</td>\n",
       "      <td>0</td>\n",
       "    </tr>\n",
       "    <tr>\n",
       "      <th>2</th>\n",
       "      <td>3</td>\n",
       "      <td>15619304</td>\n",
       "      <td>Onio</td>\n",
       "      <td>502</td>\n",
       "      <td>France</td>\n",
       "      <td>Female</td>\n",
       "      <td>42</td>\n",
       "      <td>8</td>\n",
       "      <td>159660.80</td>\n",
       "      <td>3</td>\n",
       "      <td>1</td>\n",
       "      <td>0</td>\n",
       "      <td>113931.57</td>\n",
       "      <td>1</td>\n",
       "    </tr>\n",
       "    <tr>\n",
       "      <th>3</th>\n",
       "      <td>4</td>\n",
       "      <td>15701354</td>\n",
       "      <td>Boni</td>\n",
       "      <td>699</td>\n",
       "      <td>France</td>\n",
       "      <td>Female</td>\n",
       "      <td>39</td>\n",
       "      <td>1</td>\n",
       "      <td>0.00</td>\n",
       "      <td>2</td>\n",
       "      <td>0</td>\n",
       "      <td>0</td>\n",
       "      <td>93826.63</td>\n",
       "      <td>0</td>\n",
       "    </tr>\n",
       "    <tr>\n",
       "      <th>4</th>\n",
       "      <td>5</td>\n",
       "      <td>15737888</td>\n",
       "      <td>Mitchell</td>\n",
       "      <td>850</td>\n",
       "      <td>Spain</td>\n",
       "      <td>Female</td>\n",
       "      <td>43</td>\n",
       "      <td>2</td>\n",
       "      <td>125510.82</td>\n",
       "      <td>1</td>\n",
       "      <td>1</td>\n",
       "      <td>1</td>\n",
       "      <td>79084.10</td>\n",
       "      <td>0</td>\n",
       "    </tr>\n",
       "  </tbody>\n",
       "</table>\n",
       "</div>"
      ],
      "text/plain": [
       "   RowNumber  CustomerId   Surname  CreditScore Geography  Gender  Age  \\\n",
       "0          1    15634602  Hargrave          619    France  Female   42   \n",
       "1          2    15647311      Hill          608     Spain  Female   41   \n",
       "2          3    15619304      Onio          502    France  Female   42   \n",
       "3          4    15701354      Boni          699    France  Female   39   \n",
       "4          5    15737888  Mitchell          850     Spain  Female   43   \n",
       "\n",
       "   Tenure    Balance  NumOfProducts  HasCrCard  IsActiveMember  \\\n",
       "0       2       0.00              1          1               1   \n",
       "1       1   83807.86              1          0               1   \n",
       "2       8  159660.80              3          1               0   \n",
       "3       1       0.00              2          0               0   \n",
       "4       2  125510.82              1          1               1   \n",
       "\n",
       "   EstimatedSalary  Exited  \n",
       "0        101348.88       1  \n",
       "1        112542.58       0  \n",
       "2        113931.57       1  \n",
       "3         93826.63       0  \n",
       "4         79084.10       0  "
      ]
     },
     "execution_count": 3,
     "metadata": {},
     "output_type": "execute_result"
    }
   ],
   "source": [
    "dataset = pd.read_csv('Churn_Modelling.csv')\n",
    "dataset.head()"
   ]
  },
  {
   "cell_type": "code",
   "execution_count": 4,
   "metadata": {},
   "outputs": [
    {
     "name": "stdout",
     "output_type": "stream",
     "text": [
      "X >>\n",
      " [[619 'France' 'Female' ... 1 1 101348.88]\n",
      " [608 'Spain' 'Female' ... 0 1 112542.58]\n",
      " [502 'France' 'Female' ... 1 0 113931.57]\n",
      " ...\n",
      " [709 'France' 'Female' ... 0 1 42085.58]\n",
      " [772 'Germany' 'Male' ... 1 0 92888.52]\n",
      " [792 'France' 'Female' ... 1 0 38190.78]]\n",
      "y >>\n",
      " [1 0 1 ... 1 1 0]\n"
     ]
    }
   ],
   "source": [
    "X = dataset.iloc[:, 3:13].values\n",
    "y = dataset.iloc[:, 13].values\n",
    "print(\"X >>\\n\",X)\n",
    "print(\"y >>\\n\",y)"
   ]
  },
  {
   "cell_type": "markdown",
   "metadata": {},
   "source": [
    "### Transformando os dados categóricos\n"
   ]
  },
  {
   "cell_type": "code",
   "execution_count": 5,
   "metadata": {},
   "outputs": [
    {
     "name": "stdout",
     "output_type": "stream",
     "text": [
      "[[619 'France' 0 ... 1 1 101348.88]\n",
      " [608 'Spain' 0 ... 0 1 112542.58]\n",
      " [502 'France' 0 ... 1 0 113931.57]\n",
      " ...\n",
      " [709 'France' 0 ... 0 1 42085.58]\n",
      " [772 'Germany' 1 ... 1 0 92888.52]\n",
      " [792 'France' 0 ... 1 0 38190.78]]\n",
      "[[1.0 0.0 0.0 ... 1 1 101348.88]\n",
      " [0.0 0.0 1.0 ... 0 1 112542.58]\n",
      " [1.0 0.0 0.0 ... 1 0 113931.57]\n",
      " ...\n",
      " [1.0 0.0 0.0 ... 0 1 42085.58]\n",
      " [0.0 1.0 0.0 ... 1 0 92888.52]\n",
      " [1.0 0.0 0.0 ... 1 0 38190.78]]\n"
     ]
    }
   ],
   "source": [
    "# Label Encoding the \"Gender\" column\n",
    "from sklearn.preprocessing import LabelEncoder\n",
    "le = LabelEncoder()\n",
    "X[:, 2] = le.fit_transform(X[:, 2])\n",
    "print(X)\n",
    "# One Hot Encoding the \"Geography\" column\n",
    "from sklearn.compose import ColumnTransformer\n",
    "from sklearn.preprocessing import OneHotEncoder\n",
    "ct = ColumnTransformer(transformers=[('encoder', OneHotEncoder(), [1])], remainder='passthrough')\n",
    "X = np.array(ct.fit_transform(X))\n",
    "print(X)"
   ]
  },
  {
   "cell_type": "markdown",
   "metadata": {},
   "source": [
    "# Dividindo o dataset em conjunto de treinamento e conjunto de teste"
   ]
  },
  {
   "cell_type": "code",
   "execution_count": 6,
   "metadata": {},
   "outputs": [],
   "source": [
    "from sklearn.model_selection import train_test_split\n",
    "X_train, X_test, y_train, y_test = train_test_split(X, y, test_size = 0.2, random_state = 0)"
   ]
  },
  {
   "cell_type": "markdown",
   "metadata": {},
   "source": [
    "# Feature Scaling"
   ]
  },
  {
   "cell_type": "code",
   "execution_count": 7,
   "metadata": {},
   "outputs": [],
   "source": [
    "from sklearn.preprocessing import StandardScaler\n",
    "sc = StandardScaler()\n",
    "X_train = sc.fit_transform(X_train)\n",
    "X_test = sc.transform(X_test)"
   ]
  },
  {
   "cell_type": "code",
   "execution_count": 8,
   "metadata": {},
   "outputs": [
    {
     "data": {
      "text/plain": [
       "(8000, 12)"
      ]
     },
     "execution_count": 8,
     "metadata": {},
     "output_type": "execute_result"
    }
   ],
   "source": [
    "np.shape(X_train)"
   ]
  },
  {
   "cell_type": "markdown",
   "metadata": {},
   "source": [
    "---\n",
    "# Parte 2 -Vamos construir uma ANN!\n"
   ]
  },
  {
   "cell_type": "markdown",
   "metadata": {
    "colab_type": "text",
    "id": "KvdeScabXtlB"
   },
   "source": [
    "### Initializing the ANN"
   ]
  },
  {
   "cell_type": "code",
   "execution_count": 9,
   "metadata": {
    "colab": {},
    "colab_type": "code",
    "id": "3dtrScHxXQox"
   },
   "outputs": [],
   "source": [
    "ann = tf.keras.models.Sequential()"
   ]
  },
  {
   "cell_type": "markdown",
   "metadata": {
    "colab_type": "text",
    "id": "rP6urV6SX7kS"
   },
   "source": [
    "### Adding the input layer and the first hidden layer"
   ]
  },
  {
   "cell_type": "code",
   "execution_count": 10,
   "metadata": {
    "colab": {},
    "colab_type": "code",
    "id": "bppGycBXYCQr"
   },
   "outputs": [],
   "source": [
    "ann.add(tf.keras.layers.Dense(units=5, activation='tanh'))"
   ]
  },
  {
   "cell_type": "markdown",
   "metadata": {
    "colab_type": "text",
    "id": "BELWAc_8YJze"
   },
   "source": [
    "### Adding the second hidden layer"
   ]
  },
  {
   "cell_type": "code",
   "execution_count": 11,
   "metadata": {
    "colab": {},
    "colab_type": "code",
    "id": "JneR0u0sYRTd"
   },
   "outputs": [],
   "source": [
    "ann.add(tf.keras.layers.Dense(units=5, activation='tanh'))"
   ]
  },
  {
   "cell_type": "markdown",
   "metadata": {
    "colab_type": "text",
    "id": "OyNEe6RXYcU4"
   },
   "source": [
    "### Adding the output layer"
   ]
  },
  {
   "cell_type": "code",
   "execution_count": 12,
   "metadata": {
    "colab": {},
    "colab_type": "code",
    "id": "Cn3x41RBYfvY"
   },
   "outputs": [],
   "source": [
    "ann.add(tf.keras.layers.Dense(units=1, activation='sigmoid'))"
   ]
  },
  {
   "cell_type": "markdown",
   "metadata": {
    "colab_type": "text",
    "id": "JT4u2S1_Y4WG"
   },
   "source": [
    "## Part 3 - Training the ANN"
   ]
  },
  {
   "cell_type": "markdown",
   "metadata": {
    "colab_type": "text",
    "id": "8GWlJChhY_ZI"
   },
   "source": [
    "### Compiling the ANN"
   ]
  },
  {
   "cell_type": "code",
   "execution_count": 13,
   "metadata": {
    "colab": {},
    "colab_type": "code",
    "id": "fG3RrwDXZEaS"
   },
   "outputs": [],
   "source": [
    "ann.compile(optimizer = 'adam', loss = 'binary_crossentropy', metrics = ['accuracy'])"
   ]
  },
  {
   "cell_type": "markdown",
   "metadata": {
    "colab_type": "text",
    "id": "0QR_G5u7ZLSM"
   },
   "source": [
    "### Training the ANN on the Training set"
   ]
  },
  {
   "cell_type": "code",
   "execution_count": 14,
   "metadata": {
    "colab": {
     "base_uri": "https://localhost:8080/",
     "height": 1000
    },
    "colab_type": "code",
    "id": "nHZ-LKv_ZRb3",
    "outputId": "718cc4b0-b5aa-40f0-9b20-d3d31730a531"
   },
   "outputs": [
    {
     "name": "stdout",
     "output_type": "stream",
     "text": [
      "Epoch 1/200\n",
      "250/250 [==============================] - 0s 682us/step - loss: 0.6005 - accuracy: 0.6964\n",
      "Epoch 2/200\n",
      "250/250 [==============================] - 0s 655us/step - loss: 0.4570 - accuracy: 0.8026\n",
      "Epoch 3/200\n",
      "250/250 [==============================] - 0s 636us/step - loss: 0.4293 - accuracy: 0.8096\n",
      "Epoch 4/200\n",
      "250/250 [==============================] - 0s 650us/step - loss: 0.4195 - accuracy: 0.8160\n",
      "Epoch 5/200\n",
      "250/250 [==============================] - 0s 788us/step - loss: 0.4113 - accuracy: 0.8188\n",
      "Epoch 6/200\n",
      "250/250 [==============================] - 0s 718us/step - loss: 0.4036 - accuracy: 0.8240\n",
      "Epoch 7/200\n",
      "250/250 [==============================] - 0s 772us/step - loss: 0.3968 - accuracy: 0.8265\n",
      "Epoch 8/200\n",
      "250/250 [==============================] - 0s 860us/step - loss: 0.3905 - accuracy: 0.8298\n",
      "Epoch 9/200\n",
      "250/250 [==============================] - 0s 1ms/step - loss: 0.3854 - accuracy: 0.8303\n",
      "Epoch 10/200\n",
      "250/250 [==============================] - 0s 1ms/step - loss: 0.3813 - accuracy: 0.8311\n",
      "Epoch 11/200\n",
      "250/250 [==============================] - 0s 874us/step - loss: 0.3774 - accuracy: 0.8309\n",
      "Epoch 12/200\n",
      "250/250 [==============================] - 0s 860us/step - loss: 0.3741 - accuracy: 0.8320\n",
      "Epoch 13/200\n",
      "250/250 [==============================] - 0s 867us/step - loss: 0.3715 - accuracy: 0.8346\n",
      "Epoch 14/200\n",
      "250/250 [==============================] - 0s 845us/step - loss: 0.3691 - accuracy: 0.8393\n",
      "Epoch 15/200\n",
      "250/250 [==============================] - 0s 890us/step - loss: 0.3668 - accuracy: 0.8422\n",
      "Epoch 16/200\n",
      "250/250 [==============================] - 0s 793us/step - loss: 0.3650 - accuracy: 0.8449\n",
      "Epoch 17/200\n",
      "250/250 [==============================] - 0s 800us/step - loss: 0.3634 - accuracy: 0.8461\n",
      "Epoch 18/200\n",
      "250/250 [==============================] - 0s 802us/step - loss: 0.3615 - accuracy: 0.8480\n",
      "Epoch 19/200\n",
      "250/250 [==============================] - 0s 781us/step - loss: 0.3601 - accuracy: 0.8474\n",
      "Epoch 20/200\n",
      "250/250 [==============================] - 0s 755us/step - loss: 0.3588 - accuracy: 0.8475\n",
      "Epoch 21/200\n",
      "250/250 [==============================] - 0s 849us/step - loss: 0.3575 - accuracy: 0.8496\n",
      "Epoch 22/200\n",
      "250/250 [==============================] - 0s 897us/step - loss: 0.3565 - accuracy: 0.8500\n",
      "Epoch 23/200\n",
      "250/250 [==============================] - 0s 922us/step - loss: 0.3552 - accuracy: 0.8512\n",
      "Epoch 24/200\n",
      "250/250 [==============================] - 0s 886us/step - loss: 0.3542 - accuracy: 0.8516\n",
      "Epoch 25/200\n",
      "250/250 [==============================] - 0s 815us/step - loss: 0.3531 - accuracy: 0.8534\n",
      "Epoch 26/200\n",
      "250/250 [==============================] - 0s 807us/step - loss: 0.3521 - accuracy: 0.8534\n",
      "Epoch 27/200\n",
      "250/250 [==============================] - 0s 752us/step - loss: 0.3511 - accuracy: 0.8564\n",
      "Epoch 28/200\n",
      "250/250 [==============================] - 0s 729us/step - loss: 0.3505 - accuracy: 0.8530\n",
      "Epoch 29/200\n",
      "250/250 [==============================] - 0s 667us/step - loss: 0.3495 - accuracy: 0.8575\n",
      "Epoch 30/200\n",
      "250/250 [==============================] - 0s 678us/step - loss: 0.3487 - accuracy: 0.8564\n",
      "Epoch 31/200\n",
      "250/250 [==============================] - 0s 712us/step - loss: 0.3481 - accuracy: 0.8558\n",
      "Epoch 32/200\n",
      "250/250 [==============================] - 0s 718us/step - loss: 0.3474 - accuracy: 0.8568\n",
      "Epoch 33/200\n",
      "250/250 [==============================] - 0s 787us/step - loss: 0.3466 - accuracy: 0.8577\n",
      "Epoch 34/200\n",
      "250/250 [==============================] - 0s 822us/step - loss: 0.3462 - accuracy: 0.8591\n",
      "Epoch 35/200\n",
      "250/250 [==============================] - 0s 851us/step - loss: 0.3455 - accuracy: 0.8572\n",
      "Epoch 36/200\n",
      "250/250 [==============================] - 0s 836us/step - loss: 0.3454 - accuracy: 0.8577\n",
      "Epoch 37/200\n",
      "250/250 [==============================] - 0s 789us/step - loss: 0.3448 - accuracy: 0.8575\n",
      "Epoch 38/200\n",
      "250/250 [==============================] - 0s 804us/step - loss: 0.3444 - accuracy: 0.8577\n",
      "Epoch 39/200\n",
      "250/250 [==============================] - 0s 794us/step - loss: 0.3442 - accuracy: 0.8589\n",
      "Epoch 40/200\n",
      "250/250 [==============================] - 0s 772us/step - loss: 0.3436 - accuracy: 0.8602\n",
      "Epoch 41/200\n",
      "250/250 [==============================] - 0s 752us/step - loss: 0.3430 - accuracy: 0.8604\n",
      "Epoch 42/200\n",
      "250/250 [==============================] - 0s 756us/step - loss: 0.3429 - accuracy: 0.8594\n",
      "Epoch 43/200\n",
      "250/250 [==============================] - 0s 718us/step - loss: 0.3430 - accuracy: 0.8583\n",
      "Epoch 44/200\n",
      "250/250 [==============================] - 0s 696us/step - loss: 0.3424 - accuracy: 0.8586\n",
      "Epoch 45/200\n",
      "250/250 [==============================] - 0s 633us/step - loss: 0.3427 - accuracy: 0.8597\n",
      "Epoch 46/200\n",
      "250/250 [==============================] - 0s 683us/step - loss: 0.3424 - accuracy: 0.8596\n",
      "Epoch 47/200\n",
      "250/250 [==============================] - 0s 660us/step - loss: 0.3421 - accuracy: 0.8590\n",
      "Epoch 48/200\n",
      "250/250 [==============================] - 0s 698us/step - loss: 0.3419 - accuracy: 0.8583\n",
      "Epoch 49/200\n",
      "250/250 [==============================] - 0s 768us/step - loss: 0.3419 - accuracy: 0.8600\n",
      "Epoch 50/200\n",
      "250/250 [==============================] - 0s 780us/step - loss: 0.3414 - accuracy: 0.8599\n",
      "Epoch 51/200\n",
      "250/250 [==============================] - 0s 755us/step - loss: 0.3417 - accuracy: 0.8612\n",
      "Epoch 52/200\n",
      "250/250 [==============================] - 0s 677us/step - loss: 0.3414 - accuracy: 0.8596\n",
      "Epoch 53/200\n",
      "250/250 [==============================] - 0s 636us/step - loss: 0.3413 - accuracy: 0.8593\n",
      "Epoch 54/200\n",
      "250/250 [==============================] - 0s 744us/step - loss: 0.3414 - accuracy: 0.8589\n",
      "Epoch 55/200\n",
      "250/250 [==============================] - 0s 667us/step - loss: 0.3412 - accuracy: 0.8602\n",
      "Epoch 56/200\n",
      "250/250 [==============================] - 0s 713us/step - loss: 0.3411 - accuracy: 0.8599\n",
      "Epoch 57/200\n",
      "250/250 [==============================] - 0s 704us/step - loss: 0.3408 - accuracy: 0.8608\n",
      "Epoch 58/200\n",
      "250/250 [==============================] - 0s 683us/step - loss: 0.3410 - accuracy: 0.8601\n",
      "Epoch 59/200\n",
      "250/250 [==============================] - 0s 668us/step - loss: 0.3408 - accuracy: 0.8586\n",
      "Epoch 60/200\n",
      "250/250 [==============================] - 0s 770us/step - loss: 0.3407 - accuracy: 0.8605\n",
      "Epoch 61/200\n",
      "250/250 [==============================] - 0s 747us/step - loss: 0.3403 - accuracy: 0.8586\n",
      "Epoch 62/200\n",
      "250/250 [==============================] - 0s 705us/step - loss: 0.3407 - accuracy: 0.8593\n",
      "Epoch 63/200\n",
      "250/250 [==============================] - 0s 701us/step - loss: 0.3408 - accuracy: 0.8584\n",
      "Epoch 64/200\n",
      "250/250 [==============================] - 0s 663us/step - loss: 0.3401 - accuracy: 0.8596\n",
      "Epoch 65/200\n",
      "250/250 [==============================] - 0s 731us/step - loss: 0.3406 - accuracy: 0.8606\n",
      "Epoch 66/200\n",
      "250/250 [==============================] - 0s 748us/step - loss: 0.3401 - accuracy: 0.8597\n",
      "Epoch 67/200\n",
      "250/250 [==============================] - 0s 732us/step - loss: 0.3403 - accuracy: 0.8583\n",
      "Epoch 68/200\n",
      "250/250 [==============================] - 0s 771us/step - loss: 0.3404 - accuracy: 0.8601\n",
      "Epoch 69/200\n",
      "250/250 [==============================] - 0s 725us/step - loss: 0.3402 - accuracy: 0.8595\n",
      "Epoch 70/200\n",
      "250/250 [==============================] - 0s 664us/step - loss: 0.3396 - accuracy: 0.8608\n",
      "Epoch 71/200\n",
      "250/250 [==============================] - 0s 758us/step - loss: 0.3399 - accuracy: 0.8595\n",
      "Epoch 72/200\n",
      "250/250 [==============================] - 0s 672us/step - loss: 0.3399 - accuracy: 0.8591\n",
      "Epoch 73/200\n",
      "250/250 [==============================] - 0s 697us/step - loss: 0.3398 - accuracy: 0.8605\n",
      "Epoch 74/200\n",
      "250/250 [==============================] - 0s 640us/step - loss: 0.3397 - accuracy: 0.8594\n",
      "Epoch 75/200\n",
      "250/250 [==============================] - 0s 694us/step - loss: 0.3398 - accuracy: 0.8595\n",
      "Epoch 76/200\n",
      "250/250 [==============================] - 0s 633us/step - loss: 0.3399 - accuracy: 0.8595\n",
      "Epoch 77/200\n",
      "250/250 [==============================] - 0s 1ms/step - loss: 0.3392 - accuracy: 0.8606\n",
      "Epoch 78/200\n",
      "250/250 [==============================] - 0s 769us/step - loss: 0.3395 - accuracy: 0.8606\n",
      "Epoch 79/200\n",
      "250/250 [==============================] - 0s 747us/step - loss: 0.3395 - accuracy: 0.8606\n",
      "Epoch 80/200\n",
      "250/250 [==============================] - 0s 762us/step - loss: 0.3392 - accuracy: 0.8605\n",
      "Epoch 81/200\n",
      "250/250 [==============================] - 0s 767us/step - loss: 0.3393 - accuracy: 0.8601\n",
      "Epoch 82/200\n",
      "250/250 [==============================] - 0s 784us/step - loss: 0.3390 - accuracy: 0.8594\n",
      "Epoch 83/200\n",
      "250/250 [==============================] - 0s 731us/step - loss: 0.3393 - accuracy: 0.8590\n",
      "Epoch 84/200\n",
      "250/250 [==============================] - 0s 718us/step - loss: 0.3390 - accuracy: 0.8594\n",
      "Epoch 85/200\n",
      "250/250 [==============================] - 0s 715us/step - loss: 0.3392 - accuracy: 0.8608\n",
      "Epoch 86/200\n",
      "250/250 [==============================] - 0s 627us/step - loss: 0.3390 - accuracy: 0.8593\n",
      "Epoch 87/200\n",
      "250/250 [==============================] - 0s 701us/step - loss: 0.3389 - accuracy: 0.8610\n",
      "Epoch 88/200\n",
      "250/250 [==============================] - 0s 737us/step - loss: 0.3386 - accuracy: 0.8604\n",
      "Epoch 89/200\n",
      "250/250 [==============================] - 0s 674us/step - loss: 0.3390 - accuracy: 0.8587\n",
      "Epoch 90/200\n",
      "250/250 [==============================] - 0s 701us/step - loss: 0.3385 - accuracy: 0.8605\n",
      "Epoch 91/200\n",
      "250/250 [==============================] - 0s 690us/step - loss: 0.3388 - accuracy: 0.8604\n",
      "Epoch 92/200\n",
      "250/250 [==============================] - 0s 684us/step - loss: 0.3386 - accuracy: 0.8612\n",
      "Epoch 93/200\n",
      "250/250 [==============================] - 0s 685us/step - loss: 0.3385 - accuracy: 0.8605\n",
      "Epoch 94/200\n",
      "250/250 [==============================] - 0s 675us/step - loss: 0.3386 - accuracy: 0.8604\n",
      "Epoch 95/200\n",
      "250/250 [==============================] - 0s 715us/step - loss: 0.3382 - accuracy: 0.8626\n",
      "Epoch 96/200\n",
      "250/250 [==============================] - 0s 632us/step - loss: 0.3381 - accuracy: 0.8608\n",
      "Epoch 97/200\n",
      "250/250 [==============================] - 0s 636us/step - loss: 0.3383 - accuracy: 0.8608\n",
      "Epoch 98/200\n",
      "250/250 [==============================] - 0s 664us/step - loss: 0.3384 - accuracy: 0.8605\n",
      "Epoch 99/200\n",
      "250/250 [==============================] - 0s 672us/step - loss: 0.3377 - accuracy: 0.8602\n",
      "Epoch 100/200\n",
      "250/250 [==============================] - 0s 612us/step - loss: 0.3381 - accuracy: 0.8619\n",
      "Epoch 101/200\n",
      "250/250 [==============================] - 0s 697us/step - loss: 0.3380 - accuracy: 0.8608\n",
      "Epoch 102/200\n",
      "250/250 [==============================] - 0s 683us/step - loss: 0.3378 - accuracy: 0.8618\n",
      "Epoch 103/200\n",
      "250/250 [==============================] - 0s 632us/step - loss: 0.3381 - accuracy: 0.8593\n",
      "Epoch 104/200\n",
      "250/250 [==============================] - 0s 651us/step - loss: 0.3377 - accuracy: 0.8591\n",
      "Epoch 105/200\n",
      "250/250 [==============================] - 0s 707us/step - loss: 0.3376 - accuracy: 0.8590\n",
      "Epoch 106/200\n",
      "250/250 [==============================] - 0s 617us/step - loss: 0.3379 - accuracy: 0.8589\n",
      "Epoch 107/200\n",
      "250/250 [==============================] - 0s 749us/step - loss: 0.3372 - accuracy: 0.8602\n",
      "Epoch 108/200\n",
      "250/250 [==============================] - 0s 724us/step - loss: 0.3374 - accuracy: 0.8595\n",
      "Epoch 109/200\n",
      "250/250 [==============================] - 0s 597us/step - loss: 0.3374 - accuracy: 0.8606\n",
      "Epoch 110/200\n",
      "250/250 [==============================] - 0s 638us/step - loss: 0.3374 - accuracy: 0.8614\n",
      "Epoch 111/200\n",
      "250/250 [==============================] - 0s 749us/step - loss: 0.3369 - accuracy: 0.8605\n",
      "Epoch 112/200\n",
      "250/250 [==============================] - 0s 638us/step - loss: 0.3371 - accuracy: 0.8619\n",
      "Epoch 113/200\n",
      "250/250 [==============================] - 0s 735us/step - loss: 0.3371 - accuracy: 0.8616\n",
      "Epoch 114/200\n",
      "250/250 [==============================] - 0s 650us/step - loss: 0.3371 - accuracy: 0.8594\n",
      "Epoch 115/200\n",
      "250/250 [==============================] - 0s 702us/step - loss: 0.3370 - accuracy: 0.8610\n",
      "Epoch 116/200\n",
      "250/250 [==============================] - 0s 704us/step - loss: 0.3371 - accuracy: 0.8597\n",
      "Epoch 117/200\n",
      "250/250 [==============================] - 0s 746us/step - loss: 0.3366 - accuracy: 0.8609\n",
      "Epoch 118/200\n",
      "250/250 [==============================] - 0s 690us/step - loss: 0.3367 - accuracy: 0.8596\n",
      "Epoch 119/200\n",
      "250/250 [==============================] - 0s 710us/step - loss: 0.3366 - accuracy: 0.8593\n",
      "Epoch 120/200\n",
      "250/250 [==============================] - 0s 806us/step - loss: 0.3367 - accuracy: 0.8618\n",
      "Epoch 121/200\n",
      "250/250 [==============================] - 0s 825us/step - loss: 0.3364 - accuracy: 0.8619\n",
      "Epoch 122/200\n",
      "250/250 [==============================] - 0s 828us/step - loss: 0.3365 - accuracy: 0.8619\n",
      "Epoch 123/200\n",
      "250/250 [==============================] - 0s 765us/step - loss: 0.3362 - accuracy: 0.8618\n",
      "Epoch 124/200\n",
      "250/250 [==============================] - 0s 824us/step - loss: 0.3366 - accuracy: 0.8609\n",
      "Epoch 125/200\n",
      "250/250 [==============================] - 0s 760us/step - loss: 0.3361 - accuracy: 0.8615\n",
      "Epoch 126/200\n",
      "250/250 [==============================] - 0s 766us/step - loss: 0.3362 - accuracy: 0.8609\n",
      "Epoch 127/200\n",
      "250/250 [==============================] - 0s 736us/step - loss: 0.3362 - accuracy: 0.8625\n",
      "Epoch 128/200\n",
      "250/250 [==============================] - 0s 768us/step - loss: 0.3362 - accuracy: 0.8618\n",
      "Epoch 129/200\n",
      "250/250 [==============================] - 0s 694us/step - loss: 0.3360 - accuracy: 0.8595\n",
      "Epoch 130/200\n",
      "250/250 [==============================] - 0s 737us/step - loss: 0.3359 - accuracy: 0.8602\n",
      "Epoch 131/200\n",
      "250/250 [==============================] - 0s 680us/step - loss: 0.3360 - accuracy: 0.8611\n",
      "Epoch 132/200\n",
      "250/250 [==============================] - 0s 837us/step - loss: 0.3359 - accuracy: 0.8610\n",
      "Epoch 133/200\n",
      "250/250 [==============================] - 0s 762us/step - loss: 0.3358 - accuracy: 0.8605\n",
      "Epoch 134/200\n",
      "250/250 [==============================] - 0s 750us/step - loss: 0.3356 - accuracy: 0.8610\n",
      "Epoch 135/200\n",
      "250/250 [==============================] - 0s 757us/step - loss: 0.3355 - accuracy: 0.8621\n",
      "Epoch 136/200\n",
      "250/250 [==============================] - 0s 735us/step - loss: 0.3359 - accuracy: 0.8595\n",
      "Epoch 137/200\n",
      "250/250 [==============================] - 0s 653us/step - loss: 0.3355 - accuracy: 0.8608\n",
      "Epoch 138/200\n",
      "250/250 [==============================] - 0s 674us/step - loss: 0.3360 - accuracy: 0.8610\n",
      "Epoch 139/200\n",
      "250/250 [==============================] - 0s 683us/step - loss: 0.3355 - accuracy: 0.8612\n",
      "Epoch 140/200\n",
      "250/250 [==============================] - 0s 614us/step - loss: 0.3358 - accuracy: 0.8610\n",
      "Epoch 141/200\n",
      "250/250 [==============================] - 0s 624us/step - loss: 0.3352 - accuracy: 0.8615\n",
      "Epoch 142/200\n",
      "250/250 [==============================] - 0s 736us/step - loss: 0.3353 - accuracy: 0.8612\n",
      "Epoch 143/200\n",
      "250/250 [==============================] - 0s 715us/step - loss: 0.3349 - accuracy: 0.8605\n",
      "Epoch 144/200\n",
      "250/250 [==============================] - 0s 722us/step - loss: 0.3355 - accuracy: 0.8605\n",
      "Epoch 145/200\n",
      "250/250 [==============================] - 0s 652us/step - loss: 0.3353 - accuracy: 0.8610\n",
      "Epoch 146/200\n",
      "250/250 [==============================] - 0s 605us/step - loss: 0.3351 - accuracy: 0.8612\n",
      "Epoch 147/200\n",
      "250/250 [==============================] - 0s 609us/step - loss: 0.3350 - accuracy: 0.8621\n",
      "Epoch 148/200\n",
      "250/250 [==============================] - 0s 685us/step - loss: 0.3351 - accuracy: 0.8609\n",
      "Epoch 149/200\n",
      "250/250 [==============================] - 0s 668us/step - loss: 0.3351 - accuracy: 0.8601\n",
      "Epoch 150/200\n",
      "250/250 [==============================] - 0s 672us/step - loss: 0.3349 - accuracy: 0.8609\n",
      "Epoch 151/200\n",
      "250/250 [==============================] - 0s 655us/step - loss: 0.3350 - accuracy: 0.8618\n",
      "Epoch 152/200\n",
      "250/250 [==============================] - 0s 639us/step - loss: 0.3349 - accuracy: 0.8616\n",
      "Epoch 153/200\n",
      "250/250 [==============================] - 0s 640us/step - loss: 0.3351 - accuracy: 0.8605\n",
      "Epoch 154/200\n",
      "250/250 [==============================] - 0s 696us/step - loss: 0.3348 - accuracy: 0.8608\n",
      "Epoch 155/200\n",
      "250/250 [==============================] - 0s 734us/step - loss: 0.3348 - accuracy: 0.8618\n",
      "Epoch 156/200\n",
      "250/250 [==============================] - 0s 692us/step - loss: 0.3349 - accuracy: 0.8606\n",
      "Epoch 157/200\n",
      "250/250 [==============================] - 0s 652us/step - loss: 0.3347 - accuracy: 0.8611\n",
      "Epoch 158/200\n",
      "250/250 [==============================] - 0s 646us/step - loss: 0.3345 - accuracy: 0.8616\n",
      "Epoch 159/200\n",
      "250/250 [==============================] - 0s 615us/step - loss: 0.3348 - accuracy: 0.8624\n",
      "Epoch 160/200\n",
      "250/250 [==============================] - 0s 617us/step - loss: 0.3346 - accuracy: 0.8612\n",
      "Epoch 161/200\n",
      "250/250 [==============================] - 0s 733us/step - loss: 0.3344 - accuracy: 0.8616\n",
      "Epoch 162/200\n",
      "250/250 [==============================] - 0s 664us/step - loss: 0.3351 - accuracy: 0.8611\n",
      "Epoch 163/200\n",
      "250/250 [==============================] - 0s 703us/step - loss: 0.3347 - accuracy: 0.8631\n",
      "Epoch 164/200\n",
      "250/250 [==============================] - 0s 663us/step - loss: 0.3346 - accuracy: 0.8611\n",
      "Epoch 165/200\n",
      "250/250 [==============================] - 0s 611us/step - loss: 0.3345 - accuracy: 0.8627\n",
      "Epoch 166/200\n",
      "250/250 [==============================] - 0s 610us/step - loss: 0.3346 - accuracy: 0.8626\n",
      "Epoch 167/200\n",
      "250/250 [==============================] - 0s 759us/step - loss: 0.3344 - accuracy: 0.8611\n",
      "Epoch 168/200\n",
      "250/250 [==============================] - 0s 705us/step - loss: 0.3346 - accuracy: 0.8599\n",
      "Epoch 169/200\n",
      "250/250 [==============================] - 0s 712us/step - loss: 0.3343 - accuracy: 0.8606\n",
      "Epoch 170/200\n",
      "250/250 [==============================] - 0s 667us/step - loss: 0.3346 - accuracy: 0.8602\n",
      "Epoch 171/200\n",
      "250/250 [==============================] - 0s 642us/step - loss: 0.3345 - accuracy: 0.8620\n",
      "Epoch 172/200\n",
      "250/250 [==============================] - 0s 638us/step - loss: 0.3345 - accuracy: 0.8624\n",
      "Epoch 173/200\n",
      "250/250 [==============================] - 0s 734us/step - loss: 0.3345 - accuracy: 0.8599\n",
      "Epoch 174/200\n",
      "250/250 [==============================] - 0s 666us/step - loss: 0.3343 - accuracy: 0.8618\n",
      "Epoch 175/200\n",
      "250/250 [==============================] - 0s 705us/step - loss: 0.3343 - accuracy: 0.8614\n",
      "Epoch 176/200\n",
      "250/250 [==============================] - 0s 707us/step - loss: 0.3343 - accuracy: 0.8605\n",
      "Epoch 177/200\n",
      "250/250 [==============================] - 0s 743us/step - loss: 0.3344 - accuracy: 0.8624\n",
      "Epoch 178/200\n",
      "250/250 [==============================] - 0s 656us/step - loss: 0.3343 - accuracy: 0.8601\n",
      "Epoch 179/200\n",
      "250/250 [==============================] - 0s 692us/step - loss: 0.3340 - accuracy: 0.8614\n",
      "Epoch 180/200\n",
      "250/250 [==============================] - 0s 735us/step - loss: 0.3339 - accuracy: 0.8629\n",
      "Epoch 181/200\n",
      "250/250 [==============================] - 0s 806us/step - loss: 0.3338 - accuracy: 0.8621\n",
      "Epoch 182/200\n",
      "250/250 [==============================] - 0s 759us/step - loss: 0.3340 - accuracy: 0.8618\n",
      "Epoch 183/200\n",
      "250/250 [==============================] - 0s 776us/step - loss: 0.3340 - accuracy: 0.8615\n",
      "Epoch 184/200\n",
      "250/250 [==============================] - 0s 772us/step - loss: 0.3340 - accuracy: 0.8627\n",
      "Epoch 185/200\n",
      "250/250 [==============================] - 0s 805us/step - loss: 0.3341 - accuracy: 0.8630\n",
      "Epoch 186/200\n",
      "250/250 [==============================] - 0s 768us/step - loss: 0.3337 - accuracy: 0.8606\n",
      "Epoch 187/200\n",
      "250/250 [==============================] - 0s 783us/step - loss: 0.3338 - accuracy: 0.8631\n",
      "Epoch 188/200\n",
      "250/250 [==============================] - 0s 731us/step - loss: 0.3337 - accuracy: 0.8622\n",
      "Epoch 189/200\n",
      "250/250 [==============================] - 0s 769us/step - loss: 0.3338 - accuracy: 0.8624\n",
      "Epoch 190/200\n",
      "250/250 [==============================] - 0s 776us/step - loss: 0.3340 - accuracy: 0.8608\n",
      "Epoch 191/200\n",
      "250/250 [==============================] - 0s 711us/step - loss: 0.3336 - accuracy: 0.8620\n",
      "Epoch 192/200\n",
      "250/250 [==============================] - 0s 686us/step - loss: 0.3335 - accuracy: 0.8621\n",
      "Epoch 193/200\n",
      "250/250 [==============================] - 0s 656us/step - loss: 0.3337 - accuracy: 0.8618\n",
      "Epoch 194/200\n",
      "250/250 [==============================] - 0s 732us/step - loss: 0.3337 - accuracy: 0.8624\n",
      "Epoch 195/200\n",
      "250/250 [==============================] - 0s 737us/step - loss: 0.3336 - accuracy: 0.8596\n",
      "Epoch 196/200\n",
      "250/250 [==============================] - 0s 776us/step - loss: 0.3329 - accuracy: 0.8637\n",
      "Epoch 197/200\n",
      "250/250 [==============================] - 0s 690us/step - loss: 0.3337 - accuracy: 0.8614\n",
      "Epoch 198/200\n",
      "250/250 [==============================] - 0s 726us/step - loss: 0.3338 - accuracy: 0.8620\n",
      "Epoch 199/200\n",
      "250/250 [==============================] - 0s 711us/step - loss: 0.3335 - accuracy: 0.8624\n",
      "Epoch 200/200\n",
      "250/250 [==============================] - 0s 704us/step - loss: 0.3335 - accuracy: 0.8627\n"
     ]
    },
    {
     "data": {
      "text/plain": [
       "<tensorflow.python.keras.callbacks.History at 0x7f8d8c52ee20>"
      ]
     },
     "execution_count": 14,
     "metadata": {},
     "output_type": "execute_result"
    }
   ],
   "source": [
    "ann.fit(X_train, y_train, batch_size = 32, epochs = 200)"
   ]
  },
  {
   "cell_type": "markdown",
   "metadata": {},
   "source": [
    "# Parte 3 - Fazendo predições e avaliando o modelo\n",
    "\n",
    "## Prevendo os resultados com o conjunto de testes"
   ]
  },
  {
   "cell_type": "code",
   "execution_count": 15,
   "metadata": {},
   "outputs": [
    {
     "data": {
      "text/plain": [
       "array([[0.23345944],\n",
       "       [0.21745336],\n",
       "       [0.11073631],\n",
       "       ...,\n",
       "       [0.08441424],\n",
       "       [0.1127736 ],\n",
       "       [0.25381517]], dtype=float32)"
      ]
     },
     "execution_count": 15,
     "metadata": {},
     "output_type": "execute_result"
    }
   ],
   "source": [
    "y_pred = ann.predict(X_test)\n",
    "y_pred"
   ]
  },
  {
   "cell_type": "code",
   "execution_count": 16,
   "metadata": {},
   "outputs": [
    {
     "data": {
      "text/plain": [
       "array([[False],\n",
       "       [False],\n",
       "       [False],\n",
       "       ...,\n",
       "       [False],\n",
       "       [False],\n",
       "       [False]])"
      ]
     },
     "execution_count": 16,
     "metadata": {},
     "output_type": "execute_result"
    }
   ],
   "source": [
    "y_pred = (y_pred > 0.5)\n",
    "y_pred"
   ]
  },
  {
   "cell_type": "markdown",
   "metadata": {},
   "source": [
    "# Criando uma Confusion Matrix"
   ]
  },
  {
   "cell_type": "code",
   "execution_count": 17,
   "metadata": {},
   "outputs": [
    {
     "name": "stdout",
     "output_type": "stream",
     "text": [
      "[[1514   81]\n",
      " [ 191  214]]\n"
     ]
    }
   ],
   "source": [
    "from sklearn.metrics import confusion_matrix\n",
    "cm = confusion_matrix(y_test, y_pred)\n",
    "print(cm)"
   ]
  },
  {
   "cell_type": "markdown",
   "metadata": {},
   "source": [
    "# FIM"
   ]
  },
  {
   "cell_type": "markdown",
   "metadata": {},
   "source": [
    "> Professor Diego Dorgam  \n",
    "> [@diegodorgam](https://twitter.com/diegodorgam)"
   ]
  }
 ],
 "metadata": {
  "kernelspec": {
   "display_name": "Python 3",
   "language": "python",
   "name": "python3"
  },
  "language_info": {
   "codemirror_mode": {
    "name": "ipython",
    "version": 3
   },
   "file_extension": ".py",
   "mimetype": "text/x-python",
   "name": "python",
   "nbconvert_exporter": "python",
   "pygments_lexer": "ipython3",
   "version": "3.9.2"
  }
 },
 "nbformat": 4,
 "nbformat_minor": 4
}
