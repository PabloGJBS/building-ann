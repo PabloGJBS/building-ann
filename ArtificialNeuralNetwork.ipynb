{
 "cells": [
  {
   "cell_type": "markdown",
   "source": [
    "# REDES NEURAIS ARTIFICIAIS\n",
    "\n",
    "[Aula 3 de Deep Learning](http://bit.ly/dn-unb03) da Engenharia de Software da UnB"
   ],
   "metadata": {}
  },
  {
   "cell_type": "markdown",
   "source": [
    "# Parte 1 - Pré-processamento dos Dados"
   ],
   "metadata": {}
  },
  {
   "cell_type": "markdown",
   "source": [
    "### Importar as libs"
   ],
   "metadata": {}
  },
  {
   "cell_type": "code",
   "execution_count": 1,
   "source": [
    "import numpy as np\r\n",
    "import pandas as pd\r\n",
    "import tensorflow as tf"
   ],
   "outputs": [],
   "metadata": {
    "colab": {},
    "colab_type": "code",
    "id": "MxkJoQBkUIHC"
   }
  },
  {
   "cell_type": "code",
   "execution_count": 2,
   "source": [
    "tf.__version__"
   ],
   "outputs": [
    {
     "output_type": "execute_result",
     "data": {
      "text/plain": [
       "'2.5.0'"
      ]
     },
     "metadata": {},
     "execution_count": 2
    }
   ],
   "metadata": {
    "colab": {
     "base_uri": "https://localhost:8080/",
     "height": 34
    },
    "colab_type": "code",
    "id": "ZaTwK7ojXr2F",
    "outputId": "0b27a96d-d11a-43e8-ab4b-87c1f01896fe"
   }
  },
  {
   "cell_type": "markdown",
   "source": [
    "### Importar o dataset"
   ],
   "metadata": {}
  },
  {
   "cell_type": "code",
   "execution_count": 3,
   "source": [
    "dataset = pd.read_csv('Churn_Modelling.csv')\r\n",
    "dataset.head()"
   ],
   "outputs": [
    {
     "output_type": "execute_result",
     "data": {
      "text/plain": [
       "   RowNumber  CustomerId   Surname  CreditScore Geography  Gender  Age  \\\n",
       "0          1    15634602  Hargrave          619    France  Female   42   \n",
       "1          2    15647311      Hill          608     Spain  Female   41   \n",
       "2          3    15619304      Onio          502    France  Female   42   \n",
       "3          4    15701354      Boni          699    France  Female   39   \n",
       "4          5    15737888  Mitchell          850     Spain  Female   43   \n",
       "\n",
       "   Tenure    Balance  NumOfProducts  HasCrCard  IsActiveMember  \\\n",
       "0       2       0.00              1          1               1   \n",
       "1       1   83807.86              1          0               1   \n",
       "2       8  159660.80              3          1               0   \n",
       "3       1       0.00              2          0               0   \n",
       "4       2  125510.82              1          1               1   \n",
       "\n",
       "   EstimatedSalary  Exited  \n",
       "0        101348.88       1  \n",
       "1        112542.58       0  \n",
       "2        113931.57       1  \n",
       "3         93826.63       0  \n",
       "4         79084.10       0  "
      ],
      "text/html": [
       "<div>\n",
       "<style scoped>\n",
       "    .dataframe tbody tr th:only-of-type {\n",
       "        vertical-align: middle;\n",
       "    }\n",
       "\n",
       "    .dataframe tbody tr th {\n",
       "        vertical-align: top;\n",
       "    }\n",
       "\n",
       "    .dataframe thead th {\n",
       "        text-align: right;\n",
       "    }\n",
       "</style>\n",
       "<table border=\"1\" class=\"dataframe\">\n",
       "  <thead>\n",
       "    <tr style=\"text-align: right;\">\n",
       "      <th></th>\n",
       "      <th>RowNumber</th>\n",
       "      <th>CustomerId</th>\n",
       "      <th>Surname</th>\n",
       "      <th>CreditScore</th>\n",
       "      <th>Geography</th>\n",
       "      <th>Gender</th>\n",
       "      <th>Age</th>\n",
       "      <th>Tenure</th>\n",
       "      <th>Balance</th>\n",
       "      <th>NumOfProducts</th>\n",
       "      <th>HasCrCard</th>\n",
       "      <th>IsActiveMember</th>\n",
       "      <th>EstimatedSalary</th>\n",
       "      <th>Exited</th>\n",
       "    </tr>\n",
       "  </thead>\n",
       "  <tbody>\n",
       "    <tr>\n",
       "      <th>0</th>\n",
       "      <td>1</td>\n",
       "      <td>15634602</td>\n",
       "      <td>Hargrave</td>\n",
       "      <td>619</td>\n",
       "      <td>France</td>\n",
       "      <td>Female</td>\n",
       "      <td>42</td>\n",
       "      <td>2</td>\n",
       "      <td>0.00</td>\n",
       "      <td>1</td>\n",
       "      <td>1</td>\n",
       "      <td>1</td>\n",
       "      <td>101348.88</td>\n",
       "      <td>1</td>\n",
       "    </tr>\n",
       "    <tr>\n",
       "      <th>1</th>\n",
       "      <td>2</td>\n",
       "      <td>15647311</td>\n",
       "      <td>Hill</td>\n",
       "      <td>608</td>\n",
       "      <td>Spain</td>\n",
       "      <td>Female</td>\n",
       "      <td>41</td>\n",
       "      <td>1</td>\n",
       "      <td>83807.86</td>\n",
       "      <td>1</td>\n",
       "      <td>0</td>\n",
       "      <td>1</td>\n",
       "      <td>112542.58</td>\n",
       "      <td>0</td>\n",
       "    </tr>\n",
       "    <tr>\n",
       "      <th>2</th>\n",
       "      <td>3</td>\n",
       "      <td>15619304</td>\n",
       "      <td>Onio</td>\n",
       "      <td>502</td>\n",
       "      <td>France</td>\n",
       "      <td>Female</td>\n",
       "      <td>42</td>\n",
       "      <td>8</td>\n",
       "      <td>159660.80</td>\n",
       "      <td>3</td>\n",
       "      <td>1</td>\n",
       "      <td>0</td>\n",
       "      <td>113931.57</td>\n",
       "      <td>1</td>\n",
       "    </tr>\n",
       "    <tr>\n",
       "      <th>3</th>\n",
       "      <td>4</td>\n",
       "      <td>15701354</td>\n",
       "      <td>Boni</td>\n",
       "      <td>699</td>\n",
       "      <td>France</td>\n",
       "      <td>Female</td>\n",
       "      <td>39</td>\n",
       "      <td>1</td>\n",
       "      <td>0.00</td>\n",
       "      <td>2</td>\n",
       "      <td>0</td>\n",
       "      <td>0</td>\n",
       "      <td>93826.63</td>\n",
       "      <td>0</td>\n",
       "    </tr>\n",
       "    <tr>\n",
       "      <th>4</th>\n",
       "      <td>5</td>\n",
       "      <td>15737888</td>\n",
       "      <td>Mitchell</td>\n",
       "      <td>850</td>\n",
       "      <td>Spain</td>\n",
       "      <td>Female</td>\n",
       "      <td>43</td>\n",
       "      <td>2</td>\n",
       "      <td>125510.82</td>\n",
       "      <td>1</td>\n",
       "      <td>1</td>\n",
       "      <td>1</td>\n",
       "      <td>79084.10</td>\n",
       "      <td>0</td>\n",
       "    </tr>\n",
       "  </tbody>\n",
       "</table>\n",
       "</div>"
      ]
     },
     "metadata": {},
     "execution_count": 3
    }
   ],
   "metadata": {}
  },
  {
   "cell_type": "code",
   "execution_count": 4,
   "source": [
    "X = dataset.iloc[:, 3:13].values\r\n",
    "y = dataset.iloc[:, 13].values\r\n",
    "print(\"X >>\\n\",X)\r\n",
    "print(\"y >>\\n\",y)"
   ],
   "outputs": [
    {
     "output_type": "stream",
     "name": "stdout",
     "text": [
      "X >>\n",
      " [[619 'France' 'Female' ... 1 1 101348.88]\n",
      " [608 'Spain' 'Female' ... 0 1 112542.58]\n",
      " [502 'France' 'Female' ... 1 0 113931.57]\n",
      " ...\n",
      " [709 'France' 'Female' ... 0 1 42085.58]\n",
      " [772 'Germany' 'Male' ... 1 0 92888.52]\n",
      " [792 'France' 'Female' ... 1 0 38190.78]]\n",
      "y >>\n",
      " [1 0 1 ... 1 1 0]\n"
     ]
    }
   ],
   "metadata": {}
  },
  {
   "cell_type": "markdown",
   "source": [
    "### Transformando os dados categóricos\n"
   ],
   "metadata": {}
  },
  {
   "cell_type": "code",
   "execution_count": 5,
   "source": [
    "# Label Encoding the \"Gender\" column\r\n",
    "from sklearn.preprocessing import LabelEncoder\r\n",
    "le = LabelEncoder()\r\n",
    "X[:, 2] = le.fit_transform(X[:, 2])\r\n",
    "print(X)\r\n"
   ],
   "outputs": [
    {
     "output_type": "stream",
     "name": "stdout",
     "text": [
      "[[619 'France' 0 ... 1 1 101348.88]\n",
      " [608 'Spain' 0 ... 0 1 112542.58]\n",
      " [502 'France' 0 ... 1 0 113931.57]\n",
      " ...\n",
      " [709 'France' 0 ... 0 1 42085.58]\n",
      " [772 'Germany' 1 ... 1 0 92888.52]\n",
      " [792 'France' 0 ... 1 0 38190.78]]\n"
     ]
    }
   ],
   "metadata": {}
  },
  {
   "cell_type": "code",
   "execution_count": 6,
   "source": [
    "# One Hot Encoding the \"Geography\" column\r\n",
    "from sklearn.compose import ColumnTransformer\r\n",
    "from sklearn.preprocessing import OneHotEncoder\r\n",
    "ct = ColumnTransformer(transformers=[('encoder', OneHotEncoder(), [1])], remainder='passthrough')\r\n",
    "X = np.array(ct.fit_transform(X))\r\n",
    "print(X)"
   ],
   "outputs": [
    {
     "output_type": "stream",
     "name": "stdout",
     "text": [
      "[[1.0 0.0 0.0 ... 1 1 101348.88]\n",
      " [0.0 0.0 1.0 ... 0 1 112542.58]\n",
      " [1.0 0.0 0.0 ... 1 0 113931.57]\n",
      " ...\n",
      " [1.0 0.0 0.0 ... 0 1 42085.58]\n",
      " [0.0 1.0 0.0 ... 1 0 92888.52]\n",
      " [1.0 0.0 0.0 ... 1 0 38190.78]]\n"
     ]
    }
   ],
   "metadata": {}
  },
  {
   "cell_type": "markdown",
   "source": [
    "# Dividindo o dataset em conjunto de treinamento e conjunto de teste"
   ],
   "metadata": {}
  },
  {
   "cell_type": "code",
   "execution_count": 20,
   "source": [
    "from sklearn.model_selection import train_test_split\r\n",
    "X_train, X_test, y_train, y_test = train_test_split(X, y, test_size = 0.20, random_state = 42)"
   ],
   "outputs": [],
   "metadata": {}
  },
  {
   "cell_type": "markdown",
   "source": [
    "# Feature Scaling"
   ],
   "metadata": {}
  },
  {
   "cell_type": "code",
   "execution_count": 21,
   "source": [
    "from sklearn.preprocessing import StandardScaler\r\n",
    "sc = StandardScaler()\r\n",
    "X_train = sc.fit_transform(X_train)\r\n",
    "X_test = sc.transform(X_test)"
   ],
   "outputs": [],
   "metadata": {}
  },
  {
   "cell_type": "code",
   "execution_count": 22,
   "source": [
    "np.shape(X_train)"
   ],
   "outputs": [
    {
     "output_type": "execute_result",
     "data": {
      "text/plain": [
       "(8000, 12)"
      ]
     },
     "metadata": {},
     "execution_count": 22
    }
   ],
   "metadata": {}
  },
  {
   "cell_type": "code",
   "execution_count": 23,
   "source": [
    "X_train"
   ],
   "outputs": [
    {
     "output_type": "execute_result",
     "data": {
      "text/plain": [
       "array([[ 1.00150113, -0.57946723, -0.57638802, ...,  0.64920267,\n",
       "         0.97481699,  1.36766974],\n",
       "       [-0.99850112,  1.72572313, -0.57638802, ...,  0.64920267,\n",
       "         0.97481699,  1.6612541 ],\n",
       "       [-0.99850112, -0.57946723,  1.73494238, ...,  0.64920267,\n",
       "        -1.02583358, -0.25280688],\n",
       "       ...,\n",
       "       [ 1.00150113, -0.57946723, -0.57638802, ..., -1.54035103,\n",
       "        -1.02583358, -0.1427649 ],\n",
       "       [ 1.00150113, -0.57946723, -0.57638802, ...,  0.64920267,\n",
       "        -1.02583358, -0.05082558],\n",
       "       [-0.99850112,  1.72572313, -0.57638802, ...,  0.64920267,\n",
       "         0.97481699, -0.81456811]])"
      ]
     },
     "metadata": {},
     "execution_count": 23
    }
   ],
   "metadata": {}
  },
  {
   "cell_type": "markdown",
   "source": [
    "---\n",
    "# Parte 2 -Vamos construir uma ANN!\n"
   ],
   "metadata": {}
  },
  {
   "cell_type": "markdown",
   "source": [
    "### Initializing the ANN"
   ],
   "metadata": {
    "colab_type": "text",
    "id": "KvdeScabXtlB"
   }
  },
  {
   "cell_type": "code",
   "execution_count": 24,
   "source": [
    "ann = tf.keras.models.Sequential()"
   ],
   "outputs": [],
   "metadata": {
    "colab": {},
    "colab_type": "code",
    "id": "3dtrScHxXQox"
   }
  },
  {
   "cell_type": "markdown",
   "source": [
    "### Adding the input layer and the first hidden layer"
   ],
   "metadata": {
    "colab_type": "text",
    "id": "rP6urV6SX7kS"
   }
  },
  {
   "cell_type": "code",
   "execution_count": 25,
   "source": [
    "ann.add(tf.keras.layers.Dense(units=6, activation='tanh'))"
   ],
   "outputs": [],
   "metadata": {
    "colab": {},
    "colab_type": "code",
    "id": "bppGycBXYCQr"
   }
  },
  {
   "cell_type": "markdown",
   "source": [
    "### Adding the second hidden layer"
   ],
   "metadata": {
    "colab_type": "text",
    "id": "BELWAc_8YJze"
   }
  },
  {
   "cell_type": "code",
   "execution_count": 26,
   "source": [
    "ann.add(tf.keras.layers.Dense(units=6, activation='tanh'))"
   ],
   "outputs": [],
   "metadata": {
    "colab": {},
    "colab_type": "code",
    "id": "JneR0u0sYRTd"
   }
  },
  {
   "cell_type": "markdown",
   "source": [
    "### Adding the output layer"
   ],
   "metadata": {
    "colab_type": "text",
    "id": "OyNEe6RXYcU4"
   }
  },
  {
   "cell_type": "code",
   "execution_count": 27,
   "source": [
    "ann.add(tf.keras.layers.Dense(units=1, activation='sigmoid'))"
   ],
   "outputs": [],
   "metadata": {
    "colab": {},
    "colab_type": "code",
    "id": "Cn3x41RBYfvY"
   }
  },
  {
   "cell_type": "markdown",
   "source": [
    "## Part 3 - Training the ANN"
   ],
   "metadata": {
    "colab_type": "text",
    "id": "JT4u2S1_Y4WG"
   }
  },
  {
   "cell_type": "markdown",
   "source": [
    "### Compiling the ANN"
   ],
   "metadata": {
    "colab_type": "text",
    "id": "8GWlJChhY_ZI"
   }
  },
  {
   "cell_type": "code",
   "execution_count": 28,
   "source": [
    "ann.compile(optimizer = 'RMSprop', loss = 'binary_crossentropy', metrics = ['accuracy'])"
   ],
   "outputs": [],
   "metadata": {
    "colab": {},
    "colab_type": "code",
    "id": "fG3RrwDXZEaS"
   }
  },
  {
   "cell_type": "markdown",
   "source": [
    "### Training the ANN on the Training set"
   ],
   "metadata": {
    "colab_type": "text",
    "id": "0QR_G5u7ZLSM"
   }
  },
  {
   "cell_type": "code",
   "execution_count": 29,
   "source": [
    "ann.fit(X_train, y_train, batch_size = 20, epochs = 125)"
   ],
   "outputs": [
    {
     "output_type": "stream",
     "name": "stdout",
     "text": [
      "Epoch 1/125\n",
      "400/400 [==============================] - 2s 2ms/step - loss: 0.5255 - accuracy: 0.7533\n",
      "Epoch 2/125\n",
      "400/400 [==============================] - 1s 2ms/step - loss: 0.4379 - accuracy: 0.8049\n",
      "Epoch 3/125\n",
      "400/400 [==============================] - 1s 2ms/step - loss: 0.4275 - accuracy: 0.8140\n",
      "Epoch 4/125\n",
      "400/400 [==============================] - 1s 2ms/step - loss: 0.4213 - accuracy: 0.8189\n",
      "Epoch 5/125\n",
      "400/400 [==============================] - 1s 2ms/step - loss: 0.4152 - accuracy: 0.8221\n",
      "Epoch 6/125\n",
      "400/400 [==============================] - 1s 2ms/step - loss: 0.4091 - accuracy: 0.8265\n",
      "Epoch 7/125\n",
      "400/400 [==============================] - 1s 2ms/step - loss: 0.4025 - accuracy: 0.8284\n",
      "Epoch 8/125\n",
      "400/400 [==============================] - 1s 2ms/step - loss: 0.3959 - accuracy: 0.8334\n",
      "Epoch 9/125\n",
      "400/400 [==============================] - 1s 2ms/step - loss: 0.3900 - accuracy: 0.8363\n",
      "Epoch 10/125\n",
      "400/400 [==============================] - 1s 2ms/step - loss: 0.3843 - accuracy: 0.8390\n",
      "Epoch 11/125\n",
      "400/400 [==============================] - 1s 2ms/step - loss: 0.3785 - accuracy: 0.8430\n",
      "Epoch 12/125\n",
      "400/400 [==============================] - 1s 2ms/step - loss: 0.3734 - accuracy: 0.8455\n",
      "Epoch 13/125\n",
      "400/400 [==============================] - 1s 2ms/step - loss: 0.3680 - accuracy: 0.8460\n",
      "Epoch 14/125\n",
      "400/400 [==============================] - 1s 2ms/step - loss: 0.3631 - accuracy: 0.8481\n",
      "Epoch 15/125\n",
      "400/400 [==============================] - 1s 2ms/step - loss: 0.3585 - accuracy: 0.8522\n",
      "Epoch 16/125\n",
      "400/400 [==============================] - 1s 2ms/step - loss: 0.3552 - accuracy: 0.8549\n",
      "Epoch 17/125\n",
      "400/400 [==============================] - 1s 2ms/step - loss: 0.3519 - accuracy: 0.8550\n",
      "Epoch 18/125\n",
      "400/400 [==============================] - 1s 2ms/step - loss: 0.3501 - accuracy: 0.8569\n",
      "Epoch 19/125\n",
      "400/400 [==============================] - 1s 2ms/step - loss: 0.3483 - accuracy: 0.8586\n",
      "Epoch 20/125\n",
      "400/400 [==============================] - 1s 2ms/step - loss: 0.3465 - accuracy: 0.8597\n",
      "Epoch 21/125\n",
      "400/400 [==============================] - 1s 2ms/step - loss: 0.3450 - accuracy: 0.8585\n",
      "Epoch 22/125\n",
      "400/400 [==============================] - 1s 2ms/step - loss: 0.3439 - accuracy: 0.8606\n",
      "Epoch 23/125\n",
      "400/400 [==============================] - 1s 2ms/step - loss: 0.3427 - accuracy: 0.8616\n",
      "Epoch 24/125\n",
      "400/400 [==============================] - 1s 2ms/step - loss: 0.3424 - accuracy: 0.8622\n",
      "Epoch 25/125\n",
      "400/400 [==============================] - 1s 2ms/step - loss: 0.3415 - accuracy: 0.8612\n",
      "Epoch 26/125\n",
      "400/400 [==============================] - 1s 2ms/step - loss: 0.3405 - accuracy: 0.8626\n",
      "Epoch 27/125\n",
      "400/400 [==============================] - 1s 2ms/step - loss: 0.3401 - accuracy: 0.8626\n",
      "Epoch 28/125\n",
      "400/400 [==============================] - 1s 2ms/step - loss: 0.3399 - accuracy: 0.8626\n",
      "Epoch 29/125\n",
      "400/400 [==============================] - 1s 2ms/step - loss: 0.3391 - accuracy: 0.8646\n",
      "Epoch 30/125\n",
      "400/400 [==============================] - 1s 2ms/step - loss: 0.3390 - accuracy: 0.8629\n",
      "Epoch 31/125\n",
      "400/400 [==============================] - 1s 2ms/step - loss: 0.3384 - accuracy: 0.8636\n",
      "Epoch 32/125\n",
      "400/400 [==============================] - 1s 2ms/step - loss: 0.3385 - accuracy: 0.8631\n",
      "Epoch 33/125\n",
      "400/400 [==============================] - 1s 2ms/step - loss: 0.3380 - accuracy: 0.8596\n",
      "Epoch 34/125\n",
      "400/400 [==============================] - 1s 2ms/step - loss: 0.3375 - accuracy: 0.8620\n",
      "Epoch 35/125\n",
      "400/400 [==============================] - 1s 1ms/step - loss: 0.3373 - accuracy: 0.8621\n",
      "Epoch 36/125\n",
      "400/400 [==============================] - 1s 2ms/step - loss: 0.3371 - accuracy: 0.8624\n",
      "Epoch 37/125\n",
      "400/400 [==============================] - 1s 1ms/step - loss: 0.3371 - accuracy: 0.8612\n",
      "Epoch 38/125\n",
      "400/400 [==============================] - 0s 1ms/step - loss: 0.3365 - accuracy: 0.8631\n",
      "Epoch 39/125\n",
      "400/400 [==============================] - 0s 1ms/step - loss: 0.3360 - accuracy: 0.8640\n",
      "Epoch 40/125\n",
      "400/400 [==============================] - 1s 1ms/step - loss: 0.3364 - accuracy: 0.8644\n",
      "Epoch 41/125\n",
      "400/400 [==============================] - 1s 1ms/step - loss: 0.3362 - accuracy: 0.8634\n",
      "Epoch 42/125\n",
      "400/400 [==============================] - 1s 1ms/step - loss: 0.3361 - accuracy: 0.8637\n",
      "Epoch 43/125\n",
      "400/400 [==============================] - 1s 1ms/step - loss: 0.3366 - accuracy: 0.8624\n",
      "Epoch 44/125\n",
      "400/400 [==============================] - 0s 1ms/step - loss: 0.3356 - accuracy: 0.8645\n",
      "Epoch 45/125\n",
      "400/400 [==============================] - 0s 1ms/step - loss: 0.3360 - accuracy: 0.8637\n",
      "Epoch 46/125\n",
      "400/400 [==============================] - 0s 1ms/step - loss: 0.3363 - accuracy: 0.8612\n",
      "Epoch 47/125\n",
      "400/400 [==============================] - 0s 1ms/step - loss: 0.3357 - accuracy: 0.8633\n",
      "Epoch 48/125\n",
      "400/400 [==============================] - 0s 1ms/step - loss: 0.3356 - accuracy: 0.8619\n",
      "Epoch 49/125\n",
      "400/400 [==============================] - 1s 1ms/step - loss: 0.3352 - accuracy: 0.8621\n",
      "Epoch 50/125\n",
      "400/400 [==============================] - 1s 1ms/step - loss: 0.3356 - accuracy: 0.8629\n",
      "Epoch 51/125\n",
      "400/400 [==============================] - 1s 1ms/step - loss: 0.3352 - accuracy: 0.8637\n",
      "Epoch 52/125\n",
      "400/400 [==============================] - 0s 1ms/step - loss: 0.3354 - accuracy: 0.8634\n",
      "Epoch 53/125\n",
      "400/400 [==============================] - 1s 1ms/step - loss: 0.3344 - accuracy: 0.8634\n",
      "Epoch 54/125\n",
      "400/400 [==============================] - 0s 1ms/step - loss: 0.3351 - accuracy: 0.8640\n",
      "Epoch 55/125\n",
      "400/400 [==============================] - 1s 1ms/step - loss: 0.3349 - accuracy: 0.8644\n",
      "Epoch 56/125\n",
      "400/400 [==============================] - 0s 1ms/step - loss: 0.3343 - accuracy: 0.8643\n",
      "Epoch 57/125\n",
      "400/400 [==============================] - 0s 1ms/step - loss: 0.3346 - accuracy: 0.8641\n",
      "Epoch 58/125\n",
      "400/400 [==============================] - 0s 1ms/step - loss: 0.3342 - accuracy: 0.8630\n",
      "Epoch 59/125\n",
      "400/400 [==============================] - 1s 1ms/step - loss: 0.3344 - accuracy: 0.8624\n",
      "Epoch 60/125\n",
      "400/400 [==============================] - 1s 1ms/step - loss: 0.3346 - accuracy: 0.8629\n",
      "Epoch 61/125\n",
      "400/400 [==============================] - 0s 1ms/step - loss: 0.3344 - accuracy: 0.8635\n",
      "Epoch 62/125\n",
      "400/400 [==============================] - 0s 1ms/step - loss: 0.3345 - accuracy: 0.8618\n",
      "Epoch 63/125\n",
      "400/400 [==============================] - 1s 1ms/step - loss: 0.3341 - accuracy: 0.8659\n",
      "Epoch 64/125\n",
      "400/400 [==============================] - 0s 1ms/step - loss: 0.3344 - accuracy: 0.8646\n",
      "Epoch 65/125\n",
      "400/400 [==============================] - 1s 1ms/step - loss: 0.3341 - accuracy: 0.8652\n",
      "Epoch 66/125\n",
      "400/400 [==============================] - 0s 1ms/step - loss: 0.3337 - accuracy: 0.8640\n",
      "Epoch 67/125\n",
      "400/400 [==============================] - 1s 1ms/step - loss: 0.3337 - accuracy: 0.8635\n",
      "Epoch 68/125\n",
      "400/400 [==============================] - 1s 1ms/step - loss: 0.3341 - accuracy: 0.8636\n",
      "Epoch 69/125\n",
      "400/400 [==============================] - 0s 1ms/step - loss: 0.3336 - accuracy: 0.8646\n",
      "Epoch 70/125\n",
      "400/400 [==============================] - 0s 1ms/step - loss: 0.3332 - accuracy: 0.8639\n",
      "Epoch 71/125\n",
      "400/400 [==============================] - 0s 1ms/step - loss: 0.3341 - accuracy: 0.8641\n",
      "Epoch 72/125\n",
      "400/400 [==============================] - 0s 1ms/step - loss: 0.3341 - accuracy: 0.8648\n",
      "Epoch 73/125\n",
      "400/400 [==============================] - 0s 1ms/step - loss: 0.3332 - accuracy: 0.8625\n",
      "Epoch 74/125\n",
      "400/400 [==============================] - 1s 1ms/step - loss: 0.3337 - accuracy: 0.8634\n",
      "Epoch 75/125\n",
      "400/400 [==============================] - 0s 1ms/step - loss: 0.3335 - accuracy: 0.8655\n",
      "Epoch 76/125\n",
      "400/400 [==============================] - 0s 1ms/step - loss: 0.3339 - accuracy: 0.8630\n",
      "Epoch 77/125\n",
      "400/400 [==============================] - 0s 1ms/step - loss: 0.3328 - accuracy: 0.8643\n",
      "Epoch 78/125\n",
      "400/400 [==============================] - 0s 1ms/step - loss: 0.3328 - accuracy: 0.8662\n",
      "Epoch 79/125\n",
      "400/400 [==============================] - 1s 1ms/step - loss: 0.3336 - accuracy: 0.8651\n",
      "Epoch 80/125\n",
      "400/400 [==============================] - 0s 1ms/step - loss: 0.3335 - accuracy: 0.8640\n",
      "Epoch 81/125\n",
      "400/400 [==============================] - 1s 1ms/step - loss: 0.3333 - accuracy: 0.8639\n",
      "Epoch 82/125\n",
      "400/400 [==============================] - 0s 1ms/step - loss: 0.3334 - accuracy: 0.8658\n",
      "Epoch 83/125\n",
      "400/400 [==============================] - 1s 1ms/step - loss: 0.3333 - accuracy: 0.8624\n",
      "Epoch 84/125\n",
      "400/400 [==============================] - 1s 1ms/step - loss: 0.3333 - accuracy: 0.8658\n",
      "Epoch 85/125\n",
      "400/400 [==============================] - 1s 2ms/step - loss: 0.3325 - accuracy: 0.8649\n",
      "Epoch 86/125\n",
      "400/400 [==============================] - 1s 1ms/step - loss: 0.3328 - accuracy: 0.8659\n",
      "Epoch 87/125\n",
      "400/400 [==============================] - 0s 1ms/step - loss: 0.3332 - accuracy: 0.8637\n",
      "Epoch 88/125\n",
      "400/400 [==============================] - 1s 1ms/step - loss: 0.3323 - accuracy: 0.8640\n",
      "Epoch 89/125\n",
      "400/400 [==============================] - 1s 1ms/step - loss: 0.3329 - accuracy: 0.8637\n",
      "Epoch 90/125\n",
      "400/400 [==============================] - 0s 1ms/step - loss: 0.3323 - accuracy: 0.8662\n",
      "Epoch 91/125\n",
      "400/400 [==============================] - 1s 1ms/step - loss: 0.3330 - accuracy: 0.8637\n",
      "Epoch 92/125\n",
      "400/400 [==============================] - 1s 1ms/step - loss: 0.3330 - accuracy: 0.8636\n",
      "Epoch 93/125\n",
      "400/400 [==============================] - 0s 1ms/step - loss: 0.3326 - accuracy: 0.8635\n",
      "Epoch 94/125\n",
      "400/400 [==============================] - 1s 1ms/step - loss: 0.3329 - accuracy: 0.8634\n",
      "Epoch 95/125\n",
      "400/400 [==============================] - 1s 1ms/step - loss: 0.3327 - accuracy: 0.8652\n",
      "Epoch 96/125\n",
      "400/400 [==============================] - 0s 1ms/step - loss: 0.3324 - accuracy: 0.8643\n",
      "Epoch 97/125\n",
      "400/400 [==============================] - 0s 1ms/step - loss: 0.3327 - accuracy: 0.8645\n",
      "Epoch 98/125\n",
      "400/400 [==============================] - 0s 1ms/step - loss: 0.3322 - accuracy: 0.8654\n",
      "Epoch 99/125\n",
      "400/400 [==============================] - 1s 1ms/step - loss: 0.3323 - accuracy: 0.8637\n",
      "Epoch 100/125\n",
      "400/400 [==============================] - 1s 1ms/step - loss: 0.3327 - accuracy: 0.8654\n",
      "Epoch 101/125\n",
      "400/400 [==============================] - 1s 1ms/step - loss: 0.3317 - accuracy: 0.8651\n",
      "Epoch 102/125\n",
      "400/400 [==============================] - 0s 1ms/step - loss: 0.3324 - accuracy: 0.8643\n",
      "Epoch 103/125\n",
      "400/400 [==============================] - 0s 1ms/step - loss: 0.3318 - accuracy: 0.8644\n",
      "Epoch 104/125\n",
      "400/400 [==============================] - 1s 1ms/step - loss: 0.3326 - accuracy: 0.8630\n",
      "Epoch 105/125\n",
      "400/400 [==============================] - 0s 1ms/step - loss: 0.3321 - accuracy: 0.8664\n",
      "Epoch 106/125\n",
      "400/400 [==============================] - 1s 1ms/step - loss: 0.3323 - accuracy: 0.8626\n",
      "Epoch 107/125\n",
      "400/400 [==============================] - 0s 1ms/step - loss: 0.3316 - accuracy: 0.8655\n",
      "Epoch 108/125\n",
      "400/400 [==============================] - 0s 1ms/step - loss: 0.3320 - accuracy: 0.8648\n",
      "Epoch 109/125\n",
      "400/400 [==============================] - 1s 1ms/step - loss: 0.3321 - accuracy: 0.8639\n",
      "Epoch 110/125\n",
      "400/400 [==============================] - 0s 1ms/step - loss: 0.3322 - accuracy: 0.8648\n",
      "Epoch 111/125\n",
      "400/400 [==============================] - 1s 1ms/step - loss: 0.3319 - accuracy: 0.8648\n",
      "Epoch 112/125\n",
      "400/400 [==============================] - 0s 1ms/step - loss: 0.3316 - accuracy: 0.8648\n",
      "Epoch 113/125\n",
      "400/400 [==============================] - 0s 1ms/step - loss: 0.3324 - accuracy: 0.8646\n",
      "Epoch 114/125\n",
      "400/400 [==============================] - 0s 1ms/step - loss: 0.3323 - accuracy: 0.8650\n",
      "Epoch 115/125\n",
      "400/400 [==============================] - 0s 1ms/step - loss: 0.3323 - accuracy: 0.8631\n",
      "Epoch 116/125\n",
      "400/400 [==============================] - 1s 1ms/step - loss: 0.3318 - accuracy: 0.8655\n",
      "Epoch 117/125\n",
      "400/400 [==============================] - 1s 1ms/step - loss: 0.3322 - accuracy: 0.8631\n",
      "Epoch 118/125\n",
      "400/400 [==============================] - 0s 1ms/step - loss: 0.3314 - accuracy: 0.8661\n",
      "Epoch 119/125\n",
      "400/400 [==============================] - 0s 1ms/step - loss: 0.3317 - accuracy: 0.8652\n",
      "Epoch 120/125\n",
      "400/400 [==============================] - 0s 1ms/step - loss: 0.3318 - accuracy: 0.8650\n",
      "Epoch 121/125\n",
      "400/400 [==============================] - 1s 1ms/step - loss: 0.3320 - accuracy: 0.8646\n",
      "Epoch 122/125\n",
      "400/400 [==============================] - 0s 1ms/step - loss: 0.3321 - accuracy: 0.8659\n",
      "Epoch 123/125\n",
      "400/400 [==============================] - 0s 1ms/step - loss: 0.3318 - accuracy: 0.8650\n",
      "Epoch 124/125\n",
      "400/400 [==============================] - 1s 1ms/step - loss: 0.3318 - accuracy: 0.8651\n",
      "Epoch 125/125\n",
      "400/400 [==============================] - 1s 1ms/step - loss: 0.3320 - accuracy: 0.8652\n"
     ]
    },
    {
     "output_type": "execute_result",
     "data": {
      "text/plain": [
       "<tensorflow.python.keras.callbacks.History at 0x1d305858850>"
      ]
     },
     "metadata": {},
     "execution_count": 29
    }
   ],
   "metadata": {
    "colab": {
     "base_uri": "https://localhost:8080/",
     "height": 1000
    },
    "colab_type": "code",
    "id": "nHZ-LKv_ZRb3",
    "outputId": "718cc4b0-b5aa-40f0-9b20-d3d31730a531"
   }
  },
  {
   "cell_type": "markdown",
   "source": [
    "# Parte 3 - Fazendo predições e avaliando o modelo\n",
    "\n",
    "## Prevendo os resultados com o conjunto de testes"
   ],
   "metadata": {}
  },
  {
   "cell_type": "code",
   "execution_count": 30,
   "source": [
    "y_pred = ann.predict(X_test)\r\n",
    "y_pred"
   ],
   "outputs": [
    {
     "output_type": "execute_result",
     "data": {
      "text/plain": [
       "array([[0.07618842],\n",
       "       [0.02972931],\n",
       "       [0.16637734],\n",
       "       ...,\n",
       "       [0.8341152 ],\n",
       "       [0.16337115],\n",
       "       [0.22278348]], dtype=float32)"
      ]
     },
     "metadata": {},
     "execution_count": 30
    }
   ],
   "metadata": {}
  },
  {
   "cell_type": "code",
   "execution_count": 31,
   "source": [
    "y_pred = (y_pred > 0.5)\r\n",
    "y_pred"
   ],
   "outputs": [
    {
     "output_type": "execute_result",
     "data": {
      "text/plain": [
       "array([[False],\n",
       "       [False],\n",
       "       [False],\n",
       "       ...,\n",
       "       [ True],\n",
       "       [False],\n",
       "       [False]])"
      ]
     },
     "metadata": {},
     "execution_count": 31
    }
   ],
   "metadata": {}
  },
  {
   "cell_type": "markdown",
   "source": [
    "# Criando uma Confusion Matrix"
   ],
   "metadata": {}
  },
  {
   "cell_type": "code",
   "execution_count": 32,
   "source": [
    "from sklearn.metrics import confusion_matrix\r\n",
    "cm = confusion_matrix(y_test, y_pred)\r\n",
    "print(cm)"
   ],
   "outputs": [
    {
     "output_type": "stream",
     "name": "stdout",
     "text": [
      "[[1543   64]\n",
      " [ 217  176]]\n"
     ]
    }
   ],
   "metadata": {}
  },
  {
   "cell_type": "markdown",
   "source": [
    "# FIM"
   ],
   "metadata": {}
  },
  {
   "cell_type": "markdown",
   "source": [
    "> Professor Diego Dorgam  \n",
    "> [@diegodorgam](https://twitter.com/diegodorgam)"
   ],
   "metadata": {}
  },
  {
   "cell_type": "markdown",
   "source": [],
   "metadata": {}
  }
 ],
 "metadata": {
  "kernelspec": {
   "name": "python3",
   "display_name": "Python 3.9.6 64-bit"
  },
  "language_info": {
   "codemirror_mode": {
    "name": "ipython",
    "version": 3
   },
   "file_extension": ".py",
   "mimetype": "text/x-python",
   "name": "python",
   "nbconvert_exporter": "python",
   "pygments_lexer": "ipython3",
   "version": "3.9.6"
  },
  "interpreter": {
   "hash": "0b373b89fa2c4ba65688219934a5fdeebc6fc457dd4f0cf3d78d12d1e5ebef75"
  }
 },
 "nbformat": 4,
 "nbformat_minor": 4
}