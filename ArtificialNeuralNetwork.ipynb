{
 "cells": [
  {
   "cell_type": "markdown",
   "metadata": {},
   "source": [
    "# REDES NEURAIS ARTIFICIAIS\n",
    "\n",
    "[Aula 3 de Deep Learning](http://bit.ly/dn-unb03) da Engenharia de Software da UnB"
   ]
  },
  {
   "cell_type": "markdown",
   "metadata": {},
   "source": [
    "# Parte 1 - Pré-processamento dos Dados"
   ]
  },
  {
   "cell_type": "markdown",
   "metadata": {},
   "source": [
    "### Importar as libs"
   ]
  },
  {
   "cell_type": "code",
   "execution_count": 1,
   "metadata": {
    "colab": {},
    "colab_type": "code",
    "id": "MxkJoQBkUIHC"
   },
   "outputs": [
    {
     "name": "stderr",
     "output_type": "stream",
     "text": [
      "2021-10-22 13:05:09.709051: W tensorflow/stream_executor/platform/default/dso_loader.cc:64] Could not load dynamic library 'libcudart.so.11.0'; dlerror: libcudart.so.11.0: cannot open shared object file: No such file or directory\n",
      "2021-10-22 13:05:09.709134: I tensorflow/stream_executor/cuda/cudart_stub.cc:29] Ignore above cudart dlerror if you do not have a GPU set up on your machine.\n"
     ]
    }
   ],
   "source": [
    "import numpy as np\n",
    "import pandas as pd\n",
    "import tensorflow as tf"
   ]
  },
  {
   "cell_type": "code",
   "execution_count": 2,
   "metadata": {
    "colab": {
     "base_uri": "https://localhost:8080/",
     "height": 34
    },
    "colab_type": "code",
    "id": "ZaTwK7ojXr2F",
    "outputId": "0b27a96d-d11a-43e8-ab4b-87c1f01896fe"
   },
   "outputs": [
    {
     "data": {
      "text/plain": [
       "'2.6.0'"
      ]
     },
     "execution_count": 2,
     "metadata": {},
     "output_type": "execute_result"
    }
   ],
   "source": [
    "tf.__version__"
   ]
  },
  {
   "cell_type": "markdown",
   "metadata": {},
   "source": [
    "### Importar o dataset"
   ]
  },
  {
   "cell_type": "code",
   "execution_count": 3,
   "metadata": {},
   "outputs": [
    {
     "data": {
      "text/html": [
       "<div>\n",
       "<style scoped>\n",
       "    .dataframe tbody tr th:only-of-type {\n",
       "        vertical-align: middle;\n",
       "    }\n",
       "\n",
       "    .dataframe tbody tr th {\n",
       "        vertical-align: top;\n",
       "    }\n",
       "\n",
       "    .dataframe thead th {\n",
       "        text-align: right;\n",
       "    }\n",
       "</style>\n",
       "<table border=\"1\" class=\"dataframe\">\n",
       "  <thead>\n",
       "    <tr style=\"text-align: right;\">\n",
       "      <th></th>\n",
       "      <th>RowNumber</th>\n",
       "      <th>CustomerId</th>\n",
       "      <th>Surname</th>\n",
       "      <th>CreditScore</th>\n",
       "      <th>Geography</th>\n",
       "      <th>Gender</th>\n",
       "      <th>Age</th>\n",
       "      <th>Tenure</th>\n",
       "      <th>Balance</th>\n",
       "      <th>NumOfProducts</th>\n",
       "      <th>HasCrCard</th>\n",
       "      <th>IsActiveMember</th>\n",
       "      <th>EstimatedSalary</th>\n",
       "      <th>Exited</th>\n",
       "    </tr>\n",
       "  </thead>\n",
       "  <tbody>\n",
       "    <tr>\n",
       "      <th>0</th>\n",
       "      <td>1</td>\n",
       "      <td>15634602</td>\n",
       "      <td>Hargrave</td>\n",
       "      <td>619</td>\n",
       "      <td>France</td>\n",
       "      <td>Female</td>\n",
       "      <td>42</td>\n",
       "      <td>2</td>\n",
       "      <td>0.00</td>\n",
       "      <td>1</td>\n",
       "      <td>1</td>\n",
       "      <td>1</td>\n",
       "      <td>101348.88</td>\n",
       "      <td>1</td>\n",
       "    </tr>\n",
       "    <tr>\n",
       "      <th>1</th>\n",
       "      <td>2</td>\n",
       "      <td>15647311</td>\n",
       "      <td>Hill</td>\n",
       "      <td>608</td>\n",
       "      <td>Spain</td>\n",
       "      <td>Female</td>\n",
       "      <td>41</td>\n",
       "      <td>1</td>\n",
       "      <td>83807.86</td>\n",
       "      <td>1</td>\n",
       "      <td>0</td>\n",
       "      <td>1</td>\n",
       "      <td>112542.58</td>\n",
       "      <td>0</td>\n",
       "    </tr>\n",
       "    <tr>\n",
       "      <th>2</th>\n",
       "      <td>3</td>\n",
       "      <td>15619304</td>\n",
       "      <td>Onio</td>\n",
       "      <td>502</td>\n",
       "      <td>France</td>\n",
       "      <td>Female</td>\n",
       "      <td>42</td>\n",
       "      <td>8</td>\n",
       "      <td>159660.80</td>\n",
       "      <td>3</td>\n",
       "      <td>1</td>\n",
       "      <td>0</td>\n",
       "      <td>113931.57</td>\n",
       "      <td>1</td>\n",
       "    </tr>\n",
       "    <tr>\n",
       "      <th>3</th>\n",
       "      <td>4</td>\n",
       "      <td>15701354</td>\n",
       "      <td>Boni</td>\n",
       "      <td>699</td>\n",
       "      <td>France</td>\n",
       "      <td>Female</td>\n",
       "      <td>39</td>\n",
       "      <td>1</td>\n",
       "      <td>0.00</td>\n",
       "      <td>2</td>\n",
       "      <td>0</td>\n",
       "      <td>0</td>\n",
       "      <td>93826.63</td>\n",
       "      <td>0</td>\n",
       "    </tr>\n",
       "    <tr>\n",
       "      <th>4</th>\n",
       "      <td>5</td>\n",
       "      <td>15737888</td>\n",
       "      <td>Mitchell</td>\n",
       "      <td>850</td>\n",
       "      <td>Spain</td>\n",
       "      <td>Female</td>\n",
       "      <td>43</td>\n",
       "      <td>2</td>\n",
       "      <td>125510.82</td>\n",
       "      <td>1</td>\n",
       "      <td>1</td>\n",
       "      <td>1</td>\n",
       "      <td>79084.10</td>\n",
       "      <td>0</td>\n",
       "    </tr>\n",
       "  </tbody>\n",
       "</table>\n",
       "</div>"
      ],
      "text/plain": [
       "   RowNumber  CustomerId   Surname  CreditScore Geography  Gender  Age  \\\n",
       "0          1    15634602  Hargrave          619    France  Female   42   \n",
       "1          2    15647311      Hill          608     Spain  Female   41   \n",
       "2          3    15619304      Onio          502    France  Female   42   \n",
       "3          4    15701354      Boni          699    France  Female   39   \n",
       "4          5    15737888  Mitchell          850     Spain  Female   43   \n",
       "\n",
       "   Tenure    Balance  NumOfProducts  HasCrCard  IsActiveMember  \\\n",
       "0       2       0.00              1          1               1   \n",
       "1       1   83807.86              1          0               1   \n",
       "2       8  159660.80              3          1               0   \n",
       "3       1       0.00              2          0               0   \n",
       "4       2  125510.82              1          1               1   \n",
       "\n",
       "   EstimatedSalary  Exited  \n",
       "0        101348.88       1  \n",
       "1        112542.58       0  \n",
       "2        113931.57       1  \n",
       "3         93826.63       0  \n",
       "4         79084.10       0  "
      ]
     },
     "execution_count": 3,
     "metadata": {},
     "output_type": "execute_result"
    }
   ],
   "source": [
    "dataset = pd.read_csv('Churn_Modelling.csv')\n",
    "dataset.head(5)"
   ]
  },
  {
   "cell_type": "code",
   "execution_count": 4,
   "metadata": {},
   "outputs": [
    {
     "data": {
      "text/plain": [
       "France     5014\n",
       "Germany    2509\n",
       "Spain      2477\n",
       "Name: Geography, dtype: int64"
      ]
     },
     "execution_count": 4,
     "metadata": {},
     "output_type": "execute_result"
    }
   ],
   "source": [
    "dataset.Geography.value_counts()"
   ]
  },
  {
   "cell_type": "code",
   "execution_count": 5,
   "metadata": {},
   "outputs": [
    {
     "name": "stdout",
     "output_type": "stream",
     "text": [
      "X >>\n",
      " [[619 'France' 'Female' ... 1 1 101348.88]\n",
      " [608 'Spain' 'Female' ... 0 1 112542.58]\n",
      " [502 'France' 'Female' ... 1 0 113931.57]\n",
      " ...\n",
      " [709 'France' 'Female' ... 0 1 42085.58]\n",
      " [772 'Germany' 'Male' ... 1 0 92888.52]\n",
      " [792 'France' 'Female' ... 1 0 38190.78]]\n",
      "y >>\n",
      " [1 0 1 ... 1 1 0]\n"
     ]
    }
   ],
   "source": [
    "X = dataset.iloc[:, 3:13].values\n",
    "y = dataset.iloc[:, 13].values\n",
    "print(\"X >>\\n\",X)\n",
    "print(\"y >>\\n\",y)"
   ]
  },
  {
   "cell_type": "markdown",
   "metadata": {},
   "source": [
    "### Transformando os dados categóricos\n"
   ]
  },
  {
   "cell_type": "code",
   "execution_count": 6,
   "metadata": {},
   "outputs": [
    {
     "name": "stdout",
     "output_type": "stream",
     "text": [
      "[0 0 0 ... 0 1 0]\n"
     ]
    }
   ],
   "source": [
    "# Label Encoding the \"Gender\" column\n",
    "from sklearn.preprocessing import LabelEncoder\n",
    "le = LabelEncoder()\n",
    "X[:, 2] = le.fit_transform(X[:, 2])\n",
    "print(X[:, 2])"
   ]
  },
  {
   "cell_type": "code",
   "execution_count": 7,
   "metadata": {},
   "outputs": [
    {
     "name": "stdout",
     "output_type": "stream",
     "text": [
      "[[1.0 0.0 0.0 ... 1 1 101348.88]\n",
      " [0.0 0.0 1.0 ... 0 1 112542.58]\n",
      " [1.0 0.0 0.0 ... 1 0 113931.57]\n",
      " ...\n",
      " [1.0 0.0 0.0 ... 0 1 42085.58]\n",
      " [0.0 1.0 0.0 ... 1 0 92888.52]\n",
      " [1.0 0.0 0.0 ... 1 0 38190.78]]\n"
     ]
    }
   ],
   "source": [
    "# One Hot Encoding the \"Geography\" column\n",
    "from sklearn.compose import ColumnTransformer\n",
    "from sklearn.preprocessing import OneHotEncoder\n",
    "ct = ColumnTransformer(transformers=[('encoder', OneHotEncoder(), [1])], remainder='passthrough')\n",
    "X = np.array(ct.fit_transform(X))\n",
    "print(X)"
   ]
  },
  {
   "cell_type": "markdown",
   "metadata": {},
   "source": [
    "# Dividindo o dataset em conjunto de treinamento e conjunto de teste"
   ]
  },
  {
   "cell_type": "code",
   "execution_count": 8,
   "metadata": {},
   "outputs": [],
   "source": [
    "from sklearn.model_selection import train_test_split\n",
    "X_train, X_test, y_train, y_test = train_test_split(X, y, test_size = 0.2, random_state = 0)"
   ]
  },
  {
   "cell_type": "markdown",
   "metadata": {},
   "source": [
    "# Feature Scaling"
   ]
  },
  {
   "cell_type": "code",
   "execution_count": 9,
   "metadata": {},
   "outputs": [],
   "source": [
    "from sklearn.preprocessing import StandardScaler\n",
    "sc = StandardScaler()\n",
    "X_train = sc.fit_transform(X_train)\n",
    "X_test = sc.transform(X_test)"
   ]
  },
  {
   "cell_type": "code",
   "execution_count": 10,
   "metadata": {},
   "outputs": [
    {
     "data": {
      "text/plain": [
       "(8000, 12)"
      ]
     },
     "execution_count": 10,
     "metadata": {},
     "output_type": "execute_result"
    }
   ],
   "source": [
    "np.shape(X_train)"
   ]
  },
  {
   "cell_type": "code",
   "execution_count": 11,
   "metadata": {},
   "outputs": [
    {
     "data": {
      "text/plain": [
       "array([[-1.01460667, -0.5698444 ,  1.74309049, ...,  0.64259497,\n",
       "        -1.03227043,  1.10643166],\n",
       "       [-1.01460667,  1.75486502, -0.57369368, ...,  0.64259497,\n",
       "         0.9687384 , -0.74866447],\n",
       "       [ 0.98560362, -0.5698444 , -0.57369368, ...,  0.64259497,\n",
       "        -1.03227043,  1.48533467],\n",
       "       ...,\n",
       "       [ 0.98560362, -0.5698444 , -0.57369368, ...,  0.64259497,\n",
       "        -1.03227043,  1.41231994],\n",
       "       [-1.01460667, -0.5698444 ,  1.74309049, ...,  0.64259497,\n",
       "         0.9687384 ,  0.84432121],\n",
       "       [-1.01460667,  1.75486502, -0.57369368, ...,  0.64259497,\n",
       "        -1.03227043,  0.32472465]])"
      ]
     },
     "execution_count": 11,
     "metadata": {},
     "output_type": "execute_result"
    }
   ],
   "source": [
    "X_train"
   ]
  },
  {
   "cell_type": "markdown",
   "metadata": {},
   "source": [
    "---\n",
    "# Parte 2 -Vamos construir uma ANN!\n"
   ]
  },
  {
   "cell_type": "markdown",
   "metadata": {
    "colab_type": "text",
    "id": "KvdeScabXtlB"
   },
   "source": [
    "### Initializing the ANN"
   ]
  },
  {
   "cell_type": "code",
   "execution_count": 12,
   "metadata": {
    "colab": {},
    "colab_type": "code",
    "id": "3dtrScHxXQox"
   },
   "outputs": [
    {
     "name": "stderr",
     "output_type": "stream",
     "text": [
      "2021-10-22 13:05:15.464085: W tensorflow/stream_executor/platform/default/dso_loader.cc:64] Could not load dynamic library 'libcuda.so.1'; dlerror: libcuda.so.1: cannot open shared object file: No such file or directory\n",
      "2021-10-22 13:05:15.464163: W tensorflow/stream_executor/cuda/cuda_driver.cc:269] failed call to cuInit: UNKNOWN ERROR (303)\n",
      "2021-10-22 13:05:15.464221: I tensorflow/stream_executor/cuda/cuda_diagnostics.cc:156] kernel driver does not appear to be running on this host (felipe-300E5M-300E5L): /proc/driver/nvidia/version does not exist\n",
      "2021-10-22 13:05:15.465094: I tensorflow/core/platform/cpu_feature_guard.cc:142] This TensorFlow binary is optimized with oneAPI Deep Neural Network Library (oneDNN) to use the following CPU instructions in performance-critical operations:  AVX2 FMA\n",
      "To enable them in other operations, rebuild TensorFlow with the appropriate compiler flags.\n"
     ]
    }
   ],
   "source": [
    "ann = tf.keras.models.Sequential()"
   ]
  },
  {
   "cell_type": "markdown",
   "metadata": {
    "colab_type": "text",
    "id": "rP6urV6SX7kS"
   },
   "source": [
    "### Adding the input layer and the first hidden layer"
   ]
  },
  {
   "cell_type": "code",
   "execution_count": 13,
   "metadata": {
    "colab": {},
    "colab_type": "code",
    "id": "bppGycBXYCQr"
   },
   "outputs": [],
   "source": [
    "ann.add(tf.keras.layers.Dense(units=6, activation='tanh'))"
   ]
  },
  {
   "cell_type": "markdown",
   "metadata": {
    "colab_type": "text",
    "id": "BELWAc_8YJze"
   },
   "source": [
    "### Adding the second hidden layer"
   ]
  },
  {
   "cell_type": "code",
   "execution_count": 14,
   "metadata": {
    "colab": {},
    "colab_type": "code",
    "id": "JneR0u0sYRTd"
   },
   "outputs": [],
   "source": [
    "ann.add(tf.keras.layers.Dense(units=6, activation='softmax'))"
   ]
  },
  {
   "cell_type": "markdown",
   "metadata": {
    "colab_type": "text",
    "id": "OyNEe6RXYcU4"
   },
   "source": [
    "### Adding the output layer"
   ]
  },
  {
   "cell_type": "code",
   "execution_count": 15,
   "metadata": {
    "colab": {},
    "colab_type": "code",
    "id": "Cn3x41RBYfvY"
   },
   "outputs": [],
   "source": [
    "ann.add(tf.keras.layers.Dense(units=1, activation='sigmoid'))"
   ]
  },
  {
   "cell_type": "markdown",
   "metadata": {
    "colab_type": "text",
    "id": "8GWlJChhY_ZI"
   },
   "source": [
    "### Compiling the ANN"
   ]
  },
  {
   "cell_type": "code",
   "execution_count": 16,
   "metadata": {
    "colab": {},
    "colab_type": "code",
    "id": "fG3RrwDXZEaS"
   },
   "outputs": [],
   "source": [
    "ann.compile(optimizer = 'adam', loss = 'binary_crossentropy', metrics = ['accuracy'])"
   ]
  },
  {
   "cell_type": "markdown",
   "metadata": {
    "colab_type": "text",
    "id": "JT4u2S1_Y4WG"
   },
   "source": [
    "## Part 3 - Training the ANN"
   ]
  },
  {
   "cell_type": "markdown",
   "metadata": {
    "colab_type": "text",
    "id": "0QR_G5u7ZLSM"
   },
   "source": [
    "### Training the ANN on the Training set"
   ]
  },
  {
   "cell_type": "code",
   "execution_count": null,
   "metadata": {
    "colab": {
     "base_uri": "https://localhost:8080/",
     "height": 1000
    },
    "colab_type": "code",
    "id": "nHZ-LKv_ZRb3",
    "outputId": "718cc4b0-b5aa-40f0-9b20-d3d31730a531"
   },
   "outputs": [
    {
     "name": "stderr",
     "output_type": "stream",
     "text": [
      "2021-10-22 13:05:15.749943: I tensorflow/compiler/mlir/mlir_graph_optimization_pass.cc:185] None of the MLIR Optimization Passes are enabled (registered 2)\n"
     ]
    },
    {
     "name": "stdout",
     "output_type": "stream",
     "text": [
      "Epoch 1/115\n",
      "125/125 [==============================] - 1s 1ms/step - loss: 0.6070 - accuracy: 0.7959\n",
      "Epoch 2/115\n",
      "125/125 [==============================] - 0s 1ms/step - loss: 0.5463 - accuracy: 0.7960\n",
      "Epoch 3/115\n",
      "125/125 [==============================] - 0s 2ms/step - loss: 0.5068 - accuracy: 0.7960\n",
      "Epoch 4/115\n",
      "125/125 [==============================] - 0s 1ms/step - loss: 0.4825 - accuracy: 0.7960\n",
      "Epoch 5/115\n",
      "125/125 [==============================] - 0s 1ms/step - loss: 0.4660 - accuracy: 0.7960\n",
      "Epoch 6/115\n",
      "125/125 [==============================] - 0s 977us/step - loss: 0.4529 - accuracy: 0.7960\n",
      "Epoch 7/115\n",
      "125/125 [==============================] - 0s 967us/step - loss: 0.4422 - accuracy: 0.7960\n",
      "Epoch 8/115\n",
      "125/125 [==============================] - 0s 915us/step - loss: 0.4336 - accuracy: 0.8000\n",
      "Epoch 9/115\n",
      "125/125 [==============================] - 0s 1ms/step - loss: 0.4262 - accuracy: 0.8170\n",
      "Epoch 10/115\n",
      "125/125 [==============================] - 0s 2ms/step - loss: 0.4195 - accuracy: 0.8209\n",
      "Epoch 11/115\n",
      "125/125 [==============================] - 0s 1ms/step - loss: 0.4132 - accuracy: 0.8263\n",
      "Epoch 12/115\n",
      "125/125 [==============================] - 0s 1ms/step - loss: 0.4073 - accuracy: 0.8304\n",
      "Epoch 13/115\n",
      "125/125 [==============================] - 0s 971us/step - loss: 0.4017 - accuracy: 0.8338\n",
      "Epoch 14/115\n",
      "125/125 [==============================] - 0s 846us/step - loss: 0.3966 - accuracy: 0.8385\n",
      "Epoch 15/115\n",
      "125/125 [==============================] - 0s 993us/step - loss: 0.3920 - accuracy: 0.8406\n",
      "Epoch 16/115\n",
      "125/125 [==============================] - 0s 876us/step - loss: 0.3878 - accuracy: 0.8425\n",
      "Epoch 17/115\n",
      "125/125 [==============================] - 0s 955us/step - loss: 0.3838 - accuracy: 0.8455\n",
      "Epoch 18/115\n",
      "125/125 [==============================] - 0s 1ms/step - loss: 0.3803 - accuracy: 0.8472\n",
      "Epoch 19/115\n",
      "125/125 [==============================] - 0s 940us/step - loss: 0.3771 - accuracy: 0.8475\n",
      "Epoch 20/115\n",
      "125/125 [==============================] - 0s 1ms/step - loss: 0.3739 - accuracy: 0.8475\n",
      "Epoch 21/115\n",
      "125/125 [==============================] - 0s 870us/step - loss: 0.3711 - accuracy: 0.8491\n",
      "Epoch 22/115\n",
      "125/125 [==============================] - 0s 1ms/step - loss: 0.3685 - accuracy: 0.8500\n",
      "Epoch 23/115\n",
      "125/125 [==============================] - 0s 844us/step - loss: 0.3659 - accuracy: 0.8501\n",
      "Epoch 24/115\n",
      "125/125 [==============================] - 0s 894us/step - loss: 0.3636 - accuracy: 0.8528\n",
      "Epoch 25/115\n",
      "125/125 [==============================] - 0s 908us/step - loss: 0.3613 - accuracy: 0.8535\n",
      "Epoch 26/115\n",
      "125/125 [==============================] - 0s 1ms/step - loss: 0.3593 - accuracy: 0.8544\n",
      "Epoch 27/115\n",
      "125/125 [==============================] - 0s 932us/step - loss: 0.3575 - accuracy: 0.8544\n",
      "Epoch 28/115\n",
      "125/125 [==============================] - 0s 1ms/step - loss: 0.3558 - accuracy: 0.8562\n",
      "Epoch 29/115\n",
      "125/125 [==============================] - 0s 994us/step - loss: 0.3541 - accuracy: 0.8572\n",
      "Epoch 30/115\n",
      "125/125 [==============================] - 0s 1ms/step - loss: 0.3526 - accuracy: 0.8590\n",
      "Epoch 31/115\n",
      "125/125 [==============================] - 0s 2ms/step - loss: 0.3512 - accuracy: 0.8576\n",
      "Epoch 32/115\n",
      "125/125 [==============================] - 0s 2ms/step - loss: 0.3500 - accuracy: 0.8564\n",
      "Epoch 33/115\n",
      "125/125 [==============================] - 0s 1ms/step - loss: 0.3489 - accuracy: 0.8579\n",
      "Epoch 34/115\n",
      "125/125 [==============================] - 0s 1ms/step - loss: 0.3478 - accuracy: 0.8579\n",
      "Epoch 35/115\n",
      "125/125 [==============================] - 0s 1ms/step - loss: 0.3469 - accuracy: 0.8585\n",
      "Epoch 36/115\n",
      "125/125 [==============================] - 0s 963us/step - loss: 0.3460 - accuracy: 0.8591\n",
      "Epoch 37/115\n",
      "125/125 [==============================] - 0s 990us/step - loss: 0.3453 - accuracy: 0.8587\n",
      "Epoch 38/115\n",
      "125/125 [==============================] - 0s 868us/step - loss: 0.3443 - accuracy: 0.8602\n",
      "Epoch 39/115\n",
      "125/125 [==============================] - 0s 903us/step - loss: 0.3442 - accuracy: 0.8593\n",
      "Epoch 40/115\n",
      "125/125 [==============================] - 0s 966us/step - loss: 0.3433 - accuracy: 0.8594\n",
      "Epoch 41/115\n",
      "125/125 [==============================] - 0s 1ms/step - loss: 0.3426 - accuracy: 0.8609\n",
      "Epoch 42/115\n",
      "125/125 [==============================] - 0s 1ms/step - loss: 0.3423 - accuracy: 0.8601\n",
      "Epoch 43/115\n",
      "125/125 [==============================] - 0s 932us/step - loss: 0.3419 - accuracy: 0.8604\n",
      "Epoch 44/115\n",
      "125/125 [==============================] - 0s 947us/step - loss: 0.3413 - accuracy: 0.8596\n",
      "Epoch 45/115\n",
      "125/125 [==============================] - 0s 818us/step - loss: 0.3409 - accuracy: 0.8612\n",
      "Epoch 46/115\n",
      "125/125 [==============================] - 0s 1ms/step - loss: 0.3406 - accuracy: 0.8610\n",
      "Epoch 47/115\n",
      "125/125 [==============================] - 0s 892us/step - loss: 0.3401 - accuracy: 0.8601\n",
      "Epoch 48/115\n",
      "125/125 [==============================] - 0s 885us/step - loss: 0.3398 - accuracy: 0.8610\n",
      "Epoch 49/115\n",
      "125/125 [==============================] - 0s 1ms/step - loss: 0.3394 - accuracy: 0.8596\n",
      "Epoch 50/115\n",
      "125/125 [==============================] - 0s 1ms/step - loss: 0.3393 - accuracy: 0.8596\n",
      "Epoch 51/115\n",
      "125/125 [==============================] - 0s 1ms/step - loss: 0.3388 - accuracy: 0.8618\n",
      "Epoch 52/115\n",
      "125/125 [==============================] - 0s 944us/step - loss: 0.3387 - accuracy: 0.8612\n",
      "Epoch 53/115\n",
      "125/125 [==============================] - 0s 845us/step - loss: 0.3382 - accuracy: 0.8622\n",
      "Epoch 54/115\n",
      "125/125 [==============================] - 0s 2ms/step - loss: 0.3381 - accuracy: 0.8611\n",
      "Epoch 55/115\n",
      "125/125 [==============================] - 0s 1ms/step - loss: 0.3376 - accuracy: 0.8631\n",
      "Epoch 56/115\n",
      "125/125 [==============================] - 0s 1ms/step - loss: 0.3375 - accuracy: 0.8614\n",
      "Epoch 57/115\n",
      "125/125 [==============================] - 0s 887us/step - loss: 0.3375 - accuracy: 0.8633\n",
      "Epoch 58/115\n",
      "125/125 [==============================] - 0s 1ms/step - loss: 0.3375 - accuracy: 0.8618\n",
      "Epoch 59/115\n",
      "125/125 [==============================] - 0s 2ms/step - loss: 0.3370 - accuracy: 0.8622\n",
      "Epoch 60/115\n",
      "125/125 [==============================] - 0s 1ms/step - loss: 0.3366 - accuracy: 0.8622\n",
      "Epoch 61/115\n",
      "125/125 [==============================] - 0s 948us/step - loss: 0.3365 - accuracy: 0.8637\n",
      "Epoch 62/115\n",
      "125/125 [==============================] - 0s 1ms/step - loss: 0.3364 - accuracy: 0.8624\n",
      "Epoch 63/115\n",
      "125/125 [==============================] - 0s 975us/step - loss: 0.3363 - accuracy: 0.8631\n",
      "Epoch 64/115\n",
      "125/125 [==============================] - 0s 1ms/step - loss: 0.3361 - accuracy: 0.8631\n",
      "Epoch 65/115\n",
      "125/125 [==============================] - 0s 880us/step - loss: 0.3359 - accuracy: 0.8641\n",
      "Epoch 66/115\n",
      "125/125 [==============================] - 0s 2ms/step - loss: 0.3357 - accuracy: 0.8651\n",
      "Epoch 67/115\n",
      "125/125 [==============================] - 0s 1ms/step - loss: 0.3357 - accuracy: 0.8631\n",
      "Epoch 68/115\n",
      "125/125 [==============================] - 0s 809us/step - loss: 0.3356 - accuracy: 0.8641\n",
      "Epoch 69/115\n",
      "125/125 [==============================] - 0s 859us/step - loss: 0.3352 - accuracy: 0.8640\n",
      "Epoch 70/115\n",
      "125/125 [==============================] - 0s 2ms/step - loss: 0.3352 - accuracy: 0.8641\n",
      "Epoch 71/115\n",
      " 56/125 [============>.................] - ETA: 0s - loss: 0.3302 - accuracy: 0.8658"
     ]
    }
   ],
   "source": [
    "ann.fit(X_train, y_train, batch_size = 64, epochs = 115)"
   ]
  },
  {
   "cell_type": "markdown",
   "metadata": {},
   "source": [
    "# Parte 3 - Fazendo predições e avaliando o modelo\n",
    "\n",
    "## Prevendo os resultados com o conjunto de testes"
   ]
  },
  {
   "cell_type": "code",
   "execution_count": null,
   "metadata": {},
   "outputs": [],
   "source": [
    "y_pred = ann.predict(X_test)\n",
    "y_pred"
   ]
  },
  {
   "cell_type": "code",
   "execution_count": null,
   "metadata": {},
   "outputs": [],
   "source": [
    "y_pred = (y_pred > 0.5)\n",
    "y_pred"
   ]
  },
  {
   "cell_type": "markdown",
   "metadata": {},
   "source": [
    "# Criando uma Confusion Matrix"
   ]
  },
  {
   "cell_type": "code",
   "execution_count": null,
   "metadata": {},
   "outputs": [],
   "source": [
    "from sklearn.metrics import confusion_matrix\n",
    "cm = confusion_matrix(y_test, y_pred)\n",
    "print(cm)"
   ]
  },
  {
   "cell_type": "markdown",
   "metadata": {},
   "source": [
    "# FIM"
   ]
  },
  {
   "cell_type": "markdown",
   "metadata": {},
   "source": [
    "> Professor Diego Dorgam  \n",
    "> [@diegodorgam](https://twitter.com/diegodorgam)"
   ]
  },
  {
   "cell_type": "code",
   "execution_count": null,
   "metadata": {},
   "outputs": [],
   "source": []
  }
 ],
 "metadata": {
  "kernelspec": {
   "display_name": "Python 3 (ipykernel)",
   "language": "python",
   "name": "python3"
  },
  "language_info": {
   "codemirror_mode": {
    "name": "ipython",
    "version": 3
   },
   "file_extension": ".py",
   "mimetype": "text/x-python",
   "name": "python",
   "nbconvert_exporter": "python",
   "pygments_lexer": "ipython3",
   "version": "3.8.10"
  }
 },
 "nbformat": 4,
 "nbformat_minor": 4
}
