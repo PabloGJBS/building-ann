{
 "cells": [
  {
   "cell_type": "markdown",
   "metadata": {},
   "source": [
    "# REDES NEURAIS ARTIFICIAIS\n",
    "\n",
    "[Aula 3 de Deep Learning](http://bit.ly/dn-unb03) da Engenharia de Software da UnB"
   ]
  },
  {
   "cell_type": "markdown",
   "metadata": {},
   "source": [
    "# Parte 1 - Pré-processamento dos Dados"
   ]
  },
  {
   "cell_type": "markdown",
   "metadata": {},
   "source": [
    "### Importar as libs"
   ]
  },
  {
   "cell_type": "code",
   "execution_count": 1,
   "metadata": {
    "colab": {},
    "colab_type": "code",
    "id": "MxkJoQBkUIHC"
   },
   "outputs": [],
   "source": [
    "import numpy as np\n",
    "import pandas as pd\n",
    "import tensorflow as tf"
   ]
  },
  {
   "cell_type": "code",
   "execution_count": 2,
   "metadata": {
    "colab": {
     "base_uri": "https://localhost:8080/",
     "height": 34
    },
    "colab_type": "code",
    "id": "ZaTwK7ojXr2F",
    "outputId": "0b27a96d-d11a-43e8-ab4b-87c1f01896fe"
   },
   "outputs": [
    {
     "data": {
      "text/plain": [
       "'2.3.1'"
      ]
     },
     "execution_count": 2,
     "metadata": {},
     "output_type": "execute_result"
    }
   ],
   "source": [
    "tf.__version__"
   ]
  },
  {
   "cell_type": "markdown",
   "metadata": {},
   "source": [
    "### Importar o dataset"
   ]
  },
  {
   "cell_type": "code",
   "execution_count": 6,
   "metadata": {},
   "outputs": [
    {
     "data": {
      "text/html": [
       "<div>\n",
       "<style scoped>\n",
       "    .dataframe tbody tr th:only-of-type {\n",
       "        vertical-align: middle;\n",
       "    }\n",
       "\n",
       "    .dataframe tbody tr th {\n",
       "        vertical-align: top;\n",
       "    }\n",
       "\n",
       "    .dataframe thead th {\n",
       "        text-align: right;\n",
       "    }\n",
       "</style>\n",
       "<table border=\"1\" class=\"dataframe\">\n",
       "  <thead>\n",
       "    <tr style=\"text-align: right;\">\n",
       "      <th></th>\n",
       "      <th>RowNumber</th>\n",
       "      <th>CustomerId</th>\n",
       "      <th>Surname</th>\n",
       "      <th>CreditScore</th>\n",
       "      <th>Geography</th>\n",
       "      <th>Gender</th>\n",
       "      <th>Age</th>\n",
       "      <th>Tenure</th>\n",
       "      <th>Balance</th>\n",
       "      <th>NumOfProducts</th>\n",
       "      <th>HasCrCard</th>\n",
       "      <th>IsActiveMember</th>\n",
       "      <th>EstimatedSalary</th>\n",
       "      <th>Exited</th>\n",
       "    </tr>\n",
       "  </thead>\n",
       "  <tbody>\n",
       "    <tr>\n",
       "      <th>0</th>\n",
       "      <td>1</td>\n",
       "      <td>15634602</td>\n",
       "      <td>Hargrave</td>\n",
       "      <td>619</td>\n",
       "      <td>France</td>\n",
       "      <td>Female</td>\n",
       "      <td>42</td>\n",
       "      <td>2</td>\n",
       "      <td>0.00</td>\n",
       "      <td>1</td>\n",
       "      <td>1</td>\n",
       "      <td>1</td>\n",
       "      <td>101348.88</td>\n",
       "      <td>1</td>\n",
       "    </tr>\n",
       "    <tr>\n",
       "      <th>1</th>\n",
       "      <td>2</td>\n",
       "      <td>15647311</td>\n",
       "      <td>Hill</td>\n",
       "      <td>608</td>\n",
       "      <td>Spain</td>\n",
       "      <td>Female</td>\n",
       "      <td>41</td>\n",
       "      <td>1</td>\n",
       "      <td>83807.86</td>\n",
       "      <td>1</td>\n",
       "      <td>0</td>\n",
       "      <td>1</td>\n",
       "      <td>112542.58</td>\n",
       "      <td>0</td>\n",
       "    </tr>\n",
       "    <tr>\n",
       "      <th>2</th>\n",
       "      <td>3</td>\n",
       "      <td>15619304</td>\n",
       "      <td>Onio</td>\n",
       "      <td>502</td>\n",
       "      <td>France</td>\n",
       "      <td>Female</td>\n",
       "      <td>42</td>\n",
       "      <td>8</td>\n",
       "      <td>159660.80</td>\n",
       "      <td>3</td>\n",
       "      <td>1</td>\n",
       "      <td>0</td>\n",
       "      <td>113931.57</td>\n",
       "      <td>1</td>\n",
       "    </tr>\n",
       "    <tr>\n",
       "      <th>3</th>\n",
       "      <td>4</td>\n",
       "      <td>15701354</td>\n",
       "      <td>Boni</td>\n",
       "      <td>699</td>\n",
       "      <td>France</td>\n",
       "      <td>Female</td>\n",
       "      <td>39</td>\n",
       "      <td>1</td>\n",
       "      <td>0.00</td>\n",
       "      <td>2</td>\n",
       "      <td>0</td>\n",
       "      <td>0</td>\n",
       "      <td>93826.63</td>\n",
       "      <td>0</td>\n",
       "    </tr>\n",
       "    <tr>\n",
       "      <th>4</th>\n",
       "      <td>5</td>\n",
       "      <td>15737888</td>\n",
       "      <td>Mitchell</td>\n",
       "      <td>850</td>\n",
       "      <td>Spain</td>\n",
       "      <td>Female</td>\n",
       "      <td>43</td>\n",
       "      <td>2</td>\n",
       "      <td>125510.82</td>\n",
       "      <td>1</td>\n",
       "      <td>1</td>\n",
       "      <td>1</td>\n",
       "      <td>79084.10</td>\n",
       "      <td>0</td>\n",
       "    </tr>\n",
       "    <tr>\n",
       "      <th>5</th>\n",
       "      <td>6</td>\n",
       "      <td>15574012</td>\n",
       "      <td>Chu</td>\n",
       "      <td>645</td>\n",
       "      <td>Spain</td>\n",
       "      <td>Male</td>\n",
       "      <td>44</td>\n",
       "      <td>8</td>\n",
       "      <td>113755.78</td>\n",
       "      <td>2</td>\n",
       "      <td>1</td>\n",
       "      <td>0</td>\n",
       "      <td>149756.71</td>\n",
       "      <td>1</td>\n",
       "    </tr>\n",
       "    <tr>\n",
       "      <th>6</th>\n",
       "      <td>7</td>\n",
       "      <td>15592531</td>\n",
       "      <td>Bartlett</td>\n",
       "      <td>822</td>\n",
       "      <td>France</td>\n",
       "      <td>Male</td>\n",
       "      <td>50</td>\n",
       "      <td>7</td>\n",
       "      <td>0.00</td>\n",
       "      <td>2</td>\n",
       "      <td>1</td>\n",
       "      <td>1</td>\n",
       "      <td>10062.80</td>\n",
       "      <td>0</td>\n",
       "    </tr>\n",
       "    <tr>\n",
       "      <th>7</th>\n",
       "      <td>8</td>\n",
       "      <td>15656148</td>\n",
       "      <td>Obinna</td>\n",
       "      <td>376</td>\n",
       "      <td>Germany</td>\n",
       "      <td>Female</td>\n",
       "      <td>29</td>\n",
       "      <td>4</td>\n",
       "      <td>115046.74</td>\n",
       "      <td>4</td>\n",
       "      <td>1</td>\n",
       "      <td>0</td>\n",
       "      <td>119346.88</td>\n",
       "      <td>1</td>\n",
       "    </tr>\n",
       "    <tr>\n",
       "      <th>8</th>\n",
       "      <td>9</td>\n",
       "      <td>15792365</td>\n",
       "      <td>He</td>\n",
       "      <td>501</td>\n",
       "      <td>France</td>\n",
       "      <td>Male</td>\n",
       "      <td>44</td>\n",
       "      <td>4</td>\n",
       "      <td>142051.07</td>\n",
       "      <td>2</td>\n",
       "      <td>0</td>\n",
       "      <td>1</td>\n",
       "      <td>74940.50</td>\n",
       "      <td>0</td>\n",
       "    </tr>\n",
       "    <tr>\n",
       "      <th>9</th>\n",
       "      <td>10</td>\n",
       "      <td>15592389</td>\n",
       "      <td>H?</td>\n",
       "      <td>684</td>\n",
       "      <td>France</td>\n",
       "      <td>Male</td>\n",
       "      <td>27</td>\n",
       "      <td>2</td>\n",
       "      <td>134603.88</td>\n",
       "      <td>1</td>\n",
       "      <td>1</td>\n",
       "      <td>1</td>\n",
       "      <td>71725.73</td>\n",
       "      <td>0</td>\n",
       "    </tr>\n",
       "  </tbody>\n",
       "</table>\n",
       "</div>"
      ],
      "text/plain": [
       "   RowNumber  CustomerId   Surname  CreditScore Geography  Gender  Age  \\\n",
       "0          1    15634602  Hargrave          619    France  Female   42   \n",
       "1          2    15647311      Hill          608     Spain  Female   41   \n",
       "2          3    15619304      Onio          502    France  Female   42   \n",
       "3          4    15701354      Boni          699    France  Female   39   \n",
       "4          5    15737888  Mitchell          850     Spain  Female   43   \n",
       "5          6    15574012       Chu          645     Spain    Male   44   \n",
       "6          7    15592531  Bartlett          822    France    Male   50   \n",
       "7          8    15656148    Obinna          376   Germany  Female   29   \n",
       "8          9    15792365        He          501    France    Male   44   \n",
       "9         10    15592389        H?          684    France    Male   27   \n",
       "\n",
       "   Tenure    Balance  NumOfProducts  HasCrCard  IsActiveMember  \\\n",
       "0       2       0.00              1          1               1   \n",
       "1       1   83807.86              1          0               1   \n",
       "2       8  159660.80              3          1               0   \n",
       "3       1       0.00              2          0               0   \n",
       "4       2  125510.82              1          1               1   \n",
       "5       8  113755.78              2          1               0   \n",
       "6       7       0.00              2          1               1   \n",
       "7       4  115046.74              4          1               0   \n",
       "8       4  142051.07              2          0               1   \n",
       "9       2  134603.88              1          1               1   \n",
       "\n",
       "   EstimatedSalary  Exited  \n",
       "0        101348.88       1  \n",
       "1        112542.58       0  \n",
       "2        113931.57       1  \n",
       "3         93826.63       0  \n",
       "4         79084.10       0  \n",
       "5        149756.71       1  \n",
       "6         10062.80       0  \n",
       "7        119346.88       1  \n",
       "8         74940.50       0  \n",
       "9         71725.73       0  "
      ]
     },
     "execution_count": 6,
     "metadata": {},
     "output_type": "execute_result"
    }
   ],
   "source": [
    "dataset = pd.read_csv('Churn_Modelling.csv')\n",
    "dataset.head(10)"
   ]
  },
  {
   "cell_type": "code",
   "execution_count": 4,
   "metadata": {},
   "outputs": [
    {
     "data": {
      "text/plain": [
       "France     5014\n",
       "Germany    2509\n",
       "Spain      2477\n",
       "Name: Geography, dtype: int64"
      ]
     },
     "execution_count": 4,
     "metadata": {},
     "output_type": "execute_result"
    }
   ],
   "source": [
    "dataset.Geography.value_counts()"
   ]
  },
  {
   "cell_type": "code",
   "execution_count": 5,
   "metadata": {},
   "outputs": [
    {
     "name": "stdout",
     "output_type": "stream",
     "text": [
      "X >>\n",
      " [[619 'France' 'Female' ... 1 1 101348.88]\n",
      " [608 'Spain' 'Female' ... 0 1 112542.58]\n",
      " [502 'France' 'Female' ... 1 0 113931.57]\n",
      " ...\n",
      " [709 'France' 'Female' ... 0 1 42085.58]\n",
      " [772 'Germany' 'Male' ... 1 0 92888.52]\n",
      " [792 'France' 'Female' ... 1 0 38190.78]]\n",
      "y >>\n",
      " [1 0 1 ... 1 1 0]\n"
     ]
    }
   ],
   "source": [
    "X = dataset.iloc[:, 3:13].values\n",
    "y = dataset.iloc[:, 13].values\n",
    "print(\"X >>\\n\",X)\n",
    "print(\"y >>\\n\",y)"
   ]
  },
  {
   "cell_type": "markdown",
   "metadata": {},
   "source": [
    "### Transformando os dados categóricos\n"
   ]
  },
  {
   "cell_type": "code",
   "execution_count": 7,
   "metadata": {},
   "outputs": [
    {
     "name": "stdout",
     "output_type": "stream",
     "text": [
      "[0 0 0 ... 0 1 0]\n"
     ]
    }
   ],
   "source": [
    "# Label Encoding the \"Gender\" column\n",
    "from sklearn.preprocessing import LabelEncoder\n",
    "le = LabelEncoder()\n",
    "X[:, 2] = le.fit_transform(X[:, 2])\n",
    "print(X[:, 2])"
   ]
  },
  {
   "cell_type": "code",
   "execution_count": 8,
   "metadata": {},
   "outputs": [
    {
     "name": "stdout",
     "output_type": "stream",
     "text": [
      "[[1.0 0.0 0.0 ... 1 1 101348.88]\n",
      " [0.0 0.0 1.0 ... 0 1 112542.58]\n",
      " [1.0 0.0 0.0 ... 1 0 113931.57]\n",
      " ...\n",
      " [1.0 0.0 0.0 ... 0 1 42085.58]\n",
      " [0.0 1.0 0.0 ... 1 0 92888.52]\n",
      " [1.0 0.0 0.0 ... 1 0 38190.78]]\n"
     ]
    }
   ],
   "source": [
    "# One Hot Encoding the \"Geography\" column\n",
    "from sklearn.compose import ColumnTransformer\n",
    "from sklearn.preprocessing import OneHotEncoder\n",
    "ct = ColumnTransformer(transformers=[('encoder', OneHotEncoder(), [1])], remainder='passthrough')\n",
    "X = np.array(ct.fit_transform(X))\n",
    "print(X)"
   ]
  },
  {
   "cell_type": "markdown",
   "metadata": {},
   "source": [
    "# Dividindo o dataset em conjunto de treinamento e conjunto de teste"
   ]
  },
  {
   "cell_type": "code",
   "execution_count": 111,
   "metadata": {},
   "outputs": [],
   "source": [
    "from sklearn.model_selection import train_test_split\n",
    "X_train, X_test, y_train, y_test = train_test_split(X, y, test_size = 0.2, random_state = 5)"
   ]
  },
  {
   "cell_type": "markdown",
   "metadata": {},
   "source": [
    "# Feature Scaling"
   ]
  },
  {
   "cell_type": "code",
   "execution_count": 112,
   "metadata": {},
   "outputs": [],
   "source": [
    "from sklearn.preprocessing import StandardScaler\n",
    "sc = StandardScaler()\n",
    "X_train = sc.fit_transform(X_train)\n",
    "X_test = sc.transform(X_test)"
   ]
  },
  {
   "cell_type": "code",
   "execution_count": 113,
   "metadata": {},
   "outputs": [
    {
     "data": {
      "text/plain": [
       "(8000, 12)"
      ]
     },
     "execution_count": 113,
     "metadata": {},
     "output_type": "execute_result"
    }
   ],
   "source": [
    "np.shape(X_train)"
   ]
  },
  {
   "cell_type": "code",
   "execution_count": 114,
   "metadata": {},
   "outputs": [
    {
     "data": {
      "text/plain": [
       "array([[-0.996257  , -0.58601101,  1.74954671, ..., -1.5482337 ,\n",
       "        -1.02429504, -1.40114775],\n",
       "       [ 1.00375706, -0.58601101, -0.57157662, ...,  0.64589732,\n",
       "        -1.02429504,  1.6776678 ],\n",
       "       [ 1.00375706, -0.58601101, -0.57157662, ...,  0.64589732,\n",
       "         0.97628121,  1.56314435],\n",
       "       ...,\n",
       "       [ 1.00375706, -0.58601101, -0.57157662, ...,  0.64589732,\n",
       "        -1.02429504, -1.51811653],\n",
       "       [ 1.00375706, -0.58601101, -0.57157662, ..., -1.5482337 ,\n",
       "         0.97628121,  1.26396131],\n",
       "       [-0.996257  ,  1.70645259, -0.57157662, ...,  0.64589732,\n",
       "        -1.02429504, -1.08851177]])"
      ]
     },
     "execution_count": 114,
     "metadata": {},
     "output_type": "execute_result"
    }
   ],
   "source": [
    "X_train"
   ]
  },
  {
   "cell_type": "markdown",
   "metadata": {},
   "source": [
    "---\n",
    "# Parte 2 -Vamos construir uma ANN!\n"
   ]
  },
  {
   "cell_type": "markdown",
   "metadata": {
    "colab_type": "text",
    "id": "KvdeScabXtlB"
   },
   "source": [
    "### Initializing the ANN"
   ]
  },
  {
   "cell_type": "code",
   "execution_count": 115,
   "metadata": {
    "colab": {},
    "colab_type": "code",
    "id": "3dtrScHxXQox"
   },
   "outputs": [],
   "source": [
    "ann = tf.keras.models.Sequential()"
   ]
  },
  {
   "cell_type": "markdown",
   "metadata": {
    "colab_type": "text",
    "id": "rP6urV6SX7kS"
   },
   "source": [
    "### Adding the input layer and the first hidden layer"
   ]
  },
  {
   "cell_type": "code",
   "execution_count": 122,
   "metadata": {
    "colab": {},
    "colab_type": "code",
    "id": "bppGycBXYCQr"
   },
   "outputs": [],
   "source": [
    "ann.add(tf.keras.layers.Dense(units=9, activation='elu'))"
   ]
  },
  {
   "cell_type": "markdown",
   "metadata": {},
   "source": [
    "### Adding the second hidden layer"
   ]
  },
  {
   "cell_type": "code",
   "execution_count": 123,
   "metadata": {
    "colab": {},
    "colab_type": "code",
    "id": "JneR0u0sYRTd"
   },
   "outputs": [],
   "source": [
    "ann.add(tf.keras.layers.Dense(units=9, activation='elu'))"
   ]
  },
  {
   "cell_type": "markdown",
   "metadata": {
    "colab_type": "text",
    "id": "OyNEe6RXYcU4"
   },
   "source": [
    "### Adding the output layer"
   ]
  },
  {
   "cell_type": "code",
   "execution_count": 124,
   "metadata": {
    "colab": {},
    "colab_type": "code",
    "id": "Cn3x41RBYfvY"
   },
   "outputs": [],
   "source": [
    "ann.add(tf.keras.layers.Dense(units=1, activation='sigmoid'))"
   ]
  },
  {
   "cell_type": "markdown",
   "metadata": {
    "colab_type": "text",
    "id": "8GWlJChhY_ZI"
   },
   "source": [
    "### Compiling the ANN"
   ]
  },
  {
   "cell_type": "code",
   "execution_count": 125,
   "metadata": {
    "colab": {},
    "colab_type": "code",
    "id": "fG3RrwDXZEaS"
   },
   "outputs": [],
   "source": [
    "ann.compile(optimizer = 'adam', loss = 'binary_crossentropy', metrics = ['accuracy'])"
   ]
  },
  {
   "cell_type": "markdown",
   "metadata": {
    "colab_type": "text",
    "id": "JT4u2S1_Y4WG"
   },
   "source": [
    "## Part 3 - Training the ANN"
   ]
  },
  {
   "cell_type": "markdown",
   "metadata": {
    "colab_type": "text",
    "id": "0QR_G5u7ZLSM"
   },
   "source": [
    "### Training the ANN on the Training set"
   ]
  },
  {
   "cell_type": "code",
   "execution_count": 127,
   "metadata": {
    "colab": {
     "base_uri": "https://localhost:8080/",
     "height": 1000
    },
    "colab_type": "code",
    "id": "nHZ-LKv_ZRb3",
    "outputId": "718cc4b0-b5aa-40f0-9b20-d3d31730a531"
   },
   "outputs": [
    {
     "name": "stdout",
     "output_type": "stream",
     "text": [
      "Epoch 1/150\n",
      "250/250 [==============================] - 0s 2ms/step - loss: 0.3148 - accuracy: 0.8702\n",
      "Epoch 2/150\n",
      "250/250 [==============================] - 0s 2ms/step - loss: 0.3156 - accuracy: 0.8729\n",
      "Epoch 3/150\n",
      "250/250 [==============================] - 0s 1ms/step - loss: 0.3152 - accuracy: 0.8700\n",
      "Epoch 4/150\n",
      "250/250 [==============================] - 0s 1ms/step - loss: 0.3140 - accuracy: 0.8720\n",
      "Epoch 5/150\n",
      "250/250 [==============================] - 0s 1ms/step - loss: 0.3145 - accuracy: 0.8717\n",
      "Epoch 6/150\n",
      "250/250 [==============================] - 0s 1ms/step - loss: 0.3141 - accuracy: 0.8719\n",
      "Epoch 7/150\n",
      "250/250 [==============================] - 0s 2ms/step - loss: 0.3150 - accuracy: 0.8710\n",
      "Epoch 8/150\n",
      "250/250 [==============================] - 0s 2ms/step - loss: 0.3140 - accuracy: 0.8704\n",
      "Epoch 9/150\n",
      "250/250 [==============================] - 0s 1ms/step - loss: 0.3138 - accuracy: 0.8701\n",
      "Epoch 10/150\n",
      "250/250 [==============================] - 0s 1ms/step - loss: 0.3140 - accuracy: 0.8729\n",
      "Epoch 11/150\n",
      "250/250 [==============================] - 1s 2ms/step - loss: 0.3149 - accuracy: 0.8736\n",
      "Epoch 12/150\n",
      "250/250 [==============================] - 0s 2ms/step - loss: 0.3151 - accuracy: 0.8704\n",
      "Epoch 13/150\n",
      "250/250 [==============================] - 1s 2ms/step - loss: 0.3148 - accuracy: 0.8735\n",
      "Epoch 14/150\n",
      "250/250 [==============================] - 0s 2ms/step - loss: 0.3155 - accuracy: 0.8702\n",
      "Epoch 15/150\n",
      "250/250 [==============================] - 0s 1ms/step - loss: 0.3140 - accuracy: 0.8721\n",
      "Epoch 16/150\n",
      "250/250 [==============================] - 0s 1ms/step - loss: 0.3140 - accuracy: 0.8750\n",
      "Epoch 17/150\n",
      "250/250 [==============================] - 0s 1ms/step - loss: 0.3149 - accuracy: 0.8702\n",
      "Epoch 18/150\n",
      "250/250 [==============================] - 0s 2ms/step - loss: 0.3154 - accuracy: 0.8716\n",
      "Epoch 19/150\n",
      "250/250 [==============================] - 0s 2ms/step - loss: 0.3151 - accuracy: 0.8731\n",
      "Epoch 20/150\n",
      "250/250 [==============================] - 0s 1ms/step - loss: 0.3147 - accuracy: 0.8711\n",
      "Epoch 21/150\n",
      "250/250 [==============================] - 0s 2ms/step - loss: 0.3148 - accuracy: 0.8714\n",
      "Epoch 22/150\n",
      "250/250 [==============================] - 0s 1ms/step - loss: 0.3142 - accuracy: 0.8711\n",
      "Epoch 23/150\n",
      "250/250 [==============================] - 0s 2ms/step - loss: 0.3144 - accuracy: 0.8731\n",
      "Epoch 24/150\n",
      "250/250 [==============================] - 0s 1ms/step - loss: 0.3146 - accuracy: 0.8726\n",
      "Epoch 25/150\n",
      "250/250 [==============================] - 0s 1ms/step - loss: 0.3138 - accuracy: 0.8735\n",
      "Epoch 26/150\n",
      "250/250 [==============================] - 1s 3ms/step - loss: 0.3149 - accuracy: 0.8714\n",
      "Epoch 27/150\n",
      "250/250 [==============================] - 0s 2ms/step - loss: 0.3137 - accuracy: 0.8727\n",
      "Epoch 28/150\n",
      "250/250 [==============================] - 0s 2ms/step - loss: 0.3145 - accuracy: 0.8726\n",
      "Epoch 29/150\n",
      "250/250 [==============================] - 1s 2ms/step - loss: 0.3138 - accuracy: 0.8739\n",
      "Epoch 30/150\n",
      "250/250 [==============================] - 0s 2ms/step - loss: 0.3146 - accuracy: 0.8731\n",
      "Epoch 31/150\n",
      "250/250 [==============================] - 0s 1ms/step - loss: 0.3138 - accuracy: 0.8717\n",
      "Epoch 32/150\n",
      "250/250 [==============================] - 0s 1ms/step - loss: 0.3139 - accuracy: 0.8737\n",
      "Epoch 33/150\n",
      "250/250 [==============================] - 1s 2ms/step - loss: 0.3143 - accuracy: 0.8725\n",
      "Epoch 34/150\n",
      "250/250 [==============================] - 1s 2ms/step - loss: 0.3142 - accuracy: 0.8710\n",
      "Epoch 35/150\n",
      "250/250 [==============================] - 1s 2ms/step - loss: 0.3135 - accuracy: 0.8725\n",
      "Epoch 36/150\n",
      "250/250 [==============================] - 1s 3ms/step - loss: 0.3141 - accuracy: 0.8736\n",
      "Epoch 37/150\n",
      "250/250 [==============================] - 1s 2ms/step - loss: 0.3134 - accuracy: 0.8719\n",
      "Epoch 38/150\n",
      "250/250 [==============================] - 0s 2ms/step - loss: 0.3153 - accuracy: 0.8719\n",
      "Epoch 39/150\n",
      "250/250 [==============================] - 0s 2ms/step - loss: 0.3145 - accuracy: 0.8727\n",
      "Epoch 40/150\n",
      "250/250 [==============================] - 0s 2ms/step - loss: 0.3139 - accuracy: 0.8729\n",
      "Epoch 41/150\n",
      "250/250 [==============================] - 0s 1ms/step - loss: 0.3138 - accuracy: 0.8739\n",
      "Epoch 42/150\n",
      "250/250 [==============================] - 0s 2ms/step - loss: 0.3144 - accuracy: 0.8730\n",
      "Epoch 43/150\n",
      "250/250 [==============================] - 0s 2ms/step - loss: 0.3137 - accuracy: 0.8721\n",
      "Epoch 44/150\n",
      "250/250 [==============================] - 0s 1ms/step - loss: 0.3131 - accuracy: 0.8725\n",
      "Epoch 45/150\n",
      "250/250 [==============================] - 0s 2ms/step - loss: 0.3134 - accuracy: 0.8734\n",
      "Epoch 46/150\n",
      "250/250 [==============================] - 0s 2ms/step - loss: 0.3132 - accuracy: 0.8735\n",
      "Epoch 47/150\n",
      "250/250 [==============================] - 1s 3ms/step - loss: 0.3150 - accuracy: 0.8735\n",
      "Epoch 48/150\n",
      "250/250 [==============================] - 0s 2ms/step - loss: 0.3139 - accuracy: 0.8727\n",
      "Epoch 49/150\n",
      "250/250 [==============================] - 1s 2ms/step - loss: 0.3139 - accuracy: 0.8734\n",
      "Epoch 50/150\n",
      "250/250 [==============================] - 0s 2ms/step - loss: 0.3133 - accuracy: 0.8717\n",
      "Epoch 51/150\n",
      "250/250 [==============================] - 0s 1ms/step - loss: 0.3138 - accuracy: 0.8719\n",
      "Epoch 52/150\n",
      "250/250 [==============================] - 0s 2ms/step - loss: 0.3130 - accuracy: 0.8716\n",
      "Epoch 53/150\n",
      "250/250 [==============================] - 0s 1ms/step - loss: 0.3146 - accuracy: 0.8726\n",
      "Epoch 54/150\n",
      "250/250 [==============================] - 0s 1ms/step - loss: 0.3138 - accuracy: 0.8712\n",
      "Epoch 55/150\n",
      "250/250 [==============================] - 0s 2ms/step - loss: 0.3136 - accuracy: 0.8751\n",
      "Epoch 56/150\n",
      "250/250 [==============================] - 1s 2ms/step - loss: 0.3133 - accuracy: 0.8723\n",
      "Epoch 57/150\n",
      "250/250 [==============================] - 1s 2ms/step - loss: 0.3137 - accuracy: 0.8706\n",
      "Epoch 58/150\n",
      "250/250 [==============================] - 1s 2ms/step - loss: 0.3128 - accuracy: 0.8726\n",
      "Epoch 59/150\n",
      "250/250 [==============================] - 0s 2ms/step - loss: 0.3130 - accuracy: 0.8730\n",
      "Epoch 60/150\n",
      "250/250 [==============================] - 0s 2ms/step - loss: 0.3137 - accuracy: 0.8740\n",
      "Epoch 61/150\n",
      "250/250 [==============================] - 1s 3ms/step - loss: 0.3133 - accuracy: 0.8739\n",
      "Epoch 62/150\n",
      "250/250 [==============================] - 0s 2ms/step - loss: 0.3128 - accuracy: 0.8741\n",
      "Epoch 63/150\n",
      "250/250 [==============================] - 1s 2ms/step - loss: 0.3125 - accuracy: 0.8741\n",
      "Epoch 64/150\n",
      "250/250 [==============================] - 0s 2ms/step - loss: 0.3136 - accuracy: 0.8727\n",
      "Epoch 65/150\n",
      "250/250 [==============================] - 0s 2ms/step - loss: 0.3146 - accuracy: 0.8725\n",
      "Epoch 66/150\n",
      "250/250 [==============================] - 1s 2ms/step - loss: 0.3140 - accuracy: 0.8731\n",
      "Epoch 67/150\n",
      "250/250 [==============================] - 0s 2ms/step - loss: 0.3145 - accuracy: 0.8720\n",
      "Epoch 68/150\n",
      "250/250 [==============================] - 0s 2ms/step - loss: 0.3131 - accuracy: 0.8723\n",
      "Epoch 69/150\n",
      "250/250 [==============================] - 1s 2ms/step - loss: 0.3134 - accuracy: 0.8736\n",
      "Epoch 70/150\n",
      "250/250 [==============================] - 0s 2ms/step - loss: 0.3126 - accuracy: 0.8739\n",
      "Epoch 71/150\n",
      "250/250 [==============================] - 0s 2ms/step - loss: 0.3139 - accuracy: 0.8741\n",
      "Epoch 72/150\n",
      "250/250 [==============================] - 1s 2ms/step - loss: 0.3132 - accuracy: 0.8724\n",
      "Epoch 73/150\n",
      "250/250 [==============================] - 0s 2ms/step - loss: 0.3132 - accuracy: 0.8733\n",
      "Epoch 74/150\n",
      "250/250 [==============================] - 0s 2ms/step - loss: 0.3135 - accuracy: 0.8740\n",
      "Epoch 75/150\n",
      "250/250 [==============================] - 0s 2ms/step - loss: 0.3127 - accuracy: 0.8726\n",
      "Epoch 76/150\n",
      "250/250 [==============================] - 0s 2ms/step - loss: 0.3128 - accuracy: 0.8729\n",
      "Epoch 77/150\n",
      "250/250 [==============================] - 0s 2ms/step - loss: 0.3132 - accuracy: 0.8735\n",
      "Epoch 78/150\n",
      "250/250 [==============================] - 0s 2ms/step - loss: 0.3129 - accuracy: 0.8745\n",
      "Epoch 79/150\n",
      "250/250 [==============================] - 0s 2ms/step - loss: 0.3130 - accuracy: 0.8734\n",
      "Epoch 80/150\n",
      "250/250 [==============================] - 0s 1ms/step - loss: 0.3137 - accuracy: 0.8720\n",
      "Epoch 81/150\n"
     ]
    },
    {
     "name": "stdout",
     "output_type": "stream",
     "text": [
      "250/250 [==============================] - 0s 1ms/step - loss: 0.3135 - accuracy: 0.8730\n",
      "Epoch 82/150\n",
      "250/250 [==============================] - 0s 1ms/step - loss: 0.3138 - accuracy: 0.8736\n",
      "Epoch 83/150\n",
      "250/250 [==============================] - 0s 1ms/step - loss: 0.3137 - accuracy: 0.8726\n",
      "Epoch 84/150\n",
      "250/250 [==============================] - 0s 1ms/step - loss: 0.3131 - accuracy: 0.8736\n",
      "Epoch 85/150\n",
      "250/250 [==============================] - 0s 1ms/step - loss: 0.3126 - accuracy: 0.8731\n",
      "Epoch 86/150\n",
      "250/250 [==============================] - 0s 1ms/step - loss: 0.3127 - accuracy: 0.8730\n",
      "Epoch 87/150\n",
      "250/250 [==============================] - 0s 1ms/step - loss: 0.3130 - accuracy: 0.8734\n",
      "Epoch 88/150\n",
      "250/250 [==============================] - 0s 1ms/step - loss: 0.3133 - accuracy: 0.8739\n",
      "Epoch 89/150\n",
      "250/250 [==============================] - 0s 1ms/step - loss: 0.3123 - accuracy: 0.8734\n",
      "Epoch 90/150\n",
      "250/250 [==============================] - 0s 1ms/step - loss: 0.3137 - accuracy: 0.8717\n",
      "Epoch 91/150\n",
      "250/250 [==============================] - 0s 1ms/step - loss: 0.3118 - accuracy: 0.8734\n",
      "Epoch 92/150\n",
      "250/250 [==============================] - 0s 1ms/step - loss: 0.3127 - accuracy: 0.8734\n",
      "Epoch 93/150\n",
      "250/250 [==============================] - 0s 1ms/step - loss: 0.3126 - accuracy: 0.8734\n",
      "Epoch 94/150\n",
      "250/250 [==============================] - 0s 1ms/step - loss: 0.3119 - accuracy: 0.8751\n",
      "Epoch 95/150\n",
      "250/250 [==============================] - 0s 1ms/step - loss: 0.3120 - accuracy: 0.8756\n",
      "Epoch 96/150\n",
      "250/250 [==============================] - 0s 1ms/step - loss: 0.3131 - accuracy: 0.8715\n",
      "Epoch 97/150\n",
      "250/250 [==============================] - 0s 1ms/step - loss: 0.3122 - accuracy: 0.8746\n",
      "Epoch 98/150\n",
      "250/250 [==============================] - 0s 1ms/step - loss: 0.3129 - accuracy: 0.8739\n",
      "Epoch 99/150\n",
      "250/250 [==============================] - 0s 1ms/step - loss: 0.3130 - accuracy: 0.8725\n",
      "Epoch 100/150\n",
      "250/250 [==============================] - 0s 1ms/step - loss: 0.3127 - accuracy: 0.8734\n",
      "Epoch 101/150\n",
      "250/250 [==============================] - 0s 1ms/step - loss: 0.3131 - accuracy: 0.8720\n",
      "Epoch 102/150\n",
      "250/250 [==============================] - 0s 1ms/step - loss: 0.3129 - accuracy: 0.8719\n",
      "Epoch 103/150\n",
      "250/250 [==============================] - 0s 1ms/step - loss: 0.3118 - accuracy: 0.8733\n",
      "Epoch 104/150\n",
      "250/250 [==============================] - 0s 1ms/step - loss: 0.3137 - accuracy: 0.8740\n",
      "Epoch 105/150\n",
      "250/250 [==============================] - 0s 1ms/step - loss: 0.3118 - accuracy: 0.8736\n",
      "Epoch 106/150\n",
      "250/250 [==============================] - 0s 1ms/step - loss: 0.3123 - accuracy: 0.8720\n",
      "Epoch 107/150\n",
      "250/250 [==============================] - 0s 1ms/step - loss: 0.3125 - accuracy: 0.8741\n",
      "Epoch 108/150\n",
      "250/250 [==============================] - 0s 1ms/step - loss: 0.3116 - accuracy: 0.8733\n",
      "Epoch 109/150\n",
      "250/250 [==============================] - 0s 1ms/step - loss: 0.3126 - accuracy: 0.8734\n",
      "Epoch 110/150\n",
      "250/250 [==============================] - 0s 1ms/step - loss: 0.3124 - accuracy: 0.8731\n",
      "Epoch 111/150\n",
      "250/250 [==============================] - 0s 1ms/step - loss: 0.3128 - accuracy: 0.8729\n",
      "Epoch 112/150\n",
      "250/250 [==============================] - 0s 1ms/step - loss: 0.3128 - accuracy: 0.8712\n",
      "Epoch 113/150\n",
      "250/250 [==============================] - 0s 1ms/step - loss: 0.3129 - accuracy: 0.8735\n",
      "Epoch 114/150\n",
      "250/250 [==============================] - 0s 1ms/step - loss: 0.3132 - accuracy: 0.8719\n",
      "Epoch 115/150\n",
      "250/250 [==============================] - 0s 1ms/step - loss: 0.3119 - accuracy: 0.8734\n",
      "Epoch 116/150\n",
      "250/250 [==============================] - 0s 1ms/step - loss: 0.3123 - accuracy: 0.8733\n",
      "Epoch 117/150\n",
      "250/250 [==============================] - 0s 1ms/step - loss: 0.3125 - accuracy: 0.8725\n",
      "Epoch 118/150\n",
      "250/250 [==============================] - 0s 1ms/step - loss: 0.3122 - accuracy: 0.8733\n",
      "Epoch 119/150\n",
      "250/250 [==============================] - 0s 1ms/step - loss: 0.3122 - accuracy: 0.8719\n",
      "Epoch 120/150\n",
      "250/250 [==============================] - 0s 1ms/step - loss: 0.3126 - accuracy: 0.8731\n",
      "Epoch 121/150\n",
      "250/250 [==============================] - 0s 1ms/step - loss: 0.3121 - accuracy: 0.8731\n",
      "Epoch 122/150\n",
      "250/250 [==============================] - 0s 1ms/step - loss: 0.3119 - accuracy: 0.8735\n",
      "Epoch 123/150\n",
      "250/250 [==============================] - 0s 1ms/step - loss: 0.3125 - accuracy: 0.8730\n",
      "Epoch 124/150\n",
      "250/250 [==============================] - 0s 1ms/step - loss: 0.3134 - accuracy: 0.8719\n",
      "Epoch 125/150\n",
      "250/250 [==============================] - 0s 1ms/step - loss: 0.3129 - accuracy: 0.8726\n",
      "Epoch 126/150\n",
      "250/250 [==============================] - 0s 1ms/step - loss: 0.3128 - accuracy: 0.8741\n",
      "Epoch 127/150\n",
      "250/250 [==============================] - 0s 1ms/step - loss: 0.3127 - accuracy: 0.8724\n",
      "Epoch 128/150\n",
      "250/250 [==============================] - 0s 1ms/step - loss: 0.3121 - accuracy: 0.8721\n",
      "Epoch 129/150\n",
      "250/250 [==============================] - 0s 1ms/step - loss: 0.3119 - accuracy: 0.8715\n",
      "Epoch 130/150\n",
      "250/250 [==============================] - 0s 1ms/step - loss: 0.3119 - accuracy: 0.8740\n",
      "Epoch 131/150\n",
      "250/250 [==============================] - 0s 1ms/step - loss: 0.3127 - accuracy: 0.8745\n",
      "Epoch 132/150\n",
      "250/250 [==============================] - 0s 1ms/step - loss: 0.3131 - accuracy: 0.8719\n",
      "Epoch 133/150\n",
      "250/250 [==============================] - 0s 1ms/step - loss: 0.3123 - accuracy: 0.8717\n",
      "Epoch 134/150\n",
      "250/250 [==============================] - 0s 1ms/step - loss: 0.3119 - accuracy: 0.8731\n",
      "Epoch 135/150\n",
      "250/250 [==============================] - 0s 1ms/step - loss: 0.3123 - accuracy: 0.8721\n",
      "Epoch 136/150\n",
      "250/250 [==============================] - 0s 1ms/step - loss: 0.3122 - accuracy: 0.8723\n",
      "Epoch 137/150\n",
      "250/250 [==============================] - 0s 1ms/step - loss: 0.3128 - accuracy: 0.8737\n",
      "Epoch 138/150\n",
      "250/250 [==============================] - 0s 1ms/step - loss: 0.3120 - accuracy: 0.8729\n",
      "Epoch 139/150\n",
      "250/250 [==============================] - 0s 1ms/step - loss: 0.3129 - accuracy: 0.8733\n",
      "Epoch 140/150\n",
      "250/250 [==============================] - 0s 1ms/step - loss: 0.3113 - accuracy: 0.8742\n",
      "Epoch 141/150\n",
      "250/250 [==============================] - 0s 1ms/step - loss: 0.3121 - accuracy: 0.8735\n",
      "Epoch 142/150\n",
      "250/250 [==============================] - 0s 1ms/step - loss: 0.3118 - accuracy: 0.8735\n",
      "Epoch 143/150\n",
      "250/250 [==============================] - 0s 1ms/step - loss: 0.3119 - accuracy: 0.8729\n",
      "Epoch 144/150\n",
      "250/250 [==============================] - 0s 1ms/step - loss: 0.3121 - accuracy: 0.8729\n",
      "Epoch 145/150\n",
      "250/250 [==============================] - 0s 1ms/step - loss: 0.3116 - accuracy: 0.8745\n",
      "Epoch 146/150\n",
      "250/250 [==============================] - 0s 1ms/step - loss: 0.3124 - accuracy: 0.8758\n",
      "Epoch 147/150\n",
      "250/250 [==============================] - 0s 1ms/step - loss: 0.3111 - accuracy: 0.8734\n",
      "Epoch 148/150\n",
      "250/250 [==============================] - 0s 1ms/step - loss: 0.3117 - accuracy: 0.8745\n",
      "Epoch 149/150\n",
      "250/250 [==============================] - 0s 1ms/step - loss: 0.3114 - accuracy: 0.8724\n",
      "Epoch 150/150\n",
      "250/250 [==============================] - 0s 1ms/step - loss: 0.3120 - accuracy: 0.8726\n"
     ]
    },
    {
     "data": {
      "text/plain": [
       "<tensorflow.python.keras.callbacks.History at 0x7f8eb44fe9a0>"
      ]
     },
     "execution_count": 127,
     "metadata": {},
     "output_type": "execute_result"
    }
   ],
   "source": [
    "ann.fit(X_train, y_train, batch_size = 32, epochs = 150)"
   ]
  },
  {
   "cell_type": "markdown",
   "metadata": {},
   "source": [
    "# Parte 3 - Fazendo predições e avaliando o modelo\n",
    "\n",
    "## Prevendo os resultados com o conjunto de testes"
   ]
  },
  {
   "cell_type": "code",
   "execution_count": 128,
   "metadata": {},
   "outputs": [
    {
     "data": {
      "text/plain": [
       "array([[0.03116068],\n",
       "       [0.0374501 ],\n",
       "       [0.0718241 ],\n",
       "       ...,\n",
       "       [0.0242115 ],\n",
       "       [0.04457402],\n",
       "       [0.06158975]], dtype=float32)"
      ]
     },
     "execution_count": 128,
     "metadata": {},
     "output_type": "execute_result"
    }
   ],
   "source": [
    "y_pred = ann.predict(X_test)\n",
    "y_pred"
   ]
  },
  {
   "cell_type": "code",
   "execution_count": 129,
   "metadata": {},
   "outputs": [
    {
     "data": {
      "text/plain": [
       "array([[False],\n",
       "       [False],\n",
       "       [False],\n",
       "       ...,\n",
       "       [False],\n",
       "       [False],\n",
       "       [False]])"
      ]
     },
     "execution_count": 129,
     "metadata": {},
     "output_type": "execute_result"
    }
   ],
   "source": [
    "y_pred = (y_pred > 0.5)\n",
    "y_pred"
   ]
  },
  {
   "cell_type": "markdown",
   "metadata": {},
   "source": [
    "# Criando uma Confusion Matrix"
   ]
  },
  {
   "cell_type": "code",
   "execution_count": 130,
   "metadata": {},
   "outputs": [
    {
     "name": "stdout",
     "output_type": "stream",
     "text": [
      "[[1507   88]\n",
      " [ 217  188]]\n"
     ]
    }
   ],
   "source": [
    "from sklearn.metrics import confusion_matrix\n",
    "cm = confusion_matrix(y_test, y_pred)\n",
    "print(cm)"
   ]
  },
  {
   "cell_type": "markdown",
   "metadata": {},
   "source": [
    "# FIM"
   ]
  },
  {
   "cell_type": "markdown",
   "metadata": {},
   "source": [
    "> Professor Diego Dorgam  \n",
    "> [@diegodorgam](https://twitter.com/diegodorgam)"
   ]
  }
 ],
 "metadata": {
  "kernelspec": {
   "display_name": "Python 3",
   "language": "python",
   "name": "python3"
  },
  "language_info": {
   "codemirror_mode": {
    "name": "ipython",
    "version": 3
   },
   "file_extension": ".py",
   "mimetype": "text/x-python",
   "name": "python",
   "nbconvert_exporter": "python",
   "pygments_lexer": "ipython3",
   "version": "3.8.8"
  }
 },
 "nbformat": 4,
 "nbformat_minor": 4
}
