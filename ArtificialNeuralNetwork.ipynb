{
 "cells": [
  {
   "cell_type": "markdown",
   "metadata": {},
   "source": [
    "# REDES NEURAIS ARTIFICIAIS\n",
    "\n",
    "[Aula 3 de Deep Learning](http://bit.ly/dn-unb03) da Engenharia de Software da UnB"
   ]
  },
  {
   "cell_type": "markdown",
   "metadata": {},
   "source": [
    "# Parte 1 - Pré-processamento dos Dados"
   ]
  },
  {
   "cell_type": "markdown",
   "metadata": {},
   "source": [
    "### Importar as libs"
   ]
  },
  {
   "cell_type": "code",
   "execution_count": 22,
   "metadata": {
    "colab": {},
    "colab_type": "code",
    "id": "MxkJoQBkUIHC"
   },
   "outputs": [],
   "source": [
    "import numpy as np\n",
    "import pandas as pd\n",
    "import tensorflow as tf"
   ]
  },
  {
   "cell_type": "code",
   "execution_count": 23,
   "metadata": {
    "colab": {
     "base_uri": "https://localhost:8080/",
     "height": 34
    },
    "colab_type": "code",
    "id": "ZaTwK7ojXr2F",
    "outputId": "0b27a96d-d11a-43e8-ab4b-87c1f01896fe"
   },
   "outputs": [
    {
     "data": {
      "text/plain": [
       "'1.14.0'"
      ]
     },
     "execution_count": 23,
     "metadata": {},
     "output_type": "execute_result"
    }
   ],
   "source": [
    "tf.__version__"
   ]
  },
  {
   "cell_type": "code",
   "execution_count": 24,
   "metadata": {},
   "outputs": [
    {
     "data": {
      "text/html": [
       "<div>\n",
       "<style scoped>\n",
       "    .dataframe tbody tr th:only-of-type {\n",
       "        vertical-align: middle;\n",
       "    }\n",
       "\n",
       "    .dataframe tbody tr th {\n",
       "        vertical-align: top;\n",
       "    }\n",
       "\n",
       "    .dataframe thead th {\n",
       "        text-align: right;\n",
       "    }\n",
       "</style>\n",
       "<table border=\"1\" class=\"dataframe\">\n",
       "  <thead>\n",
       "    <tr style=\"text-align: right;\">\n",
       "      <th></th>\n",
       "      <th>RowNumber</th>\n",
       "      <th>CustomerId</th>\n",
       "      <th>Surname</th>\n",
       "      <th>CreditScore</th>\n",
       "      <th>Geography</th>\n",
       "      <th>Gender</th>\n",
       "      <th>Age</th>\n",
       "      <th>Tenure</th>\n",
       "      <th>Balance</th>\n",
       "      <th>NumOfProducts</th>\n",
       "      <th>HasCrCard</th>\n",
       "      <th>IsActiveMember</th>\n",
       "      <th>EstimatedSalary</th>\n",
       "      <th>Exited</th>\n",
       "    </tr>\n",
       "  </thead>\n",
       "  <tbody>\n",
       "    <tr>\n",
       "      <th>0</th>\n",
       "      <td>1</td>\n",
       "      <td>15634602</td>\n",
       "      <td>Hargrave</td>\n",
       "      <td>619</td>\n",
       "      <td>France</td>\n",
       "      <td>Female</td>\n",
       "      <td>42</td>\n",
       "      <td>2</td>\n",
       "      <td>0.00</td>\n",
       "      <td>1</td>\n",
       "      <td>1</td>\n",
       "      <td>1</td>\n",
       "      <td>101348.88</td>\n",
       "      <td>1</td>\n",
       "    </tr>\n",
       "    <tr>\n",
       "      <th>1</th>\n",
       "      <td>2</td>\n",
       "      <td>15647311</td>\n",
       "      <td>Hill</td>\n",
       "      <td>608</td>\n",
       "      <td>Spain</td>\n",
       "      <td>Female</td>\n",
       "      <td>41</td>\n",
       "      <td>1</td>\n",
       "      <td>83807.86</td>\n",
       "      <td>1</td>\n",
       "      <td>0</td>\n",
       "      <td>1</td>\n",
       "      <td>112542.58</td>\n",
       "      <td>0</td>\n",
       "    </tr>\n",
       "    <tr>\n",
       "      <th>2</th>\n",
       "      <td>3</td>\n",
       "      <td>15619304</td>\n",
       "      <td>Onio</td>\n",
       "      <td>502</td>\n",
       "      <td>France</td>\n",
       "      <td>Female</td>\n",
       "      <td>42</td>\n",
       "      <td>8</td>\n",
       "      <td>159660.80</td>\n",
       "      <td>3</td>\n",
       "      <td>1</td>\n",
       "      <td>0</td>\n",
       "      <td>113931.57</td>\n",
       "      <td>1</td>\n",
       "    </tr>\n",
       "    <tr>\n",
       "      <th>3</th>\n",
       "      <td>4</td>\n",
       "      <td>15701354</td>\n",
       "      <td>Boni</td>\n",
       "      <td>699</td>\n",
       "      <td>France</td>\n",
       "      <td>Female</td>\n",
       "      <td>39</td>\n",
       "      <td>1</td>\n",
       "      <td>0.00</td>\n",
       "      <td>2</td>\n",
       "      <td>0</td>\n",
       "      <td>0</td>\n",
       "      <td>93826.63</td>\n",
       "      <td>0</td>\n",
       "    </tr>\n",
       "    <tr>\n",
       "      <th>4</th>\n",
       "      <td>5</td>\n",
       "      <td>15737888</td>\n",
       "      <td>Mitchell</td>\n",
       "      <td>850</td>\n",
       "      <td>Spain</td>\n",
       "      <td>Female</td>\n",
       "      <td>43</td>\n",
       "      <td>2</td>\n",
       "      <td>125510.82</td>\n",
       "      <td>1</td>\n",
       "      <td>1</td>\n",
       "      <td>1</td>\n",
       "      <td>79084.10</td>\n",
       "      <td>0</td>\n",
       "    </tr>\n",
       "  </tbody>\n",
       "</table>\n",
       "</div>"
      ],
      "text/plain": [
       "   RowNumber  CustomerId   Surname  CreditScore Geography  Gender  Age  \\\n",
       "0          1    15634602  Hargrave          619    France  Female   42   \n",
       "1          2    15647311      Hill          608     Spain  Female   41   \n",
       "2          3    15619304      Onio          502    France  Female   42   \n",
       "3          4    15701354      Boni          699    France  Female   39   \n",
       "4          5    15737888  Mitchell          850     Spain  Female   43   \n",
       "\n",
       "   Tenure    Balance  NumOfProducts  HasCrCard  IsActiveMember  \\\n",
       "0       2       0.00              1          1               1   \n",
       "1       1   83807.86              1          0               1   \n",
       "2       8  159660.80              3          1               0   \n",
       "3       1       0.00              2          0               0   \n",
       "4       2  125510.82              1          1               1   \n",
       "\n",
       "   EstimatedSalary  Exited  \n",
       "0        101348.88       1  \n",
       "1        112542.58       0  \n",
       "2        113931.57       1  \n",
       "3         93826.63       0  \n",
       "4         79084.10       0  "
      ]
     },
     "execution_count": 24,
     "metadata": {},
     "output_type": "execute_result"
    }
   ],
   "source": [
    "dataset = pd.read_csv('Churn_Modelling.csv')\n",
    "dataset.head()"
   ]
  },
  {
   "cell_type": "markdown",
   "metadata": {},
   "source": [
    "### Importar o dataset"
   ]
  },
  {
   "cell_type": "code",
   "execution_count": 25,
   "metadata": {},
   "outputs": [
    {
     "name": "stdout",
     "output_type": "stream",
     "text": [
      "('X >>\\n', array([[619, 'France', 'Female', ..., 1, 1, 101348.88],\n",
      "       [608, 'Spain', 'Female', ..., 0, 1, 112542.58],\n",
      "       [502, 'France', 'Female', ..., 1, 0, 113931.57],\n",
      "       ...,\n",
      "       [709, 'France', 'Female', ..., 0, 1, 42085.58],\n",
      "       [772, 'Germany', 'Male', ..., 1, 0, 92888.52],\n",
      "       [792, 'France', 'Female', ..., 1, 0, 38190.78]], dtype=object))\n",
      "('y >>\\n', array([1, 0, 1, ..., 1, 1, 0]))\n"
     ]
    }
   ],
   "source": [
    "X = dataset.iloc[:, 3:13].values\n",
    "y = dataset.iloc[:, 13].values\n",
    "print(\"X >>\\n\",X)\n",
    "print(\"y >>\\n\",y)"
   ]
  },
  {
   "cell_type": "markdown",
   "metadata": {},
   "source": [
    "### Transformando os dados categóricos\n"
   ]
  },
  {
   "cell_type": "code",
   "execution_count": 26,
   "metadata": {},
   "outputs": [
    {
     "name": "stdout",
     "output_type": "stream",
     "text": [
      "[[619 'France' 0 ... 1 1 101348.88]\n",
      " [608 'Spain' 0 ... 0 1 112542.58]\n",
      " [502 'France' 0 ... 1 0 113931.57]\n",
      " ...\n",
      " [709 'France' 0 ... 0 1 42085.58]\n",
      " [772 'Germany' 1 ... 1 0 92888.52]\n",
      " [792 'France' 0 ... 1 0 38190.78]]\n",
      "[[1.0 0.0 0.0 ... 1 1 101348.88]\n",
      " [0.0 0.0 1.0 ... 0 1 112542.58]\n",
      " [1.0 0.0 0.0 ... 1 0 113931.57]\n",
      " ...\n",
      " [1.0 0.0 0.0 ... 0 1 42085.58]\n",
      " [0.0 1.0 0.0 ... 1 0 92888.52]\n",
      " [1.0 0.0 0.0 ... 1 0 38190.78]]\n"
     ]
    }
   ],
   "source": [
    "# Label Encoding the \"Gender\" column\n",
    "from sklearn.preprocessing import LabelEncoder\n",
    "le = LabelEncoder()\n",
    "X[:, 2] = le.fit_transform(X[:, 2])\n",
    "print(X)\n",
    "# One Hot Encoding the \"Geography\" column\n",
    "from sklearn.compose import ColumnTransformer\n",
    "from sklearn.preprocessing import OneHotEncoder\n",
    "ct = ColumnTransformer(transformers=[('encoder', OneHotEncoder(), [1])], remainder='passthrough')\n",
    "X = np.array(ct.fit_transform(X))\n",
    "print(X)"
   ]
  },
  {
   "cell_type": "markdown",
   "metadata": {},
   "source": [
    "# Dividindo o dataset em conjunto de treinamento e conjunto de teste"
   ]
  },
  {
   "cell_type": "code",
   "execution_count": 27,
   "metadata": {},
   "outputs": [],
   "source": [
    "from sklearn.model_selection import train_test_split\n",
    "X_train, X_test, y_train, y_test = train_test_split(X, y, test_size = 0.2, random_state = 0)"
   ]
  },
  {
   "cell_type": "markdown",
   "metadata": {},
   "source": [
    "# Feature Scaling"
   ]
  },
  {
   "cell_type": "code",
   "execution_count": 28,
   "metadata": {},
   "outputs": [],
   "source": [
    "from sklearn.preprocessing import StandardScaler\n",
    "sc = StandardScaler()\n",
    "X_train = sc.fit_transform(X_train)\n",
    "X_test = sc.transform(X_test)"
   ]
  },
  {
   "cell_type": "code",
   "execution_count": 29,
   "metadata": {},
   "outputs": [
    {
     "data": {
      "text/plain": [
       "(8000, 12)"
      ]
     },
     "execution_count": 29,
     "metadata": {},
     "output_type": "execute_result"
    }
   ],
   "source": [
    "np.shape(X_train)"
   ]
  },
  {
   "cell_type": "markdown",
   "metadata": {},
   "source": [
    "---\n",
    "# Parte 2 -Vamos construir uma ANN!\n"
   ]
  },
  {
   "cell_type": "markdown",
   "metadata": {
    "colab_type": "text",
    "id": "KvdeScabXtlB"
   },
   "source": [
    "### Initializing the ANN"
   ]
  },
  {
   "cell_type": "code",
   "execution_count": 30,
   "metadata": {
    "colab": {},
    "colab_type": "code",
    "id": "3dtrScHxXQox"
   },
   "outputs": [],
   "source": [
    "ann = tf.keras.models.Sequential()"
   ]
  },
  {
   "cell_type": "markdown",
   "metadata": {
    "colab_type": "text",
    "id": "rP6urV6SX7kS"
   },
   "source": [
    "### Adding the input layer and the first hidden layer"
   ]
  },
  {
   "cell_type": "code",
   "execution_count": 31,
   "metadata": {
    "colab": {},
    "colab_type": "code",
    "id": "bppGycBXYCQr"
   },
   "outputs": [],
   "source": [
    "ann.add(tf.keras.layers.Dense(units=6, activation='sigmoid'))"
   ]
  },
  {
   "cell_type": "markdown",
   "metadata": {
    "colab_type": "text",
    "id": "BELWAc_8YJze"
   },
   "source": [
    "### Adding the second hidden layer"
   ]
  },
  {
   "cell_type": "code",
   "execution_count": 32,
   "metadata": {
    "colab": {},
    "colab_type": "code",
    "id": "JneR0u0sYRTd"
   },
   "outputs": [],
   "source": [
    "ann.add(tf.keras.layers.Dense(units=10, activation='relu'))"
   ]
  },
  {
   "cell_type": "code",
   "execution_count": 33,
   "metadata": {},
   "outputs": [],
   "source": [
    "ann.add(tf.keras.layers.Dense(units=6, activation='relu'))"
   ]
  },
  {
   "cell_type": "markdown",
   "metadata": {
    "colab_type": "text",
    "id": "OyNEe6RXYcU4"
   },
   "source": [
    "### Adding the output layer"
   ]
  },
  {
   "cell_type": "code",
   "execution_count": 34,
   "metadata": {
    "colab": {},
    "colab_type": "code",
    "id": "Cn3x41RBYfvY"
   },
   "outputs": [],
   "source": [
    "ann.add(tf.keras.layers.Dense(units=1, activation='sigmoid'))"
   ]
  },
  {
   "cell_type": "markdown",
   "metadata": {
    "colab_type": "text",
    "id": "JT4u2S1_Y4WG"
   },
   "source": [
    "## Part 3 - Training the ANN"
   ]
  },
  {
   "cell_type": "markdown",
   "metadata": {
    "colab_type": "text",
    "id": "8GWlJChhY_ZI"
   },
   "source": [
    "### Compiling the ANN"
   ]
  },
  {
   "cell_type": "code",
   "execution_count": 35,
   "metadata": {
    "colab": {},
    "colab_type": "code",
    "id": "fG3RrwDXZEaS"
   },
   "outputs": [],
   "source": [
    "ann.compile(optimizer = 'adam', loss = 'binary_crossentropy', metrics = ['accuracy'])"
   ]
  },
  {
   "cell_type": "markdown",
   "metadata": {
    "colab_type": "text",
    "id": "0QR_G5u7ZLSM"
   },
   "source": [
    "### Training the ANN on the Training set"
   ]
  },
  {
   "cell_type": "code",
   "execution_count": 36,
   "metadata": {
    "colab": {
     "base_uri": "https://localhost:8080/",
     "height": 1000
    },
    "colab_type": "code",
    "id": "nHZ-LKv_ZRb3",
    "outputId": "718cc4b0-b5aa-40f0-9b20-d3d31730a531"
   },
   "outputs": [
    {
     "name": "stdout",
     "output_type": "stream",
     "text": [
      "Epoch 1/100\n",
      "8000/8000 [==============================] - 0s 47us/sample - loss: 0.6189 - acc: 0.6506\n",
      "Epoch 2/100\n",
      "8000/8000 [==============================] - 0s 33us/sample - loss: 0.4919 - acc: 0.7960\n",
      "Epoch 3/100\n",
      "8000/8000 [==============================] - 0s 32us/sample - loss: 0.4569 - acc: 0.7960\n",
      "Epoch 4/100\n",
      "8000/8000 [==============================] - 0s 32us/sample - loss: 0.4296 - acc: 0.7993\n",
      "Epoch 5/100\n",
      "8000/8000 [==============================] - 0s 33us/sample - loss: 0.4025 - acc: 0.8155\n",
      "Epoch 6/100\n",
      "8000/8000 [==============================] - 0s 31us/sample - loss: 0.3799 - acc: 0.8346\n",
      "Epoch 7/100\n",
      "8000/8000 [==============================] - 0s 32us/sample - loss: 0.3702 - acc: 0.8411\n",
      "Epoch 8/100\n",
      "8000/8000 [==============================] - 0s 31us/sample - loss: 0.3658 - acc: 0.8444\n",
      "Epoch 9/100\n",
      "8000/8000 [==============================] - 0s 32us/sample - loss: 0.3642 - acc: 0.8469\n",
      "Epoch 10/100\n",
      "8000/8000 [==============================] - 0s 31us/sample - loss: 0.3626 - acc: 0.8465\n",
      "Epoch 11/100\n",
      "8000/8000 [==============================] - 0s 33us/sample - loss: 0.3617 - acc: 0.84750s - loss: 0.3577 - acc: 0.8\n",
      "Epoch 12/100\n",
      "8000/8000 [==============================] - 0s 35us/sample - loss: 0.3606 - acc: 0.8462\n",
      "Epoch 13/100\n",
      "8000/8000 [==============================] - 0s 32us/sample - loss: 0.3592 - acc: 0.8490\n",
      "Epoch 14/100\n",
      "8000/8000 [==============================] - 0s 31us/sample - loss: 0.3584 - acc: 0.8493\n",
      "Epoch 15/100\n",
      "8000/8000 [==============================] - 0s 31us/sample - loss: 0.3575 - acc: 0.8495\n",
      "Epoch 16/100\n",
      "8000/8000 [==============================] - 0s 34us/sample - loss: 0.3565 - acc: 0.8512\n",
      "Epoch 17/100\n",
      "8000/8000 [==============================] - 0s 30us/sample - loss: 0.3550 - acc: 0.8512\n",
      "Epoch 18/100\n",
      "8000/8000 [==============================] - 0s 30us/sample - loss: 0.3539 - acc: 0.8525\n",
      "Epoch 19/100\n",
      "8000/8000 [==============================] - 0s 31us/sample - loss: 0.3532 - acc: 0.8541\n",
      "Epoch 20/100\n",
      "8000/8000 [==============================] - 0s 34us/sample - loss: 0.3519 - acc: 0.8526\n",
      "Epoch 21/100\n",
      "8000/8000 [==============================] - 0s 32us/sample - loss: 0.3505 - acc: 0.8535\n",
      "Epoch 22/100\n",
      "8000/8000 [==============================] - 0s 31us/sample - loss: 0.3501 - acc: 0.8560\n",
      "Epoch 23/100\n",
      "8000/8000 [==============================] - 0s 31us/sample - loss: 0.3493 - acc: 0.8566\n",
      "Epoch 24/100\n",
      "8000/8000 [==============================] - 0s 31us/sample - loss: 0.3481 - acc: 0.8558\n",
      "Epoch 25/100\n",
      "8000/8000 [==============================] - 0s 31us/sample - loss: 0.3476 - acc: 0.8574\n",
      "Epoch 26/100\n",
      "8000/8000 [==============================] - 0s 31us/sample - loss: 0.3466 - acc: 0.8589\n",
      "Epoch 27/100\n",
      "8000/8000 [==============================] - 0s 35us/sample - loss: 0.3460 - acc: 0.8585\n",
      "Epoch 28/100\n",
      "8000/8000 [==============================] - 0s 34us/sample - loss: 0.3452 - acc: 0.8580\n",
      "Epoch 29/100\n",
      "8000/8000 [==============================] - 0s 32us/sample - loss: 0.3455 - acc: 0.8583\n",
      "Epoch 30/100\n",
      "8000/8000 [==============================] - 0s 31us/sample - loss: 0.3446 - acc: 0.8585\n",
      "Epoch 31/100\n",
      "8000/8000 [==============================] - 0s 32us/sample - loss: 0.3432 - acc: 0.8601\n",
      "Epoch 32/100\n",
      "8000/8000 [==============================] - 0s 33us/sample - loss: 0.3438 - acc: 0.8601\n",
      "Epoch 33/100\n",
      "8000/8000 [==============================] - 0s 31us/sample - loss: 0.3425 - acc: 0.8619\n",
      "Epoch 34/100\n",
      "8000/8000 [==============================] - 0s 31us/sample - loss: 0.3416 - acc: 0.8590\n",
      "Epoch 35/100\n",
      "8000/8000 [==============================] - 0s 34us/sample - loss: 0.3413 - acc: 0.8620\n",
      "Epoch 36/100\n",
      "8000/8000 [==============================] - 0s 33us/sample - loss: 0.3412 - acc: 0.8612\n",
      "Epoch 37/100\n",
      "8000/8000 [==============================] - 0s 30us/sample - loss: 0.3403 - acc: 0.8615\n",
      "Epoch 38/100\n",
      "8000/8000 [==============================] - 0s 31us/sample - loss: 0.3400 - acc: 0.8604\n",
      "Epoch 39/100\n",
      "8000/8000 [==============================] - 0s 30us/sample - loss: 0.3395 - acc: 0.8619\n",
      "Epoch 40/100\n",
      "8000/8000 [==============================] - 0s 30us/sample - loss: 0.3394 - acc: 0.8609\n",
      "Epoch 41/100\n",
      "8000/8000 [==============================] - 0s 30us/sample - loss: 0.3387 - acc: 0.8615\n",
      "Epoch 42/100\n",
      "8000/8000 [==============================] - 0s 30us/sample - loss: 0.3386 - acc: 0.8621\n",
      "Epoch 43/100\n",
      "8000/8000 [==============================] - 0s 30us/sample - loss: 0.3386 - acc: 0.8625\n",
      "Epoch 44/100\n",
      "8000/8000 [==============================] - 0s 39us/sample - loss: 0.3380 - acc: 0.8626\n",
      "Epoch 45/100\n",
      "8000/8000 [==============================] - 0s 48us/sample - loss: 0.3378 - acc: 0.8615\n",
      "Epoch 46/100\n",
      "8000/8000 [==============================] - 0s 51us/sample - loss: 0.3377 - acc: 0.8596\n",
      "Epoch 47/100\n",
      "8000/8000 [==============================] - 0s 35us/sample - loss: 0.3371 - acc: 0.8611\n",
      "Epoch 48/100\n",
      "8000/8000 [==============================] - 0s 36us/sample - loss: 0.3366 - acc: 0.8615\n",
      "Epoch 49/100\n",
      "8000/8000 [==============================] - 0s 37us/sample - loss: 0.3367 - acc: 0.8621\n",
      "Epoch 50/100\n",
      "8000/8000 [==============================] - 0s 35us/sample - loss: 0.3368 - acc: 0.8615\n",
      "Epoch 51/100\n",
      "8000/8000 [==============================] - 0s 42us/sample - loss: 0.3365 - acc: 0.8630\n",
      "Epoch 52/100\n",
      "8000/8000 [==============================] - 0s 39us/sample - loss: 0.3368 - acc: 0.8612\n",
      "Epoch 53/100\n",
      "8000/8000 [==============================] - 0s 37us/sample - loss: 0.3358 - acc: 0.8614\n",
      "Epoch 54/100\n",
      "8000/8000 [==============================] - 0s 35us/sample - loss: 0.3355 - acc: 0.8615\n",
      "Epoch 55/100\n",
      "8000/8000 [==============================] - 0s 43us/sample - loss: 0.3351 - acc: 0.8630\n",
      "Epoch 56/100\n",
      "8000/8000 [==============================] - 0s 43us/sample - loss: 0.3356 - acc: 0.8614\n",
      "Epoch 57/100\n",
      "8000/8000 [==============================] - 0s 44us/sample - loss: 0.3348 - acc: 0.8637\n",
      "Epoch 58/100\n",
      "8000/8000 [==============================] - 0s 43us/sample - loss: 0.3345 - acc: 0.8615\n",
      "Epoch 59/100\n",
      "8000/8000 [==============================] - 0s 43us/sample - loss: 0.3344 - acc: 0.8629\n",
      "Epoch 60/100\n",
      "8000/8000 [==============================] - 0s 42us/sample - loss: 0.3343 - acc: 0.8622\n",
      "Epoch 61/100\n",
      "8000/8000 [==============================] - 0s 43us/sample - loss: 0.3348 - acc: 0.8609\n",
      "Epoch 62/100\n",
      "8000/8000 [==============================] - 0s 42us/sample - loss: 0.3341 - acc: 0.8627\n",
      "Epoch 63/100\n",
      "8000/8000 [==============================] - 0s 44us/sample - loss: 0.3341 - acc: 0.8624\n",
      "Epoch 64/100\n",
      "8000/8000 [==============================] - 0s 40us/sample - loss: 0.3342 - acc: 0.8625\n",
      "Epoch 65/100\n",
      "8000/8000 [==============================] - 0s 39us/sample - loss: 0.3337 - acc: 0.8620\n",
      "Epoch 66/100\n",
      "8000/8000 [==============================] - 0s 43us/sample - loss: 0.3336 - acc: 0.8622\n",
      "Epoch 67/100\n",
      "8000/8000 [==============================] - 0s 35us/sample - loss: 0.3338 - acc: 0.8633\n",
      "Epoch 68/100\n",
      "8000/8000 [==============================] - 0s 41us/sample - loss: 0.3340 - acc: 0.8620\n",
      "Epoch 69/100\n",
      "8000/8000 [==============================] - 0s 41us/sample - loss: 0.3337 - acc: 0.8612\n",
      "Epoch 70/100\n",
      "8000/8000 [==============================] - 0s 38us/sample - loss: 0.3332 - acc: 0.8634\n",
      "Epoch 71/100\n",
      "8000/8000 [==============================] - 0s 45us/sample - loss: 0.3333 - acc: 0.8606\n",
      "Epoch 72/100\n",
      "8000/8000 [==============================] - 0s 44us/sample - loss: 0.3332 - acc: 0.8627\n",
      "Epoch 73/100\n",
      "8000/8000 [==============================] - 0s 35us/sample - loss: 0.3330 - acc: 0.8609\n",
      "Epoch 74/100\n",
      "8000/8000 [==============================] - 0s 35us/sample - loss: 0.3325 - acc: 0.8633\n",
      "Epoch 75/100\n",
      "8000/8000 [==============================] - 0s 35us/sample - loss: 0.3324 - acc: 0.8625\n",
      "Epoch 76/100\n",
      "8000/8000 [==============================] - 0s 38us/sample - loss: 0.3325 - acc: 0.8619\n",
      "Epoch 77/100\n",
      "8000/8000 [==============================] - 0s 38us/sample - loss: 0.3323 - acc: 0.8639\n",
      "Epoch 78/100\n",
      "8000/8000 [==============================] - 0s 36us/sample - loss: 0.3320 - acc: 0.8635\n",
      "Epoch 79/100\n",
      "8000/8000 [==============================] - 0s 42us/sample - loss: 0.3323 - acc: 0.8630\n",
      "Epoch 80/100\n",
      "8000/8000 [==============================] - 0s 37us/sample - loss: 0.3317 - acc: 0.8639\n",
      "Epoch 81/100\n"
     ]
    },
    {
     "name": "stdout",
     "output_type": "stream",
     "text": [
      "8000/8000 [==============================] - 0s 41us/sample - loss: 0.3315 - acc: 0.8612\n",
      "Epoch 82/100\n",
      "8000/8000 [==============================] - 0s 39us/sample - loss: 0.3320 - acc: 0.8637\n",
      "Epoch 83/100\n",
      "8000/8000 [==============================] - 0s 33us/sample - loss: 0.3318 - acc: 0.8639\n",
      "Epoch 84/100\n",
      "8000/8000 [==============================] - 0s 31us/sample - loss: 0.3314 - acc: 0.8620\n",
      "Epoch 85/100\n",
      "8000/8000 [==============================] - 0s 31us/sample - loss: 0.3311 - acc: 0.8633\n",
      "Epoch 86/100\n",
      "8000/8000 [==============================] - 0s 39us/sample - loss: 0.3313 - acc: 0.8616\n",
      "Epoch 87/100\n",
      "8000/8000 [==============================] - 0s 41us/sample - loss: 0.3314 - acc: 0.8624\n",
      "Epoch 88/100\n",
      "8000/8000 [==============================] - 0s 34us/sample - loss: 0.3306 - acc: 0.8630\n",
      "Epoch 89/100\n",
      "8000/8000 [==============================] - 0s 42us/sample - loss: 0.3310 - acc: 0.8641\n",
      "Epoch 90/100\n",
      "8000/8000 [==============================] - 0s 37us/sample - loss: 0.3314 - acc: 0.8627\n",
      "Epoch 91/100\n",
      "8000/8000 [==============================] - 0s 36us/sample - loss: 0.3308 - acc: 0.8631\n",
      "Epoch 92/100\n",
      "8000/8000 [==============================] - 0s 35us/sample - loss: 0.3304 - acc: 0.8631\n",
      "Epoch 93/100\n",
      "8000/8000 [==============================] - 0s 42us/sample - loss: 0.3304 - acc: 0.8636\n",
      "Epoch 94/100\n",
      "8000/8000 [==============================] - 0s 38us/sample - loss: 0.3298 - acc: 0.8635\n",
      "Epoch 95/100\n",
      "8000/8000 [==============================] - 0s 36us/sample - loss: 0.3302 - acc: 0.8649\n",
      "Epoch 96/100\n",
      "8000/8000 [==============================] - 0s 30us/sample - loss: 0.3293 - acc: 0.8650\n",
      "Epoch 97/100\n",
      "8000/8000 [==============================] - 0s 36us/sample - loss: 0.3297 - acc: 0.8629\n",
      "Epoch 98/100\n",
      "8000/8000 [==============================] - 0s 40us/sample - loss: 0.3298 - acc: 0.8639\n",
      "Epoch 99/100\n",
      "8000/8000 [==============================] - 0s 42us/sample - loss: 0.3295 - acc: 0.8639\n",
      "Epoch 100/100\n",
      "8000/8000 [==============================] - 0s 34us/sample - loss: 0.3295 - acc: 0.8637\n"
     ]
    },
    {
     "data": {
      "text/plain": [
       "<tensorflow.python.keras.callbacks.History at 0x7f31c81a0b50>"
      ]
     },
     "execution_count": 36,
     "metadata": {},
     "output_type": "execute_result"
    }
   ],
   "source": [
    "ann.fit(X_train, y_train, batch_size = 32, epochs = 100)"
   ]
  },
  {
   "cell_type": "markdown",
   "metadata": {},
   "source": [
    "# Parte 3 - Fazendo predições e avaliando o modelo\n",
    "\n",
    "## Prevendo os resultados com o conjunto de testes"
   ]
  },
  {
   "cell_type": "code",
   "execution_count": 37,
   "metadata": {},
   "outputs": [
    {
     "data": {
      "text/plain": [
       "array([[0.2739681 ],\n",
       "       [0.26870203],\n",
       "       [0.18485999],\n",
       "       ...,\n",
       "       [0.06052524],\n",
       "       [0.13014868],\n",
       "       [0.23519304]], dtype=float32)"
      ]
     },
     "execution_count": 37,
     "metadata": {},
     "output_type": "execute_result"
    }
   ],
   "source": [
    "y_pred = ann.predict(X_test)\n",
    "y_pred"
   ]
  },
  {
   "cell_type": "code",
   "execution_count": 38,
   "metadata": {},
   "outputs": [
    {
     "data": {
      "text/plain": [
       "array([[False],\n",
       "       [False],\n",
       "       [False],\n",
       "       ...,\n",
       "       [False],\n",
       "       [False],\n",
       "       [False]])"
      ]
     },
     "execution_count": 38,
     "metadata": {},
     "output_type": "execute_result"
    }
   ],
   "source": [
    "y_pred = (y_pred > 0.9)\n",
    "y_pred"
   ]
  },
  {
   "cell_type": "markdown",
   "metadata": {},
   "source": [
    "# Criando uma Confusion Matrix"
   ]
  },
  {
   "cell_type": "code",
   "execution_count": 39,
   "metadata": {},
   "outputs": [
    {
     "name": "stdout",
     "output_type": "stream",
     "text": [
      "[[1593    2]\n",
      " [ 333   72]]\n"
     ]
    }
   ],
   "source": [
    "from sklearn.metrics import confusion_matrix\n",
    "cm = confusion_matrix(y_test, y_pred)\n",
    "print(cm)"
   ]
  },
  {
   "cell_type": "markdown",
   "metadata": {},
   "source": [
    "# FIM"
   ]
  },
  {
   "cell_type": "markdown",
   "metadata": {},
   "source": [
    "> Professor Diego Dorgam  \n",
    "> [@diegodorgam](https://twitter.com/diegodorgam)"
   ]
  }
 ],
 "metadata": {
  "kernelspec": {
   "display_name": "Python 2",
   "language": "python",
   "name": "python2"
  },
  "language_info": {
   "codemirror_mode": {
    "name": "ipython",
    "version": 2
   },
   "file_extension": ".py",
   "mimetype": "text/x-python",
   "name": "python",
   "nbconvert_exporter": "python",
   "pygments_lexer": "ipython2",
   "version": "2.7.18"
  }
 },
 "nbformat": 4,
 "nbformat_minor": 4
}
