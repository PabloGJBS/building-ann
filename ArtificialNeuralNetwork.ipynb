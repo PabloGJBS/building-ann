{
 "cells": [
  {
   "cell_type": "markdown",
   "metadata": {},
   "source": [
    "# REDES NEURAIS ARTIFICIAIS\n",
    "\n",
    "[Aula 3 de Deep Learning](http://bit.ly/dn-unb03) da Engenharia de Software da UnB"
   ]
  },
  {
   "cell_type": "code",
   "execution_count": 1,
   "metadata": {},
   "outputs": [
    {
     "name": "stdout",
     "output_type": "stream",
     "text": [
      "/bin/sh: 1: pip: not found\n",
      "/bin/sh: 1: pip: not found\n",
      "/bin/sh: 1: pip: not found\n",
      "/bin/sh: 1: pip: not found\n"
     ]
    }
   ],
   "source": [
    "# Installing Theano\n",
    "! pip install --upgrade --no-deps git+git://github.com/Theano/Theano.git\n",
    "\n",
    "# Installing Tensorflow\n",
    "! pip install --upgrade tensorflow\n",
    "\n",
    "# Installing Keras\n",
    "! pip install --upgrade keras\n",
    "\n",
    "# Install other packages\n",
    "! pip install --upgrade pip pandas numpy matplotlib sklearn"
   ]
  },
  {
   "cell_type": "markdown",
   "metadata": {},
   "source": [
    "# Parte 1 - Preprocessamento dos Dados"
   ]
  },
  {
   "cell_type": "markdown",
   "metadata": {},
   "source": [
    "### Importar as libs"
   ]
  },
  {
   "cell_type": "code",
   "execution_count": 2,
   "metadata": {},
   "outputs": [],
   "source": [
    "import numpy as np\n",
    "import matplotlib.pyplot as plt\n",
    "import pandas as pd"
   ]
  },
  {
   "cell_type": "markdown",
   "metadata": {},
   "source": [
    "### Importar o dataset"
   ]
  },
  {
   "cell_type": "code",
   "execution_count": 3,
   "metadata": {},
   "outputs": [
    {
     "name": "stdout",
     "output_type": "stream",
     "text": [
      "X >>\n",
      " [[619 'France' 'Female' ... 1 1 101348.88]\n",
      " [608 'Spain' 'Female' ... 0 1 112542.58]\n",
      " [502 'France' 'Female' ... 1 0 113931.57]\n",
      " ...\n",
      " [709 'France' 'Female' ... 0 1 42085.58]\n",
      " [772 'Germany' 'Male' ... 1 0 92888.52]\n",
      " [792 'France' 'Female' ... 1 0 38190.78]]\n",
      "y >>\n",
      " [1 0 1 ... 1 1 0]\n"
     ]
    }
   ],
   "source": [
    "dataset = pd.read_csv('Churn_Modelling.csv')\n",
    "X = dataset.iloc[:, 3:13].values\n",
    "y = dataset.iloc[:, 13].values\n",
    "print(\"X >>\\n\",X)\n",
    "print(\"y >>\\n\",y)"
   ]
  },
  {
   "cell_type": "markdown",
   "metadata": {},
   "source": [
    "### Transformando os dados categóricos\n"
   ]
  },
  {
   "cell_type": "code",
   "execution_count": 4,
   "metadata": {},
   "outputs": [
    {
     "name": "stdout",
     "output_type": "stream",
     "text": [
      "X >>\n",
      " [[0.0000000e+00 0.0000000e+00 6.1900000e+02 ... 1.0000000e+00\n",
      "  1.0000000e+00 1.0134888e+05]\n",
      " [0.0000000e+00 1.0000000e+00 6.0800000e+02 ... 0.0000000e+00\n",
      "  1.0000000e+00 1.1254258e+05]\n",
      " [0.0000000e+00 0.0000000e+00 5.0200000e+02 ... 1.0000000e+00\n",
      "  0.0000000e+00 1.1393157e+05]\n",
      " ...\n",
      " [0.0000000e+00 0.0000000e+00 7.0900000e+02 ... 0.0000000e+00\n",
      "  1.0000000e+00 4.2085580e+04]\n",
      " [1.0000000e+00 0.0000000e+00 7.7200000e+02 ... 1.0000000e+00\n",
      "  0.0000000e+00 9.2888520e+04]\n",
      " [0.0000000e+00 0.0000000e+00 7.9200000e+02 ... 1.0000000e+00\n",
      "  0.0000000e+00 3.8190780e+04]]\n"
     ]
    },
    {
     "name": "stderr",
     "output_type": "stream",
     "text": [
      "/opt/conda/lib/python3.7/site-packages/sklearn/preprocessing/_encoders.py:415: FutureWarning: The handling of integer data will change in version 0.22. Currently, the categories are determined based on the range [0, max(values)], while in the future they will be determined based on the unique values.\n",
      "If you want the future behaviour and silence this warning, you can specify \"categories='auto'\".\n",
      "In case you used a LabelEncoder before this OneHotEncoder to convert the categories to integers, then you can now use the OneHotEncoder directly.\n",
      "  warnings.warn(msg, FutureWarning)\n",
      "/opt/conda/lib/python3.7/site-packages/sklearn/preprocessing/_encoders.py:451: DeprecationWarning: The 'categorical_features' keyword is deprecated in version 0.20 and will be removed in 0.22. You can use the ColumnTransformer instead.\n",
      "  \"use the ColumnTransformer instead.\", DeprecationWarning)\n"
     ]
    }
   ],
   "source": [
    "from sklearn.preprocessing import LabelEncoder, OneHotEncoder\n",
    "labelencoder_X_1 = LabelEncoder()\n",
    "X[:, 1] = labelencoder_X_1.fit_transform(X[:, 1])\n",
    "labelencoder_X_2 = LabelEncoder()\n",
    "X[:, 2] = labelencoder_X_2.fit_transform(X[:, 2])\n",
    "onehotencoder = OneHotEncoder(categorical_features = [1])\n",
    "X = onehotencoder.fit_transform(X).toarray()\n",
    "X = X[:, 1:]\n",
    "print(\"X >>\\n\",X)"
   ]
  },
  {
   "cell_type": "markdown",
   "metadata": {},
   "source": [
    "# Dividindo o dataset em conjunto de treinamento e conjunto de teste"
   ]
  },
  {
   "cell_type": "code",
   "execution_count": 5,
   "metadata": {},
   "outputs": [],
   "source": [
    "from sklearn.model_selection import train_test_split\n",
    "X_train, X_test, y_train, y_test = train_test_split(X, y, test_size = 0.2, random_state = 0)"
   ]
  },
  {
   "cell_type": "markdown",
   "metadata": {},
   "source": [
    "# Feature Scaling"
   ]
  },
  {
   "cell_type": "code",
   "execution_count": 6,
   "metadata": {},
   "outputs": [],
   "source": [
    "from sklearn.preprocessing import StandardScaler\n",
    "sc = StandardScaler()\n",
    "X_train = sc.fit_transform(X_train)\n",
    "X_test = sc.transform(X_test)"
   ]
  },
  {
   "cell_type": "markdown",
   "metadata": {},
   "source": [
    "---\n",
    "# Parte 2 -Vamos construir uma ANN!\n",
    "\n",
    "## Importando o Keras\n"
   ]
  },
  {
   "cell_type": "code",
   "execution_count": 7,
   "metadata": {},
   "outputs": [
    {
     "name": "stderr",
     "output_type": "stream",
     "text": [
      "Using TensorFlow backend.\n"
     ]
    }
   ],
   "source": [
    "import keras\n",
    "from keras.models import Sequential\n",
    "from keras.layers import Dense"
   ]
  },
  {
   "cell_type": "code",
   "execution_count": 8,
   "metadata": {},
   "outputs": [],
   "source": [
    "# Initialising the ANN\n",
    "classifier = Sequential()\n",
    "\n",
    "# Adding the input layer and the first hidden layer\n",
    "classifier.add(Dense(units = 6, kernel_initializer = 'uniform', activation = 'relu', input_dim = 11))\n",
    "\n",
    "# Adding the second hidden layer\n",
    "classifier.add(Dense(units = 6, kernel_initializer = 'uniform', activation = 'relu'))\n",
    "\n",
    "# Adding the output layer\n",
    "classifier.add(Dense(units = 1, kernel_initializer = 'uniform', activation = 'sigmoid'))\n",
    "\n",
    "# Compiling the ANN\n",
    "classifier.compile(optimizer = 'adam', loss = 'binary_crossentropy', metrics = ['accuracy'])"
   ]
  },
  {
   "cell_type": "markdown",
   "metadata": {},
   "source": [
    "# Ajustando a ANN ao conjunto de treinamento"
   ]
  },
  {
   "cell_type": "code",
   "execution_count": 9,
   "metadata": {},
   "outputs": [
    {
     "name": "stdout",
     "output_type": "stream",
     "text": [
      "Epoch 1/100\n",
      "8000/8000 [==============================] - 1s 172us/step - loss: 0.4842 - accuracy: 0.7958\n",
      "Epoch 2/100\n",
      "8000/8000 [==============================] - 1s 109us/step - loss: 0.4272 - accuracy: 0.7960\n",
      "Epoch 3/100\n",
      "8000/8000 [==============================] - 1s 102us/step - loss: 0.4225 - accuracy: 0.7960\n",
      "Epoch 4/100\n",
      "8000/8000 [==============================] - 1s 106us/step - loss: 0.4189 - accuracy: 0.8127\n",
      "Epoch 5/100\n",
      "8000/8000 [==============================] - 1s 103us/step - loss: 0.4166 - accuracy: 0.8263\n",
      "Epoch 6/100\n",
      "8000/8000 [==============================] - 1s 103us/step - loss: 0.4148 - accuracy: 0.8284\n",
      "Epoch 7/100\n",
      "8000/8000 [==============================] - 1s 108us/step - loss: 0.4136 - accuracy: 0.8300\n",
      "Epoch 8/100\n",
      "8000/8000 [==============================] - 1s 105us/step - loss: 0.4121 - accuracy: 0.8305\n",
      "Epoch 9/100\n",
      "8000/8000 [==============================] - 1s 119us/step - loss: 0.4112 - accuracy: 0.8316\n",
      "Epoch 10/100\n",
      "8000/8000 [==============================] - 1s 107us/step - loss: 0.4105 - accuracy: 0.8339\n",
      "Epoch 11/100\n",
      "8000/8000 [==============================] - 1s 107us/step - loss: 0.4095 - accuracy: 0.8341\n",
      "Epoch 12/100\n",
      "8000/8000 [==============================] - 1s 106us/step - loss: 0.4084 - accuracy: 0.8350\n",
      "Epoch 13/100\n",
      "8000/8000 [==============================] - 1s 108us/step - loss: 0.4072 - accuracy: 0.8363\n",
      "Epoch 14/100\n",
      "8000/8000 [==============================] - 1s 113us/step - loss: 0.4070 - accuracy: 0.8342\n",
      "Epoch 15/100\n",
      "8000/8000 [==============================] - 1s 115us/step - loss: 0.4068 - accuracy: 0.8335\n",
      "Epoch 16/100\n",
      "8000/8000 [==============================] - 1s 106us/step - loss: 0.4062 - accuracy: 0.8340\n",
      "Epoch 17/100\n",
      "8000/8000 [==============================] - 1s 152us/step - loss: 0.4055 - accuracy: 0.8334\n",
      "Epoch 18/100\n",
      "8000/8000 [==============================] - 1s 119us/step - loss: 0.4057 - accuracy: 0.8351\n",
      "Epoch 19/100\n",
      "8000/8000 [==============================] - 1s 103us/step - loss: 0.4053 - accuracy: 0.8338\n",
      "Epoch 20/100\n",
      "8000/8000 [==============================] - 1s 102us/step - loss: 0.4048 - accuracy: 0.8340\n",
      "Epoch 21/100\n",
      "8000/8000 [==============================] - 1s 102us/step - loss: 0.4046 - accuracy: 0.8344\n",
      "Epoch 22/100\n",
      "8000/8000 [==============================] - 1s 104us/step - loss: 0.4046 - accuracy: 0.8342\n",
      "Epoch 23/100\n",
      "8000/8000 [==============================] - 1s 130us/step - loss: 0.4041 - accuracy: 0.8338\n",
      "Epoch 24/100\n",
      "8000/8000 [==============================] - 1s 100us/step - loss: 0.4038 - accuracy: 0.8355\n",
      "Epoch 25/100\n",
      "8000/8000 [==============================] - 1s 102us/step - loss: 0.4039 - accuracy: 0.8344\n",
      "Epoch 26/100\n",
      "8000/8000 [==============================] - 1s 106us/step - loss: 0.4035 - accuracy: 0.8331\n",
      "Epoch 27/100\n",
      "8000/8000 [==============================] - 1s 109us/step - loss: 0.4034 - accuracy: 0.8331\n",
      "Epoch 28/100\n",
      "8000/8000 [==============================] - 1s 107us/step - loss: 0.4030 - accuracy: 0.8351\n",
      "Epoch 29/100\n",
      "8000/8000 [==============================] - 1s 114us/step - loss: 0.4030 - accuracy: 0.8350\n",
      "Epoch 30/100\n",
      "8000/8000 [==============================] - 1s 117us/step - loss: 0.4027 - accuracy: 0.8354\n",
      "Epoch 31/100\n",
      "8000/8000 [==============================] - 1s 118us/step - loss: 0.4029 - accuracy: 0.8339\n",
      "Epoch 32/100\n",
      "8000/8000 [==============================] - 1s 120us/step - loss: 0.4023 - accuracy: 0.8359\n",
      "Epoch 33/100\n",
      "8000/8000 [==============================] - 1s 116us/step - loss: 0.4026 - accuracy: 0.8339\n",
      "Epoch 34/100\n",
      "8000/8000 [==============================] - 1s 159us/step - loss: 0.4027 - accuracy: 0.8346\n",
      "Epoch 35/100\n",
      "8000/8000 [==============================] - 1s 120us/step - loss: 0.4024 - accuracy: 0.8353\n",
      "Epoch 36/100\n",
      "8000/8000 [==============================] - 1s 118us/step - loss: 0.4025 - accuracy: 0.8350\n",
      "Epoch 37/100\n",
      "8000/8000 [==============================] - 1s 122us/step - loss: 0.4019 - accuracy: 0.8339\n",
      "Epoch 38/100\n",
      "8000/8000 [==============================] - 1s 149us/step - loss: 0.4022 - accuracy: 0.8342\n",
      "Epoch 39/100\n",
      "8000/8000 [==============================] - 1s 145us/step - loss: 0.4018 - accuracy: 0.8345\n",
      "Epoch 40/100\n",
      "8000/8000 [==============================] - 1s 118us/step - loss: 0.4017 - accuracy: 0.8345\n",
      "Epoch 41/100\n",
      "8000/8000 [==============================] - 1s 119us/step - loss: 0.4017 - accuracy: 0.8349\n",
      "Epoch 42/100\n",
      "8000/8000 [==============================] - 1s 113us/step - loss: 0.4016 - accuracy: 0.8355\n",
      "Epoch 43/100\n",
      "8000/8000 [==============================] - 1s 114us/step - loss: 0.4019 - accuracy: 0.8350\n",
      "Epoch 44/100\n",
      "8000/8000 [==============================] - 1s 116us/step - loss: 0.4014 - accuracy: 0.8346\n",
      "Epoch 45/100\n",
      "8000/8000 [==============================] - 1s 115us/step - loss: 0.4017 - accuracy: 0.8351\n",
      "Epoch 46/100\n",
      "8000/8000 [==============================] - 1s 117us/step - loss: 0.4016 - accuracy: 0.8346\n",
      "Epoch 47/100\n",
      "8000/8000 [==============================] - 1s 118us/step - loss: 0.4019 - accuracy: 0.8353\n",
      "Epoch 48/100\n",
      "8000/8000 [==============================] - 1s 119us/step - loss: 0.4020 - accuracy: 0.8344\n",
      "Epoch 49/100\n",
      "8000/8000 [==============================] - 1s 117us/step - loss: 0.4011 - accuracy: 0.8356\n",
      "Epoch 50/100\n",
      "8000/8000 [==============================] - 1s 109us/step - loss: 0.4011 - accuracy: 0.8361\n",
      "Epoch 51/100\n",
      "8000/8000 [==============================] - 1s 108us/step - loss: 0.4010 - accuracy: 0.8360\n",
      "Epoch 52/100\n",
      "8000/8000 [==============================] - 1s 110us/step - loss: 0.4017 - accuracy: 0.8357\n",
      "Epoch 53/100\n",
      "8000/8000 [==============================] - 1s 111us/step - loss: 0.4014 - accuracy: 0.8355\n",
      "Epoch 54/100\n",
      "8000/8000 [==============================] - 1s 107us/step - loss: 0.4013 - accuracy: 0.8355\n",
      "Epoch 55/100\n",
      "8000/8000 [==============================] - 1s 102us/step - loss: 0.4007 - accuracy: 0.8349\n",
      "Epoch 56/100\n",
      "8000/8000 [==============================] - 1s 102us/step - loss: 0.4014 - accuracy: 0.8356\n",
      "Epoch 57/100\n",
      "8000/8000 [==============================] - 1s 127us/step - loss: 0.4010 - accuracy: 0.8345\n",
      "Epoch 58/100\n",
      "8000/8000 [==============================] - 1s 143us/step - loss: 0.4009 - accuracy: 0.8347\n",
      "Epoch 59/100\n",
      "8000/8000 [==============================] - 1s 122us/step - loss: 0.4009 - accuracy: 0.8334\n",
      "Epoch 60/100\n",
      "8000/8000 [==============================] - 1s 148us/step - loss: 0.4004 - accuracy: 0.8355\n",
      "Epoch 61/100\n",
      "8000/8000 [==============================] - 1s 150us/step - loss: 0.4013 - accuracy: 0.8350\n",
      "Epoch 62/100\n",
      "8000/8000 [==============================] - 1s 129us/step - loss: 0.4012 - accuracy: 0.8357\n",
      "Epoch 63/100\n",
      "8000/8000 [==============================] - 1s 153us/step - loss: 0.4008 - accuracy: 0.8356\n",
      "Epoch 64/100\n",
      "8000/8000 [==============================] - 1s 169us/step - loss: 0.4011 - accuracy: 0.8365\n",
      "Epoch 65/100\n",
      "8000/8000 [==============================] - 1s 156us/step - loss: 0.4008 - accuracy: 0.8350\n",
      "Epoch 66/100\n",
      "8000/8000 [==============================] - 1s 127us/step - loss: 0.4010 - accuracy: 0.8367\n",
      "Epoch 67/100\n",
      "8000/8000 [==============================] - 1s 121us/step - loss: 0.4008 - accuracy: 0.8360\n",
      "Epoch 68/100\n",
      "8000/8000 [==============================] - 1s 118us/step - loss: 0.4007 - accuracy: 0.8360\n",
      "Epoch 69/100\n",
      "8000/8000 [==============================] - 1s 119us/step - loss: 0.4009 - accuracy: 0.8349\n",
      "Epoch 70/100\n",
      "8000/8000 [==============================] - 1s 112us/step - loss: 0.4006 - accuracy: 0.8346\n",
      "Epoch 71/100\n",
      "8000/8000 [==============================] - 1s 120us/step - loss: 0.4007 - accuracy: 0.8350\n",
      "Epoch 72/100\n",
      "8000/8000 [==============================] - 1s 115us/step - loss: 0.4005 - accuracy: 0.8345\n",
      "Epoch 73/100\n",
      "8000/8000 [==============================] - 1s 116us/step - loss: 0.4009 - accuracy: 0.8340\n",
      "Epoch 74/100\n",
      "8000/8000 [==============================] - 1s 115us/step - loss: 0.4005 - accuracy: 0.8356\n",
      "Epoch 75/100\n",
      "8000/8000 [==============================] - 1s 114us/step - loss: 0.4006 - accuracy: 0.8355\n",
      "Epoch 76/100\n",
      "8000/8000 [==============================] - 1s 130us/step - loss: 0.4005 - accuracy: 0.8356\n",
      "Epoch 77/100\n",
      "8000/8000 [==============================] - 1s 115us/step - loss: 0.4005 - accuracy: 0.8353\n",
      "Epoch 78/100\n"
     ]
    },
    {
     "name": "stdout",
     "output_type": "stream",
     "text": [
      "8000/8000 [==============================] - 1s 133us/step - loss: 0.4007 - accuracy: 0.8357\n",
      "Epoch 79/100\n",
      "8000/8000 [==============================] - 1s 121us/step - loss: 0.4008 - accuracy: 0.8360\n",
      "Epoch 80/100\n",
      "8000/8000 [==============================] - 1s 130us/step - loss: 0.4004 - accuracy: 0.8351\n",
      "Epoch 81/100\n",
      "8000/8000 [==============================] - 1s 114us/step - loss: 0.4007 - accuracy: 0.8359\n",
      "Epoch 82/100\n",
      "8000/8000 [==============================] - 1s 129us/step - loss: 0.4008 - accuracy: 0.8363\n",
      "Epoch 83/100\n",
      "8000/8000 [==============================] - 1s 113us/step - loss: 0.4007 - accuracy: 0.8355\n",
      "Epoch 84/100\n",
      "8000/8000 [==============================] - 1s 113us/step - loss: 0.4007 - accuracy: 0.8344\n",
      "Epoch 85/100\n",
      "8000/8000 [==============================] - 1s 119us/step - loss: 0.4005 - accuracy: 0.8346\n",
      "Epoch 86/100\n",
      "8000/8000 [==============================] - 1s 121us/step - loss: 0.4005 - accuracy: 0.8342\n",
      "Epoch 87/100\n",
      "8000/8000 [==============================] - 1s 112us/step - loss: 0.4009 - accuracy: 0.8354\n",
      "Epoch 88/100\n",
      "8000/8000 [==============================] - 1s 116us/step - loss: 0.4006 - accuracy: 0.8363\n",
      "Epoch 89/100\n",
      "8000/8000 [==============================] - 1s 109us/step - loss: 0.4005 - accuracy: 0.8347\n",
      "Epoch 90/100\n",
      "8000/8000 [==============================] - 1s 112us/step - loss: 0.4001 - accuracy: 0.8349\n",
      "Epoch 91/100\n",
      "8000/8000 [==============================] - 1s 122us/step - loss: 0.4001 - accuracy: 0.8349\n",
      "Epoch 92/100\n",
      "8000/8000 [==============================] - 1s 112us/step - loss: 0.4007 - accuracy: 0.8354\n",
      "Epoch 93/100\n",
      "8000/8000 [==============================] - 1s 110us/step - loss: 0.4005 - accuracy: 0.8365\n",
      "Epoch 94/100\n",
      "8000/8000 [==============================] - 1s 111us/step - loss: 0.4001 - accuracy: 0.8340\n",
      "Epoch 95/100\n",
      "8000/8000 [==============================] - 1s 121us/step - loss: 0.4004 - accuracy: 0.8359\n",
      "Epoch 96/100\n",
      "8000/8000 [==============================] - 1s 117us/step - loss: 0.4007 - accuracy: 0.8351\n",
      "Epoch 97/100\n",
      "8000/8000 [==============================] - 1s 111us/step - loss: 0.4007 - accuracy: 0.8359\n",
      "Epoch 98/100\n",
      "8000/8000 [==============================] - 1s 120us/step - loss: 0.4000 - accuracy: 0.8357\n",
      "Epoch 99/100\n",
      "8000/8000 [==============================] - 1s 127us/step - loss: 0.4006 - accuracy: 0.8334\n",
      "Epoch 100/100\n",
      "8000/8000 [==============================] - 1s 119us/step - loss: 0.4003 - accuracy: 0.8350\n"
     ]
    },
    {
     "data": {
      "text/plain": [
       "<keras.callbacks.callbacks.History at 0x7f19f5de1d30>"
      ]
     },
     "execution_count": 9,
     "metadata": {},
     "output_type": "execute_result"
    }
   ],
   "source": [
    "classifier.fit(X_train, y_train, batch_size = 10, epochs = 100)"
   ]
  },
  {
   "cell_type": "markdown",
   "metadata": {},
   "source": [
    "# Parte 3 - Fazendo predições e avaliando o modelo\n",
    "\n",
    "## Prevendo os resultados com o conjunto de testes"
   ]
  },
  {
   "cell_type": "code",
   "execution_count": 10,
   "metadata": {},
   "outputs": [],
   "source": [
    "y_pred = classifier.predict(X_test)\n",
    "y_pred = (y_pred > 0.5)"
   ]
  },
  {
   "cell_type": "markdown",
   "metadata": {},
   "source": [
    "# Criando uma Confusion Matrix"
   ]
  },
  {
   "cell_type": "code",
   "execution_count": 11,
   "metadata": {},
   "outputs": [
    {
     "name": "stdout",
     "output_type": "stream",
     "text": [
      "[[1510   85]\n",
      " [ 196  209]]\n"
     ]
    }
   ],
   "source": [
    "from sklearn.metrics import confusion_matrix\n",
    "cm = confusion_matrix(y_test, y_pred)\n",
    "print(cm)"
   ]
  },
  {
   "cell_type": "markdown",
   "metadata": {},
   "source": [
    "# Initiate activation function experimentation\n",
    "\n",
    "# Initialising the 2nd ANN"
   ]
  },
  {
   "cell_type": "code",
   "execution_count": 14,
   "metadata": {},
   "outputs": [
    {
     "name": "stdout",
     "output_type": "stream",
     "text": [
      "Epoch 1/100\n",
      "8000/8000 [==============================] - 2s 242us/step - loss: 3.2881 - acc: 0.7960\n",
      "Epoch 2/100\n",
      "8000/8000 [==============================] - 2s 191us/step - loss: 3.2881 - acc: 0.7960\n",
      "Epoch 3/100\n",
      "8000/8000 [==============================] - 2s 194us/step - loss: 3.2881 - acc: 0.7960\n",
      "Epoch 4/100\n",
      "8000/8000 [==============================] - 2s 254us/step - loss: 3.2881 - acc: 0.7960\n",
      "Epoch 5/100\n",
      "8000/8000 [==============================] - 2s 218us/step - loss: 3.2881 - acc: 0.7960\n",
      "Epoch 6/100\n",
      "8000/8000 [==============================] - 1s 187us/step - loss: 3.2881 - acc: 0.7960\n",
      "Epoch 7/100\n",
      "8000/8000 [==============================] - 1s 185us/step - loss: 3.2881 - acc: 0.7960\n",
      "Epoch 8/100\n",
      "8000/8000 [==============================] - 1s 180us/step - loss: 3.2881 - acc: 0.7960\n",
      "Epoch 9/100\n",
      "8000/8000 [==============================] - 1s 183us/step - loss: 3.2881 - acc: 0.7960\n",
      "Epoch 10/100\n",
      "8000/8000 [==============================] - 2s 190us/step - loss: 3.2881 - acc: 0.7960\n",
      "Epoch 11/100\n",
      "8000/8000 [==============================] - 1s 187us/step - loss: 3.2881 - acc: 0.7960\n",
      "Epoch 12/100\n",
      "8000/8000 [==============================] - 2s 199us/step - loss: 3.2881 - acc: 0.7960\n",
      "Epoch 13/100\n",
      "8000/8000 [==============================] - 2s 244us/step - loss: 3.2881 - acc: 0.7960\n",
      "Epoch 14/100\n",
      "8000/8000 [==============================] - 4s 523us/step - loss: 3.2881 - acc: 0.7960\n",
      "Epoch 15/100\n",
      "8000/8000 [==============================] - 2s 256us/step - loss: 3.2881 - acc: 0.7960\n",
      "Epoch 16/100\n",
      "8000/8000 [==============================] - 2s 209us/step - loss: 3.2881 - acc: 0.7960\n",
      "Epoch 17/100\n",
      "8000/8000 [==============================] - 2s 197us/step - loss: 3.2881 - acc: 0.7960\n",
      "Epoch 18/100\n",
      "8000/8000 [==============================] - 2s 214us/step - loss: 3.2881 - acc: 0.7960\n",
      "Epoch 19/100\n",
      "8000/8000 [==============================] - 2s 204us/step - loss: 3.2881 - acc: 0.7960\n",
      "Epoch 20/100\n",
      "8000/8000 [==============================] - 1s 186us/step - loss: 3.2881 - acc: 0.7960\n",
      "Epoch 21/100\n",
      "8000/8000 [==============================] - 2s 218us/step - loss: 3.2881 - acc: 0.7960\n",
      "Epoch 22/100\n",
      "8000/8000 [==============================] - 2s 265us/step - loss: 3.2881 - acc: 0.7960\n",
      "Epoch 23/100\n",
      "8000/8000 [==============================] - 2s 252us/step - loss: 3.2881 - acc: 0.7960\n",
      "Epoch 24/100\n",
      "8000/8000 [==============================] - 2s 200us/step - loss: 3.2881 - acc: 0.7960\n",
      "Epoch 25/100\n",
      "8000/8000 [==============================] - 2s 213us/step - loss: 3.2881 - acc: 0.7960\n",
      "Epoch 26/100\n",
      "8000/8000 [==============================] - 2s 199us/step - loss: 3.2881 - acc: 0.7960\n",
      "Epoch 27/100\n",
      "8000/8000 [==============================] - 2s 197us/step - loss: 3.2881 - acc: 0.7960\n",
      "Epoch 28/100\n",
      "8000/8000 [==============================] - 2s 208us/step - loss: 3.2881 - acc: 0.7960\n",
      "Epoch 29/100\n",
      "8000/8000 [==============================] - 2s 203us/step - loss: 3.2881 - acc: 0.7960\n",
      "Epoch 30/100\n",
      "8000/8000 [==============================] - 2s 191us/step - loss: 3.2881 - acc: 0.7960\n",
      "Epoch 31/100\n",
      "8000/8000 [==============================] - 2s 188us/step - loss: 3.2881 - acc: 0.7960\n",
      "Epoch 32/100\n",
      "8000/8000 [==============================] - 2s 202us/step - loss: 3.2881 - acc: 0.7960\n",
      "Epoch 33/100\n",
      "8000/8000 [==============================] - 2s 206us/step - loss: 3.2881 - acc: 0.7960\n",
      "Epoch 34/100\n",
      "8000/8000 [==============================] - 2s 194us/step - loss: 3.2881 - acc: 0.7960\n",
      "Epoch 35/100\n",
      "8000/8000 [==============================] - 2s 197us/step - loss: 3.2881 - acc: 0.7960\n",
      "Epoch 36/100\n",
      "8000/8000 [==============================] - 1s 183us/step - loss: 3.2881 - acc: 0.7960\n",
      "Epoch 37/100\n",
      "8000/8000 [==============================] - 2s 189us/step - loss: 3.2881 - acc: 0.7960\n",
      "Epoch 38/100\n",
      "8000/8000 [==============================] - 2s 203us/step - loss: 3.2881 - acc: 0.7960\n",
      "Epoch 39/100\n",
      "8000/8000 [==============================] - 2s 194us/step - loss: 3.2881 - acc: 0.7960\n",
      "Epoch 40/100\n",
      "8000/8000 [==============================] - 2s 198us/step - loss: 3.2881 - acc: 0.7960\n",
      "Epoch 41/100\n",
      "8000/8000 [==============================] - 2s 199us/step - loss: 3.2881 - acc: 0.7960\n",
      "Epoch 42/100\n",
      "8000/8000 [==============================] - 2s 249us/step - loss: 3.2881 - acc: 0.7960\n",
      "Epoch 43/100\n",
      "8000/8000 [==============================] - 2s 202us/step - loss: 3.2881 - acc: 0.7960\n",
      "Epoch 44/100\n",
      "8000/8000 [==============================] - 2s 189us/step - loss: 3.2881 - acc: 0.7960\n",
      "Epoch 45/100\n",
      "8000/8000 [==============================] - 2s 191us/step - loss: 3.2881 - acc: 0.7960\n",
      "Epoch 46/100\n",
      "8000/8000 [==============================] - 2s 220us/step - loss: 3.2881 - acc: 0.7960\n",
      "Epoch 47/100\n",
      "8000/8000 [==============================] - 2s 193us/step - loss: 3.2881 - acc: 0.7960\n",
      "Epoch 48/100\n",
      "8000/8000 [==============================] - 2s 202us/step - loss: 3.2881 - acc: 0.7960\n",
      "Epoch 49/100\n",
      "8000/8000 [==============================] - 2s 188us/step - loss: 3.2881 - acc: 0.7960\n",
      "Epoch 50/100\n",
      "8000/8000 [==============================] - 1s 180us/step - loss: 3.2881 - acc: 0.7960\n",
      "Epoch 51/100\n",
      "8000/8000 [==============================] - 2s 258us/step - loss: 3.2881 - acc: 0.7960\n",
      "Epoch 52/100\n",
      "8000/8000 [==============================] - 2s 238us/step - loss: 3.2881 - acc: 0.7960\n",
      "Epoch 53/100\n",
      "8000/8000 [==============================] - 2s 226us/step - loss: 3.2881 - acc: 0.7960\n",
      "Epoch 54/100\n",
      "8000/8000 [==============================] - 2s 291us/step - loss: 3.2881 - acc: 0.7960\n",
      "Epoch 55/100\n",
      "8000/8000 [==============================] - 2s 201us/step - loss: 3.2881 - acc: 0.7960\n",
      "Epoch 56/100\n",
      "8000/8000 [==============================] - 2s 202us/step - loss: 3.2881 - acc: 0.7960\n",
      "Epoch 57/100\n",
      "8000/8000 [==============================] - 2s 196us/step - loss: 3.2881 - acc: 0.7960\n",
      "Epoch 58/100\n",
      "8000/8000 [==============================] - 2s 258us/step - loss: 3.2881 - acc: 0.7960\n",
      "Epoch 59/100\n",
      "8000/8000 [==============================] - 2s 239us/step - loss: 3.2881 - acc: 0.7960\n",
      "Epoch 60/100\n",
      "8000/8000 [==============================] - 3s 384us/step - loss: 3.2881 - acc: 0.7960\n",
      "Epoch 61/100\n",
      "8000/8000 [==============================] - 2s 256us/step - loss: 3.2881 - acc: 0.7960\n",
      "Epoch 62/100\n",
      "8000/8000 [==============================] - 2s 258us/step - loss: 3.2881 - acc: 0.7960\n",
      "Epoch 63/100\n",
      "8000/8000 [==============================] - 3s 358us/step - loss: 3.2881 - acc: 0.7960\n",
      "Epoch 64/100\n",
      "8000/8000 [==============================] - 2s 230us/step - loss: 3.2881 - acc: 0.7960\n",
      "Epoch 65/100\n",
      "8000/8000 [==============================] - 2s 191us/step - loss: 3.2881 - acc: 0.7960\n",
      "Epoch 66/100\n",
      "8000/8000 [==============================] - 2s 228us/step - loss: 3.2881 - acc: 0.7960\n",
      "Epoch 67/100\n",
      "8000/8000 [==============================] - 3s 399us/step - loss: 3.2881 - acc: 0.7960\n",
      "Epoch 68/100\n",
      "8000/8000 [==============================] - 3s 368us/step - loss: 3.2881 - acc: 0.7960\n",
      "Epoch 69/100\n",
      "8000/8000 [==============================] - 2s 258us/step - loss: 3.2881 - acc: 0.7960\n",
      "Epoch 70/100\n",
      "8000/8000 [==============================] - 2s 208us/step - loss: 3.2881 - acc: 0.7960\n",
      "Epoch 71/100\n",
      "8000/8000 [==============================] - 2s 195us/step - loss: 3.2881 - acc: 0.7960\n",
      "Epoch 72/100\n",
      "8000/8000 [==============================] - 2s 220us/step - loss: 3.2881 - acc: 0.7960\n",
      "Epoch 73/100\n",
      "8000/8000 [==============================] - 2s 214us/step - loss: 3.2881 - acc: 0.7960\n",
      "Epoch 74/100\n",
      "8000/8000 [==============================] - 2s 227us/step - loss: 3.2881 - acc: 0.7960\n",
      "Epoch 75/100\n",
      "8000/8000 [==============================] - 3s 345us/step - loss: 3.2881 - acc: 0.7960\n",
      "Epoch 76/100\n",
      "8000/8000 [==============================] - 2s 231us/step - loss: 3.2881 - acc: 0.7960\n",
      "Epoch 77/100\n",
      "8000/8000 [==============================] - 2s 193us/step - loss: 3.2881 - acc: 0.7960\n",
      "Epoch 78/100\n",
      "8000/8000 [==============================] - 1s 187us/step - loss: 3.2881 - acc: 0.7960\n",
      "Epoch 79/100\n",
      "8000/8000 [==============================] - 1s 187us/step - loss: 3.2881 - acc: 0.7960\n",
      "Epoch 80/100\n",
      "8000/8000 [==============================] - 2s 281us/step - loss: 3.2881 - acc: 0.7960\n",
      "Epoch 81/100\n",
      "8000/8000 [==============================] - 2s 293us/step - loss: 3.2881 - acc: 0.7960\n",
      "Epoch 82/100\n",
      "8000/8000 [==============================] - 2s 279us/step - loss: 3.2881 - acc: 0.7960\n",
      "Epoch 83/100\n",
      "8000/8000 [==============================] - 2s 193us/step - loss: 3.2881 - acc: 0.7960\n",
      "Epoch 84/100\n",
      "8000/8000 [==============================] - 1s 187us/step - loss: 3.2881 - acc: 0.7960\n",
      "Epoch 85/100\n",
      "8000/8000 [==============================] - 2s 206us/step - loss: 3.2881 - acc: 0.7960\n",
      "Epoch 86/100\n",
      "8000/8000 [==============================] - 2s 211us/step - loss: 3.2881 - acc: 0.7960\n",
      "Epoch 87/100\n",
      "8000/8000 [==============================] - 1s 186us/step - loss: 3.2881 - acc: 0.7960\n",
      "Epoch 88/100\n",
      "8000/8000 [==============================] - 2s 189us/step - loss: 3.2881 - acc: 0.7960\n",
      "Epoch 89/100\n",
      "8000/8000 [==============================] - 2s 189us/step - loss: 3.2881 - acc: 0.7960\n",
      "Epoch 90/100\n",
      "8000/8000 [==============================] - 2s 188us/step - loss: 3.2881 - acc: 0.7960\n",
      "Epoch 91/100\n",
      "8000/8000 [==============================] - 2s 226us/step - loss: 3.2881 - acc: 0.7960\n",
      "Epoch 92/100\n",
      "8000/8000 [==============================] - 2s 192us/step - loss: 3.2881 - acc: 0.7960\n",
      "Epoch 93/100\n",
      "8000/8000 [==============================] - 1s 186us/step - loss: 3.2881 - acc: 0.7960\n",
      "Epoch 94/100\n",
      "8000/8000 [==============================] - 2s 222us/step - loss: 3.2881 - acc: 0.7960\n",
      "Epoch 95/100\n",
      "8000/8000 [==============================] - 2s 209us/step - loss: 3.2881 - acc: 0.7960\n",
      "Epoch 96/100\n",
      "8000/8000 [==============================] - 2s 232us/step - loss: 3.2881 - acc: 0.7960\n",
      "Epoch 97/100\n",
      "8000/8000 [==============================] - 2s 234us/step - loss: 3.2881 - acc: 0.7960\n",
      "Epoch 98/100\n",
      "8000/8000 [==============================] - 2s 284us/step - loss: 3.2881 - acc: 0.7960\n",
      "Epoch 99/100\n",
      "8000/8000 [==============================] - 2s 250us/step - loss: 3.2881 - acc: 0.7960\n",
      "Epoch 100/100\n",
      "8000/8000 [==============================] - 2s 266us/step - loss: 3.2881 - acc: 0.7960\n"
     ]
    },
    {
     "data": {
      "text/plain": [
       "<keras.callbacks.History at 0x1a31b18b70>"
      ]
     },
     "execution_count": 14,
     "metadata": {},
     "output_type": "execute_result"
    }
   ],
   "source": [
    "del classifier\n",
    "\n",
    "classifier = Sequential()\n",
    "\n",
    "classifier.add(Dense(units = 6, kernel_initializer = 'uniform', activation = 'sigmoid', input_dim = 11))\n",
    "\n",
    "classifier.add(Dense(units = 6, kernel_initializer = 'uniform', activation = 'sigmoid'))\n",
    "\n",
    "classifier.add(Dense(units = 1, kernel_initializer = 'uniform', activation = 'tanh'))\n",
    "\n",
    "classifier.compile(optimizer = 'adam', loss = 'binary_crossentropy', metrics = ['accuracy'])\n",
    "\n",
    "classifier.fit(X_train, y_train, batch_size = 10, epochs = 100)"
   ]
  },
  {
   "cell_type": "code",
   "execution_count": 10,
   "metadata": {},
   "outputs": [],
   "source": [
    "y_pred = classifier.predict(X_test)\n",
    "y_pred = (y_pred > 0.5)"
   ]
  },
  {
   "cell_type": "markdown",
   "metadata": {},
   "source": [
    "# Making the Confusion Matrix"
   ]
  },
  {
   "cell_type": "code",
   "execution_count": 11,
   "metadata": {},
   "outputs": [
    {
     "name": "stdout",
     "output_type": "stream",
     "text": [
      "[[1542   53]\n",
      " [ 262  143]]\n"
     ]
    }
   ],
   "source": [
    "from sklearn.metrics import confusion_matrix\n",
    "cm = confusion_matrix(y_test, y_pred)\n",
    "print(cm)"
   ]
  },
  {
   "cell_type": "markdown",
   "metadata": {},
   "source": [
    "# Initialising the 3rd ANN"
   ]
  },
  {
   "cell_type": "code",
   "execution_count": 13,
   "metadata": {},
   "outputs": [
    {
     "name": "stdout",
     "output_type": "stream",
     "text": [
      "Epoch 1/100\n",
      "8000/8000 [==============================] - 1s 135us/step - loss: 0.5129 - accuracy: 0.7959\n",
      "Epoch 2/100\n",
      "8000/8000 [==============================] - 1s 105us/step - loss: 0.4544 - accuracy: 0.7961\n",
      "Epoch 3/100\n",
      "8000/8000 [==============================] - 1s 121us/step - loss: 0.4512 - accuracy: 0.7960\n",
      "Epoch 4/100\n",
      "8000/8000 [==============================] - 1s 123us/step - loss: 0.4515 - accuracy: 0.7958\n",
      "Epoch 5/100\n",
      "8000/8000 [==============================] - 1s 138us/step - loss: 0.4569 - accuracy: 0.7956\n",
      "Epoch 6/100\n",
      "8000/8000 [==============================] - 1s 144us/step - loss: 0.4550 - accuracy: 0.7959\n",
      "Epoch 7/100\n",
      "8000/8000 [==============================] - 1s 109us/step - loss: 0.4493 - accuracy: 0.7960\n",
      "Epoch 8/100\n",
      "8000/8000 [==============================] - 1s 133us/step - loss: 0.4661 - accuracy: 0.7960\n",
      "Epoch 9/100\n",
      "8000/8000 [==============================] - 1s 123us/step - loss: 0.4580 - accuracy: 0.7960\n",
      "Epoch 10/100\n",
      "8000/8000 [==============================] - 1s 126us/step - loss: 0.4519 - accuracy: 0.7960\n",
      "Epoch 11/100\n",
      "8000/8000 [==============================] - 1s 118us/step - loss: 0.4517 - accuracy: 0.7960\n",
      "Epoch 12/100\n",
      "8000/8000 [==============================] - 1s 125us/step - loss: 0.4479 - accuracy: 0.7959\n",
      "Epoch 13/100\n",
      "8000/8000 [==============================] - 1s 121us/step - loss: 0.4507 - accuracy: 0.7959\n",
      "Epoch 14/100\n",
      "8000/8000 [==============================] - 1s 149us/step - loss: 0.4544 - accuracy: 0.7958\n",
      "Epoch 15/100\n",
      "8000/8000 [==============================] - 1s 133us/step - loss: 0.4626 - accuracy: 0.7961\n",
      "Epoch 16/100\n",
      "8000/8000 [==============================] - 1s 145us/step - loss: 0.4551 - accuracy: 0.7960\n",
      "Epoch 17/100\n",
      "8000/8000 [==============================] - 1s 113us/step - loss: 0.4473 - accuracy: 0.7960\n",
      "Epoch 18/100\n",
      "8000/8000 [==============================] - 1s 133us/step - loss: 0.4497 - accuracy: 0.7959\n",
      "Epoch 19/100\n",
      "8000/8000 [==============================] - 1s 110us/step - loss: 0.4450 - accuracy: 0.7958\n",
      "Epoch 20/100\n",
      "8000/8000 [==============================] - 1s 109us/step - loss: 0.4476 - accuracy: 0.7960\n",
      "Epoch 21/100\n",
      "8000/8000 [==============================] - 1s 117us/step - loss: 0.4517 - accuracy: 0.7959\n",
      "Epoch 22/100\n",
      "8000/8000 [==============================] - 1s 113us/step - loss: 0.4574 - accuracy: 0.7960\n",
      "Epoch 23/100\n",
      "8000/8000 [==============================] - 1s 111us/step - loss: 0.4459 - accuracy: 0.7960\n",
      "Epoch 24/100\n",
      "8000/8000 [==============================] - 1s 114us/step - loss: 0.4479 - accuracy: 0.7960\n",
      "Epoch 25/100\n",
      "8000/8000 [==============================] - 1s 119us/step - loss: 0.4510 - accuracy: 0.7959\n",
      "Epoch 26/100\n",
      "8000/8000 [==============================] - 1s 112us/step - loss: 0.4461 - accuracy: 0.7960\n",
      "Epoch 27/100\n",
      "8000/8000 [==============================] - 1s 132us/step - loss: 0.4455 - accuracy: 0.7958\n",
      "Epoch 28/100\n",
      "8000/8000 [==============================] - 1s 131us/step - loss: 0.4518 - accuracy: 0.7966\n",
      "Epoch 29/100\n",
      "8000/8000 [==============================] - 1s 112us/step - loss: 0.4524 - accuracy: 0.7959\n",
      "Epoch 30/100\n",
      "8000/8000 [==============================] - 1s 107us/step - loss: 0.4479 - accuracy: 0.7960\n",
      "Epoch 31/100\n",
      "8000/8000 [==============================] - 1s 114us/step - loss: 0.4457 - accuracy: 0.7959\n",
      "Epoch 32/100\n",
      "8000/8000 [==============================] - 1s 118us/step - loss: 0.4469 - accuracy: 0.7983\n",
      "Epoch 33/100\n",
      "8000/8000 [==============================] - 1s 125us/step - loss: 0.4519 - accuracy: 0.8000\n",
      "Epoch 34/100\n",
      "8000/8000 [==============================] - 1s 125us/step - loss: 0.4444 - accuracy: 0.7968\n",
      "Epoch 35/100\n",
      "8000/8000 [==============================] - 1s 113us/step - loss: 0.4427 - accuracy: 0.8008\n",
      "Epoch 36/100\n",
      "8000/8000 [==============================] - 1s 111us/step - loss: 0.4498 - accuracy: 0.8023\n",
      "Epoch 37/100\n",
      "8000/8000 [==============================] - 1s 121us/step - loss: 0.4341 - accuracy: 0.8008\n",
      "Epoch 38/100\n",
      "8000/8000 [==============================] - 1s 148us/step - loss: 0.4444 - accuracy: 0.8076\n",
      "Epoch 39/100\n",
      "8000/8000 [==============================] - 1s 111us/step - loss: 0.4395 - accuracy: 0.8014\n",
      "Epoch 40/100\n",
      "8000/8000 [==============================] - 1s 111us/step - loss: 0.4286 - accuracy: 0.8011\n",
      "Epoch 41/100\n",
      "8000/8000 [==============================] - 1s 110us/step - loss: 0.4217 - accuracy: 0.8056\n",
      "Epoch 42/100\n",
      "8000/8000 [==============================] - 1s 109us/step - loss: 0.4202 - accuracy: 0.8046\n",
      "Epoch 43/100\n",
      "8000/8000 [==============================] - 1s 109us/step - loss: 0.4249 - accuracy: 0.8085\n",
      "Epoch 44/100\n",
      "8000/8000 [==============================] - 1s 108us/step - loss: 0.4252 - accuracy: 0.8048\n",
      "Epoch 45/100\n",
      "8000/8000 [==============================] - 1s 108us/step - loss: 0.4195 - accuracy: 0.8036\n",
      "Epoch 46/100\n",
      "8000/8000 [==============================] - 1s 123us/step - loss: 0.4252 - accuracy: 0.8016\n",
      "Epoch 47/100\n",
      "8000/8000 [==============================] - 1s 139us/step - loss: 0.4183 - accuracy: 0.8008\n",
      "Epoch 48/100\n",
      "8000/8000 [==============================] - 1s 112us/step - loss: 0.4216 - accuracy: 0.8084\n",
      "Epoch 49/100\n",
      "8000/8000 [==============================] - 1s 119us/step - loss: 0.4228 - accuracy: 0.8146\n",
      "Epoch 50/100\n",
      "8000/8000 [==============================] - 1s 120us/step - loss: 0.4253 - accuracy: 0.8126\n",
      "Epoch 51/100\n",
      "8000/8000 [==============================] - 1s 117us/step - loss: 0.4256 - accuracy: 0.8163\n",
      "Epoch 52/100\n",
      "8000/8000 [==============================] - 1s 128us/step - loss: 0.4453 - accuracy: 0.8275\n",
      "Epoch 53/100\n",
      "8000/8000 [==============================] - 2s 191us/step - loss: 0.4215 - accuracy: 0.8209\n",
      "Epoch 54/100\n",
      "8000/8000 [==============================] - 1s 107us/step - loss: 0.4362 - accuracy: 0.8238\n",
      "Epoch 55/100\n",
      "8000/8000 [==============================] - 1s 104us/step - loss: 0.4434 - accuracy: 0.8301\n",
      "Epoch 56/100\n",
      "8000/8000 [==============================] - 1s 108us/step - loss: 0.4240 - accuracy: 0.8276\n",
      "Epoch 57/100\n",
      "8000/8000 [==============================] - 1s 106us/step - loss: 0.4125 - accuracy: 0.8232\n",
      "Epoch 58/100\n",
      "8000/8000 [==============================] - 1s 106us/step - loss: 0.4237 - accuracy: 0.8370\n",
      "Epoch 59/100\n",
      "8000/8000 [==============================] - 1s 116us/step - loss: 0.4206 - accuracy: 0.8381\n",
      "Epoch 60/100\n",
      "8000/8000 [==============================] - 1s 167us/step - loss: 0.4245 - accuracy: 0.8434\n",
      "Epoch 61/100\n",
      "8000/8000 [==============================] - 2s 193us/step - loss: 0.4539 - accuracy: 0.8460\n",
      "Epoch 62/100\n",
      "8000/8000 [==============================] - 2s 195us/step - loss: 0.4400 - accuracy: 0.8496\n",
      "Epoch 63/100\n",
      "8000/8000 [==============================] - 1s 154us/step - loss: 0.4314 - accuracy: 0.8407\n",
      "Epoch 64/100\n",
      "8000/8000 [==============================] - 1s 153us/step - loss: 0.4278 - accuracy: 0.8356\n",
      "Epoch 65/100\n",
      "8000/8000 [==============================] - 1s 161us/step - loss: 0.4583 - accuracy: 0.8390\n",
      "Epoch 66/100\n",
      "8000/8000 [==============================] - 1s 128us/step - loss: 0.4350 - accuracy: 0.8388\n",
      "Epoch 67/100\n",
      "8000/8000 [==============================] - 1s 109us/step - loss: 0.4226 - accuracy: 0.8317\n",
      "Epoch 68/100\n",
      "8000/8000 [==============================] - 1s 108us/step - loss: 0.4163 - accuracy: 0.8256\n",
      "Epoch 69/100\n",
      "8000/8000 [==============================] - 1s 116us/step - loss: 0.4188 - accuracy: 0.8234\n",
      "Epoch 70/100\n",
      "8000/8000 [==============================] - 1s 122us/step - loss: 0.4130 - accuracy: 0.8265\n",
      "Epoch 71/100\n",
      "8000/8000 [==============================] - 1s 115us/step - loss: 0.4158 - accuracy: 0.8232\n",
      "Epoch 72/100\n",
      "8000/8000 [==============================] - 1s 109us/step - loss: 0.4187 - accuracy: 0.8217\n",
      "Epoch 73/100\n",
      "8000/8000 [==============================] - 1s 112us/step - loss: 0.4144 - accuracy: 0.8185\n",
      "Epoch 74/100\n",
      "8000/8000 [==============================] - 1s 107us/step - loss: 0.4145 - accuracy: 0.8260\n",
      "Epoch 75/100\n",
      "8000/8000 [==============================] - 1s 129us/step - loss: 0.4261 - accuracy: 0.8364\n",
      "Epoch 76/100\n",
      "8000/8000 [==============================] - 1s 148us/step - loss: 0.4324 - accuracy: 0.8313\n",
      "Epoch 77/100\n",
      "8000/8000 [==============================] - 1s 169us/step - loss: 0.4189 - accuracy: 0.8251\n",
      "Epoch 78/100\n"
     ]
    },
    {
     "name": "stdout",
     "output_type": "stream",
     "text": [
      "8000/8000 [==============================] - 1s 117us/step - loss: 0.4165 - accuracy: 0.8217\n",
      "Epoch 79/100\n",
      "8000/8000 [==============================] - 1s 112us/step - loss: 0.4130 - accuracy: 0.8216\n",
      "Epoch 80/100\n",
      "8000/8000 [==============================] - 1s 128us/step - loss: 0.4183 - accuracy: 0.8209\n",
      "Epoch 81/100\n",
      "8000/8000 [==============================] - 1s 129us/step - loss: 0.4062 - accuracy: 0.8238\n",
      "Epoch 82/100\n",
      "8000/8000 [==============================] - 1s 133us/step - loss: 0.4414 - accuracy: 0.8311\n",
      "Epoch 83/100\n",
      "8000/8000 [==============================] - 1s 138us/step - loss: 0.4140 - accuracy: 0.8216\n",
      "Epoch 84/100\n",
      "8000/8000 [==============================] - 1s 133us/step - loss: 0.4207 - accuracy: 0.8354\n",
      "Epoch 85/100\n",
      "8000/8000 [==============================] - 1s 115us/step - loss: 0.4256 - accuracy: 0.8443\n",
      "Epoch 86/100\n",
      "8000/8000 [==============================] - 1s 116us/step - loss: 0.4172 - accuracy: 0.8438\n",
      "Epoch 87/100\n",
      "8000/8000 [==============================] - 1s 112us/step - loss: 0.4357 - accuracy: 0.8238\n",
      "Epoch 88/100\n",
      "8000/8000 [==============================] - 1s 136us/step - loss: 0.4258 - accuracy: 0.8251\n",
      "Epoch 89/100\n",
      "8000/8000 [==============================] - 1s 143us/step - loss: 0.4331 - accuracy: 0.8227\n",
      "Epoch 90/100\n",
      "8000/8000 [==============================] - 1s 123us/step - loss: 0.4167 - accuracy: 0.8160\n",
      "Epoch 91/100\n",
      "8000/8000 [==============================] - 1s 128us/step - loss: 0.4126 - accuracy: 0.8188\n",
      "Epoch 92/100\n",
      "8000/8000 [==============================] - 1s 119us/step - loss: 0.4184 - accuracy: 0.8267\n",
      "Epoch 93/100\n",
      "8000/8000 [==============================] - 1s 116us/step - loss: 0.4077 - accuracy: 0.8184\n",
      "Epoch 94/100\n",
      "8000/8000 [==============================] - 1s 125us/step - loss: 0.4056 - accuracy: 0.8191\n",
      "Epoch 95/100\n",
      "8000/8000 [==============================] - 1s 121us/step - loss: 0.4129 - accuracy: 0.8309\n",
      "Epoch 96/100\n",
      "8000/8000 [==============================] - 1s 132us/step - loss: 0.4038 - accuracy: 0.8341\n",
      "Epoch 97/100\n",
      "8000/8000 [==============================] - 1s 146us/step - loss: 0.4100 - accuracy: 0.8386\n",
      "Epoch 98/100\n",
      "8000/8000 [==============================] - 1s 130us/step - loss: 0.4269 - accuracy: 0.8441\n",
      "Epoch 99/100\n",
      "8000/8000 [==============================] - 1s 150us/step - loss: 0.4182 - accuracy: 0.8328\n",
      "Epoch 100/100\n",
      "8000/8000 [==============================] - 1s 123us/step - loss: 0.4127 - accuracy: 0.8428\n"
     ]
    },
    {
     "data": {
      "text/plain": [
       "<keras.callbacks.callbacks.History at 0x7f19f4e01278>"
      ]
     },
     "execution_count": 13,
     "metadata": {},
     "output_type": "execute_result"
    }
   ],
   "source": [
    "del classifier\n",
    "\n",
    "classifier = Sequential()\n",
    "\n",
    "classifier.add(Dense(units = 6, kernel_initializer = 'uniform', activation = 'tanh', input_dim = 11))\n",
    "\n",
    "classifier.add(Dense(units = 6, kernel_initializer = 'uniform', activation = 'tanh'))\n",
    "\n",
    "classifier.add(Dense(units = 1, kernel_initializer = 'uniform', activation = 'tanh'))\n",
    "\n",
    "classifier.compile(optimizer = 'adam', loss = 'binary_crossentropy', metrics = ['accuracy'])\n",
    "\n",
    "classifier.fit(X_train, y_train, batch_size = 10, epochs = 100)"
   ]
  },
  {
   "cell_type": "code",
   "execution_count": 14,
   "metadata": {},
   "outputs": [],
   "source": [
    "y_pred = classifier.predict(X_test)\n",
    "y_pred = (y_pred > 0.5)"
   ]
  },
  {
   "cell_type": "markdown",
   "metadata": {},
   "source": [
    "# Making the Confusion Matrix"
   ]
  },
  {
   "cell_type": "code",
   "execution_count": 15,
   "metadata": {},
   "outputs": [
    {
     "name": "stdout",
     "output_type": "stream",
     "text": [
      "[[1557   38]\n",
      " [ 261  144]]\n"
     ]
    }
   ],
   "source": [
    "from sklearn.metrics import confusion_matrix\n",
    "cm = confusion_matrix(y_test, y_pred)\n",
    "print(cm)"
   ]
  },
  {
   "cell_type": "markdown",
   "metadata": {},
   "source": [
    "---\n",
    "# Parte 4 - Evaluating, Improving and Tuning the ANN\n",
    "\n",
    "## Evaluating the ANN"
   ]
  },
  {
   "cell_type": "code",
   "execution_count": 16,
   "metadata": {},
   "outputs": [
    {
     "name": "stdout",
     "output_type": "stream",
     "text": [
      "accuracies:%s\n",
      "mean:%s\n",
      "variance:%s\n"
     ]
    }
   ],
   "source": [
    "from keras.wrappers.scikit_learn import KerasClassifier\n",
    "from sklearn.model_selection import cross_val_score\n",
    "from keras.models import Sequential\n",
    "from keras.layers import Dense\n",
    "\n",
    "def build_classifier():\n",
    "    classifier = Sequential()\n",
    "    classifier.add(Dense(units = 6, kernel_initializer = 'uniform', activation = 'tanh', input_dim = 11))\n",
    "    classifier.add(Dense(units = 6, kernel_initializer = 'uniform', activation = 'tanh'))\n",
    "    classifier.add(Dense(units = 1, kernel_initializer = 'uniform', activation = 'sigmoid'))\n",
    "    classifier.compile(optimizer = 'adam', loss = 'binary_crossentropy', metrics = ['accuracy'])\n",
    "    return classifier\n",
    "\n",
    "classifier = KerasClassifier(build_fn = build_classifier, batch_size = 10, epochs = 10)\n",
    "accuracies = cross_val_score(estimator = classifier, X = X_train, y = y_train, cv = 10, n_jobs = -1)\n",
    "mean = accuracies.mean()\n",
    "variance = accuracies.std()\n",
    "print(\"accuracies:%s\\nmean:%s\\nvariance:%s\".format(accuracies, mean, variance))"
   ]
  },
  {
   "cell_type": "markdown",
   "metadata": {},
   "source": [
    "# Improving the ANN\n",
    "# Dropout Regularization to reduce overfitting if needed"
   ]
  },
  {
   "cell_type": "code",
   "execution_count": 17,
   "metadata": {},
   "outputs": [],
   "source": [
    "from keras.layers import Dropout\n",
    "\n",
    "def build_classifier():\n",
    "    classifier = Sequential()\n",
    "    classifier.add(Dense(units = 6, kernel_initializer = 'uniform', activation = 'tanh', input_dim = 11))\n",
    "    classifier.add(Dropout(rate = 0.1))\n",
    "    classifier.add(Dense(units = 6, kernel_initializer = 'uniform', activation = 'tanh'))\n",
    "    classifier.add(Dropout(rate = 0.1))\n",
    "    classifier.add(Dense(units = 1, kernel_initializer = 'uniform', activation = 'sigmoid'))\n",
    "    classifier.compile(optimizer = 'adam', loss = 'binary_crossentropy', metrics = ['accuracy'])\n",
    "    return classifier\n",
    "\n",
    "classifier = KerasClassifier(build_fn = build_classifier, batch_size = 10, epochs = 10)\n",
    "accuracies = cross_val_score(estimator = classifier, X = X_train, y = y_train, cv = 10, n_jobs = -1)\n",
    "mean = accuracies.mean()\n",
    "variance = accuracies.std()"
   ]
  },
  {
   "cell_type": "markdown",
   "metadata": {},
   "source": [
    "# Tuning the ANN"
   ]
  },
  {
   "cell_type": "code",
   "execution_count": 18,
   "metadata": {},
   "outputs": [],
   "source": [
    "from keras.wrappers.scikit_learn import KerasClassifier\n",
    "from sklearn.model_selection import GridSearchCV\n",
    "from keras.models import Sequential\n",
    "from keras.layers import Dense\n",
    "\n",
    "def build_classifier(optimizer):\n",
    "    classifier = Sequential()\n",
    "    classifier.add(Dense(units = 6, kernel_initializer = 'uniform', activation = 'tanh', input_dim = 11))\n",
    "    classifier.add(Dropout(rate = 0.1))\n",
    "    classifier.add(Dense(units = 6, kernel_initializer = 'uniform', activation = 'tanh'))\n",
    "    classifier.add(Dropout(rate = 0.1))\n",
    "    classifier.add(Dense(units = 1, kernel_initializer = 'uniform', activation = 'sigmoid'))\n",
    "    classifier.compile(optimizer = optimizer, loss = 'binary_crossentropy', metrics = ['accuracy'])\n",
    "    return classifier\n",
    "\n",
    "classifier = KerasClassifier(build_fn = build_classifier)"
   ]
  },
  {
   "cell_type": "code",
   "execution_count": null,
   "metadata": {},
   "outputs": [],
   "source": [
    "parameters = {'batch_size': [2, 5, 8],\n",
    "              'epochs': [10, 10, 10],\n",
    "              'optimizer': ['adam', 'rmsprop']}\n",
    "\n",
    "grid_search = GridSearchCV(estimator = classifier,\n",
    "                           scoring = 'accuracy',\n",
    "                           param_grid = parameters,\n",
    "                           cv = 10)\n",
    "\n",
    "grid_search = grid_search.fit(X_train, y_train)\n",
    "\n",
    "best_parameters = grid_search.best_params_\n",
    "best_accuracy = grid_search.best_score_"
   ]
  },
  {
   "cell_type": "markdown",
   "metadata": {},
   "source": [
    "# FIM"
   ]
  },
  {
   "cell_type": "markdown",
   "metadata": {},
   "source": [
    "> Professor Diego Dorgam  \n",
    "> [@diegodorgam](https://twitter.com/diegodorgam)"
   ]
  }
 ],
 "metadata": {
  "kernelspec": {
   "display_name": "Python 3",
   "language": "python",
   "name": "python3"
  },
  "language_info": {
   "codemirror_mode": {
    "name": "ipython",
    "version": 3
   },
   "file_extension": ".py",
   "mimetype": "text/x-python",
   "name": "python",
   "nbconvert_exporter": "python",
   "pygments_lexer": "ipython3",
   "version": "3.7.3"
  }
 },
 "nbformat": 4,
 "nbformat_minor": 2
}
