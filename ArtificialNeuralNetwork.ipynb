{
 "cells": [
  {
   "cell_type": "markdown",
   "metadata": {},
   "source": [
    "# REDES NEURAIS ARTIFICIAIS\n",
    "\n",
    "[Aula 3 de Deep Learning](http://bit.ly/dn-unb03) da Engenharia de Software da UnB"
   ]
  },
  {
   "cell_type": "markdown",
   "metadata": {},
   "source": [
    "# Parte 1 - Pré-processamento dos Dados"
   ]
  },
  {
   "cell_type": "code",
   "execution_count": 3,
   "metadata": {},
   "outputs": [
    {
     "name": "stdout",
     "output_type": "stream",
     "text": [
      "Collecting numpy==1.16.2 (from -r requirements.txt (line 1))\n",
      "  Using cached https://files.pythonhosted.org/packages/91/e7/6c780e612d245cca62bc3ba8e263038f7c144a96a54f877f3714a0e8427e/numpy-1.16.2-cp37-cp37m-manylinux1_x86_64.whl\n",
      "Collecting pandas==0.24.2 (from -r requirements.txt (line 2))\n",
      "  Using cached https://files.pythonhosted.org/packages/22/e6/2d47835f91eb010036be207581fa113fb4e3822ec1b4bafb0d3d105fede6/pandas-0.24.2-cp37-cp37m-manylinux1_x86_64.whl\n",
      "Collecting matplotlib==3.0.3 (from -r requirements.txt (line 3))\n",
      "  Using cached https://files.pythonhosted.org/packages/83/2a/e47bbd9396af32376863a426baed62d9bf3091f81defd1fe81c5f33b11a3/matplotlib-3.0.3-cp37-cp37m-manylinux1_x86_64.whl\n",
      "Collecting sklearn==0.0 (from -r requirements.txt (line 4))\n",
      "Collecting tensorflow==2.3.1 (from -r requirements.txt (line 5))\n",
      "  Using cached https://files.pythonhosted.org/packages/eb/18/374af421dfbe74379a458e58ab40cf46b35c3206ce8e183e28c1c627494d/tensorflow-2.3.1-cp37-cp37m-manylinux2010_x86_64.whl\n",
      "Requirement already satisfied: python-dateutil>=2.5.0 in ./env/lib/python3.7/site-packages (from pandas==0.24.2->-r requirements.txt (line 2)) (2.8.1)\n",
      "Requirement already satisfied: pytz>=2011k in ./env/lib/python3.7/site-packages (from pandas==0.24.2->-r requirements.txt (line 2)) (2021.1)\n",
      "Requirement already satisfied: pyparsing!=2.0.4,!=2.1.2,!=2.1.6,>=2.0.1 in ./env/lib/python3.7/site-packages (from matplotlib==3.0.3->-r requirements.txt (line 3)) (2.4.7)\n",
      "Collecting kiwisolver>=1.0.1 (from matplotlib==3.0.3->-r requirements.txt (line 3))\n",
      "  Using cached https://files.pythonhosted.org/packages/d2/46/231de802ade4225b76b96cffe419cf3ce52bbe92e3b092cf12db7d11c207/kiwisolver-1.3.1-cp37-cp37m-manylinux1_x86_64.whl\n",
      "Collecting cycler>=0.10 (from matplotlib==3.0.3->-r requirements.txt (line 3))\n",
      "  Using cached https://files.pythonhosted.org/packages/f7/d2/e07d3ebb2bd7af696440ce7e754c59dd546ffe1bbe732c8ab68b9c834e61/cycler-0.10.0-py2.py3-none-any.whl\n",
      "Collecting scikit-learn (from sklearn==0.0->-r requirements.txt (line 4))\n",
      "  Using cached https://files.pythonhosted.org/packages/f3/74/eb899f41d55f957e2591cde5528e75871f817d9fb46d4732423ecaca736d/scikit_learn-0.24.1-cp37-cp37m-manylinux2010_x86_64.whl\n",
      "Requirement already satisfied: six>=1.12.0 in ./env/lib/python3.7/site-packages (from tensorflow==2.3.1->-r requirements.txt (line 5)) (1.15.0)\n",
      "Collecting tensorboard<3,>=2.3.0 (from tensorflow==2.3.1->-r requirements.txt (line 5))\n",
      "  Using cached https://files.pythonhosted.org/packages/64/21/eebd23060763fedeefb78bc2b286e00fa1d8abda6f70efa2ee08c28af0d4/tensorboard-2.4.1-py3-none-any.whl\n",
      "Collecting tensorflow-estimator<2.4.0,>=2.3.0 (from tensorflow==2.3.1->-r requirements.txt (line 5))\n",
      "  Using cached https://files.pythonhosted.org/packages/e9/ed/5853ec0ae380cba4588eab1524e18ece1583b65f7ae0e97321f5ff9dfd60/tensorflow_estimator-2.3.0-py2.py3-none-any.whl\n",
      "Collecting grpcio>=1.8.6 (from tensorflow==2.3.1->-r requirements.txt (line 5))\n",
      "  Using cached https://files.pythonhosted.org/packages/72/10/dfe2bc37369850da7b631cbb40ea2175f02e109ae6810af2ff29b0faf1d6/grpcio-1.36.1-cp37-cp37m-manylinux2010_x86_64.whl\n",
      "Collecting protobuf>=3.9.2 (from tensorflow==2.3.1->-r requirements.txt (line 5))\n",
      "  Using cached https://files.pythonhosted.org/packages/ca/32/06ac05342b5b77aa5ad4f0ffd5df32eea9092cd8db55f9472d55acab92e2/protobuf-3.15.5-cp37-cp37m-manylinux1_x86_64.whl\n",
      "Collecting wrapt>=1.11.1 (from tensorflow==2.3.1->-r requirements.txt (line 5))\n",
      "Collecting opt-einsum>=2.3.2 (from tensorflow==2.3.1->-r requirements.txt (line 5))\n",
      "  Using cached https://files.pythonhosted.org/packages/bc/19/404708a7e54ad2798907210462fd950c3442ea51acc8790f3da48d2bee8b/opt_einsum-3.3.0-py3-none-any.whl\n",
      "Collecting google-pasta>=0.1.8 (from tensorflow==2.3.1->-r requirements.txt (line 5))\n",
      "  Using cached https://files.pythonhosted.org/packages/a3/de/c648ef6835192e6e2cc03f40b19eeda4382c49b5bafb43d88b931c4c74ac/google_pasta-0.2.0-py3-none-any.whl\n",
      "Collecting termcolor>=1.1.0 (from tensorflow==2.3.1->-r requirements.txt (line 5))\n",
      "  Using cached https://files.pythonhosted.org/packages/8a/48/a76be51647d0eb9f10e2a4511bf3ffb8cc1e6b14e9e4fab46173aa79f981/termcolor-1.1.0.tar.gz\n",
      "Collecting absl-py>=0.7.0 (from tensorflow==2.3.1->-r requirements.txt (line 5))\n",
      "  Using cached https://files.pythonhosted.org/packages/92/c9/ef0fae29182d7a867d203f0eff8296b60da92098cc41db33a434f4be84bf/absl_py-0.12.0-py3-none-any.whl\n",
      "Collecting keras-preprocessing<1.2,>=1.1.1 (from tensorflow==2.3.1->-r requirements.txt (line 5))\n",
      "  Using cached https://files.pythonhosted.org/packages/79/4c/7c3275a01e12ef9368a892926ab932b33bb13d55794881e3573482b378a7/Keras_Preprocessing-1.1.2-py2.py3-none-any.whl\n",
      "Collecting h5py<2.11.0,>=2.10.0 (from tensorflow==2.3.1->-r requirements.txt (line 5))\n",
      "  Using cached https://files.pythonhosted.org/packages/3f/c0/abde58b837e066bca19a3f7332d9d0493521d7dd6b48248451a9e3fe2214/h5py-2.10.0-cp37-cp37m-manylinux1_x86_64.whl\n",
      "Collecting gast==0.3.3 (from tensorflow==2.3.1->-r requirements.txt (line 5))\n",
      "  Using cached https://files.pythonhosted.org/packages/d6/84/759f5dd23fec8ba71952d97bcc7e2c9d7d63bdc582421f3cd4be845f0c98/gast-0.3.3-py2.py3-none-any.whl\n",
      "Collecting wheel>=0.26 (from tensorflow==2.3.1->-r requirements.txt (line 5))\n",
      "  Using cached https://files.pythonhosted.org/packages/65/63/39d04c74222770ed1589c0eaba06c05891801219272420b40311cd60c880/wheel-0.36.2-py2.py3-none-any.whl\n",
      "Collecting astunparse==1.6.3 (from tensorflow==2.3.1->-r requirements.txt (line 5))\n",
      "  Using cached https://files.pythonhosted.org/packages/2b/03/13dde6512ad7b4557eb792fbcf0c653af6076b81e5941d36ec61f7ce6028/astunparse-1.6.3-py2.py3-none-any.whl\n",
      "Collecting threadpoolctl>=2.0.0 (from scikit-learn->sklearn==0.0->-r requirements.txt (line 4))\n",
      "  Using cached https://files.pythonhosted.org/packages/f7/12/ec3f2e203afa394a149911729357aa48affc59c20e2c1c8297a60f33f133/threadpoolctl-2.1.0-py3-none-any.whl\n",
      "Collecting joblib>=0.11 (from scikit-learn->sklearn==0.0->-r requirements.txt (line 4))\n",
      "  Using cached https://files.pythonhosted.org/packages/55/85/70c6602b078bd9e6f3da4f467047e906525c355a4dacd4f71b97a35d9897/joblib-1.0.1-py3-none-any.whl\n",
      "Collecting scipy>=0.19.1 (from scikit-learn->sklearn==0.0->-r requirements.txt (line 4))\n",
      "  Using cached https://files.pythonhosted.org/packages/b6/3a/9e0649ab2d5ade703baa70ef980aa08739226e5d6a642f084bb201a92fc2/scipy-1.6.1-cp37-cp37m-manylinux1_x86_64.whl\n",
      "Collecting setuptools>=41.0.0 (from tensorboard<3,>=2.3.0->tensorflow==2.3.1->-r requirements.txt (line 5))\n",
      "  Using cached https://files.pythonhosted.org/packages/60/6a/dd9533ae9367a1f35b1b704e2ac9554a61e6dfa4d97e1d86c3760e1e135d/setuptools-54.1.1-py3-none-any.whl\n",
      "Requirement already satisfied: requests<3,>=2.21.0 in ./env/lib/python3.7/site-packages (from tensorboard<3,>=2.3.0->tensorflow==2.3.1->-r requirements.txt (line 5)) (2.25.1)\n",
      "Collecting google-auth<2,>=1.6.3 (from tensorboard<3,>=2.3.0->tensorflow==2.3.1->-r requirements.txt (line 5))\n",
      "  Using cached https://files.pythonhosted.org/packages/0b/2f/1aa41b81d8ed16c22c02dbc7a1c9890dc81f826958063d7e2ae16f475a5e/google_auth-1.27.1-py2.py3-none-any.whl\n",
      "Collecting markdown>=2.6.8 (from tensorboard<3,>=2.3.0->tensorflow==2.3.1->-r requirements.txt (line 5))\n",
      "  Using cached https://files.pythonhosted.org/packages/6e/33/1ae0f71395e618d6140fbbc9587cc3156591f748226075e0f7d6f9176522/Markdown-3.3.4-py3-none-any.whl\n",
      "Collecting werkzeug>=0.11.15 (from tensorboard<3,>=2.3.0->tensorflow==2.3.1->-r requirements.txt (line 5))\n",
      "  Using cached https://files.pythonhosted.org/packages/cc/94/5f7079a0e00bd6863ef8f1da638721e9da21e5bacee597595b318f71d62e/Werkzeug-1.0.1-py2.py3-none-any.whl\n",
      "Collecting tensorboard-plugin-wit>=1.6.0 (from tensorboard<3,>=2.3.0->tensorflow==2.3.1->-r requirements.txt (line 5))\n",
      "  Using cached https://files.pythonhosted.org/packages/1a/c1/499e600ba0c618b451cd9c425ae1c177249940a2086316552fee7d86c954/tensorboard_plugin_wit-1.8.0-py3-none-any.whl\n",
      "Collecting google-auth-oauthlib<0.5,>=0.4.1 (from tensorboard<3,>=2.3.0->tensorflow==2.3.1->-r requirements.txt (line 5))\n",
      "  Using cached https://files.pythonhosted.org/packages/cb/f5/6e656a95ca0b432c5f090239962f618c3b45447037d21e1c049123521f53/google_auth_oauthlib-0.4.3-py2.py3-none-any.whl\n",
      "Requirement already satisfied: chardet<5,>=3.0.2 in ./env/lib/python3.7/site-packages (from requests<3,>=2.21.0->tensorboard<3,>=2.3.0->tensorflow==2.3.1->-r requirements.txt (line 5)) (4.0.0)\n",
      "Requirement already satisfied: idna<3,>=2.5 in ./env/lib/python3.7/site-packages (from requests<3,>=2.21.0->tensorboard<3,>=2.3.0->tensorflow==2.3.1->-r requirements.txt (line 5)) (2.10)\n",
      "Requirement already satisfied: certifi>=2017.4.17 in ./env/lib/python3.7/site-packages (from requests<3,>=2.21.0->tensorboard<3,>=2.3.0->tensorflow==2.3.1->-r requirements.txt (line 5)) (2020.12.5)\n",
      "Requirement already satisfied: urllib3<1.27,>=1.21.1 in ./env/lib/python3.7/site-packages (from requests<3,>=2.21.0->tensorboard<3,>=2.3.0->tensorflow==2.3.1->-r requirements.txt (line 5)) (1.26.3)\n",
      "Collecting cachetools<5.0,>=2.0.0 (from google-auth<2,>=1.6.3->tensorboard<3,>=2.3.0->tensorflow==2.3.1->-r requirements.txt (line 5))\n",
      "  Using cached https://files.pythonhosted.org/packages/bb/72/8df2e0dc991f1a1d2c6869404e7622e8ee50d80bff357dbb57c3df70305b/cachetools-4.2.1-py3-none-any.whl\n",
      "Collecting pyasn1-modules>=0.2.1 (from google-auth<2,>=1.6.3->tensorboard<3,>=2.3.0->tensorflow==2.3.1->-r requirements.txt (line 5))\n",
      "  Using cached https://files.pythonhosted.org/packages/95/de/214830a981892a3e286c3794f41ae67a4495df1108c3da8a9f62159b9a9d/pyasn1_modules-0.2.8-py2.py3-none-any.whl\n",
      "Collecting rsa<5,>=3.1.4; python_version >= \"3.6\" (from google-auth<2,>=1.6.3->tensorboard<3,>=2.3.0->tensorflow==2.3.1->-r requirements.txt (line 5))\n",
      "  Using cached https://files.pythonhosted.org/packages/e9/93/0c0f002031f18b53af7a6166103c02b9c0667be528944137cc954ec921b3/rsa-4.7.2-py3-none-any.whl\n",
      "Requirement already satisfied: importlib-metadata; python_version < \"3.8\" in ./env/lib/python3.7/site-packages (from markdown>=2.6.8->tensorboard<3,>=2.3.0->tensorflow==2.3.1->-r requirements.txt (line 5)) (3.7.2)\n",
      "Collecting requests-oauthlib>=0.7.0 (from google-auth-oauthlib<0.5,>=0.4.1->tensorboard<3,>=2.3.0->tensorflow==2.3.1->-r requirements.txt (line 5))\n",
      "  Using cached https://files.pythonhosted.org/packages/a3/12/b92740d845ab62ea4edf04d2f4164d82532b5a0b03836d4d4e71c6f3d379/requests_oauthlib-1.3.0-py2.py3-none-any.whl\n",
      "Collecting pyasn1<0.5.0,>=0.4.6 (from pyasn1-modules>=0.2.1->google-auth<2,>=1.6.3->tensorboard<3,>=2.3.0->tensorflow==2.3.1->-r requirements.txt (line 5))\n",
      "  Using cached https://files.pythonhosted.org/packages/62/1e/a94a8d635fa3ce4cfc7f506003548d0a2447ae76fd5ca53932970fe3053f/pyasn1-0.4.8-py2.py3-none-any.whl\n",
      "Requirement already satisfied: typing-extensions>=3.6.4; python_version < \"3.8\" in ./env/lib/python3.7/site-packages (from importlib-metadata; python_version < \"3.8\"->markdown>=2.6.8->tensorboard<3,>=2.3.0->tensorflow==2.3.1->-r requirements.txt (line 5)) (3.7.4.3)\n",
      "Requirement already satisfied: zipp>=0.5 in ./env/lib/python3.7/site-packages (from importlib-metadata; python_version < \"3.8\"->markdown>=2.6.8->tensorboard<3,>=2.3.0->tensorflow==2.3.1->-r requirements.txt (line 5)) (3.4.1)\n",
      "Collecting oauthlib>=3.0.0 (from requests-oauthlib>=0.7.0->google-auth-oauthlib<0.5,>=0.4.1->tensorboard<3,>=2.3.0->tensorflow==2.3.1->-r requirements.txt (line 5))\n",
      "  Using cached https://files.pythonhosted.org/packages/05/57/ce2e7a8fa7c0afb54a0581b14a65b56e62b5759dbc98e80627142b8a3704/oauthlib-3.1.0-py2.py3-none-any.whl\n",
      "\u001b[31mscipy 1.6.1 has requirement numpy>=1.16.5, but you'll have numpy 1.16.2 which is incompatible.\u001b[0m\n",
      "Installing collected packages: numpy, pandas, kiwisolver, cycler, matplotlib, threadpoolctl, joblib, scipy, scikit-learn, sklearn, protobuf, setuptools, cachetools, pyasn1, pyasn1-modules, rsa, google-auth, grpcio, markdown, wheel, werkzeug, tensorboard-plugin-wit, oauthlib, requests-oauthlib, google-auth-oauthlib, absl-py, tensorboard, tensorflow-estimator, wrapt, opt-einsum, google-pasta, termcolor, keras-preprocessing, h5py, gast, astunparse, tensorflow\n",
      "  Found existing installation: setuptools 40.8.0\n",
      "    Uninstalling setuptools-40.8.0:\n",
      "      Successfully uninstalled setuptools-40.8.0\n",
      "  Running setup.py install for termcolor ... \u001b[?25ldone\n",
      "\u001b[?25hSuccessfully installed absl-py-0.12.0 astunparse-1.6.3 cachetools-4.2.1 cycler-0.10.0 gast-0.3.3 google-auth-1.27.1 google-auth-oauthlib-0.4.3 google-pasta-0.2.0 grpcio-1.36.1 h5py-2.10.0 joblib-1.0.1 keras-preprocessing-1.1.2 kiwisolver-1.3.1 markdown-3.3.4 matplotlib-3.0.3 numpy-1.16.2 oauthlib-3.1.0 opt-einsum-3.3.0 pandas-0.24.2 protobuf-3.15.5 pyasn1-0.4.8 pyasn1-modules-0.2.8 requests-oauthlib-1.3.0 rsa-4.7.2 scikit-learn-0.24.1 scipy-1.6.1 setuptools-54.1.1 sklearn-0.0 tensorboard-2.4.1 tensorboard-plugin-wit-1.8.0 tensorflow-2.3.1 tensorflow-estimator-2.3.0 termcolor-1.1.0 threadpoolctl-2.1.0 werkzeug-1.0.1 wheel-0.36.2 wrapt-1.12.1\n",
      "\u001b[33mYou are using pip version 19.0.3, however version 21.0.1 is available.\n",
      "You should consider upgrading via the 'pip install --upgrade pip' command.\u001b[0m\n"
     ]
    }
   ],
   "source": [
    "!pip install -r requirements.txt"
   ]
  },
  {
   "cell_type": "markdown",
   "metadata": {},
   "source": [
    "### Importar as libs"
   ]
  },
  {
   "cell_type": "code",
   "execution_count": 5,
   "metadata": {
    "colab": {},
    "colab_type": "code",
    "id": "MxkJoQBkUIHC"
   },
   "outputs": [],
   "source": [
    "import numpy as np\n",
    "import pandas as pd\n",
    "import tensorflow as tf"
   ]
  },
  {
   "cell_type": "code",
   "execution_count": 6,
   "metadata": {
    "colab": {
     "base_uri": "https://localhost:8080/",
     "height": 34
    },
    "colab_type": "code",
    "id": "ZaTwK7ojXr2F",
    "outputId": "0b27a96d-d11a-43e8-ab4b-87c1f01896fe"
   },
   "outputs": [
    {
     "data": {
      "text/plain": [
       "'2.3.1'"
      ]
     },
     "execution_count": 6,
     "metadata": {},
     "output_type": "execute_result"
    }
   ],
   "source": [
    "tf.__version__"
   ]
  },
  {
   "cell_type": "markdown",
   "metadata": {},
   "source": [
    "### Importar o dataset"
   ]
  },
  {
   "cell_type": "code",
   "execution_count": 7,
   "metadata": {},
   "outputs": [
    {
     "data": {
      "text/html": [
       "<div>\n",
       "<style scoped>\n",
       "    .dataframe tbody tr th:only-of-type {\n",
       "        vertical-align: middle;\n",
       "    }\n",
       "\n",
       "    .dataframe tbody tr th {\n",
       "        vertical-align: top;\n",
       "    }\n",
       "\n",
       "    .dataframe thead th {\n",
       "        text-align: right;\n",
       "    }\n",
       "</style>\n",
       "<table border=\"1\" class=\"dataframe\">\n",
       "  <thead>\n",
       "    <tr style=\"text-align: right;\">\n",
       "      <th></th>\n",
       "      <th>RowNumber</th>\n",
       "      <th>CustomerId</th>\n",
       "      <th>Surname</th>\n",
       "      <th>CreditScore</th>\n",
       "      <th>Geography</th>\n",
       "      <th>Gender</th>\n",
       "      <th>Age</th>\n",
       "      <th>Tenure</th>\n",
       "      <th>Balance</th>\n",
       "      <th>NumOfProducts</th>\n",
       "      <th>HasCrCard</th>\n",
       "      <th>IsActiveMember</th>\n",
       "      <th>EstimatedSalary</th>\n",
       "      <th>Exited</th>\n",
       "    </tr>\n",
       "  </thead>\n",
       "  <tbody>\n",
       "    <tr>\n",
       "      <th>0</th>\n",
       "      <td>1</td>\n",
       "      <td>15634602</td>\n",
       "      <td>Hargrave</td>\n",
       "      <td>619</td>\n",
       "      <td>France</td>\n",
       "      <td>Female</td>\n",
       "      <td>42</td>\n",
       "      <td>2</td>\n",
       "      <td>0.00</td>\n",
       "      <td>1</td>\n",
       "      <td>1</td>\n",
       "      <td>1</td>\n",
       "      <td>101348.88</td>\n",
       "      <td>1</td>\n",
       "    </tr>\n",
       "    <tr>\n",
       "      <th>1</th>\n",
       "      <td>2</td>\n",
       "      <td>15647311</td>\n",
       "      <td>Hill</td>\n",
       "      <td>608</td>\n",
       "      <td>Spain</td>\n",
       "      <td>Female</td>\n",
       "      <td>41</td>\n",
       "      <td>1</td>\n",
       "      <td>83807.86</td>\n",
       "      <td>1</td>\n",
       "      <td>0</td>\n",
       "      <td>1</td>\n",
       "      <td>112542.58</td>\n",
       "      <td>0</td>\n",
       "    </tr>\n",
       "    <tr>\n",
       "      <th>2</th>\n",
       "      <td>3</td>\n",
       "      <td>15619304</td>\n",
       "      <td>Onio</td>\n",
       "      <td>502</td>\n",
       "      <td>France</td>\n",
       "      <td>Female</td>\n",
       "      <td>42</td>\n",
       "      <td>8</td>\n",
       "      <td>159660.80</td>\n",
       "      <td>3</td>\n",
       "      <td>1</td>\n",
       "      <td>0</td>\n",
       "      <td>113931.57</td>\n",
       "      <td>1</td>\n",
       "    </tr>\n",
       "    <tr>\n",
       "      <th>3</th>\n",
       "      <td>4</td>\n",
       "      <td>15701354</td>\n",
       "      <td>Boni</td>\n",
       "      <td>699</td>\n",
       "      <td>France</td>\n",
       "      <td>Female</td>\n",
       "      <td>39</td>\n",
       "      <td>1</td>\n",
       "      <td>0.00</td>\n",
       "      <td>2</td>\n",
       "      <td>0</td>\n",
       "      <td>0</td>\n",
       "      <td>93826.63</td>\n",
       "      <td>0</td>\n",
       "    </tr>\n",
       "    <tr>\n",
       "      <th>4</th>\n",
       "      <td>5</td>\n",
       "      <td>15737888</td>\n",
       "      <td>Mitchell</td>\n",
       "      <td>850</td>\n",
       "      <td>Spain</td>\n",
       "      <td>Female</td>\n",
       "      <td>43</td>\n",
       "      <td>2</td>\n",
       "      <td>125510.82</td>\n",
       "      <td>1</td>\n",
       "      <td>1</td>\n",
       "      <td>1</td>\n",
       "      <td>79084.10</td>\n",
       "      <td>0</td>\n",
       "    </tr>\n",
       "  </tbody>\n",
       "</table>\n",
       "</div>"
      ],
      "text/plain": [
       "   RowNumber  CustomerId   Surname  CreditScore Geography  Gender  Age  \\\n",
       "0          1    15634602  Hargrave          619    France  Female   42   \n",
       "1          2    15647311      Hill          608     Spain  Female   41   \n",
       "2          3    15619304      Onio          502    France  Female   42   \n",
       "3          4    15701354      Boni          699    France  Female   39   \n",
       "4          5    15737888  Mitchell          850     Spain  Female   43   \n",
       "\n",
       "   Tenure    Balance  NumOfProducts  HasCrCard  IsActiveMember  \\\n",
       "0       2       0.00              1          1               1   \n",
       "1       1   83807.86              1          0               1   \n",
       "2       8  159660.80              3          1               0   \n",
       "3       1       0.00              2          0               0   \n",
       "4       2  125510.82              1          1               1   \n",
       "\n",
       "   EstimatedSalary  Exited  \n",
       "0        101348.88       1  \n",
       "1        112542.58       0  \n",
       "2        113931.57       1  \n",
       "3         93826.63       0  \n",
       "4         79084.10       0  "
      ]
     },
     "execution_count": 7,
     "metadata": {},
     "output_type": "execute_result"
    }
   ],
   "source": [
    "dataset = pd.read_csv('Churn_Modelling.csv')\n",
    "dataset.head()"
   ]
  },
  {
   "cell_type": "code",
   "execution_count": 8,
   "metadata": {},
   "outputs": [
    {
     "name": "stdout",
     "output_type": "stream",
     "text": [
      "X >>\n",
      " [[619 'France' 'Female' ... 1 1 101348.88]\n",
      " [608 'Spain' 'Female' ... 0 1 112542.58]\n",
      " [502 'France' 'Female' ... 1 0 113931.57]\n",
      " ...\n",
      " [709 'France' 'Female' ... 0 1 42085.58]\n",
      " [772 'Germany' 'Male' ... 1 0 92888.52]\n",
      " [792 'France' 'Female' ... 1 0 38190.78]]\n",
      "y >>\n",
      " [1 0 1 ... 1 1 0]\n"
     ]
    }
   ],
   "source": [
    "X = dataset.iloc[:, 3:13].values\n",
    "y = dataset.iloc[:, 13].values\n",
    "print(\"X >>\\n\",X)\n",
    "print(\"y >>\\n\",y)"
   ]
  },
  {
   "cell_type": "markdown",
   "metadata": {},
   "source": [
    "### Transformando os dados categóricos\n"
   ]
  },
  {
   "cell_type": "code",
   "execution_count": 9,
   "metadata": {},
   "outputs": [
    {
     "name": "stdout",
     "output_type": "stream",
     "text": [
      "[[619 'France' 0 ... 1 1 101348.88]\n",
      " [608 'Spain' 0 ... 0 1 112542.58]\n",
      " [502 'France' 0 ... 1 0 113931.57]\n",
      " ...\n",
      " [709 'France' 0 ... 0 1 42085.58]\n",
      " [772 'Germany' 1 ... 1 0 92888.52]\n",
      " [792 'France' 0 ... 1 0 38190.78]]\n",
      "[[1.0 0.0 0.0 ... 1 1 101348.88]\n",
      " [0.0 0.0 1.0 ... 0 1 112542.58]\n",
      " [1.0 0.0 0.0 ... 1 0 113931.57]\n",
      " ...\n",
      " [1.0 0.0 0.0 ... 0 1 42085.58]\n",
      " [0.0 1.0 0.0 ... 1 0 92888.52]\n",
      " [1.0 0.0 0.0 ... 1 0 38190.78]]\n"
     ]
    }
   ],
   "source": [
    "# Label Encoding the \"Gender\" column\n",
    "from sklearn.preprocessing import LabelEncoder\n",
    "le = LabelEncoder()\n",
    "X[:, 2] = le.fit_transform(X[:, 2])\n",
    "print(X)\n",
    "# One Hot Encoding the \"Geography\" column\n",
    "from sklearn.compose import ColumnTransformer\n",
    "from sklearn.preprocessing import OneHotEncoder\n",
    "ct = ColumnTransformer(transformers=[('encoder', OneHotEncoder(), [1])], remainder='passthrough')\n",
    "X = np.array(ct.fit_transform(X))\n",
    "print(X)"
   ]
  },
  {
   "cell_type": "markdown",
   "metadata": {},
   "source": [
    "# Dividindo o dataset em conjunto de treinamento e conjunto de teste"
   ]
  },
  {
   "cell_type": "code",
   "execution_count": 10,
   "metadata": {},
   "outputs": [],
   "source": [
    "from sklearn.model_selection import train_test_split\n",
    "X_train, X_test, y_train, y_test = train_test_split(X, y, test_size = 0.2, random_state = 0)"
   ]
  },
  {
   "cell_type": "markdown",
   "metadata": {},
   "source": [
    "# Feature Scaling"
   ]
  },
  {
   "cell_type": "code",
   "execution_count": 11,
   "metadata": {},
   "outputs": [],
   "source": [
    "from sklearn.preprocessing import StandardScaler\n",
    "sc = StandardScaler()\n",
    "X_train = sc.fit_transform(X_train)\n",
    "X_test = sc.transform(X_test)"
   ]
  },
  {
   "cell_type": "code",
   "execution_count": 12,
   "metadata": {},
   "outputs": [
    {
     "data": {
      "text/plain": [
       "(8000, 12)"
      ]
     },
     "execution_count": 12,
     "metadata": {},
     "output_type": "execute_result"
    }
   ],
   "source": [
    "np.shape(X_train)"
   ]
  },
  {
   "cell_type": "markdown",
   "metadata": {},
   "source": [
    "---\n",
    "# Parte 2 -Vamos construir uma ANN!\n"
   ]
  },
  {
   "cell_type": "markdown",
   "metadata": {
    "colab_type": "text",
    "id": "KvdeScabXtlB"
   },
   "source": [
    "### Initializing the ANN"
   ]
  },
  {
   "cell_type": "code",
   "execution_count": 13,
   "metadata": {
    "colab": {},
    "colab_type": "code",
    "id": "3dtrScHxXQox"
   },
   "outputs": [],
   "source": [
    "ann = tf.keras.models.Sequential()"
   ]
  },
  {
   "cell_type": "markdown",
   "metadata": {
    "colab_type": "text",
    "id": "rP6urV6SX7kS"
   },
   "source": [
    "### Adding the input layer and the first hidden layer"
   ]
  },
  {
   "cell_type": "code",
   "execution_count": 14,
   "metadata": {
    "colab": {},
    "colab_type": "code",
    "id": "bppGycBXYCQr"
   },
   "outputs": [],
   "source": [
    "ann.add(tf.keras.layers.Dense(units=6, activation='softmax'))"
   ]
  },
  {
   "cell_type": "markdown",
   "metadata": {
    "colab_type": "text",
    "id": "BELWAc_8YJze"
   },
   "source": [
    "### Adding the second hidden layer"
   ]
  },
  {
   "cell_type": "code",
   "execution_count": 15,
   "metadata": {
    "colab": {},
    "colab_type": "code",
    "id": "JneR0u0sYRTd"
   },
   "outputs": [],
   "source": [
    "ann.add(tf.keras.layers.Dense(units=6, activation='softmax'))"
   ]
  },
  {
   "cell_type": "markdown",
   "metadata": {
    "colab_type": "text",
    "id": "OyNEe6RXYcU4"
   },
   "source": [
    "### Adding the output layer"
   ]
  },
  {
   "cell_type": "code",
   "execution_count": 16,
   "metadata": {
    "colab": {},
    "colab_type": "code",
    "id": "Cn3x41RBYfvY"
   },
   "outputs": [],
   "source": [
    "ann.add(tf.keras.layers.Dense(units=1, activation='tanh'))"
   ]
  },
  {
   "cell_type": "markdown",
   "metadata": {
    "colab_type": "text",
    "id": "JT4u2S1_Y4WG"
   },
   "source": [
    "## Part 3 - Training the ANN"
   ]
  },
  {
   "cell_type": "markdown",
   "metadata": {
    "colab_type": "text",
    "id": "8GWlJChhY_ZI"
   },
   "source": [
    "### Compiling the ANN"
   ]
  },
  {
   "cell_type": "code",
   "execution_count": 17,
   "metadata": {
    "colab": {},
    "colab_type": "code",
    "id": "fG3RrwDXZEaS"
   },
   "outputs": [],
   "source": [
    "ann.compile(optimizer = 'adam', loss = 'binary_crossentropy', metrics = ['accuracy'])"
   ]
  },
  {
   "cell_type": "markdown",
   "metadata": {
    "colab_type": "text",
    "id": "0QR_G5u7ZLSM"
   },
   "source": [
    "### Training the ANN on the Training set"
   ]
  },
  {
   "cell_type": "code",
   "execution_count": 18,
   "metadata": {
    "colab": {
     "base_uri": "https://localhost:8080/",
     "height": 1000
    },
    "colab_type": "code",
    "id": "nHZ-LKv_ZRb3",
    "outputId": "718cc4b0-b5aa-40f0-9b20-d3d31730a531"
   },
   "outputs": [
    {
     "name": "stdout",
     "output_type": "stream",
     "text": [
      "Epoch 1/100\n",
      "250/250 [==============================] - 0s 504us/step - loss: 0.5923 - accuracy: 0.6734\n",
      "Epoch 2/100\n",
      "250/250 [==============================] - 0s 470us/step - loss: 0.4689 - accuracy: 0.7962\n",
      "Epoch 3/100\n",
      "250/250 [==============================] - 0s 479us/step - loss: 0.4415 - accuracy: 0.7980\n",
      "Epoch 4/100\n",
      "250/250 [==============================] - 0s 509us/step - loss: 0.4257 - accuracy: 0.8092\n",
      "Epoch 5/100\n",
      "250/250 [==============================] - 0s 499us/step - loss: 0.4128 - accuracy: 0.8177\n",
      "Epoch 6/100\n",
      "250/250 [==============================] - 0s 468us/step - loss: 0.3998 - accuracy: 0.8266\n",
      "Epoch 7/100\n",
      "250/250 [==============================] - 0s 487us/step - loss: 0.3854 - accuracy: 0.8381\n",
      "Epoch 8/100\n",
      "250/250 [==============================] - 0s 477us/step - loss: 0.3741 - accuracy: 0.8421\n",
      "Epoch 9/100\n",
      "250/250 [==============================] - 0s 492us/step - loss: 0.3676 - accuracy: 0.8450\n",
      "Epoch 10/100\n",
      "250/250 [==============================] - 0s 504us/step - loss: 0.3636 - accuracy: 0.8457\n",
      "Epoch 11/100\n",
      "250/250 [==============================] - 0s 494us/step - loss: 0.3613 - accuracy: 0.8489\n",
      "Epoch 12/100\n",
      "250/250 [==============================] - 0s 484us/step - loss: 0.3593 - accuracy: 0.8487\n",
      "Epoch 13/100\n",
      "250/250 [==============================] - 0s 493us/step - loss: 0.3579 - accuracy: 0.8496\n",
      "Epoch 14/100\n",
      "250/250 [==============================] - 0s 478us/step - loss: 0.3563 - accuracy: 0.8521\n",
      "Epoch 15/100\n",
      "250/250 [==============================] - 0s 514us/step - loss: 0.3553 - accuracy: 0.8505\n",
      "Epoch 16/100\n",
      "250/250 [==============================] - 0s 525us/step - loss: 0.3542 - accuracy: 0.8528\n",
      "Epoch 17/100\n",
      "250/250 [==============================] - 0s 500us/step - loss: 0.3529 - accuracy: 0.8525\n",
      "Epoch 18/100\n",
      "250/250 [==============================] - 0s 518us/step - loss: 0.3513 - accuracy: 0.8530\n",
      "Epoch 19/100\n",
      "250/250 [==============================] - 0s 508us/step - loss: 0.3494 - accuracy: 0.8541\n",
      "Epoch 20/100\n",
      "250/250 [==============================] - 0s 492us/step - loss: 0.3483 - accuracy: 0.8535\n",
      "Epoch 21/100\n",
      "250/250 [==============================] - 0s 490us/step - loss: 0.3471 - accuracy: 0.8556\n",
      "Epoch 22/100\n",
      "250/250 [==============================] - 0s 507us/step - loss: 0.3461 - accuracy: 0.8559\n",
      "Epoch 23/100\n",
      "250/250 [==============================] - 0s 542us/step - loss: 0.3452 - accuracy: 0.8579\n",
      "Epoch 24/100\n",
      "250/250 [==============================] - 0s 540us/step - loss: 0.3445 - accuracy: 0.8571\n",
      "Epoch 25/100\n",
      "250/250 [==============================] - 0s 494us/step - loss: 0.3442 - accuracy: 0.8589\n",
      "Epoch 26/100\n",
      "250/250 [==============================] - 0s 491us/step - loss: 0.3434 - accuracy: 0.8572\n",
      "Epoch 27/100\n",
      "250/250 [==============================] - 0s 484us/step - loss: 0.3425 - accuracy: 0.8612\n",
      "Epoch 28/100\n",
      "250/250 [==============================] - 0s 488us/step - loss: 0.3414 - accuracy: 0.8612\n",
      "Epoch 29/100\n",
      "250/250 [==============================] - 0s 475us/step - loss: 0.3418 - accuracy: 0.8602\n",
      "Epoch 30/100\n",
      "250/250 [==============================] - 0s 502us/step - loss: 0.3414 - accuracy: 0.8602\n",
      "Epoch 31/100\n",
      "250/250 [==============================] - 0s 508us/step - loss: 0.3409 - accuracy: 0.8608\n",
      "Epoch 32/100\n",
      "250/250 [==============================] - 0s 494us/step - loss: 0.3404 - accuracy: 0.8608\n",
      "Epoch 33/100\n",
      "250/250 [==============================] - 0s 478us/step - loss: 0.3403 - accuracy: 0.8606\n",
      "Epoch 34/100\n",
      "250/250 [==============================] - 0s 484us/step - loss: 0.3406 - accuracy: 0.8612\n",
      "Epoch 35/100\n",
      "250/250 [==============================] - 0s 480us/step - loss: 0.3396 - accuracy: 0.8615\n",
      "Epoch 36/100\n",
      "250/250 [==============================] - 0s 489us/step - loss: 0.3391 - accuracy: 0.8621\n",
      "Epoch 37/100\n",
      "250/250 [==============================] - 0s 482us/step - loss: 0.3395 - accuracy: 0.8604\n",
      "Epoch 38/100\n",
      "250/250 [==============================] - 0s 482us/step - loss: 0.3384 - accuracy: 0.8622\n",
      "Epoch 39/100\n",
      "250/250 [==============================] - 0s 481us/step - loss: 0.3383 - accuracy: 0.8624\n",
      "Epoch 40/100\n",
      "250/250 [==============================] - 0s 484us/step - loss: 0.3381 - accuracy: 0.8626\n",
      "Epoch 41/100\n",
      "250/250 [==============================] - 0s 484us/step - loss: 0.3379 - accuracy: 0.8624\n",
      "Epoch 42/100\n",
      "250/250 [==============================] - 0s 489us/step - loss: 0.3374 - accuracy: 0.8630\n",
      "Epoch 43/100\n",
      "250/250 [==============================] - 0s 490us/step - loss: 0.3374 - accuracy: 0.8621\n",
      "Epoch 44/100\n",
      "250/250 [==============================] - 0s 479us/step - loss: 0.3375 - accuracy: 0.8662\n",
      "Epoch 45/100\n",
      "250/250 [==============================] - 0s 485us/step - loss: 0.3375 - accuracy: 0.8620\n",
      "Epoch 46/100\n",
      "250/250 [==============================] - 0s 482us/step - loss: 0.3367 - accuracy: 0.8630\n",
      "Epoch 47/100\n",
      "250/250 [==============================] - 0s 520us/step - loss: 0.3365 - accuracy: 0.8627\n",
      "Epoch 48/100\n",
      "250/250 [==============================] - 0s 520us/step - loss: 0.3364 - accuracy: 0.8631\n",
      "Epoch 49/100\n",
      "250/250 [==============================] - 0s 496us/step - loss: 0.3358 - accuracy: 0.8633\n",
      "Epoch 50/100\n",
      "250/250 [==============================] - 0s 491us/step - loss: 0.3359 - accuracy: 0.8616\n",
      "Epoch 51/100\n",
      "250/250 [==============================] - 0s 491us/step - loss: 0.3356 - accuracy: 0.8644\n",
      "Epoch 52/100\n",
      "250/250 [==============================] - 0s 490us/step - loss: 0.3349 - accuracy: 0.8633\n",
      "Epoch 53/100\n",
      "250/250 [==============================] - 0s 505us/step - loss: 0.3353 - accuracy: 0.8629\n",
      "Epoch 54/100\n",
      "250/250 [==============================] - 0s 537us/step - loss: 0.3349 - accuracy: 0.8620\n",
      "Epoch 55/100\n",
      "250/250 [==============================] - 0s 534us/step - loss: 0.3348 - accuracy: 0.8635\n",
      "Epoch 56/100\n",
      "250/250 [==============================] - 0s 499us/step - loss: 0.3349 - accuracy: 0.8637\n",
      "Epoch 57/100\n",
      "250/250 [==============================] - 0s 490us/step - loss: 0.3343 - accuracy: 0.8627\n",
      "Epoch 58/100\n",
      "250/250 [==============================] - 0s 508us/step - loss: 0.3344 - accuracy: 0.8639\n",
      "Epoch 59/100\n",
      "250/250 [==============================] - 0s 480us/step - loss: 0.3347 - accuracy: 0.8625\n",
      "Epoch 60/100\n",
      "250/250 [==============================] - 0s 476us/step - loss: 0.3338 - accuracy: 0.8629\n",
      "Epoch 61/100\n",
      "250/250 [==============================] - 0s 506us/step - loss: 0.3341 - accuracy: 0.8635\n",
      "Epoch 62/100\n",
      "250/250 [==============================] - 0s 488us/step - loss: 0.3338 - accuracy: 0.8622\n",
      "Epoch 63/100\n",
      "250/250 [==============================] - 0s 487us/step - loss: 0.3339 - accuracy: 0.8618\n",
      "Epoch 64/100\n",
      "250/250 [==============================] - 0s 484us/step - loss: 0.3335 - accuracy: 0.8621\n",
      "Epoch 65/100\n",
      "250/250 [==============================] - 0s 495us/step - loss: 0.3333 - accuracy: 0.8629\n",
      "Epoch 66/100\n",
      "250/250 [==============================] - 0s 469us/step - loss: 0.3333 - accuracy: 0.8629\n",
      "Epoch 67/100\n",
      "250/250 [==============================] - 0s 457us/step - loss: 0.3329 - accuracy: 0.8621\n",
      "Epoch 68/100\n",
      "250/250 [==============================] - 0s 460us/step - loss: 0.3332 - accuracy: 0.8616\n",
      "Epoch 69/100\n",
      "250/250 [==============================] - 0s 457us/step - loss: 0.3332 - accuracy: 0.8635\n",
      "Epoch 70/100\n",
      "250/250 [==============================] - 0s 464us/step - loss: 0.3334 - accuracy: 0.8629\n",
      "Epoch 71/100\n",
      "250/250 [==============================] - 0s 460us/step - loss: 0.3331 - accuracy: 0.8633\n",
      "Epoch 72/100\n",
      "250/250 [==============================] - 0s 493us/step - loss: 0.3323 - accuracy: 0.8630\n",
      "Epoch 73/100\n",
      "250/250 [==============================] - 0s 499us/step - loss: 0.3333 - accuracy: 0.8639\n",
      "Epoch 74/100\n",
      "250/250 [==============================] - 0s 474us/step - loss: 0.3328 - accuracy: 0.8625\n",
      "Epoch 75/100\n",
      "250/250 [==============================] - 0s 457us/step - loss: 0.3328 - accuracy: 0.8624\n",
      "Epoch 76/100\n",
      "250/250 [==============================] - 0s 480us/step - loss: 0.3326 - accuracy: 0.8625\n",
      "Epoch 77/100\n",
      "250/250 [==============================] - 0s 480us/step - loss: 0.3326 - accuracy: 0.8622\n",
      "Epoch 78/100\n",
      "250/250 [==============================] - 0s 469us/step - loss: 0.3328 - accuracy: 0.8630\n",
      "Epoch 79/100\n",
      "250/250 [==============================] - 0s 495us/step - loss: 0.3325 - accuracy: 0.8622\n",
      "Epoch 80/100\n",
      "250/250 [==============================] - 0s 500us/step - loss: 0.3324 - accuracy: 0.8641\n",
      "Epoch 81/100\n",
      "250/250 [==============================] - 0s 477us/step - loss: 0.3325 - accuracy: 0.8641\n",
      "Epoch 82/100\n",
      "250/250 [==============================] - 0s 482us/step - loss: 0.3327 - accuracy: 0.8639\n",
      "Epoch 83/100\n",
      "250/250 [==============================] - 0s 486us/step - loss: 0.3321 - accuracy: 0.8624\n",
      "Epoch 84/100\n",
      "250/250 [==============================] - 0s 493us/step - loss: 0.3326 - accuracy: 0.8631\n",
      "Epoch 85/100\n",
      "250/250 [==============================] - 0s 480us/step - loss: 0.3325 - accuracy: 0.8626\n",
      "Epoch 86/100\n",
      "250/250 [==============================] - 0s 497us/step - loss: 0.3320 - accuracy: 0.8633\n",
      "Epoch 87/100\n",
      "250/250 [==============================] - 0s 497us/step - loss: 0.3319 - accuracy: 0.8626\n",
      "Epoch 88/100\n",
      "250/250 [==============================] - 0s 492us/step - loss: 0.3322 - accuracy: 0.8637\n",
      "Epoch 89/100\n",
      "250/250 [==============================] - 0s 484us/step - loss: 0.3320 - accuracy: 0.8618\n",
      "Epoch 90/100\n",
      "250/250 [==============================] - 0s 488us/step - loss: 0.3317 - accuracy: 0.8627\n",
      "Epoch 91/100\n",
      "250/250 [==============================] - 0s 489us/step - loss: 0.3320 - accuracy: 0.8641\n",
      "Epoch 92/100\n",
      "250/250 [==============================] - 0s 474us/step - loss: 0.3315 - accuracy: 0.8637\n",
      "Epoch 93/100\n",
      "250/250 [==============================] - 0s 483us/step - loss: 0.3317 - accuracy: 0.8634\n",
      "Epoch 94/100\n",
      "250/250 [==============================] - 0s 527us/step - loss: 0.3316 - accuracy: 0.8640\n",
      "Epoch 95/100\n",
      "250/250 [==============================] - 0s 522us/step - loss: 0.3314 - accuracy: 0.8625\n",
      "Epoch 96/100\n",
      "250/250 [==============================] - 0s 495us/step - loss: 0.3316 - accuracy: 0.8624\n",
      "Epoch 97/100\n",
      "250/250 [==============================] - 0s 508us/step - loss: 0.3315 - accuracy: 0.8620\n",
      "Epoch 98/100\n",
      "250/250 [==============================] - 0s 495us/step - loss: 0.3318 - accuracy: 0.8633\n",
      "Epoch 99/100\n",
      "250/250 [==============================] - 0s 483us/step - loss: 0.3314 - accuracy: 0.8643\n",
      "Epoch 100/100\n",
      "250/250 [==============================] - 0s 489us/step - loss: 0.3310 - accuracy: 0.8620\n"
     ]
    },
    {
     "data": {
      "text/plain": [
       "<tensorflow.python.keras.callbacks.History at 0x7fad2802b310>"
      ]
     },
     "execution_count": 18,
     "metadata": {},
     "output_type": "execute_result"
    }
   ],
   "source": [
    "ann.fit(X_train, y_train, batch_size = 32, epochs = 100)"
   ]
  },
  {
   "cell_type": "markdown",
   "metadata": {},
   "source": [
    "# Parte 3 - Fazendo predições e avaliando o modelo\n",
    "\n",
    "## Prevendo os resultados com o conjunto de testes"
   ]
  },
  {
   "cell_type": "code",
   "execution_count": 19,
   "metadata": {},
   "outputs": [
    {
     "data": {
      "text/plain": [
       "array([[0.17806631],\n",
       "       [0.3579977 ],\n",
       "       [0.16749072],\n",
       "       ...,\n",
       "       [0.283772  ],\n",
       "       [0.10794741],\n",
       "       [0.15637776]], dtype=float32)"
      ]
     },
     "execution_count": 19,
     "metadata": {},
     "output_type": "execute_result"
    }
   ],
   "source": [
    "y_pred = ann.predict(X_test)\n",
    "y_pred"
   ]
  },
  {
   "cell_type": "code",
   "execution_count": 20,
   "metadata": {},
   "outputs": [
    {
     "data": {
      "text/plain": [
       "array([[False],\n",
       "       [False],\n",
       "       [False],\n",
       "       ...,\n",
       "       [False],\n",
       "       [False],\n",
       "       [False]])"
      ]
     },
     "execution_count": 20,
     "metadata": {},
     "output_type": "execute_result"
    }
   ],
   "source": [
    "y_pred = (y_pred > 0.5)\n",
    "y_pred"
   ]
  },
  {
   "cell_type": "markdown",
   "metadata": {},
   "source": [
    "# Criando uma Confusion Matrix"
   ]
  },
  {
   "cell_type": "code",
   "execution_count": 23,
   "metadata": {},
   "outputs": [
    {
     "name": "stdout",
     "output_type": "stream",
     "text": [
      "[[1517   78]\n",
      " [ 198  207]]\n"
     ]
    }
   ],
   "source": [
    "from sklearn.metrics import confusion_matrix\n",
    "cm = confusion_matrix(y_test, y_pred)\n",
    "print(cm)"
   ]
  },
  {
   "cell_type": "code",
   "execution_count": 42,
   "metadata": {},
   "outputs": [
    {
     "name": "stdout",
     "output_type": "stream",
     "text": [
      "Desempenho: 86.2%\n"
     ]
    }
   ],
   "source": [
    "desempenho = (cm[0][0] + cm[1][1]) / (cm[0][0] + cm[1][1] + cm[0][1] + cm[1][0])\n",
    "print(\"Desempenho: {}%\".format(desempenho*100))"
   ]
  },
  {
   "cell_type": "markdown",
   "metadata": {},
   "source": [
    "# FIM"
   ]
  },
  {
   "cell_type": "markdown",
   "metadata": {},
   "source": [
    "> Professor Diego Dorgam  \n",
    "> [@diegodorgam](https://twitter.com/diegodorgam)"
   ]
  }
 ],
 "metadata": {
  "kernelspec": {
   "display_name": "Python 3",
   "language": "python",
   "name": "python3"
  },
  "language_info": {
   "codemirror_mode": {
    "name": "ipython",
    "version": 3
   },
   "file_extension": ".py",
   "mimetype": "text/x-python",
   "name": "python",
   "nbconvert_exporter": "python",
   "pygments_lexer": "ipython3",
   "version": "3.7.4"
  }
 },
 "nbformat": 4,
 "nbformat_minor": 4
}
