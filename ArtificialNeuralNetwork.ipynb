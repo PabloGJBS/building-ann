{
 "cells": [
  {
   "cell_type": "markdown",
   "metadata": {},
   "source": [
    "# REDES NEURAIS ARTIFICIAIS\n",
    "\n",
    "[Aula 3 de Deep Learning](http://bit.ly/dn-unb03) da Engenharia de Software da UnB"
   ]
  },
  {
   "cell_type": "code",
   "execution_count": 1,
   "metadata": {},
   "outputs": [
    {
     "name": "stdout",
     "output_type": "stream",
     "text": "Collecting git+git://github.com/Theano/Theano.git\n  Cloning git://github.com/Theano/Theano.git to /tmp/pip-req-build-ojg4pqa0\n  Running command git clone -q git://github.com/Theano/Theano.git /tmp/pip-req-build-ojg4pqa0\nBuilding wheels for collected packages: Theano\n  Building wheel for Theano (setup.py) ... \u001b[?25ldone\n\u001b[?25h  Created wheel for Theano: filename=Theano-1.0.4+23.g630974a-cp37-none-any.whl size=2667471 sha256=5637cf509588c3831ce6a98c43a3083df3db6f7c9136dd2759af86ba6045421a\n  Stored in directory: /tmp/pip-ephem-wheel-cache-sbzvdca_/wheels/ae/32/7c/62beb8371953eb20c271b3bac7d0e56e1a2020d46994346b52\nSuccessfully built Theano\nInstalling collected packages: Theano\n  Found existing installation: Theano 1.0.4+23.g630974a\n    Uninstalling Theano-1.0.4+23.g630974a:\n      Successfully uninstalled Theano-1.0.4+23.g630974a\nSuccessfully installed Theano-1.0.4+23.g630974a\nRequirement already up-to-date: tensorflow in /home/joao/anaconda3/lib/python3.7/site-packages (2.0.0)\nRequirement already satisfied, skipping upgrade: wheel>=0.26 in /home/joao/anaconda3/lib/python3.7/site-packages (from tensorflow) (0.33.1)\nRequirement already satisfied, skipping upgrade: opt-einsum>=2.3.2 in /home/joao/anaconda3/lib/python3.7/site-packages (from tensorflow) (3.1.0)\nRequirement already satisfied, skipping upgrade: absl-py>=0.7.0 in /home/joao/anaconda3/lib/python3.7/site-packages (from tensorflow) (0.8.0)\nRequirement already satisfied, skipping upgrade: termcolor>=1.1.0 in /home/joao/anaconda3/lib/python3.7/site-packages (from tensorflow) (1.1.0)\nRequirement already satisfied, skipping upgrade: tensorboard<2.1.0,>=2.0.0 in /home/joao/anaconda3/lib/python3.7/site-packages (from tensorflow) (2.0.2)\nRequirement already satisfied, skipping upgrade: astor>=0.6.0 in /home/joao/anaconda3/lib/python3.7/site-packages (from tensorflow) (0.8.0)\nRequirement already satisfied, skipping upgrade: gast==0.2.2 in /home/joao/anaconda3/lib/python3.7/site-packages (from tensorflow) (0.2.2)\nRequirement already satisfied, skipping upgrade: tensorflow-estimator<2.1.0,>=2.0.0 in /home/joao/anaconda3/lib/python3.7/site-packages (from tensorflow) (2.0.1)\nRequirement already satisfied, skipping upgrade: grpcio>=1.8.6 in /home/joao/anaconda3/lib/python3.7/site-packages (from tensorflow) (1.16.1)\nRequirement already satisfied, skipping upgrade: keras-preprocessing>=1.0.5 in /home/joao/anaconda3/lib/python3.7/site-packages (from tensorflow) (1.1.0)\nRequirement already satisfied, skipping upgrade: google-pasta>=0.1.6 in /home/joao/anaconda3/lib/python3.7/site-packages (from tensorflow) (0.1.7)\nRequirement already satisfied, skipping upgrade: keras-applications>=1.0.8 in /home/joao/anaconda3/lib/python3.7/site-packages (from tensorflow) (1.0.8)\nRequirement already satisfied, skipping upgrade: protobuf>=3.6.1 in /home/joao/anaconda3/lib/python3.7/site-packages (from tensorflow) (3.9.2)\nRequirement already satisfied, skipping upgrade: numpy<2.0,>=1.16.0 in /home/joao/anaconda3/lib/python3.7/site-packages (from tensorflow) (1.17.4)\nRequirement already satisfied, skipping upgrade: six>=1.10.0 in /home/joao/anaconda3/lib/python3.7/site-packages (from tensorflow) (1.12.0)\nRequirement already satisfied, skipping upgrade: wrapt>=1.11.1 in /home/joao/anaconda3/lib/python3.7/site-packages (from tensorflow) (1.11.1)\nRequirement already satisfied, skipping upgrade: markdown>=2.6.8 in /home/joao/anaconda3/lib/python3.7/site-packages (from tensorboard<2.1.0,>=2.0.0->tensorflow) (3.1.1)\nRequirement already satisfied, skipping upgrade: google-auth<2,>=1.6.3 in /home/joao/anaconda3/lib/python3.7/site-packages (from tensorboard<2.1.0,>=2.0.0->tensorflow) (1.7.1)\nRequirement already satisfied, skipping upgrade: requests<3,>=2.21.0 in /home/joao/anaconda3/lib/python3.7/site-packages (from tensorboard<2.1.0,>=2.0.0->tensorflow) (2.21.0)\nRequirement already satisfied, skipping upgrade: setuptools>=41.0.0 in /home/joao/anaconda3/lib/python3.7/site-packages (from tensorboard<2.1.0,>=2.0.0->tensorflow) (42.0.1)\nRequirement already satisfied, skipping upgrade: werkzeug>=0.11.15 in /home/joao/anaconda3/lib/python3.7/site-packages (from tensorboard<2.1.0,>=2.0.0->tensorflow) (0.14.1)\nRequirement already satisfied, skipping upgrade: google-auth-oauthlib<0.5,>=0.4.1 in /home/joao/anaconda3/lib/python3.7/site-packages (from tensorboard<2.1.0,>=2.0.0->tensorflow) (0.4.1)\nRequirement already satisfied, skipping upgrade: h5py in /home/joao/anaconda3/lib/python3.7/site-packages (from keras-applications>=1.0.8->tensorflow) (2.9.0)\nRequirement already satisfied, skipping upgrade: rsa<4.1,>=3.1.4 in /home/joao/anaconda3/lib/python3.7/site-packages (from google-auth<2,>=1.6.3->tensorboard<2.1.0,>=2.0.0->tensorflow) (4.0)\nRequirement already satisfied, skipping upgrade: cachetools<3.2,>=2.0.0 in /home/joao/anaconda3/lib/python3.7/site-packages (from google-auth<2,>=1.6.3->tensorboard<2.1.0,>=2.0.0->tensorflow) (3.1.1)\nRequirement already satisfied, skipping upgrade: pyasn1-modules>=0.2.1 in /home/joao/anaconda3/lib/python3.7/site-packages (from google-auth<2,>=1.6.3->tensorboard<2.1.0,>=2.0.0->tensorflow) (0.2.7)\nRequirement already satisfied, skipping upgrade: idna<2.9,>=2.5 in /home/joao/anaconda3/lib/python3.7/site-packages (from requests<3,>=2.21.0->tensorboard<2.1.0,>=2.0.0->tensorflow) (2.8)\nRequirement already satisfied, skipping upgrade: certifi>=2017.4.17 in /home/joao/anaconda3/lib/python3.7/site-packages (from requests<3,>=2.21.0->tensorboard<2.1.0,>=2.0.0->tensorflow) (2019.9.11)\nRequirement already satisfied, skipping upgrade: chardet<3.1.0,>=3.0.2 in /home/joao/anaconda3/lib/python3.7/site-packages (from requests<3,>=2.21.0->tensorboard<2.1.0,>=2.0.0->tensorflow) (3.0.4)\nRequirement already satisfied, skipping upgrade: urllib3<1.25,>=1.21.1 in /home/joao/anaconda3/lib/python3.7/site-packages (from requests<3,>=2.21.0->tensorboard<2.1.0,>=2.0.0->tensorflow) (1.24.1)\nRequirement already satisfied, skipping upgrade: requests-oauthlib>=0.7.0 in /home/joao/anaconda3/lib/python3.7/site-packages (from google-auth-oauthlib<0.5,>=0.4.1->tensorboard<2.1.0,>=2.0.0->tensorflow) (1.3.0)\nRequirement already satisfied, skipping upgrade: pyasn1>=0.1.3 in /home/joao/anaconda3/lib/python3.7/site-packages (from rsa<4.1,>=3.1.4->google-auth<2,>=1.6.3->tensorboard<2.1.0,>=2.0.0->tensorflow) (0.4.8)\nRequirement already satisfied, skipping upgrade: oauthlib>=3.0.0 in /home/joao/anaconda3/lib/python3.7/site-packages (from requests-oauthlib>=0.7.0->google-auth-oauthlib<0.5,>=0.4.1->tensorboard<2.1.0,>=2.0.0->tensorflow) (3.1.0)\nRequirement already up-to-date: keras in /home/joao/anaconda3/lib/python3.7/site-packages (2.3.1)\nRequirement already satisfied, skipping upgrade: keras-applications>=1.0.6 in /home/joao/anaconda3/lib/python3.7/site-packages (from keras) (1.0.8)\nRequirement already satisfied, skipping upgrade: numpy>=1.9.1 in /home/joao/anaconda3/lib/python3.7/site-packages (from keras) (1.17.4)\nRequirement already satisfied, skipping upgrade: keras-preprocessing>=1.0.5 in /home/joao/anaconda3/lib/python3.7/site-packages (from keras) (1.1.0)\nRequirement already satisfied, skipping upgrade: h5py in /home/joao/anaconda3/lib/python3.7/site-packages (from keras) (2.9.0)\nRequirement already satisfied, skipping upgrade: scipy>=0.14 in /home/joao/anaconda3/lib/python3.7/site-packages (from keras) (1.2.1)\nRequirement already satisfied, skipping upgrade: six>=1.9.0 in /home/joao/anaconda3/lib/python3.7/site-packages (from keras) (1.12.0)\nRequirement already satisfied, skipping upgrade: pyyaml in /home/joao/anaconda3/lib/python3.7/site-packages (from keras) (5.1)\nRequirement already up-to-date: pip in /home/joao/anaconda3/lib/python3.7/site-packages (19.3.1)\nRequirement already up-to-date: pandas in /home/joao/anaconda3/lib/python3.7/site-packages (0.25.3)\nRequirement already up-to-date: numpy in /home/joao/anaconda3/lib/python3.7/site-packages (1.17.4)\nRequirement already up-to-date: matplotlib in /home/joao/anaconda3/lib/python3.7/site-packages (3.1.2)\nRequirement already up-to-date: sklearn in /home/joao/anaconda3/lib/python3.7/site-packages (0.0)\nRequirement already satisfied, skipping upgrade: python-dateutil>=2.6.1 in /home/joao/anaconda3/lib/python3.7/site-packages (from pandas) (2.8.0)\nRequirement already satisfied, skipping upgrade: pytz>=2017.2 in /home/joao/anaconda3/lib/python3.7/site-packages (from pandas) (2018.9)\nRequirement already satisfied, skipping upgrade: pyparsing!=2.0.4,!=2.1.2,!=2.1.6,>=2.0.1 in /home/joao/anaconda3/lib/python3.7/site-packages (from matplotlib) (2.3.1)\nRequirement already satisfied, skipping upgrade: cycler>=0.10 in /home/joao/anaconda3/lib/python3.7/site-packages (from matplotlib) (0.10.0)\nRequirement already satisfied, skipping upgrade: kiwisolver>=1.0.1 in /home/joao/anaconda3/lib/python3.7/site-packages (from matplotlib) (1.0.1)\nRequirement already satisfied, skipping upgrade: scikit-learn in /home/joao/anaconda3/lib/python3.7/site-packages (from sklearn) (0.20.3)\nRequirement already satisfied, skipping upgrade: six>=1.5 in /home/joao/anaconda3/lib/python3.7/site-packages (from python-dateutil>=2.6.1->pandas) (1.12.0)\nRequirement already satisfied, skipping upgrade: setuptools in /home/joao/anaconda3/lib/python3.7/site-packages (from kiwisolver>=1.0.1->matplotlib) (42.0.1)\nRequirement already satisfied, skipping upgrade: scipy>=0.13.3 in /home/joao/anaconda3/lib/python3.7/site-packages (from scikit-learn->sklearn) (1.2.1)\n"
    }
   ],
   "source": [
    "# Installing Theano\n",
    "! pip install --upgrade --no-deps git+git://github.com/Theano/Theano.git\n",
    "\n",
    "# Installing Tensorflow\n",
    "! pip install --upgrade tensorflow\n",
    "\n",
    "# Installing Keras\n",
    "! pip install --upgrade keras\n",
    "\n",
    "# Install other packages\n",
    "! pip install --upgrade pip pandas numpy matplotlib sklearn"
   ]
  },
  {
   "cell_type": "markdown",
   "metadata": {},
   "source": [
    "# Parte 1 - Preprocessamento dos Dados"
   ]
  },
  {
   "cell_type": "markdown",
   "metadata": {},
   "source": [
    "### Importar as libs"
   ]
  },
  {
   "cell_type": "code",
   "execution_count": 2,
   "metadata": {},
   "outputs": [],
   "source": [
    "import numpy as np\n",
    "import matplotlib.pyplot as plt\n",
    "import pandas as pd"
   ]
  },
  {
   "cell_type": "markdown",
   "metadata": {},
   "source": [
    "### Importar o dataset"
   ]
  },
  {
   "cell_type": "markdown",
   "metadata": {},
   "source": [
    "### Transformando os dados categóricos\n"
   ]
  },
  {
   "cell_type": "code",
   "execution_count": 3,
   "metadata": {},
   "outputs": [
    {
     "name": "stdout",
     "output_type": "stream",
     "text": "X >>\n [[619 'France' 'Female' ... 1 1 101348.88]\n [608 'Spain' 'Female' ... 0 1 112542.58]\n [502 'France' 'Female' ... 1 0 113931.57]\n ...\n [709 'France' 'Female' ... 0 1 42085.58]\n [772 'Germany' 'Male' ... 1 0 92888.52]\n [792 'France' 'Female' ... 1 0 38190.78]]\ny >>\n [1 0 1 ... 1 1 0]\n"
    }
   ],
   "source": [
    "dataset = pd.read_csv('Churn_Modelling.csv')\n",
    "X = dataset.iloc[:, 3:13].values\n",
    "y = dataset.iloc[:, 13].values\n",
    "print(\"X >>\\n\",X)\n",
    "print(\"y >>\\n\",y)"
   ]
  },
  {
   "cell_type": "code",
   "execution_count": 4,
   "metadata": {},
   "outputs": [
    {
     "name": "stdout",
     "output_type": "stream",
     "text": "X >>\n [[0.0000000e+00 0.0000000e+00 6.1900000e+02 ... 1.0000000e+00\n  1.0000000e+00 1.0134888e+05]\n [0.0000000e+00 1.0000000e+00 6.0800000e+02 ... 0.0000000e+00\n  1.0000000e+00 1.1254258e+05]\n [0.0000000e+00 0.0000000e+00 5.0200000e+02 ... 1.0000000e+00\n  0.0000000e+00 1.1393157e+05]\n ...\n [0.0000000e+00 0.0000000e+00 7.0900000e+02 ... 0.0000000e+00\n  1.0000000e+00 4.2085580e+04]\n [1.0000000e+00 0.0000000e+00 7.7200000e+02 ... 1.0000000e+00\n  0.0000000e+00 9.2888520e+04]\n [0.0000000e+00 0.0000000e+00 7.9200000e+02 ... 1.0000000e+00\n  0.0000000e+00 3.8190780e+04]]\n/home/joao/anaconda3/lib/python3.7/site-packages/sklearn/preprocessing/_encoders.py:371: FutureWarning: The handling of integer data will change in version 0.22. Currently, the categories are determined based on the range [0, max(values)], while in the future they will be determined based on the unique values.\nIf you want the future behaviour and silence this warning, you can specify \"categories='auto'\".\nIn case you used a LabelEncoder before this OneHotEncoder to convert the categories to integers, then you can now use the OneHotEncoder directly.\n  warnings.warn(msg, FutureWarning)\n/home/joao/anaconda3/lib/python3.7/site-packages/sklearn/preprocessing/_encoders.py:392: DeprecationWarning: The 'categorical_features' keyword is deprecated in version 0.20 and will be removed in 0.22. You can use the ColumnTransformer instead.\n  \"use the ColumnTransformer instead.\", DeprecationWarning)\n"
    }
   ],
   "source": [
    "from sklearn.preprocessing import LabelEncoder, OneHotEncoder\n",
    "labelencoder_X_1 = LabelEncoder()\n",
    "X[:, 1] = labelencoder_X_1.fit_transform(X[:, 1])\n",
    "labelencoder_X_2 = LabelEncoder()\n",
    "X[:, 2] = labelencoder_X_2.fit_transform(X[:, 2])\n",
    "onehotencoder = OneHotEncoder(categorical_features = [1])\n",
    "X = onehotencoder.fit_transform(X).toarray()\n",
    "X = X[:, 1:]\n",
    "print(\"X >>\\n\",X)"
   ]
  },
  {
   "cell_type": "markdown",
   "metadata": {},
   "source": [
    "# Dividindo o dataset em conjunto de treinamento e conjunto de teste"
   ]
  },
  {
   "cell_type": "code",
   "execution_count": 5,
   "metadata": {},
   "outputs": [],
   "source": [
    "from sklearn.model_selection import train_test_split\n",
    "X_train, X_test, y_train, y_test = train_test_split(X, y, test_size = 0.2, random_state = 0)"
   ]
  },
  {
   "cell_type": "markdown",
   "metadata": {},
   "source": [
    "# Feature Scaling"
   ]
  },
  {
   "cell_type": "code",
   "execution_count": 6,
   "metadata": {},
   "outputs": [],
   "source": [
    "from sklearn.preprocessing import StandardScaler\n",
    "sc = StandardScaler()\n",
    "X_train = sc.fit_transform(X_train)\n",
    "X_test = sc.transform(X_test)"
   ]
  },
  {
   "cell_type": "markdown",
   "metadata": {},
   "source": [
    "---\n",
    "# Parte 2 -Vamos construir uma ANN!\n",
    "\n",
    "## Importando o Keras\n"
   ]
  },
  {
   "cell_type": "code",
   "execution_count": 7,
   "metadata": {},
   "outputs": [
    {
     "name": "stderr",
     "output_type": "stream",
     "text": "Using TensorFlow backend.\n"
    }
   ],
   "source": [
    "import keras\n",
    "from keras.models import Sequential\n",
    "from keras.layers import Dense"
   ]
  },
  {
   "cell_type": "code",
   "execution_count": 8,
   "metadata": {},
   "outputs": [],
   "source": [
    "# Initialising the ANN\n",
    "classifier = Sequential()\n",
    "\n",
    "# Adding the input layer and the first hidden layer\n",
    "classifier.add(Dense(units = 6, kernel_initializer = 'uniform', activation = 'sigmoid', input_dim = 11))\n",
    "\n",
    "# Adding the second hidden layer\n",
    "classifier.add(Dense(units = 6, kernel_initializer = 'uniform', activation = 'sigmoid'))\n",
    "\n",
    "# Adding the output layer\n",
    "classifier.add(Dense(units = 1, kernel_initializer = 'uniform', activation = 'sigmoid'))\n",
    "\n",
    "# Compiling the ANN\n",
    "classifier.compile(optimizer = 'adam', loss = 'binary_crossentropy', metrics = ['accuracy'])"
   ]
  },
  {
   "cell_type": "markdown",
   "metadata": {},
   "source": [
    "# Ajustando a ANN ao conjunto de treinamento"
   ]
  },
  {
   "cell_type": "code",
   "execution_count": 9,
   "metadata": {},
   "outputs": [
    {
     "name": "stdout",
     "output_type": "stream",
     "text": "Epoch 1/20\n8000/8000 [==============================] - 2s 277us/step - loss: 0.5282 - accuracy: 0.7890\nEpoch 2/20\n8000/8000 [==============================] - 2s 233us/step - loss: 0.4797 - accuracy: 0.7960\nEpoch 3/20\n8000/8000 [==============================] - 2s 279us/step - loss: 0.4652 - accuracy: 0.7960\nEpoch 4/20\n8000/8000 [==============================] - 2s 286us/step - loss: 0.4520 - accuracy: 0.7960\nEpoch 5/20\n8000/8000 [==============================] - 2s 277us/step - loss: 0.4423 - accuracy: 0.7960\nEpoch 6/20\n8000/8000 [==============================] - 2s 276us/step - loss: 0.4360 - accuracy: 0.7960\nEpoch 7/20\n8000/8000 [==============================] - 2s 254us/step - loss: 0.4323 - accuracy: 0.7960\nEpoch 8/20\n8000/8000 [==============================] - 2s 241us/step - loss: 0.4306 - accuracy: 0.7960\nEpoch 9/20\n8000/8000 [==============================] - 2s 277us/step - loss: 0.4296 - accuracy: 0.7960\nEpoch 10/20\n8000/8000 [==============================] - 2s 284us/step - loss: 0.4292 - accuracy: 0.7960\nEpoch 11/20\n8000/8000 [==============================] - 2s 247us/step - loss: 0.4290 - accuracy: 0.7960\nEpoch 12/20\n8000/8000 [==============================] - 2s 221us/step - loss: 0.4289 - accuracy: 0.7960\nEpoch 13/20\n8000/8000 [==============================] - 2s 219us/step - loss: 0.4286 - accuracy: 0.7960\nEpoch 14/20\n8000/8000 [==============================] - 2s 213us/step - loss: 0.4286 - accuracy: 0.7960\nEpoch 15/20\n8000/8000 [==============================] - 2s 213us/step - loss: 0.4285 - accuracy: 0.7960\nEpoch 16/20\n8000/8000 [==============================] - 2s 214us/step - loss: 0.4286 - accuracy: 0.7960\nEpoch 17/20\n8000/8000 [==============================] - 2s 226us/step - loss: 0.4285 - accuracy: 0.7960\nEpoch 18/20\n8000/8000 [==============================] - 2s 215us/step - loss: 0.4283 - accuracy: 0.7960\nEpoch 19/20\n8000/8000 [==============================] - 2s 213us/step - loss: 0.4281 - accuracy: 0.7960\nEpoch 20/20\n8000/8000 [==============================] - 2s 216us/step - loss: 0.4281 - accuracy: 0.7960\n"
    },
    {
     "data": {
      "text/plain": "<keras.callbacks.callbacks.History at 0x7fcae0022da0>"
     },
     "execution_count": 9,
     "metadata": {},
     "output_type": "execute_result"
    }
   ],
   "source": [
    "classifier.fit(X_train, y_train, batch_size = 10, epochs = 20)"
   ]
  },
  {
   "cell_type": "markdown",
   "metadata": {},
   "source": [
    "# Parte 3 - Fazendo predições e avaliando o modelo\n",
    "\n",
    "## Prevendo os resultados com o conjunto de testes"
   ]
  },
  {
   "cell_type": "code",
   "execution_count": 10,
   "metadata": {},
   "outputs": [],
   "source": [
    "y_pred = classifier.predict(X_test)\n",
    "y_pred = (y_pred > 0.5)"
   ]
  },
  {
   "cell_type": "markdown",
   "metadata": {},
   "source": [
    "# Criando uma Confusion Matrix"
   ]
  },
  {
   "cell_type": "code",
   "execution_count": 11,
   "metadata": {},
   "outputs": [
    {
     "name": "stdout",
     "output_type": "stream",
     "text": "[[1595    0]\n [ 405    0]]\n"
    }
   ],
   "source": [
    "from sklearn.metrics import confusion_matrix\n",
    "cm = confusion_matrix(y_test, y_pred)\n",
    "print(cm)"
   ]
  },
  {
   "cell_type": "markdown",
   "metadata": {},
   "source": [
    "# Initiate activation function experimentation\n",
    "\n",
    "# Initialising the 2nd ANN"
   ]
  },
  {
   "cell_type": "code",
   "execution_count": 12,
   "metadata": {},
   "outputs": [
    {
     "name": "stdout",
     "output_type": "stream",
     "text": "Epoch 1/20\n8000/8000 [==============================] - 2s 216us/step - loss: 3.1467 - accuracy: 0.7960\nEpoch 2/20\n8000/8000 [==============================] - 2s 192us/step - loss: 3.1467 - accuracy: 0.7960\nEpoch 3/20\n8000/8000 [==============================] - 2s 197us/step - loss: 3.1467 - accuracy: 0.7960\nEpoch 4/20\n8000/8000 [==============================] - 2s 201us/step - loss: 3.1467 - accuracy: 0.7960\nEpoch 5/20\n8000/8000 [==============================] - 2s 197us/step - loss: 3.1467 - accuracy: 0.7960\nEpoch 6/20\n8000/8000 [==============================] - 2s 201us/step - loss: 3.1467 - accuracy: 0.7960\nEpoch 7/20\n8000/8000 [==============================] - 2s 228us/step - loss: 3.1467 - accuracy: 0.7960\nEpoch 8/20\n8000/8000 [==============================] - 2s 203us/step - loss: 3.1467 - accuracy: 0.7960\nEpoch 9/20\n8000/8000 [==============================] - 2s 242us/step - loss: 3.1467 - accuracy: 0.7960\nEpoch 10/20\n8000/8000 [==============================] - 2s 239us/step - loss: 3.1467 - accuracy: 0.7960\nEpoch 11/20\n8000/8000 [==============================] - 2s 274us/step - loss: 3.1467 - accuracy: 0.7960\nEpoch 12/20\n8000/8000 [==============================] - 2s 280us/step - loss: 3.1467 - accuracy: 0.7960\nEpoch 13/20\n8000/8000 [==============================] - 2s 290us/step - loss: 3.1467 - accuracy: 0.7960\nEpoch 14/20\n8000/8000 [==============================] - 3s 429us/step - loss: 3.1467 - accuracy: 0.7960\nEpoch 15/20\n8000/8000 [==============================] - 3s 386us/step - loss: 3.1467 - accuracy: 0.7960\nEpoch 16/20\n8000/8000 [==============================] - 3s 362us/step - loss: 3.1467 - accuracy: 0.7960\nEpoch 17/20\n8000/8000 [==============================] - 3s 392us/step - loss: 3.1467 - accuracy: 0.7960\nEpoch 18/20\n8000/8000 [==============================] - 3s 418us/step - loss: 3.1467 - accuracy: 0.7960\nEpoch 19/20\n8000/8000 [==============================] - 3s 424us/step - loss: 3.1467 - accuracy: 0.7960\nEpoch 20/20\n8000/8000 [==============================] - 3s 320us/step - loss: 3.1467 - accuracy: 0.7960\n"
    },
    {
     "data": {
      "text/plain": "<keras.callbacks.callbacks.History at 0x7fcae017e390>"
     },
     "execution_count": 12,
     "metadata": {},
     "output_type": "execute_result"
    }
   ],
   "source": [
    "del classifier\n",
    "\n",
    "classifier = Sequential()\n",
    "\n",
    "classifier.add(Dense(units = 6, kernel_initializer = 'uniform', activation = 'relu', input_dim = 11))\n",
    "\n",
    "classifier.add(Dense(units = 6, kernel_initializer = 'uniform', activation = 'relu'))\n",
    "\n",
    "classifier.add(Dense(units = 1, kernel_initializer = 'uniform', activation = 'relu'))\n",
    "\n",
    "classifier.compile(optimizer = 'adam', loss = 'binary_crossentropy', metrics = ['accuracy'])\n",
    "\n",
    "classifier.fit(X_train, y_train, batch_size = 10, epochs = 20)"
   ]
  },
  {
   "cell_type": "code",
   "execution_count": 13,
   "metadata": {},
   "outputs": [],
   "source": [
    "y_pred = classifier.predict(X_test)\n",
    "y_pred = (y_pred > 0.5)"
   ]
  },
  {
   "cell_type": "markdown",
   "metadata": {},
   "source": [
    "# Making the Confusion Matrix"
   ]
  },
  {
   "cell_type": "code",
   "execution_count": 14,
   "metadata": {},
   "outputs": [
    {
     "name": "stdout",
     "output_type": "stream",
     "text": "[[1595    0]\n [ 405    0]]\n"
    }
   ],
   "source": [
    "from sklearn.metrics import confusion_matrix\n",
    "cm = confusion_matrix(y_test, y_pred)\n",
    "print(cm)"
   ]
  },
  {
   "cell_type": "markdown",
   "metadata": {},
   "source": [
    "# Initialising the 3rd ANN"
   ]
  },
  {
   "cell_type": "code",
   "execution_count": 15,
   "metadata": {},
   "outputs": [
    {
     "name": "stdout",
     "output_type": "stream",
     "text": "Epoch 1/20\n8000/8000 [==============================] - 2s 311us/step - loss: 0.5113 - accuracy: 0.8035\nEpoch 2/20\n8000/8000 [==============================] - 3s 333us/step - loss: 0.4130 - accuracy: 0.8135\nEpoch 3/20\n8000/8000 [==============================] - 2s 269us/step - loss: 0.3973 - accuracy: 0.8205\nEpoch 4/20\n8000/8000 [==============================] - 3s 315us/step - loss: 0.3916 - accuracy: 0.8290\nEpoch 5/20\n8000/8000 [==============================] - 2s 274us/step - loss: 0.3800 - accuracy: 0.8375\nEpoch 6/20\n8000/8000 [==============================] - 2s 250us/step - loss: 0.3752 - accuracy: 0.8410\nEpoch 7/20\n8000/8000 [==============================] - 2s 250us/step - loss: 0.3763 - accuracy: 0.8415\nEpoch 8/20\n8000/8000 [==============================] - 2s 227us/step - loss: 0.3755 - accuracy: 0.8397\nEpoch 9/20\n8000/8000 [==============================] - 2s 227us/step - loss: 0.3694 - accuracy: 0.8389\nEpoch 10/20\n8000/8000 [==============================] - 2s 255us/step - loss: 0.3699 - accuracy: 0.8356\nEpoch 11/20\n8000/8000 [==============================] - 2s 297us/step - loss: 0.3688 - accuracy: 0.8381\nEpoch 12/20\n8000/8000 [==============================] - 2s 254us/step - loss: 0.3694 - accuracy: 0.8391\nEpoch 13/20\n8000/8000 [==============================] - 2s 281us/step - loss: 0.3671 - accuracy: 0.8379\nEpoch 14/20\n8000/8000 [==============================] - 2s 267us/step - loss: 0.3719 - accuracy: 0.8397\nEpoch 15/20\n8000/8000 [==============================] - 3s 323us/step - loss: 0.3721 - accuracy: 0.8414\nEpoch 16/20\n8000/8000 [==============================] - 3s 316us/step - loss: 0.3689 - accuracy: 0.8419\nEpoch 17/20\n8000/8000 [==============================] - 2s 251us/step - loss: 0.3679 - accuracy: 0.8418\nEpoch 18/20\n8000/8000 [==============================] - 2s 245us/step - loss: 0.3676 - accuracy: 0.8421\nEpoch 19/20\n8000/8000 [==============================] - 2s 242us/step - loss: 0.3644 - accuracy: 0.8440\nEpoch 20/20\n8000/8000 [==============================] - 2s 238us/step - loss: 0.3646 - accuracy: 0.8441\n"
    },
    {
     "data": {
      "text/plain": "<keras.callbacks.callbacks.History at 0x7fcac013d4e0>"
     },
     "execution_count": 15,
     "metadata": {},
     "output_type": "execute_result"
    }
   ],
   "source": [
    "del classifier\n",
    "\n",
    "classifier = Sequential()\n",
    "\n",
    "classifier.add(Dense(units = 6, kernel_initializer = 'uniform', activation = 'relu', input_dim = 11))\n",
    "\n",
    "classifier.add(Dense(units = 6, kernel_initializer = 'uniform', activation = 'relu'))\n",
    "\n",
    "classifier.add(Dense(units = 1, kernel_initializer = 'uniform', activation = 'relu'))\n",
    "\n",
    "classifier.compile(optimizer = 'adam', loss = 'binary_crossentropy', metrics = ['accuracy'])\n",
    "\n",
    "classifier.fit(X_train, y_train, batch_size = 10, epochs = 20)"
   ]
  },
  {
   "cell_type": "code",
   "execution_count": 16,
   "metadata": {},
   "outputs": [],
   "source": [
    "y_pred = classifier.predict(X_test)\n",
    "y_pred = (y_pred > 0.5)"
   ]
  },
  {
   "cell_type": "markdown",
   "metadata": {},
   "source": [
    "# Making the Confusion Matrix"
   ]
  },
  {
   "cell_type": "code",
   "execution_count": 17,
   "metadata": {},
   "outputs": [
    {
     "name": "stdout",
     "output_type": "stream",
     "text": "[[1524   71]\n [ 215  190]]\n"
    }
   ],
   "source": [
    "from sklearn.metrics import confusion_matrix\n",
    "cm = confusion_matrix(y_test, y_pred)\n",
    "print(cm)"
   ]
  },
  {
   "cell_type": "markdown",
   "metadata": {},
   "source": [
    "---\n",
    "# Parte 4 - Evaluating, Improving and Tuning the ANN\n",
    "\n",
    "## Evaluating the ANN"
   ]
  },
  {
   "cell_type": "code",
   "execution_count": 18,
   "metadata": {},
   "outputs": [
    {
     "name": "stdout",
     "output_type": "stream",
     "text": "[0.82999998 0.83999997 0.85374999 0.83375001 0.85124999 0.82999998\n 0.82999998 0.81999999 0.8125     0.86750001]\n0.8368749916553497\n0.01571474424516427\n"
    }
   ],
   "source": [
    "from keras.wrappers.scikit_learn import KerasClassifier\n",
    "from sklearn.model_selection import cross_val_score\n",
    "from keras.models import Sequential\n",
    "from keras.layers import Dense\n",
    "\n",
    "def build_classifier():\n",
    "    classifier = Sequential()\n",
    "    classifier.add(Dense(units = 6, kernel_initializer = 'uniform', activation = 'relu', input_dim = 11))\n",
    "    classifier.add(Dense(units = 6, kernel_initializer = 'uniform', activation = 'relu'))\n",
    "    classifier.add(Dense(units = 1, kernel_initializer = 'uniform', activation = 'sigmoid'))\n",
    "    classifier.compile(optimizer = 'adam', loss = 'binary_crossentropy', metrics = ['accuracy'])\n",
    "    return classifier\n",
    "\n",
    "classifier = KerasClassifier(build_fn = build_classifier, batch_size = 10, epochs = 20)\n",
    "accuracies = cross_val_score(estimator = classifier, X = X_train, y = y_train, cv = 10, n_jobs = -1)\n",
    "mean = accuracies.mean()\n",
    "variance = accuracies.std()\n",
    "\n",
    "print(accuracies)\n",
    "print(mean)\n",
    "print(variance)"
   ]
  },
  {
   "cell_type": "markdown",
   "metadata": {},
   "source": [
    "# Improving the ANN\n",
    "# Dropout Regularization to reduce overfitting if needed"
   ]
  },
  {
   "cell_type": "code",
   "execution_count": 19,
   "metadata": {},
   "outputs": [
    {
     "name": "stdout",
     "output_type": "stream",
     "text": "[0.82749999 0.81625003 0.80000001 0.81124997 0.85500002 0.82999998\n 0.82625002 0.81375003 0.8175     0.83375001]\n0.8231250047683716\n0.014309635575369413\n"
    }
   ],
   "source": [
    "from keras.layers import Dropout\n",
    "\n",
    "def build_classifier():\n",
    "    classifier = Sequential()\n",
    "    classifier.add(Dense(units = 6, kernel_initializer = 'uniform', activation = 'relu', input_dim = 11))\n",
    "    classifier.add(Dropout(rate = 0.1))\n",
    "    classifier.add(Dense(units = 6, kernel_initializer = 'uniform', activation = 'relu'))\n",
    "    classifier.add(Dropout(rate = 0.1))\n",
    "    classifier.add(Dense(units = 1, kernel_initializer = 'uniform', activation = 'sigmoid'))\n",
    "    classifier.compile(optimizer = 'adam', loss = 'binary_crossentropy', metrics = ['accuracy'])\n",
    "    return classifier\n",
    "\n",
    "classifier = KerasClassifier(build_fn = build_classifier, batch_size = 10, epochs = 10)\n",
    "accuracies = cross_val_score(estimator = classifier, X = X_train, y = y_train, cv = 10, n_jobs = -1)\n",
    "mean = accuracies.mean()\n",
    "variance = accuracies.std()\n",
    "\n",
    "print(accuracies)\n",
    "print(mean)\n",
    "print(variance)"
   ]
  },
  {
   "cell_type": "markdown",
   "metadata": {},
   "source": [
    "# Tuning the ANN"
   ]
  },
  {
   "cell_type": "code",
   "execution_count": 20,
   "metadata": {},
   "outputs": [],
   "source": [
    "from keras.wrappers.scikit_learn import KerasClassifier\n",
    "from sklearn.model_selection import GridSearchCV\n",
    "from keras.models import Sequential\n",
    "from keras.layers import Dense\n",
    "\n",
    "def build_classifier(optimizer):\n",
    "    classifier = Sequential()\n",
    "    classifier.add(Dense(units = 6, kernel_initializer = 'uniform', activation = 'relu', input_dim = 11))\n",
    "    classifier.add(Dropout(rate = 0.1))\n",
    "    classifier.add(Dense(units = 6, kernel_initializer = 'uniform', activation = 'relu'))\n",
    "    classifier.add(Dropout(rate = 0.1))\n",
    "    classifier.add(Dense(units = 1, kernel_initializer = 'uniform', activation = 'sigmoid'))\n",
    "    classifier.compile(optimizer = optimizer, loss = 'binary_crossentropy', metrics = ['accuracy'])\n",
    "    return classifier\n",
    "\n",
    "classifier = KerasClassifier(build_fn = build_classifier)"
   ]
  },
  {
   "cell_type": "code",
   "execution_count": 21,
   "metadata": {},
   "outputs": [
    {
     "name": "stdout",
     "output_type": "stream",
     "text": "Epoch 1/50\n7200/7200 [==============================] - 2s 295us/step - loss: 0.4893 - accuracy: 0.7968\nEpoch 2/50\n7200/7200 [==============================] - 2s 270us/step - loss: 0.4280 - accuracy: 0.7971\nEpoch 3/50\n7200/7200 [==============================] - 2s 238us/step - loss: 0.4190 - accuracy: 0.7971\nEpoch 4/50\n7200/7200 [==============================] - 2s 240us/step - loss: 0.4178 - accuracy: 0.7975\nEpoch 5/50\n7200/7200 [==============================] - 2s 253us/step - loss: 0.4144 - accuracy: 0.8218\nEpoch 6/50\n7200/7200 [==============================] - 2s 259us/step - loss: 0.4121 - accuracy: 0.8238\nEpoch 7/50\n7200/7200 [==============================] - 2s 267us/step - loss: 0.4091 - accuracy: 0.8235\nEpoch 8/50\n7200/7200 [==============================] - 2s 239us/step - loss: 0.4097 - accuracy: 0.8258\nEpoch 9/50\n7200/7200 [==============================] - 2s 234us/step - loss: 0.4099 - accuracy: 0.8219\nEpoch 10/50\n7200/7200 [==============================] - 2s 260us/step - loss: 0.4025 - accuracy: 0.8268\nEpoch 11/50\n7200/7200 [==============================] - 2s 244us/step - loss: 0.4085 - accuracy: 0.8218\nEpoch 12/50\n7200/7200 [==============================] - 2s 285us/step - loss: 0.4070 - accuracy: 0.8236\nEpoch 13/50\n7200/7200 [==============================] - 2s 254us/step - loss: 0.4070 - accuracy: 0.8236\nEpoch 14/50\n7200/7200 [==============================] - 2s 249us/step - loss: 0.4070 - accuracy: 0.8265\nEpoch 15/50\n7200/7200 [==============================] - 2s 287us/step - loss: 0.4058 - accuracy: 0.8260\nEpoch 16/50\n7200/7200 [==============================] - 2s 287us/step - loss: 0.4061 - accuracy: 0.8317\nEpoch 17/50\n7200/7200 [==============================] - 2s 303us/step - loss: 0.4008 - accuracy: 0.8356\nEpoch 18/50\n7200/7200 [==============================] - 2s 296us/step - loss: 0.4038 - accuracy: 0.8347\nEpoch 19/50\n7200/7200 [==============================] - 2s 301us/step - loss: 0.4023 - accuracy: 0.8342\nEpoch 20/50\n7200/7200 [==============================] - 2s 298us/step - loss: 0.4029 - accuracy: 0.8340\nEpoch 21/50\n7200/7200 [==============================] - 2s 285us/step - loss: 0.4035 - accuracy: 0.8332\nEpoch 22/50\n7200/7200 [==============================] - 2s 283us/step - loss: 0.4027 - accuracy: 0.8347\nEpoch 23/50\n7200/7200 [==============================] - 2s 321us/step - loss: 0.4040 - accuracy: 0.8356\nEpoch 24/50\n7200/7200 [==============================] - 2s 286us/step - loss: 0.4035 - accuracy: 0.8354\nEpoch 25/50\n7200/7200 [==============================] - 2s 263us/step - loss: 0.4042 - accuracy: 0.8344\nEpoch 26/50\n7200/7200 [==============================] - 2s 301us/step - loss: 0.4076 - accuracy: 0.8354\nEpoch 27/50\n7200/7200 [==============================] - 2s 313us/step - loss: 0.4007 - accuracy: 0.8367\nEpoch 28/50\n7200/7200 [==============================] - 2s 305us/step - loss: 0.4004 - accuracy: 0.8353\nEpoch 29/50\n7200/7200 [==============================] - 2s 341us/step - loss: 0.4007 - accuracy: 0.8390\nEpoch 30/50\n7200/7200 [==============================] - 2s 295us/step - loss: 0.4010 - accuracy: 0.8376\nEpoch 31/50\n7200/7200 [==============================] - 2s 299us/step - loss: 0.4016 - accuracy: 0.8376\nEpoch 32/50\n7200/7200 [==============================] - 2s 323us/step - loss: 0.4042 - accuracy: 0.8368\nEpoch 33/50\n7200/7200 [==============================] - 2s 283us/step - loss: 0.4035 - accuracy: 0.8332\nEpoch 34/50\n7200/7200 [==============================] - 3s 403us/step - loss: 0.4001 - accuracy: 0.8378\nEpoch 35/50\n7200/7200 [==============================] - 2s 333us/step - loss: 0.4070 - accuracy: 0.8335\nEpoch 36/50\n7200/7200 [==============================] - 3s 379us/step - loss: 0.4038 - accuracy: 0.8371\nEpoch 37/50\n7200/7200 [==============================] - 3s 433us/step - loss: 0.4035 - accuracy: 0.8336\nEpoch 38/50\n7200/7200 [==============================] - 3s 363us/step - loss: 0.4029 - accuracy: 0.8383\nEpoch 39/50\n7200/7200 [==============================] - 2s 286us/step - loss: 0.4027 - accuracy: 0.8338\nEpoch 40/50\n7200/7200 [==============================] - 2s 276us/step - loss: 0.4011 - accuracy: 0.8378\nEpoch 41/50\n7200/7200 [==============================] - 2s 253us/step - loss: 0.4033 - accuracy: 0.8381\nEpoch 42/50\n7200/7200 [==============================] - 2s 252us/step - loss: 0.3940 - accuracy: 0.8401\nEpoch 43/50\n7200/7200 [==============================] - 2s 253us/step - loss: 0.4020 - accuracy: 0.8379\nEpoch 44/50\n7200/7200 [==============================] - 2s 241us/step - loss: 0.4004 - accuracy: 0.8381\nEpoch 45/50\n7200/7200 [==============================] - 2s 252us/step - loss: 0.4002 - accuracy: 0.8393\nEpoch 46/50\n7200/7200 [==============================] - 2s 249us/step - loss: 0.4020 - accuracy: 0.8333\nEpoch 47/50\n7200/7200 [==============================] - 2s 246us/step - loss: 0.4001 - accuracy: 0.8349\nEpoch 48/50\n7200/7200 [==============================] - 2s 252us/step - loss: 0.4013 - accuracy: 0.8361\nEpoch 49/50\n7200/7200 [==============================] - 2s 240us/step - loss: 0.4007 - accuracy: 0.8367\nEpoch 50/50\n7200/7200 [==============================] - 2s 274us/step - loss: 0.3968 - accuracy: 0.8371\nEpoch 1/50\n7200/7200 [==============================] - 2s 278us/step - loss: 0.4909 - accuracy: 0.7967\nEpoch 2/50\n7200/7200 [==============================] - 2s 249us/step - loss: 0.4359 - accuracy: 0.7967\nEpoch 3/50\n7200/7200 [==============================] - 2s 247us/step - loss: 0.4312 - accuracy: 0.7967\nEpoch 4/50\n7200/7200 [==============================] - 2s 233us/step - loss: 0.4294 - accuracy: 0.7967\nEpoch 5/50\n7200/7200 [==============================] - 2s 232us/step - loss: 0.4262 - accuracy: 0.8010\nEpoch 6/50\n7200/7200 [==============================] - 2s 242us/step - loss: 0.4257 - accuracy: 0.8215\nEpoch 7/50\n7200/7200 [==============================] - 2s 238us/step - loss: 0.4262 - accuracy: 0.8244\nEpoch 8/50\n7200/7200 [==============================] - 2s 239us/step - loss: 0.4262 - accuracy: 0.8253\nEpoch 9/50\n7200/7200 [==============================] - 2s 250us/step - loss: 0.4244 - accuracy: 0.8276\nEpoch 10/50\n7200/7200 [==============================] - 2s 251us/step - loss: 0.4228 - accuracy: 0.8272\nEpoch 11/50\n7200/7200 [==============================] - 2s 251us/step - loss: 0.4253 - accuracy: 0.8290\nEpoch 12/50\n7200/7200 [==============================] - 2s 258us/step - loss: 0.4224 - accuracy: 0.8286\nEpoch 13/50\n7200/7200 [==============================] - 2s 275us/step - loss: 0.4244 - accuracy: 0.8276\nEpoch 14/50\n7200/7200 [==============================] - 2s 257us/step - loss: 0.4253 - accuracy: 0.8283\nEpoch 15/50\n7200/7200 [==============================] - 2s 276us/step - loss: 0.4230 - accuracy: 0.8292\nEpoch 16/50\n7200/7200 [==============================] - 2s 249us/step - loss: 0.4228 - accuracy: 0.8317\nEpoch 17/50\n7200/7200 [==============================] - 2s 247us/step - loss: 0.4245 - accuracy: 0.8282\nEpoch 18/50\n7200/7200 [==============================] - 2s 264us/step - loss: 0.4191 - accuracy: 0.8303\nEpoch 19/50\n7200/7200 [==============================] - 2s 295us/step - loss: 0.4247 - accuracy: 0.8292\nEpoch 20/50\n7200/7200 [==============================] - 2s 253us/step - loss: 0.4224 - accuracy: 0.8307\nEpoch 21/50\n7200/7200 [==============================] - 2s 247us/step - loss: 0.4240 - accuracy: 0.8303\nEpoch 22/50\n7200/7200 [==============================] - 2s 284us/step - loss: 0.4230 - accuracy: 0.8324\nEpoch 23/50\n7200/7200 [==============================] - 2s 240us/step - loss: 0.4193 - accuracy: 0.8315\nEpoch 24/50\n7200/7200 [==============================] - 2s 252us/step - loss: 0.4219 - accuracy: 0.8308\nEpoch 25/50\n7200/7200 [==============================] - 2s 242us/step - loss: 0.4229 - accuracy: 0.8307\nEpoch 26/50\n7200/7200 [==============================] - 2s 234us/step - loss: 0.4195 - accuracy: 0.8321\nEpoch 27/50\n7200/7200 [==============================] - 2s 251us/step - loss: 0.4220 - accuracy: 0.8294\nEpoch 28/50\n7200/7200 [==============================] - 2s 234us/step - loss: 0.4201 - accuracy: 0.8297\nEpoch 29/50\n7200/7200 [==============================] - 2s 232us/step - loss: 0.4201 - accuracy: 0.8308\nEpoch 30/50\n7200/7200 [==============================] - 2s 239us/step - loss: 0.4248 - accuracy: 0.8324\nEpoch 31/50\n7200/7200 [==============================] - 2s 247us/step - loss: 0.4224 - accuracy: 0.8314\nEpoch 32/50\n7200/7200 [==============================] - 2s 239us/step - loss: 0.4187 - accuracy: 0.8322\nEpoch 33/50\n7200/7200 [==============================] - 2s 263us/step - loss: 0.4200 - accuracy: 0.8304\nEpoch 34/50\n7200/7200 [==============================] - 2s 280us/step - loss: 0.4198 - accuracy: 0.8336\nEpoch 35/50\n7200/7200 [==============================] - 2s 268us/step - loss: 0.4202 - accuracy: 0.8313\nEpoch 36/50\n7200/7200 [==============================] - 2s 320us/step - loss: 0.4185 - accuracy: 0.8292\nEpoch 37/50\n7200/7200 [==============================] - 2s 247us/step - loss: 0.4239 - accuracy: 0.8314\nEpoch 38/50\n7200/7200 [==============================] - 2s 252us/step - loss: 0.4185 - accuracy: 0.8317\nEpoch 39/50\n7200/7200 [==============================] - 2s 239us/step - loss: 0.4193 - accuracy: 0.8344\nEpoch 40/50\n7200/7200 [==============================] - 2s 270us/step - loss: 0.4221 - accuracy: 0.8306\nEpoch 41/50\n7200/7200 [==============================] - 2s 257us/step - loss: 0.4237 - accuracy: 0.8304\nEpoch 42/50\n7200/7200 [==============================] - 2s 242us/step - loss: 0.4189 - accuracy: 0.8346\nEpoch 43/50\n7200/7200 [==============================] - 2s 242us/step - loss: 0.4194 - accuracy: 0.8311\nEpoch 44/50\n7200/7200 [==============================] - 2s 240us/step - loss: 0.4214 - accuracy: 0.8321\nEpoch 45/50\n7200/7200 [==============================] - 2s 240us/step - loss: 0.4191 - accuracy: 0.8325\nEpoch 46/50\n7200/7200 [==============================] - 2s 240us/step - loss: 0.4247 - accuracy: 0.8290\nEpoch 47/50\n7200/7200 [==============================] - 2s 263us/step - loss: 0.4204 - accuracy: 0.8313\nEpoch 48/50\n7200/7200 [==============================] - 2s 307us/step - loss: 0.4197 - accuracy: 0.8311\nEpoch 49/50\n7200/7200 [==============================] - 2s 311us/step - loss: 0.4204 - accuracy: 0.8321\nEpoch 50/50\n7200/7200 [==============================] - 2s 333us/step - loss: 0.4207 - accuracy: 0.8313\nEpoch 1/50\n7200/7200 [==============================] - 3s 349us/step - loss: 0.4959 - accuracy: 0.7953\nEpoch 2/50\n7200/7200 [==============================] - 2s 290us/step - loss: 0.4394 - accuracy: 0.7956\nEpoch 3/50\n7200/7200 [==============================] - 2s 298us/step - loss: 0.4337 - accuracy: 0.7956\nEpoch 4/50\n7200/7200 [==============================] - 3s 411us/step - loss: 0.4314 - accuracy: 0.7956\nEpoch 5/50\n7200/7200 [==============================] - 2s 333us/step - loss: 0.4321 - accuracy: 0.7956\nEpoch 6/50\n7200/7200 [==============================] - 2s 256us/step - loss: 0.4321 - accuracy: 0.7956\nEpoch 7/50\n7200/7200 [==============================] - 2s 259us/step - loss: 0.4291 - accuracy: 0.8053\nEpoch 8/50\n7200/7200 [==============================] - 2s 261us/step - loss: 0.4295 - accuracy: 0.8207\nEpoch 9/50\n7200/7200 [==============================] - 2s 256us/step - loss: 0.4264 - accuracy: 0.8274\nEpoch 10/50\n7200/7200 [==============================] - 2s 288us/step - loss: 0.4253 - accuracy: 0.8251\nEpoch 11/50\n7200/7200 [==============================] - 2s 329us/step - loss: 0.4263 - accuracy: 0.8268\nEpoch 12/50\n7200/7200 [==============================] - 2s 301us/step - loss: 0.4257 - accuracy: 0.8274\nEpoch 13/50\n7200/7200 [==============================] - 2s 255us/step - loss: 0.4249 - accuracy: 0.8286\nEpoch 14/50\n7200/7200 [==============================] - 2s 253us/step - loss: 0.4252 - accuracy: 0.8297\nEpoch 15/50\n7200/7200 [==============================] - 2s 330us/step - loss: 0.4247 - accuracy: 0.8300\nEpoch 16/50\n7200/7200 [==============================] - 3s 352us/step - loss: 0.4250 - accuracy: 0.8296\nEpoch 17/50\n7200/7200 [==============================] - 2s 279us/step - loss: 0.4238 - accuracy: 0.8301\nEpoch 18/50\n7200/7200 [==============================] - 2s 282us/step - loss: 0.4230 - accuracy: 0.8325\nEpoch 19/50\n7200/7200 [==============================] - 2s 342us/step - loss: 0.4233 - accuracy: 0.8276\nEpoch 20/50\n7200/7200 [==============================] - 3s 350us/step - loss: 0.4261 - accuracy: 0.8296\nEpoch 21/50\n7200/7200 [==============================] - 2s 313us/step - loss: 0.4237 - accuracy: 0.8313\nEpoch 22/50\n7200/7200 [==============================] - 2s 277us/step - loss: 0.4249 - accuracy: 0.8310\nEpoch 23/50\n7200/7200 [==============================] - 2s 338us/step - loss: 0.4244 - accuracy: 0.8292\nEpoch 24/50\n7200/7200 [==============================] - 2s 280us/step - loss: 0.4205 - accuracy: 0.8318\nEpoch 25/50\n7200/7200 [==============================] - 2s 277us/step - loss: 0.4254 - accuracy: 0.8319\nEpoch 26/50\n7200/7200 [==============================] - 2s 280us/step - loss: 0.4238 - accuracy: 0.8322\nEpoch 27/50\n7200/7200 [==============================] - 2s 304us/step - loss: 0.4251 - accuracy: 0.8325\nEpoch 28/50\n7200/7200 [==============================] - 4s 563us/step - loss: 0.4194 - accuracy: 0.8315\nEpoch 29/50\n7200/7200 [==============================] - 4s 622us/step - loss: 0.4262 - accuracy: 0.8289\nEpoch 30/50\n7200/7200 [==============================] - 4s 599us/step - loss: 0.4226 - accuracy: 0.8310\nEpoch 31/50\n7200/7200 [==============================] - 5s 635us/step - loss: 0.4197 - accuracy: 0.8300\nEpoch 32/50\n7200/7200 [==============================] - 5s 658us/step - loss: 0.4243 - accuracy: 0.8288\nEpoch 33/50\n7200/7200 [==============================] - 3s 404us/step - loss: 0.4198 - accuracy: 0.8326\nEpoch 34/50\n7200/7200 [==============================] - 2s 311us/step - loss: 0.4243 - accuracy: 0.8306\nEpoch 35/50\n7200/7200 [==============================] - 2s 305us/step - loss: 0.4211 - accuracy: 0.8325\nEpoch 36/50\n7200/7200 [==============================] - 2s 314us/step - loss: 0.4216 - accuracy: 0.8315\nEpoch 37/50\n7200/7200 [==============================] - 2s 299us/step - loss: 0.4203 - accuracy: 0.8325\nEpoch 38/50\n7200/7200 [==============================] - 2s 318us/step - loss: 0.4202 - accuracy: 0.8324\nEpoch 39/50\n7200/7200 [==============================] - 2s 292us/step - loss: 0.4208 - accuracy: 0.8296\nEpoch 40/50\n7200/7200 [==============================] - 3s 349us/step - loss: 0.4182 - accuracy: 0.8331\nEpoch 41/50\n7200/7200 [==============================] - 2s 336us/step - loss: 0.4223 - accuracy: 0.8347\nEpoch 42/50\n2810/7200 [==========>...................] - ETA: 1s - loss: 0.4063 - accuracy: 0.8399"
    }
   ],
   "source": [
    "parameters = {'batch_size': [10, 24, 32],\n",
    "              'epochs': [10, 100, 200],\n",
    "              'optimizer': ['adam', 'rmsprop']}\n",
    "\n",
    "grid_search = GridSearchCV(estimator = classifier,\n",
    "                           scoring = 'accuracy',\n",
    "                           param_grid = parameters,\n",
    "                           cv = 10)\n",
    "\n",
    "grid_search = grid_search.fit(X_train, y_train)\n",
    "\n",
    "best_parameters = grid_search.best_params_\n",
    "best_accuracy = grid_search.best_score_\n",
    "\n",
    "print(best_parameters)\n",
    "print(best_accuracy)"
   ]
  },
  {
   "cell_type": "markdown",
   "metadata": {},
   "source": [
    "# FIM"
   ]
  },
  {
   "cell_type": "markdown",
   "metadata": {},
   "source": [
    "> Professor Diego Dorgam  \n",
    "> [@diegodorgam](https://twitter.com/diegodorgam)"
   ]
  }
 ],
 "metadata": {
  "kernelspec": {
   "display_name": "Python 3",
   "language": "python",
   "name": "python3"
  },
  "language_info": {
   "codemirror_mode": {
    "name": "ipython",
    "version": 3
   },
   "file_extension": ".py",
   "mimetype": "text/x-python",
   "name": "python",
   "nbconvert_exporter": "python",
   "pygments_lexer": "ipython3",
   "version": "3.7.3"
  }
 },
 "nbformat": 4,
 "nbformat_minor": 2
}