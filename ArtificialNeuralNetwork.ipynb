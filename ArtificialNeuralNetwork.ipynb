{
 "cells": [
  {
   "cell_type": "markdown",
   "metadata": {},
   "source": [
    "# REDES NEURAIS ARTIFICIAIS\n",
    "\n",
    "[Aula 3 de Deep Learning](http://bit.ly/dn-unb03) da Engenharia de Software da UnB"
   ]
  },
  {
   "cell_type": "code",
   "execution_count": 1,
   "metadata": {},
   "outputs": [
    {
     "name": "stdout",
     "output_type": "stream",
     "text": [
      "Collecting git+git://github.com/Theano/Theano.git\n",
      "  Cloning git://github.com/Theano/Theano.git to /private/var/folders/xv/6xdsnhm10jg5y1g0bm3kp9140000gp/T/pip-req-build-8g5oafk2\n",
      "  Running command git clone -q git://github.com/Theano/Theano.git /private/var/folders/xv/6xdsnhm10jg5y1g0bm3kp9140000gp/T/pip-req-build-8g5oafk2\n",
      "Building wheels for collected packages: Theano\n",
      "  Building wheel for Theano (setup.py) ... \u001b[?25ldone\n",
      "\u001b[?25h  Created wheel for Theano: filename=Theano-1.0.4+21.g8f510a1f0-cp36-none-any.whl size=2666379 sha256=041cb3a9e761cab5d820669c49be2cb71215f819b38d3ca8810aee93f4551093\n",
      "  Stored in directory: /private/var/folders/xv/6xdsnhm10jg5y1g0bm3kp9140000gp/T/pip-ephem-wheel-cache-pri53nb7/wheels/ae/32/7c/62beb8371953eb20c271b3bac7d0e56e1a2020d46994346b52\n",
      "Successfully built Theano\n",
      "Installing collected packages: Theano\n",
      "  Found existing installation: Theano 1.0.4+21.g8f510a1f0\n",
      "    Uninstalling Theano-1.0.4+21.g8f510a1f0:\n",
      "      Successfully uninstalled Theano-1.0.4+21.g8f510a1f0\n",
      "Successfully installed Theano-1.0.4+21.g8f510a1f0\n",
      "Collecting tensorflow\n",
      "  Using cached https://files.pythonhosted.org/packages/27/8c/7608ba709bd536bc2bccb0d1abbb70aafe9cf7e0170353b4b720ed54cb71/tensorflow-1.14.0-cp36-cp36m-macosx_10_11_x86_64.whl\n",
      "Requirement already satisfied, skipping upgrade: wrapt>=1.11.1 in /Users/dorgam/.local/lib/python3.6/site-packages (from tensorflow) (1.11.1)\n",
      "Requirement already satisfied, skipping upgrade: termcolor>=1.1.0 in /anaconda3/lib/python3.6/site-packages (from tensorflow) (1.1.0)\n",
      "Requirement already satisfied, skipping upgrade: six>=1.10.0 in /anaconda3/lib/python3.6/site-packages (from tensorflow) (1.11.0)\n",
      "Requirement already satisfied, skipping upgrade: wheel>=0.26 in /anaconda3/lib/python3.6/site-packages (from tensorflow) (0.31.1)\n",
      "Requirement already satisfied, skipping upgrade: grpcio>=1.8.6 in /anaconda3/lib/python3.6/site-packages (from tensorflow) (1.16.0)\n",
      "Collecting absl-py>=0.7.0 (from tensorflow)\n",
      "Collecting tensorboard<1.15.0,>=1.14.0 (from tensorflow)\n",
      "  Using cached https://files.pythonhosted.org/packages/91/2d/2ed263449a078cd9c8a9ba50ebd50123adf1f8cfbea1492f9084169b89d9/tensorboard-1.14.0-py3-none-any.whl\n",
      "Requirement already satisfied, skipping upgrade: keras-applications>=1.0.6 in /anaconda3/lib/python3.6/site-packages (from tensorflow) (1.0.8)\n",
      "Collecting tensorflow-estimator<1.15.0rc0,>=1.14.0rc0 (from tensorflow)\n",
      "  Using cached https://files.pythonhosted.org/packages/3c/d5/21860a5b11caf0678fbc8319341b0ae21a07156911132e0e71bffed0510d/tensorflow_estimator-1.14.0-py2.py3-none-any.whl\n",
      "Requirement already satisfied, skipping upgrade: astor>=0.6.0 in /anaconda3/lib/python3.6/site-packages (from tensorflow) (0.7.1)\n",
      "Requirement already satisfied, skipping upgrade: numpy<2.0,>=1.14.5 in /anaconda3/lib/python3.6/site-packages (from tensorflow) (1.17.2)\n",
      "Collecting google-pasta>=0.1.6 (from tensorflow)\n",
      "  Using cached https://files.pythonhosted.org/packages/d0/33/376510eb8d6246f3c30545f416b2263eee461e40940c2a4413c711bdf62d/google_pasta-0.1.7-py3-none-any.whl\n",
      "Requirement already satisfied, skipping upgrade: protobuf>=3.6.1 in /anaconda3/lib/python3.6/site-packages (from tensorflow) (3.6.1)\n",
      "Requirement already satisfied, skipping upgrade: gast>=0.2.0 in /anaconda3/lib/python3.6/site-packages (from tensorflow) (0.2.0)\n",
      "Requirement already satisfied, skipping upgrade: keras-preprocessing>=1.0.5 in /anaconda3/lib/python3.6/site-packages (from tensorflow) (1.1.0)\n",
      "Requirement already satisfied, skipping upgrade: werkzeug>=0.11.15 in /anaconda3/lib/python3.6/site-packages (from tensorboard<1.15.0,>=1.14.0->tensorflow) (0.14.1)\n",
      "Collecting setuptools>=41.0.0 (from tensorboard<1.15.0,>=1.14.0->tensorflow)\n",
      "  Using cached https://files.pythonhosted.org/packages/b2/86/095d2f7829badc207c893dd4ac767e871f6cd547145df797ea26baea4e2e/setuptools-41.2.0-py2.py3-none-any.whl\n",
      "Requirement already satisfied, skipping upgrade: markdown>=2.6.8 in /anaconda3/lib/python3.6/site-packages (from tensorboard<1.15.0,>=1.14.0->tensorflow) (3.0.1)\n",
      "Requirement already satisfied, skipping upgrade: h5py in /anaconda3/lib/python3.6/site-packages (from keras-applications>=1.0.6->tensorflow) (2.7.1)\n",
      "\u001b[31mERROR: rasa-core 0.11.12 has requirement tensorflow==1.10.0, but you'll have tensorflow 1.14.0 which is incompatible.\u001b[0m\n",
      "Installing collected packages: absl-py, setuptools, tensorboard, tensorflow-estimator, google-pasta, tensorflow\n",
      "  Found existing installation: absl-py 0.6.1\n",
      "    Uninstalling absl-py-0.6.1:\n",
      "      Successfully uninstalled absl-py-0.6.1\n",
      "  Found existing installation: setuptools 39.1.0\n",
      "    Uninstalling setuptools-39.1.0:\n",
      "      Successfully uninstalled setuptools-39.1.0\n",
      "  Found existing installation: tensorboard 1.13.1\n",
      "    Uninstalling tensorboard-1.13.1:\n",
      "      Successfully uninstalled tensorboard-1.13.1\n",
      "  Found existing installation: tensorflow-estimator 1.13.0\n",
      "    Uninstalling tensorflow-estimator-1.13.0:\n",
      "      Successfully uninstalled tensorflow-estimator-1.13.0\n",
      "  Found existing installation: tensorflow 1.13.1\n",
      "    Uninstalling tensorflow-1.13.1:\n",
      "      Successfully uninstalled tensorflow-1.13.1\n",
      "Successfully installed absl-py-0.8.0 google-pasta-0.1.7 setuptools-41.2.0 tensorboard-1.14.0 tensorflow-1.14.0 tensorflow-estimator-1.14.0\n",
      "Requirement already up-to-date: keras in /anaconda3/lib/python3.6/site-packages (2.2.5)\n",
      "Requirement already satisfied, skipping upgrade: numpy>=1.9.1 in /anaconda3/lib/python3.6/site-packages (from keras) (1.17.2)\n",
      "Requirement already satisfied, skipping upgrade: scipy>=0.14 in /anaconda3/lib/python3.6/site-packages (from keras) (1.1.0)\n",
      "Requirement already satisfied, skipping upgrade: keras-applications>=1.0.8 in /anaconda3/lib/python3.6/site-packages (from keras) (1.0.8)\n",
      "Requirement already satisfied, skipping upgrade: keras-preprocessing>=1.1.0 in /anaconda3/lib/python3.6/site-packages (from keras) (1.1.0)\n",
      "Requirement already satisfied, skipping upgrade: pyyaml in /anaconda3/lib/python3.6/site-packages (from keras) (3.12)\n",
      "Requirement already satisfied, skipping upgrade: six>=1.9.0 in /anaconda3/lib/python3.6/site-packages (from keras) (1.11.0)\n",
      "Requirement already satisfied, skipping upgrade: h5py in /anaconda3/lib/python3.6/site-packages (from keras) (2.7.1)\n",
      "Requirement already up-to-date: pip in /anaconda3/lib/python3.6/site-packages (19.2.3)\n",
      "Requirement already up-to-date: pandas in /anaconda3/lib/python3.6/site-packages (0.25.1)\n",
      "Requirement already up-to-date: numpy in /anaconda3/lib/python3.6/site-packages (1.17.2)\n",
      "Requirement already up-to-date: matplotlib in /anaconda3/lib/python3.6/site-packages (3.1.1)\n",
      "Requirement already up-to-date: sklearn in /anaconda3/lib/python3.6/site-packages (0.0)\n",
      "Requirement already satisfied, skipping upgrade: python-dateutil>=2.6.1 in /anaconda3/lib/python3.6/site-packages (from pandas) (2.7.3)\n",
      "Requirement already satisfied, skipping upgrade: pytz>=2017.2 in /anaconda3/lib/python3.6/site-packages (from pandas) (2018.4)\n",
      "Requirement already satisfied, skipping upgrade: pyparsing!=2.0.4,!=2.1.2,!=2.1.6,>=2.0.1 in /anaconda3/lib/python3.6/site-packages (from matplotlib) (2.2.0)\n",
      "Requirement already satisfied, skipping upgrade: cycler>=0.10 in /anaconda3/lib/python3.6/site-packages (from matplotlib) (0.10.0)\n",
      "Requirement already satisfied, skipping upgrade: kiwisolver>=1.0.1 in /anaconda3/lib/python3.6/site-packages (from matplotlib) (1.0.1)\n",
      "Requirement already satisfied, skipping upgrade: scikit-learn in /anaconda3/lib/python3.6/site-packages (from sklearn) (0.19.1)\n",
      "Requirement already satisfied, skipping upgrade: six>=1.5 in /anaconda3/lib/python3.6/site-packages (from python-dateutil>=2.6.1->pandas) (1.11.0)\n",
      "Requirement already satisfied, skipping upgrade: setuptools in /anaconda3/lib/python3.6/site-packages (from kiwisolver>=1.0.1->matplotlib) (41.2.0)\n"
     ]
    }
   ],
   "source": [
    "# Installing Theano\n",
    "! pip install --upgrade --no-deps git+git://github.com/Theano/Theano.git\n",
    "\n",
    "# Installing Tensorflow\n",
    "! pip install --upgrade tensorflow\n",
    "\n",
    "# Installing Keras\n",
    "! pip install --upgrade keras\n",
    "\n",
    "# Install other packages\n",
    "! pip install --upgrade pip pandas numpy matplotlib sklearn"
   ]
  },
  {
   "cell_type": "markdown",
   "metadata": {},
   "source": [
    "# Parte 1 - Preprocessamento dos Dados"
   ]
  },
  {
   "cell_type": "markdown",
   "metadata": {},
   "source": [
    "### Importar as libs"
   ]
  },
  {
   "cell_type": "code",
   "execution_count": 1,
   "metadata": {},
   "outputs": [],
   "source": [
    "import numpy as np\n",
    "import matplotlib.pyplot as plt\n",
    "import pandas as pd"
   ]
  },
  {
   "cell_type": "markdown",
   "metadata": {},
   "source": [
    "### Importar o dataset"
   ]
  },
  {
   "cell_type": "code",
   "execution_count": 2,
   "metadata": {},
   "outputs": [
    {
     "name": "stdout",
     "output_type": "stream",
     "text": [
      "X >>\n",
      " [[619 'France' 'Female' ... 1 1 101348.88]\n",
      " [608 'Spain' 'Female' ... 0 1 112542.58]\n",
      " [502 'France' 'Female' ... 1 0 113931.57]\n",
      " ...\n",
      " [709 'France' 'Female' ... 0 1 42085.58]\n",
      " [772 'Germany' 'Male' ... 1 0 92888.52]\n",
      " [792 'France' 'Female' ... 1 0 38190.78]]\n",
      "y >>\n",
      " [1 0 1 ... 1 1 0]\n"
     ]
    }
   ],
   "source": [
    "dataset = pd.read_csv('Churn_Modelling.csv')\n",
    "X = dataset.iloc[:, 3:13].values\n",
    "y = dataset.iloc[:, 13].values\n",
    "print(\"X >>\\n\",X)\n",
    "print(\"y >>\\n\",y)"
   ]
  },
  {
   "cell_type": "markdown",
   "metadata": {},
   "source": [
    "### Transformando os dados categóricos\n"
   ]
  },
  {
   "cell_type": "code",
   "execution_count": 3,
   "metadata": {},
   "outputs": [
    {
     "name": "stdout",
     "output_type": "stream",
     "text": [
      "X >>\n",
      " [[0. 0. 0. ... 0. 0. 0.]\n",
      " [0. 0. 0. ... 0. 0. 0.]\n",
      " [0. 0. 0. ... 0. 0. 0.]\n",
      " ...\n",
      " [0. 0. 0. ... 0. 0. 0.]\n",
      " [0. 0. 0. ... 0. 0. 0.]\n",
      " [0. 0. 0. ... 0. 0. 0.]]\n"
     ]
    }
   ],
   "source": [
    "from sklearn.preprocessing import LabelEncoder, OneHotEncoder\n",
    "labelencoder_X_1 = LabelEncoder()\n",
    "X[:, 1] = labelencoder_X_1.fit_transform(X[:, 1])\n",
    "labelencoder_X_2 = LabelEncoder()\n",
    "X[:, 2] = labelencoder_X_2.fit_transform(X[:, 2])\n",
    "onehotencoder = OneHotEncoder(categories=\"auto\")\n",
    "X = onehotencoder.fit_transform(X).toarray()\n",
    "X = X[:, 1:]\n",
    "print(\"X >>\\n\",X)"
   ]
  },
  {
   "cell_type": "markdown",
   "metadata": {},
   "source": [
    "# Dividindo o dataset em conjunto de treinamento e conjunto de teste"
   ]
  },
  {
   "cell_type": "code",
   "execution_count": 4,
   "metadata": {},
   "outputs": [],
   "source": [
    "from sklearn.model_selection import train_test_split\n",
    "X_train, X_test, y_train, y_test = train_test_split(X, y, test_size = 0.2, random_state = 0)"
   ]
  },
  {
   "cell_type": "markdown",
   "metadata": {},
   "source": [
    "# Feature Scaling"
   ]
  },
  {
   "cell_type": "code",
   "execution_count": 5,
   "metadata": {},
   "outputs": [],
   "source": [
    "from sklearn.preprocessing import StandardScaler\n",
    "sc = StandardScaler()\n",
    "X_train = sc.fit_transform(X_train)\n",
    "X_test = sc.transform(X_test)"
   ]
  },
  {
   "cell_type": "markdown",
   "metadata": {},
   "source": [
    "---\n",
    "# Parte 2 -Vamos construir uma ANN!\n",
    "\n",
    "## Importando o Keras\n"
   ]
  },
  {
   "cell_type": "code",
   "execution_count": 6,
   "metadata": {},
   "outputs": [
    {
     "name": "stderr",
     "output_type": "stream",
     "text": [
      "Using TensorFlow backend.\n"
     ]
    }
   ],
   "source": [
    "import keras\n",
    "from keras.models import Sequential\n",
    "from keras.layers import Dense"
   ]
  },
  {
   "cell_type": "code",
   "execution_count": 9,
   "metadata": {},
   "outputs": [],
   "source": [
    "# Initialising the ANN\n",
    "classifier = Sequential()\n",
    "\n",
    "# Adding the input layer and the first hidden layer\n",
    "classifier.add(Dense(units = 6, kernel_initializer = 'uniform', activation = 'relu', input_dim = X_train.shape[1]))\n",
    "\n",
    "# Adding the second hidden layer\n",
    "classifier.add(Dense(units = 6, kernel_initializer = 'uniform', activation = 'tanh'))\n",
    "\n",
    "# Adding the output layer\n",
    "classifier.add(Dense(units = 1, kernel_initializer = 'uniform', activation = 'sigmoid'))\n",
    "\n",
    "# Compiling the ANN\n",
    "classifier.compile(optimizer = 'nadam', loss = 'binary_crossentropy', metrics = ['accuracy', 'categorical_accuracy', 'mse'])"
   ]
  },
  {
   "cell_type": "markdown",
   "metadata": {},
   "source": [
    "# Ajustando a ANN ao conjunto de treinamento"
   ]
  },
  {
   "cell_type": "code",
   "execution_count": null,
   "metadata": {},
   "outputs": [],
   "source": [
    "classifier.fit(X_train, y_train, batch_size = 10, epochs = 100)"
   ]
  },
  {
   "cell_type": "markdown",
   "metadata": {},
   "source": [
    "# Parte 3 - Fazendo predições e avaliando o modelo\n",
    "\n",
    "## Prevendo os resultados com o conjunto de testes"
   ]
  },
  {
   "cell_type": "code",
   "execution_count": 11,
   "metadata": {},
   "outputs": [],
   "source": [
    "y_pred = classifier.predict(X_test)\n",
    "y_pred = (y_pred > 0.5)"
   ]
  },
  {
   "cell_type": "markdown",
   "metadata": {},
   "source": [
    "# Criando uma Confusion Matrix"
   ]
  },
  {
   "cell_type": "code",
   "execution_count": 12,
   "metadata": {},
   "outputs": [
    {
     "name": "stdout",
     "output_type": "stream",
     "text": [
      "[[1410  185]\n",
      " [ 265  140]]\n"
     ]
    }
   ],
   "source": [
    "from sklearn.metrics import confusion_matrix\n",
    "cm = confusion_matrix(y_test, y_pred)\n",
    "print(cm)"
   ]
  },
  {
   "cell_type": "markdown",
   "metadata": {},
   "source": [
    "# Initiate activation function experimentation\n",
    "\n",
    "# Initialising the 2nd ANN"
   ]
  },
  {
   "cell_type": "code",
   "execution_count": 17,
   "metadata": {},
   "outputs": [
    {
     "name": "stdout",
     "output_type": "stream",
     "text": [
      "Epoch 1/100\n",
      "8000/8000 [==============================] - 1s 176us/step - loss: 0.5115 - accuracy: 0.7960 - categorical_accuracy: 1.0000 - mse: 0.1633\n",
      "Epoch 2/100\n",
      "8000/8000 [==============================] - 1s 174us/step - loss: 0.4880 - accuracy: 0.7960 - categorical_accuracy: 1.0000 - mse: 0.1566\n",
      "Epoch 3/100\n",
      "8000/8000 [==============================] - 1s 184us/step - loss: 0.4771 - accuracy: 0.7960 - categorical_accuracy: 1.0000 - mse: 0.1533\n",
      "Epoch 4/100\n",
      "8000/8000 [==============================] - 1s 180us/step - loss: 0.4625 - accuracy: 0.7960 - categorical_accuracy: 1.0000 - mse: 0.1492\n",
      "Epoch 5/100\n",
      "8000/8000 [==============================] - 1s 180us/step - loss: 0.4495 - accuracy: 0.7960 - categorical_accuracy: 1.0000 - mse: 0.1451\n",
      "Epoch 6/100\n",
      "8000/8000 [==============================] - 1s 179us/step - loss: 0.4421 - accuracy: 0.7960 - categorical_accuracy: 1.0000 - mse: 0.1430\n",
      "Epoch 7/100\n",
      "8000/8000 [==============================] - 1s 180us/step - loss: 0.4890 - accuracy: 0.7960 - categorical_accuracy: 1.0000 - mse: 0.1573\n",
      "Epoch 8/100\n",
      "8000/8000 [==============================] - 1s 178us/step - loss: 0.4953 - accuracy: 0.7960 - categorical_accuracy: 1.0000 - mse: 0.1591\n",
      "Epoch 9/100\n",
      "8000/8000 [==============================] - 1s 179us/step - loss: 0.4923 - accuracy: 0.7960 - categorical_accuracy: 1.0000 - mse: 0.1582\n",
      "Epoch 10/100\n",
      "8000/8000 [==============================] - 1s 182us/step - loss: 0.4914 - accuracy: 0.7960 - categorical_accuracy: 1.0000 - mse: 0.1579\n",
      "Epoch 11/100\n",
      "8000/8000 [==============================] - 1s 183us/step - loss: 0.4878 - accuracy: 0.7960 - categorical_accuracy: 1.0000 - mse: 0.1568\n",
      "Epoch 12/100\n",
      "8000/8000 [==============================] - 1s 181us/step - loss: 0.4839 - accuracy: 0.7960 - categorical_accuracy: 1.0000 - mse: 0.1555\n",
      "Epoch 13/100\n",
      "8000/8000 [==============================] - 1s 180us/step - loss: 0.4827 - accuracy: 0.7960 - categorical_accuracy: 1.0000 - mse: 0.1546\n",
      "Epoch 14/100\n",
      "8000/8000 [==============================] - 1s 183us/step - loss: 0.4800 - accuracy: 0.7960 - categorical_accuracy: 1.0000 - mse: 0.1529\n",
      "Epoch 15/100\n",
      "8000/8000 [==============================] - 1s 177us/step - loss: 0.4782 - accuracy: 0.7960 - categorical_accuracy: 1.0000 - mse: 0.1512\n",
      "Epoch 16/100\n",
      "8000/8000 [==============================] - 1s 179us/step - loss: 0.4725 - accuracy: 0.7962 - categorical_accuracy: 1.0000 - mse: 0.1493\n",
      "Epoch 17/100\n",
      "8000/8000 [==============================] - 1s 179us/step - loss: 0.4681 - accuracy: 0.7997 - categorical_accuracy: 1.0000 - mse: 0.1479\n",
      "Epoch 18/100\n",
      "8000/8000 [==============================] - 1s 181us/step - loss: 0.4649 - accuracy: 0.8010 - categorical_accuracy: 1.0000 - mse: 0.1458\n",
      "Epoch 19/100\n",
      "8000/8000 [==============================] - 1s 181us/step - loss: 0.4578 - accuracy: 0.8031 - categorical_accuracy: 1.0000 - mse: 0.1437\n",
      "Epoch 20/100\n",
      "8000/8000 [==============================] - 1s 181us/step - loss: 0.4563 - accuracy: 0.8102 - categorical_accuracy: 1.0000 - mse: 0.1411\n",
      "Epoch 21/100\n",
      "8000/8000 [==============================] - 1s 179us/step - loss: 0.4485 - accuracy: 0.8176 - categorical_accuracy: 1.0000 - mse: 0.1382\n",
      "Epoch 22/100\n",
      "8000/8000 [==============================] - 1s 179us/step - loss: 0.4546 - accuracy: 0.8213 - categorical_accuracy: 1.0000 - mse: 0.1361\n",
      "Epoch 23/100\n",
      "8000/8000 [==============================] - 1s 182us/step - loss: 0.4418 - accuracy: 0.8239 - categorical_accuracy: 1.0000 - mse: 0.1334\n",
      "Epoch 24/100\n",
      "8000/8000 [==============================] - 1s 181us/step - loss: 0.4266 - accuracy: 0.8276 - categorical_accuracy: 1.0000 - mse: 0.1297\n",
      "Epoch 25/100\n",
      "8000/8000 [==============================] - 1s 186us/step - loss: 0.4246 - accuracy: 0.8303 - categorical_accuracy: 1.0000 - mse: 0.1277\n",
      "Epoch 26/100\n",
      "8000/8000 [==============================] - 1s 184us/step - loss: 0.4208 - accuracy: 0.8330 - categorical_accuracy: 1.0000 - mse: 0.1245\n",
      "Epoch 27/100\n",
      "8000/8000 [==============================] - 2s 188us/step - loss: 0.3986 - accuracy: 0.8404 - categorical_accuracy: 1.0000 - mse: 0.1199\n",
      "Epoch 28/100\n",
      "8000/8000 [==============================] - 1s 181us/step - loss: 0.4006 - accuracy: 0.8464 - categorical_accuracy: 1.0000 - mse: 0.1174\n",
      "Epoch 29/100\n",
      "8000/8000 [==============================] - 1s 180us/step - loss: 0.3863 - accuracy: 0.8522 - categorical_accuracy: 1.0000 - mse: 0.1147\n",
      "Epoch 30/100\n",
      "8000/8000 [==============================] - 1s 180us/step - loss: 0.3798 - accuracy: 0.8579 - categorical_accuracy: 1.0000 - mse: 0.1118\n",
      "Epoch 31/100\n",
      "8000/8000 [==============================] - 1s 184us/step - loss: 0.3802 - accuracy: 0.8643 - categorical_accuracy: 1.0000 - mse: 0.1096\n",
      "Epoch 32/100\n",
      "8000/8000 [==============================] - 1s 183us/step - loss: 0.3737 - accuracy: 0.8715 - categorical_accuracy: 1.0000 - mse: 0.1072\n",
      "Epoch 33/100\n",
      "8000/8000 [==============================] - 1s 180us/step - loss: 0.3654 - accuracy: 0.8767 - categorical_accuracy: 1.0000 - mse: 0.1045\n",
      "Epoch 34/100\n",
      "8000/8000 [==============================] - 1s 179us/step - loss: 0.3643 - accuracy: 0.8770 - categorical_accuracy: 1.0000 - mse: 0.1027\n",
      "Epoch 35/100\n",
      "8000/8000 [==============================] - 1s 182us/step - loss: 0.3539 - accuracy: 0.8826 - categorical_accuracy: 1.0000 - mse: 0.1005\n",
      "Epoch 36/100\n",
      "8000/8000 [==============================] - 1s 181us/step - loss: 0.3550 - accuracy: 0.8834 - categorical_accuracy: 1.0000 - mse: 0.0993\n",
      "Epoch 37/100\n",
      "8000/8000 [==============================] - 1s 182us/step - loss: 0.3547 - accuracy: 0.8855 - categorical_accuracy: 1.0000 - mse: 0.0972\n",
      "Epoch 38/100\n",
      "8000/8000 [==============================] - 1s 182us/step - loss: 0.3322 - accuracy: 0.8906 - categorical_accuracy: 1.0000 - mse: 0.0945\n",
      "Epoch 39/100\n",
      "8000/8000 [==============================] - 1s 185us/step - loss: 0.3309 - accuracy: 0.8920 - categorical_accuracy: 1.0000 - mse: 0.0932\n",
      "Epoch 40/100\n",
      "8000/8000 [==============================] - 2s 190us/step - loss: 0.3332 - accuracy: 0.8949 - categorical_accuracy: 1.0000 - mse: 0.0915\n",
      "Epoch 41/100\n",
      "8000/8000 [==============================] - 1s 185us/step - loss: 0.3627 - accuracy: 0.8957 - categorical_accuracy: 1.0000 - mse: 0.0908\n",
      "Epoch 42/100\n",
      "8000/8000 [==============================] - 2s 191us/step - loss: 0.3167 - accuracy: 0.8988 - categorical_accuracy: 1.0000 - mse: 0.0890\n",
      "Epoch 43/100\n",
      "8000/8000 [==============================] - 1s 184us/step - loss: 0.3528 - accuracy: 0.8996 - categorical_accuracy: 1.0000 - mse: 0.0883 1s - loss: 0.3575 - accuracy: 0.8828 - categorical_ac\n",
      "Epoch 44/100\n",
      "8000/8000 [==============================] - 1s 182us/step - loss: 0.3273 - accuracy: 0.9016 - categorical_accuracy: 1.0000 - mse: 0.0871\n",
      "Epoch 45/100\n",
      "8000/8000 [==============================] - 1s 185us/step - loss: 0.2983 - accuracy: 0.9036 - categorical_accuracy: 1.0000 - mse: 0.0865\n",
      "Epoch 46/100\n",
      "8000/8000 [==============================] - 1s 184us/step - loss: 0.3838 - accuracy: 0.9030 - categorical_accuracy: 1.0000 - mse: 0.0906\n",
      "Epoch 47/100\n",
      "8000/8000 [==============================] - 1s 187us/step - loss: 0.4997 - accuracy: 0.8942 - categorical_accuracy: 1.0000 - mse: 0.1324\n",
      "Epoch 48/100\n",
      "8000/8000 [==============================] - 2s 197us/step - loss: 0.5448 - accuracy: 0.8932 - categorical_accuracy: 1.0000 - mse: 0.1428\n",
      "Epoch 49/100\n",
      "8000/8000 [==============================] - 1s 182us/step - loss: 0.6249 - accuracy: 0.9016 - categorical_accuracy: 1.0000 - mse: 0.1224\n",
      "Epoch 50/100\n",
      "8000/8000 [==============================] - 2s 188us/step - loss: 0.6488 - accuracy: 0.9143 - categorical_accuracy: 1.0000 - mse: 0.1032\n",
      "Epoch 51/100\n",
      "8000/8000 [==============================] - 1s 186us/step - loss: 0.3444 - accuracy: 0.9156 - categorical_accuracy: 1.0000 - mse: 0.0842\n",
      "Epoch 52/100\n",
      "8000/8000 [==============================] - 1s 185us/step - loss: 0.3080 - accuracy: 0.9130 - categorical_accuracy: 1.0000 - mse: 0.0830\n",
      "Epoch 53/100\n",
      "8000/8000 [==============================] - 1s 184us/step - loss: 0.3051 - accuracy: 0.9116 - categorical_accuracy: 1.0000 - mse: 0.0822\n",
      "Epoch 54/100\n",
      "8000/8000 [==============================] - 1s 185us/step - loss: 0.3272 - accuracy: 0.9074 - categorical_accuracy: 1.0000 - mse: 0.0835\n",
      "Epoch 55/100\n",
      "8000/8000 [==============================] - 1s 182us/step - loss: 0.3001 - accuracy: 0.9087 - categorical_accuracy: 1.0000 - mse: 0.0831\n",
      "Epoch 56/100\n",
      "8000/8000 [==============================] - 1s 185us/step - loss: 0.2933 - accuracy: 0.9076 - categorical_accuracy: 1.0000 - mse: 0.0830\n",
      "Epoch 57/100\n",
      "8000/8000 [==============================] - 1s 185us/step - loss: 0.2887 - accuracy: 0.9044 - categorical_accuracy: 1.0000 - mse: 0.0845\n",
      "Epoch 58/100\n",
      "8000/8000 [==============================] - 2s 188us/step - loss: 0.4257 - accuracy: 0.8626 - categorical_accuracy: 1.0000 - mse: 0.1347\n",
      "Epoch 59/100\n",
      "8000/8000 [==============================] - 1s 187us/step - loss: 0.7244 - accuracy: 0.8769 - categorical_accuracy: 1.0000 - mse: 0.1990\n",
      "Epoch 60/100\n",
      "8000/8000 [==============================] - 1s 185us/step - loss: 0.7896 - accuracy: 0.8856 - categorical_accuracy: 1.0000 - mse: 0.1714\n",
      "Epoch 61/100\n",
      "8000/8000 [==============================] - 2s 188us/step - loss: 0.8149 - accuracy: 0.8932 - categorical_accuracy: 1.0000 - mse: 0.1532\n",
      "Epoch 62/100\n",
      "8000/8000 [==============================] - 2s 192us/step - loss: 0.8924 - accuracy: 0.8891 - categorical_accuracy: 1.0000 - mse: 0.1522\n",
      "Epoch 63/100\n",
      "8000/8000 [==============================] - 2s 188us/step - loss: 0.9216 - accuracy: 0.8879 - categorical_accuracy: 1.0000 - mse: 0.1583\n",
      "Epoch 64/100\n",
      "8000/8000 [==============================] - 1s 186us/step - loss: 0.9519 - accuracy: 0.8878 - categorical_accuracy: 1.0000 - mse: 0.1682\n",
      "Epoch 65/100\n",
      "8000/8000 [==============================] - 2s 189us/step - loss: 0.9613 - accuracy: 0.8871 - categorical_accuracy: 1.0000 - mse: 0.1773\n",
      "Epoch 66/100\n",
      "8000/8000 [==============================] - 2s 188us/step - loss: 0.9572 - accuracy: 0.8866 - categorical_accuracy: 1.0000 - mse: 0.1900\n",
      "Epoch 67/100\n",
      "8000/8000 [==============================] - 2s 190us/step - loss: 0.9623 - accuracy: 0.8875 - categorical_accuracy: 1.0000 - mse: 0.2011\n",
      "Epoch 68/100\n",
      "8000/8000 [==============================] - 2s 194us/step - loss: 0.9689 - accuracy: 0.8873 - categorical_accuracy: 1.0000 - mse: 0.2114\n",
      "Epoch 69/100\n",
      "8000/8000 [==============================] - 1s 187us/step - loss: 0.9593 - accuracy: 0.8881 - categorical_accuracy: 1.0000 - mse: 0.2189\n",
      "Epoch 70/100\n",
      "8000/8000 [==============================] - 1s 187us/step - loss: 0.9639 - accuracy: 0.8891 - categorical_accuracy: 1.0000 - mse: 0.2239\n",
      "Epoch 71/100\n",
      "8000/8000 [==============================] - 2s 189us/step - loss: 0.9590 - accuracy: 0.8886 - categorical_accuracy: 1.0000 - mse: 0.2321\n",
      "Epoch 72/100\n",
      "8000/8000 [==============================] - 2s 188us/step - loss: 0.9623 - accuracy: 0.8881 - categorical_accuracy: 1.0000 - mse: 0.2374\n",
      "Epoch 73/100\n",
      "8000/8000 [==============================] - 2s 191us/step - loss: 0.9591 - accuracy: 0.8714 - categorical_accuracy: 1.0000 - mse: 0.2414\n",
      "Epoch 74/100\n",
      "8000/8000 [==============================] - 2s 195us/step - loss: 0.9597 - accuracy: 0.6200 - categorical_accuracy: 1.0000 - mse: 0.2490\n",
      "Epoch 75/100\n",
      "8000/8000 [==============================] - 2s 199us/step - loss: 0.9567 - accuracy: 0.5766 - categorical_accuracy: 1.0000 - mse: 0.2541\n",
      "Epoch 76/100\n",
      "8000/8000 [==============================] - 2s 194us/step - loss: 0.9592 - accuracy: 0.5775 - categorical_accuracy: 1.0000 - mse: 0.2552\n",
      "Epoch 77/100\n",
      "8000/8000 [==============================] - 1s 186us/step - loss: 0.9617 - accuracy: 0.5776 - categorical_accuracy: 1.0000 - mse: 0.2576\n",
      "Epoch 78/100\n",
      "8000/8000 [==============================] - 2s 188us/step - loss: 0.9605 - accuracy: 0.5782 - categorical_accuracy: 1.0000 - mse: 0.2574\n",
      "Epoch 79/100\n",
      "8000/8000 [==============================] - 2s 189us/step - loss: 0.9647 - accuracy: 0.5767 - categorical_accuracy: 1.0000 - mse: 0.2606\n",
      "Epoch 80/100\n",
      "8000/8000 [==============================] - 1s 185us/step - loss: 0.9588 - accuracy: 0.5774 - categorical_accuracy: 1.0000 - mse: 0.2650\n",
      "Epoch 81/100\n",
      "8000/8000 [==============================] - 2s 200us/step - loss: 0.9530 - accuracy: 0.5795 - categorical_accuracy: 1.0000 - mse: 0.2661\n",
      "Epoch 82/100\n",
      "8000/8000 [==============================] - 2s 192us/step - loss: 0.9560 - accuracy: 0.5795 - categorical_accuracy: 1.0000 - mse: 0.2684\n",
      "Epoch 83/100\n",
      "8000/8000 [==============================] - 2s 196us/step - loss: 0.9559 - accuracy: 0.5792 - categorical_accuracy: 1.0000 - mse: 0.2708\n",
      "Epoch 84/100\n",
      "8000/8000 [==============================] - 2s 195us/step - loss: 0.9576 - accuracy: 0.5791 - categorical_accuracy: 1.0000 - mse: 0.2751\n",
      "Epoch 85/100\n",
      "8000/8000 [==============================] - 2s 190us/step - loss: 0.9597 - accuracy: 0.5792 - categorical_accuracy: 1.0000 - mse: 0.2772\n",
      "Epoch 86/100\n",
      "8000/8000 [==============================] - 2s 190us/step - loss: 0.9535 - accuracy: 0.5796 - categorical_accuracy: 1.0000 - mse: 0.2786\n",
      "Epoch 87/100\n",
      "8000/8000 [==============================] - 2s 195us/step - loss: 0.9556 - accuracy: 0.5796 - categorical_accuracy: 1.0000 - mse: 0.2810\n",
      "Epoch 88/100\n",
      "8000/8000 [==============================] - 2s 195us/step - loss: 0.9577 - accuracy: 0.5792 - categorical_accuracy: 1.0000 - mse: 0.2831\n",
      "Epoch 89/100\n",
      "8000/8000 [==============================] - 2s 193us/step - loss: 0.9511 - accuracy: 0.5786 - categorical_accuracy: 1.0000 - mse: 0.2859\n",
      "Epoch 90/100\n",
      "8000/8000 [==============================] - 2s 192us/step - loss: 0.9597 - accuracy: 0.5803 - categorical_accuracy: 1.0000 - mse: 0.2862\n",
      "Epoch 91/100\n",
      "8000/8000 [==============================] - 2s 199us/step - loss: 0.9516 - accuracy: 0.5780 - categorical_accuracy: 1.0000 - mse: 0.2884\n",
      "Epoch 92/100\n",
      "8000/8000 [==============================] - 2s 201us/step - loss: 0.9538 - accuracy: 0.5806 - categorical_accuracy: 1.0000 - mse: 0.2896\n",
      "Epoch 93/100\n",
      "8000/8000 [==============================] - 2s 205us/step - loss: 0.9571 - accuracy: 0.5804 - categorical_accuracy: 1.0000 - mse: 0.2908\n",
      "Epoch 94/100\n",
      "8000/8000 [==============================] - 2s 200us/step - loss: 0.9616 - accuracy: 0.5781 - categorical_accuracy: 1.0000 - mse: 0.2943\n",
      "Epoch 95/100\n",
      "8000/8000 [==============================] - 1s 187us/step - loss: 0.9588 - accuracy: 0.5792 - categorical_accuracy: 1.0000 - mse: 0.2944\n",
      "Epoch 96/100\n",
      "8000/8000 [==============================] - 2s 189us/step - loss: 0.9529 - accuracy: 0.5803 - categorical_accuracy: 1.0000 - mse: 0.2953\n",
      "Epoch 97/100\n",
      "8000/8000 [==============================] - 2s 188us/step - loss: 0.9554 - accuracy: 0.5789 - categorical_accuracy: 1.0000 - mse: 0.2972\n",
      "Epoch 98/100\n",
      "8000/8000 [==============================] - 2s 192us/step - loss: 0.9548 - accuracy: 0.5796 - categorical_accuracy: 1.0000 - mse: 0.2981\n",
      "Epoch 99/100\n",
      "8000/8000 [==============================] - 2s 189us/step - loss: 0.9492 - accuracy: 0.5804 - categorical_accuracy: 1.0000 - mse: 0.2994\n",
      "Epoch 100/100\n",
      "8000/8000 [==============================] - 2s 196us/step - loss: 0.9508 - accuracy: 0.5796 - categorical_accuracy: 1.0000 - mse: 0.3022\n"
     ]
    },
    {
     "data": {
      "text/plain": [
       "<keras.callbacks.callbacks.History at 0x7f5ab584cfd0>"
      ]
     },
     "execution_count": 17,
     "metadata": {},
     "output_type": "execute_result"
    }
   ],
   "source": [
    "del classifier\n",
    "\n",
    "classifier = Sequential()\n",
    "\n",
    "classifier.add(Dense(units = 6, kernel_initializer = 'uniform', activation = 'sigmoid', input_dim = X_train.shape[1]))\n",
    "\n",
    "classifier.add(Dense(units = 6, kernel_initializer = 'uniform', activation = 'sigmoid'))\n",
    "\n",
    "classifier.add(Dense(units = 1, kernel_initializer = 'uniform', activation = 'tanh'))\n",
    "\n",
    "classifier.compile(optimizer = 'rmsprop', loss = 'binary_crossentropy', metrics = ['accuracy', 'categorical_accuracy', 'mse'])\n",
    "\n",
    "classifier.fit(X_train, y_train, batch_size = 10, epochs = 100)"
   ]
  },
  {
   "cell_type": "code",
   "execution_count": 18,
   "metadata": {},
   "outputs": [],
   "source": [
    "y_pred = classifier.predict(X_test)\n",
    "y_pred = (y_pred > 0.5)"
   ]
  },
  {
   "cell_type": "markdown",
   "metadata": {},
   "source": [
    "# Making the Confusion Matrix"
   ]
  },
  {
   "cell_type": "code",
   "execution_count": 19,
   "metadata": {},
   "outputs": [
    {
     "name": "stdout",
     "output_type": "stream",
     "text": [
      "[[1595    0]\n",
      " [ 405    0]]\n"
     ]
    }
   ],
   "source": [
    "from sklearn.metrics import confusion_matrix\n",
    "cm = confusion_matrix(y_test, y_pred)\n",
    "print(cm)"
   ]
  },
  {
   "cell_type": "markdown",
   "metadata": {},
   "source": [
    "# Initialising the 3rd ANN"
   ]
  },
  {
   "cell_type": "code",
   "execution_count": 22,
   "metadata": {},
   "outputs": [
    {
     "name": "stdout",
     "output_type": "stream",
     "text": [
      "Epoch 1/100\n",
      "8000/8000 [==============================] - 2s 194us/step - loss: 0.5342 - accuracy: 0.7959 - categorical_accuracy: 1.0000 - mse: 0.1758\n",
      "Epoch 2/100\n",
      "8000/8000 [==============================] - 2s 188us/step - loss: 0.4884 - accuracy: 0.7960 - categorical_accuracy: 1.0000 - mse: 0.1563\n",
      "Epoch 3/100\n",
      "8000/8000 [==============================] - 1s 177us/step - loss: 0.4654 - accuracy: 0.7960 - categorical_accuracy: 1.0000 - mse: 0.1482\n",
      "Epoch 4/100\n",
      "8000/8000 [==============================] - 1s 181us/step - loss: 0.4240 - accuracy: 0.7960 - categorical_accuracy: 1.0000 - mse: 0.1349\n",
      "Epoch 5/100\n",
      "8000/8000 [==============================] - 1s 176us/step - loss: 0.3658 - accuracy: 0.7969 - categorical_accuracy: 1.0000 - mse: 0.1143\n",
      "Epoch 6/100\n",
      "8000/8000 [==============================] - 1s 179us/step - loss: 0.3224 - accuracy: 0.8957 - categorical_accuracy: 1.0000 - mse: 0.0975\n",
      "Epoch 7/100\n",
      "8000/8000 [==============================] - 1s 178us/step - loss: 0.2939 - accuracy: 0.9130 - categorical_accuracy: 1.0000 - mse: 0.0862\n",
      "Epoch 8/100\n",
      "8000/8000 [==============================] - 1s 178us/step - loss: 0.2715 - accuracy: 0.9244 - categorical_accuracy: 1.0000 - mse: 0.0778\n",
      "Epoch 9/100\n",
      "8000/8000 [==============================] - 1s 175us/step - loss: 0.2526 - accuracy: 0.9296 - categorical_accuracy: 1.0000 - mse: 0.0714\n",
      "Epoch 10/100\n",
      "8000/8000 [==============================] - 1s 176us/step - loss: 0.2329 - accuracy: 0.9324 - categorical_accuracy: 1.0000 - mse: 0.0659\n",
      "Epoch 11/100\n",
      "8000/8000 [==============================] - 1s 177us/step - loss: 0.2163 - accuracy: 0.9348 - categorical_accuracy: 1.0000 - mse: 0.0613\n",
      "Epoch 12/100\n",
      "8000/8000 [==============================] - 1s 180us/step - loss: 0.2033 - accuracy: 0.9349 - categorical_accuracy: 1.0000 - mse: 0.0578\n",
      "Epoch 13/100\n",
      "8000/8000 [==============================] - 1s 182us/step - loss: 0.1932 - accuracy: 0.9362 - categorical_accuracy: 1.0000 - mse: 0.0550\n",
      "Epoch 14/100\n",
      "8000/8000 [==============================] - 1s 179us/step - loss: 0.1849 - accuracy: 0.9388 - categorical_accuracy: 1.0000 - mse: 0.0525\n",
      "Epoch 15/100\n",
      "8000/8000 [==============================] - 1s 185us/step - loss: 0.1771 - accuracy: 0.9402 - categorical_accuracy: 1.0000 - mse: 0.0505\n",
      "Epoch 16/100\n",
      "8000/8000 [==============================] - 2s 188us/step - loss: 0.1733 - accuracy: 0.9411 - categorical_accuracy: 1.0000 - mse: 0.0493\n",
      "Epoch 17/100\n",
      "8000/8000 [==============================] - 1s 184us/step - loss: 0.1691 - accuracy: 0.9414 - categorical_accuracy: 1.0000 - mse: 0.0483\n",
      "Epoch 18/100\n",
      "8000/8000 [==============================] - 1s 181us/step - loss: 0.1654 - accuracy: 0.9434 - categorical_accuracy: 1.0000 - mse: 0.0472\n",
      "Epoch 19/100\n",
      "8000/8000 [==============================] - 1s 182us/step - loss: 0.1623 - accuracy: 0.9444 - categorical_accuracy: 1.0000 - mse: 0.0465\n",
      "Epoch 20/100\n",
      "8000/8000 [==============================] - 2s 193us/step - loss: 0.1593 - accuracy: 0.9455 - categorical_accuracy: 1.0000 - mse: 0.0454\n",
      "Epoch 21/100\n",
      "8000/8000 [==============================] - 2s 202us/step - loss: 0.1553 - accuracy: 0.9471 - categorical_accuracy: 1.0000 - mse: 0.0443\n",
      "Epoch 22/100\n",
      "8000/8000 [==============================] - 2s 194us/step - loss: 0.1537 - accuracy: 0.9467 - categorical_accuracy: 1.0000 - mse: 0.0440\n",
      "Epoch 23/100\n",
      "8000/8000 [==============================] - 2s 194us/step - loss: 0.1521 - accuracy: 0.9474 - categorical_accuracy: 1.0000 - mse: 0.0435\n",
      "Epoch 24/100\n",
      "8000/8000 [==============================] - 2s 192us/step - loss: 0.1506 - accuracy: 0.9482 - categorical_accuracy: 1.0000 - mse: 0.0430\n",
      "Epoch 25/100\n",
      "8000/8000 [==============================] - 2s 196us/step - loss: 0.1484 - accuracy: 0.9484 - categorical_accuracy: 1.0000 - mse: 0.0424\n",
      "Epoch 26/100\n",
      "8000/8000 [==============================] - 2s 194us/step - loss: 0.1457 - accuracy: 0.9492 - categorical_accuracy: 1.0000 - mse: 0.0417\n",
      "Epoch 27/100\n",
      "8000/8000 [==============================] - 2s 201us/step - loss: 0.1439 - accuracy: 0.9503 - categorical_accuracy: 1.0000 - mse: 0.0411\n",
      "Epoch 28/100\n",
      "8000/8000 [==============================] - 2s 201us/step - loss: 0.1434 - accuracy: 0.9503 - categorical_accuracy: 1.0000 - mse: 0.0409\n",
      "Epoch 29/100\n",
      "8000/8000 [==============================] - 2s 196us/step - loss: 0.1412 - accuracy: 0.9511 - categorical_accuracy: 1.0000 - mse: 0.0403\n",
      "Epoch 30/100\n",
      "8000/8000 [==============================] - 2s 196us/step - loss: 0.1393 - accuracy: 0.9520 - categorical_accuracy: 1.0000 - mse: 0.0399\n",
      "Epoch 31/100\n",
      "8000/8000 [==============================] - 2s 199us/step - loss: 0.1389 - accuracy: 0.9525 - categorical_accuracy: 1.0000 - mse: 0.0396\n",
      "Epoch 32/100\n",
      "8000/8000 [==============================] - 2s 198us/step - loss: 0.1384 - accuracy: 0.9525 - categorical_accuracy: 1.0000 - mse: 0.0394\n",
      "Epoch 33/100\n",
      "8000/8000 [==============================] - 2s 201us/step - loss: 0.1377 - accuracy: 0.9528 - categorical_accuracy: 1.0000 - mse: 0.0394\n",
      "Epoch 34/100\n",
      "8000/8000 [==============================] - 2s 192us/step - loss: 0.1372 - accuracy: 0.9529 - categorical_accuracy: 1.0000 - mse: 0.0392\n",
      "Epoch 35/100\n",
      "8000/8000 [==============================] - 2s 192us/step - loss: 0.1360 - accuracy: 0.9532 - categorical_accuracy: 1.0000 - mse: 0.0390\n",
      "Epoch 36/100\n",
      "8000/8000 [==============================] - 2s 191us/step - loss: 0.1353 - accuracy: 0.9531 - categorical_accuracy: 1.0000 - mse: 0.0389\n",
      "Epoch 37/100\n",
      "8000/8000 [==============================] - 1s 186us/step - loss: 0.1344 - accuracy: 0.9531 - categorical_accuracy: 1.0000 - mse: 0.0388\n",
      "Epoch 38/100\n",
      "8000/8000 [==============================] - 2s 201us/step - loss: 0.1327 - accuracy: 0.9538 - categorical_accuracy: 1.0000 - mse: 0.0383\n",
      "Epoch 39/100\n",
      "8000/8000 [==============================] - 2s 193us/step - loss: 0.1318 - accuracy: 0.9536 - categorical_accuracy: 1.0000 - mse: 0.0382\n",
      "Epoch 40/100\n",
      "8000/8000 [==============================] - 2s 193us/step - loss: 0.1316 - accuracy: 0.9538 - categorical_accuracy: 1.0000 - mse: 0.0382\n",
      "Epoch 41/100\n",
      "8000/8000 [==============================] - 2s 191us/step - loss: 0.1314 - accuracy: 0.9540 - categorical_accuracy: 1.0000 - mse: 0.0380\n",
      "Epoch 42/100\n",
      "8000/8000 [==============================] - 2s 194us/step - loss: 0.1308 - accuracy: 0.9542 - categorical_accuracy: 1.0000 - mse: 0.0379\n",
      "Epoch 43/100\n",
      "8000/8000 [==============================] - 2s 208us/step - loss: 0.1300 - accuracy: 0.9544 - categorical_accuracy: 1.0000 - mse: 0.0378\n",
      "Epoch 44/100\n",
      "8000/8000 [==============================] - 2s 195us/step - loss: 0.1296 - accuracy: 0.9545 - categorical_accuracy: 1.0000 - mse: 0.0377\n",
      "Epoch 45/100\n",
      "8000/8000 [==============================] - 2s 191us/step - loss: 0.1288 - accuracy: 0.9542 - categorical_accuracy: 1.0000 - mse: 0.0376\n",
      "Epoch 46/100\n",
      "8000/8000 [==============================] - 1s 181us/step - loss: 0.1275 - accuracy: 0.9545 - categorical_accuracy: 1.0000 - mse: 0.0374\n",
      "Epoch 47/100\n",
      "8000/8000 [==============================] - 1s 182us/step - loss: 0.1265 - accuracy: 0.9551 - categorical_accuracy: 1.0000 - mse: 0.0371\n",
      "Epoch 48/100\n",
      "8000/8000 [==============================] - 1s 183us/step - loss: 0.1263 - accuracy: 0.9553 - categorical_accuracy: 1.0000 - mse: 0.0370\n",
      "Epoch 49/100\n",
      "8000/8000 [==============================] - 1s 180us/step - loss: 0.1258 - accuracy: 0.9554 - categorical_accuracy: 1.0000 - mse: 0.0369\n",
      "Epoch 50/100\n",
      "8000/8000 [==============================] - 1s 186us/step - loss: 0.1252 - accuracy: 0.9555 - categorical_accuracy: 1.0000 - mse: 0.0367\n",
      "Epoch 51/100\n",
      "8000/8000 [==============================] - 2s 188us/step - loss: 0.1251 - accuracy: 0.9556 - categorical_accuracy: 1.0000 - mse: 0.0367\n",
      "Epoch 52/100\n",
      "8000/8000 [==============================] - 2s 189us/step - loss: 0.1247 - accuracy: 0.9557 - categorical_accuracy: 1.0000 - mse: 0.0365\n",
      "Epoch 53/100\n",
      "8000/8000 [==============================] - 1s 181us/step - loss: 0.1243 - accuracy: 0.9560 - categorical_accuracy: 1.0000 - mse: 0.0365\n",
      "Epoch 54/100\n",
      "8000/8000 [==============================] - 1s 183us/step - loss: 0.1235 - accuracy: 0.9560 - categorical_accuracy: 1.0000 - mse: 0.0362\n",
      "Epoch 55/100\n",
      "8000/8000 [==============================] - 1s 183us/step - loss: 0.1223 - accuracy: 0.9564 - categorical_accuracy: 1.0000 - mse: 0.0360\n",
      "Epoch 56/100\n",
      "8000/8000 [==============================] - 1s 185us/step - loss: 0.1221 - accuracy: 0.9565 - categorical_accuracy: 1.0000 - mse: 0.0360\n",
      "Epoch 57/100\n",
      "8000/8000 [==============================] - 1s 176us/step - loss: 0.1217 - accuracy: 0.9569 - categorical_accuracy: 1.0000 - mse: 0.0359\n",
      "Epoch 58/100\n",
      "8000/8000 [==============================] - 1s 183us/step - loss: 0.1215 - accuracy: 0.9571 - categorical_accuracy: 1.0000 - mse: 0.0358\n",
      "Epoch 59/100\n",
      "8000/8000 [==============================] - 2s 193us/step - loss: 0.1207 - accuracy: 0.9571 - categorical_accuracy: 1.0000 - mse: 0.0356\n",
      "Epoch 60/100\n",
      "8000/8000 [==============================] - 1s 187us/step - loss: 0.1206 - accuracy: 0.9570 - categorical_accuracy: 1.0000 - mse: 0.0356\n",
      "Epoch 61/100\n",
      "8000/8000 [==============================] - 1s 186us/step - loss: 0.1202 - accuracy: 0.9572 - categorical_accuracy: 1.0000 - mse: 0.0355\n",
      "Epoch 62/100\n",
      "8000/8000 [==============================] - 1s 177us/step - loss: 0.1196 - accuracy: 0.9576 - categorical_accuracy: 1.0000 - mse: 0.0353\n",
      "Epoch 63/100\n",
      "8000/8000 [==============================] - 1s 179us/step - loss: 0.1195 - accuracy: 0.9575 - categorical_accuracy: 1.0000 - mse: 0.0352\n",
      "Epoch 64/100\n",
      "8000/8000 [==============================] - 1s 182us/step - loss: 0.1192 - accuracy: 0.9576 - categorical_accuracy: 1.0000 - mse: 0.0352\n",
      "Epoch 65/100\n",
      "8000/8000 [==============================] - 1s 177us/step - loss: 0.1187 - accuracy: 0.9581 - categorical_accuracy: 1.0000 - mse: 0.0351\n",
      "Epoch 66/100\n",
      "8000/8000 [==============================] - 1s 180us/step - loss: 0.1185 - accuracy: 0.9578 - categorical_accuracy: 1.0000 - mse: 0.0350\n",
      "Epoch 67/100\n",
      "8000/8000 [==============================] - 2s 191us/step - loss: 0.1184 - accuracy: 0.9579 - categorical_accuracy: 1.0000 - mse: 0.0351\n",
      "Epoch 68/100\n",
      "8000/8000 [==============================] - 2s 192us/step - loss: 0.1181 - accuracy: 0.9580 - categorical_accuracy: 1.0000 - mse: 0.0350\n",
      "Epoch 69/100\n",
      "8000/8000 [==============================] - 1s 184us/step - loss: 0.1178 - accuracy: 0.9584 - categorical_accuracy: 1.0000 - mse: 0.0349\n",
      "Epoch 70/100\n",
      "8000/8000 [==============================] - 1s 187us/step - loss: 0.1172 - accuracy: 0.9586 - categorical_accuracy: 1.0000 - mse: 0.0347\n",
      "Epoch 71/100\n",
      "8000/8000 [==============================] - 1s 185us/step - loss: 0.1170 - accuracy: 0.9586 - categorical_accuracy: 1.0000 - mse: 0.0346\n",
      "Epoch 72/100\n",
      "8000/8000 [==============================] - 1s 182us/step - loss: 0.1167 - accuracy: 0.9588 - categorical_accuracy: 1.0000 - mse: 0.0346\n",
      "Epoch 73/100\n",
      "8000/8000 [==============================] - 1s 187us/step - loss: 0.1165 - accuracy: 0.9589 - categorical_accuracy: 1.0000 - mse: 0.0345\n",
      "Epoch 74/100\n",
      "8000/8000 [==============================] - 2s 190us/step - loss: 0.1161 - accuracy: 0.9590 - categorical_accuracy: 1.0000 - mse: 0.0344\n",
      "Epoch 75/100\n",
      "8000/8000 [==============================] - 2s 200us/step - loss: 0.1158 - accuracy: 0.9592 - categorical_accuracy: 1.0000 - mse: 0.0343\n",
      "Epoch 76/100\n",
      "8000/8000 [==============================] - 1s 187us/step - loss: 0.1155 - accuracy: 0.9594 - categorical_accuracy: 1.0000 - mse: 0.0342\n",
      "Epoch 77/100\n",
      "8000/8000 [==============================] - 1s 187us/step - loss: 0.1154 - accuracy: 0.9594 - categorical_accuracy: 1.0000 - mse: 0.0341\n",
      "Epoch 78/100\n",
      "8000/8000 [==============================] - 1s 186us/step - loss: 0.1151 - accuracy: 0.9596 - categorical_accuracy: 1.0000 - mse: 0.0341\n",
      "Epoch 79/100\n",
      "8000/8000 [==============================] - 2s 190us/step - loss: 0.1150 - accuracy: 0.9595 - categorical_accuracy: 1.0000 - mse: 0.0340\n",
      "Epoch 80/100\n",
      "8000/8000 [==============================] - 1s 187us/step - loss: 0.1151 - accuracy: 0.9594 - categorical_accuracy: 1.0000 - mse: 0.0340\n",
      "Epoch 81/100\n",
      "8000/8000 [==============================] - 2s 192us/step - loss: 0.1148 - accuracy: 0.9594 - categorical_accuracy: 1.0000 - mse: 0.0340\n",
      "Epoch 82/100\n",
      "8000/8000 [==============================] - 2s 194us/step - loss: 0.1142 - accuracy: 0.9596 - categorical_accuracy: 1.0000 - mse: 0.0339\n",
      "Epoch 83/100\n",
      "8000/8000 [==============================] - 2s 203us/step - loss: 0.1140 - accuracy: 0.9599 - categorical_accuracy: 1.0000 - mse: 0.0338\n",
      "Epoch 84/100\n",
      "8000/8000 [==============================] - 2s 199us/step - loss: 0.1138 - accuracy: 0.9596 - categorical_accuracy: 1.0000 - mse: 0.0337\n",
      "Epoch 85/100\n",
      "8000/8000 [==============================] - 2s 201us/step - loss: 0.1129 - accuracy: 0.9600 - categorical_accuracy: 1.0000 - mse: 0.0334\n",
      "Epoch 86/100\n",
      "8000/8000 [==============================] - 2s 200us/step - loss: 0.1125 - accuracy: 0.9604 - categorical_accuracy: 1.0000 - mse: 0.0332\n",
      "Epoch 87/100\n",
      "8000/8000 [==============================] - 2s 199us/step - loss: 0.1122 - accuracy: 0.9607 - categorical_accuracy: 1.0000 - mse: 0.0330\n",
      "Epoch 88/100\n",
      "8000/8000 [==============================] - 1s 184us/step - loss: 0.1109 - accuracy: 0.9614 - categorical_accuracy: 1.0000 - mse: 0.0326\n",
      "Epoch 89/100\n",
      "8000/8000 [==============================] - 2s 193us/step - loss: 0.1106 - accuracy: 0.9611 - categorical_accuracy: 1.0000 - mse: 0.0325\n",
      "Epoch 90/100\n",
      "8000/8000 [==============================] - 2s 203us/step - loss: 0.1099 - accuracy: 0.9615 - categorical_accuracy: 1.0000 - mse: 0.0323\n",
      "Epoch 91/100\n",
      "8000/8000 [==============================] - 2s 189us/step - loss: 0.1098 - accuracy: 0.9613 - categorical_accuracy: 1.0000 - mse: 0.0323\n",
      "Epoch 92/100\n",
      "8000/8000 [==============================] - 1s 179us/step - loss: 0.1095 - accuracy: 0.9614 - categorical_accuracy: 1.0000 - mse: 0.0322\n",
      "Epoch 93/100\n",
      "8000/8000 [==============================] - 1s 175us/step - loss: 0.1094 - accuracy: 0.9617 - categorical_accuracy: 1.0000 - mse: 0.0321\n",
      "Epoch 94/100\n",
      "8000/8000 [==============================] - 1s 179us/step - loss: 0.1091 - accuracy: 0.9617 - categorical_accuracy: 1.0000 - mse: 0.0320\n",
      "Epoch 95/100\n",
      "8000/8000 [==============================] - 1s 181us/step - loss: 0.1089 - accuracy: 0.9620 - categorical_accuracy: 1.0000 - mse: 0.0320\n",
      "Epoch 96/100\n",
      "8000/8000 [==============================] - 2s 194us/step - loss: 0.1086 - accuracy: 0.9620 - categorical_accuracy: 1.0000 - mse: 0.0319\n",
      "Epoch 97/100\n",
      "8000/8000 [==============================] - 2s 193us/step - loss: 0.1080 - accuracy: 0.9626 - categorical_accuracy: 1.0000 - mse: 0.0316\n",
      "Epoch 98/100\n",
      "8000/8000 [==============================] - 2s 201us/step - loss: 0.1080 - accuracy: 0.9628 - categorical_accuracy: 1.0000 - mse: 0.0316\n",
      "Epoch 99/100\n",
      "8000/8000 [==============================] - 2s 193us/step - loss: 0.1074 - accuracy: 0.9624 - categorical_accuracy: 1.0000 - mse: 0.0315\n",
      "Epoch 100/100\n",
      "8000/8000 [==============================] - 2s 199us/step - loss: 0.1070 - accuracy: 0.9632 - categorical_accuracy: 1.0000 - mse: 0.0314\n"
     ]
    },
    {
     "data": {
      "text/plain": [
       "<keras.callbacks.callbacks.History at 0x7f5ab50f0f98>"
      ]
     },
     "execution_count": 22,
     "metadata": {},
     "output_type": "execute_result"
    }
   ],
   "source": [
    "del classifier\n",
    "\n",
    "classifier = Sequential()\n",
    "\n",
    "classifier.add(Dense(units = 6, kernel_initializer = 'uniform', activation = 'sigmoid', input_dim = X_train.shape[1]))\n",
    "\n",
    "classifier.add(Dense(units = 6, kernel_initializer = 'uniform', activation = 'relu'))\n",
    "\n",
    "classifier.add(Dense(units = 1, kernel_initializer = 'uniform', activation = 'sigmoid'))\n",
    "\n",
    "classifier.compile(optimizer = 'adam', loss = 'binary_crossentropy', metrics = ['accuracy', 'categorical_accuracy', 'mse'])\n",
    "\n",
    "classifier.fit(X_train, y_train, batch_size = 10, epochs = 100)"
   ]
  },
  {
   "cell_type": "code",
   "execution_count": 19,
   "metadata": {},
   "outputs": [],
   "source": [
    "y_pred = classifier.predict(X_test)\n",
    "y_pred = (y_pred > 0.5)"
   ]
  },
  {
   "cell_type": "markdown",
   "metadata": {},
   "source": [
    "# Making the Confusion Matrix"
   ]
  },
  {
   "cell_type": "code",
   "execution_count": 20,
   "metadata": {},
   "outputs": [
    {
     "name": "stdout",
     "output_type": "stream",
     "text": [
      "[[1547   48]\n",
      " [ 265  140]]\n"
     ]
    }
   ],
   "source": [
    "from sklearn.metrics import confusion_matrix\n",
    "cm = confusion_matrix(y_test, y_pred)\n",
    "print(cm)"
   ]
  },
  {
   "cell_type": "markdown",
   "metadata": {},
   "source": [
    "---\n",
    "# Parte 4 - Evaluating, Improving and Tuning the ANN\n",
    "\n",
    "## Evaluating the ANN"
   ]
  },
  {
   "cell_type": "code",
   "execution_count": null,
   "metadata": {},
   "outputs": [],
   "source": [
    "from keras.wrappers.scikit_learn import KerasClassifier\n",
    "from sklearn.model_selection import cross_val_score\n",
    "from keras.models import Sequential\n",
    "from keras.layers import Dense\n",
    "\n",
    "def build_classifier():\n",
    "    classifier = Sequential()\n",
    "    classifier.add(Dense(units = 6, kernel_initializer = 'uniform', activation = 'relu', input_dim = 11))\n",
    "    classifier.add(Dense(units = 6, kernel_initializer = 'uniform', activation = 'relu'))\n",
    "    classifier.add(Dense(units = 1, kernel_initializer = 'uniform', activation = 'sigmoid'))\n",
    "    classifier.compile(optimizer = 'adam', loss = 'binary_crossentropy', metrics = ['accuracy'])\n",
    "    return classifier\n",
    "\n",
    "classifier = KerasClassifier(build_fn = build_classifier, batch_size = 10, epochs = 10)\n",
    "accuracies = cross_val_score(estimator = classifier, X = X_train, y = y_train, cv = 10, n_jobs = -1)\n",
    "mean = accuracies.mean()\n",
    "variance = accuracies.std()\n",
    "print(\"accuracies:%s\\nmean:%s\\nvariance:%s\".format(accuracies, mean, variance))"
   ]
  },
  {
   "cell_type": "markdown",
   "metadata": {},
   "source": [
    "# Improving the ANN\n",
    "# Dropout Regularization to reduce overfitting if needed"
   ]
  },
  {
   "cell_type": "code",
   "execution_count": null,
   "metadata": {},
   "outputs": [],
   "source": [
    "from keras.layers import Dropout\n",
    "\n",
    "def build_classifier():\n",
    "    classifier = Sequential()\n",
    "    classifier.add(Dense(units = 6, kernel_initializer = 'uniform', activation = 'relu', input_dim = 11))\n",
    "    classifier.add(Dropout(rate = 0.1))\n",
    "    classifier.add(Dense(units = 6, kernel_initializer = 'uniform', activation = 'relu'))\n",
    "    classifier.add(Dropout(rate = 0.1))\n",
    "    classifier.add(Dense(units = 1, kernel_initializer = 'uniform', activation = 'sigmoid'))\n",
    "    classifier.compile(optimizer = 'adam', loss = 'binary_crossentropy', metrics = ['accuracy'])\n",
    "    return classifier\n",
    "\n",
    "classifier = KerasClassifier(build_fn = build_classifier, batch_size = 10, epochs = 10)\n",
    "accuracies = cross_val_score(estimator = classifier, X = X_train, y = y_train, cv = 10, n_jobs = -1)\n",
    "mean = accuracies.mean()\n",
    "variance = accuracies.std()"
   ]
  },
  {
   "cell_type": "markdown",
   "metadata": {},
   "source": [
    "# Tuning the ANN"
   ]
  },
  {
   "cell_type": "code",
   "execution_count": null,
   "metadata": {},
   "outputs": [],
   "source": [
    "from keras.wrappers.scikit_learn import KerasClassifier\n",
    "from sklearn.model_selection import GridSearchCV\n",
    "from keras.models import Sequential\n",
    "from keras.layers import Dense\n",
    "\n",
    "def build_classifier(optimizer):\n",
    "    classifier = Sequential()\n",
    "    classifier.add(Dense(units = 6, kernel_initializer = 'uniform', activation = 'relu', input_dim = 11))\n",
    "    classifier.add(Dropout(rate = 0.1))\n",
    "    classifier.add(Dense(units = 6, kernel_initializer = 'uniform', activation = 'relu'))\n",
    "    classifier.add(Dropout(rate = 0.1))\n",
    "    classifier.add(Dense(units = 1, kernel_initializer = 'uniform', activation = 'sigmoid'))\n",
    "    classifier.compile(optimizer = optimizer, loss = 'binary_crossentropy', metrics = ['accuracy'])\n",
    "    return classifier\n",
    "\n",
    "classifier = KerasClassifier(build_fn = build_classifier)"
   ]
  },
  {
   "cell_type": "code",
   "execution_count": null,
   "metadata": {},
   "outputs": [],
   "source": [
    "parameters = {'batch_size': [10, 24, 32],\n",
    "              'epochs': [50, 100, 200],\n",
    "              'optimizer': ['adam', 'rmsprop']}\n",
    "\n",
    "grid_search = GridSearchCV(estimator = classifier,\n",
    "                           scoring = 'accuracy',\n",
    "                           param_grid = parameters,\n",
    "                           cv = 10)\n",
    "\n",
    "grid_search = grid_search.fit(X_train, y_train)\n",
    "\n",
    "best_parameters = grid_search.best_params_\n",
    "best_accuracy = grid_search.best_score_"
   ]
  },
  {
   "cell_type": "markdown",
   "metadata": {},
   "source": [
    "# FIM"
   ]
  },
  {
   "cell_type": "markdown",
   "metadata": {},
   "source": [
    "> Professor Diego Dorgam  \n",
    "> [@diegodorgam](https://twitter.com/diegodorgam)"
   ]
  }
 ],
 "metadata": {
  "kernelspec": {
   "display_name": "Python 3",
   "language": "python",
   "name": "python3"
  },
  "language_info": {
   "codemirror_mode": {
    "name": "ipython",
    "version": 3
   },
   "file_extension": ".py",
   "mimetype": "text/x-python",
   "name": "python",
   "nbconvert_exporter": "python",
   "pygments_lexer": "ipython3",
   "version": "3.7.3"
  }
 },
 "nbformat": 4,
 "nbformat_minor": 4
}
