{
 "cells": [
  {
   "cell_type": "markdown",
   "metadata": {},
   "source": [
    "# REDES NEURAIS ARTIFICIAIS\n",
    "\n",
    "[Aula 3 de Deep Learning](http://bit.ly/dn-unb03) da Engenharia de Software da UnB"
   ]
  },
  {
   "cell_type": "markdown",
   "metadata": {},
   "source": [
    "# Parte 1 - Pré-processamento dos Dados"
   ]
  },
  {
   "cell_type": "markdown",
   "metadata": {},
   "source": [
    "### Importar as libs"
   ]
  },
  {
   "cell_type": "code",
   "execution_count": 1,
   "metadata": {
    "colab": {},
    "colab_type": "code",
    "id": "MxkJoQBkUIHC"
   },
   "outputs": [],
   "source": [
    "import numpy as np\n",
    "import pandas as pd\n",
    "import tensorflow as tf"
   ]
  },
  {
   "cell_type": "code",
   "execution_count": 2,
   "metadata": {
    "colab": {
     "base_uri": "https://localhost:8080/",
     "height": 34
    },
    "colab_type": "code",
    "id": "ZaTwK7ojXr2F",
    "outputId": "0b27a96d-d11a-43e8-ab4b-87c1f01896fe"
   },
   "outputs": [
    {
     "data": {
      "text/plain": [
       "'2.4.1'"
      ]
     },
     "execution_count": 2,
     "metadata": {},
     "output_type": "execute_result"
    }
   ],
   "source": [
    "tf.__version__"
   ]
  },
  {
   "cell_type": "markdown",
   "metadata": {},
   "source": [
    "### Importar o dataset"
   ]
  },
  {
   "cell_type": "code",
   "execution_count": 3,
   "metadata": {},
   "outputs": [
    {
     "data": {
      "text/html": [
       "<div>\n",
       "<style scoped>\n",
       "    .dataframe tbody tr th:only-of-type {\n",
       "        vertical-align: middle;\n",
       "    }\n",
       "\n",
       "    .dataframe tbody tr th {\n",
       "        vertical-align: top;\n",
       "    }\n",
       "\n",
       "    .dataframe thead th {\n",
       "        text-align: right;\n",
       "    }\n",
       "</style>\n",
       "<table border=\"1\" class=\"dataframe\">\n",
       "  <thead>\n",
       "    <tr style=\"text-align: right;\">\n",
       "      <th></th>\n",
       "      <th>RowNumber</th>\n",
       "      <th>CustomerId</th>\n",
       "      <th>Surname</th>\n",
       "      <th>CreditScore</th>\n",
       "      <th>Geography</th>\n",
       "      <th>Gender</th>\n",
       "      <th>Age</th>\n",
       "      <th>Tenure</th>\n",
       "      <th>Balance</th>\n",
       "      <th>NumOfProducts</th>\n",
       "      <th>HasCrCard</th>\n",
       "      <th>IsActiveMember</th>\n",
       "      <th>EstimatedSalary</th>\n",
       "      <th>Exited</th>\n",
       "    </tr>\n",
       "  </thead>\n",
       "  <tbody>\n",
       "    <tr>\n",
       "      <th>0</th>\n",
       "      <td>1</td>\n",
       "      <td>15634602</td>\n",
       "      <td>Hargrave</td>\n",
       "      <td>619</td>\n",
       "      <td>France</td>\n",
       "      <td>Female</td>\n",
       "      <td>42</td>\n",
       "      <td>2</td>\n",
       "      <td>0.00</td>\n",
       "      <td>1</td>\n",
       "      <td>1</td>\n",
       "      <td>1</td>\n",
       "      <td>101348.88</td>\n",
       "      <td>1</td>\n",
       "    </tr>\n",
       "    <tr>\n",
       "      <th>1</th>\n",
       "      <td>2</td>\n",
       "      <td>15647311</td>\n",
       "      <td>Hill</td>\n",
       "      <td>608</td>\n",
       "      <td>Spain</td>\n",
       "      <td>Female</td>\n",
       "      <td>41</td>\n",
       "      <td>1</td>\n",
       "      <td>83807.86</td>\n",
       "      <td>1</td>\n",
       "      <td>0</td>\n",
       "      <td>1</td>\n",
       "      <td>112542.58</td>\n",
       "      <td>0</td>\n",
       "    </tr>\n",
       "    <tr>\n",
       "      <th>2</th>\n",
       "      <td>3</td>\n",
       "      <td>15619304</td>\n",
       "      <td>Onio</td>\n",
       "      <td>502</td>\n",
       "      <td>France</td>\n",
       "      <td>Female</td>\n",
       "      <td>42</td>\n",
       "      <td>8</td>\n",
       "      <td>159660.80</td>\n",
       "      <td>3</td>\n",
       "      <td>1</td>\n",
       "      <td>0</td>\n",
       "      <td>113931.57</td>\n",
       "      <td>1</td>\n",
       "    </tr>\n",
       "    <tr>\n",
       "      <th>3</th>\n",
       "      <td>4</td>\n",
       "      <td>15701354</td>\n",
       "      <td>Boni</td>\n",
       "      <td>699</td>\n",
       "      <td>France</td>\n",
       "      <td>Female</td>\n",
       "      <td>39</td>\n",
       "      <td>1</td>\n",
       "      <td>0.00</td>\n",
       "      <td>2</td>\n",
       "      <td>0</td>\n",
       "      <td>0</td>\n",
       "      <td>93826.63</td>\n",
       "      <td>0</td>\n",
       "    </tr>\n",
       "    <tr>\n",
       "      <th>4</th>\n",
       "      <td>5</td>\n",
       "      <td>15737888</td>\n",
       "      <td>Mitchell</td>\n",
       "      <td>850</td>\n",
       "      <td>Spain</td>\n",
       "      <td>Female</td>\n",
       "      <td>43</td>\n",
       "      <td>2</td>\n",
       "      <td>125510.82</td>\n",
       "      <td>1</td>\n",
       "      <td>1</td>\n",
       "      <td>1</td>\n",
       "      <td>79084.10</td>\n",
       "      <td>0</td>\n",
       "    </tr>\n",
       "  </tbody>\n",
       "</table>\n",
       "</div>"
      ],
      "text/plain": [
       "   RowNumber  CustomerId   Surname  CreditScore Geography  Gender  Age  \\\n",
       "0          1    15634602  Hargrave          619    France  Female   42   \n",
       "1          2    15647311      Hill          608     Spain  Female   41   \n",
       "2          3    15619304      Onio          502    France  Female   42   \n",
       "3          4    15701354      Boni          699    France  Female   39   \n",
       "4          5    15737888  Mitchell          850     Spain  Female   43   \n",
       "\n",
       "   Tenure    Balance  NumOfProducts  HasCrCard  IsActiveMember  \\\n",
       "0       2       0.00              1          1               1   \n",
       "1       1   83807.86              1          0               1   \n",
       "2       8  159660.80              3          1               0   \n",
       "3       1       0.00              2          0               0   \n",
       "4       2  125510.82              1          1               1   \n",
       "\n",
       "   EstimatedSalary  Exited  \n",
       "0        101348.88       1  \n",
       "1        112542.58       0  \n",
       "2        113931.57       1  \n",
       "3         93826.63       0  \n",
       "4         79084.10       0  "
      ]
     },
     "execution_count": 3,
     "metadata": {},
     "output_type": "execute_result"
    }
   ],
   "source": [
    "dataset = pd.read_csv('Churn_Modelling.csv')\n",
    "dataset.head()"
   ]
  },
  {
   "cell_type": "code",
   "execution_count": 4,
   "metadata": {},
   "outputs": [
    {
     "name": "stdout",
     "output_type": "stream",
     "text": [
      "X >>\n",
      " [[619 'France' 'Female' ... 1 1 101348.88]\n",
      " [608 'Spain' 'Female' ... 0 1 112542.58]\n",
      " [502 'France' 'Female' ... 1 0 113931.57]\n",
      " ...\n",
      " [709 'France' 'Female' ... 0 1 42085.58]\n",
      " [772 'Germany' 'Male' ... 1 0 92888.52]\n",
      " [792 'France' 'Female' ... 1 0 38190.78]]\n",
      "y >>\n",
      " [1 0 1 ... 1 1 0]\n"
     ]
    }
   ],
   "source": [
    "X = dataset.iloc[:, 3:13].values\n",
    "y = dataset.iloc[:, 13].values\n",
    "print(\"X >>\\n\",X)\n",
    "print(\"y >>\\n\",y)"
   ]
  },
  {
   "cell_type": "markdown",
   "metadata": {},
   "source": [
    "### Transformando os dados categóricos\n"
   ]
  },
  {
   "cell_type": "code",
   "execution_count": 5,
   "metadata": {},
   "outputs": [
    {
     "name": "stdout",
     "output_type": "stream",
     "text": [
      "[[619 'France' 0 ... 1 1 101348.88]\n",
      " [608 'Spain' 0 ... 0 1 112542.58]\n",
      " [502 'France' 0 ... 1 0 113931.57]\n",
      " ...\n",
      " [709 'France' 0 ... 0 1 42085.58]\n",
      " [772 'Germany' 1 ... 1 0 92888.52]\n",
      " [792 'France' 0 ... 1 0 38190.78]]\n",
      "[[1.0 0.0 0.0 ... 1 1 101348.88]\n",
      " [0.0 0.0 1.0 ... 0 1 112542.58]\n",
      " [1.0 0.0 0.0 ... 1 0 113931.57]\n",
      " ...\n",
      " [1.0 0.0 0.0 ... 0 1 42085.58]\n",
      " [0.0 1.0 0.0 ... 1 0 92888.52]\n",
      " [1.0 0.0 0.0 ... 1 0 38190.78]]\n"
     ]
    }
   ],
   "source": [
    "# Label Encoding the \"Gender\" column\n",
    "from sklearn.preprocessing import LabelEncoder\n",
    "le = LabelEncoder()\n",
    "X[:, 2] = le.fit_transform(X[:, 2])\n",
    "print(X)\n",
    "# One Hot Encoding the \"Geography\" column\n",
    "from sklearn.compose import ColumnTransformer\n",
    "from sklearn.preprocessing import OneHotEncoder\n",
    "ct = ColumnTransformer(transformers=[('encoder', OneHotEncoder(), [1])], remainder='passthrough')\n",
    "X = np.array(ct.fit_transform(X))\n",
    "print(X)"
   ]
  },
  {
   "cell_type": "markdown",
   "metadata": {},
   "source": [
    "# Dividindo o dataset em conjunto de treinamento e conjunto de teste"
   ]
  },
  {
   "cell_type": "code",
   "execution_count": 6,
   "metadata": {},
   "outputs": [],
   "source": [
    "from sklearn.model_selection import train_test_split\n",
    "X_train, X_test, y_train, y_test = train_test_split(X, y, test_size = 0.2, random_state = 0)"
   ]
  },
  {
   "cell_type": "markdown",
   "metadata": {},
   "source": [
    "# Feature Scaling"
   ]
  },
  {
   "cell_type": "code",
   "execution_count": 7,
   "metadata": {},
   "outputs": [],
   "source": [
    "from sklearn.preprocessing import StandardScaler\n",
    "sc = StandardScaler()\n",
    "X_train = sc.fit_transform(X_train)\n",
    "X_test = sc.transform(X_test)"
   ]
  },
  {
   "cell_type": "code",
   "execution_count": 8,
   "metadata": {},
   "outputs": [
    {
     "data": {
      "text/plain": [
       "(8000, 12)"
      ]
     },
     "execution_count": 8,
     "metadata": {},
     "output_type": "execute_result"
    }
   ],
   "source": [
    "np.shape(X_train)"
   ]
  },
  {
   "cell_type": "markdown",
   "metadata": {},
   "source": [
    "---\n",
    "# Parte 2 -Vamos construir uma ANN!\n"
   ]
  },
  {
   "cell_type": "markdown",
   "metadata": {
    "colab_type": "text",
    "id": "KvdeScabXtlB"
   },
   "source": [
    "### Initializing the ANN"
   ]
  },
  {
   "cell_type": "code",
   "execution_count": 9,
   "metadata": {
    "colab": {},
    "colab_type": "code",
    "id": "3dtrScHxXQox"
   },
   "outputs": [],
   "source": [
    "ann = tf.keras.models.Sequential()"
   ]
  },
  {
   "cell_type": "markdown",
   "metadata": {
    "colab_type": "text",
    "id": "rP6urV6SX7kS"
   },
   "source": [
    "### Adding the input layer and the first hidden layer"
   ]
  },
  {
   "cell_type": "code",
   "execution_count": 10,
   "metadata": {
    "colab": {},
    "colab_type": "code",
    "id": "bppGycBXYCQr"
   },
   "outputs": [],
   "source": [
    "ann.add(tf.keras.layers.Dense(units=32, activation='sigmoid'))"
   ]
  },
  {
   "cell_type": "markdown",
   "metadata": {
    "colab_type": "text",
    "id": "BELWAc_8YJze"
   },
   "source": [
    "### Adding the second hidden layer"
   ]
  },
  {
   "cell_type": "code",
   "execution_count": 11,
   "metadata": {
    "colab": {},
    "colab_type": "code",
    "id": "JneR0u0sYRTd"
   },
   "outputs": [],
   "source": [
    "ann.add(tf.keras.layers.Dense(units=32, activation='tanh'))"
   ]
  },
  {
   "cell_type": "markdown",
   "metadata": {
    "colab_type": "text",
    "id": "OyNEe6RXYcU4"
   },
   "source": [
    "### Adding the output layer"
   ]
  },
  {
   "cell_type": "code",
   "execution_count": 12,
   "metadata": {
    "colab": {},
    "colab_type": "code",
    "id": "Cn3x41RBYfvY"
   },
   "outputs": [],
   "source": [
    "ann.add(tf.keras.layers.Dense(units=1, activation='tanh'))"
   ]
  },
  {
   "cell_type": "markdown",
   "metadata": {
    "colab_type": "text",
    "id": "JT4u2S1_Y4WG"
   },
   "source": [
    "## Part 3 - Training the ANN"
   ]
  },
  {
   "cell_type": "markdown",
   "metadata": {
    "colab_type": "text",
    "id": "8GWlJChhY_ZI"
   },
   "source": [
    "### Compiling the ANN"
   ]
  },
  {
   "cell_type": "code",
   "execution_count": 13,
   "metadata": {
    "colab": {},
    "colab_type": "code",
    "id": "fG3RrwDXZEaS"
   },
   "outputs": [],
   "source": [
    "ann.compile(optimizer = 'adam', loss = 'binary_crossentropy', metrics = ['accuracy'])"
   ]
  },
  {
   "cell_type": "markdown",
   "metadata": {
    "colab_type": "text",
    "id": "0QR_G5u7ZLSM"
   },
   "source": [
    "### Training the ANN on the Training set"
   ]
  },
  {
   "cell_type": "code",
   "execution_count": 14,
   "metadata": {
    "colab": {
     "base_uri": "https://localhost:8080/",
     "height": 1000
    },
    "colab_type": "code",
    "id": "nHZ-LKv_ZRb3",
    "outputId": "718cc4b0-b5aa-40f0-9b20-d3d31730a531"
   },
   "outputs": [
    {
     "name": "stdout",
     "output_type": "stream",
     "text": [
      "Epoch 1/200\n",
      "250/250 [==============================] - 1s 1ms/step - loss: 0.6002 - accuracy: 0.7814\n",
      "Epoch 2/200\n",
      "250/250 [==============================] - 0s 999us/step - loss: 0.5782 - accuracy: 0.7235\n",
      "Epoch 3/200\n",
      "250/250 [==============================] - 0s 891us/step - loss: 0.5316 - accuracy: 0.7740\n",
      "Epoch 4/200\n",
      "250/250 [==============================] - 0s 1ms/step - loss: 0.6426 - accuracy: 0.6268\n",
      "Epoch 5/200\n",
      "250/250 [==============================] - 0s 1ms/step - loss: 0.4714 - accuracy: 0.7904\n",
      "Epoch 6/200\n",
      "250/250 [==============================] - 0s 1ms/step - loss: 0.5646 - accuracy: 0.7455\n",
      "Epoch 7/200\n",
      "250/250 [==============================] - 0s 827us/step - loss: 0.4829 - accuracy: 0.7952\n",
      "Epoch 8/200\n",
      "250/250 [==============================] - 0s 886us/step - loss: 0.4908 - accuracy: 0.7665\n",
      "Epoch 9/200\n",
      "250/250 [==============================] - 0s 831us/step - loss: 0.5112 - accuracy: 0.8041\n",
      "Epoch 10/200\n",
      "250/250 [==============================] - 0s 1ms/step - loss: 0.5966 - accuracy: 0.6240\n",
      "Epoch 11/200\n",
      "250/250 [==============================] - 0s 1ms/step - loss: 0.4606 - accuracy: 0.7968\n",
      "Epoch 12/200\n",
      "250/250 [==============================] - 0s 1ms/step - loss: 0.4944 - accuracy: 0.7592\n",
      "Epoch 13/200\n",
      "250/250 [==============================] - 0s 843us/step - loss: 0.4564 - accuracy: 0.7948\n",
      "Epoch 14/200\n",
      "250/250 [==============================] - 0s 790us/step - loss: 0.4722 - accuracy: 0.7800\n",
      "Epoch 15/200\n",
      "250/250 [==============================] - 0s 828us/step - loss: 0.6591 - accuracy: 0.5889\n",
      "Epoch 16/200\n",
      "250/250 [==============================] - 0s 1ms/step - loss: 0.4452 - accuracy: 0.7983\n",
      "Epoch 17/200\n",
      "250/250 [==============================] - 0s 1ms/step - loss: 0.4388 - accuracy: 0.8042\n",
      "Epoch 18/200\n",
      "250/250 [==============================] - 0s 1ms/step - loss: 0.4574 - accuracy: 0.7846\n",
      "Epoch 19/200\n",
      "250/250 [==============================] - 0s 800us/step - loss: 0.4425 - accuracy: 0.7984\n",
      "Epoch 20/200\n",
      "250/250 [==============================] - 0s 835us/step - loss: 0.4308 - accuracy: 0.8038\n",
      "Epoch 21/200\n",
      "250/250 [==============================] - 0s 865us/step - loss: 0.6978 - accuracy: 0.6567\n",
      "Epoch 22/200\n",
      "250/250 [==============================] - 0s 1ms/step - loss: 0.4544 - accuracy: 0.7916\n",
      "Epoch 23/200\n",
      "250/250 [==============================] - 0s 1ms/step - loss: 0.4405 - accuracy: 0.7995\n",
      "Epoch 24/200\n",
      "250/250 [==============================] - 0s 1ms/step - loss: 0.4339 - accuracy: 0.7980\n",
      "Epoch 25/200\n",
      "250/250 [==============================] - 0s 801us/step - loss: 0.4176 - accuracy: 0.8116\n",
      "Epoch 26/200\n",
      "250/250 [==============================] - 0s 835us/step - loss: 0.4219 - accuracy: 0.8116\n",
      "Epoch 27/200\n",
      "250/250 [==============================] - 0s 796us/step - loss: 0.4330 - accuracy: 0.8044\n",
      "Epoch 28/200\n",
      "250/250 [==============================] - 0s 1ms/step - loss: 0.4356 - accuracy: 0.8137\n",
      "Epoch 29/200\n",
      "250/250 [==============================] - 0s 1ms/step - loss: 0.4150 - accuracy: 0.8193\n",
      "Epoch 30/200\n",
      "250/250 [==============================] - 0s 1ms/step - loss: 0.6471 - accuracy: 0.7017\n",
      "Epoch 31/200\n",
      "250/250 [==============================] - 0s 806us/step - loss: 0.4552 - accuracy: 0.8130\n",
      "Epoch 32/200\n",
      "250/250 [==============================] - 0s 831us/step - loss: 0.4097 - accuracy: 0.8155\n",
      "Epoch 33/200\n",
      "250/250 [==============================] - 0s 830us/step - loss: 0.4175 - accuracy: 0.8068\n",
      "Epoch 34/200\n",
      "250/250 [==============================] - 0s 1ms/step - loss: 0.4365 - accuracy: 0.7983\n",
      "Epoch 35/200\n",
      "250/250 [==============================] - 0s 1ms/step - loss: 0.4054 - accuracy: 0.8160\n",
      "Epoch 36/200\n",
      "250/250 [==============================] - 0s 1ms/step - loss: 0.4071 - accuracy: 0.8184\n",
      "Epoch 37/200\n",
      "250/250 [==============================] - 0s 865us/step - loss: 0.3926 - accuracy: 0.8262\n",
      "Epoch 38/200\n",
      "250/250 [==============================] - 0s 835us/step - loss: 0.4068 - accuracy: 0.8268\n",
      "Epoch 39/200\n",
      "250/250 [==============================] - 0s 807us/step - loss: 0.4247 - accuracy: 0.8032\n",
      "Epoch 40/200\n",
      "250/250 [==============================] - 0s 917us/step - loss: 0.6961 - accuracy: 0.5385\n",
      "Epoch 41/200\n",
      "250/250 [==============================] - 0s 1ms/step - loss: 0.4041 - accuracy: 0.8059\n",
      "Epoch 42/200\n",
      "250/250 [==============================] - 0s 1ms/step - loss: 0.3982 - accuracy: 0.8119: 0s - loss: 0.4013 - accuracy\n",
      "Epoch 43/200\n",
      "250/250 [==============================] - 0s 987us/step - loss: 0.3881 - accuracy: 0.8222\n",
      "Epoch 44/200\n",
      "250/250 [==============================] - 0s 862us/step - loss: 0.3837 - accuracy: 0.8308\n",
      "Epoch 45/200\n",
      "250/250 [==============================] - 0s 796us/step - loss: 0.4088 - accuracy: 0.8347\n",
      "Epoch 46/200\n",
      "250/250 [==============================] - 0s 980us/step - loss: 0.3786 - accuracy: 0.8320\n",
      "Epoch 47/200\n",
      "250/250 [==============================] - 0s 1ms/step - loss: 0.4039 - accuracy: 0.8242\n",
      "Epoch 48/200\n",
      "250/250 [==============================] - 0s 1ms/step - loss: 0.3861 - accuracy: 0.8379\n",
      "Epoch 49/200\n",
      "250/250 [==============================] - 0s 940us/step - loss: 0.3800 - accuracy: 0.8343\n",
      "Epoch 50/200\n",
      "250/250 [==============================] - 0s 873us/step - loss: 0.4007 - accuracy: 0.8348\n",
      "Epoch 51/200\n",
      "250/250 [==============================] - 0s 788us/step - loss: 0.3905 - accuracy: 0.8310\n",
      "Epoch 52/200\n",
      "250/250 [==============================] - 0s 864us/step - loss: 0.4613 - accuracy: 0.7864\n",
      "Epoch 53/200\n",
      "250/250 [==============================] - 0s 1ms/step - loss: 0.4978 - accuracy: 0.7832\n",
      "Epoch 54/200\n",
      "250/250 [==============================] - 0s 1ms/step - loss: 0.3844 - accuracy: 0.8323\n",
      "Epoch 55/200\n",
      "250/250 [==============================] - 0s 952us/step - loss: 0.3915 - accuracy: 0.8424\n",
      "Epoch 56/200\n",
      "250/250 [==============================] - 0s 775us/step - loss: 0.3805 - accuracy: 0.8393\n",
      "Epoch 57/200\n",
      "250/250 [==============================] - 0s 780us/step - loss: 0.3760 - accuracy: 0.8447\n",
      "Epoch 58/200\n",
      "250/250 [==============================] - 0s 796us/step - loss: 0.3778 - accuracy: 0.8509\n",
      "Epoch 59/200\n",
      "250/250 [==============================] - 0s 1ms/step - loss: 0.3854 - accuracy: 0.8414\n",
      "Epoch 60/200\n",
      "250/250 [==============================] - 0s 1ms/step - loss: 0.3893 - accuracy: 0.8441\n",
      "Epoch 61/200\n",
      "250/250 [==============================] - 0s 1ms/step - loss: 0.3813 - accuracy: 0.8461\n",
      "Epoch 62/200\n",
      "250/250 [==============================] - 0s 823us/step - loss: 0.3851 - accuracy: 0.8483\n",
      "Epoch 63/200\n",
      "250/250 [==============================] - 0s 794us/step - loss: 0.4550 - accuracy: 0.7944\n",
      "Epoch 64/200\n",
      "250/250 [==============================] - 0s 764us/step - loss: 0.5061 - accuracy: 0.7647\n",
      "Epoch 65/200\n",
      "250/250 [==============================] - 0s 854us/step - loss: 0.3775 - accuracy: 0.8452\n",
      "Epoch 66/200\n",
      "250/250 [==============================] - 0s 1ms/step - loss: 0.4092 - accuracy: 0.8436\n",
      "Epoch 67/200\n",
      "250/250 [==============================] - 0s 1ms/step - loss: 0.3802 - accuracy: 0.8472\n",
      "Epoch 68/200\n",
      "250/250 [==============================] - 0s 1ms/step - loss: 0.3693 - accuracy: 0.8531\n",
      "Epoch 69/200\n",
      "250/250 [==============================] - 0s 770us/step - loss: 0.3687 - accuracy: 0.8459\n",
      "Epoch 70/200\n",
      "250/250 [==============================] - 0s 803us/step - loss: 0.3697 - accuracy: 0.8468\n",
      "Epoch 71/200\n",
      "250/250 [==============================] - 0s 807us/step - loss: 0.5178 - accuracy: 0.7036\n",
      "Epoch 72/200\n",
      "250/250 [==============================] - 0s 1ms/step - loss: 0.3794 - accuracy: 0.8535\n",
      "Epoch 73/200\n",
      "250/250 [==============================] - 0s 1ms/step - loss: 0.3755 - accuracy: 0.8514\n",
      "Epoch 74/200\n",
      "250/250 [==============================] - 0s 1ms/step - loss: 0.4139 - accuracy: 0.8005\n",
      "Epoch 75/200\n",
      "250/250 [==============================] - 0s 862us/step - loss: 0.3698 - accuracy: 0.8488\n",
      "Epoch 76/200\n",
      "250/250 [==============================] - 0s 851us/step - loss: 0.3751 - accuracy: 0.8440\n",
      "Epoch 77/200\n",
      "250/250 [==============================] - 0s 794us/step - loss: 0.3784 - accuracy: 0.8476\n",
      "Epoch 78/200\n",
      "250/250 [==============================] - 0s 1ms/step - loss: 0.3762 - accuracy: 0.8449\n",
      "Epoch 79/200\n",
      "250/250 [==============================] - 0s 1ms/step - loss: 0.3580 - accuracy: 0.8574\n",
      "Epoch 80/200\n"
     ]
    },
    {
     "name": "stdout",
     "output_type": "stream",
     "text": [
      "250/250 [==============================] - 0s 1ms/step - loss: 0.3697 - accuracy: 0.8509\n",
      "Epoch 81/200\n",
      "250/250 [==============================] - 0s 788us/step - loss: 0.3865 - accuracy: 0.8503\n",
      "Epoch 82/200\n",
      "250/250 [==============================] - 0s 780us/step - loss: 0.3771 - accuracy: 0.8557\n",
      "Epoch 83/200\n",
      "250/250 [==============================] - 0s 800us/step - loss: 0.3785 - accuracy: 0.8473\n",
      "Epoch 84/200\n",
      "250/250 [==============================] - 0s 960us/step - loss: 0.3683 - accuracy: 0.8476\n",
      "Epoch 85/200\n",
      "250/250 [==============================] - 0s 1ms/step - loss: 0.3631 - accuracy: 0.8523\n",
      "Epoch 86/200\n",
      "250/250 [==============================] - 0s 1ms/step - loss: 0.3733 - accuracy: 0.8590\n",
      "Epoch 87/200\n",
      "250/250 [==============================] - 0s 886us/step - loss: 0.3660 - accuracy: 0.8532\n",
      "Epoch 88/200\n",
      "250/250 [==============================] - 0s 839us/step - loss: 0.3535 - accuracy: 0.8557\n",
      "Epoch 89/200\n",
      "250/250 [==============================] - 0s 807us/step - loss: 0.4213 - accuracy: 0.8325\n",
      "Epoch 90/200\n",
      "250/250 [==============================] - 0s 894us/step - loss: 0.3629 - accuracy: 0.8533\n",
      "Epoch 91/200\n",
      "250/250 [==============================] - 0s 1ms/step - loss: 0.3646 - accuracy: 0.8511\n",
      "Epoch 92/200\n",
      "250/250 [==============================] - 0s 1ms/step - loss: 0.3536 - accuracy: 0.8538\n",
      "Epoch 93/200\n",
      "250/250 [==============================] - 0s 963us/step - loss: 0.3599 - accuracy: 0.8545\n",
      "Epoch 94/200\n",
      "250/250 [==============================] - 0s 822us/step - loss: 0.3503 - accuracy: 0.8580\n",
      "Epoch 95/200\n",
      "250/250 [==============================] - 0s 863us/step - loss: 0.3657 - accuracy: 0.8587\n",
      "Epoch 96/200\n",
      "250/250 [==============================] - 0s 909us/step - loss: 0.4001 - accuracy: 0.8468\n",
      "Epoch 97/200\n",
      "250/250 [==============================] - 0s 1ms/step - loss: 0.3529 - accuracy: 0.8617\n",
      "Epoch 98/200\n",
      "250/250 [==============================] - 0s 1ms/step - loss: 0.4119 - accuracy: 0.8173\n",
      "Epoch 99/200\n",
      "250/250 [==============================] - 0s 1ms/step - loss: 0.3456 - accuracy: 0.8653\n",
      "Epoch 100/200\n",
      "250/250 [==============================] - 0s 807us/step - loss: 0.3504 - accuracy: 0.8549\n",
      "Epoch 101/200\n",
      "250/250 [==============================] - 0s 792us/step - loss: 0.3700 - accuracy: 0.8502\n",
      "Epoch 102/200\n",
      "250/250 [==============================] - 0s 838us/step - loss: 0.3749 - accuracy: 0.8555\n",
      "Epoch 103/200\n",
      "250/250 [==============================] - 0s 1ms/step - loss: 0.3471 - accuracy: 0.8591\n",
      "Epoch 104/200\n",
      "250/250 [==============================] - 0s 1ms/step - loss: 0.3540 - accuracy: 0.8649\n",
      "Epoch 105/200\n",
      "250/250 [==============================] - 0s 1ms/step - loss: 0.3623 - accuracy: 0.8550\n",
      "Epoch 106/200\n",
      "250/250 [==============================] - 0s 811us/step - loss: 0.3534 - accuracy: 0.8561\n",
      "Epoch 107/200\n",
      "250/250 [==============================] - 0s 894us/step - loss: 0.3557 - accuracy: 0.8547\n",
      "Epoch 108/200\n",
      "250/250 [==============================] - 0s 870us/step - loss: 0.3482 - accuracy: 0.8613\n",
      "Epoch 109/200\n",
      "250/250 [==============================] - 0s 1ms/step - loss: 0.3539 - accuracy: 0.8611\n",
      "Epoch 110/200\n",
      "250/250 [==============================] - 0s 1ms/step - loss: 0.3661 - accuracy: 0.8542\n",
      "Epoch 111/200\n",
      "250/250 [==============================] - 0s 1ms/step - loss: 0.3557 - accuracy: 0.8557\n",
      "Epoch 112/200\n",
      "250/250 [==============================] - 0s 829us/step - loss: 0.3444 - accuracy: 0.8665\n",
      "Epoch 113/200\n",
      "250/250 [==============================] - 0s 792us/step - loss: 0.3732 - accuracy: 0.8604\n",
      "Epoch 114/200\n",
      "250/250 [==============================] - 0s 823us/step - loss: 0.3618 - accuracy: 0.8607\n",
      "Epoch 115/200\n",
      "250/250 [==============================] - 0s 1ms/step - loss: 0.3439 - accuracy: 0.8613\n",
      "Epoch 116/200\n",
      "250/250 [==============================] - 0s 1ms/step - loss: 0.3399 - accuracy: 0.8607\n",
      "Epoch 117/200\n",
      "250/250 [==============================] - 0s 1ms/step - loss: 0.3835 - accuracy: 0.8586\n",
      "Epoch 118/200\n",
      "250/250 [==============================] - 0s 796us/step - loss: 0.3408 - accuracy: 0.8679\n",
      "Epoch 119/200\n",
      "250/250 [==============================] - 0s 817us/step - loss: 0.3482 - accuracy: 0.8666\n",
      "Epoch 120/200\n",
      "250/250 [==============================] - 0s 835us/step - loss: 0.4054 - accuracy: 0.8547\n",
      "Epoch 121/200\n",
      "250/250 [==============================] - 0s 1ms/step - loss: 0.3580 - accuracy: 0.8539\n",
      "Epoch 122/200\n",
      "250/250 [==============================] - 0s 1ms/step - loss: 0.3345 - accuracy: 0.8684\n",
      "Epoch 123/200\n",
      "250/250 [==============================] - 0s 1ms/step - loss: 0.3833 - accuracy: 0.8492\n",
      "Epoch 124/200\n",
      "250/250 [==============================] - 0s 836us/step - loss: 0.3453 - accuracy: 0.8660\n",
      "Epoch 125/200\n",
      "250/250 [==============================] - 0s 820us/step - loss: 0.3370 - accuracy: 0.8652\n",
      "Epoch 126/200\n",
      "250/250 [==============================] - 0s 837us/step - loss: 0.3772 - accuracy: 0.8386\n",
      "Epoch 127/200\n",
      "250/250 [==============================] - 0s 1ms/step - loss: 0.3443 - accuracy: 0.8638\n",
      "Epoch 128/200\n",
      "250/250 [==============================] - 0s 1ms/step - loss: 0.3377 - accuracy: 0.8672\n",
      "Epoch 129/200\n",
      "250/250 [==============================] - 0s 1ms/step - loss: 0.9304 - accuracy: 0.3291\n",
      "Epoch 130/200\n",
      "250/250 [==============================] - 0s 1ms/step - loss: 0.5663 - accuracy: 0.8001\n",
      "Epoch 131/200\n",
      "250/250 [==============================] - 0s 994us/step - loss: 0.3703 - accuracy: 0.8550\n",
      "Epoch 132/200\n",
      "250/250 [==============================] - 0s 986us/step - loss: 0.3551 - accuracy: 0.8582\n",
      "Epoch 133/200\n",
      "250/250 [==============================] - 0s 1ms/step - loss: 0.3420 - accuracy: 0.8634\n",
      "Epoch 134/200\n",
      "250/250 [==============================] - 0s 1ms/step - loss: 0.3365 - accuracy: 0.8637\n",
      "Epoch 135/200\n",
      "250/250 [==============================] - 0s 1ms/step - loss: 0.3352 - accuracy: 0.8665\n",
      "Epoch 136/200\n",
      "250/250 [==============================] - 0s 859us/step - loss: 0.3443 - accuracy: 0.8596\n",
      "Epoch 137/200\n",
      "250/250 [==============================] - 0s 825us/step - loss: 0.3436 - accuracy: 0.8627\n",
      "Epoch 138/200\n",
      "250/250 [==============================] - 0s 849us/step - loss: 0.3480 - accuracy: 0.8601\n",
      "Epoch 139/200\n",
      "250/250 [==============================] - 0s 1ms/step - loss: 0.3468 - accuracy: 0.8569\n",
      "Epoch 140/200\n",
      "250/250 [==============================] - 0s 1ms/step - loss: 0.3514 - accuracy: 0.8563\n",
      "Epoch 141/200\n",
      "250/250 [==============================] - 0s 962us/step - loss: 0.3321 - accuracy: 0.8684\n",
      "Epoch 142/200\n",
      "250/250 [==============================] - 0s 799us/step - loss: 0.3404 - accuracy: 0.8604\n",
      "Epoch 143/200\n",
      "250/250 [==============================] - 0s 835us/step - loss: 0.3541 - accuracy: 0.8562\n",
      "Epoch 144/200\n",
      "250/250 [==============================] - 0s 1ms/step - loss: 0.3328 - accuracy: 0.8642\n",
      "Epoch 145/200\n",
      "250/250 [==============================] - 0s 1ms/step - loss: 0.3459 - accuracy: 0.8538\n",
      "Epoch 146/200\n",
      "250/250 [==============================] - 0s 1ms/step - loss: 0.3384 - accuracy: 0.8636\n",
      "Epoch 147/200\n",
      "250/250 [==============================] - 0s 838us/step - loss: 0.3294 - accuracy: 0.8663\n",
      "Epoch 148/200\n",
      "250/250 [==============================] - 0s 810us/step - loss: 0.3381 - accuracy: 0.8688\n",
      "Epoch 149/200\n",
      "250/250 [==============================] - 0s 812us/step - loss: 0.3518 - accuracy: 0.8585\n",
      "Epoch 150/200\n",
      "250/250 [==============================] - 0s 1ms/step - loss: 0.3604 - accuracy: 0.8627\n",
      "Epoch 151/200\n",
      "250/250 [==============================] - 0s 2ms/step - loss: 0.3354 - accuracy: 0.8713\n",
      "Epoch 152/200\n",
      "250/250 [==============================] - 0s 1ms/step - loss: 0.4973 - accuracy: 0.7013\n",
      "Epoch 153/200\n",
      "250/250 [==============================] - 0s 960us/step - loss: 0.4380 - accuracy: 0.8484\n",
      "Epoch 154/200\n",
      "250/250 [==============================] - 0s 944us/step - loss: 0.3421 - accuracy: 0.8625\n",
      "Epoch 155/200\n",
      "250/250 [==============================] - 0s 1ms/step - loss: 0.3385 - accuracy: 0.8611\n",
      "Epoch 156/200\n",
      "250/250 [==============================] - 0s 1ms/step - loss: 0.3416 - accuracy: 0.8606\n",
      "Epoch 157/200\n",
      "250/250 [==============================] - 0s 1ms/step - loss: 0.3283 - accuracy: 0.8615\n",
      "Epoch 158/200\n",
      "250/250 [==============================] - 0s 827us/step - loss: 0.3320 - accuracy: 0.8655\n",
      "Epoch 159/200\n"
     ]
    },
    {
     "name": "stdout",
     "output_type": "stream",
     "text": [
      "250/250 [==============================] - 0s 807us/step - loss: 0.3372 - accuracy: 0.8633\n",
      "Epoch 160/200\n",
      "250/250 [==============================] - 0s 772us/step - loss: 0.3359 - accuracy: 0.8655\n",
      "Epoch 161/200\n",
      "250/250 [==============================] - 0s 1ms/step - loss: 0.3380 - accuracy: 0.8601\n",
      "Epoch 162/200\n",
      "250/250 [==============================] - 0s 1ms/step - loss: 0.3639 - accuracy: 0.8537\n",
      "Epoch 163/200\n",
      "250/250 [==============================] - 0s 1ms/step - loss: 0.3450 - accuracy: 0.8638\n",
      "Epoch 164/200\n",
      "250/250 [==============================] - 0s 858us/step - loss: 0.3474 - accuracy: 0.8618\n",
      "Epoch 165/200\n",
      "250/250 [==============================] - 0s 790us/step - loss: 0.3315 - accuracy: 0.8676\n",
      "Epoch 166/200\n",
      "250/250 [==============================] - 0s 795us/step - loss: 0.3449 - accuracy: 0.8552\n",
      "Epoch 167/200\n",
      "250/250 [==============================] - 0s 1ms/step - loss: 0.3510 - accuracy: 0.8439\n",
      "Epoch 168/200\n",
      "250/250 [==============================] - 0s 1ms/step - loss: 0.5340 - accuracy: 0.7253\n",
      "Epoch 169/200\n",
      "250/250 [==============================] - 0s 1ms/step - loss: 0.3491 - accuracy: 0.8713\n",
      "Epoch 170/200\n",
      "250/250 [==============================] - 0s 980us/step - loss: 0.3851 - accuracy: 0.8446\n",
      "Epoch 171/200\n",
      "250/250 [==============================] - 0s 986us/step - loss: 0.3463 - accuracy: 0.8604\n",
      "Epoch 172/200\n",
      "250/250 [==============================] - 0s 866us/step - loss: 0.3389 - accuracy: 0.8629\n",
      "Epoch 173/200\n",
      "250/250 [==============================] - 0s 1ms/step - loss: 0.3357 - accuracy: 0.8672\n",
      "Epoch 174/200\n",
      "250/250 [==============================] - 0s 1ms/step - loss: 0.3345 - accuracy: 0.8693\n",
      "Epoch 175/200\n",
      "250/250 [==============================] - 0s 913us/step - loss: 0.3367 - accuracy: 0.8618\n",
      "Epoch 176/200\n",
      "250/250 [==============================] - 0s 780us/step - loss: 0.3446 - accuracy: 0.8650\n",
      "Epoch 177/200\n",
      "250/250 [==============================] - 0s 900us/step - loss: 0.3301 - accuracy: 0.8725\n",
      "Epoch 178/200\n",
      "250/250 [==============================] - 0s 839us/step - loss: 0.3822 - accuracy: 0.8413\n",
      "Epoch 179/200\n",
      "250/250 [==============================] - 0s 1ms/step - loss: 0.3584 - accuracy: 0.8570\n",
      "Epoch 180/200\n",
      "250/250 [==============================] - 0s 1ms/step - loss: 0.3443 - accuracy: 0.8556\n",
      "Epoch 181/200\n",
      "250/250 [==============================] - 0s 1ms/step - loss: 0.3305 - accuracy: 0.8623\n",
      "Epoch 182/200\n",
      "250/250 [==============================] - 0s 878us/step - loss: 0.3306 - accuracy: 0.8658\n",
      "Epoch 183/200\n",
      "250/250 [==============================] - 0s 829us/step - loss: 0.3274 - accuracy: 0.8688\n",
      "Epoch 184/200\n",
      "250/250 [==============================] - 0s 962us/step - loss: 0.3216 - accuracy: 0.8664\n",
      "Epoch 185/200\n",
      "250/250 [==============================] - 0s 1ms/step - loss: 0.4196 - accuracy: 0.7830\n",
      "Epoch 186/200\n",
      "250/250 [==============================] - 0s 1ms/step - loss: 0.3290 - accuracy: 0.8711\n",
      "Epoch 187/200\n",
      "250/250 [==============================] - 0s 921us/step - loss: 0.3354 - accuracy: 0.8634\n",
      "Epoch 188/200\n",
      "250/250 [==============================] - 0s 776us/step - loss: 0.3227 - accuracy: 0.8669\n",
      "Epoch 189/200\n",
      "250/250 [==============================] - 0s 781us/step - loss: 0.3302 - accuracy: 0.8632\n",
      "Epoch 190/200\n",
      "250/250 [==============================] - 0s 949us/step - loss: 0.3296 - accuracy: 0.8664\n",
      "Epoch 191/200\n",
      "250/250 [==============================] - 0s 1ms/step - loss: 0.3408 - accuracy: 0.8674\n",
      "Epoch 192/200\n",
      "250/250 [==============================] - 0s 1ms/step - loss: 0.3466 - accuracy: 0.8571\n",
      "Epoch 193/200\n",
      "250/250 [==============================] - 0s 854us/step - loss: 0.3439 - accuracy: 0.8615\n",
      "Epoch 194/200\n",
      "250/250 [==============================] - 0s 811us/step - loss: 0.3507 - accuracy: 0.8669\n",
      "Epoch 195/200\n",
      "250/250 [==============================] - 0s 898us/step - loss: 0.4264 - accuracy: 0.7780\n",
      "Epoch 196/200\n",
      "250/250 [==============================] - 0s 1ms/step - loss: 0.3541 - accuracy: 0.8640\n",
      "Epoch 197/200\n",
      "250/250 [==============================] - 0s 1ms/step - loss: 0.3365 - accuracy: 0.8637\n",
      "Epoch 198/200\n",
      "250/250 [==============================] - 0s 1ms/step - loss: 0.3388 - accuracy: 0.8651\n",
      "Epoch 199/200\n",
      "250/250 [==============================] - 0s 879us/step - loss: 0.3392 - accuracy: 0.8578\n",
      "Epoch 200/200\n",
      "250/250 [==============================] - 0s 887us/step - loss: 0.7858 - accuracy: 0.4435\n"
     ]
    },
    {
     "data": {
      "text/plain": [
       "<tensorflow.python.keras.callbacks.History at 0x1aa689f48b0>"
      ]
     },
     "execution_count": 14,
     "metadata": {},
     "output_type": "execute_result"
    }
   ],
   "source": [
    "ann.fit(X_train, y_train, batch_size = 32, epochs = 200)"
   ]
  },
  {
   "cell_type": "markdown",
   "metadata": {},
   "source": [
    "# Parte 3 - Fazendo predições e avaliando o modelo\n",
    "\n",
    "## Prevendo os resultados com o conjunto de testes"
   ]
  },
  {
   "cell_type": "code",
   "execution_count": 15,
   "metadata": {},
   "outputs": [
    {
     "data": {
      "text/plain": [
       "array([[0.3158701 ],\n",
       "       [0.4243134 ],\n",
       "       [0.31844884],\n",
       "       ...,\n",
       "       [0.4163412 ],\n",
       "       [0.29296577],\n",
       "       [0.33704594]], dtype=float32)"
      ]
     },
     "execution_count": 15,
     "metadata": {},
     "output_type": "execute_result"
    }
   ],
   "source": [
    "y_pred = ann.predict(X_test)\n",
    "y_pred"
   ]
  },
  {
   "cell_type": "code",
   "execution_count": 16,
   "metadata": {},
   "outputs": [
    {
     "data": {
      "text/plain": [
       "array([[False],\n",
       "       [False],\n",
       "       [False],\n",
       "       ...,\n",
       "       [False],\n",
       "       [False],\n",
       "       [False]])"
      ]
     },
     "execution_count": 16,
     "metadata": {},
     "output_type": "execute_result"
    }
   ],
   "source": [
    "y_pred = (y_pred > 0.5)\n",
    "y_pred"
   ]
  },
  {
   "cell_type": "markdown",
   "metadata": {},
   "source": [
    "# Criando uma Confusion Matrix"
   ]
  },
  {
   "cell_type": "code",
   "execution_count": 17,
   "metadata": {},
   "outputs": [
    {
     "name": "stdout",
     "output_type": "stream",
     "text": [
      "[[1505   90]\n",
      " [ 194  211]]\n"
     ]
    }
   ],
   "source": [
    "from sklearn.metrics import confusion_matrix\n",
    "cm = confusion_matrix(y_test, y_pred)\n",
    "print(cm)"
   ]
  },
  {
   "cell_type": "markdown",
   "metadata": {},
   "source": [
    "# FIM"
   ]
  },
  {
   "cell_type": "markdown",
   "metadata": {},
   "source": [
    "> Professor Diego Dorgam  \n",
    "> [@diegodorgam](https://twitter.com/diegodorgam)"
   ]
  }
 ],
 "metadata": {
  "kernelspec": {
   "display_name": "Python 3",
   "language": "python",
   "name": "python3"
  },
  "language_info": {
   "codemirror_mode": {
    "name": "ipython",
    "version": 3
   },
   "file_extension": ".py",
   "mimetype": "text/x-python",
   "name": "python",
   "nbconvert_exporter": "python",
   "pygments_lexer": "ipython3",
   "version": "3.8.5"
  }
 },
 "nbformat": 4,
 "nbformat_minor": 4
}
