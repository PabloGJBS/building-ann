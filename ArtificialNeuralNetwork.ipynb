{
 "cells": [
  {
   "cell_type": "markdown",
   "metadata": {},
   "source": [
    "# REDES NEURAIS ARTIFICIAIS\n",
    "\n",
    "[Aula 3 de Deep Learning](http://bit.ly/dn-unb03) da Engenharia de Software da UnB"
   ]
  },
  {
   "cell_type": "code",
   "execution_count": 10,
   "metadata": {},
   "outputs": [
    {
     "name": "stdout",
     "output_type": "stream",
     "text": [
      "Collecting git+git://github.com/Theano/Theano.git\n",
      "  Cloning git://github.com/Theano/Theano.git to /tmp/pip-req-build-yg28slel\n",
      "  Running command git clone -q git://github.com/Theano/Theano.git /tmp/pip-req-build-yg28slel\n",
      "Building wheels for collected packages: Theano\n",
      "  Building wheel for Theano (setup.py) ... \u001b[?25ldone\n",
      "\u001b[?25h  Created wheel for Theano: filename=Theano-1.0.4+21.g8f510a1-cp35-none-any.whl size=2667468 sha256=1bc0e174abbfa8dc518300a78cdb5f7df6951377534daaee6ca3768461d1f3f5\n",
      "  Stored in directory: /tmp/pip-ephem-wheel-cache-funqt_j_/wheels/ae/32/7c/62beb8371953eb20c271b3bac7d0e56e1a2020d46994346b52\n",
      "Successfully built Theano\n",
      "Installing collected packages: Theano\n",
      "  Found existing installation: Theano 1.0.4+21.g8f510a1\n",
      "    Uninstalling Theano-1.0.4+21.g8f510a1:\n",
      "      Successfully uninstalled Theano-1.0.4+21.g8f510a1\n",
      "Successfully installed Theano-1.0.4+21.g8f510a1\n",
      "Requirement already up-to-date: tensorflow in /home/guiz/unb/dl-unb/dl-unb/lib/python3.5/site-packages (1.14.0)\n",
      "Requirement already satisfied, skipping upgrade: protobuf>=3.6.1 in /home/guiz/unb/dl-unb/dl-unb/lib/python3.5/site-packages (from tensorflow) (3.9.2)\n",
      "Requirement already satisfied, skipping upgrade: google-pasta>=0.1.6 in /home/guiz/unb/dl-unb/dl-unb/lib/python3.5/site-packages (from tensorflow) (0.1.7)\n",
      "Requirement already satisfied, skipping upgrade: wrapt>=1.11.1 in /home/guiz/unb/dl-unb/dl-unb/lib/python3.5/site-packages (from tensorflow) (1.11.2)\n",
      "Requirement already satisfied, skipping upgrade: absl-py>=0.7.0 in /home/guiz/unb/dl-unb/dl-unb/lib/python3.5/site-packages (from tensorflow) (0.8.0)\n",
      "Requirement already satisfied, skipping upgrade: wheel>=0.26 in /home/guiz/unb/dl-unb/dl-unb/lib/python3.5/site-packages (from tensorflow) (0.33.6)\n",
      "Requirement already satisfied, skipping upgrade: tensorboard<1.15.0,>=1.14.0 in /home/guiz/unb/dl-unb/dl-unb/lib/python3.5/site-packages (from tensorflow) (1.14.0)\n",
      "Requirement already satisfied, skipping upgrade: keras-applications>=1.0.6 in /home/guiz/unb/dl-unb/dl-unb/lib/python3.5/site-packages (from tensorflow) (1.0.8)\n",
      "Requirement already satisfied, skipping upgrade: numpy<2.0,>=1.14.5 in /home/guiz/unb/dl-unb/dl-unb/lib/python3.5/site-packages (from tensorflow) (1.17.2)\n",
      "Requirement already satisfied, skipping upgrade: gast>=0.2.0 in /home/guiz/unb/dl-unb/dl-unb/lib/python3.5/site-packages (from tensorflow) (0.3.2)\n",
      "Requirement already satisfied, skipping upgrade: grpcio>=1.8.6 in /home/guiz/unb/dl-unb/dl-unb/lib/python3.5/site-packages (from tensorflow) (1.24.0)\n",
      "Requirement already satisfied, skipping upgrade: keras-preprocessing>=1.0.5 in /home/guiz/unb/dl-unb/dl-unb/lib/python3.5/site-packages (from tensorflow) (1.1.0)\n",
      "Requirement already satisfied, skipping upgrade: termcolor>=1.1.0 in /home/guiz/unb/dl-unb/dl-unb/lib/python3.5/site-packages (from tensorflow) (1.1.0)\n",
      "Requirement already satisfied, skipping upgrade: astor>=0.6.0 in /home/guiz/unb/dl-unb/dl-unb/lib/python3.5/site-packages (from tensorflow) (0.8.0)\n",
      "Requirement already satisfied, skipping upgrade: six>=1.10.0 in /home/guiz/unb/dl-unb/dl-unb/lib/python3.5/site-packages (from tensorflow) (1.12.0)\n",
      "Requirement already satisfied, skipping upgrade: tensorflow-estimator<1.15.0rc0,>=1.14.0rc0 in /home/guiz/unb/dl-unb/dl-unb/lib/python3.5/site-packages (from tensorflow) (1.14.0)\n",
      "Requirement already satisfied, skipping upgrade: setuptools in /home/guiz/unb/dl-unb/dl-unb/lib/python3.5/site-packages (from protobuf>=3.6.1->tensorflow) (41.2.0)\n",
      "Requirement already satisfied, skipping upgrade: markdown>=2.6.8 in /home/guiz/unb/dl-unb/dl-unb/lib/python3.5/site-packages (from tensorboard<1.15.0,>=1.14.0->tensorflow) (3.1.1)\n",
      "Requirement already satisfied, skipping upgrade: werkzeug>=0.11.15 in /home/guiz/unb/dl-unb/dl-unb/lib/python3.5/site-packages (from tensorboard<1.15.0,>=1.14.0->tensorflow) (0.16.0)\n",
      "Requirement already satisfied, skipping upgrade: h5py in /home/guiz/unb/dl-unb/dl-unb/lib/python3.5/site-packages (from keras-applications>=1.0.6->tensorflow) (2.10.0)\n",
      "Requirement already up-to-date: keras in /home/guiz/unb/dl-unb/dl-unb/lib/python3.5/site-packages (2.3.0)\n",
      "Requirement already satisfied, skipping upgrade: keras-applications>=1.0.6 in /home/guiz/unb/dl-unb/dl-unb/lib/python3.5/site-packages (from keras) (1.0.8)\n",
      "Requirement already satisfied, skipping upgrade: keras-preprocessing>=1.0.5 in /home/guiz/unb/dl-unb/dl-unb/lib/python3.5/site-packages (from keras) (1.1.0)\n",
      "Requirement already satisfied, skipping upgrade: numpy>=1.9.1 in /home/guiz/unb/dl-unb/dl-unb/lib/python3.5/site-packages (from keras) (1.17.2)\n",
      "Requirement already satisfied, skipping upgrade: six>=1.9.0 in /home/guiz/unb/dl-unb/dl-unb/lib/python3.5/site-packages (from keras) (1.12.0)\n",
      "Requirement already satisfied, skipping upgrade: pyyaml in /home/guiz/unb/dl-unb/dl-unb/lib/python3.5/site-packages (from keras) (5.1.2)\n",
      "Requirement already satisfied, skipping upgrade: h5py in /home/guiz/unb/dl-unb/dl-unb/lib/python3.5/site-packages (from keras) (2.10.0)\n",
      "Requirement already satisfied, skipping upgrade: scipy>=0.14 in /home/guiz/unb/dl-unb/dl-unb/lib/python3.5/site-packages (from keras) (1.3.1)\n",
      "Requirement already up-to-date: pip in /home/guiz/unb/dl-unb/dl-unb/lib/python3.5/site-packages (19.2.3)\n",
      "Requirement already up-to-date: pandas in /home/guiz/unb/dl-unb/dl-unb/lib/python3.5/site-packages (0.24.2)\n",
      "Requirement already up-to-date: numpy in /home/guiz/unb/dl-unb/dl-unb/lib/python3.5/site-packages (1.17.2)\n",
      "Requirement already up-to-date: matplotlib in /home/guiz/unb/dl-unb/dl-unb/lib/python3.5/site-packages (3.0.3)\n",
      "Requirement already up-to-date: sklearn in /home/guiz/unb/dl-unb/dl-unb/lib/python3.5/site-packages (0.0)\n",
      "Requirement already satisfied, skipping upgrade: python-dateutil>=2.5.0 in /home/guiz/unb/dl-unb/dl-unb/lib/python3.5/site-packages (from pandas) (2.8.0)\n",
      "Requirement already satisfied, skipping upgrade: pytz>=2011k in /home/guiz/unb/dl-unb/dl-unb/lib/python3.5/site-packages (from pandas) (2019.2)\n",
      "Requirement already satisfied, skipping upgrade: cycler>=0.10 in /home/guiz/unb/dl-unb/dl-unb/lib/python3.5/site-packages (from matplotlib) (0.10.0)\n",
      "Requirement already satisfied, skipping upgrade: pyparsing!=2.0.4,!=2.1.2,!=2.1.6,>=2.0.1 in /home/guiz/unb/dl-unb/dl-unb/lib/python3.5/site-packages (from matplotlib) (2.4.2)\n",
      "Requirement already satisfied, skipping upgrade: kiwisolver>=1.0.1 in /home/guiz/unb/dl-unb/dl-unb/lib/python3.5/site-packages (from matplotlib) (1.1.0)\n",
      "Requirement already satisfied, skipping upgrade: scikit-learn in /home/guiz/unb/dl-unb/dl-unb/lib/python3.5/site-packages (from sklearn) (0.21.3)\n",
      "Requirement already satisfied, skipping upgrade: six>=1.5 in /home/guiz/unb/dl-unb/dl-unb/lib/python3.5/site-packages (from python-dateutil>=2.5.0->pandas) (1.12.0)\n",
      "Requirement already satisfied, skipping upgrade: setuptools in /home/guiz/unb/dl-unb/dl-unb/lib/python3.5/site-packages (from kiwisolver>=1.0.1->matplotlib) (41.2.0)\n",
      "Requirement already satisfied, skipping upgrade: joblib>=0.11 in /home/guiz/unb/dl-unb/dl-unb/lib/python3.5/site-packages (from scikit-learn->sklearn) (0.13.2)\n",
      "Requirement already satisfied, skipping upgrade: scipy>=0.17.0 in /home/guiz/unb/dl-unb/dl-unb/lib/python3.5/site-packages (from scikit-learn->sklearn) (1.3.1)\n"
     ]
    }
   ],
   "source": [
    "# Installing Theano\n",
    "! pip install --upgrade --no-deps git+git://github.com/Theano/Theano.git\n",
    "\n",
    "# Installing Tensorflow\n",
    "! pip install --upgrade tensorflow\n",
    "\n",
    "# Installing Keras\n",
    "! pip install --upgrade keras\n",
    "\n",
    "# Install other packages\n",
    "! pip install --upgrade pip pandas numpy matplotlib sklearn"
   ]
  },
  {
   "cell_type": "markdown",
   "metadata": {},
   "source": [
    "# Parte 1 - Preprocessamento dos Dados"
   ]
  },
  {
   "cell_type": "markdown",
   "metadata": {},
   "source": [
    "### Importar as libs"
   ]
  },
  {
   "cell_type": "code",
   "execution_count": 11,
   "metadata": {},
   "outputs": [],
   "source": [
    "import numpy as np\n",
    "import matplotlib.pyplot as plt\n",
    "import pandas as pd"
   ]
  },
  {
   "cell_type": "markdown",
   "metadata": {},
   "source": [
    "### Importar o dataset"
   ]
  },
  {
   "cell_type": "code",
   "execution_count": 12,
   "metadata": {},
   "outputs": [
    {
     "name": "stdout",
     "output_type": "stream",
     "text": [
      "X >>\n",
      " [[619 'France' 'Female' ... 1 1 101348.88]\n",
      " [608 'Spain' 'Female' ... 0 1 112542.58]\n",
      " [502 'France' 'Female' ... 1 0 113931.57]\n",
      " ...\n",
      " [709 'France' 'Female' ... 0 1 42085.58]\n",
      " [772 'Germany' 'Male' ... 1 0 92888.52]\n",
      " [792 'France' 'Female' ... 1 0 38190.78]]\n",
      "y >>\n",
      " [1 0 1 ... 1 1 0]\n"
     ]
    }
   ],
   "source": [
    "dataset = pd.read_csv('Churn_Modelling.csv')\n",
    "X = dataset.iloc[:, 3:13].values\n",
    "y = dataset.iloc[:, 13].values\n",
    "print(\"X >>\\n\",X)\n",
    "print(\"y >>\\n\",y)"
   ]
  },
  {
   "cell_type": "markdown",
   "metadata": {},
   "source": [
    "### Transformando os dados categóricos\n"
   ]
  },
  {
   "cell_type": "code",
   "execution_count": 21,
   "metadata": {},
   "outputs": [
    {
     "name": "stdout",
     "output_type": "stream",
     "text": [
      "X >>\n",
      " [[0.0000000e+00 0.0000000e+00 6.1900000e+02 ... 1.0000000e+00\n",
      "  1.0000000e+00 1.0134888e+05]\n",
      " [0.0000000e+00 1.0000000e+00 6.0800000e+02 ... 0.0000000e+00\n",
      "  1.0000000e+00 1.1254258e+05]\n",
      " [0.0000000e+00 0.0000000e+00 5.0200000e+02 ... 1.0000000e+00\n",
      "  0.0000000e+00 1.1393157e+05]\n",
      " ...\n",
      " [0.0000000e+00 0.0000000e+00 7.0900000e+02 ... 0.0000000e+00\n",
      "  1.0000000e+00 4.2085580e+04]\n",
      " [1.0000000e+00 0.0000000e+00 7.7200000e+02 ... 1.0000000e+00\n",
      "  0.0000000e+00 9.2888520e+04]\n",
      " [0.0000000e+00 0.0000000e+00 7.9200000e+02 ... 1.0000000e+00\n",
      "  0.0000000e+00 3.8190780e+04]]\n"
     ]
    },
    {
     "name": "stderr",
     "output_type": "stream",
     "text": [
      "/home/guiz/unb/dl-unb/dl-unb/lib/python3.5/site-packages/sklearn/preprocessing/_encoders.py:415: FutureWarning: The handling of integer data will change in version 0.22. Currently, the categories are determined based on the range [0, max(values)], while in the future they will be determined based on the unique values.\n",
      "If you want the future behaviour and silence this warning, you can specify \"categories='auto'\".\n",
      "In case you used a LabelEncoder before this OneHotEncoder to convert the categories to integers, then you can now use the OneHotEncoder directly.\n",
      "  warnings.warn(msg, FutureWarning)\n",
      "/home/guiz/unb/dl-unb/dl-unb/lib/python3.5/site-packages/sklearn/preprocessing/_encoders.py:451: DeprecationWarning: The 'categorical_features' keyword is deprecated in version 0.20 and will be removed in 0.22. You can use the ColumnTransformer instead.\n",
      "  \"use the ColumnTransformer instead.\", DeprecationWarning)\n"
     ]
    }
   ],
   "source": [
    "from sklearn.preprocessing import LabelEncoder, OneHotEncoder\n",
    "labelencoder_X_1 = LabelEncoder()\n",
    "X[:, 1] = labelencoder_X_1.fit_transform(X[:, 1])\n",
    "labelencoder_X_2 = LabelEncoder()\n",
    "X[:, 2] = labelencoder_X_2.fit_transform(X[:, 2])\n",
    "onehotencoder = OneHotEncoder(categorical_features = [1])\n",
    "X = onehotencoder.fit_transform(X).toarray()\n",
    "X = X[:, 1:]\n",
    "print(\"X >>\\n\",X)"
   ]
  },
  {
   "cell_type": "markdown",
   "metadata": {},
   "source": [
    "# Dividindo o dataset em conjunto de treinamento e conjunto de teste"
   ]
  },
  {
   "cell_type": "code",
   "execution_count": 22,
   "metadata": {},
   "outputs": [],
   "source": [
    "from sklearn.model_selection import train_test_split\n",
    "X_train, X_test, y_train, y_test = train_test_split(X, y, test_size = 0.2, random_state = 0)"
   ]
  },
  {
   "cell_type": "markdown",
   "metadata": {},
   "source": [
    "# Feature Scaling"
   ]
  },
  {
   "cell_type": "code",
   "execution_count": 23,
   "metadata": {},
   "outputs": [],
   "source": [
    "from sklearn.preprocessing import StandardScaler\n",
    "sc = StandardScaler()\n",
    "X_train = sc.fit_transform(X_train)\n",
    "X_test = sc.transform(X_test)"
   ]
  },
  {
   "cell_type": "markdown",
   "metadata": {},
   "source": [
    "---\n",
    "# Parte 2 -Vamos construir uma ANN!\n",
    "\n",
    "## Importando o Keras\n"
   ]
  },
  {
   "cell_type": "code",
   "execution_count": 24,
   "metadata": {},
   "outputs": [],
   "source": [
    "import keras\n",
    "from keras.models import Sequential\n",
    "from keras.layers import Dense"
   ]
  },
  {
   "cell_type": "code",
   "execution_count": 25,
   "metadata": {},
   "outputs": [],
   "source": [
    "# Initialising the ANN\n",
    "classifier = Sequential()\n",
    "\n",
    "# Adding the input layer and the first hidden layer\n",
    "classifier.add(Dense(units = 6, kernel_initializer = 'uniform', activation = 'relu', input_dim = 11))\n",
    "\n",
    "# Adding the second hidden layer\n",
    "classifier.add(Dense(units = 6, kernel_initializer = 'uniform', activation = 'relu'))\n",
    "\n",
    "# Adding the output layer\n",
    "classifier.add(Dense(units = 1, kernel_initializer = 'uniform', activation = 'softsign'))\n",
    "\n",
    "# Compiling the ANN\n",
    "classifier.compile(optimizer = 'adam', loss = 'binary_crossentropy', metrics = ['accuracy'])"
   ]
  },
  {
   "cell_type": "markdown",
   "metadata": {},
   "source": [
    "# Ajustando a ANN ao conjunto de treinamento"
   ]
  },
  {
   "cell_type": "code",
   "execution_count": 26,
   "metadata": {},
   "outputs": [
    {
     "name": "stdout",
     "output_type": "stream",
     "text": [
      "Epoch 1/100\n",
      "8000/8000 [==============================] - 1s 121us/step - loss: 3.1467 - accuracy: 0.7960\n",
      "Epoch 2/100\n",
      "8000/8000 [==============================] - 1s 106us/step - loss: 3.1467 - accuracy: 0.7960\n",
      "Epoch 3/100\n",
      "8000/8000 [==============================] - 1s 105us/step - loss: 3.1467 - accuracy: 0.7960\n",
      "Epoch 4/100\n",
      "8000/8000 [==============================] - 1s 116us/step - loss: 3.1467 - accuracy: 0.7960\n",
      "Epoch 5/100\n",
      "8000/8000 [==============================] - 1s 154us/step - loss: 3.1467 - accuracy: 0.7960\n",
      "Epoch 6/100\n",
      "8000/8000 [==============================] - 1s 114us/step - loss: 3.1467 - accuracy: 0.7960\n",
      "Epoch 7/100\n",
      "8000/8000 [==============================] - 1s 114us/step - loss: 3.1467 - accuracy: 0.79600s - loss: 3.1481 \n",
      "Epoch 8/100\n",
      "8000/8000 [==============================] - 1s 122us/step - loss: 3.1467 - accuracy: 0.7960\n",
      "Epoch 9/100\n",
      "8000/8000 [==============================] - 1s 108us/step - loss: 3.1467 - accuracy: 0.7960\n",
      "Epoch 10/100\n",
      "8000/8000 [==============================] - 1s 109us/step - loss: 3.1467 - accuracy: 0.7960\n",
      "Epoch 11/100\n",
      "8000/8000 [==============================] - 1s 139us/step - loss: 3.1467 - accuracy: 0.7960\n",
      "Epoch 12/100\n",
      "8000/8000 [==============================] - 1s 139us/step - loss: 3.1467 - accuracy: 0.7960\n",
      "Epoch 13/100\n",
      "8000/8000 [==============================] - 1s 110us/step - loss: 3.1467 - accuracy: 0.7960\n",
      "Epoch 14/100\n",
      "8000/8000 [==============================] - 1s 111us/step - loss: 3.1467 - accuracy: 0.7960\n",
      "Epoch 15/100\n",
      "8000/8000 [==============================] - 1s 117us/step - loss: 3.1467 - accuracy: 0.7960\n",
      "Epoch 16/100\n",
      "8000/8000 [==============================] - 1s 133us/step - loss: 3.1467 - accuracy: 0.7960\n",
      "Epoch 17/100\n",
      "8000/8000 [==============================] - 1s 128us/step - loss: 3.1467 - accuracy: 0.7960\n",
      "Epoch 18/100\n",
      "8000/8000 [==============================] - 1s 113us/step - loss: 3.1467 - accuracy: 0.7960\n",
      "Epoch 19/100\n",
      "8000/8000 [==============================] - 1s 115us/step - loss: 3.1467 - accuracy: 0.7960\n",
      "Epoch 20/100\n",
      "8000/8000 [==============================] - 1s 125us/step - loss: 3.1467 - accuracy: 0.7960\n",
      "Epoch 21/100\n",
      "8000/8000 [==============================] - 1s 103us/step - loss: 3.1467 - accuracy: 0.7960\n",
      "Epoch 22/100\n",
      "8000/8000 [==============================] - 1s 110us/step - loss: 3.1467 - accuracy: 0.7960\n",
      "Epoch 23/100\n",
      "8000/8000 [==============================] - 1s 114us/step - loss: 3.1467 - accuracy: 0.7960\n",
      "Epoch 24/100\n",
      "8000/8000 [==============================] - 1s 106us/step - loss: 3.1467 - accuracy: 0.7960\n",
      "Epoch 25/100\n",
      "8000/8000 [==============================] - 1s 106us/step - loss: 3.1467 - accuracy: 0.7960\n",
      "Epoch 26/100\n",
      "8000/8000 [==============================] - 1s 106us/step - loss: 3.1467 - accuracy: 0.7960\n",
      "Epoch 27/100\n",
      "8000/8000 [==============================] - 1s 155us/step - loss: 3.1467 - accuracy: 0.7960\n",
      "Epoch 28/100\n",
      "8000/8000 [==============================] - 1s 169us/step - loss: 3.1467 - accuracy: 0.7960\n",
      "Epoch 29/100\n",
      "8000/8000 [==============================] - 1s 138us/step - loss: 3.1467 - accuracy: 0.7960\n",
      "Epoch 30/100\n",
      "8000/8000 [==============================] - 1s 111us/step - loss: 3.1467 - accuracy: 0.7960\n",
      "Epoch 31/100\n",
      "8000/8000 [==============================] - 1s 148us/step - loss: 3.1467 - accuracy: 0.7960\n",
      "Epoch 32/100\n",
      "8000/8000 [==============================] - 1s 158us/step - loss: 3.1467 - accuracy: 0.7960\n",
      "Epoch 33/100\n",
      "8000/8000 [==============================] - 1s 111us/step - loss: 3.1467 - accuracy: 0.7960\n",
      "Epoch 34/100\n",
      "8000/8000 [==============================] - 1s 120us/step - loss: 3.1467 - accuracy: 0.7960\n",
      "Epoch 35/100\n",
      "8000/8000 [==============================] - 1s 119us/step - loss: 3.1467 - accuracy: 0.7960\n",
      "Epoch 36/100\n",
      "8000/8000 [==============================] - 1s 129us/step - loss: 3.1467 - accuracy: 0.7960\n",
      "Epoch 37/100\n",
      "8000/8000 [==============================] - 1s 120us/step - loss: 3.1467 - accuracy: 0.7960\n",
      "Epoch 38/100\n",
      "8000/8000 [==============================] - 1s 108us/step - loss: 3.1467 - accuracy: 0.7960\n",
      "Epoch 39/100\n",
      "8000/8000 [==============================] - 1s 110us/step - loss: 3.1467 - accuracy: 0.7960\n",
      "Epoch 40/100\n",
      "8000/8000 [==============================] - 1s 110us/step - loss: 3.1467 - accuracy: 0.7960\n",
      "Epoch 41/100\n",
      "8000/8000 [==============================] - 1s 154us/step - loss: 3.1467 - accuracy: 0.7960\n",
      "Epoch 42/100\n",
      "8000/8000 [==============================] - 1s 113us/step - loss: 3.1467 - accuracy: 0.7960\n",
      "Epoch 43/100\n",
      "8000/8000 [==============================] - 1s 114us/step - loss: 3.1467 - accuracy: 0.7960\n",
      "Epoch 44/100\n",
      "8000/8000 [==============================] - 1s 117us/step - loss: 3.1467 - accuracy: 0.7960\n",
      "Epoch 45/100\n",
      "8000/8000 [==============================] - 1s 153us/step - loss: 3.1467 - accuracy: 0.7960\n",
      "Epoch 46/100\n",
      "8000/8000 [==============================] - 1s 138us/step - loss: 3.1467 - accuracy: 0.7960\n",
      "Epoch 47/100\n",
      "8000/8000 [==============================] - 1s 119us/step - loss: 3.1467 - accuracy: 0.7960\n",
      "Epoch 48/100\n",
      "8000/8000 [==============================] - 1s 108us/step - loss: 3.1467 - accuracy: 0.7960\n",
      "Epoch 49/100\n",
      "8000/8000 [==============================] - 1s 92us/step - loss: 3.1467 - accuracy: 0.7960\n",
      "Epoch 50/100\n",
      "8000/8000 [==============================] - 1s 114us/step - loss: 3.1467 - accuracy: 0.7960\n",
      "Epoch 51/100\n",
      "8000/8000 [==============================] - 1s 83us/step - loss: 3.1467 - accuracy: 0.7960\n",
      "Epoch 52/100\n",
      "8000/8000 [==============================] - 1s 92us/step - loss: 3.1467 - accuracy: 0.7960\n",
      "Epoch 53/100\n",
      "8000/8000 [==============================] - 1s 94us/step - loss: 3.1467 - accuracy: 0.7960\n",
      "Epoch 54/100\n",
      "8000/8000 [==============================] - 1s 87us/step - loss: 3.1467 - accuracy: 0.7960\n",
      "Epoch 55/100\n",
      "8000/8000 [==============================] - 1s 101us/step - loss: 3.1467 - accuracy: 0.7960\n",
      "Epoch 56/100\n",
      "8000/8000 [==============================] - 1s 86us/step - loss: 3.1467 - accuracy: 0.7960\n",
      "Epoch 57/100\n",
      "8000/8000 [==============================] - 1s 87us/step - loss: 3.1467 - accuracy: 0.7960\n",
      "Epoch 58/100\n",
      "8000/8000 [==============================] - 1s 117us/step - loss: 3.1467 - accuracy: 0.7960\n",
      "Epoch 59/100\n",
      "8000/8000 [==============================] - 1s 157us/step - loss: 3.1467 - accuracy: 0.7960\n",
      "Epoch 60/100\n",
      "8000/8000 [==============================] - 1s 120us/step - loss: 3.1467 - accuracy: 0.7960\n",
      "Epoch 61/100\n",
      "8000/8000 [==============================] - 1s 103us/step - loss: 3.1467 - accuracy: 0.7960\n",
      "Epoch 62/100\n",
      "8000/8000 [==============================] - 1s 86us/step - loss: 3.1467 - accuracy: 0.7960\n",
      "Epoch 63/100\n",
      "8000/8000 [==============================] - 1s 97us/step - loss: 3.1467 - accuracy: 0.7960\n",
      "Epoch 64/100\n",
      "8000/8000 [==============================] - 1s 100us/step - loss: 3.1467 - accuracy: 0.7960\n",
      "Epoch 65/100\n",
      "8000/8000 [==============================] - 1s 85us/step - loss: 3.1467 - accuracy: 0.7960\n",
      "Epoch 66/100\n",
      "8000/8000 [==============================] - 1s 85us/step - loss: 3.1467 - accuracy: 0.7960\n",
      "Epoch 67/100\n",
      "8000/8000 [==============================] - 1s 91us/step - loss: 3.1467 - accuracy: 0.7960\n",
      "Epoch 68/100\n",
      "8000/8000 [==============================] - 1s 89us/step - loss: 3.1467 - accuracy: 0.7960\n",
      "Epoch 69/100\n",
      "8000/8000 [==============================] - 1s 110us/step - loss: 3.1467 - accuracy: 0.7960\n",
      "Epoch 70/100\n",
      "8000/8000 [==============================] - 1s 90us/step - loss: 3.1467 - accuracy: 0.7960\n",
      "Epoch 71/100\n",
      "8000/8000 [==============================] - 1s 96us/step - loss: 3.1467 - accuracy: 0.7960\n",
      "Epoch 72/100\n",
      "8000/8000 [==============================] - 1s 91us/step - loss: 3.1467 - accuracy: 0.7960\n",
      "Epoch 73/100\n",
      "8000/8000 [==============================] - 1s 101us/step - loss: 3.1467 - accuracy: 0.7960\n",
      "Epoch 74/100\n",
      "8000/8000 [==============================] - 1s 87us/step - loss: 3.1467 - accuracy: 0.7960\n",
      "Epoch 75/100\n",
      "8000/8000 [==============================] - 1s 87us/step - loss: 3.1467 - accuracy: 0.7960\n",
      "Epoch 76/100\n",
      "8000/8000 [==============================] - 1s 86us/step - loss: 3.1467 - accuracy: 0.7960\n",
      "Epoch 77/100\n",
      "8000/8000 [==============================] - 1s 88us/step - loss: 3.1467 - accuracy: 0.7960\n",
      "Epoch 78/100\n"
     ]
    },
    {
     "name": "stdout",
     "output_type": "stream",
     "text": [
      "8000/8000 [==============================] - 1s 88us/step - loss: 3.1467 - accuracy: 0.7960\n",
      "Epoch 79/100\n",
      "8000/8000 [==============================] - 1s 87us/step - loss: 3.1467 - accuracy: 0.7960\n",
      "Epoch 80/100\n",
      "8000/8000 [==============================] - 1s 86us/step - loss: 3.1467 - accuracy: 0.7960\n",
      "Epoch 81/100\n",
      "8000/8000 [==============================] - 1s 86us/step - loss: 3.1467 - accuracy: 0.7960\n",
      "Epoch 82/100\n",
      "8000/8000 [==============================] - 1s 85us/step - loss: 3.1467 - accuracy: 0.7960\n",
      "Epoch 83/100\n",
      "8000/8000 [==============================] - 1s 86us/step - loss: 3.1467 - accuracy: 0.7960\n",
      "Epoch 84/100\n",
      "8000/8000 [==============================] - 1s 90us/step - loss: 3.1467 - accuracy: 0.7960\n",
      "Epoch 85/100\n",
      "8000/8000 [==============================] - 1s 120us/step - loss: 3.1467 - accuracy: 0.7960\n",
      "Epoch 86/100\n",
      "8000/8000 [==============================] - 1s 150us/step - loss: 3.1467 - accuracy: 0.7960\n",
      "Epoch 87/100\n",
      "8000/8000 [==============================] - 1s 130us/step - loss: 3.1467 - accuracy: 0.7960\n",
      "Epoch 88/100\n",
      "8000/8000 [==============================] - 1s 128us/step - loss: 3.1467 - accuracy: 0.7960\n",
      "Epoch 89/100\n",
      "8000/8000 [==============================] - 1s 106us/step - loss: 3.1467 - accuracy: 0.7960\n",
      "Epoch 90/100\n",
      "8000/8000 [==============================] - 1s 109us/step - loss: 3.1467 - accuracy: 0.7960\n",
      "Epoch 91/100\n",
      "8000/8000 [==============================] - 1s 118us/step - loss: 3.1467 - accuracy: 0.7960\n",
      "Epoch 92/100\n",
      "8000/8000 [==============================] - 1s 126us/step - loss: 3.1467 - accuracy: 0.7960\n",
      "Epoch 93/100\n",
      "8000/8000 [==============================] - 1s 106us/step - loss: 3.1467 - accuracy: 0.7960\n",
      "Epoch 94/100\n",
      "8000/8000 [==============================] - 1s 103us/step - loss: 3.1467 - accuracy: 0.7960\n",
      "Epoch 95/100\n",
      "8000/8000 [==============================] - 1s 129us/step - loss: 3.1467 - accuracy: 0.7960\n",
      "Epoch 96/100\n",
      "8000/8000 [==============================] - 1s 113us/step - loss: 3.1467 - accuracy: 0.7960\n",
      "Epoch 97/100\n",
      "8000/8000 [==============================] - 1s 114us/step - loss: 3.1467 - accuracy: 0.7960\n",
      "Epoch 98/100\n",
      "8000/8000 [==============================] - 1s 106us/step - loss: 3.1467 - accuracy: 0.7960\n",
      "Epoch 99/100\n",
      "8000/8000 [==============================] - 1s 119us/step - loss: 3.1467 - accuracy: 0.7960\n",
      "Epoch 100/100\n",
      "8000/8000 [==============================] - 1s 132us/step - loss: 3.1467 - accuracy: 0.7960\n"
     ]
    },
    {
     "data": {
      "text/plain": [
       "<keras.callbacks.callbacks.History at 0x7fa30c092828>"
      ]
     },
     "execution_count": 26,
     "metadata": {},
     "output_type": "execute_result"
    }
   ],
   "source": [
    "classifier.fit(X_train, y_train, batch_size = 10, epochs = 100)"
   ]
  },
  {
   "cell_type": "markdown",
   "metadata": {},
   "source": [
    "# Parte 3 - Fazendo predições e avaliando o modelo\n",
    "\n",
    "## Prevendo os resultados com o conjunto de testes"
   ]
  },
  {
   "cell_type": "code",
   "execution_count": 27,
   "metadata": {},
   "outputs": [],
   "source": [
    "y_pred = classifier.predict(X_test)\n",
    "y_pred = (y_pred > 0.5)"
   ]
  },
  {
   "cell_type": "markdown",
   "metadata": {},
   "source": [
    "# Criando uma Confusion Matrix"
   ]
  },
  {
   "cell_type": "code",
   "execution_count": 28,
   "metadata": {},
   "outputs": [
    {
     "name": "stdout",
     "output_type": "stream",
     "text": [
      "[[1595    0]\n",
      " [ 405    0]]\n"
     ]
    }
   ],
   "source": [
    "from sklearn.metrics import confusion_matrix\n",
    "cm = confusion_matrix(y_test, y_pred)\n",
    "print(cm)"
   ]
  },
  {
   "cell_type": "markdown",
   "metadata": {},
   "source": [
    "# Initiate activation function experimentation\n",
    "\n",
    "# Initialising the 2nd ANN"
   ]
  },
  {
   "cell_type": "code",
   "execution_count": 29,
   "metadata": {},
   "outputs": [
    {
     "name": "stdout",
     "output_type": "stream",
     "text": [
      "Epoch 1/100\n",
      "8000/8000 [==============================] - 1s 138us/step - loss: 0.5160 - accuracy: 0.7960\n",
      "Epoch 2/100\n",
      "8000/8000 [==============================] - 1s 129us/step - loss: 0.4901 - accuracy: 0.7960\n",
      "Epoch 3/100\n",
      "8000/8000 [==============================] - 1s 164us/step - loss: 0.4633 - accuracy: 0.7960\n",
      "Epoch 4/100\n",
      "8000/8000 [==============================] - 2s 197us/step - loss: 0.4421 - accuracy: 0.7960\n",
      "Epoch 5/100\n",
      "8000/8000 [==============================] - 1s 180us/step - loss: 0.4369 - accuracy: 0.7960\n",
      "Epoch 6/100\n",
      "8000/8000 [==============================] - 1s 151us/step - loss: 0.4373 - accuracy: 0.7960\n",
      "Epoch 7/100\n",
      "8000/8000 [==============================] - 2s 204us/step - loss: 0.4341 - accuracy: 0.7960\n",
      "Epoch 8/100\n",
      "8000/8000 [==============================] - 1s 138us/step - loss: 0.4329 - accuracy: 0.7960\n",
      "Epoch 9/100\n",
      "8000/8000 [==============================] - 1s 116us/step - loss: 0.4316 - accuracy: 0.7960\n",
      "Epoch 10/100\n",
      "8000/8000 [==============================] - 1s 124us/step - loss: 0.4314 - accuracy: 0.7960\n",
      "Epoch 11/100\n",
      "8000/8000 [==============================] - 1s 115us/step - loss: 0.4306 - accuracy: 0.7960\n",
      "Epoch 12/100\n",
      "8000/8000 [==============================] - 1s 117us/step - loss: 0.4394 - accuracy: 0.7960\n",
      "Epoch 13/100\n",
      "8000/8000 [==============================] - 1s 107us/step - loss: 0.4382 - accuracy: 0.7960\n",
      "Epoch 14/100\n",
      "8000/8000 [==============================] - 1s 126us/step - loss: 0.4332 - accuracy: 0.7960\n",
      "Epoch 15/100\n",
      "8000/8000 [==============================] - 1s 135us/step - loss: 0.4304 - accuracy: 0.7960\n",
      "Epoch 16/100\n",
      "8000/8000 [==============================] - 1s 128us/step - loss: 0.4290 - accuracy: 0.7960\n",
      "Epoch 17/100\n",
      "8000/8000 [==============================] - 1s 169us/step - loss: 0.4283 - accuracy: 0.7960\n",
      "Epoch 18/100\n",
      "8000/8000 [==============================] - 1s 170us/step - loss: 0.4277 - accuracy: 0.7960\n",
      "Epoch 19/100\n",
      "8000/8000 [==============================] - 1s 140us/step - loss: 0.4267 - accuracy: 0.7960\n",
      "Epoch 20/100\n",
      "8000/8000 [==============================] - 1s 117us/step - loss: 0.4250 - accuracy: 0.7960\n",
      "Epoch 21/100\n",
      "8000/8000 [==============================] - 1s 119us/step - loss: 0.4235 - accuracy: 0.7960\n",
      "Epoch 22/100\n",
      "8000/8000 [==============================] - 1s 111us/step - loss: 0.4207 - accuracy: 0.7960\n",
      "Epoch 23/100\n",
      "8000/8000 [==============================] - 1s 111us/step - loss: 0.4184 - accuracy: 0.7960\n",
      "Epoch 24/100\n",
      "8000/8000 [==============================] - 1s 109us/step - loss: 0.4192 - accuracy: 0.7960\n",
      "Epoch 25/100\n",
      "8000/8000 [==============================] - 1s 110us/step - loss: 0.4134 - accuracy: 0.7960\n",
      "Epoch 26/100\n",
      "8000/8000 [==============================] - 1s 108us/step - loss: 0.4138 - accuracy: 0.7956\n",
      "Epoch 27/100\n",
      "8000/8000 [==============================] - 1s 108us/step - loss: 0.4097 - accuracy: 0.7962\n",
      "Epoch 28/100\n",
      "8000/8000 [==============================] - 1s 113us/step - loss: 0.4111 - accuracy: 0.7961\n",
      "Epoch 29/100\n",
      "8000/8000 [==============================] - 1s 111us/step - loss: 0.4084 - accuracy: 0.7951\n",
      "Epoch 30/100\n",
      "8000/8000 [==============================] - 1s 111us/step - loss: 0.4052 - accuracy: 0.7958\n",
      "Epoch 31/100\n",
      "8000/8000 [==============================] - 1s 109us/step - loss: 0.4059 - accuracy: 0.7952\n",
      "Epoch 32/100\n",
      "8000/8000 [==============================] - 1s 110us/step - loss: 0.4013 - accuracy: 0.7941\n",
      "Epoch 33/100\n",
      "8000/8000 [==============================] - 1s 109us/step - loss: 0.4171 - accuracy: 0.7976\n",
      "Epoch 34/100\n",
      "8000/8000 [==============================] - 1s 109us/step - loss: 0.4136 - accuracy: 0.7968\n",
      "Epoch 35/100\n",
      "8000/8000 [==============================] - 1s 108us/step - loss: 0.4005 - accuracy: 0.7950\n",
      "Epoch 36/100\n",
      "8000/8000 [==============================] - 1s 111us/step - loss: 0.3978 - accuracy: 0.7951\n",
      "Epoch 37/100\n",
      "8000/8000 [==============================] - 1s 109us/step - loss: 0.3967 - accuracy: 0.7945\n",
      "Epoch 38/100\n",
      "8000/8000 [==============================] - 1s 111us/step - loss: 0.3963 - accuracy: 0.7944\n",
      "Epoch 39/100\n",
      "8000/8000 [==============================] - 1s 110us/step - loss: 0.3956 - accuracy: 0.7962\n",
      "Epoch 40/100\n",
      "8000/8000 [==============================] - 1s 108us/step - loss: 0.3935 - accuracy: 0.7950\n",
      "Epoch 41/100\n",
      "8000/8000 [==============================] - 1s 110us/step - loss: 0.3940 - accuracy: 0.7958\n",
      "Epoch 42/100\n",
      "8000/8000 [==============================] - 1s 111us/step - loss: 0.3908 - accuracy: 0.7983\n",
      "Epoch 43/100\n",
      "8000/8000 [==============================] - 1s 111us/step - loss: 0.3925 - accuracy: 0.8000\n",
      "Epoch 44/100\n",
      "8000/8000 [==============================] - 1s 108us/step - loss: 0.3920 - accuracy: 0.8006\n",
      "Epoch 45/100\n",
      "8000/8000 [==============================] - 1s 115us/step - loss: 0.3897 - accuracy: 0.8036\n",
      "Epoch 46/100\n",
      "8000/8000 [==============================] - 1s 110us/step - loss: 0.3892 - accuracy: 0.8083\n",
      "Epoch 47/100\n",
      "8000/8000 [==============================] - 1s 109us/step - loss: 0.3866 - accuracy: 0.8087\n",
      "Epoch 48/100\n",
      "8000/8000 [==============================] - 1s 110us/step - loss: 0.3882 - accuracy: 0.8127\n",
      "Epoch 49/100\n",
      "8000/8000 [==============================] - 1s 109us/step - loss: 0.3846 - accuracy: 0.8152\n",
      "Epoch 50/100\n",
      "8000/8000 [==============================] - 1s 109us/step - loss: 0.3965 - accuracy: 0.8259\n",
      "Epoch 51/100\n",
      "8000/8000 [==============================] - 1s 110us/step - loss: 0.3879 - accuracy: 0.8215\n",
      "Epoch 52/100\n",
      "8000/8000 [==============================] - 1s 110us/step - loss: 0.3825 - accuracy: 0.8192\n",
      "Epoch 53/100\n",
      "8000/8000 [==============================] - 1s 110us/step - loss: 0.3825 - accuracy: 0.8210\n",
      "Epoch 54/100\n",
      "8000/8000 [==============================] - 1s 110us/step - loss: 0.3818 - accuracy: 0.8241\n",
      "Epoch 55/100\n",
      "8000/8000 [==============================] - 1s 109us/step - loss: 0.3830 - accuracy: 0.8250\n",
      "Epoch 56/100\n",
      "8000/8000 [==============================] - 1s 108us/step - loss: 0.3855 - accuracy: 0.8257\n",
      "Epoch 57/100\n",
      "8000/8000 [==============================] - 1s 110us/step - loss: 0.3813 - accuracy: 0.8290\n",
      "Epoch 58/100\n",
      "8000/8000 [==============================] - 1s 110us/step - loss: 0.3889 - accuracy: 0.8305\n",
      "Epoch 59/100\n",
      "8000/8000 [==============================] - 1s 108us/step - loss: 0.3824 - accuracy: 0.8317\n",
      "Epoch 60/100\n",
      "8000/8000 [==============================] - 1s 109us/step - loss: 0.3826 - accuracy: 0.8328\n",
      "Epoch 61/100\n",
      "8000/8000 [==============================] - 1s 109us/step - loss: 0.3857 - accuracy: 0.8338\n",
      "Epoch 62/100\n",
      "8000/8000 [==============================] - 1s 108us/step - loss: 0.3806 - accuracy: 0.8344\n",
      "Epoch 63/100\n",
      "8000/8000 [==============================] - 1s 110us/step - loss: 0.3898 - accuracy: 0.8369\n",
      "Epoch 64/100\n",
      "8000/8000 [==============================] - 1s 108us/step - loss: 0.3779 - accuracy: 0.8363\n",
      "Epoch 65/100\n",
      "8000/8000 [==============================] - 1s 108us/step - loss: 0.3776 - accuracy: 0.8354\n",
      "Epoch 66/100\n",
      "8000/8000 [==============================] - 1s 109us/step - loss: 0.3826 - accuracy: 0.8381\n",
      "Epoch 67/100\n",
      "8000/8000 [==============================] - 1s 108us/step - loss: 0.3801 - accuracy: 0.8359\n",
      "Epoch 68/100\n",
      "8000/8000 [==============================] - 1s 111us/step - loss: 0.3796 - accuracy: 0.8374\n",
      "Epoch 69/100\n",
      "8000/8000 [==============================] - 1s 109us/step - loss: 0.3778 - accuracy: 0.8372\n",
      "Epoch 70/100\n",
      "8000/8000 [==============================] - 1s 110us/step - loss: 0.3754 - accuracy: 0.8366\n",
      "Epoch 71/100\n",
      "8000/8000 [==============================] - 1s 109us/step - loss: 0.3771 - accuracy: 0.8389\n",
      "Epoch 72/100\n",
      "8000/8000 [==============================] - 1s 111us/step - loss: 0.3837 - accuracy: 0.8397\n",
      "Epoch 73/100\n",
      "8000/8000 [==============================] - 1s 109us/step - loss: 0.3812 - accuracy: 0.8382\n",
      "Epoch 74/100\n",
      "8000/8000 [==============================] - 1s 110us/step - loss: 0.3741 - accuracy: 0.8375\n",
      "Epoch 75/100\n",
      "8000/8000 [==============================] - 1s 110us/step - loss: 0.3736 - accuracy: 0.8385\n",
      "Epoch 76/100\n",
      "8000/8000 [==============================] - 1s 110us/step - loss: 0.3763 - accuracy: 0.8390\n",
      "Epoch 77/100\n",
      "8000/8000 [==============================] - 1s 108us/step - loss: 0.3787 - accuracy: 0.8406\n",
      "Epoch 78/100\n"
     ]
    },
    {
     "name": "stdout",
     "output_type": "stream",
     "text": [
      "8000/8000 [==============================] - 1s 107us/step - loss: 0.3744 - accuracy: 0.8394\n",
      "Epoch 79/100\n",
      "8000/8000 [==============================] - 1s 108us/step - loss: 0.3782 - accuracy: 0.8405\n",
      "Epoch 80/100\n",
      "8000/8000 [==============================] - 1s 107us/step - loss: 0.3830 - accuracy: 0.8426\n",
      "Epoch 81/100\n",
      "8000/8000 [==============================] - 1s 108us/step - loss: 0.3751 - accuracy: 0.8428\n",
      "Epoch 82/100\n",
      "8000/8000 [==============================] - 1s 94us/step - loss: 0.3750 - accuracy: 0.8430\n",
      "Epoch 83/100\n",
      "8000/8000 [==============================] - 1s 87us/step - loss: 0.3754 - accuracy: 0.8422\n",
      "Epoch 84/100\n",
      "8000/8000 [==============================] - 1s 113us/step - loss: 0.3728 - accuracy: 0.8429\n",
      "Epoch 85/100\n",
      "8000/8000 [==============================] - 1s 108us/step - loss: 0.3733 - accuracy: 0.8430\n",
      "Epoch 86/100\n",
      "8000/8000 [==============================] - 1s 113us/step - loss: 0.3729 - accuracy: 0.8429\n",
      "Epoch 87/100\n",
      "8000/8000 [==============================] - 1s 108us/step - loss: 0.3718 - accuracy: 0.8430\n",
      "Epoch 88/100\n",
      "8000/8000 [==============================] - 1s 106us/step - loss: 0.3726 - accuracy: 0.8430\n",
      "Epoch 89/100\n",
      "8000/8000 [==============================] - 1s 108us/step - loss: 0.3730 - accuracy: 0.8430\n",
      "Epoch 90/100\n",
      "8000/8000 [==============================] - 1s 110us/step - loss: 0.3810 - accuracy: 0.8444\n",
      "Epoch 91/100\n",
      "8000/8000 [==============================] - 1s 108us/step - loss: 0.3711 - accuracy: 0.8444\n",
      "Epoch 92/100\n",
      "8000/8000 [==============================] - 1s 111us/step - loss: 0.3791 - accuracy: 0.8440\n",
      "Epoch 93/100\n",
      "8000/8000 [==============================] - 1s 109us/step - loss: 0.3693 - accuracy: 0.8436\n",
      "Epoch 94/100\n",
      "8000/8000 [==============================] - 1s 108us/step - loss: 0.3687 - accuracy: 0.8453\n",
      "Epoch 95/100\n",
      "8000/8000 [==============================] - 1s 109us/step - loss: 0.3700 - accuracy: 0.8447\n",
      "Epoch 96/100\n",
      "8000/8000 [==============================] - 1s 108us/step - loss: 0.3723 - accuracy: 0.8450\n",
      "Epoch 97/100\n",
      "8000/8000 [==============================] - 1s 109us/step - loss: 0.3774 - accuracy: 0.8447\n",
      "Epoch 98/100\n",
      "8000/8000 [==============================] - 1s 107us/step - loss: 0.3719 - accuracy: 0.8455\n",
      "Epoch 99/100\n",
      "8000/8000 [==============================] - 1s 108us/step - loss: 0.3676 - accuracy: 0.8440\n",
      "Epoch 100/100\n",
      "8000/8000 [==============================] - 1s 109us/step - loss: 0.3709 - accuracy: 0.8462\n"
     ]
    },
    {
     "data": {
      "text/plain": [
       "<keras.callbacks.callbacks.History at 0x7fa2f4d85588>"
      ]
     },
     "execution_count": 29,
     "metadata": {},
     "output_type": "execute_result"
    }
   ],
   "source": [
    "del classifier\n",
    "\n",
    "classifier = Sequential()\n",
    "\n",
    "classifier.add(Dense(units = 6, kernel_initializer = 'uniform', activation = 'sigmoid', input_dim = 11))\n",
    "\n",
    "classifier.add(Dense(units = 6, kernel_initializer = 'uniform', activation = 'sigmoid'))\n",
    "\n",
    "classifier.add(Dense(units = 1, kernel_initializer = 'uniform', activation = 'softsign'))\n",
    "\n",
    "classifier.compile(optimizer = 'adam', loss = 'binary_crossentropy', metrics = ['accuracy'])\n",
    "\n",
    "classifier.fit(X_train, y_train, batch_size = 10, epochs = 100)"
   ]
  },
  {
   "cell_type": "code",
   "execution_count": 30,
   "metadata": {},
   "outputs": [],
   "source": [
    "y_pred = classifier.predict(X_test)\n",
    "y_pred = (y_pred > 0.5)"
   ]
  },
  {
   "cell_type": "markdown",
   "metadata": {},
   "source": [
    "# Making the Confusion Matrix"
   ]
  },
  {
   "cell_type": "code",
   "execution_count": 31,
   "metadata": {},
   "outputs": [
    {
     "name": "stdout",
     "output_type": "stream",
     "text": [
      "[[1505   90]\n",
      " [ 224  181]]\n"
     ]
    }
   ],
   "source": [
    "from sklearn.metrics import confusion_matrix\n",
    "cm = confusion_matrix(y_test, y_pred)\n",
    "print(cm)"
   ]
  },
  {
   "cell_type": "markdown",
   "metadata": {},
   "source": [
    "# Initialising the 3rd ANN"
   ]
  },
  {
   "cell_type": "code",
   "execution_count": 32,
   "metadata": {},
   "outputs": [
    {
     "name": "stdout",
     "output_type": "stream",
     "text": [
      "Epoch 1/100\n",
      "8000/8000 [==============================] - 1s 120us/step - loss: 0.5114 - accuracy: 0.7952\n",
      "Epoch 2/100\n",
      "8000/8000 [==============================] - 1s 103us/step - loss: 0.4461 - accuracy: 0.7960\n",
      "Epoch 3/100\n",
      "8000/8000 [==============================] - 1s 103us/step - loss: 0.4342 - accuracy: 0.7964\n",
      "Epoch 4/100\n",
      "8000/8000 [==============================] - 1s 103us/step - loss: 0.4296 - accuracy: 0.7980\n",
      "Epoch 5/100\n",
      "8000/8000 [==============================] - 1s 103us/step - loss: 0.4282 - accuracy: 0.8006\n",
      "Epoch 6/100\n",
      "8000/8000 [==============================] - 1s 103us/step - loss: 0.4277 - accuracy: 0.8021\n",
      "Epoch 7/100\n",
      "8000/8000 [==============================] - 1s 104us/step - loss: 0.4272 - accuracy: 0.8026\n",
      "Epoch 8/100\n",
      "8000/8000 [==============================] - 1s 104us/step - loss: 0.4271 - accuracy: 0.8041\n",
      "Epoch 9/100\n",
      "8000/8000 [==============================] - 1s 104us/step - loss: 0.4272 - accuracy: 0.8044\n",
      "Epoch 10/100\n",
      "8000/8000 [==============================] - 1s 104us/step - loss: 0.4268 - accuracy: 0.8031\n",
      "Epoch 11/100\n",
      "8000/8000 [==============================] - 1s 104us/step - loss: 0.4263 - accuracy: 0.8051\n",
      "Epoch 12/100\n",
      "8000/8000 [==============================] - 1s 104us/step - loss: 0.4256 - accuracy: 0.8092\n",
      "Epoch 13/100\n",
      "8000/8000 [==============================] - 1s 106us/step - loss: 0.4241 - accuracy: 0.8154\n",
      "Epoch 14/100\n",
      "8000/8000 [==============================] - 1s 104us/step - loss: 0.4224 - accuracy: 0.8195\n",
      "Epoch 15/100\n",
      "8000/8000 [==============================] - 1s 104us/step - loss: 0.4211 - accuracy: 0.8232\n",
      "Epoch 16/100\n",
      "8000/8000 [==============================] - 1s 104us/step - loss: 0.4196 - accuracy: 0.8230\n",
      "Epoch 17/100\n",
      "8000/8000 [==============================] - 1s 105us/step - loss: 0.4185 - accuracy: 0.8267\n",
      "Epoch 18/100\n",
      "8000/8000 [==============================] - 1s 106us/step - loss: 0.4171 - accuracy: 0.8259\n",
      "Epoch 19/100\n",
      "8000/8000 [==============================] - 1s 107us/step - loss: 0.4163 - accuracy: 0.8265\n",
      "Epoch 20/100\n",
      "8000/8000 [==============================] - 1s 107us/step - loss: 0.4153 - accuracy: 0.8269\n",
      "Epoch 21/100\n",
      "8000/8000 [==============================] - 1s 110us/step - loss: 0.4143 - accuracy: 0.8289\n",
      "Epoch 22/100\n",
      "8000/8000 [==============================] - 1s 106us/step - loss: 0.4135 - accuracy: 0.8310\n",
      "Epoch 23/100\n",
      "8000/8000 [==============================] - 1s 106us/step - loss: 0.4125 - accuracy: 0.8294\n",
      "Epoch 24/100\n",
      "8000/8000 [==============================] - 1s 107us/step - loss: 0.4118 - accuracy: 0.8303\n",
      "Epoch 25/100\n",
      "8000/8000 [==============================] - 1s 105us/step - loss: 0.4109 - accuracy: 0.8319\n",
      "Epoch 26/100\n",
      "8000/8000 [==============================] - 1s 115us/step - loss: 0.4105 - accuracy: 0.8317\n",
      "Epoch 27/100\n",
      "8000/8000 [==============================] - 1s 104us/step - loss: 0.4097 - accuracy: 0.8306\n",
      "Epoch 28/100\n",
      "8000/8000 [==============================] - 1s 106us/step - loss: 0.4091 - accuracy: 0.8319\n",
      "Epoch 29/100\n",
      "8000/8000 [==============================] - 1s 107us/step - loss: 0.4087 - accuracy: 0.8339\n",
      "Epoch 30/100\n",
      "8000/8000 [==============================] - 1s 105us/step - loss: 0.4082 - accuracy: 0.8328\n",
      "Epoch 31/100\n",
      "8000/8000 [==============================] - 1s 105us/step - loss: 0.4078 - accuracy: 0.8334\n",
      "Epoch 32/100\n",
      "8000/8000 [==============================] - 1s 106us/step - loss: 0.4076 - accuracy: 0.8340\n",
      "Epoch 33/100\n",
      "8000/8000 [==============================] - 1s 106us/step - loss: 0.4070 - accuracy: 0.8334\n",
      "Epoch 34/100\n",
      "8000/8000 [==============================] - 1s 107us/step - loss: 0.4070 - accuracy: 0.8345\n",
      "Epoch 35/100\n",
      "8000/8000 [==============================] - 1s 110us/step - loss: 0.4068 - accuracy: 0.8351\n",
      "Epoch 36/100\n",
      "8000/8000 [==============================] - 1s 111us/step - loss: 0.4062 - accuracy: 0.8347\n",
      "Epoch 37/100\n",
      "8000/8000 [==============================] - 1s 105us/step - loss: 0.4061 - accuracy: 0.8346\n",
      "Epoch 38/100\n",
      "8000/8000 [==============================] - 1s 105us/step - loss: 0.4057 - accuracy: 0.8338\n",
      "Epoch 39/100\n",
      "8000/8000 [==============================] - 1s 105us/step - loss: 0.4054 - accuracy: 0.8344\n",
      "Epoch 40/100\n",
      "8000/8000 [==============================] - 1s 105us/step - loss: 0.4051 - accuracy: 0.8341\n",
      "Epoch 41/100\n",
      "8000/8000 [==============================] - 1s 105us/step - loss: 0.4051 - accuracy: 0.8340\n",
      "Epoch 42/100\n",
      "8000/8000 [==============================] - 1s 106us/step - loss: 0.4047 - accuracy: 0.8341\n",
      "Epoch 43/100\n",
      "8000/8000 [==============================] - 1s 107us/step - loss: 0.4045 - accuracy: 0.8341\n",
      "Epoch 44/100\n",
      "8000/8000 [==============================] - 1s 106us/step - loss: 0.4043 - accuracy: 0.8349\n",
      "Epoch 45/100\n",
      "8000/8000 [==============================] - 1s 106us/step - loss: 0.4041 - accuracy: 0.8339\n",
      "Epoch 46/100\n",
      "8000/8000 [==============================] - 1s 106us/step - loss: 0.4038 - accuracy: 0.8355\n",
      "Epoch 47/100\n",
      "8000/8000 [==============================] - 1s 107us/step - loss: 0.4034 - accuracy: 0.8346\n",
      "Epoch 48/100\n",
      "8000/8000 [==============================] - 1s 105us/step - loss: 0.4033 - accuracy: 0.8339\n",
      "Epoch 49/100\n",
      "8000/8000 [==============================] - 1s 106us/step - loss: 0.4033 - accuracy: 0.8344\n",
      "Epoch 50/100\n",
      "8000/8000 [==============================] - 1s 107us/step - loss: 0.4027 - accuracy: 0.8345\n",
      "Epoch 51/100\n",
      "8000/8000 [==============================] - 1s 106us/step - loss: 0.4025 - accuracy: 0.8347\n",
      "Epoch 52/100\n",
      "8000/8000 [==============================] - 1s 107us/step - loss: 0.4022 - accuracy: 0.8341\n",
      "Epoch 53/100\n",
      "8000/8000 [==============================] - 1s 106us/step - loss: 0.4024 - accuracy: 0.8345\n",
      "Epoch 54/100\n",
      "8000/8000 [==============================] - 1s 107us/step - loss: 0.4019 - accuracy: 0.8350\n",
      "Epoch 55/100\n",
      "8000/8000 [==============================] - 1s 107us/step - loss: 0.4016 - accuracy: 0.8338\n",
      "Epoch 56/100\n",
      "8000/8000 [==============================] - 1s 106us/step - loss: 0.4016 - accuracy: 0.8345\n",
      "Epoch 57/100\n",
      "8000/8000 [==============================] - 1s 105us/step - loss: 0.4013 - accuracy: 0.8347\n",
      "Epoch 58/100\n",
      "8000/8000 [==============================] - 1s 113us/step - loss: 0.4011 - accuracy: 0.8346\n",
      "Epoch 59/100\n",
      "8000/8000 [==============================] - 1s 107us/step - loss: 0.4007 - accuracy: 0.8341\n",
      "Epoch 60/100\n",
      "8000/8000 [==============================] - 1s 110us/step - loss: 0.4007 - accuracy: 0.8336\n",
      "Epoch 61/100\n",
      "8000/8000 [==============================] - 1s 111us/step - loss: 0.4004 - accuracy: 0.8338\n",
      "Epoch 62/100\n",
      "8000/8000 [==============================] - 1s 109us/step - loss: 0.4003 - accuracy: 0.8354\n",
      "Epoch 63/100\n",
      "8000/8000 [==============================] - 1s 106us/step - loss: 0.3997 - accuracy: 0.8353\n",
      "Epoch 64/100\n",
      "8000/8000 [==============================] - 1s 105us/step - loss: 0.3998 - accuracy: 0.8354\n",
      "Epoch 65/100\n",
      "8000/8000 [==============================] - 1s 106us/step - loss: 0.3993 - accuracy: 0.8342\n",
      "Epoch 66/100\n",
      "8000/8000 [==============================] - 1s 108us/step - loss: 0.3993 - accuracy: 0.8363\n",
      "Epoch 67/100\n",
      "8000/8000 [==============================] - 1s 106us/step - loss: 0.3990 - accuracy: 0.8342\n",
      "Epoch 68/100\n",
      "8000/8000 [==============================] - 1s 106us/step - loss: 0.3990 - accuracy: 0.8353\n",
      "Epoch 69/100\n",
      "8000/8000 [==============================] - 1s 106us/step - loss: 0.3985 - accuracy: 0.8361\n",
      "Epoch 70/100\n",
      "8000/8000 [==============================] - 1s 105us/step - loss: 0.3982 - accuracy: 0.8351\n",
      "Epoch 71/100\n",
      "8000/8000 [==============================] - 1s 105us/step - loss: 0.3978 - accuracy: 0.8355\n",
      "Epoch 72/100\n",
      "8000/8000 [==============================] - 1s 105us/step - loss: 0.3981 - accuracy: 0.8345\n",
      "Epoch 73/100\n",
      "8000/8000 [==============================] - 1s 105us/step - loss: 0.3974 - accuracy: 0.8347\n",
      "Epoch 74/100\n",
      "8000/8000 [==============================] - 1s 107us/step - loss: 0.3975 - accuracy: 0.8354\n",
      "Epoch 75/100\n",
      "8000/8000 [==============================] - 1s 106us/step - loss: 0.3974 - accuracy: 0.8338\n",
      "Epoch 76/100\n",
      "8000/8000 [==============================] - 1s 106us/step - loss: 0.3971 - accuracy: 0.8351\n",
      "Epoch 77/100\n",
      "8000/8000 [==============================] - 1s 105us/step - loss: 0.3970 - accuracy: 0.8338\n",
      "Epoch 78/100\n"
     ]
    },
    {
     "name": "stdout",
     "output_type": "stream",
     "text": [
      "8000/8000 [==============================] - 1s 124us/step - loss: 0.3969 - accuracy: 0.8340\n",
      "Epoch 79/100\n",
      "8000/8000 [==============================] - 1s 103us/step - loss: 0.3965 - accuracy: 0.8353\n",
      "Epoch 80/100\n",
      "8000/8000 [==============================] - 1s 104us/step - loss: 0.3962 - accuracy: 0.8353\n",
      "Epoch 81/100\n",
      "8000/8000 [==============================] - 1s 105us/step - loss: 0.3961 - accuracy: 0.8353\n",
      "Epoch 82/100\n",
      "8000/8000 [==============================] - 1s 105us/step - loss: 0.3957 - accuracy: 0.8353\n",
      "Epoch 83/100\n",
      "8000/8000 [==============================] - 1s 104us/step - loss: 0.3957 - accuracy: 0.8342\n",
      "Epoch 84/100\n",
      "8000/8000 [==============================] - 1s 104us/step - loss: 0.3957 - accuracy: 0.8351\n",
      "Epoch 85/100\n",
      "8000/8000 [==============================] - 1s 105us/step - loss: 0.3953 - accuracy: 0.8359\n",
      "Epoch 86/100\n",
      "8000/8000 [==============================] - 1s 104us/step - loss: 0.3953 - accuracy: 0.8345\n",
      "Epoch 87/100\n",
      "8000/8000 [==============================] - 1s 105us/step - loss: 0.3952 - accuracy: 0.8334\n",
      "Epoch 88/100\n",
      "8000/8000 [==============================] - 1s 105us/step - loss: 0.3952 - accuracy: 0.8350\n",
      "Epoch 89/100\n",
      "8000/8000 [==============================] - 1s 103us/step - loss: 0.3949 - accuracy: 0.8340\n",
      "Epoch 90/100\n",
      "8000/8000 [==============================] - 1s 104us/step - loss: 0.3946 - accuracy: 0.8356\n",
      "Epoch 91/100\n",
      "8000/8000 [==============================] - 1s 104us/step - loss: 0.3945 - accuracy: 0.8350\n",
      "Epoch 92/100\n",
      "8000/8000 [==============================] - 1s 105us/step - loss: 0.3944 - accuracy: 0.8356\n",
      "Epoch 93/100\n",
      "8000/8000 [==============================] - 1s 105us/step - loss: 0.3942 - accuracy: 0.8359\n",
      "Epoch 94/100\n",
      "8000/8000 [==============================] - 1s 104us/step - loss: 0.3943 - accuracy: 0.8360\n",
      "Epoch 95/100\n",
      "8000/8000 [==============================] - 1s 104us/step - loss: 0.3939 - accuracy: 0.8353\n",
      "Epoch 96/100\n",
      "8000/8000 [==============================] - 1s 106us/step - loss: 0.3938 - accuracy: 0.8363\n",
      "Epoch 97/100\n",
      "8000/8000 [==============================] - 1s 106us/step - loss: 0.3938 - accuracy: 0.8360\n",
      "Epoch 98/100\n",
      "8000/8000 [==============================] - 1s 105us/step - loss: 0.3935 - accuracy: 0.8351\n",
      "Epoch 99/100\n",
      "8000/8000 [==============================] - 1s 105us/step - loss: 0.3930 - accuracy: 0.8354\n",
      "Epoch 100/100\n",
      "8000/8000 [==============================] - 1s 104us/step - loss: 0.3933 - accuracy: 0.8370\n"
     ]
    },
    {
     "data": {
      "text/plain": [
       "<keras.callbacks.callbacks.History at 0x7fa2f48881d0>"
      ]
     },
     "execution_count": 32,
     "metadata": {},
     "output_type": "execute_result"
    }
   ],
   "source": [
    "del classifier\n",
    "\n",
    "classifier = Sequential()\n",
    "\n",
    "classifier.add(Dense(units = 6, kernel_initializer = 'uniform', activation = 'sigmoid', input_dim = 11))\n",
    "\n",
    "classifier.add(Dense(units = 6, kernel_initializer = 'uniform', activation = 'relu'))\n",
    "\n",
    "classifier.add(Dense(units = 1, kernel_initializer = 'uniform', activation = 'sigmoid'))\n",
    "\n",
    "classifier.compile(optimizer = 'adam', loss = 'binary_crossentropy', metrics = ['accuracy'])\n",
    "\n",
    "classifier.fit(X_train, y_train, batch_size = 10, epochs = 100)"
   ]
  },
  {
   "cell_type": "code",
   "execution_count": 33,
   "metadata": {},
   "outputs": [],
   "source": [
    "y_pred = classifier.predict(X_test)\n",
    "y_pred = (y_pred > 0.5)"
   ]
  },
  {
   "cell_type": "markdown",
   "metadata": {},
   "source": [
    "# Making the Confusion Matrix"
   ]
  },
  {
   "cell_type": "code",
   "execution_count": 34,
   "metadata": {},
   "outputs": [
    {
     "name": "stdout",
     "output_type": "stream",
     "text": [
      "[[1539   56]\n",
      " [ 256  149]]\n"
     ]
    }
   ],
   "source": [
    "from sklearn.metrics import confusion_matrix\n",
    "cm = confusion_matrix(y_test, y_pred)\n",
    "print(cm)"
   ]
  },
  {
   "cell_type": "markdown",
   "metadata": {},
   "source": [
    "---\n",
    "# Parte 4 - Evaluating, Improving and Tuning the ANN\n",
    "\n",
    "## Evaluating the ANN"
   ]
  },
  {
   "cell_type": "code",
   "execution_count": null,
   "metadata": {},
   "outputs": [],
   "source": [
    "from keras.wrappers.scikit_learn import KerasClassifier\n",
    "from sklearn.model_selection import cross_val_score\n",
    "from keras.models import Sequential\n",
    "from keras.layers import Dense\n",
    "\n",
    "def build_classifier():\n",
    "    classifier = Sequential()\n",
    "    classifier.add(Dense(units = 6, kernel_initializer = 'uniform', activation = 'relu', input_dim = 11))\n",
    "    classifier.add(Dense(units = 6, kernel_initializer = 'uniform', activation = 'relu'))\n",
    "    classifier.add(Dense(units = 1, kernel_initializer = 'uniform', activation = 'sigmoid'))\n",
    "    classifier.compile(optimizer = 'adam', loss = 'binary_crossentropy', metrics = ['accuracy'])\n",
    "    return classifier\n",
    "\n",
    "classifier = KerasClassifier(build_fn = build_classifier, batch_size = 10, epochs = 10)\n",
    "accuracies = cross_val_score(estimator = classifier, X = X_train, y = y_train, cv = 10, n_jobs = -1)\n",
    "mean = accuracies.mean()\n",
    "variance = accuracies.std()\n",
    "print(\"accuracies:%s\\nmean:%s\\nvariance:%s\".format(accuracies, mean, variance))"
   ]
  },
  {
   "cell_type": "markdown",
   "metadata": {},
   "source": [
    "# Improving the ANN\n",
    "# Dropout Regularization to reduce overfitting if needed"
   ]
  },
  {
   "cell_type": "code",
   "execution_count": null,
   "metadata": {},
   "outputs": [],
   "source": [
    "from keras.layers import Dropout\n",
    "\n",
    "def build_classifier():\n",
    "    classifier = Sequential()\n",
    "    classifier.add(Dense(units = 6, kernel_initializer = 'uniform', activation = 'relu', input_dim = 11))\n",
    "    classifier.add(Dropout(rate = 0.1))\n",
    "    classifier.add(Dense(units = 6, kernel_initializer = 'uniform', activation = 'relu'))\n",
    "    classifier.add(Dropout(rate = 0.1))\n",
    "    classifier.add(Dense(units = 1, kernel_initializer = 'uniform', activation = 'sigmoid'))\n",
    "    classifier.compile(optimizer = 'adam', loss = 'binary_crossentropy', metrics = ['accuracy'])\n",
    "    return classifier\n",
    "\n",
    "classifier = KerasClassifier(build_fn = build_classifier, batch_size = 10, epochs = 10)\n",
    "accuracies = cross_val_score(estimator = classifier, X = X_train, y = y_train, cv = 10, n_jobs = -1)\n",
    "mean = accuracies.mean()\n",
    "variance = accuracies.std()"
   ]
  },
  {
   "cell_type": "markdown",
   "metadata": {},
   "source": [
    "# Tuning the ANN"
   ]
  },
  {
   "cell_type": "code",
   "execution_count": null,
   "metadata": {},
   "outputs": [],
   "source": [
    "from keras.wrappers.scikit_learn import KerasClassifier\n",
    "from sklearn.model_selection import GridSearchCV\n",
    "from keras.models import Sequential\n",
    "from keras.layers import Dense\n",
    "\n",
    "def build_classifier(optimizer):\n",
    "    classifier = Sequential()\n",
    "    classifier.add(Dense(units = 6, kernel_initializer = 'uniform', activation = 'relu', input_dim = 11))\n",
    "    classifier.add(Dropout(rate = 0.1))\n",
    "    classifier.add(Dense(units = 6, kernel_initializer = 'uniform', activation = 'relu'))\n",
    "    classifier.add(Dropout(rate = 0.1))\n",
    "    classifier.add(Dense(units = 1, kernel_initializer = 'uniform', activation = 'sigmoid'))\n",
    "    classifier.compile(optimizer = optimizer, loss = 'binary_crossentropy', metrics = ['accuracy'])\n",
    "    return classifier\n",
    "\n",
    "classifier = KerasClassifier(build_fn = build_classifier)"
   ]
  },
  {
   "cell_type": "code",
   "execution_count": null,
   "metadata": {},
   "outputs": [],
   "source": [
    "parameters = {'batch_size': [10, 24, 32],\n",
    "              'epochs': [50, 100, 200],\n",
    "              'optimizer': ['adam', 'rmsprop']}\n",
    "\n",
    "grid_search = GridSearchCV(estimator = classifier,\n",
    "                           scoring = 'accuracy',\n",
    "                           param_grid = parameters,\n",
    "                           cv = 10)\n",
    "\n",
    "grid_search = grid_search.fit(X_train, y_train)\n",
    "\n",
    "best_parameters = grid_search.best_params_\n",
    "best_accuracy = grid_search.best_score_"
   ]
  },
  {
   "cell_type": "markdown",
   "metadata": {},
   "source": [
    "# FIM"
   ]
  },
  {
   "cell_type": "markdown",
   "metadata": {},
   "source": [
    "> Professor Diego Dorgam  \n",
    "> [@diegodorgam](https://twitter.com/diegodorgam)"
   ]
  },
  {
   "cell_type": "code",
   "execution_count": null,
   "metadata": {},
   "outputs": [],
   "source": []
  },
  {
   "cell_type": "code",
   "execution_count": null,
   "metadata": {},
   "outputs": [],
   "source": []
  },
  {
   "cell_type": "code",
   "execution_count": null,
   "metadata": {},
   "outputs": [],
   "source": []
  },
  {
   "cell_type": "code",
   "execution_count": null,
   "metadata": {},
   "outputs": [],
   "source": []
  }
 ],
 "metadata": {
  "kernelspec": {
   "display_name": "Python 3",
   "language": "python",
   "name": "python3"
  },
  "language_info": {
   "codemirror_mode": {
    "name": "ipython",
    "version": 3
   },
   "file_extension": ".py",
   "mimetype": "text/x-python",
   "name": "python",
   "nbconvert_exporter": "python",
   "pygments_lexer": "ipython3",
   "version": "3.5.2"
  }
 },
 "nbformat": 4,
 "nbformat_minor": 2
}
