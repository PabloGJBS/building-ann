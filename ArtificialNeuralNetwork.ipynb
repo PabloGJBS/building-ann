{
 "cells": [
  {
   "cell_type": "markdown",
   "metadata": {},
   "source": [
    "# REDES NEURAIS ARTIFICIAIS\n",
    "\n",
    "[Aula 3 de Deep Learning](http://bit.ly/dn-unb03) da Engenharia de Software da UnB"
   ]
  },
  {
   "cell_type": "code",
   "execution_count": 1,
   "metadata": {},
   "outputs": [
    {
     "name": "stdout",
     "output_type": "stream",
     "text": [
      "Collecting git+git://github.com/Theano/Theano.git\n",
      "  Cloning git://github.com/Theano/Theano.git to /tmp/pip-req-build-aedxy6dl\n",
      "  Running command git clone -q git://github.com/Theano/Theano.git /tmp/pip-req-build-aedxy6dl\n",
      "  fatal: unable to connect to github.com:\n",
      "  github.com[0: 140.82.113.3]: errno=Tempo esgotado para conexão\n",
      "\n",
      "\u001b[31mERROR: Command errored out with exit status 128: git clone -q git://github.com/Theano/Theano.git /tmp/pip-req-build-aedxy6dl Check the logs for full command output.\u001b[0m\n",
      "Collecting tensorflow\n",
      "\u001b[?25l  Downloading https://files.pythonhosted.org/packages/2a/5c/f1d66de5dde6f3ff528f6ea1fd0757a0e594d17debb3ec7f82daa967ea9a/tensorflow-2.0.0-cp37-cp37m-manylinux2010_x86_64.whl (86.3MB)\n",
      "\u001b[K     |████████▌                       | 22.9MB 404kB/s eta 0:02:37     |███████▊                        | 20.7MB 526kB/s eta 0:02:05^C\n",
      "\n",
      "\u001b[31mERROR: Operation cancelled by user\u001b[0m\n",
      "\u001b[?25hCollecting keras\n",
      "\u001b[?25l  Downloading https://files.pythonhosted.org/packages/ad/fd/6bfe87920d7f4fd475acd28500a42482b6b84479832bdc0fe9e589a60ceb/Keras-2.3.1-py2.py3-none-any.whl (377kB)\n",
      "\u001b[K     |████████████████████████████████| 378kB 480kB/s eta 0:00:01\n",
      "\u001b[?25hRequirement already satisfied, skipping upgrade: six>=1.9.0 in /home/victorcmoura/.virtualenvs/deeplearning/lib/python3.7/site-packages (from keras) (1.13.0)\n",
      "Requirement already satisfied, skipping upgrade: keras-applications>=1.0.6 in /home/victorcmoura/.virtualenvs/deeplearning/lib/python3.7/site-packages (from keras) (1.0.8)\n",
      "Requirement already satisfied, skipping upgrade: pyyaml in /home/victorcmoura/.virtualenvs/deeplearning/lib/python3.7/site-packages (from keras) (5.1.2)\n",
      "Requirement already satisfied, skipping upgrade: h5py in /home/victorcmoura/.virtualenvs/deeplearning/lib/python3.7/site-packages (from keras) (2.10.0)\n",
      "Requirement already satisfied, skipping upgrade: numpy>=1.9.1 in /home/victorcmoura/.virtualenvs/deeplearning/lib/python3.7/site-packages (from keras) (1.16.2)\n",
      "Requirement already satisfied, skipping upgrade: keras-preprocessing>=1.0.5 in /home/victorcmoura/.virtualenvs/deeplearning/lib/python3.7/site-packages (from keras) (1.1.0)\n",
      "Requirement already satisfied, skipping upgrade: scipy>=0.14 in /home/victorcmoura/.virtualenvs/deeplearning/lib/python3.7/site-packages (from keras) (1.3.2)\n",
      "Installing collected packages: keras\n",
      "  Found existing installation: Keras 2.2.4\n",
      "    Uninstalling Keras-2.2.4:\n",
      "      Successfully uninstalled Keras-2.2.4\n",
      "Successfully installed keras-2.3.1\n",
      "Requirement already up-to-date: pip in /home/victorcmoura/.virtualenvs/deeplearning/lib/python3.7/site-packages (19.3.1)\n",
      "Collecting pandas\n",
      "  Using cached https://files.pythonhosted.org/packages/63/e0/a1b39cdcb2c391f087a1538bc8a6d62a82d0439693192aef541d7b123769/pandas-0.25.3-cp37-cp37m-manylinux1_x86_64.whl\n",
      "Collecting numpy\n",
      "  Using cached https://files.pythonhosted.org/packages/9b/af/4fc72f9d38e43b092e91e5b8cb9956d25b2e3ff8c75aed95df5569e4734e/numpy-1.17.4-cp37-cp37m-manylinux1_x86_64.whl\n",
      "Collecting matplotlib\n",
      "  Using cached https://files.pythonhosted.org/packages/61/42/3e92d7aa64295483fbca20a86c89b34d0cb43cffaadaffe028793902d790/matplotlib-3.1.2-cp37-cp37m-manylinux1_x86_64.whl\n",
      "Requirement already up-to-date: sklearn in /home/victorcmoura/.virtualenvs/deeplearning/lib/python3.7/site-packages (0.0)\n",
      "Requirement already satisfied, skipping upgrade: python-dateutil>=2.6.1 in /home/victorcmoura/.virtualenvs/deeplearning/lib/python3.7/site-packages (from pandas) (2.8.1)\n",
      "Requirement already satisfied, skipping upgrade: pytz>=2017.2 in /home/victorcmoura/.virtualenvs/deeplearning/lib/python3.7/site-packages (from pandas) (2019.3)\n",
      "Requirement already satisfied, skipping upgrade: kiwisolver>=1.0.1 in /home/victorcmoura/.virtualenvs/deeplearning/lib/python3.7/site-packages (from matplotlib) (1.1.0)\n",
      "Requirement already satisfied, skipping upgrade: pyparsing!=2.0.4,!=2.1.2,!=2.1.6,>=2.0.1 in /home/victorcmoura/.virtualenvs/deeplearning/lib/python3.7/site-packages (from matplotlib) (2.4.5)\n",
      "Requirement already satisfied, skipping upgrade: cycler>=0.10 in /home/victorcmoura/.virtualenvs/deeplearning/lib/python3.7/site-packages (from matplotlib) (0.10.0)\n",
      "Requirement already satisfied, skipping upgrade: scikit-learn in /home/victorcmoura/.virtualenvs/deeplearning/lib/python3.7/site-packages (from sklearn) (0.21.3)\n",
      "Requirement already satisfied, skipping upgrade: six>=1.5 in /home/victorcmoura/.virtualenvs/deeplearning/lib/python3.7/site-packages (from python-dateutil>=2.6.1->pandas) (1.13.0)\n",
      "Requirement already satisfied, skipping upgrade: setuptools in /home/victorcmoura/.virtualenvs/deeplearning/lib/python3.7/site-packages (from kiwisolver>=1.0.1->matplotlib) (41.6.0)\n",
      "Requirement already satisfied, skipping upgrade: joblib>=0.11 in /home/victorcmoura/.virtualenvs/deeplearning/lib/python3.7/site-packages (from scikit-learn->sklearn) (0.14.0)\n",
      "Requirement already satisfied, skipping upgrade: scipy>=0.17.0 in /home/victorcmoura/.virtualenvs/deeplearning/lib/python3.7/site-packages (from scikit-learn->sklearn) (1.3.2)\n",
      "Installing collected packages: numpy, pandas, matplotlib\n",
      "  Found existing installation: numpy 1.16.2\n",
      "    Uninstalling numpy-1.16.2:\n",
      "      Successfully uninstalled numpy-1.16.2\n",
      "  Found existing installation: pandas 0.24.2\n",
      "    Uninstalling pandas-0.24.2:\n",
      "      Successfully uninstalled pandas-0.24.2\n",
      "  Found existing installation: matplotlib 3.0.3\n",
      "    Uninstalling matplotlib-3.0.3:\n",
      "      Successfully uninstalled matplotlib-3.0.3\n",
      "Successfully installed matplotlib-3.1.2 numpy-1.17.4 pandas-0.25.3\n"
     ]
    }
   ],
   "source": [
    "# Installing Theano\n",
    "! pip install --upgrade --no-deps git+git://github.com/Theano/Theano.git\n",
    "\n",
    "# Installing Tensorflow\n",
    "! pip install --upgrade tensorflow\n",
    "\n",
    "# Installing Keras\n",
    "! pip install --upgrade keras\n",
    "\n",
    "# Install other packages\n",
    "! pip install --upgrade pip pandas numpy matplotlib sklearn"
   ]
  },
  {
   "cell_type": "markdown",
   "metadata": {},
   "source": [
    "# Parte 1 - Preprocessamento dos Dados"
   ]
  },
  {
   "cell_type": "markdown",
   "metadata": {},
   "source": [
    "### Importar as libs"
   ]
  },
  {
   "cell_type": "code",
   "execution_count": 2,
   "metadata": {},
   "outputs": [],
   "source": [
    "import numpy as np\n",
    "import matplotlib.pyplot as plt\n",
    "import pandas as pd"
   ]
  },
  {
   "cell_type": "markdown",
   "metadata": {},
   "source": [
    "### Importar o dataset"
   ]
  },
  {
   "cell_type": "code",
   "execution_count": 3,
   "metadata": {},
   "outputs": [
    {
     "name": "stdout",
     "output_type": "stream",
     "text": [
      "X >>\n",
      " [[619 'France' 'Female' ... 1 1 101348.88]\n",
      " [608 'Spain' 'Female' ... 0 1 112542.58]\n",
      " [502 'France' 'Female' ... 1 0 113931.57]\n",
      " ...\n",
      " [709 'France' 'Female' ... 0 1 42085.58]\n",
      " [772 'Germany' 'Male' ... 1 0 92888.52]\n",
      " [792 'France' 'Female' ... 1 0 38190.78]]\n",
      "y >>\n",
      " [1 0 1 ... 1 1 0]\n"
     ]
    }
   ],
   "source": [
    "dataset = pd.read_csv('Churn_Modelling.csv')\n",
    "X = dataset.iloc[:, 3:13].values\n",
    "y = dataset.iloc[:, 13].values\n",
    "print(\"X >>\\n\",X)\n",
    "print(\"y >>\\n\",y)"
   ]
  },
  {
   "cell_type": "markdown",
   "metadata": {},
   "source": [
    "### Transformando os dados categóricos\n"
   ]
  },
  {
   "cell_type": "code",
   "execution_count": 4,
   "metadata": {},
   "outputs": [
    {
     "name": "stdout",
     "output_type": "stream",
     "text": [
      "X >>\n",
      " [[0.0000000e+00 0.0000000e+00 6.1900000e+02 ... 1.0000000e+00\n",
      "  1.0000000e+00 1.0134888e+05]\n",
      " [0.0000000e+00 1.0000000e+00 6.0800000e+02 ... 0.0000000e+00\n",
      "  1.0000000e+00 1.1254258e+05]\n",
      " [0.0000000e+00 0.0000000e+00 5.0200000e+02 ... 1.0000000e+00\n",
      "  0.0000000e+00 1.1393157e+05]\n",
      " ...\n",
      " [0.0000000e+00 0.0000000e+00 7.0900000e+02 ... 0.0000000e+00\n",
      "  1.0000000e+00 4.2085580e+04]\n",
      " [1.0000000e+00 0.0000000e+00 7.7200000e+02 ... 1.0000000e+00\n",
      "  0.0000000e+00 9.2888520e+04]\n",
      " [0.0000000e+00 0.0000000e+00 7.9200000e+02 ... 1.0000000e+00\n",
      "  0.0000000e+00 3.8190780e+04]]\n"
     ]
    },
    {
     "name": "stderr",
     "output_type": "stream",
     "text": [
      "/home/victorcmoura/.virtualenvs/deeplearning/local/lib/python3.7/site-packages/sklearn/preprocessing/_encoders.py:415: FutureWarning: The handling of integer data will change in version 0.22. Currently, the categories are determined based on the range [0, max(values)], while in the future they will be determined based on the unique values.\n",
      "If you want the future behaviour and silence this warning, you can specify \"categories='auto'\".\n",
      "In case you used a LabelEncoder before this OneHotEncoder to convert the categories to integers, then you can now use the OneHotEncoder directly.\n",
      "  warnings.warn(msg, FutureWarning)\n",
      "/home/victorcmoura/.virtualenvs/deeplearning/local/lib/python3.7/site-packages/sklearn/preprocessing/_encoders.py:451: DeprecationWarning: The 'categorical_features' keyword is deprecated in version 0.20 and will be removed in 0.22. You can use the ColumnTransformer instead.\n",
      "  \"use the ColumnTransformer instead.\", DeprecationWarning)\n"
     ]
    }
   ],
   "source": [
    "from sklearn.preprocessing import LabelEncoder, OneHotEncoder\n",
    "labelencoder_X_1 = LabelEncoder()\n",
    "X[:, 1] = labelencoder_X_1.fit_transform(X[:, 1])\n",
    "labelencoder_X_2 = LabelEncoder()\n",
    "X[:, 2] = labelencoder_X_2.fit_transform(X[:, 2])\n",
    "onehotencoder = OneHotEncoder(categorical_features = [1])\n",
    "X = onehotencoder.fit_transform(X).toarray()\n",
    "X = X[:, 1:]\n",
    "print(\"X >>\\n\",X)"
   ]
  },
  {
   "cell_type": "markdown",
   "metadata": {},
   "source": [
    "# Dividindo o dataset em conjunto de treinamento e conjunto de teste"
   ]
  },
  {
   "cell_type": "code",
   "execution_count": 5,
   "metadata": {},
   "outputs": [],
   "source": [
    "from sklearn.model_selection import train_test_split\n",
    "X_train, X_test, y_train, y_test = train_test_split(X, y, test_size = 0.2, random_state = 0)"
   ]
  },
  {
   "cell_type": "markdown",
   "metadata": {},
   "source": [
    "# Feature Scaling"
   ]
  },
  {
   "cell_type": "code",
   "execution_count": 6,
   "metadata": {},
   "outputs": [],
   "source": [
    "from sklearn.preprocessing import StandardScaler\n",
    "sc = StandardScaler()\n",
    "X_train = sc.fit_transform(X_train)\n",
    "X_test = sc.transform(X_test)"
   ]
  },
  {
   "cell_type": "markdown",
   "metadata": {},
   "source": [
    "---\n",
    "# Parte 2 -Vamos construir uma ANN!\n",
    "\n",
    "## Importando o Keras\n"
   ]
  },
  {
   "cell_type": "code",
   "execution_count": 7,
   "metadata": {},
   "outputs": [
    {
     "name": "stderr",
     "output_type": "stream",
     "text": [
      "Using TensorFlow backend.\n",
      "/home/victorcmoura/.virtualenvs/deeplearning/local/lib/python3.7/site-packages/tensorflow/python/framework/dtypes.py:526: FutureWarning: Passing (type, 1) or '1type' as a synonym of type is deprecated; in a future version of numpy, it will be understood as (type, (1,)) / '(1,)type'.\n",
      "  _np_qint8 = np.dtype([(\"qint8\", np.int8, 1)])\n",
      "/home/victorcmoura/.virtualenvs/deeplearning/local/lib/python3.7/site-packages/tensorflow/python/framework/dtypes.py:527: FutureWarning: Passing (type, 1) or '1type' as a synonym of type is deprecated; in a future version of numpy, it will be understood as (type, (1,)) / '(1,)type'.\n",
      "  _np_quint8 = np.dtype([(\"quint8\", np.uint8, 1)])\n",
      "/home/victorcmoura/.virtualenvs/deeplearning/local/lib/python3.7/site-packages/tensorflow/python/framework/dtypes.py:528: FutureWarning: Passing (type, 1) or '1type' as a synonym of type is deprecated; in a future version of numpy, it will be understood as (type, (1,)) / '(1,)type'.\n",
      "  _np_qint16 = np.dtype([(\"qint16\", np.int16, 1)])\n",
      "/home/victorcmoura/.virtualenvs/deeplearning/local/lib/python3.7/site-packages/tensorflow/python/framework/dtypes.py:529: FutureWarning: Passing (type, 1) or '1type' as a synonym of type is deprecated; in a future version of numpy, it will be understood as (type, (1,)) / '(1,)type'.\n",
      "  _np_quint16 = np.dtype([(\"quint16\", np.uint16, 1)])\n",
      "/home/victorcmoura/.virtualenvs/deeplearning/local/lib/python3.7/site-packages/tensorflow/python/framework/dtypes.py:530: FutureWarning: Passing (type, 1) or '1type' as a synonym of type is deprecated; in a future version of numpy, it will be understood as (type, (1,)) / '(1,)type'.\n",
      "  _np_qint32 = np.dtype([(\"qint32\", np.int32, 1)])\n",
      "/home/victorcmoura/.virtualenvs/deeplearning/local/lib/python3.7/site-packages/tensorflow/python/framework/dtypes.py:535: FutureWarning: Passing (type, 1) or '1type' as a synonym of type is deprecated; in a future version of numpy, it will be understood as (type, (1,)) / '(1,)type'.\n",
      "  np_resource = np.dtype([(\"resource\", np.ubyte, 1)])\n"
     ]
    }
   ],
   "source": [
    "import keras\n",
    "from keras.models import Sequential\n",
    "from keras.layers import Dense"
   ]
  },
  {
   "cell_type": "code",
   "execution_count": 8,
   "metadata": {},
   "outputs": [
    {
     "name": "stdout",
     "output_type": "stream",
     "text": [
      "WARNING:tensorflow:From /home/victorcmoura/.virtualenvs/deeplearning/local/lib/python3.7/site-packages/tensorflow/python/ops/resource_variable_ops.py:435: colocate_with (from tensorflow.python.framework.ops) is deprecated and will be removed in a future version.\n",
      "Instructions for updating:\n",
      "Colocations handled automatically by placer.\n"
     ]
    }
   ],
   "source": [
    "# Initialising the ANN\n",
    "classifier = Sequential()\n",
    "\n",
    "# Adding the input layer and the first hidden layer\n",
    "classifier.add(Dense(units = 6, kernel_initializer = 'uniform', activation = 'relu', input_dim = 11))\n",
    "\n",
    "# Adding the second hidden layer\n",
    "classifier.add(Dense(units = 6, kernel_initializer = 'uniform', activation = 'relu'))\n",
    "\n",
    "# Adding the output layer\n",
    "classifier.add(Dense(units = 1, kernel_initializer = 'uniform', activation = 'sigmoid'))\n",
    "\n",
    "# Compiling the ANN\n",
    "classifier.compile(optimizer = 'adam', loss = 'binary_crossentropy', metrics = ['accuracy'])"
   ]
  },
  {
   "cell_type": "markdown",
   "metadata": {},
   "source": [
    "# Ajustando a ANN ao conjunto de treinamento"
   ]
  },
  {
   "cell_type": "code",
   "execution_count": 9,
   "metadata": {},
   "outputs": [
    {
     "name": "stdout",
     "output_type": "stream",
     "text": [
      "WARNING:tensorflow:From /home/victorcmoura/.virtualenvs/deeplearning/local/lib/python3.7/site-packages/tensorflow/python/ops/math_ops.py:3066: to_int32 (from tensorflow.python.ops.math_ops) is deprecated and will be removed in a future version.\n",
      "Instructions for updating:\n",
      "Use tf.cast instead.\n",
      "Epoch 1/100\n",
      "8000/8000 [==============================] - 2s 218us/step - loss: 0.4816 - accuracy: 0.8023\n",
      "Epoch 2/100\n",
      "8000/8000 [==============================] - 2s 208us/step - loss: 0.4088 - accuracy: 0.8225\n",
      "Epoch 3/100\n",
      "8000/8000 [==============================] - 2s 201us/step - loss: 0.3969 - accuracy: 0.8256\n",
      "Epoch 4/100\n",
      "8000/8000 [==============================] - 2s 236us/step - loss: 0.3881 - accuracy: 0.8288\n",
      "Epoch 5/100\n",
      "8000/8000 [==============================] - 2s 230us/step - loss: 0.3811 - accuracy: 0.8306\n",
      "Epoch 6/100\n",
      "8000/8000 [==============================] - 2s 197us/step - loss: 0.3756 - accuracy: 0.8341\n",
      "Epoch 7/100\n",
      "8000/8000 [==============================] - 1s 183us/step - loss: 0.3726 - accuracy: 0.8449\n",
      "Epoch 8/100\n",
      "8000/8000 [==============================] - 2s 201us/step - loss: 0.3696 - accuracy: 0.8479\n",
      "Epoch 9/100\n",
      "8000/8000 [==============================] - 2s 188us/step - loss: 0.3661 - accuracy: 0.8496\n",
      "Epoch 10/100\n",
      "8000/8000 [==============================] - 2s 192us/step - loss: 0.3644 - accuracy: 0.8506\n",
      "Epoch 11/100\n",
      "8000/8000 [==============================] - 2s 189us/step - loss: 0.3617 - accuracy: 0.8505\n",
      "Epoch 12/100\n",
      "8000/8000 [==============================] - 1s 181us/step - loss: 0.3593 - accuracy: 0.8525\n",
      "Epoch 13/100\n",
      "8000/8000 [==============================] - 1s 179us/step - loss: 0.3575 - accuracy: 0.8524\n",
      "Epoch 14/100\n",
      "8000/8000 [==============================] - 1s 180us/step - loss: 0.3553 - accuracy: 0.8534\n",
      "Epoch 15/100\n",
      "8000/8000 [==============================] - 1s 184us/step - loss: 0.3545 - accuracy: 0.8537\n",
      "Epoch 16/100\n",
      "8000/8000 [==============================] - 1s 181us/step - loss: 0.3532 - accuracy: 0.8553\n",
      "Epoch 17/100\n",
      "8000/8000 [==============================] - 1s 177us/step - loss: 0.3519 - accuracy: 0.8541\n",
      "Epoch 18/100\n",
      "8000/8000 [==============================] - 1s 187us/step - loss: 0.3511 - accuracy: 0.8553\n",
      "Epoch 19/100\n",
      "8000/8000 [==============================] - 2s 200us/step - loss: 0.3500 - accuracy: 0.8577\n",
      "Epoch 20/100\n",
      "8000/8000 [==============================] - 1s 187us/step - loss: 0.3489 - accuracy: 0.8576\n",
      "Epoch 21/100\n",
      "8000/8000 [==============================] - 2s 211us/step - loss: 0.3480 - accuracy: 0.8594\n",
      "Epoch 22/100\n",
      "8000/8000 [==============================] - 1s 183us/step - loss: 0.3473 - accuracy: 0.8590\n",
      "Epoch 23/100\n",
      "8000/8000 [==============================] - 1s 173us/step - loss: 0.3470 - accuracy: 0.8594\n",
      "Epoch 24/100\n",
      "8000/8000 [==============================] - 1s 184us/step - loss: 0.3459 - accuracy: 0.8609\n",
      "Epoch 25/100\n",
      "8000/8000 [==============================] - 2s 188us/step - loss: 0.3454 - accuracy: 0.8604\n",
      "Epoch 26/100\n",
      "8000/8000 [==============================] - 2s 191us/step - loss: 0.3441 - accuracy: 0.8611\n",
      "Epoch 27/100\n",
      "8000/8000 [==============================] - 2s 208us/step - loss: 0.3437 - accuracy: 0.8595\n",
      "Epoch 28/100\n",
      "8000/8000 [==============================] - 2s 202us/step - loss: 0.3438 - accuracy: 0.8609\n",
      "Epoch 29/100\n",
      "8000/8000 [==============================] - 1s 178us/step - loss: 0.3427 - accuracy: 0.8584\n",
      "Epoch 30/100\n",
      "8000/8000 [==============================] - 1s 180us/step - loss: 0.3435 - accuracy: 0.8609\n",
      "Epoch 31/100\n",
      "8000/8000 [==============================] - 1s 180us/step - loss: 0.3419 - accuracy: 0.8596\n",
      "Epoch 32/100\n",
      "8000/8000 [==============================] - 1s 177us/step - loss: 0.3416 - accuracy: 0.8583\n",
      "Epoch 33/100\n",
      "8000/8000 [==============================] - 1s 179us/step - loss: 0.3422 - accuracy: 0.8599\n",
      "Epoch 34/100\n",
      "8000/8000 [==============================] - 1s 179us/step - loss: 0.3420 - accuracy: 0.8576\n",
      "Epoch 35/100\n",
      "8000/8000 [==============================] - 1s 180us/step - loss: 0.3413 - accuracy: 0.8600\n",
      "Epoch 36/100\n",
      "8000/8000 [==============================] - 1s 183us/step - loss: 0.3407 - accuracy: 0.8608\n",
      "Epoch 37/100\n",
      "8000/8000 [==============================] - 1s 178us/step - loss: 0.3400 - accuracy: 0.8590\n",
      "Epoch 38/100\n",
      "8000/8000 [==============================] - 1s 183us/step - loss: 0.3401 - accuracy: 0.8612\n",
      "Epoch 39/100\n",
      "8000/8000 [==============================] - 1s 183us/step - loss: 0.3416 - accuracy: 0.8612\n",
      "Epoch 40/100\n",
      "8000/8000 [==============================] - 1s 175us/step - loss: 0.3398 - accuracy: 0.8597\n",
      "Epoch 41/100\n",
      "8000/8000 [==============================] - 1s 177us/step - loss: 0.3390 - accuracy: 0.8618\n",
      "Epoch 42/100\n",
      "8000/8000 [==============================] - 1s 178us/step - loss: 0.3402 - accuracy: 0.8587\n",
      "Epoch 43/100\n",
      "8000/8000 [==============================] - 1s 181us/step - loss: 0.3396 - accuracy: 0.8609\n",
      "Epoch 44/100\n",
      "8000/8000 [==============================] - 1s 184us/step - loss: 0.3390 - accuracy: 0.8625\n",
      "Epoch 45/100\n",
      "8000/8000 [==============================] - 1s 183us/step - loss: 0.3384 - accuracy: 0.8612\n",
      "Epoch 46/100\n",
      "8000/8000 [==============================] - 1s 178us/step - loss: 0.3397 - accuracy: 0.8577\n",
      "Epoch 47/100\n",
      "8000/8000 [==============================] - 1s 183us/step - loss: 0.3386 - accuracy: 0.8602\n",
      "Epoch 48/100\n",
      "8000/8000 [==============================] - 1s 180us/step - loss: 0.3378 - accuracy: 0.8602\n",
      "Epoch 49/100\n",
      "8000/8000 [==============================] - 2s 194us/step - loss: 0.3378 - accuracy: 0.8616\n",
      "Epoch 50/100\n",
      "8000/8000 [==============================] - 1s 184us/step - loss: 0.3384 - accuracy: 0.8615\n",
      "Epoch 51/100\n",
      "8000/8000 [==============================] - 1s 176us/step - loss: 0.3389 - accuracy: 0.8587\n",
      "Epoch 52/100\n",
      "8000/8000 [==============================] - 1s 169us/step - loss: 0.3389 - accuracy: 0.8602\n",
      "Epoch 53/100\n",
      "8000/8000 [==============================] - 2s 193us/step - loss: 0.3386 - accuracy: 0.8611\n",
      "Epoch 54/100\n",
      "8000/8000 [==============================] - 2s 220us/step - loss: 0.3367 - accuracy: 0.8616\n",
      "Epoch 55/100\n",
      "8000/8000 [==============================] - 2s 231us/step - loss: 0.3381 - accuracy: 0.8601\n",
      "Epoch 56/100\n",
      "8000/8000 [==============================] - 2s 218us/step - loss: 0.3383 - accuracy: 0.8609\n",
      "Epoch 57/100\n",
      "8000/8000 [==============================] - 2s 214us/step - loss: 0.3375 - accuracy: 0.8609\n",
      "Epoch 58/100\n",
      "8000/8000 [==============================] - 2s 225us/step - loss: 0.3377 - accuracy: 0.8606\n",
      "Epoch 59/100\n",
      "8000/8000 [==============================] - 2s 215us/step - loss: 0.3384 - accuracy: 0.8622\n",
      "Epoch 60/100\n",
      "8000/8000 [==============================] - 1s 184us/step - loss: 0.3380 - accuracy: 0.8621\n",
      "Epoch 61/100\n",
      "8000/8000 [==============================] - 2s 197us/step - loss: 0.3371 - accuracy: 0.8577\n",
      "Epoch 62/100\n",
      "8000/8000 [==============================] - 2s 207us/step - loss: 0.3378 - accuracy: 0.8633\n",
      "Epoch 63/100\n",
      "8000/8000 [==============================] - 2s 188us/step - loss: 0.3381 - accuracy: 0.8633\n",
      "Epoch 64/100\n",
      "8000/8000 [==============================] - 2s 197us/step - loss: 0.3370 - accuracy: 0.8610\n",
      "Epoch 65/100\n",
      "8000/8000 [==============================] - 1s 183us/step - loss: 0.3381 - accuracy: 0.8604\n",
      "Epoch 66/100\n",
      "8000/8000 [==============================] - 2s 192us/step - loss: 0.3379 - accuracy: 0.8590\n",
      "Epoch 67/100\n",
      "8000/8000 [==============================] - 2s 195us/step - loss: 0.3372 - accuracy: 0.8600\n",
      "Epoch 68/100\n",
      "8000/8000 [==============================] - 1s 185us/step - loss: 0.3373 - accuracy: 0.8596\n",
      "Epoch 69/100\n",
      "8000/8000 [==============================] - 2s 194us/step - loss: 0.3368 - accuracy: 0.8614\n",
      "Epoch 70/100\n",
      "8000/8000 [==============================] - 2s 190us/step - loss: 0.3376 - accuracy: 0.8601\n",
      "Epoch 71/100\n",
      "8000/8000 [==============================] - 2s 203us/step - loss: 0.3369 - accuracy: 0.8602\n",
      "Epoch 72/100\n",
      "8000/8000 [==============================] - 2s 199us/step - loss: 0.3376 - accuracy: 0.8586\n",
      "Epoch 73/100\n",
      "8000/8000 [==============================] - 2s 207us/step - loss: 0.3374 - accuracy: 0.8620\n",
      "Epoch 74/100\n",
      "8000/8000 [==============================] - 2s 194us/step - loss: 0.3361 - accuracy: 0.8599\n",
      "Epoch 75/100\n"
     ]
    },
    {
     "name": "stdout",
     "output_type": "stream",
     "text": [
      "8000/8000 [==============================] - 1s 163us/step - loss: 0.3366 - accuracy: 0.8609\n",
      "Epoch 76/100\n",
      "8000/8000 [==============================] - 1s 168us/step - loss: 0.3374 - accuracy: 0.8606\n",
      "Epoch 77/100\n",
      "8000/8000 [==============================] - 1s 170us/step - loss: 0.3368 - accuracy: 0.8618\n",
      "Epoch 78/100\n",
      "8000/8000 [==============================] - 1s 170us/step - loss: 0.3371 - accuracy: 0.8605\n",
      "Epoch 79/100\n",
      "8000/8000 [==============================] - 1s 164us/step - loss: 0.3369 - accuracy: 0.8615\n",
      "Epoch 80/100\n",
      "8000/8000 [==============================] - 1s 168us/step - loss: 0.3366 - accuracy: 0.8605\n",
      "Epoch 81/100\n",
      "8000/8000 [==============================] - 1s 168us/step - loss: 0.3376 - accuracy: 0.8621\n",
      "Epoch 82/100\n",
      "8000/8000 [==============================] - 1s 170us/step - loss: 0.3358 - accuracy: 0.8631\n",
      "Epoch 83/100\n",
      "8000/8000 [==============================] - 1s 168us/step - loss: 0.3361 - accuracy: 0.8601\n",
      "Epoch 84/100\n",
      "8000/8000 [==============================] - 1s 174us/step - loss: 0.3366 - accuracy: 0.8600\n",
      "Epoch 85/100\n",
      "8000/8000 [==============================] - 2s 203us/step - loss: 0.3355 - accuracy: 0.8601\n",
      "Epoch 86/100\n",
      "8000/8000 [==============================] - 1s 186us/step - loss: 0.3369 - accuracy: 0.8639\n",
      "Epoch 87/100\n",
      "8000/8000 [==============================] - 2s 206us/step - loss: 0.3370 - accuracy: 0.8606\n",
      "Epoch 88/100\n",
      "8000/8000 [==============================] - 2s 189us/step - loss: 0.3371 - accuracy: 0.8601\n",
      "Epoch 89/100\n",
      "8000/8000 [==============================] - 2s 197us/step - loss: 0.3360 - accuracy: 0.8618\n",
      "Epoch 90/100\n",
      "8000/8000 [==============================] - 2s 197us/step - loss: 0.3359 - accuracy: 0.8610\n",
      "Epoch 91/100\n",
      "8000/8000 [==============================] - 2s 216us/step - loss: 0.3362 - accuracy: 0.8606\n",
      "Epoch 92/100\n",
      "8000/8000 [==============================] - 2s 203us/step - loss: 0.3373 - accuracy: 0.8616\n",
      "Epoch 93/100\n",
      "8000/8000 [==============================] - 2s 193us/step - loss: 0.3358 - accuracy: 0.8615\n",
      "Epoch 94/100\n",
      "8000/8000 [==============================] - 2s 204us/step - loss: 0.3361 - accuracy: 0.8618\n",
      "Epoch 95/100\n",
      "8000/8000 [==============================] - 1s 179us/step - loss: 0.3367 - accuracy: 0.8609\n",
      "Epoch 96/100\n",
      "8000/8000 [==============================] - 2s 194us/step - loss: 0.3363 - accuracy: 0.8591\n",
      "Epoch 97/100\n",
      "8000/8000 [==============================] - 2s 204us/step - loss: 0.3366 - accuracy: 0.8597\n",
      "Epoch 98/100\n",
      "8000/8000 [==============================] - 2s 197us/step - loss: 0.3350 - accuracy: 0.8636\n",
      "Epoch 99/100\n",
      "8000/8000 [==============================] - 2s 211us/step - loss: 0.3351 - accuracy: 0.8627\n",
      "Epoch 100/100\n",
      "8000/8000 [==============================] - 2s 195us/step - loss: 0.3369 - accuracy: 0.8619\n"
     ]
    },
    {
     "data": {
      "text/plain": [
       "<keras.callbacks.callbacks.History at 0x7f065d632320>"
      ]
     },
     "execution_count": 9,
     "metadata": {},
     "output_type": "execute_result"
    }
   ],
   "source": [
    "classifier.fit(X_train, y_train, batch_size = 10, epochs = 100)"
   ]
  },
  {
   "cell_type": "markdown",
   "metadata": {},
   "source": [
    "# Parte 3 - Fazendo predições e avaliando o modelo\n",
    "\n",
    "## Prevendo os resultados com o conjunto de testes"
   ]
  },
  {
   "cell_type": "code",
   "execution_count": 10,
   "metadata": {},
   "outputs": [],
   "source": [
    "y_pred = classifier.predict(X_test)\n",
    "y_pred = (y_pred > 0.5)"
   ]
  },
  {
   "cell_type": "markdown",
   "metadata": {},
   "source": [
    "# Criando uma Confusion Matrix"
   ]
  },
  {
   "cell_type": "code",
   "execution_count": 11,
   "metadata": {},
   "outputs": [
    {
     "name": "stdout",
     "output_type": "stream",
     "text": [
      "[[1523   72]\n",
      " [ 199  206]]\n"
     ]
    }
   ],
   "source": [
    "from sklearn.metrics import confusion_matrix\n",
    "cm = confusion_matrix(y_test, y_pred)\n",
    "print(cm)"
   ]
  },
  {
   "cell_type": "markdown",
   "metadata": {},
   "source": [
    "# Initiate activation function experimentation\n",
    "\n",
    "# Initialising the 2nd ANN"
   ]
  },
  {
   "cell_type": "code",
   "execution_count": 12,
   "metadata": {},
   "outputs": [
    {
     "name": "stdout",
     "output_type": "stream",
     "text": [
      "Epoch 1/100\n",
      "8000/8000 [==============================] - 2s 253us/step - loss: 3.2881 - accuracy: 0.7960\n",
      "Epoch 2/100\n",
      "8000/8000 [==============================] - 2s 223us/step - loss: 3.2881 - accuracy: 0.7960\n",
      "Epoch 3/100\n",
      "8000/8000 [==============================] - 2s 213us/step - loss: 3.2881 - accuracy: 0.7960\n",
      "Epoch 4/100\n",
      "8000/8000 [==============================] - 1s 177us/step - loss: 3.2881 - accuracy: 0.7960\n",
      "Epoch 5/100\n",
      "8000/8000 [==============================] - 2s 198us/step - loss: 3.2881 - accuracy: 0.7960\n",
      "Epoch 6/100\n",
      "8000/8000 [==============================] - 1s 172us/step - loss: 3.2881 - accuracy: 0.7960\n",
      "Epoch 7/100\n",
      "8000/8000 [==============================] - 1s 171us/step - loss: 3.2881 - accuracy: 0.7960\n",
      "Epoch 8/100\n",
      "8000/8000 [==============================] - 1s 170us/step - loss: 3.2881 - accuracy: 0.7960\n",
      "Epoch 9/100\n",
      "8000/8000 [==============================] - 1s 171us/step - loss: 3.2881 - accuracy: 0.7960\n",
      "Epoch 10/100\n",
      "8000/8000 [==============================] - 1s 166us/step - loss: 3.2881 - accuracy: 0.7960\n",
      "Epoch 11/100\n",
      "8000/8000 [==============================] - 1s 173us/step - loss: 3.2881 - accuracy: 0.7960\n",
      "Epoch 12/100\n",
      "8000/8000 [==============================] - 1s 176us/step - loss: 3.2881 - accuracy: 0.7960\n",
      "Epoch 13/100\n",
      "8000/8000 [==============================] - 2s 233us/step - loss: 3.2881 - accuracy: 0.7960\n",
      "Epoch 14/100\n",
      "8000/8000 [==============================] - 2s 208us/step - loss: 3.2881 - accuracy: 0.7960\n",
      "Epoch 15/100\n",
      "8000/8000 [==============================] - 2s 193us/step - loss: 3.2881 - accuracy: 0.7960\n",
      "Epoch 16/100\n",
      "8000/8000 [==============================] - 2s 209us/step - loss: 3.2881 - accuracy: 0.7960\n",
      "Epoch 17/100\n",
      "8000/8000 [==============================] - 2s 215us/step - loss: 3.2881 - accuracy: 0.7960\n",
      "Epoch 18/100\n",
      "8000/8000 [==============================] - 2s 190us/step - loss: 3.2881 - accuracy: 0.7960\n",
      "Epoch 19/100\n",
      "8000/8000 [==============================] - 2s 188us/step - loss: 3.2881 - accuracy: 0.7960\n",
      "Epoch 20/100\n",
      "8000/8000 [==============================] - 1s 183us/step - loss: 3.2881 - accuracy: 0.7960\n",
      "Epoch 21/100\n",
      "8000/8000 [==============================] - 1s 173us/step - loss: 3.2881 - accuracy: 0.7960\n",
      "Epoch 22/100\n",
      "8000/8000 [==============================] - 1s 178us/step - loss: 3.2881 - accuracy: 0.7960\n",
      "Epoch 23/100\n",
      "8000/8000 [==============================] - 1s 182us/step - loss: 3.2881 - accuracy: 0.7960\n",
      "Epoch 24/100\n",
      "8000/8000 [==============================] - 1s 178us/step - loss: 3.2881 - accuracy: 0.7960\n",
      "Epoch 25/100\n",
      "8000/8000 [==============================] - 2s 206us/step - loss: 3.2881 - accuracy: 0.7960\n",
      "Epoch 26/100\n",
      "8000/8000 [==============================] - 2s 215us/step - loss: 3.2881 - accuracy: 0.7960\n",
      "Epoch 27/100\n",
      "8000/8000 [==============================] - 2s 217us/step - loss: 3.2881 - accuracy: 0.7960\n",
      "Epoch 28/100\n",
      "8000/8000 [==============================] - 2s 193us/step - loss: 3.2881 - accuracy: 0.7960\n",
      "Epoch 29/100\n",
      "8000/8000 [==============================] - 2s 204us/step - loss: 3.2881 - accuracy: 0.7960\n",
      "Epoch 30/100\n",
      "8000/8000 [==============================] - 2s 205us/step - loss: 3.2881 - accuracy: 0.7960\n",
      "Epoch 31/100\n",
      "8000/8000 [==============================] - 2s 200us/step - loss: 3.2881 - accuracy: 0.7960\n",
      "Epoch 32/100\n",
      "8000/8000 [==============================] - 2s 193us/step - loss: 3.2881 - accuracy: 0.7960\n",
      "Epoch 33/100\n",
      "8000/8000 [==============================] - 2s 220us/step - loss: 3.2881 - accuracy: 0.7960\n",
      "Epoch 34/100\n",
      "8000/8000 [==============================] - 2s 200us/step - loss: 3.2881 - accuracy: 0.7960\n",
      "Epoch 35/100\n",
      "8000/8000 [==============================] - 1s 187us/step - loss: 3.2881 - accuracy: 0.7960\n",
      "Epoch 36/100\n",
      "8000/8000 [==============================] - 2s 213us/step - loss: 3.2881 - accuracy: 0.7960\n",
      "Epoch 37/100\n",
      "8000/8000 [==============================] - 2s 201us/step - loss: 3.2881 - accuracy: 0.7960\n",
      "Epoch 38/100\n",
      "8000/8000 [==============================] - 1s 182us/step - loss: 3.2881 - accuracy: 0.7960\n",
      "Epoch 39/100\n",
      "8000/8000 [==============================] - 1s 175us/step - loss: 3.2881 - accuracy: 0.7960\n",
      "Epoch 40/100\n",
      "8000/8000 [==============================] - 1s 180us/step - loss: 3.2881 - accuracy: 0.7960\n",
      "Epoch 41/100\n",
      "8000/8000 [==============================] - 2s 250us/step - loss: 3.2881 - accuracy: 0.7960\n",
      "Epoch 42/100\n",
      "8000/8000 [==============================] - 1s 180us/step - loss: 3.2881 - accuracy: 0.7960\n",
      "Epoch 43/100\n",
      "8000/8000 [==============================] - 1s 155us/step - loss: 3.2881 - accuracy: 0.7960\n",
      "Epoch 44/100\n",
      "8000/8000 [==============================] - 1s 168us/step - loss: 3.2881 - accuracy: 0.7960\n",
      "Epoch 45/100\n",
      "8000/8000 [==============================] - 1s 154us/step - loss: 3.2881 - accuracy: 0.7960\n",
      "Epoch 46/100\n",
      "8000/8000 [==============================] - 1s 165us/step - loss: 3.2881 - accuracy: 0.7960\n",
      "Epoch 47/100\n",
      "8000/8000 [==============================] - 1s 154us/step - loss: 3.2881 - accuracy: 0.7960\n",
      "Epoch 48/100\n",
      "8000/8000 [==============================] - 1s 143us/step - loss: 3.2881 - accuracy: 0.7960\n",
      "Epoch 49/100\n",
      "8000/8000 [==============================] - 1s 154us/step - loss: 3.2881 - accuracy: 0.7960\n",
      "Epoch 50/100\n",
      "8000/8000 [==============================] - 1s 156us/step - loss: 3.2881 - accuracy: 0.7960\n",
      "Epoch 51/100\n",
      "8000/8000 [==============================] - 1s 165us/step - loss: 3.2881 - accuracy: 0.7960\n",
      "Epoch 52/100\n",
      "8000/8000 [==============================] - 1s 173us/step - loss: 3.2881 - accuracy: 0.7960\n",
      "Epoch 53/100\n",
      "8000/8000 [==============================] - 2s 195us/step - loss: 3.2881 - accuracy: 0.7960\n",
      "Epoch 54/100\n",
      "8000/8000 [==============================] - 2s 200us/step - loss: 3.2881 - accuracy: 0.79600s - loss:\n",
      "Epoch 55/100\n",
      "8000/8000 [==============================] - 1s 173us/step - loss: 3.2881 - accuracy: 0.7960\n",
      "Epoch 56/100\n",
      "8000/8000 [==============================] - 1s 169us/step - loss: 3.2881 - accuracy: 0.7960\n",
      "Epoch 57/100\n",
      "8000/8000 [==============================] - 2s 226us/step - loss: 3.2881 - accuracy: 0.7960\n",
      "Epoch 58/100\n",
      "8000/8000 [==============================] - 2s 211us/step - loss: 3.2881 - accuracy: 0.7960\n",
      "Epoch 59/100\n",
      "8000/8000 [==============================] - 2s 196us/step - loss: 3.2881 - accuracy: 0.79600s - loss: 3.2470 - accuracy\n",
      "Epoch 60/100\n",
      "8000/8000 [==============================] - 1s 150us/step - loss: 3.2881 - accuracy: 0.7960\n",
      "Epoch 61/100\n",
      "8000/8000 [==============================] - 1s 113us/step - loss: 3.2881 - accuracy: 0.7960\n",
      "Epoch 62/100\n",
      "8000/8000 [==============================] - 1s 133us/step - loss: 3.2881 - accuracy: 0.7960\n",
      "Epoch 63/100\n",
      "8000/8000 [==============================] - 1s 110us/step - loss: 3.2881 - accuracy: 0.7960\n",
      "Epoch 64/100\n",
      "8000/8000 [==============================] - 1s 139us/step - loss: 3.2881 - accuracy: 0.7960\n",
      "Epoch 65/100\n",
      "8000/8000 [==============================] - 1s 127us/step - loss: 3.2881 - accuracy: 0.7960\n",
      "Epoch 66/100\n",
      "8000/8000 [==============================] - 1s 168us/step - loss: 3.2881 - accuracy: 0.7960\n",
      "Epoch 67/100\n",
      "8000/8000 [==============================] - 1s 118us/step - loss: 3.2881 - accuracy: 0.7960\n",
      "Epoch 68/100\n",
      "8000/8000 [==============================] - 1s 112us/step - loss: 3.2881 - accuracy: 0.7960\n",
      "Epoch 69/100\n",
      "8000/8000 [==============================] - 1s 111us/step - loss: 3.2881 - accuracy: 0.7960\n",
      "Epoch 70/100\n",
      "8000/8000 [==============================] - 1s 111us/step - loss: 3.2881 - accuracy: 0.7960\n",
      "Epoch 71/100\n",
      "8000/8000 [==============================] - 1s 119us/step - loss: 3.2881 - accuracy: 0.7960\n",
      "Epoch 72/100\n",
      "8000/8000 [==============================] - 1s 111us/step - loss: 3.2881 - accuracy: 0.7960\n",
      "Epoch 73/100\n",
      "8000/8000 [==============================] - 1s 111us/step - loss: 3.2881 - accuracy: 0.7960\n",
      "Epoch 74/100\n",
      "8000/8000 [==============================] - 1s 110us/step - loss: 3.2881 - accuracy: 0.7960\n",
      "Epoch 75/100\n",
      "8000/8000 [==============================] - 1s 111us/step - loss: 3.2881 - accuracy: 0.7960\n",
      "Epoch 76/100\n",
      "8000/8000 [==============================] - 1s 119us/step - loss: 3.2881 - accuracy: 0.7960\n",
      "Epoch 77/100\n",
      "8000/8000 [==============================] - 1s 136us/step - loss: 3.2881 - accuracy: 0.7960\n",
      "Epoch 78/100\n"
     ]
    },
    {
     "name": "stdout",
     "output_type": "stream",
     "text": [
      "8000/8000 [==============================] - 1s 177us/step - loss: 3.2881 - accuracy: 0.7960\n",
      "Epoch 79/100\n",
      "8000/8000 [==============================] - 1s 131us/step - loss: 3.2881 - accuracy: 0.7960\n",
      "Epoch 80/100\n",
      "8000/8000 [==============================] - 1s 126us/step - loss: 3.2881 - accuracy: 0.7960\n",
      "Epoch 81/100\n",
      "8000/8000 [==============================] - 1s 126us/step - loss: 3.2881 - accuracy: 0.7960\n",
      "Epoch 82/100\n",
      "8000/8000 [==============================] - 1s 126us/step - loss: 3.2881 - accuracy: 0.7960\n",
      "Epoch 83/100\n",
      "8000/8000 [==============================] - 1s 142us/step - loss: 3.2881 - accuracy: 0.7960\n",
      "Epoch 84/100\n",
      "8000/8000 [==============================] - 1s 153us/step - loss: 3.2881 - accuracy: 0.7960\n",
      "Epoch 85/100\n",
      "8000/8000 [==============================] - 1s 139us/step - loss: 3.2881 - accuracy: 0.7960\n",
      "Epoch 86/100\n",
      "8000/8000 [==============================] - 1s 138us/step - loss: 3.2881 - accuracy: 0.7960\n",
      "Epoch 87/100\n",
      "8000/8000 [==============================] - 1s 133us/step - loss: 3.2881 - accuracy: 0.7960\n",
      "Epoch 88/100\n",
      "8000/8000 [==============================] - 1s 163us/step - loss: 3.2881 - accuracy: 0.7960\n",
      "Epoch 89/100\n",
      "8000/8000 [==============================] - 1s 156us/step - loss: 3.2881 - accuracy: 0.7960\n",
      "Epoch 90/100\n",
      "8000/8000 [==============================] - 1s 158us/step - loss: 3.2881 - accuracy: 0.7960\n",
      "Epoch 91/100\n",
      "8000/8000 [==============================] - 1s 142us/step - loss: 3.2881 - accuracy: 0.7960\n",
      "Epoch 92/100\n",
      "8000/8000 [==============================] - 1s 125us/step - loss: 3.2881 - accuracy: 0.7960\n",
      "Epoch 93/100\n",
      "8000/8000 [==============================] - 1s 126us/step - loss: 3.2881 - accuracy: 0.7960\n",
      "Epoch 94/100\n",
      "8000/8000 [==============================] - 2s 199us/step - loss: 3.2881 - accuracy: 0.7960\n",
      "Epoch 95/100\n",
      "8000/8000 [==============================] - 1s 125us/step - loss: 3.2881 - accuracy: 0.7960\n",
      "Epoch 96/100\n",
      "8000/8000 [==============================] - 1s 125us/step - loss: 3.2881 - accuracy: 0.7960\n",
      "Epoch 97/100\n",
      "8000/8000 [==============================] - 1s 129us/step - loss: 3.2881 - accuracy: 0.7960\n",
      "Epoch 98/100\n",
      "8000/8000 [==============================] - 1s 166us/step - loss: 3.2881 - accuracy: 0.7960\n",
      "Epoch 99/100\n",
      "8000/8000 [==============================] - 1s 161us/step - loss: 3.2881 - accuracy: 0.7960\n",
      "Epoch 100/100\n",
      "8000/8000 [==============================] - 1s 135us/step - loss: 3.2881 - accuracy: 0.7960\n"
     ]
    },
    {
     "data": {
      "text/plain": [
       "<keras.callbacks.callbacks.History at 0x7f06083bfe48>"
      ]
     },
     "execution_count": 12,
     "metadata": {},
     "output_type": "execute_result"
    }
   ],
   "source": [
    "del classifier\n",
    "\n",
    "classifier = Sequential()\n",
    "\n",
    "classifier.add(Dense(units = 6, kernel_initializer = 'uniform', activation = 'sigmoid', input_dim = 11))\n",
    "\n",
    "classifier.add(Dense(units = 6, kernel_initializer = 'uniform', activation = 'sigmoid'))\n",
    "\n",
    "classifier.add(Dense(units = 1, kernel_initializer = 'uniform', activation = 'tanh'))\n",
    "\n",
    "classifier.compile(optimizer = 'adam', loss = 'binary_crossentropy', metrics = ['accuracy'])\n",
    "\n",
    "classifier.fit(X_train, y_train, batch_size = 10, epochs = 100)"
   ]
  },
  {
   "cell_type": "code",
   "execution_count": 13,
   "metadata": {},
   "outputs": [],
   "source": [
    "y_pred = classifier.predict(X_test)\n",
    "y_pred = (y_pred > 0.5)"
   ]
  },
  {
   "cell_type": "markdown",
   "metadata": {},
   "source": [
    "# Making the Confusion Matrix"
   ]
  },
  {
   "cell_type": "code",
   "execution_count": 14,
   "metadata": {},
   "outputs": [
    {
     "name": "stdout",
     "output_type": "stream",
     "text": [
      "[[1595    0]\n",
      " [ 405    0]]\n"
     ]
    }
   ],
   "source": [
    "from sklearn.metrics import confusion_matrix\n",
    "cm = confusion_matrix(y_test, y_pred)\n",
    "print(cm)"
   ]
  },
  {
   "cell_type": "markdown",
   "metadata": {},
   "source": [
    "# Initialising the 3rd ANN"
   ]
  },
  {
   "cell_type": "code",
   "execution_count": null,
   "metadata": {},
   "outputs": [
    {
     "name": "stdout",
     "output_type": "stream",
     "text": [
      "Epoch 1/100\n",
      "8000/8000 [==============================] - 1s 116us/step - loss: 0.5807 - accuracy: 0.8008\n",
      "Epoch 2/100\n",
      "8000/8000 [==============================] - 1s 95us/step - loss: 0.4081 - accuracy: 0.8123\n",
      "Epoch 3/100\n",
      "8000/8000 [==============================] - 1s 97us/step - loss: 0.3989 - accuracy: 0.8183\n",
      "Epoch 4/100\n",
      "8000/8000 [==============================] - 1s 93us/step - loss: 0.3906 - accuracy: 0.8267\n",
      "Epoch 5/100\n",
      "8000/8000 [==============================] - 1s 95us/step - loss: 0.3843 - accuracy: 0.8345\n",
      "Epoch 6/100\n",
      "8000/8000 [==============================] - 1s 96us/step - loss: 0.3965 - accuracy: 0.8341\n",
      "Epoch 7/100\n",
      "8000/8000 [==============================] - 1s 97us/step - loss: 0.4706 - accuracy: 0.8199\n",
      "Epoch 8/100\n",
      "8000/8000 [==============================] - 1s 95us/step - loss: 0.4021 - accuracy: 0.8207\n",
      "Epoch 9/100\n",
      "8000/8000 [==============================] - 1s 98us/step - loss: 0.3966 - accuracy: 0.8236\n",
      "Epoch 10/100\n",
      "8000/8000 [==============================] - 1s 94us/step - loss: 0.3952 - accuracy: 0.8241\n",
      "Epoch 11/100\n",
      "8000/8000 [==============================] - 1s 99us/step - loss: 0.3924 - accuracy: 0.8242\n",
      "Epoch 12/100\n",
      "8000/8000 [==============================] - 1s 96us/step - loss: 0.3870 - accuracy: 0.8267\n",
      "Epoch 13/100\n",
      "8000/8000 [==============================] - 1s 102us/step - loss: 0.3815 - accuracy: 0.8281\n",
      "Epoch 14/100\n",
      "8000/8000 [==============================] - 1s 132us/step - loss: 0.3807 - accuracy: 0.8315\n",
      "Epoch 15/100\n",
      "8000/8000 [==============================] - 1s 135us/step - loss: 0.3773 - accuracy: 0.8353\n",
      "Epoch 16/100\n",
      "8000/8000 [==============================] - 1s 141us/step - loss: 0.3748 - accuracy: 0.8356\n",
      "Epoch 17/100\n",
      "8000/8000 [==============================] - 1s 138us/step - loss: 0.3736 - accuracy: 0.8384\n",
      "Epoch 18/100\n",
      "8000/8000 [==============================] - 1s 136us/step - loss: 0.3751 - accuracy: 0.8411\n",
      "Epoch 19/100\n",
      "8000/8000 [==============================] - 1s 136us/step - loss: 0.3719 - accuracy: 0.8399\n",
      "Epoch 20/100\n",
      "8000/8000 [==============================] - 1s 132us/step - loss: 0.3742 - accuracy: 0.8418\n",
      "Epoch 21/100\n",
      "8000/8000 [==============================] - 1s 137us/step - loss: 0.3814 - accuracy: 0.8311\n",
      "Epoch 22/100\n",
      "8000/8000 [==============================] - 1s 133us/step - loss: 0.3760 - accuracy: 0.8403\n",
      "Epoch 23/100\n",
      "8000/8000 [==============================] - 1s 141us/step - loss: 0.3745 - accuracy: 0.8378\n",
      "Epoch 24/100\n",
      "8000/8000 [==============================] - 1s 142us/step - loss: 0.3676 - accuracy: 0.8395\n",
      "Epoch 25/100\n",
      "8000/8000 [==============================] - 1s 133us/step - loss: 0.3697 - accuracy: 0.8386\n",
      "Epoch 26/100\n",
      "8000/8000 [==============================] - 1s 134us/step - loss: 0.3705 - accuracy: 0.8394\n",
      "Epoch 27/100\n",
      "8000/8000 [==============================] - 1s 133us/step - loss: 0.3696 - accuracy: 0.8394\n",
      "Epoch 28/100\n",
      "8000/8000 [==============================] - 1s 137us/step - loss: 0.3723 - accuracy: 0.8407\n",
      "Epoch 29/100\n",
      "8000/8000 [==============================] - 1s 135us/step - loss: 0.3704 - accuracy: 0.8388\n",
      "Epoch 30/100\n",
      "8000/8000 [==============================] - 1s 135us/step - loss: 0.3708 - accuracy: 0.8389\n",
      "Epoch 31/100\n",
      "8000/8000 [==============================] - 1s 138us/step - loss: 0.3706 - accuracy: 0.8418\n",
      "Epoch 32/100\n",
      "8000/8000 [==============================] - 1s 136us/step - loss: 0.3679 - accuracy: 0.8403\n",
      "Epoch 33/100\n",
      "8000/8000 [==============================] - 1s 135us/step - loss: 0.3719 - accuracy: 0.8380\n",
      "Epoch 34/100\n",
      "8000/8000 [==============================] - 1s 133us/step - loss: 0.3727 - accuracy: 0.8404\n",
      "Epoch 35/100\n",
      "8000/8000 [==============================] - 1s 137us/step - loss: 0.3670 - accuracy: 0.8413\n",
      "Epoch 36/100\n",
      "8000/8000 [==============================] - 1s 133us/step - loss: 0.3652 - accuracy: 0.8431\n",
      "Epoch 37/100\n",
      "8000/8000 [==============================] - 1s 137us/step - loss: 0.3643 - accuracy: 0.8418\n",
      "Epoch 38/100\n",
      "8000/8000 [==============================] - 1s 135us/step - loss: 0.3637 - accuracy: 0.8403\n",
      "Epoch 39/100\n",
      "8000/8000 [==============================] - 1s 134us/step - loss: 0.3674 - accuracy: 0.8434\n",
      "Epoch 40/100\n",
      "8000/8000 [==============================] - 1s 136us/step - loss: 0.3625 - accuracy: 0.8436\n",
      "Epoch 41/100\n",
      "8000/8000 [==============================] - 1s 135us/step - loss: 0.3645 - accuracy: 0.8440\n",
      "Epoch 42/100\n",
      "8000/8000 [==============================] - 1s 134us/step - loss: 0.3676 - accuracy: 0.8432\n",
      "Epoch 43/100\n",
      "8000/8000 [==============================] - 1s 136us/step - loss: 0.3607 - accuracy: 0.8418\n",
      "Epoch 44/100\n",
      "8000/8000 [==============================] - 1s 132us/step - loss: 0.3884 - accuracy: 0.8430\n",
      "Epoch 45/100\n",
      "8000/8000 [==============================] - 1s 134us/step - loss: 0.3819 - accuracy: 0.8426\n",
      "Epoch 46/100\n",
      "8000/8000 [==============================] - 1s 134us/step - loss: 0.3763 - accuracy: 0.8459\n",
      "Epoch 47/100\n",
      "8000/8000 [==============================] - 1s 146us/step - loss: 0.3739 - accuracy: 0.8472\n",
      "Epoch 48/100\n",
      "8000/8000 [==============================] - 1s 136us/step - loss: 0.3723 - accuracy: 0.8466\n",
      "Epoch 49/100\n",
      "8000/8000 [==============================] - 1s 135us/step - loss: 0.3679 - accuracy: 0.8456\n",
      "Epoch 50/100\n",
      "8000/8000 [==============================] - 1s 135us/step - loss: 0.3611 - accuracy: 0.8462\n",
      "Epoch 51/100\n",
      "8000/8000 [==============================] - 1s 135us/step - loss: 0.3610 - accuracy: 0.8472\n",
      "Epoch 52/100\n",
      "8000/8000 [==============================] - 1s 135us/step - loss: 0.3651 - accuracy: 0.8474\n",
      "Epoch 53/100\n",
      "8000/8000 [==============================] - 1s 138us/step - loss: 0.3612 - accuracy: 0.8471\n",
      "Epoch 54/100\n",
      "8000/8000 [==============================] - 1s 137us/step - loss: 0.3565 - accuracy: 0.8495\n",
      "Epoch 55/100\n",
      "8000/8000 [==============================] - 1s 144us/step - loss: 0.3638 - accuracy: 0.8474\n",
      "Epoch 56/100\n",
      "8000/8000 [==============================] - 1s 141us/step - loss: 0.3757 - accuracy: 0.8471\n",
      "Epoch 57/100\n",
      "8000/8000 [==============================] - 1s 141us/step - loss: 0.4247 - accuracy: 0.8460\n",
      "Epoch 58/100\n",
      "8000/8000 [==============================] - 1s 140us/step - loss: 0.3957 - accuracy: 0.8464\n",
      "Epoch 59/100\n",
      "8000/8000 [==============================] - 1s 141us/step - loss: 0.3785 - accuracy: 0.8464\n",
      "Epoch 60/100\n",
      "8000/8000 [==============================] - 1s 135us/step - loss: 0.3648 - accuracy: 0.8479\n",
      "Epoch 61/100\n",
      "8000/8000 [==============================] - 1s 139us/step - loss: 0.3617 - accuracy: 0.8494\n",
      "Epoch 62/100\n",
      "8000/8000 [==============================] - 1s 139us/step - loss: 0.3631 - accuracy: 0.8503\n",
      "Epoch 63/100\n",
      "8000/8000 [==============================] - 1s 140us/step - loss: 0.3636 - accuracy: 0.8485\n",
      "Epoch 64/100\n",
      "8000/8000 [==============================] - 1s 137us/step - loss: 0.3607 - accuracy: 0.8505\n",
      "Epoch 65/100\n",
      "8000/8000 [==============================] - 1s 139us/step - loss: 0.3601 - accuracy: 0.8500\n",
      "Epoch 66/100\n",
      "8000/8000 [==============================] - 1s 140us/step - loss: 0.3618 - accuracy: 0.8508\n",
      "Epoch 67/100\n",
      "8000/8000 [==============================] - 1s 140us/step - loss: 0.3615 - accuracy: 0.8529\n",
      "Epoch 68/100\n",
      "8000/8000 [==============================] - 1s 137us/step - loss: 0.3669 - accuracy: 0.8508\n",
      "Epoch 69/100\n",
      "8000/8000 [==============================] - 1s 140us/step - loss: 0.3661 - accuracy: 0.8486\n",
      "Epoch 70/100\n",
      "8000/8000 [==============================] - 1s 141us/step - loss: 0.3634 - accuracy: 0.8528\n",
      "Epoch 71/100\n",
      "8000/8000 [==============================] - 1s 139us/step - loss: 0.3726 - accuracy: 0.8510\n",
      "Epoch 72/100\n",
      "8000/8000 [==============================] - 1s 144us/step - loss: 0.3632 - accuracy: 0.8505\n",
      "Epoch 73/100\n",
      "8000/8000 [==============================] - 1s 136us/step - loss: 0.3604 - accuracy: 0.8524\n",
      "Epoch 74/100\n",
      "8000/8000 [==============================] - 1s 141us/step - loss: 0.3575 - accuracy: 0.8533\n",
      "Epoch 75/100\n",
      "7330/8000 [==========================>...] - ETA: 0s - loss: 0.3618 - accuracy: 0.8520"
     ]
    }
   ],
   "source": [
    "del classifier\n",
    "\n",
    "classifier = Sequential()\n",
    "\n",
    "classifier.add(Dense(units = 6, kernel_initializer = 'uniform', activation = 'relu', input_dim = 11))\n",
    "\n",
    "classifier.add(Dense(units = 6, kernel_initializer = 'uniform', activation = 'relu'))\n",
    "\n",
    "classifier.add(Dense(units = 1, kernel_initializer = 'uniform', activation = 'relu'))\n",
    "\n",
    "classifier.compile(optimizer = 'adam', loss = 'binary_crossentropy', metrics = ['accuracy'])\n",
    "\n",
    "classifier.fit(X_train, y_train, batch_size = 10, epochs = 100)"
   ]
  },
  {
   "cell_type": "code",
   "execution_count": 16,
   "metadata": {},
   "outputs": [],
   "source": [
    "y_pred = classifier.predict(X_test)\n",
    "y_pred = (y_pred > 0.5)"
   ]
  },
  {
   "cell_type": "markdown",
   "metadata": {},
   "source": [
    "# Making the Confusion Matrix"
   ]
  },
  {
   "cell_type": "code",
   "execution_count": 17,
   "metadata": {},
   "outputs": [
    {
     "name": "stdout",
     "output_type": "stream",
     "text": [
      "[[1511   84]\n",
      " [ 202  203]]\n"
     ]
    }
   ],
   "source": [
    "from sklearn.metrics import confusion_matrix\n",
    "cm = confusion_matrix(y_test, y_pred)\n",
    "print(cm)"
   ]
  },
  {
   "cell_type": "markdown",
   "metadata": {},
   "source": [
    "---\n",
    "# Parte 4 - Evaluating, Improving and Tuning the ANN\n",
    "\n",
    "## Evaluating the ANN"
   ]
  },
  {
   "cell_type": "code",
   "execution_count": 18,
   "metadata": {},
   "outputs": [
    {
     "ename": "KeyboardInterrupt",
     "evalue": "",
     "output_type": "error",
     "traceback": [
      "\u001b[0;31m---------------------------------------------------------------------------\u001b[0m",
      "\u001b[0;31mKeyboardInterrupt\u001b[0m                         Traceback (most recent call last)",
      "\u001b[0;32m<ipython-input-18-11334fce1e00>\u001b[0m in \u001b[0;36m<module>\u001b[0;34m\u001b[0m\n\u001b[1;32m     13\u001b[0m \u001b[0;34m\u001b[0m\u001b[0m\n\u001b[1;32m     14\u001b[0m \u001b[0mclassifier\u001b[0m \u001b[0;34m=\u001b[0m \u001b[0mKerasClassifier\u001b[0m\u001b[0;34m(\u001b[0m\u001b[0mbuild_fn\u001b[0m \u001b[0;34m=\u001b[0m \u001b[0mbuild_classifier\u001b[0m\u001b[0;34m,\u001b[0m \u001b[0mbatch_size\u001b[0m \u001b[0;34m=\u001b[0m \u001b[0;36m10\u001b[0m\u001b[0;34m,\u001b[0m \u001b[0mepochs\u001b[0m \u001b[0;34m=\u001b[0m \u001b[0;36m10\u001b[0m\u001b[0;34m)\u001b[0m\u001b[0;34m\u001b[0m\u001b[0;34m\u001b[0m\u001b[0m\n\u001b[0;32m---> 15\u001b[0;31m \u001b[0maccuracies\u001b[0m \u001b[0;34m=\u001b[0m \u001b[0mcross_val_score\u001b[0m\u001b[0;34m(\u001b[0m\u001b[0mestimator\u001b[0m \u001b[0;34m=\u001b[0m \u001b[0mclassifier\u001b[0m\u001b[0;34m,\u001b[0m \u001b[0mX\u001b[0m \u001b[0;34m=\u001b[0m \u001b[0mX_train\u001b[0m\u001b[0;34m,\u001b[0m \u001b[0my\u001b[0m \u001b[0;34m=\u001b[0m \u001b[0my_train\u001b[0m\u001b[0;34m,\u001b[0m \u001b[0mcv\u001b[0m \u001b[0;34m=\u001b[0m \u001b[0;36m10\u001b[0m\u001b[0;34m,\u001b[0m \u001b[0mn_jobs\u001b[0m \u001b[0;34m=\u001b[0m \u001b[0;34m-\u001b[0m\u001b[0;36m1\u001b[0m\u001b[0;34m)\u001b[0m\u001b[0;34m\u001b[0m\u001b[0;34m\u001b[0m\u001b[0m\n\u001b[0m\u001b[1;32m     16\u001b[0m \u001b[0mmean\u001b[0m \u001b[0;34m=\u001b[0m \u001b[0maccuracies\u001b[0m\u001b[0;34m.\u001b[0m\u001b[0mmean\u001b[0m\u001b[0;34m(\u001b[0m\u001b[0;34m)\u001b[0m\u001b[0;34m\u001b[0m\u001b[0;34m\u001b[0m\u001b[0m\n\u001b[1;32m     17\u001b[0m \u001b[0mvariance\u001b[0m \u001b[0;34m=\u001b[0m \u001b[0maccuracies\u001b[0m\u001b[0;34m.\u001b[0m\u001b[0mstd\u001b[0m\u001b[0;34m(\u001b[0m\u001b[0;34m)\u001b[0m\u001b[0;34m\u001b[0m\u001b[0;34m\u001b[0m\u001b[0m\n",
      "\u001b[0;32m~/.virtualenvs/deeplearning/local/lib/python3.7/site-packages/sklearn/model_selection/_validation.py\u001b[0m in \u001b[0;36mcross_val_score\u001b[0;34m(estimator, X, y, groups, scoring, cv, n_jobs, verbose, fit_params, pre_dispatch, error_score)\u001b[0m\n\u001b[1;32m    389\u001b[0m                                 \u001b[0mfit_params\u001b[0m\u001b[0;34m=\u001b[0m\u001b[0mfit_params\u001b[0m\u001b[0;34m,\u001b[0m\u001b[0;34m\u001b[0m\u001b[0;34m\u001b[0m\u001b[0m\n\u001b[1;32m    390\u001b[0m                                 \u001b[0mpre_dispatch\u001b[0m\u001b[0;34m=\u001b[0m\u001b[0mpre_dispatch\u001b[0m\u001b[0;34m,\u001b[0m\u001b[0;34m\u001b[0m\u001b[0;34m\u001b[0m\u001b[0m\n\u001b[0;32m--> 391\u001b[0;31m                                 error_score=error_score)\n\u001b[0m\u001b[1;32m    392\u001b[0m     \u001b[0;32mreturn\u001b[0m \u001b[0mcv_results\u001b[0m\u001b[0;34m[\u001b[0m\u001b[0;34m'test_score'\u001b[0m\u001b[0;34m]\u001b[0m\u001b[0;34m\u001b[0m\u001b[0;34m\u001b[0m\u001b[0m\n\u001b[1;32m    393\u001b[0m \u001b[0;34m\u001b[0m\u001b[0m\n",
      "\u001b[0;32m~/.virtualenvs/deeplearning/local/lib/python3.7/site-packages/sklearn/model_selection/_validation.py\u001b[0m in \u001b[0;36mcross_validate\u001b[0;34m(estimator, X, y, groups, scoring, cv, n_jobs, verbose, fit_params, pre_dispatch, return_train_score, return_estimator, error_score)\u001b[0m\n\u001b[1;32m    230\u001b[0m             \u001b[0mreturn_times\u001b[0m\u001b[0;34m=\u001b[0m\u001b[0;32mTrue\u001b[0m\u001b[0;34m,\u001b[0m \u001b[0mreturn_estimator\u001b[0m\u001b[0;34m=\u001b[0m\u001b[0mreturn_estimator\u001b[0m\u001b[0;34m,\u001b[0m\u001b[0;34m\u001b[0m\u001b[0;34m\u001b[0m\u001b[0m\n\u001b[1;32m    231\u001b[0m             error_score=error_score)\n\u001b[0;32m--> 232\u001b[0;31m         for train, test in cv.split(X, y, groups))\n\u001b[0m\u001b[1;32m    233\u001b[0m \u001b[0;34m\u001b[0m\u001b[0m\n\u001b[1;32m    234\u001b[0m     \u001b[0mzipped_scores\u001b[0m \u001b[0;34m=\u001b[0m \u001b[0mlist\u001b[0m\u001b[0;34m(\u001b[0m\u001b[0mzip\u001b[0m\u001b[0;34m(\u001b[0m\u001b[0;34m*\u001b[0m\u001b[0mscores\u001b[0m\u001b[0;34m)\u001b[0m\u001b[0;34m)\u001b[0m\u001b[0;34m\u001b[0m\u001b[0;34m\u001b[0m\u001b[0m\n",
      "\u001b[0;32m~/.virtualenvs/deeplearning/local/lib/python3.7/site-packages/joblib/parallel.py\u001b[0m in \u001b[0;36m__call__\u001b[0;34m(self, iterable)\u001b[0m\n\u001b[1;32m   1014\u001b[0m \u001b[0;34m\u001b[0m\u001b[0m\n\u001b[1;32m   1015\u001b[0m             \u001b[0;32mwith\u001b[0m \u001b[0mself\u001b[0m\u001b[0;34m.\u001b[0m\u001b[0m_backend\u001b[0m\u001b[0;34m.\u001b[0m\u001b[0mretrieval_context\u001b[0m\u001b[0;34m(\u001b[0m\u001b[0;34m)\u001b[0m\u001b[0;34m:\u001b[0m\u001b[0;34m\u001b[0m\u001b[0;34m\u001b[0m\u001b[0m\n\u001b[0;32m-> 1016\u001b[0;31m                 \u001b[0mself\u001b[0m\u001b[0;34m.\u001b[0m\u001b[0mretrieve\u001b[0m\u001b[0;34m(\u001b[0m\u001b[0;34m)\u001b[0m\u001b[0;34m\u001b[0m\u001b[0;34m\u001b[0m\u001b[0m\n\u001b[0m\u001b[1;32m   1017\u001b[0m             \u001b[0;31m# Make sure that we get a last message telling us we are done\u001b[0m\u001b[0;34m\u001b[0m\u001b[0;34m\u001b[0m\u001b[0;34m\u001b[0m\u001b[0m\n\u001b[1;32m   1018\u001b[0m             \u001b[0melapsed_time\u001b[0m \u001b[0;34m=\u001b[0m \u001b[0mtime\u001b[0m\u001b[0;34m.\u001b[0m\u001b[0mtime\u001b[0m\u001b[0;34m(\u001b[0m\u001b[0;34m)\u001b[0m \u001b[0;34m-\u001b[0m \u001b[0mself\u001b[0m\u001b[0;34m.\u001b[0m\u001b[0m_start_time\u001b[0m\u001b[0;34m\u001b[0m\u001b[0;34m\u001b[0m\u001b[0m\n",
      "\u001b[0;32m~/.virtualenvs/deeplearning/local/lib/python3.7/site-packages/joblib/parallel.py\u001b[0m in \u001b[0;36mretrieve\u001b[0;34m(self)\u001b[0m\n\u001b[1;32m    906\u001b[0m             \u001b[0;32mtry\u001b[0m\u001b[0;34m:\u001b[0m\u001b[0;34m\u001b[0m\u001b[0;34m\u001b[0m\u001b[0m\n\u001b[1;32m    907\u001b[0m                 \u001b[0;32mif\u001b[0m \u001b[0mgetattr\u001b[0m\u001b[0;34m(\u001b[0m\u001b[0mself\u001b[0m\u001b[0;34m.\u001b[0m\u001b[0m_backend\u001b[0m\u001b[0;34m,\u001b[0m \u001b[0;34m'supports_timeout'\u001b[0m\u001b[0;34m,\u001b[0m \u001b[0;32mFalse\u001b[0m\u001b[0;34m)\u001b[0m\u001b[0;34m:\u001b[0m\u001b[0;34m\u001b[0m\u001b[0;34m\u001b[0m\u001b[0m\n\u001b[0;32m--> 908\u001b[0;31m                     \u001b[0mself\u001b[0m\u001b[0;34m.\u001b[0m\u001b[0m_output\u001b[0m\u001b[0;34m.\u001b[0m\u001b[0mextend\u001b[0m\u001b[0;34m(\u001b[0m\u001b[0mjob\u001b[0m\u001b[0;34m.\u001b[0m\u001b[0mget\u001b[0m\u001b[0;34m(\u001b[0m\u001b[0mtimeout\u001b[0m\u001b[0;34m=\u001b[0m\u001b[0mself\u001b[0m\u001b[0;34m.\u001b[0m\u001b[0mtimeout\u001b[0m\u001b[0;34m)\u001b[0m\u001b[0;34m)\u001b[0m\u001b[0;34m\u001b[0m\u001b[0;34m\u001b[0m\u001b[0m\n\u001b[0m\u001b[1;32m    909\u001b[0m                 \u001b[0;32melse\u001b[0m\u001b[0;34m:\u001b[0m\u001b[0;34m\u001b[0m\u001b[0;34m\u001b[0m\u001b[0m\n\u001b[1;32m    910\u001b[0m                     \u001b[0mself\u001b[0m\u001b[0;34m.\u001b[0m\u001b[0m_output\u001b[0m\u001b[0;34m.\u001b[0m\u001b[0mextend\u001b[0m\u001b[0;34m(\u001b[0m\u001b[0mjob\u001b[0m\u001b[0;34m.\u001b[0m\u001b[0mget\u001b[0m\u001b[0;34m(\u001b[0m\u001b[0;34m)\u001b[0m\u001b[0;34m)\u001b[0m\u001b[0;34m\u001b[0m\u001b[0;34m\u001b[0m\u001b[0m\n",
      "\u001b[0;32m~/.virtualenvs/deeplearning/local/lib/python3.7/site-packages/joblib/_parallel_backends.py\u001b[0m in \u001b[0;36mwrap_future_result\u001b[0;34m(future, timeout)\u001b[0m\n\u001b[1;32m    552\u001b[0m         AsyncResults.get from multiprocessing.\"\"\"\n\u001b[1;32m    553\u001b[0m         \u001b[0;32mtry\u001b[0m\u001b[0;34m:\u001b[0m\u001b[0;34m\u001b[0m\u001b[0;34m\u001b[0m\u001b[0m\n\u001b[0;32m--> 554\u001b[0;31m             \u001b[0;32mreturn\u001b[0m \u001b[0mfuture\u001b[0m\u001b[0;34m.\u001b[0m\u001b[0mresult\u001b[0m\u001b[0;34m(\u001b[0m\u001b[0mtimeout\u001b[0m\u001b[0;34m=\u001b[0m\u001b[0mtimeout\u001b[0m\u001b[0;34m)\u001b[0m\u001b[0;34m\u001b[0m\u001b[0;34m\u001b[0m\u001b[0m\n\u001b[0m\u001b[1;32m    555\u001b[0m         \u001b[0;32mexcept\u001b[0m \u001b[0mLokyTimeoutError\u001b[0m\u001b[0;34m:\u001b[0m\u001b[0;34m\u001b[0m\u001b[0;34m\u001b[0m\u001b[0m\n\u001b[1;32m    556\u001b[0m             \u001b[0;32mraise\u001b[0m \u001b[0mTimeoutError\u001b[0m\u001b[0;34m(\u001b[0m\u001b[0;34m)\u001b[0m\u001b[0;34m\u001b[0m\u001b[0;34m\u001b[0m\u001b[0m\n",
      "\u001b[0;32m/usr/lib/python3.7/concurrent/futures/_base.py\u001b[0m in \u001b[0;36mresult\u001b[0;34m(self, timeout)\u001b[0m\n\u001b[1;32m    425\u001b[0m                 \u001b[0;32mreturn\u001b[0m \u001b[0mself\u001b[0m\u001b[0;34m.\u001b[0m\u001b[0m__get_result\u001b[0m\u001b[0;34m(\u001b[0m\u001b[0;34m)\u001b[0m\u001b[0;34m\u001b[0m\u001b[0;34m\u001b[0m\u001b[0m\n\u001b[1;32m    426\u001b[0m \u001b[0;34m\u001b[0m\u001b[0m\n\u001b[0;32m--> 427\u001b[0;31m             \u001b[0mself\u001b[0m\u001b[0;34m.\u001b[0m\u001b[0m_condition\u001b[0m\u001b[0;34m.\u001b[0m\u001b[0mwait\u001b[0m\u001b[0;34m(\u001b[0m\u001b[0mtimeout\u001b[0m\u001b[0;34m)\u001b[0m\u001b[0;34m\u001b[0m\u001b[0;34m\u001b[0m\u001b[0m\n\u001b[0m\u001b[1;32m    428\u001b[0m \u001b[0;34m\u001b[0m\u001b[0m\n\u001b[1;32m    429\u001b[0m             \u001b[0;32mif\u001b[0m \u001b[0mself\u001b[0m\u001b[0;34m.\u001b[0m\u001b[0m_state\u001b[0m \u001b[0;32min\u001b[0m \u001b[0;34m[\u001b[0m\u001b[0mCANCELLED\u001b[0m\u001b[0;34m,\u001b[0m \u001b[0mCANCELLED_AND_NOTIFIED\u001b[0m\u001b[0;34m]\u001b[0m\u001b[0;34m:\u001b[0m\u001b[0;34m\u001b[0m\u001b[0;34m\u001b[0m\u001b[0m\n",
      "\u001b[0;32m/usr/lib/python3.7/threading.py\u001b[0m in \u001b[0;36mwait\u001b[0;34m(self, timeout)\u001b[0m\n\u001b[1;32m    294\u001b[0m         \u001b[0;32mtry\u001b[0m\u001b[0;34m:\u001b[0m    \u001b[0;31m# restore state no matter what (e.g., KeyboardInterrupt)\u001b[0m\u001b[0;34m\u001b[0m\u001b[0;34m\u001b[0m\u001b[0m\n\u001b[1;32m    295\u001b[0m             \u001b[0;32mif\u001b[0m \u001b[0mtimeout\u001b[0m \u001b[0;32mis\u001b[0m \u001b[0;32mNone\u001b[0m\u001b[0;34m:\u001b[0m\u001b[0;34m\u001b[0m\u001b[0;34m\u001b[0m\u001b[0m\n\u001b[0;32m--> 296\u001b[0;31m                 \u001b[0mwaiter\u001b[0m\u001b[0;34m.\u001b[0m\u001b[0macquire\u001b[0m\u001b[0;34m(\u001b[0m\u001b[0;34m)\u001b[0m\u001b[0;34m\u001b[0m\u001b[0;34m\u001b[0m\u001b[0m\n\u001b[0m\u001b[1;32m    297\u001b[0m                 \u001b[0mgotit\u001b[0m \u001b[0;34m=\u001b[0m \u001b[0;32mTrue\u001b[0m\u001b[0;34m\u001b[0m\u001b[0;34m\u001b[0m\u001b[0m\n\u001b[1;32m    298\u001b[0m             \u001b[0;32melse\u001b[0m\u001b[0;34m:\u001b[0m\u001b[0;34m\u001b[0m\u001b[0;34m\u001b[0m\u001b[0m\n",
      "\u001b[0;31mKeyboardInterrupt\u001b[0m: "
     ]
    }
   ],
   "source": [
    "from keras.wrappers.scikit_learn import KerasClassifier\n",
    "from sklearn.model_selection import cross_val_score\n",
    "from keras.models import Sequential\n",
    "from keras.layers import Dense\n",
    "\n",
    "def build_classifier():\n",
    "    classifier = Sequential()\n",
    "    classifier.add(Dense(units = 6, kernel_initializer = 'uniform', activation = 'relu', input_dim = 11))\n",
    "    classifier.add(Dense(units = 6, kernel_initializer = 'uniform', activation = 'relu'))\n",
    "    classifier.add(Dense(units = 1, kernel_initializer = 'uniform', activation = 'sigmoid'))\n",
    "    classifier.compile(optimizer = 'adam', loss = 'binary_crossentropy', metrics = ['accuracy'])\n",
    "    return classifier\n",
    "\n",
    "classifier = KerasClassifier(build_fn = build_classifier, batch_size = 10, epochs = 10)\n",
    "accuracies = cross_val_score(estimator = classifier, X = X_train, y = y_train, cv = 10, n_jobs = -1)\n",
    "mean = accuracies.mean()\n",
    "variance = accuracies.std()\n",
    "print(\"accuracies:%s\\nmean:%s\\nvariance:%s\".format(accuracies, mean, variance))"
   ]
  },
  {
   "cell_type": "markdown",
   "metadata": {},
   "source": [
    "# Improving the ANN\n",
    "# Dropout Regularization to reduce overfitting if needed"
   ]
  },
  {
   "cell_type": "code",
   "execution_count": null,
   "metadata": {},
   "outputs": [],
   "source": [
    "from keras.layers import Dropout\n",
    "\n",
    "def build_classifier():\n",
    "    classifier = Sequential()\n",
    "    classifier.add(Dense(units = 6, kernel_initializer = 'uniform', activation = 'relu', input_dim = 11))\n",
    "    classifier.add(Dropout(rate = 0.1))\n",
    "    classifier.add(Dense(units = 6, kernel_initializer = 'uniform', activation = 'relu'))\n",
    "    classifier.add(Dropout(rate = 0.1))\n",
    "    classifier.add(Dense(units = 1, kernel_initializer = 'uniform', activation = 'sigmoid'))\n",
    "    classifier.compile(optimizer = 'adam', loss = 'binary_crossentropy', metrics = ['accuracy'])\n",
    "    return classifier\n",
    "\n",
    "classifier = KerasClassifier(build_fn = build_classifier, batch_size = 10, epochs = 10)\n",
    "accuracies = cross_val_score(estimator = classifier, X = X_train, y = y_train, cv = 10, n_jobs = -1)\n",
    "mean = accuracies.mean()\n",
    "variance = accuracies.std()"
   ]
  },
  {
   "cell_type": "markdown",
   "metadata": {},
   "source": [
    "# Tuning the ANN"
   ]
  },
  {
   "cell_type": "code",
   "execution_count": null,
   "metadata": {},
   "outputs": [],
   "source": [
    "from keras.wrappers.scikit_learn import KerasClassifier\n",
    "from sklearn.model_selection import GridSearchCV\n",
    "from keras.models import Sequential\n",
    "from keras.layers import Dense\n",
    "\n",
    "def build_classifier(optimizer):\n",
    "    classifier = Sequential()\n",
    "    classifier.add(Dense(units = 6, kernel_initializer = 'uniform', activation = 'relu', input_dim = 11))\n",
    "    classifier.add(Dropout(rate = 0.1))\n",
    "    classifier.add(Dense(units = 6, kernel_initializer = 'uniform', activation = 'relu'))\n",
    "    classifier.add(Dropout(rate = 0.1))\n",
    "    classifier.add(Dense(units = 1, kernel_initializer = 'uniform', activation = 'sigmoid'))\n",
    "    classifier.compile(optimizer = optimizer, loss = 'binary_crossentropy', metrics = ['accuracy'])\n",
    "    return classifier\n",
    "\n",
    "classifier = KerasClassifier(build_fn = build_classifier)"
   ]
  },
  {
   "cell_type": "code",
   "execution_count": null,
   "metadata": {},
   "outputs": [],
   "source": [
    "parameters = {'batch_size': [10, 24, 32],\n",
    "              'epochs': [50, 100, 200],\n",
    "              'optimizer': ['adam', 'rmsprop']}\n",
    "\n",
    "grid_search = GridSearchCV(estimator = classifier,\n",
    "                           scoring = 'accuracy',\n",
    "                           param_grid = parameters,\n",
    "                           cv = 10)\n",
    "\n",
    "grid_search = grid_search.fit(X_train, y_train)\n",
    "\n",
    "best_parameters = grid_search.best_params_\n",
    "best_accuracy = grid_search.best_score_"
   ]
  },
  {
   "cell_type": "markdown",
   "metadata": {},
   "source": [
    "# FIM"
   ]
  },
  {
   "cell_type": "markdown",
   "metadata": {},
   "source": [
    "> Professor Diego Dorgam  \n",
    "> [@diegodorgam](https://twitter.com/diegodorgam)"
   ]
  }
 ],
 "metadata": {
  "kernelspec": {
   "display_name": "Python 3",
   "language": "python",
   "name": "python3"
  },
  "language_info": {
   "codemirror_mode": {
    "name": "ipython",
    "version": 3
   },
   "file_extension": ".py",
   "mimetype": "text/x-python",
   "name": "python",
   "nbconvert_exporter": "python",
   "pygments_lexer": "ipython3",
   "version": "3.7.3"
  }
 },
 "nbformat": 4,
 "nbformat_minor": 2
}
