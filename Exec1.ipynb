{
 "cells": [
  {
   "cell_type": "code",
   "execution_count": 17,
   "metadata": {},
   "outputs": [],
   "source": [
    "# pip install -r requirements.txt"
   ]
  },
  {
   "cell_type": "code",
   "execution_count": 18,
   "metadata": {},
   "outputs": [],
   "source": [
    "# Artificial Neural Network\n",
    "\n",
    "# Installing Theano\n",
    "# pip install --upgrade --no-deps git+git://github.com/Theano/Theano.git\n",
    "\n",
    "# Installing Tensorflow\n",
    "# pip install tensorflow\n",
    "\n",
    "# Installing Keras\n",
    "# pip install --upgrade keras\n",
    "\n",
    "# Part 1 - Data Preprocessing\n",
    "\n",
    "# Importing the libraries\n",
    "import numpy as np\n",
    "import matplotlib.pyplot as plt\n",
    "import pandas as pd\n",
    "\n",
    "# Importing the dataset\n",
    "dataset = pd.read_csv('Churn_Modelling.csv')\n",
    "X = dataset.iloc[:, 3:13].values\n",
    "y = dataset.iloc[:, 13].values"
   ]
  },
  {
   "cell_type": "code",
   "execution_count": 19,
   "metadata": {},
   "outputs": [
    {
     "name": "stdout",
     "output_type": "stream",
     "text": [
      "[[619 'France' 0 ... 1 1 101348.88]\n",
      " [608 'Spain' 0 ... 0 1 112542.58]\n",
      " [502 'France' 0 ... 1 0 113931.57]\n",
      " ...\n",
      " [709 'France' 0 ... 0 1 42085.58]\n",
      " [772 'Germany' 1 ... 1 0 92888.52]\n",
      " [792 'France' 0 ... 1 0 38190.78]]\n",
      "[[1.0 0.0 0.0 ... 1 1 101348.88]\n",
      " [0.0 0.0 1.0 ... 0 1 112542.58]\n",
      " [1.0 0.0 0.0 ... 1 0 113931.57]\n",
      " ...\n",
      " [1.0 0.0 0.0 ... 0 1 42085.58]\n",
      " [0.0 1.0 0.0 ... 1 0 92888.52]\n",
      " [1.0 0.0 0.0 ... 1 0 38190.78]]\n"
     ]
    }
   ],
   "source": [
    "# Label Encoding the \"Gender\" column\n",
    "from sklearn.preprocessing import LabelEncoder\n",
    "le = LabelEncoder()\n",
    "X[:, 2] = le.fit_transform(X[:, 2])\n",
    "print(X)\n",
    "# One Hot Encoding the \"Geography\" column\n",
    "from sklearn.compose import ColumnTransformer\n",
    "from sklearn.preprocessing import OneHotEncoder\n",
    "ct = ColumnTransformer(transformers=[('encoder', OneHotEncoder(), [1])], remainder='passthrough')\n",
    "X = np.array(ct.fit_transform(X))\n",
    "print(X)\n",
    "\n",
    "# Splitting the dataset into the Training set and Test set\n",
    "from sklearn.model_selection import train_test_split\n",
    "X_train, X_test, y_train, y_test = train_test_split(X, y, test_size = 0.2, random_state = 0)\n",
    "\n",
    "# Feature Scaling\n",
    "from sklearn.preprocessing import StandardScaler\n",
    "sc = StandardScaler()\n",
    "X_train = sc.fit_transform(X_train)\n",
    "X_test = sc.transform(X_test)"
   ]
  },
  {
   "cell_type": "code",
   "execution_count": 20,
   "metadata": {},
   "outputs": [
    {
     "data": {
      "text/plain": [
       "(8000, 12)"
      ]
     },
     "execution_count": 20,
     "metadata": {},
     "output_type": "execute_result"
    }
   ],
   "source": [
    "np.shape(X_train)"
   ]
  },
  {
   "cell_type": "code",
   "execution_count": 21,
   "metadata": {},
   "outputs": [
    {
     "name": "stdout",
     "output_type": "stream",
     "text": [
      "Epoch 1/30\n",
      "8000/8000 [==============================] - 1s 137us/step - loss: 0.4911 - accuracy: 0.7954\n",
      "Epoch 2/30\n",
      "8000/8000 [==============================] - 1s 122us/step - loss: 0.4320 - accuracy: 0.7960\n",
      "Epoch 3/30\n",
      "8000/8000 [==============================] - 1s 110us/step - loss: 0.4289 - accuracy: 0.7960\n",
      "Epoch 4/30\n",
      "8000/8000 [==============================] - 1s 108us/step - loss: 0.4265 - accuracy: 0.7960\n",
      "Epoch 5/30\n",
      "8000/8000 [==============================] - 1s 112us/step - loss: 0.4236 - accuracy: 0.8091\n",
      "Epoch 6/30\n",
      "8000/8000 [==============================] - 1s 110us/step - loss: 0.4202 - accuracy: 0.8198\n",
      "Epoch 7/30\n",
      "8000/8000 [==============================] - 1s 113us/step - loss: 0.4182 - accuracy: 0.8226\n",
      "Epoch 8/30\n",
      "8000/8000 [==============================] - 1s 126us/step - loss: 0.4161 - accuracy: 0.8250\n",
      "Epoch 9/30\n",
      "8000/8000 [==============================] - 1s 110us/step - loss: 0.4142 - accuracy: 0.8273\n",
      "Epoch 10/30\n",
      "8000/8000 [==============================] - 1s 111us/step - loss: 0.4129 - accuracy: 0.8329\n",
      "Epoch 11/30\n",
      "8000/8000 [==============================] - 1s 110us/step - loss: 0.4113 - accuracy: 0.8317\n",
      "Epoch 12/30\n",
      "8000/8000 [==============================] - 1s 112us/step - loss: 0.4103 - accuracy: 0.8321\n",
      "Epoch 13/30\n",
      "8000/8000 [==============================] - 1s 120us/step - loss: 0.4092 - accuracy: 0.8338\n",
      "Epoch 14/30\n",
      "8000/8000 [==============================] - 1s 113us/step - loss: 0.4091 - accuracy: 0.8326\n",
      "Epoch 15/30\n",
      "8000/8000 [==============================] - 1s 112us/step - loss: 0.4078 - accuracy: 0.8332\n",
      "Epoch 16/30\n",
      "8000/8000 [==============================] - 1s 117us/step - loss: 0.4074 - accuracy: 0.8351\n",
      "Epoch 17/30\n",
      "8000/8000 [==============================] - 1s 123us/step - loss: 0.4069 - accuracy: 0.8342\n",
      "Epoch 18/30\n",
      "8000/8000 [==============================] - 1s 119us/step - loss: 0.4067 - accuracy: 0.8336\n",
      "Epoch 19/30\n",
      "8000/8000 [==============================] - 1s 111us/step - loss: 0.4058 - accuracy: 0.8354\n",
      "Epoch 20/30\n",
      "8000/8000 [==============================] - 1s 117us/step - loss: 0.4059 - accuracy: 0.8340\n",
      "Epoch 21/30\n",
      "8000/8000 [==============================] - 1s 114us/step - loss: 0.4056 - accuracy: 0.8336\n",
      "Epoch 22/30\n",
      "8000/8000 [==============================] - 1s 119us/step - loss: 0.4056 - accuracy: 0.8340\n",
      "Epoch 23/30\n",
      "8000/8000 [==============================] - 1s 113us/step - loss: 0.4053 - accuracy: 0.8360\n",
      "Epoch 24/30\n",
      "8000/8000 [==============================] - 1s 119us/step - loss: 0.4045 - accuracy: 0.8355\n",
      "Epoch 25/30\n",
      "8000/8000 [==============================] - 1s 123us/step - loss: 0.4044 - accuracy: 0.8342\n",
      "Epoch 26/30\n",
      "8000/8000 [==============================] - 1s 114us/step - loss: 0.4040 - accuracy: 0.8346\n",
      "Epoch 27/30\n",
      "8000/8000 [==============================] - 1s 112us/step - loss: 0.4039 - accuracy: 0.8349\n",
      "Epoch 28/30\n",
      "8000/8000 [==============================] - 1s 117us/step - loss: 0.4039 - accuracy: 0.8340\n",
      "Epoch 29/30\n",
      "8000/8000 [==============================] - 1s 112us/step - loss: 0.4037 - accuracy: 0.8346\n",
      "Epoch 30/30\n",
      "8000/8000 [==============================] - 1s 128us/step - loss: 0.4037 - accuracy: 0.8350\n"
     ]
    },
    {
     "data": {
      "text/plain": [
       "<keras.callbacks.callbacks.History at 0x7fcdd6795990>"
      ]
     },
     "execution_count": 21,
     "metadata": {},
     "output_type": "execute_result"
    }
   ],
   "source": [
    "# Part 2 - Now let's make the ANN!\n",
    "\n",
    "# Importing the Keras libraries and packages\n",
    "import keras\n",
    "from keras.models import Sequential\n",
    "from keras.layers import Dense\n",
    "\n",
    "# Initialising the ANN\n",
    "classifier = Sequential()\n",
    "\n",
    "# Adding the input layer and the first hidden layer\n",
    "classifier.add(Dense(units = 6, kernel_initializer = 'uniform', activation = 'relu', input_dim = 12))\n",
    "\n",
    "# Adding the second hidden layer\n",
    "classifier.add(Dense(units = 6, kernel_initializer = 'uniform', activation = 'relu'))\n",
    "\n",
    "# Adding the output layer\n",
    "classifier.add(Dense(units = 1, kernel_initializer = 'uniform', activation = 'sigmoid'))\n",
    "\n",
    "# Compiling the ANN\n",
    "classifier.compile(optimizer = 'adam', loss = 'binary_crossentropy', metrics = ['accuracy'])\n",
    "\n",
    "# Fitting the ANN to the Training set\n",
    "classifier.fit(X_train, y_train, batch_size = 10, epochs = 30)"
   ]
  },
  {
   "cell_type": "code",
   "execution_count": 22,
   "metadata": {},
   "outputs": [],
   "source": [
    "# Part 3 - Making predictions and evaluating the model\n",
    "\n",
    "# Predicting the Test set results\n",
    "y_pred = classifier.predict(X_test)\n",
    "y_pred = (y_pred > 0.5)\n",
    "\n",
    "# Making the Confusion Matrix\n",
    "from sklearn.metrics import confusion_matrix\n",
    "cm = confusion_matrix(y_test, y_pred)"
   ]
  },
  {
   "cell_type": "code",
   "execution_count": 23,
   "metadata": {},
   "outputs": [
    {
     "name": "stdout",
     "output_type": "stream",
     "text": [
      "[[1550   45]\n",
      " [ 274  131]]\n"
     ]
    }
   ],
   "source": [
    "print(cm)"
   ]
  },
  {
   "cell_type": "code",
   "execution_count": null,
   "metadata": {},
   "outputs": [],
   "source": []
  }
 ],
 "metadata": {
  "kernelspec": {
   "display_name": "Python 2",
   "language": "python",
   "name": "python2"
  },
  "language_info": {
   "codemirror_mode": {
    "name": "ipython",
    "version": 2
   },
   "file_extension": ".py",
   "mimetype": "text/x-python",
   "name": "python",
   "nbconvert_exporter": "python",
   "pygments_lexer": "ipython2",
   "version": "2.7.18"
  }
 },
 "nbformat": 4,
 "nbformat_minor": 2
}
