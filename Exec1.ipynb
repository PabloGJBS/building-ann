{
 "cells": [
  {
   "cell_type": "code",
   "execution_count": 1,
   "metadata": {},
   "outputs": [
    {
     "ename": "SyntaxError",
     "evalue": "invalid syntax (<ipython-input-1-15707bb57fc2>, line 1)",
     "output_type": "error",
     "traceback": [
      "\u001b[0;36m  File \u001b[0;32m\"<ipython-input-1-15707bb57fc2>\"\u001b[0;36m, line \u001b[0;32m1\u001b[0m\n\u001b[0;31m    pip install -r requirements.txt\u001b[0m\n\u001b[0m              ^\u001b[0m\n\u001b[0;31mSyntaxError\u001b[0m\u001b[0;31m:\u001b[0m invalid syntax\n"
     ]
    }
   ],
   "source": [
    "pip install -r requirements.txt"
   ]
  },
  {
   "cell_type": "code",
   "execution_count": 1,
   "metadata": {},
   "outputs": [],
   "source": [
    "# Artificial Neural Network\n",
    "\n",
    "# Installing Theano\n",
    "# pip install --upgrade --no-deps git+git://github.com/Theano/Theano.git\n",
    "\n",
    "# Installing Tensorflow\n",
    "# pip install tensorflow\n",
    "\n",
    "# Installing Keras\n",
    "# pip install --upgrade keras\n",
    "\n",
    "# Part 1 - Data Preprocessing\n",
    "\n",
    "# Importing the libraries\n",
    "import numpy as np\n",
    "import matplotlib.pyplot as plt\n",
    "import pandas as pd\n",
    "\n",
    "# Importing the dataset\n",
    "dataset = pd.read_csv('Churn_Modelling.csv')\n",
    "X = dataset.iloc[:, 3:13].values\n",
    "y = dataset.iloc[:, 13].values"
   ]
  },
  {
   "cell_type": "code",
   "execution_count": 2,
   "metadata": {},
   "outputs": [
    {
     "name": "stdout",
     "output_type": "stream",
     "text": [
      "[[619 'France' 0 ... 1 1 101348.88]\n",
      " [608 'Spain' 0 ... 0 1 112542.58]\n",
      " [502 'France' 0 ... 1 0 113931.57]\n",
      " ...\n",
      " [709 'France' 0 ... 0 1 42085.58]\n",
      " [772 'Germany' 1 ... 1 0 92888.52]\n",
      " [792 'France' 0 ... 1 0 38190.78]]\n",
      "[[1.0 0.0 0.0 ... 1 1 101348.88]\n",
      " [0.0 0.0 1.0 ... 0 1 112542.58]\n",
      " [1.0 0.0 0.0 ... 1 0 113931.57]\n",
      " ...\n",
      " [1.0 0.0 0.0 ... 0 1 42085.58]\n",
      " [0.0 1.0 0.0 ... 1 0 92888.52]\n",
      " [1.0 0.0 0.0 ... 1 0 38190.78]]\n"
     ]
    },
    {
     "name": "stderr",
     "output_type": "stream",
     "text": [
      "/home/ita/.local/lib/python2.7/site-packages/sklearn/utils/validation.py:595: DataConversionWarning: Data with input dtype object was converted to float64 by StandardScaler.\n",
      "  warnings.warn(msg, DataConversionWarning)\n"
     ]
    }
   ],
   "source": [
    "# Label Encoding the \"Gender\" column\n",
    "from sklearn.preprocessing import LabelEncoder\n",
    "le = LabelEncoder()\n",
    "X[:, 2] = le.fit_transform(X[:, 2])\n",
    "print(X)\n",
    "# One Hot Encoding the \"Geography\" column\n",
    "from sklearn.compose import ColumnTransformer\n",
    "from sklearn.preprocessing import OneHotEncoder\n",
    "ct = ColumnTransformer(transformers=[('encoder', OneHotEncoder(), [1])], remainder='passthrough')\n",
    "X = np.array(ct.fit_transform(X))\n",
    "print(X)\n",
    "\n",
    "# Splitting the dataset into the Training set and Test set\n",
    "from sklearn.model_selection import train_test_split\n",
    "X_train, X_test, y_train, y_test = train_test_split(X, y, test_size = 0.2, random_state = 0)\n",
    "\n",
    "# Feature Scaling\n",
    "from sklearn.preprocessing import StandardScaler\n",
    "sc = StandardScaler()\n",
    "X_train = sc.fit_transform(X_train)\n",
    "X_test = sc.transform(X_test)"
   ]
  },
  {
   "cell_type": "code",
   "execution_count": 3,
   "metadata": {},
   "outputs": [
    {
     "data": {
      "text/plain": [
       "(8000, 12)"
      ]
     },
     "execution_count": 3,
     "metadata": {},
     "output_type": "execute_result"
    }
   ],
   "source": [
    "np.shape(X_train)"
   ]
  },
  {
   "cell_type": "code",
   "execution_count": 4,
   "metadata": {},
   "outputs": [
    {
     "name": "stderr",
     "output_type": "stream",
     "text": [
      "Using TensorFlow backend.\n"
     ]
    },
    {
     "name": "stdout",
     "output_type": "stream",
     "text": [
      "WARNING:tensorflow:From /home/ita/.local/lib/python2.7/site-packages/tensorflow/python/ops/math_grad.py:1250: where (from tensorflow.python.ops.array_ops) is deprecated and will be removed in a future version.\n",
      "Instructions for updating:\n",
      "Use tf.where in 2.0, which has the same broadcast rule as np.where\n",
      "WARNING:tensorflow:From /home/ita/.local/lib/python2.7/site-packages/keras/backend/tensorflow_backend.py:422: The name tf.global_variables is deprecated. Please use tf.compat.v1.global_variables instead.\n",
      "\n",
      "Epoch 1/100\n",
      "8000/8000 [==============================] - 2s 252us/step - loss: 0.5409 - accuracy: 0.7997\n",
      "Epoch 2/100\n",
      "8000/8000 [==============================] - 1s 127us/step - loss: 0.4139 - accuracy: 0.8087\n",
      "Epoch 3/100\n",
      "8000/8000 [==============================] - 1s 127us/step - loss: 0.3979 - accuracy: 0.8163\n",
      "Epoch 4/100\n",
      "8000/8000 [==============================] - 1s 127us/step - loss: 0.3882 - accuracy: 0.8219\n",
      "Epoch 5/100\n",
      "8000/8000 [==============================] - 1s 161us/step - loss: 0.3807 - accuracy: 0.8322\n",
      "Epoch 6/100\n",
      "8000/8000 [==============================] - 1s 153us/step - loss: 0.3761 - accuracy: 0.8386\n",
      "Epoch 7/100\n",
      "8000/8000 [==============================] - 1s 143us/step - loss: 0.3727 - accuracy: 0.8410\n",
      "Epoch 8/100\n",
      "8000/8000 [==============================] - 1s 135us/step - loss: 0.3701 - accuracy: 0.8470\n",
      "Epoch 9/100\n",
      "8000/8000 [==============================] - 1s 131us/step - loss: 0.3667 - accuracy: 0.8469\n",
      "Epoch 10/100\n",
      "8000/8000 [==============================] - 1s 130us/step - loss: 0.3651 - accuracy: 0.8499\n",
      "Epoch 11/100\n",
      "8000/8000 [==============================] - 1s 144us/step - loss: 0.3648 - accuracy: 0.8508\n",
      "Epoch 12/100\n",
      "8000/8000 [==============================] - 1s 134us/step - loss: 0.3554 - accuracy: 0.8525\n",
      "Epoch 13/100\n",
      "8000/8000 [==============================] - 1s 149us/step - loss: 0.3551 - accuracy: 0.8510\n",
      "Epoch 14/100\n",
      "8000/8000 [==============================] - 1s 125us/step - loss: 0.3533 - accuracy: 0.8543\n",
      "Epoch 15/100\n",
      "8000/8000 [==============================] - 1s 136us/step - loss: 0.3568 - accuracy: 0.8561\n",
      "Epoch 16/100\n",
      "8000/8000 [==============================] - 1s 130us/step - loss: 0.3595 - accuracy: 0.8575\n",
      "Epoch 17/100\n",
      "8000/8000 [==============================] - 1s 150us/step - loss: 0.3695 - accuracy: 0.8436\n",
      "Epoch 18/100\n",
      "8000/8000 [==============================] - 1s 145us/step - loss: 0.3528 - accuracy: 0.8555\n",
      "Epoch 19/100\n",
      "8000/8000 [==============================] - 1s 130us/step - loss: 0.3500 - accuracy: 0.8561\n",
      "Epoch 20/100\n",
      "8000/8000 [==============================] - 1s 130us/step - loss: 0.3463 - accuracy: 0.8572\n",
      "Epoch 21/100\n",
      "8000/8000 [==============================] - 1s 133us/step - loss: 0.3477 - accuracy: 0.8590\n",
      "Epoch 22/100\n",
      "8000/8000 [==============================] - 1s 156us/step - loss: 0.3486 - accuracy: 0.8605\n",
      "Epoch 23/100\n",
      "8000/8000 [==============================] - 1s 144us/step - loss: 0.3533 - accuracy: 0.8597\n",
      "Epoch 24/100\n",
      "8000/8000 [==============================] - 1s 139us/step - loss: 0.3513 - accuracy: 0.8610\n",
      "Epoch 25/100\n",
      "8000/8000 [==============================] - 1s 143us/step - loss: 0.3509 - accuracy: 0.8634\n",
      "Epoch 26/100\n",
      "8000/8000 [==============================] - 2s 199us/step - loss: 0.3514 - accuracy: 0.8619\n",
      "Epoch 27/100\n",
      "8000/8000 [==============================] - 1s 137us/step - loss: 0.3502 - accuracy: 0.8624\n",
      "Epoch 28/100\n",
      "8000/8000 [==============================] - 1s 133us/step - loss: 0.3464 - accuracy: 0.8612\n",
      "Epoch 29/100\n",
      "8000/8000 [==============================] - 1s 132us/step - loss: 0.3452 - accuracy: 0.8601\n",
      "Epoch 30/100\n",
      "8000/8000 [==============================] - 1s 139us/step - loss: 0.3459 - accuracy: 0.8619\n",
      "Epoch 31/100\n",
      "8000/8000 [==============================] - 1s 127us/step - loss: 0.3487 - accuracy: 0.8596\n",
      "Epoch 32/100\n",
      "8000/8000 [==============================] - 1s 134us/step - loss: 0.3423 - accuracy: 0.8604\n",
      "Epoch 33/100\n",
      "8000/8000 [==============================] - 1s 131us/step - loss: 0.3438 - accuracy: 0.8605\n",
      "Epoch 34/100\n",
      "8000/8000 [==============================] - 1s 126us/step - loss: 0.3445 - accuracy: 0.8625\n",
      "Epoch 35/100\n",
      "8000/8000 [==============================] - 1s 126us/step - loss: 0.3456 - accuracy: 0.8620\n",
      "Epoch 36/100\n",
      "8000/8000 [==============================] - 1s 130us/step - loss: 0.3460 - accuracy: 0.8597\n",
      "Epoch 37/100\n",
      "8000/8000 [==============================] - 1s 127us/step - loss: 0.3435 - accuracy: 0.8616\n",
      "Epoch 38/100\n",
      "8000/8000 [==============================] - 1s 132us/step - loss: 0.3397 - accuracy: 0.8620\n",
      "Epoch 39/100\n",
      "8000/8000 [==============================] - 1s 128us/step - loss: 0.3425 - accuracy: 0.8625\n",
      "Epoch 40/100\n",
      "8000/8000 [==============================] - 1s 126us/step - loss: 0.3462 - accuracy: 0.8605\n",
      "Epoch 41/100\n",
      "8000/8000 [==============================] - 1s 126us/step - loss: 0.3443 - accuracy: 0.8611\n",
      "Epoch 42/100\n",
      "8000/8000 [==============================] - 1s 168us/step - loss: 0.3525 - accuracy: 0.8587\n",
      "Epoch 43/100\n",
      "8000/8000 [==============================] - 1s 173us/step - loss: 0.3504 - accuracy: 0.8604\n",
      "Epoch 44/100\n",
      "8000/8000 [==============================] - 1s 128us/step - loss: 0.3443 - accuracy: 0.8625\n",
      "Epoch 45/100\n",
      "8000/8000 [==============================] - 1s 125us/step - loss: 0.3448 - accuracy: 0.8616\n",
      "Epoch 46/100\n",
      "8000/8000 [==============================] - 1s 126us/step - loss: 0.3461 - accuracy: 0.8570\n",
      "Epoch 47/100\n",
      "8000/8000 [==============================] - 1s 126us/step - loss: 0.3443 - accuracy: 0.8614\n",
      "Epoch 48/100\n",
      "8000/8000 [==============================] - 1s 141us/step - loss: 0.3386 - accuracy: 0.8619\n",
      "Epoch 49/100\n",
      "8000/8000 [==============================] - 1s 139us/step - loss: 0.3430 - accuracy: 0.8608\n",
      "Epoch 50/100\n",
      "8000/8000 [==============================] - 1s 132us/step - loss: 0.3429 - accuracy: 0.8589\n",
      "Epoch 51/100\n",
      "8000/8000 [==============================] - 1s 141us/step - loss: 0.3405 - accuracy: 0.8622\n",
      "Epoch 52/100\n",
      "8000/8000 [==============================] - 1s 149us/step - loss: 0.3414 - accuracy: 0.8611\n",
      "Epoch 53/100\n",
      "8000/8000 [==============================] - 1s 142us/step - loss: 0.3444 - accuracy: 0.8605\n",
      "Epoch 54/100\n",
      "8000/8000 [==============================] - 1s 110us/step - loss: 0.3423 - accuracy: 0.8637\n",
      "Epoch 55/100\n",
      "8000/8000 [==============================] - 1s 109us/step - loss: 0.3479 - accuracy: 0.8550\n",
      "Epoch 56/100\n",
      "8000/8000 [==============================] - 1s 167us/step - loss: 0.3406 - accuracy: 0.8621\n",
      "Epoch 57/100\n",
      "8000/8000 [==============================] - 2s 190us/step - loss: 0.3415 - accuracy: 0.8624\n",
      "Epoch 58/100\n",
      "8000/8000 [==============================] - 2s 193us/step - loss: 0.3415 - accuracy: 0.8622\n",
      "Epoch 59/100\n",
      "8000/8000 [==============================] - 2s 189us/step - loss: 0.3422 - accuracy: 0.8626\n",
      "Epoch 60/100\n",
      "8000/8000 [==============================] - 1s 132us/step - loss: 0.3384 - accuracy: 0.8597\n",
      "Epoch 61/100\n",
      "8000/8000 [==============================] - 1s 169us/step - loss: 0.3395 - accuracy: 0.8645\n",
      "Epoch 62/100\n",
      "8000/8000 [==============================] - 1s 125us/step - loss: 0.3418 - accuracy: 0.8616\n",
      "Epoch 63/100\n",
      "8000/8000 [==============================] - 1s 157us/step - loss: 0.3433 - accuracy: 0.8612\n",
      "Epoch 64/100\n",
      "8000/8000 [==============================] - 1s 142us/step - loss: 0.3388 - accuracy: 0.8616\n",
      "Epoch 65/100\n",
      "8000/8000 [==============================] - 1s 137us/step - loss: 0.3427 - accuracy: 0.8584\n",
      "Epoch 66/100\n",
      "8000/8000 [==============================] - 1s 111us/step - loss: 0.3396 - accuracy: 0.8637\n",
      "Epoch 67/100\n",
      "8000/8000 [==============================] - 1s 103us/step - loss: 0.3411 - accuracy: 0.8621\n",
      "Epoch 68/100\n",
      "8000/8000 [==============================] - 1s 114us/step - loss: 0.3439 - accuracy: 0.8619\n",
      "Epoch 69/100\n",
      "8000/8000 [==============================] - 1s 155us/step - loss: 0.3413 - accuracy: 0.8615\n",
      "Epoch 70/100\n",
      "8000/8000 [==============================] - 1s 124us/step - loss: 0.3425 - accuracy: 0.8624\n",
      "Epoch 71/100\n",
      "8000/8000 [==============================] - 1s 105us/step - loss: 0.3374 - accuracy: 0.8620\n",
      "Epoch 72/100\n",
      "8000/8000 [==============================] - 1s 118us/step - loss: 0.3412 - accuracy: 0.8604\n",
      "Epoch 73/100\n"
     ]
    },
    {
     "name": "stdout",
     "output_type": "stream",
     "text": [
      "8000/8000 [==============================] - 1s 116us/step - loss: 0.3448 - accuracy: 0.8587\n",
      "Epoch 74/100\n",
      "8000/8000 [==============================] - 1s 120us/step - loss: 0.3425 - accuracy: 0.8601\n",
      "Epoch 75/100\n",
      "8000/8000 [==============================] - 1s 114us/step - loss: 0.3534 - accuracy: 0.8531\n",
      "Epoch 76/100\n",
      "8000/8000 [==============================] - 1s 153us/step - loss: 0.3444 - accuracy: 0.8586\n",
      "Epoch 77/100\n",
      "8000/8000 [==============================] - 1s 131us/step - loss: 0.3424 - accuracy: 0.8622\n",
      "Epoch 78/100\n",
      "8000/8000 [==============================] - 1s 173us/step - loss: 0.3409 - accuracy: 0.8600\n",
      "Epoch 79/100\n",
      "8000/8000 [==============================] - 1s 175us/step - loss: 0.3385 - accuracy: 0.8615\n",
      "Epoch 80/100\n",
      "8000/8000 [==============================] - 1s 124us/step - loss: 0.3383 - accuracy: 0.8605\n",
      "Epoch 81/100\n",
      "8000/8000 [==============================] - 1s 103us/step - loss: 0.3487 - accuracy: 0.8558\n",
      "Epoch 82/100\n",
      "8000/8000 [==============================] - 1s 126us/step - loss: 0.3493 - accuracy: 0.8540\n",
      "Epoch 83/100\n",
      "8000/8000 [==============================] - 1s 110us/step - loss: 0.3435 - accuracy: 0.8609\n",
      "Epoch 84/100\n",
      "8000/8000 [==============================] - 1s 116us/step - loss: 0.3433 - accuracy: 0.8609\n",
      "Epoch 85/100\n",
      "8000/8000 [==============================] - 1s 112us/step - loss: 0.3417 - accuracy: 0.8615\n",
      "Epoch 86/100\n",
      "8000/8000 [==============================] - 1s 144us/step - loss: 0.3395 - accuracy: 0.8618\n",
      "Epoch 87/100\n",
      "8000/8000 [==============================] - 1s 130us/step - loss: 0.3378 - accuracy: 0.8624\n",
      "Epoch 88/100\n",
      "8000/8000 [==============================] - 1s 112us/step - loss: 0.3378 - accuracy: 0.8630\n",
      "Epoch 89/100\n",
      "8000/8000 [==============================] - 1s 103us/step - loss: 0.3414 - accuracy: 0.8619\n",
      "Epoch 90/100\n",
      "8000/8000 [==============================] - 1s 111us/step - loss: 0.3396 - accuracy: 0.8633\n",
      "Epoch 91/100\n",
      "8000/8000 [==============================] - 1s 100us/step - loss: 0.3409 - accuracy: 0.8630\n",
      "Epoch 92/100\n",
      "8000/8000 [==============================] - 1s 101us/step - loss: 0.3440 - accuracy: 0.8569\n",
      "Epoch 93/100\n",
      "8000/8000 [==============================] - 1s 103us/step - loss: 0.3436 - accuracy: 0.8629\n",
      "Epoch 94/100\n",
      "8000/8000 [==============================] - 1s 111us/step - loss: 0.3493 - accuracy: 0.8535\n",
      "Epoch 95/100\n",
      "8000/8000 [==============================] - 1s 142us/step - loss: 0.3454 - accuracy: 0.8553\n",
      "Epoch 96/100\n",
      "8000/8000 [==============================] - 1s 125us/step - loss: 0.3431 - accuracy: 0.8599\n",
      "Epoch 97/100\n",
      "8000/8000 [==============================] - 1s 109us/step - loss: 0.3439 - accuracy: 0.8599\n",
      "Epoch 98/100\n",
      "8000/8000 [==============================] - 1s 101us/step - loss: 0.3407 - accuracy: 0.8618\n",
      "Epoch 99/100\n",
      "8000/8000 [==============================] - 1s 100us/step - loss: 0.3422 - accuracy: 0.8634\n",
      "Epoch 100/100\n",
      "8000/8000 [==============================] - 1s 114us/step - loss: 0.3389 - accuracy: 0.8622\n"
     ]
    },
    {
     "data": {
      "text/plain": [
       "<keras.callbacks.callbacks.History at 0x7fe8e918a190>"
      ]
     },
     "execution_count": 4,
     "metadata": {},
     "output_type": "execute_result"
    }
   ],
   "source": [
    "# Part 2 - Now let's make the ANN!\n",
    "\n",
    "# Importing the Keras libraries and packages\n",
    "import keras\n",
    "from keras.models import Sequential\n",
    "from keras.layers import Dense\n",
    "\n",
    "# Initialising the ANN\n",
    "classifier = Sequential()\n",
    "\n",
    "# Adding the input layer and the first hidden layer\n",
    "classifier.add(Dense(units = 6, kernel_initializer = 'uniform', activation = 'relu', input_dim = 12))\n",
    "\n",
    "# Adding the second hidden layer\n",
    "classifier.add(Dense(units = 6, kernel_initializer = 'uniform', activation = 'relu'))\n",
    "\n",
    "# Adding the output layer\n",
    "classifier.add(Dense(units = 1, kernel_initializer = 'uniform', activation = 'tanh'))\n",
    "\n",
    "# Compiling the ANN\n",
    "classifier.compile(optimizer = 'adam', loss = 'binary_crossentropy', metrics = ['accuracy'])\n",
    "\n",
    "# Fitting the ANN to the Training set\n",
    "classifier.fit(X_train, y_train, batch_size = 10, epochs = 100)"
   ]
  },
  {
   "cell_type": "code",
   "execution_count": 7,
   "metadata": {},
   "outputs": [],
   "source": [
    "# Part 3 - Making predictions and evaluating the model\n",
    "\n",
    "# Predicting the Test set results\n",
    "y_pred = classifier.predict(X_test)\n",
    "y_pred = (y_pred > 0.5)\n",
    "\n",
    "# Making the Confusion Matrix\n",
    "from sklearn.metrics import confusion_matrix\n",
    "cm = confusion_matrix(y_test, y_pred)"
   ]
  },
  {
   "cell_type": "code",
   "execution_count": 8,
   "metadata": {},
   "outputs": [
    {
     "name": "stdout",
     "output_type": "stream",
     "text": [
      "[[1518   77]\n",
      " [ 198  207]]\n"
     ]
    }
   ],
   "source": [
    "print(cm)"
   ]
  },
  {
   "cell_type": "code",
   "execution_count": null,
   "metadata": {},
   "outputs": [],
   "source": []
  }
 ],
 "metadata": {
  "kernelspec": {
   "display_name": "Python 2",
   "language": "python",
   "name": "python2"
  },
  "language_info": {
   "codemirror_mode": {
    "name": "ipython",
    "version": 2
   },
   "file_extension": ".py",
   "mimetype": "text/x-python",
   "name": "python",
   "nbconvert_exporter": "python",
   "pygments_lexer": "ipython2",
   "version": "2.7.18"
  }
 },
 "nbformat": 4,
 "nbformat_minor": 2
}
