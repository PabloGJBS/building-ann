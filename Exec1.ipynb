{
 "cells": [
  {
   "cell_type": "code",
   "execution_count": 1,
   "metadata": {},
   "outputs": [],
   "source": [
    "# pip install -r requirements.txt"
   ]
  },
  {
   "cell_type": "code",
   "execution_count": 2,
   "metadata": {},
   "outputs": [],
   "source": [
    "# Artificial Neural Network\n",
    "\n",
    "# Installing Theano\n",
    "# pip install --upgrade --no-deps git+git://github.com/Theano/Theano.git\n",
    "\n",
    "# Installing Tensorflow\n",
    "# pip install tensorflow\n",
    "\n",
    "# Installing Keras\n",
    "# pip install --upgrade keras\n",
    "\n",
    "# Part 1 - Data Preprocessing\n",
    "\n",
    "# Importing the libraries\n",
    "import numpy as np\n",
    "import matplotlib.pyplot as plt\n",
    "import pandas as pd\n",
    "\n",
    "# Importing the dataset\n",
    "dataset = pd.read_csv('Churn_Modelling.csv')\n",
    "X = dataset.iloc[:, 3:13].values\n",
    "y = dataset.iloc[:, 13].values"
   ]
  },
  {
   "cell_type": "code",
   "execution_count": 3,
   "metadata": {},
   "outputs": [
    {
     "output_type": "stream",
     "name": "stdout",
     "text": [
      "[[619 'France' 0 ... 1 1 101348.88]\n",
      " [608 'Spain' 0 ... 0 1 112542.58]\n",
      " [502 'France' 0 ... 1 0 113931.57]\n",
      " ...\n",
      " [709 'France' 0 ... 0 1 42085.58]\n",
      " [772 'Germany' 1 ... 1 0 92888.52]\n",
      " [792 'France' 0 ... 1 0 38190.78]]\n",
      "[[1.0 0.0 0.0 ... 1 1 101348.88]\n",
      " [0.0 0.0 1.0 ... 0 1 112542.58]\n",
      " [1.0 0.0 0.0 ... 1 0 113931.57]\n",
      " ...\n",
      " [1.0 0.0 0.0 ... 0 1 42085.58]\n",
      " [0.0 1.0 0.0 ... 1 0 92888.52]\n",
      " [1.0 0.0 0.0 ... 1 0 38190.78]]\n",
      "/home/ita/.local/lib/python2.7/site-packages/sklearn/utils/validation.py:595: DataConversionWarning: Data with input dtype object was converted to float64 by StandardScaler.\n",
      "  warnings.warn(msg, DataConversionWarning)\n"
     ]
    }
   ],
   "source": [
    "# Label Encoding the \"Gender\" column\n",
    "from sklearn.preprocessing import LabelEncoder\n",
    "le = LabelEncoder()\n",
    "X[:, 2] = le.fit_transform(X[:, 2])\n",
    "print(X)\n",
    "# One Hot Encoding the \"Geography\" column\n",
    "from sklearn.compose import ColumnTransformer\n",
    "from sklearn.preprocessing import OneHotEncoder\n",
    "ct = ColumnTransformer(transformers=[('encoder', OneHotEncoder(), [1])], remainder='passthrough')\n",
    "X = np.array(ct.fit_transform(X))\n",
    "print(X)\n",
    "\n",
    "# Splitting the dataset into the Training set and Test set\n",
    "from sklearn.model_selection import train_test_split\n",
    "X_train, X_test, y_train, y_test = train_test_split(X, y, test_size = 0.2, random_state = 0)\n",
    "\n",
    "# Feature Scaling\n",
    "from sklearn.preprocessing import StandardScaler\n",
    "sc = StandardScaler()\n",
    "X_train = sc.fit_transform(X_train)\n",
    "X_test = sc.transform(X_test)"
   ]
  },
  {
   "cell_type": "code",
   "execution_count": 4,
   "metadata": {},
   "outputs": [
    {
     "output_type": "execute_result",
     "data": {
      "text/plain": [
       "(8000, 12)"
      ]
     },
     "metadata": {},
     "execution_count": 4
    }
   ],
   "source": [
    "np.shape(X_train)"
   ]
  },
  {
   "cell_type": "code",
   "execution_count": 5,
   "metadata": {},
   "outputs": [
    {
     "output_type": "stream",
     "name": "stderr",
     "text": [
      "Using TensorFlow backend.\n",
      "WARNING:tensorflow:From /home/ita/.local/lib/python2.7/site-packages/tensorflow/python/ops/nn_impl.py:180: where (from tensorflow.python.ops.array_ops) is deprecated and will be removed in a future version.\n",
      "Instructions for updating:\n",
      "Use tf.where in 2.0, which has the same broadcast rule as np.where\n",
      "WARNING:tensorflow:From /home/ita/.local/lib/python2.7/site-packages/keras/backend/tensorflow_backend.py:422: The name tf.global_variables is deprecated. Please use tf.compat.v1.global_variables instead.\n",
      "\n",
      "Epoch 1/30\n",
      "8000/8000 [==============================] - 2s 213us/step - loss: 0.4866 - accuracy: 0.7903\n",
      "Epoch 2/30\n",
      "8000/8000 [==============================] - 1s 109us/step - loss: 0.4297 - accuracy: 0.7960\n",
      "Epoch 3/30\n",
      "8000/8000 [==============================] - 1s 108us/step - loss: 0.4229 - accuracy: 0.7959\n",
      "Epoch 4/30\n",
      "8000/8000 [==============================] - 1s 116us/step - loss: 0.4154 - accuracy: 0.8002\n",
      "Epoch 5/30\n",
      "8000/8000 [==============================] - 1s 111us/step - loss: 0.4075 - accuracy: 0.8159\n",
      "Epoch 6/30\n",
      "8000/8000 [==============================] - 1s 106us/step - loss: 0.3997 - accuracy: 0.8198\n",
      "Epoch 7/30\n",
      "8000/8000 [==============================] - 1s 107us/step - loss: 0.3940 - accuracy: 0.8253\n",
      "Epoch 8/30\n",
      "8000/8000 [==============================] - 1s 108us/step - loss: 0.3894 - accuracy: 0.8254\n",
      "Epoch 9/30\n",
      "8000/8000 [==============================] - 1s 112us/step - loss: 0.3856 - accuracy: 0.8279\n",
      "Epoch 10/30\n",
      "8000/8000 [==============================] - 1s 119us/step - loss: 0.3813 - accuracy: 0.8267\n",
      "Epoch 11/30\n",
      "8000/8000 [==============================] - 1s 136us/step - loss: 0.3788 - accuracy: 0.8291\n",
      "Epoch 12/30\n",
      "8000/8000 [==============================] - 1s 129us/step - loss: 0.3765 - accuracy: 0.8339\n",
      "Epoch 13/30\n",
      "8000/8000 [==============================] - 1s 109us/step - loss: 0.3734 - accuracy: 0.8409\n",
      "Epoch 14/30\n",
      "8000/8000 [==============================] - 1s 107us/step - loss: 0.3722 - accuracy: 0.8451\n",
      "Epoch 15/30\n",
      "8000/8000 [==============================] - 1s 112us/step - loss: 0.3698 - accuracy: 0.8474\n",
      "Epoch 16/30\n",
      "8000/8000 [==============================] - 1s 107us/step - loss: 0.3675 - accuracy: 0.8468\n",
      "Epoch 17/30\n",
      "8000/8000 [==============================] - 1s 109us/step - loss: 0.3664 - accuracy: 0.8494\n",
      "Epoch 18/30\n",
      "8000/8000 [==============================] - 1s 109us/step - loss: 0.3653 - accuracy: 0.8510\n",
      "Epoch 19/30\n",
      "8000/8000 [==============================] - 1s 109us/step - loss: 0.3639 - accuracy: 0.8518\n",
      "Epoch 20/30\n",
      "8000/8000 [==============================] - 1s 107us/step - loss: 0.3628 - accuracy: 0.8528\n",
      "Epoch 21/30\n",
      "8000/8000 [==============================] - 1s 110us/step - loss: 0.3613 - accuracy: 0.8539\n",
      "Epoch 22/30\n",
      "8000/8000 [==============================] - 1s 110us/step - loss: 0.3604 - accuracy: 0.8554\n",
      "Epoch 23/30\n",
      "8000/8000 [==============================] - 1s 110us/step - loss: 0.3596 - accuracy: 0.8531\n",
      "Epoch 24/30\n",
      "8000/8000 [==============================] - 1s 110us/step - loss: 0.3594 - accuracy: 0.8535\n",
      "Epoch 25/30\n",
      "8000/8000 [==============================] - 1s 107us/step - loss: 0.3589 - accuracy: 0.8536\n",
      "Epoch 26/30\n",
      "8000/8000 [==============================] - 1s 111us/step - loss: 0.3573 - accuracy: 0.8545\n",
      "Epoch 27/30\n",
      "8000/8000 [==============================] - 1s 112us/step - loss: 0.3568 - accuracy: 0.8543\n",
      "Epoch 28/30\n",
      "8000/8000 [==============================] - 1s 107us/step - loss: 0.3567 - accuracy: 0.8556\n",
      "Epoch 29/30\n",
      "8000/8000 [==============================] - 1s 110us/step - loss: 0.3562 - accuracy: 0.8553\n",
      "Epoch 30/30\n",
      "8000/8000 [==============================] - 1s 108us/step - loss: 0.3557 - accuracy: 0.8551\n"
     ]
    },
    {
     "output_type": "execute_result",
     "data": {
      "text/plain": [
       "<keras.callbacks.callbacks.History at 0x7fb4a5d9b650>"
      ]
     },
     "metadata": {},
     "execution_count": 5
    }
   ],
   "source": [
    "# Part 2 - Now let's make the ANN!\n",
    "\n",
    "# Importing the Keras libraries and packages\n",
    "import keras\n",
    "from keras.models import Sequential\n",
    "from keras.layers import Dense\n",
    "\n",
    "# Initialising the ANN\n",
    "classifier = Sequential()\n",
    "\n",
    "# Adding the input layer and the first hidden layer\n",
    "classifier.add(Dense(units = 6, kernel_initializer = 'uniform', activation = 'relu', input_dim = 12))\n",
    "\n",
    "# Adding the second hidden layer\n",
    "classifier.add(Dense(units = 6, kernel_initializer = 'uniform', activation = 'softplus'))\n",
    "\n",
    "# Adding the output layer\n",
    "classifier.add(Dense(units = 1, kernel_initializer = 'uniform', activation = 'sigmoid'))\n",
    "\n",
    "# Compiling the ANN\n",
    "classifier.compile(optimizer = 'adam', loss = 'binary_crossentropy', metrics = ['accuracy'])\n",
    "\n",
    "# Fitting the ANN to the Training set\n",
    "classifier.fit(X_train, y_train, batch_size = 10, epochs = 30)"
   ]
  },
  {
   "cell_type": "code",
   "execution_count": 6,
   "metadata": {},
   "outputs": [],
   "source": [
    "# Part 3 - Making predictions and evaluating the model\n",
    "\n",
    "# Predicting the Test set results\n",
    "y_pred = classifier.predict(X_test)\n",
    "y_pred = (y_pred > 0.5)\n",
    "\n",
    "# Making the Confusion Matrix\n",
    "from sklearn.metrics import confusion_matrix\n",
    "cm = confusion_matrix(y_test, y_pred)"
   ]
  },
  {
   "cell_type": "code",
   "execution_count": 7,
   "metadata": {},
   "outputs": [
    {
     "output_type": "stream",
     "name": "stdout",
     "text": [
      "[[1499   96]\n [ 192  213]]\n"
     ]
    }
   ],
   "source": [
    "print(cm)"
   ]
  },
  {
   "cell_type": "code",
   "execution_count": null,
   "metadata": {},
   "outputs": [],
   "source": []
  }
 ],
 "metadata": {
  "kernelspec": {
   "display_name": "Python 2",
   "language": "python",
   "name": "python2"
  },
  "language_info": {
   "codemirror_mode": {
    "name": "ipython",
    "version": 2
   },
   "file_extension": ".py",
   "mimetype": "text/x-python",
   "name": "python",
   "nbconvert_exporter": "python",
   "pygments_lexer": "ipython2",
   "version": "2.7.18-final"
  }
 },
 "nbformat": 4,
 "nbformat_minor": 2
}