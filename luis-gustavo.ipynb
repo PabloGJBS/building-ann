{
 "cells": [
  {
   "cell_type": "markdown",
   "metadata": {},
   "source": [
    "# Atividade de ANN\n",
    "\n",
    "Luis Gustavo Avelino"
   ]
  },
  {
   "cell_type": "code",
   "execution_count": 3,
   "metadata": {},
   "outputs": [
    {
     "name": "stdout",
     "output_type": "stream",
     "text": [
      "\u001b[33mDEPRECATION: Python 2.7 will reach the end of its life on January 1st, 2020. Please upgrade your Python as Python 2.7 won't be maintained after that date. A future version of pip will drop support for Python 2.7. More details about Python 2 support in pip, can be found at https://pip.pypa.io/en/latest/development/release-process/#python-2-support\u001b[0m\n",
      "Collecting git+git://github.com/Theano/Theano.git\n",
      "  Cloning git://github.com/Theano/Theano.git to /private/var/folders/_m/1zhkyqn177z09nzh_5v4zlf00000gn/T/pip-req-build-Dt3bgr\n",
      "  Running command git clone -q git://github.com/Theano/Theano.git /private/var/folders/_m/1zhkyqn177z09nzh_5v4zlf00000gn/T/pip-req-build-Dt3bgr\n",
      "Building wheels for collected packages: Theano\n",
      "  Building wheel for Theano (setup.py) ... \u001b[?25ldone\n",
      "\u001b[?25h  Created wheel for Theano: filename=Theano-1.0.4+21.g8f510a1f0-cp27-none-any.whl size=2667498 sha256=044e95cbc4e0b4dddbd7a71a3cd8e89a56ce801435623cff29cb65c06a47eabe\n",
      "  Stored in directory: /private/var/folders/_m/1zhkyqn177z09nzh_5v4zlf00000gn/T/pip-ephem-wheel-cache-qmELAB/wheels/ae/32/7c/62beb8371953eb20c271b3bac7d0e56e1a2020d46994346b52\n",
      "Successfully built Theano\n",
      "Installing collected packages: Theano\n",
      "  Found existing installation: Theano 1.0.4+21.g8f510a1f0\n",
      "    Uninstalling Theano-1.0.4+21.g8f510a1f0:\n",
      "      Successfully uninstalled Theano-1.0.4+21.g8f510a1f0\n",
      "Successfully installed Theano-1.0.4+21.g8f510a1f0\n",
      "\u001b[33mDEPRECATION: Python 2.7 will reach the end of its life on January 1st, 2020. Please upgrade your Python as Python 2.7 won't be maintained after that date. A future version of pip will drop support for Python 2.7. More details about Python 2 support in pip, can be found at https://pip.pypa.io/en/latest/development/release-process/#python-2-support\u001b[0m\n",
      "Requirement already up-to-date: tensorflow in /Library/Frameworks/Python.framework/Versions/2.7/lib/python2.7/site-packages (1.14.0)\n",
      "Requirement already satisfied, skipping upgrade: backports.weakref>=1.0rc1 in /Library/Frameworks/Python.framework/Versions/2.7/lib/python2.7/site-packages (from tensorflow) (1.0.post1)\n",
      "Requirement already satisfied, skipping upgrade: grpcio>=1.8.6 in /Library/Frameworks/Python.framework/Versions/2.7/lib/python2.7/site-packages (from tensorflow) (1.23.0)\n",
      "Requirement already satisfied, skipping upgrade: six>=1.10.0 in /Users/luisgustavo/Library/Python/2.7/lib/python/site-packages (from tensorflow) (1.11.0)\n",
      "Requirement already satisfied, skipping upgrade: keras-applications>=1.0.6 in /Library/Frameworks/Python.framework/Versions/2.7/lib/python2.7/site-packages (from tensorflow) (1.0.8)\n",
      "Requirement already satisfied, skipping upgrade: termcolor>=1.1.0 in /Library/Frameworks/Python.framework/Versions/2.7/lib/python2.7/site-packages (from tensorflow) (1.1.0)\n",
      "Requirement already satisfied, skipping upgrade: wrapt>=1.11.1 in /Users/luisgustavo/Library/Python/2.7/lib/python/site-packages (from tensorflow) (1.11.1)\n",
      "Requirement already satisfied, skipping upgrade: keras-preprocessing>=1.0.5 in /Library/Frameworks/Python.framework/Versions/2.7/lib/python2.7/site-packages (from tensorflow) (1.1.0)\n",
      "Requirement already satisfied, skipping upgrade: protobuf>=3.6.1 in /Library/Frameworks/Python.framework/Versions/2.7/lib/python2.7/site-packages (from tensorflow) (3.9.2)\n",
      "Requirement already satisfied, skipping upgrade: enum34>=1.1.6 in /Users/luisgustavo/Library/Python/2.7/lib/python/site-packages (from tensorflow) (1.1.6)\n",
      "Requirement already satisfied, skipping upgrade: mock>=2.0.0 in /Library/Frameworks/Python.framework/Versions/2.7/lib/python2.7/site-packages (from tensorflow) (3.0.5)\n",
      "Requirement already satisfied, skipping upgrade: tensorboard<1.15.0,>=1.14.0 in /Library/Frameworks/Python.framework/Versions/2.7/lib/python2.7/site-packages (from tensorflow) (1.14.0)\n",
      "Requirement already satisfied, skipping upgrade: wheel in /Library/Frameworks/Python.framework/Versions/2.7/lib/python2.7/site-packages (from tensorflow) (0.33.1)\n",
      "Requirement already satisfied, skipping upgrade: absl-py>=0.7.0 in /Library/Frameworks/Python.framework/Versions/2.7/lib/python2.7/site-packages (from tensorflow) (0.8.0)\n",
      "Requirement already satisfied, skipping upgrade: numpy<2.0,>=1.14.5 in /Library/Frameworks/Python.framework/Versions/2.7/lib/python2.7/site-packages (from tensorflow) (1.16.5)\n",
      "Requirement already satisfied, skipping upgrade: tensorflow-estimator<1.15.0rc0,>=1.14.0rc0 in /Library/Frameworks/Python.framework/Versions/2.7/lib/python2.7/site-packages (from tensorflow) (1.14.0)\n",
      "Requirement already satisfied, skipping upgrade: astor>=0.6.0 in /Library/Frameworks/Python.framework/Versions/2.7/lib/python2.7/site-packages (from tensorflow) (0.8.0)\n",
      "Requirement already satisfied, skipping upgrade: google-pasta>=0.1.6 in /Library/Frameworks/Python.framework/Versions/2.7/lib/python2.7/site-packages (from tensorflow) (0.1.7)\n",
      "Requirement already satisfied, skipping upgrade: gast>=0.2.0 in /Library/Frameworks/Python.framework/Versions/2.7/lib/python2.7/site-packages (from tensorflow) (0.3.2)\n",
      "Requirement already satisfied, skipping upgrade: futures>=2.2.0; python_version < \"3.2\" in /Users/luisgustavo/Library/Python/2.7/lib/python/site-packages (from grpcio>=1.8.6->tensorflow) (3.2.0)\n",
      "Requirement already satisfied, skipping upgrade: h5py in /Library/Frameworks/Python.framework/Versions/2.7/lib/python2.7/site-packages (from keras-applications>=1.0.6->tensorflow) (2.10.0)\n",
      "Requirement already satisfied, skipping upgrade: setuptools in /Library/Frameworks/Python.framework/Versions/2.7/lib/python2.7/site-packages (from protobuf>=3.6.1->tensorflow) (41.2.0)\n",
      "Requirement already satisfied, skipping upgrade: funcsigs>=1; python_version < \"3.3\" in /Library/Frameworks/Python.framework/Versions/2.7/lib/python2.7/site-packages (from mock>=2.0.0->tensorflow) (1.0.2)\n",
      "Requirement already satisfied, skipping upgrade: werkzeug>=0.11.15 in /Library/Frameworks/Python.framework/Versions/2.7/lib/python2.7/site-packages (from tensorboard<1.15.0,>=1.14.0->tensorflow) (0.16.0)\n",
      "Requirement already satisfied, skipping upgrade: markdown>=2.6.8 in /Library/Frameworks/Python.framework/Versions/2.7/lib/python2.7/site-packages (from tensorboard<1.15.0,>=1.14.0->tensorflow) (3.1.1)\n",
      "\u001b[33mDEPRECATION: Python 2.7 will reach the end of its life on January 1st, 2020. Please upgrade your Python as Python 2.7 won't be maintained after that date. A future version of pip will drop support for Python 2.7. More details about Python 2 support in pip, can be found at https://pip.pypa.io/en/latest/development/release-process/#python-2-support\u001b[0m\n",
      "Requirement already up-to-date: keras in /Library/Frameworks/Python.framework/Versions/2.7/lib/python2.7/site-packages (2.3.0)\n",
      "Requirement already satisfied, skipping upgrade: numpy>=1.9.1 in /Library/Frameworks/Python.framework/Versions/2.7/lib/python2.7/site-packages (from keras) (1.16.5)\n",
      "Requirement already satisfied, skipping upgrade: scipy>=0.14 in /Library/Frameworks/Python.framework/Versions/2.7/lib/python2.7/site-packages (from keras) (1.2.2)\n",
      "Requirement already satisfied, skipping upgrade: keras-applications>=1.0.6 in /Library/Frameworks/Python.framework/Versions/2.7/lib/python2.7/site-packages (from keras) (1.0.8)\n",
      "Requirement already satisfied, skipping upgrade: six>=1.9.0 in /Users/luisgustavo/Library/Python/2.7/lib/python/site-packages (from keras) (1.11.0)\n",
      "Requirement already satisfied, skipping upgrade: keras-preprocessing>=1.0.5 in /Library/Frameworks/Python.framework/Versions/2.7/lib/python2.7/site-packages (from keras) (1.1.0)\n",
      "Requirement already satisfied, skipping upgrade: pyyaml in /Library/Frameworks/Python.framework/Versions/2.7/lib/python2.7/site-packages (from keras) (5.1.2)\n",
      "Requirement already satisfied, skipping upgrade: h5py in /Library/Frameworks/Python.framework/Versions/2.7/lib/python2.7/site-packages (from keras) (2.10.0)\n",
      "\u001b[33mDEPRECATION: Python 2.7 will reach the end of its life on January 1st, 2020. Please upgrade your Python as Python 2.7 won't be maintained after that date. A future version of pip will drop support for Python 2.7. More details about Python 2 support in pip, can be found at https://pip.pypa.io/en/latest/development/release-process/#python-2-support\u001b[0m\n",
      "Requirement already up-to-date: pip in /Library/Frameworks/Python.framework/Versions/2.7/lib/python2.7/site-packages (19.2.3)\n"
     ]
    },
    {
     "name": "stdout",
     "output_type": "stream",
     "text": [
      "Requirement already up-to-date: pandas in /Library/Frameworks/Python.framework/Versions/2.7/lib/python2.7/site-packages (0.24.2)\n",
      "Requirement already up-to-date: numpy in /Library/Frameworks/Python.framework/Versions/2.7/lib/python2.7/site-packages (1.16.5)\n",
      "Requirement already up-to-date: matplotlib in /Library/Frameworks/Python.framework/Versions/2.7/lib/python2.7/site-packages (2.2.4)\n",
      "Requirement already up-to-date: sklearn in /Library/Frameworks/Python.framework/Versions/2.7/lib/python2.7/site-packages (0.0)\n",
      "Requirement already satisfied, skipping upgrade: python-dateutil>=2.5.0 in /Users/luisgustavo/Library/Python/2.7/lib/python/site-packages (from pandas) (2.7.5)\n",
      "Requirement already satisfied, skipping upgrade: pytz>=2011k in /Library/Frameworks/Python.framework/Versions/2.7/lib/python2.7/site-packages (from pandas) (2018.9)\n",
      "Requirement already satisfied, skipping upgrade: pyparsing!=2.0.4,!=2.1.2,!=2.1.6,>=2.0.1 in /Library/Frameworks/Python.framework/Versions/2.7/lib/python2.7/site-packages (from matplotlib) (2.3.1)\n",
      "Requirement already satisfied, skipping upgrade: kiwisolver>=1.0.1 in /Library/Frameworks/Python.framework/Versions/2.7/lib/python2.7/site-packages (from matplotlib) (1.0.1)\n",
      "Requirement already satisfied, skipping upgrade: cycler>=0.10 in /Library/Frameworks/Python.framework/Versions/2.7/lib/python2.7/site-packages (from matplotlib) (0.10.0)\n",
      "Requirement already satisfied, skipping upgrade: subprocess32 in /Library/Frameworks/Python.framework/Versions/2.7/lib/python2.7/site-packages (from matplotlib) (3.5.3)\n",
      "Requirement already satisfied, skipping upgrade: six>=1.10 in /Users/luisgustavo/Library/Python/2.7/lib/python/site-packages (from matplotlib) (1.11.0)\n",
      "Requirement already satisfied, skipping upgrade: backports.functools-lru-cache in /Users/luisgustavo/Library/Python/2.7/lib/python/site-packages (from matplotlib) (1.5)\n",
      "Requirement already satisfied, skipping upgrade: scikit-learn in /Library/Frameworks/Python.framework/Versions/2.7/lib/python2.7/site-packages (from sklearn) (0.20.4)\n",
      "Requirement already satisfied, skipping upgrade: setuptools in /Library/Frameworks/Python.framework/Versions/2.7/lib/python2.7/site-packages (from kiwisolver>=1.0.1->matplotlib) (41.2.0)\n",
      "Requirement already satisfied, skipping upgrade: scipy>=0.13.3 in /Library/Frameworks/Python.framework/Versions/2.7/lib/python2.7/site-packages (from scikit-learn->sklearn) (1.2.2)\n"
     ]
    }
   ],
   "source": [
    "# Installing Theano\n",
    "! pip install --upgrade --no-deps git+git://github.com/Theano/Theano.git\n",
    "\n",
    "# Installing Tensorflow\n",
    "! pip install --upgrade tensorflow\n",
    "\n",
    "# Installing Keras\n",
    "! pip install --upgrade keras\n",
    "\n",
    "# Install other packages\n",
    "! pip install --upgrade pip pandas numpy matplotlib sklearn"
   ]
  },
  {
   "cell_type": "markdown",
   "metadata": {},
   "source": [
    "# Parte 1 - Preprocessamento dos Dados"
   ]
  },
  {
   "cell_type": "markdown",
   "metadata": {},
   "source": [
    "### Importar as libs"
   ]
  },
  {
   "cell_type": "code",
   "execution_count": 5,
   "metadata": {},
   "outputs": [],
   "source": [
    "import numpy as np\n",
    "import matplotlib.pyplot as plt\n",
    "import pandas as pd"
   ]
  },
  {
   "cell_type": "markdown",
   "metadata": {},
   "source": [
    "### Importar o dataset\n"
   ]
  },
  {
   "cell_type": "code",
   "execution_count": 7,
   "metadata": {},
   "outputs": [
    {
     "name": "stdout",
     "output_type": "stream",
     "text": [
      "X >>\n",
      " [[619 'France' 'Female' ... 1 1 101348.88]\n",
      " [608 'Spain' 'Female' ... 0 1 112542.58]\n",
      " [502 'France' 'Female' ... 1 0 113931.57]\n",
      " ...\n",
      " [709 'France' 'Female' ... 0 1 42085.58]\n",
      " [772 'Germany' 'Male' ... 1 0 92888.52]\n",
      " [792 'France' 'Female' ... 1 0 38190.78]]\n",
      "y >>\n",
      " [1 0 1 ... 1 1 0]\n"
     ]
    }
   ],
   "source": [
    "dataset = pd.read_csv('Churn_Modelling.csv')\n",
    "X = dataset.iloc[:, 3:13].values\n",
    "y = dataset.iloc[:, 13].values\n",
    "print(\"X >>\\n\",X)\n",
    "print(\"y >>\\n\",y)"
   ]
  },
  {
   "cell_type": "markdown",
   "metadata": {},
   "source": [
    "### Transformando os dados categóricos\n"
   ]
  },
  {
   "cell_type": "code",
   "execution_count": 8,
   "metadata": {},
   "outputs": [
    {
     "name": "stdout",
     "output_type": "stream",
     "text": [
      "X >>\n",
      " [[0.0000000e+00 0.0000000e+00 6.1900000e+02 ... 1.0000000e+00\n",
      "  1.0000000e+00 1.0134888e+05]\n",
      " [0.0000000e+00 1.0000000e+00 6.0800000e+02 ... 0.0000000e+00\n",
      "  1.0000000e+00 1.1254258e+05]\n",
      " [0.0000000e+00 0.0000000e+00 5.0200000e+02 ... 1.0000000e+00\n",
      "  0.0000000e+00 1.1393157e+05]\n",
      " ...\n",
      " [0.0000000e+00 0.0000000e+00 7.0900000e+02 ... 0.0000000e+00\n",
      "  1.0000000e+00 4.2085580e+04]\n",
      " [1.0000000e+00 0.0000000e+00 7.7200000e+02 ... 1.0000000e+00\n",
      "  0.0000000e+00 9.2888520e+04]\n",
      " [0.0000000e+00 0.0000000e+00 7.9200000e+02 ... 1.0000000e+00\n",
      "  0.0000000e+00 3.8190780e+04]]\n"
     ]
    },
    {
     "name": "stderr",
     "output_type": "stream",
     "text": [
      "/anaconda3/lib/python3.7/site-packages/sklearn/preprocessing/_encoders.py:371: FutureWarning: The handling of integer data will change in version 0.22. Currently, the categories are determined based on the range [0, max(values)], while in the future they will be determined based on the unique values.\n",
      "If you want the future behaviour and silence this warning, you can specify \"categories='auto'\".\n",
      "In case you used a LabelEncoder before this OneHotEncoder to convert the categories to integers, then you can now use the OneHotEncoder directly.\n",
      "  warnings.warn(msg, FutureWarning)\n",
      "/anaconda3/lib/python3.7/site-packages/sklearn/preprocessing/_encoders.py:392: DeprecationWarning: The 'categorical_features' keyword is deprecated in version 0.20 and will be removed in 0.22. You can use the ColumnTransformer instead.\n",
      "  \"use the ColumnTransformer instead.\", DeprecationWarning)\n"
     ]
    }
   ],
   "source": [
    "from sklearn.preprocessing import LabelEncoder, OneHotEncoder\n",
    "labelencoder_X_1 = LabelEncoder()\n",
    "X[:, 1] = labelencoder_X_1.fit_transform(X[:, 1])\n",
    "labelencoder_X_2 = LabelEncoder()\n",
    "X[:, 2] = labelencoder_X_2.fit_transform(X[:, 2])\n",
    "onehotencoder = OneHotEncoder(categorical_features = [1])\n",
    "X = onehotencoder.fit_transform(X).toarray()\n",
    "X = X[:, 1:]\n",
    "print(\"X >>\\n\",X)"
   ]
  },
  {
   "cell_type": "markdown",
   "metadata": {},
   "source": [
    "# Dividindo o dataset em conjunto de treinamento e conjunto de teste"
   ]
  },
  {
   "cell_type": "code",
   "execution_count": 9,
   "metadata": {},
   "outputs": [],
   "source": [
    "from sklearn.model_selection import train_test_split\n",
    "X_train, X_test, y_train, y_test = train_test_split(X, y, test_size = 0.2, random_state = 0)"
   ]
  },
  {
   "cell_type": "markdown",
   "metadata": {},
   "source": [
    "# Feature Scaling"
   ]
  },
  {
   "cell_type": "code",
   "execution_count": 10,
   "metadata": {},
   "outputs": [],
   "source": [
    "from sklearn.preprocessing import StandardScaler\n",
    "sc = StandardScaler()\n",
    "X_train = sc.fit_transform(X_train)\n",
    "X_test = sc.transform(X_test)"
   ]
  },
  {
   "cell_type": "markdown",
   "metadata": {},
   "source": [
    "---\n",
    "# Parte 2 -Vamos construir uma ANN!\n",
    "\n",
    "## Importando o Keras\n"
   ]
  },
  {
   "cell_type": "code",
   "execution_count": 12,
   "metadata": {},
   "outputs": [
    {
     "name": "stderr",
     "output_type": "stream",
     "text": [
      "Using TensorFlow backend.\n",
      "/anaconda3/lib/python3.7/site-packages/tensorflow/python/framework/dtypes.py:516: FutureWarning: Passing (type, 1) or '1type' as a synonym of type is deprecated; in a future version of numpy, it will be understood as (type, (1,)) / '(1,)type'.\n",
      "  _np_qint8 = np.dtype([(\"qint8\", np.int8, 1)])\n",
      "/anaconda3/lib/python3.7/site-packages/tensorflow/python/framework/dtypes.py:517: FutureWarning: Passing (type, 1) or '1type' as a synonym of type is deprecated; in a future version of numpy, it will be understood as (type, (1,)) / '(1,)type'.\n",
      "  _np_quint8 = np.dtype([(\"quint8\", np.uint8, 1)])\n",
      "/anaconda3/lib/python3.7/site-packages/tensorflow/python/framework/dtypes.py:518: FutureWarning: Passing (type, 1) or '1type' as a synonym of type is deprecated; in a future version of numpy, it will be understood as (type, (1,)) / '(1,)type'.\n",
      "  _np_qint16 = np.dtype([(\"qint16\", np.int16, 1)])\n",
      "/anaconda3/lib/python3.7/site-packages/tensorflow/python/framework/dtypes.py:519: FutureWarning: Passing (type, 1) or '1type' as a synonym of type is deprecated; in a future version of numpy, it will be understood as (type, (1,)) / '(1,)type'.\n",
      "  _np_quint16 = np.dtype([(\"quint16\", np.uint16, 1)])\n",
      "/anaconda3/lib/python3.7/site-packages/tensorflow/python/framework/dtypes.py:520: FutureWarning: Passing (type, 1) or '1type' as a synonym of type is deprecated; in a future version of numpy, it will be understood as (type, (1,)) / '(1,)type'.\n",
      "  _np_qint32 = np.dtype([(\"qint32\", np.int32, 1)])\n",
      "/anaconda3/lib/python3.7/site-packages/tensorflow/python/framework/dtypes.py:525: FutureWarning: Passing (type, 1) or '1type' as a synonym of type is deprecated; in a future version of numpy, it will be understood as (type, (1,)) / '(1,)type'.\n",
      "  np_resource = np.dtype([(\"resource\", np.ubyte, 1)])\n",
      "/anaconda3/lib/python3.7/site-packages/tensorboard/compat/tensorflow_stub/dtypes.py:541: FutureWarning: Passing (type, 1) or '1type' as a synonym of type is deprecated; in a future version of numpy, it will be understood as (type, (1,)) / '(1,)type'.\n",
      "  _np_qint8 = np.dtype([(\"qint8\", np.int8, 1)])\n",
      "/anaconda3/lib/python3.7/site-packages/tensorboard/compat/tensorflow_stub/dtypes.py:542: FutureWarning: Passing (type, 1) or '1type' as a synonym of type is deprecated; in a future version of numpy, it will be understood as (type, (1,)) / '(1,)type'.\n",
      "  _np_quint8 = np.dtype([(\"quint8\", np.uint8, 1)])\n",
      "/anaconda3/lib/python3.7/site-packages/tensorboard/compat/tensorflow_stub/dtypes.py:543: FutureWarning: Passing (type, 1) or '1type' as a synonym of type is deprecated; in a future version of numpy, it will be understood as (type, (1,)) / '(1,)type'.\n",
      "  _np_qint16 = np.dtype([(\"qint16\", np.int16, 1)])\n",
      "/anaconda3/lib/python3.7/site-packages/tensorboard/compat/tensorflow_stub/dtypes.py:544: FutureWarning: Passing (type, 1) or '1type' as a synonym of type is deprecated; in a future version of numpy, it will be understood as (type, (1,)) / '(1,)type'.\n",
      "  _np_quint16 = np.dtype([(\"quint16\", np.uint16, 1)])\n",
      "/anaconda3/lib/python3.7/site-packages/tensorboard/compat/tensorflow_stub/dtypes.py:545: FutureWarning: Passing (type, 1) or '1type' as a synonym of type is deprecated; in a future version of numpy, it will be understood as (type, (1,)) / '(1,)type'.\n",
      "  _np_qint32 = np.dtype([(\"qint32\", np.int32, 1)])\n",
      "/anaconda3/lib/python3.7/site-packages/tensorboard/compat/tensorflow_stub/dtypes.py:550: FutureWarning: Passing (type, 1) or '1type' as a synonym of type is deprecated; in a future version of numpy, it will be understood as (type, (1,)) / '(1,)type'.\n",
      "  np_resource = np.dtype([(\"resource\", np.ubyte, 1)])\n"
     ]
    }
   ],
   "source": [
    "import keras\n",
    "from keras.models import Sequential\n",
    "from keras.layers import Dense"
   ]
  },
  {
   "cell_type": "code",
   "execution_count": 13,
   "metadata": {},
   "outputs": [
    {
     "name": "stdout",
     "output_type": "stream",
     "text": [
      "WARNING:tensorflow:From /anaconda3/lib/python3.7/site-packages/keras/backend/tensorflow_backend.py:66: The name tf.get_default_graph is deprecated. Please use tf.compat.v1.get_default_graph instead.\n",
      "\n",
      "WARNING:tensorflow:From /anaconda3/lib/python3.7/site-packages/keras/backend/tensorflow_backend.py:541: The name tf.placeholder is deprecated. Please use tf.compat.v1.placeholder instead.\n",
      "\n",
      "WARNING:tensorflow:From /anaconda3/lib/python3.7/site-packages/keras/backend/tensorflow_backend.py:4432: The name tf.random_uniform is deprecated. Please use tf.random.uniform instead.\n",
      "\n",
      "WARNING:tensorflow:From /anaconda3/lib/python3.7/site-packages/keras/optimizers.py:793: The name tf.train.Optimizer is deprecated. Please use tf.compat.v1.train.Optimizer instead.\n",
      "\n",
      "WARNING:tensorflow:From /anaconda3/lib/python3.7/site-packages/keras/backend/tensorflow_backend.py:3657: The name tf.log is deprecated. Please use tf.math.log instead.\n",
      "\n",
      "WARNING:tensorflow:From /anaconda3/lib/python3.7/site-packages/tensorflow/python/ops/nn_impl.py:180: add_dispatch_support.<locals>.wrapper (from tensorflow.python.ops.array_ops) is deprecated and will be removed in a future version.\n",
      "Instructions for updating:\n",
      "Use tf.where in 2.0, which has the same broadcast rule as np.where\n"
     ]
    }
   ],
   "source": [
    "# Initialising the ANN\n",
    "classifier = Sequential()\n",
    "\n",
    "# Adding the input layer and the first hidden layer\n",
    "classifier.add(Dense(units = 6, kernel_initializer = 'uniform', activation = 'softmax', input_dim = 11))\n",
    "\n",
    "# Adding the second hidden layer\n",
    "classifier.add(Dense(units = 6, kernel_initializer = 'uniform', activation = 'softmax'))\n",
    "\n",
    "# Adding the third hidden layer\n",
    "classifier.add(Dense(units = 4, kernel_initializer = 'uniform', activation = 'softmax'))\n",
    "\n",
    "# Adding the output layer\n",
    "classifier.add(Dense(units = 1, kernel_initializer = 'uniform', activation = 'sigmoid'))\n",
    "\n",
    "# Compiling the ANN\n",
    "classifier.compile(optimizer = 'adam', loss = 'binary_crossentropy', metrics = ['accuracy'])"
   ]
  },
  {
   "cell_type": "markdown",
   "metadata": {},
   "source": [
    "# Ajustando a ANN ao conjunto de treinamento"
   ]
  },
  {
   "cell_type": "code",
   "execution_count": null,
   "metadata": {},
   "outputs": [
    {
     "name": "stdout",
     "output_type": "stream",
     "text": [
      "WARNING:tensorflow:From /anaconda3/lib/python3.7/site-packages/keras/backend/tensorflow_backend.py:1033: The name tf.assign_add is deprecated. Please use tf.compat.v1.assign_add instead.\n",
      "\n",
      "Epoch 1/100\n",
      "8000/8000 [==============================] - 3s 314us/step - loss: 0.5691 - acc: 0.7935\n",
      "Epoch 2/100\n",
      "8000/8000 [==============================] - 1s 166us/step - loss: 0.5041 - acc: 0.7960 1s - loss\n",
      "Epoch 3/100\n",
      "8000/8000 [==============================] - 1s 166us/step - loss: 0.4703 - acc: 0.7960\n",
      "Epoch 4/100\n",
      "8000/8000 [==============================] - 2s 190us/step - loss: 0.4366 - acc: 0.7960\n",
      "Epoch 5/100\n",
      "8000/8000 [==============================] - 2s 204us/step - loss: 0.4177 - acc: 0.7960 0s - loss: 0.4218 - \n",
      "Epoch 6/100\n",
      "8000/8000 [==============================] - 1s 166us/step - loss: 0.4033 - acc: 0.7960 0s - loss: 0.40\n",
      "Epoch 7/100\n",
      "8000/8000 [==============================] - 1s 184us/step - loss: 0.3919 - acc: 0.8355\n",
      "Epoch 8/100\n",
      "8000/8000 [==============================] - 1s 177us/step - loss: 0.3809 - acc: 0.8497\n",
      "Epoch 9/100\n",
      "8000/8000 [==============================] - 2s 214us/step - loss: 0.3724 - acc: 0.8526\n",
      "Epoch 10/100\n",
      "8000/8000 [==============================] - 1s 162us/step - loss: 0.3672 - acc: 0.8551\n",
      "Epoch 11/100\n",
      "8000/8000 [==============================] - 2s 227us/step - loss: 0.3636 - acc: 0.8569\n",
      "Epoch 12/100\n",
      "8000/8000 [==============================] - 1s 172us/step - loss: 0.3616 - acc: 0.8591\n",
      "Epoch 13/100\n",
      "8000/8000 [==============================] - 1s 159us/step - loss: 0.3593 - acc: 0.8572\n",
      "Epoch 14/100\n",
      "8000/8000 [==============================] - 1s 172us/step - loss: 0.3580 - acc: 0.8607\n",
      "Epoch 15/100\n",
      "8000/8000 [==============================] - 2s 232us/step - loss: 0.3565 - acc: 0.8596\n",
      "Epoch 16/100\n",
      "8000/8000 [==============================] - 1s 175us/step - loss: 0.3549 - acc: 0.8604\n",
      "Epoch 17/100\n",
      "8000/8000 [==============================] - 1s 173us/step - loss: 0.3537 - acc: 0.8624\n",
      "Epoch 18/100\n",
      "8000/8000 [==============================] - 2s 205us/step - loss: 0.3528 - acc: 0.8596\n",
      "Epoch 19/100\n",
      "8000/8000 [==============================] - 1s 187us/step - loss: 0.3514 - acc: 0.8609\n",
      "Epoch 20/100\n",
      "8000/8000 [==============================] - 1s 167us/step - loss: 0.3501 - acc: 0.8604\n",
      "Epoch 21/100\n",
      "8000/8000 [==============================] - 2s 205us/step - loss: 0.3490 - acc: 0.8599\n",
      "Epoch 22/100\n",
      "8000/8000 [==============================] - 1s 172us/step - loss: 0.3484 - acc: 0.8616\n",
      "Epoch 23/100\n",
      "8000/8000 [==============================] - 1s 184us/step - loss: 0.3471 - acc: 0.8601\n",
      "Epoch 24/100\n",
      "8000/8000 [==============================] - 1s 181us/step - loss: 0.3467 - acc: 0.8615\n",
      "Epoch 25/100\n",
      "8000/8000 [==============================] - 1s 159us/step - loss: 0.3457 - acc: 0.8626\n",
      "Epoch 26/100\n",
      "8000/8000 [==============================] - 1s 169us/step - loss: 0.3449 - acc: 0.8634\n",
      "Epoch 27/100\n",
      "8000/8000 [==============================] - 2s 189us/step - loss: 0.3448 - acc: 0.8629\n",
      "Epoch 28/100\n",
      "8000/8000 [==============================] - 2s 205us/step - loss: 0.3436 - acc: 0.8610\n",
      "Epoch 29/100\n",
      "8000/8000 [==============================] - 1s 166us/step - loss: 0.3432 - acc: 0.8626\n",
      "Epoch 30/100\n",
      "8000/8000 [==============================] - 2s 197us/step - loss: 0.3431 - acc: 0.8635\n",
      "Epoch 31/100\n",
      "8000/8000 [==============================] - 1s 176us/step - loss: 0.3418 - acc: 0.8611\n",
      "Epoch 32/100\n",
      "8000/8000 [==============================] - 2s 204us/step - loss: 0.3419 - acc: 0.8627 1s - loss: 0\n",
      "Epoch 33/100\n",
      "8000/8000 [==============================] - 2s 201us/step - loss: 0.3415 - acc: 0.8627 0s - loss: 0.3438 - acc: \n",
      "Epoch 34/100\n",
      "8000/8000 [==============================] - 1s 161us/step - loss: 0.3411 - acc: 0.8634\n",
      "Epoch 35/100\n",
      "8000/8000 [==============================] - 1s 163us/step - loss: 0.3407 - acc: 0.8630\n",
      "Epoch 36/100\n",
      "8000/8000 [==============================] - 1s 144us/step - loss: 0.3402 - acc: 0.8629\n",
      "Epoch 37/100\n",
      "8000/8000 [==============================] - 1s 158us/step - loss: 0.3397 - acc: 0.8641 0s - loss: 0.3447 \n",
      "Epoch 38/100\n",
      "8000/8000 [==============================] - 1s 168us/step - loss: 0.3394 - acc: 0.8641\n",
      "Epoch 39/100\n",
      "8000/8000 [==============================] - 1s 144us/step - loss: 0.3395 - acc: 0.8637\n",
      "Epoch 40/100\n",
      "8000/8000 [==============================] - 1s 151us/step - loss: 0.3391 - acc: 0.8662\n",
      "Epoch 41/100\n",
      "8000/8000 [==============================] - 2s 190us/step - loss: 0.3389 - acc: 0.8627\n",
      "Epoch 42/100\n",
      "8000/8000 [==============================] - 2s 189us/step - loss: 0.3389 - acc: 0.8644\n",
      "Epoch 43/100\n",
      "8000/8000 [==============================] - 1s 187us/step - loss: 0.3387 - acc: 0.8645\n",
      "Epoch 44/100\n",
      "8000/8000 [==============================] - 1s 158us/step - loss: 0.3387 - acc: 0.8630\n",
      "Epoch 45/100\n",
      "8000/8000 [==============================] - 2s 199us/step - loss: 0.3384 - acc: 0.8640\n",
      "Epoch 46/100\n",
      "8000/8000 [==============================] - 1s 186us/step - loss: 0.3382 - acc: 0.8639\n",
      "Epoch 47/100\n",
      "8000/8000 [==============================] - 2s 192us/step - loss: 0.3381 - acc: 0.8629\n",
      "Epoch 48/100\n",
      "8000/8000 [==============================] - 1s 179us/step - loss: 0.3375 - acc: 0.8650 0s - loss: 0.3388 - ac\n",
      "Epoch 49/100\n",
      "8000/8000 [==============================] - 1s 169us/step - loss: 0.3375 - acc: 0.8627\n",
      "Epoch 50/100\n",
      "8000/8000 [==============================] - 2s 197us/step - loss: 0.3377 - acc: 0.8634\n",
      "Epoch 51/100\n",
      "8000/8000 [==============================] - 1s 162us/step - loss: 0.3376 - acc: 0.8651\n",
      "Epoch 52/100\n",
      "8000/8000 [==============================] - 1s 150us/step - loss: 0.3375 - acc: 0.8644\n",
      "Epoch 53/100\n",
      "8000/8000 [==============================] - 1s 145us/step - loss: 0.3371 - acc: 0.8652\n",
      "Epoch 54/100\n",
      "8000/8000 [==============================] - 1s 139us/step - loss: 0.3376 - acc: 0.8646\n",
      "Epoch 55/100\n",
      "8000/8000 [==============================] - 1s 164us/step - loss: 0.3373 - acc: 0.8640\n",
      "Epoch 56/100\n",
      "8000/8000 [==============================] - 1s 167us/step - loss: 0.3371 - acc: 0.8630\n",
      "Epoch 57/100\n",
      "8000/8000 [==============================] - 1s 160us/step - loss: 0.3370 - acc: 0.8637\n",
      "Epoch 58/100\n",
      "8000/8000 [==============================] - 2s 196us/step - loss: 0.3372 - acc: 0.8639\n",
      "Epoch 59/100\n",
      "8000/8000 [==============================] - 2s 207us/step - loss: 0.3369 - acc: 0.8645\n",
      "Epoch 60/100\n",
      "8000/8000 [==============================] - 2s 195us/step - loss: 0.3372 - acc: 0.8650\n",
      "Epoch 61/100\n",
      "8000/8000 [==============================] - 1s 169us/step - loss: 0.3368 - acc: 0.8647\n",
      "Epoch 62/100\n",
      "8000/8000 [==============================] - 1s 156us/step - loss: 0.3366 - acc: 0.8654\n",
      "Epoch 63/100\n",
      "8000/8000 [==============================] - 1s 146us/step - loss: 0.3367 - acc: 0.8630\n",
      "Epoch 64/100\n",
      "8000/8000 [==============================] - ETA: 0s - loss: 0.3365 - acc: 0.862 - 1s 158us/step - loss: 0.3368 - acc: 0.8629\n",
      "Epoch 65/100\n",
      "8000/8000 [==============================] - 1s 178us/step - loss: 0.3365 - acc: 0.8650\n",
      "Epoch 66/100\n",
      "8000/8000 [==============================] - 1s 150us/step - loss: 0.3366 - acc: 0.8659\n",
      "Epoch 67/100\n",
      "8000/8000 [==============================] - 1s 148us/step - loss: 0.3366 - acc: 0.8657\n",
      "Epoch 68/100\n",
      "8000/8000 [==============================] - 1s 178us/step - loss: 0.3366 - acc: 0.8640 1s - loss:\n",
      "Epoch 69/100\n",
      "8000/8000 [==============================] - 1s 156us/step - loss: 0.3359 - acc: 0.8657\n",
      "Epoch 70/100\n",
      "8000/8000 [==============================] - 1s 156us/step - loss: 0.3363 - acc: 0.8659\n",
      "Epoch 71/100\n",
      "8000/8000 [==============================] - 1s 150us/step - loss: 0.3360 - acc: 0.8660\n",
      "Epoch 72/100\n",
      "8000/8000 [==============================] - 1s 165us/step - loss: 0.3357 - acc: 0.8654\n",
      "Epoch 73/100\n",
      "8000/8000 [==============================] - 1s 148us/step - loss: 0.3361 - acc: 0.8659\n",
      "Epoch 74/100\n",
      "8000/8000 [==============================] - 1s 150us/step - loss: 0.3361 - acc: 0.8644\n",
      "Epoch 75/100\n",
      "8000/8000 [==============================] - 1s 146us/step - loss: 0.3358 - acc: 0.8650\n",
      "Epoch 76/100\n",
      "8000/8000 [==============================] - 1s 146us/step - loss: 0.3362 - acc: 0.8646\n",
      "Epoch 77/100\n",
      "8000/8000 [==============================] - 1s 146us/step - loss: 0.3359 - acc: 0.8662\n",
      "Epoch 78/100\n"
     ]
    },
    {
     "name": "stdout",
     "output_type": "stream",
     "text": [
      "8000/8000 [==============================] - 1s 145us/step - loss: 0.3362 - acc: 0.8645\n",
      "Epoch 79/100\n",
      "8000/8000 [==============================] - 1s 139us/step - loss: 0.3358 - acc: 0.8636\n",
      "Epoch 80/100\n",
      "8000/8000 [==============================] - 1s 138us/step - loss: 0.3360 - acc: 0.8664\n",
      "Epoch 81/100\n",
      "8000/8000 [==============================] - 1s 143us/step - loss: 0.3357 - acc: 0.8645\n",
      "Epoch 82/100\n",
      "8000/8000 [==============================] - 1s 156us/step - loss: 0.3356 - acc: 0.8652\n",
      "Epoch 83/100\n",
      "8000/8000 [==============================] - 1s 144us/step - loss: 0.3357 - acc: 0.8662\n",
      "Epoch 84/100\n",
      "8000/8000 [==============================] - 1s 145us/step - loss: 0.3359 - acc: 0.8650\n",
      "Epoch 85/100\n",
      "8000/8000 [==============================] - 1s 139us/step - loss: 0.3355 - acc: 0.8646\n",
      "Epoch 86/100\n",
      "8000/8000 [==============================] - 1s 145us/step - loss: 0.3356 - acc: 0.8654\n",
      "Epoch 87/100\n",
      "8000/8000 [==============================] - 1s 142us/step - loss: 0.3356 - acc: 0.8637\n",
      "Epoch 88/100\n",
      "8000/8000 [==============================] - 1s 142us/step - loss: 0.3356 - acc: 0.8670\n",
      "Epoch 89/100\n",
      "8000/8000 [==============================] - 1s 139us/step - loss: 0.3352 - acc: 0.8649\n",
      "Epoch 90/100\n",
      "8000/8000 [==============================] - 1s 145us/step - loss: 0.3354 - acc: 0.8667\n",
      "Epoch 91/100\n",
      "4380/8000 [===============>..............] - ETA: 0s - loss: 0.3311 - acc: 0.8664"
     ]
    }
   ],
   "source": [
    "classifier.fit(X_train, y_train, batch_size = 10, epochs = 100)"
   ]
  },
  {
   "cell_type": "markdown",
   "metadata": {},
   "source": [
    "# Parte 3 - Fazendo predições e avaliando o modelo\n",
    "\n",
    "## Prevendo os resultados com o conjunto de testes"
   ]
  },
  {
   "cell_type": "code",
   "execution_count": null,
   "metadata": {},
   "outputs": [],
   "source": [
    "y_pred = classifier.predict(X_test)\n",
    "y_pred = (y_pred > 0.5)"
   ]
  },
  {
   "cell_type": "markdown",
   "metadata": {},
   "source": [
    "# Criando uma Confusion Matrix"
   ]
  },
  {
   "cell_type": "code",
   "execution_count": null,
   "metadata": {},
   "outputs": [],
   "source": [
    "from sklearn.metrics import confusion_matrix\n",
    "cm = confusion_matrix(y_test, y_pred)\n",
    "print(cm)"
   ]
  },
  {
   "cell_type": "code",
   "execution_count": null,
   "metadata": {},
   "outputs": [],
   "source": []
  }
 ],
 "metadata": {
  "kernelspec": {
   "display_name": "Python 3",
   "language": "python",
   "name": "python3"
  },
  "language_info": {
   "codemirror_mode": {
    "name": "ipython",
    "version": 3
   },
   "file_extension": ".py",
   "mimetype": "text/x-python",
   "name": "python",
   "nbconvert_exporter": "python",
   "pygments_lexer": "ipython3",
   "version": "3.7.3"
  }
 },
 "nbformat": 4,
 "nbformat_minor": 2
}
