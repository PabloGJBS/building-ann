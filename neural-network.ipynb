{
 "cells": [
  {
   "cell_type": "markdown",
   "metadata": {},
   "source": [
    "# Import Libs"
   ]
  },
  {
   "cell_type": "code",
   "execution_count": 1,
   "metadata": {
    "ExecuteTime": {
     "end_time": "2019-09-22T19:02:22.761787Z",
     "start_time": "2019-09-22T19:02:21.682819Z"
    }
   },
   "outputs": [],
   "source": [
    "import numpy as np\n",
    "import matplotlib.pyplot as plt\n",
    "import pandas as pd"
   ]
  },
  {
   "cell_type": "markdown",
   "metadata": {},
   "source": [
    "### Importar o dataset"
   ]
  },
  {
   "cell_type": "code",
   "execution_count": 2,
   "metadata": {
    "ExecuteTime": {
     "end_time": "2019-09-22T19:02:23.488978Z",
     "start_time": "2019-09-22T19:02:23.425600Z"
    }
   },
   "outputs": [
    {
     "name": "stdout",
     "output_type": "stream",
     "text": [
      "X >>\n",
      " [[619 'France' 'Female' ... 1 1 101348.88]\n",
      " [608 'Spain' 'Female' ... 0 1 112542.58]\n",
      " [502 'France' 'Female' ... 1 0 113931.57]\n",
      " ...\n",
      " [709 'France' 'Female' ... 0 1 42085.58]\n",
      " [772 'Germany' 'Male' ... 1 0 92888.52]\n",
      " [792 'France' 'Female' ... 1 0 38190.78]]\n",
      "y >>\n",
      " [1 0 1 ... 1 1 0]\n"
     ]
    }
   ],
   "source": [
    "dataset = pd.read_csv('Churn_Modelling.csv')\n",
    "X = dataset.iloc[:, 3:13].values\n",
    "y = dataset.iloc[:, 13].values\n",
    "print(\"X >>\\n\",X)\n",
    "print(\"y >>\\n\",y)"
   ]
  },
  {
   "cell_type": "markdown",
   "metadata": {},
   "source": [
    "### Transformando os dados categóricos"
   ]
  },
  {
   "cell_type": "code",
   "execution_count": 3,
   "metadata": {
    "ExecuteTime": {
     "end_time": "2019-09-22T19:02:25.817279Z",
     "start_time": "2019-09-22T19:02:25.173021Z"
    }
   },
   "outputs": [
    {
     "name": "stdout",
     "output_type": "stream",
     "text": [
      "X >>\n",
      " [[0.0000000e+00 0.0000000e+00 6.1900000e+02 ... 1.0000000e+00\n",
      "  1.0000000e+00 1.0134888e+05]\n",
      " [0.0000000e+00 1.0000000e+00 6.0800000e+02 ... 0.0000000e+00\n",
      "  1.0000000e+00 1.1254258e+05]\n",
      " [0.0000000e+00 0.0000000e+00 5.0200000e+02 ... 1.0000000e+00\n",
      "  0.0000000e+00 1.1393157e+05]\n",
      " ...\n",
      " [0.0000000e+00 0.0000000e+00 7.0900000e+02 ... 0.0000000e+00\n",
      "  1.0000000e+00 4.2085580e+04]\n",
      " [1.0000000e+00 0.0000000e+00 7.7200000e+02 ... 1.0000000e+00\n",
      "  0.0000000e+00 9.2888520e+04]\n",
      " [0.0000000e+00 0.0000000e+00 7.9200000e+02 ... 1.0000000e+00\n",
      "  0.0000000e+00 3.8190780e+04]]\n"
     ]
    },
    {
     "name": "stderr",
     "output_type": "stream",
     "text": [
      "/home/ronyell/Documents/VISAO/virtual/lib/python3.6/site-packages/sklearn/preprocessing/_encoders.py:368: FutureWarning: The handling of integer data will change in version 0.22. Currently, the categories are determined based on the range [0, max(values)], while in the future they will be determined based on the unique values.\n",
      "If you want the future behaviour and silence this warning, you can specify \"categories='auto'\".\n",
      "In case you used a LabelEncoder before this OneHotEncoder to convert the categories to integers, then you can now use the OneHotEncoder directly.\n",
      "  warnings.warn(msg, FutureWarning)\n",
      "/home/ronyell/Documents/VISAO/virtual/lib/python3.6/site-packages/sklearn/preprocessing/_encoders.py:390: DeprecationWarning: The 'categorical_features' keyword is deprecated in version 0.20 and will be removed in 0.22. You can use the ColumnTransformer instead.\n",
      "  \"use the ColumnTransformer instead.\", DeprecationWarning)\n"
     ]
    }
   ],
   "source": [
    "from sklearn.preprocessing import LabelEncoder, OneHotEncoder\n",
    "labelencoder_X_1 = LabelEncoder()\n",
    "X[:, 1] = labelencoder_X_1.fit_transform(X[:, 1])\n",
    "labelencoder_X_2 = LabelEncoder()\n",
    "X[:, 2] = labelencoder_X_2.fit_transform(X[:, 2])\n",
    "onehotencoder = OneHotEncoder(categorical_features = [1])\n",
    "X = onehotencoder.fit_transform(X).toarray()\n",
    "X = X[:, 1:]\n",
    "print(\"X >>\\n\",X)"
   ]
  },
  {
   "cell_type": "markdown",
   "metadata": {},
   "source": [
    "# Dividindo o dataset em conjunto de treinamento e conjunto de teste"
   ]
  },
  {
   "cell_type": "code",
   "execution_count": 4,
   "metadata": {
    "ExecuteTime": {
     "end_time": "2019-09-22T19:02:27.782132Z",
     "start_time": "2019-09-22T19:02:27.741137Z"
    }
   },
   "outputs": [],
   "source": [
    "from sklearn.model_selection import train_test_split\n",
    "X_train, X_test, y_train, y_test = train_test_split(X, y, test_size = 0.2, random_state = 0)"
   ]
  },
  {
   "cell_type": "markdown",
   "metadata": {},
   "source": [
    "# Feature Scaling"
   ]
  },
  {
   "cell_type": "code",
   "execution_count": 5,
   "metadata": {
    "ExecuteTime": {
     "end_time": "2019-09-22T19:02:31.177653Z",
     "start_time": "2019-09-22T19:02:31.166319Z"
    }
   },
   "outputs": [],
   "source": [
    "from sklearn.preprocessing import StandardScaler\n",
    "sc = StandardScaler()\n",
    "X_train = sc.fit_transform(X_train)\n",
    "X_test = sc.transform(X_test)"
   ]
  },
  {
   "cell_type": "markdown",
   "metadata": {},
   "source": [
    "---\n",
    "# Parte 2 -Vamos construir uma ANN!\n",
    "\n",
    "## Importando o Keras"
   ]
  },
  {
   "cell_type": "code",
   "execution_count": 12,
   "metadata": {
    "ExecuteTime": {
     "end_time": "2019-09-22T19:04:48.954325Z",
     "start_time": "2019-09-22T19:04:48.949136Z"
    }
   },
   "outputs": [],
   "source": [
    "import keras\n",
    "from keras.models import Sequential\n",
    "from keras.layers import Dense"
   ]
  },
  {
   "cell_type": "code",
   "execution_count": 32,
   "metadata": {
    "ExecuteTime": {
     "end_time": "2019-09-22T19:17:11.692042Z",
     "start_time": "2019-09-22T19:17:11.561554Z"
    }
   },
   "outputs": [],
   "source": [
    "# Initialising the ANN\n",
    "classifier = Sequential()\n",
    "\n",
    "# Adding the input layer and the first hidden layer\n",
    "classifier.add(Dense(units = 8, kernel_initializer = 'glorot_uniform', activation = 'relu', input_dim = 11))\n",
    "\n",
    "# Adding the second hidden layer\n",
    "classifier.add(Dense(units = 6, kernel_initializer = 'glorot_uniform', activation = 'relu'))\n",
    "\n",
    "# Adding the third hidden layer\n",
    "classifier.add(Dense(units = 6, kernel_initializer = 'glorot_uniform', activation = 'sigmoid'))\n",
    "\n",
    "# Adding the output layer\n",
    "classifier.add(Dense(units = 1, kernel_initializer = 'uniform', activation = 'sigmoid'))\n",
    "\n",
    "# Compiling the ANN\n",
    "classifier.compile(optimizer = 'adam', loss = 'binary_crossentropy', metrics = ['accuracy'])"
   ]
  },
  {
   "cell_type": "markdown",
   "metadata": {},
   "source": [
    "# Ajustando a ANN ao conjunto de treinamento"
   ]
  },
  {
   "cell_type": "code",
   "execution_count": 33,
   "metadata": {
    "ExecuteTime": {
     "end_time": "2019-09-22T19:18:37.247689Z",
     "start_time": "2019-09-22T19:17:12.882403Z"
    }
   },
   "outputs": [
    {
     "name": "stdout",
     "output_type": "stream",
     "text": [
      "Epoch 1/100\n",
      "8000/8000 [==============================] - 2s 198us/step - loss: 0.5400 - acc: 0.7961\n",
      "Epoch 2/100\n",
      "8000/8000 [==============================] - 1s 98us/step - loss: 0.4503 - acc: 0.7960\n",
      "Epoch 3/100\n",
      "8000/8000 [==============================] - 1s 98us/step - loss: 0.4329 - acc: 0.7960\n",
      "Epoch 4/100\n",
      "8000/8000 [==============================] - 1s 95us/step - loss: 0.4257 - acc: 0.7960\n",
      "Epoch 5/100\n",
      "8000/8000 [==============================] - 1s 98us/step - loss: 0.4196 - acc: 0.7960\n",
      "Epoch 6/100\n",
      "8000/8000 [==============================] - 1s 100us/step - loss: 0.4120 - acc: 0.7960\n",
      "Epoch 7/100\n",
      "8000/8000 [==============================] - 1s 99us/step - loss: 0.4032 - acc: 0.7960\n",
      "Epoch 8/100\n",
      "8000/8000 [==============================] - 1s 102us/step - loss: 0.3939 - acc: 0.7960\n",
      "Epoch 9/100\n",
      "8000/8000 [==============================] - 1s 100us/step - loss: 0.3853 - acc: 0.8063\n",
      "Epoch 10/100\n",
      "8000/8000 [==============================] - 1s 101us/step - loss: 0.3796 - acc: 0.8294\n",
      "Epoch 11/100\n",
      "8000/8000 [==============================] - 1s 100us/step - loss: 0.3752 - acc: 0.8412\n",
      "Epoch 12/100\n",
      "8000/8000 [==============================] - 1s 99us/step - loss: 0.3719 - acc: 0.8480\n",
      "Epoch 13/100\n",
      "8000/8000 [==============================] - 1s 99us/step - loss: 0.3693 - acc: 0.8492\n",
      "Epoch 14/100\n",
      "8000/8000 [==============================] - 1s 99us/step - loss: 0.3664 - acc: 0.8529\n",
      "Epoch 15/100\n",
      "8000/8000 [==============================] - 1s 120us/step - loss: 0.3645 - acc: 0.8536\n",
      "Epoch 16/100\n",
      "8000/8000 [==============================] - 1s 101us/step - loss: 0.3620 - acc: 0.8548\n",
      "Epoch 17/100\n",
      "8000/8000 [==============================] - 1s 108us/step - loss: 0.3593 - acc: 0.8559\n",
      "Epoch 18/100\n",
      "8000/8000 [==============================] - 1s 102us/step - loss: 0.3583 - acc: 0.8540\n",
      "Epoch 19/100\n",
      "8000/8000 [==============================] - 1s 100us/step - loss: 0.3565 - acc: 0.8557\n",
      "Epoch 20/100\n",
      "8000/8000 [==============================] - 1s 98us/step - loss: 0.3551 - acc: 0.8578\n",
      "Epoch 21/100\n",
      "8000/8000 [==============================] - 1s 96us/step - loss: 0.3541 - acc: 0.8559\n",
      "Epoch 22/100\n",
      "8000/8000 [==============================] - 1s 118us/step - loss: 0.3532 - acc: 0.8547\n",
      "Epoch 23/100\n",
      "8000/8000 [==============================] - 1s 100us/step - loss: 0.3520 - acc: 0.8571\n",
      "Epoch 24/100\n",
      "8000/8000 [==============================] - 1s 101us/step - loss: 0.3511 - acc: 0.8587\n",
      "Epoch 25/100\n",
      "8000/8000 [==============================] - 1s 101us/step - loss: 0.3505 - acc: 0.8557\n",
      "Epoch 26/100\n",
      "8000/8000 [==============================] - 1s 103us/step - loss: 0.3497 - acc: 0.8564\n",
      "Epoch 27/100\n",
      "8000/8000 [==============================] - 1s 98us/step - loss: 0.3489 - acc: 0.8577\n",
      "Epoch 28/100\n",
      "8000/8000 [==============================] - 1s 104us/step - loss: 0.3485 - acc: 0.8590\n",
      "Epoch 29/100\n",
      "8000/8000 [==============================] - 1s 99us/step - loss: 0.3480 - acc: 0.8596\n",
      "Epoch 30/100\n",
      "8000/8000 [==============================] - 1s 102us/step - loss: 0.3473 - acc: 0.8597\n",
      "Epoch 31/100\n",
      "8000/8000 [==============================] - 1s 102us/step - loss: 0.3465 - acc: 0.8595\n",
      "Epoch 32/100\n",
      "8000/8000 [==============================] - 1s 102us/step - loss: 0.3460 - acc: 0.8597\n",
      "Epoch 33/100\n",
      "8000/8000 [==============================] - 1s 101us/step - loss: 0.3454 - acc: 0.8607\n",
      "Epoch 34/100\n",
      "8000/8000 [==============================] - 1s 110us/step - loss: 0.3447 - acc: 0.8613\n",
      "Epoch 35/100\n",
      "8000/8000 [==============================] - 1s 102us/step - loss: 0.3445 - acc: 0.8626\n",
      "Epoch 36/100\n",
      "8000/8000 [==============================] - 1s 102us/step - loss: 0.3439 - acc: 0.8624\n",
      "Epoch 37/100\n",
      "8000/8000 [==============================] - 1s 101us/step - loss: 0.3440 - acc: 0.8624\n",
      "Epoch 38/100\n",
      "8000/8000 [==============================] - 1s 99us/step - loss: 0.3430 - acc: 0.8635\n",
      "Epoch 39/100\n",
      "8000/8000 [==============================] - 1s 101us/step - loss: 0.3428 - acc: 0.8634\n",
      "Epoch 40/100\n",
      "8000/8000 [==============================] - 1s 104us/step - loss: 0.3423 - acc: 0.8631\n",
      "Epoch 41/100\n",
      "8000/8000 [==============================] - 1s 103us/step - loss: 0.3423 - acc: 0.8632\n",
      "Epoch 42/100\n",
      "8000/8000 [==============================] - 1s 102us/step - loss: 0.3418 - acc: 0.8624\n",
      "Epoch 43/100\n",
      "8000/8000 [==============================] - 1s 99us/step - loss: 0.3412 - acc: 0.8630\n",
      "Epoch 44/100\n",
      "8000/8000 [==============================] - 1s 99us/step - loss: 0.3408 - acc: 0.8634\n",
      "Epoch 45/100\n",
      "8000/8000 [==============================] - 1s 101us/step - loss: 0.3408 - acc: 0.8631\n",
      "Epoch 46/100\n",
      "8000/8000 [==============================] - 1s 101us/step - loss: 0.3403 - acc: 0.8639\n",
      "Epoch 47/100\n",
      "8000/8000 [==============================] - 1s 109us/step - loss: 0.3400 - acc: 0.8624\n",
      "Epoch 48/100\n",
      "8000/8000 [==============================] - 1s 101us/step - loss: 0.3400 - acc: 0.8621\n",
      "Epoch 49/100\n",
      "8000/8000 [==============================] - 1s 98us/step - loss: 0.3398 - acc: 0.8632\n",
      "Epoch 50/100\n",
      "8000/8000 [==============================] - 1s 100us/step - loss: 0.3390 - acc: 0.8636\n",
      "Epoch 51/100\n",
      "8000/8000 [==============================] - 1s 99us/step - loss: 0.3393 - acc: 0.8644\n",
      "Epoch 52/100\n",
      "8000/8000 [==============================] - 1s 100us/step - loss: 0.3387 - acc: 0.8636\n",
      "Epoch 53/100\n",
      "8000/8000 [==============================] - 1s 102us/step - loss: 0.3387 - acc: 0.8629\n",
      "Epoch 54/100\n",
      "8000/8000 [==============================] - 1s 103us/step - loss: 0.3382 - acc: 0.8635\n",
      "Epoch 55/100\n",
      "8000/8000 [==============================] - 1s 107us/step - loss: 0.3385 - acc: 0.8631\n",
      "Epoch 56/100\n",
      "8000/8000 [==============================] - 1s 109us/step - loss: 0.3378 - acc: 0.8640\n",
      "Epoch 57/100\n",
      "8000/8000 [==============================] - 1s 109us/step - loss: 0.3374 - acc: 0.8651\n",
      "Epoch 58/100\n",
      "8000/8000 [==============================] - 1s 101us/step - loss: 0.3376 - acc: 0.8652\n",
      "Epoch 59/100\n",
      "8000/8000 [==============================] - 1s 109us/step - loss: 0.3372 - acc: 0.8639\n",
      "Epoch 60/100\n",
      "8000/8000 [==============================] - 1s 102us/step - loss: 0.3369 - acc: 0.8655\n",
      "Epoch 61/100\n",
      "8000/8000 [==============================] - 1s 104us/step - loss: 0.3370 - acc: 0.8646\n",
      "Epoch 62/100\n",
      "8000/8000 [==============================] - 1s 103us/step - loss: 0.3365 - acc: 0.8650\n",
      "Epoch 63/100\n",
      "8000/8000 [==============================] - 1s 102us/step - loss: 0.3363 - acc: 0.8649\n",
      "Epoch 64/100\n",
      "8000/8000 [==============================] - 1s 106us/step - loss: 0.3360 - acc: 0.8655\n",
      "Epoch 65/100\n",
      "8000/8000 [==============================] - 1s 103us/step - loss: 0.3358 - acc: 0.8644\n",
      "Epoch 66/100\n",
      "8000/8000 [==============================] - 1s 104us/step - loss: 0.3353 - acc: 0.8646\n",
      "Epoch 67/100\n",
      "8000/8000 [==============================] - 1s 102us/step - loss: 0.3355 - acc: 0.8646\n",
      "Epoch 68/100\n",
      "8000/8000 [==============================] - 1s 106us/step - loss: 0.3346 - acc: 0.8666\n",
      "Epoch 69/100\n",
      "8000/8000 [==============================] - 1s 104us/step - loss: 0.3348 - acc: 0.8659\n",
      "Epoch 70/100\n",
      "8000/8000 [==============================] - 1s 108us/step - loss: 0.3347 - acc: 0.8648\n",
      "Epoch 71/100\n",
      "8000/8000 [==============================] - 1s 109us/step - loss: 0.3342 - acc: 0.8677\n",
      "Epoch 72/100\n",
      "8000/8000 [==============================] - 1s 108us/step - loss: 0.3343 - acc: 0.8646\n",
      "Epoch 73/100\n",
      "8000/8000 [==============================] - 1s 106us/step - loss: 0.3343 - acc: 0.8654\n",
      "Epoch 74/100\n",
      "8000/8000 [==============================] - 1s 107us/step - loss: 0.3338 - acc: 0.8650\n",
      "Epoch 75/100\n",
      "8000/8000 [==============================] - 1s 107us/step - loss: 0.3337 - acc: 0.8657\n",
      "Epoch 76/100\n",
      "8000/8000 [==============================] - 1s 105us/step - loss: 0.3336 - acc: 0.8669\n",
      "Epoch 77/100\n",
      "8000/8000 [==============================] - 1s 106us/step - loss: 0.3336 - acc: 0.8651\n",
      "Epoch 78/100\n",
      "8000/8000 [==============================] - 1s 105us/step - loss: 0.3343 - acc: 0.8660\n",
      "Epoch 79/100\n",
      "8000/8000 [==============================] - 1s 109us/step - loss: 0.3335 - acc: 0.8664\n",
      "Epoch 80/100\n",
      "8000/8000 [==============================] - 1s 108us/step - loss: 0.3330 - acc: 0.8662\n",
      "Epoch 81/100\n",
      "8000/8000 [==============================] - 1s 101us/step - loss: 0.3332 - acc: 0.8657\n",
      "Epoch 82/100\n"
     ]
    },
    {
     "name": "stdout",
     "output_type": "stream",
     "text": [
      "8000/8000 [==============================] - 1s 102us/step - loss: 0.3331 - acc: 0.8666\n",
      "Epoch 83/100\n",
      "8000/8000 [==============================] - 1s 101us/step - loss: 0.3329 - acc: 0.8654\n",
      "Epoch 84/100\n",
      "8000/8000 [==============================] - 1s 98us/step - loss: 0.3329 - acc: 0.8666\n",
      "Epoch 85/100\n",
      "8000/8000 [==============================] - 1s 101us/step - loss: 0.3325 - acc: 0.8657\n",
      "Epoch 86/100\n",
      "8000/8000 [==============================] - 1s 102us/step - loss: 0.3320 - acc: 0.8657\n",
      "Epoch 87/100\n",
      "8000/8000 [==============================] - 1s 104us/step - loss: 0.3319 - acc: 0.8665\n",
      "Epoch 88/100\n",
      "8000/8000 [==============================] - 1s 101us/step - loss: 0.3318 - acc: 0.8669\n",
      "Epoch 89/100\n",
      "8000/8000 [==============================] - 1s 120us/step - loss: 0.3325 - acc: 0.8662\n",
      "Epoch 90/100\n",
      "8000/8000 [==============================] - 1s 139us/step - loss: 0.3325 - acc: 0.8659\n",
      "Epoch 91/100\n",
      "8000/8000 [==============================] - 1s 124us/step - loss: 0.3318 - acc: 0.8652\n",
      "Epoch 92/100\n",
      "8000/8000 [==============================] - 1s 123us/step - loss: 0.3325 - acc: 0.8682\n",
      "Epoch 93/100\n",
      "8000/8000 [==============================] - 1s 102us/step - loss: 0.3320 - acc: 0.8666\n",
      "Epoch 94/100\n",
      "8000/8000 [==============================] - 1s 102us/step - loss: 0.3323 - acc: 0.8679\n",
      "Epoch 95/100\n",
      "8000/8000 [==============================] - 1s 105us/step - loss: 0.3318 - acc: 0.8687\n",
      "Epoch 96/100\n",
      "8000/8000 [==============================] - 1s 106us/step - loss: 0.3320 - acc: 0.8661\n",
      "Epoch 97/100\n",
      "8000/8000 [==============================] - 1s 108us/step - loss: 0.3313 - acc: 0.8665\n",
      "Epoch 98/100\n",
      "8000/8000 [==============================] - 1s 105us/step - loss: 0.3312 - acc: 0.8669\n",
      "Epoch 99/100\n",
      "8000/8000 [==============================] - 1s 104us/step - loss: 0.3315 - acc: 0.8661\n",
      "Epoch 100/100\n",
      "8000/8000 [==============================] - 1s 104us/step - loss: 0.3316 - acc: 0.8679\n"
     ]
    },
    {
     "data": {
      "text/plain": [
       "<keras.callbacks.History at 0x7fae10b72128>"
      ]
     },
     "execution_count": 33,
     "metadata": {},
     "output_type": "execute_result"
    }
   ],
   "source": [
    "classifier.fit(X_train, y_train, batch_size = 20, epochs = 100)"
   ]
  },
  {
   "cell_type": "code",
   "execution_count": null,
   "metadata": {},
   "outputs": [],
   "source": []
  }
 ],
 "metadata": {
  "kernelspec": {
   "display_name": "Python 3",
   "language": "python",
   "name": "python3"
  },
  "language_info": {
   "codemirror_mode": {
    "name": "ipython",
    "version": 3
   },
   "file_extension": ".py",
   "mimetype": "text/x-python",
   "name": "python",
   "nbconvert_exporter": "python",
   "pygments_lexer": "ipython3",
   "version": "3.6.8"
  }
 },
 "nbformat": 4,
 "nbformat_minor": 2
}
